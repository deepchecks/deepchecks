{
 "cells": [
  {
   "cell_type": "markdown",
   "id": "a426d79e",
   "metadata": {},
   "source": [
    "# How to: Conditions"
   ]
  },
  {
   "cell_type": "markdown",
   "id": "6685864a",
   "metadata": {},
   "source": [
    "Conditions are logic which runs on the check results in order to rate it as passing value or not passing."
   ]
  },
  {
   "cell_type": "markdown",
   "id": "b91db307",
   "metadata": {},
   "source": [
    "## Add custom condition"
   ]
  },
  {
   "cell_type": "markdown",
   "id": "5fdab891",
   "metadata": {},
   "source": [
    "In order to write conditions we first have to know what value a given check proLet's look at the check `DatasetsSizeComparison` and see it's return value in order to write condition for it."
   ]
  },
  {
   "cell_type": "code",
   "execution_count": 3,
   "id": "d9b387e8",
   "metadata": {},
   "outputs": [
    {
     "data": {
      "text/plain": [
       "{'Train': {'Size': 9}, 'Test': {'Size': 3}}"
      ]
     },
     "execution_count": 3,
     "metadata": {},
     "output_type": "execute_result"
    }
   ],
   "source": [
    "from deepchecks.checks import DatasetsSizeComparison\n",
    "from deepchecks import Dataset\n",
    "\n",
    "import pandas as pd\n",
    "\n",
    "# TODO which data to load\n",
    "train_dataset = Dataset(pd.DataFrame(data={'x': [1,2,3,4,5,6,7,8,9]}))\n",
    "test_dataset = Dataset(pd.DataFrame(data={'x': [1,2,3]}))\n",
    "\n",
    "result = DatasetsSizeComparison().run(train_dataset, test_dataset)\n",
    "result.value"
   ]
  },
  {
   "cell_type": "markdown",
   "id": "4e71e9d8",
   "metadata": {},
   "source": [
    "Now we know the return value looks like. let's add a new condition that validates the ratio between train and test sizes is inside a given range.\n",
    "To create condition we need to use the `add_condition` method of the check which accepts condition name and a function. this function receives the value of the `CheckResult` that we saw above and should return a boolean or `ConditionResult`"
   ]
  },
  {
   "cell_type": "code",
   "execution_count": 6,
   "id": "ff40aeba",
   "metadata": {},
   "outputs": [],
   "source": [
    "# Our parameters for the condition\n",
    "low_threshold = 0.4\n",
    "high_threshold = 0.6\n",
    "\n",
    "# Create the condition function\n",
    "def condition(value: dict): \n",
    "    ratio = value['Test']['Size'] / value['Train']['Size']\n",
    "    if low_threshold <= ratio <= high_threshold:\n",
    "        return True\n",
    "    else:\n",
    "        return False\n",
    "\n",
    "# Create the condition name\n",
    "name = f'Test-Train ratio is between {low_threshold} to {high_threshold}'\n",
    "\n",
    "# Create check instance with the condition \n",
    "check = DatasetsSizeComparison().add_condition(name, condition)"
   ]
  },
  {
   "cell_type": "code",
   "execution_count": 8,
   "id": "588b5bd8",
   "metadata": {},
   "outputs": [
    {
     "data": {
      "application/vnd.jupyter.widget-view+json": {
       "model_id": "",
       "version_major": 2,
       "version_minor": 0
      },
      "text/plain": [
       "custom suite:   0%|          | 0/1 [00:00<?, ? Check/s]"
      ]
     },
     "metadata": {},
     "output_type": "display_data"
    },
    {
     "data": {
      "text/html": [
       "\n",
       "    <h1>custom suite</h1>\n",
       "    <p>The suite is composed of various checks such as: Datasets Size Comparison, etc...<br>\n",
       "    Each check may contain conditions (which results in \n",
       "    <span style=\"color: green;display:inline-block\">✓</span> /\n",
       "    <span style=\"color: red;display:inline-block\">✖</span> /\n",
       "    <span style=\"color: orange;font-weight:bold;display:inline-block\">!</span>\n",
       "    ), as well as other outputs such as plots or tables.<br>\n",
       "    Suites, checks and conditions can all be modified (see tutorial [link]).</p>\n",
       "    <hr style=\"background-color: black;border: 0 none;color: black;height: 1px;\"><h2>Conditions Summary</h2>\n",
       "    "
      ]
     },
     "metadata": {},
     "output_type": "display_data"
    },
    {
     "data": {
      "text/html": [
       "<style  type=\"text/css\" >\n",
       "    #T_8dd48_ table,thead,tbody,th,td {\n",
       "          text-align: left;\n",
       "    }</style><table id=\"T_8dd48_\" ><thead>    <tr>        <th class=\"col_heading level0 col0\" >Status</th>        <th class=\"col_heading level0 col1\" >Check</th>        <th class=\"col_heading level0 col2\" >Condition</th>        <th class=\"col_heading level0 col3\" >More Info</th>    </tr></thead><tbody>\n",
       "                <tr>\n",
       "                                <td id=\"T_8dd48_row0_col0\" class=\"data row0 col0\" ><div style=\"color: red;text-align: center\">✖</div></td>\n",
       "                        <td id=\"T_8dd48_row0_col1\" class=\"data row0 col1\" >Datasets Size Comparison</td>\n",
       "                        <td id=\"T_8dd48_row0_col2\" class=\"data row0 col2\" >Test-Train ratio is between 0.4 to 0.6</td>\n",
       "                        <td id=\"T_8dd48_row0_col3\" class=\"data row0 col3\" ></td>\n",
       "            </tr>\n",
       "    </tbody></table>"
      ]
     },
     "metadata": {},
     "output_type": "display_data"
    },
    {
     "data": {
      "text/html": [
       "<hr style=\"background-color: black;border: 0 none;color: black;height: 1px;\"><h2>Additional Outputs</h2>"
      ]
     },
     "metadata": {},
     "output_type": "display_data"
    },
    {
     "data": {
      "text/html": [
       "<h4>Datasets Size Comparison</h4>"
      ]
     },
     "metadata": {},
     "output_type": "display_data"
    },
    {
     "data": {
      "text/html": [
       "<p>Verify Test dataset size comparing it to the Train dataset size.</p>"
      ]
     },
     "metadata": {},
     "output_type": "display_data"
    },
    {
     "data": {
      "text/html": [
       "<style  type=\"text/css\" >\n",
       "    #T_6405f_ table,thead,tbody,th,td {\n",
       "          text-align: left;\n",
       "    }</style><table id=\"T_6405f_\" ><thead>    <tr>        <th class=\"blank level0\" ></th>        <th class=\"col_heading level0 col0\" >Train</th>        <th class=\"col_heading level0 col1\" >Test</th>    </tr></thead><tbody>\n",
       "                <tr>\n",
       "                        <th id=\"T_6405f_level0_row0\" class=\"row_heading level0 row0\" >Size</th>\n",
       "                        <td id=\"T_6405f_row0_col0\" class=\"data row0 col0\" >9</td>\n",
       "                        <td id=\"T_6405f_row0_col1\" class=\"data row0 col1\" >3</td>\n",
       "            </tr>\n",
       "    </tbody></table>"
      ]
     },
     "metadata": {},
     "output_type": "display_data"
    }
   ],
   "source": [
    "from deepchecks import Suite\n",
    "\n",
    "# Using suite to run check & condition\n",
    "suite = Suite('custom suite',\n",
    "    check\n",
    ")\n",
    "\n",
    "suite.run(train_dataset, test_dataset)"
   ]
  },
  {
   "cell_type": "markdown",
   "id": "1cda5d3a",
   "metadata": {},
   "source": [
    "Great! looks like our condition is working. but notice our condition didn't pass, without letting us know why. for that we have option to provide more details when using `ConditionResult`"
   ]
  },
  {
   "cell_type": "code",
   "execution_count": 10,
   "id": "211811aa",
   "metadata": {},
   "outputs": [
    {
     "data": {
      "application/vnd.jupyter.widget-view+json": {
       "model_id": "",
       "version_major": 2,
       "version_minor": 0
      },
      "text/plain": [
       "custom suite:   0%|          | 0/1 [00:00<?, ? Check/s]"
      ]
     },
     "metadata": {},
     "output_type": "display_data"
    },
    {
     "data": {
      "text/html": [
       "\n",
       "    <h1>custom suite</h1>\n",
       "    <p>The suite is composed of various checks such as: Datasets Size Comparison, etc...<br>\n",
       "    Each check may contain conditions (which results in \n",
       "    <span style=\"color: green;display:inline-block\">✓</span> /\n",
       "    <span style=\"color: red;display:inline-block\">✖</span> /\n",
       "    <span style=\"color: orange;font-weight:bold;display:inline-block\">!</span>\n",
       "    ), as well as other outputs such as plots or tables.<br>\n",
       "    Suites, checks and conditions can all be modified (see tutorial [link]).</p>\n",
       "    <hr style=\"background-color: black;border: 0 none;color: black;height: 1px;\"><h2>Conditions Summary</h2>\n",
       "    "
      ]
     },
     "metadata": {},
     "output_type": "display_data"
    },
    {
     "data": {
      "text/html": [
       "<style  type=\"text/css\" >\n",
       "    #T_19320_ table,thead,tbody,th,td {\n",
       "          text-align: left;\n",
       "    }</style><table id=\"T_19320_\" ><thead>    <tr>        <th class=\"col_heading level0 col0\" >Status</th>        <th class=\"col_heading level0 col1\" >Check</th>        <th class=\"col_heading level0 col2\" >Condition</th>        <th class=\"col_heading level0 col3\" >More Info</th>    </tr></thead><tbody>\n",
       "                <tr>\n",
       "                                <td id=\"T_19320_row0_col0\" class=\"data row0 col0\" ><div style=\"color: red;text-align: center\">✖</div></td>\n",
       "                        <td id=\"T_19320_row0_col1\" class=\"data row0 col1\" >Datasets Size Comparison</td>\n",
       "                        <td id=\"T_19320_row0_col2\" class=\"data row0 col2\" >Test-Train ratio is between 0.4 to 0.6</td>\n",
       "                        <td id=\"T_19320_row0_col3\" class=\"data row0 col3\" >Test-Train ratio is 0.33</td>\n",
       "            </tr>\n",
       "    </tbody></table>"
      ]
     },
     "metadata": {},
     "output_type": "display_data"
    },
    {
     "data": {
      "text/html": [
       "<hr style=\"background-color: black;border: 0 none;color: black;height: 1px;\"><h2>Additional Outputs</h2>"
      ]
     },
     "metadata": {},
     "output_type": "display_data"
    },
    {
     "data": {
      "text/html": [
       "<h4>Datasets Size Comparison</h4>"
      ]
     },
     "metadata": {},
     "output_type": "display_data"
    },
    {
     "data": {
      "text/html": [
       "<p>Verify Test dataset size comparing it to the Train dataset size.</p>"
      ]
     },
     "metadata": {},
     "output_type": "display_data"
    },
    {
     "data": {
      "text/html": [
       "<style  type=\"text/css\" >\n",
       "    #T_52b1f_ table,thead,tbody,th,td {\n",
       "          text-align: left;\n",
       "    }</style><table id=\"T_52b1f_\" ><thead>    <tr>        <th class=\"blank level0\" ></th>        <th class=\"col_heading level0 col0\" >Train</th>        <th class=\"col_heading level0 col1\" >Test</th>    </tr></thead><tbody>\n",
       "                <tr>\n",
       "                        <th id=\"T_52b1f_level0_row0\" class=\"row_heading level0 row0\" >Size</th>\n",
       "                        <td id=\"T_52b1f_row0_col0\" class=\"data row0 col0\" >9</td>\n",
       "                        <td id=\"T_52b1f_row0_col1\" class=\"data row0 col1\" >3</td>\n",
       "            </tr>\n",
       "    </tbody></table>"
      ]
     },
     "metadata": {},
     "output_type": "display_data"
    }
   ],
   "source": [
    "from deepchecks import ConditionResult\n",
    "\n",
    "# Our parameters for the condition\n",
    "low_threshold = 0.4\n",
    "high_threshold = 0.6\n",
    "\n",
    "# Create the condition function\n",
    "def condition(value: dict): \n",
    "    ratio = value['Test']['Size'] / value['Train']['Size']\n",
    "    if low_threshold <= ratio <= high_threshold:\n",
    "        return ConditionResult(True)\n",
    "    else:\n",
    "        return ConditionResult(False, f'Test-Train ratio is {ratio:.2}')\n",
    "\n",
    "# Create the condition name\n",
    "name = f'Test-Train ratio is between {low_threshold} to {high_threshold}'\n",
    "\n",
    "# Create check instance with the condition \n",
    "check = DatasetsSizeComparison().add_condition(name, condition)\n",
    "\n",
    "# Using suite to run check & condition\n",
    "suite = Suite('custom suite',\n",
    "    check\n",
    ")\n",
    "\n",
    "suite.run(train_dataset, test_dataset)"
   ]
  },
  {
   "cell_type": "markdown",
   "id": "dbdda531",
   "metadata": {},
   "source": [
    "## Remove conditions"
   ]
  }
 ],
 "metadata": {
  "kernelspec": {
   "display_name": "Python 3 (ipykernel)",
   "language": "python",
   "name": "python3"
  },
  "language_info": {
   "codemirror_mode": {
    "name": "ipython",
    "version": 3
   },
   "file_extension": ".py",
   "mimetype": "text/x-python",
   "name": "python",
   "nbconvert_exporter": "python",
   "pygments_lexer": "ipython3",
   "version": "3.8.6"
  }
 },
 "nbformat": 4,
 "nbformat_minor": 5
}
