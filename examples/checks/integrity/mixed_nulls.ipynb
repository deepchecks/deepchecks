{
 "cells": [
  {
   "cell_type": "markdown",
   "id": "12134987",
   "metadata": {},
   "source": [
    "# Mixed Nulls "
   ]
  },
  {
   "cell_type": "code",
   "execution_count": 1,
   "id": "891c0038",
   "metadata": {
    "execution": {
     "iopub.execute_input": "2022-01-02T16:10:44.090860Z",
     "iopub.status.busy": "2022-01-02T16:10:44.090161Z",
     "iopub.status.idle": "2022-01-02T16:10:46.184970Z",
     "shell.execute_reply": "2022-01-02T16:10:46.184156Z"
    }
   },
   "outputs": [],
   "source": [
    "from deepchecks.checks import MixedNulls\n",
    "import pandas as pd"
   ]
  },
  {
   "cell_type": "code",
   "execution_count": 2,
   "id": "6410fc74",
   "metadata": {
    "execution": {
     "iopub.execute_input": "2022-01-02T16:10:46.194360Z",
     "iopub.status.busy": "2022-01-02T16:10:46.193763Z",
     "iopub.status.idle": "2022-01-02T16:10:46.206771Z",
     "shell.execute_reply": "2022-01-02T16:10:46.206179Z"
    }
   },
   "outputs": [
    {
     "name": "stderr",
     "output_type": "stream",
     "text": [
      "/home/runner/work/deepchecks/deepchecks/deepchecks/utils/features.py:95: UserWarning:\n",
      "\n",
      "Features importance was not calculated:\n",
      "Model must inherit from one of supported models: sklearn.base.BaseEstimator or CatBoost, Received: NoneType\n",
      "\n"
     ]
    },
    {
     "data": {
      "text/html": [
       "<h4>Mixed Nulls</h4>"
      ]
     },
     "metadata": {},
     "output_type": "display_data"
    },
    {
     "data": {
      "text/html": [
       "<p>Search for various types of null values in a string column(s), including string representations of null.</p>"
      ]
     },
     "metadata": {},
     "output_type": "display_data"
    },
    {
     "data": {
      "text/html": [
       "<p><b>&#x2713;</b> Nothing found</p>"
      ]
     },
     "metadata": {},
     "output_type": "display_data"
    }
   ],
   "source": [
    "data = {'col1': ['sog', '1', 'cat', None, None]}\n",
    "dataframe = pd.DataFrame(data=data)\n",
    "MixedNulls().run(dataframe)"
   ]
  },
  {
   "cell_type": "code",
   "execution_count": 3,
   "id": "d0f8cfbb",
   "metadata": {
    "execution": {
     "iopub.execute_input": "2022-01-02T16:10:46.223580Z",
     "iopub.status.busy": "2022-01-02T16:10:46.220015Z",
     "iopub.status.idle": "2022-01-02T16:10:46.235938Z",
     "shell.execute_reply": "2022-01-02T16:10:46.234865Z"
    }
   },
   "outputs": [
    {
     "data": {
      "text/html": [
       "<h4>Mixed Nulls</h4>"
      ]
     },
     "metadata": {},
     "output_type": "display_data"
    },
    {
     "data": {
      "text/html": [
       "<p>Search for various types of null values in a string column(s), including string representations of null.</p>"
      ]
     },
     "metadata": {},
     "output_type": "display_data"
    },
    {
     "data": {
      "text/html": [
       "<style type=\"text/css\">\n",
       "#T_9988e_ table {\n",
       "  text-align: left;\n",
       "}\n",
       "#T_9988e_ thead {\n",
       "  text-align: left;\n",
       "}\n",
       "#T_9988e_ tbody {\n",
       "  text-align: left;\n",
       "}\n",
       "#T_9988e_ th {\n",
       "  text-align: left;\n",
       "}\n",
       "#T_9988e_ td {\n",
       "  text-align: left;\n",
       "}\n",
       "</style>\n",
       "<table id=\"T_9988e_\">\n",
       "  <thead>\n",
       "    <tr>\n",
       "      <th class=\"blank\" >&nbsp;</th>\n",
       "      <th class=\"blank level0\" >&nbsp;</th>\n",
       "      <th class=\"col_heading level0 col0\" >Count</th>\n",
       "      <th class=\"col_heading level0 col1\" >Percent of data</th>\n",
       "    </tr>\n",
       "    <tr>\n",
       "      <th class=\"index_name level0\" >Column Name</th>\n",
       "      <th class=\"index_name level1\" >Value</th>\n",
       "      <th class=\"blank col0\" >&nbsp;</th>\n",
       "      <th class=\"blank col1\" >&nbsp;</th>\n",
       "    </tr>\n",
       "  </thead>\n",
       "  <tbody>\n",
       "    <tr>\n",
       "      <th id=\"T_9988e_level0_row0\" class=\"row_heading level0 row0\" rowspan=\"4\">col1</th>\n",
       "      <th id=\"T_9988e_level1_row0\" class=\"row_heading level1 row0\" >nan</th>\n",
       "      <td id=\"T_9988e_row0_col0\" class=\"data row0 col0\" >1</td>\n",
       "      <td id=\"T_9988e_row0_col1\" class=\"data row0 col1\" >16.67%</td>\n",
       "    </tr>\n",
       "    <tr>\n",
       "      <th id=\"T_9988e_level1_row1\" class=\"row_heading level1 row1\" >nan</th>\n",
       "      <td id=\"T_9988e_row1_col0\" class=\"data row1 col0\" >1</td>\n",
       "      <td id=\"T_9988e_row1_col1\" class=\"data row1 col1\" >16.67%</td>\n",
       "    </tr>\n",
       "    <tr>\n",
       "      <th id=\"T_9988e_level1_row2\" class=\"row_heading level1 row2\" >null</th>\n",
       "      <td id=\"T_9988e_row2_col0\" class=\"data row2 col0\" >1</td>\n",
       "      <td id=\"T_9988e_row2_col1\" class=\"data row2 col1\" >16.67%</td>\n",
       "    </tr>\n",
       "    <tr>\n",
       "      <th id=\"T_9988e_level1_row3\" class=\"row_heading level1 row3\" >Nan</th>\n",
       "      <td id=\"T_9988e_row3_col0\" class=\"data row3 col0\" >1</td>\n",
       "      <td id=\"T_9988e_row3_col1\" class=\"data row3 col1\" >16.67%</td>\n",
       "    </tr>\n",
       "    <tr>\n",
       "      <th id=\"T_9988e_level0_row4\" class=\"row_heading level0 row4\" rowspan=\"2\">col2</th>\n",
       "      <th id=\"T_9988e_level1_row4\" class=\"row_heading level1 row4\" ></th>\n",
       "      <td id=\"T_9988e_row4_col0\" class=\"data row4 col0\" >2</td>\n",
       "      <td id=\"T_9988e_row4_col1\" class=\"data row4 col1\" >33.33%</td>\n",
       "    </tr>\n",
       "    <tr>\n",
       "      <th id=\"T_9988e_level1_row5\" class=\"row_heading level1 row5\" >None</th>\n",
       "      <td id=\"T_9988e_row5_col0\" class=\"data row5 col0\" >1</td>\n",
       "      <td id=\"T_9988e_row5_col1\" class=\"data row5 col1\" >16.67%</td>\n",
       "    </tr>\n",
       "  </tbody>\n",
       "</table>\n"
      ]
     },
     "metadata": {},
     "output_type": "display_data"
    }
   ],
   "source": [
    "data = {'col1': ['nan', None, 'null', 'Nan', '1', 'cat'], 'col2':['', '', 'None', 'a', 'b', 'c'], 'col3': [1,2,3,4,5,6]}\n",
    "dataframe = pd.DataFrame(data=data)\n",
    "MixedNulls().run(dataframe)"
   ]
  }
 ],
 "metadata": {
  "kernelspec": {
   "display_name": "Python 3 (ipykernel)",
   "language": "python",
   "name": "python3"
  },
  "language_info": {
   "codemirror_mode": {
    "name": "ipython",
    "version": 3
   },
   "file_extension": ".py",
   "mimetype": "text/x-python",
   "name": "python",
   "nbconvert_exporter": "python",
   "pygments_lexer": "ipython3",
   "version": "3.9.9"
  }
 },
 "nbformat": 4,
 "nbformat_minor": 5
}
