{
 "cells": [
  {
   "cell_type": "markdown",
   "id": "06bdcdfc",
   "metadata": {},
   "source": [
    "# Data Duplicates "
   ]
  },
  {
   "cell_type": "code",
   "execution_count": 1,
   "id": "e9297e35",
   "metadata": {
    "execution": {
     "iopub.execute_input": "2021-12-26T00:57:53.259261Z",
     "iopub.status.busy": "2021-12-26T00:57:53.258758Z",
     "iopub.status.idle": "2021-12-26T00:57:55.017952Z",
     "shell.execute_reply": "2021-12-26T00:57:55.018519Z"
    }
   },
   "outputs": [],
   "source": [
    "from deepchecks.checks.integrity.data_duplicates import DataDuplicates\n",
    "from deepchecks.base import Dataset, Suite\n",
    "from datetime import datetime\n",
    "import pandas as pd\n"
   ]
  },
  {
   "cell_type": "code",
   "execution_count": 2,
   "id": "bbb916b9",
   "metadata": {
    "execution": {
     "iopub.execute_input": "2021-12-26T00:57:55.025148Z",
     "iopub.status.busy": "2021-12-26T00:57:55.024547Z",
     "iopub.status.idle": "2021-12-26T00:57:55.027605Z",
     "shell.execute_reply": "2021-12-26T00:57:55.027151Z"
    }
   },
   "outputs": [],
   "source": [
    "ds = pd.DataFrame({\"col1\":[1,2,1,2,1,2,1,2,1,2], \"col2\":[1,2,1,2,1,2,1,2,1,2],\"col3\":[2,3,4,4,4,3,4,5,6,4]})"
   ]
  },
  {
   "cell_type": "code",
   "execution_count": 3,
   "id": "0c2f4fd4",
   "metadata": {
    "execution": {
     "iopub.execute_input": "2021-12-26T00:57:55.040160Z",
     "iopub.status.busy": "2021-12-26T00:57:55.039194Z",
     "iopub.status.idle": "2021-12-26T00:57:55.052348Z",
     "shell.execute_reply": "2021-12-26T00:57:55.051897Z"
    }
   },
   "outputs": [
    {
     "data": {
      "text/html": [
       "<h4>Data Duplicates</h4>"
      ]
     },
     "metadata": {},
     "output_type": "display_data"
    },
    {
     "data": {
      "text/html": [
       "<p>Search for duplicate data in dataset.</p>"
      ]
     },
     "metadata": {},
     "output_type": "display_data"
    },
    {
     "data": {
      "text/html": [
       "40.00% of data samples are duplicates"
      ]
     },
     "metadata": {},
     "output_type": "display_data"
    },
    {
     "data": {
      "text/html": [
       "<style type=\"text/css\">\n",
       "#T_566ec_ table {\n",
       "  text-align: left;\n",
       "}\n",
       "#T_566ec_ thead {\n",
       "  text-align: left;\n",
       "}\n",
       "#T_566ec_ tbody {\n",
       "  text-align: left;\n",
       "}\n",
       "#T_566ec_ th {\n",
       "  text-align: left;\n",
       "}\n",
       "#T_566ec_ td {\n",
       "  text-align: left;\n",
       "}\n",
       "</style>\n",
       "<table id=\"T_566ec_\">\n",
       "  <thead>\n",
       "    <tr>\n",
       "      <th class=\"blank level0\" >&nbsp;</th>\n",
       "      <th class=\"col_heading level0 col0\" >col1</th>\n",
       "      <th class=\"col_heading level0 col1\" >col2</th>\n",
       "      <th class=\"col_heading level0 col2\" >col3</th>\n",
       "    </tr>\n",
       "    <tr>\n",
       "      <th class=\"index_name level0\" >Number of Duplicates</th>\n",
       "      <th class=\"blank col0\" >&nbsp;</th>\n",
       "      <th class=\"blank col1\" >&nbsp;</th>\n",
       "      <th class=\"blank col2\" >&nbsp;</th>\n",
       "    </tr>\n",
       "  </thead>\n",
       "  <tbody>\n",
       "    <tr>\n",
       "      <th id=\"T_566ec_level0_row0\" class=\"row_heading level0 row0\" >3</th>\n",
       "      <td id=\"T_566ec_row0_col0\" class=\"data row0 col0\" >1</td>\n",
       "      <td id=\"T_566ec_row0_col1\" class=\"data row0 col1\" >1</td>\n",
       "      <td id=\"T_566ec_row0_col2\" class=\"data row0 col2\" >4</td>\n",
       "    </tr>\n",
       "    <tr>\n",
       "      <th id=\"T_566ec_level0_row1\" class=\"row_heading level0 row1\" >2</th>\n",
       "      <td id=\"T_566ec_row1_col0\" class=\"data row1 col0\" >2</td>\n",
       "      <td id=\"T_566ec_row1_col1\" class=\"data row1 col1\" >2</td>\n",
       "      <td id=\"T_566ec_row1_col2\" class=\"data row1 col2\" >3</td>\n",
       "    </tr>\n",
       "    <tr>\n",
       "      <th id=\"T_566ec_level0_row2\" class=\"row_heading level0 row2\" >2</th>\n",
       "      <td id=\"T_566ec_row2_col0\" class=\"data row2 col0\" >2</td>\n",
       "      <td id=\"T_566ec_row2_col1\" class=\"data row2 col1\" >2</td>\n",
       "      <td id=\"T_566ec_row2_col2\" class=\"data row2 col2\" >4</td>\n",
       "    </tr>\n",
       "  </tbody>\n",
       "</table>\n"
      ]
     },
     "metadata": {},
     "output_type": "display_data"
    }
   ],
   "source": [
    "DataDuplicates().run(ds)"
   ]
  },
  {
   "cell_type": "code",
   "execution_count": 4,
   "id": "8acc767a",
   "metadata": {
    "execution": {
     "iopub.execute_input": "2021-12-26T00:57:55.059826Z",
     "iopub.status.busy": "2021-12-26T00:57:55.059101Z",
     "iopub.status.idle": "2021-12-26T00:57:55.075719Z",
     "shell.execute_reply": "2021-12-26T00:57:55.075204Z"
    }
   },
   "outputs": [
    {
     "data": {
      "text/html": [
       "<h4>Data Duplicates</h4>"
      ]
     },
     "metadata": {},
     "output_type": "display_data"
    },
    {
     "data": {
      "text/html": [
       "<p>Search for duplicate data in dataset.</p>"
      ]
     },
     "metadata": {},
     "output_type": "display_data"
    },
    {
     "data": {
      "text/html": [
       "40.00% of data samples are duplicates"
      ]
     },
     "metadata": {},
     "output_type": "display_data"
    },
    {
     "data": {
      "text/html": [
       "<style type=\"text/css\">\n",
       "#T_6ef71_ table {\n",
       "  text-align: left;\n",
       "}\n",
       "#T_6ef71_ thead {\n",
       "  text-align: left;\n",
       "}\n",
       "#T_6ef71_ tbody {\n",
       "  text-align: left;\n",
       "}\n",
       "#T_6ef71_ th {\n",
       "  text-align: left;\n",
       "}\n",
       "#T_6ef71_ td {\n",
       "  text-align: left;\n",
       "}\n",
       "</style>\n",
       "<table id=\"T_6ef71_\">\n",
       "  <thead>\n",
       "    <tr>\n",
       "      <th class=\"blank level0\" >&nbsp;</th>\n",
       "      <th class=\"col_heading level0 col0\" >col1</th>\n",
       "      <th class=\"col_heading level0 col1\" >col2</th>\n",
       "      <th class=\"col_heading level0 col2\" >col3</th>\n",
       "    </tr>\n",
       "    <tr>\n",
       "      <th class=\"index_name level0\" >Number of Duplicates</th>\n",
       "      <th class=\"blank col0\" >&nbsp;</th>\n",
       "      <th class=\"blank col1\" >&nbsp;</th>\n",
       "      <th class=\"blank col2\" >&nbsp;</th>\n",
       "    </tr>\n",
       "  </thead>\n",
       "  <tbody>\n",
       "    <tr>\n",
       "      <th id=\"T_6ef71_level0_row0\" class=\"row_heading level0 row0\" >3</th>\n",
       "      <td id=\"T_6ef71_row0_col0\" class=\"data row0 col0\" >1</td>\n",
       "      <td id=\"T_6ef71_row0_col1\" class=\"data row0 col1\" >1</td>\n",
       "      <td id=\"T_6ef71_row0_col2\" class=\"data row0 col2\" >4</td>\n",
       "    </tr>\n",
       "    <tr>\n",
       "      <th id=\"T_6ef71_level0_row1\" class=\"row_heading level0 row1\" >2</th>\n",
       "      <td id=\"T_6ef71_row1_col0\" class=\"data row1 col0\" >2</td>\n",
       "      <td id=\"T_6ef71_row1_col1\" class=\"data row1 col1\" >2</td>\n",
       "      <td id=\"T_6ef71_row1_col2\" class=\"data row1 col2\" >3</td>\n",
       "    </tr>\n",
       "  </tbody>\n",
       "</table>\n"
      ]
     },
     "metadata": {},
     "output_type": "display_data"
    }
   ],
   "source": [
    "DataDuplicates(n_to_show=2).run(ds)"
   ]
  },
  {
   "cell_type": "code",
   "execution_count": 5,
   "id": "4ac8525f",
   "metadata": {
    "execution": {
     "iopub.execute_input": "2021-12-26T00:57:55.084663Z",
     "iopub.status.busy": "2021-12-26T00:57:55.084009Z",
     "iopub.status.idle": "2021-12-26T00:57:55.098961Z",
     "shell.execute_reply": "2021-12-26T00:57:55.098111Z"
    }
   },
   "outputs": [
    {
     "data": {
      "text/html": [
       "<h4>Data Duplicates</h4>"
      ]
     },
     "metadata": {},
     "output_type": "display_data"
    },
    {
     "data": {
      "text/html": [
       "<p>Search for duplicate data in dataset.</p>"
      ]
     },
     "metadata": {},
     "output_type": "display_data"
    },
    {
     "data": {
      "text/html": [
       "80.00% of data samples are duplicates"
      ]
     },
     "metadata": {},
     "output_type": "display_data"
    },
    {
     "data": {
      "text/html": [
       "<style type=\"text/css\">\n",
       "#T_c3469_ table {\n",
       "  text-align: left;\n",
       "}\n",
       "#T_c3469_ thead {\n",
       "  text-align: left;\n",
       "}\n",
       "#T_c3469_ tbody {\n",
       "  text-align: left;\n",
       "}\n",
       "#T_c3469_ th {\n",
       "  text-align: left;\n",
       "}\n",
       "#T_c3469_ td {\n",
       "  text-align: left;\n",
       "}\n",
       "</style>\n",
       "<table id=\"T_c3469_\">\n",
       "  <thead>\n",
       "    <tr>\n",
       "      <th class=\"blank level0\" >&nbsp;</th>\n",
       "      <th class=\"col_heading level0 col0\" >col1</th>\n",
       "    </tr>\n",
       "    <tr>\n",
       "      <th class=\"index_name level0\" >Number of Duplicates</th>\n",
       "      <th class=\"blank col0\" >&nbsp;</th>\n",
       "    </tr>\n",
       "  </thead>\n",
       "  <tbody>\n",
       "    <tr>\n",
       "      <th id=\"T_c3469_level0_row0\" class=\"row_heading level0 row0\" >5</th>\n",
       "      <td id=\"T_c3469_row0_col0\" class=\"data row0 col0\" >1</td>\n",
       "    </tr>\n",
       "    <tr>\n",
       "      <th id=\"T_c3469_level0_row1\" class=\"row_heading level0 row1\" >5</th>\n",
       "      <td id=\"T_c3469_row1_col0\" class=\"data row1 col0\" >2</td>\n",
       "    </tr>\n",
       "  </tbody>\n",
       "</table>\n"
      ]
     },
     "metadata": {},
     "output_type": "display_data"
    }
   ],
   "source": [
    "DataDuplicates(columns=[\"col1\"]).run(ds)"
   ]
  },
  {
   "cell_type": "code",
   "execution_count": 6,
   "id": "dcb2f344",
   "metadata": {
    "execution": {
     "iopub.execute_input": "2021-12-26T00:57:55.105590Z",
     "iopub.status.busy": "2021-12-26T00:57:55.101348Z",
     "iopub.status.idle": "2021-12-26T00:57:55.122298Z",
     "shell.execute_reply": "2021-12-26T00:57:55.121586Z"
    }
   },
   "outputs": [
    {
     "data": {
      "text/html": [
       "<h4>Data Duplicates</h4>"
      ]
     },
     "metadata": {},
     "output_type": "display_data"
    },
    {
     "data": {
      "text/html": [
       "<p>Search for duplicate data in dataset.</p>"
      ]
     },
     "metadata": {},
     "output_type": "display_data"
    },
    {
     "data": {
      "text/html": [
       "80.00% of data samples are duplicates"
      ]
     },
     "metadata": {},
     "output_type": "display_data"
    },
    {
     "data": {
      "text/html": [
       "<style type=\"text/css\">\n",
       "#T_19a4c_ table {\n",
       "  text-align: left;\n",
       "}\n",
       "#T_19a4c_ thead {\n",
       "  text-align: left;\n",
       "}\n",
       "#T_19a4c_ tbody {\n",
       "  text-align: left;\n",
       "}\n",
       "#T_19a4c_ th {\n",
       "  text-align: left;\n",
       "}\n",
       "#T_19a4c_ td {\n",
       "  text-align: left;\n",
       "}\n",
       "</style>\n",
       "<table id=\"T_19a4c_\">\n",
       "  <thead>\n",
       "    <tr>\n",
       "      <th class=\"blank level0\" >&nbsp;</th>\n",
       "      <th class=\"col_heading level0 col0\" >col1</th>\n",
       "      <th class=\"col_heading level0 col1\" >col2</th>\n",
       "    </tr>\n",
       "    <tr>\n",
       "      <th class=\"index_name level0\" >Number of Duplicates</th>\n",
       "      <th class=\"blank col0\" >&nbsp;</th>\n",
       "      <th class=\"blank col1\" >&nbsp;</th>\n",
       "    </tr>\n",
       "  </thead>\n",
       "  <tbody>\n",
       "    <tr>\n",
       "      <th id=\"T_19a4c_level0_row0\" class=\"row_heading level0 row0\" >5</th>\n",
       "      <td id=\"T_19a4c_row0_col0\" class=\"data row0 col0\" >1</td>\n",
       "      <td id=\"T_19a4c_row0_col1\" class=\"data row0 col1\" >1</td>\n",
       "    </tr>\n",
       "    <tr>\n",
       "      <th id=\"T_19a4c_level0_row1\" class=\"row_heading level0 row1\" >5</th>\n",
       "      <td id=\"T_19a4c_row1_col0\" class=\"data row1 col0\" >2</td>\n",
       "      <td id=\"T_19a4c_row1_col1\" class=\"data row1 col1\" >2</td>\n",
       "    </tr>\n",
       "  </tbody>\n",
       "</table>\n"
      ]
     },
     "metadata": {},
     "output_type": "display_data"
    }
   ],
   "source": [
    "DataDuplicates(ignore_columns=[\"col3\"]).run(ds)"
   ]
  },
  {
   "cell_type": "code",
   "execution_count": 7,
   "id": "56284ded",
   "metadata": {
    "execution": {
     "iopub.execute_input": "2021-12-26T00:57:55.127549Z",
     "iopub.status.busy": "2021-12-26T00:57:55.127052Z",
     "iopub.status.idle": "2021-12-26T00:57:55.130573Z",
     "shell.execute_reply": "2021-12-26T00:57:55.129963Z"
    }
   },
   "outputs": [],
   "source": [
    "ds_no_dups = ds = pd.DataFrame({\"col1\":[1,2,1,2,1,2,1,2,1,2], \"col2\":[1,2,1,2,1,2,1,2,1,2], \"col3\":[1,2,3,4,5,6,7,8,9,0]})"
   ]
  },
  {
   "cell_type": "code",
   "execution_count": 8,
   "id": "bca536fd",
   "metadata": {
    "execution": {
     "iopub.execute_input": "2021-12-26T00:57:55.136164Z",
     "iopub.status.busy": "2021-12-26T00:57:55.135595Z",
     "iopub.status.idle": "2021-12-26T00:57:55.144330Z",
     "shell.execute_reply": "2021-12-26T00:57:55.143883Z"
    }
   },
   "outputs": [
    {
     "data": {
      "text/html": [
       "<h4>Data Duplicates</h4>"
      ]
     },
     "metadata": {},
     "output_type": "display_data"
    },
    {
     "data": {
      "text/html": [
       "<p>Search for duplicate data in dataset.</p>"
      ]
     },
     "metadata": {},
     "output_type": "display_data"
    },
    {
     "data": {
      "text/html": [
       "<p><b>&#x2713;</b> Nothing found</p>"
      ]
     },
     "metadata": {},
     "output_type": "display_data"
    }
   ],
   "source": [
    "DataDuplicates().run(ds_no_dups)"
   ]
  },
  {
   "cell_type": "code",
   "execution_count": 9,
   "id": "7716ca9d",
   "metadata": {
    "execution": {
     "iopub.execute_input": "2021-12-26T00:57:55.151562Z",
     "iopub.status.busy": "2021-12-26T00:57:55.151062Z",
     "iopub.status.idle": "2021-12-26T00:57:55.166298Z",
     "shell.execute_reply": "2021-12-26T00:57:55.165831Z"
    }
   },
   "outputs": [
    {
     "data": {
      "text/html": [
       "<h4>Data Duplicates</h4>"
      ]
     },
     "metadata": {},
     "output_type": "display_data"
    },
    {
     "data": {
      "text/html": [
       "<p>Search for duplicate data in dataset.</p>"
      ]
     },
     "metadata": {},
     "output_type": "display_data"
    },
    {
     "data": {
      "text/html": [
       "80.00% of data samples are duplicates"
      ]
     },
     "metadata": {},
     "output_type": "display_data"
    },
    {
     "data": {
      "text/html": [
       "<style type=\"text/css\">\n",
       "#T_84968_ table {\n",
       "  text-align: left;\n",
       "}\n",
       "#T_84968_ thead {\n",
       "  text-align: left;\n",
       "}\n",
       "#T_84968_ tbody {\n",
       "  text-align: left;\n",
       "}\n",
       "#T_84968_ th {\n",
       "  text-align: left;\n",
       "}\n",
       "#T_84968_ td {\n",
       "  text-align: left;\n",
       "}\n",
       "</style>\n",
       "<table id=\"T_84968_\">\n",
       "  <thead>\n",
       "    <tr>\n",
       "      <th class=\"blank level0\" >&nbsp;</th>\n",
       "      <th class=\"col_heading level0 col0\" >col1</th>\n",
       "      <th class=\"col_heading level0 col1\" >col2</th>\n",
       "    </tr>\n",
       "    <tr>\n",
       "      <th class=\"index_name level0\" >Number of Duplicates</th>\n",
       "      <th class=\"blank col0\" >&nbsp;</th>\n",
       "      <th class=\"blank col1\" >&nbsp;</th>\n",
       "    </tr>\n",
       "  </thead>\n",
       "  <tbody>\n",
       "    <tr>\n",
       "      <th id=\"T_84968_level0_row0\" class=\"row_heading level0 row0\" >5</th>\n",
       "      <td id=\"T_84968_row0_col0\" class=\"data row0 col0\" >1</td>\n",
       "      <td id=\"T_84968_row0_col1\" class=\"data row0 col1\" >1</td>\n",
       "    </tr>\n",
       "    <tr>\n",
       "      <th id=\"T_84968_level0_row1\" class=\"row_heading level0 row1\" >5</th>\n",
       "      <td id=\"T_84968_row1_col0\" class=\"data row1 col0\" >2</td>\n",
       "      <td id=\"T_84968_row1_col1\" class=\"data row1 col1\" >2</td>\n",
       "    </tr>\n",
       "  </tbody>\n",
       "</table>\n"
      ]
     },
     "metadata": {},
     "output_type": "display_data"
    }
   ],
   "source": [
    "DataDuplicates(ignore_columns=[\"col3\"]).run(ds_no_dups)"
   ]
  }
 ],
 "metadata": {
  "kernelspec": {
   "display_name": "Python 3 (ipykernel)",
   "language": "python",
   "name": "python3"
  },
  "language_info": {
   "codemirror_mode": {
    "name": "ipython",
    "version": 3
   },
   "file_extension": ".py",
   "mimetype": "text/x-python",
   "name": "python",
   "nbconvert_exporter": "python",
   "pygments_lexer": "ipython3",
   "version": "3.9.9"
  }
 },
 "nbformat": 4,
 "nbformat_minor": 5
}
