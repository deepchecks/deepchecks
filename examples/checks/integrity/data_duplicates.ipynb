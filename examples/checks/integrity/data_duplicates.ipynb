{
 "cells": [
  {
   "cell_type": "markdown",
   "id": "06bdcdfc",
   "metadata": {},
   "source": [
    "# Data Duplicates "
   ]
  },
  {
   "cell_type": "code",
   "execution_count": 1,
   "id": "e9297e35",
   "metadata": {
    "execution": {
     "iopub.execute_input": "2021-12-27T00:58:00.310842Z",
     "iopub.status.busy": "2021-12-27T00:58:00.310152Z",
     "iopub.status.idle": "2021-12-27T00:58:02.167238Z",
     "shell.execute_reply": "2021-12-27T00:58:02.166299Z"
    }
   },
   "outputs": [],
   "source": [
    "from deepchecks.checks.integrity.data_duplicates import DataDuplicates\n",
    "from deepchecks.base import Dataset, Suite\n",
    "from datetime import datetime\n",
    "import pandas as pd\n"
   ]
  },
  {
   "cell_type": "code",
   "execution_count": 2,
   "id": "bbb916b9",
   "metadata": {
    "execution": {
     "iopub.execute_input": "2021-12-27T00:58:02.174955Z",
     "iopub.status.busy": "2021-12-27T00:58:02.173556Z",
     "iopub.status.idle": "2021-12-27T00:58:02.175575Z",
     "shell.execute_reply": "2021-12-27T00:58:02.176166Z"
    }
   },
   "outputs": [],
   "source": [
    "ds = pd.DataFrame({\"col1\":[1,2,1,2,1,2,1,2,1,2], \"col2\":[1,2,1,2,1,2,1,2,1,2],\"col3\":[2,3,4,4,4,3,4,5,6,4]})"
   ]
  },
  {
   "cell_type": "code",
   "execution_count": 3,
   "id": "0c2f4fd4",
   "metadata": {
    "execution": {
     "iopub.execute_input": "2021-12-27T00:58:02.191865Z",
     "iopub.status.busy": "2021-12-27T00:58:02.190780Z",
     "iopub.status.idle": "2021-12-27T00:58:02.198205Z",
     "shell.execute_reply": "2021-12-27T00:58:02.198651Z"
    }
   },
   "outputs": [
    {
     "data": {
      "text/html": [
       "<h4>Data Duplicates</h4>"
      ]
     },
     "metadata": {},
     "output_type": "display_data"
    },
    {
     "data": {
      "text/html": [
       "<p>Search for duplicate data in dataset.</p>"
      ]
     },
     "metadata": {},
     "output_type": "display_data"
    },
    {
     "data": {
      "text/html": [
       "40.00% of data samples are duplicates"
      ]
     },
     "metadata": {},
     "output_type": "display_data"
    },
    {
     "data": {
      "text/html": [
       "<style type=\"text/css\">\n",
       "#T_03c2b_ table {\n",
       "  text-align: left;\n",
       "}\n",
       "#T_03c2b_ thead {\n",
       "  text-align: left;\n",
       "}\n",
       "#T_03c2b_ tbody {\n",
       "  text-align: left;\n",
       "}\n",
       "#T_03c2b_ th {\n",
       "  text-align: left;\n",
       "}\n",
       "#T_03c2b_ td {\n",
       "  text-align: left;\n",
       "}\n",
       "</style>\n",
       "<table id=\"T_03c2b_\">\n",
       "  <thead>\n",
       "    <tr>\n",
       "      <th class=\"blank level0\" >&nbsp;</th>\n",
       "      <th class=\"col_heading level0 col0\" >col1</th>\n",
       "      <th class=\"col_heading level0 col1\" >col2</th>\n",
       "      <th class=\"col_heading level0 col2\" >col3</th>\n",
       "    </tr>\n",
       "    <tr>\n",
       "      <th class=\"index_name level0\" >Number of Duplicates</th>\n",
       "      <th class=\"blank col0\" >&nbsp;</th>\n",
       "      <th class=\"blank col1\" >&nbsp;</th>\n",
       "      <th class=\"blank col2\" >&nbsp;</th>\n",
       "    </tr>\n",
       "  </thead>\n",
       "  <tbody>\n",
       "    <tr>\n",
       "      <th id=\"T_03c2b_level0_row0\" class=\"row_heading level0 row0\" >3</th>\n",
       "      <td id=\"T_03c2b_row0_col0\" class=\"data row0 col0\" >1</td>\n",
       "      <td id=\"T_03c2b_row0_col1\" class=\"data row0 col1\" >1</td>\n",
       "      <td id=\"T_03c2b_row0_col2\" class=\"data row0 col2\" >4</td>\n",
       "    </tr>\n",
       "    <tr>\n",
       "      <th id=\"T_03c2b_level0_row1\" class=\"row_heading level0 row1\" >2</th>\n",
       "      <td id=\"T_03c2b_row1_col0\" class=\"data row1 col0\" >2</td>\n",
       "      <td id=\"T_03c2b_row1_col1\" class=\"data row1 col1\" >2</td>\n",
       "      <td id=\"T_03c2b_row1_col2\" class=\"data row1 col2\" >3</td>\n",
       "    </tr>\n",
       "    <tr>\n",
       "      <th id=\"T_03c2b_level0_row2\" class=\"row_heading level0 row2\" >2</th>\n",
       "      <td id=\"T_03c2b_row2_col0\" class=\"data row2 col0\" >2</td>\n",
       "      <td id=\"T_03c2b_row2_col1\" class=\"data row2 col1\" >2</td>\n",
       "      <td id=\"T_03c2b_row2_col2\" class=\"data row2 col2\" >4</td>\n",
       "    </tr>\n",
       "  </tbody>\n",
       "</table>\n"
      ]
     },
     "metadata": {},
     "output_type": "display_data"
    }
   ],
   "source": [
    "DataDuplicates().run(ds)"
   ]
  },
  {
   "cell_type": "code",
   "execution_count": 4,
   "id": "8acc767a",
   "metadata": {
    "execution": {
     "iopub.execute_input": "2021-12-27T00:58:02.211864Z",
     "iopub.status.busy": "2021-12-27T00:58:02.209086Z",
     "iopub.status.idle": "2021-12-27T00:58:02.218327Z",
     "shell.execute_reply": "2021-12-27T00:58:02.218782Z"
    }
   },
   "outputs": [
    {
     "data": {
      "text/html": [
       "<h4>Data Duplicates</h4>"
      ]
     },
     "metadata": {},
     "output_type": "display_data"
    },
    {
     "data": {
      "text/html": [
       "<p>Search for duplicate data in dataset.</p>"
      ]
     },
     "metadata": {},
     "output_type": "display_data"
    },
    {
     "data": {
      "text/html": [
       "40.00% of data samples are duplicates"
      ]
     },
     "metadata": {},
     "output_type": "display_data"
    },
    {
     "data": {
      "text/html": [
       "<style type=\"text/css\">\n",
       "#T_eb976_ table {\n",
       "  text-align: left;\n",
       "}\n",
       "#T_eb976_ thead {\n",
       "  text-align: left;\n",
       "}\n",
       "#T_eb976_ tbody {\n",
       "  text-align: left;\n",
       "}\n",
       "#T_eb976_ th {\n",
       "  text-align: left;\n",
       "}\n",
       "#T_eb976_ td {\n",
       "  text-align: left;\n",
       "}\n",
       "</style>\n",
       "<table id=\"T_eb976_\">\n",
       "  <thead>\n",
       "    <tr>\n",
       "      <th class=\"blank level0\" >&nbsp;</th>\n",
       "      <th class=\"col_heading level0 col0\" >col1</th>\n",
       "      <th class=\"col_heading level0 col1\" >col2</th>\n",
       "      <th class=\"col_heading level0 col2\" >col3</th>\n",
       "    </tr>\n",
       "    <tr>\n",
       "      <th class=\"index_name level0\" >Number of Duplicates</th>\n",
       "      <th class=\"blank col0\" >&nbsp;</th>\n",
       "      <th class=\"blank col1\" >&nbsp;</th>\n",
       "      <th class=\"blank col2\" >&nbsp;</th>\n",
       "    </tr>\n",
       "  </thead>\n",
       "  <tbody>\n",
       "    <tr>\n",
       "      <th id=\"T_eb976_level0_row0\" class=\"row_heading level0 row0\" >3</th>\n",
       "      <td id=\"T_eb976_row0_col0\" class=\"data row0 col0\" >1</td>\n",
       "      <td id=\"T_eb976_row0_col1\" class=\"data row0 col1\" >1</td>\n",
       "      <td id=\"T_eb976_row0_col2\" class=\"data row0 col2\" >4</td>\n",
       "    </tr>\n",
       "    <tr>\n",
       "      <th id=\"T_eb976_level0_row1\" class=\"row_heading level0 row1\" >2</th>\n",
       "      <td id=\"T_eb976_row1_col0\" class=\"data row1 col0\" >2</td>\n",
       "      <td id=\"T_eb976_row1_col1\" class=\"data row1 col1\" >2</td>\n",
       "      <td id=\"T_eb976_row1_col2\" class=\"data row1 col2\" >3</td>\n",
       "    </tr>\n",
       "  </tbody>\n",
       "</table>\n"
      ]
     },
     "metadata": {},
     "output_type": "display_data"
    }
   ],
   "source": [
    "DataDuplicates(n_to_show=2).run(ds)"
   ]
  },
  {
   "cell_type": "code",
   "execution_count": 5,
   "id": "4ac8525f",
   "metadata": {
    "execution": {
     "iopub.execute_input": "2021-12-27T00:58:02.230527Z",
     "iopub.status.busy": "2021-12-27T00:58:02.224260Z",
     "iopub.status.idle": "2021-12-27T00:58:02.237911Z",
     "shell.execute_reply": "2021-12-27T00:58:02.238349Z"
    }
   },
   "outputs": [
    {
     "data": {
      "text/html": [
       "<h4>Data Duplicates</h4>"
      ]
     },
     "metadata": {},
     "output_type": "display_data"
    },
    {
     "data": {
      "text/html": [
       "<p>Search for duplicate data in dataset.</p>"
      ]
     },
     "metadata": {},
     "output_type": "display_data"
    },
    {
     "data": {
      "text/html": [
       "80.00% of data samples are duplicates"
      ]
     },
     "metadata": {},
     "output_type": "display_data"
    },
    {
     "data": {
      "text/html": [
       "<style type=\"text/css\">\n",
       "#T_ea95b_ table {\n",
       "  text-align: left;\n",
       "}\n",
       "#T_ea95b_ thead {\n",
       "  text-align: left;\n",
       "}\n",
       "#T_ea95b_ tbody {\n",
       "  text-align: left;\n",
       "}\n",
       "#T_ea95b_ th {\n",
       "  text-align: left;\n",
       "}\n",
       "#T_ea95b_ td {\n",
       "  text-align: left;\n",
       "}\n",
       "</style>\n",
       "<table id=\"T_ea95b_\">\n",
       "  <thead>\n",
       "    <tr>\n",
       "      <th class=\"blank level0\" >&nbsp;</th>\n",
       "      <th class=\"col_heading level0 col0\" >col1</th>\n",
       "    </tr>\n",
       "    <tr>\n",
       "      <th class=\"index_name level0\" >Number of Duplicates</th>\n",
       "      <th class=\"blank col0\" >&nbsp;</th>\n",
       "    </tr>\n",
       "  </thead>\n",
       "  <tbody>\n",
       "    <tr>\n",
       "      <th id=\"T_ea95b_level0_row0\" class=\"row_heading level0 row0\" >5</th>\n",
       "      <td id=\"T_ea95b_row0_col0\" class=\"data row0 col0\" >1</td>\n",
       "    </tr>\n",
       "    <tr>\n",
       "      <th id=\"T_ea95b_level0_row1\" class=\"row_heading level0 row1\" >5</th>\n",
       "      <td id=\"T_ea95b_row1_col0\" class=\"data row1 col0\" >2</td>\n",
       "    </tr>\n",
       "  </tbody>\n",
       "</table>\n"
      ]
     },
     "metadata": {},
     "output_type": "display_data"
    }
   ],
   "source": [
    "DataDuplicates(columns=[\"col1\"]).run(ds)"
   ]
  },
  {
   "cell_type": "code",
   "execution_count": 6,
   "id": "dcb2f344",
   "metadata": {
    "execution": {
     "iopub.execute_input": "2021-12-27T00:58:02.252392Z",
     "iopub.status.busy": "2021-12-27T00:58:02.244321Z",
     "iopub.status.idle": "2021-12-27T00:58:02.260255Z",
     "shell.execute_reply": "2021-12-27T00:58:02.259736Z"
    }
   },
   "outputs": [
    {
     "data": {
      "text/html": [
       "<h4>Data Duplicates</h4>"
      ]
     },
     "metadata": {},
     "output_type": "display_data"
    },
    {
     "data": {
      "text/html": [
       "<p>Search for duplicate data in dataset.</p>"
      ]
     },
     "metadata": {},
     "output_type": "display_data"
    },
    {
     "data": {
      "text/html": [
       "80.00% of data samples are duplicates"
      ]
     },
     "metadata": {},
     "output_type": "display_data"
    },
    {
     "data": {
      "text/html": [
       "<style type=\"text/css\">\n",
       "#T_22fbf_ table {\n",
       "  text-align: left;\n",
       "}\n",
       "#T_22fbf_ thead {\n",
       "  text-align: left;\n",
       "}\n",
       "#T_22fbf_ tbody {\n",
       "  text-align: left;\n",
       "}\n",
       "#T_22fbf_ th {\n",
       "  text-align: left;\n",
       "}\n",
       "#T_22fbf_ td {\n",
       "  text-align: left;\n",
       "}\n",
       "</style>\n",
       "<table id=\"T_22fbf_\">\n",
       "  <thead>\n",
       "    <tr>\n",
       "      <th class=\"blank level0\" >&nbsp;</th>\n",
       "      <th class=\"col_heading level0 col0\" >col1</th>\n",
       "      <th class=\"col_heading level0 col1\" >col2</th>\n",
       "    </tr>\n",
       "    <tr>\n",
       "      <th class=\"index_name level0\" >Number of Duplicates</th>\n",
       "      <th class=\"blank col0\" >&nbsp;</th>\n",
       "      <th class=\"blank col1\" >&nbsp;</th>\n",
       "    </tr>\n",
       "  </thead>\n",
       "  <tbody>\n",
       "    <tr>\n",
       "      <th id=\"T_22fbf_level0_row0\" class=\"row_heading level0 row0\" >5</th>\n",
       "      <td id=\"T_22fbf_row0_col0\" class=\"data row0 col0\" >1</td>\n",
       "      <td id=\"T_22fbf_row0_col1\" class=\"data row0 col1\" >1</td>\n",
       "    </tr>\n",
       "    <tr>\n",
       "      <th id=\"T_22fbf_level0_row1\" class=\"row_heading level0 row1\" >5</th>\n",
       "      <td id=\"T_22fbf_row1_col0\" class=\"data row1 col0\" >2</td>\n",
       "      <td id=\"T_22fbf_row1_col1\" class=\"data row1 col1\" >2</td>\n",
       "    </tr>\n",
       "  </tbody>\n",
       "</table>\n"
      ]
     },
     "metadata": {},
     "output_type": "display_data"
    }
   ],
   "source": [
    "DataDuplicates(ignore_columns=[\"col3\"]).run(ds)"
   ]
  },
  {
   "cell_type": "code",
   "execution_count": 7,
   "id": "56284ded",
   "metadata": {
    "execution": {
     "iopub.execute_input": "2021-12-27T00:58:02.266808Z",
     "iopub.status.busy": "2021-12-27T00:58:02.265477Z",
     "iopub.status.idle": "2021-12-27T00:58:02.267735Z",
     "shell.execute_reply": "2021-12-27T00:58:02.268211Z"
    }
   },
   "outputs": [],
   "source": [
    "ds_no_dups = ds = pd.DataFrame({\"col1\":[1,2,1,2,1,2,1,2,1,2], \"col2\":[1,2,1,2,1,2,1,2,1,2], \"col3\":[1,2,3,4,5,6,7,8,9,0]})"
   ]
  },
  {
   "cell_type": "code",
   "execution_count": 8,
   "id": "bca536fd",
   "metadata": {
    "execution": {
     "iopub.execute_input": "2021-12-27T00:58:02.277195Z",
     "iopub.status.busy": "2021-12-27T00:58:02.273543Z",
     "iopub.status.idle": "2021-12-27T00:58:02.282402Z",
     "shell.execute_reply": "2021-12-27T00:58:02.281842Z"
    }
   },
   "outputs": [
    {
     "data": {
      "text/html": [
       "<h4>Data Duplicates</h4>"
      ]
     },
     "metadata": {},
     "output_type": "display_data"
    },
    {
     "data": {
      "text/html": [
       "<p>Search for duplicate data in dataset.</p>"
      ]
     },
     "metadata": {},
     "output_type": "display_data"
    },
    {
     "data": {
      "text/html": [
       "<p><b>&#x2713;</b> Nothing found</p>"
      ]
     },
     "metadata": {},
     "output_type": "display_data"
    }
   ],
   "source": [
    "DataDuplicates().run(ds_no_dups)"
   ]
  },
  {
   "cell_type": "code",
   "execution_count": 9,
   "id": "7716ca9d",
   "metadata": {
    "execution": {
     "iopub.execute_input": "2021-12-27T00:58:02.288726Z",
     "iopub.status.busy": "2021-12-27T00:58:02.288202Z",
     "iopub.status.idle": "2021-12-27T00:58:02.303277Z",
     "shell.execute_reply": "2021-12-27T00:58:02.302736Z"
    }
   },
   "outputs": [
    {
     "data": {
      "text/html": [
       "<h4>Data Duplicates</h4>"
      ]
     },
     "metadata": {},
     "output_type": "display_data"
    },
    {
     "data": {
      "text/html": [
       "<p>Search for duplicate data in dataset.</p>"
      ]
     },
     "metadata": {},
     "output_type": "display_data"
    },
    {
     "data": {
      "text/html": [
       "80.00% of data samples are duplicates"
      ]
     },
     "metadata": {},
     "output_type": "display_data"
    },
    {
     "data": {
      "text/html": [
       "<style type=\"text/css\">\n",
       "#T_d597d_ table {\n",
       "  text-align: left;\n",
       "}\n",
       "#T_d597d_ thead {\n",
       "  text-align: left;\n",
       "}\n",
       "#T_d597d_ tbody {\n",
       "  text-align: left;\n",
       "}\n",
       "#T_d597d_ th {\n",
       "  text-align: left;\n",
       "}\n",
       "#T_d597d_ td {\n",
       "  text-align: left;\n",
       "}\n",
       "</style>\n",
       "<table id=\"T_d597d_\">\n",
       "  <thead>\n",
       "    <tr>\n",
       "      <th class=\"blank level0\" >&nbsp;</th>\n",
       "      <th class=\"col_heading level0 col0\" >col1</th>\n",
       "      <th class=\"col_heading level0 col1\" >col2</th>\n",
       "    </tr>\n",
       "    <tr>\n",
       "      <th class=\"index_name level0\" >Number of Duplicates</th>\n",
       "      <th class=\"blank col0\" >&nbsp;</th>\n",
       "      <th class=\"blank col1\" >&nbsp;</th>\n",
       "    </tr>\n",
       "  </thead>\n",
       "  <tbody>\n",
       "    <tr>\n",
       "      <th id=\"T_d597d_level0_row0\" class=\"row_heading level0 row0\" >5</th>\n",
       "      <td id=\"T_d597d_row0_col0\" class=\"data row0 col0\" >1</td>\n",
       "      <td id=\"T_d597d_row0_col1\" class=\"data row0 col1\" >1</td>\n",
       "    </tr>\n",
       "    <tr>\n",
       "      <th id=\"T_d597d_level0_row1\" class=\"row_heading level0 row1\" >5</th>\n",
       "      <td id=\"T_d597d_row1_col0\" class=\"data row1 col0\" >2</td>\n",
       "      <td id=\"T_d597d_row1_col1\" class=\"data row1 col1\" >2</td>\n",
       "    </tr>\n",
       "  </tbody>\n",
       "</table>\n"
      ]
     },
     "metadata": {},
     "output_type": "display_data"
    }
   ],
   "source": [
    "DataDuplicates(ignore_columns=[\"col3\"]).run(ds_no_dups)"
   ]
  }
 ],
 "metadata": {
  "kernelspec": {
   "display_name": "Python 3 (ipykernel)",
   "language": "python",
   "name": "python3"
  },
  "language_info": {
   "codemirror_mode": {
    "name": "ipython",
    "version": 3
   },
   "file_extension": ".py",
   "mimetype": "text/x-python",
   "name": "python",
   "nbconvert_exporter": "python",
   "pygments_lexer": "ipython3",
   "version": "3.9.9"
  }
 },
 "nbformat": 4,
 "nbformat_minor": 5
}
