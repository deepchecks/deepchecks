{
 "cells": [
  {
   "cell_type": "markdown",
   "id": "06bdcdfc",
   "metadata": {},
   "source": [
    "# Data Duplicates "
   ]
  },
  {
   "cell_type": "code",
   "execution_count": 1,
   "id": "e9297e35",
   "metadata": {
    "execution": {
     "iopub.execute_input": "2021-12-29T00:53:54.682366Z",
     "iopub.status.busy": "2021-12-29T00:53:54.681545Z",
     "iopub.status.idle": "2021-12-29T00:53:56.361243Z",
     "shell.execute_reply": "2021-12-29T00:53:56.360718Z"
    }
   },
   "outputs": [],
   "source": [
    "from deepchecks.checks.integrity.data_duplicates import DataDuplicates\n",
    "from deepchecks.base import Dataset, Suite\n",
    "from datetime import datetime\n",
    "import pandas as pd\n"
   ]
  },
  {
   "cell_type": "code",
   "execution_count": 2,
   "id": "bbb916b9",
   "metadata": {
    "execution": {
     "iopub.execute_input": "2021-12-29T00:53:56.366722Z",
     "iopub.status.busy": "2021-12-29T00:53:56.366232Z",
     "iopub.status.idle": "2021-12-29T00:53:56.369259Z",
     "shell.execute_reply": "2021-12-29T00:53:56.369651Z"
    }
   },
   "outputs": [],
   "source": [
    "ds = pd.DataFrame({\"col1\":[1,2,1,2,1,2,1,2,1,2], \"col2\":[1,2,1,2,1,2,1,2,1,2],\"col3\":[2,3,4,4,4,3,4,5,6,4]})"
   ]
  },
  {
   "cell_type": "code",
   "execution_count": 3,
   "id": "0c2f4fd4",
   "metadata": {
    "execution": {
     "iopub.execute_input": "2021-12-29T00:53:56.377658Z",
     "iopub.status.busy": "2021-12-29T00:53:56.375992Z",
     "iopub.status.idle": "2021-12-29T00:53:56.393966Z",
     "shell.execute_reply": "2021-12-29T00:53:56.393536Z"
    }
   },
   "outputs": [
    {
     "data": {
      "text/html": [
       "<h4>Data Duplicates</h4>"
      ]
     },
     "metadata": {},
     "output_type": "display_data"
    },
    {
     "data": {
      "text/html": [
       "<p>Search for duplicate data in dataset.</p>"
      ]
     },
     "metadata": {},
     "output_type": "display_data"
    },
    {
     "data": {
      "text/html": [
       "40.00% of data samples are duplicates"
      ]
     },
     "metadata": {},
     "output_type": "display_data"
    },
    {
     "data": {
      "text/html": [
       "<style type=\"text/css\">\n",
       "#T_353b6_ table {\n",
       "  text-align: left;\n",
       "}\n",
       "#T_353b6_ thead {\n",
       "  text-align: left;\n",
       "}\n",
       "#T_353b6_ tbody {\n",
       "  text-align: left;\n",
       "}\n",
       "#T_353b6_ th {\n",
       "  text-align: left;\n",
       "}\n",
       "#T_353b6_ td {\n",
       "  text-align: left;\n",
       "}\n",
       "</style>\n",
       "<table id=\"T_353b6_\">\n",
       "  <thead>\n",
       "    <tr>\n",
       "      <th class=\"blank level0\" >&nbsp;</th>\n",
       "      <th class=\"col_heading level0 col0\" >col1</th>\n",
       "      <th class=\"col_heading level0 col1\" >col2</th>\n",
       "      <th class=\"col_heading level0 col2\" >col3</th>\n",
       "    </tr>\n",
       "    <tr>\n",
       "      <th class=\"index_name level0\" >Number of Duplicates</th>\n",
       "      <th class=\"blank col0\" >&nbsp;</th>\n",
       "      <th class=\"blank col1\" >&nbsp;</th>\n",
       "      <th class=\"blank col2\" >&nbsp;</th>\n",
       "    </tr>\n",
       "  </thead>\n",
       "  <tbody>\n",
       "    <tr>\n",
       "      <th id=\"T_353b6_level0_row0\" class=\"row_heading level0 row0\" >3</th>\n",
       "      <td id=\"T_353b6_row0_col0\" class=\"data row0 col0\" >1</td>\n",
       "      <td id=\"T_353b6_row0_col1\" class=\"data row0 col1\" >1</td>\n",
       "      <td id=\"T_353b6_row0_col2\" class=\"data row0 col2\" >4</td>\n",
       "    </tr>\n",
       "    <tr>\n",
       "      <th id=\"T_353b6_level0_row1\" class=\"row_heading level0 row1\" >2</th>\n",
       "      <td id=\"T_353b6_row1_col0\" class=\"data row1 col0\" >2</td>\n",
       "      <td id=\"T_353b6_row1_col1\" class=\"data row1 col1\" >2</td>\n",
       "      <td id=\"T_353b6_row1_col2\" class=\"data row1 col2\" >3</td>\n",
       "    </tr>\n",
       "    <tr>\n",
       "      <th id=\"T_353b6_level0_row2\" class=\"row_heading level0 row2\" >2</th>\n",
       "      <td id=\"T_353b6_row2_col0\" class=\"data row2 col0\" >2</td>\n",
       "      <td id=\"T_353b6_row2_col1\" class=\"data row2 col1\" >2</td>\n",
       "      <td id=\"T_353b6_row2_col2\" class=\"data row2 col2\" >4</td>\n",
       "    </tr>\n",
       "  </tbody>\n",
       "</table>\n"
      ]
     },
     "metadata": {},
     "output_type": "display_data"
    }
   ],
   "source": [
    "DataDuplicates().run(ds)"
   ]
  },
  {
   "cell_type": "code",
   "execution_count": 4,
   "id": "8acc767a",
   "metadata": {
    "execution": {
     "iopub.execute_input": "2021-12-29T00:53:56.402086Z",
     "iopub.status.busy": "2021-12-29T00:53:56.400828Z",
     "iopub.status.idle": "2021-12-29T00:53:56.416280Z",
     "shell.execute_reply": "2021-12-29T00:53:56.416975Z"
    }
   },
   "outputs": [
    {
     "data": {
      "text/html": [
       "<h4>Data Duplicates</h4>"
      ]
     },
     "metadata": {},
     "output_type": "display_data"
    },
    {
     "data": {
      "text/html": [
       "<p>Search for duplicate data in dataset.</p>"
      ]
     },
     "metadata": {},
     "output_type": "display_data"
    },
    {
     "data": {
      "text/html": [
       "40.00% of data samples are duplicates"
      ]
     },
     "metadata": {},
     "output_type": "display_data"
    },
    {
     "data": {
      "text/html": [
       "<style type=\"text/css\">\n",
       "#T_869b1_ table {\n",
       "  text-align: left;\n",
       "}\n",
       "#T_869b1_ thead {\n",
       "  text-align: left;\n",
       "}\n",
       "#T_869b1_ tbody {\n",
       "  text-align: left;\n",
       "}\n",
       "#T_869b1_ th {\n",
       "  text-align: left;\n",
       "}\n",
       "#T_869b1_ td {\n",
       "  text-align: left;\n",
       "}\n",
       "</style>\n",
       "<table id=\"T_869b1_\">\n",
       "  <thead>\n",
       "    <tr>\n",
       "      <th class=\"blank level0\" >&nbsp;</th>\n",
       "      <th class=\"col_heading level0 col0\" >col1</th>\n",
       "      <th class=\"col_heading level0 col1\" >col2</th>\n",
       "      <th class=\"col_heading level0 col2\" >col3</th>\n",
       "    </tr>\n",
       "    <tr>\n",
       "      <th class=\"index_name level0\" >Number of Duplicates</th>\n",
       "      <th class=\"blank col0\" >&nbsp;</th>\n",
       "      <th class=\"blank col1\" >&nbsp;</th>\n",
       "      <th class=\"blank col2\" >&nbsp;</th>\n",
       "    </tr>\n",
       "  </thead>\n",
       "  <tbody>\n",
       "    <tr>\n",
       "      <th id=\"T_869b1_level0_row0\" class=\"row_heading level0 row0\" >3</th>\n",
       "      <td id=\"T_869b1_row0_col0\" class=\"data row0 col0\" >1</td>\n",
       "      <td id=\"T_869b1_row0_col1\" class=\"data row0 col1\" >1</td>\n",
       "      <td id=\"T_869b1_row0_col2\" class=\"data row0 col2\" >4</td>\n",
       "    </tr>\n",
       "    <tr>\n",
       "      <th id=\"T_869b1_level0_row1\" class=\"row_heading level0 row1\" >2</th>\n",
       "      <td id=\"T_869b1_row1_col0\" class=\"data row1 col0\" >2</td>\n",
       "      <td id=\"T_869b1_row1_col1\" class=\"data row1 col1\" >2</td>\n",
       "      <td id=\"T_869b1_row1_col2\" class=\"data row1 col2\" >3</td>\n",
       "    </tr>\n",
       "  </tbody>\n",
       "</table>\n"
      ]
     },
     "metadata": {},
     "output_type": "display_data"
    }
   ],
   "source": [
    "DataDuplicates(n_to_show=2).run(ds)"
   ]
  },
  {
   "cell_type": "code",
   "execution_count": 5,
   "id": "4ac8525f",
   "metadata": {
    "execution": {
     "iopub.execute_input": "2021-12-29T00:53:56.422102Z",
     "iopub.status.busy": "2021-12-29T00:53:56.421613Z",
     "iopub.status.idle": "2021-12-29T00:53:56.437215Z",
     "shell.execute_reply": "2021-12-29T00:53:56.436748Z"
    }
   },
   "outputs": [
    {
     "data": {
      "text/html": [
       "<h4>Data Duplicates</h4>"
      ]
     },
     "metadata": {},
     "output_type": "display_data"
    },
    {
     "data": {
      "text/html": [
       "<p>Search for duplicate data in dataset.</p>"
      ]
     },
     "metadata": {},
     "output_type": "display_data"
    },
    {
     "data": {
      "text/html": [
       "80.00% of data samples are duplicates"
      ]
     },
     "metadata": {},
     "output_type": "display_data"
    },
    {
     "data": {
      "text/html": [
       "<style type=\"text/css\">\n",
       "#T_35a31_ table {\n",
       "  text-align: left;\n",
       "}\n",
       "#T_35a31_ thead {\n",
       "  text-align: left;\n",
       "}\n",
       "#T_35a31_ tbody {\n",
       "  text-align: left;\n",
       "}\n",
       "#T_35a31_ th {\n",
       "  text-align: left;\n",
       "}\n",
       "#T_35a31_ td {\n",
       "  text-align: left;\n",
       "}\n",
       "</style>\n",
       "<table id=\"T_35a31_\">\n",
       "  <thead>\n",
       "    <tr>\n",
       "      <th class=\"blank level0\" >&nbsp;</th>\n",
       "      <th class=\"col_heading level0 col0\" >col1</th>\n",
       "    </tr>\n",
       "    <tr>\n",
       "      <th class=\"index_name level0\" >Number of Duplicates</th>\n",
       "      <th class=\"blank col0\" >&nbsp;</th>\n",
       "    </tr>\n",
       "  </thead>\n",
       "  <tbody>\n",
       "    <tr>\n",
       "      <th id=\"T_35a31_level0_row0\" class=\"row_heading level0 row0\" >5</th>\n",
       "      <td id=\"T_35a31_row0_col0\" class=\"data row0 col0\" >1</td>\n",
       "    </tr>\n",
       "    <tr>\n",
       "      <th id=\"T_35a31_level0_row1\" class=\"row_heading level0 row1\" >5</th>\n",
       "      <td id=\"T_35a31_row1_col0\" class=\"data row1 col0\" >2</td>\n",
       "    </tr>\n",
       "  </tbody>\n",
       "</table>\n"
      ]
     },
     "metadata": {},
     "output_type": "display_data"
    }
   ],
   "source": [
    "DataDuplicates(columns=[\"col1\"]).run(ds)"
   ]
  },
  {
   "cell_type": "code",
   "execution_count": 6,
   "id": "dcb2f344",
   "metadata": {
    "execution": {
     "iopub.execute_input": "2021-12-29T00:53:56.443034Z",
     "iopub.status.busy": "2021-12-29T00:53:56.442398Z",
     "iopub.status.idle": "2021-12-29T00:53:56.460666Z",
     "shell.execute_reply": "2021-12-29T00:53:56.460235Z"
    }
   },
   "outputs": [
    {
     "data": {
      "text/html": [
       "<h4>Data Duplicates</h4>"
      ]
     },
     "metadata": {},
     "output_type": "display_data"
    },
    {
     "data": {
      "text/html": [
       "<p>Search for duplicate data in dataset.</p>"
      ]
     },
     "metadata": {},
     "output_type": "display_data"
    },
    {
     "data": {
      "text/html": [
       "80.00% of data samples are duplicates"
      ]
     },
     "metadata": {},
     "output_type": "display_data"
    },
    {
     "data": {
      "text/html": [
       "<style type=\"text/css\">\n",
       "#T_8dc31_ table {\n",
       "  text-align: left;\n",
       "}\n",
       "#T_8dc31_ thead {\n",
       "  text-align: left;\n",
       "}\n",
       "#T_8dc31_ tbody {\n",
       "  text-align: left;\n",
       "}\n",
       "#T_8dc31_ th {\n",
       "  text-align: left;\n",
       "}\n",
       "#T_8dc31_ td {\n",
       "  text-align: left;\n",
       "}\n",
       "</style>\n",
       "<table id=\"T_8dc31_\">\n",
       "  <thead>\n",
       "    <tr>\n",
       "      <th class=\"blank level0\" >&nbsp;</th>\n",
       "      <th class=\"col_heading level0 col0\" >col1</th>\n",
       "      <th class=\"col_heading level0 col1\" >col2</th>\n",
       "    </tr>\n",
       "    <tr>\n",
       "      <th class=\"index_name level0\" >Number of Duplicates</th>\n",
       "      <th class=\"blank col0\" >&nbsp;</th>\n",
       "      <th class=\"blank col1\" >&nbsp;</th>\n",
       "    </tr>\n",
       "  </thead>\n",
       "  <tbody>\n",
       "    <tr>\n",
       "      <th id=\"T_8dc31_level0_row0\" class=\"row_heading level0 row0\" >5</th>\n",
       "      <td id=\"T_8dc31_row0_col0\" class=\"data row0 col0\" >1</td>\n",
       "      <td id=\"T_8dc31_row0_col1\" class=\"data row0 col1\" >1</td>\n",
       "    </tr>\n",
       "    <tr>\n",
       "      <th id=\"T_8dc31_level0_row1\" class=\"row_heading level0 row1\" >5</th>\n",
       "      <td id=\"T_8dc31_row1_col0\" class=\"data row1 col0\" >2</td>\n",
       "      <td id=\"T_8dc31_row1_col1\" class=\"data row1 col1\" >2</td>\n",
       "    </tr>\n",
       "  </tbody>\n",
       "</table>\n"
      ]
     },
     "metadata": {},
     "output_type": "display_data"
    }
   ],
   "source": [
    "DataDuplicates(ignore_columns=[\"col3\"]).run(ds)"
   ]
  },
  {
   "cell_type": "code",
   "execution_count": 7,
   "id": "56284ded",
   "metadata": {
    "execution": {
     "iopub.execute_input": "2021-12-29T00:53:56.465931Z",
     "iopub.status.busy": "2021-12-29T00:53:56.465441Z",
     "iopub.status.idle": "2021-12-29T00:53:56.469081Z",
     "shell.execute_reply": "2021-12-29T00:53:56.470113Z"
    }
   },
   "outputs": [],
   "source": [
    "ds_no_dups = ds = pd.DataFrame({\"col1\":[1,2,1,2,1,2,1,2,1,2], \"col2\":[1,2,1,2,1,2,1,2,1,2], \"col3\":[1,2,3,4,5,6,7,8,9,0]})"
   ]
  },
  {
   "cell_type": "code",
   "execution_count": 8,
   "id": "bca536fd",
   "metadata": {
    "execution": {
     "iopub.execute_input": "2021-12-29T00:53:56.474704Z",
     "iopub.status.busy": "2021-12-29T00:53:56.473898Z",
     "iopub.status.idle": "2021-12-29T00:53:56.484580Z",
     "shell.execute_reply": "2021-12-29T00:53:56.484136Z"
    }
   },
   "outputs": [
    {
     "data": {
      "text/html": [
       "<h4>Data Duplicates</h4>"
      ]
     },
     "metadata": {},
     "output_type": "display_data"
    },
    {
     "data": {
      "text/html": [
       "<p>Search for duplicate data in dataset.</p>"
      ]
     },
     "metadata": {},
     "output_type": "display_data"
    },
    {
     "data": {
      "text/html": [
       "<p><b>&#x2713;</b> Nothing found</p>"
      ]
     },
     "metadata": {},
     "output_type": "display_data"
    }
   ],
   "source": [
    "DataDuplicates().run(ds_no_dups)"
   ]
  },
  {
   "cell_type": "code",
   "execution_count": 9,
   "id": "7716ca9d",
   "metadata": {
    "execution": {
     "iopub.execute_input": "2021-12-29T00:53:56.489249Z",
     "iopub.status.busy": "2021-12-29T00:53:56.488727Z",
     "iopub.status.idle": "2021-12-29T00:53:56.507153Z",
     "shell.execute_reply": "2021-12-29T00:53:56.506442Z"
    }
   },
   "outputs": [
    {
     "data": {
      "text/html": [
       "<h4>Data Duplicates</h4>"
      ]
     },
     "metadata": {},
     "output_type": "display_data"
    },
    {
     "data": {
      "text/html": [
       "<p>Search for duplicate data in dataset.</p>"
      ]
     },
     "metadata": {},
     "output_type": "display_data"
    },
    {
     "data": {
      "text/html": [
       "80.00% of data samples are duplicates"
      ]
     },
     "metadata": {},
     "output_type": "display_data"
    },
    {
     "data": {
      "text/html": [
       "<style type=\"text/css\">\n",
       "#T_f0852_ table {\n",
       "  text-align: left;\n",
       "}\n",
       "#T_f0852_ thead {\n",
       "  text-align: left;\n",
       "}\n",
       "#T_f0852_ tbody {\n",
       "  text-align: left;\n",
       "}\n",
       "#T_f0852_ th {\n",
       "  text-align: left;\n",
       "}\n",
       "#T_f0852_ td {\n",
       "  text-align: left;\n",
       "}\n",
       "</style>\n",
       "<table id=\"T_f0852_\">\n",
       "  <thead>\n",
       "    <tr>\n",
       "      <th class=\"blank level0\" >&nbsp;</th>\n",
       "      <th class=\"col_heading level0 col0\" >col1</th>\n",
       "      <th class=\"col_heading level0 col1\" >col2</th>\n",
       "    </tr>\n",
       "    <tr>\n",
       "      <th class=\"index_name level0\" >Number of Duplicates</th>\n",
       "      <th class=\"blank col0\" >&nbsp;</th>\n",
       "      <th class=\"blank col1\" >&nbsp;</th>\n",
       "    </tr>\n",
       "  </thead>\n",
       "  <tbody>\n",
       "    <tr>\n",
       "      <th id=\"T_f0852_level0_row0\" class=\"row_heading level0 row0\" >5</th>\n",
       "      <td id=\"T_f0852_row0_col0\" class=\"data row0 col0\" >1</td>\n",
       "      <td id=\"T_f0852_row0_col1\" class=\"data row0 col1\" >1</td>\n",
       "    </tr>\n",
       "    <tr>\n",
       "      <th id=\"T_f0852_level0_row1\" class=\"row_heading level0 row1\" >5</th>\n",
       "      <td id=\"T_f0852_row1_col0\" class=\"data row1 col0\" >2</td>\n",
       "      <td id=\"T_f0852_row1_col1\" class=\"data row1 col1\" >2</td>\n",
       "    </tr>\n",
       "  </tbody>\n",
       "</table>\n"
      ]
     },
     "metadata": {},
     "output_type": "display_data"
    }
   ],
   "source": [
    "DataDuplicates(ignore_columns=[\"col3\"]).run(ds_no_dups)"
   ]
  }
 ],
 "metadata": {
  "kernelspec": {
   "display_name": "Python 3 (ipykernel)",
   "language": "python",
   "name": "python3"
  },
  "language_info": {
   "codemirror_mode": {
    "name": "ipython",
    "version": 3
   },
   "file_extension": ".py",
   "mimetype": "text/x-python",
   "name": "python",
   "nbconvert_exporter": "python",
   "pygments_lexer": "ipython3",
   "version": "3.9.9"
  }
 },
 "nbformat": 4,
 "nbformat_minor": 5
}
