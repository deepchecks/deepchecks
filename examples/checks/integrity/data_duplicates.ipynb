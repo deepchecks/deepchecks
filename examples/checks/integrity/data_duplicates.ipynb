{
 "cells": [
  {
   "cell_type": "markdown",
   "id": "06bdcdfc",
   "metadata": {},
   "source": [
    "# Data Duplicates "
   ]
  },
  {
   "cell_type": "code",
   "execution_count": 1,
   "id": "e9297e35",
   "metadata": {
    "execution": {
     "iopub.execute_input": "2021-12-28T00:54:20.271258Z",
     "iopub.status.busy": "2021-12-28T00:54:20.270549Z",
     "iopub.status.idle": "2021-12-28T00:54:22.135734Z",
     "shell.execute_reply": "2021-12-28T00:54:22.134636Z"
    }
   },
   "outputs": [],
   "source": [
    "from deepchecks.checks.integrity.data_duplicates import DataDuplicates\n",
    "from deepchecks.base import Dataset, Suite\n",
    "from datetime import datetime\n",
    "import pandas as pd\n"
   ]
  },
  {
   "cell_type": "code",
   "execution_count": 2,
   "id": "bbb916b9",
   "metadata": {
    "execution": {
     "iopub.execute_input": "2021-12-28T00:54:22.142105Z",
     "iopub.status.busy": "2021-12-28T00:54:22.141562Z",
     "iopub.status.idle": "2021-12-28T00:54:22.144646Z",
     "shell.execute_reply": "2021-12-28T00:54:22.145078Z"
    }
   },
   "outputs": [],
   "source": [
    "ds = pd.DataFrame({\"col1\":[1,2,1,2,1,2,1,2,1,2], \"col2\":[1,2,1,2,1,2,1,2,1,2],\"col3\":[2,3,4,4,4,3,4,5,6,4]})"
   ]
  },
  {
   "cell_type": "code",
   "execution_count": 3,
   "id": "0c2f4fd4",
   "metadata": {
    "execution": {
     "iopub.execute_input": "2021-12-28T00:54:22.158261Z",
     "iopub.status.busy": "2021-12-28T00:54:22.155267Z",
     "iopub.status.idle": "2021-12-28T00:54:22.172056Z",
     "shell.execute_reply": "2021-12-28T00:54:22.171073Z"
    }
   },
   "outputs": [
    {
     "data": {
      "text/html": [
       "<h4>Data Duplicates</h4>"
      ]
     },
     "metadata": {},
     "output_type": "display_data"
    },
    {
     "data": {
      "text/html": [
       "<p>Search for duplicate data in dataset.</p>"
      ]
     },
     "metadata": {},
     "output_type": "display_data"
    },
    {
     "data": {
      "text/html": [
       "40.00% of data samples are duplicates"
      ]
     },
     "metadata": {},
     "output_type": "display_data"
    },
    {
     "data": {
      "text/html": [
       "<style type=\"text/css\">\n",
       "#T_804b0_ table {\n",
       "  text-align: left;\n",
       "}\n",
       "#T_804b0_ thead {\n",
       "  text-align: left;\n",
       "}\n",
       "#T_804b0_ tbody {\n",
       "  text-align: left;\n",
       "}\n",
       "#T_804b0_ th {\n",
       "  text-align: left;\n",
       "}\n",
       "#T_804b0_ td {\n",
       "  text-align: left;\n",
       "}\n",
       "</style>\n",
       "<table id=\"T_804b0_\">\n",
       "  <thead>\n",
       "    <tr>\n",
       "      <th class=\"blank level0\" >&nbsp;</th>\n",
       "      <th class=\"col_heading level0 col0\" >col1</th>\n",
       "      <th class=\"col_heading level0 col1\" >col2</th>\n",
       "      <th class=\"col_heading level0 col2\" >col3</th>\n",
       "    </tr>\n",
       "    <tr>\n",
       "      <th class=\"index_name level0\" >Number of Duplicates</th>\n",
       "      <th class=\"blank col0\" >&nbsp;</th>\n",
       "      <th class=\"blank col1\" >&nbsp;</th>\n",
       "      <th class=\"blank col2\" >&nbsp;</th>\n",
       "    </tr>\n",
       "  </thead>\n",
       "  <tbody>\n",
       "    <tr>\n",
       "      <th id=\"T_804b0_level0_row0\" class=\"row_heading level0 row0\" >3</th>\n",
       "      <td id=\"T_804b0_row0_col0\" class=\"data row0 col0\" >1</td>\n",
       "      <td id=\"T_804b0_row0_col1\" class=\"data row0 col1\" >1</td>\n",
       "      <td id=\"T_804b0_row0_col2\" class=\"data row0 col2\" >4</td>\n",
       "    </tr>\n",
       "    <tr>\n",
       "      <th id=\"T_804b0_level0_row1\" class=\"row_heading level0 row1\" >2</th>\n",
       "      <td id=\"T_804b0_row1_col0\" class=\"data row1 col0\" >2</td>\n",
       "      <td id=\"T_804b0_row1_col1\" class=\"data row1 col1\" >2</td>\n",
       "      <td id=\"T_804b0_row1_col2\" class=\"data row1 col2\" >3</td>\n",
       "    </tr>\n",
       "    <tr>\n",
       "      <th id=\"T_804b0_level0_row2\" class=\"row_heading level0 row2\" >2</th>\n",
       "      <td id=\"T_804b0_row2_col0\" class=\"data row2 col0\" >2</td>\n",
       "      <td id=\"T_804b0_row2_col1\" class=\"data row2 col1\" >2</td>\n",
       "      <td id=\"T_804b0_row2_col2\" class=\"data row2 col2\" >4</td>\n",
       "    </tr>\n",
       "  </tbody>\n",
       "</table>\n"
      ]
     },
     "metadata": {},
     "output_type": "display_data"
    }
   ],
   "source": [
    "DataDuplicates().run(ds)"
   ]
  },
  {
   "cell_type": "code",
   "execution_count": 4,
   "id": "8acc767a",
   "metadata": {
    "execution": {
     "iopub.execute_input": "2021-12-28T00:54:22.181925Z",
     "iopub.status.busy": "2021-12-28T00:54:22.179146Z",
     "iopub.status.idle": "2021-12-28T00:54:22.192581Z",
     "shell.execute_reply": "2021-12-28T00:54:22.192111Z"
    }
   },
   "outputs": [
    {
     "data": {
      "text/html": [
       "<h4>Data Duplicates</h4>"
      ]
     },
     "metadata": {},
     "output_type": "display_data"
    },
    {
     "data": {
      "text/html": [
       "<p>Search for duplicate data in dataset.</p>"
      ]
     },
     "metadata": {},
     "output_type": "display_data"
    },
    {
     "data": {
      "text/html": [
       "40.00% of data samples are duplicates"
      ]
     },
     "metadata": {},
     "output_type": "display_data"
    },
    {
     "data": {
      "text/html": [
       "<style type=\"text/css\">\n",
       "#T_2af82_ table {\n",
       "  text-align: left;\n",
       "}\n",
       "#T_2af82_ thead {\n",
       "  text-align: left;\n",
       "}\n",
       "#T_2af82_ tbody {\n",
       "  text-align: left;\n",
       "}\n",
       "#T_2af82_ th {\n",
       "  text-align: left;\n",
       "}\n",
       "#T_2af82_ td {\n",
       "  text-align: left;\n",
       "}\n",
       "</style>\n",
       "<table id=\"T_2af82_\">\n",
       "  <thead>\n",
       "    <tr>\n",
       "      <th class=\"blank level0\" >&nbsp;</th>\n",
       "      <th class=\"col_heading level0 col0\" >col1</th>\n",
       "      <th class=\"col_heading level0 col1\" >col2</th>\n",
       "      <th class=\"col_heading level0 col2\" >col3</th>\n",
       "    </tr>\n",
       "    <tr>\n",
       "      <th class=\"index_name level0\" >Number of Duplicates</th>\n",
       "      <th class=\"blank col0\" >&nbsp;</th>\n",
       "      <th class=\"blank col1\" >&nbsp;</th>\n",
       "      <th class=\"blank col2\" >&nbsp;</th>\n",
       "    </tr>\n",
       "  </thead>\n",
       "  <tbody>\n",
       "    <tr>\n",
       "      <th id=\"T_2af82_level0_row0\" class=\"row_heading level0 row0\" >3</th>\n",
       "      <td id=\"T_2af82_row0_col0\" class=\"data row0 col0\" >1</td>\n",
       "      <td id=\"T_2af82_row0_col1\" class=\"data row0 col1\" >1</td>\n",
       "      <td id=\"T_2af82_row0_col2\" class=\"data row0 col2\" >4</td>\n",
       "    </tr>\n",
       "    <tr>\n",
       "      <th id=\"T_2af82_level0_row1\" class=\"row_heading level0 row1\" >2</th>\n",
       "      <td id=\"T_2af82_row1_col0\" class=\"data row1 col0\" >2</td>\n",
       "      <td id=\"T_2af82_row1_col1\" class=\"data row1 col1\" >2</td>\n",
       "      <td id=\"T_2af82_row1_col2\" class=\"data row1 col2\" >3</td>\n",
       "    </tr>\n",
       "  </tbody>\n",
       "</table>\n"
      ]
     },
     "metadata": {},
     "output_type": "display_data"
    }
   ],
   "source": [
    "DataDuplicates(n_to_show=2).run(ds)"
   ]
  },
  {
   "cell_type": "code",
   "execution_count": 5,
   "id": "4ac8525f",
   "metadata": {
    "execution": {
     "iopub.execute_input": "2021-12-28T00:54:22.201906Z",
     "iopub.status.busy": "2021-12-28T00:54:22.198400Z",
     "iopub.status.idle": "2021-12-28T00:54:22.213431Z",
     "shell.execute_reply": "2021-12-28T00:54:22.213867Z"
    }
   },
   "outputs": [
    {
     "data": {
      "text/html": [
       "<h4>Data Duplicates</h4>"
      ]
     },
     "metadata": {},
     "output_type": "display_data"
    },
    {
     "data": {
      "text/html": [
       "<p>Search for duplicate data in dataset.</p>"
      ]
     },
     "metadata": {},
     "output_type": "display_data"
    },
    {
     "data": {
      "text/html": [
       "80.00% of data samples are duplicates"
      ]
     },
     "metadata": {},
     "output_type": "display_data"
    },
    {
     "data": {
      "text/html": [
       "<style type=\"text/css\">\n",
       "#T_cf2e0_ table {\n",
       "  text-align: left;\n",
       "}\n",
       "#T_cf2e0_ thead {\n",
       "  text-align: left;\n",
       "}\n",
       "#T_cf2e0_ tbody {\n",
       "  text-align: left;\n",
       "}\n",
       "#T_cf2e0_ th {\n",
       "  text-align: left;\n",
       "}\n",
       "#T_cf2e0_ td {\n",
       "  text-align: left;\n",
       "}\n",
       "</style>\n",
       "<table id=\"T_cf2e0_\">\n",
       "  <thead>\n",
       "    <tr>\n",
       "      <th class=\"blank level0\" >&nbsp;</th>\n",
       "      <th class=\"col_heading level0 col0\" >col1</th>\n",
       "    </tr>\n",
       "    <tr>\n",
       "      <th class=\"index_name level0\" >Number of Duplicates</th>\n",
       "      <th class=\"blank col0\" >&nbsp;</th>\n",
       "    </tr>\n",
       "  </thead>\n",
       "  <tbody>\n",
       "    <tr>\n",
       "      <th id=\"T_cf2e0_level0_row0\" class=\"row_heading level0 row0\" >5</th>\n",
       "      <td id=\"T_cf2e0_row0_col0\" class=\"data row0 col0\" >1</td>\n",
       "    </tr>\n",
       "    <tr>\n",
       "      <th id=\"T_cf2e0_level0_row1\" class=\"row_heading level0 row1\" >5</th>\n",
       "      <td id=\"T_cf2e0_row1_col0\" class=\"data row1 col0\" >2</td>\n",
       "    </tr>\n",
       "  </tbody>\n",
       "</table>\n"
      ]
     },
     "metadata": {},
     "output_type": "display_data"
    }
   ],
   "source": [
    "DataDuplicates(columns=[\"col1\"]).run(ds)"
   ]
  },
  {
   "cell_type": "code",
   "execution_count": 6,
   "id": "dcb2f344",
   "metadata": {
    "execution": {
     "iopub.execute_input": "2021-12-28T00:54:22.223745Z",
     "iopub.status.busy": "2021-12-28T00:54:22.219103Z",
     "iopub.status.idle": "2021-12-28T00:54:22.230866Z",
     "shell.execute_reply": "2021-12-28T00:54:22.231308Z"
    }
   },
   "outputs": [
    {
     "data": {
      "text/html": [
       "<h4>Data Duplicates</h4>"
      ]
     },
     "metadata": {},
     "output_type": "display_data"
    },
    {
     "data": {
      "text/html": [
       "<p>Search for duplicate data in dataset.</p>"
      ]
     },
     "metadata": {},
     "output_type": "display_data"
    },
    {
     "data": {
      "text/html": [
       "80.00% of data samples are duplicates"
      ]
     },
     "metadata": {},
     "output_type": "display_data"
    },
    {
     "data": {
      "text/html": [
       "<style type=\"text/css\">\n",
       "#T_aab22_ table {\n",
       "  text-align: left;\n",
       "}\n",
       "#T_aab22_ thead {\n",
       "  text-align: left;\n",
       "}\n",
       "#T_aab22_ tbody {\n",
       "  text-align: left;\n",
       "}\n",
       "#T_aab22_ th {\n",
       "  text-align: left;\n",
       "}\n",
       "#T_aab22_ td {\n",
       "  text-align: left;\n",
       "}\n",
       "</style>\n",
       "<table id=\"T_aab22_\">\n",
       "  <thead>\n",
       "    <tr>\n",
       "      <th class=\"blank level0\" >&nbsp;</th>\n",
       "      <th class=\"col_heading level0 col0\" >col1</th>\n",
       "      <th class=\"col_heading level0 col1\" >col2</th>\n",
       "    </tr>\n",
       "    <tr>\n",
       "      <th class=\"index_name level0\" >Number of Duplicates</th>\n",
       "      <th class=\"blank col0\" >&nbsp;</th>\n",
       "      <th class=\"blank col1\" >&nbsp;</th>\n",
       "    </tr>\n",
       "  </thead>\n",
       "  <tbody>\n",
       "    <tr>\n",
       "      <th id=\"T_aab22_level0_row0\" class=\"row_heading level0 row0\" >5</th>\n",
       "      <td id=\"T_aab22_row0_col0\" class=\"data row0 col0\" >1</td>\n",
       "      <td id=\"T_aab22_row0_col1\" class=\"data row0 col1\" >1</td>\n",
       "    </tr>\n",
       "    <tr>\n",
       "      <th id=\"T_aab22_level0_row1\" class=\"row_heading level0 row1\" >5</th>\n",
       "      <td id=\"T_aab22_row1_col0\" class=\"data row1 col0\" >2</td>\n",
       "      <td id=\"T_aab22_row1_col1\" class=\"data row1 col1\" >2</td>\n",
       "    </tr>\n",
       "  </tbody>\n",
       "</table>\n"
      ]
     },
     "metadata": {},
     "output_type": "display_data"
    }
   ],
   "source": [
    "DataDuplicates(ignore_columns=[\"col3\"]).run(ds)"
   ]
  },
  {
   "cell_type": "code",
   "execution_count": 7,
   "id": "56284ded",
   "metadata": {
    "execution": {
     "iopub.execute_input": "2021-12-28T00:54:22.237358Z",
     "iopub.status.busy": "2021-12-28T00:54:22.236193Z",
     "iopub.status.idle": "2021-12-28T00:54:22.237960Z",
     "shell.execute_reply": "2021-12-28T00:54:22.238382Z"
    }
   },
   "outputs": [],
   "source": [
    "ds_no_dups = ds = pd.DataFrame({\"col1\":[1,2,1,2,1,2,1,2,1,2], \"col2\":[1,2,1,2,1,2,1,2,1,2], \"col3\":[1,2,3,4,5,6,7,8,9,0]})"
   ]
  },
  {
   "cell_type": "code",
   "execution_count": 8,
   "id": "bca536fd",
   "metadata": {
    "execution": {
     "iopub.execute_input": "2021-12-28T00:54:22.243652Z",
     "iopub.status.busy": "2021-12-28T00:54:22.240590Z",
     "iopub.status.idle": "2021-12-28T00:54:22.249420Z",
     "shell.execute_reply": "2021-12-28T00:54:22.248952Z"
    }
   },
   "outputs": [
    {
     "data": {
      "text/html": [
       "<h4>Data Duplicates</h4>"
      ]
     },
     "metadata": {},
     "output_type": "display_data"
    },
    {
     "data": {
      "text/html": [
       "<p>Search for duplicate data in dataset.</p>"
      ]
     },
     "metadata": {},
     "output_type": "display_data"
    },
    {
     "data": {
      "text/html": [
       "<p><b>&#x2713;</b> Nothing found</p>"
      ]
     },
     "metadata": {},
     "output_type": "display_data"
    }
   ],
   "source": [
    "DataDuplicates().run(ds_no_dups)"
   ]
  },
  {
   "cell_type": "code",
   "execution_count": 9,
   "id": "7716ca9d",
   "metadata": {
    "execution": {
     "iopub.execute_input": "2021-12-28T00:54:22.258096Z",
     "iopub.status.busy": "2021-12-28T00:54:22.251536Z",
     "iopub.status.idle": "2021-12-28T00:54:22.266994Z",
     "shell.execute_reply": "2021-12-28T00:54:22.266526Z"
    }
   },
   "outputs": [
    {
     "data": {
      "text/html": [
       "<h4>Data Duplicates</h4>"
      ]
     },
     "metadata": {},
     "output_type": "display_data"
    },
    {
     "data": {
      "text/html": [
       "<p>Search for duplicate data in dataset.</p>"
      ]
     },
     "metadata": {},
     "output_type": "display_data"
    },
    {
     "data": {
      "text/html": [
       "80.00% of data samples are duplicates"
      ]
     },
     "metadata": {},
     "output_type": "display_data"
    },
    {
     "data": {
      "text/html": [
       "<style type=\"text/css\">\n",
       "#T_8702b_ table {\n",
       "  text-align: left;\n",
       "}\n",
       "#T_8702b_ thead {\n",
       "  text-align: left;\n",
       "}\n",
       "#T_8702b_ tbody {\n",
       "  text-align: left;\n",
       "}\n",
       "#T_8702b_ th {\n",
       "  text-align: left;\n",
       "}\n",
       "#T_8702b_ td {\n",
       "  text-align: left;\n",
       "}\n",
       "</style>\n",
       "<table id=\"T_8702b_\">\n",
       "  <thead>\n",
       "    <tr>\n",
       "      <th class=\"blank level0\" >&nbsp;</th>\n",
       "      <th class=\"col_heading level0 col0\" >col1</th>\n",
       "      <th class=\"col_heading level0 col1\" >col2</th>\n",
       "    </tr>\n",
       "    <tr>\n",
       "      <th class=\"index_name level0\" >Number of Duplicates</th>\n",
       "      <th class=\"blank col0\" >&nbsp;</th>\n",
       "      <th class=\"blank col1\" >&nbsp;</th>\n",
       "    </tr>\n",
       "  </thead>\n",
       "  <tbody>\n",
       "    <tr>\n",
       "      <th id=\"T_8702b_level0_row0\" class=\"row_heading level0 row0\" >5</th>\n",
       "      <td id=\"T_8702b_row0_col0\" class=\"data row0 col0\" >1</td>\n",
       "      <td id=\"T_8702b_row0_col1\" class=\"data row0 col1\" >1</td>\n",
       "    </tr>\n",
       "    <tr>\n",
       "      <th id=\"T_8702b_level0_row1\" class=\"row_heading level0 row1\" >5</th>\n",
       "      <td id=\"T_8702b_row1_col0\" class=\"data row1 col0\" >2</td>\n",
       "      <td id=\"T_8702b_row1_col1\" class=\"data row1 col1\" >2</td>\n",
       "    </tr>\n",
       "  </tbody>\n",
       "</table>\n"
      ]
     },
     "metadata": {},
     "output_type": "display_data"
    }
   ],
   "source": [
    "DataDuplicates(ignore_columns=[\"col3\"]).run(ds_no_dups)"
   ]
  }
 ],
 "metadata": {
  "kernelspec": {
   "display_name": "Python 3 (ipykernel)",
   "language": "python",
   "name": "python3"
  },
  "language_info": {
   "codemirror_mode": {
    "name": "ipython",
    "version": 3
   },
   "file_extension": ".py",
   "mimetype": "text/x-python",
   "name": "python",
   "nbconvert_exporter": "python",
   "pygments_lexer": "ipython3",
   "version": "3.9.9"
  }
 },
 "nbformat": 4,
 "nbformat_minor": 5
}
