{
 "cells": [
  {
   "cell_type": "markdown",
   "id": "06bdcdfc",
   "metadata": {},
   "source": [
    "# Data Duplicates "
   ]
  },
  {
   "cell_type": "code",
   "execution_count": 1,
   "id": "e9297e35",
   "metadata": {
    "execution": {
     "iopub.execute_input": "2021-12-23T11:44:09.813466Z",
     "iopub.status.busy": "2021-12-23T11:44:09.812802Z",
     "iopub.status.idle": "2021-12-23T11:44:11.652786Z",
     "shell.execute_reply": "2021-12-23T11:44:11.651596Z"
    }
   },
   "outputs": [],
   "source": [
    "from deepchecks.checks.integrity.data_duplicates import DataDuplicates\n",
    "from deepchecks.base import Dataset, Suite\n",
    "from datetime import datetime\n",
    "import pandas as pd\n"
   ]
  },
  {
   "cell_type": "code",
   "execution_count": 2,
   "id": "bbb916b9",
   "metadata": {
    "execution": {
     "iopub.execute_input": "2021-12-23T11:44:11.660285Z",
     "iopub.status.busy": "2021-12-23T11:44:11.659040Z",
     "iopub.status.idle": "2021-12-23T11:44:11.660869Z",
     "shell.execute_reply": "2021-12-23T11:44:11.661261Z"
    }
   },
   "outputs": [],
   "source": [
    "ds = pd.DataFrame({\"col1\":[1,2,1,2,1,2,1,2,1,2], \"col2\":[1,2,1,2,1,2,1,2,1,2],\"col3\":[2,3,4,4,4,3,4,5,6,4]})"
   ]
  },
  {
   "cell_type": "code",
   "execution_count": 3,
   "id": "0c2f4fd4",
   "metadata": {
    "execution": {
     "iopub.execute_input": "2021-12-23T11:44:11.670000Z",
     "iopub.status.busy": "2021-12-23T11:44:11.666895Z",
     "iopub.status.idle": "2021-12-23T11:44:11.682914Z",
     "shell.execute_reply": "2021-12-23T11:44:11.682470Z"
    }
   },
   "outputs": [
    {
     "data": {
      "text/html": [
       "<h4>Data Duplicates</h4>"
      ]
     },
     "metadata": {},
     "output_type": "display_data"
    },
    {
     "data": {
      "text/html": [
       "<p>Search for duplicate data in dataset.</p>"
      ]
     },
     "metadata": {},
     "output_type": "display_data"
    },
    {
     "data": {
      "text/html": [
       "40.00% of data samples are duplicates"
      ]
     },
     "metadata": {},
     "output_type": "display_data"
    },
    {
     "data": {
      "text/html": [
       "<style type=\"text/css\">\n",
       "#T_e8de4_ table {\n",
       "  text-align: left;\n",
       "}\n",
       "#T_e8de4_ thead {\n",
       "  text-align: left;\n",
       "}\n",
       "#T_e8de4_ tbody {\n",
       "  text-align: left;\n",
       "}\n",
       "#T_e8de4_ th {\n",
       "  text-align: left;\n",
       "}\n",
       "#T_e8de4_ td {\n",
       "  text-align: left;\n",
       "}\n",
       "</style>\n",
       "<table id=\"T_e8de4_\">\n",
       "  <thead>\n",
       "    <tr>\n",
       "      <th class=\"blank level0\" >&nbsp;</th>\n",
       "      <th class=\"col_heading level0 col0\" >col1</th>\n",
       "      <th class=\"col_heading level0 col1\" >col2</th>\n",
       "      <th class=\"col_heading level0 col2\" >col3</th>\n",
       "    </tr>\n",
       "    <tr>\n",
       "      <th class=\"index_name level0\" >Number of Duplicates</th>\n",
       "      <th class=\"blank col0\" >&nbsp;</th>\n",
       "      <th class=\"blank col1\" >&nbsp;</th>\n",
       "      <th class=\"blank col2\" >&nbsp;</th>\n",
       "    </tr>\n",
       "  </thead>\n",
       "  <tbody>\n",
       "    <tr>\n",
       "      <th id=\"T_e8de4_level0_row0\" class=\"row_heading level0 row0\" >3</th>\n",
       "      <td id=\"T_e8de4_row0_col0\" class=\"data row0 col0\" >1</td>\n",
       "      <td id=\"T_e8de4_row0_col1\" class=\"data row0 col1\" >1</td>\n",
       "      <td id=\"T_e8de4_row0_col2\" class=\"data row0 col2\" >4</td>\n",
       "    </tr>\n",
       "    <tr>\n",
       "      <th id=\"T_e8de4_level0_row1\" class=\"row_heading level0 row1\" >2</th>\n",
       "      <td id=\"T_e8de4_row1_col0\" class=\"data row1 col0\" >2</td>\n",
       "      <td id=\"T_e8de4_row1_col1\" class=\"data row1 col1\" >2</td>\n",
       "      <td id=\"T_e8de4_row1_col2\" class=\"data row1 col2\" >3</td>\n",
       "    </tr>\n",
       "    <tr>\n",
       "      <th id=\"T_e8de4_level0_row2\" class=\"row_heading level0 row2\" >2</th>\n",
       "      <td id=\"T_e8de4_row2_col0\" class=\"data row2 col0\" >2</td>\n",
       "      <td id=\"T_e8de4_row2_col1\" class=\"data row2 col1\" >2</td>\n",
       "      <td id=\"T_e8de4_row2_col2\" class=\"data row2 col2\" >4</td>\n",
       "    </tr>\n",
       "  </tbody>\n",
       "</table>\n"
      ]
     },
     "metadata": {},
     "output_type": "display_data"
    }
   ],
   "source": [
    "DataDuplicates().run(ds)"
   ]
  },
  {
   "cell_type": "code",
   "execution_count": 4,
   "id": "8acc767a",
   "metadata": {
    "execution": {
     "iopub.execute_input": "2021-12-23T11:44:11.689827Z",
     "iopub.status.busy": "2021-12-23T11:44:11.688083Z",
     "iopub.status.idle": "2021-12-23T11:44:11.699763Z",
     "shell.execute_reply": "2021-12-23T11:44:11.700167Z"
    }
   },
   "outputs": [
    {
     "data": {
      "text/html": [
       "<h4>Data Duplicates</h4>"
      ]
     },
     "metadata": {},
     "output_type": "display_data"
    },
    {
     "data": {
      "text/html": [
       "<p>Search for duplicate data in dataset.</p>"
      ]
     },
     "metadata": {},
     "output_type": "display_data"
    },
    {
     "data": {
      "text/html": [
       "40.00% of data samples are duplicates"
      ]
     },
     "metadata": {},
     "output_type": "display_data"
    },
    {
     "data": {
      "text/html": [
       "<style type=\"text/css\">\n",
       "#T_c2dd8_ table {\n",
       "  text-align: left;\n",
       "}\n",
       "#T_c2dd8_ thead {\n",
       "  text-align: left;\n",
       "}\n",
       "#T_c2dd8_ tbody {\n",
       "  text-align: left;\n",
       "}\n",
       "#T_c2dd8_ th {\n",
       "  text-align: left;\n",
       "}\n",
       "#T_c2dd8_ td {\n",
       "  text-align: left;\n",
       "}\n",
       "</style>\n",
       "<table id=\"T_c2dd8_\">\n",
       "  <thead>\n",
       "    <tr>\n",
       "      <th class=\"blank level0\" >&nbsp;</th>\n",
       "      <th class=\"col_heading level0 col0\" >col1</th>\n",
       "      <th class=\"col_heading level0 col1\" >col2</th>\n",
       "      <th class=\"col_heading level0 col2\" >col3</th>\n",
       "    </tr>\n",
       "    <tr>\n",
       "      <th class=\"index_name level0\" >Number of Duplicates</th>\n",
       "      <th class=\"blank col0\" >&nbsp;</th>\n",
       "      <th class=\"blank col1\" >&nbsp;</th>\n",
       "      <th class=\"blank col2\" >&nbsp;</th>\n",
       "    </tr>\n",
       "  </thead>\n",
       "  <tbody>\n",
       "    <tr>\n",
       "      <th id=\"T_c2dd8_level0_row0\" class=\"row_heading level0 row0\" >3</th>\n",
       "      <td id=\"T_c2dd8_row0_col0\" class=\"data row0 col0\" >1</td>\n",
       "      <td id=\"T_c2dd8_row0_col1\" class=\"data row0 col1\" >1</td>\n",
       "      <td id=\"T_c2dd8_row0_col2\" class=\"data row0 col2\" >4</td>\n",
       "    </tr>\n",
       "    <tr>\n",
       "      <th id=\"T_c2dd8_level0_row1\" class=\"row_heading level0 row1\" >2</th>\n",
       "      <td id=\"T_c2dd8_row1_col0\" class=\"data row1 col0\" >2</td>\n",
       "      <td id=\"T_c2dd8_row1_col1\" class=\"data row1 col1\" >2</td>\n",
       "      <td id=\"T_c2dd8_row1_col2\" class=\"data row1 col2\" >3</td>\n",
       "    </tr>\n",
       "  </tbody>\n",
       "</table>\n"
      ]
     },
     "metadata": {},
     "output_type": "display_data"
    }
   ],
   "source": [
    "DataDuplicates(n_to_show=2).run(ds)"
   ]
  },
  {
   "cell_type": "code",
   "execution_count": 5,
   "id": "4ac8525f",
   "metadata": {
    "execution": {
     "iopub.execute_input": "2021-12-23T11:44:11.711144Z",
     "iopub.status.busy": "2021-12-23T11:44:11.710395Z",
     "iopub.status.idle": "2021-12-23T11:44:11.717802Z",
     "shell.execute_reply": "2021-12-23T11:44:11.717309Z"
    }
   },
   "outputs": [
    {
     "data": {
      "text/html": [
       "<h4>Data Duplicates</h4>"
      ]
     },
     "metadata": {},
     "output_type": "display_data"
    },
    {
     "data": {
      "text/html": [
       "<p>Search for duplicate data in dataset.</p>"
      ]
     },
     "metadata": {},
     "output_type": "display_data"
    },
    {
     "data": {
      "text/html": [
       "80.00% of data samples are duplicates"
      ]
     },
     "metadata": {},
     "output_type": "display_data"
    },
    {
     "data": {
      "text/html": [
       "<style type=\"text/css\">\n",
       "#T_c83b9_ table {\n",
       "  text-align: left;\n",
       "}\n",
       "#T_c83b9_ thead {\n",
       "  text-align: left;\n",
       "}\n",
       "#T_c83b9_ tbody {\n",
       "  text-align: left;\n",
       "}\n",
       "#T_c83b9_ th {\n",
       "  text-align: left;\n",
       "}\n",
       "#T_c83b9_ td {\n",
       "  text-align: left;\n",
       "}\n",
       "</style>\n",
       "<table id=\"T_c83b9_\">\n",
       "  <thead>\n",
       "    <tr>\n",
       "      <th class=\"blank level0\" >&nbsp;</th>\n",
       "      <th class=\"col_heading level0 col0\" >col1</th>\n",
       "    </tr>\n",
       "    <tr>\n",
       "      <th class=\"index_name level0\" >Number of Duplicates</th>\n",
       "      <th class=\"blank col0\" >&nbsp;</th>\n",
       "    </tr>\n",
       "  </thead>\n",
       "  <tbody>\n",
       "    <tr>\n",
       "      <th id=\"T_c83b9_level0_row0\" class=\"row_heading level0 row0\" >5</th>\n",
       "      <td id=\"T_c83b9_row0_col0\" class=\"data row0 col0\" >1</td>\n",
       "    </tr>\n",
       "    <tr>\n",
       "      <th id=\"T_c83b9_level0_row1\" class=\"row_heading level0 row1\" >5</th>\n",
       "      <td id=\"T_c83b9_row1_col0\" class=\"data row1 col0\" >2</td>\n",
       "    </tr>\n",
       "  </tbody>\n",
       "</table>\n"
      ]
     },
     "metadata": {},
     "output_type": "display_data"
    }
   ],
   "source": [
    "DataDuplicates(columns=[\"col1\"]).run(ds)"
   ]
  },
  {
   "cell_type": "code",
   "execution_count": 6,
   "id": "dcb2f344",
   "metadata": {
    "execution": {
     "iopub.execute_input": "2021-12-23T11:44:11.725193Z",
     "iopub.status.busy": "2021-12-23T11:44:11.724461Z",
     "iopub.status.idle": "2021-12-23T11:44:11.738534Z",
     "shell.execute_reply": "2021-12-23T11:44:11.738087Z"
    }
   },
   "outputs": [
    {
     "data": {
      "text/html": [
       "<h4>Data Duplicates</h4>"
      ]
     },
     "metadata": {},
     "output_type": "display_data"
    },
    {
     "data": {
      "text/html": [
       "<p>Search for duplicate data in dataset.</p>"
      ]
     },
     "metadata": {},
     "output_type": "display_data"
    },
    {
     "data": {
      "text/html": [
       "80.00% of data samples are duplicates"
      ]
     },
     "metadata": {},
     "output_type": "display_data"
    },
    {
     "data": {
      "text/html": [
       "<style type=\"text/css\">\n",
       "#T_38bca_ table {\n",
       "  text-align: left;\n",
       "}\n",
       "#T_38bca_ thead {\n",
       "  text-align: left;\n",
       "}\n",
       "#T_38bca_ tbody {\n",
       "  text-align: left;\n",
       "}\n",
       "#T_38bca_ th {\n",
       "  text-align: left;\n",
       "}\n",
       "#T_38bca_ td {\n",
       "  text-align: left;\n",
       "}\n",
       "</style>\n",
       "<table id=\"T_38bca_\">\n",
       "  <thead>\n",
       "    <tr>\n",
       "      <th class=\"blank level0\" >&nbsp;</th>\n",
       "      <th class=\"col_heading level0 col0\" >col1</th>\n",
       "      <th class=\"col_heading level0 col1\" >col2</th>\n",
       "    </tr>\n",
       "    <tr>\n",
       "      <th class=\"index_name level0\" >Number of Duplicates</th>\n",
       "      <th class=\"blank col0\" >&nbsp;</th>\n",
       "      <th class=\"blank col1\" >&nbsp;</th>\n",
       "    </tr>\n",
       "  </thead>\n",
       "  <tbody>\n",
       "    <tr>\n",
       "      <th id=\"T_38bca_level0_row0\" class=\"row_heading level0 row0\" >5</th>\n",
       "      <td id=\"T_38bca_row0_col0\" class=\"data row0 col0\" >1</td>\n",
       "      <td id=\"T_38bca_row0_col1\" class=\"data row0 col1\" >1</td>\n",
       "    </tr>\n",
       "    <tr>\n",
       "      <th id=\"T_38bca_level0_row1\" class=\"row_heading level0 row1\" >5</th>\n",
       "      <td id=\"T_38bca_row1_col0\" class=\"data row1 col0\" >2</td>\n",
       "      <td id=\"T_38bca_row1_col1\" class=\"data row1 col1\" >2</td>\n",
       "    </tr>\n",
       "  </tbody>\n",
       "</table>\n"
      ]
     },
     "metadata": {},
     "output_type": "display_data"
    }
   ],
   "source": [
    "DataDuplicates(ignore_columns=[\"col3\"]).run(ds)"
   ]
  },
  {
   "cell_type": "code",
   "execution_count": 7,
   "id": "56284ded",
   "metadata": {
    "execution": {
     "iopub.execute_input": "2021-12-23T11:44:11.744792Z",
     "iopub.status.busy": "2021-12-23T11:44:11.743610Z",
     "iopub.status.idle": "2021-12-23T11:44:11.745398Z",
     "shell.execute_reply": "2021-12-23T11:44:11.745855Z"
    }
   },
   "outputs": [],
   "source": [
    "ds_no_dups = ds = pd.DataFrame({\"col1\":[1,2,1,2,1,2,1,2,1,2], \"col2\":[1,2,1,2,1,2,1,2,1,2], \"col3\":[1,2,3,4,5,6,7,8,9,0]})"
   ]
  },
  {
   "cell_type": "code",
   "execution_count": 8,
   "id": "bca536fd",
   "metadata": {
    "execution": {
     "iopub.execute_input": "2021-12-23T11:44:11.753968Z",
     "iopub.status.busy": "2021-12-23T11:44:11.752658Z",
     "iopub.status.idle": "2021-12-23T11:44:11.757824Z",
     "shell.execute_reply": "2021-12-23T11:44:11.756626Z"
    }
   },
   "outputs": [
    {
     "data": {
      "text/html": [
       "<h4>Data Duplicates</h4>"
      ]
     },
     "metadata": {},
     "output_type": "display_data"
    },
    {
     "data": {
      "text/html": [
       "<p>Search for duplicate data in dataset.</p>"
      ]
     },
     "metadata": {},
     "output_type": "display_data"
    },
    {
     "data": {
      "text/html": [
       "<p><b>&#x2713;</b> Nothing found</p>"
      ]
     },
     "metadata": {},
     "output_type": "display_data"
    }
   ],
   "source": [
    "DataDuplicates().run(ds_no_dups)"
   ]
  },
  {
   "cell_type": "code",
   "execution_count": 9,
   "id": "7716ca9d",
   "metadata": {
    "execution": {
     "iopub.execute_input": "2021-12-23T11:44:11.766631Z",
     "iopub.status.busy": "2021-12-23T11:44:11.764691Z",
     "iopub.status.idle": "2021-12-23T11:44:11.775918Z",
     "shell.execute_reply": "2021-12-23T11:44:11.776324Z"
    }
   },
   "outputs": [
    {
     "data": {
      "text/html": [
       "<h4>Data Duplicates</h4>"
      ]
     },
     "metadata": {},
     "output_type": "display_data"
    },
    {
     "data": {
      "text/html": [
       "<p>Search for duplicate data in dataset.</p>"
      ]
     },
     "metadata": {},
     "output_type": "display_data"
    },
    {
     "data": {
      "text/html": [
       "80.00% of data samples are duplicates"
      ]
     },
     "metadata": {},
     "output_type": "display_data"
    },
    {
     "data": {
      "text/html": [
       "<style type=\"text/css\">\n",
       "#T_df009_ table {\n",
       "  text-align: left;\n",
       "}\n",
       "#T_df009_ thead {\n",
       "  text-align: left;\n",
       "}\n",
       "#T_df009_ tbody {\n",
       "  text-align: left;\n",
       "}\n",
       "#T_df009_ th {\n",
       "  text-align: left;\n",
       "}\n",
       "#T_df009_ td {\n",
       "  text-align: left;\n",
       "}\n",
       "</style>\n",
       "<table id=\"T_df009_\">\n",
       "  <thead>\n",
       "    <tr>\n",
       "      <th class=\"blank level0\" >&nbsp;</th>\n",
       "      <th class=\"col_heading level0 col0\" >col1</th>\n",
       "      <th class=\"col_heading level0 col1\" >col2</th>\n",
       "    </tr>\n",
       "    <tr>\n",
       "      <th class=\"index_name level0\" >Number of Duplicates</th>\n",
       "      <th class=\"blank col0\" >&nbsp;</th>\n",
       "      <th class=\"blank col1\" >&nbsp;</th>\n",
       "    </tr>\n",
       "  </thead>\n",
       "  <tbody>\n",
       "    <tr>\n",
       "      <th id=\"T_df009_level0_row0\" class=\"row_heading level0 row0\" >5</th>\n",
       "      <td id=\"T_df009_row0_col0\" class=\"data row0 col0\" >1</td>\n",
       "      <td id=\"T_df009_row0_col1\" class=\"data row0 col1\" >1</td>\n",
       "    </tr>\n",
       "    <tr>\n",
       "      <th id=\"T_df009_level0_row1\" class=\"row_heading level0 row1\" >5</th>\n",
       "      <td id=\"T_df009_row1_col0\" class=\"data row1 col0\" >2</td>\n",
       "      <td id=\"T_df009_row1_col1\" class=\"data row1 col1\" >2</td>\n",
       "    </tr>\n",
       "  </tbody>\n",
       "</table>\n"
      ]
     },
     "metadata": {},
     "output_type": "display_data"
    }
   ],
   "source": [
    "DataDuplicates(ignore_columns=[\"col3\"]).run(ds_no_dups)"
   ]
  }
 ],
 "metadata": {
  "kernelspec": {
   "display_name": "Python 3 (ipykernel)",
   "language": "python",
   "name": "python3"
  },
  "language_info": {
   "codemirror_mode": {
    "name": "ipython",
    "version": 3
   },
   "file_extension": ".py",
   "mimetype": "text/x-python",
   "name": "python",
   "nbconvert_exporter": "python",
   "pygments_lexer": "ipython3",
   "version": "3.9.9"
  }
 },
 "nbformat": 4,
 "nbformat_minor": 5
}
