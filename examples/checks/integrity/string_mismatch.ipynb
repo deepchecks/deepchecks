{
 "cells": [
  {
   "cell_type": "markdown",
   "id": "65a2adc9",
   "metadata": {},
   "source": [
    "# String Mismatch "
   ]
  },
  {
   "cell_type": "code",
   "execution_count": 1,
   "id": "20e5a3dd",
   "metadata": {
    "execution": {
     "iopub.execute_input": "2022-01-03T00:55:34.194640Z",
     "iopub.status.busy": "2022-01-03T00:55:34.194059Z",
     "iopub.status.idle": "2022-01-03T00:55:35.791762Z",
     "shell.execute_reply": "2022-01-03T00:55:35.792186Z"
    }
   },
   "outputs": [
    {
     "name": "stderr",
     "output_type": "stream",
     "text": [
      "/home/runner/work/deepchecks/deepchecks/deepchecks/utils/features.py:95: UserWarning:\n",
      "\n",
      "Features importance was not calculated:\n",
      "Model must inherit from one of supported models: sklearn.base.BaseEstimator or CatBoost, Received: NoneType\n",
      "\n"
     ]
    }
   ],
   "source": [
    "from deepchecks.checks import StringMismatch\n",
    "import pandas as pd\n",
    "\n",
    "data = {'col1': ['Deep', 'deep', 'deep!!!', '$deeP$', 'earth', 'foo', 'bar', 'foo?']}\n",
    "df = pd.DataFrame(data=data)\n",
    "r = StringMismatch().run(df)"
   ]
  },
  {
   "cell_type": "code",
   "execution_count": 2,
   "id": "9a17efde",
   "metadata": {
    "execution": {
     "iopub.execute_input": "2022-01-03T00:55:35.798319Z",
     "iopub.status.busy": "2022-01-03T00:55:35.797851Z",
     "iopub.status.idle": "2022-01-03T00:55:35.799728Z",
     "shell.execute_reply": "2022-01-03T00:55:35.800114Z"
    }
   },
   "outputs": [
    {
     "data": {
      "text/plain": [
       "[{'is_pass': False, 'details': \"Found columns with variants: {'col1': ['deep', 'foo']}\", 'category': <ConditionCategory.WARN: 'WARN'>, 'name': 'No string variants for all columns'}]"
      ]
     },
     "execution_count": 2,
     "metadata": {},
     "output_type": "execute_result"
    }
   ],
   "source": [
    "c  = StringMismatch().add_condition_no_variants()\n",
    "c.conditions_decision(r)"
   ]
  }
 ],
 "metadata": {
  "kernelspec": {
   "display_name": "Python 3 (ipykernel)",
   "language": "python",
   "name": "python3"
  },
  "language_info": {
   "codemirror_mode": {
    "name": "ipython",
    "version": 3
   },
   "file_extension": ".py",
   "mimetype": "text/x-python",
   "name": "python",
   "nbconvert_exporter": "python",
   "pygments_lexer": "ipython3",
   "version": "3.9.9"
  }
 },
 "nbformat": 4,
 "nbformat_minor": 5
}
