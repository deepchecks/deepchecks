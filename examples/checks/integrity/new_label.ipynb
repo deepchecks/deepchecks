{
 "cells": [
  {
   "cell_type": "markdown",
   "id": "ffad3cda",
   "metadata": {},
   "source": [
    "# New Label "
   ]
  },
  {
   "cell_type": "code",
   "execution_count": 1,
   "id": "d26a99f3",
   "metadata": {
    "execution": {
     "iopub.execute_input": "2022-01-02T00:58:26.333215Z",
     "iopub.status.busy": "2022-01-02T00:58:26.332397Z",
     "iopub.status.idle": "2022-01-02T00:58:28.362626Z",
     "shell.execute_reply": "2022-01-02T00:58:28.361715Z"
    }
   },
   "outputs": [],
   "source": [
    "from deepchecks.checks.integrity.new_label import NewLabelTrainTest\n",
    "from deepchecks.base import Dataset\n",
    "import pandas as pd"
   ]
  },
  {
   "cell_type": "code",
   "execution_count": 2,
   "id": "6ad09e0e",
   "metadata": {
    "execution": {
     "iopub.execute_input": "2022-01-02T00:58:28.374524Z",
     "iopub.status.busy": "2022-01-02T00:58:28.373773Z",
     "iopub.status.idle": "2022-01-02T00:58:28.377452Z",
     "shell.execute_reply": "2022-01-02T00:58:28.377976Z"
    }
   },
   "outputs": [],
   "source": [
    "test_data = {\"col1\": [0, 1, 2, 3] * 10}\n",
    "val_data = {\"col1\": [4, 5, 6, 7, 8, 9] * 10}\n",
    "test = Dataset(pd.DataFrame(data=test_data), label_name=\"col1\")\n",
    "val = Dataset(pd.DataFrame(data=val_data), label_name=\"col1\")"
   ]
  },
  {
   "cell_type": "code",
   "execution_count": 3,
   "id": "1407bb72",
   "metadata": {
    "execution": {
     "iopub.execute_input": "2022-01-02T00:58:28.386910Z",
     "iopub.status.busy": "2022-01-02T00:58:28.386154Z",
     "iopub.status.idle": "2022-01-02T00:58:28.392861Z",
     "shell.execute_reply": "2022-01-02T00:58:28.393433Z"
    }
   },
   "outputs": [
    {
     "data": {
      "text/html": [
       "<h4>New Label Train Test</h4>"
      ]
     },
     "metadata": {},
     "output_type": "display_data"
    },
    {
     "data": {
      "text/html": [
       "<p>Find new labels in test.</p>"
      ]
     },
     "metadata": {},
     "output_type": "display_data"
    },
    {
     "data": {
      "text/html": [
       "<style type=\"text/css\">\n",
       "#T_7741c_ table {\n",
       "  text-align: left;\n",
       "}\n",
       "#T_7741c_ thead {\n",
       "  text-align: left;\n",
       "}\n",
       "#T_7741c_ tbody {\n",
       "  text-align: left;\n",
       "}\n",
       "#T_7741c_ th {\n",
       "  text-align: left;\n",
       "}\n",
       "#T_7741c_ td {\n",
       "  text-align: left;\n",
       "}\n",
       "</style>\n",
       "<table id=\"T_7741c_\">\n",
       "  <thead>\n",
       "    <tr>\n",
       "      <th class=\"blank level0\" >&nbsp;</th>\n",
       "      <th class=\"col_heading level0 col0\" >Percent new labels in sample</th>\n",
       "      <th class=\"col_heading level0 col1\" >New labels</th>\n",
       "    </tr>\n",
       "    <tr>\n",
       "      <th class=\"index_name level0\" >Label column</th>\n",
       "      <th class=\"blank col0\" >&nbsp;</th>\n",
       "      <th class=\"blank col1\" >&nbsp;</th>\n",
       "    </tr>\n",
       "  </thead>\n",
       "  <tbody>\n",
       "    <tr>\n",
       "      <th id=\"T_7741c_level0_row0\" class=\"row_heading level0 row0\" >col1</th>\n",
       "      <td id=\"T_7741c_row0_col0\" class=\"data row0 col0\" >100%</td>\n",
       "      <td id=\"T_7741c_row0_col1\" class=\"data row0 col1\" >[4, 5, 6, 7, 8, 9]</td>\n",
       "    </tr>\n",
       "  </tbody>\n",
       "</table>\n"
      ]
     },
     "metadata": {},
     "output_type": "display_data"
    }
   ],
   "source": [
    "NewLabelTrainTest().run(test, val)"
   ]
  },
  {
   "cell_type": "code",
   "execution_count": 4,
   "id": "e2dd499d",
   "metadata": {
    "execution": {
     "iopub.execute_input": "2022-01-02T00:58:28.406912Z",
     "iopub.status.busy": "2022-01-02T00:58:28.405212Z",
     "iopub.status.idle": "2022-01-02T00:58:28.407534Z",
     "shell.execute_reply": "2022-01-02T00:58:28.408056Z"
    }
   },
   "outputs": [],
   "source": [
    "test_data = {\"col1\": [\"a\", \"b\", \"a\", \"c\"] * 10, \"col2\": [1,2,2,3]*10}\n",
    "val_data = {\"col1\": [\"a\",\"b\",\"d\"] * 10, \"col2\": [1, 4, 5]*10}\n",
    "test = Dataset(pd.DataFrame(data=test_data), label_name=\"col2\")\n",
    "val = Dataset(pd.DataFrame(data=val_data), label_name=\"col2\")"
   ]
  },
  {
   "cell_type": "code",
   "execution_count": 5,
   "id": "91c364ab",
   "metadata": {
    "execution": {
     "iopub.execute_input": "2022-01-02T00:58:28.414859Z",
     "iopub.status.busy": "2022-01-02T00:58:28.414208Z",
     "iopub.status.idle": "2022-01-02T00:58:28.421375Z",
     "shell.execute_reply": "2022-01-02T00:58:28.421843Z"
    },
    "scrolled": true
   },
   "outputs": [
    {
     "data": {
      "text/html": [
       "<h4>New Label Train Test</h4>"
      ]
     },
     "metadata": {},
     "output_type": "display_data"
    },
    {
     "data": {
      "text/html": [
       "<p>Find new labels in test.</p>"
      ]
     },
     "metadata": {},
     "output_type": "display_data"
    },
    {
     "data": {
      "text/html": [
       "<style type=\"text/css\">\n",
       "#T_cd1ec_ table {\n",
       "  text-align: left;\n",
       "}\n",
       "#T_cd1ec_ thead {\n",
       "  text-align: left;\n",
       "}\n",
       "#T_cd1ec_ tbody {\n",
       "  text-align: left;\n",
       "}\n",
       "#T_cd1ec_ th {\n",
       "  text-align: left;\n",
       "}\n",
       "#T_cd1ec_ td {\n",
       "  text-align: left;\n",
       "}\n",
       "</style>\n",
       "<table id=\"T_cd1ec_\">\n",
       "  <thead>\n",
       "    <tr>\n",
       "      <th class=\"blank level0\" >&nbsp;</th>\n",
       "      <th class=\"col_heading level0 col0\" >Percent new labels in sample</th>\n",
       "      <th class=\"col_heading level0 col1\" >New labels</th>\n",
       "    </tr>\n",
       "    <tr>\n",
       "      <th class=\"index_name level0\" >Label column</th>\n",
       "      <th class=\"blank col0\" >&nbsp;</th>\n",
       "      <th class=\"blank col1\" >&nbsp;</th>\n",
       "    </tr>\n",
       "  </thead>\n",
       "  <tbody>\n",
       "    <tr>\n",
       "      <th id=\"T_cd1ec_level0_row0\" class=\"row_heading level0 row0\" >col2</th>\n",
       "      <td id=\"T_cd1ec_row0_col0\" class=\"data row0 col0\" >66.67%</td>\n",
       "      <td id=\"T_cd1ec_row0_col1\" class=\"data row0 col1\" >[4, 5]</td>\n",
       "    </tr>\n",
       "  </tbody>\n",
       "</table>\n"
      ]
     },
     "metadata": {},
     "output_type": "display_data"
    }
   ],
   "source": [
    "NewLabelTrainTest().run(test, val)"
   ]
  }
 ],
 "metadata": {
  "kernelspec": {
   "display_name": "Python 3 (ipykernel)",
   "language": "python",
   "name": "python3"
  },
  "language_info": {
   "codemirror_mode": {
    "name": "ipython",
    "version": 3
   },
   "file_extension": ".py",
   "mimetype": "text/x-python",
   "name": "python",
   "nbconvert_exporter": "python",
   "pygments_lexer": "ipython3",
   "version": "3.9.9"
  }
 },
 "nbformat": 4,
 "nbformat_minor": 5
}
