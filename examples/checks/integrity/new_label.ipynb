{
 "cells": [
  {
   "cell_type": "markdown",
   "id": "ffad3cda",
   "metadata": {},
   "source": [
    "# New Label "
   ]
  },
  {
   "cell_type": "code",
   "execution_count": 1,
   "id": "d26a99f3",
   "metadata": {
    "execution": {
     "iopub.execute_input": "2021-12-30T00:54:43.048970Z",
     "iopub.status.busy": "2021-12-30T00:54:43.048382Z",
     "iopub.status.idle": "2021-12-30T00:54:44.845789Z",
     "shell.execute_reply": "2021-12-30T00:54:44.844836Z"
    }
   },
   "outputs": [],
   "source": [
    "from deepchecks.checks.integrity.new_label import NewLabelTrainTest\n",
    "from deepchecks.base import Dataset\n",
    "import pandas as pd"
   ]
  },
  {
   "cell_type": "code",
   "execution_count": 2,
   "id": "6ad09e0e",
   "metadata": {
    "execution": {
     "iopub.execute_input": "2021-12-30T00:54:44.855951Z",
     "iopub.status.busy": "2021-12-30T00:54:44.855389Z",
     "iopub.status.idle": "2021-12-30T00:54:44.858088Z",
     "shell.execute_reply": "2021-12-30T00:54:44.858526Z"
    }
   },
   "outputs": [],
   "source": [
    "test_data = {\"col1\": [0, 1, 2, 3] * 10}\n",
    "val_data = {\"col1\": [4, 5, 6, 7, 8, 9] * 10}\n",
    "test = Dataset(pd.DataFrame(data=test_data), label_name=\"col1\")\n",
    "val = Dataset(pd.DataFrame(data=val_data), label_name=\"col1\")"
   ]
  },
  {
   "cell_type": "code",
   "execution_count": 3,
   "id": "1407bb72",
   "metadata": {
    "execution": {
     "iopub.execute_input": "2021-12-30T00:54:44.865746Z",
     "iopub.status.busy": "2021-12-30T00:54:44.865109Z",
     "iopub.status.idle": "2021-12-30T00:54:44.871620Z",
     "shell.execute_reply": "2021-12-30T00:54:44.872050Z"
    }
   },
   "outputs": [
    {
     "data": {
      "text/html": [
       "<h4>New Label Train Test</h4>"
      ]
     },
     "metadata": {},
     "output_type": "display_data"
    },
    {
     "data": {
      "text/html": [
       "<p>Find new labels in test.</p>"
      ]
     },
     "metadata": {},
     "output_type": "display_data"
    },
    {
     "data": {
      "text/html": [
       "<style type=\"text/css\">\n",
       "#T_67c92_ table {\n",
       "  text-align: left;\n",
       "}\n",
       "#T_67c92_ thead {\n",
       "  text-align: left;\n",
       "}\n",
       "#T_67c92_ tbody {\n",
       "  text-align: left;\n",
       "}\n",
       "#T_67c92_ th {\n",
       "  text-align: left;\n",
       "}\n",
       "#T_67c92_ td {\n",
       "  text-align: left;\n",
       "}\n",
       "</style>\n",
       "<table id=\"T_67c92_\">\n",
       "  <thead>\n",
       "    <tr>\n",
       "      <th class=\"blank level0\" >&nbsp;</th>\n",
       "      <th class=\"col_heading level0 col0\" >Percent new labels in sample</th>\n",
       "      <th class=\"col_heading level0 col1\" >New labels</th>\n",
       "    </tr>\n",
       "    <tr>\n",
       "      <th class=\"index_name level0\" >Label column</th>\n",
       "      <th class=\"blank col0\" >&nbsp;</th>\n",
       "      <th class=\"blank col1\" >&nbsp;</th>\n",
       "    </tr>\n",
       "  </thead>\n",
       "  <tbody>\n",
       "    <tr>\n",
       "      <th id=\"T_67c92_level0_row0\" class=\"row_heading level0 row0\" >col1</th>\n",
       "      <td id=\"T_67c92_row0_col0\" class=\"data row0 col0\" >100%</td>\n",
       "      <td id=\"T_67c92_row0_col1\" class=\"data row0 col1\" >[4, 5, 6, 7, 8, 9]</td>\n",
       "    </tr>\n",
       "  </tbody>\n",
       "</table>\n"
      ]
     },
     "metadata": {},
     "output_type": "display_data"
    }
   ],
   "source": [
    "NewLabelTrainTest().run(test, val)"
   ]
  },
  {
   "cell_type": "code",
   "execution_count": 4,
   "id": "e2dd499d",
   "metadata": {
    "execution": {
     "iopub.execute_input": "2021-12-30T00:54:44.881991Z",
     "iopub.status.busy": "2021-12-30T00:54:44.881448Z",
     "iopub.status.idle": "2021-12-30T00:54:44.884133Z",
     "shell.execute_reply": "2021-12-30T00:54:44.883707Z"
    }
   },
   "outputs": [],
   "source": [
    "test_data = {\"col1\": [\"a\", \"b\", \"a\", \"c\"] * 10, \"col2\": [1,2,2,3]*10}\n",
    "val_data = {\"col1\": [\"a\",\"b\",\"d\"] * 10, \"col2\": [1, 4, 5]*10}\n",
    "test = Dataset(pd.DataFrame(data=test_data), label_name=\"col2\")\n",
    "val = Dataset(pd.DataFrame(data=val_data), label_name=\"col2\")"
   ]
  },
  {
   "cell_type": "code",
   "execution_count": 5,
   "id": "91c364ab",
   "metadata": {
    "execution": {
     "iopub.execute_input": "2021-12-30T00:54:44.889424Z",
     "iopub.status.busy": "2021-12-30T00:54:44.888795Z",
     "iopub.status.idle": "2021-12-30T00:54:44.894807Z",
     "shell.execute_reply": "2021-12-30T00:54:44.895200Z"
    },
    "scrolled": true
   },
   "outputs": [
    {
     "data": {
      "text/html": [
       "<h4>New Label Train Test</h4>"
      ]
     },
     "metadata": {},
     "output_type": "display_data"
    },
    {
     "data": {
      "text/html": [
       "<p>Find new labels in test.</p>"
      ]
     },
     "metadata": {},
     "output_type": "display_data"
    },
    {
     "data": {
      "text/html": [
       "<style type=\"text/css\">\n",
       "#T_4d0d7_ table {\n",
       "  text-align: left;\n",
       "}\n",
       "#T_4d0d7_ thead {\n",
       "  text-align: left;\n",
       "}\n",
       "#T_4d0d7_ tbody {\n",
       "  text-align: left;\n",
       "}\n",
       "#T_4d0d7_ th {\n",
       "  text-align: left;\n",
       "}\n",
       "#T_4d0d7_ td {\n",
       "  text-align: left;\n",
       "}\n",
       "</style>\n",
       "<table id=\"T_4d0d7_\">\n",
       "  <thead>\n",
       "    <tr>\n",
       "      <th class=\"blank level0\" >&nbsp;</th>\n",
       "      <th class=\"col_heading level0 col0\" >Percent new labels in sample</th>\n",
       "      <th class=\"col_heading level0 col1\" >New labels</th>\n",
       "    </tr>\n",
       "    <tr>\n",
       "      <th class=\"index_name level0\" >Label column</th>\n",
       "      <th class=\"blank col0\" >&nbsp;</th>\n",
       "      <th class=\"blank col1\" >&nbsp;</th>\n",
       "    </tr>\n",
       "  </thead>\n",
       "  <tbody>\n",
       "    <tr>\n",
       "      <th id=\"T_4d0d7_level0_row0\" class=\"row_heading level0 row0\" >col2</th>\n",
       "      <td id=\"T_4d0d7_row0_col0\" class=\"data row0 col0\" >66.67%</td>\n",
       "      <td id=\"T_4d0d7_row0_col1\" class=\"data row0 col1\" >[4, 5]</td>\n",
       "    </tr>\n",
       "  </tbody>\n",
       "</table>\n"
      ]
     },
     "metadata": {},
     "output_type": "display_data"
    }
   ],
   "source": [
    "NewLabelTrainTest().run(test, val)"
   ]
  }
 ],
 "metadata": {
  "kernelspec": {
   "display_name": "Python 3 (ipykernel)",
   "language": "python",
   "name": "python3"
  },
  "language_info": {
   "codemirror_mode": {
    "name": "ipython",
    "version": 3
   },
   "file_extension": ".py",
   "mimetype": "text/x-python",
   "name": "python",
   "nbconvert_exporter": "python",
   "pygments_lexer": "ipython3",
   "version": "3.9.9"
  }
 },
 "nbformat": 4,
 "nbformat_minor": 5
}
