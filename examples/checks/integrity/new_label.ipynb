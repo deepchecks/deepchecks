{
 "cells": [
  {
   "cell_type": "markdown",
   "id": "ffad3cda",
   "metadata": {},
   "source": [
    "# New Label "
   ]
  },
  {
   "cell_type": "code",
   "execution_count": 1,
   "id": "d26a99f3",
   "metadata": {
    "execution": {
     "iopub.execute_input": "2021-12-22T07:28:47.339733Z",
     "iopub.status.busy": "2021-12-22T07:28:47.337441Z",
     "iopub.status.idle": "2021-12-22T07:28:49.017511Z",
     "shell.execute_reply": "2021-12-22T07:28:49.016213Z"
    }
   },
   "outputs": [],
   "source": [
    "from deepchecks.checks.integrity.new_label import NewLabelTrainTest\n",
    "from deepchecks.base import Dataset\n",
    "import pandas as pd"
   ]
  },
  {
   "cell_type": "code",
   "execution_count": 2,
   "id": "6ad09e0e",
   "metadata": {
    "execution": {
     "iopub.execute_input": "2021-12-22T07:28:49.028034Z",
     "iopub.status.busy": "2021-12-22T07:28:49.027354Z",
     "iopub.status.idle": "2021-12-22T07:28:49.031813Z",
     "shell.execute_reply": "2021-12-22T07:28:49.031266Z"
    }
   },
   "outputs": [],
   "source": [
    "test_data = {\"col1\": [0, 1, 2, 3] * 10}\n",
    "val_data = {\"col1\": [4, 5, 6, 7, 8, 9] * 10}\n",
    "test = Dataset(pd.DataFrame(data=test_data), label_name=\"col1\")\n",
    "val = Dataset(pd.DataFrame(data=val_data), label_name=\"col1\")"
   ]
  },
  {
   "cell_type": "code",
   "execution_count": 3,
   "id": "1407bb72",
   "metadata": {
    "execution": {
     "iopub.execute_input": "2021-12-22T07:28:49.038949Z",
     "iopub.status.busy": "2021-12-22T07:28:49.038453Z",
     "iopub.status.idle": "2021-12-22T07:28:49.050109Z",
     "shell.execute_reply": "2021-12-22T07:28:49.049637Z"
    }
   },
   "outputs": [
    {
     "data": {
      "text/html": [
       "<h4>New Label Train Test</h4>"
      ]
     },
     "metadata": {},
     "output_type": "display_data"
    },
    {
     "data": {
      "text/html": [
       "<p>Find new labels in test.</p>"
      ]
     },
     "metadata": {},
     "output_type": "display_data"
    },
    {
     "data": {
      "text/html": [
       "<style type=\"text/css\">\n",
       "#T_50870_ table {\n",
       "  text-align: left;\n",
       "}\n",
       "#T_50870_ thead {\n",
       "  text-align: left;\n",
       "}\n",
       "#T_50870_ tbody {\n",
       "  text-align: left;\n",
       "}\n",
       "#T_50870_ th {\n",
       "  text-align: left;\n",
       "}\n",
       "#T_50870_ td {\n",
       "  text-align: left;\n",
       "}\n",
       "</style>\n",
       "<table id=\"T_50870_\">\n",
       "  <thead>\n",
       "    <tr>\n",
       "      <th class=\"blank level0\" >&nbsp;</th>\n",
       "      <th class=\"col_heading level0 col0\" >Percent new labels in sample</th>\n",
       "      <th class=\"col_heading level0 col1\" >New labels</th>\n",
       "    </tr>\n",
       "    <tr>\n",
       "      <th class=\"index_name level0\" >Label column</th>\n",
       "      <th class=\"blank col0\" >&nbsp;</th>\n",
       "      <th class=\"blank col1\" >&nbsp;</th>\n",
       "    </tr>\n",
       "  </thead>\n",
       "  <tbody>\n",
       "    <tr>\n",
       "      <th id=\"T_50870_level0_row0\" class=\"row_heading level0 row0\" >col1</th>\n",
       "      <td id=\"T_50870_row0_col0\" class=\"data row0 col0\" >100%</td>\n",
       "      <td id=\"T_50870_row0_col1\" class=\"data row0 col1\" >[4, 5, 6, 7, 8, 9]</td>\n",
       "    </tr>\n",
       "  </tbody>\n",
       "</table>\n"
      ]
     },
     "metadata": {},
     "output_type": "display_data"
    }
   ],
   "source": [
    "NewLabelTrainTest().run(test, val)"
   ]
  },
  {
   "cell_type": "code",
   "execution_count": 4,
   "id": "e2dd499d",
   "metadata": {
    "execution": {
     "iopub.execute_input": "2021-12-22T07:28:49.062505Z",
     "iopub.status.busy": "2021-12-22T07:28:49.061036Z",
     "iopub.status.idle": "2021-12-22T07:28:49.063313Z",
     "shell.execute_reply": "2021-12-22T07:28:49.063959Z"
    }
   },
   "outputs": [],
   "source": [
    "test_data = {\"col1\": [\"a\", \"b\", \"a\", \"c\"] * 10, \"col2\": [1,2,2,3]*10}\n",
    "val_data = {\"col1\": [\"a\",\"b\",\"d\"] * 10, \"col2\": [1, 4, 5]*10}\n",
    "test = Dataset(pd.DataFrame(data=test_data), label_name=\"col2\")\n",
    "val = Dataset(pd.DataFrame(data=val_data), label_name=\"col2\")"
   ]
  },
  {
   "cell_type": "code",
   "execution_count": 5,
   "id": "91c364ab",
   "metadata": {
    "execution": {
     "iopub.execute_input": "2021-12-22T07:28:49.070989Z",
     "iopub.status.busy": "2021-12-22T07:28:49.070239Z",
     "iopub.status.idle": "2021-12-22T07:28:49.075916Z",
     "shell.execute_reply": "2021-12-22T07:28:49.076338Z"
    },
    "scrolled": true
   },
   "outputs": [
    {
     "data": {
      "text/html": [
       "<h4>New Label Train Test</h4>"
      ]
     },
     "metadata": {},
     "output_type": "display_data"
    },
    {
     "data": {
      "text/html": [
       "<p>Find new labels in test.</p>"
      ]
     },
     "metadata": {},
     "output_type": "display_data"
    },
    {
     "data": {
      "text/html": [
       "<style type=\"text/css\">\n",
       "#T_b0390_ table {\n",
       "  text-align: left;\n",
       "}\n",
       "#T_b0390_ thead {\n",
       "  text-align: left;\n",
       "}\n",
       "#T_b0390_ tbody {\n",
       "  text-align: left;\n",
       "}\n",
       "#T_b0390_ th {\n",
       "  text-align: left;\n",
       "}\n",
       "#T_b0390_ td {\n",
       "  text-align: left;\n",
       "}\n",
       "</style>\n",
       "<table id=\"T_b0390_\">\n",
       "  <thead>\n",
       "    <tr>\n",
       "      <th class=\"blank level0\" >&nbsp;</th>\n",
       "      <th class=\"col_heading level0 col0\" >Percent new labels in sample</th>\n",
       "      <th class=\"col_heading level0 col1\" >New labels</th>\n",
       "    </tr>\n",
       "    <tr>\n",
       "      <th class=\"index_name level0\" >Label column</th>\n",
       "      <th class=\"blank col0\" >&nbsp;</th>\n",
       "      <th class=\"blank col1\" >&nbsp;</th>\n",
       "    </tr>\n",
       "  </thead>\n",
       "  <tbody>\n",
       "    <tr>\n",
       "      <th id=\"T_b0390_level0_row0\" class=\"row_heading level0 row0\" >col2</th>\n",
       "      <td id=\"T_b0390_row0_col0\" class=\"data row0 col0\" >66.67%</td>\n",
       "      <td id=\"T_b0390_row0_col1\" class=\"data row0 col1\" >[4, 5]</td>\n",
       "    </tr>\n",
       "  </tbody>\n",
       "</table>\n"
      ]
     },
     "metadata": {},
     "output_type": "display_data"
    }
   ],
   "source": [
    "NewLabelTrainTest().run(test, val)"
   ]
  }
 ],
 "metadata": {
  "kernelspec": {
   "display_name": "Python 3 (ipykernel)",
   "language": "python",
   "name": "python3"
  },
  "language_info": {
   "codemirror_mode": {
    "name": "ipython",
    "version": 3
   },
   "file_extension": ".py",
   "mimetype": "text/x-python",
   "name": "python",
   "nbconvert_exporter": "python",
   "pygments_lexer": "ipython3",
   "version": "3.9.9"
  }
 },
 "nbformat": 4,
 "nbformat_minor": 5
}
