{
 "cells": [
  {
   "cell_type": "markdown",
   "id": "e0b027e7",
   "metadata": {},
   "source": [
    "# Label Ambiguity "
   ]
  },
  {
   "cell_type": "code",
   "execution_count": 1,
   "id": "9ff805f0",
   "metadata": {
    "execution": {
     "iopub.execute_input": "2021-12-23T11:44:23.841314Z",
     "iopub.status.busy": "2021-12-23T11:44:23.840695Z",
     "iopub.status.idle": "2021-12-23T11:44:25.843655Z",
     "shell.execute_reply": "2021-12-23T11:44:25.843039Z"
    }
   },
   "outputs": [],
   "source": [
    "from deepchecks.checks.integrity import LabelAmbiguity\n",
    "from deepchecks.base import Dataset\n",
    "import pandas as pd"
   ]
  },
  {
   "cell_type": "code",
   "execution_count": 2,
   "id": "4cb1f4da",
   "metadata": {
    "execution": {
     "iopub.execute_input": "2021-12-23T11:44:25.852488Z",
     "iopub.status.busy": "2021-12-23T11:44:25.851937Z",
     "iopub.status.idle": "2021-12-23T11:44:25.855147Z",
     "shell.execute_reply": "2021-12-23T11:44:25.855583Z"
    }
   },
   "outputs": [],
   "source": [
    "dataset = Dataset(pd.DataFrame({\"col1\":[1,2,1,2,1,2,1,2,1,2],\n",
    "                                \"col2\":[1,2,1,2,5,2,5,2,3,2],\n",
    "                                \"my_label\":[2,3,4,4,4,3,4,5,6,4]}),\n",
    "             label_name=\"my_label\")\n"
   ]
  },
  {
   "cell_type": "code",
   "execution_count": 3,
   "id": "f5d3c08a",
   "metadata": {
    "execution": {
     "iopub.execute_input": "2021-12-23T11:44:25.861686Z",
     "iopub.status.busy": "2021-12-23T11:44:25.860999Z",
     "iopub.status.idle": "2021-12-23T11:44:25.879075Z",
     "shell.execute_reply": "2021-12-23T11:44:25.879513Z"
    }
   },
   "outputs": [
    {
     "data": {
      "text/html": [
       "<h4>Label Ambiguity</h4>"
      ]
     },
     "metadata": {},
     "output_type": "display_data"
    },
    {
     "data": {
      "text/html": [
       "<p>Find samples with multiple labels.</p>"
      ]
     },
     "metadata": {},
     "output_type": "display_data"
    },
    {
     "data": {
      "text/html": [
       "<style type=\"text/css\">\n",
       "#T_65243_ table {\n",
       "  text-align: left;\n",
       "}\n",
       "#T_65243_ thead {\n",
       "  text-align: left;\n",
       "}\n",
       "#T_65243_ tbody {\n",
       "  text-align: left;\n",
       "}\n",
       "#T_65243_ th {\n",
       "  text-align: left;\n",
       "}\n",
       "#T_65243_ td {\n",
       "  text-align: left;\n",
       "}\n",
       "</style>\n",
       "<table id=\"T_65243_\">\n",
       "  <thead>\n",
       "    <tr>\n",
       "      <th class=\"blank level0\" >&nbsp;</th>\n",
       "      <th class=\"col_heading level0 col0\" >my_label</th>\n",
       "      <th class=\"col_heading level0 col1\" >col1</th>\n",
       "      <th class=\"col_heading level0 col2\" >col2</th>\n",
       "    </tr>\n",
       "  </thead>\n",
       "  <tbody>\n",
       "    <tr>\n",
       "      <th id=\"T_65243_level0_row0\" class=\"row_heading level0 row0\" >0</th>\n",
       "      <td id=\"T_65243_row0_col0\" class=\"data row0 col0\" >[3, 4, 5]</td>\n",
       "      <td id=\"T_65243_row0_col1\" class=\"data row0 col1\" >2</td>\n",
       "      <td id=\"T_65243_row0_col2\" class=\"data row0 col2\" >2</td>\n",
       "    </tr>\n",
       "    <tr>\n",
       "      <th id=\"T_65243_level0_row1\" class=\"row_heading level0 row1\" >1</th>\n",
       "      <td id=\"T_65243_row1_col0\" class=\"data row1 col0\" >[2, 4]</td>\n",
       "      <td id=\"T_65243_row1_col1\" class=\"data row1 col1\" >1</td>\n",
       "      <td id=\"T_65243_row1_col2\" class=\"data row1 col2\" >1</td>\n",
       "    </tr>\n",
       "  </tbody>\n",
       "</table>\n"
      ]
     },
     "metadata": {},
     "output_type": "display_data"
    }
   ],
   "source": [
    "LabelAmbiguity().run(dataset)"
   ]
  },
  {
   "cell_type": "code",
   "execution_count": 4,
   "id": "b01ae6c9",
   "metadata": {
    "execution": {
     "iopub.execute_input": "2021-12-23T11:44:25.885569Z",
     "iopub.status.busy": "2021-12-23T11:44:25.884984Z",
     "iopub.status.idle": "2021-12-23T11:44:25.900812Z",
     "shell.execute_reply": "2021-12-23T11:44:25.901252Z"
    }
   },
   "outputs": [
    {
     "data": {
      "text/html": [
       "<h4>Label Ambiguity</h4>"
      ]
     },
     "metadata": {},
     "output_type": "display_data"
    },
    {
     "data": {
      "text/html": [
       "<p>Find samples with multiple labels.</p>"
      ]
     },
     "metadata": {},
     "output_type": "display_data"
    },
    {
     "data": {
      "text/html": [
       "<style type=\"text/css\">\n",
       "#T_c71ee_ table {\n",
       "  text-align: left;\n",
       "}\n",
       "#T_c71ee_ thead {\n",
       "  text-align: left;\n",
       "}\n",
       "#T_c71ee_ tbody {\n",
       "  text-align: left;\n",
       "}\n",
       "#T_c71ee_ th {\n",
       "  text-align: left;\n",
       "}\n",
       "#T_c71ee_ td {\n",
       "  text-align: left;\n",
       "}\n",
       "</style>\n",
       "<table id=\"T_c71ee_\">\n",
       "  <thead>\n",
       "    <tr>\n",
       "      <th class=\"blank level0\" >&nbsp;</th>\n",
       "      <th class=\"col_heading level0 col0\" >my_label</th>\n",
       "      <th class=\"col_heading level0 col1\" >col1</th>\n",
       "      <th class=\"col_heading level0 col2\" >col2</th>\n",
       "    </tr>\n",
       "  </thead>\n",
       "  <tbody>\n",
       "    <tr>\n",
       "      <th id=\"T_c71ee_level0_row0\" class=\"row_heading level0 row0\" >0</th>\n",
       "      <td id=\"T_c71ee_row0_col0\" class=\"data row0 col0\" >[3, 4, 5]</td>\n",
       "      <td id=\"T_c71ee_row0_col1\" class=\"data row0 col1\" >2</td>\n",
       "      <td id=\"T_c71ee_row0_col2\" class=\"data row0 col2\" >2</td>\n",
       "    </tr>\n",
       "  </tbody>\n",
       "</table>\n"
      ]
     },
     "metadata": {},
     "output_type": "display_data"
    }
   ],
   "source": [
    "LabelAmbiguity(n_to_show=1).run(dataset)"
   ]
  },
  {
   "cell_type": "code",
   "execution_count": 5,
   "id": "7b794ad8",
   "metadata": {
    "execution": {
     "iopub.execute_input": "2021-12-23T11:44:25.917017Z",
     "iopub.status.busy": "2021-12-23T11:44:25.916322Z",
     "iopub.status.idle": "2021-12-23T11:44:25.925287Z",
     "shell.execute_reply": "2021-12-23T11:44:25.924721Z"
    }
   },
   "outputs": [
    {
     "data": {
      "text/html": [
       "<h4>Label Ambiguity</h4>"
      ]
     },
     "metadata": {},
     "output_type": "display_data"
    },
    {
     "data": {
      "text/html": [
       "<p>Find samples with multiple labels.</p>"
      ]
     },
     "metadata": {},
     "output_type": "display_data"
    },
    {
     "data": {
      "text/html": [
       "<style type=\"text/css\">\n",
       "#T_c1f8a_ table {\n",
       "  text-align: left;\n",
       "}\n",
       "#T_c1f8a_ thead {\n",
       "  text-align: left;\n",
       "}\n",
       "#T_c1f8a_ tbody {\n",
       "  text-align: left;\n",
       "}\n",
       "#T_c1f8a_ th {\n",
       "  text-align: left;\n",
       "}\n",
       "#T_c1f8a_ td {\n",
       "  text-align: left;\n",
       "}\n",
       "</style>\n",
       "<table id=\"T_c1f8a_\">\n",
       "  <thead>\n",
       "    <tr>\n",
       "      <th class=\"blank level0\" >&nbsp;</th>\n",
       "      <th class=\"col_heading level0 col0\" >my_label</th>\n",
       "      <th class=\"col_heading level0 col1\" >col1</th>\n",
       "    </tr>\n",
       "  </thead>\n",
       "  <tbody>\n",
       "    <tr>\n",
       "      <th id=\"T_c1f8a_level0_row0\" class=\"row_heading level0 row0\" >0</th>\n",
       "      <td id=\"T_c1f8a_row0_col0\" class=\"data row0 col0\" >[2, 4, 6]</td>\n",
       "      <td id=\"T_c1f8a_row0_col1\" class=\"data row0 col1\" >1</td>\n",
       "    </tr>\n",
       "    <tr>\n",
       "      <th id=\"T_c1f8a_level0_row1\" class=\"row_heading level0 row1\" >1</th>\n",
       "      <td id=\"T_c1f8a_row1_col0\" class=\"data row1 col0\" >[3, 4, 5]</td>\n",
       "      <td id=\"T_c1f8a_row1_col1\" class=\"data row1 col1\" >2</td>\n",
       "    </tr>\n",
       "  </tbody>\n",
       "</table>\n"
      ]
     },
     "metadata": {},
     "output_type": "display_data"
    }
   ],
   "source": [
    "LabelAmbiguity(columns=['col1', 'my_label']).run(dataset)"
   ]
  },
  {
   "cell_type": "code",
   "execution_count": 6,
   "id": "fb372269",
   "metadata": {
    "execution": {
     "iopub.execute_input": "2021-12-23T11:44:25.934073Z",
     "iopub.status.busy": "2021-12-23T11:44:25.932801Z",
     "iopub.status.idle": "2021-12-23T11:44:25.934670Z",
     "shell.execute_reply": "2021-12-23T11:44:25.935090Z"
    }
   },
   "outputs": [],
   "source": [
    "clean_dataset = Dataset(pd.DataFrame({\"col1\":[1,2,1,2,1,2,1,2,1,2],\n",
    "                                      \"col2\":[1,2,1,2,5,2,5,2,3,2],\n",
    "                                      \"my_label\":[2,3,2,3,4,3,4,3,6,3]}),\n",
    "             label_name=\"my_label\")\n"
   ]
  },
  {
   "cell_type": "code",
   "execution_count": 7,
   "id": "aa5f06ee",
   "metadata": {
    "execution": {
     "iopub.execute_input": "2021-12-23T11:44:25.947061Z",
     "iopub.status.busy": "2021-12-23T11:44:25.945752Z",
     "iopub.status.idle": "2021-12-23T11:44:25.951540Z",
     "shell.execute_reply": "2021-12-23T11:44:25.950299Z"
    }
   },
   "outputs": [
    {
     "data": {
      "text/html": [
       "<h4>Label Ambiguity</h4>"
      ]
     },
     "metadata": {},
     "output_type": "display_data"
    },
    {
     "data": {
      "text/html": [
       "<p>Find samples with multiple labels.</p>"
      ]
     },
     "metadata": {},
     "output_type": "display_data"
    },
    {
     "data": {
      "text/html": [
       "<p><b>&#x2713;</b> Nothing found</p>"
      ]
     },
     "metadata": {},
     "output_type": "display_data"
    }
   ],
   "source": [
    "LabelAmbiguity().run(clean_dataset)"
   ]
  }
 ],
 "metadata": {
  "kernelspec": {
   "display_name": "Python 3 (ipykernel)",
   "language": "python",
   "name": "python3"
  },
  "language_info": {
   "codemirror_mode": {
    "name": "ipython",
    "version": 3
   },
   "file_extension": ".py",
   "mimetype": "text/x-python",
   "name": "python",
   "nbconvert_exporter": "python",
   "pygments_lexer": "ipython3",
   "version": "3.9.9"
  }
 },
 "nbformat": 4,
 "nbformat_minor": 5
}
