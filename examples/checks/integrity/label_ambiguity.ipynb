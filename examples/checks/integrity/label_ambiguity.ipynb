{
 "cells": [
  {
   "cell_type": "markdown",
   "id": "e0b027e7",
   "metadata": {},
   "source": [
    "# Label Ambiguity "
   ]
  },
  {
   "cell_type": "code",
   "execution_count": 1,
   "id": "9ff805f0",
   "metadata": {
    "execution": {
     "iopub.execute_input": "2021-12-22T07:28:29.730592Z",
     "iopub.status.busy": "2021-12-22T07:28:29.729849Z",
     "iopub.status.idle": "2021-12-22T07:28:31.347874Z",
     "shell.execute_reply": "2021-12-22T07:28:31.346942Z"
    }
   },
   "outputs": [],
   "source": [
    "from deepchecks.checks.integrity import LabelAmbiguity\n",
    "from deepchecks.base import Dataset\n",
    "import pandas as pd"
   ]
  },
  {
   "cell_type": "code",
   "execution_count": 2,
   "id": "4cb1f4da",
   "metadata": {
    "execution": {
     "iopub.execute_input": "2021-12-22T07:28:31.356953Z",
     "iopub.status.busy": "2021-12-22T07:28:31.356461Z",
     "iopub.status.idle": "2021-12-22T07:28:31.359754Z",
     "shell.execute_reply": "2021-12-22T07:28:31.360230Z"
    }
   },
   "outputs": [],
   "source": [
    "dataset = Dataset(pd.DataFrame({\"col1\":[1,2,1,2,1,2,1,2,1,2],\n",
    "                                \"col2\":[1,2,1,2,5,2,5,2,3,2],\n",
    "                                \"my_label\":[2,3,4,4,4,3,4,5,6,4]}),\n",
    "             label_name=\"my_label\")\n"
   ]
  },
  {
   "cell_type": "code",
   "execution_count": 3,
   "id": "f5d3c08a",
   "metadata": {
    "execution": {
     "iopub.execute_input": "2021-12-22T07:28:31.380155Z",
     "iopub.status.busy": "2021-12-22T07:28:31.366242Z",
     "iopub.status.idle": "2021-12-22T07:28:31.390286Z",
     "shell.execute_reply": "2021-12-22T07:28:31.390935Z"
    }
   },
   "outputs": [
    {
     "data": {
      "text/html": [
       "<h4>Label Ambiguity</h4>"
      ]
     },
     "metadata": {},
     "output_type": "display_data"
    },
    {
     "data": {
      "text/html": [
       "<p>Find samples with multiple labels.</p>"
      ]
     },
     "metadata": {},
     "output_type": "display_data"
    },
    {
     "data": {
      "text/html": [
       "<style type=\"text/css\">\n",
       "#T_5d44d_ table {\n",
       "  text-align: left;\n",
       "}\n",
       "#T_5d44d_ thead {\n",
       "  text-align: left;\n",
       "}\n",
       "#T_5d44d_ tbody {\n",
       "  text-align: left;\n",
       "}\n",
       "#T_5d44d_ th {\n",
       "  text-align: left;\n",
       "}\n",
       "#T_5d44d_ td {\n",
       "  text-align: left;\n",
       "}\n",
       "</style>\n",
       "<table id=\"T_5d44d_\">\n",
       "  <thead>\n",
       "    <tr>\n",
       "      <th class=\"blank level0\" >&nbsp;</th>\n",
       "      <th class=\"col_heading level0 col0\" >my_label</th>\n",
       "      <th class=\"col_heading level0 col1\" >col1</th>\n",
       "      <th class=\"col_heading level0 col2\" >col2</th>\n",
       "    </tr>\n",
       "  </thead>\n",
       "  <tbody>\n",
       "    <tr>\n",
       "      <th id=\"T_5d44d_level0_row0\" class=\"row_heading level0 row0\" >0</th>\n",
       "      <td id=\"T_5d44d_row0_col0\" class=\"data row0 col0\" >[3, 4, 5]</td>\n",
       "      <td id=\"T_5d44d_row0_col1\" class=\"data row0 col1\" >2</td>\n",
       "      <td id=\"T_5d44d_row0_col2\" class=\"data row0 col2\" >2</td>\n",
       "    </tr>\n",
       "    <tr>\n",
       "      <th id=\"T_5d44d_level0_row1\" class=\"row_heading level0 row1\" >1</th>\n",
       "      <td id=\"T_5d44d_row1_col0\" class=\"data row1 col0\" >[2, 4]</td>\n",
       "      <td id=\"T_5d44d_row1_col1\" class=\"data row1 col1\" >1</td>\n",
       "      <td id=\"T_5d44d_row1_col2\" class=\"data row1 col2\" >1</td>\n",
       "    </tr>\n",
       "  </tbody>\n",
       "</table>\n"
      ]
     },
     "metadata": {},
     "output_type": "display_data"
    }
   ],
   "source": [
    "LabelAmbiguity().run(dataset)"
   ]
  },
  {
   "cell_type": "code",
   "execution_count": 4,
   "id": "b01ae6c9",
   "metadata": {
    "execution": {
     "iopub.execute_input": "2021-12-22T07:28:31.407989Z",
     "iopub.status.busy": "2021-12-22T07:28:31.395730Z",
     "iopub.status.idle": "2021-12-22T07:28:31.417894Z",
     "shell.execute_reply": "2021-12-22T07:28:31.418615Z"
    }
   },
   "outputs": [
    {
     "data": {
      "text/html": [
       "<h4>Label Ambiguity</h4>"
      ]
     },
     "metadata": {},
     "output_type": "display_data"
    },
    {
     "data": {
      "text/html": [
       "<p>Find samples with multiple labels.</p>"
      ]
     },
     "metadata": {},
     "output_type": "display_data"
    },
    {
     "data": {
      "text/html": [
       "<style type=\"text/css\">\n",
       "#T_807d5_ table {\n",
       "  text-align: left;\n",
       "}\n",
       "#T_807d5_ thead {\n",
       "  text-align: left;\n",
       "}\n",
       "#T_807d5_ tbody {\n",
       "  text-align: left;\n",
       "}\n",
       "#T_807d5_ th {\n",
       "  text-align: left;\n",
       "}\n",
       "#T_807d5_ td {\n",
       "  text-align: left;\n",
       "}\n",
       "</style>\n",
       "<table id=\"T_807d5_\">\n",
       "  <thead>\n",
       "    <tr>\n",
       "      <th class=\"blank level0\" >&nbsp;</th>\n",
       "      <th class=\"col_heading level0 col0\" >my_label</th>\n",
       "      <th class=\"col_heading level0 col1\" >col1</th>\n",
       "      <th class=\"col_heading level0 col2\" >col2</th>\n",
       "    </tr>\n",
       "  </thead>\n",
       "  <tbody>\n",
       "    <tr>\n",
       "      <th id=\"T_807d5_level0_row0\" class=\"row_heading level0 row0\" >0</th>\n",
       "      <td id=\"T_807d5_row0_col0\" class=\"data row0 col0\" >[3, 4, 5]</td>\n",
       "      <td id=\"T_807d5_row0_col1\" class=\"data row0 col1\" >2</td>\n",
       "      <td id=\"T_807d5_row0_col2\" class=\"data row0 col2\" >2</td>\n",
       "    </tr>\n",
       "  </tbody>\n",
       "</table>\n"
      ]
     },
     "metadata": {},
     "output_type": "display_data"
    }
   ],
   "source": [
    "LabelAmbiguity(n_to_show=1).run(dataset)"
   ]
  },
  {
   "cell_type": "code",
   "execution_count": 5,
   "id": "7b794ad8",
   "metadata": {
    "execution": {
     "iopub.execute_input": "2021-12-22T07:28:31.436250Z",
     "iopub.status.busy": "2021-12-22T07:28:31.423682Z",
     "iopub.status.idle": "2021-12-22T07:28:31.442643Z",
     "shell.execute_reply": "2021-12-22T07:28:31.443097Z"
    }
   },
   "outputs": [
    {
     "data": {
      "text/html": [
       "<h4>Label Ambiguity</h4>"
      ]
     },
     "metadata": {},
     "output_type": "display_data"
    },
    {
     "data": {
      "text/html": [
       "<p>Find samples with multiple labels.</p>"
      ]
     },
     "metadata": {},
     "output_type": "display_data"
    },
    {
     "data": {
      "text/html": [
       "<style type=\"text/css\">\n",
       "#T_3308b_ table {\n",
       "  text-align: left;\n",
       "}\n",
       "#T_3308b_ thead {\n",
       "  text-align: left;\n",
       "}\n",
       "#T_3308b_ tbody {\n",
       "  text-align: left;\n",
       "}\n",
       "#T_3308b_ th {\n",
       "  text-align: left;\n",
       "}\n",
       "#T_3308b_ td {\n",
       "  text-align: left;\n",
       "}\n",
       "</style>\n",
       "<table id=\"T_3308b_\">\n",
       "  <thead>\n",
       "    <tr>\n",
       "      <th class=\"blank level0\" >&nbsp;</th>\n",
       "      <th class=\"col_heading level0 col0\" >my_label</th>\n",
       "      <th class=\"col_heading level0 col1\" >col1</th>\n",
       "    </tr>\n",
       "  </thead>\n",
       "  <tbody>\n",
       "    <tr>\n",
       "      <th id=\"T_3308b_level0_row0\" class=\"row_heading level0 row0\" >0</th>\n",
       "      <td id=\"T_3308b_row0_col0\" class=\"data row0 col0\" >[2, 4, 6]</td>\n",
       "      <td id=\"T_3308b_row0_col1\" class=\"data row0 col1\" >1</td>\n",
       "    </tr>\n",
       "    <tr>\n",
       "      <th id=\"T_3308b_level0_row1\" class=\"row_heading level0 row1\" >1</th>\n",
       "      <td id=\"T_3308b_row1_col0\" class=\"data row1 col0\" >[3, 4, 5]</td>\n",
       "      <td id=\"T_3308b_row1_col1\" class=\"data row1 col1\" >2</td>\n",
       "    </tr>\n",
       "  </tbody>\n",
       "</table>\n"
      ]
     },
     "metadata": {},
     "output_type": "display_data"
    }
   ],
   "source": [
    "LabelAmbiguity(columns=['col1', 'my_label']).run(dataset)"
   ]
  },
  {
   "cell_type": "code",
   "execution_count": 6,
   "id": "fb372269",
   "metadata": {
    "execution": {
     "iopub.execute_input": "2021-12-22T07:28:31.450657Z",
     "iopub.status.busy": "2021-12-22T07:28:31.449998Z",
     "iopub.status.idle": "2021-12-22T07:28:31.453706Z",
     "shell.execute_reply": "2021-12-22T07:28:31.453236Z"
    }
   },
   "outputs": [],
   "source": [
    "clean_dataset = Dataset(pd.DataFrame({\"col1\":[1,2,1,2,1,2,1,2,1,2],\n",
    "                                      \"col2\":[1,2,1,2,5,2,5,2,3,2],\n",
    "                                      \"my_label\":[2,3,2,3,4,3,4,3,6,3]}),\n",
    "             label_name=\"my_label\")\n"
   ]
  },
  {
   "cell_type": "code",
   "execution_count": 7,
   "id": "aa5f06ee",
   "metadata": {
    "execution": {
     "iopub.execute_input": "2021-12-22T07:28:31.459244Z",
     "iopub.status.busy": "2021-12-22T07:28:31.458535Z",
     "iopub.status.idle": "2021-12-22T07:28:31.469914Z",
     "shell.execute_reply": "2021-12-22T07:28:31.469451Z"
    }
   },
   "outputs": [
    {
     "data": {
      "text/html": [
       "<h4>Label Ambiguity</h4>"
      ]
     },
     "metadata": {},
     "output_type": "display_data"
    },
    {
     "data": {
      "text/html": [
       "<p>Find samples with multiple labels.</p>"
      ]
     },
     "metadata": {},
     "output_type": "display_data"
    },
    {
     "data": {
      "text/html": [
       "<p><b>&#x2713;</b> Nothing found</p>"
      ]
     },
     "metadata": {},
     "output_type": "display_data"
    }
   ],
   "source": [
    "LabelAmbiguity().run(clean_dataset)"
   ]
  }
 ],
 "metadata": {
  "kernelspec": {
   "display_name": "Python 3 (ipykernel)",
   "language": "python",
   "name": "python3"
  },
  "language_info": {
   "codemirror_mode": {
    "name": "ipython",
    "version": 3
   },
   "file_extension": ".py",
   "mimetype": "text/x-python",
   "name": "python",
   "nbconvert_exporter": "python",
   "pygments_lexer": "ipython3",
   "version": "3.9.9"
  }
 },
 "nbformat": 4,
 "nbformat_minor": 5
}
