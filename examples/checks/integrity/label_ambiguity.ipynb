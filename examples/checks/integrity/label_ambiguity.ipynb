{
 "cells": [
  {
   "cell_type": "markdown",
   "id": "e0b027e7",
   "metadata": {},
   "source": [
    "# Label Ambiguity "
   ]
  },
  {
   "cell_type": "code",
   "execution_count": 1,
   "id": "9ff805f0",
   "metadata": {
    "execution": {
     "iopub.execute_input": "2021-12-29T00:54:07.653743Z",
     "iopub.status.busy": "2021-12-29T00:54:07.653038Z",
     "iopub.status.idle": "2021-12-29T00:54:09.375142Z",
     "shell.execute_reply": "2021-12-29T00:54:09.374225Z"
    }
   },
   "outputs": [],
   "source": [
    "from deepchecks.checks.integrity import LabelAmbiguity\n",
    "from deepchecks.base import Dataset\n",
    "import pandas as pd"
   ]
  },
  {
   "cell_type": "code",
   "execution_count": 2,
   "id": "4cb1f4da",
   "metadata": {
    "execution": {
     "iopub.execute_input": "2021-12-29T00:54:09.382479Z",
     "iopub.status.busy": "2021-12-29T00:54:09.381556Z",
     "iopub.status.idle": "2021-12-29T00:54:09.388694Z",
     "shell.execute_reply": "2021-12-29T00:54:09.388222Z"
    }
   },
   "outputs": [],
   "source": [
    "dataset = Dataset(pd.DataFrame({\"col1\":[1,2,1,2,1,2,1,2,1,2],\n",
    "                                \"col2\":[1,2,1,2,5,2,5,2,3,2],\n",
    "                                \"my_label\":[2,3,4,4,4,3,4,5,6,4]}),\n",
    "             label_name=\"my_label\")\n"
   ]
  },
  {
   "cell_type": "code",
   "execution_count": 3,
   "id": "f5d3c08a",
   "metadata": {
    "execution": {
     "iopub.execute_input": "2021-12-29T00:54:09.393914Z",
     "iopub.status.busy": "2021-12-29T00:54:09.393387Z",
     "iopub.status.idle": "2021-12-29T00:54:09.414213Z",
     "shell.execute_reply": "2021-12-29T00:54:09.414672Z"
    }
   },
   "outputs": [
    {
     "data": {
      "text/html": [
       "<h4>Label Ambiguity</h4>"
      ]
     },
     "metadata": {},
     "output_type": "display_data"
    },
    {
     "data": {
      "text/html": [
       "<p>Find samples with multiple labels.</p>"
      ]
     },
     "metadata": {},
     "output_type": "display_data"
    },
    {
     "data": {
      "text/html": [
       "<style type=\"text/css\">\n",
       "#T_d540a_ table {\n",
       "  text-align: left;\n",
       "}\n",
       "#T_d540a_ thead {\n",
       "  text-align: left;\n",
       "}\n",
       "#T_d540a_ tbody {\n",
       "  text-align: left;\n",
       "}\n",
       "#T_d540a_ th {\n",
       "  text-align: left;\n",
       "}\n",
       "#T_d540a_ td {\n",
       "  text-align: left;\n",
       "}\n",
       "</style>\n",
       "<table id=\"T_d540a_\">\n",
       "  <thead>\n",
       "    <tr>\n",
       "      <th class=\"blank level0\" >&nbsp;</th>\n",
       "      <th class=\"col_heading level0 col0\" >my_label</th>\n",
       "      <th class=\"col_heading level0 col1\" >col1</th>\n",
       "      <th class=\"col_heading level0 col2\" >col2</th>\n",
       "    </tr>\n",
       "  </thead>\n",
       "  <tbody>\n",
       "    <tr>\n",
       "      <th id=\"T_d540a_level0_row0\" class=\"row_heading level0 row0\" >0</th>\n",
       "      <td id=\"T_d540a_row0_col0\" class=\"data row0 col0\" >[3, 4, 5]</td>\n",
       "      <td id=\"T_d540a_row0_col1\" class=\"data row0 col1\" >2</td>\n",
       "      <td id=\"T_d540a_row0_col2\" class=\"data row0 col2\" >2</td>\n",
       "    </tr>\n",
       "    <tr>\n",
       "      <th id=\"T_d540a_level0_row1\" class=\"row_heading level0 row1\" >1</th>\n",
       "      <td id=\"T_d540a_row1_col0\" class=\"data row1 col0\" >[2, 4]</td>\n",
       "      <td id=\"T_d540a_row1_col1\" class=\"data row1 col1\" >1</td>\n",
       "      <td id=\"T_d540a_row1_col2\" class=\"data row1 col2\" >1</td>\n",
       "    </tr>\n",
       "  </tbody>\n",
       "</table>\n"
      ]
     },
     "metadata": {},
     "output_type": "display_data"
    }
   ],
   "source": [
    "LabelAmbiguity().run(dataset)"
   ]
  },
  {
   "cell_type": "code",
   "execution_count": 4,
   "id": "b01ae6c9",
   "metadata": {
    "execution": {
     "iopub.execute_input": "2021-12-29T00:54:09.432445Z",
     "iopub.status.busy": "2021-12-29T00:54:09.419533Z",
     "iopub.status.idle": "2021-12-29T00:54:09.438127Z",
     "shell.execute_reply": "2021-12-29T00:54:09.438533Z"
    }
   },
   "outputs": [
    {
     "data": {
      "text/html": [
       "<h4>Label Ambiguity</h4>"
      ]
     },
     "metadata": {},
     "output_type": "display_data"
    },
    {
     "data": {
      "text/html": [
       "<p>Find samples with multiple labels.</p>"
      ]
     },
     "metadata": {},
     "output_type": "display_data"
    },
    {
     "data": {
      "text/html": [
       "<style type=\"text/css\">\n",
       "#T_67465_ table {\n",
       "  text-align: left;\n",
       "}\n",
       "#T_67465_ thead {\n",
       "  text-align: left;\n",
       "}\n",
       "#T_67465_ tbody {\n",
       "  text-align: left;\n",
       "}\n",
       "#T_67465_ th {\n",
       "  text-align: left;\n",
       "}\n",
       "#T_67465_ td {\n",
       "  text-align: left;\n",
       "}\n",
       "</style>\n",
       "<table id=\"T_67465_\">\n",
       "  <thead>\n",
       "    <tr>\n",
       "      <th class=\"blank level0\" >&nbsp;</th>\n",
       "      <th class=\"col_heading level0 col0\" >my_label</th>\n",
       "      <th class=\"col_heading level0 col1\" >col1</th>\n",
       "      <th class=\"col_heading level0 col2\" >col2</th>\n",
       "    </tr>\n",
       "  </thead>\n",
       "  <tbody>\n",
       "    <tr>\n",
       "      <th id=\"T_67465_level0_row0\" class=\"row_heading level0 row0\" >0</th>\n",
       "      <td id=\"T_67465_row0_col0\" class=\"data row0 col0\" >[3, 4, 5]</td>\n",
       "      <td id=\"T_67465_row0_col1\" class=\"data row0 col1\" >2</td>\n",
       "      <td id=\"T_67465_row0_col2\" class=\"data row0 col2\" >2</td>\n",
       "    </tr>\n",
       "  </tbody>\n",
       "</table>\n"
      ]
     },
     "metadata": {},
     "output_type": "display_data"
    }
   ],
   "source": [
    "LabelAmbiguity(n_to_show=1).run(dataset)"
   ]
  },
  {
   "cell_type": "code",
   "execution_count": 5,
   "id": "7b794ad8",
   "metadata": {
    "execution": {
     "iopub.execute_input": "2021-12-29T00:54:09.454437Z",
     "iopub.status.busy": "2021-12-29T00:54:09.443647Z",
     "iopub.status.idle": "2021-12-29T00:54:09.459431Z",
     "shell.execute_reply": "2021-12-29T00:54:09.459863Z"
    }
   },
   "outputs": [
    {
     "data": {
      "text/html": [
       "<h4>Label Ambiguity</h4>"
      ]
     },
     "metadata": {},
     "output_type": "display_data"
    },
    {
     "data": {
      "text/html": [
       "<p>Find samples with multiple labels.</p>"
      ]
     },
     "metadata": {},
     "output_type": "display_data"
    },
    {
     "data": {
      "text/html": [
       "<style type=\"text/css\">\n",
       "#T_9fb33_ table {\n",
       "  text-align: left;\n",
       "}\n",
       "#T_9fb33_ thead {\n",
       "  text-align: left;\n",
       "}\n",
       "#T_9fb33_ tbody {\n",
       "  text-align: left;\n",
       "}\n",
       "#T_9fb33_ th {\n",
       "  text-align: left;\n",
       "}\n",
       "#T_9fb33_ td {\n",
       "  text-align: left;\n",
       "}\n",
       "</style>\n",
       "<table id=\"T_9fb33_\">\n",
       "  <thead>\n",
       "    <tr>\n",
       "      <th class=\"blank level0\" >&nbsp;</th>\n",
       "      <th class=\"col_heading level0 col0\" >my_label</th>\n",
       "      <th class=\"col_heading level0 col1\" >col1</th>\n",
       "    </tr>\n",
       "  </thead>\n",
       "  <tbody>\n",
       "    <tr>\n",
       "      <th id=\"T_9fb33_level0_row0\" class=\"row_heading level0 row0\" >0</th>\n",
       "      <td id=\"T_9fb33_row0_col0\" class=\"data row0 col0\" >[2, 4, 6]</td>\n",
       "      <td id=\"T_9fb33_row0_col1\" class=\"data row0 col1\" >1</td>\n",
       "    </tr>\n",
       "    <tr>\n",
       "      <th id=\"T_9fb33_level0_row1\" class=\"row_heading level0 row1\" >1</th>\n",
       "      <td id=\"T_9fb33_row1_col0\" class=\"data row1 col0\" >[3, 4, 5]</td>\n",
       "      <td id=\"T_9fb33_row1_col1\" class=\"data row1 col1\" >2</td>\n",
       "    </tr>\n",
       "  </tbody>\n",
       "</table>\n"
      ]
     },
     "metadata": {},
     "output_type": "display_data"
    }
   ],
   "source": [
    "LabelAmbiguity(columns=['col1', 'my_label']).run(dataset)"
   ]
  },
  {
   "cell_type": "code",
   "execution_count": 6,
   "id": "fb372269",
   "metadata": {
    "execution": {
     "iopub.execute_input": "2021-12-29T00:54:09.467553Z",
     "iopub.status.busy": "2021-12-29T00:54:09.466189Z",
     "iopub.status.idle": "2021-12-29T00:54:09.468120Z",
     "shell.execute_reply": "2021-12-29T00:54:09.468675Z"
    }
   },
   "outputs": [],
   "source": [
    "clean_dataset = Dataset(pd.DataFrame({\"col1\":[1,2,1,2,1,2,1,2,1,2],\n",
    "                                      \"col2\":[1,2,1,2,5,2,5,2,3,2],\n",
    "                                      \"my_label\":[2,3,2,3,4,3,4,3,6,3]}),\n",
    "             label_name=\"my_label\")\n"
   ]
  },
  {
   "cell_type": "code",
   "execution_count": 7,
   "id": "aa5f06ee",
   "metadata": {
    "execution": {
     "iopub.execute_input": "2021-12-29T00:54:09.480507Z",
     "iopub.status.busy": "2021-12-29T00:54:09.479376Z",
     "iopub.status.idle": "2021-12-29T00:54:09.484387Z",
     "shell.execute_reply": "2021-12-29T00:54:09.483100Z"
    }
   },
   "outputs": [
    {
     "data": {
      "text/html": [
       "<h4>Label Ambiguity</h4>"
      ]
     },
     "metadata": {},
     "output_type": "display_data"
    },
    {
     "data": {
      "text/html": [
       "<p>Find samples with multiple labels.</p>"
      ]
     },
     "metadata": {},
     "output_type": "display_data"
    },
    {
     "data": {
      "text/html": [
       "<p><b>&#x2713;</b> Nothing found</p>"
      ]
     },
     "metadata": {},
     "output_type": "display_data"
    }
   ],
   "source": [
    "LabelAmbiguity().run(clean_dataset)"
   ]
  }
 ],
 "metadata": {
  "kernelspec": {
   "display_name": "Python 3 (ipykernel)",
   "language": "python",
   "name": "python3"
  },
  "language_info": {
   "codemirror_mode": {
    "name": "ipython",
    "version": 3
   },
   "file_extension": ".py",
   "mimetype": "text/x-python",
   "name": "python",
   "nbconvert_exporter": "python",
   "pygments_lexer": "ipython3",
   "version": "3.9.9"
  }
 },
 "nbformat": 4,
 "nbformat_minor": 5
}
