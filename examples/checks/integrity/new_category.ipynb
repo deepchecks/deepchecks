{
 "cells": [
  {
   "cell_type": "markdown",
   "id": "9fb912a1",
   "metadata": {},
   "source": [
    "# New Category "
   ]
  },
  {
   "cell_type": "code",
   "execution_count": 1,
   "id": "b6c42074",
   "metadata": {
    "execution": {
     "iopub.execute_input": "2022-01-02T00:58:21.433236Z",
     "iopub.status.busy": "2022-01-02T00:58:21.432517Z",
     "iopub.status.idle": "2022-01-02T00:58:23.500290Z",
     "shell.execute_reply": "2022-01-02T00:58:23.499609Z"
    }
   },
   "outputs": [],
   "source": [
    "from deepchecks.checks.integrity.new_category import CategoryMismatchTrainTest\n",
    "from deepchecks.base import Dataset\n",
    "import pandas as pd"
   ]
  },
  {
   "cell_type": "code",
   "execution_count": 2,
   "id": "ee76ed5c",
   "metadata": {
    "execution": {
     "iopub.execute_input": "2022-01-02T00:58:23.507918Z",
     "iopub.status.busy": "2022-01-02T00:58:23.507283Z",
     "iopub.status.idle": "2022-01-02T00:58:23.511714Z",
     "shell.execute_reply": "2022-01-02T00:58:23.511149Z"
    }
   },
   "outputs": [],
   "source": [
    "train_data = {\"col1\": [\"somebody\", \"once\", \"told\", \"me\"] * 10}\n",
    "test_data = {\"col1\": [\"the\",\"world\",\"is\", \"gonna\", \"role\", \"me\",\"I\", \"I\"] * 10}\n",
    "train = Dataset(pd.DataFrame(data=train_data), cat_features=[\"col1\"])\n",
    "test = Dataset(pd.DataFrame(data=test_data), cat_features=[\"col1\"])"
   ]
  },
  {
   "cell_type": "code",
   "execution_count": 3,
   "id": "3171fe14",
   "metadata": {
    "execution": {
     "iopub.execute_input": "2022-01-02T00:58:23.523164Z",
     "iopub.status.busy": "2022-01-02T00:58:23.522395Z",
     "iopub.status.idle": "2022-01-02T00:58:23.530345Z",
     "shell.execute_reply": "2022-01-02T00:58:23.530889Z"
    }
   },
   "outputs": [
    {
     "data": {
      "text/html": [
       "<h4>Category Mismatch Train Test</h4>"
      ]
     },
     "metadata": {},
     "output_type": "display_data"
    },
    {
     "data": {
      "text/html": [
       "<p>Find new categories in the test set.</p>"
      ]
     },
     "metadata": {},
     "output_type": "display_data"
    },
    {
     "data": {
      "text/html": [
       "<style type=\"text/css\">\n",
       "#T_3c5c7_ table {\n",
       "  text-align: left;\n",
       "}\n",
       "#T_3c5c7_ thead {\n",
       "  text-align: left;\n",
       "}\n",
       "#T_3c5c7_ tbody {\n",
       "  text-align: left;\n",
       "}\n",
       "#T_3c5c7_ th {\n",
       "  text-align: left;\n",
       "}\n",
       "#T_3c5c7_ td {\n",
       "  text-align: left;\n",
       "}\n",
       "</style>\n",
       "<table id=\"T_3c5c7_\">\n",
       "  <thead>\n",
       "    <tr>\n",
       "      <th class=\"blank level0\" >&nbsp;</th>\n",
       "      <th class=\"col_heading level0 col0\" >Number of new categories</th>\n",
       "      <th class=\"col_heading level0 col1\" >Percent of new categories in sample</th>\n",
       "      <th class=\"col_heading level0 col2\" >New categories examples</th>\n",
       "    </tr>\n",
       "    <tr>\n",
       "      <th class=\"index_name level0\" >Column</th>\n",
       "      <th class=\"blank col0\" >&nbsp;</th>\n",
       "      <th class=\"blank col1\" >&nbsp;</th>\n",
       "      <th class=\"blank col2\" >&nbsp;</th>\n",
       "    </tr>\n",
       "  </thead>\n",
       "  <tbody>\n",
       "    <tr>\n",
       "      <th id=\"T_3c5c7_level0_row0\" class=\"row_heading level0 row0\" >col1</th>\n",
       "      <td id=\"T_3c5c7_row0_col0\" class=\"data row0 col0\" >6</td>\n",
       "      <td id=\"T_3c5c7_row0_col1\" class=\"data row0 col1\" >87.50%</td>\n",
       "      <td id=\"T_3c5c7_row0_col2\" class=\"data row0 col2\" >['I', 'gonna', 'is', 'role', 'the']</td>\n",
       "    </tr>\n",
       "  </tbody>\n",
       "</table>\n"
      ]
     },
     "metadata": {},
     "output_type": "display_data"
    }
   ],
   "source": [
    "CategoryMismatchTrainTest().run(train, test)"
   ]
  },
  {
   "cell_type": "code",
   "execution_count": 4,
   "id": "7536f60c",
   "metadata": {
    "execution": {
     "iopub.execute_input": "2022-01-02T00:58:23.538970Z",
     "iopub.status.busy": "2022-01-02T00:58:23.537375Z",
     "iopub.status.idle": "2022-01-02T00:58:23.539822Z",
     "shell.execute_reply": "2022-01-02T00:58:23.540381Z"
    }
   },
   "outputs": [],
   "source": [
    "train_data = {\"col1\": [\"a\", \"b\", \"a\", \"c\"] * 10, \"col2\": ['a','b','b','q']*10}\n",
    "test_data = {\"col1\": [\"a\",\"b\",\"d\"] * 10, \"col2\": ['a', '2', '1']*10}\n",
    "train = Dataset(pd.DataFrame(data=train_data), cat_features=[\"col1\",\"col2\"])\n",
    "test = Dataset(pd.DataFrame(data=test_data), cat_features=[\"col1\", \"col2\"])"
   ]
  },
  {
   "cell_type": "code",
   "execution_count": 5,
   "id": "b81bc4a1",
   "metadata": {
    "execution": {
     "iopub.execute_input": "2022-01-02T00:58:23.550846Z",
     "iopub.status.busy": "2022-01-02T00:58:23.547303Z",
     "iopub.status.idle": "2022-01-02T00:58:23.561863Z",
     "shell.execute_reply": "2022-01-02T00:58:23.561205Z"
    }
   },
   "outputs": [
    {
     "data": {
      "text/html": [
       "<h4>Category Mismatch Train Test</h4>"
      ]
     },
     "metadata": {},
     "output_type": "display_data"
    },
    {
     "data": {
      "text/html": [
       "<p>Find new categories in the test set.</p>"
      ]
     },
     "metadata": {},
     "output_type": "display_data"
    },
    {
     "data": {
      "text/html": [
       "<style type=\"text/css\">\n",
       "#T_62ed5_ table {\n",
       "  text-align: left;\n",
       "}\n",
       "#T_62ed5_ thead {\n",
       "  text-align: left;\n",
       "}\n",
       "#T_62ed5_ tbody {\n",
       "  text-align: left;\n",
       "}\n",
       "#T_62ed5_ th {\n",
       "  text-align: left;\n",
       "}\n",
       "#T_62ed5_ td {\n",
       "  text-align: left;\n",
       "}\n",
       "</style>\n",
       "<table id=\"T_62ed5_\">\n",
       "  <thead>\n",
       "    <tr>\n",
       "      <th class=\"blank level0\" >&nbsp;</th>\n",
       "      <th class=\"col_heading level0 col0\" >Number of new categories</th>\n",
       "      <th class=\"col_heading level0 col1\" >Percent of new categories in sample</th>\n",
       "      <th class=\"col_heading level0 col2\" >New categories examples</th>\n",
       "    </tr>\n",
       "    <tr>\n",
       "      <th class=\"index_name level0\" >Column</th>\n",
       "      <th class=\"blank col0\" >&nbsp;</th>\n",
       "      <th class=\"blank col1\" >&nbsp;</th>\n",
       "      <th class=\"blank col2\" >&nbsp;</th>\n",
       "    </tr>\n",
       "  </thead>\n",
       "  <tbody>\n",
       "    <tr>\n",
       "      <th id=\"T_62ed5_level0_row0\" class=\"row_heading level0 row0\" >col1</th>\n",
       "      <td id=\"T_62ed5_row0_col0\" class=\"data row0 col0\" >1</td>\n",
       "      <td id=\"T_62ed5_row0_col1\" class=\"data row0 col1\" >33.33%</td>\n",
       "      <td id=\"T_62ed5_row0_col2\" class=\"data row0 col2\" >['d']</td>\n",
       "    </tr>\n",
       "    <tr>\n",
       "      <th id=\"T_62ed5_level0_row1\" class=\"row_heading level0 row1\" >col2</th>\n",
       "      <td id=\"T_62ed5_row1_col0\" class=\"data row1 col0\" >2</td>\n",
       "      <td id=\"T_62ed5_row1_col1\" class=\"data row1 col1\" >66.67%</td>\n",
       "      <td id=\"T_62ed5_row1_col2\" class=\"data row1 col2\" >['1', '2']</td>\n",
       "    </tr>\n",
       "  </tbody>\n",
       "</table>\n"
      ]
     },
     "metadata": {},
     "output_type": "display_data"
    }
   ],
   "source": [
    "CategoryMismatchTrainTest().run(train, test)"
   ]
  }
 ],
 "metadata": {
  "kernelspec": {
   "display_name": "Python 3 (ipykernel)",
   "language": "python",
   "name": "python3"
  },
  "language_info": {
   "codemirror_mode": {
    "name": "ipython",
    "version": 3
   },
   "file_extension": ".py",
   "mimetype": "text/x-python",
   "name": "python",
   "nbconvert_exporter": "python",
   "pygments_lexer": "ipython3",
   "version": "3.9.9"
  }
 },
 "nbformat": 4,
 "nbformat_minor": 5
}
