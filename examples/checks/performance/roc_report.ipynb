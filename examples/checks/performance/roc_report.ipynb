{
 "cells": [
  {
   "cell_type": "markdown",
   "id": "28869016",
   "metadata": {},
   "source": [
    "# ROC Report "
   ]
  },
  {
   "cell_type": "markdown",
   "id": "fff890cb-3c9b-462e-a5e2-b6a0ea89ea95",
   "metadata": {},
   "source": [
    "## Imports"
   ]
  },
  {
   "cell_type": "code",
   "execution_count": 1,
   "id": "bc53a3b6-ec0b-4727-bdb2-29ed385d30d9",
   "metadata": {
    "execution": {
     "iopub.execute_input": "2022-01-03T00:57:26.635073Z",
     "iopub.status.busy": "2022-01-03T00:57:26.634538Z",
     "iopub.status.idle": "2022-01-03T00:57:28.241700Z",
     "shell.execute_reply": "2022-01-03T00:57:28.240743Z"
    }
   },
   "outputs": [],
   "source": [
    "from deepchecks.base import Dataset\n",
    "from sklearn.linear_model import LogisticRegression\n",
    "from sklearn.datasets import load_iris\n",
    "from sklearn.model_selection import train_test_split\n",
    "from deepchecks.checks.performance import RocReport\n",
    "import pandas as pd\n",
    "import warnings\n",
    "\n",
    "def custom_formatwarning(msg, *args, **kwargs):\n",
    "    # ignore everything except the message\n",
    "    return str(msg) + '\\n'\n",
    "\n",
    "warnings.formatwarning = custom_formatwarning"
   ]
  },
  {
   "cell_type": "markdown",
   "id": "8c726ea7-fdff-409d-8643-daefd302b66f",
   "metadata": {},
   "source": [
    "## Generating data:"
   ]
  },
  {
   "cell_type": "code",
   "execution_count": 2,
   "id": "3a258442-b7e5-49bb-98a5-f1b503b38d7a",
   "metadata": {
    "execution": {
     "iopub.execute_input": "2022-01-03T00:57:28.247398Z",
     "iopub.status.busy": "2022-01-03T00:57:28.246517Z",
     "iopub.status.idle": "2022-01-03T00:57:28.260513Z",
     "shell.execute_reply": "2022-01-03T00:57:28.260959Z"
    }
   },
   "outputs": [
    {
     "name": "stderr",
     "output_type": "stream",
     "text": [
      "lbfgs failed to converge (status=1):\n",
      "STOP: TOTAL NO. of ITERATIONS REACHED LIMIT.\n",
      "\n",
      "Increase the number of iterations (max_iter) or scale the data as shown in:\n",
      "    https://scikit-learn.org/stable/modules/preprocessing.html\n",
      "Please also refer to the documentation for alternative solver options:\n",
      "    https://scikit-learn.org/stable/modules/linear_model.html#logistic-regression\n"
     ]
    }
   ],
   "source": [
    "iris = load_iris(as_frame=True)\n",
    "clf = LogisticRegression(max_iter=1)\n",
    "frame = iris.frame\n",
    "X = iris.data\n",
    "y = iris.target\n",
    "X_train, X_test, y_train, y_test = train_test_split(X, y, test_size=0.5, random_state=55)\n",
    "clf.fit(X_train, y_train)\n",
    "ds = Dataset(pd.concat([X_test, y_test], axis=1), \n",
    "            features=iris.feature_names,\n",
    "            label_name='target')"
   ]
  },
  {
   "cell_type": "markdown",
   "id": "e679c050-b7c3-4c77-8b5b-2f01c2726e71",
   "metadata": {},
   "source": [
    "## Running roc_report check:"
   ]
  },
  {
   "cell_type": "code",
   "execution_count": 3,
   "id": "b253a703-83a6-49a4-b701-2bcbcd339bba",
   "metadata": {
    "execution": {
     "iopub.execute_input": "2022-01-03T00:57:28.264332Z",
     "iopub.status.busy": "2022-01-03T00:57:28.263852Z",
     "iopub.status.idle": "2022-01-03T00:57:28.266560Z",
     "shell.execute_reply": "2022-01-03T00:57:28.266926Z"
    }
   },
   "outputs": [],
   "source": [
    "check = RocReport()"
   ]
  },
  {
   "cell_type": "code",
   "execution_count": 4,
   "id": "bdd52a29-2612-4dbc-8507-31250b9feadc",
   "metadata": {
    "execution": {
     "iopub.execute_input": "2022-01-03T00:57:28.272328Z",
     "iopub.status.busy": "2022-01-03T00:57:28.271852Z",
     "iopub.status.idle": "2022-01-03T00:57:28.456795Z",
     "shell.execute_reply": "2022-01-03T00:57:28.455961Z"
    }
   },
   "outputs": [
    {
     "data": {
      "text/html": [
       "<h4>ROC Report</h4>"
      ]
     },
     "metadata": {},
     "output_type": "display_data"
    },
    {
     "data": {
      "text/html": [
       "<p>Calculate the AUC (Area Under Curve) for each class.</p>"
      ]
     },
     "metadata": {},
     "output_type": "display_data"
    },
    {
     "data": {
      "image/png": "[encoded data removed]",
      "text/plain": [
       "<Figure size 432x288 with 1 Axes>"
      ]
     },
     "metadata": {
      "needs_background": "light"
     },
     "output_type": "display_data"
    }
   ],
   "source": [
    "check.run(ds, clf)"
   ]
  }
 ],
 "metadata": {
  "kernelspec": {
   "display_name": "Python 3 (ipykernel)",
   "language": "python",
   "name": "python3"
  },
  "language_info": {
   "codemirror_mode": {
    "name": "ipython",
    "version": 3
   },
   "file_extension": ".py",
   "mimetype": "text/x-python",
   "name": "python",
   "nbconvert_exporter": "python",
   "pygments_lexer": "ipython3",
   "version": "3.9.9"
  }
 },
 "nbformat": 4,
 "nbformat_minor": 5
}
