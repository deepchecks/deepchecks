{
 "cells": [
  {
   "cell_type": "markdown",
   "metadata": {},
   "source": [
    "# Class Performance "
   ]
  },
  {
   "cell_type": "code",
   "execution_count": 1,
   "metadata": {
    "execution": {
     "iopub.execute_input": "2021-12-26T01:00:10.268730Z",
     "iopub.status.busy": "2021-12-26T01:00:10.268091Z",
     "iopub.status.idle": "2021-12-26T01:00:12.076818Z",
     "shell.execute_reply": "2021-12-26T01:00:12.077416Z"
    }
   },
   "outputs": [],
   "source": [
    "from sklearn.ensemble import AdaBoostClassifier\n",
    "from sklearn.datasets import load_iris\n",
    "from sklearn.model_selection import train_test_split\n",
    "from sklearn.metrics import precision_score, make_scorer\n",
    "\n",
    "from deepchecks.checks import ClassPerformance\n",
    "from deepchecks.base import Dataset\n"
   ]
  },
  {
   "cell_type": "code",
   "execution_count": 2,
   "metadata": {
    "execution": {
     "iopub.execute_input": "2021-12-26T01:00:12.083303Z",
     "iopub.status.busy": "2021-12-26T01:00:12.082284Z",
     "iopub.status.idle": "2021-12-26T01:00:12.156683Z",
     "shell.execute_reply": "2021-12-26T01:00:12.155774Z"
    }
   },
   "outputs": [],
   "source": [
    "iris = load_iris(as_frame=True)\n",
    "train, test = train_test_split(iris.frame, test_size=0.33, random_state=42)\n",
    "\n",
    "train_ds = Dataset(train, label_name=\"target\")\n",
    "test_ds = Dataset(test, label_name=\"target\")\n",
    "\n",
    "clf = AdaBoostClassifier().fit(train_ds.features_columns, train_ds.label_col)"
   ]
  },
  {
   "cell_type": "code",
   "execution_count": 3,
   "metadata": {
    "execution": {
     "iopub.execute_input": "2021-12-26T01:00:12.171481Z",
     "iopub.status.busy": "2021-12-26T01:00:12.161580Z",
     "iopub.status.idle": "2021-12-26T01:00:12.383345Z",
     "shell.execute_reply": "2021-12-26T01:00:12.383861Z"
    }
   },
   "outputs": [
    {
     "data": {
      "text/html": [
       "<h4>Class Performance</h4>"
      ]
     },
     "metadata": {},
     "output_type": "display_data"
    },
    {
     "data": {
      "text/html": [
       "<p>Visualize performance per class - aiding detection of class imbalance.</p>"
      ]
     },
     "metadata": {},
     "output_type": "display_data"
    },
    {
     "data": {
      "image/png": "[encoded data removed]",
      "text/plain": [
       "<Figure size 432x288 with 1 Axes>"
      ]
     },
     "metadata": {
      "needs_background": "light"
     },
     "output_type": "display_data"
    }
   ],
   "source": [
    "check = ClassPerformance()\n",
    "check.run(test_ds, clf)"
   ]
  },
  {
   "cell_type": "markdown",
   "metadata": {},
   "source": [
    "## Initializing check instance with custom metrics"
   ]
  },
  {
   "cell_type": "code",
   "execution_count": 4,
   "metadata": {
    "execution": {
     "iopub.execute_input": "2021-12-26T01:00:12.410197Z",
     "iopub.status.busy": "2021-12-26T01:00:12.409614Z",
     "iopub.status.idle": "2021-12-26T01:00:12.532246Z",
     "shell.execute_reply": "2021-12-26T01:00:12.532734Z"
    }
   },
   "outputs": [
    {
     "data": {
      "text/html": [
       "<h4>Class Performance</h4>"
      ]
     },
     "metadata": {},
     "output_type": "display_data"
    },
    {
     "data": {
      "text/html": [
       "<p>Visualize performance per class - aiding detection of class imbalance.</p>"
      ]
     },
     "metadata": {},
     "output_type": "display_data"
    },
    {
     "data": {
      "image/png": "[encoded data removed]",
      "text/plain": [
       "<Figure size 432x288 with 1 Axes>"
      ]
     },
     "metadata": {
      "needs_background": "light"
     },
     "output_type": "display_data"
    }
   ],
   "source": [
    "scorers = {\n",
    "    \"precision\": make_scorer(precision_score, average=None, zero_division=0),\n",
    "}\n",
    "\n",
    "check = ClassPerformance(alternative_scorers=scorers)\n",
    "check.run(test_ds, clf)"
   ]
  }
 ],
 "metadata": {
  "interpreter": {
   "hash": "84907e5c832b0f30997d577d5af975f753923a883501768793aa42b5515ede32"
  },
  "kernelspec": {
   "display_name": "Python 3 (ipykernel)",
   "language": "python",
   "name": "python3"
  },
  "language_info": {
   "codemirror_mode": {
    "name": "ipython",
    "version": 3
   },
   "file_extension": ".py",
   "mimetype": "text/x-python",
   "name": "python",
   "nbconvert_exporter": "python",
   "pygments_lexer": "ipython3",
   "version": "3.9.9"
  }
 },
 "nbformat": 4,
 "nbformat_minor": 2
}
