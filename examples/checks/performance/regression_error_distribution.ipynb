{
 "cells": [
  {
   "cell_type": "markdown",
   "id": "91dc16d6",
   "metadata": {},
   "source": [
    "# Regression Error Distribution "
   ]
  },
  {
   "cell_type": "markdown",
   "id": "fff890cb-3c9b-462e-a5e2-b6a0ea89ea95",
   "metadata": {},
   "source": [
    "## Imports"
   ]
  },
  {
   "cell_type": "code",
   "execution_count": 1,
   "id": "bc53a3b6-ec0b-4727-bdb2-29ed385d30d9",
   "metadata": {
    "execution": {
     "iopub.execute_input": "2021-12-23T11:46:49.742837Z",
     "iopub.status.busy": "2021-12-23T11:46:49.742067Z",
     "iopub.status.idle": "2021-12-23T11:46:51.710241Z",
     "shell.execute_reply": "2021-12-23T11:46:51.709627Z"
    }
   },
   "outputs": [],
   "source": [
    "from deepchecks.base import Dataset\n",
    "from sklearn.ensemble import GradientBoostingRegressor\n",
    "from sklearn.datasets import load_diabetes\n",
    "from sklearn.model_selection import train_test_split\n",
    "from deepchecks.checks.performance import RegressionErrorDistribution"
   ]
  },
  {
   "cell_type": "markdown",
   "id": "8c726ea7-fdff-409d-8643-daefd302b66f",
   "metadata": {},
   "source": [
    "## Generating data:"
   ]
  },
  {
   "cell_type": "code",
   "execution_count": 2,
   "id": "3a258442-b7e5-49bb-98a5-f1b503b38d7a",
   "metadata": {
    "execution": {
     "iopub.execute_input": "2021-12-23T11:46:51.717502Z",
     "iopub.status.busy": "2021-12-23T11:46:51.715171Z",
     "iopub.status.idle": "2021-12-23T11:46:51.826413Z",
     "shell.execute_reply": "2021-12-23T11:46:51.825884Z"
    }
   },
   "outputs": [],
   "source": [
    "diabetes_df = load_diabetes(return_X_y=False, as_frame=True).frame\n",
    "train_df, test_df = train_test_split(diabetes_df, test_size=0.33, random_state=42)\n",
    "\n",
    "train = Dataset(train_df, label_name='target', cat_features=['sex'])\n",
    "test = Dataset(test_df, label_name='target', cat_features=['sex'])\n",
    "\n",
    "clf = GradientBoostingRegressor(random_state=0)\n",
    "_ = clf.fit(train.features_columns, train.label_col)"
   ]
  },
  {
   "cell_type": "markdown",
   "id": "e679c050-b7c3-4c77-8b5b-2f01c2726e71",
   "metadata": {},
   "source": [
    "## Running RegressionErrorDistribution check (normal distribution):"
   ]
  },
  {
   "cell_type": "code",
   "execution_count": 3,
   "id": "b253a703-83a6-49a4-b701-2bcbcd339bba",
   "metadata": {
    "execution": {
     "iopub.execute_input": "2021-12-23T11:46:51.832582Z",
     "iopub.status.busy": "2021-12-23T11:46:51.830897Z",
     "iopub.status.idle": "2021-12-23T11:46:51.833342Z",
     "shell.execute_reply": "2021-12-23T11:46:51.833911Z"
    }
   },
   "outputs": [],
   "source": [
    "check = RegressionErrorDistribution()"
   ]
  },
  {
   "cell_type": "code",
   "execution_count": 4,
   "id": "bdd52a29-2612-4dbc-8507-31250b9feadc",
   "metadata": {
    "execution": {
     "iopub.execute_input": "2021-12-23T11:46:51.845641Z",
     "iopub.status.busy": "2021-12-23T11:46:51.845043Z",
     "iopub.status.idle": "2021-12-23T11:46:52.078948Z",
     "shell.execute_reply": "2021-12-23T11:46:52.078091Z"
    }
   },
   "outputs": [
    {
     "data": {
      "text/html": [
       "<h4>Regression Error Distribution</h4>"
      ]
     },
     "metadata": {},
     "output_type": "display_data"
    },
    {
     "data": {
      "text/html": [
       "<p>Check regresstion error distribution.</p>"
      ]
     },
     "metadata": {},
     "output_type": "display_data"
    },
    {
     "data": {
      "application/vnd.plotly.v1+json": {
       "config": {
        "plotlyServerURL": "https://plot.ly"
       },
       "data": [
        {
         "alignmentgroup": "True",
         "bingroup": "x",
         "hovertemplate": "target prediction error=%{x}<br>count=%{y}<extra></extra>",
         "legendgroup": "",
         "marker": {
          "color": "#636efa",
          "pattern": {
           "shape": ""
          }
         },
         "name": "",
         "nbinsx": 40,
         "offsetgroup": "",
         "orientation": "v",
         "showlegend": false,
         "type": "histogram",
         "x": [
          25.75942295510322,
          -117.56681564076646,
          57.24869481709564,
          -39.176195386949075,
          -6.647268985288093,
          -103.65857828770294,
          -15.073147936274836,
          94.2087144228964,
          -31.780606552922663,
          -35.13031778106671,
          -1.016097693810167,
          42.681584349425975,
          10.62061709682068,
          56.022395731755125,
          37.94989373784112,
          -39.333518234581376,
          94.70769573448135,
          1.3169539275191369,
          -46.750305493994176,
          54.56373369742312,
          126.37154409749331,
          -38.010511753452505,
          66.46471874826676,
          29.065782220141784,
          -20.66756948464311,
          -84.18404497319762,
          53.724345101140756,
          -97.2950500159815,
          -13.047514466165339,
          1.2837735351168504,
          -76.97438875313648,
          -7.1932351823610645,
          -57.28862460403661,
          -38.329840250373906,
          30.00496368741281,
          59.67444164910202,
          -65.5911684929955,
          -22.233024050340546,
          8.329939843983396,
          -10.202469367594475,
          -13.629235306723913,
          12.628694348727407,
          -44.649927617782936,
          -21.090604802664046,
          -81.2884043600973,
          -17.290456662830948,
          114.5223408903538,
          -19.037746147926512,
          17.235795548447726,
          89.51502995033206,
          25.654737452890785,
          84.22711905330254,
          -75.94363803206852,
          -37.523304939633064,
          -48.51767048490194,
          -30.65288708396811,
          -24.68814910076135,
          -63.475228710000295,
          72.56524698281208,
          -34.525740086966024,
          -91.6847968899412,
          -147.97212003946026,
          93.25110253968509,
          16.20946162398576,
          106.43677461411684,
          25.338579223743835,
          -12.40302440732816,
          -83.27513978901823,
          -18.64414508652891,
          73.26389305786498,
          -79.74188185287798,
          11.734396437727526,
          65.51545305946829,
          -42.42436125957154,
          14.24867623152366,
          -116.46370635675018,
          -4.722437730537564,
          35.989848717892556,
          48.31400105333512,
          -11.114341626560929,
          -25.174170677234088,
          73.3863984693841,
          28.8086126552015,
          5.5735418869616495,
          81.53496148157558,
          33.472246138094306,
          -41.605028694374994,
          -6.96324315366887,
          15.71753694054101,
          -80.42149490965545,
          26.594447427117075,
          70.02391642007521,
          26.04441555884219,
          -23.092768973137368,
          -7.812944784601754,
          92.08229507233051,
          20.407958315434996,
          5.311983474795056,
          -23.821782489509985,
          12.925025125271645,
          -42.29338155831286,
          -20.04208036280886,
          -25.708643317979977,
          -7.710495208601671,
          44.26647877692233,
          -38.326487141926464,
          -61.692407934237224,
          -50.64800720923415,
          92.28517072174205,
          -171.71904199107536,
          -9.94927516795424,
          -18.931770116413304,
          -27.552756527675683,
          -3.811420926898137,
          39.6343236871156,
          -8.825731006426992,
          -37.67730800123891,
          -35.954083872809974,
          -32.3855606291432,
          65.01955433084728,
          -52.04663099680127,
          15.882095008177544,
          27.135678268057816,
          79.88574966271247,
          45.837658163420954,
          105.64757301058236,
          17.786575825519492,
          -8.364413535848769,
          77.84020382241039,
          26.045717389825867,
          -120.44998751013748,
          4.0941248955862335,
          -28.343382498388053,
          -30.211540049782514,
          43.521901478101626,
          8.560707681978727,
          -44.127355969462144,
          141.41109520616453,
          -25.563087691986794,
          10.434841128574789,
          -16.93389836821261,
          -65.54334643949059,
          77.22066526231873,
          -45.18580146440962,
          113.37186709993591,
          41.21129033225293
         ],
         "xaxis": "x",
         "yaxis": "y"
        }
       ],
       "layout": {
        "barmode": "relative",
        "height": 500,
        "legend": {
         "tracegroupgap": 0
        },
        "template": {
         "data": {
          "bar": [
           {
            "error_x": {
             "color": "#2a3f5f"
            },
            "error_y": {
             "color": "#2a3f5f"
            },
            "marker": {
             "line": {
              "color": "#E5ECF6",
              "width": 0.5
             },
             "pattern": {
              "fillmode": "overlay",
              "size": 10,
              "solidity": 0.2
             }
            },
            "type": "bar"
           }
          ],
          "barpolar": [
           {
            "marker": {
             "line": {
              "color": "#E5ECF6",
              "width": 0.5
             },
             "pattern": {
              "fillmode": "overlay",
              "size": 10,
              "solidity": 0.2
             }
            },
            "type": "barpolar"
           }
          ],
          "carpet": [
           {
            "aaxis": {
             "endlinecolor": "#2a3f5f",
             "gridcolor": "white",
             "linecolor": "white",
             "minorgridcolor": "white",
             "startlinecolor": "#2a3f5f"
            },
            "baxis": {
             "endlinecolor": "#2a3f5f",
             "gridcolor": "white",
             "linecolor": "white",
             "minorgridcolor": "white",
             "startlinecolor": "#2a3f5f"
            },
            "type": "carpet"
           }
          ],
          "choropleth": [
           {
            "colorbar": {
             "outlinewidth": 0,
             "ticks": ""
            },
            "type": "choropleth"
           }
          ],
          "contour": [
           {
            "colorbar": {
             "outlinewidth": 0,
             "ticks": ""
            },
            "colorscale": [
             [
              0,
              "#0d0887"
             ],
             [
              0.1111111111111111,
              "#46039f"
             ],
             [
              0.2222222222222222,
              "#7201a8"
             ],
             [
              0.3333333333333333,
              "#9c179e"
             ],
             [
              0.4444444444444444,
              "#bd3786"
             ],
             [
              0.5555555555555556,
              "#d8576b"
             ],
             [
              0.6666666666666666,
              "#ed7953"
             ],
             [
              0.7777777777777778,
              "#fb9f3a"
             ],
             [
              0.8888888888888888,
              "#fdca26"
             ],
             [
              1,
              "#f0f921"
             ]
            ],
            "type": "contour"
           }
          ],
          "contourcarpet": [
           {
            "colorbar": {
             "outlinewidth": 0,
             "ticks": ""
            },
            "type": "contourcarpet"
           }
          ],
          "heatmap": [
           {
            "colorbar": {
             "outlinewidth": 0,
             "ticks": ""
            },
            "colorscale": [
             [
              0,
              "#0d0887"
             ],
             [
              0.1111111111111111,
              "#46039f"
             ],
             [
              0.2222222222222222,
              "#7201a8"
             ],
             [
              0.3333333333333333,
              "#9c179e"
             ],
             [
              0.4444444444444444,
              "#bd3786"
             ],
             [
              0.5555555555555556,
              "#d8576b"
             ],
             [
              0.6666666666666666,
              "#ed7953"
             ],
             [
              0.7777777777777778,
              "#fb9f3a"
             ],
             [
              0.8888888888888888,
              "#fdca26"
             ],
             [
              1,
              "#f0f921"
             ]
            ],
            "type": "heatmap"
           }
          ],
          "heatmapgl": [
           {
            "colorbar": {
             "outlinewidth": 0,
             "ticks": ""
            },
            "colorscale": [
             [
              0,
              "#0d0887"
             ],
             [
              0.1111111111111111,
              "#46039f"
             ],
             [
              0.2222222222222222,
              "#7201a8"
             ],
             [
              0.3333333333333333,
              "#9c179e"
             ],
             [
              0.4444444444444444,
              "#bd3786"
             ],
             [
              0.5555555555555556,
              "#d8576b"
             ],
             [
              0.6666666666666666,
              "#ed7953"
             ],
             [
              0.7777777777777778,
              "#fb9f3a"
             ],
             [
              0.8888888888888888,
              "#fdca26"
             ],
             [
              1,
              "#f0f921"
             ]
            ],
            "type": "heatmapgl"
           }
          ],
          "histogram": [
           {
            "marker": {
             "pattern": {
              "fillmode": "overlay",
              "size": 10,
              "solidity": 0.2
             }
            },
            "type": "histogram"
           }
          ],
          "histogram2d": [
           {
            "colorbar": {
             "outlinewidth": 0,
             "ticks": ""
            },
            "colorscale": [
             [
              0,
              "#0d0887"
             ],
             [
              0.1111111111111111,
              "#46039f"
             ],
             [
              0.2222222222222222,
              "#7201a8"
             ],
             [
              0.3333333333333333,
              "#9c179e"
             ],
             [
              0.4444444444444444,
              "#bd3786"
             ],
             [
              0.5555555555555556,
              "#d8576b"
             ],
             [
              0.6666666666666666,
              "#ed7953"
             ],
             [
              0.7777777777777778,
              "#fb9f3a"
             ],
             [
              0.8888888888888888,
              "#fdca26"
             ],
             [
              1,
              "#f0f921"
             ]
            ],
            "type": "histogram2d"
           }
          ],
          "histogram2dcontour": [
           {
            "colorbar": {
             "outlinewidth": 0,
             "ticks": ""
            },
            "colorscale": [
             [
              0,
              "#0d0887"
             ],
             [
              0.1111111111111111,
              "#46039f"
             ],
             [
              0.2222222222222222,
              "#7201a8"
             ],
             [
              0.3333333333333333,
              "#9c179e"
             ],
             [
              0.4444444444444444,
              "#bd3786"
             ],
             [
              0.5555555555555556,
              "#d8576b"
             ],
             [
              0.6666666666666666,
              "#ed7953"
             ],
             [
              0.7777777777777778,
              "#fb9f3a"
             ],
             [
              0.8888888888888888,
              "#fdca26"
             ],
             [
              1,
              "#f0f921"
             ]
            ],
            "type": "histogram2dcontour"
           }
          ],
          "mesh3d": [
           {
            "colorbar": {
             "outlinewidth": 0,
             "ticks": ""
            },
            "type": "mesh3d"
           }
          ],
          "parcoords": [
           {
            "line": {
             "colorbar": {
              "outlinewidth": 0,
              "ticks": ""
             }
            },
            "type": "parcoords"
           }
          ],
          "pie": [
           {
            "automargin": true,
            "type": "pie"
           }
          ],
          "scatter": [
           {
            "marker": {
             "colorbar": {
              "outlinewidth": 0,
              "ticks": ""
             }
            },
            "type": "scatter"
           }
          ],
          "scatter3d": [
           {
            "line": {
             "colorbar": {
              "outlinewidth": 0,
              "ticks": ""
             }
            },
            "marker": {
             "colorbar": {
              "outlinewidth": 0,
              "ticks": ""
             }
            },
            "type": "scatter3d"
           }
          ],
          "scattercarpet": [
           {
            "marker": {
             "colorbar": {
              "outlinewidth": 0,
              "ticks": ""
             }
            },
            "type": "scattercarpet"
           }
          ],
          "scattergeo": [
           {
            "marker": {
             "colorbar": {
              "outlinewidth": 0,
              "ticks": ""
             }
            },
            "type": "scattergeo"
           }
          ],
          "scattergl": [
           {
            "marker": {
             "colorbar": {
              "outlinewidth": 0,
              "ticks": ""
             }
            },
            "type": "scattergl"
           }
          ],
          "scattermapbox": [
           {
            "marker": {
             "colorbar": {
              "outlinewidth": 0,
              "ticks": ""
             }
            },
            "type": "scattermapbox"
           }
          ],
          "scatterpolar": [
           {
            "marker": {
             "colorbar": {
              "outlinewidth": 0,
              "ticks": ""
             }
            },
            "type": "scatterpolar"
           }
          ],
          "scatterpolargl": [
           {
            "marker": {
             "colorbar": {
              "outlinewidth": 0,
              "ticks": ""
             }
            },
            "type": "scatterpolargl"
           }
          ],
          "scatterternary": [
           {
            "marker": {
             "colorbar": {
              "outlinewidth": 0,
              "ticks": ""
             }
            },
            "type": "scatterternary"
           }
          ],
          "surface": [
           {
            "colorbar": {
             "outlinewidth": 0,
             "ticks": ""
            },
            "colorscale": [
             [
              0,
              "#0d0887"
             ],
             [
              0.1111111111111111,
              "#46039f"
             ],
             [
              0.2222222222222222,
              "#7201a8"
             ],
             [
              0.3333333333333333,
              "#9c179e"
             ],
             [
              0.4444444444444444,
              "#bd3786"
             ],
             [
              0.5555555555555556,
              "#d8576b"
             ],
             [
              0.6666666666666666,
              "#ed7953"
             ],
             [
              0.7777777777777778,
              "#fb9f3a"
             ],
             [
              0.8888888888888888,
              "#fdca26"
             ],
             [
              1,
              "#f0f921"
             ]
            ],
            "type": "surface"
           }
          ],
          "table": [
           {
            "cells": {
             "fill": {
              "color": "#EBF0F8"
             },
             "line": {
              "color": "white"
             }
            },
            "header": {
             "fill": {
              "color": "#C8D4E3"
             },
             "line": {
              "color": "white"
             }
            },
            "type": "table"
           }
          ]
         },
         "layout": {
          "annotationdefaults": {
           "arrowcolor": "#2a3f5f",
           "arrowhead": 0,
           "arrowwidth": 1
          },
          "autotypenumbers": "strict",
          "coloraxis": {
           "colorbar": {
            "outlinewidth": 0,
            "ticks": ""
           }
          },
          "colorscale": {
           "diverging": [
            [
             0,
             "#8e0152"
            ],
            [
             0.1,
             "#c51b7d"
            ],
            [
             0.2,
             "#de77ae"
            ],
            [
             0.3,
             "#f1b6da"
            ],
            [
             0.4,
             "#fde0ef"
            ],
            [
             0.5,
             "#f7f7f7"
            ],
            [
             0.6,
             "#e6f5d0"
            ],
            [
             0.7,
             "#b8e186"
            ],
            [
             0.8,
             "#7fbc41"
            ],
            [
             0.9,
             "#4d9221"
            ],
            [
             1,
             "#276419"
            ]
           ],
           "sequential": [
            [
             0,
             "#0d0887"
            ],
            [
             0.1111111111111111,
             "#46039f"
            ],
            [
             0.2222222222222222,
             "#7201a8"
            ],
            [
             0.3333333333333333,
             "#9c179e"
            ],
            [
             0.4444444444444444,
             "#bd3786"
            ],
            [
             0.5555555555555556,
             "#d8576b"
            ],
            [
             0.6666666666666666,
             "#ed7953"
            ],
            [
             0.7777777777777778,
             "#fb9f3a"
            ],
            [
             0.8888888888888888,
             "#fdca26"
            ],
            [
             1,
             "#f0f921"
            ]
           ],
           "sequentialminus": [
            [
             0,
             "#0d0887"
            ],
            [
             0.1111111111111111,
             "#46039f"
            ],
            [
             0.2222222222222222,
             "#7201a8"
            ],
            [
             0.3333333333333333,
             "#9c179e"
            ],
            [
             0.4444444444444444,
             "#bd3786"
            ],
            [
             0.5555555555555556,
             "#d8576b"
            ],
            [
             0.6666666666666666,
             "#ed7953"
            ],
            [
             0.7777777777777778,
             "#fb9f3a"
            ],
            [
             0.8888888888888888,
             "#fdca26"
            ],
            [
             1,
             "#f0f921"
            ]
           ]
          },
          "colorway": [
           "#636efa",
           "#EF553B",
           "#00cc96",
           "#ab63fa",
           "#FFA15A",
           "#19d3f3",
           "#FF6692",
           "#B6E880",
           "#FF97FF",
           "#FECB52"
          ],
          "font": {
           "color": "#2a3f5f"
          },
          "geo": {
           "bgcolor": "white",
           "lakecolor": "white",
           "landcolor": "#E5ECF6",
           "showlakes": true,
           "showland": true,
           "subunitcolor": "white"
          },
          "hoverlabel": {
           "align": "left"
          },
          "hovermode": "closest",
          "mapbox": {
           "style": "light"
          },
          "paper_bgcolor": "white",
          "plot_bgcolor": "#E5ECF6",
          "polar": {
           "angularaxis": {
            "gridcolor": "white",
            "linecolor": "white",
            "ticks": ""
           },
           "bgcolor": "#E5ECF6",
           "radialaxis": {
            "gridcolor": "white",
            "linecolor": "white",
            "ticks": ""
           }
          },
          "scene": {
           "xaxis": {
            "backgroundcolor": "#E5ECF6",
            "gridcolor": "white",
            "gridwidth": 2,
            "linecolor": "white",
            "showbackground": true,
            "ticks": "",
            "zerolinecolor": "white"
           },
           "yaxis": {
            "backgroundcolor": "#E5ECF6",
            "gridcolor": "white",
            "gridwidth": 2,
            "linecolor": "white",
            "showbackground": true,
            "ticks": "",
            "zerolinecolor": "white"
           },
           "zaxis": {
            "backgroundcolor": "#E5ECF6",
            "gridcolor": "white",
            "gridwidth": 2,
            "linecolor": "white",
            "showbackground": true,
            "ticks": "",
            "zerolinecolor": "white"
           }
          },
          "shapedefaults": {
           "line": {
            "color": "#2a3f5f"
           }
          },
          "ternary": {
           "aaxis": {
            "gridcolor": "white",
            "linecolor": "white",
            "ticks": ""
           },
           "baxis": {
            "gridcolor": "white",
            "linecolor": "white",
            "ticks": ""
           },
           "bgcolor": "#E5ECF6",
           "caxis": {
            "gridcolor": "white",
            "linecolor": "white",
            "ticks": ""
           }
          },
          "title": {
           "x": 0.05
          },
          "xaxis": {
           "automargin": true,
           "gridcolor": "white",
           "linecolor": "white",
           "ticks": "",
           "title": {
            "standoff": 15
           },
           "zerolinecolor": "white",
           "zerolinewidth": 2
          },
          "yaxis": {
           "automargin": true,
           "gridcolor": "white",
           "linecolor": "white",
           "ticks": "",
           "title": {
            "standoff": 15
           },
           "zerolinecolor": "white",
           "zerolinewidth": 2
          }
         }
        },
        "title": {
         "text": "Histogram of prediction errors"
        },
        "width": 700,
        "xaxis": {
         "anchor": "y",
         "domain": [
          0,
          1
         ],
         "title": {
          "text": "target prediction error"
         }
        },
        "yaxis": {
         "anchor": "x",
         "domain": [
          0,
          1
         ],
         "title": {
          "text": "count"
         }
        }
       }
      }
     },
     "metadata": {},
     "output_type": "display_data"
    },
    {
     "data": {
      "text/html": [
       "Largest over estimation errors:"
      ]
     },
     "metadata": {},
     "output_type": "display_data"
    },
    {
     "data": {
      "text/html": [
       "<style type=\"text/css\">\n",
       "#T_01bb2_ table {\n",
       "  text-align: left;\n",
       "}\n",
       "#T_01bb2_ thead {\n",
       "  text-align: left;\n",
       "}\n",
       "#T_01bb2_ tbody {\n",
       "  text-align: left;\n",
       "}\n",
       "#T_01bb2_ th {\n",
       "  text-align: left;\n",
       "}\n",
       "#T_01bb2_ td {\n",
       "  text-align: left;\n",
       "}\n",
       "</style>\n",
       "<table id=\"T_01bb2_\">\n",
       "  <thead>\n",
       "    <tr>\n",
       "      <th class=\"blank level0\" >&nbsp;</th>\n",
       "      <th class=\"col_heading level0 col0\" >age</th>\n",
       "      <th class=\"col_heading level0 col1\" >sex</th>\n",
       "      <th class=\"col_heading level0 col2\" >bmi</th>\n",
       "      <th class=\"col_heading level0 col3\" >bp</th>\n",
       "      <th class=\"col_heading level0 col4\" >s1</th>\n",
       "      <th class=\"col_heading level0 col5\" >s2</th>\n",
       "      <th class=\"col_heading level0 col6\" >s3</th>\n",
       "      <th class=\"col_heading level0 col7\" >s4</th>\n",
       "      <th class=\"col_heading level0 col8\" >s5</th>\n",
       "      <th class=\"col_heading level0 col9\" >s6</th>\n",
       "      <th class=\"col_heading level0 col10\" >target</th>\n",
       "      <th class=\"col_heading level0 col11\" >target Prediction Difference</th>\n",
       "    </tr>\n",
       "  </thead>\n",
       "  <tbody>\n",
       "    <tr>\n",
       "      <th id=\"T_01bb2_level0_row0\" class=\"row_heading level0 row0\" >364</th>\n",
       "      <td id=\"T_01bb2_row0_col0\" class=\"data row0 col0\" >0.00</td>\n",
       "      <td id=\"T_01bb2_row0_col1\" class=\"data row0 col1\" >0.05</td>\n",
       "      <td id=\"T_01bb2_row0_col2\" class=\"data row0 col2\" >-0.01</td>\n",
       "      <td id=\"T_01bb2_row0_col3\" class=\"data row0 col3\" >-0.02</td>\n",
       "      <td id=\"T_01bb2_row0_col4\" class=\"data row0 col4\" >-0.01</td>\n",
       "      <td id=\"T_01bb2_row0_col5\" class=\"data row0 col5\" >0.00</td>\n",
       "      <td id=\"T_01bb2_row0_col6\" class=\"data row0 col6\" >-0.04</td>\n",
       "      <td id=\"T_01bb2_row0_col7\" class=\"data row0 col7\" >0.03</td>\n",
       "      <td id=\"T_01bb2_row0_col8\" class=\"data row0 col8\" >0.01</td>\n",
       "      <td id=\"T_01bb2_row0_col9\" class=\"data row0 col9\" >0.10</td>\n",
       "      <td id=\"T_01bb2_row0_col10\" class=\"data row0 col10\" >262.00</td>\n",
       "      <td id=\"T_01bb2_row0_col11\" class=\"data row0 col11\" >141.41</td>\n",
       "    </tr>\n",
       "    <tr>\n",
       "      <th id=\"T_01bb2_level0_row1\" class=\"row_heading level0 row1\" >9</th>\n",
       "      <td id=\"T_01bb2_row1_col0\" class=\"data row1 col0\" >-0.07</td>\n",
       "      <td id=\"T_01bb2_row1_col1\" class=\"data row1 col1\" >-0.04</td>\n",
       "      <td id=\"T_01bb2_row1_col2\" class=\"data row1 col2\" >0.04</td>\n",
       "      <td id=\"T_01bb2_row1_col3\" class=\"data row1 col3\" >-0.03</td>\n",
       "      <td id=\"T_01bb2_row1_col4\" class=\"data row1 col4\" >-0.01</td>\n",
       "      <td id=\"T_01bb2_row1_col5\" class=\"data row1 col5\" >-0.03</td>\n",
       "      <td id=\"T_01bb2_row1_col6\" class=\"data row1 col6\" >-0.02</td>\n",
       "      <td id=\"T_01bb2_row1_col7\" class=\"data row1 col7\" >-0.00</td>\n",
       "      <td id=\"T_01bb2_row1_col8\" class=\"data row1 col8\" >0.07</td>\n",
       "      <td id=\"T_01bb2_row1_col9\" class=\"data row1 col9\" >-0.01</td>\n",
       "      <td id=\"T_01bb2_row1_col10\" class=\"data row1 col10\" >310.00</td>\n",
       "      <td id=\"T_01bb2_row1_col11\" class=\"data row1 col11\" >126.37</td>\n",
       "    </tr>\n",
       "    <tr>\n",
       "      <th id=\"T_01bb2_level0_row2\" class=\"row_heading level0 row2\" >77</th>\n",
       "      <td id=\"T_01bb2_row2_col0\" class=\"data row2 col0\" >-0.10</td>\n",
       "      <td id=\"T_01bb2_row2_col1\" class=\"data row2 col1\" >-0.04</td>\n",
       "      <td id=\"T_01bb2_row2_col2\" class=\"data row2 col2\" >-0.04</td>\n",
       "      <td id=\"T_01bb2_row2_col3\" class=\"data row2 col3\" >-0.07</td>\n",
       "      <td id=\"T_01bb2_row2_col4\" class=\"data row2 col4\" >-0.04</td>\n",
       "      <td id=\"T_01bb2_row2_col5\" class=\"data row2 col5\" >-0.03</td>\n",
       "      <td id=\"T_01bb2_row2_col6\" class=\"data row2 col6\" >0.02</td>\n",
       "      <td id=\"T_01bb2_row2_col7\" class=\"data row2 col7\" >-0.04</td>\n",
       "      <td id=\"T_01bb2_row2_col8\" class=\"data row2 col8\" >-0.07</td>\n",
       "      <td id=\"T_01bb2_row2_col9\" class=\"data row2 col9\" >-0.00</td>\n",
       "      <td id=\"T_01bb2_row2_col10\" class=\"data row2 col10\" >200.00</td>\n",
       "      <td id=\"T_01bb2_row2_col11\" class=\"data row2 col11\" >114.52</td>\n",
       "    </tr>\n",
       "  </tbody>\n",
       "</table>\n"
      ]
     },
     "metadata": {},
     "output_type": "display_data"
    },
    {
     "data": {
      "text/html": [
       "Largest under estimation errors:"
      ]
     },
     "metadata": {},
     "output_type": "display_data"
    },
    {
     "data": {
      "text/html": [
       "<style type=\"text/css\">\n",
       "#T_5eabe_ table {\n",
       "  text-align: left;\n",
       "}\n",
       "#T_5eabe_ thead {\n",
       "  text-align: left;\n",
       "}\n",
       "#T_5eabe_ tbody {\n",
       "  text-align: left;\n",
       "}\n",
       "#T_5eabe_ th {\n",
       "  text-align: left;\n",
       "}\n",
       "#T_5eabe_ td {\n",
       "  text-align: left;\n",
       "}\n",
       "</style>\n",
       "<table id=\"T_5eabe_\">\n",
       "  <thead>\n",
       "    <tr>\n",
       "      <th class=\"blank level0\" >&nbsp;</th>\n",
       "      <th class=\"col_heading level0 col0\" >age</th>\n",
       "      <th class=\"col_heading level0 col1\" >sex</th>\n",
       "      <th class=\"col_heading level0 col2\" >bmi</th>\n",
       "      <th class=\"col_heading level0 col3\" >bp</th>\n",
       "      <th class=\"col_heading level0 col4\" >s1</th>\n",
       "      <th class=\"col_heading level0 col5\" >s2</th>\n",
       "      <th class=\"col_heading level0 col6\" >s3</th>\n",
       "      <th class=\"col_heading level0 col7\" >s4</th>\n",
       "      <th class=\"col_heading level0 col8\" >s5</th>\n",
       "      <th class=\"col_heading level0 col9\" >s6</th>\n",
       "      <th class=\"col_heading level0 col10\" >target</th>\n",
       "      <th class=\"col_heading level0 col11\" >target Prediction Difference</th>\n",
       "    </tr>\n",
       "  </thead>\n",
       "  <tbody>\n",
       "    <tr>\n",
       "      <th id=\"T_5eabe_level0_row0\" class=\"row_heading level0 row0\" >380</th>\n",
       "      <td id=\"T_5eabe_row0_col0\" class=\"data row0 col0\" >0.02</td>\n",
       "      <td id=\"T_5eabe_row0_col1\" class=\"data row0 col1\" >-0.04</td>\n",
       "      <td id=\"T_5eabe_row0_col2\" class=\"data row0 col2\" >0.03</td>\n",
       "      <td id=\"T_5eabe_row0_col3\" class=\"data row0 col3\" >0.06</td>\n",
       "      <td id=\"T_5eabe_row0_col4\" class=\"data row0 col4\" >-0.06</td>\n",
       "      <td id=\"T_5eabe_row0_col5\" class=\"data row0 col5\" >-0.04</td>\n",
       "      <td id=\"T_5eabe_row0_col6\" class=\"data row0 col6\" >-0.01</td>\n",
       "      <td id=\"T_5eabe_row0_col7\" class=\"data row0 col7\" >-0.03</td>\n",
       "      <td id=\"T_5eabe_row0_col8\" class=\"data row0 col8\" >-0.05</td>\n",
       "      <td id=\"T_5eabe_row0_col9\" class=\"data row0 col9\" >-0.03</td>\n",
       "      <td id=\"T_5eabe_row0_col10\" class=\"data row0 col10\" >52.00</td>\n",
       "      <td id=\"T_5eabe_row0_col11\" class=\"data row0 col11\" >-171.72</td>\n",
       "    </tr>\n",
       "    <tr>\n",
       "      <th id=\"T_5eabe_level0_row1\" class=\"row_heading level0 row1\" >56</th>\n",
       "      <td id=\"T_5eabe_row1_col0\" class=\"data row1 col0\" >-0.04</td>\n",
       "      <td id=\"T_5eabe_row1_col1\" class=\"data row1 col1\" >-0.04</td>\n",
       "      <td id=\"T_5eabe_row1_col2\" class=\"data row1 col2\" >0.04</td>\n",
       "      <td id=\"T_5eabe_row1_col3\" class=\"data row1 col3\" >-0.03</td>\n",
       "      <td id=\"T_5eabe_row1_col4\" class=\"data row1 col4\" >-0.03</td>\n",
       "      <td id=\"T_5eabe_row1_col5\" class=\"data row1 col5\" >-0.03</td>\n",
       "      <td id=\"T_5eabe_row1_col6\" class=\"data row1 col6\" >-0.04</td>\n",
       "      <td id=\"T_5eabe_row1_col7\" class=\"data row1 col7\" >0.00</td>\n",
       "      <td id=\"T_5eabe_row1_col8\" class=\"data row1 col8\" >0.03</td>\n",
       "      <td id=\"T_5eabe_row1_col9\" class=\"data row1 col9\" >-0.02</td>\n",
       "      <td id=\"T_5eabe_row1_col10\" class=\"data row1 col10\" >52.00</td>\n",
       "      <td id=\"T_5eabe_row1_col11\" class=\"data row1 col11\" >-147.97</td>\n",
       "    </tr>\n",
       "    <tr>\n",
       "      <th id=\"T_5eabe_level0_row2\" class=\"row_heading level0 row2\" >7</th>\n",
       "      <td id=\"T_5eabe_row2_col0\" class=\"data row2 col0\" >0.06</td>\n",
       "      <td id=\"T_5eabe_row2_col1\" class=\"data row2 col1\" >0.05</td>\n",
       "      <td id=\"T_5eabe_row2_col2\" class=\"data row2 col2\" >-0.00</td>\n",
       "      <td id=\"T_5eabe_row2_col3\" class=\"data row2 col3\" >0.07</td>\n",
       "      <td id=\"T_5eabe_row2_col4\" class=\"data row2 col4\" >0.09</td>\n",
       "      <td id=\"T_5eabe_row2_col5\" class=\"data row2 col5\" >0.11</td>\n",
       "      <td id=\"T_5eabe_row2_col6\" class=\"data row2 col6\" >0.02</td>\n",
       "      <td id=\"T_5eabe_row2_col7\" class=\"data row2 col7\" >0.02</td>\n",
       "      <td id=\"T_5eabe_row2_col8\" class=\"data row2 col8\" >-0.04</td>\n",
       "      <td id=\"T_5eabe_row2_col9\" class=\"data row2 col9\" >0.00</td>\n",
       "      <td id=\"T_5eabe_row2_col10\" class=\"data row2 col10\" >63.00</td>\n",
       "      <td id=\"T_5eabe_row2_col11\" class=\"data row2 col11\" >-120.45</td>\n",
       "    </tr>\n",
       "  </tbody>\n",
       "</table>\n"
      ]
     },
     "metadata": {},
     "output_type": "display_data"
    }
   ],
   "source": [
    "check.run(test, clf)"
   ]
  },
  {
   "cell_type": "markdown",
   "id": "38c92a75-1089-4c88-b532-cf90971798ab",
   "metadata": {},
   "source": [
    "#Skewing the data:"
   ]
  },
  {
   "cell_type": "code",
   "execution_count": 5,
   "id": "afef0bd2-f265-4d4b-b749-67ebbf77e4a7",
   "metadata": {
    "execution": {
     "iopub.execute_input": "2021-12-23T11:46:52.083720Z",
     "iopub.status.busy": "2021-12-23T11:46:52.083191Z",
     "iopub.status.idle": "2021-12-23T11:46:52.087281Z",
     "shell.execute_reply": "2021-12-23T11:46:52.086737Z"
    }
   },
   "outputs": [],
   "source": [
    "test.data[test.label_name] = 150"
   ]
  },
  {
   "cell_type": "markdown",
   "id": "2d271c14-d67c-4976-8d5a-7c3320f4fd63",
   "metadata": {},
   "source": [
    "## Running RegressionErrorDistribution check (abnormal distribution):"
   ]
  },
  {
   "cell_type": "code",
   "execution_count": 6,
   "id": "4979f398-1795-4c18-85e0-88fedaf99aa5",
   "metadata": {
    "execution": {
     "iopub.execute_input": "2021-12-23T11:46:52.092015Z",
     "iopub.status.busy": "2021-12-23T11:46:52.091186Z",
     "iopub.status.idle": "2021-12-23T11:46:52.094546Z",
     "shell.execute_reply": "2021-12-23T11:46:52.095021Z"
    }
   },
   "outputs": [],
   "source": [
    "check = RegressionErrorDistribution()"
   ]
  },
  {
   "cell_type": "code",
   "execution_count": 7,
   "id": "fa4ee32d-e486-458f-bbe2-424814a333ca",
   "metadata": {
    "execution": {
     "iopub.execute_input": "2021-12-23T11:46:52.100962Z",
     "iopub.status.busy": "2021-12-23T11:46:52.097402Z",
     "iopub.status.idle": "2021-12-23T11:46:52.375298Z",
     "shell.execute_reply": "2021-12-23T11:46:52.374342Z"
    },
    "tags": []
   },
   "outputs": [
    {
     "data": {
      "text/html": [
       "<h4>Regression Error Distribution</h4>"
      ]
     },
     "metadata": {},
     "output_type": "display_data"
    },
    {
     "data": {
      "text/html": [
       "<p>Check regresstion error distribution.</p>"
      ]
     },
     "metadata": {},
     "output_type": "display_data"
    },
    {
     "data": {
      "application/vnd.plotly.v1+json": {
       "config": {
        "plotlyServerURL": "https://plot.ly"
       },
       "data": [
        {
         "alignmentgroup": "True",
         "bingroup": "x",
         "hovertemplate": "target prediction error=%{x}<br>count=%{y}<extra></extra>",
         "legendgroup": "",
         "marker": {
          "color": "#636efa",
          "pattern": {
           "shape": ""
          }
         },
         "name": "",
         "nbinsx": 40,
         "offsetgroup": "",
         "orientation": "v",
         "showlegend": false,
         "type": "histogram",
         "x": [
          -43.24057704489678,
          -37.566815640766464,
          5.24869481709564,
          -119.17619538694908,
          32.35273101471191,
          -37.65857828770294,
          -107.07314793627484,
          -27.791285577103594,
          24.219393447077337,
          18.869682218933292,
          54.98390230618983,
          -59.318415650574025,
          61.62061709682068,
          -90.97760426824487,
          52.94989373784112,
          43.666481765418624,
          -50.29230426551865,
          -112.68304607248086,
          -66.75030549399418,
          -70.43626630257688,
          -33.62845590250669,
          47.989488246547495,
          88.46471874826676,
          -52.934217779858216,
          0.33243051535689006,
          -52.184044973197615,
          -59.275654898859244,
          -24.295050015981502,
          88.95248553383466,
          44.28377353511685,
          -66.97438875313648,
          29.806764817638935,
          2.711375395963387,
          -52.329840250373906,
          0.0049636874128111685,
          -23.32555835089798,
          42.40883150700451,
          43.766975949659454,
          -13.670060156016604,
          76.79753063240553,
          88.37076469327609,
          54.62869434872741,
          -50.649927617782936,
          -39.090604802664046,
          -21.288404360097303,
          80.70954333716905,
          64.5223408903538,
          43.96225385207349,
          77.23579554844773,
          -18.484970049667936,
          39.654737452890785,
          76.22711905330254,
          5.05636196793148,
          40.476695060366936,
          -69.51767048490194,
          24.34711291603189,
          53.31185089923865,
          -64.4752287100003,
          54.565246982812084,
          55.474259913033976,
          -63.6847968899412,
          -49.972120039460265,
          56.25110253968509,
          64.20946162398576,
          42.43677461411684,
          -72.66142077625616,
          -43.40302440732816,
          -43.275139789018226,
          -8.644145086528908,
          21.263893057864976,
          -30.74188185287798,
          -60.265603562272474,
          -65.48454694053171,
          46.57563874042846,
          75.24867623152366,
          -57.46370635675018,
          -40.722437730537564,
          -34.010151282107444,
          -38.68599894666488,
          -94.11434162656093,
          56.82582932276591,
          33.386398469384105,
          82.8086126552015,
          83.57354188696165,
          78.53496148157558,
          85.4722461380943,
          71.394971305625,
          80.03675684633113,
          -18.28246305945899,
          -74.42149490965545,
          26.594447427117075,
          -59.97608357992479,
          51.04441555884219,
          67.90723102686263,
          77.18705521539825,
          -38.91770492766949,
          -106.592041684565,
          -11.688016525204944,
          36.178217510490015,
          90.92502512527165,
          -70.29338155831286,
          41.95791963719114,
          -145.70864331797998,
          41.28950479139833,
          -2.7335212230776733,
          14.673512858073536,
          35.307592065762776,
          28.35199279076585,
          -19.71482927825795,
          -73.71904199107536,
          38.05072483204576,
          -34.931770116413304,
          -66.55275652767568,
          -26.811420926898137,
          -30.365676312884403,
          -64.82573100642699,
          15.322691998761087,
          54.045916127190026,
          56.6144393708568,
          -26.980445669152715,
          -23.04663099680127,
          37.882095008177544,
          73.13567826805782,
          -35.11425033728753,
          63.837658163420954,
          -27.352426989417637,
          -6.213424174480508,
          12.635586464151231,
          -29.159796177589612,
          39.04571738982587,
          -33.449987510137476,
          61.09412489558623,
          -110.34338249838805,
          -88.21154004978251,
          -67.47809852189837,
          -20.439292318021273,
          -152.12735596946214,
          29.411095206164518,
          73.4369123080132,
          -76.56515887142521,
          62.06610163178739,
          -54.54334643949059,
          -40.77933473768127,
          35.81419853559038,
          -53.62813290006409,
          -57.78870966774707
         ],
         "xaxis": "x",
         "yaxis": "y"
        }
       ],
       "layout": {
        "barmode": "relative",
        "height": 500,
        "legend": {
         "tracegroupgap": 0
        },
        "template": {
         "data": {
          "bar": [
           {
            "error_x": {
             "color": "#2a3f5f"
            },
            "error_y": {
             "color": "#2a3f5f"
            },
            "marker": {
             "line": {
              "color": "#E5ECF6",
              "width": 0.5
             },
             "pattern": {
              "fillmode": "overlay",
              "size": 10,
              "solidity": 0.2
             }
            },
            "type": "bar"
           }
          ],
          "barpolar": [
           {
            "marker": {
             "line": {
              "color": "#E5ECF6",
              "width": 0.5
             },
             "pattern": {
              "fillmode": "overlay",
              "size": 10,
              "solidity": 0.2
             }
            },
            "type": "barpolar"
           }
          ],
          "carpet": [
           {
            "aaxis": {
             "endlinecolor": "#2a3f5f",
             "gridcolor": "white",
             "linecolor": "white",
             "minorgridcolor": "white",
             "startlinecolor": "#2a3f5f"
            },
            "baxis": {
             "endlinecolor": "#2a3f5f",
             "gridcolor": "white",
             "linecolor": "white",
             "minorgridcolor": "white",
             "startlinecolor": "#2a3f5f"
            },
            "type": "carpet"
           }
          ],
          "choropleth": [
           {
            "colorbar": {
             "outlinewidth": 0,
             "ticks": ""
            },
            "type": "choropleth"
           }
          ],
          "contour": [
           {
            "colorbar": {
             "outlinewidth": 0,
             "ticks": ""
            },
            "colorscale": [
             [
              0,
              "#0d0887"
             ],
             [
              0.1111111111111111,
              "#46039f"
             ],
             [
              0.2222222222222222,
              "#7201a8"
             ],
             [
              0.3333333333333333,
              "#9c179e"
             ],
             [
              0.4444444444444444,
              "#bd3786"
             ],
             [
              0.5555555555555556,
              "#d8576b"
             ],
             [
              0.6666666666666666,
              "#ed7953"
             ],
             [
              0.7777777777777778,
              "#fb9f3a"
             ],
             [
              0.8888888888888888,
              "#fdca26"
             ],
             [
              1,
              "#f0f921"
             ]
            ],
            "type": "contour"
           }
          ],
          "contourcarpet": [
           {
            "colorbar": {
             "outlinewidth": 0,
             "ticks": ""
            },
            "type": "contourcarpet"
           }
          ],
          "heatmap": [
           {
            "colorbar": {
             "outlinewidth": 0,
             "ticks": ""
            },
            "colorscale": [
             [
              0,
              "#0d0887"
             ],
             [
              0.1111111111111111,
              "#46039f"
             ],
             [
              0.2222222222222222,
              "#7201a8"
             ],
             [
              0.3333333333333333,
              "#9c179e"
             ],
             [
              0.4444444444444444,
              "#bd3786"
             ],
             [
              0.5555555555555556,
              "#d8576b"
             ],
             [
              0.6666666666666666,
              "#ed7953"
             ],
             [
              0.7777777777777778,
              "#fb9f3a"
             ],
             [
              0.8888888888888888,
              "#fdca26"
             ],
             [
              1,
              "#f0f921"
             ]
            ],
            "type": "heatmap"
           }
          ],
          "heatmapgl": [
           {
            "colorbar": {
             "outlinewidth": 0,
             "ticks": ""
            },
            "colorscale": [
             [
              0,
              "#0d0887"
             ],
             [
              0.1111111111111111,
              "#46039f"
             ],
             [
              0.2222222222222222,
              "#7201a8"
             ],
             [
              0.3333333333333333,
              "#9c179e"
             ],
             [
              0.4444444444444444,
              "#bd3786"
             ],
             [
              0.5555555555555556,
              "#d8576b"
             ],
             [
              0.6666666666666666,
              "#ed7953"
             ],
             [
              0.7777777777777778,
              "#fb9f3a"
             ],
             [
              0.8888888888888888,
              "#fdca26"
             ],
             [
              1,
              "#f0f921"
             ]
            ],
            "type": "heatmapgl"
           }
          ],
          "histogram": [
           {
            "marker": {
             "pattern": {
              "fillmode": "overlay",
              "size": 10,
              "solidity": 0.2
             }
            },
            "type": "histogram"
           }
          ],
          "histogram2d": [
           {
            "colorbar": {
             "outlinewidth": 0,
             "ticks": ""
            },
            "colorscale": [
             [
              0,
              "#0d0887"
             ],
             [
              0.1111111111111111,
              "#46039f"
             ],
             [
              0.2222222222222222,
              "#7201a8"
             ],
             [
              0.3333333333333333,
              "#9c179e"
             ],
             [
              0.4444444444444444,
              "#bd3786"
             ],
             [
              0.5555555555555556,
              "#d8576b"
             ],
             [
              0.6666666666666666,
              "#ed7953"
             ],
             [
              0.7777777777777778,
              "#fb9f3a"
             ],
             [
              0.8888888888888888,
              "#fdca26"
             ],
             [
              1,
              "#f0f921"
             ]
            ],
            "type": "histogram2d"
           }
          ],
          "histogram2dcontour": [
           {
            "colorbar": {
             "outlinewidth": 0,
             "ticks": ""
            },
            "colorscale": [
             [
              0,
              "#0d0887"
             ],
             [
              0.1111111111111111,
              "#46039f"
             ],
             [
              0.2222222222222222,
              "#7201a8"
             ],
             [
              0.3333333333333333,
              "#9c179e"
             ],
             [
              0.4444444444444444,
              "#bd3786"
             ],
             [
              0.5555555555555556,
              "#d8576b"
             ],
             [
              0.6666666666666666,
              "#ed7953"
             ],
             [
              0.7777777777777778,
              "#fb9f3a"
             ],
             [
              0.8888888888888888,
              "#fdca26"
             ],
             [
              1,
              "#f0f921"
             ]
            ],
            "type": "histogram2dcontour"
           }
          ],
          "mesh3d": [
           {
            "colorbar": {
             "outlinewidth": 0,
             "ticks": ""
            },
            "type": "mesh3d"
           }
          ],
          "parcoords": [
           {
            "line": {
             "colorbar": {
              "outlinewidth": 0,
              "ticks": ""
             }
            },
            "type": "parcoords"
           }
          ],
          "pie": [
           {
            "automargin": true,
            "type": "pie"
           }
          ],
          "scatter": [
           {
            "marker": {
             "colorbar": {
              "outlinewidth": 0,
              "ticks": ""
             }
            },
            "type": "scatter"
           }
          ],
          "scatter3d": [
           {
            "line": {
             "colorbar": {
              "outlinewidth": 0,
              "ticks": ""
             }
            },
            "marker": {
             "colorbar": {
              "outlinewidth": 0,
              "ticks": ""
             }
            },
            "type": "scatter3d"
           }
          ],
          "scattercarpet": [
           {
            "marker": {
             "colorbar": {
              "outlinewidth": 0,
              "ticks": ""
             }
            },
            "type": "scattercarpet"
           }
          ],
          "scattergeo": [
           {
            "marker": {
             "colorbar": {
              "outlinewidth": 0,
              "ticks": ""
             }
            },
            "type": "scattergeo"
           }
          ],
          "scattergl": [
           {
            "marker": {
             "colorbar": {
              "outlinewidth": 0,
              "ticks": ""
             }
            },
            "type": "scattergl"
           }
          ],
          "scattermapbox": [
           {
            "marker": {
             "colorbar": {
              "outlinewidth": 0,
              "ticks": ""
             }
            },
            "type": "scattermapbox"
           }
          ],
          "scatterpolar": [
           {
            "marker": {
             "colorbar": {
              "outlinewidth": 0,
              "ticks": ""
             }
            },
            "type": "scatterpolar"
           }
          ],
          "scatterpolargl": [
           {
            "marker": {
             "colorbar": {
              "outlinewidth": 0,
              "ticks": ""
             }
            },
            "type": "scatterpolargl"
           }
          ],
          "scatterternary": [
           {
            "marker": {
             "colorbar": {
              "outlinewidth": 0,
              "ticks": ""
             }
            },
            "type": "scatterternary"
           }
          ],
          "surface": [
           {
            "colorbar": {
             "outlinewidth": 0,
             "ticks": ""
            },
            "colorscale": [
             [
              0,
              "#0d0887"
             ],
             [
              0.1111111111111111,
              "#46039f"
             ],
             [
              0.2222222222222222,
              "#7201a8"
             ],
             [
              0.3333333333333333,
              "#9c179e"
             ],
             [
              0.4444444444444444,
              "#bd3786"
             ],
             [
              0.5555555555555556,
              "#d8576b"
             ],
             [
              0.6666666666666666,
              "#ed7953"
             ],
             [
              0.7777777777777778,
              "#fb9f3a"
             ],
             [
              0.8888888888888888,
              "#fdca26"
             ],
             [
              1,
              "#f0f921"
             ]
            ],
            "type": "surface"
           }
          ],
          "table": [
           {
            "cells": {
             "fill": {
              "color": "#EBF0F8"
             },
             "line": {
              "color": "white"
             }
            },
            "header": {
             "fill": {
              "color": "#C8D4E3"
             },
             "line": {
              "color": "white"
             }
            },
            "type": "table"
           }
          ]
         },
         "layout": {
          "annotationdefaults": {
           "arrowcolor": "#2a3f5f",
           "arrowhead": 0,
           "arrowwidth": 1
          },
          "autotypenumbers": "strict",
          "coloraxis": {
           "colorbar": {
            "outlinewidth": 0,
            "ticks": ""
           }
          },
          "colorscale": {
           "diverging": [
            [
             0,
             "#8e0152"
            ],
            [
             0.1,
             "#c51b7d"
            ],
            [
             0.2,
             "#de77ae"
            ],
            [
             0.3,
             "#f1b6da"
            ],
            [
             0.4,
             "#fde0ef"
            ],
            [
             0.5,
             "#f7f7f7"
            ],
            [
             0.6,
             "#e6f5d0"
            ],
            [
             0.7,
             "#b8e186"
            ],
            [
             0.8,
             "#7fbc41"
            ],
            [
             0.9,
             "#4d9221"
            ],
            [
             1,
             "#276419"
            ]
           ],
           "sequential": [
            [
             0,
             "#0d0887"
            ],
            [
             0.1111111111111111,
             "#46039f"
            ],
            [
             0.2222222222222222,
             "#7201a8"
            ],
            [
             0.3333333333333333,
             "#9c179e"
            ],
            [
             0.4444444444444444,
             "#bd3786"
            ],
            [
             0.5555555555555556,
             "#d8576b"
            ],
            [
             0.6666666666666666,
             "#ed7953"
            ],
            [
             0.7777777777777778,
             "#fb9f3a"
            ],
            [
             0.8888888888888888,
             "#fdca26"
            ],
            [
             1,
             "#f0f921"
            ]
           ],
           "sequentialminus": [
            [
             0,
             "#0d0887"
            ],
            [
             0.1111111111111111,
             "#46039f"
            ],
            [
             0.2222222222222222,
             "#7201a8"
            ],
            [
             0.3333333333333333,
             "#9c179e"
            ],
            [
             0.4444444444444444,
             "#bd3786"
            ],
            [
             0.5555555555555556,
             "#d8576b"
            ],
            [
             0.6666666666666666,
             "#ed7953"
            ],
            [
             0.7777777777777778,
             "#fb9f3a"
            ],
            [
             0.8888888888888888,
             "#fdca26"
            ],
            [
             1,
             "#f0f921"
            ]
           ]
          },
          "colorway": [
           "#636efa",
           "#EF553B",
           "#00cc96",
           "#ab63fa",
           "#FFA15A",
           "#19d3f3",
           "#FF6692",
           "#B6E880",
           "#FF97FF",
           "#FECB52"
          ],
          "font": {
           "color": "#2a3f5f"
          },
          "geo": {
           "bgcolor": "white",
           "lakecolor": "white",
           "landcolor": "#E5ECF6",
           "showlakes": true,
           "showland": true,
           "subunitcolor": "white"
          },
          "hoverlabel": {
           "align": "left"
          },
          "hovermode": "closest",
          "mapbox": {
           "style": "light"
          },
          "paper_bgcolor": "white",
          "plot_bgcolor": "#E5ECF6",
          "polar": {
           "angularaxis": {
            "gridcolor": "white",
            "linecolor": "white",
            "ticks": ""
           },
           "bgcolor": "#E5ECF6",
           "radialaxis": {
            "gridcolor": "white",
            "linecolor": "white",
            "ticks": ""
           }
          },
          "scene": {
           "xaxis": {
            "backgroundcolor": "#E5ECF6",
            "gridcolor": "white",
            "gridwidth": 2,
            "linecolor": "white",
            "showbackground": true,
            "ticks": "",
            "zerolinecolor": "white"
           },
           "yaxis": {
            "backgroundcolor": "#E5ECF6",
            "gridcolor": "white",
            "gridwidth": 2,
            "linecolor": "white",
            "showbackground": true,
            "ticks": "",
            "zerolinecolor": "white"
           },
           "zaxis": {
            "backgroundcolor": "#E5ECF6",
            "gridcolor": "white",
            "gridwidth": 2,
            "linecolor": "white",
            "showbackground": true,
            "ticks": "",
            "zerolinecolor": "white"
           }
          },
          "shapedefaults": {
           "line": {
            "color": "#2a3f5f"
           }
          },
          "ternary": {
           "aaxis": {
            "gridcolor": "white",
            "linecolor": "white",
            "ticks": ""
           },
           "baxis": {
            "gridcolor": "white",
            "linecolor": "white",
            "ticks": ""
           },
           "bgcolor": "#E5ECF6",
           "caxis": {
            "gridcolor": "white",
            "linecolor": "white",
            "ticks": ""
           }
          },
          "title": {
           "x": 0.05
          },
          "xaxis": {
           "automargin": true,
           "gridcolor": "white",
           "linecolor": "white",
           "ticks": "",
           "title": {
            "standoff": 15
           },
           "zerolinecolor": "white",
           "zerolinewidth": 2
          },
          "yaxis": {
           "automargin": true,
           "gridcolor": "white",
           "linecolor": "white",
           "ticks": "",
           "title": {
            "standoff": 15
           },
           "zerolinecolor": "white",
           "zerolinewidth": 2
          }
         }
        },
        "title": {
         "text": "Histogram of prediction errors"
        },
        "width": 700,
        "xaxis": {
         "anchor": "y",
         "domain": [
          0,
          1
         ],
         "title": {
          "text": "target prediction error"
         }
        },
        "yaxis": {
         "anchor": "x",
         "domain": [
          0,
          1
         ],
         "title": {
          "text": "count"
         }
        }
       }
      }
     },
     "metadata": {},
     "output_type": "display_data"
    },
    {
     "data": {
      "text/html": [
       "Largest over estimation errors:"
      ]
     },
     "metadata": {},
     "output_type": "display_data"
    },
    {
     "data": {
      "text/html": [
       "<style type=\"text/css\">\n",
       "#T_918e1_ table {\n",
       "  text-align: left;\n",
       "}\n",
       "#T_918e1_ thead {\n",
       "  text-align: left;\n",
       "}\n",
       "#T_918e1_ tbody {\n",
       "  text-align: left;\n",
       "}\n",
       "#T_918e1_ th {\n",
       "  text-align: left;\n",
       "}\n",
       "#T_918e1_ td {\n",
       "  text-align: left;\n",
       "}\n",
       "</style>\n",
       "<table id=\"T_918e1_\">\n",
       "  <thead>\n",
       "    <tr>\n",
       "      <th class=\"blank level0\" >&nbsp;</th>\n",
       "      <th class=\"col_heading level0 col0\" >age</th>\n",
       "      <th class=\"col_heading level0 col1\" >sex</th>\n",
       "      <th class=\"col_heading level0 col2\" >bmi</th>\n",
       "      <th class=\"col_heading level0 col3\" >bp</th>\n",
       "      <th class=\"col_heading level0 col4\" >s1</th>\n",
       "      <th class=\"col_heading level0 col5\" >s2</th>\n",
       "      <th class=\"col_heading level0 col6\" >s3</th>\n",
       "      <th class=\"col_heading level0 col7\" >s4</th>\n",
       "      <th class=\"col_heading level0 col8\" >s5</th>\n",
       "      <th class=\"col_heading level0 col9\" >s6</th>\n",
       "      <th class=\"col_heading level0 col10\" >target</th>\n",
       "      <th class=\"col_heading level0 col11\" >target Prediction Difference</th>\n",
       "    </tr>\n",
       "  </thead>\n",
       "  <tbody>\n",
       "    <tr>\n",
       "      <th id=\"T_918e1_level0_row0\" class=\"row_heading level0 row0\" >237</th>\n",
       "      <td id=\"T_918e1_row0_col0\" class=\"data row0 col0\" >0.06</td>\n",
       "      <td id=\"T_918e1_row0_col1\" class=\"data row0 col1\" >-0.04</td>\n",
       "      <td id=\"T_918e1_row0_col2\" class=\"data row0 col2\" >-0.07</td>\n",
       "      <td id=\"T_918e1_row0_col3\" class=\"data row0 col3\" >-0.07</td>\n",
       "      <td id=\"T_918e1_row0_col4\" class=\"data row0 col4\" >-0.00</td>\n",
       "      <td id=\"T_918e1_row0_col5\" class=\"data row0 col5\" >-0.00</td>\n",
       "      <td id=\"T_918e1_row0_col6\" class=\"data row0 col6\" >0.04</td>\n",
       "      <td id=\"T_918e1_row0_col7\" class=\"data row0 col7\" >-0.04</td>\n",
       "      <td id=\"T_918e1_row0_col8\" class=\"data row0 col8\" >-0.05</td>\n",
       "      <td id=\"T_918e1_row0_col9\" class=\"data row0 col9\" >-0.00</td>\n",
       "      <td id=\"T_918e1_row0_col10\" class=\"data row0 col10\" >150</td>\n",
       "      <td id=\"T_918e1_row0_col11\" class=\"data row0 col11\" >90.93</td>\n",
       "    </tr>\n",
       "    <tr>\n",
       "      <th id=\"T_918e1_level0_row1\" class=\"row_heading level0 row1\" >436</th>\n",
       "      <td id=\"T_918e1_row1_col0\" class=\"data row1 col0\" >-0.06</td>\n",
       "      <td id=\"T_918e1_row1_col1\" class=\"data row1 col1\" >-0.04</td>\n",
       "      <td id=\"T_918e1_row1_col2\" class=\"data row1 col2\" >-0.07</td>\n",
       "      <td id=\"T_918e1_row1_col3\" class=\"data row1 col3\" >-0.05</td>\n",
       "      <td id=\"T_918e1_row1_col4\" class=\"data row1 col4\" >-0.02</td>\n",
       "      <td id=\"T_918e1_row1_col5\" class=\"data row1 col5\" >-0.05</td>\n",
       "      <td id=\"T_918e1_row1_col6\" class=\"data row1 col6\" >0.09</td>\n",
       "      <td id=\"T_918e1_row1_col7\" class=\"data row1 col7\" >-0.08</td>\n",
       "      <td id=\"T_918e1_row1_col8\" class=\"data row1 col8\" >-0.06</td>\n",
       "      <td id=\"T_918e1_row1_col9\" class=\"data row1 col9\" >-0.05</td>\n",
       "      <td id=\"T_918e1_row1_col10\" class=\"data row1 col10\" >150</td>\n",
       "      <td id=\"T_918e1_row1_col11\" class=\"data row1 col11\" >88.95</td>\n",
       "    </tr>\n",
       "    <tr>\n",
       "      <th id=\"T_918e1_level0_row2\" class=\"row_heading level0 row2\" >55</th>\n",
       "      <td id=\"T_918e1_row2_col0\" class=\"data row2 col0\" >-0.04</td>\n",
       "      <td id=\"T_918e1_row2_col1\" class=\"data row2 col1\" >-0.04</td>\n",
       "      <td id=\"T_918e1_row2_col2\" class=\"data row2 col2\" >-0.05</td>\n",
       "      <td id=\"T_918e1_row2_col3\" class=\"data row2 col3\" >-0.04</td>\n",
       "      <td id=\"T_918e1_row2_col4\" class=\"data row2 col4\" >-0.01</td>\n",
       "      <td id=\"T_918e1_row2_col5\" class=\"data row2 col5\" >-0.02</td>\n",
       "      <td id=\"T_918e1_row2_col6\" class=\"data row2 col6\" >0.09</td>\n",
       "      <td id=\"T_918e1_row2_col7\" class=\"data row2 col7\" >-0.04</td>\n",
       "      <td id=\"T_918e1_row2_col8\" class=\"data row2 col8\" >-0.07</td>\n",
       "      <td id=\"T_918e1_row2_col9\" class=\"data row2 col9\" >0.01</td>\n",
       "      <td id=\"T_918e1_row2_col10\" class=\"data row2 col10\" >150</td>\n",
       "      <td id=\"T_918e1_row2_col11\" class=\"data row2 col11\" >88.46</td>\n",
       "    </tr>\n",
       "  </tbody>\n",
       "</table>\n"
      ]
     },
     "metadata": {},
     "output_type": "display_data"
    },
    {
     "data": {
      "text/html": [
       "Largest under estimation errors:"
      ]
     },
     "metadata": {},
     "output_type": "display_data"
    },
    {
     "data": {
      "text/html": [
       "<style type=\"text/css\">\n",
       "#T_9a5c8_ table {\n",
       "  text-align: left;\n",
       "}\n",
       "#T_9a5c8_ thead {\n",
       "  text-align: left;\n",
       "}\n",
       "#T_9a5c8_ tbody {\n",
       "  text-align: left;\n",
       "}\n",
       "#T_9a5c8_ th {\n",
       "  text-align: left;\n",
       "}\n",
       "#T_9a5c8_ td {\n",
       "  text-align: left;\n",
       "}\n",
       "</style>\n",
       "<table id=\"T_9a5c8_\">\n",
       "  <thead>\n",
       "    <tr>\n",
       "      <th class=\"blank level0\" >&nbsp;</th>\n",
       "      <th class=\"col_heading level0 col0\" >age</th>\n",
       "      <th class=\"col_heading level0 col1\" >sex</th>\n",
       "      <th class=\"col_heading level0 col2\" >bmi</th>\n",
       "      <th class=\"col_heading level0 col3\" >bp</th>\n",
       "      <th class=\"col_heading level0 col4\" >s1</th>\n",
       "      <th class=\"col_heading level0 col5\" >s2</th>\n",
       "      <th class=\"col_heading level0 col6\" >s3</th>\n",
       "      <th class=\"col_heading level0 col7\" >s4</th>\n",
       "      <th class=\"col_heading level0 col8\" >s5</th>\n",
       "      <th class=\"col_heading level0 col9\" >s6</th>\n",
       "      <th class=\"col_heading level0 col10\" >target</th>\n",
       "      <th class=\"col_heading level0 col11\" >target Prediction Difference</th>\n",
       "    </tr>\n",
       "  </thead>\n",
       "  <tbody>\n",
       "    <tr>\n",
       "      <th id=\"T_9a5c8_level0_row0\" class=\"row_heading level0 row0\" >114</th>\n",
       "      <td id=\"T_9a5c8_row0_col0\" class=\"data row0 col0\" >0.02</td>\n",
       "      <td id=\"T_9a5c8_row0_col1\" class=\"data row0 col1\" >-0.04</td>\n",
       "      <td id=\"T_9a5c8_row0_col2\" class=\"data row0 col2\" >0.11</td>\n",
       "      <td id=\"T_9a5c8_row0_col3\" class=\"data row0 col3\" >0.06</td>\n",
       "      <td id=\"T_9a5c8_row0_col4\" class=\"data row0 col4\" >0.01</td>\n",
       "      <td id=\"T_9a5c8_row0_col5\" class=\"data row0 col5\" >-0.03</td>\n",
       "      <td id=\"T_9a5c8_row0_col6\" class=\"data row0 col6\" >-0.02</td>\n",
       "      <td id=\"T_9a5c8_row0_col7\" class=\"data row0 col7\" >0.02</td>\n",
       "      <td id=\"T_9a5c8_row0_col8\" class=\"data row0 col8\" >0.10</td>\n",
       "      <td id=\"T_9a5c8_row0_col9\" class=\"data row0 col9\" >0.02</td>\n",
       "      <td id=\"T_9a5c8_row0_col10\" class=\"data row0 col10\" >150</td>\n",
       "      <td id=\"T_9a5c8_row0_col11\" class=\"data row0 col11\" >-152.13</td>\n",
       "    </tr>\n",
       "    <tr>\n",
       "      <th id=\"T_9a5c8_level0_row1\" class=\"row_heading level0 row1\" >332</th>\n",
       "      <td id=\"T_9a5c8_row1_col0\" class=\"data row1 col0\" >0.03</td>\n",
       "      <td id=\"T_9a5c8_row1_col1\" class=\"data row1 col1\" >-0.04</td>\n",
       "      <td id=\"T_9a5c8_row1_col2\" class=\"data row1 col2\" >0.10</td>\n",
       "      <td id=\"T_9a5c8_row1_col3\" class=\"data row1 col3\" >0.08</td>\n",
       "      <td id=\"T_9a5c8_row1_col4\" class=\"data row1 col4\" >-0.01</td>\n",
       "      <td id=\"T_9a5c8_row1_col5\" class=\"data row1 col5\" >-0.01</td>\n",
       "      <td id=\"T_9a5c8_row1_col6\" class=\"data row1 col6\" >-0.06</td>\n",
       "      <td id=\"T_9a5c8_row1_col7\" class=\"data row1 col7\" >0.03</td>\n",
       "      <td id=\"T_9a5c8_row1_col8\" class=\"data row1 col8\" >0.06</td>\n",
       "      <td id=\"T_9a5c8_row1_col9\" class=\"data row1 col9\" >0.04</td>\n",
       "      <td id=\"T_9a5c8_row1_col10\" class=\"data row1 col10\" >150</td>\n",
       "      <td id=\"T_9a5c8_row1_col11\" class=\"data row1 col11\" >-145.71</td>\n",
       "    </tr>\n",
       "    <tr>\n",
       "      <th id=\"T_9a5c8_level0_row2\" class=\"row_heading level0 row2\" >321</th>\n",
       "      <td id=\"T_9a5c8_row2_col0\" class=\"data row2 col0\" >0.10</td>\n",
       "      <td id=\"T_9a5c8_row2_col1\" class=\"data row2 col1\" >-0.04</td>\n",
       "      <td id=\"T_9a5c8_row2_col2\" class=\"data row2 col2\" >0.05</td>\n",
       "      <td id=\"T_9a5c8_row2_col3\" class=\"data row2 col3\" >0.08</td>\n",
       "      <td id=\"T_9a5c8_row2_col4\" class=\"data row2 col4\" >0.05</td>\n",
       "      <td id=\"T_9a5c8_row2_col5\" class=\"data row2 col5\" >0.04</td>\n",
       "      <td id=\"T_9a5c8_row2_col6\" class=\"data row2 col6\" >-0.08</td>\n",
       "      <td id=\"T_9a5c8_row2_col7\" class=\"data row2 col7\" >0.14</td>\n",
       "      <td id=\"T_9a5c8_row2_col8\" class=\"data row2 col8\" >0.10</td>\n",
       "      <td id=\"T_9a5c8_row2_col9\" class=\"data row2 col9\" >0.06</td>\n",
       "      <td id=\"T_9a5c8_row2_col10\" class=\"data row2 col10\" >150</td>\n",
       "      <td id=\"T_9a5c8_row2_col11\" class=\"data row2 col11\" >-119.18</td>\n",
       "    </tr>\n",
       "  </tbody>\n",
       "</table>\n"
      ]
     },
     "metadata": {},
     "output_type": "display_data"
    }
   ],
   "source": [
    "check.run(test, clf)"
   ]
  }
 ],
 "metadata": {
  "kernelspec": {
   "display_name": "Python 3 (ipykernel)",
   "language": "python",
   "name": "python3"
  },
  "language_info": {
   "codemirror_mode": {
    "name": "ipython",
    "version": 3
   },
   "file_extension": ".py",
   "mimetype": "text/x-python",
   "name": "python",
   "nbconvert_exporter": "python",
   "pygments_lexer": "ipython3",
   "version": "3.8.10"
  }
 },
 "nbformat": 4,
 "nbformat_minor": 5
}
