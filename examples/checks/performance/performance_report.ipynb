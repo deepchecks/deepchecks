{
 "cells": [
  {
   "cell_type": "markdown",
   "id": "e767e792",
   "metadata": {},
   "source": [
    "# Perfromance Report "
   ]
  },
  {
   "cell_type": "markdown",
   "id": "09c7ee01-6999-465e-a318-56570b008526",
   "metadata": {},
   "source": [
    "## Imports"
   ]
  },
  {
   "cell_type": "code",
   "execution_count": 1,
   "id": "bc53a3b6-ec0b-4727-bdb2-29ed385d30d9",
   "metadata": {
    "execution": {
     "iopub.execute_input": "2021-12-27T01:00:36.838602Z",
     "iopub.status.busy": "2021-12-27T01:00:36.837890Z",
     "iopub.status.idle": "2021-12-27T01:00:38.510131Z",
     "shell.execute_reply": "2021-12-27T01:00:38.509590Z"
    }
   },
   "outputs": [],
   "source": [
    "from deepchecks.base import Dataset\n",
    "from sklearn.ensemble import AdaBoostClassifier, AdaBoostRegressor\n",
    "from sklearn.datasets import load_iris\n",
    "from deepchecks.checks.performance import PerformanceReport"
   ]
  },
  {
   "cell_type": "markdown",
   "id": "788f9178-dcc1-4212-9a84-949a7a4fde92",
   "metadata": {},
   "source": [
    "## Generating data:"
   ]
  },
  {
   "cell_type": "code",
   "execution_count": 2,
   "id": "5c53faac-2f99-45b7-a4a4-fd9737ffe993",
   "metadata": {
    "execution": {
     "iopub.execute_input": "2021-12-27T01:00:38.515638Z",
     "iopub.status.busy": "2021-12-27T01:00:38.514596Z",
     "iopub.status.idle": "2021-12-27T01:00:38.602183Z",
     "shell.execute_reply": "2021-12-27T01:00:38.602596Z"
    }
   },
   "outputs": [
    {
     "data": {
      "text/plain": [
       "AdaBoostClassifier()"
      ]
     },
     "execution_count": 2,
     "metadata": {},
     "output_type": "execute_result"
    }
   ],
   "source": [
    "iris = load_iris(as_frame=True)\n",
    "clf = AdaBoostClassifier()\n",
    "frame = iris.frame\n",
    "X = iris.data\n",
    "Y = iris.target\n",
    "ds = Dataset(frame, \n",
    "            features=iris.feature_names,\n",
    "            label_name='target')\n",
    "clf.fit(X, Y)"
   ]
  },
  {
   "cell_type": "markdown",
   "id": "f6920693-ffd3-4207-b8e4-5cf3452c57bd",
   "metadata": {},
   "source": [
    "## Running peformance report on classification"
   ]
  },
  {
   "cell_type": "code",
   "execution_count": 3,
   "id": "bdd52a29-2612-4dbc-8507-31250b9feadc",
   "metadata": {
    "execution": {
     "iopub.execute_input": "2021-12-27T01:00:38.645733Z",
     "iopub.status.busy": "2021-12-27T01:00:38.634097Z",
     "iopub.status.idle": "2021-12-27T01:00:38.712396Z",
     "shell.execute_reply": "2021-12-27T01:00:38.711956Z"
    }
   },
   "outputs": [
    {
     "data": {
      "text/html": [
       "<h4>Performance Report</h4>"
      ]
     },
     "metadata": {},
     "output_type": "display_data"
    },
    {
     "data": {
      "text/html": [
       "<p>Summarize given scores on a dataset and model.</p>"
      ]
     },
     "metadata": {},
     "output_type": "display_data"
    },
    {
     "data": {
      "text/html": [
       "<style type=\"text/css\">\n",
       "#T_92818_ table {\n",
       "  text-align: left;\n",
       "}\n",
       "#T_92818_ thead {\n",
       "  text-align: left;\n",
       "}\n",
       "#T_92818_ tbody {\n",
       "  text-align: left;\n",
       "}\n",
       "#T_92818_ th {\n",
       "  text-align: left;\n",
       "}\n",
       "#T_92818_ td {\n",
       "  text-align: left;\n",
       "}\n",
       "</style>\n",
       "<table id=\"T_92818_\">\n",
       "  <thead>\n",
       "    <tr>\n",
       "      <th class=\"blank level0\" >&nbsp;</th>\n",
       "      <th class=\"col_heading level0 col0\" >Value</th>\n",
       "    </tr>\n",
       "    <tr>\n",
       "      <th class=\"index_name level0\" >Score</th>\n",
       "      <th class=\"blank col0\" >&nbsp;</th>\n",
       "    </tr>\n",
       "  </thead>\n",
       "  <tbody>\n",
       "    <tr>\n",
       "      <th id=\"T_92818_level0_row0\" class=\"row_heading level0 row0\" >Accuracy</th>\n",
       "      <td id=\"T_92818_row0_col0\" class=\"data row0 col0\" >0.96</td>\n",
       "    </tr>\n",
       "    <tr>\n",
       "      <th id=\"T_92818_level0_row1\" class=\"row_heading level0 row1\" >Precision - Macro Average</th>\n",
       "      <td id=\"T_92818_row1_col0\" class=\"data row1 col0\" >0.96</td>\n",
       "    </tr>\n",
       "    <tr>\n",
       "      <th id=\"T_92818_level0_row2\" class=\"row_heading level0 row2\" >Recall - Macro Average</th>\n",
       "      <td id=\"T_92818_row2_col0\" class=\"data row2 col0\" >0.96</td>\n",
       "    </tr>\n",
       "  </tbody>\n",
       "</table>\n"
      ]
     },
     "metadata": {},
     "output_type": "display_data"
    }
   ],
   "source": [
    "check = PerformanceReport()\n",
    "check.run(ds, clf)"
   ]
  },
  {
   "cell_type": "markdown",
   "id": "277a57f1",
   "metadata": {},
   "source": [
    "## Run with selected metric"
   ]
  },
  {
   "cell_type": "code",
   "execution_count": 4,
   "id": "de070cfd",
   "metadata": {
    "execution": {
     "iopub.execute_input": "2021-12-27T01:00:38.742324Z",
     "iopub.status.busy": "2021-12-27T01:00:38.722125Z",
     "iopub.status.idle": "2021-12-27T01:00:38.768729Z",
     "shell.execute_reply": "2021-12-27T01:00:38.769124Z"
    }
   },
   "outputs": [
    {
     "data": {
      "text/html": [
       "<h4>Performance Report</h4>"
      ]
     },
     "metadata": {},
     "output_type": "display_data"
    },
    {
     "data": {
      "text/html": [
       "<p>Summarize given scores on a dataset and model.</p>"
      ]
     },
     "metadata": {},
     "output_type": "display_data"
    },
    {
     "data": {
      "text/html": [
       "<style type=\"text/css\">\n",
       "#T_ad7bc_ table {\n",
       "  text-align: left;\n",
       "}\n",
       "#T_ad7bc_ thead {\n",
       "  text-align: left;\n",
       "}\n",
       "#T_ad7bc_ tbody {\n",
       "  text-align: left;\n",
       "}\n",
       "#T_ad7bc_ th {\n",
       "  text-align: left;\n",
       "}\n",
       "#T_ad7bc_ td {\n",
       "  text-align: left;\n",
       "}\n",
       "</style>\n",
       "<table id=\"T_ad7bc_\">\n",
       "  <thead>\n",
       "    <tr>\n",
       "      <th class=\"blank level0\" >&nbsp;</th>\n",
       "      <th class=\"col_heading level0 col0\" >Value</th>\n",
       "    </tr>\n",
       "    <tr>\n",
       "      <th class=\"index_name level0\" >Score</th>\n",
       "      <th class=\"blank col0\" >&nbsp;</th>\n",
       "    </tr>\n",
       "  </thead>\n",
       "  <tbody>\n",
       "    <tr>\n",
       "      <th id=\"T_ad7bc_level0_row0\" class=\"row_heading level0 row0\" >Recall - Micro</th>\n",
       "      <td id=\"T_ad7bc_row0_col0\" class=\"data row0 col0\" >0.96</td>\n",
       "    </tr>\n",
       "  </tbody>\n",
       "</table>\n"
      ]
     },
     "metadata": {},
     "output_type": "display_data"
    }
   ],
   "source": [
    "check = PerformanceReport(alternative_scorers={'Recall - Micro': 'recall_micro'})\n",
    "check.run(ds, clf)"
   ]
  },
  {
   "cell_type": "markdown",
   "id": "ef0ae206",
   "metadata": {},
   "source": [
    "## Generate regression data"
   ]
  },
  {
   "cell_type": "code",
   "execution_count": 5,
   "id": "b0cc2a00",
   "metadata": {
    "execution": {
     "iopub.execute_input": "2021-12-27T01:00:38.774180Z",
     "iopub.status.busy": "2021-12-27T01:00:38.773171Z",
     "iopub.status.idle": "2021-12-27T01:00:38.892391Z",
     "shell.execute_reply": "2021-12-27T01:00:38.891926Z"
    }
   },
   "outputs": [
    {
     "name": "stderr",
     "output_type": "stream",
     "text": [
      "Automatically inferred these columns as categorical features: sex. \n",
      "\n"
     ]
    },
    {
     "data": {
      "text/plain": [
       "AdaBoostRegressor(random_state=0)"
      ]
     },
     "execution_count": 5,
     "metadata": {},
     "output_type": "execute_result"
    }
   ],
   "source": [
    "from sklearn.datasets import load_diabetes\n",
    "\n",
    "diabetes = load_diabetes(return_X_y=False, as_frame=True).frame\n",
    "\n",
    "train = Dataset(diabetes, label_name='target')\n",
    "clf = AdaBoostRegressor(random_state=0)\n",
    "clf.fit(train.features_columns, train.label_col)"
   ]
  },
  {
   "cell_type": "markdown",
   "id": "d065155d",
   "metadata": {},
   "source": [
    "## Run performance report on regression"
   ]
  },
  {
   "cell_type": "code",
   "execution_count": 6,
   "id": "47777e01",
   "metadata": {
    "execution": {
     "iopub.execute_input": "2021-12-27T01:00:38.909777Z",
     "iopub.status.busy": "2021-12-27T01:00:38.902055Z",
     "iopub.status.idle": "2021-12-27T01:00:38.944082Z",
     "shell.execute_reply": "2021-12-27T01:00:38.944650Z"
    }
   },
   "outputs": [
    {
     "data": {
      "text/html": [
       "<h4>Performance Report</h4>"
      ]
     },
     "metadata": {},
     "output_type": "display_data"
    },
    {
     "data": {
      "text/html": [
       "<p>Summarize given scores on a dataset and model.</p>"
      ]
     },
     "metadata": {},
     "output_type": "display_data"
    },
    {
     "data": {
      "text/html": [
       "<style type=\"text/css\">\n",
       "#T_4b2ae_ table {\n",
       "  text-align: left;\n",
       "}\n",
       "#T_4b2ae_ thead {\n",
       "  text-align: left;\n",
       "}\n",
       "#T_4b2ae_ tbody {\n",
       "  text-align: left;\n",
       "}\n",
       "#T_4b2ae_ th {\n",
       "  text-align: left;\n",
       "}\n",
       "#T_4b2ae_ td {\n",
       "  text-align: left;\n",
       "}\n",
       "</style>\n",
       "<table id=\"T_4b2ae_\">\n",
       "  <thead>\n",
       "    <tr>\n",
       "      <th class=\"blank level0\" >&nbsp;</th>\n",
       "      <th class=\"col_heading level0 col0\" >Value</th>\n",
       "    </tr>\n",
       "    <tr>\n",
       "      <th class=\"index_name level0\" >Score</th>\n",
       "      <th class=\"blank col0\" >&nbsp;</th>\n",
       "    </tr>\n",
       "  </thead>\n",
       "  <tbody>\n",
       "    <tr>\n",
       "      <th id=\"T_4b2ae_level0_row0\" class=\"row_heading level0 row0\" >RMSE</th>\n",
       "      <td id=\"T_4b2ae_row0_col0\" class=\"data row0 col0\" >-47.66</td>\n",
       "    </tr>\n",
       "    <tr>\n",
       "      <th id=\"T_4b2ae_level0_row1\" class=\"row_heading level0 row1\" >MAE</th>\n",
       "      <td id=\"T_4b2ae_row1_col0\" class=\"data row1 col0\" >-40.84</td>\n",
       "    </tr>\n",
       "  </tbody>\n",
       "</table>\n"
      ]
     },
     "metadata": {},
     "output_type": "display_data"
    }
   ],
   "source": [
    "check = PerformanceReport()\n",
    "check.run(train, clf)"
   ]
  }
 ],
 "metadata": {
  "kernelspec": {
   "display_name": "Python 3 (ipykernel)",
   "language": "python",
   "name": "python3"
  },
  "language_info": {
   "codemirror_mode": {
    "name": "ipython",
    "version": 3
   },
   "file_extension": ".py",
   "mimetype": "text/x-python",
   "name": "python",
   "nbconvert_exporter": "python",
   "pygments_lexer": "ipython3",
   "version": "3.9.9"
  }
 },
 "nbformat": 4,
 "nbformat_minor": 5
}
