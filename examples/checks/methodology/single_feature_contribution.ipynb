{
 "cells": [
  {
   "cell_type": "markdown",
   "id": "380c8d41",
   "metadata": {},
   "source": [
    "# Single Feature Contibution "
   ]
  },
  {
   "cell_type": "markdown",
   "id": "0fdeac8e-ffd2-4509-8a70-fcbda9cdb68b",
   "metadata": {},
   "source": [
    "## Imports"
   ]
  },
  {
   "cell_type": "code",
   "execution_count": 1,
   "id": "592d6a95-06b0-4397-bf5e-5aebd6dc58f3",
   "metadata": {
    "execution": {
     "iopub.execute_input": "2021-12-29T00:55:28.323644Z",
     "iopub.status.busy": "2021-12-29T00:55:28.322990Z",
     "iopub.status.idle": "2021-12-29T00:55:30.008208Z",
     "shell.execute_reply": "2021-12-29T00:55:30.007630Z"
    }
   },
   "outputs": [],
   "source": [
    "import numpy as np\n",
    "import pandas as pd\n",
    "import matplotlib.pyplot as plt\n",
    "\n",
    "from deepchecks.checks.methodology import *\n",
    "from deepchecks.base import Dataset"
   ]
  },
  {
   "cell_type": "markdown",
   "id": "b1653169-893b-456a-b179-7ba51d004694",
   "metadata": {},
   "source": [
    "## Generating data:"
   ]
  },
  {
   "cell_type": "code",
   "execution_count": 2,
   "id": "13624caa-239a-4b0a-a081-8d46872751ef",
   "metadata": {
    "execution": {
     "iopub.execute_input": "2021-12-29T00:55:30.017323Z",
     "iopub.status.busy": "2021-12-29T00:55:30.016723Z",
     "iopub.status.idle": "2021-12-29T00:55:30.020177Z",
     "shell.execute_reply": "2021-12-29T00:55:30.020885Z"
    }
   },
   "outputs": [],
   "source": [
    "df = pd.DataFrame(np.random.randn(100, 3), columns=['x1', 'x2', 'x3'])\n",
    "df['x4'] = df['x1'] * 0.5 + df['x2']\n",
    "df['label'] = df['x2'] + 0.1 * df['x1']\n",
    "df['x5'] = df['label'].apply(lambda x: 'v1' if x < 0 else 'v2')\n"
   ]
  },
  {
   "cell_type": "code",
   "execution_count": 3,
   "id": "f8d36284-f821-493a-8520-a941b1545f2d",
   "metadata": {
    "execution": {
     "iopub.execute_input": "2021-12-29T00:55:30.027999Z",
     "iopub.status.busy": "2021-12-29T00:55:30.027436Z",
     "iopub.status.idle": "2021-12-29T00:55:30.030798Z",
     "shell.execute_reply": "2021-12-29T00:55:30.030165Z"
    }
   },
   "outputs": [],
   "source": [
    "ds = Dataset(df, label_name='label')"
   ]
  },
  {
   "cell_type": "markdown",
   "id": "e9b8071a-f95a-4d51-8ca9-abd42d5406b2",
   "metadata": {},
   "source": [
    "## Running single_feature_contribution check:"
   ]
  },
  {
   "cell_type": "code",
   "execution_count": 4,
   "id": "372e0162-b86c-45d6-8a3b-47e009d709b9",
   "metadata": {
    "execution": {
     "iopub.execute_input": "2021-12-29T00:55:30.042922Z",
     "iopub.status.busy": "2021-12-29T00:55:30.041156Z",
     "iopub.status.idle": "2021-12-29T00:55:30.356464Z",
     "shell.execute_reply": "2021-12-29T00:55:30.356862Z"
    }
   },
   "outputs": [
    {
     "data": {
      "text/html": [
       "<h4>Single Feature Contribution</h4>"
      ]
     },
     "metadata": {},
     "output_type": "display_data"
    },
    {
     "data": {
      "text/html": [
       "<p>Return the PPS (Predictive Power Score) of all features in relation to the label.</p>"
      ]
     },
     "metadata": {},
     "output_type": "display_data"
    },
    {
     "data": {
      "image/png": "[encoded data removed]",
      "text/plain": [
       "<Figure size 1080x288 with 2 Axes>"
      ]
     },
     "metadata": {
      "needs_background": "light"
     },
     "output_type": "display_data"
    },
    {
     "data": {
      "text/html": [
       "The PPS represents the ability of a feature to single-handedly predict another feature or label."
      ]
     },
     "metadata": {},
     "output_type": "display_data"
    },
    {
     "data": {
      "text/html": [
       "A high PPS (close to 1) can mean that this feature's success in predicting the label is actually due to data"
      ]
     },
     "metadata": {},
     "output_type": "display_data"
    },
    {
     "data": {
      "text/html": [
       "leakage - meaning that the feature holds information that is based on the label to begin with."
      ]
     },
     "metadata": {},
     "output_type": "display_data"
    }
   ],
   "source": [
    "SingleFeatureContribution().run(ds)"
   ]
  },
  {
   "cell_type": "markdown",
   "id": "75f2b1f5-5301-494d-9156-9c5c9d46c0d2",
   "metadata": {},
   "source": [
    "## Using the SingleFeatureContribution check class:"
   ]
  },
  {
   "cell_type": "code",
   "execution_count": 5,
   "id": "0379a8d4-b257-49c5-8a32-31e09388b885",
   "metadata": {
    "execution": {
     "iopub.execute_input": "2021-12-29T00:55:30.371201Z",
     "iopub.status.busy": "2021-12-29T00:55:30.367543Z",
     "iopub.status.idle": "2021-12-29T00:55:30.657959Z",
     "shell.execute_reply": "2021-12-29T00:55:30.657465Z"
    }
   },
   "outputs": [
    {
     "data": {
      "text/html": [
       "<h4>Single Feature Contribution</h4>"
      ]
     },
     "metadata": {},
     "output_type": "display_data"
    },
    {
     "data": {
      "text/html": [
       "<p>Return the PPS (Predictive Power Score) of all features in relation to the label.</p>"
      ]
     },
     "metadata": {},
     "output_type": "display_data"
    },
    {
     "data": {
      "image/png": "[encoded data removed]",
      "text/plain": [
       "<Figure size 1080x288 with 2 Axes>"
      ]
     },
     "metadata": {
      "needs_background": "light"
     },
     "output_type": "display_data"
    },
    {
     "data": {
      "text/html": [
       "The PPS represents the ability of a feature to single-handedly predict another feature or label."
      ]
     },
     "metadata": {},
     "output_type": "display_data"
    },
    {
     "data": {
      "text/html": [
       "A high PPS (close to 1) can mean that this feature's success in predicting the label is actually due to data"
      ]
     },
     "metadata": {},
     "output_type": "display_data"
    },
    {
     "data": {
      "text/html": [
       "leakage - meaning that the feature holds information that is based on the label to begin with."
      ]
     },
     "metadata": {},
     "output_type": "display_data"
    }
   ],
   "source": [
    "my_check = SingleFeatureContribution(ppscore_params={'sample': 10})\n",
    "my_check.run(dataset=ds)"
   ]
  }
 ],
 "metadata": {
  "kernelspec": {
   "display_name": "Python 3 (ipykernel)",
   "language": "python",
   "name": "python3"
  },
  "language_info": {
   "codemirror_mode": {
    "name": "ipython",
    "version": 3
   },
   "file_extension": ".py",
   "mimetype": "text/x-python",
   "name": "python",
   "nbconvert_exporter": "python",
   "pygments_lexer": "ipython3",
   "version": "3.9.9"
  }
 },
 "nbformat": 4,
 "nbformat_minor": 5
}
