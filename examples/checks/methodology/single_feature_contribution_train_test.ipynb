{
 "cells": [
  {
   "cell_type": "markdown",
   "id": "21c5d5bc",
   "metadata": {},
   "source": [
    "# Single Feature Contribution Train Test "
   ]
  },
  {
   "cell_type": "markdown",
   "id": "0fdeac8e-ffd2-4509-8a70-fcbda9cdb68b",
   "metadata": {},
   "source": [
    "## Imports"
   ]
  },
  {
   "cell_type": "code",
   "execution_count": 1,
   "id": "592d6a95-06b0-4397-bf5e-5aebd6dc58f3",
   "metadata": {
    "execution": {
     "iopub.execute_input": "2021-12-23T11:45:55.989554Z",
     "iopub.status.busy": "2021-12-23T11:45:55.988803Z",
     "iopub.status.idle": "2021-12-23T11:45:57.819868Z",
     "shell.execute_reply": "2021-12-23T11:45:57.818882Z"
    }
   },
   "outputs": [],
   "source": [
    "import numpy as np\n",
    "import pandas as pd\n",
    "import matplotlib.pyplot as plt\n",
    "\n",
    "from deepchecks.checks.methodology import *\n",
    "from deepchecks.base import Dataset"
   ]
  },
  {
   "cell_type": "markdown",
   "id": "7c64c053-69ea-4579-85f7-a27c8df9b2b7",
   "metadata": {},
   "source": [
    "## Generating data:"
   ]
  },
  {
   "cell_type": "code",
   "execution_count": 2,
   "id": "82156e41-2ec0-4374-8716-f9a2ab09fbd8",
   "metadata": {
    "execution": {
     "iopub.execute_input": "2021-12-23T11:45:57.837148Z",
     "iopub.status.busy": "2021-12-23T11:45:57.836587Z",
     "iopub.status.idle": "2021-12-23T11:45:57.840078Z",
     "shell.execute_reply": "2021-12-23T11:45:57.839584Z"
    }
   },
   "outputs": [],
   "source": [
    "df = pd.DataFrame(np.random.randn(100, 3), columns=['x1', 'x2', 'x3'])\n",
    "df['x4'] = df['x1'] * 0.5 + df['x2']\n",
    "df['label'] = df['x2'] + 0.1 * df['x1']\n",
    "df['x5'] = df['label'].apply(lambda x: 'v1' if x < 0 else 'v2')\n",
    "ds = Dataset(df, label_name='label')\n",
    "\n",
    "df_test = df.copy()\n",
    "df_test['x2'] = df['x2'] + 0.5 * df['x1']\n",
    "df_test['x3'] = 0.3 * df['x3'] + df['label']\n",
    "ds_test = Dataset(df_test, label_name='label')"
   ]
  },
  {
   "cell_type": "markdown",
   "id": "5ff59076-2895-4b56-84f2-d555deb2660b",
   "metadata": {},
   "source": [
    "## Running single_feature_contribution_train_validation check:"
   ]
  },
  {
   "cell_type": "code",
   "execution_count": 3,
   "id": "88357833-807f-4d0e-86a3-9459f80d465d",
   "metadata": {
    "execution": {
     "iopub.execute_input": "2021-12-23T11:45:57.851058Z",
     "iopub.status.busy": "2021-12-23T11:45:57.846092Z",
     "iopub.status.idle": "2021-12-23T11:45:58.163330Z",
     "shell.execute_reply": "2021-12-23T11:45:58.163840Z"
    }
   },
   "outputs": [
    {
     "data": {
      "text/html": [
       "<h4>Single Feature Contribution Train-Test</h4>"
      ]
     },
     "metadata": {},
     "output_type": "display_data"
    },
    {
     "data": {
      "text/html": [
       "<p>    Return the difference in PPS (Predictive Power Score) of all features between train and test datasets.</p>"
      ]
     },
     "metadata": {},
     "output_type": "display_data"
    },
    {
     "data": {
      "image/png": "[encoded data removed]",
      "text/plain": [
       "<Figure size 1080x288 with 2 Axes>"
      ]
     },
     "metadata": {
      "needs_background": "light"
     },
     "output_type": "display_data"
    },
    {
     "data": {
      "text/html": [
       "The PPS represents the ability of a feature to single-handedly predict another feature or label."
      ]
     },
     "metadata": {},
     "output_type": "display_data"
    },
    {
     "data": {
      "text/html": [
       "A high PPS (close to 1) can mean that this feature's success in predicting the label is actually due to data"
      ]
     },
     "metadata": {},
     "output_type": "display_data"
    },
    {
     "data": {
      "text/html": [
       "leakage - meaning that the feature holds information that is based on the label to begin with."
      ]
     },
     "metadata": {},
     "output_type": "display_data"
    },
    {
     "data": {
      "text/html": []
     },
     "metadata": {},
     "output_type": "display_data"
    },
    {
     "data": {
      "text/html": [
       "When we compare train PPS to test PPS, A high difference can strongly indicate leakage, as a feature"
      ]
     },
     "metadata": {},
     "output_type": "display_data"
    },
    {
     "data": {
      "text/html": [
       "that was powerful in train but not in test can be explained by leakage in train that is not relevant to a new dataset."
      ]
     },
     "metadata": {},
     "output_type": "display_data"
    }
   ],
   "source": [
    "SingleFeatureContributionTrainTest().run(train_dataset=ds, test_dataset=ds_test)"
   ]
  },
  {
   "cell_type": "markdown",
   "id": "0c18e6d0-4408-4440-b971-d3094fcb2126",
   "metadata": {},
   "source": [
    "## Using the SingleFeatureContributionTrainTest check class:"
   ]
  },
  {
   "cell_type": "code",
   "execution_count": 4,
   "id": "1c798eba-89b6-4833-a9e9-f2f8231165fd",
   "metadata": {
    "execution": {
     "iopub.execute_input": "2021-12-23T11:45:58.179521Z",
     "iopub.status.busy": "2021-12-23T11:45:58.174455Z",
     "iopub.status.idle": "2021-12-23T11:45:58.512867Z",
     "shell.execute_reply": "2021-12-23T11:45:58.512350Z"
    }
   },
   "outputs": [
    {
     "data": {
      "text/html": [
       "<h4>Single Feature Contribution Train-Test</h4>"
      ]
     },
     "metadata": {},
     "output_type": "display_data"
    },
    {
     "data": {
      "text/html": [
       "<p>    Return the difference in PPS (Predictive Power Score) of all features between train and test datasets.</p>"
      ]
     },
     "metadata": {},
     "output_type": "display_data"
    },
    {
     "data": {
      "image/png": "[encoded data removed]",
      "text/plain": [
       "<Figure size 1080x288 with 2 Axes>"
      ]
     },
     "metadata": {
      "needs_background": "light"
     },
     "output_type": "display_data"
    },
    {
     "data": {
      "text/html": [
       "The PPS represents the ability of a feature to single-handedly predict another feature or label."
      ]
     },
     "metadata": {},
     "output_type": "display_data"
    },
    {
     "data": {
      "text/html": [
       "A high PPS (close to 1) can mean that this feature's success in predicting the label is actually due to data"
      ]
     },
     "metadata": {},
     "output_type": "display_data"
    },
    {
     "data": {
      "text/html": [
       "leakage - meaning that the feature holds information that is based on the label to begin with."
      ]
     },
     "metadata": {},
     "output_type": "display_data"
    },
    {
     "data": {
      "text/html": []
     },
     "metadata": {},
     "output_type": "display_data"
    },
    {
     "data": {
      "text/html": [
       "When we compare train PPS to test PPS, A high difference can strongly indicate leakage, as a feature"
      ]
     },
     "metadata": {},
     "output_type": "display_data"
    },
    {
     "data": {
      "text/html": [
       "that was powerful in train but not in test can be explained by leakage in train that is not relevant to a new dataset."
      ]
     },
     "metadata": {},
     "output_type": "display_data"
    }
   ],
   "source": [
    "my_check = SingleFeatureContributionTrainTest(ppscore_params={'sample': 10})\n",
    "my_check.run(train_dataset=ds, test_dataset=ds_test)"
   ]
  }
 ],
 "metadata": {
  "kernelspec": {
   "display_name": "Python 3 (ipykernel)",
   "language": "python",
   "name": "python3"
  },
  "language_info": {
   "codemirror_mode": {
    "name": "ipython",
    "version": 3
   },
   "file_extension": ".py",
   "mimetype": "text/x-python",
   "name": "python",
   "nbconvert_exporter": "python",
   "pygments_lexer": "ipython3",
   "version": "3.9.9"
  }
 },
 "nbformat": 4,
 "nbformat_minor": 5
}
