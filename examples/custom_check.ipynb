{
 "cells": [
  {
   "cell_type": "markdown",
   "id": "576c2918",
   "metadata": {},
   "source": [
    "# How to: Custom Check"
   ]
  },
  {
   "cell_type": "markdown",
   "id": "4ee88ccb",
   "metadata": {},
   "source": [
    "It is possible to extend deepchecks by implementing custom check. This is desirable when you want to have your own logic of metrics or validation, or even just to display your own graph using deepchecks' suite."
   ]
  },
  {
   "cell_type": "markdown",
   "id": "258972c9",
   "metadata": {},
   "source": [
    "This guide will walk you through creating a check with your own logic.\n",
    "Each check consists of 3 main parts: return value (mandatory), display and conditions. we will implement here the return value and display, for conditions see [link how to create conditions]"
   ]
  },
  {
   "cell_type": "markdown",
   "id": "dcf03655",
   "metadata": {},
   "source": [
    "## Basic Check"
   ]
  },
  {
   "cell_type": "markdown",
   "id": "967574aa",
   "metadata": {},
   "source": [
    "Let's implement a check that will compare the test and train datasets sizes.\n",
    "The first step is to create check class, which inherits from a base check class. each base check is differed by it's run method signature or by the purpose it fulfills [link to all]. in this case we will use `TrainTestBaseCheck`, which used to compare between test and train datasets. After creating the basic class with the `run` function we will write our check logic inside it.\n",
    "\n",
    "*Good to know: the return value of a check can be any object, a number, dictionary, string, etc...*"
   ]
  },
  {
   "cell_type": "code",
   "execution_count": 1,
   "id": "804b2189",
   "metadata": {},
   "outputs": [],
   "source": [
    "from deepchecks import TrainTestBaseCheck, CheckResult, Dataset\n",
    "\n",
    "\n",
    "class DatasetSizeComparison(TrainTestBaseCheck):\n",
    "    \"\"\"Check which compares the sizes of train and test datasets.\"\"\"\n",
    "    \n",
    "    def run(self, train_dataset: Dataset, test_dataset: Dataset, model=None) -> CheckResult:\n",
    "        ## Check logic\n",
    "        train_size = train_dataset.n_samples\n",
    "        test_size = test_dataset.n_samples\n",
    "        \n",
    "        ## Return value as check result\n",
    "        return_value = {'train_size': train_size, 'test_size': test_size}\n",
    "        return CheckResult(return_value)"
   ]
  },
  {
   "cell_type": "markdown",
   "id": "a7fea87e",
   "metadata": {},
   "source": [
    "Hooray! we just wrote our custom check. now let's create 2 datasets and try to run it"
   ]
  },
  {
   "cell_type": "code",
   "execution_count": 2,
   "id": "d8c3e4ec",
   "metadata": {},
   "outputs": [
    {
     "data": {
      "text/html": [
       "<h4>Dataset Size Comparison</h4>"
      ]
     },
     "metadata": {},
     "output_type": "display_data"
    },
    {
     "data": {
      "text/html": [
       "<p>Check which compares the sizes of train and test datasets.</p>"
      ]
     },
     "metadata": {},
     "output_type": "display_data"
    },
    {
     "data": {
      "text/html": [
       "<p><b>&#x2713;</b> Nothing found</p>"
      ]
     },
     "metadata": {},
     "output_type": "display_data"
    }
   ],
   "source": [
    "import pandas as pd\n",
    "\n",
    "# TODO which data to load\n",
    "train_dataset = Dataset(pd.DataFrame(data={'x': [1,2,3,4,5,6,7,8,9]}))\n",
    "test_dataset = Dataset(pd.DataFrame(data={'x': [1,2,3]}))\n",
    "\n",
    "DatasetSizeComparison().run(train_dataset, test_dataset)"
   ]
  },
  {
   "cell_type": "markdown",
   "id": "8f1543a8",
   "metadata": {},
   "source": [
    "Our check run successfully but we got the print \"Nothing found\". this is because we haven't defined to the check anything to display, so the default behavior is to print \"Nothing found\". in order to access the value we defined earlier we can use the \"value\" property on the result."
   ]
  },
  {
   "cell_type": "code",
   "execution_count": 3,
   "id": "2ffdbf8c",
   "metadata": {},
   "outputs": [
    {
     "data": {
      "text/plain": [
       "{'train_size': 9, 'test_size': 3}"
      ]
     },
     "execution_count": 3,
     "metadata": {},
     "output_type": "execute_result"
    }
   ],
   "source": [
    "result = DatasetSizeComparison().run(train_dataset, test_dataset)\n",
    "result.value"
   ]
  },
  {
   "cell_type": "markdown",
   "id": "cc0845a6",
   "metadata": {},
   "source": [
    "## Check Display"
   ]
  },
  {
   "cell_type": "markdown",
   "id": "1e97d44b",
   "metadata": {},
   "source": [
    "Most of the times we will want our checks to have a visual display that will quickly summarize the check result. we can pass to the `CheckResult` objects to be displayed like html, dataframe or graph. so let's define a graph that will be displayed using `matplotlib`. in order to use `matplotlib` we have to implement the code inside a function and not call it directly in the check, this is due to architecture limitations of `matplotlib` (read more here...)\n",
    "\n",
    "*Good to know: `display` can receive a single object to display or a list of objects*"
   ]
  },
  {
   "cell_type": "code",
   "execution_count": 4,
   "id": "78d0af1e",
   "metadata": {},
   "outputs": [],
   "source": [
    "from deepchecks import TrainTestBaseCheck, CheckResult, Dataset\n",
    "import matplotlib.pyplot as plt\n",
    "\n",
    "class DatasetSizeComparison(TrainTestBaseCheck):\n",
    "    \"\"\"Check which compares the sizes of train and test datasets.\"\"\"\n",
    "    \n",
    "    def run(self, train_dataset: Dataset, test_dataset: Dataset, model=None) -> CheckResult:\n",
    "        ## Check logic\n",
    "        train_size = train_dataset.n_samples\n",
    "        test_size = test_dataset.n_samples\n",
    "        \n",
    "        ## Create the check result value\n",
    "        sizes = {'Train': train_size, 'Test': test_size}\n",
    "        \n",
    "        ## Display function of matplotlib graph:\n",
    "        def graph_display():\n",
    "            plt.bar(sizes.keys(), sizes.values(), color='green')\n",
    "            plt.xlabel(\"Dataset\")\n",
    "            plt.ylabel(\"Size\")\n",
    "            plt.title(\"Datasets size comparison\")\n",
    "        \n",
    "        return CheckResult(sizes, display=graph_display)"
   ]
  },
  {
   "cell_type": "markdown",
   "id": "575051be",
   "metadata": {},
   "source": [
    "Let check it out:"
   ]
  },
  {
   "cell_type": "code",
   "execution_count": 5,
   "id": "07c146a4",
   "metadata": {},
   "outputs": [
    {
     "data": {
      "text/html": [
       "<h4>Dataset Size Comparison</h4>"
      ]
     },
     "metadata": {},
     "output_type": "display_data"
    },
    {
     "data": {
      "text/html": [
       "<p>Check which compares the sizes of train and test datasets.</p>"
      ]
     },
     "metadata": {},
     "output_type": "display_data"
    },
    {
     "data": {
      "image/png": "[encoded data removed]",
      "text/plain": [
       "<Figure size 432x288 with 1 Axes>"
      ]
     },
     "metadata": {
      "needs_background": "light"
     },
     "output_type": "display_data"
    }
   ],
   "source": [
    "DatasetSizeComparison().run(train_dataset, test_dataset)"
   ]
  },
  {
   "cell_type": "markdown",
   "id": "c1fd3515",
   "metadata": {},
   "source": [
    "Voila! now we have a check that prints a graph and have a value. we can add this check to any suite and it will run with it.  \n",
    "The next possible step is to implement condition, which will allow us to give a check result a score of pass / not pass. to do it check out the following guide [link]"
   ]
  }
 ],
 "metadata": {
  "kernelspec": {
   "display_name": "Python 3 (ipykernel)",
   "language": "python",
   "name": "python3"
  },
  "language_info": {
   "codemirror_mode": {
    "name": "ipython",
    "version": 3
   },
   "file_extension": ".py",
   "mimetype": "text/x-python",
   "name": "python",
   "nbconvert_exporter": "python",
   "pygments_lexer": "ipython3",
   "version": "3.8.6"
  }
 },
 "nbformat": 4,
 "nbformat_minor": 5
}
