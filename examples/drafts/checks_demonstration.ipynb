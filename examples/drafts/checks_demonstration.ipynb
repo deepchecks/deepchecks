{
 "cells": [
  {
   "cell_type": "markdown",
   "id": "9f7d1e20",
   "metadata": {},
   "source": [
    "## Imports and configurations"
   ]
  },
  {
   "cell_type": "markdown",
   "id": "9254315d",
   "metadata": {},
   "source": [
    "### Config directory path for demo datasets"
   ]
  },
  {
   "cell_type": "code",
   "execution_count": 1,
   "id": "da391550",
   "metadata": {
    "ExecuteTime": {
     "end_time": "2021-11-02T13:17:36.150652Z",
     "start_time": "2021-11-02T13:17:36.141249Z"
    }
   },
   "outputs": [],
   "source": [
    "import os"
   ]
  },
  {
   "cell_type": "markdown",
   "id": "80c06c83",
   "metadata": {},
   "source": [
    "NOTE - Set DATASETS_BASEDIR to your local folder that contains all required datasets. <br>\n",
    "Datasets can be found in shared folder: <br> https://drive.google.com/drive/u/0/folders/1WIjlwoUdgwrQj1S9UmJLMbJT6NuKeX7t"
   ]
  },
  {
   "cell_type": "code",
   "execution_count": 2,
   "id": "5dca81c7",
   "metadata": {
    "ExecuteTime": {
     "end_time": "2021-11-02T13:17:36.162982Z",
     "start_time": "2021-11-02T13:17:36.158671Z"
    }
   },
   "outputs": [],
   "source": [
    "DATASETS_BASEDIR = '../../../../Datasets'"
   ]
  },
  {
   "cell_type": "markdown",
   "id": "1448791a",
   "metadata": {},
   "source": [
    "Load dataset paths"
   ]
  },
  {
   "cell_type": "code",
   "execution_count": 3,
   "id": "85ba0400",
   "metadata": {
    "ExecuteTime": {
     "end_time": "2021-11-02T13:17:36.176979Z",
     "start_time": "2021-11-02T13:17:36.170787Z"
    }
   },
   "outputs": [],
   "source": [
    "# verify that DATASETS_BASEDIR exists a\n",
    "dataset_names = os.listdir(DATASETS_BASEDIR)\n",
    "# print(dataset_names)"
   ]
  },
  {
   "cell_type": "code",
   "execution_count": 4,
   "id": "47e0e1d3",
   "metadata": {
    "ExecuteTime": {
     "end_time": "2021-11-02T13:17:36.189265Z",
     "start_time": "2021-11-02T13:17:36.184003Z"
    }
   },
   "outputs": [],
   "source": [
    "# List all datasets used\n",
    "DATASET_PATHS = {}\n",
    "DATASET_PATHS['Lending_Club'] = os.path.join(DATASETS_BASEDIR, 'Lending Club')"
   ]
  },
  {
   "cell_type": "code",
   "execution_count": 5,
   "id": "33c8513c",
   "metadata": {
    "ExecuteTime": {
     "end_time": "2021-11-02T13:17:36.202774Z",
     "start_time": "2021-11-02T13:17:36.196342Z"
    }
   },
   "outputs": [],
   "source": [
    "for dataset_name in DATASET_PATHS:\n",
    "    if not os.path.exists(DATASET_PATHS[dataset_name]):\n",
    "        print(\"Verify that all required datasets are in your datasets folder!\")\n",
    "        raise FileNotFoundError(errno.ENOENT, os.strerror(errno.ENOENT), DATASET_PATHS[dataset_name])"
   ]
  },
  {
   "cell_type": "markdown",
   "id": "298e795f",
   "metadata": {},
   "source": [
    "### General Imports"
   ]
  },
  {
   "cell_type": "code",
   "execution_count": 6,
   "id": "c0e6b0d5",
   "metadata": {
    "ExecuteTime": {
     "end_time": "2021-11-02T13:17:49.764501Z",
     "start_time": "2021-11-02T13:17:41.830342Z"
    }
   },
   "outputs": [],
   "source": [
    "import pandas as pd\n",
    "import numpy as np\n",
    "import os\n",
    "import joblib\n",
    "import errno"
   ]
  },
  {
   "cell_type": "code",
   "execution_count": 7,
   "id": "2ab583b4",
   "metadata": {
    "ExecuteTime": {
     "end_time": "2021-11-02T13:17:56.182643Z",
     "start_time": "2021-11-02T13:17:49.767136Z"
    }
   },
   "outputs": [],
   "source": [
    "from sklearn.model_selection import train_test_split\n",
    "from sklearn.datasets import load_iris\n",
    "from sklearn.ensemble import AdaBoostClassifier, RandomForestClassifier"
   ]
  },
  {
   "cell_type": "markdown",
   "id": "205ba279",
   "metadata": {},
   "source": [
    "### Imports for checks"
   ]
  },
  {
   "cell_type": "code",
   "execution_count": 8,
   "id": "2a0dd36e",
   "metadata": {
    "ExecuteTime": {
     "end_time": "2021-11-02T13:18:00.007037Z",
     "start_time": "2021-11-02T13:17:56.184529Z"
    }
   },
   "outputs": [],
   "source": [
    "import mlchecks\n",
    "from mlchecks.base import Dataset"
   ]
  },
  {
   "cell_type": "code",
   "execution_count": 19,
   "id": "54ee33da",
   "metadata": {
    "ExecuteTime": {
     "end_time": "2021-11-02T13:35:39.678398Z",
     "start_time": "2021-11-02T13:35:39.673180Z"
    }
   },
   "outputs": [],
   "source": [
    "# Note - all checks are initialized also in mlchecks.checks and can be imported directly from there\n",
    "# Demonstration here it is just for the sake of order"
   ]
  },
  {
   "cell_type": "code",
   "execution_count": 18,
   "id": "ab40619e",
   "metadata": {
    "ExecuteTime": {
     "end_time": "2021-11-02T13:34:54.777509Z",
     "start_time": "2021-11-02T13:34:54.772540Z"
    },
    "code_folding": []
   },
   "outputs": [],
   "source": [
    "# Overview\n",
    "from mlchecks.checks.overview import dataset_info, DatasetInfo\n",
    "from mlchecks.checks.overview import model_info, ModelInfo\n",
    "from mlchecks.checks.overview import feature_importance, FeatureImportance"
   ]
  },
  {
   "cell_type": "code",
   "execution_count": 29,
   "id": "0e2833c5",
   "metadata": {
    "ExecuteTime": {
     "end_time": "2021-11-02T18:52:36.361482Z",
     "start_time": "2021-11-02T18:52:36.355208Z"
    }
   },
   "outputs": [],
   "source": [
    "# Integrity\n",
    "\n",
    "from mlchecks.checks.integrity import data_duplicates, DataDuplicates\n",
    "from mlchecks.checks.integrity import dominant_frequency_change, DominantFrequencyChange\n",
    "from mlchecks.checks.integrity import is_single_value, IsSingleValue\n",
    "from mlchecks.checks.integrity import mixed_nulls, MixedNulls\n",
    "from mlchecks.checks.integrity import mixed_types, MixedTypes\n",
    "from mlchecks.checks.integrity import new_category_train_validation, CategoryMismatchTrainTest\n",
    "from mlchecks.checks.integrity import new_label_train_validation, NewLabelTrainTest\n",
    "from mlchecks.checks.integrity import rare_format_detection, RareFormatDetection\n",
    "from mlchecks.checks.integrity import special_characters, SpecialCharacters\n",
    "from mlchecks.checks.integrity import string_length_outlier, StringLengthOutlier\n",
    "from mlchecks.checks.integrity import string_mismatch, StringMismatch\n",
    "from mlchecks.checks.integrity import string_mismatch_comparison, StringMismatchComparison"
   ]
  },
  {
   "cell_type": "code",
   "execution_count": null,
   "id": "d8836ac5",
   "metadata": {
    "ExecuteTime": {
     "end_time": "2021-11-02T13:34:19.900597Z",
     "start_time": "2021-11-02T13:34:19.894115Z"
    }
   },
   "outputs": [],
   "source": [
    "# Leakage\n",
    "\n",
    "from mlchecks.checks.leakage import data_sample_leakage_report, DataSampleLeakageReport\n",
    "\n",
    "from mlchecks.checks.leakage import date_train_validation_leakage_overlap, DateTrainTestLeakageOverlap\n",
    "from mlchecks.checks.leakage import date_train_validation_leakage_duplicates, DateTrainTestLeakageDuplicates\n",
    "\n",
    "from mlchecks.checks.leage import single_feature_contribution, SingleFeatureContribution\n",
    "from mlchecks.checks.leage import single_feature_contribution_train_validation, SingleFeatureContributionTrainTest\n",
    "\n",
    "from mlchecks.checks.leakage import index_train_validation_leakage, IndexTrainTestLeakage"
   ]
  },
  {
   "cell_type": "code",
   "execution_count": 17,
   "id": "2161be95",
   "metadata": {
    "ExecuteTime": {
     "end_time": "2021-11-02T13:34:19.900597Z",
     "start_time": "2021-11-02T13:34:19.894115Z"
    }
   },
   "outputs": [],
   "source": [
    "from mlchecks.checks.performance import performance_report, confusion_matrix_report, PerformanceReport, ConfusionMatrixReport"
   ]
  },
  {
   "cell_type": "markdown",
   "id": "17e6b95d",
   "metadata": {},
   "source": [
    "#### Leakage"
   ]
  },
  {
   "cell_type": "markdown",
   "id": "b75e4443",
   "metadata": {},
   "source": [
    "#### "
   ]
  },
  {
   "cell_type": "code",
   "execution_count": 13,
   "id": "470f7e49",
   "metadata": {
    "ExecuteTime": {
     "end_time": "2021-11-02T13:31:59.032058Z",
     "start_time": "2021-11-02T13:31:46.683569Z"
    }
   },
   "outputs": [
    {
     "ename": "ImportError",
     "evalue": "cannot import name 'BoostingOverfit' from 'mlchecks.checks.overfit' (/mnt/c/Users/Shir/NoSync_Documents/Git/MLChecks/mlchecks/checks/overfit/__init__.py)",
     "output_type": "error",
     "traceback": [
      "\u001b[0;31m---------------------------------------------------------------------------\u001b[0m",
      "\u001b[0;31mImportError\u001b[0m                               Traceback (most recent call last)",
      "\u001b[0;32m/tmp/ipykernel_8883/810330316.py\u001b[0m in \u001b[0;36m<module>\u001b[0;34m\u001b[0m\n\u001b[1;32m      1\u001b[0m \u001b[0;31m# Checks that were in demo but aren't in master yet:\u001b[0m\u001b[0;34m\u001b[0m\u001b[0;34m\u001b[0m\u001b[0;34m\u001b[0m\u001b[0m\n\u001b[1;32m      2\u001b[0m \u001b[0;32mfrom\u001b[0m \u001b[0mmlchecks\u001b[0m\u001b[0;34m.\u001b[0m\u001b[0mchecks\u001b[0m\u001b[0;34m.\u001b[0m\u001b[0mintegrity\u001b[0m\u001b[0;34m.\u001b[0m\u001b[0mrare_format_detection\u001b[0m \u001b[0;32mimport\u001b[0m \u001b[0mRareFormatDetection\u001b[0m\u001b[0;34m,\u001b[0m \u001b[0mrare_format_detection\u001b[0m\u001b[0;34m\u001b[0m\u001b[0;34m\u001b[0m\u001b[0m\n\u001b[0;32m----> 3\u001b[0;31m \u001b[0;32mfrom\u001b[0m \u001b[0mmlchecks\u001b[0m\u001b[0;34m.\u001b[0m\u001b[0mchecks\u001b[0m\u001b[0;34m.\u001b[0m\u001b[0moverfit\u001b[0m \u001b[0;32mimport\u001b[0m \u001b[0mboosting_overfit\u001b[0m\u001b[0;34m,\u001b[0m \u001b[0mBoostingOverfit\u001b[0m\u001b[0;34m\u001b[0m\u001b[0;34m\u001b[0m\u001b[0m\n\u001b[0m\u001b[1;32m      4\u001b[0m \u001b[0;32mfrom\u001b[0m \u001b[0mmlchecks\u001b[0m\u001b[0;34m.\u001b[0m\u001b[0mchecks\u001b[0m\u001b[0;34m.\u001b[0m\u001b[0moverfit\u001b[0m \u001b[0;32mimport\u001b[0m \u001b[0mperformance_overfit\u001b[0m\u001b[0;34m,\u001b[0m \u001b[0mPerformanceOverfit\u001b[0m\u001b[0;34m\u001b[0m\u001b[0;34m\u001b[0m\u001b[0m\n\u001b[1;32m      5\u001b[0m \u001b[0;32mfrom\u001b[0m \u001b[0mmlchecks\u001b[0m\u001b[0;34m.\u001b[0m\u001b[0mchecks\u001b[0m\u001b[0;34m.\u001b[0m\u001b[0mintegrity\u001b[0m\u001b[0;34m.\u001b[0m\u001b[0mdataset_drift\u001b[0m \u001b[0;32mimport\u001b[0m \u001b[0mdataset_drift\u001b[0m\u001b[0;34m\u001b[0m\u001b[0;34m\u001b[0m\u001b[0m\n",
      "\u001b[0;31mImportError\u001b[0m: cannot import name 'BoostingOverfit' from 'mlchecks.checks.overfit' (/mnt/c/Users/Shir/NoSync_Documents/Git/MLChecks/mlchecks/checks/overfit/__init__.py)"
     ]
    }
   ],
   "source": [
    "# additiona\n",
    "from mlchecks.checks.integrity.rare_format_detection import RareFormatDetection, rare_format_detection\n",
    "from mlchecks.checks.overfit import boosting_overfit, BoostingOverfit\n",
    "from mlchecks.checks.overfit import performance_overfit, PerformanceOverfit\n",
    "from mlchecks.checks.integrity.dataset_drift import dataset_drift"
   ]
  },
  {
   "cell_type": "markdown",
   "id": "facdec56",
   "metadata": {},
   "source": [
    "## Lending Club"
   ]
  },
  {
   "cell_type": "markdown",
   "id": "3522957a",
   "metadata": {},
   "source": [
    "### Load Data & Model"
   ]
  },
  {
   "cell_type": "code",
   "execution_count": null,
   "id": "08ecb914",
   "metadata": {
    "ExecuteTime": {
     "end_time": "2021-11-02T13:16:25.582726Z",
     "start_time": "2021-11-02T13:16:22.526799Z"
    }
   },
   "outputs": [],
   "source": [
    "lending_club_path = DATASET_PATHS['Lending_Club']\n",
    "df_train_lending_club = pd.read_csv(os.path.join(lending_club_path, 'train.csv'))\n",
    "df_train_lending_club.issue_d = pd.to_datetime(df_train.issue_d)\n",
    "df_val_lending_club = pd.read_csv(os.path.join(lending_club_path, 'test.csv'))\n",
    "df_val.issue_d = pd.to_datetime(df_val.issue_d)\n",
    "lending_club_catboost_clf = joblib.load(os.path.join(lending_club_path, 'model.joblib'))"
   ]
  },
  {
   "cell_type": "markdown",
   "id": "6650378f",
   "metadata": {},
   "source": [
    "#### Define Metadata for Dataset"
   ]
  },
  {
   "cell_type": "code",
   "execution_count": null,
   "id": "c884cbd4",
   "metadata": {
    "ExecuteTime": {
     "end_time": "2021-11-01T12:29:52.273738Z",
     "start_time": "2021-11-01T12:29:52.268488Z"
    }
   },
   "outputs": [],
   "source": [
    "# dataset metadata (manaul)\n",
    "\n",
    "categorical_features = ['addr_state',\n",
    " 'application_type',\n",
    "#  'disbursement_method',\n",
    "#  'grade',\n",
    " 'home_ownership',\n",
    " 'initial_list_status',\n",
    " 'purpose',\n",
    " 'term',\n",
    " 'verification_status']\n",
    "\n",
    "all_features = ['sub_grade', 'term', 'home_ownership', 'fico_range_low',\n",
    "       'total_acc', 'pub_rec', 'revol_util', 'annual_inc', 'int_rate', 'dti',\n",
    "       'purpose', 'mort_acc', 'loan_amnt', 'application_type', 'installment',\n",
    "       'verification_status', 'pub_rec_bankruptcies', 'addr_state',\n",
    "       'initial_list_status', 'fico_range_high', 'revol_bal', 'open_acc',\n",
    "       'emp_length', 'time_to_earliest_cr_line']\n",
    "\n",
    "label_col_name = 'loan_status'\n",
    "index_col_name = 'id'\n",
    "date_col_name = 'issue_d'\n",
    "# label_name_dict = {0: \"Default\", 1: \"OK\"}"
   ]
  },
  {
   "cell_type": "code",
   "execution_count": null,
   "id": "f6d3c070",
   "metadata": {
    "ExecuteTime": {
     "end_time": "2021-11-01T12:29:52.721742Z",
     "start_time": "2021-11-01T12:29:52.712161Z"
    }
   },
   "outputs": [],
   "source": [
    "df_train_lending_club.columns"
   ]
  },
  {
   "cell_type": "code",
   "execution_count": null,
   "id": "2fee781b",
   "metadata": {
    "ExecuteTime": {
     "end_time": "2021-11-02T13:17:08.205962Z",
     "start_time": "2021-11-02T13:17:05.888123Z"
    }
   },
   "outputs": [],
   "source": [
    "ds_train_lending_club = Dataset(df_train_lending_club, cat_features = categorical_features, features=all_features,\n",
    "                   label = label_col_name, index = index_col_name, date=date_col_name)\n",
    "ds_val_lending_club = Dataset(df_val_lending_club, cat_features = categorical_features, features=all_features,\n",
    "                   label = label_col_name, index = index_col_name, date=date_col_name)"
   ]
  },
  {
   "cell_type": "markdown",
   "id": "869023f2",
   "metadata": {},
   "source": [
    "### Additional for showing validation faults\n"
   ]
  },
  {
   "cell_type": "markdown",
   "id": "1edcd16a",
   "metadata": {},
   "source": [
    "#### demo util function"
   ]
  },
  {
   "cell_type": "code",
   "execution_count": null,
   "id": "1dcf3d23",
   "metadata": {
    "ExecuteTime": {
     "end_time": "2021-11-01T12:29:55.831236Z",
     "start_time": "2021-11-01T12:29:55.826981Z"
    }
   },
   "outputs": [],
   "source": [
    "def dataset_from_dict(d: dict, index_name: str = None) -> Dataset:\n",
    "    dataframe = pd.DataFrame(data=d)\n",
    "    return Dataset(dataframe, index=index_name)"
   ]
  },
  {
   "cell_type": "markdown",
   "id": "f3fe6164",
   "metadata": {},
   "source": [
    "#### demo data"
   ]
  },
  {
   "cell_type": "code",
   "execution_count": null,
   "id": "53e23423",
   "metadata": {
    "ExecuteTime": {
     "end_time": "2021-11-01T12:29:56.805419Z",
     "start_time": "2021-11-01T12:29:56.799279Z"
    }
   },
   "outputs": [],
   "source": [
    "# mixed nulls\n",
    "mixed_nulls_demo_data = {'col1': ['nan', None, 'null', 'Nan', '1', 'cat'], 'col2':['', '', 'None', 'a', 'b', 'c'], 'col3': [1,2,3,4,5,6]}\n",
    "df_mixed_nulls = pd.DataFrame(data=mixed_nulls_demo_data)"
   ]
  },
  {
   "cell_type": "code",
   "execution_count": null,
   "id": "00ee0294",
   "metadata": {
    "ExecuteTime": {
     "end_time": "2021-11-01T12:29:57.278581Z",
     "start_time": "2021-11-01T12:29:57.272334Z"
    }
   },
   "outputs": [],
   "source": [
    "# single value\n",
    "df_single_value_demo = pd.DataFrame({'a':[3,4,1], 'b':[2,2,2], 'c':[None, None, None], 'd':['a', 4, 6]})"
   ]
  },
  {
   "cell_type": "code",
   "execution_count": null,
   "id": "010bd416",
   "metadata": {
    "ExecuteTime": {
     "end_time": "2021-11-01T12:29:57.635045Z",
     "start_time": "2021-11-01T12:29:57.624211Z"
    }
   },
   "outputs": [],
   "source": [
    "# synthetic index leakage\n",
    "train_df_synthetic_leakage = dataset_from_dict({'col1': [1, 2, 3, 4, 10, 11]}, 'col1')\n",
    "val_df_synthetic_leakage = dataset_from_dict({'col1': [4, 3, 5, 6, 7]}, 'col1')"
   ]
  },
  {
   "cell_type": "code",
   "execution_count": null,
   "id": "a5181e28",
   "metadata": {
    "ExecuteTime": {
     "end_time": "2021-11-01T12:29:57.965809Z",
     "start_time": "2021-11-01T12:29:57.958939Z"
    }
   },
   "outputs": [],
   "source": [
    "# string mismatch data\n",
    "data = {'col1': ['Deep', 'deep', 'deep!!!', '$deeP$', 'earth', 'foo', 'bar', 'foo?']}\n",
    "df_string_mismatch = pd.DataFrame(data=data)"
   ]
  },
  {
   "cell_type": "code",
   "execution_count": null,
   "id": "d8a0a254",
   "metadata": {
    "ExecuteTime": {
     "end_time": "2021-11-01T12:29:58.396481Z",
     "start_time": "2021-11-01T12:29:58.377096Z"
    }
   },
   "outputs": [],
   "source": [
    "# index leakage\n",
    "iris = load_iris(as_frame=True)\n",
    "frame = iris.frame\n",
    "X = iris.data\n",
    "y = iris.target\n",
    "X_train, X_test, y_train, y_test = train_test_split(X, y, test_size=0.3, random_state=55)\n",
    "train_ds_index_leakage = Dataset(pd.concat([X_train, y_train], axis=1), \n",
    "            features=iris.feature_names,\n",
    "            label='target')\n",
    "\n",
    "test_df = pd.concat([X_test, y_test], axis=1)\n",
    "bad_test = test_df.append(train_ds_index_leakage.data.iloc[[0, 1, 2, 3, 4]], ignore_index=True)\n",
    "                    \n",
    "val_ds_index_leakage = Dataset(bad_test, \n",
    "            features=iris.feature_names,\n",
    "            label='target')"
   ]
  },
  {
   "cell_type": "code",
   "execution_count": null,
   "id": "dc69a19a",
   "metadata": {
    "ExecuteTime": {
     "end_time": "2021-11-01T12:29:58.987167Z",
     "start_time": "2021-11-01T12:29:58.966313Z"
    }
   },
   "outputs": [],
   "source": [
    "# rare format detection\n",
    "df = pd.DataFrame(np.random.choice(a=['BIG', 'STILL_BIG'], size=(200,3)), columns=['x1', 'x2', 'x3'])\n",
    "df = df.append({'x1': 'bla', 'x2': 'BIG', 'x3': 1}, ignore_index=True)\n",
    "df = df.append({'x1': 'bla', 'x2': 'BIG', 'x3': 1}, ignore_index=True)\n",
    "rare_format_df = df.append({'x1': 'bla2', 'x2': 'BIG', 'x3': 2}, ignore_index=True)"
   ]
  },
  {
   "cell_type": "code",
   "execution_count": null,
   "id": "71254dc0",
   "metadata": {
    "ExecuteTime": {
     "end_time": "2021-11-02T13:03:03.809278Z",
     "start_time": "2021-11-02T13:03:03.646330Z"
    }
   },
   "outputs": [],
   "source": [
    "# multiclass models - adaboost, randomforest (e.g. for overfit check)\n",
    "iris = load_iris(as_frame=True)\n",
    "frame = iris.frame\n",
    "X_iris = iris.data\n",
    "Y_iris = iris.target\n",
    "X_train_iris, X_test_iris, y_train_iris, y_test_iris = train_test_split(\n",
    "            X, Y, test_size=0.33, random_state=42)\n",
    "ds_train_iris = Dataset(pd.concat([X_train_iris, y_train_iris], axis=1), \n",
    "            features=iris.feature_names,\n",
    "            label='target')\n",
    "ds_val_iris = Dataset(pd.concat([X_test_iris, y_test_iris], axis=1), \n",
    "            features=iris.feature_names,\n",
    "            label='target')\n",
    "iris_multiclass_adaboost_clf = AdaBoostClassifier()\n",
    "iris_multiclass_adaboost_clf.fit(ds_train_iris.data.drop(ds_train_iris.label_name(), axis=1), ds_train_iris.label_col())\n",
    "iris_multiclass_rf_clf = RandomForestClassifier()\n",
    "iris_multiclass_rf_clf.fit(ds_train_iris.data.drop(ds_train_iris.label_name(), axis=1), ds_train_iris.label_col())"
   ]
  },
  {
   "cell_type": "markdown",
   "id": "73462329",
   "metadata": {},
   "source": [
    "##### Drift demo data"
   ]
  },
  {
   "cell_type": "code",
   "execution_count": null,
   "id": "ed46afa8",
   "metadata": {
    "ExecuteTime": {
     "end_time": "2021-11-01T12:30:00.314390Z",
     "start_time": "2021-11-01T12:30:00.307216Z"
    }
   },
   "outputs": [],
   "source": [
    "# Commented out all this cause drift feature isn't in master yet"
   ]
  },
  {
   "cell_type": "code",
   "execution_count": null,
   "id": "81bb9cd3",
   "metadata": {
    "ExecuteTime": {
     "end_time": "2021-11-01T12:30:00.570780Z",
     "start_time": "2021-11-01T12:30:00.565844Z"
    }
   },
   "outputs": [],
   "source": [
    "# df = pd.read_csv(os.path.join(KKBOX_DATASET_BASEDIR, 'train_clean.csv'))\n",
    "# test_df = pd.read_csv(os.path.join(KKBOX_DATASET_BASEDIR, 'test_clean.csv'))"
   ]
  },
  {
   "cell_type": "code",
   "execution_count": null,
   "id": "e43a4f39",
   "metadata": {
    "ExecuteTime": {
     "end_time": "2021-11-01T12:30:00.726259Z",
     "start_time": "2021-11-01T12:30:00.722716Z"
    }
   },
   "outputs": [],
   "source": [
    "# test_df.date = pd.to_datetime(test_df.date*10**9)"
   ]
  },
  {
   "cell_type": "code",
   "execution_count": null,
   "id": "d81fe7b7",
   "metadata": {
    "ExecuteTime": {
     "end_time": "2021-11-01T12:30:00.916335Z",
     "start_time": "2021-11-01T12:30:00.910552Z"
    }
   },
   "outputs": [],
   "source": [
    "# drift_org_dataset = Dataset(test_df,  \n",
    "#                  features=['num_25', 'num_50', 'num_75', 'num_985', 'num_100', 'num_unq',\n",
    "#        'total_secs', 'days_listened', 'plan_list_price', 'is_auto_renew',\n",
    "#        'is_cancel', 'gender', 'registered_via', 'secs_per_song', 'num_days'],\n",
    "#                   label='y_true49a0c676-35fd-11ea-978f-2e728ce88125',\n",
    "#                   cat_features= ['gender', 'registered_via'],\n",
    "#                   index='msno', date='date')\n",
    "\n",
    "# drift_compared_dataset = Dataset(df,\n",
    "#                           features=['num_25', 'num_50', 'num_75', 'num_985', 'num_100', 'num_unq',\n",
    "#        'total_secs', 'days_listened', 'plan_list_price', 'is_auto_renew',\n",
    "#        'is_cancel', 'gender', 'registered_via', 'secs_per_song', 'num_days'],\n",
    "#                           label='y_true49a0c676-35fd-11ea-978f-2e728ce88125',\n",
    "#                           cat_features= ['gender', 'registered_via'],\n",
    "#                           index='msno')"
   ]
  },
  {
   "cell_type": "markdown",
   "id": "316aceb1",
   "metadata": {},
   "source": [
    "## Run checks"
   ]
  },
  {
   "cell_type": "markdown",
   "id": "83245c45",
   "metadata": {},
   "source": [
    "### Overview"
   ]
  },
  {
   "cell_type": "markdown",
   "id": "6f254965",
   "metadata": {
    "heading_collapsed": true
   },
   "source": [
    "#### Dataset Info"
   ]
  },
  {
   "cell_type": "code",
   "execution_count": null,
   "id": "c2dbc02c",
   "metadata": {
    "ExecuteTime": {
     "end_time": "2021-11-01T12:30:20.312426Z",
     "start_time": "2021-11-01T12:30:01.515239Z"
    },
    "hidden": true
   },
   "outputs": [],
   "source": [
    "dataset_info(ds_train)"
   ]
  },
  {
   "cell_type": "markdown",
   "id": "5145a944",
   "metadata": {},
   "source": [
    "#### Feature Importance (SHAP)"
   ]
  },
  {
   "cell_type": "markdown",
   "id": "8485039b",
   "metadata": {
    "heading_collapsed": true
   },
   "source": [
    "##### Binary Classifier"
   ]
  },
  {
   "cell_type": "code",
   "execution_count": null,
   "id": "b861b71a",
   "metadata": {
    "ExecuteTime": {
     "end_time": "2021-11-02T13:14:55.938309Z",
     "start_time": "2021-11-02T13:14:55.928234Z"
    },
    "hidden": true
   },
   "outputs": [],
   "source": [
    "ds_train.data.shape"
   ]
  },
  {
   "cell_type": "code",
   "execution_count": null,
   "id": "bc9a1901",
   "metadata": {
    "ExecuteTime": {
     "end_time": "2021-11-02T13:14:31.929720Z",
     "start_time": "2021-11-02T13:13:25.516894Z"
    },
    "hidden": true
   },
   "outputs": [],
   "source": [
    "feature_importance(ds_train, lending_club_model)"
   ]
  },
  {
   "cell_type": "code",
   "execution_count": null,
   "id": "cd4e5cda",
   "metadata": {
    "ExecuteTime": {
     "end_time": "2021-11-02T13:13:19.347212Z",
     "start_time": "2021-11-02T13:13:19.347182Z"
    },
    "hidden": true
   },
   "outputs": [],
   "source": [
    "res"
   ]
  },
  {
   "cell_type": "markdown",
   "id": "4114c894",
   "metadata": {},
   "source": [
    "##### Multi-class Classifier"
   ]
  },
  {
   "cell_type": "code",
   "execution_count": null,
   "id": "a6d048f5",
   "metadata": {
    "ExecuteTime": {
     "end_time": "2021-11-02T13:13:22.280987Z",
     "start_time": "2021-11-02T13:13:21.432169Z"
    }
   },
   "outputs": [],
   "source": [
    "feature_importance(ds_train_iris, iris_multiclass_rf_clf)"
   ]
  },
  {
   "cell_type": "markdown",
   "id": "29f97a59",
   "metadata": {},
   "source": [
    "#### Model Info"
   ]
  },
  {
   "cell_type": "code",
   "execution_count": null,
   "id": "a65f5ff7",
   "metadata": {
    "ExecuteTime": {
     "end_time": "2021-11-02T13:03:22.273598Z",
     "start_time": "2021-11-02T13:03:22.230310Z"
    }
   },
   "outputs": [],
   "source": [
    "model_info(lending_club_model)"
   ]
  },
  {
   "cell_type": "code",
   "execution_count": null,
   "id": "03520051",
   "metadata": {
    "ExecuteTime": {
     "end_time": "2021-11-02T13:03:41.985923Z",
     "start_time": "2021-11-02T13:03:41.971434Z"
    }
   },
   "outputs": [],
   "source": [
    "model_info(iris_multiclass_adaboost_clf)"
   ]
  },
  {
   "cell_type": "markdown",
   "id": "cc05c824",
   "metadata": {},
   "source": [
    "### Integrity"
   ]
  },
  {
   "cell_type": "markdown",
   "id": "53edb405",
   "metadata": {
    "heading_collapsed": true
   },
   "source": [
    "#### Mixed Nulls"
   ]
  },
  {
   "cell_type": "code",
   "execution_count": null,
   "id": "87f0e080",
   "metadata": {
    "ExecuteTime": {
     "end_time": "2021-11-01T12:30:20.471141Z",
     "start_time": "2021-11-01T12:30:20.455225Z"
    },
    "hidden": true
   },
   "outputs": [],
   "source": [
    "mixed_nulls(df_mixed_nulls)"
   ]
  },
  {
   "cell_type": "code",
   "execution_count": null,
   "id": "d6cf1f72",
   "metadata": {
    "ExecuteTime": {
     "end_time": "2021-11-01T12:30:20.591320Z",
     "start_time": "2021-11-01T12:30:20.474061Z"
    },
    "hidden": true
   },
   "outputs": [],
   "source": [
    "mixed_nulls(df_train)"
   ]
  },
  {
   "cell_type": "code",
   "execution_count": null,
   "id": "66598aa4",
   "metadata": {
    "ExecuteTime": {
     "end_time": "2021-11-01T12:30:20.650286Z",
     "start_time": "2021-11-01T12:30:20.592816Z"
    },
    "hidden": true
   },
   "outputs": [],
   "source": [
    "mixed_nulls(df_val)"
   ]
  },
  {
   "cell_type": "markdown",
   "id": "1f4debad",
   "metadata": {
    "heading_collapsed": true
   },
   "source": [
    "#### Single Value"
   ]
  },
  {
   "cell_type": "code",
   "execution_count": null,
   "id": "1fe64c4b",
   "metadata": {
    "ExecuteTime": {
     "end_time": "2021-11-01T12:30:20.663837Z",
     "start_time": "2021-11-01T12:30:20.651838Z"
    },
    "hidden": true
   },
   "outputs": [],
   "source": [
    "is_single_value(df_single_value_demo)"
   ]
  },
  {
   "cell_type": "code",
   "execution_count": null,
   "id": "037539e1",
   "metadata": {
    "ExecuteTime": {
     "end_time": "2021-11-01T12:30:20.797905Z",
     "start_time": "2021-11-01T12:30:20.665716Z"
    },
    "hidden": true
   },
   "outputs": [],
   "source": [
    "is_single_value(df_train)"
   ]
  },
  {
   "cell_type": "code",
   "execution_count": null,
   "id": "2abf8d44",
   "metadata": {
    "ExecuteTime": {
     "end_time": "2021-11-01T12:30:20.866441Z",
     "start_time": "2021-11-01T12:30:20.799304Z"
    },
    "hidden": true
   },
   "outputs": [],
   "source": [
    "is_single_value(df_val)"
   ]
  },
  {
   "cell_type": "markdown",
   "id": "8c8eec86",
   "metadata": {
    "heading_collapsed": true
   },
   "source": [
    "#### String Mismatch - till here done but not updated"
   ]
  },
  {
   "cell_type": "code",
   "execution_count": null,
   "id": "16ca6eac",
   "metadata": {
    "ExecuteTime": {
     "end_time": "2021-11-01T12:30:20.889247Z",
     "start_time": "2021-11-01T12:30:20.868289Z"
    },
    "hidden": true
   },
   "outputs": [],
   "source": [
    "df_string_mismatch"
   ]
  },
  {
   "cell_type": "code",
   "execution_count": null,
   "id": "516353c6",
   "metadata": {
    "ExecuteTime": {
     "end_time": "2021-11-01T12:30:20.904494Z",
     "start_time": "2021-11-01T12:30:20.892884Z"
    },
    "hidden": true
   },
   "outputs": [],
   "source": [
    "string_mismatch(df_string_mismatch)"
   ]
  },
  {
   "cell_type": "code",
   "execution_count": null,
   "id": "f9eec6bd",
   "metadata": {
    "ExecuteTime": {
     "end_time": "2021-11-01T12:30:20.993699Z",
     "start_time": "2021-11-01T12:30:20.905944Z"
    },
    "hidden": true
   },
   "outputs": [],
   "source": [
    "string_mismatch(df_train)"
   ]
  },
  {
   "cell_type": "code",
   "execution_count": null,
   "id": "2b23bb5d",
   "metadata": {
    "ExecuteTime": {
     "end_time": "2021-11-01T12:30:21.040501Z",
     "start_time": "2021-11-01T12:30:20.995400Z"
    },
    "hidden": true
   },
   "outputs": [],
   "source": [
    "string_mismatch(df_val)"
   ]
  },
  {
   "cell_type": "markdown",
   "id": "3c864b23",
   "metadata": {},
   "source": [
    "#### From here TODO"
   ]
  },
  {
   "cell_type": "markdown",
   "id": "20ceaaf7",
   "metadata": {},
   "source": [
    "#### Data Duplicates"
   ]
  },
  {
   "cell_type": "code",
   "execution_count": null,
   "id": "fe5e08e1",
   "metadata": {},
   "outputs": [],
   "source": []
  },
  {
   "cell_type": "markdown",
   "id": "919eb60e",
   "metadata": {},
   "source": [
    "#### Dominant Frequency Change"
   ]
  },
  {
   "cell_type": "markdown",
   "id": "e696a7fc",
   "metadata": {},
   "source": [
    "#### Mixed Types"
   ]
  },
  {
   "cell_type": "markdown",
   "id": "9e5c4f05",
   "metadata": {},
   "source": [
    "#### New Category"
   ]
  },
  {
   "cell_type": "markdown",
   "id": "e8110579",
   "metadata": {},
   "source": [
    "#### New Label"
   ]
  },
  {
   "cell_type": "markdown",
   "id": "deaa9c27",
   "metadata": {},
   "source": [
    "#### Special Characters"
   ]
  },
  {
   "cell_type": "markdown",
   "id": "e7745bab",
   "metadata": {},
   "source": [
    "#### String Length Outlier"
   ]
  },
  {
   "cell_type": "markdown",
   "id": "51b88d26",
   "metadata": {
    "ExecuteTime": {
     "end_time": "2021-11-01T12:49:36.033828Z",
     "start_time": "2021-11-01T12:49:36.029516Z"
    }
   },
   "source": [
    "#### String Mismatch Comparison"
   ]
  },
  {
   "cell_type": "markdown",
   "id": "cd1e0989",
   "metadata": {
    "heading_collapsed": true
   },
   "source": [
    "#### Rare Format Detection"
   ]
  },
  {
   "cell_type": "code",
   "execution_count": null,
   "id": "7c5bd5ea",
   "metadata": {
    "ExecuteTime": {
     "end_time": "2021-11-01T12:30:21.044341Z",
     "start_time": "2021-11-01T12:30:21.041751Z"
    },
    "hidden": true
   },
   "outputs": [],
   "source": [
    "# rare_format_detection(rare_format_df)\n",
    "# rare_format_df = df.append({'x1': 'bla2', 'x2': 'BIG', 'x3': 2}, ignore_index=True)"
   ]
  },
  {
   "cell_type": "code",
   "execution_count": null,
   "id": "9d96d457",
   "metadata": {
    "ExecuteTime": {
     "end_time": "2021-11-01T12:30:21.050396Z",
     "start_time": "2021-11-01T12:30:21.045697Z"
    },
    "hidden": true
   },
   "outputs": [],
   "source": [
    "# rare_format_detection(df_train)"
   ]
  },
  {
   "cell_type": "markdown",
   "id": "e9c5c651",
   "metadata": {},
   "source": [
    "### Overfit"
   ]
  },
  {
   "cell_type": "markdown",
   "id": "0b7dd6c8",
   "metadata": {
    "ExecuteTime": {
     "end_time": "2021-11-01T12:30:21.062636Z",
     "start_time": "2021-11-01T12:30:21.057850Z"
    }
   },
   "source": [
    "#### TODO - Boosting Overfit"
   ]
  },
  {
   "cell_type": "markdown",
   "id": "eb56a773",
   "metadata": {
    "ExecuteTime": {
     "end_time": "2021-11-01T12:30:21.067245Z",
     "start_time": "2021-11-01T12:30:21.064362Z"
    }
   },
   "source": [
    "#### TODO - Performance Overfit"
   ]
  },
  {
   "cell_type": "markdown",
   "id": "8e36f433",
   "metadata": {
    "heading_collapsed": true
   },
   "source": [
    "### Drift"
   ]
  },
  {
   "cell_type": "code",
   "execution_count": null,
   "id": "f1845afe",
   "metadata": {
    "ExecuteTime": {
     "end_time": "2021-11-01T12:56:39.791532Z",
     "start_time": "2021-11-01T12:56:39.788459Z"
    },
    "hidden": true
   },
   "outputs": [],
   "source": [
    "# TBD"
   ]
  },
  {
   "cell_type": "markdown",
   "id": "31251702",
   "metadata": {
    "heading_collapsed": true
   },
   "source": [
    "### Leakage"
   ]
  },
  {
   "cell_type": "markdown",
   "id": "7a63405e",
   "metadata": {
    "hidden": true
   },
   "source": [
    "#### Index Train-Validation Leakage"
   ]
  },
  {
   "cell_type": "code",
   "execution_count": null,
   "id": "229a328f",
   "metadata": {
    "ExecuteTime": {
     "end_time": "2021-11-01T12:30:21.083355Z",
     "start_time": "2021-11-01T12:30:21.073620Z"
    },
    "hidden": true
   },
   "outputs": [],
   "source": [
    "index_train_validation_leakage(train_df_synthetic_leakage, val_df_synthetic_leakage)"
   ]
  },
  {
   "cell_type": "code",
   "execution_count": null,
   "id": "a1514648",
   "metadata": {
    "ExecuteTime": {
     "end_time": "2021-11-01T12:30:21.137582Z",
     "start_time": "2021-11-01T12:30:21.084670Z"
    },
    "hidden": true
   },
   "outputs": [],
   "source": [
    "index_train_validation_leakage(ds_train, ds_val)"
   ]
  },
  {
   "cell_type": "markdown",
   "id": "bd2dbb01",
   "metadata": {
    "hidden": true
   },
   "source": [
    "#### Data Sample Leakage"
   ]
  },
  {
   "cell_type": "code",
   "execution_count": null,
   "id": "de0c3876",
   "metadata": {
    "ExecuteTime": {
     "end_time": "2021-11-01T12:30:21.161434Z",
     "start_time": "2021-11-01T12:30:21.139387Z"
    },
    "hidden": true
   },
   "outputs": [],
   "source": [
    "data_sample_leakage_report(val_ds_index_leakage, train_ds_index_leakage)"
   ]
  },
  {
   "cell_type": "code",
   "execution_count": null,
   "id": "ae66f715",
   "metadata": {
    "ExecuteTime": {
     "end_time": "2021-11-01T12:30:21.165733Z",
     "start_time": "2021-11-01T12:30:21.163443Z"
    },
    "hidden": true
   },
   "outputs": [],
   "source": [
    "# data_sample_leakage_report(ds_val, ds_train)"
   ]
  },
  {
   "cell_type": "markdown",
   "id": "5c20ece0",
   "metadata": {
    "hidden": true
   },
   "source": [
    "#### TODO - Single Feature Contribution"
   ]
  },
  {
   "cell_type": "markdown",
   "id": "7f9f8da1",
   "metadata": {},
   "source": [
    "### Performance"
   ]
  },
  {
   "cell_type": "markdown",
   "id": "26192191",
   "metadata": {
    "heading_collapsed": true
   },
   "source": [
    "#### Performance Report"
   ]
  },
  {
   "cell_type": "code",
   "execution_count": null,
   "id": "c239deb3",
   "metadata": {
    "ExecuteTime": {
     "end_time": "2021-11-01T12:32:10.072389Z",
     "start_time": "2021-11-01T12:32:10.068836Z"
    },
    "hidden": true
   },
   "outputs": [],
   "source": [
    "cls_report_check = PerformanceReport()"
   ]
  },
  {
   "cell_type": "code",
   "execution_count": null,
   "id": "a3342531",
   "metadata": {
    "ExecuteTime": {
     "end_time": "2021-11-01T12:32:13.059242Z",
     "start_time": "2021-11-01T12:32:12.501950Z"
    },
    "hidden": true
   },
   "outputs": [],
   "source": [
    "cls_report_check.run(ds_val, lending_club_model)"
   ]
  },
  {
   "cell_type": "markdown",
   "id": "78323edf",
   "metadata": {
    "heading_collapsed": true
   },
   "source": [
    "#### TODO - Confusion Matrix Report"
   ]
  },
  {
   "cell_type": "markdown",
   "id": "6b05f207",
   "metadata": {
    "heading_collapsed": true
   },
   "source": [
    "#### TODO - Naive Comparison"
   ]
  },
  {
   "cell_type": "markdown",
   "id": "78a83fab",
   "metadata": {
    "heading_collapsed": true
   },
   "source": [
    "#### TODO - ROC Report"
   ]
  }
 ],
 "metadata": {
  "kernelspec": {
   "display_name": "Python 3 (ipykernel)",
   "language": "python",
   "name": "python3"
  },
  "language_info": {
   "codemirror_mode": {
    "name": "ipython",
    "version": 3
   },
   "file_extension": ".py",
   "mimetype": "text/x-python",
   "name": "python",
   "nbconvert_exporter": "python",
   "pygments_lexer": "ipython3",
   "version": "3.8.10"
  },
  "toc": {
   "base_numbering": 1,
   "nav_menu": {},
   "number_sections": true,
   "sideBar": true,
   "skip_h1_title": false,
   "title_cell": "Table of Contents",
   "title_sidebar": "Contents",
   "toc_cell": false,
   "toc_position": {},
   "toc_section_display": true,
   "toc_window_display": false
  }
 },
 "nbformat": 4,
 "nbformat_minor": 5
}
