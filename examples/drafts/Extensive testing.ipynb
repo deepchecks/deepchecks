{
 "cells": [
  {
   "cell_type": "code",
   "execution_count": 1,
   "id": "70b2aef4-0dc2-444d-885b-e4e6c19a21ec",
   "metadata": {},
   "outputs": [],
   "source": [
    "import numpy as np\n",
    "import pandas as pd\n",
    "import matplotlib.pyplot as plt\n",
    "%matplotlib inline\n",
    "%load_ext autoreload\n",
    "%autoreload 2"
   ]
  },
  {
   "cell_type": "code",
   "execution_count": 2,
   "id": "b82dc694-274b-41ac-b914-146218c3378d",
   "metadata": {},
   "outputs": [],
   "source": [
    "from mlchecks.checks import Dataset\n",
    "from mlchecks.base.suite import CheckSuite\n",
    "from mlchecks.suites import *"
   ]
  },
  {
   "cell_type": "code",
   "execution_count": 3,
   "id": "736e667e-51cf-4c6c-8ffa-d2a3e5f00991",
   "metadata": {},
   "outputs": [],
   "source": [
    "from urllib.request import urlopen"
   ]
  },
  {
   "cell_type": "markdown",
   "id": "b4eceda9-a1ea-4d1a-a16c-916dacbe2b50",
   "metadata": {},
   "source": [
    "# Adult dataset"
   ]
  },
  {
   "cell_type": "markdown",
   "id": "f0946973-d6c2-49b8-afe0-87dc37e32930",
   "metadata": {},
   "source": [
    "## load datasets"
   ]
  },
  {
   "cell_type": "code",
   "execution_count": 4,
   "id": "9040e968-a18b-4bb5-9939-59a571648f15",
   "metadata": {},
   "outputs": [],
   "source": [
    "name_data = urlopen('https://archive.ics.uci.edu/ml/machine-learning-databases/adult/adult.names')\n",
    "lines = [l.decode(\"utf-8\") for l in name_data if ':' in l.decode(\"utf-8\") and '|' not in l.decode(\"utf-8\")]\n",
    "\n",
    "features = [l.split(':')[0] for l in lines]\n",
    "label_name = 'income'\n",
    "\n",
    "cat_features = [l.split(':')[0] for l in lines if 'continuous' not in l]\n",
    "\n",
    "train_df = pd.read_csv('https://archive.ics.uci.edu/ml/machine-learning-databases/adult/adult.data',\n",
    "                       names=features + [label_name])\n",
    "val_df = pd.read_csv('https://archive.ics.uci.edu/ml/machine-learning-databases/adult/adult.test',\n",
    "                      names=features + [label_name], skiprows=1)"
   ]
  },
  {
   "cell_type": "code",
   "execution_count": 5,
   "id": "55fd48f4-b525-46bc-85a3-aa26aed2081c",
   "metadata": {},
   "outputs": [
    {
     "data": {
      "text/plain": [
       "(32561, 15)"
      ]
     },
     "execution_count": 5,
     "metadata": {},
     "output_type": "execute_result"
    }
   ],
   "source": [
    "train_df.shape"
   ]
  },
  {
   "cell_type": "code",
   "execution_count": 6,
   "id": "e11f02e3-2b03-43de-9ab2-50476c306c9e",
   "metadata": {},
   "outputs": [
    {
     "data": {
      "text/html": [
       "<div>\n",
       "<style scoped>\n",
       "    .dataframe tbody tr th:only-of-type {\n",
       "        vertical-align: middle;\n",
       "    }\n",
       "\n",
       "    .dataframe tbody tr th {\n",
       "        vertical-align: top;\n",
       "    }\n",
       "\n",
       "    .dataframe thead th {\n",
       "        text-align: right;\n",
       "    }\n",
       "</style>\n",
       "<table border=\"1\" class=\"dataframe\">\n",
       "  <thead>\n",
       "    <tr style=\"text-align: right;\">\n",
       "      <th></th>\n",
       "      <th>age</th>\n",
       "      <th>workclass</th>\n",
       "      <th>fnlwgt</th>\n",
       "      <th>education</th>\n",
       "      <th>education-num</th>\n",
       "      <th>marital-status</th>\n",
       "      <th>occupation</th>\n",
       "      <th>relationship</th>\n",
       "      <th>race</th>\n",
       "      <th>sex</th>\n",
       "      <th>capital-gain</th>\n",
       "      <th>capital-loss</th>\n",
       "      <th>hours-per-week</th>\n",
       "      <th>native-country</th>\n",
       "      <th>income</th>\n",
       "    </tr>\n",
       "  </thead>\n",
       "  <tbody>\n",
       "    <tr>\n",
       "      <th>0</th>\n",
       "      <td>39</td>\n",
       "      <td>State-gov</td>\n",
       "      <td>77516</td>\n",
       "      <td>Bachelors</td>\n",
       "      <td>13</td>\n",
       "      <td>Never-married</td>\n",
       "      <td>Adm-clerical</td>\n",
       "      <td>Not-in-family</td>\n",
       "      <td>White</td>\n",
       "      <td>Male</td>\n",
       "      <td>2174</td>\n",
       "      <td>0</td>\n",
       "      <td>40</td>\n",
       "      <td>United-States</td>\n",
       "      <td>&lt;=50K</td>\n",
       "    </tr>\n",
       "    <tr>\n",
       "      <th>1</th>\n",
       "      <td>50</td>\n",
       "      <td>Self-emp-not-inc</td>\n",
       "      <td>83311</td>\n",
       "      <td>Bachelors</td>\n",
       "      <td>13</td>\n",
       "      <td>Married-civ-spouse</td>\n",
       "      <td>Exec-managerial</td>\n",
       "      <td>Husband</td>\n",
       "      <td>White</td>\n",
       "      <td>Male</td>\n",
       "      <td>0</td>\n",
       "      <td>0</td>\n",
       "      <td>13</td>\n",
       "      <td>United-States</td>\n",
       "      <td>&lt;=50K</td>\n",
       "    </tr>\n",
       "  </tbody>\n",
       "</table>\n",
       "</div>"
      ],
      "text/plain": [
       "   age          workclass  fnlwgt   education  education-num  \\\n",
       "0   39          State-gov   77516   Bachelors             13   \n",
       "1   50   Self-emp-not-inc   83311   Bachelors             13   \n",
       "\n",
       "        marital-status        occupation    relationship    race    sex  \\\n",
       "0        Never-married      Adm-clerical   Not-in-family   White   Male   \n",
       "1   Married-civ-spouse   Exec-managerial         Husband   White   Male   \n",
       "\n",
       "   capital-gain  capital-loss  hours-per-week  native-country  income  \n",
       "0          2174             0              40   United-States   <=50K  \n",
       "1             0             0              13   United-States   <=50K  "
      ]
     },
     "execution_count": 6,
     "metadata": {},
     "output_type": "execute_result"
    }
   ],
   "source": [
    "train_df.head(2)"
   ]
  },
  {
   "cell_type": "code",
   "execution_count": 7,
   "id": "da40b5fb-db12-4381-8474-59ac49e4cd86",
   "metadata": {},
   "outputs": [
    {
     "data": {
      "text/plain": [
       "(16281, 15)"
      ]
     },
     "execution_count": 7,
     "metadata": {},
     "output_type": "execute_result"
    }
   ],
   "source": [
    "val_df.shape"
   ]
  },
  {
   "cell_type": "code",
   "execution_count": 8,
   "id": "807b070e-5778-4867-b4a1-52c38486de27",
   "metadata": {},
   "outputs": [
    {
     "data": {
      "text/html": [
       "<div>\n",
       "<style scoped>\n",
       "    .dataframe tbody tr th:only-of-type {\n",
       "        vertical-align: middle;\n",
       "    }\n",
       "\n",
       "    .dataframe tbody tr th {\n",
       "        vertical-align: top;\n",
       "    }\n",
       "\n",
       "    .dataframe thead th {\n",
       "        text-align: right;\n",
       "    }\n",
       "</style>\n",
       "<table border=\"1\" class=\"dataframe\">\n",
       "  <thead>\n",
       "    <tr style=\"text-align: right;\">\n",
       "      <th></th>\n",
       "      <th>age</th>\n",
       "      <th>workclass</th>\n",
       "      <th>fnlwgt</th>\n",
       "      <th>education</th>\n",
       "      <th>education-num</th>\n",
       "      <th>marital-status</th>\n",
       "      <th>occupation</th>\n",
       "      <th>relationship</th>\n",
       "      <th>race</th>\n",
       "      <th>sex</th>\n",
       "      <th>capital-gain</th>\n",
       "      <th>capital-loss</th>\n",
       "      <th>hours-per-week</th>\n",
       "      <th>native-country</th>\n",
       "      <th>income</th>\n",
       "    </tr>\n",
       "  </thead>\n",
       "  <tbody>\n",
       "    <tr>\n",
       "      <th>0</th>\n",
       "      <td>25</td>\n",
       "      <td>Private</td>\n",
       "      <td>226802</td>\n",
       "      <td>11th</td>\n",
       "      <td>7</td>\n",
       "      <td>Never-married</td>\n",
       "      <td>Machine-op-inspct</td>\n",
       "      <td>Own-child</td>\n",
       "      <td>Black</td>\n",
       "      <td>Male</td>\n",
       "      <td>0</td>\n",
       "      <td>0</td>\n",
       "      <td>40</td>\n",
       "      <td>United-States</td>\n",
       "      <td>&lt;=50K.</td>\n",
       "    </tr>\n",
       "    <tr>\n",
       "      <th>1</th>\n",
       "      <td>38</td>\n",
       "      <td>Private</td>\n",
       "      <td>89814</td>\n",
       "      <td>HS-grad</td>\n",
       "      <td>9</td>\n",
       "      <td>Married-civ-spouse</td>\n",
       "      <td>Farming-fishing</td>\n",
       "      <td>Husband</td>\n",
       "      <td>White</td>\n",
       "      <td>Male</td>\n",
       "      <td>0</td>\n",
       "      <td>0</td>\n",
       "      <td>50</td>\n",
       "      <td>United-States</td>\n",
       "      <td>&lt;=50K.</td>\n",
       "    </tr>\n",
       "  </tbody>\n",
       "</table>\n",
       "</div>"
      ],
      "text/plain": [
       "   age workclass  fnlwgt education  education-num       marital-status  \\\n",
       "0   25   Private  226802      11th              7        Never-married   \n",
       "1   38   Private   89814   HS-grad              9   Married-civ-spouse   \n",
       "\n",
       "           occupation relationship    race    sex  capital-gain  capital-loss  \\\n",
       "0   Machine-op-inspct    Own-child   Black   Male             0             0   \n",
       "1     Farming-fishing      Husband   White   Male             0             0   \n",
       "\n",
       "   hours-per-week  native-country   income  \n",
       "0              40   United-States   <=50K.  \n",
       "1              50   United-States   <=50K.  "
      ]
     },
     "execution_count": 8,
     "metadata": {},
     "output_type": "execute_result"
    }
   ],
   "source": [
    "val_df.head(2)"
   ]
  },
  {
   "cell_type": "code",
   "execution_count": 9,
   "id": "da3a1860-94ee-4c61-94cb-79bb4465289a",
   "metadata": {},
   "outputs": [
    {
     "data": {
      "text/plain": [
       "['workclass',\n",
       " 'education',\n",
       " 'marital-status',\n",
       " 'occupation',\n",
       " 'relationship',\n",
       " 'race',\n",
       " 'sex',\n",
       " 'native-country']"
      ]
     },
     "execution_count": 9,
     "metadata": {},
     "output_type": "execute_result"
    }
   ],
   "source": [
    "cat_features"
   ]
  },
  {
   "cell_type": "markdown",
   "id": "572d275d-7a06-4dc9-8542-019a0d428a5d",
   "metadata": {},
   "source": [
    "## Build model"
   ]
  },
  {
   "cell_type": "code",
   "execution_count": 10,
   "id": "49cba0de-9e64-4253-a0c6-1f007f02f037",
   "metadata": {},
   "outputs": [],
   "source": [
    "from catboost import CatBoostClassifier"
   ]
  },
  {
   "cell_type": "code",
   "execution_count": 11,
   "id": "b320df25-409e-40f4-82d1-191f0f2394fd",
   "metadata": {},
   "outputs": [],
   "source": [
    "model = CatBoostClassifier(cat_features=cat_features)"
   ]
  },
  {
   "cell_type": "code",
   "execution_count": 12,
   "id": "88180db2-82e7-4f57-8975-b2052f2da308",
   "metadata": {},
   "outputs": [
    {
     "data": {
      "text/plain": [
       "<catboost.core.CatBoostClassifier at 0x7f772d82bb50>"
      ]
     },
     "execution_count": 12,
     "metadata": {},
     "output_type": "execute_result"
    }
   ],
   "source": [
    "model.fit(train_df[features], train_df[label_name], silent=True)"
   ]
  },
  {
   "cell_type": "markdown",
   "id": "c8bc4481-a618-48d9-95a2-f30269da9940",
   "metadata": {},
   "source": [
    "## Run suites"
   ]
  },
  {
   "cell_type": "code",
   "execution_count": 13,
   "id": "9c71e4a3-0548-4144-a13b-0e987844f781",
   "metadata": {},
   "outputs": [],
   "source": [
    "train_ds = Dataset(train_df, label=label_name, cat_features=cat_features)\n",
    "val_ds = Dataset(val_df, label=label_name, cat_features=cat_features)"
   ]
  },
  {
   "cell_type": "code",
   "execution_count": 14,
   "id": "d2f157c2-7659-41f5-a7d5-ccc826cb4617",
   "metadata": {},
   "outputs": [
    {
     "data": {
      "text/plain": [
       "{'params': {}}"
      ]
     },
     "execution_count": 14,
     "metadata": {},
     "output_type": "execute_result"
    }
   ],
   "source": [
    "IntegrityCheckSuite.checks[0].checks[-2].__dict__"
   ]
  },
  {
   "cell_type": "code",
   "execution_count": 15,
   "id": "ad448755-0cbf-42ed-a131-b481071fb158",
   "metadata": {},
   "outputs": [
    {
     "data": {
      "text/html": [
       "<h3>Integrity Suite</h3>"
      ]
     },
     "metadata": {},
     "output_type": "display_data"
    },
    {
     "data": {
      "text/html": [
       "<h3>Single Dataset Integrity Suite</h3>"
      ]
     },
     "metadata": {},
     "output_type": "display_data"
    },
    {
     "data": {
      "text/html": [
       "<h4>Single Value in Column - Train Dataset</h4>"
      ]
     },
     "metadata": {},
     "output_type": "display_data"
    },
    {
     "data": {
      "text/html": [
       "<p>Check if there are columns which have only a single unique value in all rows.</p>"
      ]
     },
     "metadata": {},
     "output_type": "display_data"
    },
    {
     "data": {
      "text/html": [
       "<p><b>&#x2713;</b> Nothing found</p>"
      ]
     },
     "metadata": {},
     "output_type": "display_data"
    },
    {
     "data": {
      "text/html": [
       "<h4>Single Value in Column - Validation Dataset</h4>"
      ]
     },
     "metadata": {},
     "output_type": "display_data"
    },
    {
     "data": {
      "text/html": [
       "<p>Check if there are columns which have only a single unique value in all rows.</p>"
      ]
     },
     "metadata": {},
     "output_type": "display_data"
    },
    {
     "data": {
      "text/html": [
       "<p><b>&#x2713;</b> Nothing found</p>"
      ]
     },
     "metadata": {},
     "output_type": "display_data"
    },
    {
     "data": {
      "text/html": [
       "<h4>Mixed Nulls - Train Dataset</h4>"
      ]
     },
     "metadata": {},
     "output_type": "display_data"
    },
    {
     "data": {
      "text/html": [
       "<p>Search for various types of null values in a string column(s), including string representations of null.</p>"
      ]
     },
     "metadata": {},
     "output_type": "display_data"
    },
    {
     "data": {
      "text/html": [
       "<p><b>&#x2713;</b> Nothing found</p>"
      ]
     },
     "metadata": {},
     "output_type": "display_data"
    },
    {
     "data": {
      "text/html": [
       "<h4>Mixed Nulls - Validation Dataset</h4>"
      ]
     },
     "metadata": {},
     "output_type": "display_data"
    },
    {
     "data": {
      "text/html": [
       "<p>Search for various types of null values in a string column(s), including string representations of null.</p>"
      ]
     },
     "metadata": {},
     "output_type": "display_data"
    },
    {
     "data": {
      "text/html": [
       "<p><b>&#x2713;</b> Nothing found</p>"
      ]
     },
     "metadata": {},
     "output_type": "display_data"
    },
    {
     "data": {
      "text/html": [
       "<h4>Mixed Types - Train Dataset</h4>"
      ]
     },
     "metadata": {},
     "output_type": "display_data"
    },
    {
     "data": {
      "text/html": [
       "<p>Search for mixed types of Data in a single column[s].</p>"
      ]
     },
     "metadata": {},
     "output_type": "display_data"
    },
    {
     "data": {
      "text/html": [
       "<p><b>&#x2713;</b> Nothing found</p>"
      ]
     },
     "metadata": {},
     "output_type": "display_data"
    },
    {
     "data": {
      "text/html": [
       "<h4>Mixed Types - Validation Dataset</h4>"
      ]
     },
     "metadata": {},
     "output_type": "display_data"
    },
    {
     "data": {
      "text/html": [
       "<p>Search for mixed types of Data in a single column[s].</p>"
      ]
     },
     "metadata": {},
     "output_type": "display_data"
    },
    {
     "data": {
      "text/html": [
       "<p><b>&#x2713;</b> Nothing found</p>"
      ]
     },
     "metadata": {},
     "output_type": "display_data"
    },
    {
     "data": {
      "text/html": [
       "<h4>String Mismatch - Train Dataset</h4>"
      ]
     },
     "metadata": {},
     "output_type": "display_data"
    },
    {
     "data": {
      "text/html": [
       "<p>Detect different variants of string categories (e.g. \"mislabeled\" vs \"mis-labeled\") in a categorical column.</p>"
      ]
     },
     "metadata": {},
     "output_type": "display_data"
    },
    {
     "data": {
      "text/html": [
       "<style type=\"text/css\">\n",
       "#T_c807f_ th {\n",
       "  text-align: left;\n",
       "}\n",
       "#T_c807f_ td {\n",
       "  text-align: left;\n",
       "}\n",
       "</style>\n",
       "<table id=\"T_c807f_\">\n",
       "  <thead>\n",
       "    <tr>\n",
       "      <th class=\"blank\" >&nbsp;</th>\n",
       "      <th class=\"blank level0\" >&nbsp;</th>\n",
       "      <th class=\"col_heading level0 col0\" >Value</th>\n",
       "      <th class=\"col_heading level0 col1\" >Count</th>\n",
       "      <th class=\"col_heading level0 col2\" >% In data</th>\n",
       "    </tr>\n",
       "    <tr>\n",
       "      <th class=\"index_name level0\" >Column Name</th>\n",
       "      <th class=\"index_name level1\" >Base form</th>\n",
       "      <th class=\"blank col0\" >&nbsp;</th>\n",
       "      <th class=\"blank col1\" >&nbsp;</th>\n",
       "      <th class=\"blank col2\" >&nbsp;</th>\n",
       "    </tr>\n",
       "  </thead>\n",
       "  <tbody>\n",
       "    <tr>\n",
       "      <th id=\"T_c807f_level0_row0\" class=\"row_heading level0 row0\" rowspan=\"2\">income</th>\n",
       "      <th id=\"T_c807f_level1_row0\" class=\"row_heading level1 row0\" >50k</th>\n",
       "      <td id=\"T_c807f_row0_col0\" class=\"data row0 col0\" > >50K</td>\n",
       "      <td id=\"T_c807f_row0_col1\" class=\"data row0 col1\" >7841</td>\n",
       "      <td id=\"T_c807f_row0_col2\" class=\"data row0 col2\" >1.61%</td>\n",
       "    </tr>\n",
       "    <tr>\n",
       "      <th id=\"T_c807f_level1_row1\" class=\"row_heading level1 row1\" >50k</th>\n",
       "      <td id=\"T_c807f_row1_col0\" class=\"data row1 col0\" > <=50K</td>\n",
       "      <td id=\"T_c807f_row1_col1\" class=\"data row1 col1\" >24720</td>\n",
       "      <td id=\"T_c807f_row1_col2\" class=\"data row1 col2\" >5.06%</td>\n",
       "    </tr>\n",
       "  </tbody>\n",
       "</table>\n"
      ]
     },
     "metadata": {},
     "output_type": "display_data"
    },
    {
     "data": {
      "text/html": [
       "<h4>String Mismatch - Validation Dataset</h4>"
      ]
     },
     "metadata": {},
     "output_type": "display_data"
    },
    {
     "data": {
      "text/html": [
       "<p>Detect different variants of string categories (e.g. \"mislabeled\" vs \"mis-labeled\") in a categorical column.</p>"
      ]
     },
     "metadata": {},
     "output_type": "display_data"
    },
    {
     "data": {
      "text/html": [
       "<style type=\"text/css\">\n",
       "#T_a087e_ th {\n",
       "  text-align: left;\n",
       "}\n",
       "#T_a087e_ td {\n",
       "  text-align: left;\n",
       "}\n",
       "</style>\n",
       "<table id=\"T_a087e_\">\n",
       "  <thead>\n",
       "    <tr>\n",
       "      <th class=\"blank\" >&nbsp;</th>\n",
       "      <th class=\"blank level0\" >&nbsp;</th>\n",
       "      <th class=\"col_heading level0 col0\" >Value</th>\n",
       "      <th class=\"col_heading level0 col1\" >Count</th>\n",
       "      <th class=\"col_heading level0 col2\" >% In data</th>\n",
       "    </tr>\n",
       "    <tr>\n",
       "      <th class=\"index_name level0\" >Column Name</th>\n",
       "      <th class=\"index_name level1\" >Base form</th>\n",
       "      <th class=\"blank col0\" >&nbsp;</th>\n",
       "      <th class=\"blank col1\" >&nbsp;</th>\n",
       "      <th class=\"blank col2\" >&nbsp;</th>\n",
       "    </tr>\n",
       "  </thead>\n",
       "  <tbody>\n",
       "    <tr>\n",
       "      <th id=\"T_a087e_level0_row0\" class=\"row_heading level0 row0\" rowspan=\"2\">income</th>\n",
       "      <th id=\"T_a087e_level1_row0\" class=\"row_heading level1 row0\" >50k</th>\n",
       "      <td id=\"T_a087e_row0_col0\" class=\"data row0 col0\" > >50K.</td>\n",
       "      <td id=\"T_a087e_row0_col1\" class=\"data row0 col1\" >3846</td>\n",
       "      <td id=\"T_a087e_row0_col2\" class=\"data row0 col2\" >1.57%</td>\n",
       "    </tr>\n",
       "    <tr>\n",
       "      <th id=\"T_a087e_level1_row1\" class=\"row_heading level1 row1\" >50k</th>\n",
       "      <td id=\"T_a087e_row1_col0\" class=\"data row1 col0\" > <=50K.</td>\n",
       "      <td id=\"T_a087e_row1_col1\" class=\"data row1 col1\" >12435</td>\n",
       "      <td id=\"T_a087e_row1_col2\" class=\"data row1 col2\" >5.09%</td>\n",
       "    </tr>\n",
       "  </tbody>\n",
       "</table>\n"
      ]
     },
     "metadata": {},
     "output_type": "display_data"
    },
    {
     "data": {
      "text/html": [
       "<h4>Data Duplicates - Train Dataset</h4>"
      ]
     },
     "metadata": {},
     "output_type": "display_data"
    },
    {
     "data": {
      "text/html": [
       "<p>Search for Data duplicates in dataset.</p>"
      ]
     },
     "metadata": {},
     "output_type": "display_data"
    },
    {
     "data": {
      "text/html": [
       "0.07% of data samples are duplicates"
      ]
     },
     "metadata": {},
     "output_type": "display_data"
    },
    {
     "data": {
      "text/html": [
       "<style type=\"text/css\">\n",
       "#T_7f063_ th {\n",
       "  text-align: left;\n",
       "}\n",
       "#T_7f063_ td {\n",
       "  text-align: left;\n",
       "}\n",
       "</style>\n",
       "<table id=\"T_7f063_\">\n",
       "  <thead>\n",
       "    <tr>\n",
       "      <th class=\"blank level0\" >&nbsp;</th>\n",
       "      <th class=\"col_heading level0 col0\" >age</th>\n",
       "      <th class=\"col_heading level0 col1\" >workclass</th>\n",
       "      <th class=\"col_heading level0 col2\" >fnlwgt</th>\n",
       "      <th class=\"col_heading level0 col3\" >education</th>\n",
       "      <th class=\"col_heading level0 col4\" >education-num</th>\n",
       "      <th class=\"col_heading level0 col5\" >marital-status</th>\n",
       "      <th class=\"col_heading level0 col6\" >occupation</th>\n",
       "      <th class=\"col_heading level0 col7\" >relationship</th>\n",
       "      <th class=\"col_heading level0 col8\" >race</th>\n",
       "      <th class=\"col_heading level0 col9\" >sex</th>\n",
       "      <th class=\"col_heading level0 col10\" >capital-gain</th>\n",
       "      <th class=\"col_heading level0 col11\" >capital-loss</th>\n",
       "      <th class=\"col_heading level0 col12\" >hours-per-week</th>\n",
       "      <th class=\"col_heading level0 col13\" >native-country</th>\n",
       "      <th class=\"col_heading level0 col14\" >income</th>\n",
       "    </tr>\n",
       "    <tr>\n",
       "      <th class=\"index_name level0\" >Number of Duplicates</th>\n",
       "      <th class=\"blank col0\" >&nbsp;</th>\n",
       "      <th class=\"blank col1\" >&nbsp;</th>\n",
       "      <th class=\"blank col2\" >&nbsp;</th>\n",
       "      <th class=\"blank col3\" >&nbsp;</th>\n",
       "      <th class=\"blank col4\" >&nbsp;</th>\n",
       "      <th class=\"blank col5\" >&nbsp;</th>\n",
       "      <th class=\"blank col6\" >&nbsp;</th>\n",
       "      <th class=\"blank col7\" >&nbsp;</th>\n",
       "      <th class=\"blank col8\" >&nbsp;</th>\n",
       "      <th class=\"blank col9\" >&nbsp;</th>\n",
       "      <th class=\"blank col10\" >&nbsp;</th>\n",
       "      <th class=\"blank col11\" >&nbsp;</th>\n",
       "      <th class=\"blank col12\" >&nbsp;</th>\n",
       "      <th class=\"blank col13\" >&nbsp;</th>\n",
       "      <th class=\"blank col14\" >&nbsp;</th>\n",
       "    </tr>\n",
       "  </thead>\n",
       "  <tbody>\n",
       "    <tr>\n",
       "      <th id=\"T_7f063_level0_row0\" class=\"row_heading level0 row0\" >3</th>\n",
       "      <td id=\"T_7f063_row0_col0\" class=\"data row0 col0\" >25</td>\n",
       "      <td id=\"T_7f063_row0_col1\" class=\"data row0 col1\" > Private</td>\n",
       "      <td id=\"T_7f063_row0_col2\" class=\"data row0 col2\" >195994</td>\n",
       "      <td id=\"T_7f063_row0_col3\" class=\"data row0 col3\" > 1st-4th</td>\n",
       "      <td id=\"T_7f063_row0_col4\" class=\"data row0 col4\" >2</td>\n",
       "      <td id=\"T_7f063_row0_col5\" class=\"data row0 col5\" > Never-married</td>\n",
       "      <td id=\"T_7f063_row0_col6\" class=\"data row0 col6\" > Priv-house-serv</td>\n",
       "      <td id=\"T_7f063_row0_col7\" class=\"data row0 col7\" > Not-in-family</td>\n",
       "      <td id=\"T_7f063_row0_col8\" class=\"data row0 col8\" > White</td>\n",
       "      <td id=\"T_7f063_row0_col9\" class=\"data row0 col9\" > Female</td>\n",
       "      <td id=\"T_7f063_row0_col10\" class=\"data row0 col10\" >0</td>\n",
       "      <td id=\"T_7f063_row0_col11\" class=\"data row0 col11\" >0</td>\n",
       "      <td id=\"T_7f063_row0_col12\" class=\"data row0 col12\" >40</td>\n",
       "      <td id=\"T_7f063_row0_col13\" class=\"data row0 col13\" > Guatemala</td>\n",
       "      <td id=\"T_7f063_row0_col14\" class=\"data row0 col14\" > <=50K</td>\n",
       "    </tr>\n",
       "    <tr>\n",
       "      <th id=\"T_7f063_level0_row1\" class=\"row_heading level0 row1\" >2</th>\n",
       "      <td id=\"T_7f063_row1_col0\" class=\"data row1 col0\" >19</td>\n",
       "      <td id=\"T_7f063_row1_col1\" class=\"data row1 col1\" > Private</td>\n",
       "      <td id=\"T_7f063_row1_col2\" class=\"data row1 col2\" >97261</td>\n",
       "      <td id=\"T_7f063_row1_col3\" class=\"data row1 col3\" > HS-grad</td>\n",
       "      <td id=\"T_7f063_row1_col4\" class=\"data row1 col4\" >9</td>\n",
       "      <td id=\"T_7f063_row1_col5\" class=\"data row1 col5\" > Never-married</td>\n",
       "      <td id=\"T_7f063_row1_col6\" class=\"data row1 col6\" > Farming-fishing</td>\n",
       "      <td id=\"T_7f063_row1_col7\" class=\"data row1 col7\" > Not-in-family</td>\n",
       "      <td id=\"T_7f063_row1_col8\" class=\"data row1 col8\" > White</td>\n",
       "      <td id=\"T_7f063_row1_col9\" class=\"data row1 col9\" > Male</td>\n",
       "      <td id=\"T_7f063_row1_col10\" class=\"data row1 col10\" >0</td>\n",
       "      <td id=\"T_7f063_row1_col11\" class=\"data row1 col11\" >0</td>\n",
       "      <td id=\"T_7f063_row1_col12\" class=\"data row1 col12\" >40</td>\n",
       "      <td id=\"T_7f063_row1_col13\" class=\"data row1 col13\" > United-States</td>\n",
       "      <td id=\"T_7f063_row1_col14\" class=\"data row1 col14\" > <=50K</td>\n",
       "    </tr>\n",
       "    <tr>\n",
       "      <th id=\"T_7f063_level0_row2\" class=\"row_heading level0 row2\" >2</th>\n",
       "      <td id=\"T_7f063_row2_col0\" class=\"data row2 col0\" >19</td>\n",
       "      <td id=\"T_7f063_row2_col1\" class=\"data row2 col1\" > Private</td>\n",
       "      <td id=\"T_7f063_row2_col2\" class=\"data row2 col2\" >138153</td>\n",
       "      <td id=\"T_7f063_row2_col3\" class=\"data row2 col3\" > Some-college</td>\n",
       "      <td id=\"T_7f063_row2_col4\" class=\"data row2 col4\" >10</td>\n",
       "      <td id=\"T_7f063_row2_col5\" class=\"data row2 col5\" > Never-married</td>\n",
       "      <td id=\"T_7f063_row2_col6\" class=\"data row2 col6\" > Adm-clerical</td>\n",
       "      <td id=\"T_7f063_row2_col7\" class=\"data row2 col7\" > Own-child</td>\n",
       "      <td id=\"T_7f063_row2_col8\" class=\"data row2 col8\" > White</td>\n",
       "      <td id=\"T_7f063_row2_col9\" class=\"data row2 col9\" > Female</td>\n",
       "      <td id=\"T_7f063_row2_col10\" class=\"data row2 col10\" >0</td>\n",
       "      <td id=\"T_7f063_row2_col11\" class=\"data row2 col11\" >0</td>\n",
       "      <td id=\"T_7f063_row2_col12\" class=\"data row2 col12\" >10</td>\n",
       "      <td id=\"T_7f063_row2_col13\" class=\"data row2 col13\" > United-States</td>\n",
       "      <td id=\"T_7f063_row2_col14\" class=\"data row2 col14\" > <=50K</td>\n",
       "    </tr>\n",
       "    <tr>\n",
       "      <th id=\"T_7f063_level0_row3\" class=\"row_heading level0 row3\" >2</th>\n",
       "      <td id=\"T_7f063_row3_col0\" class=\"data row3 col0\" >19</td>\n",
       "      <td id=\"T_7f063_row3_col1\" class=\"data row3 col1\" > Private</td>\n",
       "      <td id=\"T_7f063_row3_col2\" class=\"data row3 col2\" >146679</td>\n",
       "      <td id=\"T_7f063_row3_col3\" class=\"data row3 col3\" > Some-college</td>\n",
       "      <td id=\"T_7f063_row3_col4\" class=\"data row3 col4\" >10</td>\n",
       "      <td id=\"T_7f063_row3_col5\" class=\"data row3 col5\" > Never-married</td>\n",
       "      <td id=\"T_7f063_row3_col6\" class=\"data row3 col6\" > Exec-managerial</td>\n",
       "      <td id=\"T_7f063_row3_col7\" class=\"data row3 col7\" > Own-child</td>\n",
       "      <td id=\"T_7f063_row3_col8\" class=\"data row3 col8\" > Black</td>\n",
       "      <td id=\"T_7f063_row3_col9\" class=\"data row3 col9\" > Male</td>\n",
       "      <td id=\"T_7f063_row3_col10\" class=\"data row3 col10\" >0</td>\n",
       "      <td id=\"T_7f063_row3_col11\" class=\"data row3 col11\" >0</td>\n",
       "      <td id=\"T_7f063_row3_col12\" class=\"data row3 col12\" >30</td>\n",
       "      <td id=\"T_7f063_row3_col13\" class=\"data row3 col13\" > United-States</td>\n",
       "      <td id=\"T_7f063_row3_col14\" class=\"data row3 col14\" > <=50K</td>\n",
       "    </tr>\n",
       "    <tr>\n",
       "      <th id=\"T_7f063_level0_row4\" class=\"row_heading level0 row4\" >2</th>\n",
       "      <td id=\"T_7f063_row4_col0\" class=\"data row4 col0\" >19</td>\n",
       "      <td id=\"T_7f063_row4_col1\" class=\"data row4 col1\" > Private</td>\n",
       "      <td id=\"T_7f063_row4_col2\" class=\"data row4 col2\" >251579</td>\n",
       "      <td id=\"T_7f063_row4_col3\" class=\"data row4 col3\" > Some-college</td>\n",
       "      <td id=\"T_7f063_row4_col4\" class=\"data row4 col4\" >10</td>\n",
       "      <td id=\"T_7f063_row4_col5\" class=\"data row4 col5\" > Never-married</td>\n",
       "      <td id=\"T_7f063_row4_col6\" class=\"data row4 col6\" > Other-service</td>\n",
       "      <td id=\"T_7f063_row4_col7\" class=\"data row4 col7\" > Own-child</td>\n",
       "      <td id=\"T_7f063_row4_col8\" class=\"data row4 col8\" > White</td>\n",
       "      <td id=\"T_7f063_row4_col9\" class=\"data row4 col9\" > Male</td>\n",
       "      <td id=\"T_7f063_row4_col10\" class=\"data row4 col10\" >0</td>\n",
       "      <td id=\"T_7f063_row4_col11\" class=\"data row4 col11\" >0</td>\n",
       "      <td id=\"T_7f063_row4_col12\" class=\"data row4 col12\" >14</td>\n",
       "      <td id=\"T_7f063_row4_col13\" class=\"data row4 col13\" > United-States</td>\n",
       "      <td id=\"T_7f063_row4_col14\" class=\"data row4 col14\" > <=50K</td>\n",
       "    </tr>\n",
       "  </tbody>\n",
       "</table>\n"
      ]
     },
     "metadata": {},
     "output_type": "display_data"
    },
    {
     "data": {
      "text/html": [
       "<h4>Data Duplicates - Validation Dataset</h4>"
      ]
     },
     "metadata": {},
     "output_type": "display_data"
    },
    {
     "data": {
      "text/html": [
       "<p>Search for Data duplicates in dataset.</p>"
      ]
     },
     "metadata": {},
     "output_type": "display_data"
    },
    {
     "data": {
      "text/html": [
       "0.03% of data samples are duplicates"
      ]
     },
     "metadata": {},
     "output_type": "display_data"
    },
    {
     "data": {
      "text/html": [
       "<style type=\"text/css\">\n",
       "#T_27f48_ th {\n",
       "  text-align: left;\n",
       "}\n",
       "#T_27f48_ td {\n",
       "  text-align: left;\n",
       "}\n",
       "</style>\n",
       "<table id=\"T_27f48_\">\n",
       "  <thead>\n",
       "    <tr>\n",
       "      <th class=\"blank level0\" >&nbsp;</th>\n",
       "      <th class=\"col_heading level0 col0\" >age</th>\n",
       "      <th class=\"col_heading level0 col1\" >workclass</th>\n",
       "      <th class=\"col_heading level0 col2\" >fnlwgt</th>\n",
       "      <th class=\"col_heading level0 col3\" >education</th>\n",
       "      <th class=\"col_heading level0 col4\" >education-num</th>\n",
       "      <th class=\"col_heading level0 col5\" >marital-status</th>\n",
       "      <th class=\"col_heading level0 col6\" >occupation</th>\n",
       "      <th class=\"col_heading level0 col7\" >relationship</th>\n",
       "      <th class=\"col_heading level0 col8\" >race</th>\n",
       "      <th class=\"col_heading level0 col9\" >sex</th>\n",
       "      <th class=\"col_heading level0 col10\" >capital-gain</th>\n",
       "      <th class=\"col_heading level0 col11\" >capital-loss</th>\n",
       "      <th class=\"col_heading level0 col12\" >hours-per-week</th>\n",
       "      <th class=\"col_heading level0 col13\" >native-country</th>\n",
       "      <th class=\"col_heading level0 col14\" >income</th>\n",
       "    </tr>\n",
       "    <tr>\n",
       "      <th class=\"index_name level0\" >Number of Duplicates</th>\n",
       "      <th class=\"blank col0\" >&nbsp;</th>\n",
       "      <th class=\"blank col1\" >&nbsp;</th>\n",
       "      <th class=\"blank col2\" >&nbsp;</th>\n",
       "      <th class=\"blank col3\" >&nbsp;</th>\n",
       "      <th class=\"blank col4\" >&nbsp;</th>\n",
       "      <th class=\"blank col5\" >&nbsp;</th>\n",
       "      <th class=\"blank col6\" >&nbsp;</th>\n",
       "      <th class=\"blank col7\" >&nbsp;</th>\n",
       "      <th class=\"blank col8\" >&nbsp;</th>\n",
       "      <th class=\"blank col9\" >&nbsp;</th>\n",
       "      <th class=\"blank col10\" >&nbsp;</th>\n",
       "      <th class=\"blank col11\" >&nbsp;</th>\n",
       "      <th class=\"blank col12\" >&nbsp;</th>\n",
       "      <th class=\"blank col13\" >&nbsp;</th>\n",
       "      <th class=\"blank col14\" >&nbsp;</th>\n",
       "    </tr>\n",
       "  </thead>\n",
       "  <tbody>\n",
       "    <tr>\n",
       "      <th id=\"T_27f48_level0_row0\" class=\"row_heading level0 row0\" >2</th>\n",
       "      <td id=\"T_27f48_row0_col0\" class=\"data row0 col0\" >18</td>\n",
       "      <td id=\"T_27f48_row0_col1\" class=\"data row0 col1\" > Self-emp-inc</td>\n",
       "      <td id=\"T_27f48_row0_col2\" class=\"data row0 col2\" >378036</td>\n",
       "      <td id=\"T_27f48_row0_col3\" class=\"data row0 col3\" > 12th</td>\n",
       "      <td id=\"T_27f48_row0_col4\" class=\"data row0 col4\" >8</td>\n",
       "      <td id=\"T_27f48_row0_col5\" class=\"data row0 col5\" > Never-married</td>\n",
       "      <td id=\"T_27f48_row0_col6\" class=\"data row0 col6\" > Farming-fishing</td>\n",
       "      <td id=\"T_27f48_row0_col7\" class=\"data row0 col7\" > Own-child</td>\n",
       "      <td id=\"T_27f48_row0_col8\" class=\"data row0 col8\" > White</td>\n",
       "      <td id=\"T_27f48_row0_col9\" class=\"data row0 col9\" > Male</td>\n",
       "      <td id=\"T_27f48_row0_col10\" class=\"data row0 col10\" >0</td>\n",
       "      <td id=\"T_27f48_row0_col11\" class=\"data row0 col11\" >0</td>\n",
       "      <td id=\"T_27f48_row0_col12\" class=\"data row0 col12\" >10</td>\n",
       "      <td id=\"T_27f48_row0_col13\" class=\"data row0 col13\" > United-States</td>\n",
       "      <td id=\"T_27f48_row0_col14\" class=\"data row0 col14\" > <=50K.</td>\n",
       "    </tr>\n",
       "    <tr>\n",
       "      <th id=\"T_27f48_level0_row1\" class=\"row_heading level0 row1\" >2</th>\n",
       "      <td id=\"T_27f48_row1_col0\" class=\"data row1 col0\" >24</td>\n",
       "      <td id=\"T_27f48_row1_col1\" class=\"data row1 col1\" > Private</td>\n",
       "      <td id=\"T_27f48_row1_col2\" class=\"data row1 col2\" >194630</td>\n",
       "      <td id=\"T_27f48_row1_col3\" class=\"data row1 col3\" > Bachelors</td>\n",
       "      <td id=\"T_27f48_row1_col4\" class=\"data row1 col4\" >13</td>\n",
       "      <td id=\"T_27f48_row1_col5\" class=\"data row1 col5\" > Never-married</td>\n",
       "      <td id=\"T_27f48_row1_col6\" class=\"data row1 col6\" > Prof-specialty</td>\n",
       "      <td id=\"T_27f48_row1_col7\" class=\"data row1 col7\" > Not-in-family</td>\n",
       "      <td id=\"T_27f48_row1_col8\" class=\"data row1 col8\" > White</td>\n",
       "      <td id=\"T_27f48_row1_col9\" class=\"data row1 col9\" > Male</td>\n",
       "      <td id=\"T_27f48_row1_col10\" class=\"data row1 col10\" >0</td>\n",
       "      <td id=\"T_27f48_row1_col11\" class=\"data row1 col11\" >0</td>\n",
       "      <td id=\"T_27f48_row1_col12\" class=\"data row1 col12\" >35</td>\n",
       "      <td id=\"T_27f48_row1_col13\" class=\"data row1 col13\" > United-States</td>\n",
       "      <td id=\"T_27f48_row1_col14\" class=\"data row1 col14\" > <=50K.</td>\n",
       "    </tr>\n",
       "    <tr>\n",
       "      <th id=\"T_27f48_level0_row2\" class=\"row_heading level0 row2\" >2</th>\n",
       "      <td id=\"T_27f48_row2_col0\" class=\"data row2 col0\" >29</td>\n",
       "      <td id=\"T_27f48_row2_col1\" class=\"data row2 col1\" > Private</td>\n",
       "      <td id=\"T_27f48_row2_col2\" class=\"data row2 col2\" >36440</td>\n",
       "      <td id=\"T_27f48_row2_col3\" class=\"data row2 col3\" > Bachelors</td>\n",
       "      <td id=\"T_27f48_row2_col4\" class=\"data row2 col4\" >13</td>\n",
       "      <td id=\"T_27f48_row2_col5\" class=\"data row2 col5\" > Never-married</td>\n",
       "      <td id=\"T_27f48_row2_col6\" class=\"data row2 col6\" > Adm-clerical</td>\n",
       "      <td id=\"T_27f48_row2_col7\" class=\"data row2 col7\" > Not-in-family</td>\n",
       "      <td id=\"T_27f48_row2_col8\" class=\"data row2 col8\" > White</td>\n",
       "      <td id=\"T_27f48_row2_col9\" class=\"data row2 col9\" > Female</td>\n",
       "      <td id=\"T_27f48_row2_col10\" class=\"data row2 col10\" >0</td>\n",
       "      <td id=\"T_27f48_row2_col11\" class=\"data row2 col11\" >0</td>\n",
       "      <td id=\"T_27f48_row2_col12\" class=\"data row2 col12\" >40</td>\n",
       "      <td id=\"T_27f48_row2_col13\" class=\"data row2 col13\" > United-States</td>\n",
       "      <td id=\"T_27f48_row2_col14\" class=\"data row2 col14\" > <=50K.</td>\n",
       "    </tr>\n",
       "    <tr>\n",
       "      <th id=\"T_27f48_level0_row3\" class=\"row_heading level0 row3\" >2</th>\n",
       "      <td id=\"T_27f48_row3_col0\" class=\"data row3 col0\" >30</td>\n",
       "      <td id=\"T_27f48_row3_col1\" class=\"data row3 col1\" > Private</td>\n",
       "      <td id=\"T_27f48_row3_col2\" class=\"data row3 col2\" >180317</td>\n",
       "      <td id=\"T_27f48_row3_col3\" class=\"data row3 col3\" > Assoc-voc</td>\n",
       "      <td id=\"T_27f48_row3_col4\" class=\"data row3 col4\" >11</td>\n",
       "      <td id=\"T_27f48_row3_col5\" class=\"data row3 col5\" > Divorced</td>\n",
       "      <td id=\"T_27f48_row3_col6\" class=\"data row3 col6\" > Machine-op-inspct</td>\n",
       "      <td id=\"T_27f48_row3_col7\" class=\"data row3 col7\" > Not-in-family</td>\n",
       "      <td id=\"T_27f48_row3_col8\" class=\"data row3 col8\" > White</td>\n",
       "      <td id=\"T_27f48_row3_col9\" class=\"data row3 col9\" > Male</td>\n",
       "      <td id=\"T_27f48_row3_col10\" class=\"data row3 col10\" >0</td>\n",
       "      <td id=\"T_27f48_row3_col11\" class=\"data row3 col11\" >0</td>\n",
       "      <td id=\"T_27f48_row3_col12\" class=\"data row3 col12\" >40</td>\n",
       "      <td id=\"T_27f48_row3_col13\" class=\"data row3 col13\" > United-States</td>\n",
       "      <td id=\"T_27f48_row3_col14\" class=\"data row3 col14\" > <=50K.</td>\n",
       "    </tr>\n",
       "    <tr>\n",
       "      <th id=\"T_27f48_level0_row4\" class=\"row_heading level0 row4\" >2</th>\n",
       "      <td id=\"T_27f48_row4_col0\" class=\"data row4 col0\" >37</td>\n",
       "      <td id=\"T_27f48_row4_col1\" class=\"data row4 col1\" > Private</td>\n",
       "      <td id=\"T_27f48_row4_col2\" class=\"data row4 col2\" >52870</td>\n",
       "      <td id=\"T_27f48_row4_col3\" class=\"data row4 col3\" > Bachelors</td>\n",
       "      <td id=\"T_27f48_row4_col4\" class=\"data row4 col4\" >13</td>\n",
       "      <td id=\"T_27f48_row4_col5\" class=\"data row4 col5\" > Married-civ-spouse</td>\n",
       "      <td id=\"T_27f48_row4_col6\" class=\"data row4 col6\" > Exec-managerial</td>\n",
       "      <td id=\"T_27f48_row4_col7\" class=\"data row4 col7\" > Husband</td>\n",
       "      <td id=\"T_27f48_row4_col8\" class=\"data row4 col8\" > White</td>\n",
       "      <td id=\"T_27f48_row4_col9\" class=\"data row4 col9\" > Male</td>\n",
       "      <td id=\"T_27f48_row4_col10\" class=\"data row4 col10\" >0</td>\n",
       "      <td id=\"T_27f48_row4_col11\" class=\"data row4 col11\" >0</td>\n",
       "      <td id=\"T_27f48_row4_col12\" class=\"data row4 col12\" >40</td>\n",
       "      <td id=\"T_27f48_row4_col13\" class=\"data row4 col13\" > United-States</td>\n",
       "      <td id=\"T_27f48_row4_col14\" class=\"data row4 col14\" > <=50K.</td>\n",
       "    </tr>\n",
       "  </tbody>\n",
       "</table>\n"
      ]
     },
     "metadata": {},
     "output_type": "display_data"
    },
    {
     "data": {
      "text/html": [
       "<h4>Special Characters - Train Dataset</h4>"
      ]
     },
     "metadata": {},
     "output_type": "display_data"
    },
    {
     "data": {
      "text/html": [
       "<p>Search in column[s] for values that contains only special characters.</p>"
      ]
     },
     "metadata": {},
     "output_type": "display_data"
    },
    {
     "data": {
      "text/html": [
       "<style type=\"text/css\">\n",
       "#T_ba596_ th {\n",
       "  text-align: left;\n",
       "}\n",
       "#T_ba596_ td {\n",
       "  text-align: left;\n",
       "}\n",
       "</style>\n",
       "<table id=\"T_ba596_\">\n",
       "  <thead>\n",
       "    <tr>\n",
       "      <th class=\"blank level0\" >&nbsp;</th>\n",
       "      <th class=\"col_heading level0 col0\" >% Special-Only Samples</th>\n",
       "      <th class=\"col_heading level0 col1\" >Most Common Special-Only Samples</th>\n",
       "    </tr>\n",
       "    <tr>\n",
       "      <th class=\"index_name level0\" >Column Name</th>\n",
       "      <th class=\"blank col0\" >&nbsp;</th>\n",
       "      <th class=\"blank col1\" >&nbsp;</th>\n",
       "    </tr>\n",
       "  </thead>\n",
       "  <tbody>\n",
       "    <tr>\n",
       "      <th id=\"T_ba596_level0_row0\" class=\"row_heading level0 row0\" >workclass</th>\n",
       "      <td id=\"T_ba596_row0_col0\" class=\"data row0 col0\" >5.64%</td>\n",
       "      <td id=\"T_ba596_row0_col1\" class=\"data row0 col1\" >[' ?']</td>\n",
       "    </tr>\n",
       "    <tr>\n",
       "      <th id=\"T_ba596_level0_row1\" class=\"row_heading level0 row1\" >occupation</th>\n",
       "      <td id=\"T_ba596_row1_col0\" class=\"data row1 col0\" >5.66%</td>\n",
       "      <td id=\"T_ba596_row1_col1\" class=\"data row1 col1\" >[' ?']</td>\n",
       "    </tr>\n",
       "    <tr>\n",
       "      <th id=\"T_ba596_level0_row2\" class=\"row_heading level0 row2\" >native-country</th>\n",
       "      <td id=\"T_ba596_row2_col0\" class=\"data row2 col0\" >1.79%</td>\n",
       "      <td id=\"T_ba596_row2_col1\" class=\"data row2 col1\" >[' ?']</td>\n",
       "    </tr>\n",
       "  </tbody>\n",
       "</table>\n"
      ]
     },
     "metadata": {},
     "output_type": "display_data"
    },
    {
     "data": {
      "text/html": [
       "<h4>Special Characters - Validation Dataset</h4>"
      ]
     },
     "metadata": {},
     "output_type": "display_data"
    },
    {
     "data": {
      "text/html": [
       "<p>Search in column[s] for values that contains only special characters.</p>"
      ]
     },
     "metadata": {},
     "output_type": "display_data"
    },
    {
     "data": {
      "text/html": [
       "<style type=\"text/css\">\n",
       "#T_50275_ th {\n",
       "  text-align: left;\n",
       "}\n",
       "#T_50275_ td {\n",
       "  text-align: left;\n",
       "}\n",
       "</style>\n",
       "<table id=\"T_50275_\">\n",
       "  <thead>\n",
       "    <tr>\n",
       "      <th class=\"blank level0\" >&nbsp;</th>\n",
       "      <th class=\"col_heading level0 col0\" >% Special-Only Samples</th>\n",
       "      <th class=\"col_heading level0 col1\" >Most Common Special-Only Samples</th>\n",
       "    </tr>\n",
       "    <tr>\n",
       "      <th class=\"index_name level0\" >Column Name</th>\n",
       "      <th class=\"blank col0\" >&nbsp;</th>\n",
       "      <th class=\"blank col1\" >&nbsp;</th>\n",
       "    </tr>\n",
       "  </thead>\n",
       "  <tbody>\n",
       "    <tr>\n",
       "      <th id=\"T_50275_level0_row0\" class=\"row_heading level0 row0\" >workclass</th>\n",
       "      <td id=\"T_50275_row0_col0\" class=\"data row0 col0\" >5.91%</td>\n",
       "      <td id=\"T_50275_row0_col1\" class=\"data row0 col1\" >[' ?']</td>\n",
       "    </tr>\n",
       "    <tr>\n",
       "      <th id=\"T_50275_level0_row1\" class=\"row_heading level0 row1\" >occupation</th>\n",
       "      <td id=\"T_50275_row1_col0\" class=\"data row1 col0\" >5.93%</td>\n",
       "      <td id=\"T_50275_row1_col1\" class=\"data row1 col1\" >[' ?']</td>\n",
       "    </tr>\n",
       "    <tr>\n",
       "      <th id=\"T_50275_level0_row2\" class=\"row_heading level0 row2\" >native-country</th>\n",
       "      <td id=\"T_50275_row2_col0\" class=\"data row2 col0\" >1.68%</td>\n",
       "      <td id=\"T_50275_row2_col1\" class=\"data row2 col1\" >[' ?']</td>\n",
       "    </tr>\n",
       "  </tbody>\n",
       "</table>\n"
      ]
     },
     "metadata": {},
     "output_type": "display_data"
    },
    {
     "data": {
      "text/html": [
       "<h3>Comparative Integrity Suite</h3>"
      ]
     },
     "metadata": {},
     "output_type": "display_data"
    },
    {
     "data": {
      "text/html": [
       "<h4>String Mismatch Comparison</h4>"
      ]
     },
     "metadata": {},
     "output_type": "display_data"
    },
    {
     "data": {
      "text/html": [
       "<p>Detect different variants of string categories between the same categorical column in two datasets.</p>"
      ]
     },
     "metadata": {},
     "output_type": "display_data"
    },
    {
     "data": {
      "text/html": [
       "<style type=\"text/css\">\n",
       "#T_ec40c_ th {\n",
       "  text-align: left;\n",
       "}\n",
       "#T_ec40c_ td {\n",
       "  text-align: left;\n",
       "}\n",
       "</style>\n",
       "<table id=\"T_ec40c_\">\n",
       "  <thead>\n",
       "    <tr>\n",
       "      <th class=\"index_name level0\" >Column name</th>\n",
       "      <th class=\"col_heading level0 col0\" >income</th>\n",
       "    </tr>\n",
       "    <tr>\n",
       "      <th class=\"index_name level1\" >Base form</th>\n",
       "      <th class=\"col_heading level1 col0\" >50k</th>\n",
       "    </tr>\n",
       "  </thead>\n",
       "  <tbody>\n",
       "    <tr>\n",
       "      <th id=\"T_ec40c_level0_row0\" class=\"row_heading level0 row0\" >Common variants</th>\n",
       "      <td id=\"T_ec40c_row0_col0\" class=\"data row0 col0\" >[]</td>\n",
       "    </tr>\n",
       "    <tr>\n",
       "      <th id=\"T_ec40c_level0_row1\" class=\"row_heading level0 row1\" >Variants only in dataset</th>\n",
       "      <td id=\"T_ec40c_row1_col0\" class=\"data row1 col0\" >[' >50K.', ' <=50K.']</td>\n",
       "    </tr>\n",
       "    <tr>\n",
       "      <th id=\"T_ec40c_level0_row2\" class=\"row_heading level0 row2\" >% Unique variants out of all dataset samples (count)</th>\n",
       "      <td id=\"T_ec40c_row2_col0\" class=\"data row2 col0\" >100% (16281)</td>\n",
       "    </tr>\n",
       "    <tr>\n",
       "      <th id=\"T_ec40c_level0_row3\" class=\"row_heading level0 row3\" >Variants only in baseline</th>\n",
       "      <td id=\"T_ec40c_row3_col0\" class=\"data row3 col0\" >[' >50K', ' <=50K']</td>\n",
       "    </tr>\n",
       "    <tr>\n",
       "      <th id=\"T_ec40c_level0_row4\" class=\"row_heading level0 row4\" >% Unique variants out of all baseline samples (count)</th>\n",
       "      <td id=\"T_ec40c_row4_col0\" class=\"data row4 col0\" >100% (32561)</td>\n",
       "    </tr>\n",
       "  </tbody>\n",
       "</table>\n"
      ]
     },
     "metadata": {},
     "output_type": "display_data"
    }
   ],
   "source": [
    "IntegrityCheckSuite.run(model=model, train_dataset=train_ds, validation_dataset=val_ds, check_datasets_policy='both')"
   ]
  },
  {
   "cell_type": "markdown",
   "id": "86980255-71ff-4264-9fc8-c9fa606b3502",
   "metadata": {},
   "source": [
    "#### Sweet! We found out that labels are not the same. Fix and run again"
   ]
  },
  {
   "cell_type": "code",
   "execution_count": 16,
   "id": "68dadad5-88c6-42c7-a4d4-23484ba0285b",
   "metadata": {},
   "outputs": [
    {
     "data": {
      "text/html": [
       "<div>\n",
       "<style scoped>\n",
       "    .dataframe tbody tr th:only-of-type {\n",
       "        vertical-align: middle;\n",
       "    }\n",
       "\n",
       "    .dataframe tbody tr th {\n",
       "        vertical-align: top;\n",
       "    }\n",
       "\n",
       "    .dataframe thead th {\n",
       "        text-align: right;\n",
       "    }\n",
       "</style>\n",
       "<table border=\"1\" class=\"dataframe\">\n",
       "  <thead>\n",
       "    <tr style=\"text-align: right;\">\n",
       "      <th></th>\n",
       "      <th>age</th>\n",
       "      <th>workclass</th>\n",
       "      <th>fnlwgt</th>\n",
       "      <th>education</th>\n",
       "      <th>education-num</th>\n",
       "      <th>marital-status</th>\n",
       "      <th>occupation</th>\n",
       "      <th>relationship</th>\n",
       "      <th>race</th>\n",
       "      <th>sex</th>\n",
       "      <th>capital-gain</th>\n",
       "      <th>capital-loss</th>\n",
       "      <th>hours-per-week</th>\n",
       "      <th>native-country</th>\n",
       "      <th>income</th>\n",
       "    </tr>\n",
       "  </thead>\n",
       "  <tbody>\n",
       "    <tr>\n",
       "      <th>0</th>\n",
       "      <td>25</td>\n",
       "      <td>Private</td>\n",
       "      <td>226802</td>\n",
       "      <td>11th</td>\n",
       "      <td>7</td>\n",
       "      <td>Never-married</td>\n",
       "      <td>Machine-op-inspct</td>\n",
       "      <td>Own-child</td>\n",
       "      <td>Black</td>\n",
       "      <td>Male</td>\n",
       "      <td>0</td>\n",
       "      <td>0</td>\n",
       "      <td>40</td>\n",
       "      <td>United-States</td>\n",
       "      <td>&lt;=50K</td>\n",
       "    </tr>\n",
       "    <tr>\n",
       "      <th>1</th>\n",
       "      <td>38</td>\n",
       "      <td>Private</td>\n",
       "      <td>89814</td>\n",
       "      <td>HS-grad</td>\n",
       "      <td>9</td>\n",
       "      <td>Married-civ-spouse</td>\n",
       "      <td>Farming-fishing</td>\n",
       "      <td>Husband</td>\n",
       "      <td>White</td>\n",
       "      <td>Male</td>\n",
       "      <td>0</td>\n",
       "      <td>0</td>\n",
       "      <td>50</td>\n",
       "      <td>United-States</td>\n",
       "      <td>&lt;=50K</td>\n",
       "    </tr>\n",
       "  </tbody>\n",
       "</table>\n",
       "</div>"
      ],
      "text/plain": [
       "   age workclass  fnlwgt education  education-num       marital-status  \\\n",
       "0   25   Private  226802      11th              7        Never-married   \n",
       "1   38   Private   89814   HS-grad              9   Married-civ-spouse   \n",
       "\n",
       "           occupation relationship    race    sex  capital-gain  capital-loss  \\\n",
       "0   Machine-op-inspct    Own-child   Black   Male             0             0   \n",
       "1     Farming-fishing      Husband   White   Male             0             0   \n",
       "\n",
       "   hours-per-week  native-country  income  \n",
       "0              40   United-States   <=50K  \n",
       "1              50   United-States   <=50K  "
      ]
     },
     "execution_count": 16,
     "metadata": {},
     "output_type": "execute_result"
    }
   ],
   "source": [
    "val_fixed_df = val_df.copy()\n",
    "val_fixed_df[label_name] = val_fixed_df[label_name].str[:-1]\n",
    "val_ds = Dataset(val_fixed_df, label=label_name, cat_features=cat_features)\n",
    "val_fixed_df.head(2)"
   ]
  },
  {
   "cell_type": "code",
   "execution_count": 17,
   "id": "36102119-663a-4c64-b224-e804cec622c0",
   "metadata": {},
   "outputs": [],
   "source": [
    "from mlchecks.checks import StringMismatchComparison"
   ]
  },
  {
   "cell_type": "code",
   "execution_count": 18,
   "id": "5d1c7aa7-a874-4853-8fea-b0d3e8679dc8",
   "metadata": {},
   "outputs": [
    {
     "data": {
      "text/html": [
       "<h4>String Mismatch Comparison</h4>"
      ]
     },
     "metadata": {},
     "output_type": "display_data"
    },
    {
     "data": {
      "text/html": [
       "<p>Detect different variants of string categories between the same categorical column in two datasets.</p>"
      ]
     },
     "metadata": {},
     "output_type": "display_data"
    },
    {
     "data": {
      "text/html": [
       "<p><b>&#x2713;</b> Nothing found</p>"
      ]
     },
     "metadata": {},
     "output_type": "display_data"
    }
   ],
   "source": [
    "StringMismatchComparison().run(val_ds, train_ds)"
   ]
  },
  {
   "cell_type": "code",
   "execution_count": 19,
   "id": "cb8f3e2d-afb0-45d7-9bce-57ac17f2ad0a",
   "metadata": {},
   "outputs": [],
   "source": [
    "from mlchecks.suites import LeakageCheckSuite"
   ]
  },
  {
   "cell_type": "code",
   "execution_count": 20,
   "id": "7f5ea5cc-ea9a-4523-af88-03bc2cc136fb",
   "metadata": {},
   "outputs": [
    {
     "data": {
      "text/plain": [
       "(DataSampleLeakageReport({}),\n",
       " DateTrainValidationLeakageDuplicates({}),\n",
       " DateTrainValidationLeakageOverlap({}),\n",
       " IndexTrainValidationLeakage({}),\n",
       " SingleFeatureContributionTrainValidation({}))"
      ]
     },
     "execution_count": 20,
     "metadata": {},
     "output_type": "execute_result"
    }
   ],
   "source": [
    "LeakageCheckSuite.checks"
   ]
  },
  {
   "cell_type": "markdown",
   "id": "7d4b5249-5c4c-48aa-861e-2785c6ccc01d",
   "metadata": {},
   "source": [
    "#### We cant run this - we don't have date and index. Create a smaller suite"
   ]
  },
  {
   "cell_type": "code",
   "execution_count": 21,
   "id": "75c3a89f-f665-4301-8524-62940e98a529",
   "metadata": {},
   "outputs": [
    {
     "data": {
      "text/plain": [
       "Date-less Index-less Leakage Suite [DataSampleLeakageReport({}),SingleFeatureContributionTrainValidation({})]"
      ]
     },
     "execution_count": 21,
     "metadata": {},
     "output_type": "execute_result"
    }
   ],
   "source": [
    "DateIndexLessLeakageCheckSuite = CheckSuite('Date-less Index-less Leakage Suite',\n",
    "                                            LeakageCheckSuite.checks[0],\n",
    "                                            LeakageCheckSuite.checks[-1])\n",
    "DateIndexLessLeakageCheckSuite"
   ]
  },
  {
   "cell_type": "code",
   "execution_count": 22,
   "id": "3129559e-ec07-4e6b-966b-075cc9f87ac6",
   "metadata": {},
   "outputs": [
    {
     "data": {
      "text/html": [
       "<h3>Date-less Index-less Leakage Suite</h3>"
      ]
     },
     "metadata": {},
     "output_type": "display_data"
    },
    {
     "data": {
      "text/html": [
       "<h4>Data Sample Leakage Report</h4>"
      ]
     },
     "metadata": {},
     "output_type": "display_data"
    },
    {
     "data": {
      "text/html": [
       "<p>Find what percent of the validation data is in the train data.</p>"
      ]
     },
     "metadata": {},
     "output_type": "display_data"
    },
    {
     "data": {
      "text/html": [
       "0.15% (25 / 16276)                  of validation data samples appear in train data"
      ]
     },
     "metadata": {},
     "output_type": "display_data"
    },
    {
     "data": {
      "text/html": [
       "<style type=\"text/css\">\n",
       "#T_0ba7b_ th {\n",
       "  text-align: left;\n",
       "}\n",
       "#T_0ba7b_ td {\n",
       "  text-align: left;\n",
       "}\n",
       "</style>\n",
       "<table id=\"T_0ba7b_\">\n",
       "  <thead>\n",
       "    <tr>\n",
       "      <th class=\"blank level0\" >&nbsp;</th>\n",
       "      <th class=\"col_heading level0 col0\" >age</th>\n",
       "      <th class=\"col_heading level0 col1\" >workclass</th>\n",
       "      <th class=\"col_heading level0 col2\" >fnlwgt</th>\n",
       "      <th class=\"col_heading level0 col3\" >education</th>\n",
       "      <th class=\"col_heading level0 col4\" >education-num</th>\n",
       "      <th class=\"col_heading level0 col5\" >marital-status</th>\n",
       "      <th class=\"col_heading level0 col6\" >occupation</th>\n",
       "      <th class=\"col_heading level0 col7\" >relationship</th>\n",
       "      <th class=\"col_heading level0 col8\" >race</th>\n",
       "      <th class=\"col_heading level0 col9\" >sex</th>\n",
       "      <th class=\"col_heading level0 col10\" >capital-gain</th>\n",
       "      <th class=\"col_heading level0 col11\" >capital-loss</th>\n",
       "      <th class=\"col_heading level0 col12\" >hours-per-week</th>\n",
       "      <th class=\"col_heading level0 col13\" >native-country</th>\n",
       "      <th class=\"col_heading level0 col14\" >income</th>\n",
       "    </tr>\n",
       "  </thead>\n",
       "  <tbody>\n",
       "    <tr>\n",
       "      <th id=\"T_0ba7b_level0_row0\" class=\"row_heading level0 row0\" >test indexes: 24667</th>\n",
       "      <td id=\"T_0ba7b_row0_col0\" class=\"data row0 col0\" >17</td>\n",
       "      <td id=\"T_0ba7b_row0_col1\" class=\"data row0 col1\" > Private</td>\n",
       "      <td id=\"T_0ba7b_row0_col2\" class=\"data row0 col2\" >153021</td>\n",
       "      <td id=\"T_0ba7b_row0_col3\" class=\"data row0 col3\" > 12th</td>\n",
       "      <td id=\"T_0ba7b_row0_col4\" class=\"data row0 col4\" >8</td>\n",
       "      <td id=\"T_0ba7b_row0_col5\" class=\"data row0 col5\" > Never-married</td>\n",
       "      <td id=\"T_0ba7b_row0_col6\" class=\"data row0 col6\" > Sales</td>\n",
       "      <td id=\"T_0ba7b_row0_col7\" class=\"data row0 col7\" > Own-child</td>\n",
       "      <td id=\"T_0ba7b_row0_col8\" class=\"data row0 col8\" > White</td>\n",
       "      <td id=\"T_0ba7b_row0_col9\" class=\"data row0 col9\" > Female</td>\n",
       "      <td id=\"T_0ba7b_row0_col10\" class=\"data row0 col10\" >0</td>\n",
       "      <td id=\"T_0ba7b_row0_col11\" class=\"data row0 col11\" >0</td>\n",
       "      <td id=\"T_0ba7b_row0_col12\" class=\"data row0 col12\" >20</td>\n",
       "      <td id=\"T_0ba7b_row0_col13\" class=\"data row0 col13\" > United-States</td>\n",
       "      <td id=\"T_0ba7b_row0_col14\" class=\"data row0 col14\" > <=50K</td>\n",
       "    </tr>\n",
       "    <tr>\n",
       "      <th id=\"T_0ba7b_level0_row1\" class=\"row_heading level0 row1\" >validation indexes: 4152</th>\n",
       "      <td id=\"T_0ba7b_row1_col0\" class=\"data row1 col0\" >17</td>\n",
       "      <td id=\"T_0ba7b_row1_col1\" class=\"data row1 col1\" > Private</td>\n",
       "      <td id=\"T_0ba7b_row1_col2\" class=\"data row1 col2\" >153021</td>\n",
       "      <td id=\"T_0ba7b_row1_col3\" class=\"data row1 col3\" > 12th</td>\n",
       "      <td id=\"T_0ba7b_row1_col4\" class=\"data row1 col4\" >8</td>\n",
       "      <td id=\"T_0ba7b_row1_col5\" class=\"data row1 col5\" > Never-married</td>\n",
       "      <td id=\"T_0ba7b_row1_col6\" class=\"data row1 col6\" > Sales</td>\n",
       "      <td id=\"T_0ba7b_row1_col7\" class=\"data row1 col7\" > Own-child</td>\n",
       "      <td id=\"T_0ba7b_row1_col8\" class=\"data row1 col8\" > White</td>\n",
       "      <td id=\"T_0ba7b_row1_col9\" class=\"data row1 col9\" > Female</td>\n",
       "      <td id=\"T_0ba7b_row1_col10\" class=\"data row1 col10\" >0</td>\n",
       "      <td id=\"T_0ba7b_row1_col11\" class=\"data row1 col11\" >0</td>\n",
       "      <td id=\"T_0ba7b_row1_col12\" class=\"data row1 col12\" >20</td>\n",
       "      <td id=\"T_0ba7b_row1_col13\" class=\"data row1 col13\" > United-States</td>\n",
       "      <td id=\"T_0ba7b_row1_col14\" class=\"data row1 col14\" > <=50K</td>\n",
       "    </tr>\n",
       "    <tr>\n",
       "      <th id=\"T_0ba7b_level0_row2\" class=\"row_heading level0 row2\" >test indexes: 10094</th>\n",
       "      <td id=\"T_0ba7b_row2_col0\" class=\"data row2 col0\" >19</td>\n",
       "      <td id=\"T_0ba7b_row2_col1\" class=\"data row2 col1\" > ?</td>\n",
       "      <td id=\"T_0ba7b_row2_col2\" class=\"data row2 col2\" >167428</td>\n",
       "      <td id=\"T_0ba7b_row2_col3\" class=\"data row2 col3\" > Some-college</td>\n",
       "      <td id=\"T_0ba7b_row2_col4\" class=\"data row2 col4\" >10</td>\n",
       "      <td id=\"T_0ba7b_row2_col5\" class=\"data row2 col5\" > Never-married</td>\n",
       "      <td id=\"T_0ba7b_row2_col6\" class=\"data row2 col6\" > ?</td>\n",
       "      <td id=\"T_0ba7b_row2_col7\" class=\"data row2 col7\" > Own-child</td>\n",
       "      <td id=\"T_0ba7b_row2_col8\" class=\"data row2 col8\" > White</td>\n",
       "      <td id=\"T_0ba7b_row2_col9\" class=\"data row2 col9\" > Male</td>\n",
       "      <td id=\"T_0ba7b_row2_col10\" class=\"data row2 col10\" >0</td>\n",
       "      <td id=\"T_0ba7b_row2_col11\" class=\"data row2 col11\" >0</td>\n",
       "      <td id=\"T_0ba7b_row2_col12\" class=\"data row2 col12\" >40</td>\n",
       "      <td id=\"T_0ba7b_row2_col13\" class=\"data row2 col13\" > United-States</td>\n",
       "      <td id=\"T_0ba7b_row2_col14\" class=\"data row2 col14\" > <=50K</td>\n",
       "    </tr>\n",
       "    <tr>\n",
       "      <th id=\"T_0ba7b_level0_row3\" class=\"row_heading level0 row3\" >validation indexes: 8116</th>\n",
       "      <td id=\"T_0ba7b_row3_col0\" class=\"data row3 col0\" >19</td>\n",
       "      <td id=\"T_0ba7b_row3_col1\" class=\"data row3 col1\" > ?</td>\n",
       "      <td id=\"T_0ba7b_row3_col2\" class=\"data row3 col2\" >167428</td>\n",
       "      <td id=\"T_0ba7b_row3_col3\" class=\"data row3 col3\" > Some-college</td>\n",
       "      <td id=\"T_0ba7b_row3_col4\" class=\"data row3 col4\" >10</td>\n",
       "      <td id=\"T_0ba7b_row3_col5\" class=\"data row3 col5\" > Never-married</td>\n",
       "      <td id=\"T_0ba7b_row3_col6\" class=\"data row3 col6\" > ?</td>\n",
       "      <td id=\"T_0ba7b_row3_col7\" class=\"data row3 col7\" > Own-child</td>\n",
       "      <td id=\"T_0ba7b_row3_col8\" class=\"data row3 col8\" > White</td>\n",
       "      <td id=\"T_0ba7b_row3_col9\" class=\"data row3 col9\" > Male</td>\n",
       "      <td id=\"T_0ba7b_row3_col10\" class=\"data row3 col10\" >0</td>\n",
       "      <td id=\"T_0ba7b_row3_col11\" class=\"data row3 col11\" >0</td>\n",
       "      <td id=\"T_0ba7b_row3_col12\" class=\"data row3 col12\" >40</td>\n",
       "      <td id=\"T_0ba7b_row3_col13\" class=\"data row3 col13\" > United-States</td>\n",
       "      <td id=\"T_0ba7b_row3_col14\" class=\"data row3 col14\" > <=50K</td>\n",
       "    </tr>\n",
       "    <tr>\n",
       "      <th id=\"T_0ba7b_level0_row4\" class=\"row_heading level0 row4\" >test indexes: 3118</th>\n",
       "      <td id=\"T_0ba7b_row4_col0\" class=\"data row4 col0\" >19</td>\n",
       "      <td id=\"T_0ba7b_row4_col1\" class=\"data row4 col1\" > Private</td>\n",
       "      <td id=\"T_0ba7b_row4_col2\" class=\"data row4 col2\" >130431</td>\n",
       "      <td id=\"T_0ba7b_row4_col3\" class=\"data row4 col3\" > 5th-6th</td>\n",
       "      <td id=\"T_0ba7b_row4_col4\" class=\"data row4 col4\" >3</td>\n",
       "      <td id=\"T_0ba7b_row4_col5\" class=\"data row4 col5\" > Never-married</td>\n",
       "      <td id=\"T_0ba7b_row4_col6\" class=\"data row4 col6\" > Farming-fishing</td>\n",
       "      <td id=\"T_0ba7b_row4_col7\" class=\"data row4 col7\" > Not-in-family</td>\n",
       "      <td id=\"T_0ba7b_row4_col8\" class=\"data row4 col8\" > White</td>\n",
       "      <td id=\"T_0ba7b_row4_col9\" class=\"data row4 col9\" > Male</td>\n",
       "      <td id=\"T_0ba7b_row4_col10\" class=\"data row4 col10\" >0</td>\n",
       "      <td id=\"T_0ba7b_row4_col11\" class=\"data row4 col11\" >0</td>\n",
       "      <td id=\"T_0ba7b_row4_col12\" class=\"data row4 col12\" >36</td>\n",
       "      <td id=\"T_0ba7b_row4_col13\" class=\"data row4 col13\" > Mexico</td>\n",
       "      <td id=\"T_0ba7b_row4_col14\" class=\"data row4 col14\" > <=50K</td>\n",
       "    </tr>\n",
       "    <tr>\n",
       "      <th id=\"T_0ba7b_level0_row5\" class=\"row_heading level0 row5\" >validation indexes: 1668</th>\n",
       "      <td id=\"T_0ba7b_row5_col0\" class=\"data row5 col0\" >19</td>\n",
       "      <td id=\"T_0ba7b_row5_col1\" class=\"data row5 col1\" > Private</td>\n",
       "      <td id=\"T_0ba7b_row5_col2\" class=\"data row5 col2\" >130431</td>\n",
       "      <td id=\"T_0ba7b_row5_col3\" class=\"data row5 col3\" > 5th-6th</td>\n",
       "      <td id=\"T_0ba7b_row5_col4\" class=\"data row5 col4\" >3</td>\n",
       "      <td id=\"T_0ba7b_row5_col5\" class=\"data row5 col5\" > Never-married</td>\n",
       "      <td id=\"T_0ba7b_row5_col6\" class=\"data row5 col6\" > Farming-fishing</td>\n",
       "      <td id=\"T_0ba7b_row5_col7\" class=\"data row5 col7\" > Not-in-family</td>\n",
       "      <td id=\"T_0ba7b_row5_col8\" class=\"data row5 col8\" > White</td>\n",
       "      <td id=\"T_0ba7b_row5_col9\" class=\"data row5 col9\" > Male</td>\n",
       "      <td id=\"T_0ba7b_row5_col10\" class=\"data row5 col10\" >0</td>\n",
       "      <td id=\"T_0ba7b_row5_col11\" class=\"data row5 col11\" >0</td>\n",
       "      <td id=\"T_0ba7b_row5_col12\" class=\"data row5 col12\" >36</td>\n",
       "      <td id=\"T_0ba7b_row5_col13\" class=\"data row5 col13\" > Mexico</td>\n",
       "      <td id=\"T_0ba7b_row5_col14\" class=\"data row5 col14\" > <=50K</td>\n",
       "    </tr>\n",
       "    <tr>\n",
       "      <th id=\"T_0ba7b_level0_row6\" class=\"row_heading level0 row6\" >test indexes: 22249</th>\n",
       "      <td id=\"T_0ba7b_row6_col0\" class=\"data row6 col0\" >19</td>\n",
       "      <td id=\"T_0ba7b_row6_col1\" class=\"data row6 col1\" > Private</td>\n",
       "      <td id=\"T_0ba7b_row6_col2\" class=\"data row6 col2\" >139466</td>\n",
       "      <td id=\"T_0ba7b_row6_col3\" class=\"data row6 col3\" > Some-college</td>\n",
       "      <td id=\"T_0ba7b_row6_col4\" class=\"data row6 col4\" >10</td>\n",
       "      <td id=\"T_0ba7b_row6_col5\" class=\"data row6 col5\" > Never-married</td>\n",
       "      <td id=\"T_0ba7b_row6_col6\" class=\"data row6 col6\" > Sales</td>\n",
       "      <td id=\"T_0ba7b_row6_col7\" class=\"data row6 col7\" > Own-child</td>\n",
       "      <td id=\"T_0ba7b_row6_col8\" class=\"data row6 col8\" > White</td>\n",
       "      <td id=\"T_0ba7b_row6_col9\" class=\"data row6 col9\" > Female</td>\n",
       "      <td id=\"T_0ba7b_row6_col10\" class=\"data row6 col10\" >0</td>\n",
       "      <td id=\"T_0ba7b_row6_col11\" class=\"data row6 col11\" >0</td>\n",
       "      <td id=\"T_0ba7b_row6_col12\" class=\"data row6 col12\" >25</td>\n",
       "      <td id=\"T_0ba7b_row6_col13\" class=\"data row6 col13\" > United-States</td>\n",
       "      <td id=\"T_0ba7b_row6_col14\" class=\"data row6 col14\" > <=50K</td>\n",
       "    </tr>\n",
       "    <tr>\n",
       "      <th id=\"T_0ba7b_level0_row7\" class=\"row_heading level0 row7\" >validation indexes: 6456</th>\n",
       "      <td id=\"T_0ba7b_row7_col0\" class=\"data row7 col0\" >19</td>\n",
       "      <td id=\"T_0ba7b_row7_col1\" class=\"data row7 col1\" > Private</td>\n",
       "      <td id=\"T_0ba7b_row7_col2\" class=\"data row7 col2\" >139466</td>\n",
       "      <td id=\"T_0ba7b_row7_col3\" class=\"data row7 col3\" > Some-college</td>\n",
       "      <td id=\"T_0ba7b_row7_col4\" class=\"data row7 col4\" >10</td>\n",
       "      <td id=\"T_0ba7b_row7_col5\" class=\"data row7 col5\" > Never-married</td>\n",
       "      <td id=\"T_0ba7b_row7_col6\" class=\"data row7 col6\" > Sales</td>\n",
       "      <td id=\"T_0ba7b_row7_col7\" class=\"data row7 col7\" > Own-child</td>\n",
       "      <td id=\"T_0ba7b_row7_col8\" class=\"data row7 col8\" > White</td>\n",
       "      <td id=\"T_0ba7b_row7_col9\" class=\"data row7 col9\" > Female</td>\n",
       "      <td id=\"T_0ba7b_row7_col10\" class=\"data row7 col10\" >0</td>\n",
       "      <td id=\"T_0ba7b_row7_col11\" class=\"data row7 col11\" >0</td>\n",
       "      <td id=\"T_0ba7b_row7_col12\" class=\"data row7 col12\" >25</td>\n",
       "      <td id=\"T_0ba7b_row7_col13\" class=\"data row7 col13\" > United-States</td>\n",
       "      <td id=\"T_0ba7b_row7_col14\" class=\"data row7 col14\" > <=50K</td>\n",
       "    </tr>\n",
       "    <tr>\n",
       "      <th id=\"T_0ba7b_level0_row8\" class=\"row_heading level0 row8\" >test indexes: 14690</th>\n",
       "      <td id=\"T_0ba7b_row8_col0\" class=\"data row8 col0\" >19</td>\n",
       "      <td id=\"T_0ba7b_row8_col1\" class=\"data row8 col1\" > Private</td>\n",
       "      <td id=\"T_0ba7b_row8_col2\" class=\"data row8 col2\" >318822</td>\n",
       "      <td id=\"T_0ba7b_row8_col3\" class=\"data row8 col3\" > HS-grad</td>\n",
       "      <td id=\"T_0ba7b_row8_col4\" class=\"data row8 col4\" >9</td>\n",
       "      <td id=\"T_0ba7b_row8_col5\" class=\"data row8 col5\" > Never-married</td>\n",
       "      <td id=\"T_0ba7b_row8_col6\" class=\"data row8 col6\" > Adm-clerical</td>\n",
       "      <td id=\"T_0ba7b_row8_col7\" class=\"data row8 col7\" > Not-in-family</td>\n",
       "      <td id=\"T_0ba7b_row8_col8\" class=\"data row8 col8\" > White</td>\n",
       "      <td id=\"T_0ba7b_row8_col9\" class=\"data row8 col9\" > Female</td>\n",
       "      <td id=\"T_0ba7b_row8_col10\" class=\"data row8 col10\" >0</td>\n",
       "      <td id=\"T_0ba7b_row8_col11\" class=\"data row8 col11\" >0</td>\n",
       "      <td id=\"T_0ba7b_row8_col12\" class=\"data row8 col12\" >40</td>\n",
       "      <td id=\"T_0ba7b_row8_col13\" class=\"data row8 col13\" > United-States</td>\n",
       "      <td id=\"T_0ba7b_row8_col14\" class=\"data row8 col14\" > <=50K</td>\n",
       "    </tr>\n",
       "    <tr>\n",
       "      <th id=\"T_0ba7b_level0_row9\" class=\"row_heading level0 row9\" >validation indexes: 14398</th>\n",
       "      <td id=\"T_0ba7b_row9_col0\" class=\"data row9 col0\" >19</td>\n",
       "      <td id=\"T_0ba7b_row9_col1\" class=\"data row9 col1\" > Private</td>\n",
       "      <td id=\"T_0ba7b_row9_col2\" class=\"data row9 col2\" >318822</td>\n",
       "      <td id=\"T_0ba7b_row9_col3\" class=\"data row9 col3\" > HS-grad</td>\n",
       "      <td id=\"T_0ba7b_row9_col4\" class=\"data row9 col4\" >9</td>\n",
       "      <td id=\"T_0ba7b_row9_col5\" class=\"data row9 col5\" > Never-married</td>\n",
       "      <td id=\"T_0ba7b_row9_col6\" class=\"data row9 col6\" > Adm-clerical</td>\n",
       "      <td id=\"T_0ba7b_row9_col7\" class=\"data row9 col7\" > Not-in-family</td>\n",
       "      <td id=\"T_0ba7b_row9_col8\" class=\"data row9 col8\" > White</td>\n",
       "      <td id=\"T_0ba7b_row9_col9\" class=\"data row9 col9\" > Female</td>\n",
       "      <td id=\"T_0ba7b_row9_col10\" class=\"data row9 col10\" >0</td>\n",
       "      <td id=\"T_0ba7b_row9_col11\" class=\"data row9 col11\" >0</td>\n",
       "      <td id=\"T_0ba7b_row9_col12\" class=\"data row9 col12\" >40</td>\n",
       "      <td id=\"T_0ba7b_row9_col13\" class=\"data row9 col13\" > United-States</td>\n",
       "      <td id=\"T_0ba7b_row9_col14\" class=\"data row9 col14\" > <=50K</td>\n",
       "    </tr>\n",
       "  </tbody>\n",
       "</table>\n"
      ]
     },
     "metadata": {},
     "output_type": "display_data"
    },
    {
     "data": {
      "text/html": [
       "<h4>Single Feature Contribution Train-Validation</h4>"
      ]
     },
     "metadata": {},
     "output_type": "display_data"
    },
    {
     "data": {
      "text/html": [
       "<p>    Return the difference in PPS (Predictive Power Score) of all features between train and validation datasets.</p>"
      ]
     },
     "metadata": {},
     "output_type": "display_data"
    },
    {
     "data": {
      "image/png": "[encoded data removed]",
      "text/plain": [
       "<Figure size 1080x288 with 2 Axes>"
      ]
     },
     "metadata": {
      "needs_background": "light"
     },
     "output_type": "display_data"
    },
    {
     "data": {
      "text/html": [
       "The PPS represents the ability of a feature to single-handedly predict another feature or label."
      ]
     },
     "metadata": {},
     "output_type": "display_data"
    },
    {
     "data": {
      "text/html": [
       "A high PPS (close to 1) can mean that this feature's success in predicting the label is actually due to data"
      ]
     },
     "metadata": {},
     "output_type": "display_data"
    },
    {
     "data": {
      "text/html": [
       "leakage - meaning that the feature holds information that is based on the label to begin with."
      ]
     },
     "metadata": {},
     "output_type": "display_data"
    },
    {
     "data": {
      "text/html": []
     },
     "metadata": {},
     "output_type": "display_data"
    },
    {
     "data": {
      "text/html": [
       "When we compare train PPS to validation PPS, A high difference can strongly indicate leakage, as a feature"
      ]
     },
     "metadata": {},
     "output_type": "display_data"
    },
    {
     "data": {
      "text/html": [
       "that was powerful in train but not in validation can be explained by leakage in train that is not relevant to a new dataset."
      ]
     },
     "metadata": {},
     "output_type": "display_data"
    }
   ],
   "source": [
    "DateIndexLessLeakageCheckSuite.run(model=model, train_dataset=train_ds, validation_dataset=val_ds, check_datasets_policy='both')"
   ]
  },
  {
   "cell_type": "code",
   "execution_count": 23,
   "id": "6b3ccb88-6aab-4755-919c-e171f17ecccd",
   "metadata": {},
   "outputs": [],
   "source": [
    "from mlchecks.suites import OverfitCheckSuite"
   ]
  },
  {
   "cell_type": "code",
   "execution_count": 24,
   "id": "75277158-3d39-424e-b3bb-db8bf9cfe1b5",
   "metadata": {},
   "outputs": [
    {
     "ename": "ValueError",
     "evalue": "pos_label=1 is not a valid label. It should be one of [' <=50K', ' >50K']",
     "output_type": "error",
     "traceback": [
      "\u001b[0;31m---------------------------------------------------------------------------\u001b[0m",
      "\u001b[0;31mValueError\u001b[0m                                Traceback (most recent call last)",
      "\u001b[0;32m/tmp/ipykernel_13267/964972737.py\u001b[0m in \u001b[0;36m<module>\u001b[0;34m\u001b[0m\n\u001b[0;32m----> 1\u001b[0;31m \u001b[0mOverfitCheckSuite\u001b[0m\u001b[0;34m.\u001b[0m\u001b[0mrun\u001b[0m\u001b[0;34m(\u001b[0m\u001b[0mmodel\u001b[0m\u001b[0;34m=\u001b[0m\u001b[0mmodel\u001b[0m\u001b[0;34m,\u001b[0m \u001b[0mtrain_dataset\u001b[0m\u001b[0;34m=\u001b[0m\u001b[0mtrain_ds\u001b[0m\u001b[0;34m,\u001b[0m \u001b[0mvalidation_dataset\u001b[0m\u001b[0;34m=\u001b[0m\u001b[0mval_ds\u001b[0m\u001b[0;34m,\u001b[0m \u001b[0mcheck_datasets_policy\u001b[0m\u001b[0;34m=\u001b[0m\u001b[0;34m'both'\u001b[0m\u001b[0;34m)\u001b[0m\u001b[0;34m\u001b[0m\u001b[0;34m\u001b[0m\u001b[0m\n\u001b[0m",
      "\u001b[0;32m/mnt/c/Users/NOAM/repos/MLChecks/mlchecks/base/suite.py\u001b[0m in \u001b[0;36mrun\u001b[0;34m(self, model, train_dataset, validation_dataset, check_datasets_policy)\u001b[0m\n\u001b[1;32m     55\u001b[0m         \u001b[0;32mfor\u001b[0m \u001b[0mcheck\u001b[0m \u001b[0;32min\u001b[0m \u001b[0mself\u001b[0m\u001b[0;34m.\u001b[0m\u001b[0mchecks\u001b[0m\u001b[0;34m:\u001b[0m\u001b[0;34m\u001b[0m\u001b[0;34m\u001b[0m\u001b[0m\n\u001b[1;32m     56\u001b[0m             \u001b[0;32mif\u001b[0m \u001b[0misinstance\u001b[0m\u001b[0;34m(\u001b[0m\u001b[0mcheck\u001b[0m\u001b[0;34m,\u001b[0m \u001b[0mTrainValidationBaseCheck\u001b[0m\u001b[0;34m)\u001b[0m\u001b[0;34m:\u001b[0m\u001b[0;34m\u001b[0m\u001b[0;34m\u001b[0m\u001b[0m\n\u001b[0;32m---> 57\u001b[0;31m                 results.append(check.run(train_dataset=train_dataset, validation_dataset=validation_dataset,\n\u001b[0m\u001b[1;32m     58\u001b[0m                                          model=model))\n\u001b[1;32m     59\u001b[0m             \u001b[0;32melif\u001b[0m \u001b[0misinstance\u001b[0m\u001b[0;34m(\u001b[0m\u001b[0mcheck\u001b[0m\u001b[0;34m,\u001b[0m \u001b[0mCompareDatasetsBaseCheck\u001b[0m\u001b[0;34m)\u001b[0m\u001b[0;34m:\u001b[0m\u001b[0;34m\u001b[0m\u001b[0;34m\u001b[0m\u001b[0m\n",
      "\u001b[0;32m/mnt/c/Users/NOAM/repos/MLChecks/mlchecks/checks/overfit/performance_overfit.py\u001b[0m in \u001b[0;36mrun\u001b[0;34m(self, train_dataset, validation_dataset, model)\u001b[0m\n\u001b[1;32m    105\u001b[0m             \u001b[0mMLChecksValueError\u001b[0m\u001b[0;34m:\u001b[0m \u001b[0mIf\u001b[0m \u001b[0meither\u001b[0m \u001b[0mof\u001b[0m \u001b[0mthe\u001b[0m \u001b[0mdataset\u001b[0m \u001b[0mobjects\u001b[0m \u001b[0mare\u001b[0m \u001b[0;32mnot\u001b[0m \u001b[0ma\u001b[0m \u001b[0mDataset\u001b[0m \u001b[0minstance\u001b[0m \u001b[0;32mwith\u001b[0m \u001b[0ma\u001b[0m \u001b[0mlabel\u001b[0m\u001b[0;34m\u001b[0m\u001b[0;34m\u001b[0m\u001b[0m\n\u001b[1;32m    106\u001b[0m         \"\"\"\n\u001b[0;32m--> 107\u001b[0;31m         return train_validation_difference_overfit(train_dataset, validation_dataset, model,\n\u001b[0m\u001b[1;32m    108\u001b[0m                                                    alternative_metrics=self.params.get('alternative_metrics'))\n",
      "\u001b[0;32m/mnt/c/Users/NOAM/repos/MLChecks/mlchecks/checks/overfit/performance_overfit.py\u001b[0m in \u001b[0;36mtrain_validation_difference_overfit\u001b[0;34m(train_dataset, validation_dataset, model, alternative_metrics)\u001b[0m\n\u001b[1;32m     49\u001b[0m     \u001b[0mmetrics\u001b[0m \u001b[0;34m=\u001b[0m \u001b[0mget_metrics_list\u001b[0m\u001b[0;34m(\u001b[0m\u001b[0mmodel\u001b[0m\u001b[0;34m,\u001b[0m \u001b[0mtrain_dataset\u001b[0m\u001b[0;34m,\u001b[0m \u001b[0malternative_metrics\u001b[0m\u001b[0;34m)\u001b[0m\u001b[0;34m\u001b[0m\u001b[0;34m\u001b[0m\u001b[0m\n\u001b[1;32m     50\u001b[0m \u001b[0;34m\u001b[0m\u001b[0m\n\u001b[0;32m---> 51\u001b[0;31m     train_metrics = {key: scorer(model, train_dataset. data[train_dataset.features()], train_dataset.label_col())\n\u001b[0m\u001b[1;32m     52\u001b[0m                      for key, scorer in metrics.items()}\n\u001b[1;32m     53\u001b[0m \u001b[0;34m\u001b[0m\u001b[0m\n",
      "\u001b[0;32m/mnt/c/Users/NOAM/repos/MLChecks/mlchecks/checks/overfit/performance_overfit.py\u001b[0m in \u001b[0;36m<dictcomp>\u001b[0;34m(.0)\u001b[0m\n\u001b[1;32m     49\u001b[0m     \u001b[0mmetrics\u001b[0m \u001b[0;34m=\u001b[0m \u001b[0mget_metrics_list\u001b[0m\u001b[0;34m(\u001b[0m\u001b[0mmodel\u001b[0m\u001b[0;34m,\u001b[0m \u001b[0mtrain_dataset\u001b[0m\u001b[0;34m,\u001b[0m \u001b[0malternative_metrics\u001b[0m\u001b[0;34m)\u001b[0m\u001b[0;34m\u001b[0m\u001b[0;34m\u001b[0m\u001b[0m\n\u001b[1;32m     50\u001b[0m \u001b[0;34m\u001b[0m\u001b[0m\n\u001b[0;32m---> 51\u001b[0;31m     train_metrics = {key: scorer(model, train_dataset. data[train_dataset.features()], train_dataset.label_col())\n\u001b[0m\u001b[1;32m     52\u001b[0m                      for key, scorer in metrics.items()}\n\u001b[1;32m     53\u001b[0m \u001b[0;34m\u001b[0m\u001b[0m\n",
      "\u001b[0;32m~/deepchecks/mlchecks_notebook/lib/python3.8/site-packages/sklearn/metrics/_scorer.py\u001b[0m in \u001b[0;36m__call__\u001b[0;34m(self, estimator, X, y_true, sample_weight)\u001b[0m\n\u001b[1;32m    197\u001b[0m             \u001b[0mScore\u001b[0m \u001b[0mfunction\u001b[0m \u001b[0mapplied\u001b[0m \u001b[0mto\u001b[0m \u001b[0mprediction\u001b[0m \u001b[0mof\u001b[0m \u001b[0mestimator\u001b[0m \u001b[0mon\u001b[0m \u001b[0mX\u001b[0m\u001b[0;34m.\u001b[0m\u001b[0;34m\u001b[0m\u001b[0;34m\u001b[0m\u001b[0m\n\u001b[1;32m    198\u001b[0m         \"\"\"\n\u001b[0;32m--> 199\u001b[0;31m         return self._score(partial(_cached_call, None), estimator, X, y_true,\n\u001b[0m\u001b[1;32m    200\u001b[0m                            sample_weight=sample_weight)\n\u001b[1;32m    201\u001b[0m \u001b[0;34m\u001b[0m\u001b[0m\n",
      "\u001b[0;32m~/deepchecks/mlchecks_notebook/lib/python3.8/site-packages/sklearn/metrics/_scorer.py\u001b[0m in \u001b[0;36m_score\u001b[0;34m(self, method_caller, estimator, X, y_true, sample_weight)\u001b[0m\n\u001b[1;32m    240\u001b[0m                                                  **self._kwargs)\n\u001b[1;32m    241\u001b[0m         \u001b[0;32melse\u001b[0m\u001b[0;34m:\u001b[0m\u001b[0;34m\u001b[0m\u001b[0;34m\u001b[0m\u001b[0m\n\u001b[0;32m--> 242\u001b[0;31m             return self._sign * self._score_func(y_true, y_pred,\n\u001b[0m\u001b[1;32m    243\u001b[0m                                                  **self._kwargs)\n\u001b[1;32m    244\u001b[0m \u001b[0;34m\u001b[0m\u001b[0m\n",
      "\u001b[0;32m~/deepchecks/mlchecks_notebook/lib/python3.8/site-packages/sklearn/utils/validation.py\u001b[0m in \u001b[0;36minner_f\u001b[0;34m(*args, **kwargs)\u001b[0m\n\u001b[1;32m     61\u001b[0m             \u001b[0mextra_args\u001b[0m \u001b[0;34m=\u001b[0m \u001b[0mlen\u001b[0m\u001b[0;34m(\u001b[0m\u001b[0margs\u001b[0m\u001b[0;34m)\u001b[0m \u001b[0;34m-\u001b[0m \u001b[0mlen\u001b[0m\u001b[0;34m(\u001b[0m\u001b[0mall_args\u001b[0m\u001b[0;34m)\u001b[0m\u001b[0;34m\u001b[0m\u001b[0;34m\u001b[0m\u001b[0m\n\u001b[1;32m     62\u001b[0m             \u001b[0;32mif\u001b[0m \u001b[0mextra_args\u001b[0m \u001b[0;34m<=\u001b[0m \u001b[0;36m0\u001b[0m\u001b[0;34m:\u001b[0m\u001b[0;34m\u001b[0m\u001b[0;34m\u001b[0m\u001b[0m\n\u001b[0;32m---> 63\u001b[0;31m                 \u001b[0;32mreturn\u001b[0m \u001b[0mf\u001b[0m\u001b[0;34m(\u001b[0m\u001b[0;34m*\u001b[0m\u001b[0margs\u001b[0m\u001b[0;34m,\u001b[0m \u001b[0;34m**\u001b[0m\u001b[0mkwargs\u001b[0m\u001b[0;34m)\u001b[0m\u001b[0;34m\u001b[0m\u001b[0;34m\u001b[0m\u001b[0m\n\u001b[0m\u001b[1;32m     64\u001b[0m \u001b[0;34m\u001b[0m\u001b[0m\n\u001b[1;32m     65\u001b[0m             \u001b[0;31m# extra_args > 0\u001b[0m\u001b[0;34m\u001b[0m\u001b[0;34m\u001b[0m\u001b[0;34m\u001b[0m\u001b[0m\n",
      "\u001b[0;32m~/deepchecks/mlchecks_notebook/lib/python3.8/site-packages/sklearn/metrics/_classification.py\u001b[0m in \u001b[0;36mprecision_score\u001b[0;34m(y_true, y_pred, labels, pos_label, average, sample_weight, zero_division)\u001b[0m\n\u001b[1;32m   1654\u001b[0m \u001b[0;34m\u001b[0m\u001b[0m\n\u001b[1;32m   1655\u001b[0m     \"\"\"\n\u001b[0;32m-> 1656\u001b[0;31m     p, _, _, _ = precision_recall_fscore_support(y_true, y_pred,\n\u001b[0m\u001b[1;32m   1657\u001b[0m                                                  \u001b[0mlabels\u001b[0m\u001b[0;34m=\u001b[0m\u001b[0mlabels\u001b[0m\u001b[0;34m,\u001b[0m\u001b[0;34m\u001b[0m\u001b[0;34m\u001b[0m\u001b[0m\n\u001b[1;32m   1658\u001b[0m                                                  \u001b[0mpos_label\u001b[0m\u001b[0;34m=\u001b[0m\u001b[0mpos_label\u001b[0m\u001b[0;34m,\u001b[0m\u001b[0;34m\u001b[0m\u001b[0;34m\u001b[0m\u001b[0m\n",
      "\u001b[0;32m~/deepchecks/mlchecks_notebook/lib/python3.8/site-packages/sklearn/utils/validation.py\u001b[0m in \u001b[0;36minner_f\u001b[0;34m(*args, **kwargs)\u001b[0m\n\u001b[1;32m     61\u001b[0m             \u001b[0mextra_args\u001b[0m \u001b[0;34m=\u001b[0m \u001b[0mlen\u001b[0m\u001b[0;34m(\u001b[0m\u001b[0margs\u001b[0m\u001b[0;34m)\u001b[0m \u001b[0;34m-\u001b[0m \u001b[0mlen\u001b[0m\u001b[0;34m(\u001b[0m\u001b[0mall_args\u001b[0m\u001b[0;34m)\u001b[0m\u001b[0;34m\u001b[0m\u001b[0;34m\u001b[0m\u001b[0m\n\u001b[1;32m     62\u001b[0m             \u001b[0;32mif\u001b[0m \u001b[0mextra_args\u001b[0m \u001b[0;34m<=\u001b[0m \u001b[0;36m0\u001b[0m\u001b[0;34m:\u001b[0m\u001b[0;34m\u001b[0m\u001b[0;34m\u001b[0m\u001b[0m\n\u001b[0;32m---> 63\u001b[0;31m                 \u001b[0;32mreturn\u001b[0m \u001b[0mf\u001b[0m\u001b[0;34m(\u001b[0m\u001b[0;34m*\u001b[0m\u001b[0margs\u001b[0m\u001b[0;34m,\u001b[0m \u001b[0;34m**\u001b[0m\u001b[0mkwargs\u001b[0m\u001b[0;34m)\u001b[0m\u001b[0;34m\u001b[0m\u001b[0;34m\u001b[0m\u001b[0m\n\u001b[0m\u001b[1;32m     64\u001b[0m \u001b[0;34m\u001b[0m\u001b[0m\n\u001b[1;32m     65\u001b[0m             \u001b[0;31m# extra_args > 0\u001b[0m\u001b[0;34m\u001b[0m\u001b[0;34m\u001b[0m\u001b[0;34m\u001b[0m\u001b[0m\n",
      "\u001b[0;32m~/deepchecks/mlchecks_notebook/lib/python3.8/site-packages/sklearn/metrics/_classification.py\u001b[0m in \u001b[0;36mprecision_recall_fscore_support\u001b[0;34m(y_true, y_pred, beta, labels, pos_label, average, warn_for, sample_weight, zero_division)\u001b[0m\n\u001b[1;32m   1462\u001b[0m     \u001b[0;32mif\u001b[0m \u001b[0mbeta\u001b[0m \u001b[0;34m<\u001b[0m \u001b[0;36m0\u001b[0m\u001b[0;34m:\u001b[0m\u001b[0;34m\u001b[0m\u001b[0;34m\u001b[0m\u001b[0m\n\u001b[1;32m   1463\u001b[0m         \u001b[0;32mraise\u001b[0m \u001b[0mValueError\u001b[0m\u001b[0;34m(\u001b[0m\u001b[0;34m\"beta should be >=0 in the F-beta score\"\u001b[0m\u001b[0;34m)\u001b[0m\u001b[0;34m\u001b[0m\u001b[0;34m\u001b[0m\u001b[0m\n\u001b[0;32m-> 1464\u001b[0;31m     labels = _check_set_wise_labels(y_true, y_pred, average, labels,\n\u001b[0m\u001b[1;32m   1465\u001b[0m                                     pos_label)\n\u001b[1;32m   1466\u001b[0m \u001b[0;34m\u001b[0m\u001b[0m\n",
      "\u001b[0;32m~/deepchecks/mlchecks_notebook/lib/python3.8/site-packages/sklearn/metrics/_classification.py\u001b[0m in \u001b[0;36m_check_set_wise_labels\u001b[0;34m(y_true, y_pred, average, labels, pos_label)\u001b[0m\n\u001b[1;32m   1283\u001b[0m             \u001b[0;32mif\u001b[0m \u001b[0mpos_label\u001b[0m \u001b[0;32mnot\u001b[0m \u001b[0;32min\u001b[0m \u001b[0mpresent_labels\u001b[0m\u001b[0;34m:\u001b[0m\u001b[0;34m\u001b[0m\u001b[0;34m\u001b[0m\u001b[0m\n\u001b[1;32m   1284\u001b[0m                 \u001b[0;32mif\u001b[0m \u001b[0mlen\u001b[0m\u001b[0;34m(\u001b[0m\u001b[0mpresent_labels\u001b[0m\u001b[0;34m)\u001b[0m \u001b[0;34m>=\u001b[0m \u001b[0;36m2\u001b[0m\u001b[0;34m:\u001b[0m\u001b[0;34m\u001b[0m\u001b[0;34m\u001b[0m\u001b[0m\n\u001b[0;32m-> 1285\u001b[0;31m                     raise ValueError(\n\u001b[0m\u001b[1;32m   1286\u001b[0m                         \u001b[0;34mf\"pos_label={pos_label} is not a valid label. It \"\u001b[0m\u001b[0;34m\u001b[0m\u001b[0;34m\u001b[0m\u001b[0m\n\u001b[1;32m   1287\u001b[0m                         \u001b[0;34mf\"should be one of {present_labels}\"\u001b[0m\u001b[0;34m\u001b[0m\u001b[0;34m\u001b[0m\u001b[0m\n",
      "\u001b[0;31mValueError\u001b[0m: pos_label=1 is not a valid label. It should be one of [' <=50K', ' >50K']"
     ]
    }
   ],
   "source": [
    "OverfitCheckSuite.run(model=model, train_dataset=train_ds, validation_dataset=val_ds, check_datasets_policy='both')"
   ]
  },
  {
   "cell_type": "markdown",
   "id": "39b27bde-b489-4f3c-bdc8-2bdd84df960f",
   "metadata": {},
   "source": [
    "#### This doesn't work, so we need to change label to 0 and 1 "
   ]
  },
  {
   "cell_type": "markdown",
   "id": "5cd7e40c-ac9f-4ad2-a4b1-c7120883ec67",
   "metadata": {},
   "source": [
    "(even other numeric values won't work , becuase of pos_label=1 being a default of some sklearn metrics)"
   ]
  },
  {
   "cell_type": "code",
   "execution_count": 25,
   "id": "0a80660a-62bc-4be1-8927-c45de91837cf",
   "metadata": {},
   "outputs": [],
   "source": [
    "replace_dict = {' <=50K': 0, ' >50K': 1} "
   ]
  },
  {
   "cell_type": "code",
   "execution_count": 26,
   "id": "65a5abb3-0ca9-4be2-9a7d-38592d839812",
   "metadata": {},
   "outputs": [],
   "source": [
    "train_ds = Dataset(train_ds.data.replace({label_name: replace_dict}), label=label_name, cat_features=cat_features)\n",
    "val_ds = Dataset(val_ds.data.replace({label_name: replace_dict}), label=label_name, cat_features=cat_features)"
   ]
  },
  {
   "cell_type": "code",
   "execution_count": 27,
   "id": "7aa68074-64fc-473e-9034-ccea50423865",
   "metadata": {},
   "outputs": [],
   "source": [
    "model = CatBoostClassifier(cat_features=cat_features)"
   ]
  },
  {
   "cell_type": "code",
   "execution_count": 28,
   "id": "dccadcf6-ce31-451e-b299-cbc2d5d69030",
   "metadata": {},
   "outputs": [
    {
     "data": {
      "text/plain": [
       "<catboost.core.CatBoostClassifier at 0x7f771ec8bc70>"
      ]
     },
     "execution_count": 28,
     "metadata": {},
     "output_type": "execute_result"
    }
   ],
   "source": [
    "model.fit(train_ds.data[features], train_ds.data[label_name], silent=True)"
   ]
  },
  {
   "cell_type": "code",
   "execution_count": 29,
   "id": "cef91168-4d51-4d86-a382-595b117688a5",
   "metadata": {},
   "outputs": [
    {
     "data": {
      "text/html": [
       "<h3>Overfit Suite</h3>"
      ]
     },
     "metadata": {},
     "output_type": "display_data"
    },
    {
     "data": {
      "text/html": [
       "<h4>Train Validation Difference Overfit</h4>"
      ]
     },
     "metadata": {},
     "output_type": "display_data"
    },
    {
     "data": {
      "text/html": [
       "<p>Visualize overfit by displaying the difference between model metrics on train and on validation data.</p>"
      ]
     },
     "metadata": {},
     "output_type": "display_data"
    },
    {
     "data": {
      "image/png": "[encoded data removed]",
      "text/plain": [
       "<Figure size 432x288 with 1 Axes>"
      ]
     },
     "metadata": {
      "needs_background": "light"
     },
     "output_type": "display_data"
    }
   ],
   "source": [
    "OverfitCheckSuite.run(model=model, train_dataset=train_ds, validation_dataset=val_ds, check_datasets_policy='both')"
   ]
  },
  {
   "cell_type": "code",
   "execution_count": 30,
   "id": "bfe57ed7-4017-48d4-9155-2b7f4d18dbbf",
   "metadata": {},
   "outputs": [],
   "source": [
    "from mlchecks.suites import PerformanceCheckSuite"
   ]
  },
  {
   "cell_type": "code",
   "execution_count": 31,
   "id": "b4c1d8e1-838a-43fd-a488-72bc92998375",
   "metadata": {},
   "outputs": [
    {
     "data": {
      "text/html": [
       "<h3>Performance Suite</h3>"
      ]
     },
     "metadata": {},
     "output_type": "display_data"
    },
    {
     "data": {
      "text/html": [
       "<h4>Performance Report - Train Dataset</h4>"
      ]
     },
     "metadata": {},
     "output_type": "display_data"
    },
    {
     "data": {
      "text/html": [
       "<p>Summarize given metrics on a dataset and model.</p>"
      ]
     },
     "metadata": {},
     "output_type": "display_data"
    },
    {
     "data": {
      "text/html": [
       "<style type=\"text/css\">\n",
       "#T_c889c_ th {\n",
       "  text-align: left;\n",
       "}\n",
       "#T_c889c_ td {\n",
       "  text-align: left;\n",
       "}\n",
       "</style>\n",
       "<table id=\"T_c889c_\">\n",
       "  <thead>\n",
       "    <tr>\n",
       "      <th class=\"blank level0\" >&nbsp;</th>\n",
       "      <th class=\"col_heading level0 col0\" >Score</th>\n",
       "    </tr>\n",
       "    <tr>\n",
       "      <th class=\"index_name level0\" >Metric</th>\n",
       "      <th class=\"blank col0\" >&nbsp;</th>\n",
       "    </tr>\n",
       "  </thead>\n",
       "  <tbody>\n",
       "    <tr>\n",
       "      <th id=\"T_c889c_level0_row0\" class=\"row_heading level0 row0\" >Accuracy</th>\n",
       "      <td id=\"T_c889c_row0_col0\" class=\"data row0 col0\" >0.888804</td>\n",
       "    </tr>\n",
       "    <tr>\n",
       "      <th id=\"T_c889c_level0_row1\" class=\"row_heading level0 row1\" >Precision</th>\n",
       "      <td id=\"T_c889c_row1_col0\" class=\"data row1 col0\" >0.814109</td>\n",
       "    </tr>\n",
       "    <tr>\n",
       "      <th id=\"T_c889c_level0_row2\" class=\"row_heading level0 row2\" >Recall</th>\n",
       "      <td id=\"T_c889c_row2_col0\" class=\"data row2 col0\" >0.697793</td>\n",
       "    </tr>\n",
       "  </tbody>\n",
       "</table>\n"
      ]
     },
     "metadata": {},
     "output_type": "display_data"
    },
    {
     "data": {
      "text/html": [
       "<h4>Performance Report - Validation Dataset</h4>"
      ]
     },
     "metadata": {},
     "output_type": "display_data"
    },
    {
     "data": {
      "text/html": [
       "<p>Summarize given metrics on a dataset and model.</p>"
      ]
     },
     "metadata": {},
     "output_type": "display_data"
    },
    {
     "data": {
      "text/html": [
       "<style type=\"text/css\">\n",
       "#T_c40cf_ th {\n",
       "  text-align: left;\n",
       "}\n",
       "#T_c40cf_ td {\n",
       "  text-align: left;\n",
       "}\n",
       "</style>\n",
       "<table id=\"T_c40cf_\">\n",
       "  <thead>\n",
       "    <tr>\n",
       "      <th class=\"blank level0\" >&nbsp;</th>\n",
       "      <th class=\"col_heading level0 col0\" >Score</th>\n",
       "    </tr>\n",
       "    <tr>\n",
       "      <th class=\"index_name level0\" >Metric</th>\n",
       "      <th class=\"blank col0\" >&nbsp;</th>\n",
       "    </tr>\n",
       "  </thead>\n",
       "  <tbody>\n",
       "    <tr>\n",
       "      <th id=\"T_c40cf_level0_row0\" class=\"row_heading level0 row0\" >Accuracy</th>\n",
       "      <td id=\"T_c40cf_row0_col0\" class=\"data row0 col0\" >0.873863</td>\n",
       "    </tr>\n",
       "    <tr>\n",
       "      <th id=\"T_c40cf_level0_row1\" class=\"row_heading level0 row1\" >Precision</th>\n",
       "      <td id=\"T_c40cf_row1_col0\" class=\"data row1 col0\" >0.770111</td>\n",
       "    </tr>\n",
       "    <tr>\n",
       "      <th id=\"T_c40cf_level0_row2\" class=\"row_heading level0 row2\" >Recall</th>\n",
       "      <td id=\"T_c40cf_row2_col0\" class=\"data row2 col0\" >0.664587</td>\n",
       "    </tr>\n",
       "  </tbody>\n",
       "</table>\n"
      ]
     },
     "metadata": {},
     "output_type": "display_data"
    },
    {
     "data": {
      "text/html": [
       "<h4>Confusion Matrix Report - Train Dataset</h4>"
      ]
     },
     "metadata": {},
     "output_type": "display_data"
    },
    {
     "data": {
      "text/html": [
       "<p>    Return the confusion_matrix.</p>"
      ]
     },
     "metadata": {},
     "output_type": "display_data"
    },
    {
     "data": {
      "image/png": "[encoded data removed]",
      "text/plain": [
       "<Figure size 432x288 with 2 Axes>"
      ]
     },
     "metadata": {
      "needs_background": "light"
     },
     "output_type": "display_data"
    },
    {
     "data": {
      "text/html": [
       "<h4>Confusion Matrix Report - Validation Dataset</h4>"
      ]
     },
     "metadata": {},
     "output_type": "display_data"
    },
    {
     "data": {
      "text/html": [
       "<p>    Return the confusion_matrix.</p>"
      ]
     },
     "metadata": {},
     "output_type": "display_data"
    },
    {
     "data": {
      "image/png": "[encoded data removed]",
      "text/plain": [
       "<Figure size 432x288 with 2 Axes>"
      ]
     },
     "metadata": {
      "needs_background": "light"
     },
     "output_type": "display_data"
    },
    {
     "data": {
      "text/html": [
       "<h4>ROC Report - Train Dataset</h4>"
      ]
     },
     "metadata": {},
     "output_type": "display_data"
    },
    {
     "data": {
      "text/html": [
       "<p>    Return the AUC for each class.</p>"
      ]
     },
     "metadata": {},
     "output_type": "display_data"
    },
    {
     "data": {
      "image/png": "[encoded data removed]",
      "text/plain": [
       "<Figure size 432x288 with 1 Axes>"
      ]
     },
     "metadata": {
      "needs_background": "light"
     },
     "output_type": "display_data"
    },
    {
     "data": {
      "text/html": [
       "<h4>ROC Report - Validation Dataset</h4>"
      ]
     },
     "metadata": {},
     "output_type": "display_data"
    },
    {
     "data": {
      "text/html": [
       "<p>    Return the AUC for each class.</p>"
      ]
     },
     "metadata": {},
     "output_type": "display_data"
    },
    {
     "data": {
      "image/png": "[encoded data removed]",
      "text/plain": [
       "<Figure size 432x288 with 1 Axes>"
      ]
     },
     "metadata": {
      "needs_background": "light"
     },
     "output_type": "display_data"
    }
   ],
   "source": [
    "PerformanceCheckSuite.run(model=model, train_dataset=train_ds, validation_dataset=val_ds, check_datasets_policy='both')"
   ]
  },
  {
   "cell_type": "code",
   "execution_count": null,
   "id": "5e5d0c39-8e79-4441-9818-385342a02792",
   "metadata": {},
   "outputs": [],
   "source": []
  }
 ],
 "metadata": {
  "kernelspec": {
   "display_name": "Python 3 (ipykernel)",
   "language": "python",
   "name": "python3"
  },
  "language_info": {
   "codemirror_mode": {
    "name": "ipython",
    "version": 3
   },
   "file_extension": ".py",
   "mimetype": "text/x-python",
   "name": "python",
   "nbconvert_exporter": "python",
   "pygments_lexer": "ipython3",
   "version": "3.8.6"
  }
 },
 "nbformat": 4,
 "nbformat_minor": 5
}
