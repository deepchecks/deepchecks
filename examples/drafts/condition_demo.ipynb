{
 "cells": [
  {
   "cell_type": "code",
   "execution_count": 1,
   "id": "aa401fe6",
   "metadata": {},
   "outputs": [],
   "source": [
    "import pandas as pd\n",
    "\n",
    "%load_ext autoreload\n",
    "%autoreload 2"
   ]
  },
  {
   "cell_type": "code",
<<<<<<< Updated upstream
   "execution_count": 6,
=======
   "execution_count": 10,
>>>>>>> Stashed changes
   "id": "e54802d4",
   "metadata": {},
   "outputs": [
    {
     "data": {
      "text/plain": [
       "My Single Suite: [\n",
       "\tIsSingleValue\n",
<<<<<<< Updated upstream
=======
       "\tIsSingleValue_2\n",
       "\tIsSingleValue_3\n",
>>>>>>> Stashed changes
       "\tMixedNulls\n",
       "\t\tConditions: [\n",
       "\t\t\t0: No more than 3 null types for all columns ignoring: sepal length (cm)\n",
       "\t\t]\n",
       "\tMixedTypes\n",
       "\t\tConditions: [\n",
       "\t\t\t0: failing condition\n",
       "\t\t]\n",
       "\tStringMismatch\n",
       "\t\tConditions: [\n",
       "\t\t\t0: insight condition\n",
       "\t\t]\n",
       "]"
      ]
     },
<<<<<<< Updated upstream
     "execution_count": 6,
=======
     "execution_count": 10,
>>>>>>> Stashed changes
     "metadata": {},
     "output_type": "execute_result"
    }
   ],
   "source": [
    "from mlchecks import CheckSuite, ConditionResult, ConditionCategory\n",
    "from mlchecks.checks import *\n",
    "\n",
    "\n",
    "suite = CheckSuite('My Single Suite',\n",
    "    IsSingleValue(),\n",
<<<<<<< Updated upstream
=======
    "    IsSingleValue(),\n",
    "    IsSingleValue(),\n",
    "\n",
>>>>>>> Stashed changes
    "    MixedNulls(ignore_columns=['sepal length (cm)']).add_condition_max_different_nulls(3),\n",
    "    MixedTypes().add_condition('failing condition', lambda x: False),\n",
    "    StringMismatch().add_condition('insight condition', \n",
    "                                   lambda x: ConditionResult(False, category=ConditionCategory.INSIGHT))\n",
    ")\n",
    "suite"
   ]
  },
  {
   "cell_type": "code",
<<<<<<< Updated upstream
   "execution_count": 7,
=======
   "execution_count": 11,
   "id": "894068d0",
   "metadata": {},
   "outputs": [
    {
     "data": {
      "text/plain": [
       "IsSingleValue"
      ]
     },
     "execution_count": 11,
     "metadata": {},
     "output_type": "execute_result"
    }
   ],
   "source": [
    "suite['IsSingleValue_2']"
   ]
  },
  {
   "cell_type": "code",
   "execution_count": 4,
>>>>>>> Stashed changes
   "id": "231d6218",
   "metadata": {},
   "outputs": [
    {
     "data": {
      "application/vnd.jupyter.widget-view+json": {
       "model_id": "",
       "version_major": 2,
       "version_minor": 0
      },
      "text/plain": [
<<<<<<< Updated upstream
       "VBox(children=(HTML(value=''), IntProgress(value=0, bar_style='info', max=4, style=ProgressStyle(bar_color='#9…"
=======
       "VBox(children=(HTML(value=''), IntProgress(value=0, bar_style='info', max=6, style=ProgressStyle(bar_color='#9…"
>>>>>>> Stashed changes
      ]
     },
     "metadata": {},
     "output_type": "display_data"
    },
    {
     "data": {
      "text/html": [
       "<h3>My Single Suite</h3>"
      ]
     },
     "metadata": {},
     "output_type": "display_data"
    },
    {
     "data": {
      "text/html": [
       "<style type=\"text/css\">\n",
<<<<<<< Updated upstream
       "#T_ae359_ th {\n",
       "  text-align: left;\n",
       "}\n",
       "#T_ae359_ td {\n",
       "  text-align: left;\n",
       "}\n",
       "</style>\n",
       "<table id=\"T_ae359_\">\n",
=======
       "#T_81568_ th {\n",
       "  text-align: left;\n",
       "}\n",
       "#T_81568_ td {\n",
       "  text-align: left;\n",
       "}\n",
       "</style>\n",
       "<table id=\"T_81568_\">\n",
>>>>>>> Stashed changes
       "  <thead>\n",
       "    <tr>\n",
       "      <th class=\"col_heading level0 col0\" >Pass</th>\n",
       "      <th class=\"col_heading level0 col1\" >Check</th>\n",
       "      <th class=\"col_heading level0 col2\" >Condition</th>\n",
       "      <th class=\"col_heading level0 col3\" >Actual</th>\n",
       "    </tr>\n",
       "  </thead>\n",
       "  <tbody>\n",
       "    <tr>\n",
<<<<<<< Updated upstream
       "      <td id=\"T_ae359_row0_col0\" class=\"data row0 col0\" >🎉</td>\n",
       "      <td id=\"T_ae359_row0_col1\" class=\"data row0 col1\" >Mixed Nulls - Train Dataset</td>\n",
       "      <td id=\"T_ae359_row0_col2\" class=\"data row0 col2\" >No more than 3 null types for all columns ignoring: sepal length (cm)</td>\n",
       "      <td id=\"T_ae359_row0_col3\" class=\"data row0 col3\" ></td>\n",
       "    </tr>\n",
       "    <tr>\n",
       "      <td id=\"T_ae359_row1_col0\" class=\"data row1 col0\" >🎉</td>\n",
       "      <td id=\"T_ae359_row1_col1\" class=\"data row1 col1\" >Mixed Nulls - Validation Dataset</td>\n",
       "      <td id=\"T_ae359_row1_col2\" class=\"data row1 col2\" >No more than 3 null types for all columns ignoring: sepal length (cm)</td>\n",
       "      <td id=\"T_ae359_row1_col3\" class=\"data row1 col3\" ></td>\n",
       "    </tr>\n",
       "    <tr>\n",
       "      <td id=\"T_ae359_row2_col0\" class=\"data row2 col0\" >😱</td>\n",
       "      <td id=\"T_ae359_row2_col1\" class=\"data row2 col1\" >Mixed Types - Train Dataset</td>\n",
       "      <td id=\"T_ae359_row2_col2\" class=\"data row2 col2\" >failing condition</td>\n",
       "      <td id=\"T_ae359_row2_col3\" class=\"data row2 col3\" ></td>\n",
       "    </tr>\n",
       "    <tr>\n",
       "      <td id=\"T_ae359_row3_col0\" class=\"data row3 col0\" >😱</td>\n",
       "      <td id=\"T_ae359_row3_col1\" class=\"data row3 col1\" >Mixed Types - Validation Dataset</td>\n",
       "      <td id=\"T_ae359_row3_col2\" class=\"data row3 col2\" >failing condition</td>\n",
       "      <td id=\"T_ae359_row3_col3\" class=\"data row3 col3\" ></td>\n",
       "    </tr>\n",
       "    <tr>\n",
       "      <td id=\"T_ae359_row4_col0\" class=\"data row4 col0\" >🤷</td>\n",
       "      <td id=\"T_ae359_row4_col1\" class=\"data row4 col1\" >String Mismatch - Train Dataset</td>\n",
       "      <td id=\"T_ae359_row4_col2\" class=\"data row4 col2\" >insight condition</td>\n",
       "      <td id=\"T_ae359_row4_col3\" class=\"data row4 col3\" ></td>\n",
       "    </tr>\n",
       "    <tr>\n",
       "      <td id=\"T_ae359_row5_col0\" class=\"data row5 col0\" >🤷</td>\n",
       "      <td id=\"T_ae359_row5_col1\" class=\"data row5 col1\" >String Mismatch - Validation Dataset</td>\n",
       "      <td id=\"T_ae359_row5_col2\" class=\"data row5 col2\" >insight condition</td>\n",
       "      <td id=\"T_ae359_row5_col3\" class=\"data row5 col3\" ></td>\n",
=======
       "      <td id=\"T_81568_row0_col0\" class=\"data row0 col0\" >🎉</td>\n",
       "      <td id=\"T_81568_row0_col1\" class=\"data row0 col1\" >Mixed Nulls - Train Dataset</td>\n",
       "      <td id=\"T_81568_row0_col2\" class=\"data row0 col2\" >No more than 3 null types for all columns ignoring: sepal length (cm)</td>\n",
       "      <td id=\"T_81568_row0_col3\" class=\"data row0 col3\" ></td>\n",
       "    </tr>\n",
       "    <tr>\n",
       "      <td id=\"T_81568_row1_col0\" class=\"data row1 col0\" >🎉</td>\n",
       "      <td id=\"T_81568_row1_col1\" class=\"data row1 col1\" >Mixed Nulls - Validation Dataset</td>\n",
       "      <td id=\"T_81568_row1_col2\" class=\"data row1 col2\" >No more than 3 null types for all columns ignoring: sepal length (cm)</td>\n",
       "      <td id=\"T_81568_row1_col3\" class=\"data row1 col3\" ></td>\n",
       "    </tr>\n",
       "    <tr>\n",
       "      <td id=\"T_81568_row2_col0\" class=\"data row2 col0\" >😱</td>\n",
       "      <td id=\"T_81568_row2_col1\" class=\"data row2 col1\" >Mixed Types - Train Dataset</td>\n",
       "      <td id=\"T_81568_row2_col2\" class=\"data row2 col2\" >failing condition</td>\n",
       "      <td id=\"T_81568_row2_col3\" class=\"data row2 col3\" ></td>\n",
       "    </tr>\n",
       "    <tr>\n",
       "      <td id=\"T_81568_row3_col0\" class=\"data row3 col0\" >😱</td>\n",
       "      <td id=\"T_81568_row3_col1\" class=\"data row3 col1\" >Mixed Types - Validation Dataset</td>\n",
       "      <td id=\"T_81568_row3_col2\" class=\"data row3 col2\" >failing condition</td>\n",
       "      <td id=\"T_81568_row3_col3\" class=\"data row3 col3\" ></td>\n",
       "    </tr>\n",
       "    <tr>\n",
       "      <td id=\"T_81568_row4_col0\" class=\"data row4 col0\" >🤷</td>\n",
       "      <td id=\"T_81568_row4_col1\" class=\"data row4 col1\" >String Mismatch - Train Dataset</td>\n",
       "      <td id=\"T_81568_row4_col2\" class=\"data row4 col2\" >insight condition</td>\n",
       "      <td id=\"T_81568_row4_col3\" class=\"data row4 col3\" ></td>\n",
       "    </tr>\n",
       "    <tr>\n",
       "      <td id=\"T_81568_row5_col0\" class=\"data row5 col0\" >🤷</td>\n",
       "      <td id=\"T_81568_row5_col1\" class=\"data row5 col1\" >String Mismatch - Validation Dataset</td>\n",
       "      <td id=\"T_81568_row5_col2\" class=\"data row5 col2\" >insight condition</td>\n",
       "      <td id=\"T_81568_row5_col3\" class=\"data row5 col3\" ></td>\n",
>>>>>>> Stashed changes
       "    </tr>\n",
       "  </tbody>\n",
       "</table>\n"
      ]
     },
     "metadata": {},
     "output_type": "display_data"
    }
   ],
   "source": [
    "from sklearn.datasets import load_iris\n",
    "\n",
    "df = load_iris(return_X_y=False, as_frame=True)\n",
    "df = pd.concat([df.data, df.target], axis=1)\n",
    "\n",
    "train = df[:100]\n",
    "val = df[100:]\n",
    "\n",
    "result = suite.run(train_dataset=train, validation_dataset=val, check_datasets_policy='both')\n",
    "result"
   ]
  },
  {
   "cell_type": "code",
   "execution_count": 5,
   "id": "e3c03d10",
   "metadata": {},
   "outputs": [
    {
     "data": {
      "text/html": [
       "<h3>My Single Suite</h3>"
      ]
     },
     "metadata": {},
     "output_type": "display_data"
    },
    {
     "data": {
      "text/html": [
       "<style type=\"text/css\">\n",
<<<<<<< Updated upstream
       "#T_9b5cf_ th {\n",
       "  text-align: left;\n",
       "}\n",
       "#T_9b5cf_ td {\n",
       "  text-align: left;\n",
       "}\n",
       "</style>\n",
       "<table id=\"T_9b5cf_\">\n",
=======
       "#T_564d6_ th {\n",
       "  text-align: left;\n",
       "}\n",
       "#T_564d6_ td {\n",
       "  text-align: left;\n",
       "}\n",
       "</style>\n",
       "<table id=\"T_564d6_\">\n",
>>>>>>> Stashed changes
       "  <thead>\n",
       "    <tr>\n",
       "      <th class=\"col_heading level0 col0\" >Pass</th>\n",
       "      <th class=\"col_heading level0 col1\" >Check</th>\n",
       "      <th class=\"col_heading level0 col2\" >Condition</th>\n",
       "      <th class=\"col_heading level0 col3\" >Actual</th>\n",
       "    </tr>\n",
       "  </thead>\n",
       "  <tbody>\n",
       "    <tr>\n",
<<<<<<< Updated upstream
       "      <td id=\"T_9b5cf_row0_col0\" class=\"data row0 col0\" >😱</td>\n",
       "      <td id=\"T_9b5cf_row0_col1\" class=\"data row0 col1\" >Mixed Types - Train Dataset</td>\n",
       "      <td id=\"T_9b5cf_row0_col2\" class=\"data row0 col2\" >failing condition</td>\n",
       "      <td id=\"T_9b5cf_row0_col3\" class=\"data row0 col3\" ></td>\n",
       "    </tr>\n",
       "    <tr>\n",
       "      <td id=\"T_9b5cf_row1_col0\" class=\"data row1 col0\" >😱</td>\n",
       "      <td id=\"T_9b5cf_row1_col1\" class=\"data row1 col1\" >Mixed Types - Validation Dataset</td>\n",
       "      <td id=\"T_9b5cf_row1_col2\" class=\"data row1 col2\" >failing condition</td>\n",
       "      <td id=\"T_9b5cf_row1_col3\" class=\"data row1 col3\" ></td>\n",
       "    </tr>\n",
       "    <tr>\n",
       "      <td id=\"T_9b5cf_row2_col0\" class=\"data row2 col0\" >🤷</td>\n",
       "      <td id=\"T_9b5cf_row2_col1\" class=\"data row2 col1\" >String Mismatch - Train Dataset</td>\n",
       "      <td id=\"T_9b5cf_row2_col2\" class=\"data row2 col2\" >insight condition</td>\n",
       "      <td id=\"T_9b5cf_row2_col3\" class=\"data row2 col3\" ></td>\n",
       "    </tr>\n",
       "    <tr>\n",
       "      <td id=\"T_9b5cf_row3_col0\" class=\"data row3 col0\" >🤷</td>\n",
       "      <td id=\"T_9b5cf_row3_col1\" class=\"data row3 col1\" >String Mismatch - Validation Dataset</td>\n",
       "      <td id=\"T_9b5cf_row3_col2\" class=\"data row3 col2\" >insight condition</td>\n",
       "      <td id=\"T_9b5cf_row3_col3\" class=\"data row3 col3\" ></td>\n",
=======
       "      <td id=\"T_564d6_row0_col0\" class=\"data row0 col0\" >🎉</td>\n",
       "      <td id=\"T_564d6_row0_col1\" class=\"data row0 col1\" >Mixed Nulls - Train Dataset</td>\n",
       "      <td id=\"T_564d6_row0_col2\" class=\"data row0 col2\" >No more than 3 null types for all columns ignoring: sepal length (cm)</td>\n",
       "      <td id=\"T_564d6_row0_col3\" class=\"data row0 col3\" ></td>\n",
       "    </tr>\n",
       "    <tr>\n",
       "      <td id=\"T_564d6_row1_col0\" class=\"data row1 col0\" >🎉</td>\n",
       "      <td id=\"T_564d6_row1_col1\" class=\"data row1 col1\" >Mixed Nulls - Validation Dataset</td>\n",
       "      <td id=\"T_564d6_row1_col2\" class=\"data row1 col2\" >No more than 3 null types for all columns ignoring: sepal length (cm)</td>\n",
       "      <td id=\"T_564d6_row1_col3\" class=\"data row1 col3\" ></td>\n",
       "    </tr>\n",
       "    <tr>\n",
       "      <td id=\"T_564d6_row2_col0\" class=\"data row2 col0\" >😱</td>\n",
       "      <td id=\"T_564d6_row2_col1\" class=\"data row2 col1\" >Mixed Types - Train Dataset</td>\n",
       "      <td id=\"T_564d6_row2_col2\" class=\"data row2 col2\" >failing condition</td>\n",
       "      <td id=\"T_564d6_row2_col3\" class=\"data row2 col3\" ></td>\n",
       "    </tr>\n",
       "    <tr>\n",
       "      <td id=\"T_564d6_row3_col0\" class=\"data row3 col0\" >😱</td>\n",
       "      <td id=\"T_564d6_row3_col1\" class=\"data row3 col1\" >Mixed Types - Validation Dataset</td>\n",
       "      <td id=\"T_564d6_row3_col2\" class=\"data row3 col2\" >failing condition</td>\n",
       "      <td id=\"T_564d6_row3_col3\" class=\"data row3 col3\" ></td>\n",
       "    </tr>\n",
       "    <tr>\n",
       "      <td id=\"T_564d6_row4_col0\" class=\"data row4 col0\" >🤷</td>\n",
       "      <td id=\"T_564d6_row4_col1\" class=\"data row4 col1\" >String Mismatch - Train Dataset</td>\n",
       "      <td id=\"T_564d6_row4_col2\" class=\"data row4 col2\" >insight condition</td>\n",
       "      <td id=\"T_564d6_row4_col3\" class=\"data row4 col3\" ></td>\n",
       "    </tr>\n",
       "    <tr>\n",
       "      <td id=\"T_564d6_row5_col0\" class=\"data row5 col0\" >🤷</td>\n",
       "      <td id=\"T_564d6_row5_col1\" class=\"data row5 col1\" >String Mismatch - Validation Dataset</td>\n",
       "      <td id=\"T_564d6_row5_col2\" class=\"data row5 col2\" >insight condition</td>\n",
       "      <td id=\"T_564d6_row5_col3\" class=\"data row5 col3\" ></td>\n",
       "    </tr>\n",
       "  </tbody>\n",
       "</table>\n"
      ]
     },
     "metadata": {},
     "output_type": "display_data"
    },
    {
     "data": {
      "text/html": [
       "<h4>Single Value in Column - Train Dataset</h4>"
      ]
     },
     "metadata": {},
     "output_type": "display_data"
    },
    {
     "data": {
      "text/html": [
       "<p>Check if there are columns which have only a single unique value in all rows.</p>"
      ]
     },
     "metadata": {},
     "output_type": "display_data"
    },
    {
     "data": {
      "text/html": [
       "<p><b>&#x2713;</b> Nothing found</p>"
      ]
     },
     "metadata": {},
     "output_type": "display_data"
    },
    {
     "data": {
      "text/html": [
       "<h4>Single Value in Column - Validation Dataset</h4>"
      ]
     },
     "metadata": {},
     "output_type": "display_data"
    },
    {
     "data": {
      "text/html": [
       "<p>Check if there are columns which have only a single unique value in all rows.</p>"
      ]
     },
     "metadata": {},
     "output_type": "display_data"
    },
    {
     "data": {
      "text/html": [
       "The following columns have only one unique value"
      ]
     },
     "metadata": {},
     "output_type": "display_data"
    },
    {
     "data": {
      "text/html": [
       "<style type=\"text/css\">\n",
       "#T_c411c_ th {\n",
       "  text-align: left;\n",
       "}\n",
       "#T_c411c_ td {\n",
       "  text-align: left;\n",
       "}\n",
       "</style>\n",
       "<table id=\"T_c411c_\">\n",
       "  <thead>\n",
       "    <tr>\n",
       "      <th class=\"blank level0\" >&nbsp;</th>\n",
       "      <th class=\"col_heading level0 col0\" >target</th>\n",
       "    </tr>\n",
       "  </thead>\n",
       "  <tbody>\n",
       "    <tr>\n",
       "      <th id=\"T_c411c_level0_row0\" class=\"row_heading level0 row0\" >Single unique value</th>\n",
       "      <td id=\"T_c411c_row0_col0\" class=\"data row0 col0\" >2</td>\n",
       "    </tr>\n",
       "  </tbody>\n",
       "</table>\n"
      ]
     },
     "metadata": {},
     "output_type": "display_data"
    },
    {
     "data": {
      "text/html": [
       "<h4>Single Value in Column - Train Dataset</h4>"
      ]
     },
     "metadata": {},
     "output_type": "display_data"
    },
    {
     "data": {
      "text/html": [
       "<p>Check if there are columns which have only a single unique value in all rows.</p>"
      ]
     },
     "metadata": {},
     "output_type": "display_data"
    },
    {
     "data": {
      "text/html": [
       "<p><b>&#x2713;</b> Nothing found</p>"
      ]
     },
     "metadata": {},
     "output_type": "display_data"
    },
    {
     "data": {
      "text/html": [
       "<h4>Single Value in Column - Validation Dataset</h4>"
      ]
     },
     "metadata": {},
     "output_type": "display_data"
    },
    {
     "data": {
      "text/html": [
       "<p>Check if there are columns which have only a single unique value in all rows.</p>"
      ]
     },
     "metadata": {},
     "output_type": "display_data"
    },
    {
     "data": {
      "text/html": [
       "The following columns have only one unique value"
      ]
     },
     "metadata": {},
     "output_type": "display_data"
    },
    {
     "data": {
      "text/html": [
       "<style type=\"text/css\">\n",
       "#T_1ee34_ th {\n",
       "  text-align: left;\n",
       "}\n",
       "#T_1ee34_ td {\n",
       "  text-align: left;\n",
       "}\n",
       "</style>\n",
       "<table id=\"T_1ee34_\">\n",
       "  <thead>\n",
       "    <tr>\n",
       "      <th class=\"blank level0\" >&nbsp;</th>\n",
       "      <th class=\"col_heading level0 col0\" >target</th>\n",
       "    </tr>\n",
       "  </thead>\n",
       "  <tbody>\n",
       "    <tr>\n",
       "      <th id=\"T_1ee34_level0_row0\" class=\"row_heading level0 row0\" >Single unique value</th>\n",
       "      <td id=\"T_1ee34_row0_col0\" class=\"data row0 col0\" >2</td>\n",
>>>>>>> Stashed changes
       "    </tr>\n",
       "  </tbody>\n",
       "</table>\n"
      ]
     },
     "metadata": {},
     "output_type": "display_data"
    },
    {
     "data": {
      "text/html": [
       "<h4>Single Value in Column - Train Dataset</h4>"
      ]
     },
     "metadata": {},
     "output_type": "display_data"
    },
    {
     "data": {
      "text/html": [
       "<p>Check if there are columns which have only a single unique value in all rows.</p>"
      ]
     },
     "metadata": {},
     "output_type": "display_data"
    },
    {
     "data": {
      "text/html": [
       "<p><b>&#x2713;</b> Nothing found</p>"
      ]
     },
     "metadata": {},
     "output_type": "display_data"
    },
    {
     "data": {
      "text/html": [
       "<h4>Single Value in Column - Validation Dataset</h4>"
      ]
     },
     "metadata": {},
     "output_type": "display_data"
    },
    {
     "data": {
      "text/html": [
       "<p>Check if there are columns which have only a single unique value in all rows.</p>"
      ]
     },
     "metadata": {},
     "output_type": "display_data"
    },
    {
     "data": {
      "text/html": [
       "The following columns have only one unique value"
      ]
     },
     "metadata": {},
     "output_type": "display_data"
    },
    {
     "data": {
      "text/html": [
       "<style type=\"text/css\">\n",
<<<<<<< Updated upstream
       "#T_c38ce_ th {\n",
       "  text-align: left;\n",
       "}\n",
       "#T_c38ce_ td {\n",
       "  text-align: left;\n",
       "}\n",
       "</style>\n",
       "<table id=\"T_c38ce_\">\n",
=======
       "#T_64545_ th {\n",
       "  text-align: left;\n",
       "}\n",
       "#T_64545_ td {\n",
       "  text-align: left;\n",
       "}\n",
       "</style>\n",
       "<table id=\"T_64545_\">\n",
>>>>>>> Stashed changes
       "  <thead>\n",
       "    <tr>\n",
       "      <th class=\"blank level0\" >&nbsp;</th>\n",
       "      <th class=\"col_heading level0 col0\" >target</th>\n",
       "    </tr>\n",
       "  </thead>\n",
       "  <tbody>\n",
       "    <tr>\n",
<<<<<<< Updated upstream
       "      <th id=\"T_c38ce_level0_row0\" class=\"row_heading level0 row0\" >Single unique value</th>\n",
       "      <td id=\"T_c38ce_row0_col0\" class=\"data row0 col0\" >2</td>\n",
=======
       "      <th id=\"T_64545_level0_row0\" class=\"row_heading level0 row0\" >Single unique value</th>\n",
       "      <td id=\"T_64545_row0_col0\" class=\"data row0 col0\" >2</td>\n",
>>>>>>> Stashed changes
       "    </tr>\n",
       "  </tbody>\n",
       "</table>\n"
      ]
     },
     "metadata": {},
     "output_type": "display_data"
    },
    {
     "data": {
      "text/html": [
       "<h4>Mixed Nulls - Train Dataset</h4>"
      ]
     },
     "metadata": {},
     "output_type": "display_data"
    },
    {
     "data": {
      "text/html": [
       "<p>Search for various types of null values in a string column(s), including string representations of null.</p>"
      ]
     },
     "metadata": {},
     "output_type": "display_data"
    },
    {
     "data": {
      "text/html": [
       "<p><b>&#x2713;</b> Nothing found</p>"
      ]
     },
     "metadata": {},
     "output_type": "display_data"
    },
    {
     "data": {
      "text/html": [
       "<h4>Mixed Nulls - Validation Dataset</h4>"
      ]
     },
     "metadata": {},
     "output_type": "display_data"
    },
    {
     "data": {
      "text/html": [
       "<p>Search for various types of null values in a string column(s), including string representations of null.</p>"
      ]
     },
     "metadata": {},
     "output_type": "display_data"
    },
    {
     "data": {
      "text/html": [
       "<p><b>&#x2713;</b> Nothing found</p>"
      ]
     },
     "metadata": {},
     "output_type": "display_data"
    },
    {
     "data": {
      "text/html": [
       "<h4>Mixed Types - Train Dataset</h4>"
      ]
     },
     "metadata": {},
     "output_type": "display_data"
    },
    {
     "data": {
      "text/html": [
       "<p>Search for various types of data in (a) column[s], including hidden mixes in strings.</p>"
      ]
     },
     "metadata": {},
     "output_type": "display_data"
    },
    {
     "data": {
      "text/html": [
       "<p><b>&#x2713;</b> Nothing found</p>"
      ]
     },
     "metadata": {},
     "output_type": "display_data"
    },
    {
     "data": {
      "text/html": [
       "<h4>Mixed Types - Validation Dataset</h4>"
      ]
     },
     "metadata": {},
     "output_type": "display_data"
    },
    {
     "data": {
      "text/html": [
       "<p>Search for various types of data in (a) column[s], including hidden mixes in strings.</p>"
      ]
     },
     "metadata": {},
     "output_type": "display_data"
    },
    {
     "data": {
      "text/html": [
       "<p><b>&#x2713;</b> Nothing found</p>"
      ]
     },
     "metadata": {},
     "output_type": "display_data"
    },
    {
     "data": {
      "text/html": [
       "<h4>String Mismatch - Train Dataset</h4>"
      ]
     },
     "metadata": {},
     "output_type": "display_data"
    },
    {
     "data": {
      "text/html": [
       "<p>Detect different variants of string categories (e.g. \"mislabeled\" vs \"mis-labeled\") in a categorical column.</p>"
      ]
     },
     "metadata": {},
     "output_type": "display_data"
    },
    {
     "data": {
      "text/html": [
       "<p><b>&#x2713;</b> Nothing found</p>"
      ]
     },
     "metadata": {},
     "output_type": "display_data"
    },
    {
     "data": {
      "text/html": [
       "<h4>String Mismatch - Validation Dataset</h4>"
      ]
     },
     "metadata": {},
     "output_type": "display_data"
    },
    {
     "data": {
      "text/html": [
       "<p>Detect different variants of string categories (e.g. \"mislabeled\" vs \"mis-labeled\") in a categorical column.</p>"
      ]
     },
     "metadata": {},
     "output_type": "display_data"
    },
    {
     "data": {
      "text/html": [
       "<p><b>&#x2713;</b> Nothing found</p>"
      ]
     },
     "metadata": {},
     "output_type": "display_data"
    }
   ],
   "source": [
    "result.display_verbose()"
   ]
  }
 ],
 "metadata": {
  "kernelspec": {
   "display_name": "Python 3 (ipykernel)",
   "language": "python",
   "name": "python3"
  },
  "language_info": {
   "codemirror_mode": {
    "name": "ipython",
    "version": 3
   },
   "file_extension": ".py",
   "mimetype": "text/x-python",
   "name": "python",
   "nbconvert_exporter": "python",
   "pygments_lexer": "ipython3",
   "version": "3.8.6"
  },
  "toc": {
   "base_numbering": 1,
   "nav_menu": {},
   "number_sections": true,
   "sideBar": true,
   "skip_h1_title": false,
   "title_cell": "Table of Contents",
   "title_sidebar": "Contents",
   "toc_cell": false,
   "toc_position": {},
   "toc_section_display": true,
   "toc_window_display": false
  }
 },
 "nbformat": 4,
 "nbformat_minor": 5
}
