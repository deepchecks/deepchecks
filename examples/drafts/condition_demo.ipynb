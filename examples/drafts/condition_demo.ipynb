{
 "cells": [
  {
   "cell_type": "code",
   "execution_count": 1,
   "id": "aa401fe6",
   "metadata": {},
   "outputs": [],
   "source": [
    "import pandas as pd\n",
    "\n",
    "%load_ext autoreload\n",
    "%autoreload 2"
   ]
  },
  {
   "cell_type": "code",
   "execution_count": 11,
   "id": "e54802d4",
   "metadata": {},
   "outputs": [
    {
     "data": {
      "text/plain": [
       "My Single Suite: [\n",
       "\tIsSingleValue\n",
       "\tMixedNulls(check_nan=True)\n",
       "\t\tConditions:\n",
       "\t\t\t0: Not more than 3 different null types for all columns\n",
       "\tStringMismatch\n",
       "\t\tConditions:\n",
       "\t\t\t0: No string variants for all columns\n",
       "\tStringMismatch_2\n",
       "\t\tConditions:\n",
       "\t\t\t0: Not more than 35.00% variants for all columns\n",
       "\tMixedTypes\n",
       "\t\tConditions:\n",
       "\t\t\t0: Rare type ratio is not less than 40.00% of samples in all columns\n",
       "\tMixedTypes_2\n",
       "\t\tConditions:\n",
       "\t\t\t0: Rare type ratio is not less than 10.00% of samples in all columns\n",
       "\tRareFormatDetection(patterns=[<mlchecks.checks.integrity.rare_format_detection.Pattern object at 0x7f9f79aa3550>, <mlchecks.checks.integrity.rare_format_detection.Pattern object at 0x7f9f79aa3610>, <mlchecks.checks.integrity.rare_format_detection.Pattern object at 0x7f9f79aa3670>, <mlchecks.checks.integrity.rare_format_detection.Pattern object at 0x7f9f79aa36d0>, <mlchecks.checks.integrity.rare_format_detection.Pattern object at 0x7f9f79aa3760>, <mlchecks.checks.integrity.rare_format_detection.Pattern object at 0x7f9f79aa37f0>, <mlchecks.checks.integrity.rare_format_detection.Pattern object at 0x7f9f79aa3880>, <mlchecks.checks.integrity.rare_format_detection.Pattern object at 0x7f9f79aa3910>], rarity_threshold=0.05, min_unique_common_ratio=0.01, pattern_match_method=first)\n",
       "\t\tConditions:\n",
       "\t\t\t0: fail example\n",
       "]"
      ]
     },
     "execution_count": 11,
     "metadata": {},
     "output_type": "execute_result"
    }
   ],
   "source": [
    "from mlchecks import CheckSuite, ConditionResult, ConditionCategory, Dataset\n",
    "from mlchecks.checks import *\n",
    "\n",
    "def condition_exc(r):\n",
    "    raise Exception('Failed because I need an example')\n",
    "\n",
    "data = {\n",
    "    'col1': ['', '#@$', 'Nan!', '#nan', '<NaN>'],\n",
    "    'col2': ['gabbay', 'GABBAY!!!', 'is', '...', '?Gabbay?'],\n",
    "    'col3': [1, 's', 'a', 'b', 'c'],\n",
    "    'col4': ['a', 'a', 'a', 'a', 'a']\n",
    "}\n",
    "\n",
    "dataset = Dataset(pd.DataFrame(data=data))\n",
    "suite = CheckSuite('My Single Suite',\n",
    "    IsSingleValue(),\n",
    "    MixedNulls().add_condition_different_nulls_not_more_than(3),\n",
    "    StringMismatch().add_condition_no_variants(),\n",
    "    StringMismatch().add_condition_ratio_variants_not_more_than(0.35),\n",
    "    MixedTypes().add_condition_rare_type_ratio_not_less_than(0.4),\n",
    "    MixedTypes().add_condition_rare_type_ratio_not_less_than(0.1),\n",
    "    RareFormatDetection().add_condition('fail example', condition_exc)\n",
    ")\n",
    "suite"
   ]
  },
  {
   "cell_type": "code",
   "execution_count": 12,
   "id": "231d6218",
   "metadata": {
    "scrolled": false
   },
   "outputs": [
    {
     "data": {
      "application/vnd.jupyter.widget-view+json": {
       "model_id": "",
       "version_major": 2,
       "version_minor": 0
      },
      "text/plain": [
       "VBox(children=(HTML(value=''), IntProgress(value=0, bar_style='info', max=7, style=ProgressStyle(bar_color='#9…"
      ]
     },
     "metadata": {},
     "output_type": "display_data"
    },
    {
     "data": {
      "text/html": [
       "<h2>My Single Suite</h2>"
      ]
     },
     "metadata": {},
     "output_type": "display_data"
    },
    {
     "data": {
      "text/html": [
       "<h3>Conditions Summary</h3>"
      ]
     },
     "metadata": {},
     "output_type": "display_data"
    },
    {
     "data": {
      "text/html": [
       "<style type=\"text/css\">\n",
       "#T_b3fa8_ th {\n",
       "  text-align: left;\n",
       "}\n",
       "#T_b3fa8_ td {\n",
       "  text-align: left;\n",
       "}\n",
       "</style>\n",
       "<table id=\"T_b3fa8_\">\n",
       "  <thead>\n",
       "    <tr>\n",
       "      <th class=\"col_heading level0 col0\" >Status</th>\n",
       "      <th class=\"col_heading level0 col1\" >Check</th>\n",
       "      <th class=\"col_heading level0 col2\" >Condition</th>\n",
       "      <th class=\"col_heading level0 col3\" >More Info</th>\n",
       "    </tr>\n",
       "  </thead>\n",
       "  <tbody>\n",
       "    <tr>\n",
       "      <td id=\"T_b3fa8_row0_col0\" class=\"data row0 col0\" ><p style=\"color: red\">✖</p></td>\n",
       "      <td id=\"T_b3fa8_row0_col1\" class=\"data row0 col1\" >Mixed Nulls - Validation Dataset</td>\n",
       "      <td id=\"T_b3fa8_row0_col2\" class=\"data row0 col2\" >Not more than 3 different null types for all columns</td>\n",
       "      <td id=\"T_b3fa8_row0_col3\" class=\"data row0 col3\" >Found columns col1 with more than 3 null types</td>\n",
       "    </tr>\n",
       "    <tr>\n",
       "      <td id=\"T_b3fa8_row1_col0\" class=\"data row1 col0\" ><p style=\"color: red\">✖</p></td>\n",
       "      <td id=\"T_b3fa8_row1_col1\" class=\"data row1 col1\" >Mixed Types - Validation Dataset</td>\n",
       "      <td id=\"T_b3fa8_row1_col2\" class=\"data row1 col2\" >Rare type ratio is not less than 40.00% of samples in all columns</td>\n",
       "      <td id=\"T_b3fa8_row1_col3\" class=\"data row1 col3\" >Found columns with low type ratio: col3</td>\n",
       "    </tr>\n",
       "    <tr>\n",
       "      <td id=\"T_b3fa8_row2_col0\" class=\"data row2 col0\" ><p style=\"color: orange\">!</p></td>\n",
       "      <td id=\"T_b3fa8_row2_col1\" class=\"data row2 col1\" >String Mismatch - Validation Dataset</td>\n",
       "      <td id=\"T_b3fa8_row2_col2\" class=\"data row2 col2\" >No string variants for all columns</td>\n",
       "      <td id=\"T_b3fa8_row2_col3\" class=\"data row2 col3\" >Found columns with variants: {'col1': ['', 'nan'], 'col2': ['gabbay']}</td>\n",
       "    </tr>\n",
       "    <tr>\n",
       "      <td id=\"T_b3fa8_row3_col0\" class=\"data row3 col0\" ><p style=\"color: green\">✓</p></td>\n",
       "      <td id=\"T_b3fa8_row3_col1\" class=\"data row3 col1\" >String Mismatch - Validation Dataset</td>\n",
       "      <td id=\"T_b3fa8_row3_col2\" class=\"data row3 col2\" >Not more than 35.00% variants for all columns</td>\n",
       "      <td id=\"T_b3fa8_row3_col3\" class=\"data row3 col3\" ></td>\n",
       "    </tr>\n",
       "    <tr>\n",
       "      <td id=\"T_b3fa8_row4_col0\" class=\"data row4 col0\" ><p style=\"color: green\">✓</p></td>\n",
       "      <td id=\"T_b3fa8_row4_col1\" class=\"data row4 col1\" >Mixed Types - Validation Dataset</td>\n",
       "      <td id=\"T_b3fa8_row4_col2\" class=\"data row4 col2\" >Rare type ratio is not less than 10.00% of samples in all columns</td>\n",
       "      <td id=\"T_b3fa8_row4_col3\" class=\"data row4 col3\" ></td>\n",
       "    </tr>\n",
       "  </tbody>\n",
       "</table>\n"
      ]
     },
     "metadata": {},
     "output_type": "display_data"
    },
    {
     "data": {
      "text/html": [
       "<h3>Checks that didn't pass condition</h3>"
      ]
     },
     "metadata": {},
     "output_type": "display_data"
    },
    {
     "data": {
      "text/html": [
       "<h4>Mixed Nulls - Validation Dataset</h4>"
      ]
     },
     "metadata": {},
     "output_type": "display_data"
    },
    {
     "data": {
      "text/html": [
       "<p>Search for various types of null values in a string column(s), including string representations of null.</p>"
      ]
     },
     "metadata": {},
     "output_type": "display_data"
    },
    {
     "data": {
      "text/html": [
       "<style type=\"text/css\">\n",
       "#T_250b3_ th {\n",
       "  text-align: left;\n",
       "}\n",
       "#T_250b3_ td {\n",
       "  text-align: left;\n",
       "}\n",
       "</style>\n",
       "<table id=\"T_250b3_\">\n",
       "  <thead>\n",
       "    <tr>\n",
       "      <th class=\"blank\" >&nbsp;</th>\n",
       "      <th class=\"blank level0\" >&nbsp;</th>\n",
       "      <th class=\"col_heading level0 col0\" >Count</th>\n",
       "      <th class=\"col_heading level0 col1\" >Percent of data</th>\n",
       "    </tr>\n",
       "    <tr>\n",
       "      <th class=\"index_name level0\" >Column Name</th>\n",
       "      <th class=\"index_name level1\" >Value</th>\n",
       "      <th class=\"blank col0\" >&nbsp;</th>\n",
       "      <th class=\"blank col1\" >&nbsp;</th>\n",
       "    </tr>\n",
       "  </thead>\n",
       "  <tbody>\n",
       "    <tr>\n",
       "      <th id=\"T_250b3_level0_row0\" class=\"row_heading level0 row0\" rowspan=\"5\">col1</th>\n",
       "      <th id=\"T_250b3_level1_row0\" class=\"row_heading level1 row0\" ></th>\n",
       "      <td id=\"T_250b3_row0_col0\" class=\"data row0 col0\" >1</td>\n",
       "      <td id=\"T_250b3_row0_col1\" class=\"data row0 col1\" >5.00%</td>\n",
       "    </tr>\n",
       "    <tr>\n",
       "      <th id=\"T_250b3_level1_row1\" class=\"row_heading level1 row1\" >#@$</th>\n",
       "      <td id=\"T_250b3_row1_col0\" class=\"data row1 col0\" >1</td>\n",
       "      <td id=\"T_250b3_row1_col1\" class=\"data row1 col1\" >5.00%</td>\n",
       "    </tr>\n",
       "    <tr>\n",
       "      <th id=\"T_250b3_level1_row2\" class=\"row_heading level1 row2\" >Nan!</th>\n",
       "      <td id=\"T_250b3_row2_col0\" class=\"data row2 col0\" >1</td>\n",
       "      <td id=\"T_250b3_row2_col1\" class=\"data row2 col1\" >5.00%</td>\n",
       "    </tr>\n",
       "    <tr>\n",
       "      <th id=\"T_250b3_level1_row3\" class=\"row_heading level1 row3\" >#nan</th>\n",
       "      <td id=\"T_250b3_row3_col0\" class=\"data row3 col0\" >1</td>\n",
       "      <td id=\"T_250b3_row3_col1\" class=\"data row3 col1\" >5.00%</td>\n",
       "    </tr>\n",
       "    <tr>\n",
       "      <th id=\"T_250b3_level1_row4\" class=\"row_heading level1 row4\" ><NaN></th>\n",
       "      <td id=\"T_250b3_row4_col0\" class=\"data row4 col0\" >1</td>\n",
       "      <td id=\"T_250b3_row4_col1\" class=\"data row4 col1\" >5.00%</td>\n",
       "    </tr>\n",
       "  </tbody>\n",
       "</table>\n"
      ]
     },
     "metadata": {},
     "output_type": "display_data"
    },
    {
     "data": {
      "text/html": [
       "<h4>Mixed Types - Validation Dataset</h4>"
      ]
     },
     "metadata": {},
     "output_type": "display_data"
    },
    {
     "data": {
      "text/html": [
       "<p>Search for various types of data in (a) column[s], including hidden mixes in strings.</p>"
      ]
     },
     "metadata": {},
     "output_type": "display_data"
    },
    {
     "data": {
      "text/html": [
       "<style type=\"text/css\">\n",
       "#T_e1b14_ th {\n",
       "  text-align: left;\n",
       "}\n",
       "#T_e1b14_ td {\n",
       "  text-align: left;\n",
       "}\n",
       "</style>\n",
       "<table id=\"T_e1b14_\">\n",
       "  <thead>\n",
       "    <tr>\n",
       "      <th class=\"blank level0\" >&nbsp;</th>\n",
       "      <th class=\"col_heading level0 col0\" >col3</th>\n",
       "    </tr>\n",
       "  </thead>\n",
       "  <tbody>\n",
       "    <tr>\n",
       "      <th id=\"T_e1b14_level0_row0\" class=\"row_heading level0 row0\" >numbers</th>\n",
       "      <td id=\"T_e1b14_row0_col0\" class=\"data row0 col0\" >20.00%</td>\n",
       "    </tr>\n",
       "    <tr>\n",
       "      <th id=\"T_e1b14_level0_row1\" class=\"row_heading level0 row1\" >strings</th>\n",
       "      <td id=\"T_e1b14_row1_col0\" class=\"data row1 col0\" >80.00%</td>\n",
       "    </tr>\n",
       "  </tbody>\n",
       "</table>\n"
      ]
     },
     "metadata": {},
     "output_type": "display_data"
    },
    {
     "data": {
      "text/html": [
       "<h4>String Mismatch - Validation Dataset</h4>"
      ]
     },
     "metadata": {},
     "output_type": "display_data"
    },
    {
     "data": {
      "text/html": [
       "<p>Detect different variants of string categories (e.g. \"mislabeled\" vs \"mis-labeled\") in a categorical column.</p>"
      ]
     },
     "metadata": {},
     "output_type": "display_data"
    },
    {
     "data": {
      "text/html": [
       "<style type=\"text/css\">\n",
       "#T_64a24_ th {\n",
       "  text-align: left;\n",
       "}\n",
       "#T_64a24_ td {\n",
       "  text-align: left;\n",
       "}\n",
       "</style>\n",
       "<table id=\"T_64a24_\">\n",
       "  <thead>\n",
       "    <tr>\n",
       "      <th class=\"blank\" >&nbsp;</th>\n",
       "      <th class=\"blank level0\" >&nbsp;</th>\n",
       "      <th class=\"col_heading level0 col0\" >Value</th>\n",
       "      <th class=\"col_heading level0 col1\" >Count</th>\n",
       "      <th class=\"col_heading level0 col2\" >% In data</th>\n",
       "    </tr>\n",
       "    <tr>\n",
       "      <th class=\"index_name level0\" >Column Name</th>\n",
       "      <th class=\"index_name level1\" >Base form</th>\n",
       "      <th class=\"blank col0\" >&nbsp;</th>\n",
       "      <th class=\"blank col1\" >&nbsp;</th>\n",
       "      <th class=\"blank col2\" >&nbsp;</th>\n",
       "    </tr>\n",
       "  </thead>\n",
       "  <tbody>\n",
       "    <tr>\n",
       "      <th id=\"T_64a24_level0_row0\" class=\"row_heading level0 row0\" rowspan=\"5\">col1</th>\n",
       "      <th id=\"T_64a24_level1_row0\" class=\"row_heading level1 row0\" ></th>\n",
       "      <td id=\"T_64a24_row0_col0\" class=\"data row0 col0\" ></td>\n",
       "      <td id=\"T_64a24_row0_col1\" class=\"data row0 col1\" >1</td>\n",
       "      <td id=\"T_64a24_row0_col2\" class=\"data row0 col2\" >5.00%</td>\n",
       "    </tr>\n",
       "    <tr>\n",
       "      <th id=\"T_64a24_level1_row1\" class=\"row_heading level1 row1\" ></th>\n",
       "      <td id=\"T_64a24_row1_col0\" class=\"data row1 col0\" >#@$</td>\n",
       "      <td id=\"T_64a24_row1_col1\" class=\"data row1 col1\" >1</td>\n",
       "      <td id=\"T_64a24_row1_col2\" class=\"data row1 col2\" >5.00%</td>\n",
       "    </tr>\n",
       "    <tr>\n",
       "      <th id=\"T_64a24_level1_row2\" class=\"row_heading level1 row2\" >nan</th>\n",
       "      <td id=\"T_64a24_row2_col0\" class=\"data row2 col0\" >Nan!</td>\n",
       "      <td id=\"T_64a24_row2_col1\" class=\"data row2 col1\" >1</td>\n",
       "      <td id=\"T_64a24_row2_col2\" class=\"data row2 col2\" >5.00%</td>\n",
       "    </tr>\n",
       "    <tr>\n",
       "      <th id=\"T_64a24_level1_row3\" class=\"row_heading level1 row3\" >nan</th>\n",
       "      <td id=\"T_64a24_row3_col0\" class=\"data row3 col0\" ><NaN></td>\n",
       "      <td id=\"T_64a24_row3_col1\" class=\"data row3 col1\" >1</td>\n",
       "      <td id=\"T_64a24_row3_col2\" class=\"data row3 col2\" >5.00%</td>\n",
       "    </tr>\n",
       "    <tr>\n",
       "      <th id=\"T_64a24_level1_row4\" class=\"row_heading level1 row4\" >nan</th>\n",
       "      <td id=\"T_64a24_row4_col0\" class=\"data row4 col0\" >#nan</td>\n",
       "      <td id=\"T_64a24_row4_col1\" class=\"data row4 col1\" >1</td>\n",
       "      <td id=\"T_64a24_row4_col2\" class=\"data row4 col2\" >5.00%</td>\n",
       "    </tr>\n",
       "    <tr>\n",
       "      <th id=\"T_64a24_level0_row5\" class=\"row_heading level0 row5\" rowspan=\"3\">col2</th>\n",
       "      <th id=\"T_64a24_level1_row5\" class=\"row_heading level1 row5\" >gabbay</th>\n",
       "      <td id=\"T_64a24_row5_col0\" class=\"data row5 col0\" >GABBAY!!!</td>\n",
       "      <td id=\"T_64a24_row5_col1\" class=\"data row5 col1\" >1</td>\n",
       "      <td id=\"T_64a24_row5_col2\" class=\"data row5 col2\" >5.00%</td>\n",
       "    </tr>\n",
       "    <tr>\n",
       "      <th id=\"T_64a24_level1_row6\" class=\"row_heading level1 row6\" >gabbay</th>\n",
       "      <td id=\"T_64a24_row6_col0\" class=\"data row6 col0\" >gabbay</td>\n",
       "      <td id=\"T_64a24_row6_col1\" class=\"data row6 col1\" >1</td>\n",
       "      <td id=\"T_64a24_row6_col2\" class=\"data row6 col2\" >5.00%</td>\n",
       "    </tr>\n",
       "    <tr>\n",
       "      <th id=\"T_64a24_level1_row7\" class=\"row_heading level1 row7\" >gabbay</th>\n",
       "      <td id=\"T_64a24_row7_col0\" class=\"data row7 col0\" >?Gabbay?</td>\n",
       "      <td id=\"T_64a24_row7_col1\" class=\"data row7 col1\" >1</td>\n",
       "      <td id=\"T_64a24_row7_col2\" class=\"data row7 col2\" >5.00%</td>\n",
       "    </tr>\n",
       "  </tbody>\n",
       "</table>\n"
      ]
     },
     "metadata": {},
     "output_type": "display_data"
    },
    {
     "data": {
      "text/html": [
       "<h3>Checks without condition</h3>"
      ]
     },
     "metadata": {},
     "output_type": "display_data"
    },
    {
     "data": {
      "text/html": [
       "<h4>Single Value in Column - Validation Dataset</h4>"
      ]
     },
     "metadata": {},
     "output_type": "display_data"
    },
    {
     "data": {
      "text/html": [
       "<p>Check if there are columns which have only a single unique value in all rows.</p>"
      ]
     },
     "metadata": {},
     "output_type": "display_data"
    },
    {
     "data": {
      "text/html": [
       "The following columns have only one unique value"
      ]
     },
     "metadata": {},
     "output_type": "display_data"
    },
    {
     "data": {
      "text/html": [
       "<style type=\"text/css\">\n",
       "#T_57d4b_ th {\n",
       "  text-align: left;\n",
       "}\n",
       "#T_57d4b_ td {\n",
       "  text-align: left;\n",
       "}\n",
       "</style>\n",
       "<table id=\"T_57d4b_\">\n",
       "  <thead>\n",
       "    <tr>\n",
       "      <th class=\"blank level0\" >&nbsp;</th>\n",
       "      <th class=\"col_heading level0 col0\" >col4</th>\n",
       "    </tr>\n",
       "  </thead>\n",
       "  <tbody>\n",
       "    <tr>\n",
       "      <th id=\"T_57d4b_level0_row0\" class=\"row_heading level0 row0\" >Single unique value</th>\n",
       "      <td id=\"T_57d4b_row0_col0\" class=\"data row0 col0\" >a</td>\n",
       "    </tr>\n",
       "  </tbody>\n",
       "</table>\n"
      ]
     },
     "metadata": {},
     "output_type": "display_data"
    },
    {
     "data": {
      "text/html": [
       "<h3>Checks that passed condition</h3>"
      ]
     },
     "metadata": {},
     "output_type": "display_data"
    },
    {
     "data": {
      "text/html": [
       "<h4>String Mismatch - Validation Dataset</h4>"
      ]
     },
     "metadata": {},
     "output_type": "display_data"
    },
    {
     "data": {
      "text/html": [
       "<p>Detect different variants of string categories (e.g. \"mislabeled\" vs \"mis-labeled\") in a categorical column.</p>"
      ]
     },
     "metadata": {},
     "output_type": "display_data"
    },
    {
     "data": {
      "text/html": [
       "<style type=\"text/css\">\n",
       "#T_d2b4c_ th {\n",
       "  text-align: left;\n",
       "}\n",
       "#T_d2b4c_ td {\n",
       "  text-align: left;\n",
       "}\n",
       "</style>\n",
       "<table id=\"T_d2b4c_\">\n",
       "  <thead>\n",
       "    <tr>\n",
       "      <th class=\"blank\" >&nbsp;</th>\n",
       "      <th class=\"blank level0\" >&nbsp;</th>\n",
       "      <th class=\"col_heading level0 col0\" >Value</th>\n",
       "      <th class=\"col_heading level0 col1\" >Count</th>\n",
       "      <th class=\"col_heading level0 col2\" >% In data</th>\n",
       "    </tr>\n",
       "    <tr>\n",
       "      <th class=\"index_name level0\" >Column Name</th>\n",
       "      <th class=\"index_name level1\" >Base form</th>\n",
       "      <th class=\"blank col0\" >&nbsp;</th>\n",
       "      <th class=\"blank col1\" >&nbsp;</th>\n",
       "      <th class=\"blank col2\" >&nbsp;</th>\n",
       "    </tr>\n",
       "  </thead>\n",
       "  <tbody>\n",
       "    <tr>\n",
       "      <th id=\"T_d2b4c_level0_row0\" class=\"row_heading level0 row0\" rowspan=\"5\">col1</th>\n",
       "      <th id=\"T_d2b4c_level1_row0\" class=\"row_heading level1 row0\" ></th>\n",
       "      <td id=\"T_d2b4c_row0_col0\" class=\"data row0 col0\" ></td>\n",
       "      <td id=\"T_d2b4c_row0_col1\" class=\"data row0 col1\" >1</td>\n",
       "      <td id=\"T_d2b4c_row0_col2\" class=\"data row0 col2\" >5.00%</td>\n",
       "    </tr>\n",
       "    <tr>\n",
       "      <th id=\"T_d2b4c_level1_row1\" class=\"row_heading level1 row1\" ></th>\n",
       "      <td id=\"T_d2b4c_row1_col0\" class=\"data row1 col0\" >#@$</td>\n",
       "      <td id=\"T_d2b4c_row1_col1\" class=\"data row1 col1\" >1</td>\n",
       "      <td id=\"T_d2b4c_row1_col2\" class=\"data row1 col2\" >5.00%</td>\n",
       "    </tr>\n",
       "    <tr>\n",
       "      <th id=\"T_d2b4c_level1_row2\" class=\"row_heading level1 row2\" >nan</th>\n",
       "      <td id=\"T_d2b4c_row2_col0\" class=\"data row2 col0\" >Nan!</td>\n",
       "      <td id=\"T_d2b4c_row2_col1\" class=\"data row2 col1\" >1</td>\n",
       "      <td id=\"T_d2b4c_row2_col2\" class=\"data row2 col2\" >5.00%</td>\n",
       "    </tr>\n",
       "    <tr>\n",
       "      <th id=\"T_d2b4c_level1_row3\" class=\"row_heading level1 row3\" >nan</th>\n",
       "      <td id=\"T_d2b4c_row3_col0\" class=\"data row3 col0\" ><NaN></td>\n",
       "      <td id=\"T_d2b4c_row3_col1\" class=\"data row3 col1\" >1</td>\n",
       "      <td id=\"T_d2b4c_row3_col2\" class=\"data row3 col2\" >5.00%</td>\n",
       "    </tr>\n",
       "    <tr>\n",
       "      <th id=\"T_d2b4c_level1_row4\" class=\"row_heading level1 row4\" >nan</th>\n",
       "      <td id=\"T_d2b4c_row4_col0\" class=\"data row4 col0\" >#nan</td>\n",
       "      <td id=\"T_d2b4c_row4_col1\" class=\"data row4 col1\" >1</td>\n",
       "      <td id=\"T_d2b4c_row4_col2\" class=\"data row4 col2\" >5.00%</td>\n",
       "    </tr>\n",
       "    <tr>\n",
       "      <th id=\"T_d2b4c_level0_row5\" class=\"row_heading level0 row5\" rowspan=\"3\">col2</th>\n",
       "      <th id=\"T_d2b4c_level1_row5\" class=\"row_heading level1 row5\" >gabbay</th>\n",
       "      <td id=\"T_d2b4c_row5_col0\" class=\"data row5 col0\" >GABBAY!!!</td>\n",
       "      <td id=\"T_d2b4c_row5_col1\" class=\"data row5 col1\" >1</td>\n",
       "      <td id=\"T_d2b4c_row5_col2\" class=\"data row5 col2\" >5.00%</td>\n",
       "    </tr>\n",
       "    <tr>\n",
       "      <th id=\"T_d2b4c_level1_row6\" class=\"row_heading level1 row6\" >gabbay</th>\n",
       "      <td id=\"T_d2b4c_row6_col0\" class=\"data row6 col0\" >gabbay</td>\n",
       "      <td id=\"T_d2b4c_row6_col1\" class=\"data row6 col1\" >1</td>\n",
       "      <td id=\"T_d2b4c_row6_col2\" class=\"data row6 col2\" >5.00%</td>\n",
       "    </tr>\n",
       "    <tr>\n",
       "      <th id=\"T_d2b4c_level1_row7\" class=\"row_heading level1 row7\" >gabbay</th>\n",
       "      <td id=\"T_d2b4c_row7_col0\" class=\"data row7 col0\" >?Gabbay?</td>\n",
       "      <td id=\"T_d2b4c_row7_col1\" class=\"data row7 col1\" >1</td>\n",
       "      <td id=\"T_d2b4c_row7_col2\" class=\"data row7 col2\" >5.00%</td>\n",
       "    </tr>\n",
       "  </tbody>\n",
       "</table>\n"
      ]
     },
     "metadata": {},
     "output_type": "display_data"
    },
    {
     "data": {
      "text/html": [
       "<h4>Mixed Types - Validation Dataset</h4>"
      ]
     },
     "metadata": {},
     "output_type": "display_data"
    },
    {
     "data": {
      "text/html": [
       "<p>Search for various types of data in (a) column[s], including hidden mixes in strings.</p>"
      ]
     },
     "metadata": {},
     "output_type": "display_data"
    },
    {
     "data": {
      "text/html": [
       "<style type=\"text/css\">\n",
       "#T_1a599_ th {\n",
       "  text-align: left;\n",
       "}\n",
       "#T_1a599_ td {\n",
       "  text-align: left;\n",
       "}\n",
       "</style>\n",
       "<table id=\"T_1a599_\">\n",
       "  <thead>\n",
       "    <tr>\n",
       "      <th class=\"blank level0\" >&nbsp;</th>\n",
       "      <th class=\"col_heading level0 col0\" >col3</th>\n",
       "    </tr>\n",
       "  </thead>\n",
       "  <tbody>\n",
       "    <tr>\n",
       "      <th id=\"T_1a599_level0_row0\" class=\"row_heading level0 row0\" >numbers</th>\n",
       "      <td id=\"T_1a599_row0_col0\" class=\"data row0 col0\" >20.00%</td>\n",
       "    </tr>\n",
       "    <tr>\n",
       "      <th id=\"T_1a599_level0_row1\" class=\"row_heading level0 row1\" >strings</th>\n",
       "      <td id=\"T_1a599_row1_col0\" class=\"data row1 col0\" >80.00%</td>\n",
       "    </tr>\n",
       "  </tbody>\n",
       "</table>\n"
      ]
     },
     "metadata": {},
     "output_type": "display_data"
    },
    {
     "data": {
      "text/html": [
       "<h3>Checks that raised an error during run</h3>"
      ]
     },
     "metadata": {},
     "output_type": "display_data"
    },
    {
     "data": {
      "text/html": [
       "<style type=\"text/css\">\n",
       "#T_f1bbb_ th {\n",
       "  text-align: left;\n",
       "}\n",
       "#T_f1bbb_ td {\n",
       "  text-align: left;\n",
       "}\n",
       "</style>\n",
       "<table id=\"T_f1bbb_\">\n",
       "  <thead>\n",
       "    <tr>\n",
       "      <th class=\"col_heading level0 col0\" >Check</th>\n",
       "      <th class=\"col_heading level0 col1\" >Error</th>\n",
       "    </tr>\n",
       "  </thead>\n",
       "  <tbody>\n",
       "    <tr>\n",
       "      <td id=\"T_f1bbb_row0_col0\" class=\"data row0 col0\" >RareFormatDetection</td>\n",
       "      <td id=\"T_f1bbb_row0_col1\" class=\"data row0 col1\" >Failed because I need an example</td>\n",
       "    </tr>\n",
       "  </tbody>\n",
       "</table>\n"
      ]
     },
     "metadata": {},
     "output_type": "display_data"
    }
   ],
   "source": [
    "result = suite.run(validation_dataset=dataset)\n",
    "result\n"
   ]
  }
 ],
 "metadata": {
  "kernelspec": {
   "display_name": "Python 3 (ipykernel)",
   "language": "python",
   "name": "python3"
  },
  "language_info": {
   "codemirror_mode": {
    "name": "ipython",
    "version": 3
   },
   "file_extension": ".py",
   "mimetype": "text/x-python",
   "name": "python",
   "nbconvert_exporter": "python",
   "pygments_lexer": "ipython3",
   "version": "3.8.6"
  },
  "toc": {
   "base_numbering": 1,
   "nav_menu": {},
   "number_sections": true,
   "sideBar": true,
   "skip_h1_title": false,
   "title_cell": "Table of Contents",
   "title_sidebar": "Contents",
   "toc_cell": false,
   "toc_position": {},
   "toc_section_display": true,
   "toc_window_display": false
  }
 },
 "nbformat": 4,
 "nbformat_minor": 5
}
