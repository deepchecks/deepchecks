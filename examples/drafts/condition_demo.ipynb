{
 "cells": [
  {
   "cell_type": "code",
   "execution_count": 1,
   "id": "aa401fe6",
   "metadata": {},
   "outputs": [],
   "source": [
    "import pandas as pd\n",
    "\n",
    "%load_ext autoreload\n",
    "%autoreload 2"
   ]
  },
  {
   "cell_type": "code",
   "execution_count": 9,
   "id": "e54802d4",
   "metadata": {},
   "outputs": [
    {
     "data": {
      "text/plain": [
       "My Single Suite: [\n",
       "\tIsSingleValue({})\n",
       "\tMixedNulls({}) Conditions: [\n",
       "\t\t0: No more than 3 null types for all columns\n",
       "\t\t1: No more than 10 null types for columns: [petal length (cm)]\n",
       "\t]\n",
       "\tMixedTypes({'ignore_columns': ['sepal length (cm)']})\n",
       "\tStringMismatch({})\n",
       "]"
      ]
     },
     "execution_count": 9,
     "metadata": {},
     "output_type": "execute_result"
    }
   ],
   "source": [
    "from mlchecks import CheckSuite\n",
    "from mlchecks.checks import *\n",
    "\n",
    "suite = CheckSuite('My Single Suite',\n",
    "    IsSingleValue(),\n",
    "    MixedNulls().add_condition_max_different_nulls(3).add_condition_max_different_nulls(10, 'petal length (cm)'),\n",
    "    MixedTypes(ignore_columns=['sepal length (cm)']),\n",
    "    StringMismatch()\n",
    ")\n",
    "suite"
   ]
  },
  {
   "cell_type": "code",
   "execution_count": 3,
   "id": "482554bd",
   "metadata": {},
   "outputs": [
    {
     "data": {
      "text/plain": [
       "MixedNulls({}) Conditions: [\n",
       "\t0: No more than 3 null types for all columns\n",
       "\t1: No more than 10 null types for columns: [petal length (cm)]\n",
       "]"
      ]
     },
     "execution_count": 3,
     "metadata": {},
     "output_type": "execute_result"
    }
   ],
   "source": [
    "suite['MixedNulls']"
   ]
  },
  {
   "cell_type": "code",
   "execution_count": 4,
   "id": "0b2ba75e",
   "metadata": {},
   "outputs": [
    {
     "data": {
      "text/plain": [
       "StringMismatch({})"
      ]
     },
     "execution_count": 4,
     "metadata": {},
     "output_type": "execute_result"
    }
   ],
   "source": [
    "suite['My Inner Suite']['StringMismatch']"
   ]
  },
  {
   "cell_type": "code",
   "execution_count": 5,
   "id": "25142e23",
   "metadata": {},
   "outputs": [],
   "source": [
    "suite['MixedNulls'].update_param('check_nan', False)"
   ]
  },
  {
   "cell_type": "code",
   "execution_count": 12,
   "id": "231d6218",
   "metadata": {},
   "outputs": [
    {
     "data": {
      "application/vnd.jupyter.widget-view+json": {
       "model_id": "",
       "version_major": 2,
       "version_minor": 0
      },
      "text/plain": [
       "VBox(children=(HTML(value=''), IntProgress(value=0, bar_style='info', max=4, style=ProgressStyle(bar_color='#9…"
      ]
     },
     "metadata": {},
     "output_type": "display_data"
    },
    {
     "data": {
      "text/html": [
       "<h3>My Single Suite</h3>"
      ]
     },
     "metadata": {},
     "output_type": "display_data"
    },
    {
     "data": {
      "text/html": [
       "<style type=\"text/css\">\n",
       "#T_8fac4_ th {\n",
       "  text-align: left;\n",
       "}\n",
       "#T_8fac4_ td {\n",
       "  text-align: left;\n",
       "}\n",
       "</style>\n",
       "<table id=\"T_8fac4_\">\n",
       "  <thead>\n",
       "    <tr>\n",
       "      <th class=\"blank level0\" >&nbsp;</th>\n",
       "      <th class=\"col_heading level0 col0\" >Pass</th>\n",
       "      <th class=\"col_heading level0 col1\" >Check</th>\n",
       "      <th class=\"col_heading level0 col2\" >Condition</th>\n",
       "      <th class=\"col_heading level0 col3\" >Actual</th>\n",
       "      <th class=\"col_heading level0 col4\" >Category</th>\n",
       "    </tr>\n",
       "  </thead>\n",
       "  <tbody>\n",
       "    <tr>\n",
       "      <th id=\"T_8fac4_level0_row0\" class=\"row_heading level0 row0\" >0</th>\n",
       "      <td id=\"T_8fac4_row0_col0\" class=\"data row0 col0\" >True</td>\n",
       "      <td id=\"T_8fac4_row0_col1\" class=\"data row0 col1\" >Mixed Nulls - Train Dataset</td>\n",
       "      <td id=\"T_8fac4_row0_col2\" class=\"data row0 col2\" >No more than 3 null types for all columns</td>\n",
       "      <td id=\"T_8fac4_row0_col3\" class=\"data row0 col3\" ></td>\n",
       "      <td id=\"T_8fac4_row0_col4\" class=\"data row0 col4\" >ConditionCategory.FAILURE</td>\n",
       "    </tr>\n",
       "    <tr>\n",
       "      <th id=\"T_8fac4_level0_row1\" class=\"row_heading level0 row1\" >1</th>\n",
       "      <td id=\"T_8fac4_row1_col0\" class=\"data row1 col0\" >True</td>\n",
       "      <td id=\"T_8fac4_row1_col1\" class=\"data row1 col1\" >Mixed Nulls - Train Dataset</td>\n",
       "      <td id=\"T_8fac4_row1_col2\" class=\"data row1 col2\" >No more than 10 null types for columns: [petal length (cm)]</td>\n",
       "      <td id=\"T_8fac4_row1_col3\" class=\"data row1 col3\" ></td>\n",
       "      <td id=\"T_8fac4_row1_col4\" class=\"data row1 col4\" >ConditionCategory.FAILURE</td>\n",
       "    </tr>\n",
       "    <tr>\n",
       "      <th id=\"T_8fac4_level0_row2\" class=\"row_heading level0 row2\" >2</th>\n",
       "      <td id=\"T_8fac4_row2_col0\" class=\"data row2 col0\" >True</td>\n",
       "      <td id=\"T_8fac4_row2_col1\" class=\"data row2 col1\" >Mixed Nulls - Validation Dataset</td>\n",
       "      <td id=\"T_8fac4_row2_col2\" class=\"data row2 col2\" >No more than 3 null types for all columns</td>\n",
       "      <td id=\"T_8fac4_row2_col3\" class=\"data row2 col3\" ></td>\n",
       "      <td id=\"T_8fac4_row2_col4\" class=\"data row2 col4\" >ConditionCategory.FAILURE</td>\n",
       "    </tr>\n",
       "    <tr>\n",
       "      <th id=\"T_8fac4_level0_row3\" class=\"row_heading level0 row3\" >3</th>\n",
       "      <td id=\"T_8fac4_row3_col0\" class=\"data row3 col0\" >True</td>\n",
       "      <td id=\"T_8fac4_row3_col1\" class=\"data row3 col1\" >Mixed Nulls - Validation Dataset</td>\n",
       "      <td id=\"T_8fac4_row3_col2\" class=\"data row3 col2\" >No more than 10 null types for columns: [petal length (cm)]</td>\n",
       "      <td id=\"T_8fac4_row3_col3\" class=\"data row3 col3\" ></td>\n",
       "      <td id=\"T_8fac4_row3_col4\" class=\"data row3 col4\" >ConditionCategory.FAILURE</td>\n",
       "    </tr>\n",
       "  </tbody>\n",
       "</table>\n"
      ]
     },
     "metadata": {},
     "output_type": "display_data"
    }
   ],
   "source": [
    "from sklearn.datasets import load_iris\n",
    "\n",
    "df = load_iris(return_X_y=False, as_frame=True)\n",
    "df = pd.concat([df.data, df.target], axis=1)\n",
    "\n",
    "train = df[:100]\n",
    "val = df[100:]\n",
    "\n",
    "result = suite.run(train_dataset=train, validation_dataset=val, check_datasets_policy='both')\n",
    "result"
   ]
  },
  {
   "cell_type": "code",
   "execution_count": 13,
   "id": "f56f0845",
   "metadata": {},
   "outputs": [
    {
     "data": {
      "text/html": [
       "<h3>My Single Suite</h3>"
      ]
     },
     "metadata": {},
     "output_type": "display_data"
    },
    {
     "data": {
      "text/html": [
       "<style type=\"text/css\">\n",
       "#T_a659a_ th {\n",
       "  text-align: left;\n",
       "}\n",
       "#T_a659a_ td {\n",
       "  text-align: left;\n",
       "}\n",
       "</style>\n",
       "<table id=\"T_a659a_\">\n",
       "  <thead>\n",
       "    <tr>\n",
       "      <th class=\"blank level0\" >&nbsp;</th>\n",
       "      <th class=\"col_heading level0 col0\" >Pass</th>\n",
       "      <th class=\"col_heading level0 col1\" >Check</th>\n",
       "      <th class=\"col_heading level0 col2\" >Condition</th>\n",
       "      <th class=\"col_heading level0 col3\" >Actual</th>\n",
       "      <th class=\"col_heading level0 col4\" >Category</th>\n",
       "    </tr>\n",
       "  </thead>\n",
       "  <tbody>\n",
       "    <tr>\n",
       "      <th id=\"T_a659a_level0_row0\" class=\"row_heading level0 row0\" >0</th>\n",
       "      <td id=\"T_a659a_row0_col0\" class=\"data row0 col0\" >True</td>\n",
       "      <td id=\"T_a659a_row0_col1\" class=\"data row0 col1\" >Mixed Nulls - Train Dataset</td>\n",
       "      <td id=\"T_a659a_row0_col2\" class=\"data row0 col2\" >No more than 3 null types for all columns</td>\n",
       "      <td id=\"T_a659a_row0_col3\" class=\"data row0 col3\" ></td>\n",
       "      <td id=\"T_a659a_row0_col4\" class=\"data row0 col4\" >ConditionCategory.FAILURE</td>\n",
       "    </tr>\n",
       "    <tr>\n",
       "      <th id=\"T_a659a_level0_row1\" class=\"row_heading level0 row1\" >1</th>\n",
       "      <td id=\"T_a659a_row1_col0\" class=\"data row1 col0\" >True</td>\n",
       "      <td id=\"T_a659a_row1_col1\" class=\"data row1 col1\" >Mixed Nulls - Train Dataset</td>\n",
       "      <td id=\"T_a659a_row1_col2\" class=\"data row1 col2\" >No more than 10 null types for columns: [petal length (cm)]</td>\n",
       "      <td id=\"T_a659a_row1_col3\" class=\"data row1 col3\" ></td>\n",
       "      <td id=\"T_a659a_row1_col4\" class=\"data row1 col4\" >ConditionCategory.FAILURE</td>\n",
       "    </tr>\n",
       "    <tr>\n",
       "      <th id=\"T_a659a_level0_row2\" class=\"row_heading level0 row2\" >2</th>\n",
       "      <td id=\"T_a659a_row2_col0\" class=\"data row2 col0\" >True</td>\n",
       "      <td id=\"T_a659a_row2_col1\" class=\"data row2 col1\" >Mixed Nulls - Validation Dataset</td>\n",
       "      <td id=\"T_a659a_row2_col2\" class=\"data row2 col2\" >No more than 3 null types for all columns</td>\n",
       "      <td id=\"T_a659a_row2_col3\" class=\"data row2 col3\" ></td>\n",
       "      <td id=\"T_a659a_row2_col4\" class=\"data row2 col4\" >ConditionCategory.FAILURE</td>\n",
       "    </tr>\n",
       "    <tr>\n",
       "      <th id=\"T_a659a_level0_row3\" class=\"row_heading level0 row3\" >3</th>\n",
       "      <td id=\"T_a659a_row3_col0\" class=\"data row3 col0\" >True</td>\n",
       "      <td id=\"T_a659a_row3_col1\" class=\"data row3 col1\" >Mixed Nulls - Validation Dataset</td>\n",
       "      <td id=\"T_a659a_row3_col2\" class=\"data row3 col2\" >No more than 10 null types for columns: [petal length (cm)]</td>\n",
       "      <td id=\"T_a659a_row3_col3\" class=\"data row3 col3\" ></td>\n",
       "      <td id=\"T_a659a_row3_col4\" class=\"data row3 col4\" >ConditionCategory.FAILURE</td>\n",
       "    </tr>\n",
       "  </tbody>\n",
       "</table>\n"
      ]
     },
     "metadata": {},
     "output_type": "display_data"
    },
    {
     "data": {
      "text/html": [
       "<h4>Single Value in Column - Train Dataset</h4>"
      ]
     },
     "metadata": {},
     "output_type": "display_data"
    },
    {
     "data": {
      "text/html": [
       "<p>Check if there are columns which have only a single unique value in all rows.</p>"
      ]
     },
     "metadata": {},
     "output_type": "display_data"
    },
    {
     "data": {
      "text/html": [
       "<p><b>&#x2713;</b> Nothing found</p>"
      ]
     },
     "metadata": {},
     "output_type": "display_data"
    },
    {
     "data": {
      "text/html": [
       "<h4>Single Value in Column - Validation Dataset</h4>"
      ]
     },
     "metadata": {},
     "output_type": "display_data"
    },
    {
     "data": {
      "text/html": [
       "<p>Check if there are columns which have only a single unique value in all rows.</p>"
      ]
     },
     "metadata": {},
     "output_type": "display_data"
    },
    {
     "data": {
      "text/html": [
       "The following columns have only one unique value"
      ]
     },
     "metadata": {},
     "output_type": "display_data"
    },
    {
     "data": {
      "text/html": [
       "<style type=\"text/css\">\n",
       "#T_c08e9_ th {\n",
       "  text-align: left;\n",
       "}\n",
       "#T_c08e9_ td {\n",
       "  text-align: left;\n",
       "}\n",
       "</style>\n",
       "<table id=\"T_c08e9_\">\n",
       "  <thead>\n",
       "    <tr>\n",
       "      <th class=\"blank level0\" >&nbsp;</th>\n",
       "      <th class=\"col_heading level0 col0\" >target</th>\n",
       "    </tr>\n",
       "  </thead>\n",
       "  <tbody>\n",
       "    <tr>\n",
       "      <th id=\"T_c08e9_level0_row0\" class=\"row_heading level0 row0\" >Single unique value</th>\n",
       "      <td id=\"T_c08e9_row0_col0\" class=\"data row0 col0\" >2</td>\n",
       "    </tr>\n",
       "  </tbody>\n",
       "</table>\n"
      ]
     },
     "metadata": {},
     "output_type": "display_data"
    },
    {
     "data": {
      "text/html": [
       "<h4>Mixed Nulls - Train Dataset</h4>"
      ]
     },
     "metadata": {},
     "output_type": "display_data"
    },
    {
     "data": {
      "text/html": [
       "<p>Search for various types of null values in a string column(s), including string representations of null.</p>"
      ]
     },
     "metadata": {},
     "output_type": "display_data"
    },
    {
     "data": {
      "text/html": [
       "<p><b>&#x2713;</b> Nothing found</p>"
      ]
     },
     "metadata": {},
     "output_type": "display_data"
    },
    {
     "data": {
      "text/html": [
       "<h4>Mixed Nulls - Validation Dataset</h4>"
      ]
     },
     "metadata": {},
     "output_type": "display_data"
    },
    {
     "data": {
      "text/html": [
       "<p>Search for various types of null values in a string column(s), including string representations of null.</p>"
      ]
     },
     "metadata": {},
     "output_type": "display_data"
    },
    {
     "data": {
      "text/html": [
       "<p><b>&#x2713;</b> Nothing found</p>"
      ]
     },
     "metadata": {},
     "output_type": "display_data"
    },
    {
     "data": {
      "text/html": [
       "<h4>Mixed Types - Train Dataset</h4>"
      ]
     },
     "metadata": {},
     "output_type": "display_data"
    },
    {
     "data": {
      "text/html": [
       "<p>Search for mixed types of Data in a single column[s].</p>"
      ]
     },
     "metadata": {},
     "output_type": "display_data"
    },
    {
     "data": {
      "text/html": [
       "<p><b>&#x2713;</b> Nothing found</p>"
      ]
     },
     "metadata": {},
     "output_type": "display_data"
    },
    {
     "data": {
      "text/html": [
       "<h4>Mixed Types - Validation Dataset</h4>"
      ]
     },
     "metadata": {},
     "output_type": "display_data"
    },
    {
     "data": {
      "text/html": [
       "<p>Search for mixed types of Data in a single column[s].</p>"
      ]
     },
     "metadata": {},
     "output_type": "display_data"
    },
    {
     "data": {
      "text/html": [
       "<p><b>&#x2713;</b> Nothing found</p>"
      ]
     },
     "metadata": {},
     "output_type": "display_data"
    },
    {
     "data": {
      "text/html": [
       "<h4>String Mismatch - Train Dataset</h4>"
      ]
     },
     "metadata": {},
     "output_type": "display_data"
    },
    {
     "data": {
      "text/html": [
       "<p>Detect different variants of string categories (e.g. \"mislabeled\" vs \"mis-labeled\") in a categorical column.</p>"
      ]
     },
     "metadata": {},
     "output_type": "display_data"
    },
    {
     "data": {
      "text/html": [
       "<p><b>&#x2713;</b> Nothing found</p>"
      ]
     },
     "metadata": {},
     "output_type": "display_data"
    },
    {
     "data": {
      "text/html": [
       "<h4>String Mismatch - Validation Dataset</h4>"
      ]
     },
     "metadata": {},
     "output_type": "display_data"
    },
    {
     "data": {
      "text/html": [
       "<p>Detect different variants of string categories (e.g. \"mislabeled\" vs \"mis-labeled\") in a categorical column.</p>"
      ]
     },
     "metadata": {},
     "output_type": "display_data"
    },
    {
     "data": {
      "text/html": [
       "<p><b>&#x2713;</b> Nothing found</p>"
      ]
     },
     "metadata": {},
     "output_type": "display_data"
    }
   ],
   "source": [
    "result.display_verbose()"
   ]
  }
 ],
 "metadata": {
  "kernelspec": {
   "display_name": "Python 3 (ipykernel)",
   "language": "python",
   "name": "python3"
  },
  "language_info": {
   "codemirror_mode": {
    "name": "ipython",
    "version": 3
   },
   "file_extension": ".py",
   "mimetype": "text/x-python",
   "name": "python",
   "nbconvert_exporter": "python",
   "pygments_lexer": "ipython3",
   "version": "3.8.6"
  },
  "toc": {
   "base_numbering": 1,
   "nav_menu": {},
   "number_sections": true,
   "sideBar": true,
   "skip_h1_title": false,
   "title_cell": "Table of Contents",
   "title_sidebar": "Contents",
   "toc_cell": false,
   "toc_position": {},
   "toc_section_display": true,
   "toc_window_display": false
  }
 },
 "nbformat": 4,
 "nbformat_minor": 5
}
