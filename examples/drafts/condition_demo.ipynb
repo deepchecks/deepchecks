{
 "cells": [
  {
   "cell_type": "code",
   "execution_count": 1,
   "id": "aa401fe6",
   "metadata": {},
   "outputs": [],
   "source": [
    "import pandas as pd\n",
    "\n",
    "%load_ext autoreload\n",
    "%autoreload 2"
   ]
  },
  {
   "cell_type": "code",
   "execution_count": 2,
   "id": "e54802d4",
   "metadata": {},
   "outputs": [
    {
     "data": {
      "text/plain": [
       "My Single Suite: [\n",
       "\tIsSingleValue({})\n",
       "\tMixedNulls({}) Conditions: [\n",
       "\t\tNo more than 3 null types for all columns\n",
       "\t\tNo more than 10 null types for columns: [petal length (cm)]\n",
       "\t]\n",
       "\tMixedTypes({'ignore_columns': ['sepal length (cm)']})\n",
       "\tStringMismatch({})\n",
       "\tMy Inner Suite: [\n",
       "\t\tMixedNulls({}) Conditions: [\n",
       "\t\t\tNo more than 5 null types for columns: [petal length (cm),petal width (cm)]\n",
       "\t\t]\n",
       "\t\tStringMismatch({})\n",
       "\t]\n",
       "]"
      ]
     },
     "execution_count": 2,
     "metadata": {},
     "output_type": "execute_result"
    }
   ],
   "source": [
    "from mlchecks import CheckSuite\n",
    "from mlchecks.checks import *\n",
    "\n",
    "suite = CheckSuite('My Single Suite',\n",
    "    IsSingleValue(),\n",
    "    MixedNulls().add_condition_max_different_nulls(3).add_condition_max_different_nulls(10, 'petal length (cm)'),\n",
    "    MixedTypes(ignore_columns=['sepal length (cm)']),\n",
    "    StringMismatch(),\n",
    "    CheckSuite('My Inner Suite',\n",
    "        MixedNulls().add_condition_max_different_nulls(5, 'petal length (cm)', 'petal width (cm)'),\n",
    "        StringMismatch()\n",
    "    )\n",
    ")\n",
    "suite"
   ]
  },
  {
   "cell_type": "code",
   "execution_count": 3,
   "id": "482554bd",
   "metadata": {},
   "outputs": [
    {
     "data": {
      "text/plain": [
       "MixedNulls({}) Conditions: [\n",
       "\tNo more than 3 null types for all columns\n",
       "\tNo more than 10 null types for columns: [petal length (cm)]\n",
       "]"
      ]
     },
     "execution_count": 3,
     "metadata": {},
     "output_type": "execute_result"
    }
   ],
   "source": [
    "suite['MixedNulls']"
   ]
  },
  {
   "cell_type": "code",
   "execution_count": 4,
   "id": "0b2ba75e",
   "metadata": {},
   "outputs": [
    {
     "data": {
      "text/plain": [
       "StringMismatch({})"
      ]
     },
     "execution_count": 4,
     "metadata": {},
     "output_type": "execute_result"
    }
   ],
   "source": [
    "suite['My Inner Suite']['StringMismatch']"
   ]
  },
  {
   "cell_type": "code",
   "execution_count": 5,
   "id": "25142e23",
   "metadata": {},
   "outputs": [],
   "source": [
    "suite['MixedNulls'].update_param('check_nan', False)"
   ]
  },
  {
   "cell_type": "code",
   "execution_count": 7,
   "id": "e7af54f5",
   "metadata": {},
   "outputs": [
    {
     "data": {
      "text/plain": [
       "My Single Suite: [\n",
       "\tIsSingleValue({})\n",
       "\tMixedNulls({'check_nan': False}) Conditions: [\n",
       "\t\tNo more than 10 null types for columns: [petal length (cm)]\n",
       "\t]\n",
       "\tMixedTypes({'ignore_columns': ['sepal length (cm)']})\n",
       "\tStringMismatch({})\n",
       "\tMy Inner Suite: [\n",
       "\t\tMixedNulls({}) Conditions: [\n",
       "\t\t\tNo more than 5 null types for columns: [petal length (cm),petal width (cm)]\n",
       "\t\t]\n",
       "\t\tStringMismatch({})\n",
       "\t]\n",
       "]"
      ]
     },
     "execution_count": 7,
     "metadata": {},
     "output_type": "execute_result"
    }
   ],
   "source": [
    "suite['MixedNulls'].remove_condition('No more than 3 null types for all columns')\n",
    "suite"
   ]
  },
  {
   "cell_type": "code",
   "execution_count": null,
   "id": "231d6218",
   "metadata": {},
   "outputs": [],
   "source": [
    "from sklearn.datasets import load_iris\n",
    "\n",
    "df = load_iris(return_X_y=False, as_frame=True)\n",
    "df = pd.concat([df.data, df.target], axis=1)\n",
    "\n",
    "train = df[:100]\n",
    "val = df[100:]\n",
    "\n",
    "suite.run(train_dataset=train, validation_dataset=val, check_datasets_policy='both')"
   ]
  }
 ],
 "metadata": {
  "kernelspec": {
   "display_name": "Python 3 (ipykernel)",
   "language": "python",
   "name": "python3"
  },
  "language_info": {
   "codemirror_mode": {
    "name": "ipython",
    "version": 3
   },
   "file_extension": ".py",
   "mimetype": "text/x-python",
   "name": "python",
   "nbconvert_exporter": "python",
   "pygments_lexer": "ipython3",
   "version": "3.8.6"
  },
  "toc": {
   "base_numbering": 1,
   "nav_menu": {},
   "number_sections": true,
   "sideBar": true,
   "skip_h1_title": false,
   "title_cell": "Table of Contents",
   "title_sidebar": "Contents",
   "toc_cell": false,
   "toc_position": {},
   "toc_section_display": true,
   "toc_window_display": false
  }
 },
 "nbformat": 4,
 "nbformat_minor": 5
}
