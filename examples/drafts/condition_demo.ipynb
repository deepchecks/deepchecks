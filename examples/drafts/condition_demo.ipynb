{
 "cells": [
  {
   "cell_type": "code",
   "execution_count": 1,
   "id": "aa401fe6",
   "metadata": {},
   "outputs": [],
   "source": [
    "import pandas as pd\n",
    "\n",
    "%load_ext autoreload\n",
    "%autoreload 2"
   ]
  },
  {
   "cell_type": "code",
   "execution_count": 3,
   "id": "e54802d4",
   "metadata": {},
   "outputs": [
    {
     "data": {
      "text/plain": [
       "My Single Suite: [\n",
       "\tIsSingleValue\n",
       "\tMixedNulls(check_nan=True)\n",
       "\t\tConditions:\n",
       "\t\t\t0: Not more than 3 different null types for all columns\n",
       "\tStringMismatch\n",
       "\t\tConditions:\n",
       "\t\t\t0: No string variants for all columns\n",
       "\tStringMismatch_2\n",
       "\t\tConditions:\n",
       "\t\t\t0: Not more than 35.00% variants for all columns\n",
       "\tMixedTypes\n",
       "\t\tConditions:\n",
       "\t\t\t0: Rare type ratio is not less than 40.00% of samples in all columns\n",
       "\tMixedTypes_2\n",
       "\t\tConditions:\n",
       "\t\t\t0: Rare type ratio is not less than 10.00% of samples in all columns\n",
       "]"
      ]
     },
     "execution_count": 3,
     "metadata": {},
     "output_type": "execute_result"
    }
   ],
   "source": [
    "from mlchecks import CheckSuite, ConditionResult, ConditionCategory, Dataset\n",
    "from mlchecks.checks import *\n",
    "\n",
    "data = {\n",
    "    'col1': ['', '#@$', 'Nan!', '#nan', '<NaN>'],\n",
    "    'col2': ['gabbay', 'GABBAY!!!', 'is', '...', '?Gabbay?'],\n",
    "    'col3': [1, 's', 'a', 'b', 'c']\n",
    "}\n",
    "\n",
    "dataset = Dataset(pd.DataFrame(data=data))\n",
    "suite = CheckSuite('My Single Suite',\n",
    "    IsSingleValue(),\n",
    "    MixedNulls().add_condition_different_nulls_not_more_than(3),\n",
    "    StringMismatch().add_condition_no_variants(),\n",
    "    StringMismatch().add_condition_ratio_variants_not_more_than(0.35),\n",
    "    MixedTypes().add_condition_rare_type_ratio_not_less_than(0.4),\n",
    "    MixedTypes().add_condition_rare_type_ratio_not_less_than(0.1)\n",
    ")\n",
    "suite"
   ]
  },
  {
   "cell_type": "code",
   "execution_count": 4,
   "id": "231d6218",
   "metadata": {},
   "outputs": [
    {
     "data": {
      "application/vnd.jupyter.widget-view+json": {
       "model_id": "",
       "version_major": 2,
       "version_minor": 0
      },
      "text/plain": [
       "VBox(children=(HTML(value=''), IntProgress(value=0, bar_style='info', max=6, style=ProgressStyle(bar_color='#9…"
      ]
     },
     "metadata": {},
     "output_type": "display_data"
    },
    {
     "data": {
      "text/html": [
       "<h2>My Single Suite</h2>"
      ]
     },
     "metadata": {},
     "output_type": "display_data"
    },
    {
     "data": {
      "text/html": [
       "<h3>Conditions Summary</h3>"
      ]
     },
     "metadata": {},
     "output_type": "display_data"
    },
    {
     "data": {
      "text/html": [
       "<style type=\"text/css\">\n",
       "#T_74924_ th {\n",
       "  text-align: left;\n",
       "}\n",
       "#T_74924_ td {\n",
       "  text-align: left;\n",
       "}\n",
       "</style>\n",
       "<table id=\"T_74924_\">\n",
       "  <thead>\n",
       "    <tr>\n",
       "      <th class=\"col_heading level0 col0\" >Status</th>\n",
       "      <th class=\"col_heading level0 col1\" >Check</th>\n",
       "      <th class=\"col_heading level0 col2\" >Condition</th>\n",
       "      <th class=\"col_heading level0 col3\" >More Info</th>\n",
       "    </tr>\n",
       "  </thead>\n",
       "  <tbody>\n",
       "    <tr>\n",
       "      <td id=\"T_74924_row0_col0\" class=\"data row0 col0\" ><p style=\"color: red\">✖</p></td>\n",
       "      <td id=\"T_74924_row0_col1\" class=\"data row0 col1\" >Mixed Nulls - Validation Dataset</td>\n",
       "      <td id=\"T_74924_row0_col2\" class=\"data row0 col2\" >Not more than 3 different null types for all columns</td>\n",
       "      <td id=\"T_74924_row0_col3\" class=\"data row0 col3\" >Found columns col1 with more than 3 null types</td>\n",
       "    </tr>\n",
       "    <tr>\n",
       "      <td id=\"T_74924_row1_col0\" class=\"data row1 col0\" ><p style=\"color: red\">✖</p></td>\n",
       "      <td id=\"T_74924_row1_col1\" class=\"data row1 col1\" >String Mismatch - Validation Dataset</td>\n",
       "      <td id=\"T_74924_row1_col2\" class=\"data row1 col2\" >No string variants for all columns</td>\n",
       "      <td id=\"T_74924_row1_col3\" class=\"data row1 col3\" >Found columns with variants: {'col1': ['', 'nan'], 'col2': ['gabbay']}</td>\n",
       "    </tr>\n",
       "    <tr>\n",
       "      <td id=\"T_74924_row2_col0\" class=\"data row2 col0\" ><p style=\"color: red\">✖</p></td>\n",
       "      <td id=\"T_74924_row2_col1\" class=\"data row2 col1\" >Mixed Types - Validation Dataset</td>\n",
       "      <td id=\"T_74924_row2_col2\" class=\"data row2 col2\" >Rare type ratio is not less than 40.00% of samples in all columns</td>\n",
       "      <td id=\"T_74924_row2_col3\" class=\"data row2 col3\" >Found columns with low type ratio: col3</td>\n",
       "    </tr>\n",
       "    <tr>\n",
       "      <td id=\"T_74924_row3_col0\" class=\"data row3 col0\" ><p style=\"color: green\">✓</p></td>\n",
       "      <td id=\"T_74924_row3_col1\" class=\"data row3 col1\" >String Mismatch - Validation Dataset</td>\n",
       "      <td id=\"T_74924_row3_col2\" class=\"data row3 col2\" >Not more than 35.00% variants for all columns</td>\n",
       "      <td id=\"T_74924_row3_col3\" class=\"data row3 col3\" ></td>\n",
       "    </tr>\n",
       "    <tr>\n",
       "      <td id=\"T_74924_row4_col0\" class=\"data row4 col0\" ><p style=\"color: green\">✓</p></td>\n",
       "      <td id=\"T_74924_row4_col1\" class=\"data row4 col1\" >Mixed Types - Validation Dataset</td>\n",
       "      <td id=\"T_74924_row4_col2\" class=\"data row4 col2\" >Rare type ratio is not less than 10.00% of samples in all columns</td>\n",
       "      <td id=\"T_74924_row4_col3\" class=\"data row4 col3\" ></td>\n",
       "    </tr>\n",
       "  </tbody>\n",
       "</table>\n"
      ]
     },
     "metadata": {},
     "output_type": "display_data"
    },
    {
     "data": {
      "text/html": [
       "<h3>Checks that didn't pass condition</h3>"
      ]
     },
     "metadata": {},
     "output_type": "display_data"
    },
    {
     "data": {
      "text/html": [
       "<h4>Mixed Nulls - Validation Dataset</h4>"
      ]
     },
     "metadata": {},
     "output_type": "display_data"
    },
    {
     "data": {
      "text/html": [
       "<p>Search for various types of null values in a string column(s), including string representations of null.</p>"
      ]
     },
     "metadata": {},
     "output_type": "display_data"
    },
    {
     "data": {
      "text/html": [
       "<style type=\"text/css\">\n",
       "#T_31ba8_ th {\n",
       "  text-align: left;\n",
       "}\n",
       "#T_31ba8_ td {\n",
       "  text-align: left;\n",
       "}\n",
       "</style>\n",
       "<table id=\"T_31ba8_\">\n",
       "  <thead>\n",
       "    <tr>\n",
       "      <th class=\"blank\" >&nbsp;</th>\n",
       "      <th class=\"blank level0\" >&nbsp;</th>\n",
       "      <th class=\"col_heading level0 col0\" >Count</th>\n",
       "      <th class=\"col_heading level0 col1\" >Percent of data</th>\n",
       "    </tr>\n",
       "    <tr>\n",
       "      <th class=\"index_name level0\" >Column Name</th>\n",
       "      <th class=\"index_name level1\" >Value</th>\n",
       "      <th class=\"blank col0\" >&nbsp;</th>\n",
       "      <th class=\"blank col1\" >&nbsp;</th>\n",
       "    </tr>\n",
       "  </thead>\n",
       "  <tbody>\n",
       "    <tr>\n",
       "      <th id=\"T_31ba8_level0_row0\" class=\"row_heading level0 row0\" rowspan=\"5\">col1</th>\n",
       "      <th id=\"T_31ba8_level1_row0\" class=\"row_heading level1 row0\" ></th>\n",
       "      <td id=\"T_31ba8_row0_col0\" class=\"data row0 col0\" >1</td>\n",
       "      <td id=\"T_31ba8_row0_col1\" class=\"data row0 col1\" >6.67%</td>\n",
       "    </tr>\n",
       "    <tr>\n",
       "      <th id=\"T_31ba8_level1_row1\" class=\"row_heading level1 row1\" >#@$</th>\n",
       "      <td id=\"T_31ba8_row1_col0\" class=\"data row1 col0\" >1</td>\n",
       "      <td id=\"T_31ba8_row1_col1\" class=\"data row1 col1\" >6.67%</td>\n",
       "    </tr>\n",
       "    <tr>\n",
       "      <th id=\"T_31ba8_level1_row2\" class=\"row_heading level1 row2\" >Nan!</th>\n",
       "      <td id=\"T_31ba8_row2_col0\" class=\"data row2 col0\" >1</td>\n",
       "      <td id=\"T_31ba8_row2_col1\" class=\"data row2 col1\" >6.67%</td>\n",
       "    </tr>\n",
       "    <tr>\n",
       "      <th id=\"T_31ba8_level1_row3\" class=\"row_heading level1 row3\" >#nan</th>\n",
       "      <td id=\"T_31ba8_row3_col0\" class=\"data row3 col0\" >1</td>\n",
       "      <td id=\"T_31ba8_row3_col1\" class=\"data row3 col1\" >6.67%</td>\n",
       "    </tr>\n",
       "    <tr>\n",
       "      <th id=\"T_31ba8_level1_row4\" class=\"row_heading level1 row4\" ><NaN></th>\n",
       "      <td id=\"T_31ba8_row4_col0\" class=\"data row4 col0\" >1</td>\n",
       "      <td id=\"T_31ba8_row4_col1\" class=\"data row4 col1\" >6.67%</td>\n",
       "    </tr>\n",
       "  </tbody>\n",
       "</table>\n"
      ]
     },
     "metadata": {},
     "output_type": "display_data"
    },
    {
     "data": {
      "text/html": [
       "<h4>String Mismatch - Validation Dataset</h4>"
      ]
     },
     "metadata": {},
     "output_type": "display_data"
    },
    {
     "data": {
      "text/html": [
       "<p>Detect different variants of string categories (e.g. \"mislabeled\" vs \"mis-labeled\") in a categorical column.</p>"
      ]
     },
     "metadata": {},
     "output_type": "display_data"
    },
    {
     "data": {
      "text/html": [
       "<style type=\"text/css\">\n",
       "#T_ef612_ th {\n",
       "  text-align: left;\n",
       "}\n",
       "#T_ef612_ td {\n",
       "  text-align: left;\n",
       "}\n",
       "</style>\n",
       "<table id=\"T_ef612_\">\n",
       "  <thead>\n",
       "    <tr>\n",
       "      <th class=\"blank\" >&nbsp;</th>\n",
       "      <th class=\"blank level0\" >&nbsp;</th>\n",
       "      <th class=\"col_heading level0 col0\" >Value</th>\n",
       "      <th class=\"col_heading level0 col1\" >Count</th>\n",
       "      <th class=\"col_heading level0 col2\" >% In data</th>\n",
       "    </tr>\n",
       "    <tr>\n",
       "      <th class=\"index_name level0\" >Column Name</th>\n",
       "      <th class=\"index_name level1\" >Base form</th>\n",
       "      <th class=\"blank col0\" >&nbsp;</th>\n",
       "      <th class=\"blank col1\" >&nbsp;</th>\n",
       "      <th class=\"blank col2\" >&nbsp;</th>\n",
       "    </tr>\n",
       "  </thead>\n",
       "  <tbody>\n",
       "    <tr>\n",
       "      <th id=\"T_ef612_level0_row0\" class=\"row_heading level0 row0\" rowspan=\"5\">col1</th>\n",
       "      <th id=\"T_ef612_level1_row0\" class=\"row_heading level1 row0\" ></th>\n",
       "      <td id=\"T_ef612_row0_col0\" class=\"data row0 col0\" ></td>\n",
       "      <td id=\"T_ef612_row0_col1\" class=\"data row0 col1\" >1</td>\n",
       "      <td id=\"T_ef612_row0_col2\" class=\"data row0 col2\" >6.67%</td>\n",
       "    </tr>\n",
       "    <tr>\n",
       "      <th id=\"T_ef612_level1_row1\" class=\"row_heading level1 row1\" ></th>\n",
       "      <td id=\"T_ef612_row1_col0\" class=\"data row1 col0\" >#@$</td>\n",
       "      <td id=\"T_ef612_row1_col1\" class=\"data row1 col1\" >1</td>\n",
       "      <td id=\"T_ef612_row1_col2\" class=\"data row1 col2\" >6.67%</td>\n",
       "    </tr>\n",
       "    <tr>\n",
       "      <th id=\"T_ef612_level1_row2\" class=\"row_heading level1 row2\" >nan</th>\n",
       "      <td id=\"T_ef612_row2_col0\" class=\"data row2 col0\" >Nan!</td>\n",
       "      <td id=\"T_ef612_row2_col1\" class=\"data row2 col1\" >1</td>\n",
       "      <td id=\"T_ef612_row2_col2\" class=\"data row2 col2\" >6.67%</td>\n",
       "    </tr>\n",
       "    <tr>\n",
       "      <th id=\"T_ef612_level1_row3\" class=\"row_heading level1 row3\" >nan</th>\n",
       "      <td id=\"T_ef612_row3_col0\" class=\"data row3 col0\" >#nan</td>\n",
       "      <td id=\"T_ef612_row3_col1\" class=\"data row3 col1\" >1</td>\n",
       "      <td id=\"T_ef612_row3_col2\" class=\"data row3 col2\" >6.67%</td>\n",
       "    </tr>\n",
       "    <tr>\n",
       "      <th id=\"T_ef612_level1_row4\" class=\"row_heading level1 row4\" >nan</th>\n",
       "      <td id=\"T_ef612_row4_col0\" class=\"data row4 col0\" ><NaN></td>\n",
       "      <td id=\"T_ef612_row4_col1\" class=\"data row4 col1\" >1</td>\n",
       "      <td id=\"T_ef612_row4_col2\" class=\"data row4 col2\" >6.67%</td>\n",
       "    </tr>\n",
       "    <tr>\n",
       "      <th id=\"T_ef612_level0_row5\" class=\"row_heading level0 row5\" rowspan=\"3\">col2</th>\n",
       "      <th id=\"T_ef612_level1_row5\" class=\"row_heading level1 row5\" >gabbay</th>\n",
       "      <td id=\"T_ef612_row5_col0\" class=\"data row5 col0\" >?Gabbay?</td>\n",
       "      <td id=\"T_ef612_row5_col1\" class=\"data row5 col1\" >1</td>\n",
       "      <td id=\"T_ef612_row5_col2\" class=\"data row5 col2\" >6.67%</td>\n",
       "    </tr>\n",
       "    <tr>\n",
       "      <th id=\"T_ef612_level1_row6\" class=\"row_heading level1 row6\" >gabbay</th>\n",
       "      <td id=\"T_ef612_row6_col0\" class=\"data row6 col0\" >GABBAY!!!</td>\n",
       "      <td id=\"T_ef612_row6_col1\" class=\"data row6 col1\" >1</td>\n",
       "      <td id=\"T_ef612_row6_col2\" class=\"data row6 col2\" >6.67%</td>\n",
       "    </tr>\n",
       "    <tr>\n",
       "      <th id=\"T_ef612_level1_row7\" class=\"row_heading level1 row7\" >gabbay</th>\n",
       "      <td id=\"T_ef612_row7_col0\" class=\"data row7 col0\" >gabbay</td>\n",
       "      <td id=\"T_ef612_row7_col1\" class=\"data row7 col1\" >1</td>\n",
       "      <td id=\"T_ef612_row7_col2\" class=\"data row7 col2\" >6.67%</td>\n",
       "    </tr>\n",
       "  </tbody>\n",
       "</table>\n"
      ]
     },
     "metadata": {},
     "output_type": "display_data"
    },
    {
     "data": {
      "text/html": [
       "<h4>Mixed Types - Validation Dataset</h4>"
      ]
     },
     "metadata": {},
     "output_type": "display_data"
    },
    {
     "data": {
      "text/html": [
       "<p>Search for various types of data in (a) column[s], including hidden mixes in strings.</p>"
      ]
     },
     "metadata": {},
     "output_type": "display_data"
    },
    {
     "data": {
      "text/html": [
       "<style type=\"text/css\">\n",
       "#T_2b47d_ th {\n",
       "  text-align: left;\n",
       "}\n",
       "#T_2b47d_ td {\n",
       "  text-align: left;\n",
       "}\n",
       "</style>\n",
       "<table id=\"T_2b47d_\">\n",
       "  <thead>\n",
       "    <tr>\n",
       "      <th class=\"blank level0\" >&nbsp;</th>\n",
       "      <th class=\"col_heading level0 col0\" >col3</th>\n",
       "    </tr>\n",
       "  </thead>\n",
       "  <tbody>\n",
       "    <tr>\n",
       "      <th id=\"T_2b47d_level0_row0\" class=\"row_heading level0 row0\" >numbers</th>\n",
       "      <td id=\"T_2b47d_row0_col0\" class=\"data row0 col0\" >20.00%</td>\n",
       "    </tr>\n",
       "    <tr>\n",
       "      <th id=\"T_2b47d_level0_row1\" class=\"row_heading level0 row1\" >strings</th>\n",
       "      <td id=\"T_2b47d_row1_col0\" class=\"data row1 col0\" >80.00%</td>\n",
       "    </tr>\n",
       "  </tbody>\n",
       "</table>\n"
      ]
     },
     "metadata": {},
     "output_type": "display_data"
    },
    {
     "data": {
      "text/html": [
       "<h3>Checks that passed condition</h3>"
      ]
     },
     "metadata": {},
     "output_type": "display_data"
    },
    {
     "data": {
      "text/html": [
       "<h4>String Mismatch - Validation Dataset</h4>"
      ]
     },
     "metadata": {},
     "output_type": "display_data"
    },
    {
     "data": {
      "text/html": [
       "<p>Detect different variants of string categories (e.g. \"mislabeled\" vs \"mis-labeled\") in a categorical column.</p>"
      ]
     },
     "metadata": {},
     "output_type": "display_data"
    },
    {
     "data": {
      "text/html": [
       "<style type=\"text/css\">\n",
       "#T_c22f4_ th {\n",
       "  text-align: left;\n",
       "}\n",
       "#T_c22f4_ td {\n",
       "  text-align: left;\n",
       "}\n",
       "</style>\n",
       "<table id=\"T_c22f4_\">\n",
       "  <thead>\n",
       "    <tr>\n",
       "      <th class=\"blank\" >&nbsp;</th>\n",
       "      <th class=\"blank level0\" >&nbsp;</th>\n",
       "      <th class=\"col_heading level0 col0\" >Value</th>\n",
       "      <th class=\"col_heading level0 col1\" >Count</th>\n",
       "      <th class=\"col_heading level0 col2\" >% In data</th>\n",
       "    </tr>\n",
       "    <tr>\n",
       "      <th class=\"index_name level0\" >Column Name</th>\n",
       "      <th class=\"index_name level1\" >Base form</th>\n",
       "      <th class=\"blank col0\" >&nbsp;</th>\n",
       "      <th class=\"blank col1\" >&nbsp;</th>\n",
       "      <th class=\"blank col2\" >&nbsp;</th>\n",
       "    </tr>\n",
       "  </thead>\n",
       "  <tbody>\n",
       "    <tr>\n",
       "      <th id=\"T_c22f4_level0_row0\" class=\"row_heading level0 row0\" rowspan=\"5\">col1</th>\n",
       "      <th id=\"T_c22f4_level1_row0\" class=\"row_heading level1 row0\" ></th>\n",
       "      <td id=\"T_c22f4_row0_col0\" class=\"data row0 col0\" ></td>\n",
       "      <td id=\"T_c22f4_row0_col1\" class=\"data row0 col1\" >1</td>\n",
       "      <td id=\"T_c22f4_row0_col2\" class=\"data row0 col2\" >6.67%</td>\n",
       "    </tr>\n",
       "    <tr>\n",
       "      <th id=\"T_c22f4_level1_row1\" class=\"row_heading level1 row1\" ></th>\n",
       "      <td id=\"T_c22f4_row1_col0\" class=\"data row1 col0\" >#@$</td>\n",
       "      <td id=\"T_c22f4_row1_col1\" class=\"data row1 col1\" >1</td>\n",
       "      <td id=\"T_c22f4_row1_col2\" class=\"data row1 col2\" >6.67%</td>\n",
       "    </tr>\n",
       "    <tr>\n",
       "      <th id=\"T_c22f4_level1_row2\" class=\"row_heading level1 row2\" >nan</th>\n",
       "      <td id=\"T_c22f4_row2_col0\" class=\"data row2 col0\" >Nan!</td>\n",
       "      <td id=\"T_c22f4_row2_col1\" class=\"data row2 col1\" >1</td>\n",
       "      <td id=\"T_c22f4_row2_col2\" class=\"data row2 col2\" >6.67%</td>\n",
       "    </tr>\n",
       "    <tr>\n",
       "      <th id=\"T_c22f4_level1_row3\" class=\"row_heading level1 row3\" >nan</th>\n",
       "      <td id=\"T_c22f4_row3_col0\" class=\"data row3 col0\" >#nan</td>\n",
       "      <td id=\"T_c22f4_row3_col1\" class=\"data row3 col1\" >1</td>\n",
       "      <td id=\"T_c22f4_row3_col2\" class=\"data row3 col2\" >6.67%</td>\n",
       "    </tr>\n",
       "    <tr>\n",
       "      <th id=\"T_c22f4_level1_row4\" class=\"row_heading level1 row4\" >nan</th>\n",
       "      <td id=\"T_c22f4_row4_col0\" class=\"data row4 col0\" ><NaN></td>\n",
       "      <td id=\"T_c22f4_row4_col1\" class=\"data row4 col1\" >1</td>\n",
       "      <td id=\"T_c22f4_row4_col2\" class=\"data row4 col2\" >6.67%</td>\n",
       "    </tr>\n",
       "    <tr>\n",
       "      <th id=\"T_c22f4_level0_row5\" class=\"row_heading level0 row5\" rowspan=\"3\">col2</th>\n",
       "      <th id=\"T_c22f4_level1_row5\" class=\"row_heading level1 row5\" >gabbay</th>\n",
       "      <td id=\"T_c22f4_row5_col0\" class=\"data row5 col0\" >?Gabbay?</td>\n",
       "      <td id=\"T_c22f4_row5_col1\" class=\"data row5 col1\" >1</td>\n",
       "      <td id=\"T_c22f4_row5_col2\" class=\"data row5 col2\" >6.67%</td>\n",
       "    </tr>\n",
       "    <tr>\n",
       "      <th id=\"T_c22f4_level1_row6\" class=\"row_heading level1 row6\" >gabbay</th>\n",
       "      <td id=\"T_c22f4_row6_col0\" class=\"data row6 col0\" >GABBAY!!!</td>\n",
       "      <td id=\"T_c22f4_row6_col1\" class=\"data row6 col1\" >1</td>\n",
       "      <td id=\"T_c22f4_row6_col2\" class=\"data row6 col2\" >6.67%</td>\n",
       "    </tr>\n",
       "    <tr>\n",
       "      <th id=\"T_c22f4_level1_row7\" class=\"row_heading level1 row7\" >gabbay</th>\n",
       "      <td id=\"T_c22f4_row7_col0\" class=\"data row7 col0\" >gabbay</td>\n",
       "      <td id=\"T_c22f4_row7_col1\" class=\"data row7 col1\" >1</td>\n",
       "      <td id=\"T_c22f4_row7_col2\" class=\"data row7 col2\" >6.67%</td>\n",
       "    </tr>\n",
       "  </tbody>\n",
       "</table>\n"
      ]
     },
     "metadata": {},
     "output_type": "display_data"
    },
    {
     "data": {
      "text/html": [
       "<h4>Mixed Types - Validation Dataset</h4>"
      ]
     },
     "metadata": {},
     "output_type": "display_data"
    },
    {
     "data": {
      "text/html": [
       "<p>Search for various types of data in (a) column[s], including hidden mixes in strings.</p>"
      ]
     },
     "metadata": {},
     "output_type": "display_data"
    },
    {
     "data": {
      "text/html": [
       "<style type=\"text/css\">\n",
       "#T_c4a73_ th {\n",
       "  text-align: left;\n",
       "}\n",
       "#T_c4a73_ td {\n",
       "  text-align: left;\n",
       "}\n",
       "</style>\n",
       "<table id=\"T_c4a73_\">\n",
       "  <thead>\n",
       "    <tr>\n",
       "      <th class=\"blank level0\" >&nbsp;</th>\n",
       "      <th class=\"col_heading level0 col0\" >col3</th>\n",
       "    </tr>\n",
       "  </thead>\n",
       "  <tbody>\n",
       "    <tr>\n",
       "      <th id=\"T_c4a73_level0_row0\" class=\"row_heading level0 row0\" >numbers</th>\n",
       "      <td id=\"T_c4a73_row0_col0\" class=\"data row0 col0\" >20.00%</td>\n",
       "    </tr>\n",
       "    <tr>\n",
       "      <th id=\"T_c4a73_level0_row1\" class=\"row_heading level0 row1\" >strings</th>\n",
       "      <td id=\"T_c4a73_row1_col0\" class=\"data row1 col0\" >80.00%</td>\n",
       "    </tr>\n",
       "  </tbody>\n",
       "</table>\n"
      ]
     },
     "metadata": {},
     "output_type": "display_data"
    },
    {
     "data": {
      "text/html": [
       "<h3>Checks with nothing found</h3>"
      ]
     },
     "metadata": {},
     "output_type": "display_data"
    },
    {
     "data": {
      "text/html": [
       "<style type=\"text/css\">\n",
       "#T_c5345_ th {\n",
       "  text-align: left;\n",
       "}\n",
       "#T_c5345_ td {\n",
       "  text-align: left;\n",
       "}\n",
       "</style>\n",
       "<table id=\"T_c5345_\">\n",
       "  <thead>\n",
       "    <tr>\n",
       "      <th class=\"col_heading level0 col0\" >Check</th>\n",
       "    </tr>\n",
       "  </thead>\n",
       "  <tbody>\n",
       "    <tr>\n",
       "      <td id=\"T_c5345_row0_col0\" class=\"data row0 col0\" >Single Value in Column - Validation Dataset</td>\n",
       "    </tr>\n",
       "  </tbody>\n",
       "</table>\n"
      ]
     },
     "metadata": {},
     "output_type": "display_data"
    }
   ],
   "source": [
    "result = suite.run(validation_dataset=dataset)\n",
    "result\n"
   ]
  }
 ],
 "metadata": {
  "kernelspec": {
   "display_name": "Python 3 (ipykernel)",
   "language": "python",
   "name": "python3"
  },
  "language_info": {
   "codemirror_mode": {
    "name": "ipython",
    "version": 3
   },
   "file_extension": ".py",
   "mimetype": "text/x-python",
   "name": "python",
   "nbconvert_exporter": "python",
   "pygments_lexer": "ipython3",
   "version": "3.8.6"
  },
  "toc": {
   "base_numbering": 1,
   "nav_menu": {},
   "number_sections": true,
   "sideBar": true,
   "skip_h1_title": false,
   "title_cell": "Table of Contents",
   "title_sidebar": "Contents",
   "toc_cell": false,
   "toc_position": {},
   "toc_section_display": true,
   "toc_window_display": false
  }
 },
 "nbformat": 4,
 "nbformat_minor": 5
}
