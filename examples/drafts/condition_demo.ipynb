{
 "cells": [
  {
   "cell_type": "code",
   "execution_count": 1,
   "id": "aa401fe6",
   "metadata": {},
   "outputs": [],
   "source": [
    "import pandas as pd\n",
    "\n",
    "%load_ext autoreload\n",
    "%autoreload 2"
   ]
  },
  {
   "cell_type": "code",
   "execution_count": 2,
   "id": "e54802d4",
   "metadata": {},
   "outputs": [
    {
     "data": {
      "text/plain": [
       "My Single Suite: [\n",
       "\tIsSingleValue\n",
       "\t\tConditions:\n",
       "\t\t\t0: error condition\n",
       "\tMixedNulls(check_nan=True, ignore_columns=['sepal length (cm)'])\n",
       "\t\tConditions:\n",
       "\t\t\t0: No more than 3 different null types for all columns ignoring: sepal length (cm)\n",
       "\tStringMismatch\n",
       "]"
      ]
     },
     "execution_count": 2,
     "metadata": {},
     "output_type": "execute_result"
    }
   ],
   "source": [
    "from mlchecks import CheckSuite, ConditionResult, ConditionCategory\n",
    "from mlchecks.checks import *\n",
    "\n",
    "def error_condition(x):\n",
    "    raise Exception('ssss')\n",
    "\n",
    "suite = CheckSuite('My Single Suite',\n",
    "    IsSingleValue().add_condition('error condition', error_condition),\n",
    "    MixedNulls(ignore_columns=['sepal length (cm)']).add_condition_different_nulls_no_higher_than(3),\n",
    "    StringMismatch()\n",
    ")\n",
    "suite"
   ]
  },
  {
   "cell_type": "code",
   "execution_count": 3,
   "id": "231d6218",
   "metadata": {},
   "outputs": [
    {
     "data": {
      "application/vnd.jupyter.widget-view+json": {
       "model_id": "",
       "version_major": 2,
       "version_minor": 0
      },
      "text/plain": [
       "VBox(children=(HTML(value=''), IntProgress(value=0, bar_style='info', max=3, style=ProgressStyle(bar_color='#9…"
      ]
     },
     "metadata": {},
     "output_type": "display_data"
    },
    {
     "data": {
      "text/html": [
       "<h2>My Single Suite</h2>"
      ]
     },
     "metadata": {},
     "output_type": "display_data"
    },
    {
     "data": {
      "text/html": [
       "<h3>Conditions Summary</h3>"
      ]
     },
     "metadata": {},
     "output_type": "display_data"
    },
    {
     "data": {
      "text/html": [
       "<style type=\"text/css\">\n",
       "#T_ae41a_ th {\n",
       "  text-align: left;\n",
       "}\n",
       "#T_ae41a_ td {\n",
       "  text-align: left;\n",
       "}\n",
       "</style>\n",
       "<table id=\"T_ae41a_\">\n",
       "  <thead>\n",
       "    <tr>\n",
       "      <th class=\"col_heading level0 col0\" >Status</th>\n",
       "      <th class=\"col_heading level0 col1\" >Check</th>\n",
       "      <th class=\"col_heading level0 col2\" >Condition</th>\n",
       "      <th class=\"col_heading level0 col3\" >More Info</th>\n",
       "    </tr>\n",
       "  </thead>\n",
       "  <tbody>\n",
       "    <tr>\n",
       "      <td id=\"T_ae41a_row0_col0\" class=\"data row0 col0\" >🎉</td>\n",
       "      <td id=\"T_ae41a_row0_col1\" class=\"data row0 col1\" >Mixed Nulls - Train Dataset</td>\n",
       "      <td id=\"T_ae41a_row0_col2\" class=\"data row0 col2\" >No more than 3 different null types for all columns ignoring: sepal length (cm)</td>\n",
       "      <td id=\"T_ae41a_row0_col3\" class=\"data row0 col3\" ></td>\n",
       "    </tr>\n",
       "    <tr>\n",
       "      <td id=\"T_ae41a_row1_col0\" class=\"data row1 col0\" >🎉</td>\n",
       "      <td id=\"T_ae41a_row1_col1\" class=\"data row1 col1\" >Mixed Nulls - Validation Dataset</td>\n",
       "      <td id=\"T_ae41a_row1_col2\" class=\"data row1 col2\" >No more than 3 different null types for all columns ignoring: sepal length (cm)</td>\n",
       "      <td id=\"T_ae41a_row1_col3\" class=\"data row1 col3\" ></td>\n",
       "    </tr>\n",
       "  </tbody>\n",
       "</table>\n"
      ]
     },
     "metadata": {},
     "output_type": "display_data"
    },
    {
     "data": {
      "text/html": [
       "<h3>Checks with nothing found</h3>"
      ]
     },
     "metadata": {},
     "output_type": "display_data"
    },
    {
     "data": {
      "text/html": [
       "<style type=\"text/css\">\n",
       "#T_85a3a_ th {\n",
       "  text-align: left;\n",
       "}\n",
       "#T_85a3a_ td {\n",
       "  text-align: left;\n",
       "}\n",
       "</style>\n",
       "<table id=\"T_85a3a_\">\n",
       "  <thead>\n",
       "    <tr>\n",
       "      <th class=\"col_heading level0 col0\" >Check</th>\n",
       "    </tr>\n",
       "  </thead>\n",
       "  <tbody>\n",
       "    <tr>\n",
       "      <td id=\"T_85a3a_row0_col0\" class=\"data row0 col0\" >Mixed Nulls - Train Dataset</td>\n",
       "    </tr>\n",
       "    <tr>\n",
       "      <td id=\"T_85a3a_row1_col0\" class=\"data row1 col0\" >Mixed Nulls - Validation Dataset</td>\n",
       "    </tr>\n",
       "    <tr>\n",
       "      <td id=\"T_85a3a_row2_col0\" class=\"data row2 col0\" >String Mismatch - Train Dataset</td>\n",
       "    </tr>\n",
       "    <tr>\n",
       "      <td id=\"T_85a3a_row3_col0\" class=\"data row3 col0\" >String Mismatch - Validation Dataset</td>\n",
       "    </tr>\n",
       "  </tbody>\n",
       "</table>\n"
      ]
     },
     "metadata": {},
     "output_type": "display_data"
    },
    {
     "data": {
      "text/html": [
       "<h3>Checks that raised an error during run</h3>"
      ]
     },
     "metadata": {},
     "output_type": "display_data"
    },
    {
     "data": {
      "text/html": [
       "<style type=\"text/css\">\n",
       "#T_0debd_ th {\n",
       "  text-align: left;\n",
       "}\n",
       "#T_0debd_ td {\n",
       "  text-align: left;\n",
       "}\n",
       "</style>\n",
       "<table id=\"T_0debd_\">\n",
       "  <thead>\n",
       "    <tr>\n",
       "      <th class=\"col_heading level0 col0\" >Check</th>\n",
       "      <th class=\"col_heading level0 col1\" >Error</th>\n",
       "    </tr>\n",
       "  </thead>\n",
       "  <tbody>\n",
       "    <tr>\n",
       "      <td id=\"T_0debd_row0_col0\" class=\"data row0 col0\" >IsSingleValue</td>\n",
       "      <td id=\"T_0debd_row0_col1\" class=\"data row0 col1\" >ssss</td>\n",
       "    </tr>\n",
       "  </tbody>\n",
       "</table>\n"
      ]
     },
     "metadata": {},
     "output_type": "display_data"
    }
   ],
   "source": [
    "from sklearn.datasets import load_iris\n",
    "\n",
    "df = load_iris(return_X_y=False, as_frame=True)\n",
    "df = pd.concat([df.data, df.target], axis=1)\n",
    "\n",
    "train = df[:100]\n",
    "val = df[100:]\n",
    "\n",
    "result = suite.run(train_dataset=train, validation_dataset=val, check_datasets_policy='both')\n",
    "result\n"
   ]
  }
 ],
 "metadata": {
  "kernelspec": {
   "display_name": "Python 3 (ipykernel)",
   "language": "python",
   "name": "python3"
  },
  "language_info": {
   "codemirror_mode": {
    "name": "ipython",
    "version": 3
   },
   "file_extension": ".py",
   "mimetype": "text/x-python",
   "name": "python",
   "nbconvert_exporter": "python",
   "pygments_lexer": "ipython3",
   "version": "3.8.6"
  },
  "toc": {
   "base_numbering": 1,
   "nav_menu": {},
   "number_sections": true,
   "sideBar": true,
   "skip_h1_title": false,
   "title_cell": "Table of Contents",
   "title_sidebar": "Contents",
   "toc_cell": false,
   "toc_position": {},
   "toc_section_display": true,
   "toc_window_display": false
  }
 },
 "nbformat": 4,
 "nbformat_minor": 5
}
