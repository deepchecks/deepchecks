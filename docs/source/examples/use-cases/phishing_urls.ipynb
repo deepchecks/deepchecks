{
 "cells": [
  {
   "cell_type": "markdown",
   "metadata": {},
   "source": [
    "# Classifying Malicious URLs"
   ]
  },
  {
   "cell_type": "markdown",
   "metadata": {},
   "source": [
    "This notebook demonstrates how the `deepchecks` package can help you validate your basic data science workflow right out of the box!"
   ]
  },
  {
   "cell_type": "markdown",
   "metadata": {},
   "source": [
    "The scenario is a real business use case: You work as a data scientist at a cyber security startup, and the company wants to provide the clients with a tool to automatically detect phishing attempts performed through emails and warn clients about them. The idea is to scan emails and determine for each web URL they include whether it points to a phishing-related web page or not. \n",
    "\n",
    "Since phishing attempts are an always-adapting efforts, static black lists or white lists composed of good or bad URLs seen in the past are simply not enough to make a good filtering system for the future. The way the company chose to deal with this challenge is to have you train a Machine Learning model to generalize what a phishing URL looks like from historic data!\n",
    "\n",
    "To enable you to do this the company's security team has collected a set of benign (meaning OK, or Kosher) URLs and phishing URLs observed during 2019 (not necessarily in clients emails). They have also wrote a script extracting features they believe should help discern phishing URLs from benign ones.\n",
    "\n",
    "These features are divided to three sub-sets:\n",
    "* String Characteristics - Extracted from the URL string itself.\n",
    "* Domain Characteristics - Extracted by interacting with the domain provider.\n",
    "* Web Page Characteristics - Extracted from the content of the web page the URL points to."
   ]
  },
  {
   "cell_type": "markdown",
   "metadata": {},
   "source": [
    "The string characteristics are based the way URLs are structured, and what their different parts do. Here is an informative illustration. You can read more at Mozilla's [What is a URL](https://developer.mozilla.org/en-US/docs/Learn/Common_questions/What_is_a_URL) article. We'll see the specific features soon."
   ]
  },
  {
   "cell_type": "code",
   "execution_count": 1,
   "metadata": {
    "ExecuteTime": {
     "end_time": "2022-01-06T04:56:38.880331Z",
     "start_time": "2022-01-06T04:56:38.867305Z"
    },
    "tags": []
   },
   "outputs": [
    {
     "data": {
      "text/html": [
       "<img src=\"https://developer.mozilla.org/en-US/docs/Learn/Common_questions/What_is_a_URL/mdn-url-all.png\"/>"
      ],
      "text/plain": [
       "<IPython.core.display.Image object>"
      ]
     },
     "execution_count": 1,
     "metadata": {},
     "output_type": "execute_result"
    }
   ],
   "source": [
    "from IPython.display import Image; from IPython.core.display import HTML;Image(url= \"https://developer.mozilla.org/en-US/docs/Learn/Common_questions/What_is_a_URL/mdn-url-all.png\")"
   ]
  },
  {
   "cell_type": "markdown",
   "metadata": {},
   "source": [
    "(Note: This is a slightly synthetic dataset based on [a great project](https://github.com/Rohith-2/url_classification_dl) by [Rohith Ramakrishnan](https://www.linkedin.com/in/rohith-ramakrishnan-54094a1a0/) and others, accompanied by a [blog post](https://medium.com/nerd-for-tech/url-feature-engineering-and-classification-66c0512fb34d). The authors has released it under an open license per our request, and for that we are very grateful to them.)"
   ]
  },
  {
   "cell_type": "markdown",
   "metadata": {
    "tags": []
   },
   "source": [
    "**Installing requirements**"
   ]
  },
  {
   "cell_type": "code",
   "execution_count": 2,
   "metadata": {
    "ExecuteTime": {
     "end_time": "2022-01-06T04:56:40.220634Z",
     "start_time": "2022-01-06T04:56:38.910518Z"
    },
    "tags": []
   },
   "outputs": [
    {
     "name": "stdout",
     "output_type": "stream",
     "text": [
      "\u001b[33mWARNING: You are using pip version 21.2.4; however, version 21.3.1 is available.\n",
      "You should consider upgrading via the '/Library/Frameworks/Python.framework/Versions/3.8/bin/python3.8 -m pip install --upgrade pip' command.\u001b[0m\n"
     ]
    }
   ],
   "source": [
    "import sys\n",
    "!{sys.executable} -m pip install deepchecks --quiet"
   ]
  },
  {
   "cell_type": "markdown",
   "metadata": {},
   "source": [
    "## 🔷 Loading the data"
   ]
  },
  {
   "cell_type": "markdown",
   "metadata": {},
   "source": [
    "OK, let's take a look at the data!"
   ]
  },
  {
   "cell_type": "code",
   "execution_count": 3,
   "metadata": {
    "ExecuteTime": {
     "end_time": "2022-01-06T04:56:41.554857Z",
     "start_time": "2022-01-06T04:56:40.224455Z"
    }
   },
   "outputs": [],
   "source": [
    "import numpy as np; import pandas as pd; import sklearn; import deepchecks; \n",
    "pd.set_option('display.max_columns', 45); SEED=832; np.random.seed(SEED);"
   ]
  },
  {
   "cell_type": "code",
   "execution_count": 4,
   "metadata": {
    "ExecuteTime": {
     "end_time": "2022-01-06T04:56:41.563367Z",
     "start_time": "2022-01-06T04:56:41.557427Z"
    }
   },
   "outputs": [],
   "source": [
    "from deepchecks.datasets.classification.phishing import load_data"
   ]
  },
  {
   "cell_type": "code",
   "execution_count": 5,
   "metadata": {
    "ExecuteTime": {
     "end_time": "2022-01-06T04:56:44.892697Z",
     "start_time": "2022-01-06T04:56:41.566344Z"
    }
   },
   "outputs": [],
   "source": [
    "df = load_data(data_format='dataframe', as_train_test=False)"
   ]
  },
  {
   "cell_type": "code",
   "execution_count": 6,
   "metadata": {},
   "outputs": [
    {
     "data": {
      "text/plain": [
       "(11350, 25)"
      ]
     },
     "execution_count": 6,
     "metadata": {},
     "output_type": "execute_result"
    }
   ],
   "source": [
    "df.shape"
   ]
  },
  {
   "cell_type": "code",
   "execution_count": 7,
   "metadata": {
    "ExecuteTime": {
     "end_time": "2022-01-06T04:56:44.916241Z",
     "start_time": "2022-01-06T04:56:44.895152Z"
    }
   },
   "outputs": [
    {
     "data": {
      "text/html": [
       "<div>\n",
       "<style scoped>\n",
       "    .dataframe tbody tr th:only-of-type {\n",
       "        vertical-align: middle;\n",
       "    }\n",
       "\n",
       "    .dataframe tbody tr th {\n",
       "        vertical-align: top;\n",
       "    }\n",
       "\n",
       "    .dataframe thead th {\n",
       "        text-align: right;\n",
       "    }\n",
       "</style>\n",
       "<table border=\"1\" class=\"dataframe\">\n",
       "  <thead>\n",
       "    <tr style=\"text-align: right;\">\n",
       "      <th></th>\n",
       "      <th>target</th>\n",
       "      <th>month</th>\n",
       "      <th>scrape_date</th>\n",
       "      <th>ext</th>\n",
       "      <th>urlLength</th>\n",
       "      <th>numDigits</th>\n",
       "      <th>numParams</th>\n",
       "      <th>num_%20</th>\n",
       "      <th>num_@</th>\n",
       "      <th>entropy</th>\n",
       "      <th>has_ip</th>\n",
       "      <th>hasHttp</th>\n",
       "      <th>hasHttps</th>\n",
       "      <th>urlIsLive</th>\n",
       "      <th>dsr</th>\n",
       "      <th>dse</th>\n",
       "      <th>bodyLength</th>\n",
       "      <th>numTitles</th>\n",
       "      <th>numImages</th>\n",
       "      <th>numLinks</th>\n",
       "      <th>specialChars</th>\n",
       "      <th>scriptLength</th>\n",
       "      <th>sbr</th>\n",
       "      <th>bscr</th>\n",
       "      <th>sscr</th>\n",
       "    </tr>\n",
       "  </thead>\n",
       "  <tbody>\n",
       "    <tr>\n",
       "      <th>0</th>\n",
       "      <td>0</td>\n",
       "      <td>1</td>\n",
       "      <td>2019-01-01</td>\n",
       "      <td>net</td>\n",
       "      <td>102</td>\n",
       "      <td>8</td>\n",
       "      <td>0</td>\n",
       "      <td>0</td>\n",
       "      <td>0</td>\n",
       "      <td>-4.384032</td>\n",
       "      <td>0</td>\n",
       "      <td>True</td>\n",
       "      <td>False</td>\n",
       "      <td>False</td>\n",
       "      <td>4921</td>\n",
       "      <td>191</td>\n",
       "      <td>32486</td>\n",
       "      <td>3</td>\n",
       "      <td>5</td>\n",
       "      <td>330</td>\n",
       "      <td>9419</td>\n",
       "      <td>23919</td>\n",
       "      <td>0.736286</td>\n",
       "      <td>0.289940</td>\n",
       "      <td>2.539442</td>\n",
       "    </tr>\n",
       "    <tr>\n",
       "      <th>1</th>\n",
       "      <td>0</td>\n",
       "      <td>1</td>\n",
       "      <td>2019-01-01</td>\n",
       "      <td>country</td>\n",
       "      <td>154</td>\n",
       "      <td>60</td>\n",
       "      <td>0</td>\n",
       "      <td>2</td>\n",
       "      <td>0</td>\n",
       "      <td>-3.566515</td>\n",
       "      <td>0</td>\n",
       "      <td>True</td>\n",
       "      <td>False</td>\n",
       "      <td>False</td>\n",
       "      <td>0</td>\n",
       "      <td>0</td>\n",
       "      <td>16199</td>\n",
       "      <td>0</td>\n",
       "      <td>4</td>\n",
       "      <td>39</td>\n",
       "      <td>2735</td>\n",
       "      <td>794</td>\n",
       "      <td>0.049015</td>\n",
       "      <td>0.168838</td>\n",
       "      <td>0.290311</td>\n",
       "    </tr>\n",
       "    <tr>\n",
       "      <th>2</th>\n",
       "      <td>0</td>\n",
       "      <td>1</td>\n",
       "      <td>2019-01-01</td>\n",
       "      <td>net</td>\n",
       "      <td>171</td>\n",
       "      <td>5</td>\n",
       "      <td>11</td>\n",
       "      <td>0</td>\n",
       "      <td>0</td>\n",
       "      <td>-4.608755</td>\n",
       "      <td>0</td>\n",
       "      <td>True</td>\n",
       "      <td>False</td>\n",
       "      <td>False</td>\n",
       "      <td>5374</td>\n",
       "      <td>104</td>\n",
       "      <td>103344</td>\n",
       "      <td>18</td>\n",
       "      <td>9</td>\n",
       "      <td>302</td>\n",
       "      <td>27798</td>\n",
       "      <td>83817</td>\n",
       "      <td>0.811049</td>\n",
       "      <td>0.268985</td>\n",
       "      <td>2.412174</td>\n",
       "    </tr>\n",
       "    <tr>\n",
       "      <th>3</th>\n",
       "      <td>0</td>\n",
       "      <td>1</td>\n",
       "      <td>2019-01-01</td>\n",
       "      <td>com</td>\n",
       "      <td>94</td>\n",
       "      <td>10</td>\n",
       "      <td>0</td>\n",
       "      <td>0</td>\n",
       "      <td>0</td>\n",
       "      <td>-4.548921</td>\n",
       "      <td>0</td>\n",
       "      <td>True</td>\n",
       "      <td>False</td>\n",
       "      <td>False</td>\n",
       "      <td>6107</td>\n",
       "      <td>466</td>\n",
       "      <td>34093</td>\n",
       "      <td>11</td>\n",
       "      <td>43</td>\n",
       "      <td>199</td>\n",
       "      <td>9087</td>\n",
       "      <td>19427</td>\n",
       "      <td>0.569824</td>\n",
       "      <td>0.266536</td>\n",
       "      <td>2.137889</td>\n",
       "    </tr>\n",
       "    <tr>\n",
       "      <th>4</th>\n",
       "      <td>0</td>\n",
       "      <td>1</td>\n",
       "      <td>2019-01-01</td>\n",
       "      <td>other</td>\n",
       "      <td>95</td>\n",
       "      <td>11</td>\n",
       "      <td>0</td>\n",
       "      <td>0</td>\n",
       "      <td>0</td>\n",
       "      <td>-4.717188</td>\n",
       "      <td>0</td>\n",
       "      <td>True</td>\n",
       "      <td>False</td>\n",
       "      <td>False</td>\n",
       "      <td>3819</td>\n",
       "      <td>928</td>\n",
       "      <td>202</td>\n",
       "      <td>1</td>\n",
       "      <td>0</td>\n",
       "      <td>0</td>\n",
       "      <td>39</td>\n",
       "      <td>0</td>\n",
       "      <td>0.000000</td>\n",
       "      <td>0.193069</td>\n",
       "      <td>0.000000</td>\n",
       "    </tr>\n",
       "  </tbody>\n",
       "</table>\n",
       "</div>"
      ],
      "text/plain": [
       "   target  month scrape_date      ext  urlLength  numDigits  numParams  \\\n",
       "0       0      1  2019-01-01      net        102          8          0   \n",
       "1       0      1  2019-01-01  country        154         60          0   \n",
       "2       0      1  2019-01-01      net        171          5         11   \n",
       "3       0      1  2019-01-01      com         94         10          0   \n",
       "4       0      1  2019-01-01    other         95         11          0   \n",
       "\n",
       "   num_%20  num_@   entropy  has_ip  hasHttp  hasHttps  urlIsLive   dsr  dse  \\\n",
       "0        0      0 -4.384032       0     True     False      False  4921  191   \n",
       "1        2      0 -3.566515       0     True     False      False     0    0   \n",
       "2        0      0 -4.608755       0     True     False      False  5374  104   \n",
       "3        0      0 -4.548921       0     True     False      False  6107  466   \n",
       "4        0      0 -4.717188       0     True     False      False  3819  928   \n",
       "\n",
       "   bodyLength  numTitles  numImages  numLinks  specialChars  scriptLength  \\\n",
       "0       32486          3          5       330          9419         23919   \n",
       "1       16199          0          4        39          2735           794   \n",
       "2      103344         18          9       302         27798         83817   \n",
       "3       34093         11         43       199          9087         19427   \n",
       "4         202          1          0         0            39             0   \n",
       "\n",
       "        sbr      bscr      sscr  \n",
       "0  0.736286  0.289940  2.539442  \n",
       "1  0.049015  0.168838  0.290311  \n",
       "2  0.811049  0.268985  2.412174  \n",
       "3  0.569824  0.266536  2.137889  \n",
       "4  0.000000  0.193069  0.000000  "
      ]
     },
     "execution_count": 7,
     "metadata": {},
     "output_type": "execute_result"
    }
   ],
   "source": [
    "df.head(5)"
   ]
  },
  {
   "cell_type": "markdown",
   "metadata": {},
   "source": [
    "Here is the actual list of features:"
   ]
  },
  {
   "cell_type": "code",
   "execution_count": 8,
   "metadata": {
    "ExecuteTime": {
     "end_time": "2022-01-06T04:56:44.923527Z",
     "start_time": "2022-01-06T04:56:44.918054Z"
    }
   },
   "outputs": [
    {
     "data": {
      "text/plain": [
       "Index(['target', 'month', 'scrape_date', 'ext', 'urlLength', 'numDigits',\n",
       "       'numParams', 'num_%20', 'num_@', 'entropy', 'has_ip', 'hasHttp',\n",
       "       'hasHttps', 'urlIsLive', 'dsr', 'dse', 'bodyLength', 'numTitles',\n",
       "       'numImages', 'numLinks', 'specialChars', 'scriptLength', 'sbr', 'bscr',\n",
       "       'sscr'],\n",
       "      dtype='object')"
      ]
     },
     "execution_count": 8,
     "metadata": {},
     "output_type": "execute_result"
    }
   ],
   "source": [
    "df.columns"
   ]
  },
  {
   "cell_type": "markdown",
   "metadata": {},
   "source": [
    "### 🔹 Feature List"
   ]
  },
  {
   "cell_type": "markdown",
   "metadata": {},
   "source": [
    "And here is a short explanation of each:"
   ]
  },
  {
   "cell_type": "markdown",
   "metadata": {},
   "source": [
    "| Feature Name | Feature Group | Description |\n",
    "| --- | --- | --- |\n",
    "| target| Meta Features | 0 if the URL is benign, 1 if it is related to phishing |\n",
    "| month| Meta Features | The month this URL was first encountered, as an int |\n",
    "| scrape_date| Meta Features | The exact date this URL was first encountered |\n",
    "| |\n",
    "| ext | String Characteristics | The domain extension |\n",
    "| urlLength | String Characteristics | The number of characters in the URL |\n",
    "| numDigits | String Characteristics | The number of digits in the URL |\n",
    "| numParams | String Characteristics | The number of query parameters in the URL |\n",
    "| num_%20 | String Characteristics | The number of '%20' substrings in the URL |\n",
    "| num_@ | String Characteristics | The number of @ characters in the URL |\n",
    "| entropy | String Characteristics | The entropy of the URL |\n",
    "| has_ip | String Characteristics | True if the URL string contains an IP addres  |\n",
    "| |\n",
    "| hasHttp | Domain Characteristics | True if the url's domain supports http |\n",
    "| hasHttps | Domain Characteristics | True if the url's domain supports https |\n",
    "| urlIsLive | Domain Characteristics |The URL was live at the time of scraping |\n",
    "| dsr | Domain Characteristics | The number of days since domain registration|\n",
    "| dse | Domain Characteristics | The number of days since domain registration expired|\n",
    "| |\n",
    "| bodyLength | Web Page Characteristics | The number of charcters in the URL's web page |\n",
    "| numTitles | Web Page Characteristics | The number of HTML titles (H1/H2/...) in the page |\n",
    "| numImages | Web Page Characteristics | The number of images in the page |\n",
    "| numLinks | Web Page Characteristics | The number of links in the page |\n",
    "| specialChars | Web Page Characteristics | The number of special characters in the page |\n",
    "| scriptLength | Web Page Characteristics | The number of charcters in scripts embedded in the page |\n",
    "| sbr | Web Page Characteristics | The ratio of scriptLength to bodyLength (`= scriptLength / bodyLength`) |\n",
    "| bscr | Web Page Characteristics | The ratio of bodyLength to specialChars (`= specialChars / bodyLength`) |\n",
    "| sscr | Web Page Characteristics | The ratio of scriptLength to specialChars (`= scriptLength / specialChars`) |"
   ]
  },
  {
   "cell_type": "markdown",
   "metadata": {},
   "source": [
    "## 🔷 Data Integrity with Deepchecks!"
   ]
  },
  {
   "cell_type": "markdown",
   "metadata": {},
   "source": [
    "The nice thing about the `deepchecks` package is that we can already use it out of the box! Instead of running a single check, we use a pre-defined test suite to run a host of data validation checks.\n",
    "\n",
    "We think it's valuable to start off with these types of suites as there are various issues we can identify at the get go just by looking at raw data."
   ]
  },
  {
   "cell_type": "markdown",
   "metadata": {},
   "source": [
    "We will first import the appropriate factory function from the `deepchecks.suites` module - in this case, an integrity suite tailored for a single dataset (as opposed to a division into a train and test, for example) - and use it to create a new suite object:"
   ]
  },
  {
   "cell_type": "code",
   "execution_count": 9,
   "metadata": {
    "ExecuteTime": {
     "end_time": "2022-01-06T04:56:45.094021Z",
     "start_time": "2022-01-06T04:56:44.925283Z"
    }
   },
   "outputs": [],
   "source": [
    "from deepchecks.suites import single_dataset_integrity\n",
    "integ_suite = single_dataset_integrity()"
   ]
  },
  {
   "cell_type": "markdown",
   "metadata": {},
   "source": [
    "We will now run that suite on our dataframe:"
   ]
  },
  {
   "cell_type": "code",
   "execution_count": 10,
   "metadata": {
    "ExecuteTime": {
     "end_time": "2022-01-06T04:56:45.657039Z",
     "start_time": "2022-01-06T04:56:45.096058Z"
    },
    "tags": []
   },
   "outputs": [
    {
     "data": {
      "application/vnd.jupyter.widget-view+json": {
       "model_id": "",
       "version_major": 2,
       "version_minor": 0
      },
      "text/plain": [
       "Single Dataset Integrity Suite:   0%|          | 0/8 [00:00<?, ? Check/s]"
      ]
     },
     "metadata": {},
     "output_type": "display_data"
    },
    {
     "data": {
      "application/vnd.jupyter.widget-view+json": {
       "model_id": "15e95b6c12df41d5afad0431714aeeee",
       "version_major": 2,
       "version_minor": 0
      },
      "text/plain": [
       "VBox(children=(HTML(value='\\n        <h1 id=\"summary_20GXT\">Single Dataset Integrity Suite</h1>\\n        <p>\\n…"
      ]
     },
     "metadata": {},
     "output_type": "display_data"
    }
   ],
   "source": [
    "integ_suite.run(df)"
   ]
  },
  {
   "cell_type": "markdown",
   "metadata": {},
   "source": [
    "## 🔴 Understanding the checks' results!"
   ]
  },
  {
   "cell_type": "markdown",
   "metadata": {},
   "source": [
    "Ok, so we've got some interesting results! Even though this is quite a tidy dataset without even any preprocessing, `deepchecks` has found a couple of columns (`has_ip` and `urlIsLive`) containing only a single value and a couple of duplicate values.\n",
    "\n",
    "We also get a nice list of all checks that turned out ok, and what each check is about.\n",
    "\n",
    "So nothing dramatic, but we will be sure to drop those useless columns. :)"
   ]
  },
  {
   "cell_type": "markdown",
   "metadata": {},
   "source": [
    "## 🔷 Preprocessing"
   ]
  },
  {
   "cell_type": "markdown",
   "metadata": {},
   "source": [
    "Let's split the data to train and test first. Since we want to examine how well a model can generalize from the past to the future, we'll simply assign the first months of the dataset to the training set, and the last few months to the test set."
   ]
  },
  {
   "cell_type": "code",
   "execution_count": 11,
   "metadata": {
    "ExecuteTime": {
     "end_time": "2022-01-06T04:56:45.665599Z",
     "start_time": "2022-01-06T04:56:45.659124Z"
    }
   },
   "outputs": [
    {
     "data": {
      "text/plain": [
       "8626"
      ]
     },
     "execution_count": 11,
     "metadata": {},
     "output_type": "execute_result"
    }
   ],
   "source": [
    "raw_train_df = df[df.month <= 9]\n",
    "len(raw_train_df)"
   ]
  },
  {
   "cell_type": "code",
   "execution_count": 12,
   "metadata": {
    "ExecuteTime": {
     "end_time": "2022-01-06T04:56:45.681276Z",
     "start_time": "2022-01-06T04:56:45.668888Z"
    }
   },
   "outputs": [
    {
     "data": {
      "text/plain": [
       "2724"
      ]
     },
     "execution_count": 12,
     "metadata": {},
     "output_type": "execute_result"
    }
   ],
   "source": [
    "raw_test_df = df[df.month > 9]\n",
    "len(raw_test_df)"
   ]
  },
  {
   "cell_type": "markdown",
   "metadata": {},
   "source": [
    "Ok! Let's process the data real quick and see how some baseline classifiers perform!\n",
    "\n",
    "We'll just set the scrape date as our index, drop a few useless columns, one-hot encode our categorical `ext` column and scale all numeric data:"
   ]
  },
  {
   "cell_type": "code",
   "execution_count": 13,
   "metadata": {
    "ExecuteTime": {
     "end_time": "2022-01-06T04:56:45.705929Z",
     "start_time": "2022-01-06T04:56:45.694526Z"
    }
   },
   "outputs": [],
   "source": [
    "from deepchecks.datasets.classification.phishing import get_url_preprocessor\n",
    "pipeline = get_url_preprocessor()"
   ]
  },
  {
   "cell_type": "markdown",
   "metadata": {},
   "source": [
    "Now we'll fit on and transform the raw train dataframe:"
   ]
  },
  {
   "cell_type": "code",
   "execution_count": 14,
   "metadata": {
    "ExecuteTime": {
     "end_time": "2022-01-06T04:56:45.776537Z",
     "start_time": "2022-01-06T04:56:45.708225Z"
    }
   },
   "outputs": [
    {
     "data": {
      "text/html": [
       "<div>\n",
       "<style scoped>\n",
       "    .dataframe tbody tr th:only-of-type {\n",
       "        vertical-align: middle;\n",
       "    }\n",
       "\n",
       "    .dataframe tbody tr th {\n",
       "        vertical-align: top;\n",
       "    }\n",
       "\n",
       "    .dataframe thead th {\n",
       "        text-align: right;\n",
       "    }\n",
       "</style>\n",
       "<table border=\"1\" class=\"dataframe\">\n",
       "  <thead>\n",
       "    <tr style=\"text-align: right;\">\n",
       "      <th></th>\n",
       "      <th>urlLength</th>\n",
       "      <th>numDigits</th>\n",
       "      <th>numParams</th>\n",
       "      <th>num_%20</th>\n",
       "      <th>num_@</th>\n",
       "      <th>entropy</th>\n",
       "      <th>hasHttp</th>\n",
       "      <th>hasHttps</th>\n",
       "      <th>dsr</th>\n",
       "      <th>dse</th>\n",
       "      <th>bodyLength</th>\n",
       "      <th>numTitles</th>\n",
       "      <th>numImages</th>\n",
       "      <th>numLinks</th>\n",
       "      <th>specialChars</th>\n",
       "      <th>scriptLength</th>\n",
       "      <th>sbr</th>\n",
       "      <th>bscr</th>\n",
       "      <th>sscr</th>\n",
       "      <th>ext_com</th>\n",
       "      <th>ext_country</th>\n",
       "      <th>ext_html</th>\n",
       "      <th>ext_info</th>\n",
       "      <th>ext_net</th>\n",
       "      <th>ext_other</th>\n",
       "      <th>ext_php</th>\n",
       "    </tr>\n",
       "    <tr>\n",
       "      <th>scrape_date</th>\n",
       "      <th></th>\n",
       "      <th></th>\n",
       "      <th></th>\n",
       "      <th></th>\n",
       "      <th></th>\n",
       "      <th></th>\n",
       "      <th></th>\n",
       "      <th></th>\n",
       "      <th></th>\n",
       "      <th></th>\n",
       "      <th></th>\n",
       "      <th></th>\n",
       "      <th></th>\n",
       "      <th></th>\n",
       "      <th></th>\n",
       "      <th></th>\n",
       "      <th></th>\n",
       "      <th></th>\n",
       "      <th></th>\n",
       "      <th></th>\n",
       "      <th></th>\n",
       "      <th></th>\n",
       "      <th></th>\n",
       "      <th></th>\n",
       "      <th></th>\n",
       "      <th></th>\n",
       "    </tr>\n",
       "  </thead>\n",
       "  <tbody>\n",
       "    <tr>\n",
       "      <th>2019-01-01</th>\n",
       "      <td>-0.271569</td>\n",
       "      <td>-0.329581</td>\n",
       "      <td>-0.327303</td>\n",
       "      <td>-0.089699</td>\n",
       "      <td>-0.068846</td>\n",
       "      <td>0.314615</td>\n",
       "      <td>0.239243</td>\n",
       "      <td>-0.241671</td>\n",
       "      <td>0.280235</td>\n",
       "      <td>-0.356485</td>\n",
       "      <td>-0.125958</td>\n",
       "      <td>-0.255521</td>\n",
       "      <td>-0.264688</td>\n",
       "      <td>1.393957</td>\n",
       "      <td>-0.059321</td>\n",
       "      <td>-0.068217</td>\n",
       "      <td>0.753133</td>\n",
       "      <td>0.753298</td>\n",
       "      <td>-0.054849</td>\n",
       "      <td>-0.859105</td>\n",
       "      <td>-0.434899</td>\n",
       "      <td>-0.401599</td>\n",
       "      <td>-0.035733</td>\n",
       "      <td>3.553473</td>\n",
       "      <td>-0.426577</td>\n",
       "      <td>-0.226517</td>\n",
       "    </tr>\n",
       "    <tr>\n",
       "      <th>2019-01-01</th>\n",
       "      <td>0.917509</td>\n",
       "      <td>2.357675</td>\n",
       "      <td>-0.327303</td>\n",
       "      <td>5.663025</td>\n",
       "      <td>-0.068846</td>\n",
       "      <td>2.991389</td>\n",
       "      <td>0.239243</td>\n",
       "      <td>-0.241671</td>\n",
       "      <td>-1.093947</td>\n",
       "      <td>-0.629844</td>\n",
       "      <td>-0.254032</td>\n",
       "      <td>-0.344488</td>\n",
       "      <td>-0.290751</td>\n",
       "      <td>-0.358447</td>\n",
       "      <td>-0.269256</td>\n",
       "      <td>-0.282689</td>\n",
       "      <td>-1.087302</td>\n",
       "      <td>-0.414405</td>\n",
       "      <td>-0.174310</td>\n",
       "      <td>-0.859105</td>\n",
       "      <td>2.299385</td>\n",
       "      <td>-0.401599</td>\n",
       "      <td>-0.035733</td>\n",
       "      <td>-0.281415</td>\n",
       "      <td>-0.426577</td>\n",
       "      <td>-0.226517</td>\n",
       "    </tr>\n",
       "    <tr>\n",
       "      <th>2019-01-01</th>\n",
       "      <td>1.306246</td>\n",
       "      <td>-0.484615</td>\n",
       "      <td>6.957823</td>\n",
       "      <td>-0.089699</td>\n",
       "      <td>-0.068846</td>\n",
       "      <td>-0.421190</td>\n",
       "      <td>0.239243</td>\n",
       "      <td>-0.241671</td>\n",
       "      <td>0.406734</td>\n",
       "      <td>-0.480999</td>\n",
       "      <td>0.431238</td>\n",
       "      <td>0.189313</td>\n",
       "      <td>-0.160433</td>\n",
       "      <td>1.225340</td>\n",
       "      <td>0.517939</td>\n",
       "      <td>0.487306</td>\n",
       "      <td>0.953338</td>\n",
       "      <td>0.551243</td>\n",
       "      <td>-0.061609</td>\n",
       "      <td>-0.859105</td>\n",
       "      <td>-0.434899</td>\n",
       "      <td>-0.401599</td>\n",
       "      <td>-0.035733</td>\n",
       "      <td>3.553473</td>\n",
       "      <td>-0.426577</td>\n",
       "      <td>-0.226517</td>\n",
       "    </tr>\n",
       "  </tbody>\n",
       "</table>\n",
       "</div>"
      ],
      "text/plain": [
       "             urlLength  numDigits  numParams   num_%20     num_@   entropy  \\\n",
       "scrape_date                                                                  \n",
       "2019-01-01   -0.271569  -0.329581  -0.327303 -0.089699 -0.068846  0.314615   \n",
       "2019-01-01    0.917509   2.357675  -0.327303  5.663025 -0.068846  2.991389   \n",
       "2019-01-01    1.306246  -0.484615   6.957823 -0.089699 -0.068846 -0.421190   \n",
       "\n",
       "              hasHttp  hasHttps       dsr       dse  bodyLength  numTitles  \\\n",
       "scrape_date                                                                  \n",
       "2019-01-01   0.239243 -0.241671  0.280235 -0.356485   -0.125958  -0.255521   \n",
       "2019-01-01   0.239243 -0.241671 -1.093947 -0.629844   -0.254032  -0.344488   \n",
       "2019-01-01   0.239243 -0.241671  0.406734 -0.480999    0.431238   0.189313   \n",
       "\n",
       "             numImages  numLinks  specialChars  scriptLength       sbr  \\\n",
       "scrape_date                                                              \n",
       "2019-01-01   -0.264688  1.393957     -0.059321     -0.068217  0.753133   \n",
       "2019-01-01   -0.290751 -0.358447     -0.269256     -0.282689 -1.087302   \n",
       "2019-01-01   -0.160433  1.225340      0.517939      0.487306  0.953338   \n",
       "\n",
       "                 bscr      sscr   ext_com  ext_country  ext_html  ext_info  \\\n",
       "scrape_date                                                                  \n",
       "2019-01-01   0.753298 -0.054849 -0.859105    -0.434899 -0.401599 -0.035733   \n",
       "2019-01-01  -0.414405 -0.174310 -0.859105     2.299385 -0.401599 -0.035733   \n",
       "2019-01-01   0.551243 -0.061609 -0.859105    -0.434899 -0.401599 -0.035733   \n",
       "\n",
       "              ext_net  ext_other   ext_php  \n",
       "scrape_date                                 \n",
       "2019-01-01   3.553473  -0.426577 -0.226517  \n",
       "2019-01-01  -0.281415  -0.426577 -0.226517  \n",
       "2019-01-01   3.553473  -0.426577 -0.226517  "
      ]
     },
     "execution_count": 14,
     "metadata": {},
     "output_type": "execute_result"
    }
   ],
   "source": [
    "train_df = pipeline.fit_transform(raw_train_df)\n",
    "train_X = train_df.drop('target', axis=1)\n",
    "train_y = train_df['target']\n",
    "train_X.head(3)"
   ]
  },
  {
   "cell_type": "markdown",
   "metadata": {},
   "source": [
    "And apply the same fitted preprocessing pipeline (with the fitted scaler, for example) to the test dataframe:"
   ]
  },
  {
   "cell_type": "code",
   "execution_count": 15,
   "metadata": {
    "ExecuteTime": {
     "end_time": "2022-01-06T04:56:45.813710Z",
     "start_time": "2022-01-06T04:56:45.778088Z"
    }
   },
   "outputs": [
    {
     "data": {
      "text/html": [
       "<div>\n",
       "<style scoped>\n",
       "    .dataframe tbody tr th:only-of-type {\n",
       "        vertical-align: middle;\n",
       "    }\n",
       "\n",
       "    .dataframe tbody tr th {\n",
       "        vertical-align: top;\n",
       "    }\n",
       "\n",
       "    .dataframe thead th {\n",
       "        text-align: right;\n",
       "    }\n",
       "</style>\n",
       "<table border=\"1\" class=\"dataframe\">\n",
       "  <thead>\n",
       "    <tr style=\"text-align: right;\">\n",
       "      <th></th>\n",
       "      <th>urlLength</th>\n",
       "      <th>numDigits</th>\n",
       "      <th>numParams</th>\n",
       "      <th>num_%20</th>\n",
       "      <th>num_@</th>\n",
       "      <th>entropy</th>\n",
       "      <th>hasHttp</th>\n",
       "      <th>hasHttps</th>\n",
       "      <th>dsr</th>\n",
       "      <th>dse</th>\n",
       "      <th>bodyLength</th>\n",
       "      <th>numTitles</th>\n",
       "      <th>numImages</th>\n",
       "      <th>numLinks</th>\n",
       "      <th>specialChars</th>\n",
       "      <th>scriptLength</th>\n",
       "      <th>sbr</th>\n",
       "      <th>bscr</th>\n",
       "      <th>sscr</th>\n",
       "      <th>ext_com</th>\n",
       "      <th>ext_country</th>\n",
       "      <th>ext_html</th>\n",
       "      <th>ext_info</th>\n",
       "      <th>ext_net</th>\n",
       "      <th>ext_other</th>\n",
       "      <th>ext_php</th>\n",
       "    </tr>\n",
       "    <tr>\n",
       "      <th>scrape_date</th>\n",
       "      <th></th>\n",
       "      <th></th>\n",
       "      <th></th>\n",
       "      <th></th>\n",
       "      <th></th>\n",
       "      <th></th>\n",
       "      <th></th>\n",
       "      <th></th>\n",
       "      <th></th>\n",
       "      <th></th>\n",
       "      <th></th>\n",
       "      <th></th>\n",
       "      <th></th>\n",
       "      <th></th>\n",
       "      <th></th>\n",
       "      <th></th>\n",
       "      <th></th>\n",
       "      <th></th>\n",
       "      <th></th>\n",
       "      <th></th>\n",
       "      <th></th>\n",
       "      <th></th>\n",
       "      <th></th>\n",
       "      <th></th>\n",
       "      <th></th>\n",
       "      <th></th>\n",
       "    </tr>\n",
       "  </thead>\n",
       "  <tbody>\n",
       "    <tr>\n",
       "      <th>2019-10-01</th>\n",
       "      <td>-0.500238</td>\n",
       "      <td>-0.691327</td>\n",
       "      <td>-0.327303</td>\n",
       "      <td>-0.089699</td>\n",
       "      <td>-0.068846</td>\n",
       "      <td>0.956667</td>\n",
       "      <td>0.239243</td>\n",
       "      <td>-0.241671</td>\n",
       "      <td>-1.093947</td>\n",
       "      <td>-0.629844</td>\n",
       "      <td>-0.381413</td>\n",
       "      <td>-0.344488</td>\n",
       "      <td>-0.395006</td>\n",
       "      <td>-0.593305</td>\n",
       "      <td>-0.355159</td>\n",
       "      <td>-0.290053</td>\n",
       "      <td>-1.218560</td>\n",
       "      <td>-2.042381</td>\n",
       "      <td>-0.189730</td>\n",
       "      <td>-0.859105</td>\n",
       "      <td>2.299385</td>\n",
       "      <td>-0.401599</td>\n",
       "      <td>-0.035733</td>\n",
       "      <td>-0.281415</td>\n",
       "      <td>-0.426577</td>\n",
       "      <td>-0.226517</td>\n",
       "    </tr>\n",
       "    <tr>\n",
       "      <th>2019-10-01</th>\n",
       "      <td>0.002834</td>\n",
       "      <td>0.238877</td>\n",
       "      <td>-0.327303</td>\n",
       "      <td>-0.089699</td>\n",
       "      <td>-0.068846</td>\n",
       "      <td>-0.498665</td>\n",
       "      <td>0.239243</td>\n",
       "      <td>-0.241671</td>\n",
       "      <td>-1.093947</td>\n",
       "      <td>-0.629844</td>\n",
       "      <td>10.879221</td>\n",
       "      <td>-0.136899</td>\n",
       "      <td>1.533700</td>\n",
       "      <td>0.153424</td>\n",
       "      <td>9.579742</td>\n",
       "      <td>8.281871</td>\n",
       "      <td>0.509814</td>\n",
       "      <td>0.087470</td>\n",
       "      <td>-0.034532</td>\n",
       "      <td>1.164002</td>\n",
       "      <td>-0.434899</td>\n",
       "      <td>-0.401599</td>\n",
       "      <td>-0.035733</td>\n",
       "      <td>-0.281415</td>\n",
       "      <td>-0.426577</td>\n",
       "      <td>-0.226517</td>\n",
       "    </tr>\n",
       "    <tr>\n",
       "      <th>2019-10-01</th>\n",
       "      <td>-0.614572</td>\n",
       "      <td>0.342233</td>\n",
       "      <td>-0.327303</td>\n",
       "      <td>-0.089699</td>\n",
       "      <td>-0.068846</td>\n",
       "      <td>-0.030503</td>\n",
       "      <td>0.239243</td>\n",
       "      <td>-0.241671</td>\n",
       "      <td>-0.247266</td>\n",
       "      <td>-0.266319</td>\n",
       "      <td>-0.200150</td>\n",
       "      <td>-0.314833</td>\n",
       "      <td>-0.082243</td>\n",
       "      <td>-0.448777</td>\n",
       "      <td>-0.127258</td>\n",
       "      <td>-0.174697</td>\n",
       "      <td>0.020147</td>\n",
       "      <td>0.559584</td>\n",
       "      <td>-0.098683</td>\n",
       "      <td>1.164002</td>\n",
       "      <td>-0.434899</td>\n",
       "      <td>-0.401599</td>\n",
       "      <td>-0.035733</td>\n",
       "      <td>-0.281415</td>\n",
       "      <td>-0.426577</td>\n",
       "      <td>-0.226517</td>\n",
       "    </tr>\n",
       "  </tbody>\n",
       "</table>\n",
       "</div>"
      ],
      "text/plain": [
       "             urlLength  numDigits  numParams   num_%20     num_@   entropy  \\\n",
       "scrape_date                                                                  \n",
       "2019-10-01   -0.500238  -0.691327  -0.327303 -0.089699 -0.068846  0.956667   \n",
       "2019-10-01    0.002834   0.238877  -0.327303 -0.089699 -0.068846 -0.498665   \n",
       "2019-10-01   -0.614572   0.342233  -0.327303 -0.089699 -0.068846 -0.030503   \n",
       "\n",
       "              hasHttp  hasHttps       dsr       dse  bodyLength  numTitles  \\\n",
       "scrape_date                                                                  \n",
       "2019-10-01   0.239243 -0.241671 -1.093947 -0.629844   -0.381413  -0.344488   \n",
       "2019-10-01   0.239243 -0.241671 -1.093947 -0.629844   10.879221  -0.136899   \n",
       "2019-10-01   0.239243 -0.241671 -0.247266 -0.266319   -0.200150  -0.314833   \n",
       "\n",
       "             numImages  numLinks  specialChars  scriptLength       sbr  \\\n",
       "scrape_date                                                              \n",
       "2019-10-01   -0.395006 -0.593305     -0.355159     -0.290053 -1.218560   \n",
       "2019-10-01    1.533700  0.153424      9.579742      8.281871  0.509814   \n",
       "2019-10-01   -0.082243 -0.448777     -0.127258     -0.174697  0.020147   \n",
       "\n",
       "                 bscr      sscr   ext_com  ext_country  ext_html  ext_info  \\\n",
       "scrape_date                                                                  \n",
       "2019-10-01  -2.042381 -0.189730 -0.859105     2.299385 -0.401599 -0.035733   \n",
       "2019-10-01   0.087470 -0.034532  1.164002    -0.434899 -0.401599 -0.035733   \n",
       "2019-10-01   0.559584 -0.098683  1.164002    -0.434899 -0.401599 -0.035733   \n",
       "\n",
       "              ext_net  ext_other   ext_php  \n",
       "scrape_date                                 \n",
       "2019-10-01  -0.281415  -0.426577 -0.226517  \n",
       "2019-10-01  -0.281415  -0.426577 -0.226517  \n",
       "2019-10-01  -0.281415  -0.426577 -0.226517  "
      ]
     },
     "execution_count": 15,
     "metadata": {},
     "output_type": "execute_result"
    }
   ],
   "source": [
    "test_df = pipeline.transform(raw_test_df)\n",
    "test_X = test_df.drop('target', axis=1)\n",
    "test_y = test_df['target']\n",
    "test_X.head(3)"
   ]
  },
  {
   "cell_type": "code",
   "execution_count": 16,
   "metadata": {
    "ExecuteTime": {
     "end_time": "2022-01-06T04:56:45.818871Z",
     "start_time": "2022-01-06T04:56:45.815582Z"
    }
   },
   "outputs": [],
   "source": [
    "from sklearn.linear_model import LogisticRegression; from sklearn.metrics import accuracy_score; hyperparameters = {'penalty': 'l2', 'fit_intercept': True, 'random_state': SEED, 'C': 0.009}"
   ]
  },
  {
   "cell_type": "code",
   "execution_count": 17,
   "metadata": {
    "ExecuteTime": {
     "end_time": "2022-01-06T04:56:45.893239Z",
     "start_time": "2022-01-06T04:56:45.821868Z"
    }
   },
   "outputs": [],
   "source": [
    "logreg = LogisticRegression(**hyperparameters)\n",
    "logreg.fit(train_X, train_y);"
   ]
  },
  {
   "cell_type": "code",
   "execution_count": 18,
   "metadata": {
    "ExecuteTime": {
     "end_time": "2022-01-06T04:56:45.908481Z",
     "start_time": "2022-01-06T04:56:45.898893Z"
    }
   },
   "outputs": [],
   "source": [
    "pred_y = logreg.predict(test_X)"
   ]
  },
  {
   "cell_type": "code",
   "execution_count": 19,
   "metadata": {
    "ExecuteTime": {
     "end_time": "2022-01-06T04:56:45.944513Z",
     "start_time": "2022-01-06T04:56:45.915686Z"
    }
   },
   "outputs": [
    {
     "data": {
      "text/plain": [
       "0.9698972099853157"
      ]
     },
     "execution_count": 19,
     "metadata": {},
     "output_type": "execute_result"
    }
   ],
   "source": [
    "accuracy_score(test_y, pred_y)"
   ]
  },
  {
   "cell_type": "markdown",
   "metadata": {},
   "source": [
    "Ok, so we've got a nice accuracy score from the get go! Let's see what `deepchecks` can tell us about our model..."
   ]
  },
  {
   "cell_type": "code",
   "execution_count": 20,
   "metadata": {
    "ExecuteTime": {
     "end_time": "2022-01-06T04:56:45.974071Z",
     "start_time": "2022-01-06T04:56:45.949769Z"
    }
   },
   "outputs": [],
   "source": [
    "from deepchecks.suites import train_test_validation"
   ]
  },
  {
   "cell_type": "code",
   "execution_count": 21,
   "metadata": {
    "ExecuteTime": {
     "end_time": "2022-01-06T04:56:46.009756Z",
     "start_time": "2022-01-06T04:56:45.979106Z"
    }
   },
   "outputs": [],
   "source": [
    "vsuite = train_test_validation()"
   ]
  },
  {
   "cell_type": "markdown",
   "metadata": {},
   "source": [
    "First, we have to wrap the dataframes in `deepchecks.Dataset` objects to give the package a bit more context, namely what is the label column, and whether we have a datetime column (we have, as an index, so we'll set `set_datetime_from_dataframe_index=True`), or any categorical features (we have none after one-hot encoding them, so we'll set `cate_features=[]` explicitly)."
   ]
  },
  {
   "cell_type": "code",
   "execution_count": 22,
   "metadata": {
    "ExecuteTime": {
     "end_time": "2022-01-06T04:56:46.064540Z",
     "start_time": "2022-01-06T04:56:46.014754Z"
    }
   },
   "outputs": [],
   "source": [
    "ds_train = deepchecks.Dataset(df=train_X, label=train_y, set_datetime_from_dataframe_index=True, cat_features=[])\n",
    "ds_test = deepchecks.Dataset(df=test_X, label=test_y, set_datetime_from_dataframe_index=True, cat_features=[])"
   ]
  },
  {
   "cell_type": "markdown",
   "metadata": {},
   "source": [
    "Now we just have to provide the `run` method of the suite object with both the model and the `Dataset` objects."
   ]
  },
  {
   "cell_type": "code",
   "execution_count": null,
   "metadata": {
    "ExecuteTime": {
     "end_time": "2022-01-06T04:56:53.638249Z",
     "start_time": "2022-01-06T04:56:46.071300Z"
    },
    "tags": []
   },
   "outputs": [
    {
     "data": {
      "application/vnd.jupyter.widget-view+json": {
       "model_id": "52f4a23f62fd40c7a5c0f67c0d8de4cf",
       "version_major": 2,
       "version_minor": 0
      },
      "text/plain": [
       "Train Test Validation Suite:   0%|          | 0/14 [00:00<?, ? Check/s]"
      ]
     },
     "metadata": {},
     "output_type": "display_data"
    }
   ],
   "source": [
    "vsuite.run(model=logreg, train_dataset=ds_train, test_dataset=ds_test)"
   ]
  },
  {
   "cell_type": "markdown",
   "metadata": {},
   "source": [
    "## 🔴 Understanding the checks' results!"
   ]
  },
  {
   "cell_type": "markdown",
   "metadata": {},
   "source": [
    "Whoa! It looks like we have some time leakage!\n",
    "\n",
    "The `Conditions Summary` section showed that the `Date Train-Test Leakage (overlap)` check was the only failed check. The `Additional Outputs` section helped us understand that the latest date in the train set belongs to January 2020!\n",
    "\n",
    "It seems some entries from January 2020 made their way into the train set. We assumed the `month` columns was enough to split the data with (which it would, have all data was indeed from 2019), but as in real life, things were a bit messy. We'll adjust our preprocessing real quick, and with methodological errors out of the way we'll get to checking our model's performance."
   ]
  },
  {
   "cell_type": "markdown",
   "metadata": {},
   "source": [
    "It is also worth mentioning that `deepchecks` found that `urlLength` is the only feature that alone can predict the target with some measure of success. This is worth investigating!"
   ]
  },
  {
   "cell_type": "markdown",
   "metadata": {},
   "source": [
    "### 🔹 Adjusting our preprocessing and refitting the model"
   ]
  },
  {
   "cell_type": "markdown",
   "metadata": {},
   "source": [
    "Let's just drop any row from 2020 from the raw dataframe and take it all from there"
   ]
  },
  {
   "cell_type": "code",
   "execution_count": null,
   "metadata": {
    "ExecuteTime": {
     "end_time": "2022-01-06T04:56:53.658166Z",
     "start_time": "2022-01-06T04:56:53.640714Z"
    }
   },
   "outputs": [],
   "source": [
    "df = df[~df['scrape_date'].str.contains('2020')]\n",
    "df.shape"
   ]
  },
  {
   "cell_type": "code",
   "execution_count": null,
   "metadata": {
    "ExecuteTime": {
     "end_time": "2022-01-06T04:56:53.668918Z",
     "start_time": "2022-01-06T04:56:53.661569Z"
    }
   },
   "outputs": [],
   "source": [
    "pipeline = get_url_preprocessor()"
   ]
  },
  {
   "cell_type": "code",
   "execution_count": null,
   "metadata": {
    "ExecuteTime": {
     "end_time": "2022-01-06T04:56:53.773720Z",
     "start_time": "2022-01-06T04:56:53.673791Z"
    }
   },
   "outputs": [],
   "source": [
    "train_df = pipeline.fit_transform(raw_train_df)\n",
    "train_X = train_df.drop('target', axis=1)\n",
    "train_y = train_df['target']\n",
    "train_X.head(3)"
   ]
  },
  {
   "cell_type": "code",
   "execution_count": null,
   "metadata": {
    "ExecuteTime": {
     "end_time": "2022-01-06T04:56:53.830793Z",
     "start_time": "2022-01-06T04:56:53.776596Z"
    }
   },
   "outputs": [],
   "source": [
    "test_df = pipeline.transform(raw_test_df)\n",
    "test_X = test_df.drop('target', axis=1)\n",
    "test_y = test_df['target']\n",
    "test_X.head(3)"
   ]
  },
  {
   "cell_type": "code",
   "execution_count": null,
   "metadata": {
    "ExecuteTime": {
     "end_time": "2022-01-06T04:56:53.942100Z",
     "start_time": "2022-01-06T04:56:53.832795Z"
    }
   },
   "outputs": [],
   "source": [
    "logreg.fit(train_X, train_y)"
   ]
  },
  {
   "cell_type": "code",
   "execution_count": null,
   "metadata": {
    "ExecuteTime": {
     "end_time": "2022-01-06T04:56:53.967410Z",
     "start_time": "2022-01-06T04:56:53.953959Z"
    }
   },
   "outputs": [],
   "source": [
    "pred_y = logreg.predict(test_X)"
   ]
  },
  {
   "cell_type": "code",
   "execution_count": null,
   "metadata": {
    "ExecuteTime": {
     "end_time": "2022-01-06T04:56:53.998818Z",
     "start_time": "2022-01-06T04:56:53.973206Z"
    }
   },
   "outputs": [],
   "source": [
    "accuracy_score(test_y, pred_y)"
   ]
  },
  {
   "cell_type": "markdown",
   "metadata": {},
   "source": [
    "## 🔷 Deepchecks' Performance Checks"
   ]
  },
  {
   "cell_type": "markdown",
   "metadata": {},
   "source": [
    "Ok! Now that we're back on track lets run some performance checks to see how we did."
   ]
  },
  {
   "cell_type": "code",
   "execution_count": null,
   "metadata": {
    "ExecuteTime": {
     "end_time": "2022-01-06T04:56:54.059978Z",
     "start_time": "2022-01-06T04:56:54.003538Z"
    }
   },
   "outputs": [],
   "source": [
    "from deepchecks.suites import model_evaluation"
   ]
  },
  {
   "cell_type": "code",
   "execution_count": null,
   "metadata": {
    "ExecuteTime": {
     "end_time": "2022-01-06T04:56:54.117073Z",
     "start_time": "2022-01-06T04:56:54.062498Z"
    }
   },
   "outputs": [],
   "source": [
    "msuite = model_evaluation()"
   ]
  },
  {
   "cell_type": "code",
   "execution_count": null,
   "metadata": {
    "ExecuteTime": {
     "end_time": "2022-01-06T04:56:54.164247Z",
     "start_time": "2022-01-06T04:56:54.121284Z"
    }
   },
   "outputs": [],
   "source": [
    "ds_train = deepchecks.Dataset(df=train_X, label=train_y, set_datetime_from_dataframe_index=True, cat_features=[])\n",
    "ds_test = deepchecks.Dataset(df=test_X, label=test_y, set_datetime_from_dataframe_index=True, cat_features=[])"
   ]
  },
  {
   "cell_type": "code",
   "execution_count": null,
   "metadata": {
    "ExecuteTime": {
     "end_time": "2022-01-06T04:57:01.386307Z",
     "start_time": "2022-01-06T04:56:54.167757Z"
    },
    "tags": []
   },
   "outputs": [],
   "source": [
    "msuite.run(model=logreg, train_dataset=ds_train, test_dataset=ds_test)"
   ]
  },
  {
   "cell_type": "markdown",
   "metadata": {},
   "source": [
    "## 🔴 Understanding the checks' results!"
   ]
  },
  {
   "cell_type": "markdown",
   "metadata": {},
   "source": [
    "We have three either failed checks or warnings that look very important\n",
    "\n",
    "* `Simple Model Comparison` - This checks make sure our model outperforms a very simple model to some degree. Having it fail means we might have a serious problem.\n",
    "\n",
    "* `Model Error Analysis` - This check analyses model errors and tries to find a way to segment our data in a way that is informative to error analysis. It seems that it found a valuable way to segment our data, error-wise, using the `urlLength` feature. We'll look into it soon enough.\n",
    "\n",
    "* `Trust Score Comparison`: Found a very significant decline in the trust score between test and train sets. This means that test samples are more likely to disagree with their counterparts (or neighbours) in the train set than we would want or expect, and thus our predictions on them are expected to be erroneous. *(see more in [the paper introducing the trust score](https://proceedings.neurips.cc/paper/2018/file/7180cffd6a8e829dacfc2a31b3f72ece-Paper.pdf))*.\n"
   ]
  },
  {
   "cell_type": "markdown",
   "metadata": {},
   "source": [
    "Looking at the metric plots for F1 for both our model and a simple one we see their performance are almost identical! How can this be? Fortunately the confusion matrices automagically generated for both the training and test sets help us understand what has happened.\n",
    "\n",
    "Our evidently over-regularized classifier was over-impressed by the majority class (0, or non-malicious URL), and predicted a value of 0 for almost all samples in both the train and the test set, which yielded an seemingly-impressive 97% accuracy on the test set just due to the imbalanced nature of the problem.\n",
    "\n",
    "`deepchecks` also generated plots for F1, precision and recall on both the train and test set, as part of the performance report, and these also help us see recall scores are almost zero for both sets and understad what happaned."
   ]
  },
  {
   "cell_type": "markdown",
   "metadata": {},
   "source": [
    "Additionally, the best and worst trust score sample tables can help us on which samples the classifier should possibly not be trusted. In this case, the worst true score table is dominated by samplers with `target=1`, also pointing us at a problem in generalizing the notion of malicisiousness from the train to the test set."
   ]
  },
  {
   "cell_type": "markdown",
   "metadata": {},
   "source": [
    "## 🔷 Trying out a different classifier"
   ]
  },
  {
   "cell_type": "markdown",
   "metadata": {},
   "source": [
    "So let's throw something a bit more rich in expressive power at the problem - a decision tree! 🌲"
   ]
  },
  {
   "cell_type": "code",
   "execution_count": null,
   "metadata": {},
   "outputs": [],
   "source": [
    "from sklearn.tree import DecisionTreeClassifier\n",
    "model = DecisionTreeClassifier(criterion='entropy', splitter='random', random_state=SEED)\n",
    "model.fit(train_X, train_y)\n",
    "msuite.run(model=model, train_dataset=ds_train, test_dataset=ds_test)"
   ]
  },
  {
   "cell_type": "markdown",
   "metadata": {},
   "source": [
    "## 🔴 Understanding the checks' results!"
   ]
  },
  {
   "cell_type": "markdown",
   "metadata": {},
   "source": [
    "Right of the bat `deepchecks` alerts us to a significant degradation in performance - for F1, Precision and Recall - from the train to the test set. This immediately points us at the direction of overfitting.\n",
    "\n",
    "Indeed, looking at the confusion metrics for the train and test set, we can immediately see that our decision tree fits the train set perfectly, but get significantly lower performance on the train set. A classic indicator of overfit, and decision trees are know for being prone to overfit.\n",
    "\n",
    "In addition, the Model Error Analysis section help us see we underperform for samples with low `urlLength` values. This can help us with more advanced feature generation and selection later in the project."
   ]
  },
  {
   "cell_type": "markdown",
   "metadata": {},
   "source": [
    "## 🔷 Boosting our model!"
   ]
  },
  {
   "cell_type": "markdown",
   "metadata": {},
   "source": [
    "To try and solve the overfitting issue let's try and throw at a problem an ensemble model that has a bit more resilience to overfitting than a decision tree: a gradient-boosted ensemble of them!"
   ]
  },
  {
   "cell_type": "code",
   "execution_count": null,
   "metadata": {
    "ExecuteTime": {
     "end_time": "2022-01-06T04:58:02.311986Z",
     "start_time": "2022-01-06T04:57:01.409199Z"
    }
   },
   "outputs": [],
   "source": [
    "from sklearn.ensemble import GradientBoostingClassifier\n",
    "model = GradientBoostingClassifier(n_estimators=250, random_state=SEED, max_depth=20, subsample=0.8 , loss='exponential')\n",
    "model.fit(train_X, train_y)\n",
    "msuite.run(model=model, train_dataset=ds_train, test_dataset=ds_test)"
   ]
  },
  {
   "cell_type": "markdown",
   "metadata": {},
   "source": [
    "## 🔴 Understanding the checks' results!"
   ]
  },
  {
   "cell_type": "markdown",
   "metadata": {},
   "source": [
    "Again, `deepchecks` supplied some interesting insights, including a considerable performance degradation between the train and test sets. We can see that the degradation in performance between the train and test set that we witnessed before was mitigated only very little.\n",
    "\n",
    "However, for a boosted model we get a pretty cool *Boosting Overfit* check that plots the accuracy of the model along increasing boosting iterations of the model. This can help us see that we *might* have a minor case of overfitting here, as train set accuracy is achieved rather early on, and while test set performance improve for a little while longer, they show some degradation starting from iteration 135.\n",
    "\n",
    "This at least points to possible value in adjusting the `n_estimators` parameter, either reducing it *or* increasing it to see if degradation continues or perhaps the trends shifts."
   ]
  },
  {
   "cell_type": "markdown",
   "metadata": {},
   "source": [
    "## 🗞 Wrapping it all up!"
   ]
  },
  {
   "cell_type": "markdown",
   "metadata": {},
   "source": [
    "We haven't got a decent model yet, but `deepchecks` provides us with numerous tools to help us navigate our development and make better feature engineering and model selection decisions, by easily making critical issues in data drift, overfitting, leakage, feature importance and model calibration readily accessible.\n",
    "\n",
    "And this is just what `deepchecks` can do out of the box, with the prebuilt checks and suites! There is a lot more potential in the way the package lends itself to easy customization and creation of checks and suites tailored to your needs. We will touch upon some such advanced uses in future guides.\n",
    "\n",
    "We, however, hope this example can already provide you with a good starting point for getting some immediate benefit out of using `deepchecks`! Have fun, and reach out to us if you need assistance! :)"
   ]
  }
 ],
 "metadata": {
  "kernelspec": {
   "display_name": "Python 3 (ipykernel)",
   "language": "python",
   "name": "python3"
  },
  "language_info": {
   "codemirror_mode": {
    "name": "ipython",
    "version": 3
   },
   "file_extension": ".py",
   "mimetype": "text/x-python",
   "name": "python",
   "nbconvert_exporter": "python",
   "pygments_lexer": "ipython3",
   "version": "3.8.6"
  },
  "toc": {
   "base_numbering": 1,
   "nav_menu": {},
   "number_sections": true,
   "sideBar": true,
   "skip_h1_title": false,
   "title_cell": "Table of Contents",
   "title_sidebar": "Contents",
   "toc_cell": false,
   "toc_position": {},
   "toc_section_display": true,
   "toc_window_display": false
  },
  "toc-autonumbering": false,
  "toc-showcode": false,
  "toc-showmarkdowntxt": false
 },
 "nbformat": 4,
 "nbformat_minor": 4
}
