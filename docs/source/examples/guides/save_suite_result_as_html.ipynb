{
 "cells": [
  {
   "cell_type": "markdown",
   "id": "093664c2",
   "metadata": {},
   "source": [
    "# Export suite result as HTML report"
   ]
  },
  {
   "cell_type": "markdown",
   "id": "20be3899",
   "metadata": {
    "ExecuteTime": {
     "end_time": "2021-12-08T16:58:27.272515Z",
     "start_time": "2021-12-08T16:58:27.229029Z"
    }
   },
   "source": [
    "In this tutorial, we will show how to export the suite's output as an HTML report.\n",
    "This enables sharing the results easier and use deepchecks outside of a notebook."
   ]
  },
  {
   "cell_type": "markdown",
   "id": "6c876505",
   "metadata": {},
   "source": [
    "## Defining the data\n",
    "\n",
    "Let's fetch the iris train and test dataset"
   ]
  },
  {
   "cell_type": "code",
   "execution_count": 1,
   "id": "58f8f2df",
   "metadata": {
    "ExecuteTime": {
     "end_time": "2022-01-06T04:02:53.130005Z",
     "start_time": "2022-01-06T04:02:52.186036Z"
    },
    "tags": []
   },
   "outputs": [],
   "source": [
    "from deepchecks.datasets.classification import iris\n",
    "\n",
    "train_dataset, test_dataset = iris.load_data()"
   ]
  },
  {
   "cell_type": "markdown",
   "id": "37425f9d",
   "metadata": {},
   "source": [
    "## Running the Suite"
   ]
  },
  {
   "cell_type": "code",
   "execution_count": 2,
   "id": "df37f340",
   "metadata": {
    "ExecuteTime": {
     "end_time": "2022-01-06T04:02:54.289467Z",
     "start_time": "2022-01-06T04:02:54.078120Z"
    },
    "tags": []
   },
   "outputs": [],
   "source": [
    "from deepchecks.suites import full_suite\n",
    "\n",
    "suite = full_suite()"
   ]
  },
  {
   "cell_type": "code",
   "execution_count": 3,
   "id": "b74de249",
   "metadata": {
    "ExecuteTime": {
     "end_time": "2022-01-06T04:02:59.697370Z",
     "start_time": "2022-01-06T04:02:54.291966Z"
    },
    "tags": []
   },
   "outputs": [
    {
     "data": {
      "application/vnd.jupyter.widget-view+json": {
       "model_id": "",
       "version_major": 2,
       "version_minor": 0
      },
      "text/plain": [
       "Full Suite:   0%|          | 0/36 [00:00<?, ? Check/s]"
      ]
     },
     "metadata": {},
     "output_type": "display_data"
    }
   ],
   "source": [
    "suite_result = suite.run(train_dataset=train_dataset, test_dataset=test_dataset)"
   ]
  },
  {
   "cell_type": "markdown",
   "id": "6adf0eb6",
   "metadata": {},
   "source": [
    "## Saving the results as an HTML report\n",
    "\n",
    "Exporting the suite's output to an HTML file is possible using the `save_as_html` function. This function expects a file-like object, whether it's a file name or the full path to the destination folder."
   ]
  },
  {
   "cell_type": "code",
   "execution_count": 4,
   "id": "948cb93c-65d6-4be3-8250-3a7c2c1b1c1f",
   "metadata": {},
   "outputs": [],
   "source": [
    "suite_result.save_as_html('my_suite.html')"
   ]
  },
  {
   "cell_type": "markdown",
   "id": "f8a38433-a28f-4854-8a2f-8ebacd1612d7",
   "metadata": {},
   "source": [
    "#### or"
   ]
  },
  {
   "cell_type": "code",
   "execution_count": 5,
   "id": "af72292c-9948-489c-9890-5f215e53acc0",
   "metadata": {},
   "outputs": [],
   "source": [
    "suite_result.save_as_html() # will save the result in output.html"
   ]
  },
  {
   "cell_type": "markdown",
   "id": "6a0e8cd6",
   "metadata": {},
   "source": [
    "#### Working with in-memory buffers\n",
    "\n",
    "The suite output can also be written into a file buffers. This can be done by setting the `file` argument with a StringIO or BytesIO buffer object."
   ]
  },
  {
   "cell_type": "code",
   "execution_count": 6,
   "id": "445dcb78",
   "metadata": {
    "ExecuteTime": {
     "end_time": "2022-01-06T04:02:59.709600Z",
     "start_time": "2022-01-06T04:02:59.700249Z"
    },
    "tags": []
   },
   "outputs": [],
   "source": [
    "import io\n",
    "\n",
    "html_out = io.StringIO()\n",
    "suite_result.save_as_html(file=html_out)"
   ]
  },
  {
   "cell_type": "markdown",
   "id": "533ea7a7-e7fc-4668-9780-3cf39da0b768",
   "metadata": {},
   "source": [
    "### The suite's output can still be viewed within the notebook"
   ]
  },
  {
   "cell_type": "code",
   "execution_count": 7,
   "id": "c5dd85d9-889b-4644-b74e-b43fe08d454f",
   "metadata": {},
   "outputs": [
    {
     "data": {
      "application/vnd.jupyter.widget-view+json": {
       "model_id": "cdf4724a8d2546a7a6e76a396b5bb5d7",
       "version_major": 2,
       "version_minor": 0
      },
      "text/plain": [
       "VBox(children=(HTML(value='\\n        <h1 id=\"summary_P79XO\">Full Suite</h1>\\n        <p>\\n            The suit…"
      ]
     },
     "metadata": {},
     "output_type": "display_data"
    }
   ],
   "source": [
    "suite_result"
   ]
  }
 ],
 "metadata": {
  "kernelspec": {
   "display_name": "Python 3 (ipykernel)",
   "language": "python",
   "name": "python3"
  },
  "language_info": {
   "codemirror_mode": {
    "name": "ipython",
    "version": 3
   },
   "file_extension": ".py",
   "mimetype": "text/x-python",
   "name": "python",
   "nbconvert_exporter": "python",
   "pygments_lexer": "ipython3",
   "version": "3.8.12"
  },
  "toc": {
   "base_numbering": 1,
   "nav_menu": {},
   "number_sections": true,
   "sideBar": true,
   "skip_h1_title": false,
   "title_cell": "Table of Contents",
   "title_sidebar": "Contents",
   "toc_cell": false,
   "toc_position": {},
   "toc_section_display": true,
   "toc_window_display": false
  }
 },
 "nbformat": 4,
 "nbformat_minor": 5
}
