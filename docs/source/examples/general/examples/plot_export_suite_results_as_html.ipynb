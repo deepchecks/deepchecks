{
  "cells": [
    {
      "cell_type": "code",
      "execution_count": null,
      "metadata": {
        "collapsed": false
      },
      "outputs": [],
      "source": [
        "%matplotlib inline"
      ]
    },
    {
      "cell_type": "markdown",
      "metadata": {},
      "source": [
        "Export Suite Output to a HTML Report\n====================================\n\nIn this guide, we will demonstrate how to export a suite\\'s output as an\nHTML report. This enables easily sharing the results easier and also\nusing deepchecks outside of the notebook environment.\n\n**Structure:**\n\n-   [Save Suite Result to an HTML\n    Report](#save-suite-result-to-an-html-report)\n"
      ]
    },
    {
      "cell_type": "markdown",
      "metadata": {},
      "source": [
        "Load Data\n=========\n\nLet\\'s fetch the iris train and test datasets\n"
      ]
    },
    {
      "cell_type": "code",
      "execution_count": null,
      "metadata": {
        "collapsed": false
      },
      "outputs": [],
      "source": [
        "from deepchecks.tabular.datasets.classification import iris\n\ntrain_dataset, test_dataset = iris.load_data()"
      ]
    },
    {
      "cell_type": "markdown",
      "metadata": {},
      "source": [
        "Run Suite\n=========\n"
      ]
    },
    {
      "cell_type": "code",
      "execution_count": null,
      "metadata": {
        "collapsed": false
      },
      "outputs": [],
      "source": [
        "from deepchecks.tabular.suites import full_suite\n\nsuite = full_suite()"
      ]
    },
    {
      "cell_type": "code",
      "execution_count": null,
      "metadata": {
        "collapsed": false
      },
      "outputs": [],
      "source": [
        "suite_result = suite.run(train_dataset=train_dataset, test_dataset=test_dataset)"
      ]
    },
    {
      "cell_type": "markdown",
      "metadata": {},
      "source": [
        "Save Suite Result to an HTML Report\n===================================\n\nExporting the suite\\'s output to an HTML file is possible using the\n`save_as_html` function. This function expects a file-like object,\nwhether it\\'s a file name or the full path to the destination folder.\n"
      ]
    },
    {
      "cell_type": "code",
      "execution_count": null,
      "metadata": {
        "collapsed": false
      },
      "outputs": [],
      "source": [
        "suite_result.save_as_html('my_suite.html')\n\n# or\nsuite_result.save_as_html() # will save the result in output.html"
      ]
    },
    {
      "cell_type": "code",
      "execution_count": null,
      "metadata": {
        "collapsed": false
      },
      "outputs": [],
      "source": [
        "# Removing outputs created. this cell should be hidden in nbpshinx using \"nbsphinx: hidden\" in the metadata\nimport os\nos.remove('output.html')\nos.remove('my_suite.html')"
      ]
    },
    {
      "cell_type": "markdown",
      "metadata": {},
      "source": [
        "**Working with in-memory buffers**\n\nThe suite output can also be written into a file buffers. This can be\ndone by setting the file argument with a `StringIO` or `BytesIO` buffer\nobject.\n"
      ]
    },
    {
      "cell_type": "code",
      "execution_count": null,
      "metadata": {
        "collapsed": false
      },
      "outputs": [],
      "source": [
        "import io\n\nhtml_out = io.StringIO()\nsuite_result.save_as_html(file=html_out)"
      ]
    },
    {
      "cell_type": "markdown",
      "metadata": {},
      "source": [
        "View Suite Output\n=================\n\nThe suite\\'s output can still be viewed within the notebook\n"
      ]
    },
    {
      "cell_type": "code",
      "execution_count": null,
      "metadata": {
        "collapsed": false
      },
      "outputs": [],
      "source": [
        "suite_result"
      ]
    }
  ],
  "metadata": {
    "kernelspec": {
      "display_name": "Python 3",
      "language": "python",
      "name": "python3"
    },
    "language_info": {
      "codemirror_mode": {
        "name": "ipython",
        "version": 3
      },
      "file_extension": ".py",
      "mimetype": "text/x-python",
      "name": "python",
      "nbconvert_exporter": "python",
      "pygments_lexer": "ipython3",
      "version": "3.8.10"
    }
  },
  "nbformat": 4,
  "nbformat_minor": 0
}