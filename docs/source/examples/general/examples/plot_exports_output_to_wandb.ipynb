{
  "cells": [
    {
      "cell_type": "code",
      "execution_count": null,
      "metadata": {
        "collapsed": false
      },
      "outputs": [],
      "source": [
        "%matplotlib inline"
      ]
    },
    {
      "cell_type": "markdown",
      "metadata": {},
      "source": [
        "Export Outputs to Weights & Biases (wandb)\n==========================================\n\nIn this guide, we will demonstrate how to export the Check\\'s and the\nSuite\\'s output to wandb.\n\nThis enables to view the exported results in wandb and compare the\nresults you receive with diffrent parameters or model/data.\n\n**Structure:**\n\n-   [Load Data](#load-data)\n-   [Run a Check](#run-a-check)\n-   [Export Check to\n    wandb](#export-a-check-s-output-checkresult-to-wandb)\n-   [Export Suite to\n    wandb](#exporting-a-suite-s-output-suiteresult-to-wandb)\n"
      ]
    },
    {
      "cell_type": "markdown",
      "metadata": {},
      "source": [
        "Load Data\n=========\n"
      ]
    },
    {
      "cell_type": "code",
      "execution_count": null,
      "metadata": {
        "collapsed": false
      },
      "outputs": [],
      "source": [
        "from deepchecks.tabular.datasets.classification import iris\n\ntrain_dataset, test_dataset = iris.load_data()\nmodel = iris.load_fitted_model()"
      ]
    },
    {
      "cell_type": "markdown",
      "metadata": {},
      "source": [
        "Run a Check\n===========\n"
      ]
    },
    {
      "cell_type": "code",
      "execution_count": null,
      "metadata": {
        "collapsed": false
      },
      "outputs": [],
      "source": [
        "from deepchecks.tabular.checks import ModelErrorAnalysis\n\nresult = ModelErrorAnalysis().add_condition_segments_performance_relative_difference_not_greater_than(\\\n                                ).run(train_dataset, test_dataset, model)"
      ]
    },
    {
      "cell_type": "markdown",
      "metadata": {},
      "source": [
        "Observe CheckResult Display and Value\n=====================================\n"
      ]
    },
    {
      "cell_type": "code",
      "execution_count": null,
      "metadata": {
        "collapsed": false
      },
      "outputs": [],
      "source": [
        "result"
      ]
    },
    {
      "cell_type": "markdown",
      "metadata": {},
      "source": [
        "the value can be observed\n"
      ]
    },
    {
      "cell_type": "code",
      "execution_count": null,
      "metadata": {
        "collapsed": false
      },
      "outputs": [],
      "source": [
        "result.value"
      ]
    },
    {
      "cell_type": "markdown",
      "metadata": {},
      "source": [
        "Export a Check\\'s Output (CheckResult) to wandb\n===============================================\n\nExporting the output to wandb is possible using the `to_wandb` function.\nThis function exports the check outputs to a wandb project.\n\nThe output display that will be export will be a bit diffrent from what\nyou usually see. Only the tables and the plots are being exported.\n\nOn default if you export a single check to wandb without a wandb run\nactive it will create a project with the name deepchecks and the and the\ncheck\\'s metadata in the config and export the results there.\n\nSee Check to\\_wandb options\n---------------------------\n"
      ]
    },
    {
      "cell_type": "code",
      "execution_count": null,
      "metadata": {
        "collapsed": false
      },
      "outputs": [],
      "source": [
        "from deepchecks.core import CheckResult\n\nhelp(CheckResult.to_wandb)"
      ]
    },
    {
      "cell_type": "markdown",
      "metadata": {},
      "source": [
        "To use this function you first need to login to your wandb account\n"
      ]
    },
    {
      "cell_type": "code",
      "execution_count": null,
      "metadata": {
        "collapsed": false
      },
      "outputs": [],
      "source": [
        "import wandb\nwandb.login()"
      ]
    },
    {
      "cell_type": "code",
      "execution_count": null,
      "metadata": {
        "collapsed": false
      },
      "outputs": [],
      "source": [
        "result.to_wandb()"
      ]
    },
    {
      "cell_type": "markdown",
      "metadata": {},
      "source": [
        "Exporting a Suite\\'s Output (SuiteResult) to wandb\n==================================================\n\nRun Suite and export to wandb\n-----------------------------\n\nExporting a suite to wandb is the same as exporting a check. The display\nin wand will have a section per check.\n\nOn default if you export a suite to wandb without a wandb run active it\nwill create a project with the name deepchecks and the suite\\'s name in\nthe config and send the results there.\n"
      ]
    },
    {
      "cell_type": "code",
      "execution_count": null,
      "metadata": {
        "collapsed": false
      },
      "outputs": [],
      "source": [
        "from deepchecks.tabular.suites import full_suite\n\nsuite = full_suite()"
      ]
    },
    {
      "cell_type": "code",
      "execution_count": null,
      "metadata": {
        "collapsed": false
      },
      "outputs": [],
      "source": [
        "suite_result = suite.run(train_dataset=train_dataset, test_dataset=test_dataset, model=model)\nsuite_result.to_wandb()"
      ]
    },
    {
      "cell_type": "markdown",
      "metadata": {},
      "source": [
        "You can also set all the kwargs the wandb.init will get:\n"
      ]
    },
    {
      "cell_type": "code",
      "execution_count": null,
      "metadata": {
        "collapsed": false
      },
      "outputs": [],
      "source": [
        "suite_result.to_wandb(project='my-suite-project', config={'suite-name': 'full-suite'})"
      ]
    }
  ],
  "metadata": {
    "kernelspec": {
      "display_name": "Python 3",
      "language": "python",
      "name": "python3"
    },
    "language_info": {
      "codemirror_mode": {
        "name": "ipython",
        "version": 3
      },
      "file_extension": ".py",
      "mimetype": "text/x-python",
      "name": "python",
      "nbconvert_exporter": "python",
      "pygments_lexer": "ipython3",
      "version": "3.8.10"
    }
  },
  "nbformat": 4,
  "nbformat_minor": 0
}