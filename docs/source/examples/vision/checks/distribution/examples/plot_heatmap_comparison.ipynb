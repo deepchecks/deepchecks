{
  "cells": [
    {
      "cell_type": "code",
      "execution_count": null,
      "metadata": {
        "collapsed": false
      },
      "outputs": [],
      "source": [
        "%matplotlib inline"
      ]
    },
    {
      "cell_type": "markdown",
      "metadata": {},
      "source": [
        "Heatmap Comparison\n==================\n\nThis notebooks provides an overview for using and understanding Heatmap\ncomparison check.\n\n**Structure:**\n\n-   [What is a heatmap comparison?](#what-is-a-heatmap-comparison)\n-   [Run check on a Classification\n    task](#run-the-check-on-a-classification-task-mnist)\n-   [Run check on an Object Detection\n    task](#run-the-check-on-an-object-detection-task-coco)\n-   [Limit to specific classes](#limit-to-specific-classes)\n\nWhat is a heatmap comparison?\n-----------------------------\n\nHeatmap comparison is one method of detecting data drift in image data.\nData drift is simply a change in the distribution of data over time or\nbetween several distinct cases. It is also one of the top reasons of a\nmachine learning model performance degrades over time and when applied\nto new scenarios. A traditional method to detect such drift would be\nusing statistical methods. Such an approach is covered by several\nbuiltin check in the deepchecks.vision package, such as the [Label Drift\nCheck](/examples/vision/checks/distribution/test_autoexamples/plot_train_test_label_drift.html)\nor the [Image Dataset Drift\nCheck](/examples/vision/checks/distribution/test_autoexamples/plot_train_test_prediction_drift.html).\n\nAn additional, more intuitive approach for visualizing and detecting\ndrift in image data is simple inspecting the average images. The\n**Heatmap comparison** check simply computes an average image for all\nimages in each dataset, train and test, and visualized both the average\nimages and the difference between the average images. That way, if there\na significant average difference between two datasets it would be\napparent in these average images. For example, if training data contains\nsignificantly more images with sky, we will see that the average train\nimage is brighter in the upper half of the image.\n\n### Comparing Labels for Object Detection\n\nFor object detection tasks, it is also possible to visualize Label Drift\n(as a complementary approach to the Label Drif check). This can be done\nby displaying the average of bounding box label coverage within the\nimages in each dataset. This is done by producing label maps per image,\nin which each pixel inside a bounding box is white and the rest and\nblack. Then, the average of all these images is displayed.\n\nIn our previous example, the drift caused by more images with sky in\ntraining would also be visible by a lack of labels in the upper half of\nthe average label map of the training data, due to lack of labels in the\nsky.\n\nRun the check on a Classification task (MNIST)\n----------------------------------------------\n"
      ]
    },
    {
      "cell_type": "markdown",
      "metadata": {},
      "source": [
        "Imports\n=======\n"
      ]
    },
    {
      "cell_type": "code",
      "execution_count": null,
      "metadata": {
        "collapsed": false
      },
      "outputs": [],
      "source": [
        "from deepchecks.vision.checks import TrainTestLabelDrift"
      ]
    },
    {
      "cell_type": "markdown",
      "metadata": {},
      "source": [
        "Loading Data\n============\n"
      ]
    },
    {
      "cell_type": "code",
      "execution_count": null,
      "metadata": {
        "collapsed": false
      },
      "outputs": [],
      "source": [
        "from deepchecks.vision.datasets.classification.mnist import load_dataset\n\nmnist_data_train = load_dataset(train=True, batch_size=64, object_type='VisionData')\nmnist_data_test = load_dataset(train=False, batch_size=64, object_type='VisionData')"
      ]
    },
    {
      "cell_type": "markdown",
      "metadata": {},
      "source": [
        "Running HeatmapComparison on classification\n===========================================\n"
      ]
    },
    {
      "cell_type": "code",
      "execution_count": null,
      "metadata": {
        "collapsed": false
      },
      "outputs": [],
      "source": [
        "from deepchecks.vision.checks.distribution import HeatmapComparison\n\ncheck = HeatmapComparison()\ncheck.run(mnist_data_train, mnist_data_test)"
      ]
    },
    {
      "cell_type": "markdown",
      "metadata": {},
      "source": [
        "Run the check on an Object Detection task (COCO)\n================================================\n"
      ]
    },
    {
      "cell_type": "code",
      "execution_count": null,
      "metadata": {
        "collapsed": false
      },
      "outputs": [],
      "source": [
        "from deepchecks.vision.datasets.detection.coco import load_dataset\n\ntrain_ds = load_dataset(train=True, object_type='VisionData')\ntest_ds = load_dataset(train=False, object_type='VisionData')"
      ]
    },
    {
      "cell_type": "code",
      "execution_count": null,
      "metadata": {
        "collapsed": false
      },
      "outputs": [],
      "source": [
        "check = HeatmapComparison()\ncheck.run(train_ds, test_ds)"
      ]
    },
    {
      "cell_type": "markdown",
      "metadata": {},
      "source": [
        "Limit to specific classes\n=========================\n\nThe check can be limited to compare the bounding box coverage for a\nspecific set of classes. We\\'ll use that to inspect only objects labeled\nas human (class\\_id 0)\n"
      ]
    },
    {
      "cell_type": "code",
      "execution_count": null,
      "metadata": {
        "collapsed": false
      },
      "outputs": [],
      "source": [
        "check = HeatmapComparison(classes_to_display=['person'])\ncheck.run(train_ds, test_ds)"
      ]
    },
    {
      "cell_type": "markdown",
      "metadata": {},
      "source": [
        "We can see a significant increased abundance of humans in the test data,\nlocated in the images lower center!\n"
      ]
    }
  ],
  "metadata": {
    "kernelspec": {
      "display_name": "Python 3",
      "language": "python",
      "name": "python3"
    },
    "language_info": {
      "codemirror_mode": {
        "name": "ipython",
        "version": 3
      },
      "file_extension": ".py",
      "mimetype": "text/x-python",
      "name": "python",
      "nbconvert_exporter": "python",
      "pygments_lexer": "ipython3",
      "version": "3.8.10"
    }
  },
  "nbformat": 4,
  "nbformat_minor": 0
}