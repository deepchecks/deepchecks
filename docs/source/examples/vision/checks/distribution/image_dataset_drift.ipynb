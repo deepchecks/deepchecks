{
 "cells": [
  {
   "cell_type": "markdown",
   "id": "104dbd2d",
   "metadata": {},
   "source": [
    "# Image Dataset Drift \n",
    "\n",
    "\n",
    "This notebooks provides an overview for using and understanding the image dataset drift check, used to detect drift in simple image properties between train and test datasets.\n",
    "\n",
    "**Structure:**\n",
    "\n",
    "- [What is a dataset drift?](#what_is_dataset_drift)\n",
    "- [Loading the data](#load_data_model)\n",
    "- [Run the check](#run_check)\n",
    "- [Define a condition](#define_condition)\n"
   ]
  },
  {
   "cell_type": "markdown",
   "id": "1de0a7d8",
   "metadata": {},
   "source": [
    "<a id='what_is_dataset_drift'></a>\n",
    "## What is a dataset drift?\n",
    "\n",
    "Data drift is simply a change in the distribution of data over time. It is also one of the top reasons of a machine learning model performance degrades over time.\n",
    "\n",
    "Specifically, a whole dataset drift, or a multivariate dataset drift, occurs when there is a change in the relation between input features.\n",
    "\n",
    "Causes of data drift include:\n",
    "\n",
    "- Natural drift in the data, such as lighting (brightness) changes between summer and winter.\n",
    "- Upstream process changes, such as a camera being replaced that has a different lens, which makes images sharper.\n",
    "- Data quality issues, such as a malfunctioning camera that always returns a black image.\n",
    "- Data pipeline errors, such as a change in image augmentations done in preprocessing.\n",
    "\n",
    "In the context of machine learning, drift between the training set and the test set which is not due to augmentation will likely make the model prone to error. In other words, if the model was trained on data that is different from the current test data, it will probably make more mistakes predicting the target variable."
   ]
  },
  {
   "cell_type": "markdown",
   "id": "3493e545",
   "metadata": {},
   "source": [
    "### How deepchecks detects dataset drift\n",
    "\n",
    "There are many methods to detect feature drift. Some of them are statistical methods that aim to measure difference between distribution of 2 given sets. This methods are more suited to univariate distributions and are primarily used to detect drift between 2 subsets of a single feature.\n",
    "\n",
    "Measuring a multivariate data drift is a bit more challenging. In the image dataset drift check, the multivariate drift is measured by training a classifier that detects which samples come from a known distribution and defines the drift by the accuracy of this classifier. \n",
    "\n",
    "Practically, the check concatanates the train and the test sets, and assigns label 0 to samples that come from the training set, and 1 to those who are from the test set. Then, we train a binary classifer of type [Histogram-based Gradient Boosting Classification Tree](https://scikit-learn.org/stable/modules/generated/sklearn.ensemble.HistGradientBoostingClassifier.html), and measure the drift score from the AUC score of this classifier.\n",
    "\n",
    "As the classifier is a tree model, that cannot run on the images themselves, the check calculates properties for each image (such as brightness, aspect ratio etc.) and uses them as input features to the classifier."
   ]
  },
  {
   "cell_type": "markdown",
   "id": "ca784ea9-acc7-42c6-9715-2693c5e4fd8a",
   "metadata": {},
   "source": [
    "### Imports"
   ]
  },
  {
   "cell_type": "code",
   "execution_count": 1,
   "id": "fa18287a-5bbb-4e23-a99b-fc0650c89f6d",
   "metadata": {},
   "outputs": [],
   "source": [
    "import numpy as np\n",
    "\n",
    "from deepchecks.vision.dataset import VisionData\n",
    "from deepchecks.vision.checks import ImageDatasetDrift"
   ]
  },
  {
   "cell_type": "markdown",
   "id": "c5eb6f75-12f0-4b09-b530-f1f8ebd7c782",
   "metadata": {},
   "source": [
    "<a id='load_data_model'></a>\n",
    "## Loading the data"
   ]
  },
  {
   "cell_type": "code",
   "execution_count": 2,
   "id": "93feb429-f28c-4408-8922-dfa27d85164e",
   "metadata": {},
   "outputs": [],
   "source": [
    "from deepchecks.vision.datasets.detection.coco import load_dataset\n",
    "\n",
    "train_dataloader = load_dataset(train=True)\n",
    "test_dataloader = load_dataset(train=False)"
   ]
  },
  {
   "cell_type": "markdown",
   "id": "ab10d1ab-5082-4e18-a92f-12c9028ce473",
   "metadata": {},
   "source": [
    "Create custom formatter to read coco dataset (comes as PIL Images):"
   ]
  },
  {
   "cell_type": "code",
   "execution_count": 3,
   "id": "9f541916-5fcf-4030-a9fb-ccdf513d5c14",
   "metadata": {},
   "outputs": [],
   "source": [
    "def pil_formatter(batch):\n",
    "    return [np.array(img) for img in batch[0]]"
   ]
  },
  {
   "cell_type": "markdown",
   "id": "ae2d3681-b9e7-4ea5-b945-73bbbf19829a",
   "metadata": {},
   "source": [
    "Define train and tests VisionData classes:"
   ]
  },
  {
   "cell_type": "code",
   "execution_count": 4,
   "id": "e1a2304d-6b95-4e7c-a99c-a135a1dab6a8",
   "metadata": {},
   "outputs": [],
   "source": [
    "from deepchecks.vision.utils.image_formatters import ImageFormatter\n",
    "from deepchecks.vision.utils.detection_formatters import DetectionLabelFormatter\n",
    "\n",
    "train_ds = VisionData(train_dataloader, image_formatter=ImageFormatter(pil_formatter), label_formatter=DetectionLabelFormatter(lambda x: x))\n",
    "test_ds = VisionData(train_dataloader, image_formatter=ImageFormatter(pil_formatter), label_formatter=DetectionLabelFormatter(lambda x: x))"
   ]
  },
  {
   "cell_type": "markdown",
   "id": "37a58b30-1fdf-4f86-b488-c08bc0565b02",
   "metadata": {},
   "source": [
    "<a id='run_check'></a>\n",
    "## Run the check"
   ]
  },
  {
   "cell_type": "markdown",
   "id": "6855ff77-d647-4902-8fa5-c0f3dd46db14",
   "metadata": {},
   "source": [
    "### without drift"
   ]
  },
  {
   "cell_type": "code",
   "execution_count": 5,
   "id": "35847e81-6d22-406e-b522-69aaa7df03ae",
   "metadata": {},
   "outputs": [
    {
     "data": {
      "text/html": [
       "<h4>Image Dataset Drift</h4><p>    Calculate drift between the entire train and test datasets (based on image properties) using a trained model. <a href=\"https://docs.deepchecks.com/en/0.5.0.dev0/examples/vision/checks/distribution/image_dataset_drift.html?utm_source=display_output&utm_medium=referral&utm_campaign=check_link\" target=\"_blank\">Read More...</a></p><h5>Additional Outputs</h5><p><b>&#x2713;</b> Nothing found</p>"
      ]
     },
     "metadata": {},
     "output_type": "display_data"
    }
   ],
   "source": [
    "check = ImageDatasetDrift()\n",
    "check.run(train_dataset=train_ds, test_dataset=test_ds)"
   ]
  },
  {
   "cell_type": "markdown",
   "id": "e68d7b6f-f829-42ae-8c0a-ce5ff44d8bad",
   "metadata": {},
   "source": [
    "### Insert drift"
   ]
  },
  {
   "cell_type": "code",
   "execution_count": 13,
   "id": "67ec1a29-5188-4374-af9d-aed8b7f01723",
   "metadata": {},
   "outputs": [],
   "source": [
    "def add_brightness(img):\n",
    "    reverse = 255 - img\n",
    "    addition_of_brightness = (reverse * 0.07).astype(int)\n",
    "    return img + addition_of_brightness\n",
    "\n",
    "def pil_drift_formatter(batch):\n",
    "    return [add_brightness(np.array(img)) for img in batch[0]]"
   ]
  },
  {
   "cell_type": "code",
   "execution_count": 14,
   "id": "5ad211fa-9a79-4d15-a412-43ec0c4e7d18",
   "metadata": {},
   "outputs": [],
   "source": [
    "# Use the pil_drift_formatter to insert extra brightness to the train dataset:\n",
    "train_ds = VisionData(train_dataloader, image_formatter=ImageFormatter(pil_drift_formatter), label_formatter=DetectionLabelFormatter(lambda x: x))\n",
    "test_ds = VisionData(test_dataloader, image_formatter=ImageFormatter(pil_formatter), label_formatter=DetectionLabelFormatter(lambda x: x))"
   ]
  },
  {
   "cell_type": "markdown",
   "id": "c00e5d19-ee69-4736-8d18-412ad915298c",
   "metadata": {},
   "source": [
    "### Run the check again"
   ]
  },
  {
   "cell_type": "code",
   "execution_count": 15,
   "id": "3251e7a9-35aa-46fd-b846-a5ac27b18148",
   "metadata": {},
   "outputs": [
    {
     "data": {
      "text/html": [
       "<h4>Image Dataset Drift</h4><p>    Calculate drift between the entire train and test datasets (based on image properties) using a trained model. <a href=\"https://docs.deepchecks.com/en/0.5.0.dev0/examples/vision/checks/distribution/image_dataset_drift.html?utm_source=display_output&utm_medium=referral&utm_campaign=check_link\" target=\"_blank\">Read More...</a></p><h5>Additional Outputs</h5><div>\n",
       "        <span>\n",
       "        The shown features are the image properties (brightness, aspect ratio, etc.) that are most important for the\n",
       "        domain classifier - the domain_classifier trained to distinguish between the train and test datasets.<br>\n",
       "        </span>\n",
       "        </div><div>\n",
       "    <span>\n",
       "    The percents of explained dataset difference are the importance values for the feature calculated\n",
       "    using `permutation_importance`.\n",
       "    </span><br><br>\n",
       "    </div>"
      ]
     },
     "metadata": {},
     "output_type": "display_data"
    },
    {
     "data": {
      "application/vnd.plotly.v1+json": {
       "config": {
        "plotlyServerURL": "https://plot.ly"
       },
       "data": [
        {
         "base": 0,
         "marker": {
          "color": "#01B8AA"
         },
         "offsetgroup": "0",
         "orientation": "h",
         "showlegend": false,
         "type": "bar",
         "x": [
          0.1
         ],
         "y": [
          "Drift Score"
         ]
        },
        {
         "base": 0.1,
         "marker": {
          "color": "#F2C80F"
         },
         "offsetgroup": "0",
         "orientation": "h",
         "showlegend": false,
         "type": "bar",
         "x": [
          0.1
         ],
         "y": [
          "Drift Score"
         ]
        },
        {
         "base": 0.2,
         "marker": {
          "color": "#FE9666"
         },
         "offsetgroup": "0",
         "orientation": "h",
         "showlegend": false,
         "type": "bar",
         "x": [
          0.09999999999999998
         ],
         "y": [
          "Drift Score"
         ]
        },
        {
         "base": 0.3,
         "marker": {
          "color": "#FD625E"
         },
         "offsetgroup": "0",
         "orientation": "h",
         "showlegend": false,
         "type": "bar",
         "x": [
          0.0342105263157893
         ],
         "y": [
          "Drift Score"
         ]
        }
       ],
       "layout": {
        "height": 200,
        "template": {
         "data": {
          "bar": [
           {
            "error_x": {
             "color": "#2a3f5f"
            },
            "error_y": {
             "color": "#2a3f5f"
            },
            "marker": {
             "line": {
              "color": "#E5ECF6",
              "width": 0.5
             },
             "pattern": {
              "fillmode": "overlay",
              "size": 10,
              "solidity": 0.2
             }
            },
            "type": "bar"
           }
          ],
          "barpolar": [
           {
            "marker": {
             "line": {
              "color": "#E5ECF6",
              "width": 0.5
             },
             "pattern": {
              "fillmode": "overlay",
              "size": 10,
              "solidity": 0.2
             }
            },
            "type": "barpolar"
           }
          ],
          "carpet": [
           {
            "aaxis": {
             "endlinecolor": "#2a3f5f",
             "gridcolor": "white",
             "linecolor": "white",
             "minorgridcolor": "white",
             "startlinecolor": "#2a3f5f"
            },
            "baxis": {
             "endlinecolor": "#2a3f5f",
             "gridcolor": "white",
             "linecolor": "white",
             "minorgridcolor": "white",
             "startlinecolor": "#2a3f5f"
            },
            "type": "carpet"
           }
          ],
          "choropleth": [
           {
            "colorbar": {
             "outlinewidth": 0,
             "ticks": ""
            },
            "type": "choropleth"
           }
          ],
          "contour": [
           {
            "colorbar": {
             "outlinewidth": 0,
             "ticks": ""
            },
            "colorscale": [
             [
              0,
              "#0d0887"
             ],
             [
              0.1111111111111111,
              "#46039f"
             ],
             [
              0.2222222222222222,
              "#7201a8"
             ],
             [
              0.3333333333333333,
              "#9c179e"
             ],
             [
              0.4444444444444444,
              "#bd3786"
             ],
             [
              0.5555555555555556,
              "#d8576b"
             ],
             [
              0.6666666666666666,
              "#ed7953"
             ],
             [
              0.7777777777777778,
              "#fb9f3a"
             ],
             [
              0.8888888888888888,
              "#fdca26"
             ],
             [
              1,
              "#f0f921"
             ]
            ],
            "type": "contour"
           }
          ],
          "contourcarpet": [
           {
            "colorbar": {
             "outlinewidth": 0,
             "ticks": ""
            },
            "type": "contourcarpet"
           }
          ],
          "heatmap": [
           {
            "colorbar": {
             "outlinewidth": 0,
             "ticks": ""
            },
            "colorscale": [
             [
              0,
              "#0d0887"
             ],
             [
              0.1111111111111111,
              "#46039f"
             ],
             [
              0.2222222222222222,
              "#7201a8"
             ],
             [
              0.3333333333333333,
              "#9c179e"
             ],
             [
              0.4444444444444444,
              "#bd3786"
             ],
             [
              0.5555555555555556,
              "#d8576b"
             ],
             [
              0.6666666666666666,
              "#ed7953"
             ],
             [
              0.7777777777777778,
              "#fb9f3a"
             ],
             [
              0.8888888888888888,
              "#fdca26"
             ],
             [
              1,
              "#f0f921"
             ]
            ],
            "type": "heatmap"
           }
          ],
          "heatmapgl": [
           {
            "colorbar": {
             "outlinewidth": 0,
             "ticks": ""
            },
            "colorscale": [
             [
              0,
              "#0d0887"
             ],
             [
              0.1111111111111111,
              "#46039f"
             ],
             [
              0.2222222222222222,
              "#7201a8"
             ],
             [
              0.3333333333333333,
              "#9c179e"
             ],
             [
              0.4444444444444444,
              "#bd3786"
             ],
             [
              0.5555555555555556,
              "#d8576b"
             ],
             [
              0.6666666666666666,
              "#ed7953"
             ],
             [
              0.7777777777777778,
              "#fb9f3a"
             ],
             [
              0.8888888888888888,
              "#fdca26"
             ],
             [
              1,
              "#f0f921"
             ]
            ],
            "type": "heatmapgl"
           }
          ],
          "histogram": [
           {
            "marker": {
             "pattern": {
              "fillmode": "overlay",
              "size": 10,
              "solidity": 0.2
             }
            },
            "type": "histogram"
           }
          ],
          "histogram2d": [
           {
            "colorbar": {
             "outlinewidth": 0,
             "ticks": ""
            },
            "colorscale": [
             [
              0,
              "#0d0887"
             ],
             [
              0.1111111111111111,
              "#46039f"
             ],
             [
              0.2222222222222222,
              "#7201a8"
             ],
             [
              0.3333333333333333,
              "#9c179e"
             ],
             [
              0.4444444444444444,
              "#bd3786"
             ],
             [
              0.5555555555555556,
              "#d8576b"
             ],
             [
              0.6666666666666666,
              "#ed7953"
             ],
             [
              0.7777777777777778,
              "#fb9f3a"
             ],
             [
              0.8888888888888888,
              "#fdca26"
             ],
             [
              1,
              "#f0f921"
             ]
            ],
            "type": "histogram2d"
           }
          ],
          "histogram2dcontour": [
           {
            "colorbar": {
             "outlinewidth": 0,
             "ticks": ""
            },
            "colorscale": [
             [
              0,
              "#0d0887"
             ],
             [
              0.1111111111111111,
              "#46039f"
             ],
             [
              0.2222222222222222,
              "#7201a8"
             ],
             [
              0.3333333333333333,
              "#9c179e"
             ],
             [
              0.4444444444444444,
              "#bd3786"
             ],
             [
              0.5555555555555556,
              "#d8576b"
             ],
             [
              0.6666666666666666,
              "#ed7953"
             ],
             [
              0.7777777777777778,
              "#fb9f3a"
             ],
             [
              0.8888888888888888,
              "#fdca26"
             ],
             [
              1,
              "#f0f921"
             ]
            ],
            "type": "histogram2dcontour"
           }
          ],
          "mesh3d": [
           {
            "colorbar": {
             "outlinewidth": 0,
             "ticks": ""
            },
            "type": "mesh3d"
           }
          ],
          "parcoords": [
           {
            "line": {
             "colorbar": {
              "outlinewidth": 0,
              "ticks": ""
             }
            },
            "type": "parcoords"
           }
          ],
          "pie": [
           {
            "automargin": true,
            "type": "pie"
           }
          ],
          "scatter": [
           {
            "marker": {
             "colorbar": {
              "outlinewidth": 0,
              "ticks": ""
             }
            },
            "type": "scatter"
           }
          ],
          "scatter3d": [
           {
            "line": {
             "colorbar": {
              "outlinewidth": 0,
              "ticks": ""
             }
            },
            "marker": {
             "colorbar": {
              "outlinewidth": 0,
              "ticks": ""
             }
            },
            "type": "scatter3d"
           }
          ],
          "scattercarpet": [
           {
            "marker": {
             "colorbar": {
              "outlinewidth": 0,
              "ticks": ""
             }
            },
            "type": "scattercarpet"
           }
          ],
          "scattergeo": [
           {
            "marker": {
             "colorbar": {
              "outlinewidth": 0,
              "ticks": ""
             }
            },
            "type": "scattergeo"
           }
          ],
          "scattergl": [
           {
            "marker": {
             "colorbar": {
              "outlinewidth": 0,
              "ticks": ""
             }
            },
            "type": "scattergl"
           }
          ],
          "scattermapbox": [
           {
            "marker": {
             "colorbar": {
              "outlinewidth": 0,
              "ticks": ""
             }
            },
            "type": "scattermapbox"
           }
          ],
          "scatterpolar": [
           {
            "marker": {
             "colorbar": {
              "outlinewidth": 0,
              "ticks": ""
             }
            },
            "type": "scatterpolar"
           }
          ],
          "scatterpolargl": [
           {
            "marker": {
             "colorbar": {
              "outlinewidth": 0,
              "ticks": ""
             }
            },
            "type": "scatterpolargl"
           }
          ],
          "scatterternary": [
           {
            "marker": {
             "colorbar": {
              "outlinewidth": 0,
              "ticks": ""
             }
            },
            "type": "scatterternary"
           }
          ],
          "surface": [
           {
            "colorbar": {
             "outlinewidth": 0,
             "ticks": ""
            },
            "colorscale": [
             [
              0,
              "#0d0887"
             ],
             [
              0.1111111111111111,
              "#46039f"
             ],
             [
              0.2222222222222222,
              "#7201a8"
             ],
             [
              0.3333333333333333,
              "#9c179e"
             ],
             [
              0.4444444444444444,
              "#bd3786"
             ],
             [
              0.5555555555555556,
              "#d8576b"
             ],
             [
              0.6666666666666666,
              "#ed7953"
             ],
             [
              0.7777777777777778,
              "#fb9f3a"
             ],
             [
              0.8888888888888888,
              "#fdca26"
             ],
             [
              1,
              "#f0f921"
             ]
            ],
            "type": "surface"
           }
          ],
          "table": [
           {
            "cells": {
             "fill": {
              "color": "#EBF0F8"
             },
             "line": {
              "color": "white"
             }
            },
            "header": {
             "fill": {
              "color": "#C8D4E3"
             },
             "line": {
              "color": "white"
             }
            },
            "type": "table"
           }
          ]
         },
         "layout": {
          "annotationdefaults": {
           "arrowcolor": "#2a3f5f",
           "arrowhead": 0,
           "arrowwidth": 1
          },
          "autotypenumbers": "strict",
          "coloraxis": {
           "colorbar": {
            "outlinewidth": 0,
            "ticks": ""
           }
          },
          "colorscale": {
           "diverging": [
            [
             0,
             "#8e0152"
            ],
            [
             0.1,
             "#c51b7d"
            ],
            [
             0.2,
             "#de77ae"
            ],
            [
             0.3,
             "#f1b6da"
            ],
            [
             0.4,
             "#fde0ef"
            ],
            [
             0.5,
             "#f7f7f7"
            ],
            [
             0.6,
             "#e6f5d0"
            ],
            [
             0.7,
             "#b8e186"
            ],
            [
             0.8,
             "#7fbc41"
            ],
            [
             0.9,
             "#4d9221"
            ],
            [
             1,
             "#276419"
            ]
           ],
           "sequential": [
            [
             0,
             "#0d0887"
            ],
            [
             0.1111111111111111,
             "#46039f"
            ],
            [
             0.2222222222222222,
             "#7201a8"
            ],
            [
             0.3333333333333333,
             "#9c179e"
            ],
            [
             0.4444444444444444,
             "#bd3786"
            ],
            [
             0.5555555555555556,
             "#d8576b"
            ],
            [
             0.6666666666666666,
             "#ed7953"
            ],
            [
             0.7777777777777778,
             "#fb9f3a"
            ],
            [
             0.8888888888888888,
             "#fdca26"
            ],
            [
             1,
             "#f0f921"
            ]
           ],
           "sequentialminus": [
            [
             0,
             "#0d0887"
            ],
            [
             0.1111111111111111,
             "#46039f"
            ],
            [
             0.2222222222222222,
             "#7201a8"
            ],
            [
             0.3333333333333333,
             "#9c179e"
            ],
            [
             0.4444444444444444,
             "#bd3786"
            ],
            [
             0.5555555555555556,
             "#d8576b"
            ],
            [
             0.6666666666666666,
             "#ed7953"
            ],
            [
             0.7777777777777778,
             "#fb9f3a"
            ],
            [
             0.8888888888888888,
             "#fdca26"
            ],
            [
             1,
             "#f0f921"
            ]
           ]
          },
          "colorway": [
           "#636efa",
           "#EF553B",
           "#00cc96",
           "#ab63fa",
           "#FFA15A",
           "#19d3f3",
           "#FF6692",
           "#B6E880",
           "#FF97FF",
           "#FECB52"
          ],
          "font": {
           "color": "#2a3f5f"
          },
          "geo": {
           "bgcolor": "white",
           "lakecolor": "white",
           "landcolor": "#E5ECF6",
           "showlakes": true,
           "showland": true,
           "subunitcolor": "white"
          },
          "hoverlabel": {
           "align": "left"
          },
          "hovermode": "closest",
          "mapbox": {
           "style": "light"
          },
          "paper_bgcolor": "white",
          "plot_bgcolor": "#E5ECF6",
          "polar": {
           "angularaxis": {
            "gridcolor": "white",
            "linecolor": "white",
            "ticks": ""
           },
           "bgcolor": "#E5ECF6",
           "radialaxis": {
            "gridcolor": "white",
            "linecolor": "white",
            "ticks": ""
           }
          },
          "scene": {
           "xaxis": {
            "backgroundcolor": "#E5ECF6",
            "gridcolor": "white",
            "gridwidth": 2,
            "linecolor": "white",
            "showbackground": true,
            "ticks": "",
            "zerolinecolor": "white"
           },
           "yaxis": {
            "backgroundcolor": "#E5ECF6",
            "gridcolor": "white",
            "gridwidth": 2,
            "linecolor": "white",
            "showbackground": true,
            "ticks": "",
            "zerolinecolor": "white"
           },
           "zaxis": {
            "backgroundcolor": "#E5ECF6",
            "gridcolor": "white",
            "gridwidth": 2,
            "linecolor": "white",
            "showbackground": true,
            "ticks": "",
            "zerolinecolor": "white"
           }
          },
          "shapedefaults": {
           "line": {
            "color": "#2a3f5f"
           }
          },
          "ternary": {
           "aaxis": {
            "gridcolor": "white",
            "linecolor": "white",
            "ticks": ""
           },
           "baxis": {
            "gridcolor": "white",
            "linecolor": "white",
            "ticks": ""
           },
           "bgcolor": "#E5ECF6",
           "caxis": {
            "gridcolor": "white",
            "linecolor": "white",
            "ticks": ""
           }
          },
          "title": {
           "x": 0.05
          },
          "xaxis": {
           "automargin": true,
           "gridcolor": "white",
           "linecolor": "white",
           "ticks": "",
           "title": {
            "standoff": 15
           },
           "zerolinecolor": "white",
           "zerolinewidth": 2
          },
          "yaxis": {
           "automargin": true,
           "gridcolor": "white",
           "linecolor": "white",
           "ticks": "",
           "title": {
            "standoff": 15
           },
           "zerolinecolor": "white",
           "zerolinewidth": 2
          }
         }
        },
        "title": {
         "text": "Drift Score - Whole Dataset Total"
        },
        "width": 700,
        "xaxis": {
         "dtick": 0.05,
         "fixedrange": true,
         "gridcolor": "black",
         "linecolor": "black",
         "range": [
          0,
          0.43421052631578927
         ],
         "showgrid": false,
         "title": {
          "text": "Drift score"
         },
         "type": "linear"
        },
        "yaxis": {
         "autorange": true,
         "color": "black",
         "fixedrange": true,
         "range": [
          -0.5,
          0.5
         ],
         "showgrid": false,
         "showline": false,
         "showticklabels": false,
         "type": "category",
         "zeroline": false
        }
       }
      },
      "image/png": "[encoded data removed]",
      "text/html": [
       "<div>                            <div id=\"31edeb53-c19b-40cd-9fee-ef1f498a1e8a\" class=\"plotly-graph-div\" style=\"height:200px; width:700px;\"></div>            <script type=\"text/javascript\">                require([\"plotly\"], function(Plotly) {                    window.PLOTLYENV=window.PLOTLYENV || {};                                    if (document.getElementById(\"31edeb53-c19b-40cd-9fee-ef1f498a1e8a\")) {                    Plotly.newPlot(                        \"31edeb53-c19b-40cd-9fee-ef1f498a1e8a\",                        [{\"base\":0,\"marker\":{\"color\":\"#01B8AA\"},\"offsetgroup\":\"0\",\"orientation\":\"h\",\"showlegend\":false,\"x\":[0.1],\"y\":[\"Drift Score\"],\"type\":\"bar\"},{\"base\":0.1,\"marker\":{\"color\":\"#F2C80F\"},\"offsetgroup\":\"0\",\"orientation\":\"h\",\"showlegend\":false,\"x\":[0.1],\"y\":[\"Drift Score\"],\"type\":\"bar\"},{\"base\":0.2,\"marker\":{\"color\":\"#FE9666\"},\"offsetgroup\":\"0\",\"orientation\":\"h\",\"showlegend\":false,\"x\":[0.09999999999999998],\"y\":[\"Drift Score\"],\"type\":\"bar\"},{\"base\":0.3,\"marker\":{\"color\":\"#FD625E\"},\"offsetgroup\":\"0\",\"orientation\":\"h\",\"showlegend\":false,\"x\":[0.0342105263157893],\"y\":[\"Drift Score\"],\"type\":\"bar\"}],                        {\"height\":200,\"title\":{\"text\":\"Drift Score - Whole Dataset Total\"},\"width\":700,\"xaxis\":{\"dtick\":0.05,\"fixedrange\":true,\"gridcolor\":\"black\",\"linecolor\":\"black\",\"range\":[0,0.43421052631578927],\"showgrid\":false,\"title\":{\"text\":\"Drift score\"}},\"yaxis\":{\"color\":\"black\",\"fixedrange\":true,\"showgrid\":false,\"showline\":false,\"showticklabels\":false,\"zeroline\":false},\"template\":{\"data\":{\"bar\":[{\"error_x\":{\"color\":\"#2a3f5f\"},\"error_y\":{\"color\":\"#2a3f5f\"},\"marker\":{\"line\":{\"color\":\"#E5ECF6\",\"width\":0.5},\"pattern\":{\"fillmode\":\"overlay\",\"size\":10,\"solidity\":0.2}},\"type\":\"bar\"}],\"barpolar\":[{\"marker\":{\"line\":{\"color\":\"#E5ECF6\",\"width\":0.5},\"pattern\":{\"fillmode\":\"overlay\",\"size\":10,\"solidity\":0.2}},\"type\":\"barpolar\"}],\"carpet\":[{\"aaxis\":{\"endlinecolor\":\"#2a3f5f\",\"gridcolor\":\"white\",\"linecolor\":\"white\",\"minorgridcolor\":\"white\",\"startlinecolor\":\"#2a3f5f\"},\"baxis\":{\"endlinecolor\":\"#2a3f5f\",\"gridcolor\":\"white\",\"linecolor\":\"white\",\"minorgridcolor\":\"white\",\"startlinecolor\":\"#2a3f5f\"},\"type\":\"carpet\"}],\"choropleth\":[{\"colorbar\":{\"outlinewidth\":0,\"ticks\":\"\"},\"type\":\"choropleth\"}],\"contour\":[{\"colorbar\":{\"outlinewidth\":0,\"ticks\":\"\"},\"colorscale\":[[0.0,\"#0d0887\"],[0.1111111111111111,\"#46039f\"],[0.2222222222222222,\"#7201a8\"],[0.3333333333333333,\"#9c179e\"],[0.4444444444444444,\"#bd3786\"],[0.5555555555555556,\"#d8576b\"],[0.6666666666666666,\"#ed7953\"],[0.7777777777777778,\"#fb9f3a\"],[0.8888888888888888,\"#fdca26\"],[1.0,\"#f0f921\"]],\"type\":\"contour\"}],\"contourcarpet\":[{\"colorbar\":{\"outlinewidth\":0,\"ticks\":\"\"},\"type\":\"contourcarpet\"}],\"heatmap\":[{\"colorbar\":{\"outlinewidth\":0,\"ticks\":\"\"},\"colorscale\":[[0.0,\"#0d0887\"],[0.1111111111111111,\"#46039f\"],[0.2222222222222222,\"#7201a8\"],[0.3333333333333333,\"#9c179e\"],[0.4444444444444444,\"#bd3786\"],[0.5555555555555556,\"#d8576b\"],[0.6666666666666666,\"#ed7953\"],[0.7777777777777778,\"#fb9f3a\"],[0.8888888888888888,\"#fdca26\"],[1.0,\"#f0f921\"]],\"type\":\"heatmap\"}],\"heatmapgl\":[{\"colorbar\":{\"outlinewidth\":0,\"ticks\":\"\"},\"colorscale\":[[0.0,\"#0d0887\"],[0.1111111111111111,\"#46039f\"],[0.2222222222222222,\"#7201a8\"],[0.3333333333333333,\"#9c179e\"],[0.4444444444444444,\"#bd3786\"],[0.5555555555555556,\"#d8576b\"],[0.6666666666666666,\"#ed7953\"],[0.7777777777777778,\"#fb9f3a\"],[0.8888888888888888,\"#fdca26\"],[1.0,\"#f0f921\"]],\"type\":\"heatmapgl\"}],\"histogram\":[{\"marker\":{\"pattern\":{\"fillmode\":\"overlay\",\"size\":10,\"solidity\":0.2}},\"type\":\"histogram\"}],\"histogram2d\":[{\"colorbar\":{\"outlinewidth\":0,\"ticks\":\"\"},\"colorscale\":[[0.0,\"#0d0887\"],[0.1111111111111111,\"#46039f\"],[0.2222222222222222,\"#7201a8\"],[0.3333333333333333,\"#9c179e\"],[0.4444444444444444,\"#bd3786\"],[0.5555555555555556,\"#d8576b\"],[0.6666666666666666,\"#ed7953\"],[0.7777777777777778,\"#fb9f3a\"],[0.8888888888888888,\"#fdca26\"],[1.0,\"#f0f921\"]],\"type\":\"histogram2d\"}],\"histogram2dcontour\":[{\"colorbar\":{\"outlinewidth\":0,\"ticks\":\"\"},\"colorscale\":[[0.0,\"#0d0887\"],[0.1111111111111111,\"#46039f\"],[0.2222222222222222,\"#7201a8\"],[0.3333333333333333,\"#9c179e\"],[0.4444444444444444,\"#bd3786\"],[0.5555555555555556,\"#d8576b\"],[0.6666666666666666,\"#ed7953\"],[0.7777777777777778,\"#fb9f3a\"],[0.8888888888888888,\"#fdca26\"],[1.0,\"#f0f921\"]],\"type\":\"histogram2dcontour\"}],\"mesh3d\":[{\"colorbar\":{\"outlinewidth\":0,\"ticks\":\"\"},\"type\":\"mesh3d\"}],\"parcoords\":[{\"line\":{\"colorbar\":{\"outlinewidth\":0,\"ticks\":\"\"}},\"type\":\"parcoords\"}],\"pie\":[{\"automargin\":true,\"type\":\"pie\"}],\"scatter\":[{\"marker\":{\"colorbar\":{\"outlinewidth\":0,\"ticks\":\"\"}},\"type\":\"scatter\"}],\"scatter3d\":[{\"line\":{\"colorbar\":{\"outlinewidth\":0,\"ticks\":\"\"}},\"marker\":{\"colorbar\":{\"outlinewidth\":0,\"ticks\":\"\"}},\"type\":\"scatter3d\"}],\"scattercarpet\":[{\"marker\":{\"colorbar\":{\"outlinewidth\":0,\"ticks\":\"\"}},\"type\":\"scattercarpet\"}],\"scattergeo\":[{\"marker\":{\"colorbar\":{\"outlinewidth\":0,\"ticks\":\"\"}},\"type\":\"scattergeo\"}],\"scattergl\":[{\"marker\":{\"colorbar\":{\"outlinewidth\":0,\"ticks\":\"\"}},\"type\":\"scattergl\"}],\"scattermapbox\":[{\"marker\":{\"colorbar\":{\"outlinewidth\":0,\"ticks\":\"\"}},\"type\":\"scattermapbox\"}],\"scatterpolar\":[{\"marker\":{\"colorbar\":{\"outlinewidth\":0,\"ticks\":\"\"}},\"type\":\"scatterpolar\"}],\"scatterpolargl\":[{\"marker\":{\"colorbar\":{\"outlinewidth\":0,\"ticks\":\"\"}},\"type\":\"scatterpolargl\"}],\"scatterternary\":[{\"marker\":{\"colorbar\":{\"outlinewidth\":0,\"ticks\":\"\"}},\"type\":\"scatterternary\"}],\"surface\":[{\"colorbar\":{\"outlinewidth\":0,\"ticks\":\"\"},\"colorscale\":[[0.0,\"#0d0887\"],[0.1111111111111111,\"#46039f\"],[0.2222222222222222,\"#7201a8\"],[0.3333333333333333,\"#9c179e\"],[0.4444444444444444,\"#bd3786\"],[0.5555555555555556,\"#d8576b\"],[0.6666666666666666,\"#ed7953\"],[0.7777777777777778,\"#fb9f3a\"],[0.8888888888888888,\"#fdca26\"],[1.0,\"#f0f921\"]],\"type\":\"surface\"}],\"table\":[{\"cells\":{\"fill\":{\"color\":\"#EBF0F8\"},\"line\":{\"color\":\"white\"}},\"header\":{\"fill\":{\"color\":\"#C8D4E3\"},\"line\":{\"color\":\"white\"}},\"type\":\"table\"}]},\"layout\":{\"annotationdefaults\":{\"arrowcolor\":\"#2a3f5f\",\"arrowhead\":0,\"arrowwidth\":1},\"autotypenumbers\":\"strict\",\"coloraxis\":{\"colorbar\":{\"outlinewidth\":0,\"ticks\":\"\"}},\"colorscale\":{\"diverging\":[[0,\"#8e0152\"],[0.1,\"#c51b7d\"],[0.2,\"#de77ae\"],[0.3,\"#f1b6da\"],[0.4,\"#fde0ef\"],[0.5,\"#f7f7f7\"],[0.6,\"#e6f5d0\"],[0.7,\"#b8e186\"],[0.8,\"#7fbc41\"],[0.9,\"#4d9221\"],[1,\"#276419\"]],\"sequential\":[[0.0,\"#0d0887\"],[0.1111111111111111,\"#46039f\"],[0.2222222222222222,\"#7201a8\"],[0.3333333333333333,\"#9c179e\"],[0.4444444444444444,\"#bd3786\"],[0.5555555555555556,\"#d8576b\"],[0.6666666666666666,\"#ed7953\"],[0.7777777777777778,\"#fb9f3a\"],[0.8888888888888888,\"#fdca26\"],[1.0,\"#f0f921\"]],\"sequentialminus\":[[0.0,\"#0d0887\"],[0.1111111111111111,\"#46039f\"],[0.2222222222222222,\"#7201a8\"],[0.3333333333333333,\"#9c179e\"],[0.4444444444444444,\"#bd3786\"],[0.5555555555555556,\"#d8576b\"],[0.6666666666666666,\"#ed7953\"],[0.7777777777777778,\"#fb9f3a\"],[0.8888888888888888,\"#fdca26\"],[1.0,\"#f0f921\"]]},\"colorway\":[\"#636efa\",\"#EF553B\",\"#00cc96\",\"#ab63fa\",\"#FFA15A\",\"#19d3f3\",\"#FF6692\",\"#B6E880\",\"#FF97FF\",\"#FECB52\"],\"font\":{\"color\":\"#2a3f5f\"},\"geo\":{\"bgcolor\":\"white\",\"lakecolor\":\"white\",\"landcolor\":\"#E5ECF6\",\"showlakes\":true,\"showland\":true,\"subunitcolor\":\"white\"},\"hoverlabel\":{\"align\":\"left\"},\"hovermode\":\"closest\",\"mapbox\":{\"style\":\"light\"},\"paper_bgcolor\":\"white\",\"plot_bgcolor\":\"#E5ECF6\",\"polar\":{\"angularaxis\":{\"gridcolor\":\"white\",\"linecolor\":\"white\",\"ticks\":\"\"},\"bgcolor\":\"#E5ECF6\",\"radialaxis\":{\"gridcolor\":\"white\",\"linecolor\":\"white\",\"ticks\":\"\"}},\"scene\":{\"xaxis\":{\"backgroundcolor\":\"#E5ECF6\",\"gridcolor\":\"white\",\"gridwidth\":2,\"linecolor\":\"white\",\"showbackground\":true,\"ticks\":\"\",\"zerolinecolor\":\"white\"},\"yaxis\":{\"backgroundcolor\":\"#E5ECF6\",\"gridcolor\":\"white\",\"gridwidth\":2,\"linecolor\":\"white\",\"showbackground\":true,\"ticks\":\"\",\"zerolinecolor\":\"white\"},\"zaxis\":{\"backgroundcolor\":\"#E5ECF6\",\"gridcolor\":\"white\",\"gridwidth\":2,\"linecolor\":\"white\",\"showbackground\":true,\"ticks\":\"\",\"zerolinecolor\":\"white\"}},\"shapedefaults\":{\"line\":{\"color\":\"#2a3f5f\"}},\"ternary\":{\"aaxis\":{\"gridcolor\":\"white\",\"linecolor\":\"white\",\"ticks\":\"\"},\"baxis\":{\"gridcolor\":\"white\",\"linecolor\":\"white\",\"ticks\":\"\"},\"bgcolor\":\"#E5ECF6\",\"caxis\":{\"gridcolor\":\"white\",\"linecolor\":\"white\",\"ticks\":\"\"}},\"title\":{\"x\":0.05},\"xaxis\":{\"automargin\":true,\"gridcolor\":\"white\",\"linecolor\":\"white\",\"ticks\":\"\",\"title\":{\"standoff\":15},\"zerolinecolor\":\"white\",\"zerolinewidth\":2},\"yaxis\":{\"automargin\":true,\"gridcolor\":\"white\",\"linecolor\":\"white\",\"ticks\":\"\",\"title\":{\"standoff\":15},\"zerolinecolor\":\"white\",\"zerolinewidth\":2}}}},                        {\"responsive\": true}                    ).then(function(){\n",
       "                            \n",
       "var gd = document.getElementById('31edeb53-c19b-40cd-9fee-ef1f498a1e8a');\n",
       "var x = new MutationObserver(function (mutations, observer) {{\n",
       "        var display = window.getComputedStyle(gd).display;\n",
       "        if (!display || display === 'none') {{\n",
       "            console.log([gd, 'removed!']);\n",
       "            Plotly.purge(gd);\n",
       "            observer.disconnect();\n",
       "        }}\n",
       "}});\n",
       "\n",
       "// Listen for the removal of the full notebook cells\n",
       "var notebookContainer = gd.closest('#notebook-container');\n",
       "if (notebookContainer) {{\n",
       "    x.observe(notebookContainer, {childList: true});\n",
       "}}\n",
       "\n",
       "// Listen for the clearing of the current output cell\n",
       "var outputEl = gd.closest('.output');\n",
       "if (outputEl) {{\n",
       "    x.observe(outputEl, {childList: true});\n",
       "}}\n",
       "\n",
       "                        })                };                });            </script>        </div>"
      ]
     },
     "metadata": {},
     "output_type": "display_data"
    },
    {
     "data": {
      "text/html": [
       "<div><h3>Main features contributing to drift</h3></div><div>* showing only the top 3 columns, you can change it using n_top_columns param</div>"
      ]
     },
     "metadata": {},
     "output_type": "display_data"
    },
    {
     "data": {
      "application/vnd.plotly.v1+json": {
       "config": {
        "plotlyServerURL": "https://plot.ly"
       },
       "data": [
        {
         "fill": "tozeroy",
         "line": {
          "color": "darkblue"
         },
         "name": "Train Dataset",
         "type": "scatter",
         "x": [
          34.171904999999995,
          37.69203522448979,
          41.21216544897959,
          41.86580276,
          44.73229567346938,
          48.25242589795918,
          51.772556122448975,
          52.207921920000004,
          55.07799105999999,
          55.292686346938765,
          57.41763534,
          58.81281657142856,
          62.33294679591836,
          65.85307702040816,
          69.37320724489796,
          71.21256744,
          72.89333746938775,
          76.41346769387755,
          76.48757992,
          77.575332,
          78.84736248,
          79.93359791836734,
          80.88427507999998,
          82.89188116,
          83.09837244,
          83.45372814285713,
          84.25970939999999,
          86.97385836734693,
          87.3115756,
          90.2763769,
          90.49398859183673,
          90.49842407999999,
          93.51998266,
          94.01411881632652,
          95.44212099999999,
          96.31452159999998,
          97.21156140000001,
          97.25978011999997,
          97.53424904081632,
          98.3950395,
          98.87681287999999,
          99.0070562,
          99.45748760000001,
          101.05437926530611,
          101.21442304,
          101.9214474,
          102.16120191999997,
          103.14138398,
          104.18967319999999,
          104.57450948979591,
          105.4209962,
          105.97587942,
          106.18716758,
          107.41305980000001,
          108.083148,
          108.0946397142857,
          109.87012899999999,
          110.57545615999999,
          111.6147699387755,
          112.25742149999999,
          112.81496401999999,
          114.17048752000001,
          114.47594506000002,
          114.83725551999999,
          114.93896484000001,
          115.0412241,
          115.1349001632653,
          115.56429477999998,
          115.76979867999998,
          116.53582979999999,
          116.88890925999999,
          117.45892731999999,
          118.65503038775509,
          118.75493068,
          119.24768504,
          122.17516061224488,
          122.39189518,
          123.6993653,
          124.2720406,
          124.27209615999999,
          124.70912469999999,
          125.09658352,
          125.24102103999999,
          125.65324371999999,
          125.65997924,
          125.69529083673469,
          126.34030935999999,
          127.14230118,
          127.55920624000001,
          128.0147732,
          128.20728635999998,
          128.49565016,
          128.53473400000001,
          129.07423455999998,
          129.21542106122448,
          129.33802382,
          129.85723187999997,
          130.57450776,
          131.39204539999997,
          131.81423687999998,
          132.73555128571428,
          133.83377472,
          135.57868842000002,
          135.910404,
          136.217611,
          136.25568151020406,
          136.59872431999997,
          138.00299104,
          138.43798224,
          139.34888066000002,
          139.76686124,
          139.77581173469386,
          140.1836932,
          142.38609244000003,
          143.29594195918366,
          143.6375856,
          145.78822000000002,
          146.81607218367344,
          148.12762228,
          148.59433955999998,
          148.82789567999998,
          149.16368312,
          150.33620240816325,
          151.52442939999997,
          152.96950104,
          153.85633263265305,
          154.57496289999997,
          157.37646285714283,
          159.58738264000002,
          160.89659308163266,
          161.81450964000004,
          164.41672330612244,
          165.74869692000004,
          167.9368535306122,
          171.45698375510204,
          173.52011003999996,
          174.97711397959182,
          176.51270592000003,
          178.4972442040816,
          182.01737442857143,
          184.34939549999999,
          185.5375046530612,
          189.05763487755098,
          192.57776510204081,
          196.0978953265306,
          199.61802555102037,
          203.1381557755102,
          206.658286
         ],
         "y": [
          0.000641572654229066,
          0.0010345136397442538,
          0.0013722750718751595,
          0.0014172445444292786,
          0.0015196992417139614,
          0.0014157463726460473,
          0.0011111194938626552,
          0.0010659941079290346,
          0.0007712979376962054,
          0.0007510701843017096,
          0.0005809722921881035,
          0.0005083141387781159,
          0.0004988175155399977,
          0.0007289529570486704,
          0.0010933910343899,
          0.0012820464870870558,
          0.0014280498157657846,
          0.001610952161999157,
          0.0016130057355180723,
          0.0016365685079909242,
          0.0016533517334634867,
          0.0016660276167647372,
          0.001682703638211764,
          0.0017651417729808016,
          0.0017791849500195637,
          0.0018064692934434353,
          0.001884611511411748,
          0.002354743170424078,
          0.0024389351803776787,
          0.0034374934571491144,
          0.0035282700919929857,
          0.003530143008007086,
          0.004980183487117482,
          0.0052417024459082045,
          0.006014849885162955,
          0.006491329977287521,
          0.006977530584162745,
          0.007003458049039148,
          0.0071505225540721175,
          0.007604945378601338,
          0.007853927853033172,
          0.007920497495059587,
          0.008148135262657554,
          0.008920043257262835,
          0.008994219426048248,
          0.009314758389762244,
          0.009420797007972109,
          0.009840320968237197,
          0.010264285741477046,
          0.010413570220939913,
          0.010729973484857741,
          0.010928448564960098,
          0.01100215880429653,
          0.011409414991218706,
          0.01161726076535583,
          0.011620734394212889,
          0.012121622660973084,
          0.012302139205876387,
          0.012552456058986949,
          0.012700206769349498,
          0.012825802009364945,
          0.013131124370020173,
          0.013201875778141496,
          0.013287413233401957,
          0.013311925379701581,
          0.013336785549774858,
          0.013359759666022574,
          0.0134678058127701,
          0.01352129547027014,
          0.013732871194947857,
          0.013837835603101846,
          0.014018717898566777,
          0.014450160787107036,
          0.014489613693907619,
          0.014692200659255208,
          0.01614888255744985,
          0.01627010949157227,
          0.017015858813095745,
          0.017341627193528435,
          0.017341658524641923,
          0.017585607971625568,
          0.017796527002724456,
          0.017873527647716464,
          0.018087447040389316,
          0.018090863390700516,
          0.018108729337926708,
          0.018420564821356553,
          0.018762553981734487,
          0.01891649290784452,
          0.01906364642629149,
          0.01911878946965246,
          0.019193183707600037,
          0.01920249193500815,
          0.01931143473194429,
          0.019333782108029635,
          0.019351065780154667,
          0.019402010086348308,
          0.01941194492603984,
          0.019336837782157605,
          0.019262393815731912,
          0.019018834707141715,
          0.018594154239505653,
          0.017672123505165886,
          0.01746998084585089,
          0.017276844836654443,
          0.017252546920762186,
          0.017030325835617324,
          0.01607515468364483,
          0.01577057288392311,
          0.01513020701430246,
          0.014837933519331561,
          0.0148316984907882,
          0.014548928889962105,
          0.013093582338215984,
          0.012538038952322614,
          0.012336904277781911,
          0.011156638784690448,
          0.010634967560087954,
          0.009993909931312796,
          0.00976980732097718,
          0.009658115526918786,
          0.009497888215316634,
          0.00893940485359383,
          0.008371272171766347,
          0.007675259283697898,
          0.007246983034474507,
          0.006901036492396979,
          0.0055924347693264405,
          0.004652215723297744,
          0.004153194970925064,
          0.0038335879110096304,
          0.003079468258851615,
          0.0027865433635193898,
          0.0024448806630048255,
          0.0022169843159597085,
          0.0022079652216710497,
          0.002223663746672495,
          0.002238144202436026,
          0.00222715839177016,
          0.0020662915943355908,
          0.0018531280880180253,
          0.001718487111084646,
          0.0012709794658847865,
          0.0008732337388172303,
          0.0006679149878674611,
          0.0006934029914365362,
          0.0008350744381723874,
          0.0009026604062022113
         ]
        },
        {
         "fill": "tozeroy",
         "line": {
          "color": "#69b3a2"
         },
         "name": "Test Dataset",
         "type": "scatter",
         "x": [
          34.171904999999995,
          37.69203522448979,
          41.21216544897959,
          41.86580276,
          44.73229567346938,
          48.25242589795918,
          51.772556122448975,
          52.207921920000004,
          55.07799105999999,
          55.292686346938765,
          57.41763534,
          58.81281657142856,
          62.33294679591836,
          65.85307702040816,
          69.37320724489796,
          71.21256744,
          72.89333746938775,
          76.41346769387755,
          76.48757992,
          77.575332,
          78.84736248,
          79.93359791836734,
          80.88427507999998,
          82.89188116,
          83.09837244,
          83.45372814285713,
          84.25970939999999,
          86.97385836734693,
          87.3115756,
          90.2763769,
          90.49398859183673,
          90.49842407999999,
          93.51998266,
          94.01411881632652,
          95.44212099999999,
          96.31452159999998,
          97.21156140000001,
          97.25978011999997,
          97.53424904081632,
          98.3950395,
          98.87681287999999,
          99.0070562,
          99.45748760000001,
          101.05437926530611,
          101.21442304,
          101.9214474,
          102.16120191999997,
          103.14138398,
          104.18967319999999,
          104.57450948979591,
          105.4209962,
          105.97587942,
          106.18716758,
          107.41305980000001,
          108.083148,
          108.0946397142857,
          109.87012899999999,
          110.57545615999999,
          111.6147699387755,
          112.25742149999999,
          112.81496401999999,
          114.17048752000001,
          114.47594506000002,
          114.83725551999999,
          114.93896484000001,
          115.0412241,
          115.1349001632653,
          115.56429477999998,
          115.76979867999998,
          116.53582979999999,
          116.88890925999999,
          117.45892731999999,
          118.65503038775509,
          118.75493068,
          119.24768504,
          122.17516061224488,
          122.39189518,
          123.6993653,
          124.2720406,
          124.27209615999999,
          124.70912469999999,
          125.09658352,
          125.24102103999999,
          125.65324371999999,
          125.65997924,
          125.69529083673469,
          126.34030935999999,
          127.14230118,
          127.55920624000001,
          128.0147732,
          128.20728635999998,
          128.49565016,
          128.53473400000001,
          129.07423455999998,
          129.21542106122448,
          129.33802382,
          129.85723187999997,
          130.57450776,
          131.39204539999997,
          131.81423687999998,
          132.73555128571428,
          133.83377472,
          135.57868842000002,
          135.910404,
          136.217611,
          136.25568151020406,
          136.59872431999997,
          138.00299104,
          138.43798224,
          139.34888066000002,
          139.76686124,
          139.77581173469386,
          140.1836932,
          142.38609244000003,
          143.29594195918366,
          143.6375856,
          145.78822000000002,
          146.81607218367344,
          148.12762228,
          148.59433955999998,
          148.82789567999998,
          149.16368312,
          150.33620240816325,
          151.52442939999997,
          152.96950104,
          153.85633263265305,
          154.57496289999997,
          157.37646285714283,
          159.58738264000002,
          160.89659308163266,
          161.81450964000004,
          164.41672330612244,
          165.74869692000004,
          167.9368535306122,
          171.45698375510204,
          173.52011003999996,
          174.97711397959182,
          176.51270592000003,
          178.4972442040816,
          182.01737442857143,
          184.34939549999999,
          185.5375046530612,
          189.05763487755098,
          192.57776510204081,
          196.0978953265306,
          199.61802555102037,
          203.1381557755102,
          206.658286
         ],
         "y": [
          0.0016194187124450186,
          0.0018873681050479145,
          0.002029620445893564,
          0.002049663587191928,
          0.002142558578975988,
          0.0022895887218356364,
          0.002418321321617137,
          0.0024272722491842777,
          0.002426366175026946,
          0.0024219837416985224,
          0.002352918786442109,
          0.002294082117221254,
          0.0022192864893143603,
          0.0025007943786423677,
          0.0033719666122046374,
          0.004070281544173203,
          0.004821232892486968,
          0.0065443478915598215,
          0.006580294368051381,
          0.007095974954886191,
          0.007660244488658035,
          0.008099165724822005,
          0.008446799960339662,
          0.009069460604653513,
          0.009125703491432444,
          0.009219561312195385,
          0.009420266001814896,
          0.010024534451614947,
          0.010097853552259044,
          0.010792002240551744,
          0.01084791030711631,
          0.01084905732783479,
          0.011680258491850436,
          0.011819154648478096,
          0.012205728051891023,
          0.012422067266865497,
          0.012621301611050415,
          0.012631239065064729,
          0.01268618832447975,
          0.012839715736732742,
          0.012912541187101672,
          0.012930568442149173,
          0.0129874323441808,
          0.013122432082164154,
          0.013130609166641246,
          0.013156569738938386,
          0.013161943049454236,
          0.013169374921858958,
          0.01315994506187311,
          0.013154476517643779,
          0.013143228754826396,
          0.013139028732540137,
          0.013138551803824223,
          0.013153469609743236,
          0.013177848705584338,
          0.013178382608259145,
          0.013312331948021333,
          0.013394580204614948,
          0.013543760268303007,
          0.013650467492250792,
          0.01375021425490479,
          0.014010437211788178,
          0.014070597297776181,
          0.01414156760259967,
          0.014161437675267138,
          0.014181343834531042,
          0.014199505409499734,
          0.01428156846485746,
          0.014319960289357253,
          0.014455896024792782,
          0.014513668835381658,
          0.014598625369996043,
          0.014734667294499192,
          0.014742981223735501,
          0.014776170614639497,
          0.014652244101501665,
          0.01461825605821576,
          0.014334581643933366,
          0.014167688472768282,
          0.01416767103385987,
          0.014023116882107532,
          0.013882810158031207,
          0.013827650654070983,
          0.013661930787446222,
          0.013659122922891734,
          0.013644350646222572,
          0.013359644767494084,
          0.01296915196086195,
          0.012751946595376828,
          0.012504893584768645,
          0.0123977527381213,
          0.012234532322636089,
          0.012212173977422705,
          0.011898473573174745,
          0.01181499449624062,
          0.011742105120074505,
          0.011430009566748108,
          0.01099293509713154,
          0.010493083144336876,
          0.010236806298068312,
          0.009688094764422927,
          0.009063656470906171,
          0.008165392053526739,
          0.008009701866068829,
          0.007870026308462189,
          0.007853020527258534,
          0.007702806536487437,
          0.007143670262750249,
          0.006987908472649183,
          0.006686155293730231,
          0.006557893540662337,
          0.006555212276252098,
          0.00643578561983181,
          0.0058683761288909585,
          0.005661668408262807,
          0.005586766968273597,
          0.005133894350474136,
          0.00492072788241394,
          0.004644352118535295,
          0.004543951998051831,
          0.0044932170840718795,
          0.004419662645309984,
          0.004156845633121038,
          0.003881120921082694,
          0.00353568891555887,
          0.003320951101386227,
          0.0031473314977445268,
          0.002505475505760825,
          0.002089609502905248,
          0.001902176900696863,
          0.001801035102830906,
          0.0016521477860035802,
          0.0016462333170552622,
          0.0017068117256183197,
          0.0018581007725991684,
          0.001907073150760127,
          0.0019077177185912854,
          0.00187591021830865,
          0.0017898003790563566,
          0.0015432311945148094,
          0.0013364628650248764,
          0.0012226478497578551,
          0.0008706650787453202,
          0.0005388131214936218,
          0.0002811634290046192,
          0.00012119331359459097,
          4.2631364022085525e-05,
          1.2156931247259536e-05
         ]
        }
       ],
       "layout": {
        "height": 300,
        "legend": {
         "title": {
          "text": "Dataset"
         },
         "x": 1.02,
         "xanchor": "left",
         "y": 0.9,
         "yanchor": "top"
        },
        "template": {
         "data": {
          "bar": [
           {
            "error_x": {
             "color": "#2a3f5f"
            },
            "error_y": {
             "color": "#2a3f5f"
            },
            "marker": {
             "line": {
              "color": "#E5ECF6",
              "width": 0.5
             },
             "pattern": {
              "fillmode": "overlay",
              "size": 10,
              "solidity": 0.2
             }
            },
            "type": "bar"
           }
          ],
          "barpolar": [
           {
            "marker": {
             "line": {
              "color": "#E5ECF6",
              "width": 0.5
             },
             "pattern": {
              "fillmode": "overlay",
              "size": 10,
              "solidity": 0.2
             }
            },
            "type": "barpolar"
           }
          ],
          "carpet": [
           {
            "aaxis": {
             "endlinecolor": "#2a3f5f",
             "gridcolor": "white",
             "linecolor": "white",
             "minorgridcolor": "white",
             "startlinecolor": "#2a3f5f"
            },
            "baxis": {
             "endlinecolor": "#2a3f5f",
             "gridcolor": "white",
             "linecolor": "white",
             "minorgridcolor": "white",
             "startlinecolor": "#2a3f5f"
            },
            "type": "carpet"
           }
          ],
          "choropleth": [
           {
            "colorbar": {
             "outlinewidth": 0,
             "ticks": ""
            },
            "type": "choropleth"
           }
          ],
          "contour": [
           {
            "colorbar": {
             "outlinewidth": 0,
             "ticks": ""
            },
            "colorscale": [
             [
              0,
              "#0d0887"
             ],
             [
              0.1111111111111111,
              "#46039f"
             ],
             [
              0.2222222222222222,
              "#7201a8"
             ],
             [
              0.3333333333333333,
              "#9c179e"
             ],
             [
              0.4444444444444444,
              "#bd3786"
             ],
             [
              0.5555555555555556,
              "#d8576b"
             ],
             [
              0.6666666666666666,
              "#ed7953"
             ],
             [
              0.7777777777777778,
              "#fb9f3a"
             ],
             [
              0.8888888888888888,
              "#fdca26"
             ],
             [
              1,
              "#f0f921"
             ]
            ],
            "type": "contour"
           }
          ],
          "contourcarpet": [
           {
            "colorbar": {
             "outlinewidth": 0,
             "ticks": ""
            },
            "type": "contourcarpet"
           }
          ],
          "heatmap": [
           {
            "colorbar": {
             "outlinewidth": 0,
             "ticks": ""
            },
            "colorscale": [
             [
              0,
              "#0d0887"
             ],
             [
              0.1111111111111111,
              "#46039f"
             ],
             [
              0.2222222222222222,
              "#7201a8"
             ],
             [
              0.3333333333333333,
              "#9c179e"
             ],
             [
              0.4444444444444444,
              "#bd3786"
             ],
             [
              0.5555555555555556,
              "#d8576b"
             ],
             [
              0.6666666666666666,
              "#ed7953"
             ],
             [
              0.7777777777777778,
              "#fb9f3a"
             ],
             [
              0.8888888888888888,
              "#fdca26"
             ],
             [
              1,
              "#f0f921"
             ]
            ],
            "type": "heatmap"
           }
          ],
          "heatmapgl": [
           {
            "colorbar": {
             "outlinewidth": 0,
             "ticks": ""
            },
            "colorscale": [
             [
              0,
              "#0d0887"
             ],
             [
              0.1111111111111111,
              "#46039f"
             ],
             [
              0.2222222222222222,
              "#7201a8"
             ],
             [
              0.3333333333333333,
              "#9c179e"
             ],
             [
              0.4444444444444444,
              "#bd3786"
             ],
             [
              0.5555555555555556,
              "#d8576b"
             ],
             [
              0.6666666666666666,
              "#ed7953"
             ],
             [
              0.7777777777777778,
              "#fb9f3a"
             ],
             [
              0.8888888888888888,
              "#fdca26"
             ],
             [
              1,
              "#f0f921"
             ]
            ],
            "type": "heatmapgl"
           }
          ],
          "histogram": [
           {
            "marker": {
             "pattern": {
              "fillmode": "overlay",
              "size": 10,
              "solidity": 0.2
             }
            },
            "type": "histogram"
           }
          ],
          "histogram2d": [
           {
            "colorbar": {
             "outlinewidth": 0,
             "ticks": ""
            },
            "colorscale": [
             [
              0,
              "#0d0887"
             ],
             [
              0.1111111111111111,
              "#46039f"
             ],
             [
              0.2222222222222222,
              "#7201a8"
             ],
             [
              0.3333333333333333,
              "#9c179e"
             ],
             [
              0.4444444444444444,
              "#bd3786"
             ],
             [
              0.5555555555555556,
              "#d8576b"
             ],
             [
              0.6666666666666666,
              "#ed7953"
             ],
             [
              0.7777777777777778,
              "#fb9f3a"
             ],
             [
              0.8888888888888888,
              "#fdca26"
             ],
             [
              1,
              "#f0f921"
             ]
            ],
            "type": "histogram2d"
           }
          ],
          "histogram2dcontour": [
           {
            "colorbar": {
             "outlinewidth": 0,
             "ticks": ""
            },
            "colorscale": [
             [
              0,
              "#0d0887"
             ],
             [
              0.1111111111111111,
              "#46039f"
             ],
             [
              0.2222222222222222,
              "#7201a8"
             ],
             [
              0.3333333333333333,
              "#9c179e"
             ],
             [
              0.4444444444444444,
              "#bd3786"
             ],
             [
              0.5555555555555556,
              "#d8576b"
             ],
             [
              0.6666666666666666,
              "#ed7953"
             ],
             [
              0.7777777777777778,
              "#fb9f3a"
             ],
             [
              0.8888888888888888,
              "#fdca26"
             ],
             [
              1,
              "#f0f921"
             ]
            ],
            "type": "histogram2dcontour"
           }
          ],
          "mesh3d": [
           {
            "colorbar": {
             "outlinewidth": 0,
             "ticks": ""
            },
            "type": "mesh3d"
           }
          ],
          "parcoords": [
           {
            "line": {
             "colorbar": {
              "outlinewidth": 0,
              "ticks": ""
             }
            },
            "type": "parcoords"
           }
          ],
          "pie": [
           {
            "automargin": true,
            "type": "pie"
           }
          ],
          "scatter": [
           {
            "marker": {
             "colorbar": {
              "outlinewidth": 0,
              "ticks": ""
             }
            },
            "type": "scatter"
           }
          ],
          "scatter3d": [
           {
            "line": {
             "colorbar": {
              "outlinewidth": 0,
              "ticks": ""
             }
            },
            "marker": {
             "colorbar": {
              "outlinewidth": 0,
              "ticks": ""
             }
            },
            "type": "scatter3d"
           }
          ],
          "scattercarpet": [
           {
            "marker": {
             "colorbar": {
              "outlinewidth": 0,
              "ticks": ""
             }
            },
            "type": "scattercarpet"
           }
          ],
          "scattergeo": [
           {
            "marker": {
             "colorbar": {
              "outlinewidth": 0,
              "ticks": ""
             }
            },
            "type": "scattergeo"
           }
          ],
          "scattergl": [
           {
            "marker": {
             "colorbar": {
              "outlinewidth": 0,
              "ticks": ""
             }
            },
            "type": "scattergl"
           }
          ],
          "scattermapbox": [
           {
            "marker": {
             "colorbar": {
              "outlinewidth": 0,
              "ticks": ""
             }
            },
            "type": "scattermapbox"
           }
          ],
          "scatterpolar": [
           {
            "marker": {
             "colorbar": {
              "outlinewidth": 0,
              "ticks": ""
             }
            },
            "type": "scatterpolar"
           }
          ],
          "scatterpolargl": [
           {
            "marker": {
             "colorbar": {
              "outlinewidth": 0,
              "ticks": ""
             }
            },
            "type": "scatterpolargl"
           }
          ],
          "scatterternary": [
           {
            "marker": {
             "colorbar": {
              "outlinewidth": 0,
              "ticks": ""
             }
            },
            "type": "scatterternary"
           }
          ],
          "surface": [
           {
            "colorbar": {
             "outlinewidth": 0,
             "ticks": ""
            },
            "colorscale": [
             [
              0,
              "#0d0887"
             ],
             [
              0.1111111111111111,
              "#46039f"
             ],
             [
              0.2222222222222222,
              "#7201a8"
             ],
             [
              0.3333333333333333,
              "#9c179e"
             ],
             [
              0.4444444444444444,
              "#bd3786"
             ],
             [
              0.5555555555555556,
              "#d8576b"
             ],
             [
              0.6666666666666666,
              "#ed7953"
             ],
             [
              0.7777777777777778,
              "#fb9f3a"
             ],
             [
              0.8888888888888888,
              "#fdca26"
             ],
             [
              1,
              "#f0f921"
             ]
            ],
            "type": "surface"
           }
          ],
          "table": [
           {
            "cells": {
             "fill": {
              "color": "#EBF0F8"
             },
             "line": {
              "color": "white"
             }
            },
            "header": {
             "fill": {
              "color": "#C8D4E3"
             },
             "line": {
              "color": "white"
             }
            },
            "type": "table"
           }
          ]
         },
         "layout": {
          "annotationdefaults": {
           "arrowcolor": "#2a3f5f",
           "arrowhead": 0,
           "arrowwidth": 1
          },
          "autotypenumbers": "strict",
          "coloraxis": {
           "colorbar": {
            "outlinewidth": 0,
            "ticks": ""
           }
          },
          "colorscale": {
           "diverging": [
            [
             0,
             "#8e0152"
            ],
            [
             0.1,
             "#c51b7d"
            ],
            [
             0.2,
             "#de77ae"
            ],
            [
             0.3,
             "#f1b6da"
            ],
            [
             0.4,
             "#fde0ef"
            ],
            [
             0.5,
             "#f7f7f7"
            ],
            [
             0.6,
             "#e6f5d0"
            ],
            [
             0.7,
             "#b8e186"
            ],
            [
             0.8,
             "#7fbc41"
            ],
            [
             0.9,
             "#4d9221"
            ],
            [
             1,
             "#276419"
            ]
           ],
           "sequential": [
            [
             0,
             "#0d0887"
            ],
            [
             0.1111111111111111,
             "#46039f"
            ],
            [
             0.2222222222222222,
             "#7201a8"
            ],
            [
             0.3333333333333333,
             "#9c179e"
            ],
            [
             0.4444444444444444,
             "#bd3786"
            ],
            [
             0.5555555555555556,
             "#d8576b"
            ],
            [
             0.6666666666666666,
             "#ed7953"
            ],
            [
             0.7777777777777778,
             "#fb9f3a"
            ],
            [
             0.8888888888888888,
             "#fdca26"
            ],
            [
             1,
             "#f0f921"
            ]
           ],
           "sequentialminus": [
            [
             0,
             "#0d0887"
            ],
            [
             0.1111111111111111,
             "#46039f"
            ],
            [
             0.2222222222222222,
             "#7201a8"
            ],
            [
             0.3333333333333333,
             "#9c179e"
            ],
            [
             0.4444444444444444,
             "#bd3786"
            ],
            [
             0.5555555555555556,
             "#d8576b"
            ],
            [
             0.6666666666666666,
             "#ed7953"
            ],
            [
             0.7777777777777778,
             "#fb9f3a"
            ],
            [
             0.8888888888888888,
             "#fdca26"
            ],
            [
             1,
             "#f0f921"
            ]
           ]
          },
          "colorway": [
           "#636efa",
           "#EF553B",
           "#00cc96",
           "#ab63fa",
           "#FFA15A",
           "#19d3f3",
           "#FF6692",
           "#B6E880",
           "#FF97FF",
           "#FECB52"
          ],
          "font": {
           "color": "#2a3f5f"
          },
          "geo": {
           "bgcolor": "white",
           "lakecolor": "white",
           "landcolor": "#E5ECF6",
           "showlakes": true,
           "showland": true,
           "subunitcolor": "white"
          },
          "hoverlabel": {
           "align": "left"
          },
          "hovermode": "closest",
          "mapbox": {
           "style": "light"
          },
          "paper_bgcolor": "white",
          "plot_bgcolor": "#E5ECF6",
          "polar": {
           "angularaxis": {
            "gridcolor": "white",
            "linecolor": "white",
            "ticks": ""
           },
           "bgcolor": "#E5ECF6",
           "radialaxis": {
            "gridcolor": "white",
            "linecolor": "white",
            "ticks": ""
           }
          },
          "scene": {
           "xaxis": {
            "backgroundcolor": "#E5ECF6",
            "gridcolor": "white",
            "gridwidth": 2,
            "linecolor": "white",
            "showbackground": true,
            "ticks": "",
            "zerolinecolor": "white"
           },
           "yaxis": {
            "backgroundcolor": "#E5ECF6",
            "gridcolor": "white",
            "gridwidth": 2,
            "linecolor": "white",
            "showbackground": true,
            "ticks": "",
            "zerolinecolor": "white"
           },
           "zaxis": {
            "backgroundcolor": "#E5ECF6",
            "gridcolor": "white",
            "gridwidth": 2,
            "linecolor": "white",
            "showbackground": true,
            "ticks": "",
            "zerolinecolor": "white"
           }
          },
          "shapedefaults": {
           "line": {
            "color": "#2a3f5f"
           }
          },
          "ternary": {
           "aaxis": {
            "gridcolor": "white",
            "linecolor": "white",
            "ticks": ""
           },
           "baxis": {
            "gridcolor": "white",
            "linecolor": "white",
            "ticks": ""
           },
           "bgcolor": "#E5ECF6",
           "caxis": {
            "gridcolor": "white",
            "linecolor": "white",
            "ticks": ""
           }
          },
          "title": {
           "x": 0.05
          },
          "xaxis": {
           "automargin": true,
           "gridcolor": "white",
           "linecolor": "white",
           "ticks": "",
           "title": {
            "standoff": 15
           },
           "zerolinecolor": "white",
           "zerolinewidth": 2
          },
          "yaxis": {
           "automargin": true,
           "gridcolor": "white",
           "linecolor": "white",
           "ticks": "",
           "title": {
            "standoff": 15
           },
           "zerolinecolor": "white",
           "zerolinewidth": 2
          }
         }
        },
        "title": {
         "text": "Feature: brightness - Explains 60% of dataset difference"
        },
        "width": 700,
        "xaxis": {
         "fixedrange": false,
         "range": [
          41.86580276,
          184.34939549999999
         ],
         "title": {
          "text": "Value"
         },
         "type": "linear"
        },
        "yaxis": {
         "autorange": true,
         "fixedrange": true,
         "range": [
          0,
          0.020433626237936674
         ],
         "title": {
          "text": "Probability Density"
         },
         "type": "linear"
        }
       }
      },
      "image/png": "[encoded data removed]",
      "text/html": [
       "<div>                            <div id=\"99f33666-d337-4e5f-8232-67a4057efc3e\" class=\"plotly-graph-div\" style=\"height:300px; width:700px;\"></div>            <script type=\"text/javascript\">                require([\"plotly\"], function(Plotly) {                    window.PLOTLYENV=window.PLOTLYENV || {};                                    if (document.getElementById(\"99f33666-d337-4e5f-8232-67a4057efc3e\")) {                    Plotly.newPlot(                        \"99f33666-d337-4e5f-8232-67a4057efc3e\",                        [{\"fill\":\"tozeroy\",\"line\":{\"color\":\"darkblue\"},\"name\":\"Train Dataset\",\"x\":[34.171904999999995,37.69203522448979,41.21216544897959,41.86580276,44.73229567346938,48.25242589795918,51.772556122448975,52.207921920000004,55.07799105999999,55.292686346938765,57.41763534,58.81281657142856,62.33294679591836,65.85307702040816,69.37320724489796,71.21256744,72.89333746938775,76.41346769387755,76.48757992,77.575332,78.84736248,79.93359791836734,80.88427507999998,82.89188116,83.09837244,83.45372814285713,84.25970939999999,86.97385836734693,87.3115756,90.2763769,90.49398859183673,90.49842407999999,93.51998266,94.01411881632652,95.44212099999999,96.31452159999998,97.21156140000001,97.25978011999997,97.53424904081632,98.3950395,98.87681287999999,99.0070562,99.45748760000001,101.05437926530611,101.21442304,101.9214474,102.16120191999997,103.14138398,104.18967319999999,104.57450948979591,105.4209962,105.97587942,106.18716758,107.41305980000001,108.083148,108.0946397142857,109.87012899999999,110.57545615999999,111.6147699387755,112.25742149999999,112.81496401999999,114.17048752000001,114.47594506000002,114.83725551999999,114.93896484000001,115.0412241,115.1349001632653,115.56429477999998,115.76979867999998,116.53582979999999,116.88890925999999,117.45892731999999,118.65503038775509,118.75493068,119.24768504,122.17516061224488,122.39189518,123.6993653,124.2720406,124.27209615999999,124.70912469999999,125.09658352,125.24102103999999,125.65324371999999,125.65997924,125.69529083673469,126.34030935999999,127.14230118,127.55920624000001,128.0147732,128.20728635999998,128.49565016,128.53473400000001,129.07423455999998,129.21542106122448,129.33802382,129.85723187999997,130.57450776,131.39204539999997,131.81423687999998,132.73555128571428,133.83377472,135.57868842000002,135.910404,136.217611,136.25568151020406,136.59872431999997,138.00299104,138.43798224,139.34888066000002,139.76686124,139.77581173469386,140.1836932,142.38609244000003,143.29594195918366,143.6375856,145.78822000000002,146.81607218367344,148.12762228,148.59433955999998,148.82789567999998,149.16368312,150.33620240816325,151.52442939999997,152.96950104,153.85633263265305,154.57496289999997,157.37646285714283,159.58738264000002,160.89659308163266,161.81450964000004,164.41672330612244,165.74869692000004,167.9368535306122,171.45698375510204,173.52011003999996,174.97711397959182,176.51270592000003,178.4972442040816,182.01737442857143,184.34939549999999,185.5375046530612,189.05763487755098,192.57776510204081,196.0978953265306,199.61802555102037,203.1381557755102,206.658286],\"y\":[0.000641572654229066,0.0010345136397442538,0.0013722750718751595,0.0014172445444292786,0.0015196992417139614,0.0014157463726460473,0.0011111194938626552,0.0010659941079290346,0.0007712979376962054,0.0007510701843017096,0.0005809722921881035,0.0005083141387781159,0.0004988175155399977,0.0007289529570486704,0.0010933910343899,0.0012820464870870558,0.0014280498157657846,0.001610952161999157,0.0016130057355180723,0.0016365685079909242,0.0016533517334634867,0.0016660276167647372,0.001682703638211764,0.0017651417729808016,0.0017791849500195637,0.0018064692934434353,0.001884611511411748,0.002354743170424078,0.0024389351803776787,0.0034374934571491144,0.0035282700919929857,0.003530143008007086,0.004980183487117482,0.0052417024459082045,0.006014849885162955,0.006491329977287521,0.006977530584162745,0.007003458049039148,0.0071505225540721175,0.007604945378601338,0.007853927853033172,0.007920497495059587,0.008148135262657554,0.008920043257262835,0.008994219426048248,0.009314758389762244,0.009420797007972109,0.009840320968237197,0.010264285741477046,0.010413570220939913,0.010729973484857741,0.010928448564960098,0.01100215880429653,0.011409414991218706,0.01161726076535583,0.011620734394212889,0.012121622660973084,0.012302139205876387,0.012552456058986949,0.012700206769349498,0.012825802009364945,0.013131124370020173,0.013201875778141496,0.013287413233401957,0.013311925379701581,0.013336785549774858,0.013359759666022574,0.0134678058127701,0.01352129547027014,0.013732871194947857,0.013837835603101846,0.014018717898566777,0.014450160787107036,0.014489613693907619,0.014692200659255208,0.01614888255744985,0.01627010949157227,0.017015858813095745,0.017341627193528435,0.017341658524641923,0.017585607971625568,0.017796527002724456,0.017873527647716464,0.018087447040389316,0.018090863390700516,0.018108729337926708,0.018420564821356553,0.018762553981734487,0.01891649290784452,0.01906364642629149,0.01911878946965246,0.019193183707600037,0.01920249193500815,0.01931143473194429,0.019333782108029635,0.019351065780154667,0.019402010086348308,0.01941194492603984,0.019336837782157605,0.019262393815731912,0.019018834707141715,0.018594154239505653,0.017672123505165886,0.01746998084585089,0.017276844836654443,0.017252546920762186,0.017030325835617324,0.01607515468364483,0.01577057288392311,0.01513020701430246,0.014837933519331561,0.0148316984907882,0.014548928889962105,0.013093582338215984,0.012538038952322614,0.012336904277781911,0.011156638784690448,0.010634967560087954,0.009993909931312796,0.00976980732097718,0.009658115526918786,0.009497888215316634,0.00893940485359383,0.008371272171766347,0.007675259283697898,0.007246983034474507,0.006901036492396979,0.0055924347693264405,0.004652215723297744,0.004153194970925064,0.0038335879110096304,0.003079468258851615,0.0027865433635193898,0.0024448806630048255,0.0022169843159597085,0.0022079652216710497,0.002223663746672495,0.002238144202436026,0.00222715839177016,0.0020662915943355908,0.0018531280880180253,0.001718487111084646,0.0012709794658847865,0.0008732337388172303,0.0006679149878674611,0.0006934029914365362,0.0008350744381723874,0.0009026604062022113],\"type\":\"scatter\"},{\"fill\":\"tozeroy\",\"line\":{\"color\":\"#69b3a2\"},\"name\":\"Test Dataset\",\"x\":[34.171904999999995,37.69203522448979,41.21216544897959,41.86580276,44.73229567346938,48.25242589795918,51.772556122448975,52.207921920000004,55.07799105999999,55.292686346938765,57.41763534,58.81281657142856,62.33294679591836,65.85307702040816,69.37320724489796,71.21256744,72.89333746938775,76.41346769387755,76.48757992,77.575332,78.84736248,79.93359791836734,80.88427507999998,82.89188116,83.09837244,83.45372814285713,84.25970939999999,86.97385836734693,87.3115756,90.2763769,90.49398859183673,90.49842407999999,93.51998266,94.01411881632652,95.44212099999999,96.31452159999998,97.21156140000001,97.25978011999997,97.53424904081632,98.3950395,98.87681287999999,99.0070562,99.45748760000001,101.05437926530611,101.21442304,101.9214474,102.16120191999997,103.14138398,104.18967319999999,104.57450948979591,105.4209962,105.97587942,106.18716758,107.41305980000001,108.083148,108.0946397142857,109.87012899999999,110.57545615999999,111.6147699387755,112.25742149999999,112.81496401999999,114.17048752000001,114.47594506000002,114.83725551999999,114.93896484000001,115.0412241,115.1349001632653,115.56429477999998,115.76979867999998,116.53582979999999,116.88890925999999,117.45892731999999,118.65503038775509,118.75493068,119.24768504,122.17516061224488,122.39189518,123.6993653,124.2720406,124.27209615999999,124.70912469999999,125.09658352,125.24102103999999,125.65324371999999,125.65997924,125.69529083673469,126.34030935999999,127.14230118,127.55920624000001,128.0147732,128.20728635999998,128.49565016,128.53473400000001,129.07423455999998,129.21542106122448,129.33802382,129.85723187999997,130.57450776,131.39204539999997,131.81423687999998,132.73555128571428,133.83377472,135.57868842000002,135.910404,136.217611,136.25568151020406,136.59872431999997,138.00299104,138.43798224,139.34888066000002,139.76686124,139.77581173469386,140.1836932,142.38609244000003,143.29594195918366,143.6375856,145.78822000000002,146.81607218367344,148.12762228,148.59433955999998,148.82789567999998,149.16368312,150.33620240816325,151.52442939999997,152.96950104,153.85633263265305,154.57496289999997,157.37646285714283,159.58738264000002,160.89659308163266,161.81450964000004,164.41672330612244,165.74869692000004,167.9368535306122,171.45698375510204,173.52011003999996,174.97711397959182,176.51270592000003,178.4972442040816,182.01737442857143,184.34939549999999,185.5375046530612,189.05763487755098,192.57776510204081,196.0978953265306,199.61802555102037,203.1381557755102,206.658286],\"y\":[0.0016194187124450186,0.0018873681050479145,0.002029620445893564,0.002049663587191928,0.002142558578975988,0.0022895887218356364,0.002418321321617137,0.0024272722491842777,0.002426366175026946,0.0024219837416985224,0.002352918786442109,0.002294082117221254,0.0022192864893143603,0.0025007943786423677,0.0033719666122046374,0.004070281544173203,0.004821232892486968,0.0065443478915598215,0.006580294368051381,0.007095974954886191,0.007660244488658035,0.008099165724822005,0.008446799960339662,0.009069460604653513,0.009125703491432444,0.009219561312195385,0.009420266001814896,0.010024534451614947,0.010097853552259044,0.010792002240551744,0.01084791030711631,0.01084905732783479,0.011680258491850436,0.011819154648478096,0.012205728051891023,0.012422067266865497,0.012621301611050415,0.012631239065064729,0.01268618832447975,0.012839715736732742,0.012912541187101672,0.012930568442149173,0.0129874323441808,0.013122432082164154,0.013130609166641246,0.013156569738938386,0.013161943049454236,0.013169374921858958,0.01315994506187311,0.013154476517643779,0.013143228754826396,0.013139028732540137,0.013138551803824223,0.013153469609743236,0.013177848705584338,0.013178382608259145,0.013312331948021333,0.013394580204614948,0.013543760268303007,0.013650467492250792,0.01375021425490479,0.014010437211788178,0.014070597297776181,0.01414156760259967,0.014161437675267138,0.014181343834531042,0.014199505409499734,0.01428156846485746,0.014319960289357253,0.014455896024792782,0.014513668835381658,0.014598625369996043,0.014734667294499192,0.014742981223735501,0.014776170614639497,0.014652244101501665,0.01461825605821576,0.014334581643933366,0.014167688472768282,0.01416767103385987,0.014023116882107532,0.013882810158031207,0.013827650654070983,0.013661930787446222,0.013659122922891734,0.013644350646222572,0.013359644767494084,0.01296915196086195,0.012751946595376828,0.012504893584768645,0.0123977527381213,0.012234532322636089,0.012212173977422705,0.011898473573174745,0.01181499449624062,0.011742105120074505,0.011430009566748108,0.01099293509713154,0.010493083144336876,0.010236806298068312,0.009688094764422927,0.009063656470906171,0.008165392053526739,0.008009701866068829,0.007870026308462189,0.007853020527258534,0.007702806536487437,0.007143670262750249,0.006987908472649183,0.006686155293730231,0.006557893540662337,0.006555212276252098,0.00643578561983181,0.0058683761288909585,0.005661668408262807,0.005586766968273597,0.005133894350474136,0.00492072788241394,0.004644352118535295,0.004543951998051831,0.0044932170840718795,0.004419662645309984,0.004156845633121038,0.003881120921082694,0.00353568891555887,0.003320951101386227,0.0031473314977445268,0.002505475505760825,0.002089609502905248,0.001902176900696863,0.001801035102830906,0.0016521477860035802,0.0016462333170552622,0.0017068117256183197,0.0018581007725991684,0.001907073150760127,0.0019077177185912854,0.00187591021830865,0.0017898003790563566,0.0015432311945148094,0.0013364628650248764,0.0012226478497578551,0.0008706650787453202,0.0005388131214936218,0.0002811634290046192,0.00012119331359459097,4.2631364022085525e-05,1.2156931247259536e-05],\"type\":\"scatter\"}],                        {\"height\":300,\"legend\":{\"title\":{\"text\":\"Dataset\"},\"xanchor\":\"left\",\"y\":0.9,\"yanchor\":\"top\"},\"title\":{\"text\":\"Feature: brightness - Explains 60% of dataset difference\"},\"width\":700,\"xaxis\":{\"fixedrange\":false,\"range\":[41.86580276,184.34939549999999],\"title\":{\"text\":\"Value\"}},\"yaxis\":{\"fixedrange\":true,\"title\":{\"text\":\"Probability Density\"}},\"template\":{\"data\":{\"bar\":[{\"error_x\":{\"color\":\"#2a3f5f\"},\"error_y\":{\"color\":\"#2a3f5f\"},\"marker\":{\"line\":{\"color\":\"#E5ECF6\",\"width\":0.5},\"pattern\":{\"fillmode\":\"overlay\",\"size\":10,\"solidity\":0.2}},\"type\":\"bar\"}],\"barpolar\":[{\"marker\":{\"line\":{\"color\":\"#E5ECF6\",\"width\":0.5},\"pattern\":{\"fillmode\":\"overlay\",\"size\":10,\"solidity\":0.2}},\"type\":\"barpolar\"}],\"carpet\":[{\"aaxis\":{\"endlinecolor\":\"#2a3f5f\",\"gridcolor\":\"white\",\"linecolor\":\"white\",\"minorgridcolor\":\"white\",\"startlinecolor\":\"#2a3f5f\"},\"baxis\":{\"endlinecolor\":\"#2a3f5f\",\"gridcolor\":\"white\",\"linecolor\":\"white\",\"minorgridcolor\":\"white\",\"startlinecolor\":\"#2a3f5f\"},\"type\":\"carpet\"}],\"choropleth\":[{\"colorbar\":{\"outlinewidth\":0,\"ticks\":\"\"},\"type\":\"choropleth\"}],\"contour\":[{\"colorbar\":{\"outlinewidth\":0,\"ticks\":\"\"},\"colorscale\":[[0.0,\"#0d0887\"],[0.1111111111111111,\"#46039f\"],[0.2222222222222222,\"#7201a8\"],[0.3333333333333333,\"#9c179e\"],[0.4444444444444444,\"#bd3786\"],[0.5555555555555556,\"#d8576b\"],[0.6666666666666666,\"#ed7953\"],[0.7777777777777778,\"#fb9f3a\"],[0.8888888888888888,\"#fdca26\"],[1.0,\"#f0f921\"]],\"type\":\"contour\"}],\"contourcarpet\":[{\"colorbar\":{\"outlinewidth\":0,\"ticks\":\"\"},\"type\":\"contourcarpet\"}],\"heatmap\":[{\"colorbar\":{\"outlinewidth\":0,\"ticks\":\"\"},\"colorscale\":[[0.0,\"#0d0887\"],[0.1111111111111111,\"#46039f\"],[0.2222222222222222,\"#7201a8\"],[0.3333333333333333,\"#9c179e\"],[0.4444444444444444,\"#bd3786\"],[0.5555555555555556,\"#d8576b\"],[0.6666666666666666,\"#ed7953\"],[0.7777777777777778,\"#fb9f3a\"],[0.8888888888888888,\"#fdca26\"],[1.0,\"#f0f921\"]],\"type\":\"heatmap\"}],\"heatmapgl\":[{\"colorbar\":{\"outlinewidth\":0,\"ticks\":\"\"},\"colorscale\":[[0.0,\"#0d0887\"],[0.1111111111111111,\"#46039f\"],[0.2222222222222222,\"#7201a8\"],[0.3333333333333333,\"#9c179e\"],[0.4444444444444444,\"#bd3786\"],[0.5555555555555556,\"#d8576b\"],[0.6666666666666666,\"#ed7953\"],[0.7777777777777778,\"#fb9f3a\"],[0.8888888888888888,\"#fdca26\"],[1.0,\"#f0f921\"]],\"type\":\"heatmapgl\"}],\"histogram\":[{\"marker\":{\"pattern\":{\"fillmode\":\"overlay\",\"size\":10,\"solidity\":0.2}},\"type\":\"histogram\"}],\"histogram2d\":[{\"colorbar\":{\"outlinewidth\":0,\"ticks\":\"\"},\"colorscale\":[[0.0,\"#0d0887\"],[0.1111111111111111,\"#46039f\"],[0.2222222222222222,\"#7201a8\"],[0.3333333333333333,\"#9c179e\"],[0.4444444444444444,\"#bd3786\"],[0.5555555555555556,\"#d8576b\"],[0.6666666666666666,\"#ed7953\"],[0.7777777777777778,\"#fb9f3a\"],[0.8888888888888888,\"#fdca26\"],[1.0,\"#f0f921\"]],\"type\":\"histogram2d\"}],\"histogram2dcontour\":[{\"colorbar\":{\"outlinewidth\":0,\"ticks\":\"\"},\"colorscale\":[[0.0,\"#0d0887\"],[0.1111111111111111,\"#46039f\"],[0.2222222222222222,\"#7201a8\"],[0.3333333333333333,\"#9c179e\"],[0.4444444444444444,\"#bd3786\"],[0.5555555555555556,\"#d8576b\"],[0.6666666666666666,\"#ed7953\"],[0.7777777777777778,\"#fb9f3a\"],[0.8888888888888888,\"#fdca26\"],[1.0,\"#f0f921\"]],\"type\":\"histogram2dcontour\"}],\"mesh3d\":[{\"colorbar\":{\"outlinewidth\":0,\"ticks\":\"\"},\"type\":\"mesh3d\"}],\"parcoords\":[{\"line\":{\"colorbar\":{\"outlinewidth\":0,\"ticks\":\"\"}},\"type\":\"parcoords\"}],\"pie\":[{\"automargin\":true,\"type\":\"pie\"}],\"scatter\":[{\"marker\":{\"colorbar\":{\"outlinewidth\":0,\"ticks\":\"\"}},\"type\":\"scatter\"}],\"scatter3d\":[{\"line\":{\"colorbar\":{\"outlinewidth\":0,\"ticks\":\"\"}},\"marker\":{\"colorbar\":{\"outlinewidth\":0,\"ticks\":\"\"}},\"type\":\"scatter3d\"}],\"scattercarpet\":[{\"marker\":{\"colorbar\":{\"outlinewidth\":0,\"ticks\":\"\"}},\"type\":\"scattercarpet\"}],\"scattergeo\":[{\"marker\":{\"colorbar\":{\"outlinewidth\":0,\"ticks\":\"\"}},\"type\":\"scattergeo\"}],\"scattergl\":[{\"marker\":{\"colorbar\":{\"outlinewidth\":0,\"ticks\":\"\"}},\"type\":\"scattergl\"}],\"scattermapbox\":[{\"marker\":{\"colorbar\":{\"outlinewidth\":0,\"ticks\":\"\"}},\"type\":\"scattermapbox\"}],\"scatterpolar\":[{\"marker\":{\"colorbar\":{\"outlinewidth\":0,\"ticks\":\"\"}},\"type\":\"scatterpolar\"}],\"scatterpolargl\":[{\"marker\":{\"colorbar\":{\"outlinewidth\":0,\"ticks\":\"\"}},\"type\":\"scatterpolargl\"}],\"scatterternary\":[{\"marker\":{\"colorbar\":{\"outlinewidth\":0,\"ticks\":\"\"}},\"type\":\"scatterternary\"}],\"surface\":[{\"colorbar\":{\"outlinewidth\":0,\"ticks\":\"\"},\"colorscale\":[[0.0,\"#0d0887\"],[0.1111111111111111,\"#46039f\"],[0.2222222222222222,\"#7201a8\"],[0.3333333333333333,\"#9c179e\"],[0.4444444444444444,\"#bd3786\"],[0.5555555555555556,\"#d8576b\"],[0.6666666666666666,\"#ed7953\"],[0.7777777777777778,\"#fb9f3a\"],[0.8888888888888888,\"#fdca26\"],[1.0,\"#f0f921\"]],\"type\":\"surface\"}],\"table\":[{\"cells\":{\"fill\":{\"color\":\"#EBF0F8\"},\"line\":{\"color\":\"white\"}},\"header\":{\"fill\":{\"color\":\"#C8D4E3\"},\"line\":{\"color\":\"white\"}},\"type\":\"table\"}]},\"layout\":{\"annotationdefaults\":{\"arrowcolor\":\"#2a3f5f\",\"arrowhead\":0,\"arrowwidth\":1},\"autotypenumbers\":\"strict\",\"coloraxis\":{\"colorbar\":{\"outlinewidth\":0,\"ticks\":\"\"}},\"colorscale\":{\"diverging\":[[0,\"#8e0152\"],[0.1,\"#c51b7d\"],[0.2,\"#de77ae\"],[0.3,\"#f1b6da\"],[0.4,\"#fde0ef\"],[0.5,\"#f7f7f7\"],[0.6,\"#e6f5d0\"],[0.7,\"#b8e186\"],[0.8,\"#7fbc41\"],[0.9,\"#4d9221\"],[1,\"#276419\"]],\"sequential\":[[0.0,\"#0d0887\"],[0.1111111111111111,\"#46039f\"],[0.2222222222222222,\"#7201a8\"],[0.3333333333333333,\"#9c179e\"],[0.4444444444444444,\"#bd3786\"],[0.5555555555555556,\"#d8576b\"],[0.6666666666666666,\"#ed7953\"],[0.7777777777777778,\"#fb9f3a\"],[0.8888888888888888,\"#fdca26\"],[1.0,\"#f0f921\"]],\"sequentialminus\":[[0.0,\"#0d0887\"],[0.1111111111111111,\"#46039f\"],[0.2222222222222222,\"#7201a8\"],[0.3333333333333333,\"#9c179e\"],[0.4444444444444444,\"#bd3786\"],[0.5555555555555556,\"#d8576b\"],[0.6666666666666666,\"#ed7953\"],[0.7777777777777778,\"#fb9f3a\"],[0.8888888888888888,\"#fdca26\"],[1.0,\"#f0f921\"]]},\"colorway\":[\"#636efa\",\"#EF553B\",\"#00cc96\",\"#ab63fa\",\"#FFA15A\",\"#19d3f3\",\"#FF6692\",\"#B6E880\",\"#FF97FF\",\"#FECB52\"],\"font\":{\"color\":\"#2a3f5f\"},\"geo\":{\"bgcolor\":\"white\",\"lakecolor\":\"white\",\"landcolor\":\"#E5ECF6\",\"showlakes\":true,\"showland\":true,\"subunitcolor\":\"white\"},\"hoverlabel\":{\"align\":\"left\"},\"hovermode\":\"closest\",\"mapbox\":{\"style\":\"light\"},\"paper_bgcolor\":\"white\",\"plot_bgcolor\":\"#E5ECF6\",\"polar\":{\"angularaxis\":{\"gridcolor\":\"white\",\"linecolor\":\"white\",\"ticks\":\"\"},\"bgcolor\":\"#E5ECF6\",\"radialaxis\":{\"gridcolor\":\"white\",\"linecolor\":\"white\",\"ticks\":\"\"}},\"scene\":{\"xaxis\":{\"backgroundcolor\":\"#E5ECF6\",\"gridcolor\":\"white\",\"gridwidth\":2,\"linecolor\":\"white\",\"showbackground\":true,\"ticks\":\"\",\"zerolinecolor\":\"white\"},\"yaxis\":{\"backgroundcolor\":\"#E5ECF6\",\"gridcolor\":\"white\",\"gridwidth\":2,\"linecolor\":\"white\",\"showbackground\":true,\"ticks\":\"\",\"zerolinecolor\":\"white\"},\"zaxis\":{\"backgroundcolor\":\"#E5ECF6\",\"gridcolor\":\"white\",\"gridwidth\":2,\"linecolor\":\"white\",\"showbackground\":true,\"ticks\":\"\",\"zerolinecolor\":\"white\"}},\"shapedefaults\":{\"line\":{\"color\":\"#2a3f5f\"}},\"ternary\":{\"aaxis\":{\"gridcolor\":\"white\",\"linecolor\":\"white\",\"ticks\":\"\"},\"baxis\":{\"gridcolor\":\"white\",\"linecolor\":\"white\",\"ticks\":\"\"},\"bgcolor\":\"#E5ECF6\",\"caxis\":{\"gridcolor\":\"white\",\"linecolor\":\"white\",\"ticks\":\"\"}},\"title\":{\"x\":0.05},\"xaxis\":{\"automargin\":true,\"gridcolor\":\"white\",\"linecolor\":\"white\",\"ticks\":\"\",\"title\":{\"standoff\":15},\"zerolinecolor\":\"white\",\"zerolinewidth\":2},\"yaxis\":{\"automargin\":true,\"gridcolor\":\"white\",\"linecolor\":\"white\",\"ticks\":\"\",\"title\":{\"standoff\":15},\"zerolinecolor\":\"white\",\"zerolinewidth\":2}}}},                        {\"responsive\": true}                    ).then(function(){\n",
       "                            \n",
       "var gd = document.getElementById('99f33666-d337-4e5f-8232-67a4057efc3e');\n",
       "var x = new MutationObserver(function (mutations, observer) {{\n",
       "        var display = window.getComputedStyle(gd).display;\n",
       "        if (!display || display === 'none') {{\n",
       "            console.log([gd, 'removed!']);\n",
       "            Plotly.purge(gd);\n",
       "            observer.disconnect();\n",
       "        }}\n",
       "}});\n",
       "\n",
       "// Listen for the removal of the full notebook cells\n",
       "var notebookContainer = gd.closest('#notebook-container');\n",
       "if (notebookContainer) {{\n",
       "    x.observe(notebookContainer, {childList: true});\n",
       "}}\n",
       "\n",
       "// Listen for the clearing of the current output cell\n",
       "var outputEl = gd.closest('.output');\n",
       "if (outputEl) {{\n",
       "    x.observe(outputEl, {childList: true});\n",
       "}}\n",
       "\n",
       "                        })                };                });            </script>        </div>"
      ]
     },
     "metadata": {},
     "output_type": "display_data"
    },
    {
     "data": {
      "text/html": []
     },
     "metadata": {},
     "output_type": "display_data"
    },
    {
     "data": {
      "application/vnd.plotly.v1+json": {
       "config": {
        "plotlyServerURL": "https://plot.ly"
       },
       "data": [
        {
         "fill": "tozeroy",
         "line": {
          "color": "darkblue"
         },
         "name": "Train Dataset",
         "type": "scatter",
         "x": [
          0.22024235878245102,
          0.22703831562606425,
          0.23383427246967745,
          0.24063022931329064,
          0.24742618615690387,
          0.2542221430005171,
          0.26101809984413027,
          0.2640884875134821,
          0.2678140566877435,
          0.2746100135313567,
          0.28140597037496995,
          0.2882019272185832,
          0.29020849002607385,
          0.29272923070083395,
          0.29499788406219635,
          0.2961465405749647,
          0.3000687075171904,
          0.3017938409058096,
          0.3030180546795474,
          0.3077903591458778,
          0.3085897977494228,
          0.30950868817158156,
          0.3107593998336739,
          0.3151063567423427,
          0.3152445202403734,
          0.31538575459303597,
          0.31814739917442963,
          0.31835592289568443,
          0.31874427087041957,
          0.31947508185395784,
          0.3213828212833882,
          0.3221817114366492,
          0.32300969939079655,
          0.3261278576748025,
          0.3275128651976995,
          0.3286358177330173,
          0.3289776682802624,
          0.32918876841320976,
          0.32945999999999875,
          0.3308498481750527,
          0.3309327459525615,
          0.33169275157216216,
          0.332073121208903,
          0.3328614142936644,
          0.3333333333333318,
          0.33357965482982255,
          0.3341687884543197,
          0.3350888505168449,
          0.33577362512387565,
          0.33633715375725654,
          0.3366064276693063,
          0.3373458168359671,
          0.3380531529736129,
          0.33807117549157495,
          0.3387671967377574,
          0.33969304725066574,
          0.33977444353458336,
          0.340402092668459,
          0.34169663538075246,
          0.34171933130686966,
          0.3425695819674889,
          0.3426598057435201,
          0.343006928034726,
          0.3443860636186025,
          0.34531370146337736,
          0.3456547788887915,
          0.3460901284156157,
          0.34746510351168325,
          0.34834657710273526,
          0.34893166327728925,
          0.34936553881110205,
          0.35016590668174624,
          0.35197702390410873,
          0.35476761797156237,
          0.3550895015708173,
          0.3561614956547153,
          0.3588681781730987,
          0.36060772151128995,
          0.36202716032107024,
          0.3627192150028706,
          0.3629574524983285,
          0.3634091325618238,
          0.3661254909089431,
          0.36828753457519575,
          0.3697534093419417,
          0.3703093104016511,
          0.37094881647548317,
          0.37311095100892466,
          0.3736608810554537,
          0.3752544368449171,
          0.3755360007605132,
          0.3765493661855549,
          0.3768630197089177,
          0.379813656565248,
          0.3818809547265438,
          0.3825477162440968,
          0.38334532302916813,
          0.3840786502856707,
          0.3842981937503443,
          0.3852023559113642,
          0.38538028911621836,
          0.38639403966004826,
          0.39014127987278135,
          0.3927667510130025,
          0.395586053828661,
          0.3969372367163946,
          0.40270321498400863,
          0.4034477244391753,
          0.40373319356000775,
          0.410529150403621,
          0.4166629779652181,
          0.4173251072472342,
          0.4241210640908474,
          0.42462439248219586,
          0.42468458664316333,
          0.4273518808293264,
          0.4290633255395623,
          0.4306161586292577,
          0.4309170209344606,
          0.43290646991178316,
          0.435049150961746,
          0.43771297777807383,
          0.4391763510051556,
          0.44450893462168706,
          0.4485799534066351,
          0.4513048914653003,
          0.45231686213240485,
          0.45810084830891346,
          0.4648968051525267,
          0.46770725918075706,
          0.4716927619961399,
          0.4784887188397531,
          0.48279533763216853,
          0.48525816856718756,
          0.4852846756833663,
          0.49208063252697953,
          0.49887658937059276,
          0.5011634751889005,
          0.505672546214206,
          0.5124685030578191,
          0.5183047536901627,
          0.5192644599014324,
          0.5260604167450456,
          0.5268335715091808,
          0.5328563735886588,
          0.539652330432272,
          0.5464482872758852,
          0.5532442441194985
         ],
         "y": [
          0.5945003633665823,
          0.48187026064060967,
          0.2566045564179101,
          0.0897793076005335,
          0.02072765867285403,
          0.004360735213336045,
          0.011362771837770506,
          0.02603008281257467,
          0.06538758503812875,
          0.26035877194236867,
          0.7167935473301994,
          1.4418929345501785,
          1.6915009749747292,
          2.021899025915534,
          2.335551044060084,
          2.501057633188037,
          3.10813862568758,
          3.3991028315247487,
          3.615320158083353,
          4.5378974534809755,
          4.705246620985503,
          4.902516480548811,
          5.18013477874009,
          6.249027120603304,
          6.286321168282301,
          6.324695666458684,
          7.1315620915994815,
          7.197242357573776,
          7.321475800844261,
          7.562137927851923,
          8.233480100794454,
          8.532865456792235,
          8.853809516941153,
          10.138961038149713,
          10.730098652583179,
          11.206660898203639,
          11.349962549688918,
          11.437852733100575,
          11.549997111229386,
          12.106489666359641,
          12.138503471952932,
          12.424352381761247,
          12.56169168692777,
          12.832384344800897,
          12.984494921181286,
          13.060682803962612,
          13.233406680932024,
          13.474330049252325,
          13.62899950955626,
          13.739494689382257,
          13.786746174558367,
          13.897480660952647,
          13.976657063238221,
          13.978326769874585,
          14.02944765174316,
          14.056839709364468,
          14.057028633364405,
          14.046508205457783,
          13.958989216454672,
          13.95668275662912,
          13.851820820900759,
          13.838627364421715,
          13.784285810017211,
          13.51517286384725,
          13.290722521636068,
          13.200394614599668,
          13.079543870297826,
          12.662227233648816,
          12.371707279434897,
          12.171510684962207,
          12.02014547149346,
          11.73629951339599,
          11.086359557056438,
          10.126965499548444,
          10.023383140264865,
          9.692711073367423,
          8.971237884857196,
          8.60081180650467,
          8.351368688306387,
          8.245644473805967,
          8.211486301799608,
          8.149702230417379,
          7.847041102530382,
          7.662028879011622,
          7.54691698807239,
          7.503069253838446,
          7.451559221726161,
          7.260944466040456,
          7.206760868424965,
          7.033146042648285,
          6.999704664314046,
          6.872127647580663,
          6.8303282326665835,
          6.385300700168873,
          6.0247326309297256,
          5.9018073286969805,
          5.75144990434724,
          5.610616691952447,
          5.56805828152522,
          5.391309207782442,
          5.356304032411155,
          5.156039336837602,
          4.421004206979345,
          3.9308769861216253,
          3.4446909182043592,
          3.2303813177680762,
          2.4955299748478605,
          2.4258597287068393,
          2.400852203029907,
          2.090790223283872,
          2.189518359192673,
          2.211068333146727,
          2.410026408949342,
          2.418207287557382,
          2.4190933587340786,
          2.436972152782134,
          2.4251631663463167,
          2.398608493951393,
          2.3917809548924316,
          2.333872645957448,
          2.2498313036669444,
          2.122744257619288,
          2.0466602221255776,
          1.7718802741274806,
          1.6013192044783757,
          1.513331239364783,
          1.4849995551537432,
          1.335204139170473,
          1.0770378695407499,
          0.9275570160994652,
          0.691738952582652,
          0.3249402612370232,
          0.1675469533138637,
          0.10721402940876427,
          0.10667096804365053,
          0.023851961655748936,
          0.003578179760658253,
          0.0017246932740891427,
          0.0003569209519632401,
          2.3549964378548543e-05,
          1.6363048814499127e-06,
          1.024757656372876e-06,
          2.9358411604484083e-08,
          1.9084566298681022e-08,
          5.532405827343389e-10,
          6.853884850982206e-12,
          5.5805077487264116e-14,
          2.98575535605616e-16
         ]
        },
        {
         "fill": "tozeroy",
         "line": {
          "color": "#69b3a2"
         },
         "name": "Test Dataset",
         "type": "scatter",
         "x": [
          0.22024235878245102,
          0.22703831562606425,
          0.23383427246967745,
          0.24063022931329064,
          0.24742618615690387,
          0.2542221430005171,
          0.26101809984413027,
          0.2640884875134821,
          0.2678140566877435,
          0.2746100135313567,
          0.28140597037496995,
          0.2882019272185832,
          0.29020849002607385,
          0.29272923070083395,
          0.29499788406219635,
          0.2961465405749647,
          0.3000687075171904,
          0.3017938409058096,
          0.3030180546795474,
          0.3077903591458778,
          0.3085897977494228,
          0.30950868817158156,
          0.3107593998336739,
          0.3151063567423427,
          0.3152445202403734,
          0.31538575459303597,
          0.31814739917442963,
          0.31835592289568443,
          0.31874427087041957,
          0.31947508185395784,
          0.3213828212833882,
          0.3221817114366492,
          0.32300969939079655,
          0.3261278576748025,
          0.3275128651976995,
          0.3286358177330173,
          0.3289776682802624,
          0.32918876841320976,
          0.32945999999999875,
          0.3308498481750527,
          0.3309327459525615,
          0.33169275157216216,
          0.332073121208903,
          0.3328614142936644,
          0.3333333333333318,
          0.33357965482982255,
          0.3341687884543197,
          0.3350888505168449,
          0.33577362512387565,
          0.33633715375725654,
          0.3366064276693063,
          0.3373458168359671,
          0.3380531529736129,
          0.33807117549157495,
          0.3387671967377574,
          0.33969304725066574,
          0.33977444353458336,
          0.340402092668459,
          0.34169663538075246,
          0.34171933130686966,
          0.3425695819674889,
          0.3426598057435201,
          0.343006928034726,
          0.3443860636186025,
          0.34531370146337736,
          0.3456547788887915,
          0.3460901284156157,
          0.34746510351168325,
          0.34834657710273526,
          0.34893166327728925,
          0.34936553881110205,
          0.35016590668174624,
          0.35197702390410873,
          0.35476761797156237,
          0.3550895015708173,
          0.3561614956547153,
          0.3588681781730987,
          0.36060772151128995,
          0.36202716032107024,
          0.3627192150028706,
          0.3629574524983285,
          0.3634091325618238,
          0.3661254909089431,
          0.36828753457519575,
          0.3697534093419417,
          0.3703093104016511,
          0.37094881647548317,
          0.37311095100892466,
          0.3736608810554537,
          0.3752544368449171,
          0.3755360007605132,
          0.3765493661855549,
          0.3768630197089177,
          0.379813656565248,
          0.3818809547265438,
          0.3825477162440968,
          0.38334532302916813,
          0.3840786502856707,
          0.3842981937503443,
          0.3852023559113642,
          0.38538028911621836,
          0.38639403966004826,
          0.39014127987278135,
          0.3927667510130025,
          0.395586053828661,
          0.3969372367163946,
          0.40270321498400863,
          0.4034477244391753,
          0.40373319356000775,
          0.410529150403621,
          0.4166629779652181,
          0.4173251072472342,
          0.4241210640908474,
          0.42462439248219586,
          0.42468458664316333,
          0.4273518808293264,
          0.4290633255395623,
          0.4306161586292577,
          0.4309170209344606,
          0.43290646991178316,
          0.435049150961746,
          0.43771297777807383,
          0.4391763510051556,
          0.44450893462168706,
          0.4485799534066351,
          0.4513048914653003,
          0.45231686213240485,
          0.45810084830891346,
          0.4648968051525267,
          0.46770725918075706,
          0.4716927619961399,
          0.4784887188397531,
          0.48279533763216853,
          0.48525816856718756,
          0.4852846756833663,
          0.49208063252697953,
          0.49887658937059276,
          0.5011634751889005,
          0.505672546214206,
          0.5124685030578191,
          0.5183047536901627,
          0.5192644599014324,
          0.5260604167450456,
          0.5268335715091808,
          0.5328563735886588,
          0.539652330432272,
          0.5464482872758852,
          0.5532442441194985
         ],
         "y": [
          0.2123164827677743,
          0.3457336438468883,
          0.49283499901768224,
          0.6213814704335981,
          0.7056947125500501,
          0.747970724723668,
          0.7883807972570466,
          0.8237030819525335,
          0.8941207012825186,
          1.1318550384730273,
          1.543409939825809,
          2.144979211798223,
          2.360272093459085,
          2.6560037607675624,
          2.9468891063143827,
          3.1032986747137645,
          3.6842431720093556,
          3.96249487991082,
          4.168033411386498,
          5.025658983811213,
          5.176476053257786,
          5.3516193249512565,
          5.5923437240011635,
          6.432481174782683,
          6.458828511883366,
          6.485713897977519,
          6.998167457803838,
          7.035547452212894,
          7.1045520920701,
          7.232086056727399,
          7.548377868106997,
          7.672563227419438,
          7.795424294270751,
          8.196817909017566,
          8.340061403170406,
          8.438802589650646,
          8.465657336012182,
          8.481481106846783,
          8.500954803326485,
          8.585409049790057,
          8.589627443921046,
          8.623967391347144,
          8.63821190802833,
          8.66147719411681,
          8.67137422043503,
          8.675345370318656,
          8.681536959421777,
          8.681970713261556,
          8.675102901966586,
          8.664943202368743,
          8.65867646191721,
          8.636870548735475,
          8.609864197116885,
          8.609099502778724,
          8.576732750842368,
          8.525404206809437,
          8.52045722136771,
          8.480048775752252,
          8.384759889513852,
          8.382954294431578,
          8.312207579890917,
          8.3043584138682,
          8.273579681701746,
          8.142909847667084,
          8.048440794339303,
          8.012572216606808,
          7.966003575565528,
          7.81405945665773,
          7.713678407675003,
          7.646176793599774,
          7.595808121099302,
          7.502480759366065,
          7.291488214357371,
          6.976219118959793,
          6.941189298938163,
          6.827097449375858,
          6.5593056936412495,
          6.404180224006659,
          6.287663361346956,
          6.234025714883181,
          6.216023542478798,
          6.182523163888366,
          5.996710230304218,
          5.863739924034698,
          5.778036030108483,
          5.745996980182551,
          5.709239553124287,
          5.583616429067172,
          5.550817656404385,
          5.45240391893091,
          5.434379435769092,
          5.367616873969935,
          5.34630331552577,
          5.128286609420713,
          4.95452896251812,
          4.894623094899812,
          4.8205207931932605,
          4.750107264894085,
          4.728614185530228,
          4.638178286904629,
          4.620030556389823,
          4.5145914534836225,
          4.101724292170086,
          3.8032206624937297,
          3.4910035313750085,
          3.349242643979031,
          2.847592328042543,
          2.79838704905485,
          2.780590531138246,
          2.536674736177453,
          2.570864403842929,
          2.5838809053116916,
          2.7412797230850665,
          2.751241309939719,
          2.752390285916528,
          2.7921772321501237,
          2.8037878484620107,
          2.8032020142882863,
          2.8017894037811493,
          2.7814696153715976,
          2.738146144223174,
          2.654811234613233,
          2.5965943761452883,
          2.330775790961077,
          2.102574709040611,
          1.9550758528825698,
          1.9034487495841081,
          1.660984835896993,
          1.5207409555546387,
          1.5075451078236015,
          1.5224822409803083,
          1.5919332415115677,
          1.630924608135901,
          1.6436329533886538,
          1.6437230122518438,
          1.632935862351358,
          1.5713248495487149,
          1.5460929389256504,
          1.4974202833371184,
          1.431331449276949,
          1.3698442481929283,
          1.3578931152039686,
          1.2494938998421317,
          1.2342974246796838,
          1.0985172004741015,
          0.9241867007057929,
          0.7518706517106546,
          0.592864276511565
         ]
        }
       ],
       "layout": {
        "height": 300,
        "legend": {
         "title": {
          "text": "Dataset"
         },
         "x": 1.02,
         "xanchor": "left",
         "y": 0.9,
         "yanchor": "top"
        },
        "template": {
         "data": {
          "bar": [
           {
            "error_x": {
             "color": "#2a3f5f"
            },
            "error_y": {
             "color": "#2a3f5f"
            },
            "marker": {
             "line": {
              "color": "#E5ECF6",
              "width": 0.5
             },
             "pattern": {
              "fillmode": "overlay",
              "size": 10,
              "solidity": 0.2
             }
            },
            "type": "bar"
           }
          ],
          "barpolar": [
           {
            "marker": {
             "line": {
              "color": "#E5ECF6",
              "width": 0.5
             },
             "pattern": {
              "fillmode": "overlay",
              "size": 10,
              "solidity": 0.2
             }
            },
            "type": "barpolar"
           }
          ],
          "carpet": [
           {
            "aaxis": {
             "endlinecolor": "#2a3f5f",
             "gridcolor": "white",
             "linecolor": "white",
             "minorgridcolor": "white",
             "startlinecolor": "#2a3f5f"
            },
            "baxis": {
             "endlinecolor": "#2a3f5f",
             "gridcolor": "white",
             "linecolor": "white",
             "minorgridcolor": "white",
             "startlinecolor": "#2a3f5f"
            },
            "type": "carpet"
           }
          ],
          "choropleth": [
           {
            "colorbar": {
             "outlinewidth": 0,
             "ticks": ""
            },
            "type": "choropleth"
           }
          ],
          "contour": [
           {
            "colorbar": {
             "outlinewidth": 0,
             "ticks": ""
            },
            "colorscale": [
             [
              0,
              "#0d0887"
             ],
             [
              0.1111111111111111,
              "#46039f"
             ],
             [
              0.2222222222222222,
              "#7201a8"
             ],
             [
              0.3333333333333333,
              "#9c179e"
             ],
             [
              0.4444444444444444,
              "#bd3786"
             ],
             [
              0.5555555555555556,
              "#d8576b"
             ],
             [
              0.6666666666666666,
              "#ed7953"
             ],
             [
              0.7777777777777778,
              "#fb9f3a"
             ],
             [
              0.8888888888888888,
              "#fdca26"
             ],
             [
              1,
              "#f0f921"
             ]
            ],
            "type": "contour"
           }
          ],
          "contourcarpet": [
           {
            "colorbar": {
             "outlinewidth": 0,
             "ticks": ""
            },
            "type": "contourcarpet"
           }
          ],
          "heatmap": [
           {
            "colorbar": {
             "outlinewidth": 0,
             "ticks": ""
            },
            "colorscale": [
             [
              0,
              "#0d0887"
             ],
             [
              0.1111111111111111,
              "#46039f"
             ],
             [
              0.2222222222222222,
              "#7201a8"
             ],
             [
              0.3333333333333333,
              "#9c179e"
             ],
             [
              0.4444444444444444,
              "#bd3786"
             ],
             [
              0.5555555555555556,
              "#d8576b"
             ],
             [
              0.6666666666666666,
              "#ed7953"
             ],
             [
              0.7777777777777778,
              "#fb9f3a"
             ],
             [
              0.8888888888888888,
              "#fdca26"
             ],
             [
              1,
              "#f0f921"
             ]
            ],
            "type": "heatmap"
           }
          ],
          "heatmapgl": [
           {
            "colorbar": {
             "outlinewidth": 0,
             "ticks": ""
            },
            "colorscale": [
             [
              0,
              "#0d0887"
             ],
             [
              0.1111111111111111,
              "#46039f"
             ],
             [
              0.2222222222222222,
              "#7201a8"
             ],
             [
              0.3333333333333333,
              "#9c179e"
             ],
             [
              0.4444444444444444,
              "#bd3786"
             ],
             [
              0.5555555555555556,
              "#d8576b"
             ],
             [
              0.6666666666666666,
              "#ed7953"
             ],
             [
              0.7777777777777778,
              "#fb9f3a"
             ],
             [
              0.8888888888888888,
              "#fdca26"
             ],
             [
              1,
              "#f0f921"
             ]
            ],
            "type": "heatmapgl"
           }
          ],
          "histogram": [
           {
            "marker": {
             "pattern": {
              "fillmode": "overlay",
              "size": 10,
              "solidity": 0.2
             }
            },
            "type": "histogram"
           }
          ],
          "histogram2d": [
           {
            "colorbar": {
             "outlinewidth": 0,
             "ticks": ""
            },
            "colorscale": [
             [
              0,
              "#0d0887"
             ],
             [
              0.1111111111111111,
              "#46039f"
             ],
             [
              0.2222222222222222,
              "#7201a8"
             ],
             [
              0.3333333333333333,
              "#9c179e"
             ],
             [
              0.4444444444444444,
              "#bd3786"
             ],
             [
              0.5555555555555556,
              "#d8576b"
             ],
             [
              0.6666666666666666,
              "#ed7953"
             ],
             [
              0.7777777777777778,
              "#fb9f3a"
             ],
             [
              0.8888888888888888,
              "#fdca26"
             ],
             [
              1,
              "#f0f921"
             ]
            ],
            "type": "histogram2d"
           }
          ],
          "histogram2dcontour": [
           {
            "colorbar": {
             "outlinewidth": 0,
             "ticks": ""
            },
            "colorscale": [
             [
              0,
              "#0d0887"
             ],
             [
              0.1111111111111111,
              "#46039f"
             ],
             [
              0.2222222222222222,
              "#7201a8"
             ],
             [
              0.3333333333333333,
              "#9c179e"
             ],
             [
              0.4444444444444444,
              "#bd3786"
             ],
             [
              0.5555555555555556,
              "#d8576b"
             ],
             [
              0.6666666666666666,
              "#ed7953"
             ],
             [
              0.7777777777777778,
              "#fb9f3a"
             ],
             [
              0.8888888888888888,
              "#fdca26"
             ],
             [
              1,
              "#f0f921"
             ]
            ],
            "type": "histogram2dcontour"
           }
          ],
          "mesh3d": [
           {
            "colorbar": {
             "outlinewidth": 0,
             "ticks": ""
            },
            "type": "mesh3d"
           }
          ],
          "parcoords": [
           {
            "line": {
             "colorbar": {
              "outlinewidth": 0,
              "ticks": ""
             }
            },
            "type": "parcoords"
           }
          ],
          "pie": [
           {
            "automargin": true,
            "type": "pie"
           }
          ],
          "scatter": [
           {
            "marker": {
             "colorbar": {
              "outlinewidth": 0,
              "ticks": ""
             }
            },
            "type": "scatter"
           }
          ],
          "scatter3d": [
           {
            "line": {
             "colorbar": {
              "outlinewidth": 0,
              "ticks": ""
             }
            },
            "marker": {
             "colorbar": {
              "outlinewidth": 0,
              "ticks": ""
             }
            },
            "type": "scatter3d"
           }
          ],
          "scattercarpet": [
           {
            "marker": {
             "colorbar": {
              "outlinewidth": 0,
              "ticks": ""
             }
            },
            "type": "scattercarpet"
           }
          ],
          "scattergeo": [
           {
            "marker": {
             "colorbar": {
              "outlinewidth": 0,
              "ticks": ""
             }
            },
            "type": "scattergeo"
           }
          ],
          "scattergl": [
           {
            "marker": {
             "colorbar": {
              "outlinewidth": 0,
              "ticks": ""
             }
            },
            "type": "scattergl"
           }
          ],
          "scattermapbox": [
           {
            "marker": {
             "colorbar": {
              "outlinewidth": 0,
              "ticks": ""
             }
            },
            "type": "scattermapbox"
           }
          ],
          "scatterpolar": [
           {
            "marker": {
             "colorbar": {
              "outlinewidth": 0,
              "ticks": ""
             }
            },
            "type": "scatterpolar"
           }
          ],
          "scatterpolargl": [
           {
            "marker": {
             "colorbar": {
              "outlinewidth": 0,
              "ticks": ""
             }
            },
            "type": "scatterpolargl"
           }
          ],
          "scatterternary": [
           {
            "marker": {
             "colorbar": {
              "outlinewidth": 0,
              "ticks": ""
             }
            },
            "type": "scatterternary"
           }
          ],
          "surface": [
           {
            "colorbar": {
             "outlinewidth": 0,
             "ticks": ""
            },
            "colorscale": [
             [
              0,
              "#0d0887"
             ],
             [
              0.1111111111111111,
              "#46039f"
             ],
             [
              0.2222222222222222,
              "#7201a8"
             ],
             [
              0.3333333333333333,
              "#9c179e"
             ],
             [
              0.4444444444444444,
              "#bd3786"
             ],
             [
              0.5555555555555556,
              "#d8576b"
             ],
             [
              0.6666666666666666,
              "#ed7953"
             ],
             [
              0.7777777777777778,
              "#fb9f3a"
             ],
             [
              0.8888888888888888,
              "#fdca26"
             ],
             [
              1,
              "#f0f921"
             ]
            ],
            "type": "surface"
           }
          ],
          "table": [
           {
            "cells": {
             "fill": {
              "color": "#EBF0F8"
             },
             "line": {
              "color": "white"
             }
            },
            "header": {
             "fill": {
              "color": "#C8D4E3"
             },
             "line": {
              "color": "white"
             }
            },
            "type": "table"
           }
          ]
         },
         "layout": {
          "annotationdefaults": {
           "arrowcolor": "#2a3f5f",
           "arrowhead": 0,
           "arrowwidth": 1
          },
          "autotypenumbers": "strict",
          "coloraxis": {
           "colorbar": {
            "outlinewidth": 0,
            "ticks": ""
           }
          },
          "colorscale": {
           "diverging": [
            [
             0,
             "#8e0152"
            ],
            [
             0.1,
             "#c51b7d"
            ],
            [
             0.2,
             "#de77ae"
            ],
            [
             0.3,
             "#f1b6da"
            ],
            [
             0.4,
             "#fde0ef"
            ],
            [
             0.5,
             "#f7f7f7"
            ],
            [
             0.6,
             "#e6f5d0"
            ],
            [
             0.7,
             "#b8e186"
            ],
            [
             0.8,
             "#7fbc41"
            ],
            [
             0.9,
             "#4d9221"
            ],
            [
             1,
             "#276419"
            ]
           ],
           "sequential": [
            [
             0,
             "#0d0887"
            ],
            [
             0.1111111111111111,
             "#46039f"
            ],
            [
             0.2222222222222222,
             "#7201a8"
            ],
            [
             0.3333333333333333,
             "#9c179e"
            ],
            [
             0.4444444444444444,
             "#bd3786"
            ],
            [
             0.5555555555555556,
             "#d8576b"
            ],
            [
             0.6666666666666666,
             "#ed7953"
            ],
            [
             0.7777777777777778,
             "#fb9f3a"
            ],
            [
             0.8888888888888888,
             "#fdca26"
            ],
            [
             1,
             "#f0f921"
            ]
           ],
           "sequentialminus": [
            [
             0,
             "#0d0887"
            ],
            [
             0.1111111111111111,
             "#46039f"
            ],
            [
             0.2222222222222222,
             "#7201a8"
            ],
            [
             0.3333333333333333,
             "#9c179e"
            ],
            [
             0.4444444444444444,
             "#bd3786"
            ],
            [
             0.5555555555555556,
             "#d8576b"
            ],
            [
             0.6666666666666666,
             "#ed7953"
            ],
            [
             0.7777777777777778,
             "#fb9f3a"
            ],
            [
             0.8888888888888888,
             "#fdca26"
            ],
            [
             1,
             "#f0f921"
            ]
           ]
          },
          "colorway": [
           "#636efa",
           "#EF553B",
           "#00cc96",
           "#ab63fa",
           "#FFA15A",
           "#19d3f3",
           "#FF6692",
           "#B6E880",
           "#FF97FF",
           "#FECB52"
          ],
          "font": {
           "color": "#2a3f5f"
          },
          "geo": {
           "bgcolor": "white",
           "lakecolor": "white",
           "landcolor": "#E5ECF6",
           "showlakes": true,
           "showland": true,
           "subunitcolor": "white"
          },
          "hoverlabel": {
           "align": "left"
          },
          "hovermode": "closest",
          "mapbox": {
           "style": "light"
          },
          "paper_bgcolor": "white",
          "plot_bgcolor": "#E5ECF6",
          "polar": {
           "angularaxis": {
            "gridcolor": "white",
            "linecolor": "white",
            "ticks": ""
           },
           "bgcolor": "#E5ECF6",
           "radialaxis": {
            "gridcolor": "white",
            "linecolor": "white",
            "ticks": ""
           }
          },
          "scene": {
           "xaxis": {
            "backgroundcolor": "#E5ECF6",
            "gridcolor": "white",
            "gridwidth": 2,
            "linecolor": "white",
            "showbackground": true,
            "ticks": "",
            "zerolinecolor": "white"
           },
           "yaxis": {
            "backgroundcolor": "#E5ECF6",
            "gridcolor": "white",
            "gridwidth": 2,
            "linecolor": "white",
            "showbackground": true,
            "ticks": "",
            "zerolinecolor": "white"
           },
           "zaxis": {
            "backgroundcolor": "#E5ECF6",
            "gridcolor": "white",
            "gridwidth": 2,
            "linecolor": "white",
            "showbackground": true,
            "ticks": "",
            "zerolinecolor": "white"
           }
          },
          "shapedefaults": {
           "line": {
            "color": "#2a3f5f"
           }
          },
          "ternary": {
           "aaxis": {
            "gridcolor": "white",
            "linecolor": "white",
            "ticks": ""
           },
           "baxis": {
            "gridcolor": "white",
            "linecolor": "white",
            "ticks": ""
           },
           "bgcolor": "#E5ECF6",
           "caxis": {
            "gridcolor": "white",
            "linecolor": "white",
            "ticks": ""
           }
          },
          "title": {
           "x": 0.05
          },
          "xaxis": {
           "automargin": true,
           "gridcolor": "white",
           "linecolor": "white",
           "ticks": "",
           "title": {
            "standoff": 15
           },
           "zerolinecolor": "white",
           "zerolinewidth": 2
          },
          "yaxis": {
           "automargin": true,
           "gridcolor": "white",
           "linecolor": "white",
           "ticks": "",
           "title": {
            "standoff": 15
           },
           "zerolinecolor": "white",
           "zerolinewidth": 2
          }
         }
        },
        "title": {
         "text": "Feature: normalized_red_mean - Explains 33.33% of dataset difference"
        },
        "width": 700,
        "xaxis": {
         "fixedrange": false,
         "range": [
          0.2640884875134821,
          0.5268335715091808
         ],
         "title": {
          "text": "Value"
         },
         "type": "linear"
        },
        "yaxis": {
         "autorange": true,
         "fixedrange": true,
         "range": [
          0,
          14.796872245646743
         ],
         "title": {
          "text": "Probability Density"
         },
         "type": "linear"
        }
       }
      },
      "image/png": "[encoded data removed]",
      "text/html": [
       "<div>                            <div id=\"0e159018-3c3a-40ab-97f4-911016ba890a\" class=\"plotly-graph-div\" style=\"height:300px; width:700px;\"></div>            <script type=\"text/javascript\">                require([\"plotly\"], function(Plotly) {                    window.PLOTLYENV=window.PLOTLYENV || {};                                    if (document.getElementById(\"0e159018-3c3a-40ab-97f4-911016ba890a\")) {                    Plotly.newPlot(                        \"0e159018-3c3a-40ab-97f4-911016ba890a\",                        [{\"fill\":\"tozeroy\",\"line\":{\"color\":\"darkblue\"},\"name\":\"Train Dataset\",\"x\":[0.22024235878245102,0.22703831562606425,0.23383427246967745,0.24063022931329064,0.24742618615690387,0.2542221430005171,0.26101809984413027,0.2640884875134821,0.2678140566877435,0.2746100135313567,0.28140597037496995,0.2882019272185832,0.29020849002607385,0.29272923070083395,0.29499788406219635,0.2961465405749647,0.3000687075171904,0.3017938409058096,0.3030180546795474,0.3077903591458778,0.3085897977494228,0.30950868817158156,0.3107593998336739,0.3151063567423427,0.3152445202403734,0.31538575459303597,0.31814739917442963,0.31835592289568443,0.31874427087041957,0.31947508185395784,0.3213828212833882,0.3221817114366492,0.32300969939079655,0.3261278576748025,0.3275128651976995,0.3286358177330173,0.3289776682802624,0.32918876841320976,0.32945999999999875,0.3308498481750527,0.3309327459525615,0.33169275157216216,0.332073121208903,0.3328614142936644,0.3333333333333318,0.33357965482982255,0.3341687884543197,0.3350888505168449,0.33577362512387565,0.33633715375725654,0.3366064276693063,0.3373458168359671,0.3380531529736129,0.33807117549157495,0.3387671967377574,0.33969304725066574,0.33977444353458336,0.340402092668459,0.34169663538075246,0.34171933130686966,0.3425695819674889,0.3426598057435201,0.343006928034726,0.3443860636186025,0.34531370146337736,0.3456547788887915,0.3460901284156157,0.34746510351168325,0.34834657710273526,0.34893166327728925,0.34936553881110205,0.35016590668174624,0.35197702390410873,0.35476761797156237,0.3550895015708173,0.3561614956547153,0.3588681781730987,0.36060772151128995,0.36202716032107024,0.3627192150028706,0.3629574524983285,0.3634091325618238,0.3661254909089431,0.36828753457519575,0.3697534093419417,0.3703093104016511,0.37094881647548317,0.37311095100892466,0.3736608810554537,0.3752544368449171,0.3755360007605132,0.3765493661855549,0.3768630197089177,0.379813656565248,0.3818809547265438,0.3825477162440968,0.38334532302916813,0.3840786502856707,0.3842981937503443,0.3852023559113642,0.38538028911621836,0.38639403966004826,0.39014127987278135,0.3927667510130025,0.395586053828661,0.3969372367163946,0.40270321498400863,0.4034477244391753,0.40373319356000775,0.410529150403621,0.4166629779652181,0.4173251072472342,0.4241210640908474,0.42462439248219586,0.42468458664316333,0.4273518808293264,0.4290633255395623,0.4306161586292577,0.4309170209344606,0.43290646991178316,0.435049150961746,0.43771297777807383,0.4391763510051556,0.44450893462168706,0.4485799534066351,0.4513048914653003,0.45231686213240485,0.45810084830891346,0.4648968051525267,0.46770725918075706,0.4716927619961399,0.4784887188397531,0.48279533763216853,0.48525816856718756,0.4852846756833663,0.49208063252697953,0.49887658937059276,0.5011634751889005,0.505672546214206,0.5124685030578191,0.5183047536901627,0.5192644599014324,0.5260604167450456,0.5268335715091808,0.5328563735886588,0.539652330432272,0.5464482872758852,0.5532442441194985],\"y\":[0.5945003633665823,0.48187026064060967,0.2566045564179101,0.0897793076005335,0.02072765867285403,0.004360735213336045,0.011362771837770506,0.02603008281257467,0.06538758503812875,0.26035877194236867,0.7167935473301994,1.4418929345501785,1.6915009749747292,2.021899025915534,2.335551044060084,2.501057633188037,3.10813862568758,3.3991028315247487,3.615320158083353,4.5378974534809755,4.705246620985503,4.902516480548811,5.18013477874009,6.249027120603304,6.286321168282301,6.324695666458684,7.1315620915994815,7.197242357573776,7.321475800844261,7.562137927851923,8.233480100794454,8.532865456792235,8.853809516941153,10.138961038149713,10.730098652583179,11.206660898203639,11.349962549688918,11.437852733100575,11.549997111229386,12.106489666359641,12.138503471952932,12.424352381761247,12.56169168692777,12.832384344800897,12.984494921181286,13.060682803962612,13.233406680932024,13.474330049252325,13.62899950955626,13.739494689382257,13.786746174558367,13.897480660952647,13.976657063238221,13.978326769874585,14.02944765174316,14.056839709364468,14.057028633364405,14.046508205457783,13.958989216454672,13.95668275662912,13.851820820900759,13.838627364421715,13.784285810017211,13.51517286384725,13.290722521636068,13.200394614599668,13.079543870297826,12.662227233648816,12.371707279434897,12.171510684962207,12.02014547149346,11.73629951339599,11.086359557056438,10.126965499548444,10.023383140264865,9.692711073367423,8.971237884857196,8.60081180650467,8.351368688306387,8.245644473805967,8.211486301799608,8.149702230417379,7.847041102530382,7.662028879011622,7.54691698807239,7.503069253838446,7.451559221726161,7.260944466040456,7.206760868424965,7.033146042648285,6.999704664314046,6.872127647580663,6.8303282326665835,6.385300700168873,6.0247326309297256,5.9018073286969805,5.75144990434724,5.610616691952447,5.56805828152522,5.391309207782442,5.356304032411155,5.156039336837602,4.421004206979345,3.9308769861216253,3.4446909182043592,3.2303813177680762,2.4955299748478605,2.4258597287068393,2.400852203029907,2.090790223283872,2.189518359192673,2.211068333146727,2.410026408949342,2.418207287557382,2.4190933587340786,2.436972152782134,2.4251631663463167,2.398608493951393,2.3917809548924316,2.333872645957448,2.2498313036669444,2.122744257619288,2.0466602221255776,1.7718802741274806,1.6013192044783757,1.513331239364783,1.4849995551537432,1.335204139170473,1.0770378695407499,0.9275570160994652,0.691738952582652,0.3249402612370232,0.1675469533138637,0.10721402940876427,0.10667096804365053,0.023851961655748936,0.003578179760658253,0.0017246932740891427,0.0003569209519632401,2.3549964378548543e-05,1.6363048814499127e-06,1.024757656372876e-06,2.9358411604484083e-08,1.9084566298681022e-08,5.532405827343389e-10,6.853884850982206e-12,5.5805077487264116e-14,2.98575535605616e-16],\"type\":\"scatter\"},{\"fill\":\"tozeroy\",\"line\":{\"color\":\"#69b3a2\"},\"name\":\"Test Dataset\",\"x\":[0.22024235878245102,0.22703831562606425,0.23383427246967745,0.24063022931329064,0.24742618615690387,0.2542221430005171,0.26101809984413027,0.2640884875134821,0.2678140566877435,0.2746100135313567,0.28140597037496995,0.2882019272185832,0.29020849002607385,0.29272923070083395,0.29499788406219635,0.2961465405749647,0.3000687075171904,0.3017938409058096,0.3030180546795474,0.3077903591458778,0.3085897977494228,0.30950868817158156,0.3107593998336739,0.3151063567423427,0.3152445202403734,0.31538575459303597,0.31814739917442963,0.31835592289568443,0.31874427087041957,0.31947508185395784,0.3213828212833882,0.3221817114366492,0.32300969939079655,0.3261278576748025,0.3275128651976995,0.3286358177330173,0.3289776682802624,0.32918876841320976,0.32945999999999875,0.3308498481750527,0.3309327459525615,0.33169275157216216,0.332073121208903,0.3328614142936644,0.3333333333333318,0.33357965482982255,0.3341687884543197,0.3350888505168449,0.33577362512387565,0.33633715375725654,0.3366064276693063,0.3373458168359671,0.3380531529736129,0.33807117549157495,0.3387671967377574,0.33969304725066574,0.33977444353458336,0.340402092668459,0.34169663538075246,0.34171933130686966,0.3425695819674889,0.3426598057435201,0.343006928034726,0.3443860636186025,0.34531370146337736,0.3456547788887915,0.3460901284156157,0.34746510351168325,0.34834657710273526,0.34893166327728925,0.34936553881110205,0.35016590668174624,0.35197702390410873,0.35476761797156237,0.3550895015708173,0.3561614956547153,0.3588681781730987,0.36060772151128995,0.36202716032107024,0.3627192150028706,0.3629574524983285,0.3634091325618238,0.3661254909089431,0.36828753457519575,0.3697534093419417,0.3703093104016511,0.37094881647548317,0.37311095100892466,0.3736608810554537,0.3752544368449171,0.3755360007605132,0.3765493661855549,0.3768630197089177,0.379813656565248,0.3818809547265438,0.3825477162440968,0.38334532302916813,0.3840786502856707,0.3842981937503443,0.3852023559113642,0.38538028911621836,0.38639403966004826,0.39014127987278135,0.3927667510130025,0.395586053828661,0.3969372367163946,0.40270321498400863,0.4034477244391753,0.40373319356000775,0.410529150403621,0.4166629779652181,0.4173251072472342,0.4241210640908474,0.42462439248219586,0.42468458664316333,0.4273518808293264,0.4290633255395623,0.4306161586292577,0.4309170209344606,0.43290646991178316,0.435049150961746,0.43771297777807383,0.4391763510051556,0.44450893462168706,0.4485799534066351,0.4513048914653003,0.45231686213240485,0.45810084830891346,0.4648968051525267,0.46770725918075706,0.4716927619961399,0.4784887188397531,0.48279533763216853,0.48525816856718756,0.4852846756833663,0.49208063252697953,0.49887658937059276,0.5011634751889005,0.505672546214206,0.5124685030578191,0.5183047536901627,0.5192644599014324,0.5260604167450456,0.5268335715091808,0.5328563735886588,0.539652330432272,0.5464482872758852,0.5532442441194985],\"y\":[0.2123164827677743,0.3457336438468883,0.49283499901768224,0.6213814704335981,0.7056947125500501,0.747970724723668,0.7883807972570466,0.8237030819525335,0.8941207012825186,1.1318550384730273,1.543409939825809,2.144979211798223,2.360272093459085,2.6560037607675624,2.9468891063143827,3.1032986747137645,3.6842431720093556,3.96249487991082,4.168033411386498,5.025658983811213,5.176476053257786,5.3516193249512565,5.5923437240011635,6.432481174782683,6.458828511883366,6.485713897977519,6.998167457803838,7.035547452212894,7.1045520920701,7.232086056727399,7.548377868106997,7.672563227419438,7.795424294270751,8.196817909017566,8.340061403170406,8.438802589650646,8.465657336012182,8.481481106846783,8.500954803326485,8.585409049790057,8.589627443921046,8.623967391347144,8.63821190802833,8.66147719411681,8.67137422043503,8.675345370318656,8.681536959421777,8.681970713261556,8.675102901966586,8.664943202368743,8.65867646191721,8.636870548735475,8.609864197116885,8.609099502778724,8.576732750842368,8.525404206809437,8.52045722136771,8.480048775752252,8.384759889513852,8.382954294431578,8.312207579890917,8.3043584138682,8.273579681701746,8.142909847667084,8.048440794339303,8.012572216606808,7.966003575565528,7.81405945665773,7.713678407675003,7.646176793599774,7.595808121099302,7.502480759366065,7.291488214357371,6.976219118959793,6.941189298938163,6.827097449375858,6.5593056936412495,6.404180224006659,6.287663361346956,6.234025714883181,6.216023542478798,6.182523163888366,5.996710230304218,5.863739924034698,5.778036030108483,5.745996980182551,5.709239553124287,5.583616429067172,5.550817656404385,5.45240391893091,5.434379435769092,5.367616873969935,5.34630331552577,5.128286609420713,4.95452896251812,4.894623094899812,4.8205207931932605,4.750107264894085,4.728614185530228,4.638178286904629,4.620030556389823,4.5145914534836225,4.101724292170086,3.8032206624937297,3.4910035313750085,3.349242643979031,2.847592328042543,2.79838704905485,2.780590531138246,2.536674736177453,2.570864403842929,2.5838809053116916,2.7412797230850665,2.751241309939719,2.752390285916528,2.7921772321501237,2.8037878484620107,2.8032020142882863,2.8017894037811493,2.7814696153715976,2.738146144223174,2.654811234613233,2.5965943761452883,2.330775790961077,2.102574709040611,1.9550758528825698,1.9034487495841081,1.660984835896993,1.5207409555546387,1.5075451078236015,1.5224822409803083,1.5919332415115677,1.630924608135901,1.6436329533886538,1.6437230122518438,1.632935862351358,1.5713248495487149,1.5460929389256504,1.4974202833371184,1.431331449276949,1.3698442481929283,1.3578931152039686,1.2494938998421317,1.2342974246796838,1.0985172004741015,0.9241867007057929,0.7518706517106546,0.592864276511565],\"type\":\"scatter\"}],                        {\"height\":300,\"legend\":{\"title\":{\"text\":\"Dataset\"},\"xanchor\":\"left\",\"y\":0.9,\"yanchor\":\"top\"},\"title\":{\"text\":\"Feature: normalized_red_mean - Explains 33.33% of dataset difference\"},\"width\":700,\"xaxis\":{\"fixedrange\":false,\"range\":[0.2640884875134821,0.5268335715091808],\"title\":{\"text\":\"Value\"}},\"yaxis\":{\"fixedrange\":true,\"title\":{\"text\":\"Probability Density\"}},\"template\":{\"data\":{\"bar\":[{\"error_x\":{\"color\":\"#2a3f5f\"},\"error_y\":{\"color\":\"#2a3f5f\"},\"marker\":{\"line\":{\"color\":\"#E5ECF6\",\"width\":0.5},\"pattern\":{\"fillmode\":\"overlay\",\"size\":10,\"solidity\":0.2}},\"type\":\"bar\"}],\"barpolar\":[{\"marker\":{\"line\":{\"color\":\"#E5ECF6\",\"width\":0.5},\"pattern\":{\"fillmode\":\"overlay\",\"size\":10,\"solidity\":0.2}},\"type\":\"barpolar\"}],\"carpet\":[{\"aaxis\":{\"endlinecolor\":\"#2a3f5f\",\"gridcolor\":\"white\",\"linecolor\":\"white\",\"minorgridcolor\":\"white\",\"startlinecolor\":\"#2a3f5f\"},\"baxis\":{\"endlinecolor\":\"#2a3f5f\",\"gridcolor\":\"white\",\"linecolor\":\"white\",\"minorgridcolor\":\"white\",\"startlinecolor\":\"#2a3f5f\"},\"type\":\"carpet\"}],\"choropleth\":[{\"colorbar\":{\"outlinewidth\":0,\"ticks\":\"\"},\"type\":\"choropleth\"}],\"contour\":[{\"colorbar\":{\"outlinewidth\":0,\"ticks\":\"\"},\"colorscale\":[[0.0,\"#0d0887\"],[0.1111111111111111,\"#46039f\"],[0.2222222222222222,\"#7201a8\"],[0.3333333333333333,\"#9c179e\"],[0.4444444444444444,\"#bd3786\"],[0.5555555555555556,\"#d8576b\"],[0.6666666666666666,\"#ed7953\"],[0.7777777777777778,\"#fb9f3a\"],[0.8888888888888888,\"#fdca26\"],[1.0,\"#f0f921\"]],\"type\":\"contour\"}],\"contourcarpet\":[{\"colorbar\":{\"outlinewidth\":0,\"ticks\":\"\"},\"type\":\"contourcarpet\"}],\"heatmap\":[{\"colorbar\":{\"outlinewidth\":0,\"ticks\":\"\"},\"colorscale\":[[0.0,\"#0d0887\"],[0.1111111111111111,\"#46039f\"],[0.2222222222222222,\"#7201a8\"],[0.3333333333333333,\"#9c179e\"],[0.4444444444444444,\"#bd3786\"],[0.5555555555555556,\"#d8576b\"],[0.6666666666666666,\"#ed7953\"],[0.7777777777777778,\"#fb9f3a\"],[0.8888888888888888,\"#fdca26\"],[1.0,\"#f0f921\"]],\"type\":\"heatmap\"}],\"heatmapgl\":[{\"colorbar\":{\"outlinewidth\":0,\"ticks\":\"\"},\"colorscale\":[[0.0,\"#0d0887\"],[0.1111111111111111,\"#46039f\"],[0.2222222222222222,\"#7201a8\"],[0.3333333333333333,\"#9c179e\"],[0.4444444444444444,\"#bd3786\"],[0.5555555555555556,\"#d8576b\"],[0.6666666666666666,\"#ed7953\"],[0.7777777777777778,\"#fb9f3a\"],[0.8888888888888888,\"#fdca26\"],[1.0,\"#f0f921\"]],\"type\":\"heatmapgl\"}],\"histogram\":[{\"marker\":{\"pattern\":{\"fillmode\":\"overlay\",\"size\":10,\"solidity\":0.2}},\"type\":\"histogram\"}],\"histogram2d\":[{\"colorbar\":{\"outlinewidth\":0,\"ticks\":\"\"},\"colorscale\":[[0.0,\"#0d0887\"],[0.1111111111111111,\"#46039f\"],[0.2222222222222222,\"#7201a8\"],[0.3333333333333333,\"#9c179e\"],[0.4444444444444444,\"#bd3786\"],[0.5555555555555556,\"#d8576b\"],[0.6666666666666666,\"#ed7953\"],[0.7777777777777778,\"#fb9f3a\"],[0.8888888888888888,\"#fdca26\"],[1.0,\"#f0f921\"]],\"type\":\"histogram2d\"}],\"histogram2dcontour\":[{\"colorbar\":{\"outlinewidth\":0,\"ticks\":\"\"},\"colorscale\":[[0.0,\"#0d0887\"],[0.1111111111111111,\"#46039f\"],[0.2222222222222222,\"#7201a8\"],[0.3333333333333333,\"#9c179e\"],[0.4444444444444444,\"#bd3786\"],[0.5555555555555556,\"#d8576b\"],[0.6666666666666666,\"#ed7953\"],[0.7777777777777778,\"#fb9f3a\"],[0.8888888888888888,\"#fdca26\"],[1.0,\"#f0f921\"]],\"type\":\"histogram2dcontour\"}],\"mesh3d\":[{\"colorbar\":{\"outlinewidth\":0,\"ticks\":\"\"},\"type\":\"mesh3d\"}],\"parcoords\":[{\"line\":{\"colorbar\":{\"outlinewidth\":0,\"ticks\":\"\"}},\"type\":\"parcoords\"}],\"pie\":[{\"automargin\":true,\"type\":\"pie\"}],\"scatter\":[{\"marker\":{\"colorbar\":{\"outlinewidth\":0,\"ticks\":\"\"}},\"type\":\"scatter\"}],\"scatter3d\":[{\"line\":{\"colorbar\":{\"outlinewidth\":0,\"ticks\":\"\"}},\"marker\":{\"colorbar\":{\"outlinewidth\":0,\"ticks\":\"\"}},\"type\":\"scatter3d\"}],\"scattercarpet\":[{\"marker\":{\"colorbar\":{\"outlinewidth\":0,\"ticks\":\"\"}},\"type\":\"scattercarpet\"}],\"scattergeo\":[{\"marker\":{\"colorbar\":{\"outlinewidth\":0,\"ticks\":\"\"}},\"type\":\"scattergeo\"}],\"scattergl\":[{\"marker\":{\"colorbar\":{\"outlinewidth\":0,\"ticks\":\"\"}},\"type\":\"scattergl\"}],\"scattermapbox\":[{\"marker\":{\"colorbar\":{\"outlinewidth\":0,\"ticks\":\"\"}},\"type\":\"scattermapbox\"}],\"scatterpolar\":[{\"marker\":{\"colorbar\":{\"outlinewidth\":0,\"ticks\":\"\"}},\"type\":\"scatterpolar\"}],\"scatterpolargl\":[{\"marker\":{\"colorbar\":{\"outlinewidth\":0,\"ticks\":\"\"}},\"type\":\"scatterpolargl\"}],\"scatterternary\":[{\"marker\":{\"colorbar\":{\"outlinewidth\":0,\"ticks\":\"\"}},\"type\":\"scatterternary\"}],\"surface\":[{\"colorbar\":{\"outlinewidth\":0,\"ticks\":\"\"},\"colorscale\":[[0.0,\"#0d0887\"],[0.1111111111111111,\"#46039f\"],[0.2222222222222222,\"#7201a8\"],[0.3333333333333333,\"#9c179e\"],[0.4444444444444444,\"#bd3786\"],[0.5555555555555556,\"#d8576b\"],[0.6666666666666666,\"#ed7953\"],[0.7777777777777778,\"#fb9f3a\"],[0.8888888888888888,\"#fdca26\"],[1.0,\"#f0f921\"]],\"type\":\"surface\"}],\"table\":[{\"cells\":{\"fill\":{\"color\":\"#EBF0F8\"},\"line\":{\"color\":\"white\"}},\"header\":{\"fill\":{\"color\":\"#C8D4E3\"},\"line\":{\"color\":\"white\"}},\"type\":\"table\"}]},\"layout\":{\"annotationdefaults\":{\"arrowcolor\":\"#2a3f5f\",\"arrowhead\":0,\"arrowwidth\":1},\"autotypenumbers\":\"strict\",\"coloraxis\":{\"colorbar\":{\"outlinewidth\":0,\"ticks\":\"\"}},\"colorscale\":{\"diverging\":[[0,\"#8e0152\"],[0.1,\"#c51b7d\"],[0.2,\"#de77ae\"],[0.3,\"#f1b6da\"],[0.4,\"#fde0ef\"],[0.5,\"#f7f7f7\"],[0.6,\"#e6f5d0\"],[0.7,\"#b8e186\"],[0.8,\"#7fbc41\"],[0.9,\"#4d9221\"],[1,\"#276419\"]],\"sequential\":[[0.0,\"#0d0887\"],[0.1111111111111111,\"#46039f\"],[0.2222222222222222,\"#7201a8\"],[0.3333333333333333,\"#9c179e\"],[0.4444444444444444,\"#bd3786\"],[0.5555555555555556,\"#d8576b\"],[0.6666666666666666,\"#ed7953\"],[0.7777777777777778,\"#fb9f3a\"],[0.8888888888888888,\"#fdca26\"],[1.0,\"#f0f921\"]],\"sequentialminus\":[[0.0,\"#0d0887\"],[0.1111111111111111,\"#46039f\"],[0.2222222222222222,\"#7201a8\"],[0.3333333333333333,\"#9c179e\"],[0.4444444444444444,\"#bd3786\"],[0.5555555555555556,\"#d8576b\"],[0.6666666666666666,\"#ed7953\"],[0.7777777777777778,\"#fb9f3a\"],[0.8888888888888888,\"#fdca26\"],[1.0,\"#f0f921\"]]},\"colorway\":[\"#636efa\",\"#EF553B\",\"#00cc96\",\"#ab63fa\",\"#FFA15A\",\"#19d3f3\",\"#FF6692\",\"#B6E880\",\"#FF97FF\",\"#FECB52\"],\"font\":{\"color\":\"#2a3f5f\"},\"geo\":{\"bgcolor\":\"white\",\"lakecolor\":\"white\",\"landcolor\":\"#E5ECF6\",\"showlakes\":true,\"showland\":true,\"subunitcolor\":\"white\"},\"hoverlabel\":{\"align\":\"left\"},\"hovermode\":\"closest\",\"mapbox\":{\"style\":\"light\"},\"paper_bgcolor\":\"white\",\"plot_bgcolor\":\"#E5ECF6\",\"polar\":{\"angularaxis\":{\"gridcolor\":\"white\",\"linecolor\":\"white\",\"ticks\":\"\"},\"bgcolor\":\"#E5ECF6\",\"radialaxis\":{\"gridcolor\":\"white\",\"linecolor\":\"white\",\"ticks\":\"\"}},\"scene\":{\"xaxis\":{\"backgroundcolor\":\"#E5ECF6\",\"gridcolor\":\"white\",\"gridwidth\":2,\"linecolor\":\"white\",\"showbackground\":true,\"ticks\":\"\",\"zerolinecolor\":\"white\"},\"yaxis\":{\"backgroundcolor\":\"#E5ECF6\",\"gridcolor\":\"white\",\"gridwidth\":2,\"linecolor\":\"white\",\"showbackground\":true,\"ticks\":\"\",\"zerolinecolor\":\"white\"},\"zaxis\":{\"backgroundcolor\":\"#E5ECF6\",\"gridcolor\":\"white\",\"gridwidth\":2,\"linecolor\":\"white\",\"showbackground\":true,\"ticks\":\"\",\"zerolinecolor\":\"white\"}},\"shapedefaults\":{\"line\":{\"color\":\"#2a3f5f\"}},\"ternary\":{\"aaxis\":{\"gridcolor\":\"white\",\"linecolor\":\"white\",\"ticks\":\"\"},\"baxis\":{\"gridcolor\":\"white\",\"linecolor\":\"white\",\"ticks\":\"\"},\"bgcolor\":\"#E5ECF6\",\"caxis\":{\"gridcolor\":\"white\",\"linecolor\":\"white\",\"ticks\":\"\"}},\"title\":{\"x\":0.05},\"xaxis\":{\"automargin\":true,\"gridcolor\":\"white\",\"linecolor\":\"white\",\"ticks\":\"\",\"title\":{\"standoff\":15},\"zerolinecolor\":\"white\",\"zerolinewidth\":2},\"yaxis\":{\"automargin\":true,\"gridcolor\":\"white\",\"linecolor\":\"white\",\"ticks\":\"\",\"title\":{\"standoff\":15},\"zerolinecolor\":\"white\",\"zerolinewidth\":2}}}},                        {\"responsive\": true}                    ).then(function(){\n",
       "                            \n",
       "var gd = document.getElementById('0e159018-3c3a-40ab-97f4-911016ba890a');\n",
       "var x = new MutationObserver(function (mutations, observer) {{\n",
       "        var display = window.getComputedStyle(gd).display;\n",
       "        if (!display || display === 'none') {{\n",
       "            console.log([gd, 'removed!']);\n",
       "            Plotly.purge(gd);\n",
       "            observer.disconnect();\n",
       "        }}\n",
       "}});\n",
       "\n",
       "// Listen for the removal of the full notebook cells\n",
       "var notebookContainer = gd.closest('#notebook-container');\n",
       "if (notebookContainer) {{\n",
       "    x.observe(notebookContainer, {childList: true});\n",
       "}}\n",
       "\n",
       "// Listen for the clearing of the current output cell\n",
       "var outputEl = gd.closest('.output');\n",
       "if (outputEl) {{\n",
       "    x.observe(outputEl, {childList: true});\n",
       "}}\n",
       "\n",
       "                        })                };                });            </script>        </div>"
      ]
     },
     "metadata": {},
     "output_type": "display_data"
    },
    {
     "data": {
      "text/html": []
     },
     "metadata": {},
     "output_type": "display_data"
    },
    {
     "data": {
      "application/vnd.plotly.v1+json": {
       "config": {
        "plotlyServerURL": "https://plot.ly"
       },
       "data": [
        {
         "fill": "tozeroy",
         "line": {
          "color": "darkblue"
         },
         "name": "Train Dataset",
         "type": "scatter",
         "x": [
          0.24479610669071672,
          0.2514325657087253,
          0.25175121082862834,
          0.2580690247267339,
          0.2647054837447425,
          0.2713419427627511,
          0.271607655951595,
          0.27797840178075967,
          0.2846148607987683,
          0.28618654549191924,
          0.2912513198167769,
          0.29148706886044673,
          0.2956881468311535,
          0.29788777883478545,
          0.2979631590721372,
          0.3012148048780862,
          0.30452423785279403,
          0.30511995837934075,
          0.30682617985105215,
          0.30690881521292734,
          0.3089927848032338,
          0.31000490460626984,
          0.31073740853350845,
          0.3111606968708026,
          0.31132735347132506,
          0.3135952083538667,
          0.3150501338596964,
          0.31592999199984023,
          0.31779715588881124,
          0.31881915277405953,
          0.3200955064020227,
          0.3223640978200552,
          0.32255913810835635,
          0.3244336149068198,
          0.32472147281377256,
          0.3252438100579996,
          0.32775136910263564,
          0.32788648893870337,
          0.32853156842242154,
          0.3286369863709224,
          0.32872625292665836,
          0.3287564594569752,
          0.32902659856009553,
          0.3291343117368323,
          0.32924444544041864,
          0.3294866666666654,
          0.3298336104136572,
          0.33021933258888864,
          0.33085263026481565,
          0.33086416211733977,
          0.3310700739248284,
          0.33107076838420485,
          0.3316407638929086,
          0.33188698706503583,
          0.3322979828120287,
          0.33239964940696354,
          0.33273726875158205,
          0.3327772872785696,
          0.3328758850264721,
          0.33310389757826736,
          0.3332646280090675,
          0.333329701479253,
          0.3333333333333318,
          0.33341487812559817,
          0.3335421825270185,
          0.33365805369894447,
          0.3340245618849574,
          0.33436729559842604,
          0.3347284684417563,
          0.33571205044247154,
          0.33573857519157785,
          0.3358570354658521,
          0.3364609632201113,
          0.3370758935425048,
          0.33760064707198456,
          0.33770653294283703,
          0.33778359931898494,
          0.3382954793278001,
          0.3389589939661226,
          0.3393021113848194,
          0.34019471899530324,
          0.34031301862732893,
          0.3409079189458923,
          0.34116530948312396,
          0.3416781170419365,
          0.34178295807660714,
          0.3433319204865974,
          0.3443429919608456,
          0.34462541396892915,
          0.3467468196065582,
          0.34896695807804223,
          0.3492099878431506,
          0.34975299414939753,
          0.3509794509788542,
          0.3527300206537347,
          0.3548416175804689,
          0.3560595227848039,
          0.35761590999686277,
          0.3579089057521389,
          0.3586836896599108,
          0.3605457458435308,
          0.36312178812607626,
          0.36425236901487135,
          0.36685360637096054,
          0.36857364528197895,
          0.37088882803288,
          0.3717055701984318,
          0.37172398991979644,
          0.3729498479986994,
          0.37752528705088856,
          0.38324360140450553,
          0.38416174606889714,
          0.39079820508690577,
          0.3934767821731988,
          0.39743466410491435,
          0.3990439161793899,
          0.4040711231229229,
          0.4065271711604312,
          0.41022583993386597,
          0.4107075821409315,
          0.41126440338099324,
          0.4173440411589401,
          0.41785142078393434,
          0.4239805001769487,
          0.42746108777410485,
          0.4306169591949573,
          0.43725341821296587,
          0.44250711236002604,
          0.4438898772309745,
          0.4505263362489831,
          0.45716279526699166,
          0.46379925428500024,
          0.4704357133030088,
          0.47707217232101745,
          0.48370863133902603,
          0.4903450903570346,
          0.49698154937504324,
          0.5036180083930518,
          0.5102544674110604,
          0.516890926429069,
          0.5235273854470776,
          0.5301638444650862,
          0.5368003034830948,
          0.5434367625011034,
          0.550073221519112,
          0.5567096805371206,
          0.5633461395551291,
          0.5699825985731377
         ],
         "y": [
          1.6001869097224488e-08,
          7.310325498249888e-07,
          8.684676781808228e-07,
          2.138665950102325e-05,
          0.0004014372549657914,
          0.004847751286309945,
          0.00530754499167806,
          0.03782944525001826,
          0.19244730985902025,
          0.26620856266675286,
          0.6521805227832388,
          0.6763763039375126,
          1.2070826940398809,
          1.561449428235834,
          1.5745648773859147,
          2.2098364344447723,
          3.041987477330963,
          3.220099972393999,
          3.7944312915799876,
          3.8249710089915685,
          4.694659434520552,
          5.195553255719416,
          5.594543877228879,
          5.839943405767945,
          5.9396402996231545,
          7.478267615900615,
          8.650369247479695,
          9.428836153843886,
          11.240737455270214,
          12.311283102579361,
          13.705413471099163,
          16.25280308135304,
          16.470964058785558,
          18.508154685339736,
          18.806630654744975,
          19.33470828817104,
          21.54686592213034,
          21.647517958427567,
          22.097466070589302,
          22.166025605937826,
          22.222956746691274,
          22.241986271291577,
          22.40681690741845,
          22.469822665978395,
          22.532619884629174,
          22.664882357886846,
          22.840073639833026,
          23.01471274345738,
          23.25431260270574,
          23.258124013033193,
          23.322824841120553,
          23.323032274842475,
          23.46869255617237,
          23.51633822452754,
          23.575241973931494,
          23.58582988617165,
          23.609670283620197,
          23.61134438281415,
          23.61442963918498,
          23.615913199644233,
          23.612233679558774,
          23.609636875906318,
          23.609473182907628,
          23.60527638092952,
          23.596732822418307,
          23.586853387708057,
          23.54250835247761,
          23.483249550787825,
          23.402534707270117,
          23.091083355951113,
          23.080892023914284,
          23.0342656268802,
          22.769011630118865,
          22.453857156093335,
          22.15147820174604,
          22.086942855719567,
          22.03925550663854,
          21.70775433979432,
          21.242593133566988,
          20.987836250401898,
          20.285780667120893,
          20.188944973512122,
          19.690512834164636,
          19.46954225699733,
          19.02124675240117,
          18.928432752633192,
          17.52596643224959,
          16.59605788142936,
          16.33662240148583,
          14.425012683626733,
          12.55757296808083,
          12.364227335973542,
          11.940958152886214,
          11.03099628423782,
          9.846427434302212,
          8.596060136523588,
          7.9603648285396655,
          7.233814441784064,
          7.107336798773325,
          6.78795313388799,
          6.105162772984847,
          5.336937111060266,
          5.055151491819822,
          4.507152537576441,
          4.201641991610109,
          3.8321218999302302,
          3.7079924769706833,
          3.7052135082965347,
          3.5214405920690304,
          2.8340055060703566,
          2.008326313995379,
          1.891997540658616,
          1.318614755495235,
          1.2515182274570948,
          1.3340181650554142,
          1.421622032959214,
          1.8086959870163002,
          2.0006310301042696,
          2.1984330167152524,
          2.212073308688229,
          2.2237613431724905,
          2.0513421355868156,
          2.013618260600642,
          1.3917408473191053,
          1.0126885863518709,
          0.7331369341959534,
          0.46789425909521665,
          0.5212531427564983,
          0.5517312185983309,
          0.63894983840271,
          0.5027615625624051,
          0.25338238377167727,
          0.08122001688488131,
          0.016545049355751157,
          0.0021416564695749666,
          0.00017615840232192435,
          9.207212598638416e-06,
          3.0588062300923596e-07,
          1.3143609501681304e-08,
          3.1582872680258227e-07,
          9.468890859759639e-06,
          0.00018044160544468084,
          0.0021849697342559726,
          0.016812229363890794,
          0.08220085307741824,
          0.2553868201010061,
          0.5041871516041101,
          0.6324937019393752
         ]
        },
        {
         "fill": "tozeroy",
         "line": {
          "color": "#69b3a2"
         },
         "name": "Test Dataset",
         "type": "scatter",
         "x": [
          0.24479610669071672,
          0.2514325657087253,
          0.25175121082862834,
          0.2580690247267339,
          0.2647054837447425,
          0.2713419427627511,
          0.271607655951595,
          0.27797840178075967,
          0.2846148607987683,
          0.28618654549191924,
          0.2912513198167769,
          0.29148706886044673,
          0.2956881468311535,
          0.29788777883478545,
          0.2979631590721372,
          0.3012148048780862,
          0.30452423785279403,
          0.30511995837934075,
          0.30682617985105215,
          0.30690881521292734,
          0.3089927848032338,
          0.31000490460626984,
          0.31073740853350845,
          0.3111606968708026,
          0.31132735347132506,
          0.3135952083538667,
          0.3150501338596964,
          0.31592999199984023,
          0.31779715588881124,
          0.31881915277405953,
          0.3200955064020227,
          0.3223640978200552,
          0.32255913810835635,
          0.3244336149068198,
          0.32472147281377256,
          0.3252438100579996,
          0.32775136910263564,
          0.32788648893870337,
          0.32853156842242154,
          0.3286369863709224,
          0.32872625292665836,
          0.3287564594569752,
          0.32902659856009553,
          0.3291343117368323,
          0.32924444544041864,
          0.3294866666666654,
          0.3298336104136572,
          0.33021933258888864,
          0.33085263026481565,
          0.33086416211733977,
          0.3310700739248284,
          0.33107076838420485,
          0.3316407638929086,
          0.33188698706503583,
          0.3322979828120287,
          0.33239964940696354,
          0.33273726875158205,
          0.3327772872785696,
          0.3328758850264721,
          0.33310389757826736,
          0.3332646280090675,
          0.333329701479253,
          0.3333333333333318,
          0.33341487812559817,
          0.3335421825270185,
          0.33365805369894447,
          0.3340245618849574,
          0.33436729559842604,
          0.3347284684417563,
          0.33571205044247154,
          0.33573857519157785,
          0.3358570354658521,
          0.3364609632201113,
          0.3370758935425048,
          0.33760064707198456,
          0.33770653294283703,
          0.33778359931898494,
          0.3382954793278001,
          0.3389589939661226,
          0.3393021113848194,
          0.34019471899530324,
          0.34031301862732893,
          0.3409079189458923,
          0.34116530948312396,
          0.3416781170419365,
          0.34178295807660714,
          0.3433319204865974,
          0.3443429919608456,
          0.34462541396892915,
          0.3467468196065582,
          0.34896695807804223,
          0.3492099878431506,
          0.34975299414939753,
          0.3509794509788542,
          0.3527300206537347,
          0.3548416175804689,
          0.3560595227848039,
          0.35761590999686277,
          0.3579089057521389,
          0.3586836896599108,
          0.3605457458435308,
          0.36312178812607626,
          0.36425236901487135,
          0.36685360637096054,
          0.36857364528197895,
          0.37088882803288,
          0.3717055701984318,
          0.37172398991979644,
          0.3729498479986994,
          0.37752528705088856,
          0.38324360140450553,
          0.38416174606889714,
          0.39079820508690577,
          0.3934767821731988,
          0.39743466410491435,
          0.3990439161793899,
          0.4040711231229229,
          0.4065271711604312,
          0.41022583993386597,
          0.4107075821409315,
          0.41126440338099324,
          0.4173440411589401,
          0.41785142078393434,
          0.4239805001769487,
          0.42746108777410485,
          0.4306169591949573,
          0.43725341821296587,
          0.44250711236002604,
          0.4438898772309745,
          0.4505263362489831,
          0.45716279526699166,
          0.46379925428500024,
          0.4704357133030088,
          0.47707217232101745,
          0.48370863133902603,
          0.4903450903570346,
          0.49698154937504324,
          0.5036180083930518,
          0.5102544674110604,
          0.516890926429069,
          0.5235273854470776,
          0.5301638444650862,
          0.5368003034830948,
          0.5434367625011034,
          0.550073221519112,
          0.5567096805371206,
          0.5633461395551291,
          0.5699825985731377
         ],
         "y": [
          1.3129400327425824,
          1.2886966869183147,
          1.2807389926271844,
          1.1386838621739803,
          1.1944032729590857,
          1.4474877909295165,
          1.4610567928776137,
          1.9313045758073109,
          2.931830623454257,
          3.26617735588261,
          4.562126102538336,
          4.628825919644209,
          5.865172752575157,
          6.519146698394176,
          6.541267135843977,
          7.456586911708023,
          8.267763951589753,
          8.397620395666149,
          8.742409868100513,
          8.758154006903029,
          9.132302850875938,
          9.303584315835442,
          9.426692666341564,
          9.49839605983169,
          9.52685800685444,
          9.942538894678401,
          10.25828576102393,
          10.477041359666444,
          11.02773069214416,
          11.384684909395574,
          11.887602689853587,
          12.923628242001145,
          13.01968618887238,
          13.976501234665085,
          14.126280168585458,
          14.397789586100084,
          15.640566433995263,
          15.702071872647311,
          15.984124430654056,
          16.028234142509493,
          16.065116706662057,
          16.0774980202952,
          16.18592341033921,
          16.227964686696456,
          16.270222626759587,
          16.360487100475385,
          16.48306677214401,
          16.609503119291354,
          16.79289102833291,
          16.795937314229118,
          16.84850012375527,
          16.848671475931287,
          16.975481262351305,
          17.021465265500268,
          17.085939282946885,
          17.09946822713943,
          17.13736642456173,
          17.14113473273394,
          17.149758140534008,
          17.166074269811652,
          17.174508146544063,
          17.177196144998195,
          17.17733378739522,
          17.180078940137616,
          17.183039198894075,
          17.18432344920361,
          17.17948142129269,
          17.16262958640527,
          17.131911489518576,
          16.980825927993394,
          16.975393338674873,
          16.95026825296708,
          16.800453585450704,
          16.61135831434357,
          16.421852219732873,
          16.380569976361514,
          16.34989439761896,
          16.132992910341237,
          15.819357325489223,
          15.643687802973137,
          15.147644681547721,
          15.078002123855317,
          14.715424899044464,
          14.552641147530816,
          14.218928475258569,
          14.149296195276921,
          13.07820720332041,
          12.35287846036273,
          12.149027161470645,
          10.63845799798164,
          9.179038011852672,
          9.03090566224802,
          8.709578765484686,
          8.035870787913026,
          7.205905247020653,
          6.407366955650121,
          6.037277575985746,
          5.643618880591062,
          5.5778724683052445,
          5.4146026683195565,
          5.070705179660509,
          4.653660635515994,
          4.474761987067128,
          4.044026053822103,
          3.7372513506444553,
          3.300864070705985,
          3.1436477517639245,
          3.140099062593652,
          2.9048714254371784,
          2.107807621930172,
          1.5208103644059503,
          1.4799562060318194,
          1.5231771530855696,
          1.6256955068458783,
          1.7595181193412202,
          1.7947743974010784,
          1.815574999969165,
          1.7787557033410593,
          1.6713814187587197,
          1.6532098655777683,
          1.6311283876495362,
          1.3393503430760085,
          1.313449284196159,
          1.038808179564212,
          0.9253564233449549,
          0.8343712016011513,
          0.6026298397580325,
          0.37659982404664494,
          0.3197243621813487,
          0.11363090624246877,
          0.03282680790246372,
          0.046294010101316646,
          0.16202242933720112,
          0.39107070314066994,
          0.6021836831468356,
          0.5903820212709318,
          0.3685077389772617,
          0.14644310773919572,
          0.03705101266909082,
          0.005968154399131471,
          0.000612052729749442,
          3.9961929574485514e-05,
          1.6611654227632351e-06,
          4.396308262756112e-08,
          7.407509426977761e-10,
          7.946302805404967e-12,
          5.42708757569361e-14,
          2.3598118123794234e-16
         ]
        }
       ],
       "layout": {
        "height": 300,
        "legend": {
         "title": {
          "text": "Dataset"
         },
         "x": 1.02,
         "xanchor": "left",
         "y": 0.9,
         "yanchor": "top"
        },
        "template": {
         "data": {
          "bar": [
           {
            "error_x": {
             "color": "#2a3f5f"
            },
            "error_y": {
             "color": "#2a3f5f"
            },
            "marker": {
             "line": {
              "color": "#E5ECF6",
              "width": 0.5
             },
             "pattern": {
              "fillmode": "overlay",
              "size": 10,
              "solidity": 0.2
             }
            },
            "type": "bar"
           }
          ],
          "barpolar": [
           {
            "marker": {
             "line": {
              "color": "#E5ECF6",
              "width": 0.5
             },
             "pattern": {
              "fillmode": "overlay",
              "size": 10,
              "solidity": 0.2
             }
            },
            "type": "barpolar"
           }
          ],
          "carpet": [
           {
            "aaxis": {
             "endlinecolor": "#2a3f5f",
             "gridcolor": "white",
             "linecolor": "white",
             "minorgridcolor": "white",
             "startlinecolor": "#2a3f5f"
            },
            "baxis": {
             "endlinecolor": "#2a3f5f",
             "gridcolor": "white",
             "linecolor": "white",
             "minorgridcolor": "white",
             "startlinecolor": "#2a3f5f"
            },
            "type": "carpet"
           }
          ],
          "choropleth": [
           {
            "colorbar": {
             "outlinewidth": 0,
             "ticks": ""
            },
            "type": "choropleth"
           }
          ],
          "contour": [
           {
            "colorbar": {
             "outlinewidth": 0,
             "ticks": ""
            },
            "colorscale": [
             [
              0,
              "#0d0887"
             ],
             [
              0.1111111111111111,
              "#46039f"
             ],
             [
              0.2222222222222222,
              "#7201a8"
             ],
             [
              0.3333333333333333,
              "#9c179e"
             ],
             [
              0.4444444444444444,
              "#bd3786"
             ],
             [
              0.5555555555555556,
              "#d8576b"
             ],
             [
              0.6666666666666666,
              "#ed7953"
             ],
             [
              0.7777777777777778,
              "#fb9f3a"
             ],
             [
              0.8888888888888888,
              "#fdca26"
             ],
             [
              1,
              "#f0f921"
             ]
            ],
            "type": "contour"
           }
          ],
          "contourcarpet": [
           {
            "colorbar": {
             "outlinewidth": 0,
             "ticks": ""
            },
            "type": "contourcarpet"
           }
          ],
          "heatmap": [
           {
            "colorbar": {
             "outlinewidth": 0,
             "ticks": ""
            },
            "colorscale": [
             [
              0,
              "#0d0887"
             ],
             [
              0.1111111111111111,
              "#46039f"
             ],
             [
              0.2222222222222222,
              "#7201a8"
             ],
             [
              0.3333333333333333,
              "#9c179e"
             ],
             [
              0.4444444444444444,
              "#bd3786"
             ],
             [
              0.5555555555555556,
              "#d8576b"
             ],
             [
              0.6666666666666666,
              "#ed7953"
             ],
             [
              0.7777777777777778,
              "#fb9f3a"
             ],
             [
              0.8888888888888888,
              "#fdca26"
             ],
             [
              1,
              "#f0f921"
             ]
            ],
            "type": "heatmap"
           }
          ],
          "heatmapgl": [
           {
            "colorbar": {
             "outlinewidth": 0,
             "ticks": ""
            },
            "colorscale": [
             [
              0,
              "#0d0887"
             ],
             [
              0.1111111111111111,
              "#46039f"
             ],
             [
              0.2222222222222222,
              "#7201a8"
             ],
             [
              0.3333333333333333,
              "#9c179e"
             ],
             [
              0.4444444444444444,
              "#bd3786"
             ],
             [
              0.5555555555555556,
              "#d8576b"
             ],
             [
              0.6666666666666666,
              "#ed7953"
             ],
             [
              0.7777777777777778,
              "#fb9f3a"
             ],
             [
              0.8888888888888888,
              "#fdca26"
             ],
             [
              1,
              "#f0f921"
             ]
            ],
            "type": "heatmapgl"
           }
          ],
          "histogram": [
           {
            "marker": {
             "pattern": {
              "fillmode": "overlay",
              "size": 10,
              "solidity": 0.2
             }
            },
            "type": "histogram"
           }
          ],
          "histogram2d": [
           {
            "colorbar": {
             "outlinewidth": 0,
             "ticks": ""
            },
            "colorscale": [
             [
              0,
              "#0d0887"
             ],
             [
              0.1111111111111111,
              "#46039f"
             ],
             [
              0.2222222222222222,
              "#7201a8"
             ],
             [
              0.3333333333333333,
              "#9c179e"
             ],
             [
              0.4444444444444444,
              "#bd3786"
             ],
             [
              0.5555555555555556,
              "#d8576b"
             ],
             [
              0.6666666666666666,
              "#ed7953"
             ],
             [
              0.7777777777777778,
              "#fb9f3a"
             ],
             [
              0.8888888888888888,
              "#fdca26"
             ],
             [
              1,
              "#f0f921"
             ]
            ],
            "type": "histogram2d"
           }
          ],
          "histogram2dcontour": [
           {
            "colorbar": {
             "outlinewidth": 0,
             "ticks": ""
            },
            "colorscale": [
             [
              0,
              "#0d0887"
             ],
             [
              0.1111111111111111,
              "#46039f"
             ],
             [
              0.2222222222222222,
              "#7201a8"
             ],
             [
              0.3333333333333333,
              "#9c179e"
             ],
             [
              0.4444444444444444,
              "#bd3786"
             ],
             [
              0.5555555555555556,
              "#d8576b"
             ],
             [
              0.6666666666666666,
              "#ed7953"
             ],
             [
              0.7777777777777778,
              "#fb9f3a"
             ],
             [
              0.8888888888888888,
              "#fdca26"
             ],
             [
              1,
              "#f0f921"
             ]
            ],
            "type": "histogram2dcontour"
           }
          ],
          "mesh3d": [
           {
            "colorbar": {
             "outlinewidth": 0,
             "ticks": ""
            },
            "type": "mesh3d"
           }
          ],
          "parcoords": [
           {
            "line": {
             "colorbar": {
              "outlinewidth": 0,
              "ticks": ""
             }
            },
            "type": "parcoords"
           }
          ],
          "pie": [
           {
            "automargin": true,
            "type": "pie"
           }
          ],
          "scatter": [
           {
            "marker": {
             "colorbar": {
              "outlinewidth": 0,
              "ticks": ""
             }
            },
            "type": "scatter"
           }
          ],
          "scatter3d": [
           {
            "line": {
             "colorbar": {
              "outlinewidth": 0,
              "ticks": ""
             }
            },
            "marker": {
             "colorbar": {
              "outlinewidth": 0,
              "ticks": ""
             }
            },
            "type": "scatter3d"
           }
          ],
          "scattercarpet": [
           {
            "marker": {
             "colorbar": {
              "outlinewidth": 0,
              "ticks": ""
             }
            },
            "type": "scattercarpet"
           }
          ],
          "scattergeo": [
           {
            "marker": {
             "colorbar": {
              "outlinewidth": 0,
              "ticks": ""
             }
            },
            "type": "scattergeo"
           }
          ],
          "scattergl": [
           {
            "marker": {
             "colorbar": {
              "outlinewidth": 0,
              "ticks": ""
             }
            },
            "type": "scattergl"
           }
          ],
          "scattermapbox": [
           {
            "marker": {
             "colorbar": {
              "outlinewidth": 0,
              "ticks": ""
             }
            },
            "type": "scattermapbox"
           }
          ],
          "scatterpolar": [
           {
            "marker": {
             "colorbar": {
              "outlinewidth": 0,
              "ticks": ""
             }
            },
            "type": "scatterpolar"
           }
          ],
          "scatterpolargl": [
           {
            "marker": {
             "colorbar": {
              "outlinewidth": 0,
              "ticks": ""
             }
            },
            "type": "scatterpolargl"
           }
          ],
          "scatterternary": [
           {
            "marker": {
             "colorbar": {
              "outlinewidth": 0,
              "ticks": ""
             }
            },
            "type": "scatterternary"
           }
          ],
          "surface": [
           {
            "colorbar": {
             "outlinewidth": 0,
             "ticks": ""
            },
            "colorscale": [
             [
              0,
              "#0d0887"
             ],
             [
              0.1111111111111111,
              "#46039f"
             ],
             [
              0.2222222222222222,
              "#7201a8"
             ],
             [
              0.3333333333333333,
              "#9c179e"
             ],
             [
              0.4444444444444444,
              "#bd3786"
             ],
             [
              0.5555555555555556,
              "#d8576b"
             ],
             [
              0.6666666666666666,
              "#ed7953"
             ],
             [
              0.7777777777777778,
              "#fb9f3a"
             ],
             [
              0.8888888888888888,
              "#fdca26"
             ],
             [
              1,
              "#f0f921"
             ]
            ],
            "type": "surface"
           }
          ],
          "table": [
           {
            "cells": {
             "fill": {
              "color": "#EBF0F8"
             },
             "line": {
              "color": "white"
             }
            },
            "header": {
             "fill": {
              "color": "#C8D4E3"
             },
             "line": {
              "color": "white"
             }
            },
            "type": "table"
           }
          ]
         },
         "layout": {
          "annotationdefaults": {
           "arrowcolor": "#2a3f5f",
           "arrowhead": 0,
           "arrowwidth": 1
          },
          "autotypenumbers": "strict",
          "coloraxis": {
           "colorbar": {
            "outlinewidth": 0,
            "ticks": ""
           }
          },
          "colorscale": {
           "diverging": [
            [
             0,
             "#8e0152"
            ],
            [
             0.1,
             "#c51b7d"
            ],
            [
             0.2,
             "#de77ae"
            ],
            [
             0.3,
             "#f1b6da"
            ],
            [
             0.4,
             "#fde0ef"
            ],
            [
             0.5,
             "#f7f7f7"
            ],
            [
             0.6,
             "#e6f5d0"
            ],
            [
             0.7,
             "#b8e186"
            ],
            [
             0.8,
             "#7fbc41"
            ],
            [
             0.9,
             "#4d9221"
            ],
            [
             1,
             "#276419"
            ]
           ],
           "sequential": [
            [
             0,
             "#0d0887"
            ],
            [
             0.1111111111111111,
             "#46039f"
            ],
            [
             0.2222222222222222,
             "#7201a8"
            ],
            [
             0.3333333333333333,
             "#9c179e"
            ],
            [
             0.4444444444444444,
             "#bd3786"
            ],
            [
             0.5555555555555556,
             "#d8576b"
            ],
            [
             0.6666666666666666,
             "#ed7953"
            ],
            [
             0.7777777777777778,
             "#fb9f3a"
            ],
            [
             0.8888888888888888,
             "#fdca26"
            ],
            [
             1,
             "#f0f921"
            ]
           ],
           "sequentialminus": [
            [
             0,
             "#0d0887"
            ],
            [
             0.1111111111111111,
             "#46039f"
            ],
            [
             0.2222222222222222,
             "#7201a8"
            ],
            [
             0.3333333333333333,
             "#9c179e"
            ],
            [
             0.4444444444444444,
             "#bd3786"
            ],
            [
             0.5555555555555556,
             "#d8576b"
            ],
            [
             0.6666666666666666,
             "#ed7953"
            ],
            [
             0.7777777777777778,
             "#fb9f3a"
            ],
            [
             0.8888888888888888,
             "#fdca26"
            ],
            [
             1,
             "#f0f921"
            ]
           ]
          },
          "colorway": [
           "#636efa",
           "#EF553B",
           "#00cc96",
           "#ab63fa",
           "#FFA15A",
           "#19d3f3",
           "#FF6692",
           "#B6E880",
           "#FF97FF",
           "#FECB52"
          ],
          "font": {
           "color": "#2a3f5f"
          },
          "geo": {
           "bgcolor": "white",
           "lakecolor": "white",
           "landcolor": "#E5ECF6",
           "showlakes": true,
           "showland": true,
           "subunitcolor": "white"
          },
          "hoverlabel": {
           "align": "left"
          },
          "hovermode": "closest",
          "mapbox": {
           "style": "light"
          },
          "paper_bgcolor": "white",
          "plot_bgcolor": "#E5ECF6",
          "polar": {
           "angularaxis": {
            "gridcolor": "white",
            "linecolor": "white",
            "ticks": ""
           },
           "bgcolor": "#E5ECF6",
           "radialaxis": {
            "gridcolor": "white",
            "linecolor": "white",
            "ticks": ""
           }
          },
          "scene": {
           "xaxis": {
            "backgroundcolor": "#E5ECF6",
            "gridcolor": "white",
            "gridwidth": 2,
            "linecolor": "white",
            "showbackground": true,
            "ticks": "",
            "zerolinecolor": "white"
           },
           "yaxis": {
            "backgroundcolor": "#E5ECF6",
            "gridcolor": "white",
            "gridwidth": 2,
            "linecolor": "white",
            "showbackground": true,
            "ticks": "",
            "zerolinecolor": "white"
           },
           "zaxis": {
            "backgroundcolor": "#E5ECF6",
            "gridcolor": "white",
            "gridwidth": 2,
            "linecolor": "white",
            "showbackground": true,
            "ticks": "",
            "zerolinecolor": "white"
           }
          },
          "shapedefaults": {
           "line": {
            "color": "#2a3f5f"
           }
          },
          "ternary": {
           "aaxis": {
            "gridcolor": "white",
            "linecolor": "white",
            "ticks": ""
           },
           "baxis": {
            "gridcolor": "white",
            "linecolor": "white",
            "ticks": ""
           },
           "bgcolor": "#E5ECF6",
           "caxis": {
            "gridcolor": "white",
            "linecolor": "white",
            "ticks": ""
           }
          },
          "title": {
           "x": 0.05
          },
          "xaxis": {
           "automargin": true,
           "gridcolor": "white",
           "linecolor": "white",
           "ticks": "",
           "title": {
            "standoff": 15
           },
           "zerolinecolor": "white",
           "zerolinewidth": 2
          },
          "yaxis": {
           "automargin": true,
           "gridcolor": "white",
           "linecolor": "white",
           "ticks": "",
           "title": {
            "standoff": 15
           },
           "zerolinecolor": "white",
           "zerolinewidth": 2
          }
         }
        },
        "title": {
         "text": "Feature: normalized_green_mean - Explains 6.67% of dataset difference"
        },
        "width": 700,
        "xaxis": {
         "fixedrange": false,
         "range": [
          0.25175121082862834,
          0.44250711236002604
         ],
         "title": {
          "text": "Value"
         },
         "type": "linear"
        },
        "yaxis": {
         "autorange": true,
         "fixedrange": true,
         "range": [
          0,
          24.858855999625508
         ],
         "title": {
          "text": "Probability Density"
         },
         "type": "linear"
        }
       }
      },
      "image/png": "[encoded data removed]",
      "text/html": [
       "<div>                            <div id=\"c54c6fad-706a-4495-942a-3f0a31ddffe2\" class=\"plotly-graph-div\" style=\"height:300px; width:700px;\"></div>            <script type=\"text/javascript\">                require([\"plotly\"], function(Plotly) {                    window.PLOTLYENV=window.PLOTLYENV || {};                                    if (document.getElementById(\"c54c6fad-706a-4495-942a-3f0a31ddffe2\")) {                    Plotly.newPlot(                        \"c54c6fad-706a-4495-942a-3f0a31ddffe2\",                        [{\"fill\":\"tozeroy\",\"line\":{\"color\":\"darkblue\"},\"name\":\"Train Dataset\",\"x\":[0.24479610669071672,0.2514325657087253,0.25175121082862834,0.2580690247267339,0.2647054837447425,0.2713419427627511,0.271607655951595,0.27797840178075967,0.2846148607987683,0.28618654549191924,0.2912513198167769,0.29148706886044673,0.2956881468311535,0.29788777883478545,0.2979631590721372,0.3012148048780862,0.30452423785279403,0.30511995837934075,0.30682617985105215,0.30690881521292734,0.3089927848032338,0.31000490460626984,0.31073740853350845,0.3111606968708026,0.31132735347132506,0.3135952083538667,0.3150501338596964,0.31592999199984023,0.31779715588881124,0.31881915277405953,0.3200955064020227,0.3223640978200552,0.32255913810835635,0.3244336149068198,0.32472147281377256,0.3252438100579996,0.32775136910263564,0.32788648893870337,0.32853156842242154,0.3286369863709224,0.32872625292665836,0.3287564594569752,0.32902659856009553,0.3291343117368323,0.32924444544041864,0.3294866666666654,0.3298336104136572,0.33021933258888864,0.33085263026481565,0.33086416211733977,0.3310700739248284,0.33107076838420485,0.3316407638929086,0.33188698706503583,0.3322979828120287,0.33239964940696354,0.33273726875158205,0.3327772872785696,0.3328758850264721,0.33310389757826736,0.3332646280090675,0.333329701479253,0.3333333333333318,0.33341487812559817,0.3335421825270185,0.33365805369894447,0.3340245618849574,0.33436729559842604,0.3347284684417563,0.33571205044247154,0.33573857519157785,0.3358570354658521,0.3364609632201113,0.3370758935425048,0.33760064707198456,0.33770653294283703,0.33778359931898494,0.3382954793278001,0.3389589939661226,0.3393021113848194,0.34019471899530324,0.34031301862732893,0.3409079189458923,0.34116530948312396,0.3416781170419365,0.34178295807660714,0.3433319204865974,0.3443429919608456,0.34462541396892915,0.3467468196065582,0.34896695807804223,0.3492099878431506,0.34975299414939753,0.3509794509788542,0.3527300206537347,0.3548416175804689,0.3560595227848039,0.35761590999686277,0.3579089057521389,0.3586836896599108,0.3605457458435308,0.36312178812607626,0.36425236901487135,0.36685360637096054,0.36857364528197895,0.37088882803288,0.3717055701984318,0.37172398991979644,0.3729498479986994,0.37752528705088856,0.38324360140450553,0.38416174606889714,0.39079820508690577,0.3934767821731988,0.39743466410491435,0.3990439161793899,0.4040711231229229,0.4065271711604312,0.41022583993386597,0.4107075821409315,0.41126440338099324,0.4173440411589401,0.41785142078393434,0.4239805001769487,0.42746108777410485,0.4306169591949573,0.43725341821296587,0.44250711236002604,0.4438898772309745,0.4505263362489831,0.45716279526699166,0.46379925428500024,0.4704357133030088,0.47707217232101745,0.48370863133902603,0.4903450903570346,0.49698154937504324,0.5036180083930518,0.5102544674110604,0.516890926429069,0.5235273854470776,0.5301638444650862,0.5368003034830948,0.5434367625011034,0.550073221519112,0.5567096805371206,0.5633461395551291,0.5699825985731377],\"y\":[1.6001869097224488e-08,7.310325498249888e-07,8.684676781808228e-07,2.138665950102325e-05,0.0004014372549657914,0.004847751286309945,0.00530754499167806,0.03782944525001826,0.19244730985902025,0.26620856266675286,0.6521805227832388,0.6763763039375126,1.2070826940398809,1.561449428235834,1.5745648773859147,2.2098364344447723,3.041987477330963,3.220099972393999,3.7944312915799876,3.8249710089915685,4.694659434520552,5.195553255719416,5.594543877228879,5.839943405767945,5.9396402996231545,7.478267615900615,8.650369247479695,9.428836153843886,11.240737455270214,12.311283102579361,13.705413471099163,16.25280308135304,16.470964058785558,18.508154685339736,18.806630654744975,19.33470828817104,21.54686592213034,21.647517958427567,22.097466070589302,22.166025605937826,22.222956746691274,22.241986271291577,22.40681690741845,22.469822665978395,22.532619884629174,22.664882357886846,22.840073639833026,23.01471274345738,23.25431260270574,23.258124013033193,23.322824841120553,23.323032274842475,23.46869255617237,23.51633822452754,23.575241973931494,23.58582988617165,23.609670283620197,23.61134438281415,23.61442963918498,23.615913199644233,23.612233679558774,23.609636875906318,23.609473182907628,23.60527638092952,23.596732822418307,23.586853387708057,23.54250835247761,23.483249550787825,23.402534707270117,23.091083355951113,23.080892023914284,23.0342656268802,22.769011630118865,22.453857156093335,22.15147820174604,22.086942855719567,22.03925550663854,21.70775433979432,21.242593133566988,20.987836250401898,20.285780667120893,20.188944973512122,19.690512834164636,19.46954225699733,19.02124675240117,18.928432752633192,17.52596643224959,16.59605788142936,16.33662240148583,14.425012683626733,12.55757296808083,12.364227335973542,11.940958152886214,11.03099628423782,9.846427434302212,8.596060136523588,7.9603648285396655,7.233814441784064,7.107336798773325,6.78795313388799,6.105162772984847,5.336937111060266,5.055151491819822,4.507152537576441,4.201641991610109,3.8321218999302302,3.7079924769706833,3.7052135082965347,3.5214405920690304,2.8340055060703566,2.008326313995379,1.891997540658616,1.318614755495235,1.2515182274570948,1.3340181650554142,1.421622032959214,1.8086959870163002,2.0006310301042696,2.1984330167152524,2.212073308688229,2.2237613431724905,2.0513421355868156,2.013618260600642,1.3917408473191053,1.0126885863518709,0.7331369341959534,0.46789425909521665,0.5212531427564983,0.5517312185983309,0.63894983840271,0.5027615625624051,0.25338238377167727,0.08122001688488131,0.016545049355751157,0.0021416564695749666,0.00017615840232192435,9.207212598638416e-06,3.0588062300923596e-07,1.3143609501681304e-08,3.1582872680258227e-07,9.468890859759639e-06,0.00018044160544468084,0.0021849697342559726,0.016812229363890794,0.08220085307741824,0.2553868201010061,0.5041871516041101,0.6324937019393752],\"type\":\"scatter\"},{\"fill\":\"tozeroy\",\"line\":{\"color\":\"#69b3a2\"},\"name\":\"Test Dataset\",\"x\":[0.24479610669071672,0.2514325657087253,0.25175121082862834,0.2580690247267339,0.2647054837447425,0.2713419427627511,0.271607655951595,0.27797840178075967,0.2846148607987683,0.28618654549191924,0.2912513198167769,0.29148706886044673,0.2956881468311535,0.29788777883478545,0.2979631590721372,0.3012148048780862,0.30452423785279403,0.30511995837934075,0.30682617985105215,0.30690881521292734,0.3089927848032338,0.31000490460626984,0.31073740853350845,0.3111606968708026,0.31132735347132506,0.3135952083538667,0.3150501338596964,0.31592999199984023,0.31779715588881124,0.31881915277405953,0.3200955064020227,0.3223640978200552,0.32255913810835635,0.3244336149068198,0.32472147281377256,0.3252438100579996,0.32775136910263564,0.32788648893870337,0.32853156842242154,0.3286369863709224,0.32872625292665836,0.3287564594569752,0.32902659856009553,0.3291343117368323,0.32924444544041864,0.3294866666666654,0.3298336104136572,0.33021933258888864,0.33085263026481565,0.33086416211733977,0.3310700739248284,0.33107076838420485,0.3316407638929086,0.33188698706503583,0.3322979828120287,0.33239964940696354,0.33273726875158205,0.3327772872785696,0.3328758850264721,0.33310389757826736,0.3332646280090675,0.333329701479253,0.3333333333333318,0.33341487812559817,0.3335421825270185,0.33365805369894447,0.3340245618849574,0.33436729559842604,0.3347284684417563,0.33571205044247154,0.33573857519157785,0.3358570354658521,0.3364609632201113,0.3370758935425048,0.33760064707198456,0.33770653294283703,0.33778359931898494,0.3382954793278001,0.3389589939661226,0.3393021113848194,0.34019471899530324,0.34031301862732893,0.3409079189458923,0.34116530948312396,0.3416781170419365,0.34178295807660714,0.3433319204865974,0.3443429919608456,0.34462541396892915,0.3467468196065582,0.34896695807804223,0.3492099878431506,0.34975299414939753,0.3509794509788542,0.3527300206537347,0.3548416175804689,0.3560595227848039,0.35761590999686277,0.3579089057521389,0.3586836896599108,0.3605457458435308,0.36312178812607626,0.36425236901487135,0.36685360637096054,0.36857364528197895,0.37088882803288,0.3717055701984318,0.37172398991979644,0.3729498479986994,0.37752528705088856,0.38324360140450553,0.38416174606889714,0.39079820508690577,0.3934767821731988,0.39743466410491435,0.3990439161793899,0.4040711231229229,0.4065271711604312,0.41022583993386597,0.4107075821409315,0.41126440338099324,0.4173440411589401,0.41785142078393434,0.4239805001769487,0.42746108777410485,0.4306169591949573,0.43725341821296587,0.44250711236002604,0.4438898772309745,0.4505263362489831,0.45716279526699166,0.46379925428500024,0.4704357133030088,0.47707217232101745,0.48370863133902603,0.4903450903570346,0.49698154937504324,0.5036180083930518,0.5102544674110604,0.516890926429069,0.5235273854470776,0.5301638444650862,0.5368003034830948,0.5434367625011034,0.550073221519112,0.5567096805371206,0.5633461395551291,0.5699825985731377],\"y\":[1.3129400327425824,1.2886966869183147,1.2807389926271844,1.1386838621739803,1.1944032729590857,1.4474877909295165,1.4610567928776137,1.9313045758073109,2.931830623454257,3.26617735588261,4.562126102538336,4.628825919644209,5.865172752575157,6.519146698394176,6.541267135843977,7.456586911708023,8.267763951589753,8.397620395666149,8.742409868100513,8.758154006903029,9.132302850875938,9.303584315835442,9.426692666341564,9.49839605983169,9.52685800685444,9.942538894678401,10.25828576102393,10.477041359666444,11.02773069214416,11.384684909395574,11.887602689853587,12.923628242001145,13.01968618887238,13.976501234665085,14.126280168585458,14.397789586100084,15.640566433995263,15.702071872647311,15.984124430654056,16.028234142509493,16.065116706662057,16.0774980202952,16.18592341033921,16.227964686696456,16.270222626759587,16.360487100475385,16.48306677214401,16.609503119291354,16.79289102833291,16.795937314229118,16.84850012375527,16.848671475931287,16.975481262351305,17.021465265500268,17.085939282946885,17.09946822713943,17.13736642456173,17.14113473273394,17.149758140534008,17.166074269811652,17.174508146544063,17.177196144998195,17.17733378739522,17.180078940137616,17.183039198894075,17.18432344920361,17.17948142129269,17.16262958640527,17.131911489518576,16.980825927993394,16.975393338674873,16.95026825296708,16.800453585450704,16.61135831434357,16.421852219732873,16.380569976361514,16.34989439761896,16.132992910341237,15.819357325489223,15.643687802973137,15.147644681547721,15.078002123855317,14.715424899044464,14.552641147530816,14.218928475258569,14.149296195276921,13.07820720332041,12.35287846036273,12.149027161470645,10.63845799798164,9.179038011852672,9.03090566224802,8.709578765484686,8.035870787913026,7.205905247020653,6.407366955650121,6.037277575985746,5.643618880591062,5.5778724683052445,5.4146026683195565,5.070705179660509,4.653660635515994,4.474761987067128,4.044026053822103,3.7372513506444553,3.300864070705985,3.1436477517639245,3.140099062593652,2.9048714254371784,2.107807621930172,1.5208103644059503,1.4799562060318194,1.5231771530855696,1.6256955068458783,1.7595181193412202,1.7947743974010784,1.815574999969165,1.7787557033410593,1.6713814187587197,1.6532098655777683,1.6311283876495362,1.3393503430760085,1.313449284196159,1.038808179564212,0.9253564233449549,0.8343712016011513,0.6026298397580325,0.37659982404664494,0.3197243621813487,0.11363090624246877,0.03282680790246372,0.046294010101316646,0.16202242933720112,0.39107070314066994,0.6021836831468356,0.5903820212709318,0.3685077389772617,0.14644310773919572,0.03705101266909082,0.005968154399131471,0.000612052729749442,3.9961929574485514e-05,1.6611654227632351e-06,4.396308262756112e-08,7.407509426977761e-10,7.946302805404967e-12,5.42708757569361e-14,2.3598118123794234e-16],\"type\":\"scatter\"}],                        {\"height\":300,\"legend\":{\"title\":{\"text\":\"Dataset\"},\"xanchor\":\"left\",\"y\":0.9,\"yanchor\":\"top\"},\"title\":{\"text\":\"Feature: normalized_green_mean - Explains 6.67% of dataset difference\"},\"width\":700,\"xaxis\":{\"fixedrange\":false,\"range\":[0.25175121082862834,0.44250711236002604],\"title\":{\"text\":\"Value\"}},\"yaxis\":{\"fixedrange\":true,\"title\":{\"text\":\"Probability Density\"}},\"template\":{\"data\":{\"bar\":[{\"error_x\":{\"color\":\"#2a3f5f\"},\"error_y\":{\"color\":\"#2a3f5f\"},\"marker\":{\"line\":{\"color\":\"#E5ECF6\",\"width\":0.5},\"pattern\":{\"fillmode\":\"overlay\",\"size\":10,\"solidity\":0.2}},\"type\":\"bar\"}],\"barpolar\":[{\"marker\":{\"line\":{\"color\":\"#E5ECF6\",\"width\":0.5},\"pattern\":{\"fillmode\":\"overlay\",\"size\":10,\"solidity\":0.2}},\"type\":\"barpolar\"}],\"carpet\":[{\"aaxis\":{\"endlinecolor\":\"#2a3f5f\",\"gridcolor\":\"white\",\"linecolor\":\"white\",\"minorgridcolor\":\"white\",\"startlinecolor\":\"#2a3f5f\"},\"baxis\":{\"endlinecolor\":\"#2a3f5f\",\"gridcolor\":\"white\",\"linecolor\":\"white\",\"minorgridcolor\":\"white\",\"startlinecolor\":\"#2a3f5f\"},\"type\":\"carpet\"}],\"choropleth\":[{\"colorbar\":{\"outlinewidth\":0,\"ticks\":\"\"},\"type\":\"choropleth\"}],\"contour\":[{\"colorbar\":{\"outlinewidth\":0,\"ticks\":\"\"},\"colorscale\":[[0.0,\"#0d0887\"],[0.1111111111111111,\"#46039f\"],[0.2222222222222222,\"#7201a8\"],[0.3333333333333333,\"#9c179e\"],[0.4444444444444444,\"#bd3786\"],[0.5555555555555556,\"#d8576b\"],[0.6666666666666666,\"#ed7953\"],[0.7777777777777778,\"#fb9f3a\"],[0.8888888888888888,\"#fdca26\"],[1.0,\"#f0f921\"]],\"type\":\"contour\"}],\"contourcarpet\":[{\"colorbar\":{\"outlinewidth\":0,\"ticks\":\"\"},\"type\":\"contourcarpet\"}],\"heatmap\":[{\"colorbar\":{\"outlinewidth\":0,\"ticks\":\"\"},\"colorscale\":[[0.0,\"#0d0887\"],[0.1111111111111111,\"#46039f\"],[0.2222222222222222,\"#7201a8\"],[0.3333333333333333,\"#9c179e\"],[0.4444444444444444,\"#bd3786\"],[0.5555555555555556,\"#d8576b\"],[0.6666666666666666,\"#ed7953\"],[0.7777777777777778,\"#fb9f3a\"],[0.8888888888888888,\"#fdca26\"],[1.0,\"#f0f921\"]],\"type\":\"heatmap\"}],\"heatmapgl\":[{\"colorbar\":{\"outlinewidth\":0,\"ticks\":\"\"},\"colorscale\":[[0.0,\"#0d0887\"],[0.1111111111111111,\"#46039f\"],[0.2222222222222222,\"#7201a8\"],[0.3333333333333333,\"#9c179e\"],[0.4444444444444444,\"#bd3786\"],[0.5555555555555556,\"#d8576b\"],[0.6666666666666666,\"#ed7953\"],[0.7777777777777778,\"#fb9f3a\"],[0.8888888888888888,\"#fdca26\"],[1.0,\"#f0f921\"]],\"type\":\"heatmapgl\"}],\"histogram\":[{\"marker\":{\"pattern\":{\"fillmode\":\"overlay\",\"size\":10,\"solidity\":0.2}},\"type\":\"histogram\"}],\"histogram2d\":[{\"colorbar\":{\"outlinewidth\":0,\"ticks\":\"\"},\"colorscale\":[[0.0,\"#0d0887\"],[0.1111111111111111,\"#46039f\"],[0.2222222222222222,\"#7201a8\"],[0.3333333333333333,\"#9c179e\"],[0.4444444444444444,\"#bd3786\"],[0.5555555555555556,\"#d8576b\"],[0.6666666666666666,\"#ed7953\"],[0.7777777777777778,\"#fb9f3a\"],[0.8888888888888888,\"#fdca26\"],[1.0,\"#f0f921\"]],\"type\":\"histogram2d\"}],\"histogram2dcontour\":[{\"colorbar\":{\"outlinewidth\":0,\"ticks\":\"\"},\"colorscale\":[[0.0,\"#0d0887\"],[0.1111111111111111,\"#46039f\"],[0.2222222222222222,\"#7201a8\"],[0.3333333333333333,\"#9c179e\"],[0.4444444444444444,\"#bd3786\"],[0.5555555555555556,\"#d8576b\"],[0.6666666666666666,\"#ed7953\"],[0.7777777777777778,\"#fb9f3a\"],[0.8888888888888888,\"#fdca26\"],[1.0,\"#f0f921\"]],\"type\":\"histogram2dcontour\"}],\"mesh3d\":[{\"colorbar\":{\"outlinewidth\":0,\"ticks\":\"\"},\"type\":\"mesh3d\"}],\"parcoords\":[{\"line\":{\"colorbar\":{\"outlinewidth\":0,\"ticks\":\"\"}},\"type\":\"parcoords\"}],\"pie\":[{\"automargin\":true,\"type\":\"pie\"}],\"scatter\":[{\"marker\":{\"colorbar\":{\"outlinewidth\":0,\"ticks\":\"\"}},\"type\":\"scatter\"}],\"scatter3d\":[{\"line\":{\"colorbar\":{\"outlinewidth\":0,\"ticks\":\"\"}},\"marker\":{\"colorbar\":{\"outlinewidth\":0,\"ticks\":\"\"}},\"type\":\"scatter3d\"}],\"scattercarpet\":[{\"marker\":{\"colorbar\":{\"outlinewidth\":0,\"ticks\":\"\"}},\"type\":\"scattercarpet\"}],\"scattergeo\":[{\"marker\":{\"colorbar\":{\"outlinewidth\":0,\"ticks\":\"\"}},\"type\":\"scattergeo\"}],\"scattergl\":[{\"marker\":{\"colorbar\":{\"outlinewidth\":0,\"ticks\":\"\"}},\"type\":\"scattergl\"}],\"scattermapbox\":[{\"marker\":{\"colorbar\":{\"outlinewidth\":0,\"ticks\":\"\"}},\"type\":\"scattermapbox\"}],\"scatterpolar\":[{\"marker\":{\"colorbar\":{\"outlinewidth\":0,\"ticks\":\"\"}},\"type\":\"scatterpolar\"}],\"scatterpolargl\":[{\"marker\":{\"colorbar\":{\"outlinewidth\":0,\"ticks\":\"\"}},\"type\":\"scatterpolargl\"}],\"scatterternary\":[{\"marker\":{\"colorbar\":{\"outlinewidth\":0,\"ticks\":\"\"}},\"type\":\"scatterternary\"}],\"surface\":[{\"colorbar\":{\"outlinewidth\":0,\"ticks\":\"\"},\"colorscale\":[[0.0,\"#0d0887\"],[0.1111111111111111,\"#46039f\"],[0.2222222222222222,\"#7201a8\"],[0.3333333333333333,\"#9c179e\"],[0.4444444444444444,\"#bd3786\"],[0.5555555555555556,\"#d8576b\"],[0.6666666666666666,\"#ed7953\"],[0.7777777777777778,\"#fb9f3a\"],[0.8888888888888888,\"#fdca26\"],[1.0,\"#f0f921\"]],\"type\":\"surface\"}],\"table\":[{\"cells\":{\"fill\":{\"color\":\"#EBF0F8\"},\"line\":{\"color\":\"white\"}},\"header\":{\"fill\":{\"color\":\"#C8D4E3\"},\"line\":{\"color\":\"white\"}},\"type\":\"table\"}]},\"layout\":{\"annotationdefaults\":{\"arrowcolor\":\"#2a3f5f\",\"arrowhead\":0,\"arrowwidth\":1},\"autotypenumbers\":\"strict\",\"coloraxis\":{\"colorbar\":{\"outlinewidth\":0,\"ticks\":\"\"}},\"colorscale\":{\"diverging\":[[0,\"#8e0152\"],[0.1,\"#c51b7d\"],[0.2,\"#de77ae\"],[0.3,\"#f1b6da\"],[0.4,\"#fde0ef\"],[0.5,\"#f7f7f7\"],[0.6,\"#e6f5d0\"],[0.7,\"#b8e186\"],[0.8,\"#7fbc41\"],[0.9,\"#4d9221\"],[1,\"#276419\"]],\"sequential\":[[0.0,\"#0d0887\"],[0.1111111111111111,\"#46039f\"],[0.2222222222222222,\"#7201a8\"],[0.3333333333333333,\"#9c179e\"],[0.4444444444444444,\"#bd3786\"],[0.5555555555555556,\"#d8576b\"],[0.6666666666666666,\"#ed7953\"],[0.7777777777777778,\"#fb9f3a\"],[0.8888888888888888,\"#fdca26\"],[1.0,\"#f0f921\"]],\"sequentialminus\":[[0.0,\"#0d0887\"],[0.1111111111111111,\"#46039f\"],[0.2222222222222222,\"#7201a8\"],[0.3333333333333333,\"#9c179e\"],[0.4444444444444444,\"#bd3786\"],[0.5555555555555556,\"#d8576b\"],[0.6666666666666666,\"#ed7953\"],[0.7777777777777778,\"#fb9f3a\"],[0.8888888888888888,\"#fdca26\"],[1.0,\"#f0f921\"]]},\"colorway\":[\"#636efa\",\"#EF553B\",\"#00cc96\",\"#ab63fa\",\"#FFA15A\",\"#19d3f3\",\"#FF6692\",\"#B6E880\",\"#FF97FF\",\"#FECB52\"],\"font\":{\"color\":\"#2a3f5f\"},\"geo\":{\"bgcolor\":\"white\",\"lakecolor\":\"white\",\"landcolor\":\"#E5ECF6\",\"showlakes\":true,\"showland\":true,\"subunitcolor\":\"white\"},\"hoverlabel\":{\"align\":\"left\"},\"hovermode\":\"closest\",\"mapbox\":{\"style\":\"light\"},\"paper_bgcolor\":\"white\",\"plot_bgcolor\":\"#E5ECF6\",\"polar\":{\"angularaxis\":{\"gridcolor\":\"white\",\"linecolor\":\"white\",\"ticks\":\"\"},\"bgcolor\":\"#E5ECF6\",\"radialaxis\":{\"gridcolor\":\"white\",\"linecolor\":\"white\",\"ticks\":\"\"}},\"scene\":{\"xaxis\":{\"backgroundcolor\":\"#E5ECF6\",\"gridcolor\":\"white\",\"gridwidth\":2,\"linecolor\":\"white\",\"showbackground\":true,\"ticks\":\"\",\"zerolinecolor\":\"white\"},\"yaxis\":{\"backgroundcolor\":\"#E5ECF6\",\"gridcolor\":\"white\",\"gridwidth\":2,\"linecolor\":\"white\",\"showbackground\":true,\"ticks\":\"\",\"zerolinecolor\":\"white\"},\"zaxis\":{\"backgroundcolor\":\"#E5ECF6\",\"gridcolor\":\"white\",\"gridwidth\":2,\"linecolor\":\"white\",\"showbackground\":true,\"ticks\":\"\",\"zerolinecolor\":\"white\"}},\"shapedefaults\":{\"line\":{\"color\":\"#2a3f5f\"}},\"ternary\":{\"aaxis\":{\"gridcolor\":\"white\",\"linecolor\":\"white\",\"ticks\":\"\"},\"baxis\":{\"gridcolor\":\"white\",\"linecolor\":\"white\",\"ticks\":\"\"},\"bgcolor\":\"#E5ECF6\",\"caxis\":{\"gridcolor\":\"white\",\"linecolor\":\"white\",\"ticks\":\"\"}},\"title\":{\"x\":0.05},\"xaxis\":{\"automargin\":true,\"gridcolor\":\"white\",\"linecolor\":\"white\",\"ticks\":\"\",\"title\":{\"standoff\":15},\"zerolinecolor\":\"white\",\"zerolinewidth\":2},\"yaxis\":{\"automargin\":true,\"gridcolor\":\"white\",\"linecolor\":\"white\",\"ticks\":\"\",\"title\":{\"standoff\":15},\"zerolinecolor\":\"white\",\"zerolinewidth\":2}}}},                        {\"responsive\": true}                    ).then(function(){\n",
       "                            \n",
       "var gd = document.getElementById('c54c6fad-706a-4495-942a-3f0a31ddffe2');\n",
       "var x = new MutationObserver(function (mutations, observer) {{\n",
       "        var display = window.getComputedStyle(gd).display;\n",
       "        if (!display || display === 'none') {{\n",
       "            console.log([gd, 'removed!']);\n",
       "            Plotly.purge(gd);\n",
       "            observer.disconnect();\n",
       "        }}\n",
       "}});\n",
       "\n",
       "// Listen for the removal of the full notebook cells\n",
       "var notebookContainer = gd.closest('#notebook-container');\n",
       "if (notebookContainer) {{\n",
       "    x.observe(notebookContainer, {childList: true});\n",
       "}}\n",
       "\n",
       "// Listen for the clearing of the current output cell\n",
       "var outputEl = gd.closest('.output');\n",
       "if (outputEl) {{\n",
       "    x.observe(outputEl, {childList: true});\n",
       "}}\n",
       "\n",
       "                        })                };                });            </script>        </div>"
      ]
     },
     "metadata": {},
     "output_type": "display_data"
    },
    {
     "data": {
      "text/html": []
     },
     "metadata": {},
     "output_type": "display_data"
    }
   ],
   "source": [
    "check = ImageDatasetDrift()\n",
    "check.run(train_dataset=train_ds, test_dataset=test_ds)"
   ]
  }
 ],
 "metadata": {
  "kernelspec": {
   "display_name": "Python 3 (ipykernel)",
   "language": "python",
   "name": "python3"
  },
  "language_info": {
   "codemirror_mode": {
    "name": "ipython",
    "version": 3
   },
   "file_extension": ".py",
   "mimetype": "text/x-python",
   "name": "python",
   "nbconvert_exporter": "python",
   "pygments_lexer": "ipython3",
   "version": "3.8.6"
  }
 },
 "nbformat": 4,
 "nbformat_minor": 5
}
