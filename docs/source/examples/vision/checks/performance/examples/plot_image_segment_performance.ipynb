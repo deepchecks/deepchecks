{
  "cells": [
    {
      "cell_type": "code",
      "execution_count": null,
      "metadata": {
        "collapsed": false
      },
      "outputs": [],
      "source": [
        "%matplotlib inline"
      ]
    },
    {
      "cell_type": "markdown",
      "metadata": {},
      "source": [
        "Image Segment Performance\n=========================\n\nThis notebooks provides an overview for using and understanding image\nsegment performance check.\n\n**Structure:**\n\n-   [Why the image segment performance is\n    important?](#why-segment-performance-is-important)\n-   [Run the check](#run-the-check)\n-   [Define a condition](#define-a-condition)\n\nWhy segment performance is important?\n-------------------------------------\n\nThe check helps to detect segments of your data that are\nunder-performing based on the basic properties of the image. For\nexample, by default the check would show how the performance depends on\nbrightness, area and other such properties. Identifying your models\\'\nweak segments might help to address specific issues and improve the\noverall performance of the model.\n"
      ]
    },
    {
      "cell_type": "markdown",
      "metadata": {},
      "source": [
        "Run the check\n=============\n"
      ]
    },
    {
      "cell_type": "code",
      "execution_count": null,
      "metadata": {
        "collapsed": false
      },
      "outputs": [],
      "source": [
        "from deepchecks.vision.datasets.detection import coco\nfrom deepchecks.vision.checks.performance import ImageSegmentPerformance\n\ncoco_data = coco.load_dataset(train=False, object_type='VisionData')\nmodel = coco.load_model()\n\nresult = ImageSegmentPerformance().run(coco_data, model)\nresult"
      ]
    },
    {
      "cell_type": "markdown",
      "metadata": {},
      "source": [
        "Observe the check's output\n==========================\n\nThe check segmented the data by different properties and calculated the\nmetrics for each segment. As the value of result we return all the\ninformation on the different segments:\n"
      ]
    },
    {
      "cell_type": "code",
      "execution_count": null,
      "metadata": {
        "collapsed": false
      },
      "outputs": [],
      "source": [
        "print(f'Properties: {result.value.keys()}')\nprint(f'brightness bins: {result.value[\"Brightness\"]}')"
      ]
    },
    {
      "cell_type": "markdown",
      "metadata": {},
      "source": [
        "Define a condition\n==================\n\nThe check has a default condition which can be defined. The condition\ncalculates for each property & metric the mean score and then looks at\nthe ratio between the lowest segment score and the mean score. If this\nratio is less than defined threshold, the condition fails.\n\nThe purpose of the condition is to catch properties segments that are\nsignificantly worse than the mean - which might indicate a problem.\n"
      ]
    },
    {
      "cell_type": "code",
      "execution_count": null,
      "metadata": {
        "collapsed": false
      },
      "outputs": [],
      "source": [
        "check = ImageSegmentPerformance().add_condition_score_from_mean_ratio_not_less_than(0.5)\ncheck.run(coco_data, model)"
      ]
    },
    {
      "cell_type": "markdown",
      "metadata": {},
      "source": [
        "In this case the condition identified under-performing segments in the\nproperties: normalized\\_blue\\_mean, brightness, aspect\\_ratio,\nnormalized\\_red\\_mean\n"
      ]
    }
  ],
  "metadata": {
    "kernelspec": {
      "display_name": "Python 3",
      "language": "python",
      "name": "python3"
    },
    "language_info": {
      "codemirror_mode": {
        "name": "ipython",
        "version": 3
      },
      "file_extension": ".py",
      "mimetype": "text/x-python",
      "name": "python",
      "nbconvert_exporter": "python",
      "pygments_lexer": "ipython3",
      "version": "3.8.10"
    }
  },
  "nbformat": 4,
  "nbformat_minor": 0
}