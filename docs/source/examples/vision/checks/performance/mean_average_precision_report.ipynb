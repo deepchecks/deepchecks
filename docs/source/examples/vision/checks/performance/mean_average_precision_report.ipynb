version https://git-lfs.github.com/spec/v1
oid sha256:16f01c81075f13e6f88cd130e297a1a0249c1355c9ad92aa4f66c045a0ff2c93
size 3806744
