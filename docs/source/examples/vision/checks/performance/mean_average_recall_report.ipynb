{
 "cells": [
  {
   "cell_type": "markdown",
   "id": "e767e792",
   "metadata": {},
   "source": [
    "# Mean Average Recall Report\n",
    "\n",
    "This notebooks provides an overview for using and understanding the mean average recall report check.\n",
    "\n",
    "**Structure:**\n",
    "\n",
    "- [What is the purpose of the check?](#purpose)\n",
    "- [Generate data & model](#generate)\n",
    "- [Defining the Prediction Formatter](#pred_format)\n",
    "- [Run the check](#run_check)\n",
    "- [Define a condition](#define_condition)"
   ]
  },
  {
   "cell_type": "markdown",
   "id": "60ba23c4",
   "metadata": {},
   "source": [
    "## What is the purpose of the check? <a name='purpose'></a>\n",
    "\n",
    "The mean average recall report evaluates the mean average recall metric on the given model and data. \n",
    "The check only works on object detection as it computes the value with the detections per image amount and Area size."
   ]
  },
  {
   "cell_type": "markdown",
   "id": "09c7ee01-6999-465e-a318-56570b008526",
   "metadata": {},
   "source": [
    "### Imports"
   ]
  },
  {
   "cell_type": "code",
   "execution_count": 1,
   "id": "a8bef717-c573-43ec-8589-a81ecc08f2bb",
   "metadata": {
    "execution": {
     "iopub.execute_input": "2022-02-21T12:01:32.906316Z",
     "iopub.status.busy": "2022-02-21T12:01:32.905724Z",
     "iopub.status.idle": "2022-02-21T12:01:35.075023Z",
     "shell.execute_reply": "2022-02-21T12:01:35.074178Z"
    }
   },
   "outputs": [],
   "source": [
    "import numpy as np\n",
    "\n",
    "from deepchecks.vision.checks.performance import MeanAverageRecallReport\n",
    "from deepchecks.vision.datasets.detection import coco"
   ]
  },
  {
   "cell_type": "markdown",
   "id": "fb58d486",
   "metadata": {},
   "source": [
    "### Generate Data and Model <a name='generate'></a>\n",
    "\n",
    "We generate a sample dataset of 128 images from the [COCO dataset](https://cocodataset.org/#home), and using the [YOLOv5 model](https://github.com/ultralytics/yolov5).\n",
    "\n",
    "For the label formatter - our dataset returns exactly the accepted format, so our formatting function is the simple `lambda x: x` function."
   ]
  },
  {
   "cell_type": "code",
   "execution_count": 2,
   "id": "7a105788-e0b1-42cc-94cc-fe0292fdaa70",
   "metadata": {
    "execution": {
     "iopub.execute_input": "2022-02-21T12:01:35.078900Z",
     "iopub.status.busy": "2022-02-21T12:01:35.078670Z",
     "iopub.status.idle": "2022-02-21T12:01:35.940081Z",
     "shell.execute_reply": "2022-02-21T12:01:35.939132Z"
    }
   },
   "outputs": [],
   "source": [
    "yolo = coco.load_model(pretrained=True)\n",
    "\n",
    "test_ds = coco.load_dataset(train=False, object_type='VisionData')"
   ]
  },
  {
   "cell_type": "markdown",
   "id": "c1008328",
   "metadata": {},
   "source": [
    "### Run the check <a name='run_check'></a>"
   ]
  },
  {
   "cell_type": "code",
   "execution_count": 3,
   "id": "81821ee9-2c46-446a-92fc-142b855f833e",
   "metadata": {
    "execution": {
     "iopub.execute_input": "2022-02-21T12:01:35.950428Z",
     "iopub.status.busy": "2022-02-21T12:01:35.950214Z",
     "iopub.status.idle": "2022-02-21T12:02:10.356837Z",
     "shell.execute_reply": "2022-02-21T12:02:10.355831Z"
    },
    "tags": []
   },
   "outputs": [
    {
     "data": {
      "text/html": [
       "<h4>Mean Average Recall Report</h4><p>Summarize mean average recall metrics on a dataset and model per detections and area range. <a href=\"https://docs.deepchecks.com/en/0.5.0.dev2/examples/vision/checks/performance/mean_average_recall_report.html?utm_source=display_output&utm_medium=referral&utm_campaign=check_link\" target=\"_blank\">Read More...</a></p><h5>Additional Outputs</h5><style type=\"text/css\">\n",
       "#T_bbfb1_ table {\n",
       "  text-align: left;\n",
       "  white-space: pre-wrap;\n",
       "}\n",
       "#T_bbfb1_ thead {\n",
       "  text-align: left;\n",
       "  white-space: pre-wrap;\n",
       "}\n",
       "#T_bbfb1_ tbody {\n",
       "  text-align: left;\n",
       "  white-space: pre-wrap;\n",
       "}\n",
       "#T_bbfb1_ th {\n",
       "  text-align: left;\n",
       "  white-space: pre-wrap;\n",
       "}\n",
       "#T_bbfb1_ td {\n",
       "  text-align: left;\n",
       "  white-space: pre-wrap;\n",
       "}\n",
       "</style>\n",
       "<table id=\"T_bbfb1_\">\n",
       "  <thead>\n",
       "    <tr>\n",
       "      <th class=\"blank level0\" >&nbsp;</th>\n",
       "      <th class=\"col_heading level0 col0\" >AR@1 (%)</th>\n",
       "      <th class=\"col_heading level0 col1\" >AR@10 (%)</th>\n",
       "      <th class=\"col_heading level0 col2\" >AR@100 (%)</th>\n",
       "    </tr>\n",
       "    <tr>\n",
       "      <th class=\"index_name level0\" >Area size</th>\n",
       "      <th class=\"blank col0\" >&nbsp;</th>\n",
       "      <th class=\"blank col1\" >&nbsp;</th>\n",
       "      <th class=\"blank col2\" >&nbsp;</th>\n",
       "    </tr>\n",
       "  </thead>\n",
       "  <tbody>\n",
       "    <tr>\n",
       "      <th id=\"T_bbfb1_level0_row0\" class=\"row_heading level0 row0\" >All</th>\n",
       "      <td id=\"T_bbfb1_row0_col0\" class=\"data row0 col0\" >0.33</td>\n",
       "      <td id=\"T_bbfb1_row0_col1\" class=\"data row0 col1\" >0.42</td>\n",
       "      <td id=\"T_bbfb1_row0_col2\" class=\"data row0 col2\" >0.43</td>\n",
       "    </tr>\n",
       "    <tr>\n",
       "      <th id=\"T_bbfb1_level0_row1\" class=\"row_heading level0 row1\" >Small (area < 32^2)</th>\n",
       "      <td id=\"T_bbfb1_row1_col0\" class=\"data row1 col0\" >0.10</td>\n",
       "      <td id=\"T_bbfb1_row1_col1\" class=\"data row1 col1\" >0.22</td>\n",
       "      <td id=\"T_bbfb1_row1_col2\" class=\"data row1 col2\" >0.22</td>\n",
       "    </tr>\n",
       "    <tr>\n",
       "      <th id=\"T_bbfb1_level0_row2\" class=\"row_heading level0 row2\" >Medium (32^2 < area < 96^2)</th>\n",
       "      <td id=\"T_bbfb1_row2_col0\" class=\"data row2 col0\" >0.33</td>\n",
       "      <td id=\"T_bbfb1_row2_col1\" class=\"data row2 col1\" >0.42</td>\n",
       "      <td id=\"T_bbfb1_row2_col2\" class=\"data row2 col2\" >0.42</td>\n",
       "    </tr>\n",
       "    <tr>\n",
       "      <th id=\"T_bbfb1_level0_row3\" class=\"row_heading level0 row3\" >Large (area < 96^2)</th>\n",
       "      <td id=\"T_bbfb1_row3_col0\" class=\"data row3 col0\" >0.48</td>\n",
       "      <td id=\"T_bbfb1_row3_col1\" class=\"data row3 col1\" >0.54</td>\n",
       "      <td id=\"T_bbfb1_row3_col2\" class=\"data row3 col2\" >0.55</td>\n",
       "    </tr>\n",
       "  </tbody>\n",
       "</table>\n"
      ]
     },
     "metadata": {},
     "output_type": "display_data"
    }
   ],
   "source": [
    "check = MeanAverageRecallReport()\n",
    "result = check.run(test_ds, yolo)\n",
    "result"
   ]
  },
  {
   "cell_type": "markdown",
   "id": "376fefe0-79a8-438d-8105-945c03964cea",
   "metadata": {},
   "source": [
    "### Observe the check’s output\n",
    "\n",
    "The result value is a dataframe that has the average recall score per each area range and IoU."
   ]
  },
  {
   "cell_type": "code",
   "execution_count": 4,
   "id": "7bd5d0e0-68ff-4536-a6d6-3f8c3cd0b4e0",
   "metadata": {
    "execution": {
     "iopub.execute_input": "2022-02-21T12:02:10.360498Z",
     "iopub.status.busy": "2022-02-21T12:02:10.360261Z",
     "iopub.status.idle": "2022-02-21T12:02:10.369942Z",
     "shell.execute_reply": "2022-02-21T12:02:10.369456Z"
    }
   },
   "outputs": [
    {
     "data": {
      "text/html": [
       "<div>\n",
       "<style scoped>\n",
       "    .dataframe tbody tr th:only-of-type {\n",
       "        vertical-align: middle;\n",
       "    }\n",
       "\n",
       "    .dataframe tbody tr th {\n",
       "        vertical-align: top;\n",
       "    }\n",
       "\n",
       "    .dataframe thead th {\n",
       "        text-align: right;\n",
       "    }\n",
       "</style>\n",
       "<table border=\"1\" class=\"dataframe\">\n",
       "  <thead>\n",
       "    <tr style=\"text-align: right;\">\n",
       "      <th></th>\n",
       "      <th>AR@1 (%)</th>\n",
       "      <th>AR@10 (%)</th>\n",
       "      <th>AR@100 (%)</th>\n",
       "    </tr>\n",
       "    <tr>\n",
       "      <th>Area size</th>\n",
       "      <th></th>\n",
       "      <th></th>\n",
       "      <th></th>\n",
       "    </tr>\n",
       "  </thead>\n",
       "  <tbody>\n",
       "    <tr>\n",
       "      <th>All</th>\n",
       "      <td>0.330552</td>\n",
       "      <td>0.423444</td>\n",
       "      <td>0.429179</td>\n",
       "    </tr>\n",
       "    <tr>\n",
       "      <th>Small (area &lt; 32^2)</th>\n",
       "      <td>0.104955</td>\n",
       "      <td>0.220594</td>\n",
       "      <td>0.220594</td>\n",
       "    </tr>\n",
       "    <tr>\n",
       "      <th>Medium (32^2 &lt; area &lt; 96^2)</th>\n",
       "      <td>0.325099</td>\n",
       "      <td>0.417392</td>\n",
       "      <td>0.423844</td>\n",
       "    </tr>\n",
       "    <tr>\n",
       "      <th>Large (area &lt; 96^2)</th>\n",
       "      <td>0.481611</td>\n",
       "      <td>0.544408</td>\n",
       "      <td>0.549963</td>\n",
       "    </tr>\n",
       "  </tbody>\n",
       "</table>\n",
       "</div>"
      ],
      "text/plain": [
       "                             AR@1 (%)  AR@10 (%)  AR@100 (%)\n",
       "Area size                                                   \n",
       "All                          0.330552   0.423444    0.429179\n",
       "Small (area < 32^2)          0.104955   0.220594    0.220594\n",
       "Medium (32^2 < area < 96^2)  0.325099   0.417392    0.423844\n",
       "Large (area < 96^2)          0.481611   0.544408    0.549963"
      ]
     },
     "execution_count": 4,
     "metadata": {},
     "output_type": "execute_result"
    }
   ],
   "source": [
    "result.value"
   ]
  },
  {
   "cell_type": "markdown",
   "id": "5e8f911b-a833-40d8-b797-9c05edf695d5",
   "metadata": {},
   "source": [
    "## Define a condition <a name='define_condition'></a>\n",
    "\n",
    "We can define a condition that enforce our model's average recall score is not less than a given threshold"
   ]
  },
  {
   "cell_type": "code",
   "execution_count": 5,
   "id": "0b389e9c-a0f7-4676-891d-f1d27a717cde",
   "metadata": {
    "execution": {
     "iopub.execute_input": "2022-02-21T12:02:10.373182Z",
     "iopub.status.busy": "2022-02-21T12:02:10.372972Z",
     "iopub.status.idle": "2022-02-21T12:02:43.560836Z",
     "shell.execute_reply": "2022-02-21T12:02:43.560189Z"
    }
   },
   "outputs": [
    {
     "data": {
      "text/html": [
       "<h4>Mean Average Recall Report</h4><p>Summarize mean average recall metrics on a dataset and model per detections and area range. <a href=\"https://docs.deepchecks.com/en/0.5.0.dev2/examples/vision/checks/performance/mean_average_recall_report.html?utm_source=display_output&utm_medium=referral&utm_campaign=check_link\" target=\"_blank\">Read More...</a></p><h5>Conditions Summary</h5><style type=\"text/css\">\n",
       "#T_b2070_ table {\n",
       "  text-align: left;\n",
       "  white-space: pre-wrap;\n",
       "}\n",
       "#T_b2070_ thead {\n",
       "  text-align: left;\n",
       "  white-space: pre-wrap;\n",
       "}\n",
       "#T_b2070_ tbody {\n",
       "  text-align: left;\n",
       "  white-space: pre-wrap;\n",
       "}\n",
       "#T_b2070_ th {\n",
       "  text-align: left;\n",
       "  white-space: pre-wrap;\n",
       "}\n",
       "#T_b2070_ td {\n",
       "  text-align: left;\n",
       "  white-space: pre-wrap;\n",
       "}\n",
       "</style>\n",
       "<table id=\"T_b2070_\">\n",
       "  <thead>\n",
       "    <tr>\n",
       "      <th class=\"col_heading level0 col0\" >Status</th>\n",
       "      <th class=\"col_heading level0 col1\" >Condition</th>\n",
       "      <th class=\"col_heading level0 col2\" >More Info</th>\n",
       "    </tr>\n",
       "  </thead>\n",
       "  <tbody>\n",
       "    <tr>\n",
       "      <td id=\"T_b2070_row0_col0\" class=\"data row0 col0\" ><div style=\"color: red;text-align: center\">✖</div></td>\n",
       "      <td id=\"T_b2070_row0_col1\" class=\"data row0 col1\" >Scores are not less than 0.4</td>\n",
       "      <td id=\"T_b2070_row0_col2\" class=\"data row0 col2\" >Found scores below threshold:\n",
       "{'All': {'AR@1 (%)': '0.331'}, 'Small (area < 32^2)': {'AR@10 (%)': '0.221'}}</td>\n",
       "    </tr>\n",
       "  </tbody>\n",
       "</table>\n"
      ]
     },
     "metadata": {},
     "output_type": "display_data"
    }
   ],
   "source": [
    "check = MeanAverageRecallReport().add_condition_test_average_recall_not_less_than(0.4)\n",
    "result = check.run(test_ds, yolo)\n",
    "result.show(show_additional_outputs=False)"
   ]
  }
 ],
 "metadata": {
  "kernelspec": {
   "display_name": "Python 3 (ipykernel)",
   "language": "python",
   "name": "python3"
  },
  "language_info": {
   "codemirror_mode": {
    "name": "ipython",
    "version": 3
   },
   "file_extension": ".py",
   "mimetype": "text/x-python",
   "name": "python",
   "nbconvert_exporter": "python",
   "pygments_lexer": "ipython3",
   "version": "3.9.0"
  },
  "widgets": {
   "application/vnd.jupyter.widget-state+json": {
    "state": {},
    "version_major": 2,
    "version_minor": 0
   }
  }
 },
 "nbformat": 4,
 "nbformat_minor": 5
}
