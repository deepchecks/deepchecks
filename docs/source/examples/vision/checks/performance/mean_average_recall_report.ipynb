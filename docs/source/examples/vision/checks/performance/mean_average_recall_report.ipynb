{
 "cells": [
  {
   "cell_type": "markdown",
   "id": "e767e792",
   "metadata": {},
   "source": [
    "# Mean Average Recall Report\n",
    "\n",
    "This notebooks provides an overview for using and understanding the mean average recall report check.\n",
    "\n",
    "**Structure:**\n",
    "\n",
    "- [What is the purpose of the check?](#purpose)\n",
    "- [Generate data & model](#generate)\n",
    "- [Defining the Prediction Formatter](#pred_format)\n",
    "- [Run the check](#run_check)\n",
    "- [Define a condition](#define_condition)"
   ]
  },
  {
   "cell_type": "markdown",
   "id": "60ba23c4",
   "metadata": {},
   "source": [
    "## What is the purpose of the check? <a name='purpose'></a>\n",
    "\n",
    "The mean average recall report evaluates the mean average recall metric on the given model and data. \n",
    "The check only works on object detection as it computes the value with the detections per image amount and Area size."
   ]
  },
  {
   "cell_type": "markdown",
   "id": "09c7ee01-6999-465e-a318-56570b008526",
   "metadata": {},
   "source": [
    "### Imports"
   ]
  },
  {
   "cell_type": "code",
   "execution_count": 1,
   "id": "a8bef717-c573-43ec-8589-a81ecc08f2bb",
   "metadata": {
    "execution": {
     "iopub.execute_input": "2022-02-21T12:01:32.906316Z",
     "iopub.status.busy": "2022-02-21T12:01:32.905724Z",
     "iopub.status.idle": "2022-02-21T12:01:35.075023Z",
     "shell.execute_reply": "2022-02-21T12:01:35.074178Z"
    }
   },
   "outputs": [],
   "source": [
    "import numpy as np\n",
    "\n",
    "from deepchecks.vision.base import VisionData\n",
    "from deepchecks.vision.checks.performance import MeanAverageRecallReport\n",
    "from deepchecks.vision.utils.detection_formatters import DetectionLabelFormatter, DetectionPredictionFormatter\n",
    "from deepchecks.vision.datasets.detection import coco"
   ]
  },
  {
   "cell_type": "markdown",
   "id": "fb58d486",
   "metadata": {},
   "source": [
    "### Generate Data and Model <a name='generate'></a>\n",
    "\n",
    "We generate a sample dataset of 128 images from the [COCO dataset](https://cocodataset.org/#home), and using the [YOLOv5 model](https://github.com/ultralytics/yolov5).\n",
    "\n",
    "For the label formatter - our dataset returns exactly the accepted format, so our formatting function is the simple `lambda x: x` function."
   ]
  },
  {
   "cell_type": "code",
   "execution_count": 2,
   "id": "7a105788-e0b1-42cc-94cc-fe0292fdaa70",
   "metadata": {
    "execution": {
     "iopub.execute_input": "2022-02-21T12:01:35.078900Z",
     "iopub.status.busy": "2022-02-21T12:01:35.078670Z",
     "iopub.status.idle": "2022-02-21T12:01:35.940081Z",
     "shell.execute_reply": "2022-02-21T12:01:35.939132Z"
    }
   },
   "outputs": [],
   "source": [
    "yolo = coco.load_model(pretrained=True)\n",
    "\n",
    "test_ds = coco.load_dataset(train=False, object_type='VisionData')"
   ]
  },
  {
   "cell_type": "markdown",
   "id": "a782b1fb",
   "metadata": {},
   "source": [
    "### Defining the prediction formatter <a name='pred_format'></a>\n",
    "The COCO module implemented in deepchecks already contains a transformation function to convert the yolo detection to the correct format of [x, y, w, h, confidence, class_id]."
   ]
  },
  {
   "cell_type": "code",
   "execution_count": 3,
   "id": "42faaba7",
   "metadata": {
    "execution": {
     "iopub.execute_input": "2022-02-21T12:01:35.944357Z",
     "iopub.status.busy": "2022-02-21T12:01:35.944024Z",
     "iopub.status.idle": "2022-02-21T12:01:35.947586Z",
     "shell.execute_reply": "2022-02-21T12:01:35.947144Z"
    }
   },
   "outputs": [],
   "source": [
    "from deepchecks.vision.utils.detection_formatters import DetectionPredictionFormatter\n",
    "\n",
    "det_formatter = DetectionPredictionFormatter(coco.yolo_prediction_formatter)"
   ]
  },
  {
   "cell_type": "markdown",
   "id": "c1008328",
   "metadata": {},
   "source": [
    "### Run the check <a name='run_check'></a>"
   ]
  },
  {
   "cell_type": "code",
   "execution_count": 4,
   "id": "81821ee9-2c46-446a-92fc-142b855f833e",
   "metadata": {
    "execution": {
     "iopub.execute_input": "2022-02-21T12:01:35.950428Z",
     "iopub.status.busy": "2022-02-21T12:01:35.950214Z",
     "iopub.status.idle": "2022-02-21T12:02:10.356837Z",
     "shell.execute_reply": "2022-02-21T12:02:10.355831Z"
    },
    "tags": []
   },
   "outputs": [
    {
     "name": "stderr",
     "output_type": "stream",
     "text": [
      "/Users/itaygabbay/Deepchecks/deepchecks/venv/lib/python3.9/site-packages/torch/autocast_mode.py:141: UserWarning:\n",
      "\n",
      "User provided device_type of 'cuda', but CUDA is not available. Disabling\n",
      "\n"
     ]
    },
    {
     "data": {
      "text/html": [
       "<h4>Mean Average Recall Report</h4><p>Summarize mean average recall metrics on a dataset and model per detections and area range. <a href=\"https://docs.deepchecks.com/en/0.5.0.dev0/examples/vision/checks/performance/mean_average_recall_report.html?utm_source=display_output&utm_medium=referral&utm_campaign=check_link\" target=\"_blank\">Read More...</a></p><h5>Additional Outputs</h5><style type=\"text/css\">\n",
       "#T_248af table {\n",
       "  text-align: left;\n",
       "  white-space: pre-wrap;\n",
       "}\n",
       "#T_248af thead {\n",
       "  text-align: left;\n",
       "  white-space: pre-wrap;\n",
       "}\n",
       "#T_248af tbody {\n",
       "  text-align: left;\n",
       "  white-space: pre-wrap;\n",
       "}\n",
       "#T_248af th {\n",
       "  text-align: left;\n",
       "  white-space: pre-wrap;\n",
       "}\n",
       "#T_248af td {\n",
       "  text-align: left;\n",
       "  white-space: pre-wrap;\n",
       "}\n",
       "</style>\n",
       "<table id=\"T_248af\">\n",
       "  <thead>\n",
       "    <tr>\n",
       "      <th class=\"blank level0\" >&nbsp;</th>\n",
       "      <th id=\"T_248af_level0_col0\" class=\"col_heading level0 col0\" >AR@1 (%)</th>\n",
       "      <th id=\"T_248af_level0_col1\" class=\"col_heading level0 col1\" >AR@10 (%)</th>\n",
       "      <th id=\"T_248af_level0_col2\" class=\"col_heading level0 col2\" >AR@100 (%)</th>\n",
       "    </tr>\n",
       "    <tr>\n",
       "      <th class=\"index_name level0\" >Area size</th>\n",
       "      <th class=\"blank col0\" >&nbsp;</th>\n",
       "      <th class=\"blank col1\" >&nbsp;</th>\n",
       "      <th class=\"blank col2\" >&nbsp;</th>\n",
       "    </tr>\n",
       "  </thead>\n",
       "  <tbody>\n",
       "    <tr>\n",
       "      <th id=\"T_248af_level0_row0\" class=\"row_heading level0 row0\" >All</th>\n",
       "      <td id=\"T_248af_row0_col0\" class=\"data row0 col0\" >0.30</td>\n",
       "      <td id=\"T_248af_row0_col1\" class=\"data row0 col1\" >0.38</td>\n",
       "      <td id=\"T_248af_row0_col2\" class=\"data row0 col2\" >0.39</td>\n",
       "    </tr>\n",
       "    <tr>\n",
       "      <th id=\"T_248af_level0_row1\" class=\"row_heading level0 row1\" >Small (area < 32^2)</th>\n",
       "      <td id=\"T_248af_row1_col0\" class=\"data row1 col0\" >0.09</td>\n",
       "      <td id=\"T_248af_row1_col1\" class=\"data row1 col1\" >0.17</td>\n",
       "      <td id=\"T_248af_row1_col2\" class=\"data row1 col2\" >0.19</td>\n",
       "    </tr>\n",
       "    <tr>\n",
       "      <th id=\"T_248af_level0_row2\" class=\"row_heading level0 row2\" >Medium (32^2 < area < 96^2)</th>\n",
       "      <td id=\"T_248af_row2_col0\" class=\"data row2 col0\" >0.32</td>\n",
       "      <td id=\"T_248af_row2_col1\" class=\"data row2 col1\" >0.39</td>\n",
       "      <td id=\"T_248af_row2_col2\" class=\"data row2 col2\" >0.40</td>\n",
       "    </tr>\n",
       "    <tr>\n",
       "      <th id=\"T_248af_level0_row3\" class=\"row_heading level0 row3\" >Large (area < 96^2)</th>\n",
       "      <td id=\"T_248af_row3_col0\" class=\"data row3 col0\" >0.43</td>\n",
       "      <td id=\"T_248af_row3_col1\" class=\"data row3 col1\" >0.48</td>\n",
       "      <td id=\"T_248af_row3_col2\" class=\"data row3 col2\" >0.49</td>\n",
       "    </tr>\n",
       "  </tbody>\n",
       "</table>\n"
      ]
     },
     "metadata": {},
     "output_type": "display_data"
    }
   ],
   "source": [
    "check = MeanAverageRecallReport()\n",
    "result = check.run(test_ds, yolo, prediction_formatter=det_formatter)\n",
    "result"
   ]
  },
  {
   "cell_type": "markdown",
   "id": "376fefe0-79a8-438d-8105-945c03964cea",
   "metadata": {},
   "source": [
    "### Observe the check’s output\n",
    "\n",
    "The result value is a dataframe that has the average recall score per each area range and IoU."
   ]
  },
  {
   "cell_type": "code",
   "execution_count": 5,
   "id": "7bd5d0e0-68ff-4536-a6d6-3f8c3cd0b4e0",
   "metadata": {
    "execution": {
     "iopub.execute_input": "2022-02-21T12:02:10.360498Z",
     "iopub.status.busy": "2022-02-21T12:02:10.360261Z",
     "iopub.status.idle": "2022-02-21T12:02:10.369942Z",
     "shell.execute_reply": "2022-02-21T12:02:10.369456Z"
    }
   },
   "outputs": [
    {
     "data": {
      "text/html": [
       "<div>\n",
       "<style scoped>\n",
       "    .dataframe tbody tr th:only-of-type {\n",
       "        vertical-align: middle;\n",
       "    }\n",
       "\n",
       "    .dataframe tbody tr th {\n",
       "        vertical-align: top;\n",
       "    }\n",
       "\n",
       "    .dataframe thead th {\n",
       "        text-align: right;\n",
       "    }\n",
       "</style>\n",
       "<table border=\"1\" class=\"dataframe\">\n",
       "  <thead>\n",
       "    <tr style=\"text-align: right;\">\n",
       "      <th></th>\n",
       "      <th>AR@1 (%)</th>\n",
       "      <th>AR@10 (%)</th>\n",
       "      <th>AR@100 (%)</th>\n",
       "    </tr>\n",
       "    <tr>\n",
       "      <th>Area size</th>\n",
       "      <th></th>\n",
       "      <th></th>\n",
       "      <th></th>\n",
       "    </tr>\n",
       "  </thead>\n",
       "  <tbody>\n",
       "    <tr>\n",
       "      <th>All</th>\n",
       "      <td>0.299843</td>\n",
       "      <td>0.379349</td>\n",
       "      <td>0.387681</td>\n",
       "    </tr>\n",
       "    <tr>\n",
       "      <th>Small (area &lt; 32^2)</th>\n",
       "      <td>0.091908</td>\n",
       "      <td>0.167694</td>\n",
       "      <td>0.194361</td>\n",
       "    </tr>\n",
       "    <tr>\n",
       "      <th>Medium (32^2 &lt; area &lt; 96^2)</th>\n",
       "      <td>0.315645</td>\n",
       "      <td>0.392778</td>\n",
       "      <td>0.403441</td>\n",
       "    </tr>\n",
       "    <tr>\n",
       "      <th>Large (area &lt; 96^2)</th>\n",
       "      <td>0.426184</td>\n",
       "      <td>0.483006</td>\n",
       "      <td>0.488989</td>\n",
       "    </tr>\n",
       "  </tbody>\n",
       "</table>\n",
       "</div>"
      ],
      "text/plain": [
       "                             AR@1 (%)  AR@10 (%)  AR@100 (%)\n",
       "Area size                                                   \n",
       "All                          0.299843   0.379349    0.387681\n",
       "Small (area < 32^2)          0.091908   0.167694    0.194361\n",
       "Medium (32^2 < area < 96^2)  0.315645   0.392778    0.403441\n",
       "Large (area < 96^2)          0.426184   0.483006    0.488989"
      ]
     },
     "execution_count": 5,
     "metadata": {},
     "output_type": "execute_result"
    }
   ],
   "source": [
    "result.value"
   ]
  },
  {
   "cell_type": "markdown",
   "id": "5e8f911b-a833-40d8-b797-9c05edf695d5",
   "metadata": {},
   "source": [
    "## Define a condition <a name='define_condition'></a>\n",
    "\n",
    "We can define a condition that enforce our model's average recall score is not less than a given threshold"
   ]
  },
  {
   "cell_type": "code",
   "execution_count": 6,
   "id": "0b389e9c-a0f7-4676-891d-f1d27a717cde",
   "metadata": {
    "execution": {
     "iopub.execute_input": "2022-02-21T12:02:10.373182Z",
     "iopub.status.busy": "2022-02-21T12:02:10.372972Z",
     "iopub.status.idle": "2022-02-21T12:02:43.560836Z",
     "shell.execute_reply": "2022-02-21T12:02:43.560189Z"
    }
   },
   "outputs": [
    {
     "name": "stderr",
     "output_type": "stream",
     "text": [
      "/Users/itaygabbay/Deepchecks/deepchecks/venv/lib/python3.9/site-packages/torch/autocast_mode.py:141: UserWarning:\n",
      "\n",
      "User provided device_type of 'cuda', but CUDA is not available. Disabling\n",
      "\n"
     ]
    },
    {
     "data": {
      "text/html": [
       "<h4>Mean Average Recall Report</h4><p>Summarize mean average recall metrics on a dataset and model per detections and area range. <a href=\"https://docs.deepchecks.com/en/0.5.0.dev0/examples/vision/checks/performance/mean_average_recall_report.html?utm_source=display_output&utm_medium=referral&utm_campaign=check_link\" target=\"_blank\">Read More...</a></p><h5>Conditions Summary</h5><style type=\"text/css\">\n",
       "#T_e26d4 table {\n",
       "  text-align: left;\n",
       "  white-space: pre-wrap;\n",
       "}\n",
       "#T_e26d4 thead {\n",
       "  text-align: left;\n",
       "  white-space: pre-wrap;\n",
       "}\n",
       "#T_e26d4 tbody {\n",
       "  text-align: left;\n",
       "  white-space: pre-wrap;\n",
       "}\n",
       "#T_e26d4 th {\n",
       "  text-align: left;\n",
       "  white-space: pre-wrap;\n",
       "}\n",
       "#T_e26d4 td {\n",
       "  text-align: left;\n",
       "  white-space: pre-wrap;\n",
       "}\n",
       "</style>\n",
       "<table id=\"T_e26d4\">\n",
       "  <thead>\n",
       "    <tr>\n",
       "      <th id=\"T_e26d4_level0_col0\" class=\"col_heading level0 col0\" >Status</th>\n",
       "      <th id=\"T_e26d4_level0_col1\" class=\"col_heading level0 col1\" >Condition</th>\n",
       "      <th id=\"T_e26d4_level0_col2\" class=\"col_heading level0 col2\" >More Info</th>\n",
       "    </tr>\n",
       "  </thead>\n",
       "  <tbody>\n",
       "    <tr>\n",
       "      <td id=\"T_e26d4_row0_col0\" class=\"data row0 col0\" ><div style=\"color: red;text-align: center\">✖</div></td>\n",
       "      <td id=\"T_e26d4_row0_col1\" class=\"data row0 col1\" >Scores are not less than 0.4</td>\n",
       "      <td id=\"T_e26d4_row0_col2\" class=\"data row0 col2\" >Found scores below threshold:\n",
       "{'All': {'AR@1 (%)': '0.3'}, 'Small (area < 32^2)': {'AR@10 (%)': '0.168'}}</td>\n",
       "    </tr>\n",
       "  </tbody>\n",
       "</table>\n"
      ]
     },
     "metadata": {},
     "output_type": "display_data"
    }
   ],
   "source": [
    "check = MeanAverageRecallReport().add_condition_test_average_recall_not_less_than(0.4)\n",
    "result = check.run(test_ds, yolo, prediction_formatter=det_formatter)\n",
    "result.show(show_additional_outputs=False)"
   ]
  },
  {
   "cell_type": "code",
   "execution_count": null,
   "id": "0ee17bbe-ddc8-4ec8-9c33-677df25b9464",
   "metadata": {},
   "outputs": [],
   "source": []
  }
 ],
 "metadata": {
  "kernelspec": {
   "display_name": "Python 3 (ipykernel)",
   "language": "python",
   "name": "python3"
  },
  "language_info": {
   "codemirror_mode": {
    "name": "ipython",
    "version": 3
   },
   "file_extension": ".py",
   "mimetype": "text/x-python",
   "name": "python",
   "nbconvert_exporter": "python",
   "pygments_lexer": "ipython3",
   "version": "3.9.0"
  },
  "widgets": {
   "application/vnd.jupyter.widget-state+json": {
    "state": {},
    "version_major": 2,
    "version_minor": 0
   }
  }
 },
 "nbformat": 4,
 "nbformat_minor": 5
}
