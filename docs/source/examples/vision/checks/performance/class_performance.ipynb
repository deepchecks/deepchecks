{
 "cells": [
  {
   "cell_type": "markdown",
   "id": "e767e792",
   "metadata": {},
   "source": [
    "# Class Performance check\n",
    "\n",
    "This notebooks provides an overview for using and understanding the class performance check.\n",
    "\n",
    "**Structure:**\n",
    "\n",
    "- [What is the purpose of the check?](#purpose)\n",
    "- [Classification](#classification)\n",
    "    - [Generate data & model](#generate_c)\n",
    "    - [Defining the Prediction Formatter](#pred_format_c)\n",
    "    - [Run the check](#run_check_c)\n",
    "- [Object Detection](#obj_det)\n",
    "    - [Generate data & model](#generate_o)\n",
    "    - [Defining the Prediction Formatter](#pred_format_o)\n",
    "    - [Run the check](#run_check_o)\n",
    "    "
   ]
  },
  {
   "cell_type": "markdown",
   "id": "60ba23c4",
   "metadata": {},
   "source": [
    "## What is the purpose of the check? <a name='purpose'></a>\n",
    "\n",
    "The class performance check evaluates several metrics on the given model and data and returns all of the results in a single check. For each task type it has default metrics (e.g. precision and recall per class for classification, and AP per class for object detection).\n",
    "\n",
    "In addition to the default metrics, the check supports custom metrics that shuld be implemented using the [torch.ignite.Metric](https://pytorch.org/ignite/metrics.html#how-to-create-a-custom-metric). These can be passed as a list using the `alternative_metrics` parameter of the check, which will override the default metrics."
   ]
  },
  {
   "cell_type": "markdown",
   "id": "09c7ee01-6999-465e-a318-56570b008526",
   "metadata": {},
   "source": [
    "### Imports"
   ]
  },
  {
   "cell_type": "code",
   "execution_count": 1,
   "id": "c79b5802-7c85-4264-b620-1d06943a3e81",
   "metadata": {},
   "outputs": [],
   "source": [
    "# %load_ext autoreload\n",
    "# %autoreload 2"
   ]
  },
  {
   "cell_type": "code",
   "execution_count": 2,
   "id": "a8bef717-c573-43ec-8589-a81ecc08f2bb",
   "metadata": {
    "tags": []
   },
   "outputs": [
    {
     "name": "stderr",
     "output_type": "stream",
     "text": [
      "/Users/jonthanliberman/Documents/deepchecks/deepchecks/__init__.py:154: DeprecationWarning:\n",
      "\n",
      "Ability to import base tabular functionality from the `deepchecks` package directly is deprecated, please import from `deepchecks.tabular` instead\n",
      "\n"
     ]
    }
   ],
   "source": [
    "from deepchecks.vision.checks.performance import ClassPerformance"
   ]
  },
  {
   "cell_type": "markdown",
   "id": "f6920693-ffd3-4207-b8e4-5cf3452c57bd",
   "metadata": {},
   "source": [
    "## Classification Performance Report <a name='classification'></a>\n"
   ]
  },
  {
   "cell_type": "markdown",
   "id": "788f9178-dcc1-4212-9a84-949a7a4fde92",
   "metadata": {},
   "source": [
    "### Generate data and model: <a name='generate_c'></a>"
   ]
  },
  {
   "cell_type": "code",
   "execution_count": 3,
   "id": "be7509b3",
   "metadata": {
    "tags": []
   },
   "outputs": [],
   "source": [
    "from deepchecks.vision.datasets.classification import mnist\n",
    "\n",
    "mnist_model = mnist.load_model()\n",
    "train_ds = mnist.load_dataset(train=True, object_type='VisionData')\n",
    "test_ds = mnist.load_dataset(train=False, object_type='VisionData')"
   ]
  },
  {
   "cell_type": "code",
   "execution_count": 4,
   "id": "7851f1d8-35d9-48ef-8473-1f84b4b5f52c",
   "metadata": {},
   "outputs": [],
   "source": [
    "from ignite.metrics import Precision, Recall, Metric"
   ]
  },
  {
   "cell_type": "markdown",
   "id": "aee1595f",
   "metadata": {},
   "source": [
    "### Run the check <a name='run_check_c'></a>"
   ]
  },
  {
   "cell_type": "code",
   "execution_count": 5,
   "id": "bdd52a29-2612-4dbc-8507-31250b9feadc",
   "metadata": {
    "tags": []
   },
   "outputs": [],
   "source": [
    "# check = ClassPerformance(alternative_metrics={\"p\": Precision(average=True)})\n",
    "# check.run(train_ds, test_ds, mnist_model)"
   ]
  },
  {
   "cell_type": "markdown",
   "id": "eb14d7f9-4e40-4f81-8653-6625afbe8bbd",
   "metadata": {},
   "source": [
    "## Object Detection Class Performance  <a name='obj_det'></a>\n",
    "\n",
    "For object detection tasks - the default metric that is being calculated it the Average Precision. The definition of the Average Precision is identical to how the COCO dataset defined it - mean of the average precision per class, over the range [0.5, 0.95, 0.05] of IoU thresholds."
   ]
  },
  {
   "cell_type": "code",
   "execution_count": 6,
   "id": "4dc6706c-1cb8-44a3-b40e-80c5d93bbe36",
   "metadata": {
    "tags": []
   },
   "outputs": [],
   "source": [
    "import numpy as np\n",
    "from deepchecks.vision.datasets.detection import coco\n"
   ]
  },
  {
   "cell_type": "markdown",
   "id": "fb58d486",
   "metadata": {},
   "source": [
    "### Generate Data and Model <a name='generate_o'></a>\n",
    "\n",
    "We generate a sample dataset of 128 images from the [COCO dataset](https://cocodataset.org/#home), and using the [YOLOv5 model](https://github.com/ultralytics/yolov5)."
   ]
  },
  {
   "cell_type": "code",
   "execution_count": 7,
   "id": "7a105788-e0b1-42cc-94cc-fe0292fdaa70",
   "metadata": {
    "tags": []
   },
   "outputs": [],
   "source": [
    "yolo = coco.load_model(pretrained=True)\n",
    "\n",
    "train_ds = coco.load_dataset(train=True, object_type='VisionData')\n",
    "test_ds = coco.load_dataset(train=False, object_type='VisionData')"
   ]
  },
  {
   "cell_type": "markdown",
   "id": "c1008328",
   "metadata": {},
   "source": [
    "### Run the check <a name='run_check_o'></a>"
   ]
  },
  {
   "cell_type": "code",
   "execution_count": null,
   "id": "81821ee9-2c46-446a-92fc-142b855f833e",
   "metadata": {
    "tags": []
   },
   "outputs": [],
   "source": [
    "check = ClassPerformance()\n",
    "check.run(train_ds, test_ds, yolo)"
   ]
  },
  {
   "cell_type": "code",
   "execution_count": null,
   "id": "03907e36-014b-4fb2-8173-8a8e997c03fc",
   "metadata": {},
   "outputs": [],
   "source": []
  },
  {
   "cell_type": "code",
   "execution_count": null,
   "id": "cec23664-8c72-4c3d-94d8-9073c468467d",
   "metadata": {},
   "outputs": [],
   "source": []
  },
  {
   "cell_type": "code",
   "execution_count": null,
   "id": "dc941ba9-1813-4ae2-8178-e0d2daf60d91",
   "metadata": {},
   "outputs": [],
   "source": []
  },
  {
   "cell_type": "code",
   "execution_count": null,
   "id": "1a580e5b-4f39-42f0-a6c8-a357583c5bc4",
   "metadata": {},
   "outputs": [],
   "source": []
  }
 ],
 "metadata": {
  "kernelspec": {
   "display_name": "deepchecks-env",
   "language": "python",
   "name": "deepchecks-env"
  },
  "language_info": {
   "codemirror_mode": {
    "name": "ipython",
    "version": 3
   },
   "file_extension": ".py",
   "mimetype": "text/x-python",
   "name": "python",
   "nbconvert_exporter": "python",
   "pygments_lexer": "ipython3",
   "version": "3.8.10"
  },
  "widgets": {
   "application/vnd.jupyter.widget-state+json": {
    "state": {},
    "version_major": 2,
    "version_minor": 0
   }
  }
 },
 "nbformat": 4,
 "nbformat_minor": 5
}
