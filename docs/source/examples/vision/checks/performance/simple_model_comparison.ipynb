version https://git-lfs.github.com/spec/v1
oid sha256:c00db271cbdbf6122baa23d4105d5c8de68eaaaf751c3cac61c880febc507bf2
size 48714
