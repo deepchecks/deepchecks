{
 "cells": [
  {
   "cell_type": "markdown",
   "id": "06bdcdfc",
   "metadata": {},
   "source": [
    "# Data Duplicates "
   ]
  },
  {
   "cell_type": "code",
   "execution_count": 1,
   "id": "e9297e35",
   "metadata": {
    "execution": {
     "iopub.execute_input": "2022-01-03T00:54:51.996284Z",
     "iopub.status.busy": "2022-01-03T00:54:51.995682Z",
     "iopub.status.idle": "2022-01-03T00:54:53.590848Z",
     "shell.execute_reply": "2022-01-03T00:54:53.591286Z"
    }
   },
   "outputs": [],
   "source": [
    "from deepchecks.checks.integrity.data_duplicates import DataDuplicates\n",
    "from deepchecks.base import Dataset, Suite\n",
    "from datetime import datetime\n",
    "import pandas as pd\n"
   ]
  },
  {
   "cell_type": "code",
   "execution_count": 2,
   "id": "bbb916b9",
   "metadata": {
    "execution": {
     "iopub.execute_input": "2022-01-03T00:54:53.597066Z",
     "iopub.status.busy": "2022-01-03T00:54:53.596533Z",
     "iopub.status.idle": "2022-01-03T00:54:53.599720Z",
     "shell.execute_reply": "2022-01-03T00:54:53.599336Z"
    }
   },
   "outputs": [],
   "source": [
    "ds = pd.DataFrame({\"col1\":[1,2,1,2,1,2,1,2,1,2], \"col2\":[1,2,1,2,1,2,1,2,1,2],\"col3\":[2,3,4,4,4,3,4,5,6,4]})"
   ]
  },
  {
   "cell_type": "code",
   "execution_count": 3,
   "id": "0c2f4fd4",
   "metadata": {
    "execution": {
     "iopub.execute_input": "2022-01-03T00:54:53.616851Z",
     "iopub.status.busy": "2022-01-03T00:54:53.604803Z",
     "iopub.status.idle": "2022-01-03T00:54:53.623496Z",
     "shell.execute_reply": "2022-01-03T00:54:53.623860Z"
    }
   },
   "outputs": [
    {
     "data": {
      "text/html": [
       "<h4>Data Duplicates</h4>"
      ]
     },
     "metadata": {},
     "output_type": "display_data"
    },
    {
     "data": {
      "text/html": [
       "<p>Search for duplicate data in dataset.</p>"
      ]
     },
     "metadata": {},
     "output_type": "display_data"
    },
    {
     "data": {
      "text/html": [
       "40.00% of data samples are duplicates"
      ]
     },
     "metadata": {},
     "output_type": "display_data"
    },
    {
     "data": {
      "text/html": [
       "Each row in the table shows an example of duplicate data and the number of times it appears."
      ]
     },
     "metadata": {},
     "output_type": "display_data"
    },
    {
     "data": {
      "text/html": [
       "<style type=\"text/css\">\n",
       "#T_a0e67_ table {\n",
       "  text-align: left;\n",
       "}\n",
       "#T_a0e67_ thead {\n",
       "  text-align: left;\n",
       "}\n",
       "#T_a0e67_ tbody {\n",
       "  text-align: left;\n",
       "}\n",
       "#T_a0e67_ th {\n",
       "  text-align: left;\n",
       "}\n",
       "#T_a0e67_ td {\n",
       "  text-align: left;\n",
       "}\n",
       "</style>\n",
       "<table id=\"T_a0e67_\">\n",
       "  <thead>\n",
       "    <tr>\n",
       "      <th class=\"blank\" >&nbsp;</th>\n",
       "      <th class=\"blank level0\" >&nbsp;</th>\n",
       "      <th class=\"col_heading level0 col0\" >col1</th>\n",
       "      <th class=\"col_heading level0 col1\" >col2</th>\n",
       "      <th class=\"col_heading level0 col2\" >col3</th>\n",
       "    </tr>\n",
       "    <tr>\n",
       "      <th class=\"index_name level0\" >Instances</th>\n",
       "      <th class=\"index_name level1\" >Number of Duplicates</th>\n",
       "      <th class=\"blank col0\" >&nbsp;</th>\n",
       "      <th class=\"blank col1\" >&nbsp;</th>\n",
       "      <th class=\"blank col2\" >&nbsp;</th>\n",
       "    </tr>\n",
       "  </thead>\n",
       "  <tbody>\n",
       "    <tr>\n",
       "      <th id=\"T_a0e67_level0_row0\" class=\"row_heading level0 row0\" >2, 4, 6</th>\n",
       "      <th id=\"T_a0e67_level1_row0\" class=\"row_heading level1 row0\" >3</th>\n",
       "      <td id=\"T_a0e67_row0_col0\" class=\"data row0 col0\" >1</td>\n",
       "      <td id=\"T_a0e67_row0_col1\" class=\"data row0 col1\" >1</td>\n",
       "      <td id=\"T_a0e67_row0_col2\" class=\"data row0 col2\" >4</td>\n",
       "    </tr>\n",
       "    <tr>\n",
       "      <th id=\"T_a0e67_level0_row1\" class=\"row_heading level0 row1\" >1, 5</th>\n",
       "      <th id=\"T_a0e67_level1_row1\" class=\"row_heading level1 row1\" >2</th>\n",
       "      <td id=\"T_a0e67_row1_col0\" class=\"data row1 col0\" >2</td>\n",
       "      <td id=\"T_a0e67_row1_col1\" class=\"data row1 col1\" >2</td>\n",
       "      <td id=\"T_a0e67_row1_col2\" class=\"data row1 col2\" >3</td>\n",
       "    </tr>\n",
       "    <tr>\n",
       "      <th id=\"T_a0e67_level0_row2\" class=\"row_heading level0 row2\" >3, 9</th>\n",
       "      <th id=\"T_a0e67_level1_row2\" class=\"row_heading level1 row2\" >2</th>\n",
       "      <td id=\"T_a0e67_row2_col0\" class=\"data row2 col0\" >2</td>\n",
       "      <td id=\"T_a0e67_row2_col1\" class=\"data row2 col1\" >2</td>\n",
       "      <td id=\"T_a0e67_row2_col2\" class=\"data row2 col2\" >4</td>\n",
       "    </tr>\n",
       "  </tbody>\n",
       "</table>\n"
      ]
     },
     "metadata": {},
     "output_type": "display_data"
    }
   ],
   "source": [
    "DataDuplicates().run(ds)"
   ]
  },
  {
   "cell_type": "code",
   "execution_count": 4,
   "id": "8acc767a",
   "metadata": {
    "execution": {
     "iopub.execute_input": "2022-01-03T00:54:53.636853Z",
     "iopub.status.busy": "2022-01-03T00:54:53.629990Z",
     "iopub.status.idle": "2022-01-03T00:54:53.642600Z",
     "shell.execute_reply": "2022-01-03T00:54:53.642963Z"
    }
   },
   "outputs": [
    {
     "data": {
      "text/html": [
       "<h4>Data Duplicates</h4>"
      ]
     },
     "metadata": {},
     "output_type": "display_data"
    },
    {
     "data": {
      "text/html": [
       "<p>Search for duplicate data in dataset.</p>"
      ]
     },
     "metadata": {},
     "output_type": "display_data"
    },
    {
     "data": {
      "text/html": [
       "40.00% of data samples are duplicates"
      ]
     },
     "metadata": {},
     "output_type": "display_data"
    },
    {
     "data": {
      "text/html": [
       "Each row in the table shows an example of duplicate data and the number of times it appears."
      ]
     },
     "metadata": {},
     "output_type": "display_data"
    },
    {
     "data": {
      "text/html": [
       "<style type=\"text/css\">\n",
       "#T_c6d59_ table {\n",
       "  text-align: left;\n",
       "}\n",
       "#T_c6d59_ thead {\n",
       "  text-align: left;\n",
       "}\n",
       "#T_c6d59_ tbody {\n",
       "  text-align: left;\n",
       "}\n",
       "#T_c6d59_ th {\n",
       "  text-align: left;\n",
       "}\n",
       "#T_c6d59_ td {\n",
       "  text-align: left;\n",
       "}\n",
       "</style>\n",
       "<table id=\"T_c6d59_\">\n",
       "  <thead>\n",
       "    <tr>\n",
       "      <th class=\"blank\" >&nbsp;</th>\n",
       "      <th class=\"blank level0\" >&nbsp;</th>\n",
       "      <th class=\"col_heading level0 col0\" >col1</th>\n",
       "      <th class=\"col_heading level0 col1\" >col2</th>\n",
       "      <th class=\"col_heading level0 col2\" >col3</th>\n",
       "    </tr>\n",
       "    <tr>\n",
       "      <th class=\"index_name level0\" >Instances</th>\n",
       "      <th class=\"index_name level1\" >Number of Duplicates</th>\n",
       "      <th class=\"blank col0\" >&nbsp;</th>\n",
       "      <th class=\"blank col1\" >&nbsp;</th>\n",
       "      <th class=\"blank col2\" >&nbsp;</th>\n",
       "    </tr>\n",
       "  </thead>\n",
       "  <tbody>\n",
       "    <tr>\n",
       "      <th id=\"T_c6d59_level0_row0\" class=\"row_heading level0 row0\" >2, 4, 6</th>\n",
       "      <th id=\"T_c6d59_level1_row0\" class=\"row_heading level1 row0\" >3</th>\n",
       "      <td id=\"T_c6d59_row0_col0\" class=\"data row0 col0\" >1</td>\n",
       "      <td id=\"T_c6d59_row0_col1\" class=\"data row0 col1\" >1</td>\n",
       "      <td id=\"T_c6d59_row0_col2\" class=\"data row0 col2\" >4</td>\n",
       "    </tr>\n",
       "    <tr>\n",
       "      <th id=\"T_c6d59_level0_row1\" class=\"row_heading level0 row1\" >1, 5</th>\n",
       "      <th id=\"T_c6d59_level1_row1\" class=\"row_heading level1 row1\" >2</th>\n",
       "      <td id=\"T_c6d59_row1_col0\" class=\"data row1 col0\" >2</td>\n",
       "      <td id=\"T_c6d59_row1_col1\" class=\"data row1 col1\" >2</td>\n",
       "      <td id=\"T_c6d59_row1_col2\" class=\"data row1 col2\" >3</td>\n",
       "    </tr>\n",
       "  </tbody>\n",
       "</table>\n"
      ]
     },
     "metadata": {},
     "output_type": "display_data"
    }
   ],
   "source": [
    "DataDuplicates(n_to_show=2).run(ds)"
   ]
  },
  {
   "cell_type": "code",
   "execution_count": 5,
   "id": "4ac8525f",
   "metadata": {
    "execution": {
     "iopub.execute_input": "2022-01-03T00:54:53.655560Z",
     "iopub.status.busy": "2022-01-03T00:54:53.654859Z",
     "iopub.status.idle": "2022-01-03T00:54:53.661385Z",
     "shell.execute_reply": "2022-01-03T00:54:53.660989Z"
    }
   },
   "outputs": [
    {
     "data": {
      "text/html": [
       "<h4>Data Duplicates</h4>"
      ]
     },
     "metadata": {},
     "output_type": "display_data"
    },
    {
     "data": {
      "text/html": [
       "<p>Search for duplicate data in dataset.</p>"
      ]
     },
     "metadata": {},
     "output_type": "display_data"
    },
    {
     "data": {
      "text/html": [
       "80.00% of data samples are duplicates"
      ]
     },
     "metadata": {},
     "output_type": "display_data"
    },
    {
     "data": {
      "text/html": [
       "Each row in the table shows an example of duplicate data and the number of times it appears."
      ]
     },
     "metadata": {},
     "output_type": "display_data"
    },
    {
     "data": {
      "text/html": [
       "<style type=\"text/css\">\n",
       "#T_5a444_ table {\n",
       "  text-align: left;\n",
       "}\n",
       "#T_5a444_ thead {\n",
       "  text-align: left;\n",
       "}\n",
       "#T_5a444_ tbody {\n",
       "  text-align: left;\n",
       "}\n",
       "#T_5a444_ th {\n",
       "  text-align: left;\n",
       "}\n",
       "#T_5a444_ td {\n",
       "  text-align: left;\n",
       "}\n",
       "</style>\n",
       "<table id=\"T_5a444_\">\n",
       "  <thead>\n",
       "    <tr>\n",
       "      <th class=\"blank\" >&nbsp;</th>\n",
       "      <th class=\"blank level0\" >&nbsp;</th>\n",
       "      <th class=\"col_heading level0 col0\" >col1</th>\n",
       "    </tr>\n",
       "    <tr>\n",
       "      <th class=\"index_name level0\" >Instances</th>\n",
       "      <th class=\"index_name level1\" >Number of Duplicates</th>\n",
       "      <th class=\"blank col0\" >&nbsp;</th>\n",
       "    </tr>\n",
       "  </thead>\n",
       "  <tbody>\n",
       "    <tr>\n",
       "      <th id=\"T_5a444_level0_row0\" class=\"row_heading level0 row0\" >0, 2, 4, 6, 8</th>\n",
       "      <th id=\"T_5a444_level1_row0\" class=\"row_heading level1 row0\" >5</th>\n",
       "      <td id=\"T_5a444_row0_col0\" class=\"data row0 col0\" >1</td>\n",
       "    </tr>\n",
       "    <tr>\n",
       "      <th id=\"T_5a444_level0_row1\" class=\"row_heading level0 row1\" >1, 3, 5, 7, 9</th>\n",
       "      <th id=\"T_5a444_level1_row1\" class=\"row_heading level1 row1\" >5</th>\n",
       "      <td id=\"T_5a444_row1_col0\" class=\"data row1 col0\" >2</td>\n",
       "    </tr>\n",
       "  </tbody>\n",
       "</table>\n"
      ]
     },
     "metadata": {},
     "output_type": "display_data"
    }
   ],
   "source": [
    "DataDuplicates(columns=[\"col1\"]).run(ds)"
   ]
  },
  {
   "cell_type": "code",
   "execution_count": 6,
   "id": "dcb2f344",
   "metadata": {
    "execution": {
     "iopub.execute_input": "2022-01-03T00:54:53.674310Z",
     "iopub.status.busy": "2022-01-03T00:54:53.665706Z",
     "iopub.status.idle": "2022-01-03T00:54:53.680015Z",
     "shell.execute_reply": "2022-01-03T00:54:53.680388Z"
    }
   },
   "outputs": [
    {
     "data": {
      "text/html": [
       "<h4>Data Duplicates</h4>"
      ]
     },
     "metadata": {},
     "output_type": "display_data"
    },
    {
     "data": {
      "text/html": [
       "<p>Search for duplicate data in dataset.</p>"
      ]
     },
     "metadata": {},
     "output_type": "display_data"
    },
    {
     "data": {
      "text/html": [
       "80.00% of data samples are duplicates"
      ]
     },
     "metadata": {},
     "output_type": "display_data"
    },
    {
     "data": {
      "text/html": [
       "Each row in the table shows an example of duplicate data and the number of times it appears."
      ]
     },
     "metadata": {},
     "output_type": "display_data"
    },
    {
     "data": {
      "text/html": [
       "<style type=\"text/css\">\n",
       "#T_56c79_ table {\n",
       "  text-align: left;\n",
       "}\n",
       "#T_56c79_ thead {\n",
       "  text-align: left;\n",
       "}\n",
       "#T_56c79_ tbody {\n",
       "  text-align: left;\n",
       "}\n",
       "#T_56c79_ th {\n",
       "  text-align: left;\n",
       "}\n",
       "#T_56c79_ td {\n",
       "  text-align: left;\n",
       "}\n",
       "</style>\n",
       "<table id=\"T_56c79_\">\n",
       "  <thead>\n",
       "    <tr>\n",
       "      <th class=\"blank\" >&nbsp;</th>\n",
       "      <th class=\"blank level0\" >&nbsp;</th>\n",
       "      <th class=\"col_heading level0 col0\" >col1</th>\n",
       "      <th class=\"col_heading level0 col1\" >col2</th>\n",
       "    </tr>\n",
       "    <tr>\n",
       "      <th class=\"index_name level0\" >Instances</th>\n",
       "      <th class=\"index_name level1\" >Number of Duplicates</th>\n",
       "      <th class=\"blank col0\" >&nbsp;</th>\n",
       "      <th class=\"blank col1\" >&nbsp;</th>\n",
       "    </tr>\n",
       "  </thead>\n",
       "  <tbody>\n",
       "    <tr>\n",
       "      <th id=\"T_56c79_level0_row0\" class=\"row_heading level0 row0\" >0, 2, 4, 6, 8</th>\n",
       "      <th id=\"T_56c79_level1_row0\" class=\"row_heading level1 row0\" >5</th>\n",
       "      <td id=\"T_56c79_row0_col0\" class=\"data row0 col0\" >1</td>\n",
       "      <td id=\"T_56c79_row0_col1\" class=\"data row0 col1\" >1</td>\n",
       "    </tr>\n",
       "    <tr>\n",
       "      <th id=\"T_56c79_level0_row1\" class=\"row_heading level0 row1\" >1, 3, 5, 7, 9</th>\n",
       "      <th id=\"T_56c79_level1_row1\" class=\"row_heading level1 row1\" >5</th>\n",
       "      <td id=\"T_56c79_row1_col0\" class=\"data row1 col0\" >2</td>\n",
       "      <td id=\"T_56c79_row1_col1\" class=\"data row1 col1\" >2</td>\n",
       "    </tr>\n",
       "  </tbody>\n",
       "</table>\n"
      ]
     },
     "metadata": {},
     "output_type": "display_data"
    }
   ],
   "source": [
    "DataDuplicates(ignore_columns=[\"col3\"]).run(ds)"
   ]
  },
  {
   "cell_type": "code",
   "execution_count": 7,
   "id": "56284ded",
   "metadata": {
    "execution": {
     "iopub.execute_input": "2022-01-03T00:54:53.685575Z",
     "iopub.status.busy": "2022-01-03T00:54:53.684556Z",
     "iopub.status.idle": "2022-01-03T00:54:53.686093Z",
     "shell.execute_reply": "2022-01-03T00:54:53.686460Z"
    }
   },
   "outputs": [],
   "source": [
    "ds_no_dups = ds = pd.DataFrame({\"col1\":[1,2,1,2,1,2,1,2,1,2], \"col2\":[1,2,1,2,1,2,1,2,1,2], \"col3\":[1,2,3,4,5,6,7,8,9,0]})"
   ]
  },
  {
   "cell_type": "code",
   "execution_count": 8,
   "id": "bca536fd",
   "metadata": {
    "execution": {
     "iopub.execute_input": "2022-01-03T00:54:53.692799Z",
     "iopub.status.busy": "2022-01-03T00:54:53.691088Z",
     "iopub.status.idle": "2022-01-03T00:54:53.696426Z",
     "shell.execute_reply": "2022-01-03T00:54:53.696032Z"
    }
   },
   "outputs": [
    {
     "data": {
      "text/html": [
       "<h4>Data Duplicates</h4>"
      ]
     },
     "metadata": {},
     "output_type": "display_data"
    },
    {
     "data": {
      "text/html": [
       "<p>Search for duplicate data in dataset.</p>"
      ]
     },
     "metadata": {},
     "output_type": "display_data"
    },
    {
     "data": {
      "text/html": [
       "<p><b>&#x2713;</b> Nothing found</p>"
      ]
     },
     "metadata": {},
     "output_type": "display_data"
    }
   ],
   "source": [
    "DataDuplicates().run(ds_no_dups)"
   ]
  },
  {
   "cell_type": "code",
   "execution_count": 9,
   "id": "7716ca9d",
   "metadata": {
    "execution": {
     "iopub.execute_input": "2022-01-03T00:54:53.709541Z",
     "iopub.status.busy": "2022-01-03T00:54:53.704156Z",
     "iopub.status.idle": "2022-01-03T00:54:53.715195Z",
     "shell.execute_reply": "2022-01-03T00:54:53.715559Z"
    }
   },
   "outputs": [
    {
     "data": {
      "text/html": [
       "<h4>Data Duplicates</h4>"
      ]
     },
     "metadata": {},
     "output_type": "display_data"
    },
    {
     "data": {
      "text/html": [
       "<p>Search for duplicate data in dataset.</p>"
      ]
     },
     "metadata": {},
     "output_type": "display_data"
    },
    {
     "data": {
      "text/html": [
       "80.00% of data samples are duplicates"
      ]
     },
     "metadata": {},
     "output_type": "display_data"
    },
    {
     "data": {
      "text/html": [
       "Each row in the table shows an example of duplicate data and the number of times it appears."
      ]
     },
     "metadata": {},
     "output_type": "display_data"
    },
    {
     "data": {
      "text/html": [
       "<style type=\"text/css\">\n",
       "#T_91cb1_ table {\n",
       "  text-align: left;\n",
       "}\n",
       "#T_91cb1_ thead {\n",
       "  text-align: left;\n",
       "}\n",
       "#T_91cb1_ tbody {\n",
       "  text-align: left;\n",
       "}\n",
       "#T_91cb1_ th {\n",
       "  text-align: left;\n",
       "}\n",
       "#T_91cb1_ td {\n",
       "  text-align: left;\n",
       "}\n",
       "</style>\n",
       "<table id=\"T_91cb1_\">\n",
       "  <thead>\n",
       "    <tr>\n",
       "      <th class=\"blank\" >&nbsp;</th>\n",
       "      <th class=\"blank level0\" >&nbsp;</th>\n",
       "      <th class=\"col_heading level0 col0\" >col1</th>\n",
       "      <th class=\"col_heading level0 col1\" >col2</th>\n",
       "    </tr>\n",
       "    <tr>\n",
       "      <th class=\"index_name level0\" >Instances</th>\n",
       "      <th class=\"index_name level1\" >Number of Duplicates</th>\n",
       "      <th class=\"blank col0\" >&nbsp;</th>\n",
       "      <th class=\"blank col1\" >&nbsp;</th>\n",
       "    </tr>\n",
       "  </thead>\n",
       "  <tbody>\n",
       "    <tr>\n",
       "      <th id=\"T_91cb1_level0_row0\" class=\"row_heading level0 row0\" >0, 2, 4, 6, 8</th>\n",
       "      <th id=\"T_91cb1_level1_row0\" class=\"row_heading level1 row0\" >5</th>\n",
       "      <td id=\"T_91cb1_row0_col0\" class=\"data row0 col0\" >1</td>\n",
       "      <td id=\"T_91cb1_row0_col1\" class=\"data row0 col1\" >1</td>\n",
       "    </tr>\n",
       "    <tr>\n",
       "      <th id=\"T_91cb1_level0_row1\" class=\"row_heading level0 row1\" >1, 3, 5, 7, 9</th>\n",
       "      <th id=\"T_91cb1_level1_row1\" class=\"row_heading level1 row1\" >5</th>\n",
       "      <td id=\"T_91cb1_row1_col0\" class=\"data row1 col0\" >2</td>\n",
       "      <td id=\"T_91cb1_row1_col1\" class=\"data row1 col1\" >2</td>\n",
       "    </tr>\n",
       "  </tbody>\n",
       "</table>\n"
      ]
     },
     "metadata": {},
     "output_type": "display_data"
    }
   ],
   "source": [
    "DataDuplicates(ignore_columns=[\"col3\"]).run(ds_no_dups)"
   ]
  }
 ],
 "metadata": {
  "kernelspec": {
   "display_name": "Python 3 (ipykernel)",
   "language": "python",
   "name": "python3"
  },
  "language_info": {
   "codemirror_mode": {
    "name": "ipython",
    "version": 3
   },
   "file_extension": ".py",
   "mimetype": "text/x-python",
   "name": "python",
   "nbconvert_exporter": "python",
   "pygments_lexer": "ipython3",
   "version": "3.9.9"
  }
 },
 "nbformat": 4,
 "nbformat_minor": 5
}
