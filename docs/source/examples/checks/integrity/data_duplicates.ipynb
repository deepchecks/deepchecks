{
 "cells": [
  {
   "cell_type": "markdown",
   "id": "06bdcdfc",
   "metadata": {},
   "source": [
    "# Data Duplicates "
   ]
  },
  {
   "cell_type": "code",
   "execution_count": 1,
   "id": "e9297e35",
   "metadata": {
    "execution": {
     "iopub.execute_input": "2022-01-09T00:58:48.611059Z",
     "iopub.status.busy": "2022-01-09T00:58:48.610437Z",
     "iopub.status.idle": "2022-01-09T00:58:50.579447Z",
     "shell.execute_reply": "2022-01-09T00:58:50.578773Z"
    }
   },
   "outputs": [],
   "source": [
    "from deepchecks.checks.integrity.data_duplicates import DataDuplicates\n",
    "from deepchecks.base import Dataset, Suite\n",
    "from datetime import datetime\n",
    "import pandas as pd\n"
   ]
  },
  {
   "cell_type": "code",
   "execution_count": 2,
   "id": "bbb916b9",
   "metadata": {
    "execution": {
     "iopub.execute_input": "2022-01-09T00:58:50.586018Z",
     "iopub.status.busy": "2022-01-09T00:58:50.585392Z",
     "iopub.status.idle": "2022-01-09T00:58:50.589410Z",
     "shell.execute_reply": "2022-01-09T00:58:50.588823Z"
    }
   },
   "outputs": [],
   "source": [
    "ds = pd.DataFrame({\"col1\":[1,2,1,2,1,2,1,2,1,2], \"col2\":[1,2,1,2,1,2,1,2,1,2],\"col3\":[2,3,4,4,4,3,4,5,6,4]})"
   ]
  },
  {
   "cell_type": "code",
   "execution_count": 3,
   "id": "0c2f4fd4",
   "metadata": {
    "execution": {
     "iopub.execute_input": "2022-01-09T00:58:50.608223Z",
     "iopub.status.busy": "2022-01-09T00:58:50.592960Z",
     "iopub.status.idle": "2022-01-09T00:58:50.626755Z",
     "shell.execute_reply": "2022-01-09T00:58:50.627237Z"
    }
   },
   "outputs": [
    {
     "data": {
      "text/html": [
       "<h4>Data Duplicates</h4>"
      ]
     },
     "metadata": {},
     "output_type": "display_data"
    },
    {
     "data": {
      "text/html": [
       "<p>Search for duplicate data in dataset.</p>"
      ]
     },
     "metadata": {},
     "output_type": "display_data"
    },
    {
     "data": {
      "text/html": [
       "40.00% of data samples are duplicates"
      ]
     },
     "metadata": {},
     "output_type": "display_data"
    },
    {
     "data": {
      "text/html": [
       "Each row in the table shows an example of duplicate data and the number of times it appears."
      ]
     },
     "metadata": {},
     "output_type": "display_data"
    },
    {
     "data": {
      "text/html": [
       "<style type=\"text/css\">\n",
       "#T_4dc2a_ table {\n",
       "  text-align: left;\n",
       "}\n",
       "#T_4dc2a_ thead {\n",
       "  text-align: left;\n",
       "}\n",
       "#T_4dc2a_ tbody {\n",
       "  text-align: left;\n",
       "}\n",
       "#T_4dc2a_ th {\n",
       "  text-align: left;\n",
       "}\n",
       "#T_4dc2a_ td {\n",
       "  text-align: left;\n",
       "}\n",
       "</style>\n",
       "<table id=\"T_4dc2a_\">\n",
       "  <thead>\n",
       "    <tr>\n",
       "      <th class=\"blank\" >&nbsp;</th>\n",
       "      <th class=\"blank level0\" >&nbsp;</th>\n",
       "      <th class=\"col_heading level0 col0\" >col1</th>\n",
       "      <th class=\"col_heading level0 col1\" >col2</th>\n",
       "      <th class=\"col_heading level0 col2\" >col3</th>\n",
       "    </tr>\n",
       "    <tr>\n",
       "      <th class=\"index_name level0\" >Instances</th>\n",
       "      <th class=\"index_name level1\" >Number of Duplicates</th>\n",
       "      <th class=\"blank col0\" >&nbsp;</th>\n",
       "      <th class=\"blank col1\" >&nbsp;</th>\n",
       "      <th class=\"blank col2\" >&nbsp;</th>\n",
       "    </tr>\n",
       "  </thead>\n",
       "  <tbody>\n",
       "    <tr>\n",
       "      <th id=\"T_4dc2a_level0_row0\" class=\"row_heading level0 row0\" >2, 4, 6</th>\n",
       "      <th id=\"T_4dc2a_level1_row0\" class=\"row_heading level1 row0\" >3</th>\n",
       "      <td id=\"T_4dc2a_row0_col0\" class=\"data row0 col0\" >1</td>\n",
       "      <td id=\"T_4dc2a_row0_col1\" class=\"data row0 col1\" >1</td>\n",
       "      <td id=\"T_4dc2a_row0_col2\" class=\"data row0 col2\" >4</td>\n",
       "    </tr>\n",
       "    <tr>\n",
       "      <th id=\"T_4dc2a_level0_row1\" class=\"row_heading level0 row1\" >1, 5</th>\n",
       "      <th id=\"T_4dc2a_level1_row1\" class=\"row_heading level1 row1\" >2</th>\n",
       "      <td id=\"T_4dc2a_row1_col0\" class=\"data row1 col0\" >2</td>\n",
       "      <td id=\"T_4dc2a_row1_col1\" class=\"data row1 col1\" >2</td>\n",
       "      <td id=\"T_4dc2a_row1_col2\" class=\"data row1 col2\" >3</td>\n",
       "    </tr>\n",
       "    <tr>\n",
       "      <th id=\"T_4dc2a_level0_row2\" class=\"row_heading level0 row2\" >3, 9</th>\n",
       "      <th id=\"T_4dc2a_level1_row2\" class=\"row_heading level1 row2\" >2</th>\n",
       "      <td id=\"T_4dc2a_row2_col0\" class=\"data row2 col0\" >2</td>\n",
       "      <td id=\"T_4dc2a_row2_col1\" class=\"data row2 col1\" >2</td>\n",
       "      <td id=\"T_4dc2a_row2_col2\" class=\"data row2 col2\" >4</td>\n",
       "    </tr>\n",
       "  </tbody>\n",
       "</table>\n"
      ]
     },
     "metadata": {},
     "output_type": "display_data"
    }
   ],
   "source": [
    "DataDuplicates().run(ds)"
   ]
  },
  {
   "cell_type": "code",
   "execution_count": 4,
   "id": "8acc767a",
   "metadata": {
    "execution": {
     "iopub.execute_input": "2022-01-09T00:58:50.642767Z",
     "iopub.status.busy": "2022-01-09T00:58:50.633055Z",
     "iopub.status.idle": "2022-01-09T00:58:50.659237Z",
     "shell.execute_reply": "2022-01-09T00:58:50.659765Z"
    }
   },
   "outputs": [
    {
     "data": {
      "text/html": [
       "<h4>Data Duplicates</h4>"
      ]
     },
     "metadata": {},
     "output_type": "display_data"
    },
    {
     "data": {
      "text/html": [
       "<p>Search for duplicate data in dataset.</p>"
      ]
     },
     "metadata": {},
     "output_type": "display_data"
    },
    {
     "data": {
      "text/html": [
       "40.00% of data samples are duplicates"
      ]
     },
     "metadata": {},
     "output_type": "display_data"
    },
    {
     "data": {
      "text/html": [
       "Each row in the table shows an example of duplicate data and the number of times it appears."
      ]
     },
     "metadata": {},
     "output_type": "display_data"
    },
    {
     "data": {
      "text/html": [
       "<style type=\"text/css\">\n",
       "#T_14af4_ table {\n",
       "  text-align: left;\n",
       "}\n",
       "#T_14af4_ thead {\n",
       "  text-align: left;\n",
       "}\n",
       "#T_14af4_ tbody {\n",
       "  text-align: left;\n",
       "}\n",
       "#T_14af4_ th {\n",
       "  text-align: left;\n",
       "}\n",
       "#T_14af4_ td {\n",
       "  text-align: left;\n",
       "}\n",
       "</style>\n",
       "<table id=\"T_14af4_\">\n",
       "  <thead>\n",
       "    <tr>\n",
       "      <th class=\"blank\" >&nbsp;</th>\n",
       "      <th class=\"blank level0\" >&nbsp;</th>\n",
       "      <th class=\"col_heading level0 col0\" >col1</th>\n",
       "      <th class=\"col_heading level0 col1\" >col2</th>\n",
       "      <th class=\"col_heading level0 col2\" >col3</th>\n",
       "    </tr>\n",
       "    <tr>\n",
       "      <th class=\"index_name level0\" >Instances</th>\n",
       "      <th class=\"index_name level1\" >Number of Duplicates</th>\n",
       "      <th class=\"blank col0\" >&nbsp;</th>\n",
       "      <th class=\"blank col1\" >&nbsp;</th>\n",
       "      <th class=\"blank col2\" >&nbsp;</th>\n",
       "    </tr>\n",
       "  </thead>\n",
       "  <tbody>\n",
       "    <tr>\n",
       "      <th id=\"T_14af4_level0_row0\" class=\"row_heading level0 row0\" >2, 4, 6</th>\n",
       "      <th id=\"T_14af4_level1_row0\" class=\"row_heading level1 row0\" >3</th>\n",
       "      <td id=\"T_14af4_row0_col0\" class=\"data row0 col0\" >1</td>\n",
       "      <td id=\"T_14af4_row0_col1\" class=\"data row0 col1\" >1</td>\n",
       "      <td id=\"T_14af4_row0_col2\" class=\"data row0 col2\" >4</td>\n",
       "    </tr>\n",
       "    <tr>\n",
       "      <th id=\"T_14af4_level0_row1\" class=\"row_heading level0 row1\" >1, 5</th>\n",
       "      <th id=\"T_14af4_level1_row1\" class=\"row_heading level1 row1\" >2</th>\n",
       "      <td id=\"T_14af4_row1_col0\" class=\"data row1 col0\" >2</td>\n",
       "      <td id=\"T_14af4_row1_col1\" class=\"data row1 col1\" >2</td>\n",
       "      <td id=\"T_14af4_row1_col2\" class=\"data row1 col2\" >3</td>\n",
       "    </tr>\n",
       "  </tbody>\n",
       "</table>\n"
      ]
     },
     "metadata": {},
     "output_type": "display_data"
    }
   ],
   "source": [
    "DataDuplicates(n_to_show=2).run(ds)"
   ]
  },
  {
   "cell_type": "code",
   "execution_count": 5,
   "id": "4ac8525f",
   "metadata": {
    "execution": {
     "iopub.execute_input": "2022-01-09T00:58:50.666873Z",
     "iopub.status.busy": "2022-01-09T00:58:50.666220Z",
     "iopub.status.idle": "2022-01-09T00:58:50.689905Z",
     "shell.execute_reply": "2022-01-09T00:58:50.689296Z"
    }
   },
   "outputs": [
    {
     "data": {
      "text/html": [
       "<h4>Data Duplicates</h4>"
      ]
     },
     "metadata": {},
     "output_type": "display_data"
    },
    {
     "data": {
      "text/html": [
       "<p>Search for duplicate data in dataset.</p>"
      ]
     },
     "metadata": {},
     "output_type": "display_data"
    },
    {
     "data": {
      "text/html": [
       "80.00% of data samples are duplicates"
      ]
     },
     "metadata": {},
     "output_type": "display_data"
    },
    {
     "data": {
      "text/html": [
       "Each row in the table shows an example of duplicate data and the number of times it appears."
      ]
     },
     "metadata": {},
     "output_type": "display_data"
    },
    {
     "data": {
      "text/html": [
       "<style type=\"text/css\">\n",
       "#T_ad70c_ table {\n",
       "  text-align: left;\n",
       "}\n",
       "#T_ad70c_ thead {\n",
       "  text-align: left;\n",
       "}\n",
       "#T_ad70c_ tbody {\n",
       "  text-align: left;\n",
       "}\n",
       "#T_ad70c_ th {\n",
       "  text-align: left;\n",
       "}\n",
       "#T_ad70c_ td {\n",
       "  text-align: left;\n",
       "}\n",
       "</style>\n",
       "<table id=\"T_ad70c_\">\n",
       "  <thead>\n",
       "    <tr>\n",
       "      <th class=\"blank\" >&nbsp;</th>\n",
       "      <th class=\"blank level0\" >&nbsp;</th>\n",
       "      <th class=\"col_heading level0 col0\" >col1</th>\n",
       "    </tr>\n",
       "    <tr>\n",
       "      <th class=\"index_name level0\" >Instances</th>\n",
       "      <th class=\"index_name level1\" >Number of Duplicates</th>\n",
       "      <th class=\"blank col0\" >&nbsp;</th>\n",
       "    </tr>\n",
       "  </thead>\n",
       "  <tbody>\n",
       "    <tr>\n",
       "      <th id=\"T_ad70c_level0_row0\" class=\"row_heading level0 row0\" >0, 2, 4, 6, 8</th>\n",
       "      <th id=\"T_ad70c_level1_row0\" class=\"row_heading level1 row0\" >5</th>\n",
       "      <td id=\"T_ad70c_row0_col0\" class=\"data row0 col0\" >1</td>\n",
       "    </tr>\n",
       "    <tr>\n",
       "      <th id=\"T_ad70c_level0_row1\" class=\"row_heading level0 row1\" >1, 3, 5, 7, 9</th>\n",
       "      <th id=\"T_ad70c_level1_row1\" class=\"row_heading level1 row1\" >5</th>\n",
       "      <td id=\"T_ad70c_row1_col0\" class=\"data row1 col0\" >2</td>\n",
       "    </tr>\n",
       "  </tbody>\n",
       "</table>\n"
      ]
     },
     "metadata": {},
     "output_type": "display_data"
    }
   ],
   "source": [
    "DataDuplicates(columns=[\"col1\"]).run(ds)"
   ]
  },
  {
   "cell_type": "code",
   "execution_count": 6,
   "id": "dcb2f344",
   "metadata": {
    "execution": {
     "iopub.execute_input": "2022-01-09T00:58:50.705367Z",
     "iopub.status.busy": "2022-01-09T00:58:50.704624Z",
     "iopub.status.idle": "2022-01-09T00:58:50.720493Z",
     "shell.execute_reply": "2022-01-09T00:58:50.720974Z"
    }
   },
   "outputs": [
    {
     "data": {
      "text/html": [
       "<h4>Data Duplicates</h4>"
      ]
     },
     "metadata": {},
     "output_type": "display_data"
    },
    {
     "data": {
      "text/html": [
       "<p>Search for duplicate data in dataset.</p>"
      ]
     },
     "metadata": {},
     "output_type": "display_data"
    },
    {
     "data": {
      "text/html": [
       "80.00% of data samples are duplicates"
      ]
     },
     "metadata": {},
     "output_type": "display_data"
    },
    {
     "data": {
      "text/html": [
       "Each row in the table shows an example of duplicate data and the number of times it appears."
      ]
     },
     "metadata": {},
     "output_type": "display_data"
    },
    {
     "data": {
      "text/html": [
       "<style type=\"text/css\">\n",
       "#T_4d909_ table {\n",
       "  text-align: left;\n",
       "}\n",
       "#T_4d909_ thead {\n",
       "  text-align: left;\n",
       "}\n",
       "#T_4d909_ tbody {\n",
       "  text-align: left;\n",
       "}\n",
       "#T_4d909_ th {\n",
       "  text-align: left;\n",
       "}\n",
       "#T_4d909_ td {\n",
       "  text-align: left;\n",
       "}\n",
       "</style>\n",
       "<table id=\"T_4d909_\">\n",
       "  <thead>\n",
       "    <tr>\n",
       "      <th class=\"blank\" >&nbsp;</th>\n",
       "      <th class=\"blank level0\" >&nbsp;</th>\n",
       "      <th class=\"col_heading level0 col0\" >col1</th>\n",
       "      <th class=\"col_heading level0 col1\" >col2</th>\n",
       "    </tr>\n",
       "    <tr>\n",
       "      <th class=\"index_name level0\" >Instances</th>\n",
       "      <th class=\"index_name level1\" >Number of Duplicates</th>\n",
       "      <th class=\"blank col0\" >&nbsp;</th>\n",
       "      <th class=\"blank col1\" >&nbsp;</th>\n",
       "    </tr>\n",
       "  </thead>\n",
       "  <tbody>\n",
       "    <tr>\n",
       "      <th id=\"T_4d909_level0_row0\" class=\"row_heading level0 row0\" >0, 2, 4, 6, 8</th>\n",
       "      <th id=\"T_4d909_level1_row0\" class=\"row_heading level1 row0\" >5</th>\n",
       "      <td id=\"T_4d909_row0_col0\" class=\"data row0 col0\" >1</td>\n",
       "      <td id=\"T_4d909_row0_col1\" class=\"data row0 col1\" >1</td>\n",
       "    </tr>\n",
       "    <tr>\n",
       "      <th id=\"T_4d909_level0_row1\" class=\"row_heading level0 row1\" >1, 3, 5, 7, 9</th>\n",
       "      <th id=\"T_4d909_level1_row1\" class=\"row_heading level1 row1\" >5</th>\n",
       "      <td id=\"T_4d909_row1_col0\" class=\"data row1 col0\" >2</td>\n",
       "      <td id=\"T_4d909_row1_col1\" class=\"data row1 col1\" >2</td>\n",
       "    </tr>\n",
       "  </tbody>\n",
       "</table>\n"
      ]
     },
     "metadata": {},
     "output_type": "display_data"
    }
   ],
   "source": [
    "DataDuplicates(ignore_columns=[\"col3\"]).run(ds)"
   ]
  },
  {
   "cell_type": "code",
   "execution_count": 7,
   "id": "56284ded",
   "metadata": {
    "execution": {
     "iopub.execute_input": "2022-01-09T00:58:50.727099Z",
     "iopub.status.busy": "2022-01-09T00:58:50.726473Z",
     "iopub.status.idle": "2022-01-09T00:58:50.730600Z",
     "shell.execute_reply": "2022-01-09T00:58:50.729971Z"
    }
   },
   "outputs": [],
   "source": [
    "ds_no_dups = ds = pd.DataFrame({\"col1\":[1,2,1,2,1,2,1,2,1,2], \"col2\":[1,2,1,2,1,2,1,2,1,2], \"col3\":[1,2,3,4,5,6,7,8,9,0]})"
   ]
  },
  {
   "cell_type": "code",
   "execution_count": 8,
   "id": "bca536fd",
   "metadata": {
    "execution": {
     "iopub.execute_input": "2022-01-09T00:58:50.738381Z",
     "iopub.status.busy": "2022-01-09T00:58:50.737756Z",
     "iopub.status.idle": "2022-01-09T00:58:50.746912Z",
     "shell.execute_reply": "2022-01-09T00:58:50.746336Z"
    }
   },
   "outputs": [
    {
     "data": {
      "text/html": [
       "<h4>Data Duplicates</h4>"
      ]
     },
     "metadata": {},
     "output_type": "display_data"
    },
    {
     "data": {
      "text/html": [
       "<p>Search for duplicate data in dataset.</p>"
      ]
     },
     "metadata": {},
     "output_type": "display_data"
    },
    {
     "data": {
      "text/html": [
       "<p><b>&#x2713;</b> Nothing found</p>"
      ]
     },
     "metadata": {},
     "output_type": "display_data"
    }
   ],
   "source": [
    "DataDuplicates().run(ds_no_dups)"
   ]
  },
  {
   "cell_type": "code",
   "execution_count": 9,
   "id": "7716ca9d",
   "metadata": {
    "execution": {
     "iopub.execute_input": "2022-01-09T00:58:50.753407Z",
     "iopub.status.busy": "2022-01-09T00:58:50.752794Z",
     "iopub.status.idle": "2022-01-09T00:58:50.774536Z",
     "shell.execute_reply": "2022-01-09T00:58:50.773930Z"
    }
   },
   "outputs": [
    {
     "data": {
      "text/html": [
       "<h4>Data Duplicates</h4>"
      ]
     },
     "metadata": {},
     "output_type": "display_data"
    },
    {
     "data": {
      "text/html": [
       "<p>Search for duplicate data in dataset.</p>"
      ]
     },
     "metadata": {},
     "output_type": "display_data"
    },
    {
     "data": {
      "text/html": [
       "80.00% of data samples are duplicates"
      ]
     },
     "metadata": {},
     "output_type": "display_data"
    },
    {
     "data": {
      "text/html": [
       "Each row in the table shows an example of duplicate data and the number of times it appears."
      ]
     },
     "metadata": {},
     "output_type": "display_data"
    },
    {
     "data": {
      "text/html": [
       "<style type=\"text/css\">\n",
       "#T_bc711_ table {\n",
       "  text-align: left;\n",
       "}\n",
       "#T_bc711_ thead {\n",
       "  text-align: left;\n",
       "}\n",
       "#T_bc711_ tbody {\n",
       "  text-align: left;\n",
       "}\n",
       "#T_bc711_ th {\n",
       "  text-align: left;\n",
       "}\n",
       "#T_bc711_ td {\n",
       "  text-align: left;\n",
       "}\n",
       "</style>\n",
       "<table id=\"T_bc711_\">\n",
       "  <thead>\n",
       "    <tr>\n",
       "      <th class=\"blank\" >&nbsp;</th>\n",
       "      <th class=\"blank level0\" >&nbsp;</th>\n",
       "      <th class=\"col_heading level0 col0\" >col1</th>\n",
       "      <th class=\"col_heading level0 col1\" >col2</th>\n",
       "    </tr>\n",
       "    <tr>\n",
       "      <th class=\"index_name level0\" >Instances</th>\n",
       "      <th class=\"index_name level1\" >Number of Duplicates</th>\n",
       "      <th class=\"blank col0\" >&nbsp;</th>\n",
       "      <th class=\"blank col1\" >&nbsp;</th>\n",
       "    </tr>\n",
       "  </thead>\n",
       "  <tbody>\n",
       "    <tr>\n",
       "      <th id=\"T_bc711_level0_row0\" class=\"row_heading level0 row0\" >0, 2, 4, 6, 8</th>\n",
       "      <th id=\"T_bc711_level1_row0\" class=\"row_heading level1 row0\" >5</th>\n",
       "      <td id=\"T_bc711_row0_col0\" class=\"data row0 col0\" >1</td>\n",
       "      <td id=\"T_bc711_row0_col1\" class=\"data row0 col1\" >1</td>\n",
       "    </tr>\n",
       "    <tr>\n",
       "      <th id=\"T_bc711_level0_row1\" class=\"row_heading level0 row1\" >1, 3, 5, 7, 9</th>\n",
       "      <th id=\"T_bc711_level1_row1\" class=\"row_heading level1 row1\" >5</th>\n",
       "      <td id=\"T_bc711_row1_col0\" class=\"data row1 col0\" >2</td>\n",
       "      <td id=\"T_bc711_row1_col1\" class=\"data row1 col1\" >2</td>\n",
       "    </tr>\n",
       "  </tbody>\n",
       "</table>\n"
      ]
     },
     "metadata": {},
     "output_type": "display_data"
    }
   ],
   "source": [
    "DataDuplicates(ignore_columns=[\"col3\"]).run(ds_no_dups)"
   ]
  }
 ],
 "metadata": {
  "kernelspec": {
   "display_name": "Python 3 (ipykernel)",
   "language": "python",
   "name": "python3"
  },
  "language_info": {
   "codemirror_mode": {
    "name": "ipython",
    "version": 3
   },
   "file_extension": ".py",
   "mimetype": "text/x-python",
   "name": "python",
   "nbconvert_exporter": "python",
   "pygments_lexer": "ipython3",
   "version": "3.9.9"
  }
 },
 "nbformat": 4,
 "nbformat_minor": 5
}
