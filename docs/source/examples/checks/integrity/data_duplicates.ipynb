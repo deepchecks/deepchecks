{
 "cells": [
  {
   "cell_type": "markdown",
   "id": "ea45c03d",
   "metadata": {},
   "source": [
    "# Data Duplicates Check"
   ]
  },
  {
   "cell_type": "code",
   "execution_count": 1,
   "id": "e9297e35",
   "metadata": {},
   "outputs": [],
   "source": [
    "from deepchecks.checks.integrity.data_duplicates import DataDuplicates\n",
    "from deepchecks.base import Dataset, Suite\n",
    "from datetime import datetime\n",
    "import pandas as pd\n"
   ]
  },
  {
   "cell_type": "code",
   "execution_count": 2,
   "id": "bbb916b9",
   "metadata": {},
   "outputs": [],
   "source": [
    "ds = pd.DataFrame({\"col1\":[1,2,1,2,1,2,1,2,1,2], \"col2\":[1,2,1,2,1,2,1,2,1,2],\"col3\":[2,3,4,4,4,3,4,5,6,4]})"
   ]
  },
  {
   "cell_type": "code",
   "execution_count": 3,
   "id": "0c2f4fd4",
   "metadata": {},
   "outputs": [
    {
     "data": {
      "text/html": [
       "<h4>Data Duplicates</h4>"
      ]
     },
     "metadata": {},
     "output_type": "display_data"
    },
    {
     "data": {
      "text/html": [
       "<p>Search for duplicate data in dataset.</p>"
      ]
     },
     "metadata": {},
     "output_type": "display_data"
    },
    {
     "data": {
      "text/html": [
       "40.00% of data samples are duplicates"
      ]
     },
     "metadata": {},
     "output_type": "display_data"
    },
    {
     "data": {
      "text/html": [
       "<style type=\"text/css\">\n",
       "#T_7e527_ table {\n",
       "  text-align: left;\n",
       "}\n",
       "#T_7e527_ thead {\n",
       "  text-align: left;\n",
       "}\n",
       "#T_7e527_ tbody {\n",
       "  text-align: left;\n",
       "}\n",
       "#T_7e527_ th {\n",
       "  text-align: left;\n",
       "}\n",
       "#T_7e527_ td {\n",
       "  text-align: left;\n",
       "}\n",
       "</style>\n",
       "<table id=\"T_7e527_\">\n",
       "  <thead>\n",
       "    <tr>\n",
       "      <th class=\"blank level0\" >&nbsp;</th>\n",
       "      <th class=\"col_heading level0 col0\" >col1</th>\n",
       "      <th class=\"col_heading level0 col1\" >col2</th>\n",
       "      <th class=\"col_heading level0 col2\" >col3</th>\n",
       "    </tr>\n",
       "    <tr>\n",
       "      <th class=\"index_name level0\" >Number of Duplicates</th>\n",
       "      <th class=\"blank col0\" >&nbsp;</th>\n",
       "      <th class=\"blank col1\" >&nbsp;</th>\n",
       "      <th class=\"blank col2\" >&nbsp;</th>\n",
       "    </tr>\n",
       "  </thead>\n",
       "  <tbody>\n",
       "    <tr>\n",
       "      <th id=\"T_7e527_level0_row0\" class=\"row_heading level0 row0\" >3</th>\n",
       "      <td id=\"T_7e527_row0_col0\" class=\"data row0 col0\" >1</td>\n",
       "      <td id=\"T_7e527_row0_col1\" class=\"data row0 col1\" >1</td>\n",
       "      <td id=\"T_7e527_row0_col2\" class=\"data row0 col2\" >4</td>\n",
       "    </tr>\n",
       "    <tr>\n",
       "      <th id=\"T_7e527_level0_row1\" class=\"row_heading level0 row1\" >2</th>\n",
       "      <td id=\"T_7e527_row1_col0\" class=\"data row1 col0\" >2</td>\n",
       "      <td id=\"T_7e527_row1_col1\" class=\"data row1 col1\" >2</td>\n",
       "      <td id=\"T_7e527_row1_col2\" class=\"data row1 col2\" >3</td>\n",
       "    </tr>\n",
       "    <tr>\n",
       "      <th id=\"T_7e527_level0_row2\" class=\"row_heading level0 row2\" >2</th>\n",
       "      <td id=\"T_7e527_row2_col0\" class=\"data row2 col0\" >2</td>\n",
       "      <td id=\"T_7e527_row2_col1\" class=\"data row2 col1\" >2</td>\n",
       "      <td id=\"T_7e527_row2_col2\" class=\"data row2 col2\" >4</td>\n",
       "    </tr>\n",
       "  </tbody>\n",
       "</table>\n"
      ]
     },
     "metadata": {},
     "output_type": "display_data"
    }
   ],
   "source": [
    "DataDuplicates().run(ds)"
   ]
  },
  {
   "cell_type": "code",
   "execution_count": 4,
   "id": "8acc767a",
   "metadata": {},
   "outputs": [
    {
     "data": {
      "text/html": [
       "<h4>Data Duplicates</h4>"
      ]
     },
     "metadata": {},
     "output_type": "display_data"
    },
    {
     "data": {
      "text/html": [
       "<p>Search for duplicate data in dataset.</p>"
      ]
     },
     "metadata": {},
     "output_type": "display_data"
    },
    {
     "data": {
      "text/html": [
       "40.00% of data samples are duplicates"
      ]
     },
     "metadata": {},
     "output_type": "display_data"
    },
    {
     "data": {
      "text/html": [
       "<style type=\"text/css\">\n",
       "#T_0ebab_ table {\n",
       "  text-align: left;\n",
       "}\n",
       "#T_0ebab_ thead {\n",
       "  text-align: left;\n",
       "}\n",
       "#T_0ebab_ tbody {\n",
       "  text-align: left;\n",
       "}\n",
       "#T_0ebab_ th {\n",
       "  text-align: left;\n",
       "}\n",
       "#T_0ebab_ td {\n",
       "  text-align: left;\n",
       "}\n",
       "</style>\n",
       "<table id=\"T_0ebab_\">\n",
       "  <thead>\n",
       "    <tr>\n",
       "      <th class=\"blank level0\" >&nbsp;</th>\n",
       "      <th class=\"col_heading level0 col0\" >col1</th>\n",
       "      <th class=\"col_heading level0 col1\" >col2</th>\n",
       "      <th class=\"col_heading level0 col2\" >col3</th>\n",
       "    </tr>\n",
       "    <tr>\n",
       "      <th class=\"index_name level0\" >Number of Duplicates</th>\n",
       "      <th class=\"blank col0\" >&nbsp;</th>\n",
       "      <th class=\"blank col1\" >&nbsp;</th>\n",
       "      <th class=\"blank col2\" >&nbsp;</th>\n",
       "    </tr>\n",
       "  </thead>\n",
       "  <tbody>\n",
       "    <tr>\n",
       "      <th id=\"T_0ebab_level0_row0\" class=\"row_heading level0 row0\" >3</th>\n",
       "      <td id=\"T_0ebab_row0_col0\" class=\"data row0 col0\" >1</td>\n",
       "      <td id=\"T_0ebab_row0_col1\" class=\"data row0 col1\" >1</td>\n",
       "      <td id=\"T_0ebab_row0_col2\" class=\"data row0 col2\" >4</td>\n",
       "    </tr>\n",
       "    <tr>\n",
       "      <th id=\"T_0ebab_level0_row1\" class=\"row_heading level0 row1\" >2</th>\n",
       "      <td id=\"T_0ebab_row1_col0\" class=\"data row1 col0\" >2</td>\n",
       "      <td id=\"T_0ebab_row1_col1\" class=\"data row1 col1\" >2</td>\n",
       "      <td id=\"T_0ebab_row1_col2\" class=\"data row1 col2\" >3</td>\n",
       "    </tr>\n",
       "  </tbody>\n",
       "</table>\n"
      ]
     },
     "metadata": {},
     "output_type": "display_data"
    }
   ],
   "source": [
    "DataDuplicates(n_to_show=2).run(ds)"
   ]
  },
  {
   "cell_type": "code",
   "execution_count": 5,
   "id": "4ac8525f",
   "metadata": {},
   "outputs": [
    {
     "data": {
      "text/html": [
       "<h4>Data Duplicates</h4>"
      ]
     },
     "metadata": {},
     "output_type": "display_data"
    },
    {
     "data": {
      "text/html": [
       "<p>Search for duplicate data in dataset.</p>"
      ]
     },
     "metadata": {},
     "output_type": "display_data"
    },
    {
     "data": {
      "text/html": [
       "80.00% of data samples are duplicates"
      ]
     },
     "metadata": {},
     "output_type": "display_data"
    },
    {
     "data": {
      "text/html": [
       "<style type=\"text/css\">\n",
       "#T_fa973_ table {\n",
       "  text-align: left;\n",
       "}\n",
       "#T_fa973_ thead {\n",
       "  text-align: left;\n",
       "}\n",
       "#T_fa973_ tbody {\n",
       "  text-align: left;\n",
       "}\n",
       "#T_fa973_ th {\n",
       "  text-align: left;\n",
       "}\n",
       "#T_fa973_ td {\n",
       "  text-align: left;\n",
       "}\n",
       "</style>\n",
       "<table id=\"T_fa973_\">\n",
       "  <thead>\n",
       "    <tr>\n",
       "      <th class=\"blank level0\" >&nbsp;</th>\n",
       "      <th class=\"col_heading level0 col0\" >col1</th>\n",
       "    </tr>\n",
       "    <tr>\n",
       "      <th class=\"index_name level0\" >Number of Duplicates</th>\n",
       "      <th class=\"blank col0\" >&nbsp;</th>\n",
       "    </tr>\n",
       "  </thead>\n",
       "  <tbody>\n",
       "    <tr>\n",
       "      <th id=\"T_fa973_level0_row0\" class=\"row_heading level0 row0\" >5</th>\n",
       "      <td id=\"T_fa973_row0_col0\" class=\"data row0 col0\" >1</td>\n",
       "    </tr>\n",
       "    <tr>\n",
       "      <th id=\"T_fa973_level0_row1\" class=\"row_heading level0 row1\" >5</th>\n",
       "      <td id=\"T_fa973_row1_col0\" class=\"data row1 col0\" >2</td>\n",
       "    </tr>\n",
       "  </tbody>\n",
       "</table>\n"
      ]
     },
     "metadata": {},
     "output_type": "display_data"
    }
   ],
   "source": [
    "DataDuplicates(columns=[\"col1\"]).run(ds)"
   ]
  },
  {
   "cell_type": "code",
   "execution_count": 6,
   "id": "dcb2f344",
   "metadata": {},
   "outputs": [
    {
     "data": {
      "text/html": [
       "<h4>Data Duplicates</h4>"
      ]
     },
     "metadata": {},
     "output_type": "display_data"
    },
    {
     "data": {
      "text/html": [
       "<p>Search for duplicate data in dataset.</p>"
      ]
     },
     "metadata": {},
     "output_type": "display_data"
    },
    {
     "data": {
      "text/html": [
       "80.00% of data samples are duplicates"
      ]
     },
     "metadata": {},
     "output_type": "display_data"
    },
    {
     "data": {
      "text/html": [
       "<style type=\"text/css\">\n",
       "#T_e4cad_ table {\n",
       "  text-align: left;\n",
       "}\n",
       "#T_e4cad_ thead {\n",
       "  text-align: left;\n",
       "}\n",
       "#T_e4cad_ tbody {\n",
       "  text-align: left;\n",
       "}\n",
       "#T_e4cad_ th {\n",
       "  text-align: left;\n",
       "}\n",
       "#T_e4cad_ td {\n",
       "  text-align: left;\n",
       "}\n",
       "</style>\n",
       "<table id=\"T_e4cad_\">\n",
       "  <thead>\n",
       "    <tr>\n",
       "      <th class=\"blank level0\" >&nbsp;</th>\n",
       "      <th class=\"col_heading level0 col0\" >col1</th>\n",
       "      <th class=\"col_heading level0 col1\" >col2</th>\n",
       "    </tr>\n",
       "    <tr>\n",
       "      <th class=\"index_name level0\" >Number of Duplicates</th>\n",
       "      <th class=\"blank col0\" >&nbsp;</th>\n",
       "      <th class=\"blank col1\" >&nbsp;</th>\n",
       "    </tr>\n",
       "  </thead>\n",
       "  <tbody>\n",
       "    <tr>\n",
       "      <th id=\"T_e4cad_level0_row0\" class=\"row_heading level0 row0\" >5</th>\n",
       "      <td id=\"T_e4cad_row0_col0\" class=\"data row0 col0\" >1</td>\n",
       "      <td id=\"T_e4cad_row0_col1\" class=\"data row0 col1\" >1</td>\n",
       "    </tr>\n",
       "    <tr>\n",
       "      <th id=\"T_e4cad_level0_row1\" class=\"row_heading level0 row1\" >5</th>\n",
       "      <td id=\"T_e4cad_row1_col0\" class=\"data row1 col0\" >2</td>\n",
       "      <td id=\"T_e4cad_row1_col1\" class=\"data row1 col1\" >2</td>\n",
       "    </tr>\n",
       "  </tbody>\n",
       "</table>\n"
      ]
     },
     "metadata": {},
     "output_type": "display_data"
    }
   ],
   "source": [
    "DataDuplicates(ignore_columns=[\"col3\"]).run(ds)"
   ]
  },
  {
   "cell_type": "code",
   "execution_count": 7,
   "id": "56284ded",
   "metadata": {},
   "outputs": [],
   "source": [
    "ds_no_dups = ds = pd.DataFrame({\"col1\":[1,2,1,2,1,2,1,2,1,2], \"col2\":[1,2,1,2,1,2,1,2,1,2], \"col3\":[1,2,3,4,5,6,7,8,9,0]})"
   ]
  },
  {
   "cell_type": "code",
   "execution_count": 8,
   "id": "bca536fd",
   "metadata": {},
   "outputs": [
    {
     "data": {
      "text/html": [
       "<h4>Data Duplicates</h4>"
      ]
     },
     "metadata": {},
     "output_type": "display_data"
    },
    {
     "data": {
      "text/html": [
       "<p>Search for duplicate data in dataset.</p>"
      ]
     },
     "metadata": {},
     "output_type": "display_data"
    },
    {
     "data": {
      "text/html": [
       "<p><b>&#x2713;</b> Nothing found</p>"
      ]
     },
     "metadata": {},
     "output_type": "display_data"
    }
   ],
   "source": [
    "DataDuplicates().run(ds_no_dups)"
   ]
  },
  {
   "cell_type": "code",
   "execution_count": 9,
   "id": "7716ca9d",
   "metadata": {},
   "outputs": [
    {
     "data": {
      "text/html": [
       "<h4>Data Duplicates</h4>"
      ]
     },
     "metadata": {},
     "output_type": "display_data"
    },
    {
     "data": {
      "text/html": [
       "<p>Search for duplicate data in dataset.</p>"
      ]
     },
     "metadata": {},
     "output_type": "display_data"
    },
    {
     "data": {
      "text/html": [
       "80.00% of data samples are duplicates"
      ]
     },
     "metadata": {},
     "output_type": "display_data"
    },
    {
     "data": {
      "text/html": [
       "<style type=\"text/css\">\n",
       "#T_4958d_ table {\n",
       "  text-align: left;\n",
       "}\n",
       "#T_4958d_ thead {\n",
       "  text-align: left;\n",
       "}\n",
       "#T_4958d_ tbody {\n",
       "  text-align: left;\n",
       "}\n",
       "#T_4958d_ th {\n",
       "  text-align: left;\n",
       "}\n",
       "#T_4958d_ td {\n",
       "  text-align: left;\n",
       "}\n",
       "</style>\n",
       "<table id=\"T_4958d_\">\n",
       "  <thead>\n",
       "    <tr>\n",
       "      <th class=\"blank level0\" >&nbsp;</th>\n",
       "      <th class=\"col_heading level0 col0\" >col1</th>\n",
       "      <th class=\"col_heading level0 col1\" >col2</th>\n",
       "    </tr>\n",
       "    <tr>\n",
       "      <th class=\"index_name level0\" >Number of Duplicates</th>\n",
       "      <th class=\"blank col0\" >&nbsp;</th>\n",
       "      <th class=\"blank col1\" >&nbsp;</th>\n",
       "    </tr>\n",
       "  </thead>\n",
       "  <tbody>\n",
       "    <tr>\n",
       "      <th id=\"T_4958d_level0_row0\" class=\"row_heading level0 row0\" >5</th>\n",
       "      <td id=\"T_4958d_row0_col0\" class=\"data row0 col0\" >1</td>\n",
       "      <td id=\"T_4958d_row0_col1\" class=\"data row0 col1\" >1</td>\n",
       "    </tr>\n",
       "    <tr>\n",
       "      <th id=\"T_4958d_level0_row1\" class=\"row_heading level0 row1\" >5</th>\n",
       "      <td id=\"T_4958d_row1_col0\" class=\"data row1 col0\" >2</td>\n",
       "      <td id=\"T_4958d_row1_col1\" class=\"data row1 col1\" >2</td>\n",
       "    </tr>\n",
       "  </tbody>\n",
       "</table>\n"
      ]
     },
     "metadata": {},
     "output_type": "display_data"
    }
   ],
   "source": [
    "DataDuplicates(ignore_columns=[\"col3\"]).run(ds_no_dups)"
   ]
  }
 ],
 "metadata": {
  "kernelspec": {
   "display_name": "Python 3 (ipykernel)",
   "language": "python",
   "name": "python3"
  },
  "language_info": {
   "codemirror_mode": {
    "name": "ipython",
    "version": 3
   },
   "file_extension": ".py",
   "mimetype": "text/x-python",
   "name": "python",
   "nbconvert_exporter": "python",
   "pygments_lexer": "ipython3",
   "version": "3.8.10"
  }
 },
 "nbformat": 4,
 "nbformat_minor": 5
}
