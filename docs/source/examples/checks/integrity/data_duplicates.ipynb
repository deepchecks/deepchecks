{
 "cells": [
  {
   "cell_type": "markdown",
   "id": "06bdcdfc",
   "metadata": {},
   "source": [
    "# Data Duplicates "
   ]
  },
  {
   "cell_type": "code",
   "execution_count": 1,
   "id": "e9297e35",
   "metadata": {
    "execution": {
     "iopub.execute_input": "2022-01-11T00:58:02.406398Z",
     "iopub.status.busy": "2022-01-11T00:58:02.404759Z",
     "iopub.status.idle": "2022-01-11T00:58:04.571854Z",
     "shell.execute_reply": "2022-01-11T00:58:04.571072Z"
    }
   },
   "outputs": [],
   "source": [
    "from deepchecks.checks.integrity.data_duplicates import DataDuplicates\n",
    "from deepchecks.base import Dataset, Suite\n",
    "from datetime import datetime\n",
    "import pandas as pd\n"
   ]
  },
  {
   "cell_type": "code",
   "execution_count": 2,
   "id": "bbb916b9",
   "metadata": {
    "execution": {
     "iopub.execute_input": "2022-01-11T00:58:04.578962Z",
     "iopub.status.busy": "2022-01-11T00:58:04.578302Z",
     "iopub.status.idle": "2022-01-11T00:58:04.582644Z",
     "shell.execute_reply": "2022-01-11T00:58:04.582057Z"
    }
   },
   "outputs": [],
   "source": [
    "ds = pd.DataFrame({\"col1\":[1,2,1,2,1,2,1,2,1,2], \"col2\":[1,2,1,2,1,2,1,2,1,2],\"col3\":[2,3,4,4,4,3,4,5,6,4]})"
   ]
  },
  {
   "cell_type": "code",
   "execution_count": 3,
   "id": "0c2f4fd4",
   "metadata": {
    "execution": {
     "iopub.execute_input": "2022-01-11T00:58:04.606696Z",
     "iopub.status.busy": "2022-01-11T00:58:04.589795Z",
     "iopub.status.idle": "2022-01-11T00:58:04.620210Z",
     "shell.execute_reply": "2022-01-11T00:58:04.620737Z"
    }
   },
   "outputs": [
    {
     "data": {
      "text/html": [
       "<h4>Data Duplicates</h4>"
      ]
     },
     "metadata": {},
     "output_type": "display_data"
    },
    {
     "data": {
      "text/html": [
       "<p>Search for duplicate data in dataset.</p>"
      ]
     },
     "metadata": {},
     "output_type": "display_data"
    },
    {
     "data": {
      "text/html": [
       "40.00% of data samples are duplicates"
      ]
     },
     "metadata": {},
     "output_type": "display_data"
    },
    {
     "data": {
      "text/html": [
       "Each row in the table shows an example of duplicate data and the number of times it appears."
      ]
     },
     "metadata": {},
     "output_type": "display_data"
    },
    {
     "data": {
      "text/html": [
       "<style type=\"text/css\">\n",
       "#T_31aca_ table {\n",
       "  text-align: left;\n",
       "}\n",
       "#T_31aca_ thead {\n",
       "  text-align: left;\n",
       "}\n",
       "#T_31aca_ tbody {\n",
       "  text-align: left;\n",
       "}\n",
       "#T_31aca_ th {\n",
       "  text-align: left;\n",
       "}\n",
       "#T_31aca_ td {\n",
       "  text-align: left;\n",
       "}\n",
       "</style>\n",
       "<table id=\"T_31aca_\">\n",
       "  <thead>\n",
       "    <tr>\n",
       "      <th class=\"blank\" >&nbsp;</th>\n",
       "      <th class=\"blank level0\" >&nbsp;</th>\n",
       "      <th class=\"col_heading level0 col0\" >col1</th>\n",
       "      <th class=\"col_heading level0 col1\" >col2</th>\n",
       "      <th class=\"col_heading level0 col2\" >col3</th>\n",
       "    </tr>\n",
       "    <tr>\n",
       "      <th class=\"index_name level0\" >Instances</th>\n",
       "      <th class=\"index_name level1\" >Number of Duplicates</th>\n",
       "      <th class=\"blank col0\" >&nbsp;</th>\n",
       "      <th class=\"blank col1\" >&nbsp;</th>\n",
       "      <th class=\"blank col2\" >&nbsp;</th>\n",
       "    </tr>\n",
       "  </thead>\n",
       "  <tbody>\n",
       "    <tr>\n",
       "      <th id=\"T_31aca_level0_row0\" class=\"row_heading level0 row0\" >2, 4, 6</th>\n",
       "      <th id=\"T_31aca_level1_row0\" class=\"row_heading level1 row0\" >3</th>\n",
       "      <td id=\"T_31aca_row0_col0\" class=\"data row0 col0\" >1</td>\n",
       "      <td id=\"T_31aca_row0_col1\" class=\"data row0 col1\" >1</td>\n",
       "      <td id=\"T_31aca_row0_col2\" class=\"data row0 col2\" >4</td>\n",
       "    </tr>\n",
       "    <tr>\n",
       "      <th id=\"T_31aca_level0_row1\" class=\"row_heading level0 row1\" >1, 5</th>\n",
       "      <th id=\"T_31aca_level1_row1\" class=\"row_heading level1 row1\" >2</th>\n",
       "      <td id=\"T_31aca_row1_col0\" class=\"data row1 col0\" >2</td>\n",
       "      <td id=\"T_31aca_row1_col1\" class=\"data row1 col1\" >2</td>\n",
       "      <td id=\"T_31aca_row1_col2\" class=\"data row1 col2\" >3</td>\n",
       "    </tr>\n",
       "    <tr>\n",
       "      <th id=\"T_31aca_level0_row2\" class=\"row_heading level0 row2\" >3, 9</th>\n",
       "      <th id=\"T_31aca_level1_row2\" class=\"row_heading level1 row2\" >2</th>\n",
       "      <td id=\"T_31aca_row2_col0\" class=\"data row2 col0\" >2</td>\n",
       "      <td id=\"T_31aca_row2_col1\" class=\"data row2 col1\" >2</td>\n",
       "      <td id=\"T_31aca_row2_col2\" class=\"data row2 col2\" >4</td>\n",
       "    </tr>\n",
       "  </tbody>\n",
       "</table>\n"
      ]
     },
     "metadata": {},
     "output_type": "display_data"
    }
   ],
   "source": [
    "DataDuplicates().run(ds)"
   ]
  },
  {
   "cell_type": "code",
   "execution_count": 4,
   "id": "8acc767a",
   "metadata": {
    "execution": {
     "iopub.execute_input": "2022-01-11T00:58:04.642344Z",
     "iopub.status.busy": "2022-01-11T00:58:04.635446Z",
     "iopub.status.idle": "2022-01-11T00:58:04.650675Z",
     "shell.execute_reply": "2022-01-11T00:58:04.651245Z"
    }
   },
   "outputs": [
    {
     "data": {
      "text/html": [
       "<h4>Data Duplicates</h4>"
      ]
     },
     "metadata": {},
     "output_type": "display_data"
    },
    {
     "data": {
      "text/html": [
       "<p>Search for duplicate data in dataset.</p>"
      ]
     },
     "metadata": {},
     "output_type": "display_data"
    },
    {
     "data": {
      "text/html": [
       "40.00% of data samples are duplicates"
      ]
     },
     "metadata": {},
     "output_type": "display_data"
    },
    {
     "data": {
      "text/html": [
       "Each row in the table shows an example of duplicate data and the number of times it appears."
      ]
     },
     "metadata": {},
     "output_type": "display_data"
    },
    {
     "data": {
      "text/html": [
       "<style type=\"text/css\">\n",
       "#T_ba662_ table {\n",
       "  text-align: left;\n",
       "}\n",
       "#T_ba662_ thead {\n",
       "  text-align: left;\n",
       "}\n",
       "#T_ba662_ tbody {\n",
       "  text-align: left;\n",
       "}\n",
       "#T_ba662_ th {\n",
       "  text-align: left;\n",
       "}\n",
       "#T_ba662_ td {\n",
       "  text-align: left;\n",
       "}\n",
       "</style>\n",
       "<table id=\"T_ba662_\">\n",
       "  <thead>\n",
       "    <tr>\n",
       "      <th class=\"blank\" >&nbsp;</th>\n",
       "      <th class=\"blank level0\" >&nbsp;</th>\n",
       "      <th class=\"col_heading level0 col0\" >col1</th>\n",
       "      <th class=\"col_heading level0 col1\" >col2</th>\n",
       "      <th class=\"col_heading level0 col2\" >col3</th>\n",
       "    </tr>\n",
       "    <tr>\n",
       "      <th class=\"index_name level0\" >Instances</th>\n",
       "      <th class=\"index_name level1\" >Number of Duplicates</th>\n",
       "      <th class=\"blank col0\" >&nbsp;</th>\n",
       "      <th class=\"blank col1\" >&nbsp;</th>\n",
       "      <th class=\"blank col2\" >&nbsp;</th>\n",
       "    </tr>\n",
       "  </thead>\n",
       "  <tbody>\n",
       "    <tr>\n",
       "      <th id=\"T_ba662_level0_row0\" class=\"row_heading level0 row0\" >2, 4, 6</th>\n",
       "      <th id=\"T_ba662_level1_row0\" class=\"row_heading level1 row0\" >3</th>\n",
       "      <td id=\"T_ba662_row0_col0\" class=\"data row0 col0\" >1</td>\n",
       "      <td id=\"T_ba662_row0_col1\" class=\"data row0 col1\" >1</td>\n",
       "      <td id=\"T_ba662_row0_col2\" class=\"data row0 col2\" >4</td>\n",
       "    </tr>\n",
       "    <tr>\n",
       "      <th id=\"T_ba662_level0_row1\" class=\"row_heading level0 row1\" >1, 5</th>\n",
       "      <th id=\"T_ba662_level1_row1\" class=\"row_heading level1 row1\" >2</th>\n",
       "      <td id=\"T_ba662_row1_col0\" class=\"data row1 col0\" >2</td>\n",
       "      <td id=\"T_ba662_row1_col1\" class=\"data row1 col1\" >2</td>\n",
       "      <td id=\"T_ba662_row1_col2\" class=\"data row1 col2\" >3</td>\n",
       "    </tr>\n",
       "  </tbody>\n",
       "</table>\n"
      ]
     },
     "metadata": {},
     "output_type": "display_data"
    }
   ],
   "source": [
    "DataDuplicates(n_to_show=2).run(ds)"
   ]
  },
  {
   "cell_type": "code",
   "execution_count": 5,
   "id": "4ac8525f",
   "metadata": {
    "execution": {
     "iopub.execute_input": "2022-01-11T00:58:04.672345Z",
     "iopub.status.busy": "2022-01-11T00:58:04.671102Z",
     "iopub.status.idle": "2022-01-11T00:58:04.680150Z",
     "shell.execute_reply": "2022-01-11T00:58:04.680643Z"
    }
   },
   "outputs": [
    {
     "data": {
      "text/html": [
       "<h4>Data Duplicates</h4>"
      ]
     },
     "metadata": {},
     "output_type": "display_data"
    },
    {
     "data": {
      "text/html": [
       "<p>Search for duplicate data in dataset.</p>"
      ]
     },
     "metadata": {},
     "output_type": "display_data"
    },
    {
     "data": {
      "text/html": [
       "80.00% of data samples are duplicates"
      ]
     },
     "metadata": {},
     "output_type": "display_data"
    },
    {
     "data": {
      "text/html": [
       "Each row in the table shows an example of duplicate data and the number of times it appears."
      ]
     },
     "metadata": {},
     "output_type": "display_data"
    },
    {
     "data": {
      "text/html": [
       "<style type=\"text/css\">\n",
       "#T_2cfa5_ table {\n",
       "  text-align: left;\n",
       "}\n",
       "#T_2cfa5_ thead {\n",
       "  text-align: left;\n",
       "}\n",
       "#T_2cfa5_ tbody {\n",
       "  text-align: left;\n",
       "}\n",
       "#T_2cfa5_ th {\n",
       "  text-align: left;\n",
       "}\n",
       "#T_2cfa5_ td {\n",
       "  text-align: left;\n",
       "}\n",
       "</style>\n",
       "<table id=\"T_2cfa5_\">\n",
       "  <thead>\n",
       "    <tr>\n",
       "      <th class=\"blank\" >&nbsp;</th>\n",
       "      <th class=\"blank level0\" >&nbsp;</th>\n",
       "      <th class=\"col_heading level0 col0\" >col1</th>\n",
       "    </tr>\n",
       "    <tr>\n",
       "      <th class=\"index_name level0\" >Instances</th>\n",
       "      <th class=\"index_name level1\" >Number of Duplicates</th>\n",
       "      <th class=\"blank col0\" >&nbsp;</th>\n",
       "    </tr>\n",
       "  </thead>\n",
       "  <tbody>\n",
       "    <tr>\n",
       "      <th id=\"T_2cfa5_level0_row0\" class=\"row_heading level0 row0\" >0, 2, 4, 6, 8</th>\n",
       "      <th id=\"T_2cfa5_level1_row0\" class=\"row_heading level1 row0\" >5</th>\n",
       "      <td id=\"T_2cfa5_row0_col0\" class=\"data row0 col0\" >1</td>\n",
       "    </tr>\n",
       "    <tr>\n",
       "      <th id=\"T_2cfa5_level0_row1\" class=\"row_heading level0 row1\" >1, 3, 5, 7, 9</th>\n",
       "      <th id=\"T_2cfa5_level1_row1\" class=\"row_heading level1 row1\" >5</th>\n",
       "      <td id=\"T_2cfa5_row1_col0\" class=\"data row1 col0\" >2</td>\n",
       "    </tr>\n",
       "  </tbody>\n",
       "</table>\n"
      ]
     },
     "metadata": {},
     "output_type": "display_data"
    }
   ],
   "source": [
    "DataDuplicates(columns=[\"col1\"]).run(ds)"
   ]
  },
  {
   "cell_type": "code",
   "execution_count": 6,
   "id": "dcb2f344",
   "metadata": {
    "execution": {
     "iopub.execute_input": "2022-01-11T00:58:04.687973Z",
     "iopub.status.busy": "2022-01-11T00:58:04.687312Z",
     "iopub.status.idle": "2022-01-11T00:58:04.707956Z",
     "shell.execute_reply": "2022-01-11T00:58:04.708495Z"
    }
   },
   "outputs": [
    {
     "data": {
      "text/html": [
       "<h4>Data Duplicates</h4>"
      ]
     },
     "metadata": {},
     "output_type": "display_data"
    },
    {
     "data": {
      "text/html": [
       "<p>Search for duplicate data in dataset.</p>"
      ]
     },
     "metadata": {},
     "output_type": "display_data"
    },
    {
     "data": {
      "text/html": [
       "80.00% of data samples are duplicates"
      ]
     },
     "metadata": {},
     "output_type": "display_data"
    },
    {
     "data": {
      "text/html": [
       "Each row in the table shows an example of duplicate data and the number of times it appears."
      ]
     },
     "metadata": {},
     "output_type": "display_data"
    },
    {
     "data": {
      "text/html": [
       "<style type=\"text/css\">\n",
       "#T_c7f44_ table {\n",
       "  text-align: left;\n",
       "}\n",
       "#T_c7f44_ thead {\n",
       "  text-align: left;\n",
       "}\n",
       "#T_c7f44_ tbody {\n",
       "  text-align: left;\n",
       "}\n",
       "#T_c7f44_ th {\n",
       "  text-align: left;\n",
       "}\n",
       "#T_c7f44_ td {\n",
       "  text-align: left;\n",
       "}\n",
       "</style>\n",
       "<table id=\"T_c7f44_\">\n",
       "  <thead>\n",
       "    <tr>\n",
       "      <th class=\"blank\" >&nbsp;</th>\n",
       "      <th class=\"blank level0\" >&nbsp;</th>\n",
       "      <th class=\"col_heading level0 col0\" >col1</th>\n",
       "      <th class=\"col_heading level0 col1\" >col2</th>\n",
       "    </tr>\n",
       "    <tr>\n",
       "      <th class=\"index_name level0\" >Instances</th>\n",
       "      <th class=\"index_name level1\" >Number of Duplicates</th>\n",
       "      <th class=\"blank col0\" >&nbsp;</th>\n",
       "      <th class=\"blank col1\" >&nbsp;</th>\n",
       "    </tr>\n",
       "  </thead>\n",
       "  <tbody>\n",
       "    <tr>\n",
       "      <th id=\"T_c7f44_level0_row0\" class=\"row_heading level0 row0\" >0, 2, 4, 6, 8</th>\n",
       "      <th id=\"T_c7f44_level1_row0\" class=\"row_heading level1 row0\" >5</th>\n",
       "      <td id=\"T_c7f44_row0_col0\" class=\"data row0 col0\" >1</td>\n",
       "      <td id=\"T_c7f44_row0_col1\" class=\"data row0 col1\" >1</td>\n",
       "    </tr>\n",
       "    <tr>\n",
       "      <th id=\"T_c7f44_level0_row1\" class=\"row_heading level0 row1\" >1, 3, 5, 7, 9</th>\n",
       "      <th id=\"T_c7f44_level1_row1\" class=\"row_heading level1 row1\" >5</th>\n",
       "      <td id=\"T_c7f44_row1_col0\" class=\"data row1 col0\" >2</td>\n",
       "      <td id=\"T_c7f44_row1_col1\" class=\"data row1 col1\" >2</td>\n",
       "    </tr>\n",
       "  </tbody>\n",
       "</table>\n"
      ]
     },
     "metadata": {},
     "output_type": "display_data"
    }
   ],
   "source": [
    "DataDuplicates(ignore_columns=[\"col3\"]).run(ds)"
   ]
  },
  {
   "cell_type": "code",
   "execution_count": 7,
   "id": "56284ded",
   "metadata": {
    "execution": {
     "iopub.execute_input": "2022-01-11T00:58:04.716124Z",
     "iopub.status.busy": "2022-01-11T00:58:04.714593Z",
     "iopub.status.idle": "2022-01-11T00:58:04.716820Z",
     "shell.execute_reply": "2022-01-11T00:58:04.717486Z"
    }
   },
   "outputs": [],
   "source": [
    "ds_no_dups = ds = pd.DataFrame({\"col1\":[1,2,1,2,1,2,1,2,1,2], \"col2\":[1,2,1,2,1,2,1,2,1,2], \"col3\":[1,2,3,4,5,6,7,8,9,0]})"
   ]
  },
  {
   "cell_type": "code",
   "execution_count": 8,
   "id": "bca536fd",
   "metadata": {
    "execution": {
     "iopub.execute_input": "2022-01-11T00:58:04.727858Z",
     "iopub.status.busy": "2022-01-11T00:58:04.724414Z",
     "iopub.status.idle": "2022-01-11T00:58:04.733223Z",
     "shell.execute_reply": "2022-01-11T00:58:04.731746Z"
    }
   },
   "outputs": [
    {
     "data": {
      "text/html": [
       "<h4>Data Duplicates</h4>"
      ]
     },
     "metadata": {},
     "output_type": "display_data"
    },
    {
     "data": {
      "text/html": [
       "<p>Search for duplicate data in dataset.</p>"
      ]
     },
     "metadata": {},
     "output_type": "display_data"
    },
    {
     "data": {
      "text/html": [
       "<p><b>&#x2713;</b> Nothing found</p>"
      ]
     },
     "metadata": {},
     "output_type": "display_data"
    }
   ],
   "source": [
    "DataDuplicates().run(ds_no_dups)"
   ]
  },
  {
   "cell_type": "code",
   "execution_count": 9,
   "id": "7716ca9d",
   "metadata": {
    "execution": {
     "iopub.execute_input": "2022-01-11T00:58:04.743950Z",
     "iopub.status.busy": "2022-01-11T00:58:04.743300Z",
     "iopub.status.idle": "2022-01-11T00:58:04.762639Z",
     "shell.execute_reply": "2022-01-11T00:58:04.763159Z"
    }
   },
   "outputs": [
    {
     "data": {
      "text/html": [
       "<h4>Data Duplicates</h4>"
      ]
     },
     "metadata": {},
     "output_type": "display_data"
    },
    {
     "data": {
      "text/html": [
       "<p>Search for duplicate data in dataset.</p>"
      ]
     },
     "metadata": {},
     "output_type": "display_data"
    },
    {
     "data": {
      "text/html": [
       "80.00% of data samples are duplicates"
      ]
     },
     "metadata": {},
     "output_type": "display_data"
    },
    {
     "data": {
      "text/html": [
       "Each row in the table shows an example of duplicate data and the number of times it appears."
      ]
     },
     "metadata": {},
     "output_type": "display_data"
    },
    {
     "data": {
      "text/html": [
       "<style type=\"text/css\">\n",
       "#T_bc683_ table {\n",
       "  text-align: left;\n",
       "}\n",
       "#T_bc683_ thead {\n",
       "  text-align: left;\n",
       "}\n",
       "#T_bc683_ tbody {\n",
       "  text-align: left;\n",
       "}\n",
       "#T_bc683_ th {\n",
       "  text-align: left;\n",
       "}\n",
       "#T_bc683_ td {\n",
       "  text-align: left;\n",
       "}\n",
       "</style>\n",
       "<table id=\"T_bc683_\">\n",
       "  <thead>\n",
       "    <tr>\n",
       "      <th class=\"blank\" >&nbsp;</th>\n",
       "      <th class=\"blank level0\" >&nbsp;</th>\n",
       "      <th class=\"col_heading level0 col0\" >col1</th>\n",
       "      <th class=\"col_heading level0 col1\" >col2</th>\n",
       "    </tr>\n",
       "    <tr>\n",
       "      <th class=\"index_name level0\" >Instances</th>\n",
       "      <th class=\"index_name level1\" >Number of Duplicates</th>\n",
       "      <th class=\"blank col0\" >&nbsp;</th>\n",
       "      <th class=\"blank col1\" >&nbsp;</th>\n",
       "    </tr>\n",
       "  </thead>\n",
       "  <tbody>\n",
       "    <tr>\n",
       "      <th id=\"T_bc683_level0_row0\" class=\"row_heading level0 row0\" >0, 2, 4, 6, 8</th>\n",
       "      <th id=\"T_bc683_level1_row0\" class=\"row_heading level1 row0\" >5</th>\n",
       "      <td id=\"T_bc683_row0_col0\" class=\"data row0 col0\" >1</td>\n",
       "      <td id=\"T_bc683_row0_col1\" class=\"data row0 col1\" >1</td>\n",
       "    </tr>\n",
       "    <tr>\n",
       "      <th id=\"T_bc683_level0_row1\" class=\"row_heading level0 row1\" >1, 3, 5, 7, 9</th>\n",
       "      <th id=\"T_bc683_level1_row1\" class=\"row_heading level1 row1\" >5</th>\n",
       "      <td id=\"T_bc683_row1_col0\" class=\"data row1 col0\" >2</td>\n",
       "      <td id=\"T_bc683_row1_col1\" class=\"data row1 col1\" >2</td>\n",
       "    </tr>\n",
       "  </tbody>\n",
       "</table>\n"
      ]
     },
     "metadata": {},
     "output_type": "display_data"
    }
   ],
   "source": [
    "DataDuplicates(ignore_columns=[\"col3\"]).run(ds_no_dups)"
   ]
  }
 ],
 "metadata": {
  "kernelspec": {
   "display_name": "Python 3 (ipykernel)",
   "language": "python",
   "name": "python3"
  },
  "language_info": {
   "codemirror_mode": {
    "name": "ipython",
    "version": 3
   },
   "file_extension": ".py",
   "mimetype": "text/x-python",
   "name": "python",
   "nbconvert_exporter": "python",
   "pygments_lexer": "ipython3",
   "version": "3.9.9"
  }
 },
 "nbformat": 4,
 "nbformat_minor": 5
}
