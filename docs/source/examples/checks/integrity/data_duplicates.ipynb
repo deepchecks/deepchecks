{
 "cells": [
  {
   "cell_type": "markdown",
   "id": "06bdcdfc",
   "metadata": {},
   "source": [
    "# Data Duplicates "
   ]
  },
  {
   "cell_type": "code",
   "execution_count": 1,
   "id": "e9297e35",
   "metadata": {
    "execution": {
     "iopub.execute_input": "2022-01-13T00:58:49.264538Z",
     "iopub.status.busy": "2022-01-13T00:58:49.263868Z",
     "iopub.status.idle": "2022-01-13T00:58:51.121224Z",
     "shell.execute_reply": "2022-01-13T00:58:51.120031Z"
    }
   },
   "outputs": [],
   "source": [
    "from deepchecks.checks.integrity.data_duplicates import DataDuplicates\n",
    "from deepchecks.base import Dataset, Suite\n",
    "from datetime import datetime\n",
    "import pandas as pd\n"
   ]
  },
  {
   "cell_type": "code",
   "execution_count": 2,
   "id": "bbb916b9",
   "metadata": {
    "execution": {
     "iopub.execute_input": "2022-01-13T00:58:51.127489Z",
     "iopub.status.busy": "2022-01-13T00:58:51.126924Z",
     "iopub.status.idle": "2022-01-13T00:58:51.128235Z",
     "shell.execute_reply": "2022-01-13T00:58:51.128894Z"
    }
   },
   "outputs": [],
   "source": [
    "ds = pd.DataFrame({\"col1\":[1,2,1,2,1,2,1,2,1,2], \"col2\":[1,2,1,2,1,2,1,2,1,2],\"col3\":[2,3,4,4,4,3,4,5,6,4]})"
   ]
  },
  {
   "cell_type": "code",
   "execution_count": 3,
   "id": "0c2f4fd4",
   "metadata": {
    "execution": {
     "iopub.execute_input": "2022-01-13T00:58:51.145971Z",
     "iopub.status.busy": "2022-01-13T00:58:51.143292Z",
     "iopub.status.idle": "2022-01-13T00:58:51.162182Z",
     "shell.execute_reply": "2022-01-13T00:58:51.161721Z"
    }
   },
   "outputs": [
    {
     "data": {
      "text/html": [
       "<h4>Data Duplicates</h4>"
      ]
     },
     "metadata": {},
     "output_type": "display_data"
    },
    {
     "data": {
      "text/html": [
       "<p>Search for duplicate data in dataset.</p>"
      ]
     },
     "metadata": {},
     "output_type": "display_data"
    },
    {
     "data": {
      "text/html": [
       "40.00% of data samples are duplicates"
      ]
     },
     "metadata": {},
     "output_type": "display_data"
    },
    {
     "data": {
      "text/html": [
       "Each row in the table shows an example of duplicate data and the number of times it appears."
      ]
     },
     "metadata": {},
     "output_type": "display_data"
    },
    {
     "data": {
      "text/html": [
       "<style type=\"text/css\">\n",
       "#T_3483c_ table {\n",
       "  text-align: left;\n",
       "}\n",
       "#T_3483c_ thead {\n",
       "  text-align: left;\n",
       "}\n",
       "#T_3483c_ tbody {\n",
       "  text-align: left;\n",
       "}\n",
       "#T_3483c_ th {\n",
       "  text-align: left;\n",
       "}\n",
       "#T_3483c_ td {\n",
       "  text-align: left;\n",
       "}\n",
       "#T_3483c_row0_col0, #T_3483c_row0_col1, #T_3483c_row0_col2, #T_3483c_row1_col0, #T_3483c_row1_col1, #T_3483c_row1_col2, #T_3483c_row2_col0, #T_3483c_row2_col1, #T_3483c_row2_col2 {\n",
       "  white-space: pre-wrap;\n",
       "}\n",
       "</style>\n",
       "<table id=\"T_3483c_\">\n",
       "  <thead>\n",
       "    <tr>\n",
       "      <th class=\"blank\" >&nbsp;</th>\n",
       "      <th class=\"blank level0\" >&nbsp;</th>\n",
       "      <th class=\"col_heading level0 col0\" >col1</th>\n",
       "      <th class=\"col_heading level0 col1\" >col2</th>\n",
       "      <th class=\"col_heading level0 col2\" >col3</th>\n",
       "    </tr>\n",
       "    <tr>\n",
       "      <th class=\"index_name level0\" >Instances</th>\n",
       "      <th class=\"index_name level1\" >Number of Duplicates</th>\n",
       "      <th class=\"blank col0\" >&nbsp;</th>\n",
       "      <th class=\"blank col1\" >&nbsp;</th>\n",
       "      <th class=\"blank col2\" >&nbsp;</th>\n",
       "    </tr>\n",
       "  </thead>\n",
       "  <tbody>\n",
       "    <tr>\n",
       "      <th id=\"T_3483c_level0_row0\" class=\"row_heading level0 row0\" >2, 4, 6</th>\n",
       "      <th id=\"T_3483c_level1_row0\" class=\"row_heading level1 row0\" >3</th>\n",
       "      <td id=\"T_3483c_row0_col0\" class=\"data row0 col0\" >1</td>\n",
       "      <td id=\"T_3483c_row0_col1\" class=\"data row0 col1\" >1</td>\n",
       "      <td id=\"T_3483c_row0_col2\" class=\"data row0 col2\" >4</td>\n",
       "    </tr>\n",
       "    <tr>\n",
       "      <th id=\"T_3483c_level0_row1\" class=\"row_heading level0 row1\" >1, 5</th>\n",
       "      <th id=\"T_3483c_level1_row1\" class=\"row_heading level1 row1\" >2</th>\n",
       "      <td id=\"T_3483c_row1_col0\" class=\"data row1 col0\" >2</td>\n",
       "      <td id=\"T_3483c_row1_col1\" class=\"data row1 col1\" >2</td>\n",
       "      <td id=\"T_3483c_row1_col2\" class=\"data row1 col2\" >3</td>\n",
       "    </tr>\n",
       "    <tr>\n",
       "      <th id=\"T_3483c_level0_row2\" class=\"row_heading level0 row2\" >3, 9</th>\n",
       "      <th id=\"T_3483c_level1_row2\" class=\"row_heading level1 row2\" >2</th>\n",
       "      <td id=\"T_3483c_row2_col0\" class=\"data row2 col0\" >2</td>\n",
       "      <td id=\"T_3483c_row2_col1\" class=\"data row2 col1\" >2</td>\n",
       "      <td id=\"T_3483c_row2_col2\" class=\"data row2 col2\" >4</td>\n",
       "    </tr>\n",
       "  </tbody>\n",
       "</table>\n"
      ]
     },
     "metadata": {},
     "output_type": "display_data"
    }
   ],
   "source": [
    "DataDuplicates().run(ds)"
   ]
  },
  {
   "cell_type": "code",
   "execution_count": 4,
   "id": "8acc767a",
   "metadata": {
    "execution": {
     "iopub.execute_input": "2022-01-13T00:58:51.171185Z",
     "iopub.status.busy": "2022-01-13T00:58:51.167983Z",
     "iopub.status.idle": "2022-01-13T00:58:51.195190Z",
     "shell.execute_reply": "2022-01-13T00:58:51.194722Z"
    }
   },
   "outputs": [
    {
     "data": {
      "text/html": [
       "<h4>Data Duplicates</h4>"
      ]
     },
     "metadata": {},
     "output_type": "display_data"
    },
    {
     "data": {
      "text/html": [
       "<p>Search for duplicate data in dataset.</p>"
      ]
     },
     "metadata": {},
     "output_type": "display_data"
    },
    {
     "data": {
      "text/html": [
       "40.00% of data samples are duplicates"
      ]
     },
     "metadata": {},
     "output_type": "display_data"
    },
    {
     "data": {
      "text/html": [
       "Each row in the table shows an example of duplicate data and the number of times it appears."
      ]
     },
     "metadata": {},
     "output_type": "display_data"
    },
    {
     "data": {
      "text/html": [
       "<style type=\"text/css\">\n",
       "#T_0c434_ table {\n",
       "  text-align: left;\n",
       "}\n",
       "#T_0c434_ thead {\n",
       "  text-align: left;\n",
       "}\n",
       "#T_0c434_ tbody {\n",
       "  text-align: left;\n",
       "}\n",
       "#T_0c434_ th {\n",
       "  text-align: left;\n",
       "}\n",
       "#T_0c434_ td {\n",
       "  text-align: left;\n",
       "}\n",
       "#T_0c434_row0_col0, #T_0c434_row0_col1, #T_0c434_row0_col2, #T_0c434_row1_col0, #T_0c434_row1_col1, #T_0c434_row1_col2 {\n",
       "  white-space: pre-wrap;\n",
       "}\n",
       "</style>\n",
       "<table id=\"T_0c434_\">\n",
       "  <thead>\n",
       "    <tr>\n",
       "      <th class=\"blank\" >&nbsp;</th>\n",
       "      <th class=\"blank level0\" >&nbsp;</th>\n",
       "      <th class=\"col_heading level0 col0\" >col1</th>\n",
       "      <th class=\"col_heading level0 col1\" >col2</th>\n",
       "      <th class=\"col_heading level0 col2\" >col3</th>\n",
       "    </tr>\n",
       "    <tr>\n",
       "      <th class=\"index_name level0\" >Instances</th>\n",
       "      <th class=\"index_name level1\" >Number of Duplicates</th>\n",
       "      <th class=\"blank col0\" >&nbsp;</th>\n",
       "      <th class=\"blank col1\" >&nbsp;</th>\n",
       "      <th class=\"blank col2\" >&nbsp;</th>\n",
       "    </tr>\n",
       "  </thead>\n",
       "  <tbody>\n",
       "    <tr>\n",
       "      <th id=\"T_0c434_level0_row0\" class=\"row_heading level0 row0\" >2, 4, 6</th>\n",
       "      <th id=\"T_0c434_level1_row0\" class=\"row_heading level1 row0\" >3</th>\n",
       "      <td id=\"T_0c434_row0_col0\" class=\"data row0 col0\" >1</td>\n",
       "      <td id=\"T_0c434_row0_col1\" class=\"data row0 col1\" >1</td>\n",
       "      <td id=\"T_0c434_row0_col2\" class=\"data row0 col2\" >4</td>\n",
       "    </tr>\n",
       "    <tr>\n",
       "      <th id=\"T_0c434_level0_row1\" class=\"row_heading level0 row1\" >1, 5</th>\n",
       "      <th id=\"T_0c434_level1_row1\" class=\"row_heading level1 row1\" >2</th>\n",
       "      <td id=\"T_0c434_row1_col0\" class=\"data row1 col0\" >2</td>\n",
       "      <td id=\"T_0c434_row1_col1\" class=\"data row1 col1\" >2</td>\n",
       "      <td id=\"T_0c434_row1_col2\" class=\"data row1 col2\" >3</td>\n",
       "    </tr>\n",
       "  </tbody>\n",
       "</table>\n"
      ]
     },
     "metadata": {},
     "output_type": "display_data"
    }
   ],
   "source": [
    "DataDuplicates(n_to_show=2).run(ds)"
   ]
  },
  {
   "cell_type": "code",
   "execution_count": 5,
   "id": "4ac8525f",
   "metadata": {
    "execution": {
     "iopub.execute_input": "2022-01-13T00:58:51.208431Z",
     "iopub.status.busy": "2022-01-13T00:58:51.201583Z",
     "iopub.status.idle": "2022-01-13T00:58:51.222742Z",
     "shell.execute_reply": "2022-01-13T00:58:51.222199Z"
    }
   },
   "outputs": [
    {
     "data": {
      "text/html": [
       "<h4>Data Duplicates</h4>"
      ]
     },
     "metadata": {},
     "output_type": "display_data"
    },
    {
     "data": {
      "text/html": [
       "<p>Search for duplicate data in dataset.</p>"
      ]
     },
     "metadata": {},
     "output_type": "display_data"
    },
    {
     "data": {
      "text/html": [
       "80.00% of data samples are duplicates"
      ]
     },
     "metadata": {},
     "output_type": "display_data"
    },
    {
     "data": {
      "text/html": [
       "Each row in the table shows an example of duplicate data and the number of times it appears."
      ]
     },
     "metadata": {},
     "output_type": "display_data"
    },
    {
     "data": {
      "text/html": [
       "<style type=\"text/css\">\n",
       "#T_0fdc0_ table {\n",
       "  text-align: left;\n",
       "}\n",
       "#T_0fdc0_ thead {\n",
       "  text-align: left;\n",
       "}\n",
       "#T_0fdc0_ tbody {\n",
       "  text-align: left;\n",
       "}\n",
       "#T_0fdc0_ th {\n",
       "  text-align: left;\n",
       "}\n",
       "#T_0fdc0_ td {\n",
       "  text-align: left;\n",
       "}\n",
       "#T_0fdc0_row0_col0, #T_0fdc0_row1_col0 {\n",
       "  white-space: pre-wrap;\n",
       "}\n",
       "</style>\n",
       "<table id=\"T_0fdc0_\">\n",
       "  <thead>\n",
       "    <tr>\n",
       "      <th class=\"blank\" >&nbsp;</th>\n",
       "      <th class=\"blank level0\" >&nbsp;</th>\n",
       "      <th class=\"col_heading level0 col0\" >col1</th>\n",
       "    </tr>\n",
       "    <tr>\n",
       "      <th class=\"index_name level0\" >Instances</th>\n",
       "      <th class=\"index_name level1\" >Number of Duplicates</th>\n",
       "      <th class=\"blank col0\" >&nbsp;</th>\n",
       "    </tr>\n",
       "  </thead>\n",
       "  <tbody>\n",
       "    <tr>\n",
       "      <th id=\"T_0fdc0_level0_row0\" class=\"row_heading level0 row0\" >0, 2, 4, 6, 8</th>\n",
       "      <th id=\"T_0fdc0_level1_row0\" class=\"row_heading level1 row0\" >5</th>\n",
       "      <td id=\"T_0fdc0_row0_col0\" class=\"data row0 col0\" >1</td>\n",
       "    </tr>\n",
       "    <tr>\n",
       "      <th id=\"T_0fdc0_level0_row1\" class=\"row_heading level0 row1\" >1, 3, 5, 7, 9</th>\n",
       "      <th id=\"T_0fdc0_level1_row1\" class=\"row_heading level1 row1\" >5</th>\n",
       "      <td id=\"T_0fdc0_row1_col0\" class=\"data row1 col0\" >2</td>\n",
       "    </tr>\n",
       "  </tbody>\n",
       "</table>\n"
      ]
     },
     "metadata": {},
     "output_type": "display_data"
    }
   ],
   "source": [
    "DataDuplicates(columns=[\"col1\"]).run(ds)"
   ]
  },
  {
   "cell_type": "code",
   "execution_count": 6,
   "id": "dcb2f344",
   "metadata": {
    "execution": {
     "iopub.execute_input": "2022-01-13T00:58:51.237676Z",
     "iopub.status.busy": "2022-01-13T00:58:51.237106Z",
     "iopub.status.idle": "2022-01-13T00:58:51.252933Z",
     "shell.execute_reply": "2022-01-13T00:58:51.252421Z"
    }
   },
   "outputs": [
    {
     "data": {
      "text/html": [
       "<h4>Data Duplicates</h4>"
      ]
     },
     "metadata": {},
     "output_type": "display_data"
    },
    {
     "data": {
      "text/html": [
       "<p>Search for duplicate data in dataset.</p>"
      ]
     },
     "metadata": {},
     "output_type": "display_data"
    },
    {
     "data": {
      "text/html": [
       "80.00% of data samples are duplicates"
      ]
     },
     "metadata": {},
     "output_type": "display_data"
    },
    {
     "data": {
      "text/html": [
       "Each row in the table shows an example of duplicate data and the number of times it appears."
      ]
     },
     "metadata": {},
     "output_type": "display_data"
    },
    {
     "data": {
      "text/html": [
       "<style type=\"text/css\">\n",
       "#T_7b4a9_ table {\n",
       "  text-align: left;\n",
       "}\n",
       "#T_7b4a9_ thead {\n",
       "  text-align: left;\n",
       "}\n",
       "#T_7b4a9_ tbody {\n",
       "  text-align: left;\n",
       "}\n",
       "#T_7b4a9_ th {\n",
       "  text-align: left;\n",
       "}\n",
       "#T_7b4a9_ td {\n",
       "  text-align: left;\n",
       "}\n",
       "#T_7b4a9_row0_col0, #T_7b4a9_row0_col1, #T_7b4a9_row1_col0, #T_7b4a9_row1_col1 {\n",
       "  white-space: pre-wrap;\n",
       "}\n",
       "</style>\n",
       "<table id=\"T_7b4a9_\">\n",
       "  <thead>\n",
       "    <tr>\n",
       "      <th class=\"blank\" >&nbsp;</th>\n",
       "      <th class=\"blank level0\" >&nbsp;</th>\n",
       "      <th class=\"col_heading level0 col0\" >col1</th>\n",
       "      <th class=\"col_heading level0 col1\" >col2</th>\n",
       "    </tr>\n",
       "    <tr>\n",
       "      <th class=\"index_name level0\" >Instances</th>\n",
       "      <th class=\"index_name level1\" >Number of Duplicates</th>\n",
       "      <th class=\"blank col0\" >&nbsp;</th>\n",
       "      <th class=\"blank col1\" >&nbsp;</th>\n",
       "    </tr>\n",
       "  </thead>\n",
       "  <tbody>\n",
       "    <tr>\n",
       "      <th id=\"T_7b4a9_level0_row0\" class=\"row_heading level0 row0\" >0, 2, 4, 6, 8</th>\n",
       "      <th id=\"T_7b4a9_level1_row0\" class=\"row_heading level1 row0\" >5</th>\n",
       "      <td id=\"T_7b4a9_row0_col0\" class=\"data row0 col0\" >1</td>\n",
       "      <td id=\"T_7b4a9_row0_col1\" class=\"data row0 col1\" >1</td>\n",
       "    </tr>\n",
       "    <tr>\n",
       "      <th id=\"T_7b4a9_level0_row1\" class=\"row_heading level0 row1\" >1, 3, 5, 7, 9</th>\n",
       "      <th id=\"T_7b4a9_level1_row1\" class=\"row_heading level1 row1\" >5</th>\n",
       "      <td id=\"T_7b4a9_row1_col0\" class=\"data row1 col0\" >2</td>\n",
       "      <td id=\"T_7b4a9_row1_col1\" class=\"data row1 col1\" >2</td>\n",
       "    </tr>\n",
       "  </tbody>\n",
       "</table>\n"
      ]
     },
     "metadata": {},
     "output_type": "display_data"
    }
   ],
   "source": [
    "DataDuplicates(ignore_columns=[\"col3\"]).run(ds)"
   ]
  },
  {
   "cell_type": "code",
   "execution_count": 7,
   "id": "56284ded",
   "metadata": {
    "execution": {
     "iopub.execute_input": "2022-01-13T00:58:51.259324Z",
     "iopub.status.busy": "2022-01-13T00:58:51.258121Z",
     "iopub.status.idle": "2022-01-13T00:58:51.259937Z",
     "shell.execute_reply": "2022-01-13T00:58:51.260375Z"
    }
   },
   "outputs": [],
   "source": [
    "ds_no_dups = ds = pd.DataFrame({\"col1\":[1,2,1,2,1,2,1,2,1,2], \"col2\":[1,2,1,2,1,2,1,2,1,2], \"col3\":[1,2,3,4,5,6,7,8,9,0]})"
   ]
  },
  {
   "cell_type": "code",
   "execution_count": 8,
   "id": "bca536fd",
   "metadata": {
    "execution": {
     "iopub.execute_input": "2022-01-13T00:58:51.265861Z",
     "iopub.status.busy": "2022-01-13T00:58:51.262459Z",
     "iopub.status.idle": "2022-01-13T00:58:51.272288Z",
     "shell.execute_reply": "2022-01-13T00:58:51.271810Z"
    }
   },
   "outputs": [
    {
     "data": {
      "text/html": [
       "<h4>Data Duplicates</h4>"
      ]
     },
     "metadata": {},
     "output_type": "display_data"
    },
    {
     "data": {
      "text/html": [
       "<p>Search for duplicate data in dataset.</p>"
      ]
     },
     "metadata": {},
     "output_type": "display_data"
    },
    {
     "data": {
      "text/html": [
       "<p><b>&#x2713;</b> Nothing found</p>"
      ]
     },
     "metadata": {},
     "output_type": "display_data"
    }
   ],
   "source": [
    "DataDuplicates().run(ds_no_dups)"
   ]
  },
  {
   "cell_type": "code",
   "execution_count": 9,
   "id": "7716ca9d",
   "metadata": {
    "execution": {
     "iopub.execute_input": "2022-01-13T00:58:51.279951Z",
     "iopub.status.busy": "2022-01-13T00:58:51.278120Z",
     "iopub.status.idle": "2022-01-13T00:58:51.297395Z",
     "shell.execute_reply": "2022-01-13T00:58:51.297835Z"
    }
   },
   "outputs": [
    {
     "data": {
      "text/html": [
       "<h4>Data Duplicates</h4>"
      ]
     },
     "metadata": {},
     "output_type": "display_data"
    },
    {
     "data": {
      "text/html": [
       "<p>Search for duplicate data in dataset.</p>"
      ]
     },
     "metadata": {},
     "output_type": "display_data"
    },
    {
     "data": {
      "text/html": [
       "80.00% of data samples are duplicates"
      ]
     },
     "metadata": {},
     "output_type": "display_data"
    },
    {
     "data": {
      "text/html": [
       "Each row in the table shows an example of duplicate data and the number of times it appears."
      ]
     },
     "metadata": {},
     "output_type": "display_data"
    },
    {
     "data": {
      "text/html": [
       "<style type=\"text/css\">\n",
       "#T_7f2ea_ table {\n",
       "  text-align: left;\n",
       "}\n",
       "#T_7f2ea_ thead {\n",
       "  text-align: left;\n",
       "}\n",
       "#T_7f2ea_ tbody {\n",
       "  text-align: left;\n",
       "}\n",
       "#T_7f2ea_ th {\n",
       "  text-align: left;\n",
       "}\n",
       "#T_7f2ea_ td {\n",
       "  text-align: left;\n",
       "}\n",
       "#T_7f2ea_row0_col0, #T_7f2ea_row0_col1, #T_7f2ea_row1_col0, #T_7f2ea_row1_col1 {\n",
       "  white-space: pre-wrap;\n",
       "}\n",
       "</style>\n",
       "<table id=\"T_7f2ea_\">\n",
       "  <thead>\n",
       "    <tr>\n",
       "      <th class=\"blank\" >&nbsp;</th>\n",
       "      <th class=\"blank level0\" >&nbsp;</th>\n",
       "      <th class=\"col_heading level0 col0\" >col1</th>\n",
       "      <th class=\"col_heading level0 col1\" >col2</th>\n",
       "    </tr>\n",
       "    <tr>\n",
       "      <th class=\"index_name level0\" >Instances</th>\n",
       "      <th class=\"index_name level1\" >Number of Duplicates</th>\n",
       "      <th class=\"blank col0\" >&nbsp;</th>\n",
       "      <th class=\"blank col1\" >&nbsp;</th>\n",
       "    </tr>\n",
       "  </thead>\n",
       "  <tbody>\n",
       "    <tr>\n",
       "      <th id=\"T_7f2ea_level0_row0\" class=\"row_heading level0 row0\" >0, 2, 4, 6, 8</th>\n",
       "      <th id=\"T_7f2ea_level1_row0\" class=\"row_heading level1 row0\" >5</th>\n",
       "      <td id=\"T_7f2ea_row0_col0\" class=\"data row0 col0\" >1</td>\n",
       "      <td id=\"T_7f2ea_row0_col1\" class=\"data row0 col1\" >1</td>\n",
       "    </tr>\n",
       "    <tr>\n",
       "      <th id=\"T_7f2ea_level0_row1\" class=\"row_heading level0 row1\" >1, 3, 5, 7, 9</th>\n",
       "      <th id=\"T_7f2ea_level1_row1\" class=\"row_heading level1 row1\" >5</th>\n",
       "      <td id=\"T_7f2ea_row1_col0\" class=\"data row1 col0\" >2</td>\n",
       "      <td id=\"T_7f2ea_row1_col1\" class=\"data row1 col1\" >2</td>\n",
       "    </tr>\n",
       "  </tbody>\n",
       "</table>\n"
      ]
     },
     "metadata": {},
     "output_type": "display_data"
    }
   ],
   "source": [
    "DataDuplicates(ignore_columns=[\"col3\"]).run(ds_no_dups)"
   ]
  }
 ],
 "metadata": {
  "kernelspec": {
   "display_name": "Python 3 (ipykernel)",
   "language": "python",
   "name": "python3"
  },
  "language_info": {
   "codemirror_mode": {
    "name": "ipython",
    "version": 3
   },
   "file_extension": ".py",
   "mimetype": "text/x-python",
   "name": "python",
   "nbconvert_exporter": "python",
   "pygments_lexer": "ipython3",
   "version": "3.9.9"
  }
 },
 "nbformat": 4,
 "nbformat_minor": 5
}
