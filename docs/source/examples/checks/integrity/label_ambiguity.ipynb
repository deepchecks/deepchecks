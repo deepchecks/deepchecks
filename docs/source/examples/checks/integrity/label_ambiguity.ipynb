{
 "cells": [
  {
   "cell_type": "markdown",
   "id": "e0b027e7",
   "metadata": {},
   "source": [
    "# Label Ambiguity "
   ]
  },
  {
   "cell_type": "code",
   "execution_count": 1,
   "id": "9ff805f0",
   "metadata": {
    "execution": {
     "iopub.execute_input": "2022-01-19T14:56:33.170379Z",
     "iopub.status.busy": "2022-01-19T14:56:33.169629Z",
     "iopub.status.idle": "2022-01-19T14:56:34.987970Z",
     "shell.execute_reply": "2022-01-19T14:56:34.987364Z"
    }
   },
   "outputs": [],
   "source": [
    "from deepchecks.checks.integrity import LabelAmbiguity\n",
    "from deepchecks.base import Dataset\n",
    "import pandas as pd"
   ]
  },
  {
   "cell_type": "code",
   "execution_count": 2,
   "id": "4cb1f4da",
   "metadata": {
    "execution": {
     "iopub.execute_input": "2022-01-19T14:56:34.995985Z",
     "iopub.status.busy": "2022-01-19T14:56:34.992995Z",
     "iopub.status.idle": "2022-01-19T14:56:34.998542Z",
     "shell.execute_reply": "2022-01-19T14:56:34.998974Z"
    }
   },
   "outputs": [],
   "source": [
    "dataset = Dataset(pd.DataFrame({\"col1\":[1,2,1,2,1,2,1,2,1,2],\n",
    "                                \"col2\":[1,2,1,2,5,2,5,2,3,2],\n",
    "                                \"my_label\":[2,3,4,4,4,3,4,5,6,4]}),\n",
    "                  label=\"my_label\",\n",
    "                  label_type=\"classification_label\")\n"
   ]
  },
  {
   "cell_type": "code",
   "execution_count": 3,
   "id": "f5d3c08a",
   "metadata": {
    "execution": {
     "iopub.execute_input": "2022-01-19T14:56:35.020787Z",
     "iopub.status.busy": "2022-01-19T14:56:35.020042Z",
     "iopub.status.idle": "2022-01-19T14:56:35.027022Z",
     "shell.execute_reply": "2022-01-19T14:56:35.026131Z"
    }
   },
   "outputs": [
    {
     "data": {
      "text/html": [
       "<h4>Label Ambiguity</h4><p>Find samples with multiple labels.</p><h5>Additional Outputs</h5><div>Each row in the table shows an example of a data sample and the its observed labels as found in the dataset.</div><style type=\"text/css\">\n",
       "#T_db908_ table {\n",
       "  text-align: left;\n",
       "  white-space: pre-wrap;\n",
       "}\n",
       "#T_db908_ thead {\n",
       "  text-align: left;\n",
       "  white-space: pre-wrap;\n",
       "}\n",
       "#T_db908_ tbody {\n",
       "  text-align: left;\n",
       "  white-space: pre-wrap;\n",
       "}\n",
       "#T_db908_ th {\n",
       "  text-align: left;\n",
       "  white-space: pre-wrap;\n",
       "}\n",
       "#T_db908_ td {\n",
       "  text-align: left;\n",
       "  white-space: pre-wrap;\n",
       "}\n",
       "</style>\n",
       "<table id=\"T_db908_\">\n",
       "  <thead>\n",
       "    <tr>\n",
       "      <th class=\"blank level0\" >&nbsp;</th>\n",
       "      <th class=\"col_heading level0 col0\" >col1</th>\n",
       "      <th class=\"col_heading level0 col1\" >col2</th>\n",
       "    </tr>\n",
       "    <tr>\n",
       "      <th class=\"index_name level0\" >Observed Labels</th>\n",
       "      <th class=\"blank col0\" >&nbsp;</th>\n",
       "      <th class=\"blank col1\" >&nbsp;</th>\n",
       "    </tr>\n",
       "  </thead>\n",
       "  <tbody>\n",
       "    <tr>\n",
       "      <th id=\"T_db908_level0_row0\" class=\"row_heading level0 row0\" >(3, 4, 5)</th>\n",
       "      <td id=\"T_db908_row0_col0\" class=\"data row0 col0\" >2</td>\n",
       "      <td id=\"T_db908_row0_col1\" class=\"data row0 col1\" >2</td>\n",
       "    </tr>\n",
       "    <tr>\n",
       "      <th id=\"T_db908_level0_row1\" class=\"row_heading level0 row1\" >(2, 4)</th>\n",
       "      <td id=\"T_db908_row1_col0\" class=\"data row1 col0\" >1</td>\n",
       "      <td id=\"T_db908_row1_col1\" class=\"data row1 col1\" >1</td>\n",
       "    </tr>\n",
       "  </tbody>\n",
       "</table>\n"
      ]
     },
     "metadata": {},
     "output_type": "display_data"
    }
   ],
   "source": [
    "LabelAmbiguity().run(dataset)"
   ]
  },
  {
   "cell_type": "code",
   "execution_count": 4,
   "id": "b01ae6c9",
   "metadata": {
    "execution": {
     "iopub.execute_input": "2022-01-19T14:56:35.045236Z",
     "iopub.status.busy": "2022-01-19T14:56:35.044654Z",
     "iopub.status.idle": "2022-01-19T14:56:35.047948Z",
     "shell.execute_reply": "2022-01-19T14:56:35.048458Z"
    }
   },
   "outputs": [
    {
     "data": {
      "text/html": [
       "<h4>Label Ambiguity</h4><p>Find samples with multiple labels.</p><h5>Additional Outputs</h5><div>Each row in the table shows an example of a data sample and the its observed labels as found in the dataset.</div><style type=\"text/css\">\n",
       "#T_5fbcc_ table {\n",
       "  text-align: left;\n",
       "  white-space: pre-wrap;\n",
       "}\n",
       "#T_5fbcc_ thead {\n",
       "  text-align: left;\n",
       "  white-space: pre-wrap;\n",
       "}\n",
       "#T_5fbcc_ tbody {\n",
       "  text-align: left;\n",
       "  white-space: pre-wrap;\n",
       "}\n",
       "#T_5fbcc_ th {\n",
       "  text-align: left;\n",
       "  white-space: pre-wrap;\n",
       "}\n",
       "#T_5fbcc_ td {\n",
       "  text-align: left;\n",
       "  white-space: pre-wrap;\n",
       "}\n",
       "</style>\n",
       "<table id=\"T_5fbcc_\">\n",
       "  <thead>\n",
       "    <tr>\n",
       "      <th class=\"blank level0\" >&nbsp;</th>\n",
       "      <th class=\"col_heading level0 col0\" >col1</th>\n",
       "      <th class=\"col_heading level0 col1\" >col2</th>\n",
       "    </tr>\n",
       "    <tr>\n",
       "      <th class=\"index_name level0\" >Observed Labels</th>\n",
       "      <th class=\"blank col0\" >&nbsp;</th>\n",
       "      <th class=\"blank col1\" >&nbsp;</th>\n",
       "    </tr>\n",
       "  </thead>\n",
       "  <tbody>\n",
       "    <tr>\n",
       "      <th id=\"T_5fbcc_level0_row0\" class=\"row_heading level0 row0\" >(3, 4, 5)</th>\n",
       "      <td id=\"T_5fbcc_row0_col0\" class=\"data row0 col0\" >2</td>\n",
       "      <td id=\"T_5fbcc_row0_col1\" class=\"data row0 col1\" >2</td>\n",
       "    </tr>\n",
       "  </tbody>\n",
       "</table>\n"
      ]
     },
     "metadata": {},
     "output_type": "display_data"
    }
   ],
   "source": [
    "LabelAmbiguity(n_to_show=1).run(dataset)"
   ]
  },
  {
   "cell_type": "code",
   "execution_count": 5,
   "id": "7b794ad8",
   "metadata": {
    "execution": {
     "iopub.execute_input": "2022-01-19T14:56:35.065439Z",
     "iopub.status.busy": "2022-01-19T14:56:35.062472Z",
     "iopub.status.idle": "2022-01-19T14:56:35.072452Z",
     "shell.execute_reply": "2022-01-19T14:56:35.073566Z"
    }
   },
   "outputs": [
    {
     "data": {
      "text/html": [
       "<h4>Label Ambiguity</h4><p>Find samples with multiple labels.</p><h5>Additional Outputs</h5><div>Each row in the table shows an example of a data sample and the its observed labels as found in the dataset.</div><style type=\"text/css\">\n",
       "#T_34332_ table {\n",
       "  text-align: left;\n",
       "  white-space: pre-wrap;\n",
       "}\n",
       "#T_34332_ thead {\n",
       "  text-align: left;\n",
       "  white-space: pre-wrap;\n",
       "}\n",
       "#T_34332_ tbody {\n",
       "  text-align: left;\n",
       "  white-space: pre-wrap;\n",
       "}\n",
       "#T_34332_ th {\n",
       "  text-align: left;\n",
       "  white-space: pre-wrap;\n",
       "}\n",
       "#T_34332_ td {\n",
       "  text-align: left;\n",
       "  white-space: pre-wrap;\n",
       "}\n",
       "</style>\n",
       "<table id=\"T_34332_\">\n",
       "  <thead>\n",
       "    <tr>\n",
       "      <th class=\"blank level0\" >&nbsp;</th>\n",
       "      <th class=\"col_heading level0 col0\" >col1</th>\n",
       "    </tr>\n",
       "    <tr>\n",
       "      <th class=\"index_name level0\" >Observed Labels</th>\n",
       "      <th class=\"blank col0\" >&nbsp;</th>\n",
       "    </tr>\n",
       "  </thead>\n",
       "  <tbody>\n",
       "    <tr>\n",
       "      <th id=\"T_34332_level0_row0\" class=\"row_heading level0 row0\" >(2, 4, 6)</th>\n",
       "      <td id=\"T_34332_row0_col0\" class=\"data row0 col0\" >1</td>\n",
       "    </tr>\n",
       "    <tr>\n",
       "      <th id=\"T_34332_level0_row1\" class=\"row_heading level0 row1\" >(3, 4, 5)</th>\n",
       "      <td id=\"T_34332_row1_col0\" class=\"data row1 col0\" >2</td>\n",
       "    </tr>\n",
       "  </tbody>\n",
       "</table>\n"
      ]
     },
     "metadata": {},
     "output_type": "display_data"
    }
   ],
   "source": [
    "LabelAmbiguity(columns=['col1', 'my_label']).run(dataset)"
   ]
  },
  {
   "cell_type": "code",
   "execution_count": 6,
   "id": "fb372269",
   "metadata": {
    "execution": {
     "iopub.execute_input": "2022-01-19T14:56:35.081106Z",
     "iopub.status.busy": "2022-01-19T14:56:35.080571Z",
     "iopub.status.idle": "2022-01-19T14:56:35.084133Z",
     "shell.execute_reply": "2022-01-19T14:56:35.083545Z"
    }
   },
   "outputs": [],
   "source": [
    "clean_dataset = Dataset(pd.DataFrame({\"col1\":[1,2,1,2,1,2,1,2,1,2],\n",
    "                                      \"col2\":[1,2,1,2,5,2,5,2,3,2],\n",
    "                                      \"my_label\":[2,3,2,3,4,3,4,3,6,3]}),\n",
    "                        label=\"my_label\",\n",
    "                        label_type=\"classification_label\")\n"
   ]
  },
  {
   "cell_type": "code",
   "execution_count": 7,
   "id": "aa5f06ee",
   "metadata": {
    "execution": {
     "iopub.execute_input": "2022-01-19T14:56:35.093505Z",
     "iopub.status.busy": "2022-01-19T14:56:35.092753Z",
     "iopub.status.idle": "2022-01-19T14:56:35.098973Z",
     "shell.execute_reply": "2022-01-19T14:56:35.098506Z"
    },
    "tags": []
   },
   "outputs": [
    {
     "data": {
      "text/html": [
       "<h4>Label Ambiguity</h4><p>Find samples with multiple labels.</p><h5>Additional Outputs</h5><p><b>&#x2713;</b> Nothing found</p>"
      ]
     },
     "metadata": {},
     "output_type": "display_data"
    }
   ],
   "source": [
    "LabelAmbiguity().run(clean_dataset)"
   ]
  }
 ],
 "metadata": {
  "kernelspec": {
   "display_name": "Python 3 (ipykernel)",
   "language": "python",
   "name": "python3"
  },
  "language_info": {
   "codemirror_mode": {
    "name": "ipython",
    "version": 3
   },
   "file_extension": ".py",
   "mimetype": "text/x-python",
   "name": "python",
   "nbconvert_exporter": "python",
   "pygments_lexer": "ipython3",
   "version": "3.9.9"
  }
 },
 "nbformat": 4,
 "nbformat_minor": 5
}
