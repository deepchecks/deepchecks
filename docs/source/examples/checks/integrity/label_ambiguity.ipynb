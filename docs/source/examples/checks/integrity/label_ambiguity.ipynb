{
 "cells": [
  {
   "cell_type": "markdown",
   "id": "e0b027e7",
   "metadata": {},
   "source": [
    "# Label Ambiguity "
   ]
  },
  {
   "cell_type": "code",
   "execution_count": 1,
   "id": "9ff805f0",
   "metadata": {
    "execution": {
     "iopub.execute_input": "2022-01-11T00:58:19.175866Z",
     "iopub.status.busy": "2022-01-11T00:58:19.174712Z",
     "iopub.status.idle": "2022-01-11T00:58:21.250648Z",
     "shell.execute_reply": "2022-01-11T00:58:21.249961Z"
    }
   },
   "outputs": [],
   "source": [
    "from deepchecks.checks.integrity import LabelAmbiguity\n",
    "from deepchecks.base import Dataset\n",
    "import pandas as pd"
   ]
  },
  {
   "cell_type": "code",
   "execution_count": 2,
   "id": "4cb1f4da",
   "metadata": {
    "execution": {
     "iopub.execute_input": "2022-01-11T00:58:21.259871Z",
     "iopub.status.busy": "2022-01-11T00:58:21.259273Z",
     "iopub.status.idle": "2022-01-11T00:58:21.261807Z",
     "shell.execute_reply": "2022-01-11T00:58:21.261241Z"
    }
   },
   "outputs": [],
   "source": [
    "dataset = Dataset(pd.DataFrame({\"col1\":[1,2,1,2,1,2,1,2,1,2],\n",
    "                                \"col2\":[1,2,1,2,5,2,5,2,3,2],\n",
    "                                \"my_label\":[2,3,4,4,4,3,4,5,6,4]}),\n",
    "                  label=\"my_label\",\n",
    "                  label_type=\"classification_label\")\n"
   ]
  },
  {
   "cell_type": "code",
   "execution_count": 3,
   "id": "f5d3c08a",
   "metadata": {
    "execution": {
     "iopub.execute_input": "2022-01-11T00:58:21.283244Z",
     "iopub.status.busy": "2022-01-11T00:58:21.271185Z",
     "iopub.status.idle": "2022-01-11T00:58:21.292445Z",
     "shell.execute_reply": "2022-01-11T00:58:21.292886Z"
    }
   },
   "outputs": [
    {
     "data": {
      "text/html": [
       "<h4>Label Ambiguity</h4>"
      ]
     },
     "metadata": {},
     "output_type": "display_data"
    },
    {
     "data": {
      "text/html": [
       "<p>Find samples with multiple labels.</p>"
      ]
     },
     "metadata": {},
     "output_type": "display_data"
    },
    {
     "data": {
      "text/html": [
       "Each row in the table shows an example of a data sample and the it's observed labels as a found in the dataset."
      ]
     },
     "metadata": {},
     "output_type": "display_data"
    },
    {
     "data": {
      "text/html": [
       "<style type=\"text/css\">\n",
       "#T_d3ef4_ table {\n",
       "  text-align: left;\n",
       "}\n",
       "#T_d3ef4_ thead {\n",
       "  text-align: left;\n",
       "}\n",
       "#T_d3ef4_ tbody {\n",
       "  text-align: left;\n",
       "}\n",
       "#T_d3ef4_ th {\n",
       "  text-align: left;\n",
       "}\n",
       "#T_d3ef4_ td {\n",
       "  text-align: left;\n",
       "}\n",
       "</style>\n",
       "<table id=\"T_d3ef4_\">\n",
       "  <thead>\n",
       "    <tr>\n",
       "      <th class=\"blank level0\" >&nbsp;</th>\n",
       "      <th class=\"col_heading level0 col0\" >col1</th>\n",
       "      <th class=\"col_heading level0 col1\" >col2</th>\n",
       "    </tr>\n",
       "    <tr>\n",
       "      <th class=\"index_name level0\" >Observed Labels</th>\n",
       "      <th class=\"blank col0\" >&nbsp;</th>\n",
       "      <th class=\"blank col1\" >&nbsp;</th>\n",
       "    </tr>\n",
       "  </thead>\n",
       "  <tbody>\n",
       "    <tr>\n",
       "      <th id=\"T_d3ef4_level0_row0\" class=\"row_heading level0 row0\" >(3, 4, 5)</th>\n",
       "      <td id=\"T_d3ef4_row0_col0\" class=\"data row0 col0\" >2</td>\n",
       "      <td id=\"T_d3ef4_row0_col1\" class=\"data row0 col1\" >2</td>\n",
       "    </tr>\n",
       "    <tr>\n",
       "      <th id=\"T_d3ef4_level0_row1\" class=\"row_heading level0 row1\" >(2, 4)</th>\n",
       "      <td id=\"T_d3ef4_row1_col0\" class=\"data row1 col0\" >1</td>\n",
       "      <td id=\"T_d3ef4_row1_col1\" class=\"data row1 col1\" >1</td>\n",
       "    </tr>\n",
       "  </tbody>\n",
       "</table>\n"
      ]
     },
     "metadata": {},
     "output_type": "display_data"
    }
   ],
   "source": [
    "LabelAmbiguity().run(dataset)"
   ]
  },
  {
   "cell_type": "code",
   "execution_count": 4,
   "id": "b01ae6c9",
   "metadata": {
    "execution": {
     "iopub.execute_input": "2022-01-11T00:58:21.299642Z",
     "iopub.status.busy": "2022-01-11T00:58:21.299054Z",
     "iopub.status.idle": "2022-01-11T00:58:21.318615Z",
     "shell.execute_reply": "2022-01-11T00:58:21.319075Z"
    }
   },
   "outputs": [
    {
     "data": {
      "text/html": [
       "<h4>Label Ambiguity</h4>"
      ]
     },
     "metadata": {},
     "output_type": "display_data"
    },
    {
     "data": {
      "text/html": [
       "<p>Find samples with multiple labels.</p>"
      ]
     },
     "metadata": {},
     "output_type": "display_data"
    },
    {
     "data": {
      "text/html": [
       "Each row in the table shows an example of a data sample and the it's observed labels as a found in the dataset."
      ]
     },
     "metadata": {},
     "output_type": "display_data"
    },
    {
     "data": {
      "text/html": [
       "<style type=\"text/css\">\n",
       "#T_a9523_ table {\n",
       "  text-align: left;\n",
       "}\n",
       "#T_a9523_ thead {\n",
       "  text-align: left;\n",
       "}\n",
       "#T_a9523_ tbody {\n",
       "  text-align: left;\n",
       "}\n",
       "#T_a9523_ th {\n",
       "  text-align: left;\n",
       "}\n",
       "#T_a9523_ td {\n",
       "  text-align: left;\n",
       "}\n",
       "</style>\n",
       "<table id=\"T_a9523_\">\n",
       "  <thead>\n",
       "    <tr>\n",
       "      <th class=\"blank level0\" >&nbsp;</th>\n",
       "      <th class=\"col_heading level0 col0\" >col1</th>\n",
       "      <th class=\"col_heading level0 col1\" >col2</th>\n",
       "    </tr>\n",
       "    <tr>\n",
       "      <th class=\"index_name level0\" >Observed Labels</th>\n",
       "      <th class=\"blank col0\" >&nbsp;</th>\n",
       "      <th class=\"blank col1\" >&nbsp;</th>\n",
       "    </tr>\n",
       "  </thead>\n",
       "  <tbody>\n",
       "    <tr>\n",
       "      <th id=\"T_a9523_level0_row0\" class=\"row_heading level0 row0\" >(3, 4, 5)</th>\n",
       "      <td id=\"T_a9523_row0_col0\" class=\"data row0 col0\" >2</td>\n",
       "      <td id=\"T_a9523_row0_col1\" class=\"data row0 col1\" >2</td>\n",
       "    </tr>\n",
       "  </tbody>\n",
       "</table>\n"
      ]
     },
     "metadata": {},
     "output_type": "display_data"
    }
   ],
   "source": [
    "LabelAmbiguity(n_to_show=1).run(dataset)"
   ]
  },
  {
   "cell_type": "code",
   "execution_count": 5,
   "id": "7b794ad8",
   "metadata": {
    "execution": {
     "iopub.execute_input": "2022-01-11T00:58:21.338994Z",
     "iopub.status.busy": "2022-01-11T00:58:21.338195Z",
     "iopub.status.idle": "2022-01-11T00:58:21.346932Z",
     "shell.execute_reply": "2022-01-11T00:58:21.346207Z"
    }
   },
   "outputs": [
    {
     "data": {
      "text/html": [
       "<h4>Label Ambiguity</h4>"
      ]
     },
     "metadata": {},
     "output_type": "display_data"
    },
    {
     "data": {
      "text/html": [
       "<p>Find samples with multiple labels.</p>"
      ]
     },
     "metadata": {},
     "output_type": "display_data"
    },
    {
     "data": {
      "text/html": [
       "Each row in the table shows an example of a data sample and the it's observed labels as a found in the dataset."
      ]
     },
     "metadata": {},
     "output_type": "display_data"
    },
    {
     "data": {
      "text/html": [
       "<style type=\"text/css\">\n",
       "#T_f0102_ table {\n",
       "  text-align: left;\n",
       "}\n",
       "#T_f0102_ thead {\n",
       "  text-align: left;\n",
       "}\n",
       "#T_f0102_ tbody {\n",
       "  text-align: left;\n",
       "}\n",
       "#T_f0102_ th {\n",
       "  text-align: left;\n",
       "}\n",
       "#T_f0102_ td {\n",
       "  text-align: left;\n",
       "}\n",
       "</style>\n",
       "<table id=\"T_f0102_\">\n",
       "  <thead>\n",
       "    <tr>\n",
       "      <th class=\"blank level0\" >&nbsp;</th>\n",
       "      <th class=\"col_heading level0 col0\" >col1</th>\n",
       "    </tr>\n",
       "    <tr>\n",
       "      <th class=\"index_name level0\" >Observed Labels</th>\n",
       "      <th class=\"blank col0\" >&nbsp;</th>\n",
       "    </tr>\n",
       "  </thead>\n",
       "  <tbody>\n",
       "    <tr>\n",
       "      <th id=\"T_f0102_level0_row0\" class=\"row_heading level0 row0\" >(2, 4, 6)</th>\n",
       "      <td id=\"T_f0102_row0_col0\" class=\"data row0 col0\" >1</td>\n",
       "    </tr>\n",
       "    <tr>\n",
       "      <th id=\"T_f0102_level0_row1\" class=\"row_heading level0 row1\" >(3, 4, 5)</th>\n",
       "      <td id=\"T_f0102_row1_col0\" class=\"data row1 col0\" >2</td>\n",
       "    </tr>\n",
       "  </tbody>\n",
       "</table>\n"
      ]
     },
     "metadata": {},
     "output_type": "display_data"
    }
   ],
   "source": [
    "LabelAmbiguity(columns=['col1', 'my_label']).run(dataset)"
   ]
  },
  {
   "cell_type": "code",
   "execution_count": 6,
   "id": "fb372269",
   "metadata": {
    "execution": {
     "iopub.execute_input": "2022-01-11T00:58:21.355431Z",
     "iopub.status.busy": "2022-01-11T00:58:21.354797Z",
     "iopub.status.idle": "2022-01-11T00:58:21.357533Z",
     "shell.execute_reply": "2022-01-11T00:58:21.357012Z"
    }
   },
   "outputs": [],
   "source": [
    "clean_dataset = Dataset(pd.DataFrame({\"col1\":[1,2,1,2,1,2,1,2,1,2],\n",
    "                                      \"col2\":[1,2,1,2,5,2,5,2,3,2],\n",
    "                                      \"my_label\":[2,3,2,3,4,3,4,3,6,3]}),\n",
    "                        label=\"my_label\",\n",
    "                        label_type=\"classification_label\")\n"
   ]
  },
  {
   "cell_type": "code",
   "execution_count": 7,
   "id": "aa5f06ee",
   "metadata": {
    "execution": {
     "iopub.execute_input": "2022-01-11T00:58:21.371988Z",
     "iopub.status.busy": "2022-01-11T00:58:21.370284Z",
     "iopub.status.idle": "2022-01-11T00:58:21.376840Z",
     "shell.execute_reply": "2022-01-11T00:58:21.375184Z"
    }
   },
   "outputs": [
    {
     "data": {
      "text/html": [
       "<h4>Label Ambiguity</h4>"
      ]
     },
     "metadata": {},
     "output_type": "display_data"
    },
    {
     "data": {
      "text/html": [
       "<p>Find samples with multiple labels.</p>"
      ]
     },
     "metadata": {},
     "output_type": "display_data"
    },
    {
     "data": {
      "text/html": [
       "<p><b>&#x2713;</b> Nothing found</p>"
      ]
     },
     "metadata": {},
     "output_type": "display_data"
    }
   ],
   "source": [
    "LabelAmbiguity().run(clean_dataset)"
   ]
  }
 ],
 "metadata": {
  "kernelspec": {
   "display_name": "Python 3 (ipykernel)",
   "language": "python",
   "name": "python3"
  },
  "language_info": {
   "codemirror_mode": {
    "name": "ipython",
    "version": 3
   },
   "file_extension": ".py",
   "mimetype": "text/x-python",
   "name": "python",
   "nbconvert_exporter": "python",
   "pygments_lexer": "ipython3",
   "version": "3.9.9"
  }
 },
 "nbformat": 4,
 "nbformat_minor": 5
}
