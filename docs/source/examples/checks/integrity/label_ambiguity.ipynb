{
 "cells": [
  {
   "cell_type": "markdown",
   "id": "06bdcdfc",
   "metadata": {},
   "source": [
    "# Label Ambiguity \n",
    "This notebooks provides an overview for using and understanding the label ambiguity check.\n",
    "\n",
    "**Structure:**\n",
    "\n",
    "- [What is Label Ambiguity?](#what_is_label_ambiguity)\n",
    "- [Load data](#load_data_model)\n",
    "- [Run the check](#run_check)\n",
    "- [Define a condition](#define_condition)\n"
   ]
  },
  {
   "cell_type": "code",
   "execution_count": 1,
   "id": "9ff805f0",
   "metadata": {
    "execution": {
     "iopub.execute_input": "2022-01-19T16:41:12.256403Z",
     "iopub.status.busy": "2022-01-19T16:41:12.255668Z",
     "iopub.status.idle": "2022-01-19T16:41:14.210623Z",
     "shell.execute_reply": "2022-01-19T16:41:14.211259Z"
    }
   },
   "outputs": [],
   "source": [
    "from deepchecks.checks.integrity import LabelAmbiguity\n",
    "from deepchecks.base import Dataset\n",
    "import pandas as pd"
   ]
  },
  {
   "cell_type": "markdown",
   "id": "3626bd83",
   "metadata": {},
   "source": [
    "<a id='what_is_label_ambiguity'></a>\n",
    "## What is Label Ambiguity?\n",
    "\n",
    "Label Ambiguity is a messure of identical samples with different labels. This can occure from either mislabeld data, or from missing information in a dataset to seperate labels."
   ]
  },
  {
   "cell_type": "markdown",
   "id": "39641de8",
   "metadata": {},
   "source": [
    "<a id='load_data_model'></a>\n",
    "## Load Data\n"
   ]
  },
  {
   "cell_type": "code",
   "execution_count": 2,
   "id": "4cb1f4da",
   "metadata": {
    "execution": {
     "iopub.execute_input": "2022-01-19T16:41:14.219286Z",
     "iopub.status.busy": "2022-01-19T16:41:14.218623Z",
     "iopub.status.idle": "2022-01-19T16:41:14.220417Z",
     "shell.execute_reply": "2022-01-19T16:41:14.220958Z"
    }
   },
   "outputs": [
    {
     "name": "stderr",
     "output_type": "stream",
     "text": [
      "Automatically inferred these columns as categorical features: numParams, num_%20, num_@. \n",
      "\n"
     ]
    }
   ],
   "source": [
    "from deepchecks.datasets.classification.phishing import load_data\n",
    "\n",
    "phishing_dataframe = load_data(as_train_test=False, data_format='Dataframe')\n",
    "phishing_dataset = Dataset(phishing_dataframe, label='target', features=['urlLength', 'numDigits', 'numParams', 'num_%20', 'num_@', 'bodyLength', 'numTitles', 'numImages', 'numLinks', 'specialChars'])"
   ]
  },
  {
   "cell_type": "markdown",
   "id": "0f2b3c59",
   "metadata": {},
   "source": [
    "<a id='run_check'></a>\n",
    "\n",
    "## Run the check"
   ]
  },
  {
   "cell_type": "code",
   "execution_count": 3,
   "id": "f5d3c08a",
   "metadata": {
    "execution": {
     "iopub.execute_input": "2022-01-19T16:41:14.239204Z",
     "iopub.status.busy": "2022-01-19T16:41:14.238606Z",
     "iopub.status.idle": "2022-01-19T16:41:14.241234Z",
     "shell.execute_reply": "2022-01-19T16:41:14.241615Z"
    }
   },
   "outputs": [
    {
     "data": {
      "text/html": [
       "<h4>Label Ambiguity</h4><p>Find samples with multiple labels. <a href=\"https://docs.deepchecks.com/en/0.3.2/examples/checks/integrity/label_ambiguity.html?utm_source=display_output&utm_medium=referral&utm_campaign=check_link\" target=\"_blank\">Read More...</a></p><h5>Additional Outputs</h5><div>Each row in the table shows an example of a data sample and the its observed labels as found in the dataset.</div><style type=\"text/css\">\n",
       "#T_81c9d_ table {\n",
       "  text-align: left;\n",
       "  white-space: pre-wrap;\n",
       "}\n",
       "#T_81c9d_ thead {\n",
       "  text-align: left;\n",
       "  white-space: pre-wrap;\n",
       "}\n",
       "#T_81c9d_ tbody {\n",
       "  text-align: left;\n",
       "  white-space: pre-wrap;\n",
       "}\n",
       "#T_81c9d_ th {\n",
       "  text-align: left;\n",
       "  white-space: pre-wrap;\n",
       "}\n",
       "#T_81c9d_ td {\n",
       "  text-align: left;\n",
       "  white-space: pre-wrap;\n",
       "}\n",
       "</style>\n",
       "<table id=\"T_81c9d_\">\n",
       "  <thead>\n",
       "    <tr>\n",
       "      <th class=\"blank level0\" >&nbsp;</th>\n",
       "      <th class=\"col_heading level0 col0\" >urlLength</th>\n",
       "      <th class=\"col_heading level0 col1\" >numDigits</th>\n",
       "      <th class=\"col_heading level0 col2\" >numParams</th>\n",
       "      <th class=\"col_heading level0 col3\" >num_%20</th>\n",
       "      <th class=\"col_heading level0 col4\" >num_@</th>\n",
       "      <th class=\"col_heading level0 col5\" >bodyLength</th>\n",
       "      <th class=\"col_heading level0 col6\" >numTitles</th>\n",
       "      <th class=\"col_heading level0 col7\" >numImages</th>\n",
       "      <th class=\"col_heading level0 col8\" >numLinks</th>\n",
       "      <th class=\"col_heading level0 col9\" >specialChars</th>\n",
       "    </tr>\n",
       "    <tr>\n",
       "      <th class=\"index_name level0\" >Observed Labels</th>\n",
       "      <th class=\"blank col0\" >&nbsp;</th>\n",
       "      <th class=\"blank col1\" >&nbsp;</th>\n",
       "      <th class=\"blank col2\" >&nbsp;</th>\n",
       "      <th class=\"blank col3\" >&nbsp;</th>\n",
       "      <th class=\"blank col4\" >&nbsp;</th>\n",
       "      <th class=\"blank col5\" >&nbsp;</th>\n",
       "      <th class=\"blank col6\" >&nbsp;</th>\n",
       "      <th class=\"blank col7\" >&nbsp;</th>\n",
       "      <th class=\"blank col8\" >&nbsp;</th>\n",
       "      <th class=\"blank col9\" >&nbsp;</th>\n",
       "    </tr>\n",
       "  </thead>\n",
       "  <tbody>\n",
       "    <tr>\n",
       "      <th id=\"T_81c9d_level0_row0\" class=\"row_heading level0 row0\" >(1, 0)</th>\n",
       "      <td id=\"T_81c9d_row0_col0\" class=\"data row0 col0\" >81</td>\n",
       "      <td id=\"T_81c9d_row0_col1\" class=\"data row0 col1\" >6</td>\n",
       "      <td id=\"T_81c9d_row0_col2\" class=\"data row0 col2\" >0</td>\n",
       "      <td id=\"T_81c9d_row0_col3\" class=\"data row0 col3\" >0</td>\n",
       "      <td id=\"T_81c9d_row0_col4\" class=\"data row0 col4\" >0</td>\n",
       "      <td id=\"T_81c9d_row0_col5\" class=\"data row0 col5\" >0</td>\n",
       "      <td id=\"T_81c9d_row0_col6\" class=\"data row0 col6\" >0</td>\n",
       "      <td id=\"T_81c9d_row0_col7\" class=\"data row0 col7\" >0</td>\n",
       "      <td id=\"T_81c9d_row0_col8\" class=\"data row0 col8\" >0</td>\n",
       "      <td id=\"T_81c9d_row0_col9\" class=\"data row0 col9\" >0</td>\n",
       "    </tr>\n",
       "    <tr>\n",
       "      <th id=\"T_81c9d_level0_row1\" class=\"row_heading level0 row1\" >(1, 0)</th>\n",
       "      <td id=\"T_81c9d_row1_col0\" class=\"data row1 col0\" >82</td>\n",
       "      <td id=\"T_81c9d_row1_col1\" class=\"data row1 col1\" >2</td>\n",
       "      <td id=\"T_81c9d_row1_col2\" class=\"data row1 col2\" >0</td>\n",
       "      <td id=\"T_81c9d_row1_col3\" class=\"data row1 col3\" >0</td>\n",
       "      <td id=\"T_81c9d_row1_col4\" class=\"data row1 col4\" >0</td>\n",
       "      <td id=\"T_81c9d_row1_col5\" class=\"data row1 col5\" >0</td>\n",
       "      <td id=\"T_81c9d_row1_col6\" class=\"data row1 col6\" >0</td>\n",
       "      <td id=\"T_81c9d_row1_col7\" class=\"data row1 col7\" >0</td>\n",
       "      <td id=\"T_81c9d_row1_col8\" class=\"data row1 col8\" >0</td>\n",
       "      <td id=\"T_81c9d_row1_col9\" class=\"data row1 col9\" >0</td>\n",
       "    </tr>\n",
       "    <tr>\n",
       "      <th id=\"T_81c9d_level0_row2\" class=\"row_heading level0 row2\" >(0, 1)</th>\n",
       "      <td id=\"T_81c9d_row2_col0\" class=\"data row2 col0\" >85</td>\n",
       "      <td id=\"T_81c9d_row2_col1\" class=\"data row2 col1\" >0</td>\n",
       "      <td id=\"T_81c9d_row2_col2\" class=\"data row2 col2\" >0</td>\n",
       "      <td id=\"T_81c9d_row2_col3\" class=\"data row2 col3\" >0</td>\n",
       "      <td id=\"T_81c9d_row2_col4\" class=\"data row2 col4\" >0</td>\n",
       "      <td id=\"T_81c9d_row2_col5\" class=\"data row2 col5\" >0</td>\n",
       "      <td id=\"T_81c9d_row2_col6\" class=\"data row2 col6\" >0</td>\n",
       "      <td id=\"T_81c9d_row2_col7\" class=\"data row2 col7\" >0</td>\n",
       "      <td id=\"T_81c9d_row2_col8\" class=\"data row2 col8\" >0</td>\n",
       "      <td id=\"T_81c9d_row2_col9\" class=\"data row2 col9\" >0</td>\n",
       "    </tr>\n",
       "    <tr>\n",
       "      <th id=\"T_81c9d_level0_row3\" class=\"row_heading level0 row3\" >(0, 1)</th>\n",
       "      <td id=\"T_81c9d_row3_col0\" class=\"data row3 col0\" >85</td>\n",
       "      <td id=\"T_81c9d_row3_col1\" class=\"data row3 col1\" >20</td>\n",
       "      <td id=\"T_81c9d_row3_col2\" class=\"data row3 col2\" >0</td>\n",
       "      <td id=\"T_81c9d_row3_col3\" class=\"data row3 col3\" >0</td>\n",
       "      <td id=\"T_81c9d_row3_col4\" class=\"data row3 col4\" >0</td>\n",
       "      <td id=\"T_81c9d_row3_col5\" class=\"data row3 col5\" >0</td>\n",
       "      <td id=\"T_81c9d_row3_col6\" class=\"data row3 col6\" >0</td>\n",
       "      <td id=\"T_81c9d_row3_col7\" class=\"data row3 col7\" >0</td>\n",
       "      <td id=\"T_81c9d_row3_col8\" class=\"data row3 col8\" >0</td>\n",
       "      <td id=\"T_81c9d_row3_col9\" class=\"data row3 col9\" >0</td>\n",
       "    </tr>\n",
       "    <tr>\n",
       "      <th id=\"T_81c9d_level0_row4\" class=\"row_heading level0 row4\" >(0, 1)</th>\n",
       "      <td id=\"T_81c9d_row4_col0\" class=\"data row4 col0\" >88</td>\n",
       "      <td id=\"T_81c9d_row4_col1\" class=\"data row4 col1\" >0</td>\n",
       "      <td id=\"T_81c9d_row4_col2\" class=\"data row4 col2\" >0</td>\n",
       "      <td id=\"T_81c9d_row4_col3\" class=\"data row4 col3\" >0</td>\n",
       "      <td id=\"T_81c9d_row4_col4\" class=\"data row4 col4\" >0</td>\n",
       "      <td id=\"T_81c9d_row4_col5\" class=\"data row4 col5\" >0</td>\n",
       "      <td id=\"T_81c9d_row4_col6\" class=\"data row4 col6\" >0</td>\n",
       "      <td id=\"T_81c9d_row4_col7\" class=\"data row4 col7\" >0</td>\n",
       "      <td id=\"T_81c9d_row4_col8\" class=\"data row4 col8\" >0</td>\n",
       "      <td id=\"T_81c9d_row4_col9\" class=\"data row4 col9\" >0</td>\n",
       "    </tr>\n",
       "  </tbody>\n",
       "</table>\n"
      ]
     },
     "metadata": {},
     "output_type": "display_data"
    }
   ],
   "source": [
    "LabelAmbiguity().run(phishing_dataset)"
   ]
  },
  {
   "cell_type": "code",
   "execution_count": 4,
   "id": "91b2cdf9",
   "metadata": {},
   "outputs": [
    {
     "data": {
      "text/html": [
       "<h4>Label Ambiguity</h4><p>Find samples with multiple labels. <a href=\"https://docs.deepchecks.com/en/0.3.2/examples/checks/integrity/label_ambiguity.html?utm_source=display_output&utm_medium=referral&utm_campaign=check_link\" target=\"_blank\">Read More...</a></p><h5>Additional Outputs</h5><div>Each row in the table shows an example of a data sample and the its observed labels as found in the dataset.</div><style type=\"text/css\">\n",
       "#T_ee6a8_ table {\n",
       "  text-align: left;\n",
       "  white-space: pre-wrap;\n",
       "}\n",
       "#T_ee6a8_ thead {\n",
       "  text-align: left;\n",
       "  white-space: pre-wrap;\n",
       "}\n",
       "#T_ee6a8_ tbody {\n",
       "  text-align: left;\n",
       "  white-space: pre-wrap;\n",
       "}\n",
       "#T_ee6a8_ th {\n",
       "  text-align: left;\n",
       "  white-space: pre-wrap;\n",
       "}\n",
       "#T_ee6a8_ td {\n",
       "  text-align: left;\n",
       "  white-space: pre-wrap;\n",
       "}\n",
       "</style>\n",
       "<table id=\"T_ee6a8_\">\n",
       "  <thead>\n",
       "    <tr>\n",
       "      <th class=\"blank level0\" >&nbsp;</th>\n",
       "      <th class=\"col_heading level0 col0\" >urlLength</th>\n",
       "      <th class=\"col_heading level0 col1\" >numDigits</th>\n",
       "    </tr>\n",
       "    <tr>\n",
       "      <th class=\"index_name level0\" >Observed Labels</th>\n",
       "      <th class=\"blank col0\" >&nbsp;</th>\n",
       "      <th class=\"blank col1\" >&nbsp;</th>\n",
       "    </tr>\n",
       "  </thead>\n",
       "  <tbody>\n",
       "    <tr>\n",
       "      <th id=\"T_ee6a8_level0_row0\" class=\"row_heading level0 row0\" >(1, 0)</th>\n",
       "      <td id=\"T_ee6a8_row0_col0\" class=\"data row0 col0\" >81</td>\n",
       "      <td id=\"T_ee6a8_row0_col1\" class=\"data row0 col1\" >0</td>\n",
       "    </tr>\n",
       "    <tr>\n",
       "      <th id=\"T_ee6a8_level0_row1\" class=\"row_heading level0 row1\" >(1, 0)</th>\n",
       "      <td id=\"T_ee6a8_row1_col0\" class=\"data row1 col0\" >81</td>\n",
       "      <td id=\"T_ee6a8_row1_col1\" class=\"data row1 col1\" >6</td>\n",
       "    </tr>\n",
       "    <tr>\n",
       "      <th id=\"T_ee6a8_level0_row2\" class=\"row_heading level0 row2\" >(1, 0)</th>\n",
       "      <td id=\"T_ee6a8_row2_col0\" class=\"data row2 col0\" >82</td>\n",
       "      <td id=\"T_ee6a8_row2_col1\" class=\"data row2 col1\" >2</td>\n",
       "    </tr>\n",
       "    <tr>\n",
       "      <th id=\"T_ee6a8_level0_row3\" class=\"row_heading level0 row3\" >(0, 1)</th>\n",
       "      <td id=\"T_ee6a8_row3_col0\" class=\"data row3 col0\" >84</td>\n",
       "      <td id=\"T_ee6a8_row3_col1\" class=\"data row3 col1\" >2</td>\n",
       "    </tr>\n",
       "    <tr>\n",
       "      <th id=\"T_ee6a8_level0_row4\" class=\"row_heading level0 row4\" >(0, 1)</th>\n",
       "      <td id=\"T_ee6a8_row4_col0\" class=\"data row4 col0\" >85</td>\n",
       "      <td id=\"T_ee6a8_row4_col1\" class=\"data row4 col1\" >0</td>\n",
       "    </tr>\n",
       "  </tbody>\n",
       "</table>\n"
      ]
     },
     "metadata": {},
     "output_type": "display_data"
    }
   ],
   "source": [
    "LabelAmbiguity(columns=['urlLength', 'numDigits']).run(phishing_dataset)"
   ]
  },
  {
   "cell_type": "markdown",
   "id": "77905a88",
   "metadata": {
    "execution": {
     "iopub.execute_input": "2022-01-19T16:41:14.286024Z",
     "iopub.status.busy": "2022-01-19T16:41:14.285108Z",
     "iopub.status.idle": "2022-01-19T16:41:14.286932Z",
     "shell.execute_reply": "2022-01-19T16:41:14.287452Z"
    }
   },
   "source": [
    "<a id='define_condition'></a>\n",
    "\n",
    "## Define a condition\n",
    "\n",
    "Now, we define a condition that enforce the ratio of ambigous samples to be 0. A condition is deepchecks' way to validate model and data quality, and let you know if anything goes wrong."
   ]
  },
  {
   "cell_type": "code",
   "execution_count": 5,
   "id": "aa5f06ee",
   "metadata": {
    "execution": {
     "iopub.execute_input": "2022-01-19T16:41:14.297988Z",
     "iopub.status.busy": "2022-01-19T16:41:14.296998Z",
     "iopub.status.idle": "2022-01-19T16:41:14.300181Z",
     "shell.execute_reply": "2022-01-19T16:41:14.300701Z"
    },
    "tags": []
   },
   "outputs": [
    {
     "data": {
      "text/html": [
       "<h4>Label Ambiguity</h4><p>Find samples with multiple labels. <a href=\"https://docs.deepchecks.com/en/0.3.2/examples/checks/integrity/label_ambiguity.html?utm_source=display_output&utm_medium=referral&utm_campaign=check_link\" target=\"_blank\">Read More...</a></p><h5>Conditions Summary</h5><style type=\"text/css\">\n",
       "#T_c4f87_ table {\n",
       "  text-align: left;\n",
       "  white-space: pre-wrap;\n",
       "}\n",
       "#T_c4f87_ thead {\n",
       "  text-align: left;\n",
       "  white-space: pre-wrap;\n",
       "}\n",
       "#T_c4f87_ tbody {\n",
       "  text-align: left;\n",
       "  white-space: pre-wrap;\n",
       "}\n",
       "#T_c4f87_ th {\n",
       "  text-align: left;\n",
       "  white-space: pre-wrap;\n",
       "}\n",
       "#T_c4f87_ td {\n",
       "  text-align: left;\n",
       "  white-space: pre-wrap;\n",
       "}\n",
       "</style>\n",
       "<table id=\"T_c4f87_\">\n",
       "  <thead>\n",
       "    <tr>\n",
       "      <th class=\"col_heading level0 col0\" >Status</th>\n",
       "      <th class=\"col_heading level0 col1\" >Condition</th>\n",
       "      <th class=\"col_heading level0 col2\" >More Info</th>\n",
       "    </tr>\n",
       "  </thead>\n",
       "  <tbody>\n",
       "    <tr>\n",
       "      <td id=\"T_c4f87_row0_col0\" class=\"data row0 col0\" ><div style=\"color: red;text-align: center\">✖</div></td>\n",
       "      <td id=\"T_c4f87_row0_col1\" class=\"data row0 col1\" >Ambiguous sample ratio is not greater than 0%</td>\n",
       "      <td id=\"T_c4f87_row0_col2\" class=\"data row0 col2\" >Found ratio of samples with multiple labels above threshold: 0.6%</td>\n",
       "    </tr>\n",
       "  </tbody>\n",
       "</table>\n"
      ]
     },
     "metadata": {},
     "output_type": "display_data"
    }
   ],
   "source": [
    "check = LabelAmbiguity()\n",
    "check.add_condition_ambiguous_sample_ratio_not_greater_than(0)\n",
    "result = check.run(phishing_dataset)\n",
    "result.show(show_additional_outputs=False)"
   ]
  }
 ],
 "metadata": {
  "kernelspec": {
   "display_name": "Python 3 (ipykernel)",
   "language": "python",
   "name": "python3"
  },
  "language_info": {
   "codemirror_mode": {
    "name": "ipython",
    "version": 3
   },
   "file_extension": ".py",
   "mimetype": "text/x-python",
   "name": "python",
   "nbconvert_exporter": "python",
   "pygments_lexer": "ipython3",
   "version": "3.8.5"
  }
 },
 "nbformat": 4,
 "nbformat_minor": 5
}
