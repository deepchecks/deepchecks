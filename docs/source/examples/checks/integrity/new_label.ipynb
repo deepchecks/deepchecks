{
 "cells": [
  {
   "cell_type": "markdown",
   "id": "ffad3cda",
   "metadata": {},
   "source": [
    "# New Label "
   ]
  },
  {
   "cell_type": "code",
   "execution_count": 1,
   "id": "d26a99f3",
   "metadata": {
    "execution": {
     "iopub.execute_input": "2022-01-16T01:00:04.853000Z",
     "iopub.status.busy": "2022-01-16T01:00:04.852284Z",
     "iopub.status.idle": "2022-01-16T01:00:06.665788Z",
     "shell.execute_reply": "2022-01-16T01:00:06.665147Z"
    }
   },
   "outputs": [],
   "source": [
    "from deepchecks.checks.integrity.new_label import NewLabelTrainTest\n",
    "from deepchecks.base import Dataset\n",
    "import pandas as pd"
   ]
  },
  {
   "cell_type": "code",
   "execution_count": 2,
   "id": "6ad09e0e",
   "metadata": {
    "execution": {
     "iopub.execute_input": "2022-01-16T01:00:06.675500Z",
     "iopub.status.busy": "2022-01-16T01:00:06.674914Z",
     "iopub.status.idle": "2022-01-16T01:00:06.677630Z",
     "shell.execute_reply": "2022-01-16T01:00:06.676802Z"
    }
   },
   "outputs": [],
   "source": [
    "test_data = {\"col1\": [0, 1, 2, 3] * 10}\n",
    "val_data = {\"col1\": [4, 5, 6, 7, 8, 9] * 10}\n",
    "test = Dataset(pd.DataFrame(data=test_data), label=\"col1\", label_type=\"classification_label\")\n",
    "val = Dataset(pd.DataFrame(data=val_data), label=\"col1\", label_type=\"classification_label\")"
   ]
  },
  {
   "cell_type": "code",
   "execution_count": 3,
   "id": "1407bb72",
   "metadata": {
    "execution": {
     "iopub.execute_input": "2022-01-16T01:00:06.685072Z",
     "iopub.status.busy": "2022-01-16T01:00:06.684520Z",
     "iopub.status.idle": "2022-01-16T01:00:06.697969Z",
     "shell.execute_reply": "2022-01-16T01:00:06.697388Z"
    }
   },
   "outputs": [
    {
     "data": {
      "text/html": [
       "<h4>New Label Train Test</h4>"
      ]
     },
     "metadata": {},
     "output_type": "display_data"
    },
    {
     "data": {
      "text/html": [
       "<p>Find new labels in test.</p>"
      ]
     },
     "metadata": {},
     "output_type": "display_data"
    },
    {
     "data": {
      "text/html": [
       "<h5>Additional Outputs</h5>"
      ]
     },
     "metadata": {},
     "output_type": "display_data"
    },
    {
     "data": {
      "text/html": [
       "<style type=\"text/css\">\n",
       "#T_ed73c_ table {\n",
       "  text-align: left;\n",
       "  white-space: pre-wrap;\n",
       "}\n",
       "#T_ed73c_ thead {\n",
       "  text-align: left;\n",
       "  white-space: pre-wrap;\n",
       "}\n",
       "#T_ed73c_ tbody {\n",
       "  text-align: left;\n",
       "  white-space: pre-wrap;\n",
       "}\n",
       "#T_ed73c_ th {\n",
       "  text-align: left;\n",
       "  white-space: pre-wrap;\n",
       "}\n",
       "#T_ed73c_ td {\n",
       "  text-align: left;\n",
       "  white-space: pre-wrap;\n",
       "}\n",
       "</style>\n",
       "<table id=\"T_ed73c_\">\n",
       "  <thead>\n",
       "    <tr>\n",
       "      <th class=\"blank level0\" >&nbsp;</th>\n",
       "      <th class=\"col_heading level0 col0\" >Percent new labels in sample</th>\n",
       "      <th class=\"col_heading level0 col1\" >New labels</th>\n",
       "    </tr>\n",
       "    <tr>\n",
       "      <th class=\"index_name level0\" >Label column</th>\n",
       "      <th class=\"blank col0\" >&nbsp;</th>\n",
       "      <th class=\"blank col1\" >&nbsp;</th>\n",
       "    </tr>\n",
       "  </thead>\n",
       "  <tbody>\n",
       "    <tr>\n",
       "      <th id=\"T_ed73c_level0_row0\" class=\"row_heading level0 row0\" >col1</th>\n",
       "      <td id=\"T_ed73c_row0_col0\" class=\"data row0 col0\" >100%</td>\n",
       "      <td id=\"T_ed73c_row0_col1\" class=\"data row0 col1\" >[4, 5, 6, 7, 8, 9]</td>\n",
       "    </tr>\n",
       "  </tbody>\n",
       "</table>\n"
      ]
     },
     "metadata": {},
     "output_type": "display_data"
    }
   ],
   "source": [
    "NewLabelTrainTest().run(test, val)"
   ]
  },
  {
   "cell_type": "code",
   "execution_count": 4,
   "id": "e2dd499d",
   "metadata": {
    "execution": {
     "iopub.execute_input": "2022-01-16T01:00:06.708719Z",
     "iopub.status.busy": "2022-01-16T01:00:06.707894Z",
     "iopub.status.idle": "2022-01-16T01:00:06.712228Z",
     "shell.execute_reply": "2022-01-16T01:00:06.711450Z"
    }
   },
   "outputs": [],
   "source": [
    "test_data = {\"col1\": [\"a\", \"b\", \"a\", \"c\"] * 10, \"col2\": [1,2,2,3]*10}\n",
    "val_data = {\"col1\": [\"a\",\"b\",\"d\"] * 10, \"col2\": [1, 4, 5]*10}\n",
    "test = Dataset(pd.DataFrame(data=test_data), label=\"col2\", label_type=\"classification_label\")\n",
    "val = Dataset(pd.DataFrame(data=val_data), label=\"col2\", label_type=\"classification_label\")"
   ]
  },
  {
   "cell_type": "code",
   "execution_count": 5,
   "id": "91c364ab",
   "metadata": {
    "execution": {
     "iopub.execute_input": "2022-01-16T01:00:06.717732Z",
     "iopub.status.busy": "2022-01-16T01:00:06.717205Z",
     "iopub.status.idle": "2022-01-16T01:00:06.735843Z",
     "shell.execute_reply": "2022-01-16T01:00:06.736602Z"
    },
    "scrolled": true
   },
   "outputs": [
    {
     "data": {
      "text/html": [
       "<h4>New Label Train Test</h4>"
      ]
     },
     "metadata": {},
     "output_type": "display_data"
    },
    {
     "data": {
      "text/html": [
       "<p>Find new labels in test.</p>"
      ]
     },
     "metadata": {},
     "output_type": "display_data"
    },
    {
     "data": {
      "text/html": [
       "<h5>Additional Outputs</h5>"
      ]
     },
     "metadata": {},
     "output_type": "display_data"
    },
    {
     "data": {
      "text/html": [
       "<style type=\"text/css\">\n",
       "#T_63bba_ table {\n",
       "  text-align: left;\n",
       "  white-space: pre-wrap;\n",
       "}\n",
       "#T_63bba_ thead {\n",
       "  text-align: left;\n",
       "  white-space: pre-wrap;\n",
       "}\n",
       "#T_63bba_ tbody {\n",
       "  text-align: left;\n",
       "  white-space: pre-wrap;\n",
       "}\n",
       "#T_63bba_ th {\n",
       "  text-align: left;\n",
       "  white-space: pre-wrap;\n",
       "}\n",
       "#T_63bba_ td {\n",
       "  text-align: left;\n",
       "  white-space: pre-wrap;\n",
       "}\n",
       "</style>\n",
       "<table id=\"T_63bba_\">\n",
       "  <thead>\n",
       "    <tr>\n",
       "      <th class=\"blank level0\" >&nbsp;</th>\n",
       "      <th class=\"col_heading level0 col0\" >Percent new labels in sample</th>\n",
       "      <th class=\"col_heading level0 col1\" >New labels</th>\n",
       "    </tr>\n",
       "    <tr>\n",
       "      <th class=\"index_name level0\" >Label column</th>\n",
       "      <th class=\"blank col0\" >&nbsp;</th>\n",
       "      <th class=\"blank col1\" >&nbsp;</th>\n",
       "    </tr>\n",
       "  </thead>\n",
       "  <tbody>\n",
       "    <tr>\n",
       "      <th id=\"T_63bba_level0_row0\" class=\"row_heading level0 row0\" >col2</th>\n",
       "      <td id=\"T_63bba_row0_col0\" class=\"data row0 col0\" >66.67%</td>\n",
       "      <td id=\"T_63bba_row0_col1\" class=\"data row0 col1\" >[4, 5]</td>\n",
       "    </tr>\n",
       "  </tbody>\n",
       "</table>\n"
      ]
     },
     "metadata": {},
     "output_type": "display_data"
    }
   ],
   "source": [
    "NewLabelTrainTest().run(test, val)"
   ]
  }
 ],
 "metadata": {
  "kernelspec": {
   "display_name": "Python 3 (ipykernel)",
   "language": "python",
   "name": "python3"
  },
  "language_info": {
   "codemirror_mode": {
    "name": "ipython",
    "version": 3
   },
   "file_extension": ".py",
   "mimetype": "text/x-python",
   "name": "python",
   "nbconvert_exporter": "python",
   "pygments_lexer": "ipython3",
   "version": "3.9.9"
  }
 },
 "nbformat": 4,
 "nbformat_minor": 5
}
