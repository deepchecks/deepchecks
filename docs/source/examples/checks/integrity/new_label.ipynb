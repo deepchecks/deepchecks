{
 "cells": [
  {
   "cell_type": "markdown",
   "id": "ffad3cda",
   "metadata": {},
   "source": [
    "# New Label "
   ]
  },
  {
   "cell_type": "code",
   "execution_count": 1,
   "id": "d26a99f3",
   "metadata": {
    "execution": {
     "iopub.execute_input": "2022-01-21T00:54:27.904786Z",
     "iopub.status.busy": "2022-01-21T00:54:27.904098Z",
     "iopub.status.idle": "2022-01-21T00:54:29.852007Z",
     "shell.execute_reply": "2022-01-21T00:54:29.851386Z"
    }
   },
   "outputs": [],
   "source": [
    "from deepchecks.checks.integrity.new_label import NewLabelTrainTest\n",
    "from deepchecks.base import Dataset\n",
    "import pandas as pd"
   ]
  },
  {
   "cell_type": "code",
   "execution_count": 2,
   "id": "6ad09e0e",
   "metadata": {
    "execution": {
     "iopub.execute_input": "2022-01-21T00:54:29.861450Z",
     "iopub.status.busy": "2022-01-21T00:54:29.860888Z",
     "iopub.status.idle": "2022-01-21T00:54:29.864007Z",
     "shell.execute_reply": "2022-01-21T00:54:29.864447Z"
    }
   },
   "outputs": [],
   "source": [
    "test_data = {\"col1\": [0, 1, 2, 3] * 10}\n",
    "val_data = {\"col1\": [4, 5, 6, 7, 8, 9] * 10}\n",
    "test = Dataset(pd.DataFrame(data=test_data), label=\"col1\", label_type=\"classification_label\")\n",
    "val = Dataset(pd.DataFrame(data=val_data), label=\"col1\", label_type=\"classification_label\")"
   ]
  },
  {
   "cell_type": "code",
   "execution_count": 3,
   "id": "1407bb72",
   "metadata": {
    "execution": {
     "iopub.execute_input": "2022-01-21T00:54:29.873409Z",
     "iopub.status.busy": "2022-01-21T00:54:29.872769Z",
     "iopub.status.idle": "2022-01-21T00:54:29.879032Z",
     "shell.execute_reply": "2022-01-21T00:54:29.879539Z"
    }
   },
   "outputs": [
    {
     "data": {
      "text/html": [
       "<h4>New Label Train Test</h4><p>Find new labels in test.</p><h5>Additional Outputs</h5><style type=\"text/css\">\n",
       "#T_e8b6a_ table {\n",
       "  text-align: left;\n",
       "  white-space: pre-wrap;\n",
       "}\n",
       "#T_e8b6a_ thead {\n",
       "  text-align: left;\n",
       "  white-space: pre-wrap;\n",
       "}\n",
       "#T_e8b6a_ tbody {\n",
       "  text-align: left;\n",
       "  white-space: pre-wrap;\n",
       "}\n",
       "#T_e8b6a_ th {\n",
       "  text-align: left;\n",
       "  white-space: pre-wrap;\n",
       "}\n",
       "#T_e8b6a_ td {\n",
       "  text-align: left;\n",
       "  white-space: pre-wrap;\n",
       "}\n",
       "</style>\n",
       "<table id=\"T_e8b6a_\">\n",
       "  <thead>\n",
       "    <tr>\n",
       "      <th class=\"blank level0\" >&nbsp;</th>\n",
       "      <th class=\"col_heading level0 col0\" >Percent new labels in sample</th>\n",
       "      <th class=\"col_heading level0 col1\" >New labels</th>\n",
       "    </tr>\n",
       "    <tr>\n",
       "      <th class=\"index_name level0\" >Label column</th>\n",
       "      <th class=\"blank col0\" >&nbsp;</th>\n",
       "      <th class=\"blank col1\" >&nbsp;</th>\n",
       "    </tr>\n",
       "  </thead>\n",
       "  <tbody>\n",
       "    <tr>\n",
       "      <th id=\"T_e8b6a_level0_row0\" class=\"row_heading level0 row0\" >col1</th>\n",
       "      <td id=\"T_e8b6a_row0_col0\" class=\"data row0 col0\" >100%</td>\n",
       "      <td id=\"T_e8b6a_row0_col1\" class=\"data row0 col1\" >[4, 5, 6, 7, 8, 9]</td>\n",
       "    </tr>\n",
       "  </tbody>\n",
       "</table>\n"
      ]
     },
     "metadata": {},
     "output_type": "display_data"
    }
   ],
   "source": [
    "NewLabelTrainTest().run(test, val)"
   ]
  },
  {
   "cell_type": "code",
   "execution_count": 4,
   "id": "e2dd499d",
   "metadata": {
    "execution": {
     "iopub.execute_input": "2022-01-21T00:54:29.889547Z",
     "iopub.status.busy": "2022-01-21T00:54:29.888414Z",
     "iopub.status.idle": "2022-01-21T00:54:29.892960Z",
     "shell.execute_reply": "2022-01-21T00:54:29.892453Z"
    }
   },
   "outputs": [],
   "source": [
    "test_data = {\"col1\": [\"a\", \"b\", \"a\", \"c\"] * 10, \"col2\": [1,2,2,3]*10}\n",
    "val_data = {\"col1\": [\"a\",\"b\",\"d\"] * 10, \"col2\": [1, 4, 5]*10}\n",
    "test = Dataset(pd.DataFrame(data=test_data), label=\"col2\", label_type=\"classification_label\")\n",
    "val = Dataset(pd.DataFrame(data=val_data), label=\"col2\", label_type=\"classification_label\")"
   ]
  },
  {
   "cell_type": "code",
   "execution_count": 5,
   "id": "91c364ab",
   "metadata": {
    "execution": {
     "iopub.execute_input": "2022-01-21T00:54:29.901268Z",
     "iopub.status.busy": "2022-01-21T00:54:29.895815Z",
     "iopub.status.idle": "2022-01-21T00:54:29.906196Z",
     "shell.execute_reply": "2022-01-21T00:54:29.907000Z"
    },
    "scrolled": true
   },
   "outputs": [
    {
     "data": {
      "text/html": [
       "<h4>New Label Train Test</h4><p>Find new labels in test.</p><h5>Additional Outputs</h5><style type=\"text/css\">\n",
       "#T_5b7eb_ table {\n",
       "  text-align: left;\n",
       "  white-space: pre-wrap;\n",
       "}\n",
       "#T_5b7eb_ thead {\n",
       "  text-align: left;\n",
       "  white-space: pre-wrap;\n",
       "}\n",
       "#T_5b7eb_ tbody {\n",
       "  text-align: left;\n",
       "  white-space: pre-wrap;\n",
       "}\n",
       "#T_5b7eb_ th {\n",
       "  text-align: left;\n",
       "  white-space: pre-wrap;\n",
       "}\n",
       "#T_5b7eb_ td {\n",
       "  text-align: left;\n",
       "  white-space: pre-wrap;\n",
       "}\n",
       "</style>\n",
       "<table id=\"T_5b7eb_\">\n",
       "  <thead>\n",
       "    <tr>\n",
       "      <th class=\"blank level0\" >&nbsp;</th>\n",
       "      <th class=\"col_heading level0 col0\" >Percent new labels in sample</th>\n",
       "      <th class=\"col_heading level0 col1\" >New labels</th>\n",
       "    </tr>\n",
       "    <tr>\n",
       "      <th class=\"index_name level0\" >Label column</th>\n",
       "      <th class=\"blank col0\" >&nbsp;</th>\n",
       "      <th class=\"blank col1\" >&nbsp;</th>\n",
       "    </tr>\n",
       "  </thead>\n",
       "  <tbody>\n",
       "    <tr>\n",
       "      <th id=\"T_5b7eb_level0_row0\" class=\"row_heading level0 row0\" >col2</th>\n",
       "      <td id=\"T_5b7eb_row0_col0\" class=\"data row0 col0\" >66.67%</td>\n",
       "      <td id=\"T_5b7eb_row0_col1\" class=\"data row0 col1\" >[4, 5]</td>\n",
       "    </tr>\n",
       "  </tbody>\n",
       "</table>\n"
      ]
     },
     "metadata": {},
     "output_type": "display_data"
    }
   ],
   "source": [
    "NewLabelTrainTest().run(test, val)"
   ]
  }
 ],
 "metadata": {
  "kernelspec": {
   "display_name": "Python 3 (ipykernel)",
   "language": "python",
   "name": "python3"
  },
  "language_info": {
   "codemirror_mode": {
    "name": "ipython",
    "version": 3
   },
   "file_extension": ".py",
   "mimetype": "text/x-python",
   "name": "python",
   "nbconvert_exporter": "python",
   "pygments_lexer": "ipython3",
   "version": "3.9.9"
  }
 },
 "nbformat": 4,
 "nbformat_minor": 5
}
