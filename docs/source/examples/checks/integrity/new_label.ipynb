{
 "cells": [
  {
   "cell_type": "markdown",
   "id": "ffad3cda",
   "metadata": {},
   "source": [
    "# New Label "
   ]
  },
  {
   "cell_type": "code",
   "execution_count": 1,
   "id": "d26a99f3",
   "metadata": {
    "execution": {
     "iopub.execute_input": "2022-01-07T01:01:54.289656Z",
     "iopub.status.busy": "2022-01-07T01:01:54.288516Z",
     "iopub.status.idle": "2022-01-07T01:01:56.502053Z",
     "shell.execute_reply": "2022-01-07T01:01:56.500959Z"
    }
   },
   "outputs": [],
   "source": [
    "from deepchecks.checks.integrity.new_label import NewLabelTrainTest\n",
    "from deepchecks.base import Dataset\n",
    "import pandas as pd"
   ]
  },
  {
   "cell_type": "code",
   "execution_count": 2,
   "id": "6ad09e0e",
   "metadata": {
    "execution": {
     "iopub.execute_input": "2022-01-07T01:01:56.514513Z",
     "iopub.status.busy": "2022-01-07T01:01:56.513817Z",
     "iopub.status.idle": "2022-01-07T01:01:56.519829Z",
     "shell.execute_reply": "2022-01-07T01:01:56.518590Z"
    }
   },
   "outputs": [],
   "source": [
    "test_data = {\"col1\": [0, 1, 2, 3] * 10}\n",
    "val_data = {\"col1\": [4, 5, 6, 7, 8, 9] * 10}\n",
    "test = Dataset(pd.DataFrame(data=test_data), label=\"col1\", label_type=\"classification_label\")\n",
    "val = Dataset(pd.DataFrame(data=val_data), label=\"col1\", label_type=\"classification_label\")"
   ]
  },
  {
   "cell_type": "code",
   "execution_count": 3,
   "id": "1407bb72",
   "metadata": {
    "execution": {
     "iopub.execute_input": "2022-01-07T01:01:56.523945Z",
     "iopub.status.busy": "2022-01-07T01:01:56.523281Z",
     "iopub.status.idle": "2022-01-07T01:01:56.539735Z",
     "shell.execute_reply": "2022-01-07T01:01:56.540292Z"
    }
   },
   "outputs": [
    {
     "data": {
      "text/html": [
       "<h4>New Label Train Test</h4>"
      ]
     },
     "metadata": {},
     "output_type": "display_data"
    },
    {
     "data": {
      "text/html": [
       "<p>Find new labels in test.</p>"
      ]
     },
     "metadata": {},
     "output_type": "display_data"
    },
    {
     "data": {
      "text/html": [
       "<style type=\"text/css\">\n",
       "#T_3051c_ table {\n",
       "  text-align: left;\n",
       "}\n",
       "#T_3051c_ thead {\n",
       "  text-align: left;\n",
       "}\n",
       "#T_3051c_ tbody {\n",
       "  text-align: left;\n",
       "}\n",
       "#T_3051c_ th {\n",
       "  text-align: left;\n",
       "}\n",
       "#T_3051c_ td {\n",
       "  text-align: left;\n",
       "}\n",
       "</style>\n",
       "<table id=\"T_3051c_\">\n",
       "  <thead>\n",
       "    <tr>\n",
       "      <th class=\"blank level0\" >&nbsp;</th>\n",
       "      <th class=\"col_heading level0 col0\" >Percent new labels in sample</th>\n",
       "      <th class=\"col_heading level0 col1\" >New labels</th>\n",
       "    </tr>\n",
       "    <tr>\n",
       "      <th class=\"index_name level0\" >Label column</th>\n",
       "      <th class=\"blank col0\" >&nbsp;</th>\n",
       "      <th class=\"blank col1\" >&nbsp;</th>\n",
       "    </tr>\n",
       "  </thead>\n",
       "  <tbody>\n",
       "    <tr>\n",
       "      <th id=\"T_3051c_level0_row0\" class=\"row_heading level0 row0\" >col1</th>\n",
       "      <td id=\"T_3051c_row0_col0\" class=\"data row0 col0\" >100%</td>\n",
       "      <td id=\"T_3051c_row0_col1\" class=\"data row0 col1\" >[4, 5, 6, 7, 8, 9]</td>\n",
       "    </tr>\n",
       "  </tbody>\n",
       "</table>\n"
      ]
     },
     "metadata": {},
     "output_type": "display_data"
    }
   ],
   "source": [
    "NewLabelTrainTest().run(test, val)"
   ]
  },
  {
   "cell_type": "code",
   "execution_count": 4,
   "id": "e2dd499d",
   "metadata": {
    "execution": {
     "iopub.execute_input": "2022-01-07T01:01:56.554922Z",
     "iopub.status.busy": "2022-01-07T01:01:56.553479Z",
     "iopub.status.idle": "2022-01-07T01:01:56.555612Z",
     "shell.execute_reply": "2022-01-07T01:01:56.556174Z"
    }
   },
   "outputs": [],
   "source": [
    "test_data = {\"col1\": [\"a\", \"b\", \"a\", \"c\"] * 10, \"col2\": [1,2,2,3]*10}\n",
    "val_data = {\"col1\": [\"a\",\"b\",\"d\"] * 10, \"col2\": [1, 4, 5]*10}\n",
    "test = Dataset(pd.DataFrame(data=test_data), label=\"col2\", label_type=\"classification_label\")\n",
    "val = Dataset(pd.DataFrame(data=val_data), label=\"col2\", label_type=\"classification_label\")"
   ]
  },
  {
   "cell_type": "code",
   "execution_count": 5,
   "id": "91c364ab",
   "metadata": {
    "execution": {
     "iopub.execute_input": "2022-01-07T01:01:56.568188Z",
     "iopub.status.busy": "2022-01-07T01:01:56.566012Z",
     "iopub.status.idle": "2022-01-07T01:01:56.574952Z",
     "shell.execute_reply": "2022-01-07T01:01:56.574386Z"
    },
    "scrolled": true
   },
   "outputs": [
    {
     "data": {
      "text/html": [
       "<h4>New Label Train Test</h4>"
      ]
     },
     "metadata": {},
     "output_type": "display_data"
    },
    {
     "data": {
      "text/html": [
       "<p>Find new labels in test.</p>"
      ]
     },
     "metadata": {},
     "output_type": "display_data"
    },
    {
     "data": {
      "text/html": [
       "<style type=\"text/css\">\n",
       "#T_9dd06_ table {\n",
       "  text-align: left;\n",
       "}\n",
       "#T_9dd06_ thead {\n",
       "  text-align: left;\n",
       "}\n",
       "#T_9dd06_ tbody {\n",
       "  text-align: left;\n",
       "}\n",
       "#T_9dd06_ th {\n",
       "  text-align: left;\n",
       "}\n",
       "#T_9dd06_ td {\n",
       "  text-align: left;\n",
       "}\n",
       "</style>\n",
       "<table id=\"T_9dd06_\">\n",
       "  <thead>\n",
       "    <tr>\n",
       "      <th class=\"blank level0\" >&nbsp;</th>\n",
       "      <th class=\"col_heading level0 col0\" >Percent new labels in sample</th>\n",
       "      <th class=\"col_heading level0 col1\" >New labels</th>\n",
       "    </tr>\n",
       "    <tr>\n",
       "      <th class=\"index_name level0\" >Label column</th>\n",
       "      <th class=\"blank col0\" >&nbsp;</th>\n",
       "      <th class=\"blank col1\" >&nbsp;</th>\n",
       "    </tr>\n",
       "  </thead>\n",
       "  <tbody>\n",
       "    <tr>\n",
       "      <th id=\"T_9dd06_level0_row0\" class=\"row_heading level0 row0\" >col2</th>\n",
       "      <td id=\"T_9dd06_row0_col0\" class=\"data row0 col0\" >66.67%</td>\n",
       "      <td id=\"T_9dd06_row0_col1\" class=\"data row0 col1\" >[4, 5]</td>\n",
       "    </tr>\n",
       "  </tbody>\n",
       "</table>\n"
      ]
     },
     "metadata": {},
     "output_type": "display_data"
    }
   ],
   "source": [
    "NewLabelTrainTest().run(test, val)"
   ]
  }
 ],
 "metadata": {
  "kernelspec": {
   "display_name": "Python 3 (ipykernel)",
   "language": "python",
   "name": "python3"
  },
  "language_info": {
   "codemirror_mode": {
    "name": "ipython",
    "version": 3
   },
   "file_extension": ".py",
   "mimetype": "text/x-python",
   "name": "python",
   "nbconvert_exporter": "python",
   "pygments_lexer": "ipython3",
   "version": "3.9.9"
  }
 },
 "nbformat": 4,
 "nbformat_minor": 5
}
