{
 "cells": [
  {
   "cell_type": "markdown",
   "id": "940370bc",
   "metadata": {},
   "source": [
    "# String Length Out Of Bounds "
   ]
  },
  {
   "cell_type": "code",
   "execution_count": 1,
   "id": "71b39577",
   "metadata": {
    "execution": {
     "iopub.execute_input": "2022-01-05T00:58:06.716630Z",
     "iopub.status.busy": "2022-01-05T00:58:06.715994Z",
     "iopub.status.idle": "2022-01-05T00:58:08.403304Z",
     "shell.execute_reply": "2022-01-05T00:58:08.402694Z"
    }
   },
   "outputs": [],
   "source": [
    "from deepchecks.checks.integrity.string_length_out_of_bounds import StringLengthOutOfBounds\n",
    "import pandas as pd\n",
    "%load_ext autoreload\n",
    "%autoreload 2"
   ]
  },
  {
   "cell_type": "code",
   "execution_count": 2,
   "id": "a23638e0",
   "metadata": {
    "execution": {
     "iopub.execute_input": "2022-01-05T00:58:08.408168Z",
     "iopub.status.busy": "2022-01-05T00:58:08.407682Z",
     "iopub.status.idle": "2022-01-05T00:58:08.427357Z",
     "shell.execute_reply": "2022-01-05T00:58:08.427731Z"
    }
   },
   "outputs": [],
   "source": [
    "col1 = [\"aaaaa33\", \"aaaaaaa33\"]*40\n",
    "col1.append(\"a\")\n",
    "col1.append(\"aaaaaadsfasdfasdf\")\n",
    "\n",
    "col2 = [\"b\", \"abc\"]*41\n",
    "\n",
    "col3 = [\"a\"]*80\n",
    "col3.append(\"a\"*100)\n",
    "col3.append(\"a\"*200)\n",
    "# col1 and col3 contrains outliers, col2 does not\n",
    "df = pd.DataFrame({\"col1\":col1, \"col2\": col2, \"col3\": col3 })"
   ]
  },
  {
   "cell_type": "code",
   "execution_count": 3,
   "id": "3f0dd967",
   "metadata": {
    "execution": {
     "iopub.execute_input": "2022-01-05T00:58:08.431537Z",
     "iopub.status.busy": "2022-01-05T00:58:08.431073Z",
     "iopub.status.idle": "2022-01-05T00:58:08.470161Z",
     "shell.execute_reply": "2022-01-05T00:58:08.469760Z"
    }
   },
   "outputs": [
    {
     "data": {
      "text/html": [
       "<h4>String Length Out Of Bounds</h4>"
      ]
     },
     "metadata": {},
     "output_type": "display_data"
    },
    {
     "data": {
      "text/html": [
       "<p>Detect strings with length that is much longer/shorter than the identified \"normal\" string lengths.</p>"
      ]
     },
     "metadata": {},
     "output_type": "display_data"
    },
    {
     "data": {
      "text/html": [
       "* showing only the top 10 columns, you can change it using n_top_columns param"
      ]
     },
     "metadata": {},
     "output_type": "display_data"
    },
    {
     "data": {
      "text/html": [
       "<style type=\"text/css\">\n",
       "#T_c3f6e_ table {\n",
       "  text-align: left;\n",
       "}\n",
       "#T_c3f6e_ thead {\n",
       "  text-align: left;\n",
       "}\n",
       "#T_c3f6e_ tbody {\n",
       "  text-align: left;\n",
       "}\n",
       "#T_c3f6e_ th {\n",
       "  text-align: left;\n",
       "}\n",
       "#T_c3f6e_ td {\n",
       "  text-align: left;\n",
       "}\n",
       "</style>\n",
       "<table id=\"T_c3f6e_\">\n",
       "  <thead>\n",
       "    <tr>\n",
       "      <th class=\"blank\" >&nbsp;</th>\n",
       "      <th class=\"blank\" >&nbsp;</th>\n",
       "      <th class=\"blank level0\" >&nbsp;</th>\n",
       "      <th class=\"col_heading level0 col0\" >Number of Outlier Samples</th>\n",
       "    </tr>\n",
       "    <tr>\n",
       "      <th class=\"index_name level0\" >Column Name</th>\n",
       "      <th class=\"index_name level1\" >Range of Detected Normal String Lengths</th>\n",
       "      <th class=\"index_name level2\" >Range of Detected Outlier String Lengths</th>\n",
       "      <th class=\"blank col0\" >&nbsp;</th>\n",
       "    </tr>\n",
       "  </thead>\n",
       "  <tbody>\n",
       "    <tr>\n",
       "      <th id=\"T_c3f6e_level0_row0\" class=\"row_heading level0 row0\" rowspan=\"2\">col1</th>\n",
       "      <th id=\"T_c3f6e_level1_row0\" class=\"row_heading level1 row0\" rowspan=\"2\">7 - 9</th>\n",
       "      <th id=\"T_c3f6e_level2_row0\" class=\"row_heading level2 row0\" >1 - 1</th>\n",
       "      <td id=\"T_c3f6e_row0_col0\" class=\"data row0 col0\" >1</td>\n",
       "    </tr>\n",
       "    <tr>\n",
       "      <th id=\"T_c3f6e_level2_row1\" class=\"row_heading level2 row1\" >17 - 17</th>\n",
       "      <td id=\"T_c3f6e_row1_col0\" class=\"data row1 col0\" >1</td>\n",
       "    </tr>\n",
       "    <tr>\n",
       "      <th id=\"T_c3f6e_level0_row2\" class=\"row_heading level0 row2\" >col3</th>\n",
       "      <th id=\"T_c3f6e_level1_row2\" class=\"row_heading level1 row2\" >1 - 1</th>\n",
       "      <th id=\"T_c3f6e_level2_row2\" class=\"row_heading level2 row2\" >100 - 200</th>\n",
       "      <td id=\"T_c3f6e_row2_col0\" class=\"data row2 col0\" >2</td>\n",
       "    </tr>\n",
       "  </tbody>\n",
       "</table>\n"
      ]
     },
     "metadata": {},
     "output_type": "display_data"
    }
   ],
   "source": [
    "StringLengthOutOfBounds(min_unique_value_ratio=0.01).run(df)"
   ]
  },
  {
   "cell_type": "code",
   "execution_count": 4,
   "id": "134216d1",
   "metadata": {
    "execution": {
     "iopub.execute_input": "2022-01-05T00:58:08.474162Z",
     "iopub.status.busy": "2022-01-05T00:58:08.473700Z",
     "iopub.status.idle": "2022-01-05T00:58:08.606486Z",
     "shell.execute_reply": "2022-01-05T00:58:08.606848Z"
    }
   },
   "outputs": [
    {
     "data": {
      "text/html": [
       "<h4>String Length Out Of Bounds</h4>"
      ]
     },
     "metadata": {},
     "output_type": "display_data"
    },
    {
     "data": {
      "text/html": [
       "<p>Detect strings with length that is much longer/shorter than the identified \"normal\" string lengths.</p>"
      ]
     },
     "metadata": {},
     "output_type": "display_data"
    },
    {
     "data": {
      "text/html": [
       "* showing only the top 10 columns, you can change it using n_top_columns param"
      ]
     },
     "metadata": {},
     "output_type": "display_data"
    },
    {
     "data": {
      "text/html": [
       "<style type=\"text/css\">\n",
       "#T_bc176_ table {\n",
       "  text-align: left;\n",
       "}\n",
       "#T_bc176_ thead {\n",
       "  text-align: left;\n",
       "}\n",
       "#T_bc176_ tbody {\n",
       "  text-align: left;\n",
       "}\n",
       "#T_bc176_ th {\n",
       "  text-align: left;\n",
       "}\n",
       "#T_bc176_ td {\n",
       "  text-align: left;\n",
       "}\n",
       "</style>\n",
       "<table id=\"T_bc176_\">\n",
       "  <thead>\n",
       "    <tr>\n",
       "      <th class=\"blank\" >&nbsp;</th>\n",
       "      <th class=\"blank\" >&nbsp;</th>\n",
       "      <th class=\"blank level0\" >&nbsp;</th>\n",
       "      <th class=\"col_heading level0 col0\" >Number of Outlier Samples</th>\n",
       "    </tr>\n",
       "    <tr>\n",
       "      <th class=\"index_name level0\" >Column Name</th>\n",
       "      <th class=\"index_name level1\" >Range of Detected Normal String Lengths</th>\n",
       "      <th class=\"index_name level2\" >Range of Detected Outlier String Lengths</th>\n",
       "      <th class=\"blank col0\" >&nbsp;</th>\n",
       "    </tr>\n",
       "  </thead>\n",
       "  <tbody>\n",
       "    <tr>\n",
       "      <th id=\"T_bc176_level0_row0\" class=\"row_heading level0 row0\" >col1</th>\n",
       "      <th id=\"T_bc176_level1_row0\" class=\"row_heading level1 row0\" >1 - 2</th>\n",
       "      <th id=\"T_bc176_level2_row0\" class=\"row_heading level2 row0\" >19 - 20</th>\n",
       "      <td id=\"T_bc176_row0_col0\" class=\"data row0 col0\" >2</td>\n",
       "    </tr>\n",
       "  </tbody>\n",
       "</table>\n"
      ]
     },
     "metadata": {},
     "output_type": "display_data"
    }
   ],
   "source": [
    "col = [\"a\",\"a\",\"a\",\"a\",\"a\",\"a\",\"a\",\"a\",\"a\",\"a\",\"a\",\"a\",\"a\",\"ab\",\"ab\",\"ab\",\"ab\",\"ab\",\"ab\", \"ab\"]*1000\n",
    "col.append(\"basdbadsbaaaaaaaaaa\")\n",
    "col.append(\"basdbadsbaaaaaaaaaaa\")\n",
    "df = pd.DataFrame({\"col1\":col})\n",
    "StringLengthOutOfBounds(num_percentiles=1000, min_unique_values=3).run(df)"
   ]
  },
  {
   "cell_type": "code",
   "execution_count": null,
   "id": "7c3f78fc",
   "metadata": {},
   "outputs": [],
   "source": []
  }
 ],
 "metadata": {
  "kernelspec": {
   "display_name": "Python 3 (ipykernel)",
   "language": "python",
   "name": "python3"
  },
  "language_info": {
   "codemirror_mode": {
    "name": "ipython",
    "version": 3
   },
   "file_extension": ".py",
   "mimetype": "text/x-python",
   "name": "python",
   "nbconvert_exporter": "python",
   "pygments_lexer": "ipython3",
   "version": "3.9.9"
  }
 },
 "nbformat": 4,
 "nbformat_minor": 5
}
