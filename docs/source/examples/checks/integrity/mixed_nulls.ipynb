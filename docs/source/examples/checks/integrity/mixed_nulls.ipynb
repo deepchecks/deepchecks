{
 "cells": [
  {
   "cell_type": "markdown",
   "id": "12134987",
   "metadata": {},
   "source": [
    "# Mixed Nulls "
   ]
  },
  {
   "cell_type": "code",
   "execution_count": 1,
   "id": "891c0038",
   "metadata": {
    "execution": {
     "iopub.execute_input": "2022-01-19T16:41:22.265539Z",
     "iopub.status.busy": "2022-01-19T16:41:22.264583Z",
     "iopub.status.idle": "2022-01-19T16:41:24.221302Z",
     "shell.execute_reply": "2022-01-19T16:41:24.220553Z"
    }
   },
   "outputs": [],
   "source": [
    "from deepchecks.checks import MixedNulls\n",
    "import pandas as pd"
   ]
  },
  {
   "cell_type": "code",
   "execution_count": 2,
   "id": "6410fc74",
   "metadata": {
    "execution": {
     "iopub.execute_input": "2022-01-19T16:41:24.228783Z",
     "iopub.status.busy": "2022-01-19T16:41:24.228159Z",
     "iopub.status.idle": "2022-01-19T16:41:24.230850Z",
     "shell.execute_reply": "2022-01-19T16:41:24.231372Z"
    }
   },
   "outputs": [
    {
     "data": {
      "text/html": [
       "<h4>Mixed Nulls</h4><p>Search for various types of null values in a string column(s), including string representations of null.</p><h5>Additional Outputs</h5><p><b>&#x2713;</b> Nothing found</p>"
      ]
     },
     "metadata": {},
     "output_type": "display_data"
    }
   ],
   "source": [
    "data = {'col1': ['sog', '1', 'cat', None, None]}\n",
    "dataframe = pd.DataFrame(data=data)\n",
    "MixedNulls().run(dataframe)"
   ]
  },
  {
   "cell_type": "code",
   "execution_count": 3,
   "id": "d0f8cfbb",
   "metadata": {
    "execution": {
     "iopub.execute_input": "2022-01-19T16:41:24.243314Z",
     "iopub.status.busy": "2022-01-19T16:41:24.236450Z",
     "iopub.status.idle": "2022-01-19T16:41:24.247089Z",
     "shell.execute_reply": "2022-01-19T16:41:24.247484Z"
    },
    "tags": []
   },
   "outputs": [
    {
     "data": {
      "text/html": [
       "<h4>Mixed Nulls</h4><p>Search for various types of null values in a string column(s), including string representations of null.</p><h5>Additional Outputs</h5><div>* showing only the top 10 columns, you can change it using n_top_columns param</div><style type=\"text/css\">\n",
       "#T_1893d_ table {\n",
       "  text-align: left;\n",
       "  white-space: pre-wrap;\n",
       "}\n",
       "#T_1893d_ thead {\n",
       "  text-align: left;\n",
       "  white-space: pre-wrap;\n",
       "}\n",
       "#T_1893d_ tbody {\n",
       "  text-align: left;\n",
       "  white-space: pre-wrap;\n",
       "}\n",
       "#T_1893d_ th {\n",
       "  text-align: left;\n",
       "  white-space: pre-wrap;\n",
       "}\n",
       "#T_1893d_ td {\n",
       "  text-align: left;\n",
       "  white-space: pre-wrap;\n",
       "}\n",
       "</style>\n",
       "<table id=\"T_1893d_\">\n",
       "  <thead>\n",
       "    <tr>\n",
       "      <th class=\"blank\" >&nbsp;</th>\n",
       "      <th class=\"blank level0\" >&nbsp;</th>\n",
       "      <th class=\"col_heading level0 col0\" >Count</th>\n",
       "      <th class=\"col_heading level0 col1\" >Percent of data</th>\n",
       "    </tr>\n",
       "    <tr>\n",
       "      <th class=\"index_name level0\" >Column Name</th>\n",
       "      <th class=\"index_name level1\" >Value</th>\n",
       "      <th class=\"blank col0\" >&nbsp;</th>\n",
       "      <th class=\"blank col1\" >&nbsp;</th>\n",
       "    </tr>\n",
       "  </thead>\n",
       "  <tbody>\n",
       "    <tr>\n",
       "      <th id=\"T_1893d_level0_row0\" class=\"row_heading level0 row0\" rowspan=\"4\">col1</th>\n",
       "      <th id=\"T_1893d_level1_row0\" class=\"row_heading level1 row0\" >nan</th>\n",
       "      <td id=\"T_1893d_row0_col0\" class=\"data row0 col0\" >1</td>\n",
       "      <td id=\"T_1893d_row0_col1\" class=\"data row0 col1\" >16.67%</td>\n",
       "    </tr>\n",
       "    <tr>\n",
       "      <th id=\"T_1893d_level1_row1\" class=\"row_heading level1 row1\" >nan</th>\n",
       "      <td id=\"T_1893d_row1_col0\" class=\"data row1 col0\" >1</td>\n",
       "      <td id=\"T_1893d_row1_col1\" class=\"data row1 col1\" >16.67%</td>\n",
       "    </tr>\n",
       "    <tr>\n",
       "      <th id=\"T_1893d_level1_row2\" class=\"row_heading level1 row2\" >null</th>\n",
       "      <td id=\"T_1893d_row2_col0\" class=\"data row2 col0\" >1</td>\n",
       "      <td id=\"T_1893d_row2_col1\" class=\"data row2 col1\" >16.67%</td>\n",
       "    </tr>\n",
       "    <tr>\n",
       "      <th id=\"T_1893d_level1_row3\" class=\"row_heading level1 row3\" >Nan</th>\n",
       "      <td id=\"T_1893d_row3_col0\" class=\"data row3 col0\" >1</td>\n",
       "      <td id=\"T_1893d_row3_col1\" class=\"data row3 col1\" >16.67%</td>\n",
       "    </tr>\n",
       "    <tr>\n",
       "      <th id=\"T_1893d_level0_row4\" class=\"row_heading level0 row4\" rowspan=\"2\">col2</th>\n",
       "      <th id=\"T_1893d_level1_row4\" class=\"row_heading level1 row4\" ></th>\n",
       "      <td id=\"T_1893d_row4_col0\" class=\"data row4 col0\" >2</td>\n",
       "      <td id=\"T_1893d_row4_col1\" class=\"data row4 col1\" >33.33%</td>\n",
       "    </tr>\n",
       "    <tr>\n",
       "      <th id=\"T_1893d_level1_row5\" class=\"row_heading level1 row5\" >None</th>\n",
       "      <td id=\"T_1893d_row5_col0\" class=\"data row5 col0\" >1</td>\n",
       "      <td id=\"T_1893d_row5_col1\" class=\"data row5 col1\" >16.67%</td>\n",
       "    </tr>\n",
       "  </tbody>\n",
       "</table>\n"
      ]
     },
     "metadata": {},
     "output_type": "display_data"
    }
   ],
   "source": [
    "data = {'col1': ['nan', None, 'null', 'Nan', '1', 'cat'], 'col2':['', '', 'None', 'a', 'b', 'c'], 'col3': [1,2,3,4,5,6]}\n",
    "dataframe = pd.DataFrame(data=data)\n",
    "MixedNulls().run(dataframe)"
   ]
  }
 ],
 "metadata": {
  "kernelspec": {
   "display_name": "Python 3 (ipykernel)",
   "language": "python",
   "name": "python3"
  },
  "language_info": {
   "codemirror_mode": {
    "name": "ipython",
    "version": 3
   },
   "file_extension": ".py",
   "mimetype": "text/x-python",
   "name": "python",
   "nbconvert_exporter": "python",
   "pygments_lexer": "ipython3",
   "version": "3.8.6"
  }
 },
 "nbformat": 4,
 "nbformat_minor": 5
}
