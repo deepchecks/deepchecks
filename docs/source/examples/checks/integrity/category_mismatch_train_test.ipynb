{
 "cells": [
  {
   "cell_type": "markdown",
   "id": "9fb912a1",
   "metadata": {},
   "source": [
    "# New Category "
   ]
  },
  {
   "cell_type": "code",
   "execution_count": 1,
   "id": "b6c42074",
   "metadata": {
    "execution": {
     "iopub.execute_input": "2022-01-28T00:54:52.040504Z",
     "iopub.status.busy": "2022-01-28T00:54:52.039904Z",
     "iopub.status.idle": "2022-01-28T00:54:53.682177Z",
     "shell.execute_reply": "2022-01-28T00:54:53.682576Z"
    }
   },
   "outputs": [
    {
     "name": "stderr",
     "output_type": "stream",
     "text": [
      "/home/runner/work/deepchecks/deepchecks/venv/lib/python3.9/site-packages/statsmodels/compat/pandas.py:65: FutureWarning:\n",
      "\n",
      "pandas.Int64Index is deprecated and will be removed from pandas in a future version. Use pandas.Index with the appropriate dtype instead.\n",
      "\n"
     ]
    }
   ],
   "source": [
    "from deepchecks.tabular.checks.integrity.new_category import CategoryMismatchTrainTest\n",
    "from deepchecks.tabular.base import Dataset\n",
    "import pandas as pd"
   ]
  },
  {
   "cell_type": "code",
   "execution_count": 2,
   "id": "ee76ed5c",
   "metadata": {
    "execution": {
     "iopub.execute_input": "2022-01-28T00:54:53.689922Z",
     "iopub.status.busy": "2022-01-28T00:54:53.688762Z",
     "iopub.status.idle": "2022-01-28T00:54:53.690457Z",
     "shell.execute_reply": "2022-01-28T00:54:53.690828Z"
    }
   },
   "outputs": [],
   "source": [
    "train_data = {\"col1\": [\"somebody\", \"once\", \"told\", \"me\"] * 10}\n",
    "test_data = {\"col1\": [\"the\",\"world\",\"is\", \"gonna\", \"role\", \"me\",\"I\", \"I\"] * 10}\n",
    "train = Dataset(pd.DataFrame(data=train_data), cat_features=[\"col1\"])\n",
    "test = Dataset(pd.DataFrame(data=test_data), cat_features=[\"col1\"])"
   ]
  },
  {
   "cell_type": "code",
   "execution_count": 3,
   "id": "3171fe14",
   "metadata": {
    "execution": {
     "iopub.execute_input": "2022-01-28T00:54:53.699274Z",
     "iopub.status.busy": "2022-01-28T00:54:53.698793Z",
     "iopub.status.idle": "2022-01-28T00:54:53.891761Z",
     "shell.execute_reply": "2022-01-28T00:54:53.891270Z"
    }
   },
   "outputs": [
    {
     "name": "stderr",
     "output_type": "stream",
     "text": [
      "/home/runner/work/deepchecks/deepchecks/deepchecks/core/display_pandas.py:54: FutureWarning:\n",
      "\n",
      "this method is deprecated in favour of `Styler.to_html()`\n",
      "\n"
     ]
    },
    {
     "data": {
      "text/html": [
       "<h4>Category Mismatch Train Test</h4><p>Find new categories in the test set. <a href=\"https://docs.deepchecks.com/en/0.4.1/examples/checks/integrity/new_category.html?utm_source=display_output&utm_medium=referral&utm_campaign=check_link\" target=\"_blank\">Read More...</a></p><h5>Additional Outputs</h5><style type=\"text/css\">\n",
       "#T_fdf10 table {\n",
       "  text-align: left;\n",
       "  white-space: pre-wrap;\n",
       "}\n",
       "#T_fdf10 thead {\n",
       "  text-align: left;\n",
       "  white-space: pre-wrap;\n",
       "}\n",
       "#T_fdf10 tbody {\n",
       "  text-align: left;\n",
       "  white-space: pre-wrap;\n",
       "}\n",
       "#T_fdf10 th {\n",
       "  text-align: left;\n",
       "  white-space: pre-wrap;\n",
       "}\n",
       "#T_fdf10 td {\n",
       "  text-align: left;\n",
       "  white-space: pre-wrap;\n",
       "}\n",
       "</style>\n",
       "<table id=\"T_fdf10\">\n",
       "  <thead>\n",
       "    <tr>\n",
       "      <th class=\"blank level0\" >&nbsp;</th>\n",
       "      <th id=\"T_fdf10_level0_col0\" class=\"col_heading level0 col0\" >Number of new categories</th>\n",
       "      <th id=\"T_fdf10_level0_col1\" class=\"col_heading level0 col1\" >Percent of new categories in sample</th>\n",
       "      <th id=\"T_fdf10_level0_col2\" class=\"col_heading level0 col2\" >New categories examples</th>\n",
       "    </tr>\n",
       "    <tr>\n",
       "      <th class=\"index_name level0\" >Column</th>\n",
       "      <th class=\"blank col0\" >&nbsp;</th>\n",
       "      <th class=\"blank col1\" >&nbsp;</th>\n",
       "      <th class=\"blank col2\" >&nbsp;</th>\n",
       "    </tr>\n",
       "  </thead>\n",
       "  <tbody>\n",
       "    <tr>\n",
       "      <th id=\"T_fdf10_level0_row0\" class=\"row_heading level0 row0\" >col1</th>\n",
       "      <td id=\"T_fdf10_row0_col0\" class=\"data row0 col0\" >6</td>\n",
       "      <td id=\"T_fdf10_row0_col1\" class=\"data row0 col1\" >87.5%</td>\n",
       "      <td id=\"T_fdf10_row0_col2\" class=\"data row0 col2\" >['I', 'gonna', 'is', 'role', 'the']</td>\n",
       "    </tr>\n",
       "  </tbody>\n",
       "</table>\n"
      ]
     },
     "metadata": {},
     "output_type": "display_data"
    }
   ],
   "source": [
    "CategoryMismatchTrainTest().run(train, test)"
   ]
  },
  {
   "cell_type": "code",
   "execution_count": 4,
   "id": "7536f60c",
   "metadata": {
    "execution": {
     "iopub.execute_input": "2022-01-28T00:54:53.898400Z",
     "iopub.status.busy": "2022-01-28T00:54:53.897357Z",
     "iopub.status.idle": "2022-01-28T00:54:53.898945Z",
     "shell.execute_reply": "2022-01-28T00:54:53.899323Z"
    }
   },
   "outputs": [],
   "source": [
    "train_data = {\"col1\": [\"a\", \"b\", \"a\", \"c\"] * 10, \"col2\": ['a','b','b','q']*10}\n",
    "test_data = {\"col1\": [\"a\",\"b\",\"d\"] * 10, \"col2\": ['a', '2', '1']*10}\n",
    "train = Dataset(pd.DataFrame(data=train_data), cat_features=[\"col1\",\"col2\"])\n",
    "test = Dataset(pd.DataFrame(data=test_data), cat_features=[\"col1\", \"col2\"])"
   ]
  },
  {
   "cell_type": "code",
   "execution_count": 5,
   "id": "b81bc4a1",
   "metadata": {
    "execution": {
     "iopub.execute_input": "2022-01-28T00:54:53.907473Z",
     "iopub.status.busy": "2022-01-28T00:54:53.907003Z",
     "iopub.status.idle": "2022-01-28T00:54:53.926717Z",
     "shell.execute_reply": "2022-01-28T00:54:53.927098Z"
    }
   },
   "outputs": [
    {
     "name": "stderr",
     "output_type": "stream",
     "text": [
      "/home/runner/work/deepchecks/deepchecks/deepchecks/core/display_pandas.py:54: FutureWarning:\n",
      "\n",
      "this method is deprecated in favour of `Styler.to_html()`\n",
      "\n"
     ]
    },
    {
     "data": {
      "text/html": [
       "<h4>Category Mismatch Train Test</h4><p>Find new categories in the test set. <a href=\"https://docs.deepchecks.com/en/0.4.1/examples/checks/integrity/new_category.html?utm_source=display_output&utm_medium=referral&utm_campaign=check_link\" target=\"_blank\">Read More...</a></p><h5>Additional Outputs</h5><style type=\"text/css\">\n",
       "#T_22573 table {\n",
       "  text-align: left;\n",
       "  white-space: pre-wrap;\n",
       "}\n",
       "#T_22573 thead {\n",
       "  text-align: left;\n",
       "  white-space: pre-wrap;\n",
       "}\n",
       "#T_22573 tbody {\n",
       "  text-align: left;\n",
       "  white-space: pre-wrap;\n",
       "}\n",
       "#T_22573 th {\n",
       "  text-align: left;\n",
       "  white-space: pre-wrap;\n",
       "}\n",
       "#T_22573 td {\n",
       "  text-align: left;\n",
       "  white-space: pre-wrap;\n",
       "}\n",
       "</style>\n",
       "<table id=\"T_22573\">\n",
       "  <thead>\n",
       "    <tr>\n",
       "      <th class=\"blank level0\" >&nbsp;</th>\n",
       "      <th id=\"T_22573_level0_col0\" class=\"col_heading level0 col0\" >Number of new categories</th>\n",
       "      <th id=\"T_22573_level0_col1\" class=\"col_heading level0 col1\" >Percent of new categories in sample</th>\n",
       "      <th id=\"T_22573_level0_col2\" class=\"col_heading level0 col2\" >New categories examples</th>\n",
       "    </tr>\n",
       "    <tr>\n",
       "      <th class=\"index_name level0\" >Column</th>\n",
       "      <th class=\"blank col0\" >&nbsp;</th>\n",
       "      <th class=\"blank col1\" >&nbsp;</th>\n",
       "      <th class=\"blank col2\" >&nbsp;</th>\n",
       "    </tr>\n",
       "  </thead>\n",
       "  <tbody>\n",
       "    <tr>\n",
       "      <th id=\"T_22573_level0_row0\" class=\"row_heading level0 row0\" >col2</th>\n",
       "      <td id=\"T_22573_row0_col0\" class=\"data row0 col0\" >2</td>\n",
       "      <td id=\"T_22573_row0_col1\" class=\"data row0 col1\" >66.67%</td>\n",
       "      <td id=\"T_22573_row0_col2\" class=\"data row0 col2\" >['1', '2']</td>\n",
       "    </tr>\n",
       "    <tr>\n",
       "      <th id=\"T_22573_level0_row1\" class=\"row_heading level0 row1\" >col1</th>\n",
       "      <td id=\"T_22573_row1_col0\" class=\"data row1 col0\" >1</td>\n",
       "      <td id=\"T_22573_row1_col1\" class=\"data row1 col1\" >33.33%</td>\n",
       "      <td id=\"T_22573_row1_col2\" class=\"data row1 col2\" >['d']</td>\n",
       "    </tr>\n",
       "  </tbody>\n",
       "</table>\n"
      ]
     },
     "metadata": {},
     "output_type": "display_data"
    }
   ],
   "source": [
    "CategoryMismatchTrainTest().run(train, test)"
   ]
  }
 ],
 "metadata": {
  "kernelspec": {
   "display_name": "Python 3 (ipykernel)",
   "language": "python",
   "name": "python3"
  },
  "language_info": {
   "codemirror_mode": {
    "name": "ipython",
    "version": 3
   },
   "file_extension": ".py",
   "mimetype": "text/x-python",
   "name": "python",
   "nbconvert_exporter": "python",
   "pygments_lexer": "ipython3",
   "version": "3.9.10"
  }
 },
 "nbformat": 4,
 "nbformat_minor": 5
}
