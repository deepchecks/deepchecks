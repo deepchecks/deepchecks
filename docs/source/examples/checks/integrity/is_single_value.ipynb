{
 "cells": [
  {
   "cell_type": "markdown",
   "id": "0fe223b5",
   "metadata": {},
   "source": [
    "# Is Single Value "
   ]
  },
  {
   "cell_type": "markdown",
   "id": "e2689ce0",
   "metadata": {},
   "source": [
    "## Imports"
   ]
  },
  {
   "cell_type": "code",
   "execution_count": 1,
   "id": "c942f7bc",
   "metadata": {
    "execution": {
     "iopub.execute_input": "2022-01-26T16:21:49.359304Z",
     "iopub.status.busy": "2022-01-26T16:21:49.357560Z",
     "iopub.status.idle": "2022-01-26T16:21:51.734845Z",
     "shell.execute_reply": "2022-01-26T16:21:51.735394Z"
    }
   },
   "outputs": [],
   "source": [
    "from sklearn.datasets import load_iris\n",
    "import pandas as pd\n",
    "from deepchecks.checks.integrity.is_single_value import IsSingleValue"
   ]
  },
  {
   "cell_type": "markdown",
   "id": "33ecceaf",
   "metadata": {},
   "source": [
    "## Load data"
   ]
  },
  {
   "cell_type": "code",
   "execution_count": 2,
   "id": "9f354337",
   "metadata": {
    "execution": {
     "iopub.execute_input": "2022-01-26T16:21:51.740494Z",
     "iopub.status.busy": "2022-01-26T16:21:51.739932Z",
     "iopub.status.idle": "2022-01-26T16:21:51.756618Z",
     "shell.execute_reply": "2022-01-26T16:21:51.757520Z"
    }
   },
   "outputs": [
    {
     "data": {
      "text/html": [
       "<div>\n",
       "<style scoped>\n",
       "    .dataframe tbody tr th:only-of-type {\n",
       "        vertical-align: middle;\n",
       "    }\n",
       "\n",
       "    .dataframe tbody tr th {\n",
       "        vertical-align: top;\n",
       "    }\n",
       "\n",
       "    .dataframe thead th {\n",
       "        text-align: right;\n",
       "    }\n",
       "</style>\n",
       "<table border=\"1\" class=\"dataframe\">\n",
       "  <thead>\n",
       "    <tr style=\"text-align: right;\">\n",
       "      <th></th>\n",
       "      <th>a</th>\n",
       "      <th>b</th>\n",
       "      <th>c</th>\n",
       "      <th>d</th>\n",
       "    </tr>\n",
       "  </thead>\n",
       "  <tbody>\n",
       "    <tr>\n",
       "      <th>0</th>\n",
       "      <td>3</td>\n",
       "      <td>2</td>\n",
       "      <td>None</td>\n",
       "      <td>a</td>\n",
       "    </tr>\n",
       "    <tr>\n",
       "      <th>1</th>\n",
       "      <td>4</td>\n",
       "      <td>2</td>\n",
       "      <td>None</td>\n",
       "      <td>4</td>\n",
       "    </tr>\n",
       "    <tr>\n",
       "      <th>2</th>\n",
       "      <td>1</td>\n",
       "      <td>2</td>\n",
       "      <td>None</td>\n",
       "      <td>6</td>\n",
       "    </tr>\n",
       "  </tbody>\n",
       "</table>\n",
       "</div>"
      ],
      "text/plain": [
       "   a  b     c  d\n",
       "0  3  2  None  a\n",
       "1  4  2  None  4\n",
       "2  1  2  None  6"
      ]
     },
     "execution_count": 2,
     "metadata": {},
     "output_type": "execute_result"
    }
   ],
   "source": [
    "iris = load_iris()\n",
    "X = iris.data\n",
    "df = pd.DataFrame({'a':[3,4,1], 'b':[2,2,2], 'c':[None, None, None], 'd':['a', 4, 6]})\n",
    "df\n"
   ]
  },
  {
   "cell_type": "markdown",
   "id": "428f8afb",
   "metadata": {},
   "source": [
    "## See functionality"
   ]
  },
  {
   "cell_type": "code",
   "execution_count": 3,
   "id": "32b05172",
   "metadata": {
    "execution": {
     "iopub.execute_input": "2022-01-26T16:21:51.766925Z",
     "iopub.status.busy": "2022-01-26T16:21:51.766019Z",
     "iopub.status.idle": "2022-01-26T16:21:51.769268Z",
     "shell.execute_reply": "2022-01-26T16:21:51.769805Z"
    }
   },
   "outputs": [
    {
     "data": {
      "text/html": [
       "<h4>Single Value in Column</h4><p>Check if there are columns which have only a single unique value in all rows. <a href=\"https://docs.deepchecks.com/en/0.4.0/examples/checks/integrity/is_single_value.html?utm_source=display_output&utm_medium=referral&utm_campaign=check_link\" target=\"_blank\">Read More...</a></p><h5>Additional Outputs</h5><p><b>&#x2713;</b> Nothing found</p>"
      ]
     },
     "metadata": {},
     "output_type": "display_data"
    }
   ],
   "source": [
    "IsSingleValue().run(pd.DataFrame(X))"
   ]
  },
  {
   "cell_type": "code",
   "execution_count": 4,
   "id": "bb6cfb31",
   "metadata": {
    "execution": {
     "iopub.execute_input": "2022-01-26T16:21:51.779693Z",
     "iopub.status.busy": "2022-01-26T16:21:51.778801Z",
     "iopub.status.idle": "2022-01-26T16:21:51.781731Z",
     "shell.execute_reply": "2022-01-26T16:21:51.782259Z"
    }
   },
   "outputs": [
    {
     "data": {
      "text/html": [
       "<h4>Single Value in Column</h4><p>Check if there are columns which have only a single unique value in all rows. <a href=\"https://docs.deepchecks.com/en/0.4.0/examples/checks/integrity/is_single_value.html?utm_source=display_output&utm_medium=referral&utm_campaign=check_link\" target=\"_blank\">Read More...</a></p><h5>Additional Outputs</h5><div>The following columns have only one unique value</div><style type=\"text/css\">\n",
       "#T_085d2_ table {\n",
       "  text-align: left;\n",
       "  white-space: pre-wrap;\n",
       "}\n",
       "#T_085d2_ thead {\n",
       "  text-align: left;\n",
       "  white-space: pre-wrap;\n",
       "}\n",
       "#T_085d2_ tbody {\n",
       "  text-align: left;\n",
       "  white-space: pre-wrap;\n",
       "}\n",
       "#T_085d2_ th {\n",
       "  text-align: left;\n",
       "  white-space: pre-wrap;\n",
       "}\n",
       "#T_085d2_ td {\n",
       "  text-align: left;\n",
       "  white-space: pre-wrap;\n",
       "}\n",
       "</style>\n",
       "<table id=\"T_085d2_\">\n",
       "  <thead>\n",
       "    <tr>\n",
       "      <th class=\"blank level0\" >&nbsp;</th>\n",
       "      <th class=\"col_heading level0 col0\" >b</th>\n",
       "      <th class=\"col_heading level0 col1\" >c</th>\n",
       "    </tr>\n",
       "  </thead>\n",
       "  <tbody>\n",
       "    <tr>\n",
       "      <th id=\"T_085d2_level0_row0\" class=\"row_heading level0 row0\" >Single unique value</th>\n",
       "      <td id=\"T_085d2_row0_col0\" class=\"data row0 col0\" >2</td>\n",
       "      <td id=\"T_085d2_row0_col1\" class=\"data row0 col1\" >None</td>\n",
       "    </tr>\n",
       "  </tbody>\n",
       "</table>\n"
      ]
     },
     "metadata": {},
     "output_type": "display_data"
    }
   ],
   "source": [
    "IsSingleValue().run(pd.DataFrame({'a':[3,4], 'b':[2,2], 'c':[None, None], 'd':['a', 4]}))"
   ]
  },
  {
   "cell_type": "code",
   "execution_count": 5,
   "id": "5bf94e33",
   "metadata": {
    "execution": {
     "iopub.execute_input": "2022-01-26T16:21:51.791785Z",
     "iopub.status.busy": "2022-01-26T16:21:51.790945Z",
     "iopub.status.idle": "2022-01-26T16:21:51.795200Z",
     "shell.execute_reply": "2022-01-26T16:21:51.796322Z"
    },
    "scrolled": true
   },
   "outputs": [
    {
     "data": {
      "text/html": [
       "<h4>Single Value in Column</h4><p>Check if there are columns which have only a single unique value in all rows. <a href=\"https://docs.deepchecks.com/en/0.4.0/examples/checks/integrity/is_single_value.html?utm_source=display_output&utm_medium=referral&utm_campaign=check_link\" target=\"_blank\">Read More...</a></p><h5>Additional Outputs</h5><div>The following columns have only one unique value</div><style type=\"text/css\">\n",
       "#T_0d46f_ table {\n",
       "  text-align: left;\n",
       "  white-space: pre-wrap;\n",
       "}\n",
       "#T_0d46f_ thead {\n",
       "  text-align: left;\n",
       "  white-space: pre-wrap;\n",
       "}\n",
       "#T_0d46f_ tbody {\n",
       "  text-align: left;\n",
       "  white-space: pre-wrap;\n",
       "}\n",
       "#T_0d46f_ th {\n",
       "  text-align: left;\n",
       "  white-space: pre-wrap;\n",
       "}\n",
       "#T_0d46f_ td {\n",
       "  text-align: left;\n",
       "  white-space: pre-wrap;\n",
       "}\n",
       "</style>\n",
       "<table id=\"T_0d46f_\">\n",
       "  <thead>\n",
       "    <tr>\n",
       "      <th class=\"blank level0\" >&nbsp;</th>\n",
       "      <th class=\"col_heading level0 col0\" >b</th>\n",
       "      <th class=\"col_heading level0 col1\" >c</th>\n",
       "    </tr>\n",
       "  </thead>\n",
       "  <tbody>\n",
       "    <tr>\n",
       "      <th id=\"T_0d46f_level0_row0\" class=\"row_heading level0 row0\" >Single unique value</th>\n",
       "      <td id=\"T_0d46f_row0_col0\" class=\"data row0 col0\" >2</td>\n",
       "      <td id=\"T_0d46f_row0_col1\" class=\"data row0 col1\" >None</td>\n",
       "    </tr>\n",
       "  </tbody>\n",
       "</table>\n"
      ]
     },
     "metadata": {},
     "output_type": "display_data"
    }
   ],
   "source": [
    "sv = IsSingleValue()\n",
    "sv.run(df)"
   ]
  },
  {
   "cell_type": "code",
   "execution_count": 6,
   "id": "e27dfa38",
   "metadata": {
    "execution": {
     "iopub.execute_input": "2022-01-26T16:21:51.808155Z",
     "iopub.status.busy": "2022-01-26T16:21:51.806311Z",
     "iopub.status.idle": "2022-01-26T16:21:51.811651Z",
     "shell.execute_reply": "2022-01-26T16:21:51.812285Z"
    }
   },
   "outputs": [
    {
     "data": {
      "text/html": [
       "<h4>Single Value in Column</h4><p>Check if there are columns which have only a single unique value in all rows. <a href=\"https://docs.deepchecks.com/en/0.4.0/examples/checks/integrity/is_single_value.html?utm_source=display_output&utm_medium=referral&utm_campaign=check_link\" target=\"_blank\">Read More...</a></p><h5>Additional Outputs</h5><p><b>&#x2713;</b> Nothing found</p>"
      ]
     },
     "metadata": {},
     "output_type": "display_data"
    }
   ],
   "source": [
    "sv_ignore = IsSingleValue(ignore_columns=['b','c'])\n",
    "sv_ignore.run(df)"
   ]
  }
 ],
 "metadata": {
  "kernelspec": {
   "display_name": "Python 3 (ipykernel)",
   "language": "python",
   "name": "python3"
  },
  "language_info": {
   "codemirror_mode": {
    "name": "ipython",
    "version": 3
   },
   "file_extension": ".py",
   "mimetype": "text/x-python",
   "name": "python",
   "nbconvert_exporter": "python",
   "pygments_lexer": "ipython3",
   "version": "3.8.6"
  }
 },
 "nbformat": 4,
 "nbformat_minor": 5
}
