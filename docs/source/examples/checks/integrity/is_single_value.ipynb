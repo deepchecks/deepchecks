{
 "cells": [
  {
   "cell_type": "markdown",
   "id": "0fe223b5",
   "metadata": {},
   "source": [
    "# Is Single Value "
   ]
  },
  {
   "cell_type": "markdown",
   "id": "e2689ce0",
   "metadata": {},
   "source": [
    "## Imports"
   ]
  },
  {
   "cell_type": "code",
   "execution_count": 1,
   "id": "c942f7bc",
   "metadata": {
    "execution": {
     "iopub.execute_input": "2022-01-19T16:41:07.130059Z",
     "iopub.status.busy": "2022-01-19T16:41:07.129200Z",
     "iopub.status.idle": "2022-01-19T16:41:09.158514Z",
     "shell.execute_reply": "2022-01-19T16:41:09.157588Z"
    }
   },
   "outputs": [],
   "source": [
    "from sklearn.datasets import load_iris\n",
    "import pandas as pd\n",
    "from deepchecks.checks.integrity.is_single_value import IsSingleValue"
   ]
  },
  {
   "cell_type": "markdown",
   "id": "33ecceaf",
   "metadata": {},
   "source": [
    "## Load data"
   ]
  },
  {
   "cell_type": "code",
   "execution_count": 2,
   "id": "9f354337",
   "metadata": {
    "execution": {
     "iopub.execute_input": "2022-01-19T16:41:09.163894Z",
     "iopub.status.busy": "2022-01-19T16:41:09.163311Z",
     "iopub.status.idle": "2022-01-19T16:41:09.175078Z",
     "shell.execute_reply": "2022-01-19T16:41:09.175752Z"
    }
   },
   "outputs": [
    {
     "data": {
      "text/html": [
       "<div>\n",
       "<style scoped>\n",
       "    .dataframe tbody tr th:only-of-type {\n",
       "        vertical-align: middle;\n",
       "    }\n",
       "\n",
       "    .dataframe tbody tr th {\n",
       "        vertical-align: top;\n",
       "    }\n",
       "\n",
       "    .dataframe thead th {\n",
       "        text-align: right;\n",
       "    }\n",
       "</style>\n",
       "<table border=\"1\" class=\"dataframe\">\n",
       "  <thead>\n",
       "    <tr style=\"text-align: right;\">\n",
       "      <th></th>\n",
       "      <th>a</th>\n",
       "      <th>b</th>\n",
       "      <th>c</th>\n",
       "      <th>d</th>\n",
       "    </tr>\n",
       "  </thead>\n",
       "  <tbody>\n",
       "    <tr>\n",
       "      <th>0</th>\n",
       "      <td>3</td>\n",
       "      <td>2</td>\n",
       "      <td>None</td>\n",
       "      <td>a</td>\n",
       "    </tr>\n",
       "    <tr>\n",
       "      <th>1</th>\n",
       "      <td>4</td>\n",
       "      <td>2</td>\n",
       "      <td>None</td>\n",
       "      <td>4</td>\n",
       "    </tr>\n",
       "    <tr>\n",
       "      <th>2</th>\n",
       "      <td>1</td>\n",
       "      <td>2</td>\n",
       "      <td>None</td>\n",
       "      <td>6</td>\n",
       "    </tr>\n",
       "  </tbody>\n",
       "</table>\n",
       "</div>"
      ],
      "text/plain": [
       "   a  b     c  d\n",
       "0  3  2  None  a\n",
       "1  4  2  None  4\n",
       "2  1  2  None  6"
      ]
     },
     "execution_count": 2,
     "metadata": {},
     "output_type": "execute_result"
    }
   ],
   "source": [
    "iris = load_iris()\n",
    "X = iris.data\n",
    "df = pd.DataFrame({'a':[3,4,1], 'b':[2,2,2], 'c':[None, None, None], 'd':['a', 4, 6]})\n",
    "df\n"
   ]
  },
  {
   "cell_type": "markdown",
   "id": "428f8afb",
   "metadata": {},
   "source": [
    "## See functionality"
   ]
  },
  {
   "cell_type": "code",
   "execution_count": 3,
   "id": "32b05172",
   "metadata": {
    "execution": {
     "iopub.execute_input": "2022-01-19T16:41:09.182558Z",
     "iopub.status.busy": "2022-01-19T16:41:09.181843Z",
     "iopub.status.idle": "2022-01-19T16:41:09.184845Z",
     "shell.execute_reply": "2022-01-19T16:41:09.185511Z"
    }
   },
   "outputs": [
    {
     "data": {
      "text/html": [
       "<h4>Single Value in Column</h4><p>Check if there are columns which have only a single unique value in all rows.</p><h5>Additional Outputs</h5><p><b>&#x2713;</b> Nothing found</p>"
      ]
     },
     "metadata": {},
     "output_type": "display_data"
    }
   ],
   "source": [
    "IsSingleValue().run(pd.DataFrame(X))"
   ]
  },
  {
   "cell_type": "code",
   "execution_count": 4,
   "id": "bb6cfb31",
   "metadata": {
    "execution": {
     "iopub.execute_input": "2022-01-19T16:41:09.195058Z",
     "iopub.status.busy": "2022-01-19T16:41:09.194322Z",
     "iopub.status.idle": "2022-01-19T16:41:09.196859Z",
     "shell.execute_reply": "2022-01-19T16:41:09.197314Z"
    }
   },
   "outputs": [
    {
     "data": {
      "text/html": [
       "<h4>Single Value in Column</h4><p>Check if there are columns which have only a single unique value in all rows.</p><h5>Additional Outputs</h5><div>The following columns have only one unique value</div><style type=\"text/css\">\n",
       "#T_8b19c_ table {\n",
       "  text-align: left;\n",
       "  white-space: pre-wrap;\n",
       "}\n",
       "#T_8b19c_ thead {\n",
       "  text-align: left;\n",
       "  white-space: pre-wrap;\n",
       "}\n",
       "#T_8b19c_ tbody {\n",
       "  text-align: left;\n",
       "  white-space: pre-wrap;\n",
       "}\n",
       "#T_8b19c_ th {\n",
       "  text-align: left;\n",
       "  white-space: pre-wrap;\n",
       "}\n",
       "#T_8b19c_ td {\n",
       "  text-align: left;\n",
       "  white-space: pre-wrap;\n",
       "}\n",
       "</style>\n",
       "<table id=\"T_8b19c_\">\n",
       "  <thead>\n",
       "    <tr>\n",
       "      <th class=\"blank level0\" >&nbsp;</th>\n",
       "      <th class=\"col_heading level0 col0\" >b</th>\n",
       "      <th class=\"col_heading level0 col1\" >c</th>\n",
       "    </tr>\n",
       "  </thead>\n",
       "  <tbody>\n",
       "    <tr>\n",
       "      <th id=\"T_8b19c_level0_row0\" class=\"row_heading level0 row0\" >Single unique value</th>\n",
       "      <td id=\"T_8b19c_row0_col0\" class=\"data row0 col0\" >2</td>\n",
       "      <td id=\"T_8b19c_row0_col1\" class=\"data row0 col1\" >None</td>\n",
       "    </tr>\n",
       "  </tbody>\n",
       "</table>\n"
      ]
     },
     "metadata": {},
     "output_type": "display_data"
    }
   ],
   "source": [
    "IsSingleValue().run(pd.DataFrame({'a':[3,4], 'b':[2,2], 'c':[None, None], 'd':['a', 4]}))"
   ]
  },
  {
   "cell_type": "code",
   "execution_count": 5,
   "id": "5bf94e33",
   "metadata": {
    "execution": {
     "iopub.execute_input": "2022-01-19T16:41:09.206556Z",
     "iopub.status.busy": "2022-01-19T16:41:09.205925Z",
     "iopub.status.idle": "2022-01-19T16:41:09.208877Z",
     "shell.execute_reply": "2022-01-19T16:41:09.209353Z"
    },
    "scrolled": true
   },
   "outputs": [
    {
     "data": {
      "text/html": [
       "<h4>Single Value in Column</h4><p>Check if there are columns which have only a single unique value in all rows.</p><h5>Additional Outputs</h5><div>The following columns have only one unique value</div><style type=\"text/css\">\n",
       "#T_84444_ table {\n",
       "  text-align: left;\n",
       "  white-space: pre-wrap;\n",
       "}\n",
       "#T_84444_ thead {\n",
       "  text-align: left;\n",
       "  white-space: pre-wrap;\n",
       "}\n",
       "#T_84444_ tbody {\n",
       "  text-align: left;\n",
       "  white-space: pre-wrap;\n",
       "}\n",
       "#T_84444_ th {\n",
       "  text-align: left;\n",
       "  white-space: pre-wrap;\n",
       "}\n",
       "#T_84444_ td {\n",
       "  text-align: left;\n",
       "  white-space: pre-wrap;\n",
       "}\n",
       "</style>\n",
       "<table id=\"T_84444_\">\n",
       "  <thead>\n",
       "    <tr>\n",
       "      <th class=\"blank level0\" >&nbsp;</th>\n",
       "      <th class=\"col_heading level0 col0\" >b</th>\n",
       "      <th class=\"col_heading level0 col1\" >c</th>\n",
       "    </tr>\n",
       "  </thead>\n",
       "  <tbody>\n",
       "    <tr>\n",
       "      <th id=\"T_84444_level0_row0\" class=\"row_heading level0 row0\" >Single unique value</th>\n",
       "      <td id=\"T_84444_row0_col0\" class=\"data row0 col0\" >2</td>\n",
       "      <td id=\"T_84444_row0_col1\" class=\"data row0 col1\" >None</td>\n",
       "    </tr>\n",
       "  </tbody>\n",
       "</table>\n"
      ]
     },
     "metadata": {},
     "output_type": "display_data"
    }
   ],
   "source": [
    "sv = IsSingleValue()\n",
    "sv.run(df)"
   ]
  },
  {
   "cell_type": "code",
   "execution_count": 6,
   "id": "e27dfa38",
   "metadata": {
    "execution": {
     "iopub.execute_input": "2022-01-19T16:41:09.215574Z",
     "iopub.status.busy": "2022-01-19T16:41:09.214973Z",
     "iopub.status.idle": "2022-01-19T16:41:09.218264Z",
     "shell.execute_reply": "2022-01-19T16:41:09.219207Z"
    }
   },
   "outputs": [
    {
     "data": {
      "text/html": [
       "<h4>Single Value in Column</h4><p>Check if there are columns which have only a single unique value in all rows.</p><h5>Additional Outputs</h5><p><b>&#x2713;</b> Nothing found</p>"
      ]
     },
     "metadata": {},
     "output_type": "display_data"
    }
   ],
   "source": [
    "sv_ignore = IsSingleValue(ignore_columns=['b','c'])\n",
    "sv_ignore.run(df)"
   ]
  }
 ],
 "metadata": {
  "kernelspec": {
   "display_name": "Python 3 (ipykernel)",
   "language": "python",
   "name": "python3"
  },
  "language_info": {
   "codemirror_mode": {
    "name": "ipython",
    "version": 3
   },
   "file_extension": ".py",
   "mimetype": "text/x-python",
   "name": "python",
   "nbconvert_exporter": "python",
   "pygments_lexer": "ipython3",
   "version": "3.8.6"
  }
 },
 "nbformat": 4,
 "nbformat_minor": 5
}
