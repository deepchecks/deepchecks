{
 "cells": [
  {
   "cell_type": "markdown",
   "id": "0fe223b5",
   "metadata": {},
   "source": [
    "# Is Single Value "
   ]
  },
  {
   "cell_type": "markdown",
   "id": "e2689ce0",
   "metadata": {},
   "source": [
    "## Imports"
   ]
  },
  {
   "cell_type": "code",
   "execution_count": 1,
   "id": "c942f7bc",
   "metadata": {
    "execution": {
     "iopub.execute_input": "2022-01-19T08:41:04.900793Z",
     "iopub.status.busy": "2022-01-19T08:41:04.893788Z",
     "iopub.status.idle": "2022-01-19T08:41:06.998069Z",
     "shell.execute_reply": "2022-01-19T08:41:06.996765Z"
    }
   },
   "outputs": [],
   "source": [
    "from sklearn.datasets import load_iris\n",
    "import pandas as pd\n",
    "from deepchecks.checks.integrity.is_single_value import IsSingleValue"
   ]
  },
  {
   "cell_type": "markdown",
   "id": "33ecceaf",
   "metadata": {},
   "source": [
    "## Load data"
   ]
  },
  {
   "cell_type": "code",
   "execution_count": 2,
   "id": "9f354337",
   "metadata": {
    "execution": {
     "iopub.execute_input": "2022-01-19T08:41:07.005394Z",
     "iopub.status.busy": "2022-01-19T08:41:07.003659Z",
     "iopub.status.idle": "2022-01-19T08:41:07.021740Z",
     "shell.execute_reply": "2022-01-19T08:41:07.022497Z"
    }
   },
   "outputs": [
    {
     "data": {
      "text/html": [
       "<div>\n",
       "<style scoped>\n",
       "    .dataframe tbody tr th:only-of-type {\n",
       "        vertical-align: middle;\n",
       "    }\n",
       "\n",
       "    .dataframe tbody tr th {\n",
       "        vertical-align: top;\n",
       "    }\n",
       "\n",
       "    .dataframe thead th {\n",
       "        text-align: right;\n",
       "    }\n",
       "</style>\n",
       "<table border=\"1\" class=\"dataframe\">\n",
       "  <thead>\n",
       "    <tr style=\"text-align: right;\">\n",
       "      <th></th>\n",
       "      <th>a</th>\n",
       "      <th>b</th>\n",
       "      <th>c</th>\n",
       "      <th>d</th>\n",
       "    </tr>\n",
       "  </thead>\n",
       "  <tbody>\n",
       "    <tr>\n",
       "      <th>0</th>\n",
       "      <td>3</td>\n",
       "      <td>2</td>\n",
       "      <td>None</td>\n",
       "      <td>a</td>\n",
       "    </tr>\n",
       "    <tr>\n",
       "      <th>1</th>\n",
       "      <td>4</td>\n",
       "      <td>2</td>\n",
       "      <td>None</td>\n",
       "      <td>4</td>\n",
       "    </tr>\n",
       "    <tr>\n",
       "      <th>2</th>\n",
       "      <td>1</td>\n",
       "      <td>2</td>\n",
       "      <td>None</td>\n",
       "      <td>6</td>\n",
       "    </tr>\n",
       "  </tbody>\n",
       "</table>\n",
       "</div>"
      ],
      "text/plain": [
       "   a  b     c  d\n",
       "0  3  2  None  a\n",
       "1  4  2  None  4\n",
       "2  1  2  None  6"
      ]
     },
     "execution_count": 2,
     "metadata": {},
     "output_type": "execute_result"
    }
   ],
   "source": [
    "iris = load_iris()\n",
    "X = iris.data\n",
    "df = pd.DataFrame({'a':[3,4,1], 'b':[2,2,2], 'c':[None, None, None], 'd':['a', 4, 6]})\n",
    "df\n"
   ]
  },
  {
   "cell_type": "markdown",
   "id": "428f8afb",
   "metadata": {},
   "source": [
    "## See functionality"
   ]
  },
  {
   "cell_type": "code",
   "execution_count": 3,
   "id": "32b05172",
   "metadata": {
    "execution": {
     "iopub.execute_input": "2022-01-19T08:41:07.030635Z",
     "iopub.status.busy": "2022-01-19T08:41:07.030025Z",
     "iopub.status.idle": "2022-01-19T08:41:07.035966Z",
     "shell.execute_reply": "2022-01-19T08:41:07.036546Z"
    }
   },
   "outputs": [
    {
     "data": {
      "text/html": [
       "<h4>Single Value in Column</h4><p>Check if there are columns which have only a single unique value in all rows.</p><h5>Additional Outputs</h5><p><b>&#x2713;</b> Nothing found</p>"
      ]
     },
     "metadata": {},
     "output_type": "display_data"
    }
   ],
   "source": [
    "IsSingleValue().run(pd.DataFrame(X))"
   ]
  },
  {
   "cell_type": "code",
   "execution_count": 4,
   "id": "bb6cfb31",
   "metadata": {
    "execution": {
     "iopub.execute_input": "2022-01-19T08:41:07.047830Z",
     "iopub.status.busy": "2022-01-19T08:41:07.047239Z",
     "iopub.status.idle": "2022-01-19T08:41:07.051437Z",
     "shell.execute_reply": "2022-01-19T08:41:07.050539Z"
    }
   },
   "outputs": [
    {
     "data": {
      "text/html": [
       "<h4>Single Value in Column</h4><p>Check if there are columns which have only a single unique value in all rows.</p><h5>Additional Outputs</h5><div>The following columns have only one unique value</div><style type=\"text/css\">\n",
       "#T_9400d_ table {\n",
       "  text-align: left;\n",
       "  white-space: pre-wrap;\n",
       "}\n",
       "#T_9400d_ thead {\n",
       "  text-align: left;\n",
       "  white-space: pre-wrap;\n",
       "}\n",
       "#T_9400d_ tbody {\n",
       "  text-align: left;\n",
       "  white-space: pre-wrap;\n",
       "}\n",
       "#T_9400d_ th {\n",
       "  text-align: left;\n",
       "  white-space: pre-wrap;\n",
       "}\n",
       "#T_9400d_ td {\n",
       "  text-align: left;\n",
       "  white-space: pre-wrap;\n",
       "}\n",
       "</style>\n",
       "<table id=\"T_9400d_\">\n",
       "  <thead>\n",
       "    <tr>\n",
       "      <th class=\"blank level0\" >&nbsp;</th>\n",
       "      <th class=\"col_heading level0 col0\" >b</th>\n",
       "      <th class=\"col_heading level0 col1\" >c</th>\n",
       "    </tr>\n",
       "  </thead>\n",
       "  <tbody>\n",
       "    <tr>\n",
       "      <th id=\"T_9400d_level0_row0\" class=\"row_heading level0 row0\" >Single unique value</th>\n",
       "      <td id=\"T_9400d_row0_col0\" class=\"data row0 col0\" >2</td>\n",
       "      <td id=\"T_9400d_row0_col1\" class=\"data row0 col1\" >None</td>\n",
       "    </tr>\n",
       "  </tbody>\n",
       "</table>\n"
      ]
     },
     "metadata": {},
     "output_type": "display_data"
    }
   ],
   "source": [
    "IsSingleValue().run(pd.DataFrame({'a':[3,4], 'b':[2,2], 'c':[None, None], 'd':['a', 4]}))"
   ]
  },
  {
   "cell_type": "code",
   "execution_count": 5,
   "id": "5bf94e33",
   "metadata": {
    "execution": {
     "iopub.execute_input": "2022-01-19T08:41:07.059838Z",
     "iopub.status.busy": "2022-01-19T08:41:07.059028Z",
     "iopub.status.idle": "2022-01-19T08:41:07.063539Z",
     "shell.execute_reply": "2022-01-19T08:41:07.062586Z"
    },
    "scrolled": true
   },
   "outputs": [
    {
     "data": {
      "text/html": [
       "<h4>Single Value in Column</h4><p>Check if there are columns which have only a single unique value in all rows.</p><h5>Additional Outputs</h5><div>The following columns have only one unique value</div><style type=\"text/css\">\n",
       "#T_b7447_ table {\n",
       "  text-align: left;\n",
       "  white-space: pre-wrap;\n",
       "}\n",
       "#T_b7447_ thead {\n",
       "  text-align: left;\n",
       "  white-space: pre-wrap;\n",
       "}\n",
       "#T_b7447_ tbody {\n",
       "  text-align: left;\n",
       "  white-space: pre-wrap;\n",
       "}\n",
       "#T_b7447_ th {\n",
       "  text-align: left;\n",
       "  white-space: pre-wrap;\n",
       "}\n",
       "#T_b7447_ td {\n",
       "  text-align: left;\n",
       "  white-space: pre-wrap;\n",
       "}\n",
       "</style>\n",
       "<table id=\"T_b7447_\">\n",
       "  <thead>\n",
       "    <tr>\n",
       "      <th class=\"blank level0\" >&nbsp;</th>\n",
       "      <th class=\"col_heading level0 col0\" >b</th>\n",
       "      <th class=\"col_heading level0 col1\" >c</th>\n",
       "    </tr>\n",
       "  </thead>\n",
       "  <tbody>\n",
       "    <tr>\n",
       "      <th id=\"T_b7447_level0_row0\" class=\"row_heading level0 row0\" >Single unique value</th>\n",
       "      <td id=\"T_b7447_row0_col0\" class=\"data row0 col0\" >2</td>\n",
       "      <td id=\"T_b7447_row0_col1\" class=\"data row0 col1\" >None</td>\n",
       "    </tr>\n",
       "  </tbody>\n",
       "</table>\n"
      ]
     },
     "metadata": {},
     "output_type": "display_data"
    }
   ],
   "source": [
    "sv = IsSingleValue()\n",
    "sv.run(df)"
   ]
  },
  {
   "cell_type": "code",
   "execution_count": 6,
   "id": "e27dfa38",
   "metadata": {
    "execution": {
     "iopub.execute_input": "2022-01-19T08:41:07.071241Z",
     "iopub.status.busy": "2022-01-19T08:41:07.070618Z",
     "iopub.status.idle": "2022-01-19T08:41:07.077663Z",
     "shell.execute_reply": "2022-01-19T08:41:07.076423Z"
    }
   },
   "outputs": [
    {
     "data": {
      "text/html": [
       "<h4>Single Value in Column</h4><p>Check if there are columns which have only a single unique value in all rows.</p><h5>Additional Outputs</h5><p><b>&#x2713;</b> Nothing found</p>"
      ]
     },
     "metadata": {},
     "output_type": "display_data"
    }
   ],
   "source": [
    "sv_ignore = IsSingleValue(ignore_columns=['b','c'])\n",
    "sv_ignore.run(df)"
   ]
  }
 ],
 "metadata": {
  "kernelspec": {
   "display_name": "Python 3 (ipykernel)",
   "language": "python",
   "name": "python3"
  },
  "language_info": {
   "codemirror_mode": {
    "name": "ipython",
    "version": 3
   },
   "file_extension": ".py",
   "mimetype": "text/x-python",
   "name": "python",
   "nbconvert_exporter": "python",
   "pygments_lexer": "ipython3",
   "version": "3.9.9"
  }
 },
 "nbformat": 4,
 "nbformat_minor": 5
}
