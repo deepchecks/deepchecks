{
 "cells": [
  {
   "cell_type": "markdown",
   "id": "6dfb8c67",
   "metadata": {},
   "source": [
    "# Index Leakage "
   ]
  },
  {
   "cell_type": "code",
   "execution_count": 1,
   "id": "4d212059-938a-4408-acda-0312e70dc70c",
   "metadata": {
    "execution": {
     "iopub.execute_input": "2022-02-13T01:01:07.105410Z",
     "iopub.status.busy": "2022-02-13T01:01:07.104806Z",
     "iopub.status.idle": "2022-02-13T01:01:09.103026Z",
     "shell.execute_reply": "2022-02-13T01:01:09.102155Z"
    }
   },
   "outputs": [],
   "source": [
    "from deepchecks.tabular.base import Dataset\n",
    "from deepchecks.tabular.checks import IndexTrainTestLeakage\n",
    "import pandas as pd"
   ]
  },
  {
   "cell_type": "code",
   "execution_count": 2,
   "id": "a3d8fd09-a056-47c4-a65b-cabf26c217ab",
   "metadata": {
    "execution": {
     "iopub.execute_input": "2022-02-13T01:01:09.108858Z",
     "iopub.status.busy": "2022-02-13T01:01:09.108200Z",
     "iopub.status.idle": "2022-02-13T01:01:09.112231Z",
     "shell.execute_reply": "2022-02-13T01:01:09.111365Z"
    }
   },
   "outputs": [],
   "source": [
    "def dataset_from_dict(d: dict, index_name: str = None) -> Dataset:\n",
    "    dataframe = pd.DataFrame(data=d)\n",
    "    return Dataset(dataframe, index_name=index_name)"
   ]
  },
  {
   "cell_type": "markdown",
   "id": "d80ca9b7-dc21-4edc-b8b5-b0186f5ff894",
   "metadata": {},
   "source": [
    "## Synthetic example with index leakage"
   ]
  },
  {
   "cell_type": "code",
   "execution_count": 3,
   "id": "2eb1ca1a-eccd-4707-8802-44904653f54b",
   "metadata": {
    "execution": {
     "iopub.execute_input": "2022-02-13T01:01:09.122766Z",
     "iopub.status.busy": "2022-02-13T01:01:09.121731Z",
     "iopub.status.idle": "2022-02-13T01:01:09.349782Z",
     "shell.execute_reply": "2022-02-13T01:01:09.350257Z"
    }
   },
   "outputs": [
    {
     "data": {
      "text/html": [
       "<h4>Index Train-Test Leakage</h4><p>Check if test indexes are present in train data. <a href=\"https://docs.deepchecks.com/en/0.4.2/examples/checks/tabular/methodology/index_train_test_leakage.html?utm_source=display_output&utm_medium=referral&utm_campaign=check_link\" target=\"_blank\">Read More...</a></p><h5>Additional Outputs</h5><div>40.0% of test data indexes appear in training data</div><style type=\"text/css\">\n",
       "#T_98eb7 table {\n",
       "  text-align: left;\n",
       "  white-space: pre-wrap;\n",
       "}\n",
       "#T_98eb7 thead {\n",
       "  text-align: left;\n",
       "  white-space: pre-wrap;\n",
       "}\n",
       "#T_98eb7 tbody {\n",
       "  text-align: left;\n",
       "  white-space: pre-wrap;\n",
       "}\n",
       "#T_98eb7 th {\n",
       "  text-align: left;\n",
       "  white-space: pre-wrap;\n",
       "}\n",
       "#T_98eb7 td {\n",
       "  text-align: left;\n",
       "  white-space: pre-wrap;\n",
       "}\n",
       "</style>\n",
       "<table id=\"T_98eb7\">\n",
       "  <thead>\n",
       "    <tr>\n",
       "      <th class=\"blank level0\" >&nbsp;</th>\n",
       "      <th id=\"T_98eb7_level0_col0\" class=\"col_heading level0 col0\" >0</th>\n",
       "    </tr>\n",
       "  </thead>\n",
       "  <tbody>\n",
       "    <tr>\n",
       "      <th id=\"T_98eb7_level0_row0\" class=\"row_heading level0 row0\" >Sample of test indexes in train:</th>\n",
       "      <td id=\"T_98eb7_row0_col0\" class=\"data row0 col0\" >[3, 4]</td>\n",
       "    </tr>\n",
       "  </tbody>\n",
       "</table>\n"
      ]
     },
     "metadata": {},
     "output_type": "display_data"
    }
   ],
   "source": [
    "train_ds = dataset_from_dict({'col1': [1, 2, 3, 4, 10, 11]}, 'col1')\n",
    "test_ds = dataset_from_dict({'col1': [4, 3, 5, 6, 7]}, 'col1')\n",
    "check_obj = IndexTrainTestLeakage()\n",
    "check_obj.run(train_ds, test_ds)"
   ]
  },
  {
   "cell_type": "code",
   "execution_count": 4,
   "id": "55796c5f-6e4d-46d9-b94e-a71716df8052",
   "metadata": {
    "execution": {
     "iopub.execute_input": "2022-02-13T01:01:09.357971Z",
     "iopub.status.busy": "2022-02-13T01:01:09.357416Z",
     "iopub.status.idle": "2022-02-13T01:01:09.383378Z",
     "shell.execute_reply": "2022-02-13T01:01:09.382715Z"
    }
   },
   "outputs": [
    {
     "data": {
      "text/html": [
       "<h4>Index Train-Test Leakage</h4><p>Check if test indexes are present in train data. <a href=\"https://docs.deepchecks.com/en/0.4.2/examples/checks/tabular/methodology/index_train_test_leakage.html?utm_source=display_output&utm_medium=referral&utm_campaign=check_link\" target=\"_blank\">Read More...</a></p><h5>Additional Outputs</h5><div>40.0% of test data indexes appear in training data</div><style type=\"text/css\">\n",
       "#T_37af1 table {\n",
       "  text-align: left;\n",
       "  white-space: pre-wrap;\n",
       "}\n",
       "#T_37af1 thead {\n",
       "  text-align: left;\n",
       "  white-space: pre-wrap;\n",
       "}\n",
       "#T_37af1 tbody {\n",
       "  text-align: left;\n",
       "  white-space: pre-wrap;\n",
       "}\n",
       "#T_37af1 th {\n",
       "  text-align: left;\n",
       "  white-space: pre-wrap;\n",
       "}\n",
       "#T_37af1 td {\n",
       "  text-align: left;\n",
       "  white-space: pre-wrap;\n",
       "}\n",
       "</style>\n",
       "<table id=\"T_37af1\">\n",
       "  <thead>\n",
       "    <tr>\n",
       "      <th class=\"blank level0\" >&nbsp;</th>\n",
       "      <th id=\"T_37af1_level0_col0\" class=\"col_heading level0 col0\" >0</th>\n",
       "    </tr>\n",
       "  </thead>\n",
       "  <tbody>\n",
       "    <tr>\n",
       "      <th id=\"T_37af1_level0_row0\" class=\"row_heading level0 row0\" >Sample of test indexes in train:</th>\n",
       "      <td id=\"T_37af1_row0_col0\" class=\"data row0 col0\" >[3]</td>\n",
       "    </tr>\n",
       "  </tbody>\n",
       "</table>\n"
      ]
     },
     "metadata": {},
     "output_type": "display_data"
    }
   ],
   "source": [
    "train_ds = dataset_from_dict({'col1': [1, 2, 3, 4, 10, 11]}, 'col1')\n",
    "test_ds = dataset_from_dict({'col1': [4, 3, 5, 6, 7]}, 'col1')\n",
    "check_obj = IndexTrainTestLeakage(n_index_to_show=1)\n",
    "check_obj.run(train_ds, test_ds)"
   ]
  },
  {
   "cell_type": "markdown",
   "id": "ce615997-c215-42ce-8b66-787d642b39e9",
   "metadata": {},
   "source": [
    "## Synthetic example without index leakage"
   ]
  },
  {
   "cell_type": "code",
   "execution_count": 5,
   "id": "136e8e0b-1cee-4670-8bf7-d78278d98fa7",
   "metadata": {
    "execution": {
     "iopub.execute_input": "2022-02-13T01:01:09.390296Z",
     "iopub.status.busy": "2022-02-13T01:01:09.389706Z",
     "iopub.status.idle": "2022-02-13T01:01:09.395326Z",
     "shell.execute_reply": "2022-02-13T01:01:09.394527Z"
    }
   },
   "outputs": [
    {
     "data": {
      "text/html": [
       "<h4>Index Train-Test Leakage</h4><p>Check if test indexes are present in train data. <a href=\"https://docs.deepchecks.com/en/0.4.2/examples/checks/tabular/methodology/index_train_test_leakage.html?utm_source=display_output&utm_medium=referral&utm_campaign=check_link\" target=\"_blank\">Read More...</a></p><h5>Additional Outputs</h5><p><b>&#x2713;</b> Nothing found</p>"
      ]
     },
     "metadata": {},
     "output_type": "display_data"
    }
   ],
   "source": [
    "train_ds = dataset_from_dict({'col1': [1, 2, 3, 4, 10, 11]}, 'col1')\n",
    "test_ds = dataset_from_dict({'col1': [20, 21, 5, 6, 7]}, 'col1')\n",
    "check_obj = IndexTrainTestLeakage()\n",
    "check_obj.run(train_ds, test_ds)"
   ]
  }
 ],
 "metadata": {
  "kernelspec": {
   "display_name": "Python 3 (ipykernel)",
   "language": "python",
   "name": "python3"
  },
  "language_info": {
   "codemirror_mode": {
    "name": "ipython",
    "version": 3
   },
   "file_extension": ".py",
   "mimetype": "text/x-python",
   "name": "python",
   "nbconvert_exporter": "python",
   "pygments_lexer": "ipython3",
   "version": "3.9.10"
  }
 },
 "nbformat": 4,
 "nbformat_minor": 5
}
