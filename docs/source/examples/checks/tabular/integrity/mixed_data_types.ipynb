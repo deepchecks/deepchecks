{
 "cells": [
  {
   "cell_type": "markdown",
   "id": "a97984a1-ec52-4b67-b485-508138e18c4c",
   "metadata": {},
   "source": [
    "# Mixed Data Types"
   ]
  },
  {
   "cell_type": "code",
   "execution_count": 1,
   "id": "6c2d05b9",
   "metadata": {
    "execution": {
     "iopub.execute_input": "2022-02-08T01:01:36.076586Z",
     "iopub.status.busy": "2022-02-08T01:01:36.075969Z",
     "iopub.status.idle": "2022-02-08T01:01:38.134864Z",
     "shell.execute_reply": "2022-02-08T01:01:38.135438Z"
    }
   },
   "outputs": [
    {
     "name": "stderr",
     "output_type": "stream",
     "text": [
      "/home/runner/work/deepchecks/deepchecks/venv/lib/python3.9/site-packages/statsmodels/compat/pandas.py:65: FutureWarning:\n",
      "\n",
      "pandas.Int64Index is deprecated and will be removed from pandas in a future version. Use pandas.Index with the appropriate dtype instead.\n",
      "\n"
     ]
    }
   ],
   "source": [
    "from deepchecks.tabular.checks import MixedDataTypes\n",
    "import pandas as pd"
   ]
  },
  {
   "cell_type": "markdown",
   "id": "da13d258-1b40-465d-b647-320eacecdea2",
   "metadata": {},
   "source": [
    "## Benign condition"
   ]
  },
  {
   "cell_type": "code",
   "execution_count": 2,
   "id": "5e6650a3",
   "metadata": {
    "execution": {
     "iopub.execute_input": "2022-02-08T01:01:38.147786Z",
     "iopub.status.busy": "2022-02-08T01:01:38.147088Z",
     "iopub.status.idle": "2022-02-08T01:01:38.441743Z",
     "shell.execute_reply": "2022-02-08T01:01:38.442230Z"
    }
   },
   "outputs": [
    {
     "data": {
      "text/html": [
       "<h4>Mixed Data Types</h4><p>Detect a small amount of a rare data type within a column, such as few string samples in a mostly numeric column. <a href=\"https://docs.deepchecks.com/en/0.4.2/examples/checks/tabular/integrity/mixed_data_types.html?utm_source=display_output&utm_medium=referral&utm_campaign=check_link\" target=\"_blank\">Read More...</a></p><h5>Conditions Summary</h5><style type=\"text/css\">\n",
       "#T_69ae3 table {\n",
       "  text-align: left;\n",
       "  white-space: pre-wrap;\n",
       "}\n",
       "#T_69ae3 thead {\n",
       "  text-align: left;\n",
       "  white-space: pre-wrap;\n",
       "}\n",
       "#T_69ae3 tbody {\n",
       "  text-align: left;\n",
       "  white-space: pre-wrap;\n",
       "}\n",
       "#T_69ae3 th {\n",
       "  text-align: left;\n",
       "  white-space: pre-wrap;\n",
       "}\n",
       "#T_69ae3 td {\n",
       "  text-align: left;\n",
       "  white-space: pre-wrap;\n",
       "}\n",
       "</style>\n",
       "<table id=\"T_69ae3\">\n",
       "  <thead>\n",
       "    <tr>\n",
       "      <th id=\"T_69ae3_level0_col0\" class=\"col_heading level0 col0\" >Status</th>\n",
       "      <th id=\"T_69ae3_level0_col1\" class=\"col_heading level0 col1\" >Condition</th>\n",
       "      <th id=\"T_69ae3_level0_col2\" class=\"col_heading level0 col2\" >More Info</th>\n",
       "    </tr>\n",
       "  </thead>\n",
       "  <tbody>\n",
       "    <tr>\n",
       "      <td id=\"T_69ae3_row0_col0\" class=\"data row0 col0\" ><div style=\"color: green;text-align: center\">✓</div></td>\n",
       "      <td id=\"T_69ae3_row0_col1\" class=\"data row0 col1\" >Rare data types in column are either more than 10% or less than 1% of the data</td>\n",
       "      <td id=\"T_69ae3_row0_col2\" class=\"data row0 col2\" ></td>\n",
       "    </tr>\n",
       "  </tbody>\n",
       "</table>\n",
       "<h5>Additional Outputs</h5><p><b>&#x2713;</b> Nothing found</p>"
      ]
     },
     "metadata": {},
     "output_type": "display_data"
    }
   ],
   "source": [
    "data = {'col1': ['foo', 'bar', 'cat']}\n",
    "dataframe = pd.DataFrame(data=data)\n",
    "MixedDataTypes().add_condition_rare_type_ratio_not_in_range().run(dataframe)"
   ]
  },
  {
   "cell_type": "markdown",
   "id": "3aa1c088-cbdb-4718-88e3-e6f8590cd8b8",
   "metadata": {},
   "source": [
    "## Issue detected"
   ]
  },
  {
   "cell_type": "code",
   "execution_count": 3,
   "id": "ab11a1f7",
   "metadata": {
    "execution": {
     "iopub.execute_input": "2022-02-08T01:01:38.455821Z",
     "iopub.status.busy": "2022-02-08T01:01:38.455260Z",
     "iopub.status.idle": "2022-02-08T01:01:38.509386Z",
     "shell.execute_reply": "2022-02-08T01:01:38.510021Z"
    },
    "tags": []
   },
   "outputs": [
    {
     "data": {
      "text/html": [
       "<h4>Mixed Data Types</h4><p>Detect a small amount of a rare data type within a column, such as few string samples in a mostly numeric column. <a href=\"https://docs.deepchecks.com/en/0.4.2/examples/checks/tabular/integrity/mixed_data_types.html?utm_source=display_output&utm_medium=referral&utm_campaign=check_link\" target=\"_blank\">Read More...</a></p><h5>Conditions Summary</h5><style type=\"text/css\">\n",
       "#T_aeda9 table {\n",
       "  text-align: left;\n",
       "  white-space: pre-wrap;\n",
       "}\n",
       "#T_aeda9 thead {\n",
       "  text-align: left;\n",
       "  white-space: pre-wrap;\n",
       "}\n",
       "#T_aeda9 tbody {\n",
       "  text-align: left;\n",
       "  white-space: pre-wrap;\n",
       "}\n",
       "#T_aeda9 th {\n",
       "  text-align: left;\n",
       "  white-space: pre-wrap;\n",
       "}\n",
       "#T_aeda9 td {\n",
       "  text-align: left;\n",
       "  white-space: pre-wrap;\n",
       "}\n",
       "</style>\n",
       "<table id=\"T_aeda9\">\n",
       "  <thead>\n",
       "    <tr>\n",
       "      <th id=\"T_aeda9_level0_col0\" class=\"col_heading level0 col0\" >Status</th>\n",
       "      <th id=\"T_aeda9_level0_col1\" class=\"col_heading level0 col1\" >Condition</th>\n",
       "      <th id=\"T_aeda9_level0_col2\" class=\"col_heading level0 col2\" >More Info</th>\n",
       "    </tr>\n",
       "  </thead>\n",
       "  <tbody>\n",
       "    <tr>\n",
       "      <td id=\"T_aeda9_row0_col0\" class=\"data row0 col0\" ><div style=\"color: orange;text-align: center;font-weight:bold\">!</div></td>\n",
       "      <td id=\"T_aeda9_row0_col1\" class=\"data row0 col1\" >Rare data types in column are either more than 10% or less than 1% of the data</td>\n",
       "      <td id=\"T_aeda9_row0_col2\" class=\"data row0 col2\" >Found columns with non-negligible quantities of samples with a different data type from the majority of samples: ['col2', 'col4']</td>\n",
       "    </tr>\n",
       "  </tbody>\n",
       "</table>\n",
       "<h5>Additional Outputs</h5><div>* showing only the top 10 columns, you can change it using n_top_columns param</div><style type=\"text/css\">\n",
       "#T_607d0 table {\n",
       "  text-align: left;\n",
       "  white-space: pre-wrap;\n",
       "}\n",
       "#T_607d0 thead {\n",
       "  text-align: left;\n",
       "  white-space: pre-wrap;\n",
       "}\n",
       "#T_607d0 tbody {\n",
       "  text-align: left;\n",
       "  white-space: pre-wrap;\n",
       "}\n",
       "#T_607d0 th {\n",
       "  text-align: left;\n",
       "  white-space: pre-wrap;\n",
       "}\n",
       "#T_607d0 td {\n",
       "  text-align: left;\n",
       "  white-space: pre-wrap;\n",
       "}\n",
       "</style>\n",
       "<table id=\"T_607d0\">\n",
       "  <thead>\n",
       "    <tr>\n",
       "      <th class=\"blank level0\" >&nbsp;</th>\n",
       "      <th id=\"T_607d0_level0_col0\" class=\"col_heading level0 col0\" >col1</th>\n",
       "      <th id=\"T_607d0_level0_col1\" class=\"col_heading level0 col1\" >col2</th>\n",
       "      <th id=\"T_607d0_level0_col2\" class=\"col_heading level0 col2\" >col4</th>\n",
       "    </tr>\n",
       "  </thead>\n",
       "  <tbody>\n",
       "    <tr>\n",
       "      <th id=\"T_607d0_level0_row0\" class=\"row_heading level0 row0\" >strings</th>\n",
       "      <td id=\"T_607d0_row0_col0\" class=\"data row0 col0\" >18.18%</td>\n",
       "      <td id=\"T_607d0_row0_col1\" class=\"data row0 col1\" >90.91%</td>\n",
       "      <td id=\"T_607d0_row0_col2\" class=\"data row0 col2\" >9.09%</td>\n",
       "    </tr>\n",
       "    <tr>\n",
       "      <th id=\"T_607d0_level0_row1\" class=\"row_heading level0 row1\" >numbers</th>\n",
       "      <td id=\"T_607d0_row1_col0\" class=\"data row1 col0\" >81.82%</td>\n",
       "      <td id=\"T_607d0_row1_col1\" class=\"data row1 col1\" >9.09%</td>\n",
       "      <td id=\"T_607d0_row1_col2\" class=\"data row1 col2\" >90.91%</td>\n",
       "    </tr>\n",
       "  </tbody>\n",
       "</table>\n"
      ]
     },
     "metadata": {},
     "output_type": "display_data"
    }
   ],
   "source": [
    "data = {'col1': ['str', '1.0', 1, 2 , 2.61 , 't', 1, 1, 1,1,1], 'col2':['', '', '1.0', 'a', 'b', 'c', 'a', 'a', 'a', 'a','a'],\n",
    "        'col3': [1,2,3,4,5,6,7,8, 9,10,11], 'col4': [1,2,3,4,5, 6, 7,8,'a',10,12]}\n",
    "dataframe = pd.DataFrame(data=data)\n",
    "MixedDataTypes().add_condition_rare_type_ratio_not_in_range().run(dataframe)"
   ]
  }
 ],
 "metadata": {
  "kernelspec": {
   "display_name": "Python 3 (ipykernel)",
   "language": "python",
   "name": "python3"
  },
  "language_info": {
   "codemirror_mode": {
    "name": "ipython",
    "version": 3
   },
   "file_extension": ".py",
   "mimetype": "text/x-python",
   "name": "python",
   "nbconvert_exporter": "python",
   "pygments_lexer": "ipython3",
   "version": "3.9.10"
  }
 },
 "nbformat": 4,
 "nbformat_minor": 5
}
