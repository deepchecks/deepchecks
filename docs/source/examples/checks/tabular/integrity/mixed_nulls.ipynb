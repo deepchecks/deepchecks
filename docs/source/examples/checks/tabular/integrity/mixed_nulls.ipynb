{
 "cells": [
  {
   "cell_type": "markdown",
   "id": "12134987",
   "metadata": {},
   "source": [
    "# Mixed Nulls "
   ]
  },
  {
   "cell_type": "code",
   "execution_count": 1,
   "id": "891c0038",
   "metadata": {
    "execution": {
     "iopub.execute_input": "2022-01-28T08:39:13.609216Z",
     "iopub.status.busy": "2022-01-28T08:39:13.608231Z",
     "iopub.status.idle": "2022-01-28T08:39:16.679326Z",
     "shell.execute_reply": "2022-01-28T08:39:16.680370Z"
    }
   },
   "outputs": [
    {
     "name": "stderr",
     "output_type": "stream",
     "text": [
      "/home/yura/Projects/deepchecks/deepchecks/venv/lib/python3.8/site-packages/statsmodels/compat/pandas.py:65: FutureWarning:\n",
      "\n",
      "pandas.Int64Index is deprecated and will be removed from pandas in a future version. Use pandas.Index with the appropriate dtype instead.\n",
      "\n"
     ]
    }
   ],
   "source": [
    "from deepchecks.tabular.checks import MixedNulls\n",
    "import pandas as pd"
   ]
  },
  {
   "cell_type": "code",
   "execution_count": 2,
   "id": "6410fc74",
   "metadata": {
    "execution": {
     "iopub.execute_input": "2022-01-28T08:39:16.693235Z",
     "iopub.status.busy": "2022-01-28T08:39:16.691862Z",
     "iopub.status.idle": "2022-01-28T08:39:16.697955Z",
     "shell.execute_reply": "2022-01-28T08:39:16.696620Z"
    }
   },
   "outputs": [
    {
     "data": {
      "text/html": [
       "<h4>Mixed Nulls</h4><p>Search for various types of null values in a string column(s), including string representations of null.<a href=\"https://docs.deepchecks.com/en/0.4.1/examples/checks/integrity/mixed_nulls.html?utm_source=display_output&utm_medium=referral&utm_campaign=check_link\" target=\"_blank\">Read More...</a></p><h5>Additional Outputs</h5><p><b>&#x2713;</b> Nothing found</p>"
      ]
     },
     "metadata": {},
     "output_type": "display_data"
    }
   ],
   "source": [
    "data = {'col1': ['sog', '1', 'cat', None, None]}\n",
    "dataframe = pd.DataFrame(data=data)\n",
    "MixedNulls().run(dataframe)"
   ]
  },
  {
   "cell_type": "code",
   "execution_count": 3,
   "id": "d0f8cfbb",
   "metadata": {
    "execution": {
     "iopub.execute_input": "2022-01-28T08:39:16.715818Z",
     "iopub.status.busy": "2022-01-28T08:39:16.714292Z",
     "iopub.status.idle": "2022-01-28T08:39:17.041722Z",
     "shell.execute_reply": "2022-01-28T08:39:17.040892Z"
    },
    "tags": []
   },
   "outputs": [
    {
     "name": "stderr",
     "output_type": "stream",
     "text": [
      "/home/yura/Projects/deepchecks/deepchecks/deepchecks/core/display_pandas.py:54: FutureWarning:\n",
      "\n",
      "this method is deprecated in favour of `Styler.to_html()`\n",
      "\n"
     ]
    },
    {
     "data": {
      "text/html": [
       "<h4>Mixed Nulls</h4><p>Search for various types of null values in a string column(s), including string representations of null.<a href=\"https://docs.deepchecks.com/en/0.4.1/examples/checks/integrity/mixed_nulls.html?utm_source=display_output&utm_medium=referral&utm_campaign=check_link\" target=\"_blank\">Read More...</a></p><h5>Additional Outputs</h5><div>* showing only the top 10 columns, you can change it using n_top_columns param</div><style type=\"text/css\">\n",
       "#T_600b1 table {\n",
       "  text-align: left;\n",
       "  white-space: pre-wrap;\n",
       "}\n",
       "#T_600b1 thead {\n",
       "  text-align: left;\n",
       "  white-space: pre-wrap;\n",
       "}\n",
       "#T_600b1 tbody {\n",
       "  text-align: left;\n",
       "  white-space: pre-wrap;\n",
       "}\n",
       "#T_600b1 th {\n",
       "  text-align: left;\n",
       "  white-space: pre-wrap;\n",
       "}\n",
       "#T_600b1 td {\n",
       "  text-align: left;\n",
       "  white-space: pre-wrap;\n",
       "}\n",
       "</style>\n",
       "<table id=\"T_600b1\">\n",
       "  <thead>\n",
       "    <tr>\n",
       "      <th class=\"blank\" >&nbsp;</th>\n",
       "      <th class=\"blank level0\" >&nbsp;</th>\n",
       "      <th id=\"T_600b1_level0_col0\" class=\"col_heading level0 col0\" >Count</th>\n",
       "      <th id=\"T_600b1_level0_col1\" class=\"col_heading level0 col1\" >Percent of data</th>\n",
       "    </tr>\n",
       "    <tr>\n",
       "      <th class=\"index_name level0\" >Column Name</th>\n",
       "      <th class=\"index_name level1\" >Value</th>\n",
       "      <th class=\"blank col0\" >&nbsp;</th>\n",
       "      <th class=\"blank col1\" >&nbsp;</th>\n",
       "    </tr>\n",
       "  </thead>\n",
       "  <tbody>\n",
       "    <tr>\n",
       "      <th id=\"T_600b1_level0_row0\" class=\"row_heading level0 row0\" rowspan=\"3\">col1</th>\n",
       "      <th id=\"T_600b1_level1_row0\" class=\"row_heading level1 row0\" >nan</th>\n",
       "      <td id=\"T_600b1_row0_col0\" class=\"data row0 col0\" >1</td>\n",
       "      <td id=\"T_600b1_row0_col1\" class=\"data row0 col1\" >16.67%</td>\n",
       "    </tr>\n",
       "    <tr>\n",
       "      <th id=\"T_600b1_level1_row1\" class=\"row_heading level1 row1\" >null</th>\n",
       "      <td id=\"T_600b1_row1_col0\" class=\"data row1 col0\" >1</td>\n",
       "      <td id=\"T_600b1_row1_col1\" class=\"data row1 col1\" >16.67%</td>\n",
       "    </tr>\n",
       "    <tr>\n",
       "      <th id=\"T_600b1_level1_row2\" class=\"row_heading level1 row2\" >Nan</th>\n",
       "      <td id=\"T_600b1_row2_col0\" class=\"data row2 col0\" >1</td>\n",
       "      <td id=\"T_600b1_row2_col1\" class=\"data row2 col1\" >16.67%</td>\n",
       "    </tr>\n",
       "    <tr>\n",
       "      <th id=\"T_600b1_level0_row3\" class=\"row_heading level0 row3\" rowspan=\"2\">col2</th>\n",
       "      <th id=\"T_600b1_level1_row3\" class=\"row_heading level1 row3\" ></th>\n",
       "      <td id=\"T_600b1_row3_col0\" class=\"data row3 col0\" >2</td>\n",
       "      <td id=\"T_600b1_row3_col1\" class=\"data row3 col1\" >33.33%</td>\n",
       "    </tr>\n",
       "    <tr>\n",
       "      <th id=\"T_600b1_level1_row4\" class=\"row_heading level1 row4\" >None</th>\n",
       "      <td id=\"T_600b1_row4_col0\" class=\"data row4 col0\" >1</td>\n",
       "      <td id=\"T_600b1_row4_col1\" class=\"data row4 col1\" >16.67%</td>\n",
       "    </tr>\n",
       "  </tbody>\n",
       "</table>\n"
      ]
     },
     "metadata": {},
     "output_type": "display_data"
    }
   ],
   "source": [
    "data = {'col1': ['nan', None, 'null', 'Nan', '1', 'cat'], 'col2':['', '', 'None', 'a', 'b', 'c'], 'col3': [1,2,3,4,5,6]}\n",
    "dataframe = pd.DataFrame(data=data)\n",
    "MixedNulls().run(dataframe)"
   ]
  }
 ],
 "metadata": {
  "kernelspec": {
   "display_name": "Python 3 (ipykernel)",
   "language": "python",
   "name": "python3"
  },
  "language_info": {
   "codemirror_mode": {
    "name": "ipython",
    "version": 3
   },
   "file_extension": ".py",
   "mimetype": "text/x-python",
   "name": "python",
   "nbconvert_exporter": "python",
   "pygments_lexer": "ipython3",
   "version": "3.8.10"
  }
 },
 "nbformat": 4,
 "nbformat_minor": 5
}
