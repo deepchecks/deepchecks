{
 "cells": [
  {
   "cell_type": "markdown",
   "id": "9fb912a1",
   "metadata": {},
   "source": [
    "# New Category "
   ]
  },
  {
   "cell_type": "code",
   "execution_count": 1,
   "id": "b6c42074",
   "metadata": {
    "execution": {
     "iopub.execute_input": "2022-02-13T01:02:46.429237Z",
     "iopub.status.busy": "2022-02-13T01:02:46.428623Z",
     "iopub.status.idle": "2022-02-13T01:02:48.445887Z",
     "shell.execute_reply": "2022-02-13T01:02:48.445072Z"
    }
   },
   "outputs": [],
   "source": [
    "from deepchecks.tabular.checks.integrity.new_category import CategoryMismatchTrainTest\n",
    "from deepchecks.tabular.base import Dataset\n",
    "import pandas as pd"
   ]
  },
  {
   "cell_type": "code",
   "execution_count": 2,
   "id": "ee76ed5c",
   "metadata": {
    "execution": {
     "iopub.execute_input": "2022-02-13T01:02:48.452112Z",
     "iopub.status.busy": "2022-02-13T01:02:48.451594Z",
     "iopub.status.idle": "2022-02-13T01:02:48.463564Z",
     "shell.execute_reply": "2022-02-13T01:02:48.463954Z"
    }
   },
   "outputs": [],
   "source": [
    "train_data = {\"col1\": [\"somebody\", \"once\", \"told\", \"me\"] * 10}\n",
    "test_data = {\"col1\": [\"the\",\"world\",\"is\", \"gonna\", \"role\", \"me\",\"I\", \"I\"] * 10}\n",
    "train = Dataset(pd.DataFrame(data=train_data), cat_features=[\"col1\"])\n",
    "test = Dataset(pd.DataFrame(data=test_data), cat_features=[\"col1\"])"
   ]
  },
  {
   "cell_type": "code",
   "execution_count": 3,
   "id": "3171fe14",
   "metadata": {
    "execution": {
     "iopub.execute_input": "2022-02-13T01:02:48.473020Z",
     "iopub.status.busy": "2022-02-13T01:02:48.472128Z",
     "iopub.status.idle": "2022-02-13T01:02:48.710307Z",
     "shell.execute_reply": "2022-02-13T01:02:48.710848Z"
    }
   },
   "outputs": [
    {
     "data": {
      "text/html": [
       "<h4>Category Mismatch Train Test</h4><p>Find new categories in the test set. <a href=\"https://docs.deepchecks.com/en/0.4.2/examples/checks/tabular/integrity/category_mismatch_train_test.html?utm_source=display_output&utm_medium=referral&utm_campaign=check_link\" target=\"_blank\">Read More...</a></p><h5>Additional Outputs</h5><style type=\"text/css\">\n",
       "#T_f8c2a table {\n",
       "  text-align: left;\n",
       "  white-space: pre-wrap;\n",
       "}\n",
       "#T_f8c2a thead {\n",
       "  text-align: left;\n",
       "  white-space: pre-wrap;\n",
       "}\n",
       "#T_f8c2a tbody {\n",
       "  text-align: left;\n",
       "  white-space: pre-wrap;\n",
       "}\n",
       "#T_f8c2a th {\n",
       "  text-align: left;\n",
       "  white-space: pre-wrap;\n",
       "}\n",
       "#T_f8c2a td {\n",
       "  text-align: left;\n",
       "  white-space: pre-wrap;\n",
       "}\n",
       "</style>\n",
       "<table id=\"T_f8c2a\">\n",
       "  <thead>\n",
       "    <tr>\n",
       "      <th class=\"blank level0\" >&nbsp;</th>\n",
       "      <th id=\"T_f8c2a_level0_col0\" class=\"col_heading level0 col0\" >Number of new categories</th>\n",
       "      <th id=\"T_f8c2a_level0_col1\" class=\"col_heading level0 col1\" >Percent of new categories in sample</th>\n",
       "      <th id=\"T_f8c2a_level0_col2\" class=\"col_heading level0 col2\" >New categories examples</th>\n",
       "    </tr>\n",
       "    <tr>\n",
       "      <th class=\"index_name level0\" >Column</th>\n",
       "      <th class=\"blank col0\" >&nbsp;</th>\n",
       "      <th class=\"blank col1\" >&nbsp;</th>\n",
       "      <th class=\"blank col2\" >&nbsp;</th>\n",
       "    </tr>\n",
       "  </thead>\n",
       "  <tbody>\n",
       "    <tr>\n",
       "      <th id=\"T_f8c2a_level0_row0\" class=\"row_heading level0 row0\" >col1</th>\n",
       "      <td id=\"T_f8c2a_row0_col0\" class=\"data row0 col0\" >6</td>\n",
       "      <td id=\"T_f8c2a_row0_col1\" class=\"data row0 col1\" >87.5%</td>\n",
       "      <td id=\"T_f8c2a_row0_col2\" class=\"data row0 col2\" >['I', 'gonna', 'is', 'role', 'the']</td>\n",
       "    </tr>\n",
       "  </tbody>\n",
       "</table>\n"
      ]
     },
     "metadata": {},
     "output_type": "display_data"
    }
   ],
   "source": [
    "CategoryMismatchTrainTest().run(train, test)"
   ]
  },
  {
   "cell_type": "code",
   "execution_count": 4,
   "id": "7536f60c",
   "metadata": {
    "execution": {
     "iopub.execute_input": "2022-02-13T01:02:48.717723Z",
     "iopub.status.busy": "2022-02-13T01:02:48.717151Z",
     "iopub.status.idle": "2022-02-13T01:02:48.719852Z",
     "shell.execute_reply": "2022-02-13T01:02:48.719414Z"
    }
   },
   "outputs": [],
   "source": [
    "train_data = {\"col1\": [\"a\", \"b\", \"a\", \"c\"] * 10, \"col2\": ['a','b','b','q']*10}\n",
    "test_data = {\"col1\": [\"a\",\"b\",\"d\"] * 10, \"col2\": ['a', '2', '1']*10}\n",
    "train = Dataset(pd.DataFrame(data=train_data), cat_features=[\"col1\",\"col2\"])\n",
    "test = Dataset(pd.DataFrame(data=test_data), cat_features=[\"col1\", \"col2\"])"
   ]
  },
  {
   "cell_type": "code",
   "execution_count": 5,
   "id": "b81bc4a1",
   "metadata": {
    "execution": {
     "iopub.execute_input": "2022-02-13T01:02:48.729549Z",
     "iopub.status.busy": "2022-02-13T01:02:48.728978Z",
     "iopub.status.idle": "2022-02-13T01:02:48.751128Z",
     "shell.execute_reply": "2022-02-13T01:02:48.750674Z"
    }
   },
   "outputs": [
    {
     "data": {
      "text/html": [
       "<h4>Category Mismatch Train Test</h4><p>Find new categories in the test set. <a href=\"https://docs.deepchecks.com/en/0.4.2/examples/checks/tabular/integrity/category_mismatch_train_test.html?utm_source=display_output&utm_medium=referral&utm_campaign=check_link\" target=\"_blank\">Read More...</a></p><h5>Additional Outputs</h5><style type=\"text/css\">\n",
       "#T_21b51 table {\n",
       "  text-align: left;\n",
       "  white-space: pre-wrap;\n",
       "}\n",
       "#T_21b51 thead {\n",
       "  text-align: left;\n",
       "  white-space: pre-wrap;\n",
       "}\n",
       "#T_21b51 tbody {\n",
       "  text-align: left;\n",
       "  white-space: pre-wrap;\n",
       "}\n",
       "#T_21b51 th {\n",
       "  text-align: left;\n",
       "  white-space: pre-wrap;\n",
       "}\n",
       "#T_21b51 td {\n",
       "  text-align: left;\n",
       "  white-space: pre-wrap;\n",
       "}\n",
       "</style>\n",
       "<table id=\"T_21b51\">\n",
       "  <thead>\n",
       "    <tr>\n",
       "      <th class=\"blank level0\" >&nbsp;</th>\n",
       "      <th id=\"T_21b51_level0_col0\" class=\"col_heading level0 col0\" >Number of new categories</th>\n",
       "      <th id=\"T_21b51_level0_col1\" class=\"col_heading level0 col1\" >Percent of new categories in sample</th>\n",
       "      <th id=\"T_21b51_level0_col2\" class=\"col_heading level0 col2\" >New categories examples</th>\n",
       "    </tr>\n",
       "    <tr>\n",
       "      <th class=\"index_name level0\" >Column</th>\n",
       "      <th class=\"blank col0\" >&nbsp;</th>\n",
       "      <th class=\"blank col1\" >&nbsp;</th>\n",
       "      <th class=\"blank col2\" >&nbsp;</th>\n",
       "    </tr>\n",
       "  </thead>\n",
       "  <tbody>\n",
       "    <tr>\n",
       "      <th id=\"T_21b51_level0_row0\" class=\"row_heading level0 row0\" >col1</th>\n",
       "      <td id=\"T_21b51_row0_col0\" class=\"data row0 col0\" >1</td>\n",
       "      <td id=\"T_21b51_row0_col1\" class=\"data row0 col1\" >33.33%</td>\n",
       "      <td id=\"T_21b51_row0_col2\" class=\"data row0 col2\" >['d']</td>\n",
       "    </tr>\n",
       "    <tr>\n",
       "      <th id=\"T_21b51_level0_row1\" class=\"row_heading level0 row1\" >col2</th>\n",
       "      <td id=\"T_21b51_row1_col0\" class=\"data row1 col0\" >2</td>\n",
       "      <td id=\"T_21b51_row1_col1\" class=\"data row1 col1\" >66.67%</td>\n",
       "      <td id=\"T_21b51_row1_col2\" class=\"data row1 col2\" >['1', '2']</td>\n",
       "    </tr>\n",
       "  </tbody>\n",
       "</table>\n"
      ]
     },
     "metadata": {},
     "output_type": "display_data"
    }
   ],
   "source": [
    "CategoryMismatchTrainTest().run(train, test)"
   ]
  }
 ],
 "metadata": {
  "kernelspec": {
   "display_name": "Python 3 (ipykernel)",
   "language": "python",
   "name": "python3"
  },
  "language_info": {
   "codemirror_mode": {
    "name": "ipython",
    "version": 3
   },
   "file_extension": ".py",
   "mimetype": "text/x-python",
   "name": "python",
   "nbconvert_exporter": "python",
   "pygments_lexer": "ipython3",
   "version": "3.9.10"
  }
 },
 "nbformat": 4,
 "nbformat_minor": 5
}
