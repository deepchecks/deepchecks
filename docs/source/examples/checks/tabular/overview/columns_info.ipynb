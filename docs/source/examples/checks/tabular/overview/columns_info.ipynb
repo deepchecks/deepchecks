{
 "cells": [
  {
   "cell_type": "markdown",
   "id": "753bde83",
   "metadata": {},
   "source": [
    "# Columns Info "
   ]
  },
  {
   "cell_type": "markdown",
   "id": "0fdeac8e-ffd2-4509-8a70-fcbda9cdb68b",
   "metadata": {},
   "source": [
    "## Imports"
   ]
  },
  {
   "cell_type": "code",
   "execution_count": 1,
   "id": "592d6a95-06b0-4397-bf5e-5aebd6dc58f3",
   "metadata": {
    "execution": {
     "iopub.execute_input": "2022-01-28T08:42:24.840402Z",
     "iopub.status.busy": "2022-01-28T08:42:24.839387Z",
     "iopub.status.idle": "2022-01-28T08:42:28.014436Z",
     "shell.execute_reply": "2022-01-28T08:42:28.015626Z"
    }
   },
   "outputs": [
    {
     "name": "stderr",
     "output_type": "stream",
     "text": [
      "/home/yura/Projects/deepchecks/deepchecks/venv/lib/python3.8/site-packages/statsmodels/compat/pandas.py:65: FutureWarning:\n",
      "\n",
      "pandas.Int64Index is deprecated and will be removed from pandas in a future version. Use pandas.Index with the appropriate dtype instead.\n",
      "\n"
     ]
    }
   ],
   "source": [
    "import pandas as pd\n",
    "import numpy as np\n",
    "from deepchecks.tabular.checks.overview import ColumnsInfo\n",
    "from deepchecks.tabular.base import Dataset"
   ]
  },
  {
   "cell_type": "markdown",
   "id": "b1653169-893b-456a-b179-7ba51d004694",
   "metadata": {},
   "source": [
    "## Generating data:"
   ]
  },
  {
   "cell_type": "code",
   "execution_count": 2,
   "id": "13624caa-239a-4b0a-a081-8d46872751ef",
   "metadata": {
    "execution": {
     "iopub.execute_input": "2022-01-28T08:42:28.031123Z",
     "iopub.status.busy": "2022-01-28T08:42:28.029772Z",
     "iopub.status.idle": "2022-01-28T08:42:28.032491Z",
     "shell.execute_reply": "2022-01-28T08:42:28.033525Z"
    }
   },
   "outputs": [],
   "source": [
    "num_fe = np.random.rand(500)\n",
    "cat_fe = np.random.randint(3, size=500)\n",
    "num_col = np.random.rand(500)\n",
    "date = range(1635693229, 1635693729)\n",
    "index = range(500)\n",
    "data = {'index': index, 'date': date, 'a': cat_fe, 'b': num_fe, 'c': num_col, 'label': cat_fe}\n",
    "df = pd.DataFrame.from_dict(data)\n",
    "\n",
    "dataset = Dataset(df, label='label', datetime_name='date', index_name='index', features=['a', 'b'], cat_features=['a'])"
   ]
  },
  {
   "cell_type": "markdown",
   "id": "e9b8071a-f95a-4d51-8ca9-abd42d5406b2",
   "metadata": {},
   "source": [
    "## Running columns_info check:"
   ]
  },
  {
   "cell_type": "code",
   "execution_count": 3,
   "id": "372e0162-b86c-45d6-8a3b-47e009d709b9",
   "metadata": {
    "execution": {
     "iopub.execute_input": "2022-01-28T08:42:28.040778Z",
     "iopub.status.busy": "2022-01-28T08:42:28.039343Z",
     "iopub.status.idle": "2022-01-28T08:42:28.042309Z",
     "shell.execute_reply": "2022-01-28T08:42:28.043481Z"
    }
   },
   "outputs": [],
   "source": [
    "check = ColumnsInfo()"
   ]
  },
  {
   "cell_type": "code",
   "execution_count": 4,
   "id": "fadb3bc8-65af-4c7d-92bc-9234802d99e3",
   "metadata": {
    "execution": {
     "iopub.execute_input": "2022-01-28T08:42:28.055151Z",
     "iopub.status.busy": "2022-01-28T08:42:28.053791Z",
     "iopub.status.idle": "2022-01-28T08:42:28.391483Z",
     "shell.execute_reply": "2022-01-28T08:42:28.392624Z"
    },
    "tags": []
   },
   "outputs": [
    {
     "name": "stderr",
     "output_type": "stream",
     "text": [
      "/home/yura/Projects/deepchecks/deepchecks/deepchecks/core/display_pandas.py:54: FutureWarning:\n",
      "\n",
      "this method is deprecated in favour of `Styler.to_html()`\n",
      "\n"
     ]
    },
    {
     "data": {
      "text/html": [
       "<h4>Columns Info</h4><p>Return the role and logical type of each column.<a href=\"https://docs.deepchecks.com/en/0.4.1/examples/checks/overview/columns_info.html?utm_source=display_output&utm_medium=referral&utm_campaign=check_link\" target=\"_blank\">Read More...</a></p><h5>Additional Outputs</h5><div>* showing only the top 10 columns, you can change it using n_top_columns param</div><style type=\"text/css\">\n",
       "#T_ffe77 table {\n",
       "  text-align: left;\n",
       "  white-space: pre-wrap;\n",
       "}\n",
       "#T_ffe77 thead {\n",
       "  text-align: left;\n",
       "  white-space: pre-wrap;\n",
       "}\n",
       "#T_ffe77 tbody {\n",
       "  text-align: left;\n",
       "  white-space: pre-wrap;\n",
       "}\n",
       "#T_ffe77 th {\n",
       "  text-align: left;\n",
       "  white-space: pre-wrap;\n",
       "}\n",
       "#T_ffe77 td {\n",
       "  text-align: left;\n",
       "  white-space: pre-wrap;\n",
       "}\n",
       "</style>\n",
       "<table id=\"T_ffe77\">\n",
       "  <thead>\n",
       "    <tr>\n",
       "      <th class=\"blank level0\" >&nbsp;</th>\n",
       "      <th id=\"T_ffe77_level0_col0\" class=\"col_heading level0 col0\" >index</th>\n",
       "      <th id=\"T_ffe77_level0_col1\" class=\"col_heading level0 col1\" >date</th>\n",
       "      <th id=\"T_ffe77_level0_col2\" class=\"col_heading level0 col2\" >a</th>\n",
       "      <th id=\"T_ffe77_level0_col3\" class=\"col_heading level0 col3\" >b</th>\n",
       "      <th id=\"T_ffe77_level0_col4\" class=\"col_heading level0 col4\" >c</th>\n",
       "      <th id=\"T_ffe77_level0_col5\" class=\"col_heading level0 col5\" >label</th>\n",
       "    </tr>\n",
       "  </thead>\n",
       "  <tbody>\n",
       "    <tr>\n",
       "      <th id=\"T_ffe77_level0_row0\" class=\"row_heading level0 row0\" >role</th>\n",
       "      <td id=\"T_ffe77_row0_col0\" class=\"data row0 col0\" >index</td>\n",
       "      <td id=\"T_ffe77_row0_col1\" class=\"data row0 col1\" >date</td>\n",
       "      <td id=\"T_ffe77_row0_col2\" class=\"data row0 col2\" >categorical feature</td>\n",
       "      <td id=\"T_ffe77_row0_col3\" class=\"data row0 col3\" >numerical feature</td>\n",
       "      <td id=\"T_ffe77_row0_col4\" class=\"data row0 col4\" >other</td>\n",
       "      <td id=\"T_ffe77_row0_col5\" class=\"data row0 col5\" >label</td>\n",
       "    </tr>\n",
       "  </tbody>\n",
       "</table>\n"
      ]
     },
     "metadata": {},
     "output_type": "display_data"
    }
   ],
   "source": [
    "check.run(dataset=dataset)"
   ]
  }
 ],
 "metadata": {
  "kernelspec": {
   "display_name": "Python 3 (ipykernel)",
   "language": "python",
   "name": "python3"
  },
  "language_info": {
   "codemirror_mode": {
    "name": "ipython",
    "version": 3
   },
   "file_extension": ".py",
   "mimetype": "text/x-python",
   "name": "python",
   "nbconvert_exporter": "python",
   "pygments_lexer": "ipython3",
   "version": "3.8.10"
  }
 },
 "nbformat": 4,
 "nbformat_minor": 5
}
