{
 "cells": [
  {
   "cell_type": "markdown",
   "id": "8a480f19-aea8-485f-880f-0f66136a8cd1",
   "metadata": {},
   "source": [
    "# Trust Score Comparison\n",
    "\n",
    "This notebooks provides an overview for using and understanding the trust score comparison check.\n",
    "\n",
    "**Structure:**\n",
    "\n",
    "- [What is trust score?](#what_is_trust_score)\n",
    "- [Loading the data](#load_data_model)\n",
    "- [Run the check](#run_check)\n",
    "- [Define a condition](#define_condition)\n"
   ]
  },
  {
   "cell_type": "markdown",
   "id": "d3aee27d-9c35-4f53-95ab-34c6daad6bb8",
   "metadata": {
    "tags": []
   },
   "source": [
    "<a id='what_is_trust_score'></a>\n",
    "## What is trust score?\n",
    "\n",
    "Trust score is an alternative measure of model confidence, used in classification problems to assign a higher score to samples whose prediction is more likely to end up correct. \n",
    "\n",
    "#### What is model confidence\n",
    "\n",
    "Model confidence commonly refers to the predicted probability of classification model for the predicted class. This quantity is useful for a variety of tasks:\n",
    "1.  Detecting \"problematic samples\" before labels become available - predictions with low probability are more likely to be wrong.\n",
    "2. Risk management - in use-cases such as loan approval, we may want to weigh the probability that the loan will be returned with the loaned sum and the expected return.\n",
    "3. Early warning of concept drift - a significant decline in the average confidence of samples encountered in production or test data indicates that the model is predicting on more and more samples on which it is unsure. \n",
    "\n",
    "#### Trust Score compared to predicted probability\n",
    "\n",
    "\"Regular\" model confidence is easy to compute - just use the model's \"predict_proba\" function. The danger with relying on the values produced by the model itself is that they are often un-calibrated - which means that predicted probabilities don't correspond to the actual percent of correct predictions (check the <a href=\"https://docs.deepchecks.com/en/stable/examples/checks/performance/calibration_score.html\" target=\"_blank\">calibration score</a> check for more info). This is because the methods and loss functions used by these models are often not designed to produce actual probabilities. Additionally, most common classification metrics (such as precision, recall, accuracy etc.) measure only the quality of the final prediction (after threshold is applied to the predicted probability) and not on the probability itself. This reinforces the tendency to ignore the quality of the probabilities themselves.\n",
    "\n",
    "Trust Score is an alternative method for scoring the \"trust-worthiness\" of the model predictions that is completely independent of model implementation. The method and code used by the deepchecks package were published in <a href=\"https://arxiv.org/abs/1805.11783\" target=\"_blank\">To Trust Or Not To Trust A Classifier</a>. \n",
    " \n",
    "Trust score has been shown to perform better than predicted probability in identifying correctly classified samples, and is used by the TrustScoreComparison check for:\n",
    "1. Identifying the samples with highest (and lowest) score - which are the samples most likely (and unlikely) to be correctly classified by the model. This is useful for visually detecting common qualities among the highest and lowest confidence samples.\n",
    "2. Identifying a degradation between the trust score on the test data when comparing it to the training data, which may indicate that the model will perform worse on test compared to train and serves as a method to detect concept drift. This condition is useful especially for cases when the test labels are not available, such as when performing inference on new and unknown data."
   ]
  },
  {
   "cell_type": "markdown",
   "id": "8a6a2e88-41f5-484a-ab9d-3831d5782ca2",
   "metadata": {},
   "source": [
    "<a id='load_data_model'></a>\n",
    "## Loading the data"
   ]
  },
  {
   "cell_type": "markdown",
   "id": "9b95b5ee-9d28-40b6-b37e-e04cbe6100d9",
   "metadata": {},
   "source": [
    "We'll load the scikit-learn breast cancer dataset to test out the Trust Score check."
   ]
  },
  {
   "cell_type": "code",
   "execution_count": 1,
   "id": "ef474717",
   "metadata": {
    "execution": {
     "iopub.execute_input": "2022-01-26T12:56:40.605137Z",
     "iopub.status.busy": "2022-01-26T12:56:40.604199Z",
     "iopub.status.idle": "2022-01-26T12:56:44.239095Z",
     "shell.execute_reply": "2022-01-26T12:56:44.239652Z"
    },
    "tags": []
   },
   "outputs": [],
   "source": [
    "import pandas as pd\n",
    "import numpy as np\n",
    "from sklearn.ensemble import AdaBoostClassifier\n",
    "from deepchecks.tabular.datasets.classification.breast_cancer import load_data\n",
    "from deepchecks.tabular import Dataset\n",
    "\n",
    "label = 'target'\n",
    "\n",
    "train_df, test_df = load_data(data_format='Dataframe')\n",
    "train = Dataset(train_df, label=label)\n",
    "test = Dataset(test_df, label=label)\n",
    "\n",
    "clf = AdaBoostClassifier()\n",
    "features = train_df.drop(label, axis=1)\n",
    "target = train_df[label]\n",
    "clf = clf.fit(features, target)"
   ]
  },
  {
   "cell_type": "markdown",
   "id": "525e3770-0731-40cc-b789-8194233462ff",
   "metadata": {},
   "source": [
    "<a id='run_check'></a>\n",
    "## Run the check"
   ]
  },
  {
   "cell_type": "markdown",
   "id": "e7402abd-ba14-4a32-b2be-e802b9b2f8e3",
   "metadata": {},
   "source": [
    "Next, we'll run the check on the dataset and model, modifying the default value of min_test_samples in order to enable us to run this check on the small dataset. In this case, we'll run the check \"as is\", and introduce the condition in the [next section](#define_condition).\\\n",
    "Additional optional parameters include the maximal sample size, the random state, the number of highest and lowest Trust Score samples to show and various hyperparameters controlling the trust score algorithm."
   ]
  },
  {
   "cell_type": "code",
   "execution_count": 2,
   "id": "b0fa7843",
   "metadata": {
    "execution": {
     "iopub.execute_input": "2022-01-26T12:56:44.244319Z",
     "iopub.status.busy": "2022-01-26T12:56:44.243414Z",
     "iopub.status.idle": "2022-01-26T12:56:44.663838Z",
     "shell.execute_reply": "2022-01-26T12:56:44.661706Z"
    },
    "tags": []
   },
   "outputs": [
    {
     "name": "stderr",
     "output_type": "stream",
     "text": [
      "/home/yura/Projects/deepchecks/deepchecks/venv/lib/python3.8/site-packages/statsmodels/compat/pandas.py:65: FutureWarning:\n",
      "\n",
      "pandas.Int64Index is deprecated and will be removed from pandas in a future version. Use pandas.Index with the appropriate dtype instead.\n",
      "\n",
      "/home/yura/Projects/deepchecks/deepchecks/deepchecks/utils/distribution/rare_category_encoder.py:101: FutureWarning:\n",
      "\n",
      "The default dtype for empty Series will be 'object' instead of 'float64' in a future version. Specify a dtype explicitly to silence this warning.\n",
      "\n"
     ]
    },
    {
     "data": {
      "text/html": [
       "<h4>Trust Score Comparison: Train vs. Test</h4><p>Compares the model's trust score for the train dataset with scores of the test dataset.<a href=\"https://docs.deepchecks.com/en/0.4.1/examples/checks/distribution/trust_score_comparison.html?utm_source=display_output&utm_medium=referral&utm_campaign=check_link\" target=\"_blank\">Read More...</a></p><h5>Additional Outputs</h5><div><span> Trust score roughly measures the following quantity:<br><br> <p> $$Trust Score = \\frac{\n",
       "        \\textrm{Distance from the sample to the nearest training samples belonging to a class different than the\n",
       "        predicted class}}{\\textrm{Distance from the sample to the nearest training samples belonging to the predicted\n",
       "        class}}$$ </p> So that higher values represent samples that are \"close\" to training examples with the same\n",
       "        label as sample prediction, and lower values represent samples that are \"far\" from training samples with\n",
       "        labels matching their prediction. For more information, please refer to the original paper at <a\n",
       "        href=\"https://arxiv.org/abs/1805.11783\"  target=\"_blank\">arxiv 1805.11783</a>, or see the version of the <a\n",
       "        href=\"https://proceedings.neurips.cc/paper/2018/file/7180cffd6a8e829dacfc2a31b3f72ece-Paper.pdf\"\n",
       "        target=\"_blank\">paper presented at NeurIPS in 2018</a>.</span></div>"
      ]
     },
     "metadata": {},
     "output_type": "display_data"
    },
    {
     "data": {
      "application/vnd.plotly.v1+json": {
       "config": {
        "plotlyServerURL": "https://plot.ly"
       },
       "data": [
        {
         "fill": "tozeroy",
         "line": {
          "color": "darkblue"
         },
         "name": "Train Dataset",
         "type": "scatter",
         "x": [
          0.6496195946493419,
          0.7195526780993251,
          0.7894857615493083,
          0.8049707471045106,
          0.8594188449992913,
          0.9293519284492745,
          0.9525240752022877,
          0.9992850118992577,
          1.0147754799314548,
          1.0170230763019452,
          1.061428094828937,
          1.0678766369021486,
          1.0692180953492407,
          1.0878503518703382,
          1.1260309614066786,
          1.139151178799224,
          1.1422296050743785,
          1.1671628758679957,
          1.1971105357844012,
          1.209084262249207,
          1.2474372271971355,
          1.278128934399935,
          1.2790173456991902,
          1.2946457831484353,
          1.314441764753865,
          1.3364542566497972,
          1.3374263358045275,
          1.3489504291491734,
          1.3659739686408303,
          1.3844681599609157,
          1.4145843629375934,
          1.4188835125991566,
          1.4322546043340039,
          1.444226061273884,
          1.4751596514502152,
          1.4811558758201233,
          1.4888165960491397,
          1.502580902840324,
          1.5205415946614198,
          1.5374304409826849,
          1.543838501436407,
          1.558749679499123,
          1.5651550338279017,
          1.5684965241017577,
          1.606489021559371,
          1.6097617075286434,
          1.6253037251368123,
          1.6286827629491059,
          1.639263969271189,
          1.6433174823669379,
          1.6603995971466534,
          1.6622410500427633,
          1.6792758000193937,
          1.6863617808023696,
          1.698615846399089,
          1.7020279256241608,
          1.7108501356085386,
          1.7194108139642557,
          1.730270098106947,
          1.7469614030733571,
          1.7533116160149702,
          1.7557592220644453,
          1.7667065432185611,
          1.7685489298490722,
          1.7750941040862018,
          1.7836711210635914,
          1.7913034308007403,
          1.7989344647529735,
          1.8006218156322247,
          1.8173459748143996,
          1.8205440701804336,
          1.8384820132990554,
          1.8457561045496111,
          1.8474903381097187,
          1.8661669940939611,
          1.8744981005116166,
          1.9084150967490385,
          1.910017663283412,
          1.9202728412673116,
          1.9366772630750084,
          1.9482748451840604,
          1.9627683121891824,
          1.9783481801990217,
          1.9794480085328992,
          1.9931722013388118,
          1.996949099614859,
          2.021161315201185,
          2.0231052464708865,
          2.0389459460817916,
          2.048281263649005,
          2.0609270771043313,
          2.0653692891073945,
          2.09609623932279,
          2.118214347098988,
          2.1227878218189185,
          2.1433305797971918,
          2.1487597626017103,
          2.1711222778747556,
          2.188147430548971,
          2.1928906998897575,
          2.1929666159642767,
          2.2143861181342626,
          2.2434861544437315,
          2.258080513998954,
          2.2733755061579117,
          2.3078024491389275,
          2.3280135974489373,
          2.350841427749042,
          2.3979466808989205,
          2.3991077013695636,
          2.4254560098595346,
          2.4678797643489037,
          2.4951854105023377,
          2.5325460613684476,
          2.5364711290435245,
          2.537812847798887,
          2.573184193593124,
          2.6077459312488696,
          2.63107145673407,
          2.677679014698853,
          2.7011185826615187,
          2.7236711053279876,
          2.747612098148836,
          2.7478112882423997,
          2.8060324731438193,
          2.8175451815988195,
          2.8874782650488022,
          2.896245869335879,
          2.957411348498786,
          3.0273444319487686,
          3.088577237316496,
          3.097277515398752,
          3.167210598848735,
          3.2371436822987185,
          3.2656477520495684,
          3.3070767657487012,
          3.377009849198685,
          3.3903328120054477,
          3.4469429326486676,
          3.5168760160986503,
          3.586809099548634,
          3.6567421829986166,
          3.7266752664486003,
          3.796608349898583,
          3.8665414333485666,
          3.9364745167985493,
          4.006407600248533,
          4.076340683698516
         ],
         "y": [
          0.01635219064691469,
          0.02713976340434196,
          0.04485301410186065,
          0.04992384732306188,
          0.0712176056421939,
          0.10580410037720628,
          0.11875044507947348,
          0.14668398157488619,
          0.15642459595526617,
          0.15785756679661092,
          0.18723182706642144,
          0.19167719776821537,
          0.19260814801264967,
          0.20577060352479212,
          0.23425569710627347,
          0.2445774731627356,
          0.2470424752506585,
          0.267647664598203,
          0.29400136759085177,
          0.30505396999230555,
          0.34249007244092083,
          0.3746579473434372,
          0.37561753042867857,
          0.3927518912492288,
          0.41512619320635913,
          0.4408439074239916,
          0.4419991638775619,
          0.4558165964275681,
          0.4766259111557418,
          0.49974130311641785,
          0.5384058816580428,
          0.5440176404138362,
          0.5615982357181722,
          0.5774813358820386,
          0.6189320890388404,
          0.6269963531060735,
          0.637292845390134,
          0.6557334755427077,
          0.679551167260042,
          0.701505757378068,
          0.7096786997154202,
          0.7282647509715344,
          0.7360312151528967,
          0.740023885461805,
          0.7819048265956988,
          0.7851552468930966,
          0.7996687561455872,
          0.8026101795116544,
          0.8112904408512548,
          0.8143942299057703,
          0.8260420110897209,
          0.8271540225781592,
          0.8360469879159952,
          0.8389831965766106,
          0.842968131094701,
          0.843827594362205,
          0.8455391257733061,
          0.8464921033334957,
          0.8466960780844442,
          0.8448347742700264,
          0.8434455215055408,
          0.8428115689000356,
          0.8393175411735695,
          0.838625380441772,
          0.8359294214605173,
          0.8318495561734195,
          0.8277154764919552,
          0.8231275807447865,
          0.8220537730102895,
          0.8103134132308963,
          0.8078530082627333,
          0.7928999537193755,
          0.7863274071228634,
          0.7847210955859018,
          0.7665643393964122,
          0.7580214065629962,
          0.7212403154630657,
          0.71944543220812,
          0.7078851912096251,
          0.6892217431344027,
          0.6759896965434946,
          0.6595142701201335,
          0.641988660426355,
          0.6407615558155374,
          0.6255875760052096,
          0.6214613594250361,
          0.5956100313790389,
          0.5935835628597462,
          0.5773668284894737,
          0.5680669445872084,
          0.5557848936923954,
          0.5515581698839764,
          0.5235860646057621,
          0.5048108078636557,
          0.501067790196451,
          0.4848280726958998,
          0.4806895025869725,
          0.46429539707425393,
          0.4524943232953097,
          0.4493077321457123,
          0.4492570835531819,
          0.4354024790117132,
          0.417925230625013,
          0.40972091066957234,
          0.4015121470677827,
          0.384444988578153,
          0.37529801990286815,
          0.3656993941356915,
          0.3481158264451543,
          0.34771648251155274,
          0.33903557851611565,
          0.326365543528625,
          0.318873003656121,
          0.3092508048527181,
          0.308275423759285,
          0.30794340382605084,
          0.2994222860934396,
          0.2914293692972248,
          0.28611655195817287,
          0.2752133918002227,
          0.26927975726819525,
          0.26306463393541835,
          0.2557488870391576,
          0.2556844751197052,
          0.2340245454261928,
          0.22906327971147392,
          0.19536110085146768,
          0.19091080493466248,
          0.16113055820262898,
          0.1354272770353616,
          0.12414049707461372,
          0.12337234972641413,
          0.12248056899082843,
          0.1245315664682173,
          0.12412576466021284,
          0.12097758102689865,
          0.10772364488253364,
          0.1041572071744764,
          0.08646842082808177,
          0.0625407481219113,
          0.041362940182986384,
          0.02605950114490058,
          0.017091475864998405,
          0.013084495912473309,
          0.011921956132180792,
          0.011695874280998338,
          0.01118254960515599,
          0.00981416040006957
         ]
        },
        {
         "fill": "tozeroy",
         "line": {
          "color": "#69b3a2"
         },
         "name": "Test Dataset",
         "type": "scatter",
         "x": [
          0.6496195946493419,
          0.7195526780993251,
          0.7894857615493083,
          0.8049707471045106,
          0.8594188449992913,
          0.9293519284492745,
          0.9525240752022877,
          0.9992850118992577,
          1.0147754799314548,
          1.0170230763019452,
          1.061428094828937,
          1.0678766369021486,
          1.0692180953492407,
          1.0878503518703382,
          1.1260309614066786,
          1.139151178799224,
          1.1422296050743785,
          1.1671628758679957,
          1.1971105357844012,
          1.209084262249207,
          1.2474372271971355,
          1.278128934399935,
          1.2790173456991902,
          1.2946457831484353,
          1.314441764753865,
          1.3364542566497972,
          1.3374263358045275,
          1.3489504291491734,
          1.3659739686408303,
          1.3844681599609157,
          1.4145843629375934,
          1.4188835125991566,
          1.4322546043340039,
          1.444226061273884,
          1.4751596514502152,
          1.4811558758201233,
          1.4888165960491397,
          1.502580902840324,
          1.5205415946614198,
          1.5374304409826849,
          1.543838501436407,
          1.558749679499123,
          1.5651550338279017,
          1.5684965241017577,
          1.606489021559371,
          1.6097617075286434,
          1.6253037251368123,
          1.6286827629491059,
          1.639263969271189,
          1.6433174823669379,
          1.6603995971466534,
          1.6622410500427633,
          1.6792758000193937,
          1.6863617808023696,
          1.698615846399089,
          1.7020279256241608,
          1.7108501356085386,
          1.7194108139642557,
          1.730270098106947,
          1.7469614030733571,
          1.7533116160149702,
          1.7557592220644453,
          1.7667065432185611,
          1.7685489298490722,
          1.7750941040862018,
          1.7836711210635914,
          1.7913034308007403,
          1.7989344647529735,
          1.8006218156322247,
          1.8173459748143996,
          1.8205440701804336,
          1.8384820132990554,
          1.8457561045496111,
          1.8474903381097187,
          1.8661669940939611,
          1.8744981005116166,
          1.9084150967490385,
          1.910017663283412,
          1.9202728412673116,
          1.9366772630750084,
          1.9482748451840604,
          1.9627683121891824,
          1.9783481801990217,
          1.9794480085328992,
          1.9931722013388118,
          1.996949099614859,
          2.021161315201185,
          2.0231052464708865,
          2.0389459460817916,
          2.048281263649005,
          2.0609270771043313,
          2.0653692891073945,
          2.09609623932279,
          2.118214347098988,
          2.1227878218189185,
          2.1433305797971918,
          2.1487597626017103,
          2.1711222778747556,
          2.188147430548971,
          2.1928906998897575,
          2.1929666159642767,
          2.2143861181342626,
          2.2434861544437315,
          2.258080513998954,
          2.2733755061579117,
          2.3078024491389275,
          2.3280135974489373,
          2.350841427749042,
          2.3979466808989205,
          2.3991077013695636,
          2.4254560098595346,
          2.4678797643489037,
          2.4951854105023377,
          2.5325460613684476,
          2.5364711290435245,
          2.537812847798887,
          2.573184193593124,
          2.6077459312488696,
          2.63107145673407,
          2.677679014698853,
          2.7011185826615187,
          2.7236711053279876,
          2.747612098148836,
          2.7478112882423997,
          2.8060324731438193,
          2.8175451815988195,
          2.8874782650488022,
          2.896245869335879,
          2.957411348498786,
          3.0273444319487686,
          3.088577237316496,
          3.097277515398752,
          3.167210598848735,
          3.2371436822987185,
          3.2656477520495684,
          3.3070767657487012,
          3.377009849198685,
          3.3903328120054477,
          3.4469429326486676,
          3.5168760160986503,
          3.586809099548634,
          3.6567421829986166,
          3.7266752664486003,
          3.796608349898583,
          3.8665414333485666,
          3.9364745167985493,
          4.006407600248533,
          4.076340683698516
         ],
         "y": [
          0.06737939923179012,
          0.11266613030812155,
          0.1598239136803723,
          0.17059877295215795,
          0.21328323362362553,
          0.28808413687895096,
          0.3178091807854266,
          0.37936216819816587,
          0.39854101325271196,
          0.4012200451107491,
          0.4465924892618454,
          0.45177505934203926,
          0.4528042112058135,
          0.4653433830403067,
          0.48136316408852153,
          0.48432481069616506,
          0.4848692789267868,
          0.4876462755286742,
          0.48870754237459363,
          0.4889389210384571,
          0.49060187177325865,
          0.4938929903014992,
          0.4940185733725749,
          0.49650564907065076,
          0.5003928621843899,
          0.5056606271403534,
          0.5059165290306359,
          0.5091073515656042,
          0.5143889884484396,
          0.5210129788782827,
          0.5343030088309638,
          0.536505347137406,
          0.5439245745284766,
          0.5513650279534398,
          0.5745985663964941,
          0.579836131786197,
          0.5868967234797113,
          0.600648302034137,
          0.6206831465099079,
          0.6416527496690122,
          0.6501263742279692,
          0.670861459746986,
          0.6801691618526706,
          0.6851109653130856,
          0.7442846746540716,
          0.7495251464678432,
          0.7743518266761131,
          0.7797004360024807,
          0.7962207641545501,
          0.80242853659083,
          0.827535098649997,
          0.8301176026037635,
          0.8525491186140605,
          0.8609900838571544,
          0.874147244530189,
          0.877459983280914,
          0.8852671800989809,
          0.8917485975078371,
          0.8983441755823768,
          0.9048083272251085,
          0.9060851487874998,
          0.9064041345631787,
          0.9066688769682355,
          0.9065297325165652,
          0.9056189502229783,
          0.9034718931514937,
          0.9006975390495419,
          0.8971630969021621,
          0.8962845038464688,
          0.8858616576461388,
          0.8835478019401978,
          0.8690347734367271,
          0.8625461335923748,
          0.8609589240861305,
          0.8431520641171405,
          0.8349420637744862,
          0.8015550988903789,
          0.8000166924447097,
          0.7903136177540077,
          0.7753623220800924,
          0.7652352314787355,
          0.7530569614591269,
          0.7404393789251795,
          0.7395625270967223,
          0.7287136549996548,
          0.7257450881212126,
          0.7065723685120794,
          0.7050050563111262,
          0.6919474126104874,
          0.683947856886332,
          0.6726516908977104,
          0.6685410091508931,
          0.6377196230835596,
          0.6126214017541054,
          0.6071057805771151,
          0.5809347869884153,
          0.573640245135892,
          0.5420067141391517,
          0.5163553182309992,
          0.5089973343876509,
          0.5088788860367406,
          0.47471581672015695,
          0.4267859766151608,
          0.40264321615892223,
          0.3776679404955626,
          0.3243568002882401,
          0.2960262605727579,
          0.26754152372946105,
          0.22236934551789075,
          0.2214942310191725,
          0.20456118568605564,
          0.1875758762083507,
          0.18153880079967252,
          0.17644221685261247,
          0.1759855505578243,
          0.17582942528948337,
          0.17117122091375267,
          0.1641787665170863,
          0.15742476181365295,
          0.13892418472673712,
          0.1277163358642481,
          0.11636828106965805,
          0.10429723027061288,
          0.10419826477404419,
          0.07774130210063843,
          0.0732587357133233,
          0.051504732226685994,
          0.04935173958133543,
          0.03722138005689696,
          0.029708508098394155,
          0.02866418037665284,
          0.02881711383608939,
          0.030633724705132807,
          0.029734028679291244,
          0.027910992414457544,
          0.023879142989005432,
          0.0151350860434548,
          0.013470355921117996,
          0.007330410039502972,
          0.002648221129841828,
          0.0007020521739677497,
          0.0001352226455874399,
          0.00001881616914082052,
          0.0000018856709328028534,
          1.3587225762497542e-7,
          7.033040307275201e-9,
          2.61397480708082e-10,
          6.974289683171361e-12
         ]
        }
       ],
       "layout": {
        "height": 400,
        "legend": {
         "title": {
          "text": "Dataset"
         }
        },
        "template": {
         "data": {
          "bar": [
           {
            "error_x": {
             "color": "#2a3f5f"
            },
            "error_y": {
             "color": "#2a3f5f"
            },
            "marker": {
             "line": {
              "color": "#E5ECF6",
              "width": 0.5
             },
             "pattern": {
              "fillmode": "overlay",
              "size": 10,
              "solidity": 0.2
             }
            },
            "type": "bar"
           }
          ],
          "barpolar": [
           {
            "marker": {
             "line": {
              "color": "#E5ECF6",
              "width": 0.5
             },
             "pattern": {
              "fillmode": "overlay",
              "size": 10,
              "solidity": 0.2
             }
            },
            "type": "barpolar"
           }
          ],
          "carpet": [
           {
            "aaxis": {
             "endlinecolor": "#2a3f5f",
             "gridcolor": "white",
             "linecolor": "white",
             "minorgridcolor": "white",
             "startlinecolor": "#2a3f5f"
            },
            "baxis": {
             "endlinecolor": "#2a3f5f",
             "gridcolor": "white",
             "linecolor": "white",
             "minorgridcolor": "white",
             "startlinecolor": "#2a3f5f"
            },
            "type": "carpet"
           }
          ],
          "choropleth": [
           {
            "colorbar": {
             "outlinewidth": 0,
             "ticks": ""
            },
            "type": "choropleth"
           }
          ],
          "contour": [
           {
            "colorbar": {
             "outlinewidth": 0,
             "ticks": ""
            },
            "colorscale": [
             [
              0,
              "#0d0887"
             ],
             [
              0.1111111111111111,
              "#46039f"
             ],
             [
              0.2222222222222222,
              "#7201a8"
             ],
             [
              0.3333333333333333,
              "#9c179e"
             ],
             [
              0.4444444444444444,
              "#bd3786"
             ],
             [
              0.5555555555555556,
              "#d8576b"
             ],
             [
              0.6666666666666666,
              "#ed7953"
             ],
             [
              0.7777777777777778,
              "#fb9f3a"
             ],
             [
              0.8888888888888888,
              "#fdca26"
             ],
             [
              1,
              "#f0f921"
             ]
            ],
            "type": "contour"
           }
          ],
          "contourcarpet": [
           {
            "colorbar": {
             "outlinewidth": 0,
             "ticks": ""
            },
            "type": "contourcarpet"
           }
          ],
          "heatmap": [
           {
            "colorbar": {
             "outlinewidth": 0,
             "ticks": ""
            },
            "colorscale": [
             [
              0,
              "#0d0887"
             ],
             [
              0.1111111111111111,
              "#46039f"
             ],
             [
              0.2222222222222222,
              "#7201a8"
             ],
             [
              0.3333333333333333,
              "#9c179e"
             ],
             [
              0.4444444444444444,
              "#bd3786"
             ],
             [
              0.5555555555555556,
              "#d8576b"
             ],
             [
              0.6666666666666666,
              "#ed7953"
             ],
             [
              0.7777777777777778,
              "#fb9f3a"
             ],
             [
              0.8888888888888888,
              "#fdca26"
             ],
             [
              1,
              "#f0f921"
             ]
            ],
            "type": "heatmap"
           }
          ],
          "heatmapgl": [
           {
            "colorbar": {
             "outlinewidth": 0,
             "ticks": ""
            },
            "colorscale": [
             [
              0,
              "#0d0887"
             ],
             [
              0.1111111111111111,
              "#46039f"
             ],
             [
              0.2222222222222222,
              "#7201a8"
             ],
             [
              0.3333333333333333,
              "#9c179e"
             ],
             [
              0.4444444444444444,
              "#bd3786"
             ],
             [
              0.5555555555555556,
              "#d8576b"
             ],
             [
              0.6666666666666666,
              "#ed7953"
             ],
             [
              0.7777777777777778,
              "#fb9f3a"
             ],
             [
              0.8888888888888888,
              "#fdca26"
             ],
             [
              1,
              "#f0f921"
             ]
            ],
            "type": "heatmapgl"
           }
          ],
          "histogram": [
           {
            "marker": {
             "pattern": {
              "fillmode": "overlay",
              "size": 10,
              "solidity": 0.2
             }
            },
            "type": "histogram"
           }
          ],
          "histogram2d": [
           {
            "colorbar": {
             "outlinewidth": 0,
             "ticks": ""
            },
            "colorscale": [
             [
              0,
              "#0d0887"
             ],
             [
              0.1111111111111111,
              "#46039f"
             ],
             [
              0.2222222222222222,
              "#7201a8"
             ],
             [
              0.3333333333333333,
              "#9c179e"
             ],
             [
              0.4444444444444444,
              "#bd3786"
             ],
             [
              0.5555555555555556,
              "#d8576b"
             ],
             [
              0.6666666666666666,
              "#ed7953"
             ],
             [
              0.7777777777777778,
              "#fb9f3a"
             ],
             [
              0.8888888888888888,
              "#fdca26"
             ],
             [
              1,
              "#f0f921"
             ]
            ],
            "type": "histogram2d"
           }
          ],
          "histogram2dcontour": [
           {
            "colorbar": {
             "outlinewidth": 0,
             "ticks": ""
            },
            "colorscale": [
             [
              0,
              "#0d0887"
             ],
             [
              0.1111111111111111,
              "#46039f"
             ],
             [
              0.2222222222222222,
              "#7201a8"
             ],
             [
              0.3333333333333333,
              "#9c179e"
             ],
             [
              0.4444444444444444,
              "#bd3786"
             ],
             [
              0.5555555555555556,
              "#d8576b"
             ],
             [
              0.6666666666666666,
              "#ed7953"
             ],
             [
              0.7777777777777778,
              "#fb9f3a"
             ],
             [
              0.8888888888888888,
              "#fdca26"
             ],
             [
              1,
              "#f0f921"
             ]
            ],
            "type": "histogram2dcontour"
           }
          ],
          "mesh3d": [
           {
            "colorbar": {
             "outlinewidth": 0,
             "ticks": ""
            },
            "type": "mesh3d"
           }
          ],
          "parcoords": [
           {
            "line": {
             "colorbar": {
              "outlinewidth": 0,
              "ticks": ""
             }
            },
            "type": "parcoords"
           }
          ],
          "pie": [
           {
            "automargin": true,
            "type": "pie"
           }
          ],
          "scatter": [
           {
            "marker": {
             "colorbar": {
              "outlinewidth": 0,
              "ticks": ""
             }
            },
            "type": "scatter"
           }
          ],
          "scatter3d": [
           {
            "line": {
             "colorbar": {
              "outlinewidth": 0,
              "ticks": ""
             }
            },
            "marker": {
             "colorbar": {
              "outlinewidth": 0,
              "ticks": ""
             }
            },
            "type": "scatter3d"
           }
          ],
          "scattercarpet": [
           {
            "marker": {
             "colorbar": {
              "outlinewidth": 0,
              "ticks": ""
             }
            },
            "type": "scattercarpet"
           }
          ],
          "scattergeo": [
           {
            "marker": {
             "colorbar": {
              "outlinewidth": 0,
              "ticks": ""
             }
            },
            "type": "scattergeo"
           }
          ],
          "scattergl": [
           {
            "marker": {
             "colorbar": {
              "outlinewidth": 0,
              "ticks": ""
             }
            },
            "type": "scattergl"
           }
          ],
          "scattermapbox": [
           {
            "marker": {
             "colorbar": {
              "outlinewidth": 0,
              "ticks": ""
             }
            },
            "type": "scattermapbox"
           }
          ],
          "scatterpolar": [
           {
            "marker": {
             "colorbar": {
              "outlinewidth": 0,
              "ticks": ""
             }
            },
            "type": "scatterpolar"
           }
          ],
          "scatterpolargl": [
           {
            "marker": {
             "colorbar": {
              "outlinewidth": 0,
              "ticks": ""
             }
            },
            "type": "scatterpolargl"
           }
          ],
          "scatterternary": [
           {
            "marker": {
             "colorbar": {
              "outlinewidth": 0,
              "ticks": ""
             }
            },
            "type": "scatterternary"
           }
          ],
          "surface": [
           {
            "colorbar": {
             "outlinewidth": 0,
             "ticks": ""
            },
            "colorscale": [
             [
              0,
              "#0d0887"
             ],
             [
              0.1111111111111111,
              "#46039f"
             ],
             [
              0.2222222222222222,
              "#7201a8"
             ],
             [
              0.3333333333333333,
              "#9c179e"
             ],
             [
              0.4444444444444444,
              "#bd3786"
             ],
             [
              0.5555555555555556,
              "#d8576b"
             ],
             [
              0.6666666666666666,
              "#ed7953"
             ],
             [
              0.7777777777777778,
              "#fb9f3a"
             ],
             [
              0.8888888888888888,
              "#fdca26"
             ],
             [
              1,
              "#f0f921"
             ]
            ],
            "type": "surface"
           }
          ],
          "table": [
           {
            "cells": {
             "fill": {
              "color": "#EBF0F8"
             },
             "line": {
              "color": "white"
             }
            },
            "header": {
             "fill": {
              "color": "#C8D4E3"
             },
             "line": {
              "color": "white"
             }
            },
            "type": "table"
           }
          ]
         },
         "layout": {
          "annotationdefaults": {
           "arrowcolor": "#2a3f5f",
           "arrowhead": 0,
           "arrowwidth": 1
          },
          "autotypenumbers": "strict",
          "coloraxis": {
           "colorbar": {
            "outlinewidth": 0,
            "ticks": ""
           }
          },
          "colorscale": {
           "diverging": [
            [
             0,
             "#8e0152"
            ],
            [
             0.1,
             "#c51b7d"
            ],
            [
             0.2,
             "#de77ae"
            ],
            [
             0.3,
             "#f1b6da"
            ],
            [
             0.4,
             "#fde0ef"
            ],
            [
             0.5,
             "#f7f7f7"
            ],
            [
             0.6,
             "#e6f5d0"
            ],
            [
             0.7,
             "#b8e186"
            ],
            [
             0.8,
             "#7fbc41"
            ],
            [
             0.9,
             "#4d9221"
            ],
            [
             1,
             "#276419"
            ]
           ],
           "sequential": [
            [
             0,
             "#0d0887"
            ],
            [
             0.1111111111111111,
             "#46039f"
            ],
            [
             0.2222222222222222,
             "#7201a8"
            ],
            [
             0.3333333333333333,
             "#9c179e"
            ],
            [
             0.4444444444444444,
             "#bd3786"
            ],
            [
             0.5555555555555556,
             "#d8576b"
            ],
            [
             0.6666666666666666,
             "#ed7953"
            ],
            [
             0.7777777777777778,
             "#fb9f3a"
            ],
            [
             0.8888888888888888,
             "#fdca26"
            ],
            [
             1,
             "#f0f921"
            ]
           ],
           "sequentialminus": [
            [
             0,
             "#0d0887"
            ],
            [
             0.1111111111111111,
             "#46039f"
            ],
            [
             0.2222222222222222,
             "#7201a8"
            ],
            [
             0.3333333333333333,
             "#9c179e"
            ],
            [
             0.4444444444444444,
             "#bd3786"
            ],
            [
             0.5555555555555556,
             "#d8576b"
            ],
            [
             0.6666666666666666,
             "#ed7953"
            ],
            [
             0.7777777777777778,
             "#fb9f3a"
            ],
            [
             0.8888888888888888,
             "#fdca26"
            ],
            [
             1,
             "#f0f921"
            ]
           ]
          },
          "colorway": [
           "#636efa",
           "#EF553B",
           "#00cc96",
           "#ab63fa",
           "#FFA15A",
           "#19d3f3",
           "#FF6692",
           "#B6E880",
           "#FF97FF",
           "#FECB52"
          ],
          "font": {
           "color": "#2a3f5f"
          },
          "geo": {
           "bgcolor": "white",
           "lakecolor": "white",
           "landcolor": "#E5ECF6",
           "showlakes": true,
           "showland": true,
           "subunitcolor": "white"
          },
          "hoverlabel": {
           "align": "left"
          },
          "hovermode": "closest",
          "mapbox": {
           "style": "light"
          },
          "paper_bgcolor": "white",
          "plot_bgcolor": "#E5ECF6",
          "polar": {
           "angularaxis": {
            "gridcolor": "white",
            "linecolor": "white",
            "ticks": ""
           },
           "bgcolor": "#E5ECF6",
           "radialaxis": {
            "gridcolor": "white",
            "linecolor": "white",
            "ticks": ""
           }
          },
          "scene": {
           "xaxis": {
            "backgroundcolor": "#E5ECF6",
            "gridcolor": "white",
            "gridwidth": 2,
            "linecolor": "white",
            "showbackground": true,
            "ticks": "",
            "zerolinecolor": "white"
           },
           "yaxis": {
            "backgroundcolor": "#E5ECF6",
            "gridcolor": "white",
            "gridwidth": 2,
            "linecolor": "white",
            "showbackground": true,
            "ticks": "",
            "zerolinecolor": "white"
           },
           "zaxis": {
            "backgroundcolor": "#E5ECF6",
            "gridcolor": "white",
            "gridwidth": 2,
            "linecolor": "white",
            "showbackground": true,
            "ticks": "",
            "zerolinecolor": "white"
           }
          },
          "shapedefaults": {
           "line": {
            "color": "#2a3f5f"
           }
          },
          "ternary": {
           "aaxis": {
            "gridcolor": "white",
            "linecolor": "white",
            "ticks": ""
           },
           "baxis": {
            "gridcolor": "white",
            "linecolor": "white",
            "ticks": ""
           },
           "bgcolor": "#E5ECF6",
           "caxis": {
            "gridcolor": "white",
            "linecolor": "white",
            "ticks": ""
           }
          },
          "title": {
           "x": 0.05
          },
          "xaxis": {
           "automargin": true,
           "gridcolor": "white",
           "linecolor": "white",
           "ticks": "",
           "title": {
            "standoff": 15
           },
           "zerolinecolor": "white",
           "zerolinewidth": 2
          },
          "yaxis": {
           "automargin": true,
           "gridcolor": "white",
           "linecolor": "white",
           "ticks": "",
           "title": {
            "standoff": 15
           },
           "zerolinecolor": "white",
           "zerolinewidth": 2
          }
         }
        },
        "title": {
         "text": "Trust Score Distribution"
        },
        "width": 700,
        "xaxis": {
         "fixedrange": false,
         "range": [
          0.9969918057514671,
          3.182002322331327
         ],
         "title": {
          "text": "Trust Score"
         }
        },
        "yaxis": {
         "fixedrange": true,
         "title": {
          "text": "Probability Density"
         }
        }
       }
      }
     },
     "metadata": {},
     "output_type": "display_data"
    },
    {
     "name": "stderr",
     "output_type": "stream",
     "text": [
      "/home/yura/Projects/deepchecks/deepchecks/deepchecks/core/display_pandas.py:54: FutureWarning:\n",
      "\n",
      "this method is deprecated in favour of `Styler.to_html()`\n",
      "\n",
      "/home/yura/Projects/deepchecks/deepchecks/deepchecks/core/display_pandas.py:54: FutureWarning:\n",
      "\n",
      "this method is deprecated in favour of `Styler.to_html()`\n",
      "\n"
     ]
    },
    {
     "data": {
      "text/html": [
       "<div><span style=\"font-size:0.8em\"><i>\n",
       "            The test trust score distribution should be quite similar to the train's. If it is skewed to the left, the\n",
       "            confidence of the model in the test data is lower than the train, indicating a difference that may affect\n",
       "            model performance on similar data. If it is skewed to the right, it indicates an underlying problem with the\n",
       "            creation of the test dataset (test confidence isn't expected to be higher than train's).\n",
       "            </i></span></div><div><h5>Worst Trust Score Samples</h5></div><style type=\"text/css\">\n",
       "#T_f7c96 table {\n",
       "  text-align: left;\n",
       "  white-space: pre-wrap;\n",
       "}\n",
       "#T_f7c96 thead {\n",
       "  text-align: left;\n",
       "  white-space: pre-wrap;\n",
       "}\n",
       "#T_f7c96 tbody {\n",
       "  text-align: left;\n",
       "  white-space: pre-wrap;\n",
       "}\n",
       "#T_f7c96 th {\n",
       "  text-align: left;\n",
       "  white-space: pre-wrap;\n",
       "}\n",
       "#T_f7c96 td {\n",
       "  text-align: left;\n",
       "  white-space: pre-wrap;\n",
       "}\n",
       "</style>\n",
       "<table id=\"T_f7c96\">\n",
       "  <thead>\n",
       "    <tr>\n",
       "      <th class=\"blank level0\" >&nbsp;</th>\n",
       "      <th id=\"T_f7c96_level0_col0\" class=\"col_heading level0 col0\" >Trust Score</th>\n",
       "      <th id=\"T_f7c96_level0_col1\" class=\"col_heading level0 col1\" >Model Prediction</th>\n",
       "      <th id=\"T_f7c96_level0_col2\" class=\"col_heading level0 col2\" >target</th>\n",
       "      <th id=\"T_f7c96_level0_col3\" class=\"col_heading level0 col3\" >mean radius</th>\n",
       "      <th id=\"T_f7c96_level0_col4\" class=\"col_heading level0 col4\" >mean texture</th>\n",
       "      <th id=\"T_f7c96_level0_col5\" class=\"col_heading level0 col5\" >mean perimeter</th>\n",
       "      <th id=\"T_f7c96_level0_col6\" class=\"col_heading level0 col6\" >mean area</th>\n",
       "      <th id=\"T_f7c96_level0_col7\" class=\"col_heading level0 col7\" >mean smoothness</th>\n",
       "      <th id=\"T_f7c96_level0_col8\" class=\"col_heading level0 col8\" >mean compactness</th>\n",
       "      <th id=\"T_f7c96_level0_col9\" class=\"col_heading level0 col9\" >mean concavity</th>\n",
       "      <th id=\"T_f7c96_level0_col10\" class=\"col_heading level0 col10\" >mean concave points</th>\n",
       "      <th id=\"T_f7c96_level0_col11\" class=\"col_heading level0 col11\" >mean symmetry</th>\n",
       "      <th id=\"T_f7c96_level0_col12\" class=\"col_heading level0 col12\" >mean fractal dimension</th>\n",
       "      <th id=\"T_f7c96_level0_col13\" class=\"col_heading level0 col13\" >radius error</th>\n",
       "      <th id=\"T_f7c96_level0_col14\" class=\"col_heading level0 col14\" >texture error</th>\n",
       "      <th id=\"T_f7c96_level0_col15\" class=\"col_heading level0 col15\" >perimeter error</th>\n",
       "      <th id=\"T_f7c96_level0_col16\" class=\"col_heading level0 col16\" >area error</th>\n",
       "      <th id=\"T_f7c96_level0_col17\" class=\"col_heading level0 col17\" >smoothness error</th>\n",
       "      <th id=\"T_f7c96_level0_col18\" class=\"col_heading level0 col18\" >compactness error</th>\n",
       "      <th id=\"T_f7c96_level0_col19\" class=\"col_heading level0 col19\" >concavity error</th>\n",
       "      <th id=\"T_f7c96_level0_col20\" class=\"col_heading level0 col20\" >concave points error</th>\n",
       "      <th id=\"T_f7c96_level0_col21\" class=\"col_heading level0 col21\" >symmetry error</th>\n",
       "      <th id=\"T_f7c96_level0_col22\" class=\"col_heading level0 col22\" >fractal dimension error</th>\n",
       "      <th id=\"T_f7c96_level0_col23\" class=\"col_heading level0 col23\" >worst radius</th>\n",
       "      <th id=\"T_f7c96_level0_col24\" class=\"col_heading level0 col24\" >worst texture</th>\n",
       "      <th id=\"T_f7c96_level0_col25\" class=\"col_heading level0 col25\" >worst perimeter</th>\n",
       "      <th id=\"T_f7c96_level0_col26\" class=\"col_heading level0 col26\" >worst area</th>\n",
       "      <th id=\"T_f7c96_level0_col27\" class=\"col_heading level0 col27\" >worst smoothness</th>\n",
       "      <th id=\"T_f7c96_level0_col28\" class=\"col_heading level0 col28\" >worst compactness</th>\n",
       "      <th id=\"T_f7c96_level0_col29\" class=\"col_heading level0 col29\" >worst concavity</th>\n",
       "      <th id=\"T_f7c96_level0_col30\" class=\"col_heading level0 col30\" >worst concave points</th>\n",
       "      <th id=\"T_f7c96_level0_col31\" class=\"col_heading level0 col31\" >worst symmetry</th>\n",
       "      <th id=\"T_f7c96_level0_col32\" class=\"col_heading level0 col32\" >worst fractal dimension</th>\n",
       "    </tr>\n",
       "  </thead>\n",
       "  <tbody>\n",
       "    <tr>\n",
       "      <th id=\"T_f7c96_level0_row0\" class=\"row_heading level0 row0\" >92</th>\n",
       "      <td id=\"T_f7c96_row0_col0\" class=\"data row0 col0\" >0.81</td>\n",
       "      <td id=\"T_f7c96_row0_col1\" class=\"data row0 col1\" >0</td>\n",
       "      <td id=\"T_f7c96_row0_col2\" class=\"data row0 col2\" >1</td>\n",
       "      <td id=\"T_f7c96_row0_col3\" class=\"data row0 col3\" >14.99</td>\n",
       "      <td id=\"T_f7c96_row0_col4\" class=\"data row0 col4\" >22.11</td>\n",
       "      <td id=\"T_f7c96_row0_col5\" class=\"data row0 col5\" >97.53</td>\n",
       "      <td id=\"T_f7c96_row0_col6\" class=\"data row0 col6\" >693.70</td>\n",
       "      <td id=\"T_f7c96_row0_col7\" class=\"data row0 col7\" >0.09</td>\n",
       "      <td id=\"T_f7c96_row0_col8\" class=\"data row0 col8\" >0.10</td>\n",
       "      <td id=\"T_f7c96_row0_col9\" class=\"data row0 col9\" >0.07</td>\n",
       "      <td id=\"T_f7c96_row0_col10\" class=\"data row0 col10\" >0.04</td>\n",
       "      <td id=\"T_f7c96_row0_col11\" class=\"data row0 col11\" >0.19</td>\n",
       "      <td id=\"T_f7c96_row0_col12\" class=\"data row0 col12\" >0.06</td>\n",
       "      <td id=\"T_f7c96_row0_col13\" class=\"data row0 col13\" >0.32</td>\n",
       "      <td id=\"T_f7c96_row0_col14\" class=\"data row0 col14\" >1.34</td>\n",
       "      <td id=\"T_f7c96_row0_col15\" class=\"data row0 col15\" >2.31</td>\n",
       "      <td id=\"T_f7c96_row0_col16\" class=\"data row0 col16\" >28.51</td>\n",
       "      <td id=\"T_f7c96_row0_col17\" class=\"data row0 col17\" >0.00</td>\n",
       "      <td id=\"T_f7c96_row0_col18\" class=\"data row0 col18\" >0.03</td>\n",
       "      <td id=\"T_f7c96_row0_col19\" class=\"data row0 col19\" >0.03</td>\n",
       "      <td id=\"T_f7c96_row0_col20\" class=\"data row0 col20\" >0.01</td>\n",
       "      <td id=\"T_f7c96_row0_col21\" class=\"data row0 col21\" >0.02</td>\n",
       "      <td id=\"T_f7c96_row0_col22\" class=\"data row0 col22\" >0.00</td>\n",
       "      <td id=\"T_f7c96_row0_col23\" class=\"data row0 col23\" >16.76</td>\n",
       "      <td id=\"T_f7c96_row0_col24\" class=\"data row0 col24\" >31.55</td>\n",
       "      <td id=\"T_f7c96_row0_col25\" class=\"data row0 col25\" >110.20</td>\n",
       "      <td id=\"T_f7c96_row0_col26\" class=\"data row0 col26\" >867.10</td>\n",
       "      <td id=\"T_f7c96_row0_col27\" class=\"data row0 col27\" >0.11</td>\n",
       "      <td id=\"T_f7c96_row0_col28\" class=\"data row0 col28\" >0.33</td>\n",
       "      <td id=\"T_f7c96_row0_col29\" class=\"data row0 col29\" >0.31</td>\n",
       "      <td id=\"T_f7c96_row0_col30\" class=\"data row0 col30\" >0.13</td>\n",
       "      <td id=\"T_f7c96_row0_col31\" class=\"data row0 col31\" >0.32</td>\n",
       "      <td id=\"T_f7c96_row0_col32\" class=\"data row0 col32\" >0.09</td>\n",
       "    </tr>\n",
       "    <tr>\n",
       "      <th id=\"T_f7c96_level0_row1\" class=\"row_heading level0 row1\" >40</th>\n",
       "      <td id=\"T_f7c96_row1_col0\" class=\"data row1 col0\" >0.80</td>\n",
       "      <td id=\"T_f7c96_row1_col1\" class=\"data row1 col1\" >0</td>\n",
       "      <td id=\"T_f7c96_row1_col2\" class=\"data row1 col2\" >0</td>\n",
       "      <td id=\"T_f7c96_row1_col3\" class=\"data row1 col3\" >15.13</td>\n",
       "      <td id=\"T_f7c96_row1_col4\" class=\"data row1 col4\" >29.81</td>\n",
       "      <td id=\"T_f7c96_row1_col5\" class=\"data row1 col5\" >96.71</td>\n",
       "      <td id=\"T_f7c96_row1_col6\" class=\"data row1 col6\" >719.50</td>\n",
       "      <td id=\"T_f7c96_row1_col7\" class=\"data row1 col7\" >0.08</td>\n",
       "      <td id=\"T_f7c96_row1_col8\" class=\"data row1 col8\" >0.05</td>\n",
       "      <td id=\"T_f7c96_row1_col9\" class=\"data row1 col9\" >0.05</td>\n",
       "      <td id=\"T_f7c96_row1_col10\" class=\"data row1 col10\" >0.03</td>\n",
       "      <td id=\"T_f7c96_row1_col11\" class=\"data row1 col11\" >0.19</td>\n",
       "      <td id=\"T_f7c96_row1_col12\" class=\"data row1 col12\" >0.05</td>\n",
       "      <td id=\"T_f7c96_row1_col13\" class=\"data row1 col13\" >0.47</td>\n",
       "      <td id=\"T_f7c96_row1_col14\" class=\"data row1 col14\" >1.63</td>\n",
       "      <td id=\"T_f7c96_row1_col15\" class=\"data row1 col15\" >3.04</td>\n",
       "      <td id=\"T_f7c96_row1_col16\" class=\"data row1 col16\" >45.38</td>\n",
       "      <td id=\"T_f7c96_row1_col17\" class=\"data row1 col17\" >0.01</td>\n",
       "      <td id=\"T_f7c96_row1_col18\" class=\"data row1 col18\" >0.01</td>\n",
       "      <td id=\"T_f7c96_row1_col19\" class=\"data row1 col19\" >0.02</td>\n",
       "      <td id=\"T_f7c96_row1_col20\" class=\"data row1 col20\" >0.01</td>\n",
       "      <td id=\"T_f7c96_row1_col21\" class=\"data row1 col21\" >0.03</td>\n",
       "      <td id=\"T_f7c96_row1_col22\" class=\"data row1 col22\" >0.00</td>\n",
       "      <td id=\"T_f7c96_row1_col23\" class=\"data row1 col23\" >17.26</td>\n",
       "      <td id=\"T_f7c96_row1_col24\" class=\"data row1 col24\" >36.91</td>\n",
       "      <td id=\"T_f7c96_row1_col25\" class=\"data row1 col25\" >110.10</td>\n",
       "      <td id=\"T_f7c96_row1_col26\" class=\"data row1 col26\" >931.40</td>\n",
       "      <td id=\"T_f7c96_row1_col27\" class=\"data row1 col27\" >0.11</td>\n",
       "      <td id=\"T_f7c96_row1_col28\" class=\"data row1 col28\" >0.10</td>\n",
       "      <td id=\"T_f7c96_row1_col29\" class=\"data row1 col29\" >0.15</td>\n",
       "      <td id=\"T_f7c96_row1_col30\" class=\"data row1 col30\" >0.07</td>\n",
       "      <td id=\"T_f7c96_row1_col31\" class=\"data row1 col31\" >0.32</td>\n",
       "      <td id=\"T_f7c96_row1_col32\" class=\"data row1 col32\" >0.06</td>\n",
       "    </tr>\n",
       "    <tr>\n",
       "      <th id=\"T_f7c96_level0_row2\" class=\"row_heading level0 row2\" >108</th>\n",
       "      <td id=\"T_f7c96_row2_col0\" class=\"data row2 col0\" >0.78</td>\n",
       "      <td id=\"T_f7c96_row2_col1\" class=\"data row2 col1\" >0</td>\n",
       "      <td id=\"T_f7c96_row2_col2\" class=\"data row2 col2\" >0</td>\n",
       "      <td id=\"T_f7c96_row2_col3\" class=\"data row2 col3\" >15.61</td>\n",
       "      <td id=\"T_f7c96_row2_col4\" class=\"data row2 col4\" >19.38</td>\n",
       "      <td id=\"T_f7c96_row2_col5\" class=\"data row2 col5\" >100.00</td>\n",
       "      <td id=\"T_f7c96_row2_col6\" class=\"data row2 col6\" >758.60</td>\n",
       "      <td id=\"T_f7c96_row2_col7\" class=\"data row2 col7\" >0.08</td>\n",
       "      <td id=\"T_f7c96_row2_col8\" class=\"data row2 col8\" >0.06</td>\n",
       "      <td id=\"T_f7c96_row2_col9\" class=\"data row2 col9\" >0.04</td>\n",
       "      <td id=\"T_f7c96_row2_col10\" class=\"data row2 col10\" >0.03</td>\n",
       "      <td id=\"T_f7c96_row2_col11\" class=\"data row2 col11\" >0.15</td>\n",
       "      <td id=\"T_f7c96_row2_col12\" class=\"data row2 col12\" >0.05</td>\n",
       "      <td id=\"T_f7c96_row2_col13\" class=\"data row2 col13\" >0.23</td>\n",
       "      <td id=\"T_f7c96_row2_col14\" class=\"data row2 col14\" >1.00</td>\n",
       "      <td id=\"T_f7c96_row2_col15\" class=\"data row2 col15\" >1.53</td>\n",
       "      <td id=\"T_f7c96_row2_col16\" class=\"data row2 col16\" >22.18</td>\n",
       "      <td id=\"T_f7c96_row2_col17\" class=\"data row2 col17\" >0.00</td>\n",
       "      <td id=\"T_f7c96_row2_col18\" class=\"data row2 col18\" >0.01</td>\n",
       "      <td id=\"T_f7c96_row2_col19\" class=\"data row2 col19\" >0.01</td>\n",
       "      <td id=\"T_f7c96_row2_col20\" class=\"data row2 col20\" >0.01</td>\n",
       "      <td id=\"T_f7c96_row2_col21\" class=\"data row2 col21\" >0.01</td>\n",
       "      <td id=\"T_f7c96_row2_col22\" class=\"data row2 col22\" >0.00</td>\n",
       "      <td id=\"T_f7c96_row2_col23\" class=\"data row2 col23\" >17.91</td>\n",
       "      <td id=\"T_f7c96_row2_col24\" class=\"data row2 col24\" >31.67</td>\n",
       "      <td id=\"T_f7c96_row2_col25\" class=\"data row2 col25\" >115.90</td>\n",
       "      <td id=\"T_f7c96_row2_col26\" class=\"data row2 col26\" >988.60</td>\n",
       "      <td id=\"T_f7c96_row2_col27\" class=\"data row2 col27\" >0.11</td>\n",
       "      <td id=\"T_f7c96_row2_col28\" class=\"data row2 col28\" >0.18</td>\n",
       "      <td id=\"T_f7c96_row2_col29\" class=\"data row2 col29\" >0.23</td>\n",
       "      <td id=\"T_f7c96_row2_col30\" class=\"data row2 col30\" >0.09</td>\n",
       "      <td id=\"T_f7c96_row2_col31\" class=\"data row2 col31\" >0.27</td>\n",
       "      <td id=\"T_f7c96_row2_col32\" class=\"data row2 col32\" >0.07</td>\n",
       "    </tr>\n",
       "    <tr>\n",
       "      <th id=\"T_f7c96_level0_row3\" class=\"row_heading level0 row3\" >136</th>\n",
       "      <td id=\"T_f7c96_row3_col0\" class=\"data row3 col0\" >0.77</td>\n",
       "      <td id=\"T_f7c96_row3_col1\" class=\"data row3 col1\" >0</td>\n",
       "      <td id=\"T_f7c96_row3_col2\" class=\"data row3 col2\" >1</td>\n",
       "      <td id=\"T_f7c96_row3_col3\" class=\"data row3 col3\" >14.74</td>\n",
       "      <td id=\"T_f7c96_row3_col4\" class=\"data row3 col4\" >25.42</td>\n",
       "      <td id=\"T_f7c96_row3_col5\" class=\"data row3 col5\" >94.70</td>\n",
       "      <td id=\"T_f7c96_row3_col6\" class=\"data row3 col6\" >668.60</td>\n",
       "      <td id=\"T_f7c96_row3_col7\" class=\"data row3 col7\" >0.08</td>\n",
       "      <td id=\"T_f7c96_row3_col8\" class=\"data row3 col8\" >0.07</td>\n",
       "      <td id=\"T_f7c96_row3_col9\" class=\"data row3 col9\" >0.04</td>\n",
       "      <td id=\"T_f7c96_row3_col10\" class=\"data row3 col10\" >0.03</td>\n",
       "      <td id=\"T_f7c96_row3_col11\" class=\"data row3 col11\" >0.18</td>\n",
       "      <td id=\"T_f7c96_row3_col12\" class=\"data row3 col12\" >0.06</td>\n",
       "      <td id=\"T_f7c96_row3_col13\" class=\"data row3 col13\" >0.30</td>\n",
       "      <td id=\"T_f7c96_row3_col14\" class=\"data row3 col14\" >1.39</td>\n",
       "      <td id=\"T_f7c96_row3_col15\" class=\"data row3 col15\" >2.18</td>\n",
       "      <td id=\"T_f7c96_row3_col16\" class=\"data row3 col16\" >27.41</td>\n",
       "      <td id=\"T_f7c96_row3_col17\" class=\"data row3 col17\" >0.00</td>\n",
       "      <td id=\"T_f7c96_row3_col18\" class=\"data row3 col18\" >0.01</td>\n",
       "      <td id=\"T_f7c96_row3_col19\" class=\"data row3 col19\" >0.02</td>\n",
       "      <td id=\"T_f7c96_row3_col20\" class=\"data row3 col20\" >0.01</td>\n",
       "      <td id=\"T_f7c96_row3_col21\" class=\"data row3 col21\" >0.02</td>\n",
       "      <td id=\"T_f7c96_row3_col22\" class=\"data row3 col22\" >0.00</td>\n",
       "      <td id=\"T_f7c96_row3_col23\" class=\"data row3 col23\" >16.51</td>\n",
       "      <td id=\"T_f7c96_row3_col24\" class=\"data row3 col24\" >32.29</td>\n",
       "      <td id=\"T_f7c96_row3_col25\" class=\"data row3 col25\" >107.40</td>\n",
       "      <td id=\"T_f7c96_row3_col26\" class=\"data row3 col26\" >826.40</td>\n",
       "      <td id=\"T_f7c96_row3_col27\" class=\"data row3 col27\" >0.11</td>\n",
       "      <td id=\"T_f7c96_row3_col28\" class=\"data row3 col28\" >0.14</td>\n",
       "      <td id=\"T_f7c96_row3_col29\" class=\"data row3 col29\" >0.16</td>\n",
       "      <td id=\"T_f7c96_row3_col30\" class=\"data row3 col30\" >0.11</td>\n",
       "      <td id=\"T_f7c96_row3_col31\" class=\"data row3 col31\" >0.27</td>\n",
       "      <td id=\"T_f7c96_row3_col32\" class=\"data row3 col32\" >0.07</td>\n",
       "    </tr>\n",
       "    <tr>\n",
       "      <th id=\"T_f7c96_level0_row4\" class=\"row_heading level0 row4\" >65</th>\n",
       "      <td id=\"T_f7c96_row4_col0\" class=\"data row4 col0\" >0.69</td>\n",
       "      <td id=\"T_f7c96_row4_col1\" class=\"data row4 col1\" >0</td>\n",
       "      <td id=\"T_f7c96_row4_col2\" class=\"data row4 col2\" >1</td>\n",
       "      <td id=\"T_f7c96_row4_col3\" class=\"data row4 col3\" >12.04</td>\n",
       "      <td id=\"T_f7c96_row4_col4\" class=\"data row4 col4\" >28.14</td>\n",
       "      <td id=\"T_f7c96_row4_col5\" class=\"data row4 col5\" >76.85</td>\n",
       "      <td id=\"T_f7c96_row4_col6\" class=\"data row4 col6\" >449.90</td>\n",
       "      <td id=\"T_f7c96_row4_col7\" class=\"data row4 col7\" >0.09</td>\n",
       "      <td id=\"T_f7c96_row4_col8\" class=\"data row4 col8\" >0.06</td>\n",
       "      <td id=\"T_f7c96_row4_col9\" class=\"data row4 col9\" >0.02</td>\n",
       "      <td id=\"T_f7c96_row4_col10\" class=\"data row4 col10\" >0.02</td>\n",
       "      <td id=\"T_f7c96_row4_col11\" class=\"data row4 col11\" >0.19</td>\n",
       "      <td id=\"T_f7c96_row4_col12\" class=\"data row4 col12\" >0.06</td>\n",
       "      <td id=\"T_f7c96_row4_col13\" class=\"data row4 col13\" >0.61</td>\n",
       "      <td id=\"T_f7c96_row4_col14\" class=\"data row4 col14\" >2.64</td>\n",
       "      <td id=\"T_f7c96_row4_col15\" class=\"data row4 col15\" >4.10</td>\n",
       "      <td id=\"T_f7c96_row4_col16\" class=\"data row4 col16\" >44.96</td>\n",
       "      <td id=\"T_f7c96_row4_col17\" class=\"data row4 col17\" >0.01</td>\n",
       "      <td id=\"T_f7c96_row4_col18\" class=\"data row4 col18\" >0.02</td>\n",
       "      <td id=\"T_f7c96_row4_col19\" class=\"data row4 col19\" >0.01</td>\n",
       "      <td id=\"T_f7c96_row4_col20\" class=\"data row4 col20\" >0.01</td>\n",
       "      <td id=\"T_f7c96_row4_col21\" class=\"data row4 col21\" >0.02</td>\n",
       "      <td id=\"T_f7c96_row4_col22\" class=\"data row4 col22\" >0.00</td>\n",
       "      <td id=\"T_f7c96_row4_col23\" class=\"data row4 col23\" >13.60</td>\n",
       "      <td id=\"T_f7c96_row4_col24\" class=\"data row4 col24\" >33.33</td>\n",
       "      <td id=\"T_f7c96_row4_col25\" class=\"data row4 col25\" >87.24</td>\n",
       "      <td id=\"T_f7c96_row4_col26\" class=\"data row4 col26\" >567.60</td>\n",
       "      <td id=\"T_f7c96_row4_col27\" class=\"data row4 col27\" >0.10</td>\n",
       "      <td id=\"T_f7c96_row4_col28\" class=\"data row4 col28\" >0.10</td>\n",
       "      <td id=\"T_f7c96_row4_col29\" class=\"data row4 col29\" >0.06</td>\n",
       "      <td id=\"T_f7c96_row4_col30\" class=\"data row4 col30\" >0.06</td>\n",
       "      <td id=\"T_f7c96_row4_col31\" class=\"data row4 col31\" >0.24</td>\n",
       "      <td id=\"T_f7c96_row4_col32\" class=\"data row4 col32\" >0.07</td>\n",
       "    </tr>\n",
       "  </tbody>\n",
       "</table>\n",
       "<div><h5>Top Trust Score Samples</h5></div><style type=\"text/css\">\n",
       "#T_6d408 table {\n",
       "  text-align: left;\n",
       "  white-space: pre-wrap;\n",
       "}\n",
       "#T_6d408 thead {\n",
       "  text-align: left;\n",
       "  white-space: pre-wrap;\n",
       "}\n",
       "#T_6d408 tbody {\n",
       "  text-align: left;\n",
       "  white-space: pre-wrap;\n",
       "}\n",
       "#T_6d408 th {\n",
       "  text-align: left;\n",
       "  white-space: pre-wrap;\n",
       "}\n",
       "#T_6d408 td {\n",
       "  text-align: left;\n",
       "  white-space: pre-wrap;\n",
       "}\n",
       "</style>\n",
       "<table id=\"T_6d408\">\n",
       "  <thead>\n",
       "    <tr>\n",
       "      <th class=\"blank level0\" >&nbsp;</th>\n",
       "      <th id=\"T_6d408_level0_col0\" class=\"col_heading level0 col0\" >Trust Score</th>\n",
       "      <th id=\"T_6d408_level0_col1\" class=\"col_heading level0 col1\" >Model Prediction</th>\n",
       "      <th id=\"T_6d408_level0_col2\" class=\"col_heading level0 col2\" >target</th>\n",
       "      <th id=\"T_6d408_level0_col3\" class=\"col_heading level0 col3\" >mean radius</th>\n",
       "      <th id=\"T_6d408_level0_col4\" class=\"col_heading level0 col4\" >mean texture</th>\n",
       "      <th id=\"T_6d408_level0_col5\" class=\"col_heading level0 col5\" >mean perimeter</th>\n",
       "      <th id=\"T_6d408_level0_col6\" class=\"col_heading level0 col6\" >mean area</th>\n",
       "      <th id=\"T_6d408_level0_col7\" class=\"col_heading level0 col7\" >mean smoothness</th>\n",
       "      <th id=\"T_6d408_level0_col8\" class=\"col_heading level0 col8\" >mean compactness</th>\n",
       "      <th id=\"T_6d408_level0_col9\" class=\"col_heading level0 col9\" >mean concavity</th>\n",
       "      <th id=\"T_6d408_level0_col10\" class=\"col_heading level0 col10\" >mean concave points</th>\n",
       "      <th id=\"T_6d408_level0_col11\" class=\"col_heading level0 col11\" >mean symmetry</th>\n",
       "      <th id=\"T_6d408_level0_col12\" class=\"col_heading level0 col12\" >mean fractal dimension</th>\n",
       "      <th id=\"T_6d408_level0_col13\" class=\"col_heading level0 col13\" >radius error</th>\n",
       "      <th id=\"T_6d408_level0_col14\" class=\"col_heading level0 col14\" >texture error</th>\n",
       "      <th id=\"T_6d408_level0_col15\" class=\"col_heading level0 col15\" >perimeter error</th>\n",
       "      <th id=\"T_6d408_level0_col16\" class=\"col_heading level0 col16\" >area error</th>\n",
       "      <th id=\"T_6d408_level0_col17\" class=\"col_heading level0 col17\" >smoothness error</th>\n",
       "      <th id=\"T_6d408_level0_col18\" class=\"col_heading level0 col18\" >compactness error</th>\n",
       "      <th id=\"T_6d408_level0_col19\" class=\"col_heading level0 col19\" >concavity error</th>\n",
       "      <th id=\"T_6d408_level0_col20\" class=\"col_heading level0 col20\" >concave points error</th>\n",
       "      <th id=\"T_6d408_level0_col21\" class=\"col_heading level0 col21\" >symmetry error</th>\n",
       "      <th id=\"T_6d408_level0_col22\" class=\"col_heading level0 col22\" >fractal dimension error</th>\n",
       "      <th id=\"T_6d408_level0_col23\" class=\"col_heading level0 col23\" >worst radius</th>\n",
       "      <th id=\"T_6d408_level0_col24\" class=\"col_heading level0 col24\" >worst texture</th>\n",
       "      <th id=\"T_6d408_level0_col25\" class=\"col_heading level0 col25\" >worst perimeter</th>\n",
       "      <th id=\"T_6d408_level0_col26\" class=\"col_heading level0 col26\" >worst area</th>\n",
       "      <th id=\"T_6d408_level0_col27\" class=\"col_heading level0 col27\" >worst smoothness</th>\n",
       "      <th id=\"T_6d408_level0_col28\" class=\"col_heading level0 col28\" >worst compactness</th>\n",
       "      <th id=\"T_6d408_level0_col29\" class=\"col_heading level0 col29\" >worst concavity</th>\n",
       "      <th id=\"T_6d408_level0_col30\" class=\"col_heading level0 col30\" >worst concave points</th>\n",
       "      <th id=\"T_6d408_level0_col31\" class=\"col_heading level0 col31\" >worst symmetry</th>\n",
       "      <th id=\"T_6d408_level0_col32\" class=\"col_heading level0 col32\" >worst fractal dimension</th>\n",
       "    </tr>\n",
       "  </thead>\n",
       "  <tbody>\n",
       "    <tr>\n",
       "      <th id=\"T_6d408_level0_row0\" class=\"row_heading level0 row0\" >138</th>\n",
       "      <td id=\"T_6d408_row0_col0\" class=\"data row0 col0\" >3.28</td>\n",
       "      <td id=\"T_6d408_row0_col1\" class=\"data row0 col1\" >0</td>\n",
       "      <td id=\"T_6d408_row0_col2\" class=\"data row0 col2\" >0</td>\n",
       "      <td id=\"T_6d408_row0_col3\" class=\"data row0 col3\" >23.21</td>\n",
       "      <td id=\"T_6d408_row0_col4\" class=\"data row0 col4\" >26.97</td>\n",
       "      <td id=\"T_6d408_row0_col5\" class=\"data row0 col5\" >153.50</td>\n",
       "      <td id=\"T_6d408_row0_col6\" class=\"data row0 col6\" >1670.00</td>\n",
       "      <td id=\"T_6d408_row0_col7\" class=\"data row0 col7\" >0.10</td>\n",
       "      <td id=\"T_6d408_row0_col8\" class=\"data row0 col8\" >0.17</td>\n",
       "      <td id=\"T_6d408_row0_col9\" class=\"data row0 col9\" >0.20</td>\n",
       "      <td id=\"T_6d408_row0_col10\" class=\"data row0 col10\" >0.12</td>\n",
       "      <td id=\"T_6d408_row0_col11\" class=\"data row0 col11\" >0.19</td>\n",
       "      <td id=\"T_6d408_row0_col12\" class=\"data row0 col12\" >0.06</td>\n",
       "      <td id=\"T_6d408_row0_col13\" class=\"data row0 col13\" >1.06</td>\n",
       "      <td id=\"T_6d408_row0_col14\" class=\"data row0 col14\" >0.96</td>\n",
       "      <td id=\"T_6d408_row0_col15\" class=\"data row0 col15\" >7.25</td>\n",
       "      <td id=\"T_6d408_row0_col16\" class=\"data row0 col16\" >155.80</td>\n",
       "      <td id=\"T_6d408_row0_col17\" class=\"data row0 col17\" >0.01</td>\n",
       "      <td id=\"T_6d408_row0_col18\" class=\"data row0 col18\" >0.03</td>\n",
       "      <td id=\"T_6d408_row0_col19\" class=\"data row0 col19\" >0.04</td>\n",
       "      <td id=\"T_6d408_row0_col20\" class=\"data row0 col20\" >0.02</td>\n",
       "      <td id=\"T_6d408_row0_col21\" class=\"data row0 col21\" >0.02</td>\n",
       "      <td id=\"T_6d408_row0_col22\" class=\"data row0 col22\" >0.00</td>\n",
       "      <td id=\"T_6d408_row0_col23\" class=\"data row0 col23\" >31.01</td>\n",
       "      <td id=\"T_6d408_row0_col24\" class=\"data row0 col24\" >34.51</td>\n",
       "      <td id=\"T_6d408_row0_col25\" class=\"data row0 col25\" >206.00</td>\n",
       "      <td id=\"T_6d408_row0_col26\" class=\"data row0 col26\" >2944.00</td>\n",
       "      <td id=\"T_6d408_row0_col27\" class=\"data row0 col27\" >0.15</td>\n",
       "      <td id=\"T_6d408_row0_col28\" class=\"data row0 col28\" >0.41</td>\n",
       "      <td id=\"T_6d408_row0_col29\" class=\"data row0 col29\" >0.58</td>\n",
       "      <td id=\"T_6d408_row0_col30\" class=\"data row0 col30\" >0.26</td>\n",
       "      <td id=\"T_6d408_row0_col31\" class=\"data row0 col31\" >0.31</td>\n",
       "      <td id=\"T_6d408_row0_col32\" class=\"data row0 col32\" >0.09</td>\n",
       "    </tr>\n",
       "    <tr>\n",
       "      <th id=\"T_6d408_level0_row1\" class=\"row_heading level0 row1\" >127</th>\n",
       "      <td id=\"T_6d408_row1_col0\" class=\"data row1 col0\" >3.14</td>\n",
       "      <td id=\"T_6d408_row1_col1\" class=\"data row1 col1\" >1</td>\n",
       "      <td id=\"T_6d408_row1_col2\" class=\"data row1 col2\" >1</td>\n",
       "      <td id=\"T_6d408_row1_col3\" class=\"data row1 col3\" >11.29</td>\n",
       "      <td id=\"T_6d408_row1_col4\" class=\"data row1 col4\" >13.04</td>\n",
       "      <td id=\"T_6d408_row1_col5\" class=\"data row1 col5\" >72.23</td>\n",
       "      <td id=\"T_6d408_row1_col6\" class=\"data row1 col6\" >388.00</td>\n",
       "      <td id=\"T_6d408_row1_col7\" class=\"data row1 col7\" >0.10</td>\n",
       "      <td id=\"T_6d408_row1_col8\" class=\"data row1 col8\" >0.08</td>\n",
       "      <td id=\"T_6d408_row1_col9\" class=\"data row1 col9\" >0.03</td>\n",
       "      <td id=\"T_6d408_row1_col10\" class=\"data row1 col10\" >0.03</td>\n",
       "      <td id=\"T_6d408_row1_col11\" class=\"data row1 col11\" >0.18</td>\n",
       "      <td id=\"T_6d408_row1_col12\" class=\"data row1 col12\" >0.06</td>\n",
       "      <td id=\"T_6d408_row1_col13\" class=\"data row1 col13\" >0.19</td>\n",
       "      <td id=\"T_6d408_row1_col14\" class=\"data row1 col14\" >0.53</td>\n",
       "      <td id=\"T_6d408_row1_col15\" class=\"data row1 col15\" >1.16</td>\n",
       "      <td id=\"T_6d408_row1_col16\" class=\"data row1 col16\" >13.17</td>\n",
       "      <td id=\"T_6d408_row1_col17\" class=\"data row1 col17\" >0.01</td>\n",
       "      <td id=\"T_6d408_row1_col18\" class=\"data row1 col18\" >0.01</td>\n",
       "      <td id=\"T_6d408_row1_col19\" class=\"data row1 col19\" >0.01</td>\n",
       "      <td id=\"T_6d408_row1_col20\" class=\"data row1 col20\" >0.01</td>\n",
       "      <td id=\"T_6d408_row1_col21\" class=\"data row1 col21\" >0.02</td>\n",
       "      <td id=\"T_6d408_row1_col22\" class=\"data row1 col22\" >0.00</td>\n",
       "      <td id=\"T_6d408_row1_col23\" class=\"data row1 col23\" >12.32</td>\n",
       "      <td id=\"T_6d408_row1_col24\" class=\"data row1 col24\" >16.18</td>\n",
       "      <td id=\"T_6d408_row1_col25\" class=\"data row1 col25\" >78.27</td>\n",
       "      <td id=\"T_6d408_row1_col26\" class=\"data row1 col26\" >457.50</td>\n",
       "      <td id=\"T_6d408_row1_col27\" class=\"data row1 col27\" >0.14</td>\n",
       "      <td id=\"T_6d408_row1_col28\" class=\"data row1 col28\" >0.15</td>\n",
       "      <td id=\"T_6d408_row1_col29\" class=\"data row1 col29\" >0.13</td>\n",
       "      <td id=\"T_6d408_row1_col30\" class=\"data row1 col30\" >0.09</td>\n",
       "      <td id=\"T_6d408_row1_col31\" class=\"data row1 col31\" >0.27</td>\n",
       "      <td id=\"T_6d408_row1_col32\" class=\"data row1 col32\" >0.08</td>\n",
       "    </tr>\n",
       "    <tr>\n",
       "      <th id=\"T_6d408_level0_row2\" class=\"row_heading level0 row2\" >142</th>\n",
       "      <td id=\"T_6d408_row2_col0\" class=\"data row2 col0\" >2.90</td>\n",
       "      <td id=\"T_6d408_row2_col1\" class=\"data row2 col1\" >0</td>\n",
       "      <td id=\"T_6d408_row2_col2\" class=\"data row2 col2\" >0</td>\n",
       "      <td id=\"T_6d408_row2_col3\" class=\"data row2 col3\" >19.59</td>\n",
       "      <td id=\"T_6d408_row2_col4\" class=\"data row2 col4\" >18.15</td>\n",
       "      <td id=\"T_6d408_row2_col5\" class=\"data row2 col5\" >130.70</td>\n",
       "      <td id=\"T_6d408_row2_col6\" class=\"data row2 col6\" >1214.00</td>\n",
       "      <td id=\"T_6d408_row2_col7\" class=\"data row2 col7\" >0.11</td>\n",
       "      <td id=\"T_6d408_row2_col8\" class=\"data row2 col8\" >0.17</td>\n",
       "      <td id=\"T_6d408_row2_col9\" class=\"data row2 col9\" >0.25</td>\n",
       "      <td id=\"T_6d408_row2_col10\" class=\"data row2 col10\" >0.13</td>\n",
       "      <td id=\"T_6d408_row2_col11\" class=\"data row2 col11\" >0.20</td>\n",
       "      <td id=\"T_6d408_row2_col12\" class=\"data row2 col12\" >0.06</td>\n",
       "      <td id=\"T_6d408_row2_col13\" class=\"data row2 col13\" >0.74</td>\n",
       "      <td id=\"T_6d408_row2_col14\" class=\"data row2 col14\" >1.05</td>\n",
       "      <td id=\"T_6d408_row2_col15\" class=\"data row2 col15\" >4.79</td>\n",
       "      <td id=\"T_6d408_row2_col16\" class=\"data row2 col16\" >97.07</td>\n",
       "      <td id=\"T_6d408_row2_col17\" class=\"data row2 col17\" >0.00</td>\n",
       "      <td id=\"T_6d408_row2_col18\" class=\"data row2 col18\" >0.02</td>\n",
       "      <td id=\"T_6d408_row2_col19\" class=\"data row2 col19\" >0.04</td>\n",
       "      <td id=\"T_6d408_row2_col20\" class=\"data row2 col20\" >0.01</td>\n",
       "      <td id=\"T_6d408_row2_col21\" class=\"data row2 col21\" >0.02</td>\n",
       "      <td id=\"T_6d408_row2_col22\" class=\"data row2 col22\" >0.00</td>\n",
       "      <td id=\"T_6d408_row2_col23\" class=\"data row2 col23\" >26.73</td>\n",
       "      <td id=\"T_6d408_row2_col24\" class=\"data row2 col24\" >26.39</td>\n",
       "      <td id=\"T_6d408_row2_col25\" class=\"data row2 col25\" >174.90</td>\n",
       "      <td id=\"T_6d408_row2_col26\" class=\"data row2 col26\" >2232.00</td>\n",
       "      <td id=\"T_6d408_row2_col27\" class=\"data row2 col27\" >0.14</td>\n",
       "      <td id=\"T_6d408_row2_col28\" class=\"data row2 col28\" >0.38</td>\n",
       "      <td id=\"T_6d408_row2_col29\" class=\"data row2 col29\" >0.68</td>\n",
       "      <td id=\"T_6d408_row2_col30\" class=\"data row2 col30\" >0.22</td>\n",
       "      <td id=\"T_6d408_row2_col31\" class=\"data row2 col31\" >0.36</td>\n",
       "      <td id=\"T_6d408_row2_col32\" class=\"data row2 col32\" >0.09</td>\n",
       "    </tr>\n",
       "    <tr>\n",
       "      <th id=\"T_6d408_level0_row3\" class=\"row_heading level0 row3\" >86</th>\n",
       "      <td id=\"T_6d408_row3_col0\" class=\"data row3 col0\" >2.84</td>\n",
       "      <td id=\"T_6d408_row3_col1\" class=\"data row3 col1\" >1</td>\n",
       "      <td id=\"T_6d408_row3_col2\" class=\"data row3 col2\" >1</td>\n",
       "      <td id=\"T_6d408_row3_col3\" class=\"data row3 col3\" >13.50</td>\n",
       "      <td id=\"T_6d408_row3_col4\" class=\"data row3 col4\" >12.71</td>\n",
       "      <td id=\"T_6d408_row3_col5\" class=\"data row3 col5\" >85.69</td>\n",
       "      <td id=\"T_6d408_row3_col6\" class=\"data row3 col6\" >566.20</td>\n",
       "      <td id=\"T_6d408_row3_col7\" class=\"data row3 col7\" >0.07</td>\n",
       "      <td id=\"T_6d408_row3_col8\" class=\"data row3 col8\" >0.04</td>\n",
       "      <td id=\"T_6d408_row3_col9\" class=\"data row3 col9\" >0.00</td>\n",
       "      <td id=\"T_6d408_row3_col10\" class=\"data row3 col10\" >0.00</td>\n",
       "      <td id=\"T_6d408_row3_col11\" class=\"data row3 col11\" >0.14</td>\n",
       "      <td id=\"T_6d408_row3_col12\" class=\"data row3 col12\" >0.05</td>\n",
       "      <td id=\"T_6d408_row3_col13\" class=\"data row3 col13\" >0.22</td>\n",
       "      <td id=\"T_6d408_row3_col14\" class=\"data row3 col14\" >0.69</td>\n",
       "      <td id=\"T_6d408_row3_col15\" class=\"data row3 col15\" >1.51</td>\n",
       "      <td id=\"T_6d408_row3_col16\" class=\"data row3 col16\" >20.39</td>\n",
       "      <td id=\"T_6d408_row3_col17\" class=\"data row3 col17\" >0.00</td>\n",
       "      <td id=\"T_6d408_row3_col18\" class=\"data row3 col18\" >0.00</td>\n",
       "      <td id=\"T_6d408_row3_col19\" class=\"data row3 col19\" >0.00</td>\n",
       "      <td id=\"T_6d408_row3_col20\" class=\"data row3 col20\" >0.00</td>\n",
       "      <td id=\"T_6d408_row3_col21\" class=\"data row3 col21\" >0.01</td>\n",
       "      <td id=\"T_6d408_row3_col22\" class=\"data row3 col22\" >0.00</td>\n",
       "      <td id=\"T_6d408_row3_col23\" class=\"data row3 col23\" >14.97</td>\n",
       "      <td id=\"T_6d408_row3_col24\" class=\"data row3 col24\" >16.94</td>\n",
       "      <td id=\"T_6d408_row3_col25\" class=\"data row3 col25\" >95.48</td>\n",
       "      <td id=\"T_6d408_row3_col26\" class=\"data row3 col26\" >698.70</td>\n",
       "      <td id=\"T_6d408_row3_col27\" class=\"data row3 col27\" >0.09</td>\n",
       "      <td id=\"T_6d408_row3_col28\" class=\"data row3 col28\" >0.06</td>\n",
       "      <td id=\"T_6d408_row3_col29\" class=\"data row3 col29\" >0.01</td>\n",
       "      <td id=\"T_6d408_row3_col30\" class=\"data row3 col30\" >0.02</td>\n",
       "      <td id=\"T_6d408_row3_col31\" class=\"data row3 col31\" >0.23</td>\n",
       "      <td id=\"T_6d408_row3_col32\" class=\"data row3 col32\" >0.06</td>\n",
       "    </tr>\n",
       "    <tr>\n",
       "      <th id=\"T_6d408_level0_row4\" class=\"row_heading level0 row4\" >43</th>\n",
       "      <td id=\"T_6d408_row4_col0\" class=\"data row4 col0\" >2.68</td>\n",
       "      <td id=\"T_6d408_row4_col1\" class=\"data row4 col1\" >1</td>\n",
       "      <td id=\"T_6d408_row4_col2\" class=\"data row4 col2\" >1</td>\n",
       "      <td id=\"T_6d408_row4_col3\" class=\"data row4 col3\" >10.32</td>\n",
       "      <td id=\"T_6d408_row4_col4\" class=\"data row4 col4\" >16.35</td>\n",
       "      <td id=\"T_6d408_row4_col5\" class=\"data row4 col5\" >65.31</td>\n",
       "      <td id=\"T_6d408_row4_col6\" class=\"data row4 col6\" >324.90</td>\n",
       "      <td id=\"T_6d408_row4_col7\" class=\"data row4 col7\" >0.09</td>\n",
       "      <td id=\"T_6d408_row4_col8\" class=\"data row4 col8\" >0.05</td>\n",
       "      <td id=\"T_6d408_row4_col9\" class=\"data row4 col9\" >0.01</td>\n",
       "      <td id=\"T_6d408_row4_col10\" class=\"data row4 col10\" >0.01</td>\n",
       "      <td id=\"T_6d408_row4_col11\" class=\"data row4 col11\" >0.19</td>\n",
       "      <td id=\"T_6d408_row4_col12\" class=\"data row4 col12\" >0.06</td>\n",
       "      <td id=\"T_6d408_row4_col13\" class=\"data row4 col13\" >0.21</td>\n",
       "      <td id=\"T_6d408_row4_col14\" class=\"data row4 col14\" >0.97</td>\n",
       "      <td id=\"T_6d408_row4_col15\" class=\"data row4 col15\" >1.36</td>\n",
       "      <td id=\"T_6d408_row4_col16\" class=\"data row4 col16\" >12.97</td>\n",
       "      <td id=\"T_6d408_row4_col17\" class=\"data row4 col17\" >0.01</td>\n",
       "      <td id=\"T_6d408_row4_col18\" class=\"data row4 col18\" >0.01</td>\n",
       "      <td id=\"T_6d408_row4_col19\" class=\"data row4 col19\" >0.01</td>\n",
       "      <td id=\"T_6d408_row4_col20\" class=\"data row4 col20\" >0.01</td>\n",
       "      <td id=\"T_6d408_row4_col21\" class=\"data row4 col21\" >0.02</td>\n",
       "      <td id=\"T_6d408_row4_col22\" class=\"data row4 col22\" >0.00</td>\n",
       "      <td id=\"T_6d408_row4_col23\" class=\"data row4 col23\" >11.25</td>\n",
       "      <td id=\"T_6d408_row4_col24\" class=\"data row4 col24\" >21.77</td>\n",
       "      <td id=\"T_6d408_row4_col25\" class=\"data row4 col25\" >71.12</td>\n",
       "      <td id=\"T_6d408_row4_col26\" class=\"data row4 col26\" >384.90</td>\n",
       "      <td id=\"T_6d408_row4_col27\" class=\"data row4 col27\" >0.13</td>\n",
       "      <td id=\"T_6d408_row4_col28\" class=\"data row4 col28\" >0.09</td>\n",
       "      <td id=\"T_6d408_row4_col29\" class=\"data row4 col29\" >0.04</td>\n",
       "      <td id=\"T_6d408_row4_col30\" class=\"data row4 col30\" >0.02</td>\n",
       "      <td id=\"T_6d408_row4_col31\" class=\"data row4 col31\" >0.27</td>\n",
       "      <td id=\"T_6d408_row4_col32\" class=\"data row4 col32\" >0.07</td>\n",
       "    </tr>\n",
       "  </tbody>\n",
       "</table>\n"
      ]
     },
     "metadata": {},
     "output_type": "display_data"
    }
   ],
   "source": [
    "from deepchecks.tabular.checks import TrustScoreComparison\n",
    "\n",
    "TrustScoreComparison(min_test_samples=100).run(train, test, clf)"
   ]
  },
  {
   "cell_type": "markdown",
   "id": "9d7da2ab-8973-49d5-adb7-d0ffe84bc6f6",
   "metadata": {
    "tags": []
   },
   "source": [
    "### Analyzing the output"
   ]
  },
  {
   "cell_type": "markdown",
   "id": "16785328-9724-4466-8011-ef4ec7cbaa11",
   "metadata": {},
   "source": [
    "From here we can see that high trust score predictions are mostly correct, while the lowest trust score samples are wrong more often than not and are always predicted to belong to the negative class.\n",
    "\n",
    "Furthermore, we may notice some other common characteristics, such as the fact that `worst texture` and `mean texture` both seem to be lower in the top scoring samples, while the worst scoring samples have high `worst texture` and `mean texture` values, both features with high feature importance for the AdaBoost model. Might it be that high texture samples are getting worse predictions by the model?"
   ]
  },
  {
   "cell_type": "code",
   "execution_count": 3,
   "id": "6a1f5b1c-f421-4972-91d4-af05a036e39f",
   "metadata": {
    "execution": {
     "iopub.execute_input": "2022-01-26T12:56:44.672435Z",
     "iopub.status.busy": "2022-01-26T12:56:44.671755Z",
     "iopub.status.idle": "2022-01-26T12:56:44.678629Z",
     "shell.execute_reply": "2022-01-26T12:56:44.679164Z"
    }
   },
   "outputs": [
    {
     "data": {
      "text/html": [
       "<div>\n",
       "<style scoped>\n",
       "    .dataframe tbody tr th:only-of-type {\n",
       "        vertical-align: middle;\n",
       "    }\n",
       "\n",
       "    .dataframe tbody tr th {\n",
       "        vertical-align: top;\n",
       "    }\n",
       "\n",
       "    .dataframe thead th {\n",
       "        text-align: right;\n",
       "    }\n",
       "</style>\n",
       "<table border=\"1\" class=\"dataframe\">\n",
       "  <thead>\n",
       "    <tr style=\"text-align: right;\">\n",
       "      <th></th>\n",
       "      <th>Model Feature importance</th>\n",
       "    </tr>\n",
       "  </thead>\n",
       "  <tbody>\n",
       "    <tr>\n",
       "      <th>compactness error</th>\n",
       "      <td>0.08</td>\n",
       "    </tr>\n",
       "    <tr>\n",
       "      <th>worst texture</th>\n",
       "      <td>0.08</td>\n",
       "    </tr>\n",
       "    <tr>\n",
       "      <th>fractal dimension error</th>\n",
       "      <td>0.08</td>\n",
       "    </tr>\n",
       "    <tr>\n",
       "      <th>area error</th>\n",
       "      <td>0.08</td>\n",
       "    </tr>\n",
       "    <tr>\n",
       "      <th>mean concave points</th>\n",
       "      <td>0.06</td>\n",
       "    </tr>\n",
       "    <tr>\n",
       "      <th>worst perimeter</th>\n",
       "      <td>0.06</td>\n",
       "    </tr>\n",
       "    <tr>\n",
       "      <th>mean texture</th>\n",
       "      <td>0.06</td>\n",
       "    </tr>\n",
       "  </tbody>\n",
       "</table>\n",
       "</div>"
      ],
      "text/plain": [
       "                         Model Feature importance\n",
       "compactness error                            0.08\n",
       "worst texture                                0.08\n",
       "fractal dimension error                      0.08\n",
       "area error                                   0.08\n",
       "mean concave points                          0.06\n",
       "worst perimeter                              0.06\n",
       "mean texture                                 0.06"
      ]
     },
     "execution_count": 3,
     "metadata": {},
     "output_type": "execute_result"
    }
   ],
   "source": [
    "pd.Series(index=train_df.columns[:-1] ,data=clf.feature_importances_, name='Model Feature importance').sort_values(ascending=False).to_frame().head(7)"
   ]
  },
  {
   "cell_type": "markdown",
   "id": "e2a2b651-def8-4819-9d38-80588db89b72",
   "metadata": {},
   "source": [
    "<a id='define_condition'></a>\n",
    "## Define a condition"
   ]
  },
  {
   "cell_type": "markdown",
   "id": "2a453a1d-307c-4d92-b504-d870fa82c2a7",
   "metadata": {},
   "source": [
    "### Introducing concept drift "
   ]
  },
  {
   "cell_type": "markdown",
   "id": "7fb9f09d-3547-4a8b-9042-fec798e293a6",
   "metadata": {},
   "source": [
    "First, we introduce concept drift into the data by changing the relation between the `worst texture` and `mean concave points` features, both important features for the model."
   ]
  },
  {
   "cell_type": "code",
   "execution_count": 4,
   "id": "40dcd969-702b-4ce0-a415-666a2a8faf64",
   "metadata": {
    "execution": {
     "iopub.execute_input": "2022-01-26T12:56:44.690029Z",
     "iopub.status.busy": "2022-01-26T12:56:44.689265Z",
     "iopub.status.idle": "2022-01-26T12:56:44.698293Z",
     "shell.execute_reply": "2022-01-26T12:56:44.698724Z"
    }
   },
   "outputs": [],
   "source": [
    "mod_test_df = test_df.copy()\n",
    "np.random.seed(0)\n",
    "sample_idx = np.random.choice(test_df.index, 80, replace=False)\n",
    "mod_test_df.loc[sample_idx, 'worst texture'] = mod_test_df.loc[sample_idx, 'target'] * (mod_test_df.loc[sample_idx, 'mean concave points'] > 0.05)\n",
    "mod_test = Dataset(mod_test_df, label=label)"
   ]
  },
  {
   "cell_type": "markdown",
   "id": "ea90d738-e62e-4346-be76-8bdcb8b3d2ce",
   "metadata": {},
   "source": [
    "### Checking for decline in Trust Score"
   ]
  },
  {
   "cell_type": "markdown",
   "id": "9246f376-e826-4b55-a6c6-2e61d70aa098",
   "metadata": {},
   "source": [
    "Now, we define a condition on the Trust Score check to alert us on significant degradation in the mean Trust Score of the test data compared to the training data. Note that the threshold percent of decline can be modified by passing a different threshold to the condition (the default is 0.2, or 20% decline)."
   ]
  },
  {
   "cell_type": "code",
   "execution_count": 5,
   "id": "21804080-0554-403f-8ae2-dcad64cc5cab",
   "metadata": {
    "execution": {
     "iopub.execute_input": "2022-01-26T12:56:44.709129Z",
     "iopub.status.busy": "2022-01-26T12:56:44.708593Z",
     "iopub.status.idle": "2022-01-26T12:56:44.830620Z",
     "shell.execute_reply": "2022-01-26T12:56:44.831074Z"
    }
   },
   "outputs": [
    {
     "name": "stderr",
     "output_type": "stream",
     "text": [
      "/home/yura/Projects/deepchecks/deepchecks/deepchecks/utils/distribution/rare_category_encoder.py:101: FutureWarning:\n",
      "\n",
      "The default dtype for empty Series will be 'object' instead of 'float64' in a future version. Specify a dtype explicitly to silence this warning.\n",
      "\n",
      "/home/yura/Projects/deepchecks/deepchecks/deepchecks/core/display_pandas.py:107: FutureWarning:\n",
      "\n",
      "this method is deprecated in favour of `Styler.hide(axis='index')`\n",
      "\n",
      "/home/yura/Projects/deepchecks/deepchecks/deepchecks/core/display_pandas.py:54: FutureWarning:\n",
      "\n",
      "this method is deprecated in favour of `Styler.to_html()`\n",
      "\n"
     ]
    },
    {
     "data": {
      "text/html": [
       "<h4>Trust Score Comparison: Train vs. Test</h4><p>Compares the model's trust score for the train dataset with scores of the test dataset.<a href=\"https://docs.deepchecks.com/en/0.4.1/examples/checks/distribution/trust_score_comparison.html?utm_source=display_output&utm_medium=referral&utm_campaign=check_link\" target=\"_blank\">Read More...</a></p><h5>Conditions Summary</h5><style type=\"text/css\">\n",
       "#T_abc7e table {\n",
       "  text-align: left;\n",
       "  white-space: pre-wrap;\n",
       "}\n",
       "#T_abc7e thead {\n",
       "  text-align: left;\n",
       "  white-space: pre-wrap;\n",
       "}\n",
       "#T_abc7e tbody {\n",
       "  text-align: left;\n",
       "  white-space: pre-wrap;\n",
       "}\n",
       "#T_abc7e th {\n",
       "  text-align: left;\n",
       "  white-space: pre-wrap;\n",
       "}\n",
       "#T_abc7e td {\n",
       "  text-align: left;\n",
       "  white-space: pre-wrap;\n",
       "}\n",
       "</style>\n",
       "<table id=\"T_abc7e\">\n",
       "  <thead>\n",
       "    <tr>\n",
       "      <th id=\"T_abc7e_level0_col0\" class=\"col_heading level0 col0\" >Status</th>\n",
       "      <th id=\"T_abc7e_level0_col1\" class=\"col_heading level0 col1\" >Condition</th>\n",
       "      <th id=\"T_abc7e_level0_col2\" class=\"col_heading level0 col2\" >More Info</th>\n",
       "    </tr>\n",
       "  </thead>\n",
       "  <tbody>\n",
       "    <tr>\n",
       "      <td id=\"T_abc7e_row0_col0\" class=\"data row0 col0\" ><div style=\"color: orange;text-align: center;font-weight:bold\">!</div></td>\n",
       "      <td id=\"T_abc7e_row0_col1\" class=\"data row0 col1\" >Mean trust score decline is not greater than 19%</td>\n",
       "      <td id=\"T_abc7e_row0_col2\" class=\"data row0 col2\" >Found decline of: -21.09%</td>\n",
       "    </tr>\n",
       "  </tbody>\n",
       "</table>\n",
       "<h5>Additional Outputs</h5><div><span> Trust score roughly measures the following quantity:<br><br> <p> $$Trust Score = \\frac{\n",
       "        \\textrm{Distance from the sample to the nearest training samples belonging to a class different than the\n",
       "        predicted class}}{\\textrm{Distance from the sample to the nearest training samples belonging to the predicted\n",
       "        class}}$$ </p> So that higher values represent samples that are \"close\" to training examples with the same\n",
       "        label as sample prediction, and lower values represent samples that are \"far\" from training samples with\n",
       "        labels matching their prediction. For more information, please refer to the original paper at <a\n",
       "        href=\"https://arxiv.org/abs/1805.11783\"  target=\"_blank\">arxiv 1805.11783</a>, or see the version of the <a\n",
       "        href=\"https://proceedings.neurips.cc/paper/2018/file/7180cffd6a8e829dacfc2a31b3f72ece-Paper.pdf\"\n",
       "        target=\"_blank\">paper presented at NeurIPS in 2018</a>.</span></div>"
      ]
     },
     "metadata": {},
     "output_type": "display_data"
    },
    {
     "data": {
      "application/vnd.plotly.v1+json": {
       "config": {
        "plotlyServerURL": "https://plot.ly"
       },
       "data": [
        {
         "fill": "tozeroy",
         "line": {
          "color": "darkblue"
         },
         "name": "Train Dataset",
         "type": "scatter",
         "x": [
          0.6496195946493419,
          0.7195526780993251,
          0.7894857615493083,
          0.8594188449992913,
          0.8861744099389337,
          0.9293519284492745,
          0.9478476122609116,
          0.9969325091942921,
          0.9992850118992577,
          1.0170230763019452,
          1.0300138722356775,
          1.0574648403917142,
          1.0692180953492407,
          1.0697939361248197,
          1.0905070031942992,
          1.121896482023448,
          1.1260309614066786,
          1.139151178799224,
          1.1482461251732068,
          1.1609783333904387,
          1.1834526432275603,
          1.1971105357844012,
          1.209084262249207,
          1.211294188008716,
          1.247480787903041,
          1.270825554223255,
          1.278128934399935,
          1.2790173456991902,
          1.2943804797069147,
          1.3151801916500812,
          1.3257386449771904,
          1.3364542566497972,
          1.3489504291491734,
          1.3520001071880035,
          1.3659739686408303,
          1.3786207986708978,
          1.3958323222449018,
          1.4134203214622023,
          1.4145843629375934,
          1.4188835125991566,
          1.4414667955005371,
          1.444226061273884,
          1.4751596514502152,
          1.4810150448389026,
          1.4888165960491397,
          1.4896471759992735,
          1.5058627427501747,
          1.5205415946614198,
          1.5321507499193305,
          1.543838501436407,
          1.5508608440164773,
          1.558749679499123,
          1.5684965241017577,
          1.6016023961351062,
          1.606489021559371,
          1.6253037251368123,
          1.6286827629491059,
          1.6329893896086451,
          1.6433174823669379,
          1.6446988017354585,
          1.6603995971466534,
          1.6661399137110253,
          1.6792758000193937,
          1.6904020510907136,
          1.698615846399089,
          1.7020279256241608,
          1.7151874921766677,
          1.730270098106947,
          1.731762445411862,
          1.7500468979053936,
          1.7533116160149702,
          1.7614705628588807,
          1.7667065432185611,
          1.7685489298490722,
          1.7813064579104734,
          1.7836711210635914,
          1.7979878109312388,
          1.7989344647529735,
          1.812652122267489,
          1.8205440701804336,
          1.8384820132990554,
          1.8457561045496111,
          1.8661669940939611,
          1.8720931064174142,
          1.9084150967490385,
          1.910017663283412,
          1.9366772630750084,
          1.9575628017944275,
          1.9627683121891824,
          1.9783481801990217,
          1.9805031010931016,
          1.9931722013388118,
          2.0165174941168797,
          2.021161315201185,
          2.038356180576396,
          2.048281263649005,
          2.0653692891073945,
          2.093576456551076,
          2.118214347098988,
          2.1227878218189185,
          2.1433305797971918,
          2.171211602216862,
          2.188147430548971,
          2.1928906998897575,
          2.2434861544437315,
          2.258080513998954,
          2.2834086755011556,
          2.3078024491389275,
          2.3280135974489373,
          2.350841427749042,
          2.3979466808989205,
          2.3991077013695636,
          2.4455041476121284,
          2.4678797643489037,
          2.4951854105023377,
          2.5364711290435245,
          2.537812847798887,
          2.573184193593124,
          2.6077459312488696,
          2.642386670200962,
          2.677679014698853,
          2.7011185826615187,
          2.747612098148836,
          2.7478112882423997,
          2.8060324731438193,
          2.8175451815988195,
          2.8874782650488022,
          2.896245869335879,
          2.957411348498786,
          3.0273444319487686,
          3.088577237316496,
          3.097277515398752,
          3.167210598848735,
          3.2371436822987185,
          3.2656477520495684,
          3.3070767657487012,
          3.377009849198685,
          3.3903328120054477,
          3.4469429326486676,
          3.5168760160986503,
          3.586809099548634,
          3.6567421829986166,
          3.7266752664486003,
          3.796608349898583,
          3.8665414333485666,
          3.9364745167985493,
          4.006407600248533,
          4.076340683698516
         ],
         "y": [
          0.01635219064691469,
          0.02713976340434196,
          0.04485301410186065,
          0.0712176056421939,
          0.08357047577539904,
          0.10580410037720628,
          0.11608628516057772,
          0.14522537233231003,
          0.14668398157488619,
          0.15785756679661092,
          0.16623860752561725,
          0.1845237032024362,
          0.19260814801264967,
          0.19300843725708228,
          0.20768415418944808,
          0.23106292214614482,
          0.23425569710627347,
          0.2445774731627356,
          0.25190904909594997,
          0.26242747668478517,
          0.2817573328097293,
          0.29400136759085177,
          0.30505396999230555,
          0.30712676411950596,
          0.34253435240594404,
          0.36682930861512947,
          0.3746579473434372,
          0.37561753042867857,
          0.3924570622962558,
          0.415974872006159,
          0.4282174653151219,
          0.4408439074239916,
          0.4558165964275681,
          0.45951013933654644,
          0.4766259111557418,
          0.49237787617267076,
          0.5141905035698622,
          0.5368900970793482,
          0.5384058816580428,
          0.5440176404138362,
          0.5738099688433045,
          0.5774813358820386,
          0.6189320890388404,
          0.6268069697037226,
          0.637292845390134,
          0.6384082634203716,
          0.6601112936910124,
          0.679551167260042,
          0.6947014621857059,
          0.7096786997154202,
          0.7185131619407806,
          0.7282647509715344,
          0.740023885461805,
          0.7769339865082509,
          0.7819048265956988,
          0.7996687561455872,
          0.8026101795116544,
          0.8062418359905038,
          0.8143942299057703,
          0.8154229670489309,
          0.8260420110897209,
          0.8294130386041854,
          0.8360469879159952,
          0.8404513045726955,
          0.842968131094701,
          0.843827594362205,
          0.8461092691216672,
          0.8466960780844442,
          0.8466364891332702,
          0.8442060373140089,
          0.8434455215055408,
          0.8411218905693933,
          0.8393175411735695,
          0.838625380441772,
          0.8330351485879186,
          0.8318495561734195,
          0.8237207370865913,
          0.8231275807447865,
          0.8138032245182205,
          0.8078530082627333,
          0.7928999537193755,
          0.7863274071228634,
          0.7665643393964122,
          0.7605122836636006,
          0.7212403154630657,
          0.71944543220812,
          0.6892217431344027,
          0.6654178872869483,
          0.6595142701201335,
          0.641988660426355,
          0.6395857943718467,
          0.6255875760052096,
          0.60048195181171,
          0.5956100313790389,
          0.5779608763646419,
          0.5680669445872084,
          0.5515581698839764,
          0.5257967518011749,
          0.5048108078636557,
          0.501067790196451,
          0.4848280726958998,
          0.464231973599886,
          0.4524943232953097,
          0.4493077321457123,
          0.417925230625013,
          0.40972091066957234,
          0.3963394100442165,
          0.384444988578153,
          0.37529801990286815,
          0.3656993941356915,
          0.3481158264451543,
          0.34771648251155274,
          0.332870123285543,
          0.326365543528625,
          0.318873003656121,
          0.308275423759285,
          0.30794340382605084,
          0.2994222860934396,
          0.2914293692972248,
          0.283528998218034,
          0.2752133918002227,
          0.26927975726819525,
          0.2557488870391576,
          0.2556844751197052,
          0.2340245454261928,
          0.22906327971147392,
          0.19536110085146768,
          0.19091080493466248,
          0.16113055820262898,
          0.1354272770353616,
          0.12414049707461372,
          0.12337234972641413,
          0.12248056899082843,
          0.1245315664682173,
          0.12412576466021284,
          0.12097758102689865,
          0.10772364488253364,
          0.1041572071744764,
          0.08646842082808177,
          0.0625407481219113,
          0.041362940182986384,
          0.02605950114490058,
          0.017091475864998405,
          0.013084495912473309,
          0.011921956132180792,
          0.011695874280998338,
          0.01118254960515599,
          0.00981416040006957
         ]
        },
        {
         "fill": "tozeroy",
         "line": {
          "color": "#69b3a2"
         },
         "name": "Test Dataset",
         "type": "scatter",
         "x": [
          0.6496195946493419,
          0.7195526780993251,
          0.7894857615493083,
          0.8594188449992913,
          0.8861744099389337,
          0.9293519284492745,
          0.9478476122609116,
          0.9969325091942921,
          0.9992850118992577,
          1.0170230763019452,
          1.0300138722356775,
          1.0574648403917142,
          1.0692180953492407,
          1.0697939361248197,
          1.0905070031942992,
          1.121896482023448,
          1.1260309614066786,
          1.139151178799224,
          1.1482461251732068,
          1.1609783333904387,
          1.1834526432275603,
          1.1971105357844012,
          1.209084262249207,
          1.211294188008716,
          1.247480787903041,
          1.270825554223255,
          1.278128934399935,
          1.2790173456991902,
          1.2943804797069147,
          1.3151801916500812,
          1.3257386449771904,
          1.3364542566497972,
          1.3489504291491734,
          1.3520001071880035,
          1.3659739686408303,
          1.3786207986708978,
          1.3958323222449018,
          1.4134203214622023,
          1.4145843629375934,
          1.4188835125991566,
          1.4414667955005371,
          1.444226061273884,
          1.4751596514502152,
          1.4810150448389026,
          1.4888165960491397,
          1.4896471759992735,
          1.5058627427501747,
          1.5205415946614198,
          1.5321507499193305,
          1.543838501436407,
          1.5508608440164773,
          1.558749679499123,
          1.5684965241017577,
          1.6016023961351062,
          1.606489021559371,
          1.6253037251368123,
          1.6286827629491059,
          1.6329893896086451,
          1.6433174823669379,
          1.6446988017354585,
          1.6603995971466534,
          1.6661399137110253,
          1.6792758000193937,
          1.6904020510907136,
          1.698615846399089,
          1.7020279256241608,
          1.7151874921766677,
          1.730270098106947,
          1.731762445411862,
          1.7500468979053936,
          1.7533116160149702,
          1.7614705628588807,
          1.7667065432185611,
          1.7685489298490722,
          1.7813064579104734,
          1.7836711210635914,
          1.7979878109312388,
          1.7989344647529735,
          1.812652122267489,
          1.8205440701804336,
          1.8384820132990554,
          1.8457561045496111,
          1.8661669940939611,
          1.8720931064174142,
          1.9084150967490385,
          1.910017663283412,
          1.9366772630750084,
          1.9575628017944275,
          1.9627683121891824,
          1.9783481801990217,
          1.9805031010931016,
          1.9931722013388118,
          2.0165174941168797,
          2.021161315201185,
          2.038356180576396,
          2.048281263649005,
          2.0653692891073945,
          2.093576456551076,
          2.118214347098988,
          2.1227878218189185,
          2.1433305797971918,
          2.171211602216862,
          2.188147430548971,
          2.1928906998897575,
          2.2434861544437315,
          2.258080513998954,
          2.2834086755011556,
          2.3078024491389275,
          2.3280135974489373,
          2.350841427749042,
          2.3979466808989205,
          2.3991077013695636,
          2.4455041476121284,
          2.4678797643489037,
          2.4951854105023377,
          2.5364711290435245,
          2.537812847798887,
          2.573184193593124,
          2.6077459312488696,
          2.642386670200962,
          2.677679014698853,
          2.7011185826615187,
          2.747612098148836,
          2.7478112882423997,
          2.8060324731438193,
          2.8175451815988195,
          2.8874782650488022,
          2.896245869335879,
          2.957411348498786,
          3.0273444319487686,
          3.088577237316496,
          3.097277515398752,
          3.167210598848735,
          3.2371436822987185,
          3.2656477520495684,
          3.3070767657487012,
          3.377009849198685,
          3.3903328120054477,
          3.4469429326486676,
          3.5168760160986503,
          3.586809099548634,
          3.6567421829986166,
          3.7266752664486003,
          3.796608349898583,
          3.8665414333485666,
          3.9364745167985493,
          4.006407600248533,
          4.076340683698516
         ],
         "y": [
          0.04514026994680582,
          0.0833467528628718,
          0.1425088792921765,
          0.23952352987960823,
          0.2896234316757148,
          0.3842631946860385,
          0.4285227905903388,
          0.5482571251434298,
          0.553849623652124,
          0.5949254606400196,
          0.6234660759047416,
          0.6781777389320306,
          0.6989258953037699,
          0.6998983977859025,
          0.732086201776065,
          0.7706901867784104,
          0.7749197666854468,
          0.7871578014719384,
          0.7946657611890405,
          0.8039947665662815,
          0.8176989109978995,
          0.8247015623150555,
          0.8302318152217224,
          0.8312010180941453,
          0.8453810472868866,
          0.8531661487495082,
          0.8553789663863043,
          0.8556400783286001,
          0.8598482801148565,
          0.8644521572758425,
          0.8662099079774916,
          0.8675378744472129,
          0.8684590047951272,
          0.8685765994017471,
          0.868561644429219,
          0.8677592426604179,
          0.8654986407551561,
          0.8619242982797267,
          0.8616478111183465,
          0.860588209409536,
          0.8542005771441543,
          0.8533487502219842,
          0.8434974959747893,
          0.8416922178042548,
          0.839386529405961,
          0.8391493019018643,
          0.8349351141306922,
          0.8320001281800844,
          0.8304266664435529,
          0.829604895838779,
          0.8295033410369064,
          0.8297495368122583,
          0.8305779315377745,
          0.8372302811069557,
          0.8385978913610004,
          0.8442635562559612,
          0.8452932593794613,
          0.8465847446346139,
          0.8494977028770371,
          0.8498588325422916,
          0.8532346036905081,
          0.85403441868486,
          0.8546881930768904,
          0.8536916764902458,
          0.8518870954735043,
          0.8508464459271229,
          0.8451142728828035,
          0.8349753061320938,
          0.8337575151546431,
          0.8156882954584329,
          0.8118600777248666,
          0.801530583990916,
          0.7943507029352549,
          0.7917263924377367,
          0.7722576346221539,
          0.7684188600020826,
          0.7438881449304428,
          0.7421980013889798,
          0.7169998808917617,
          0.7020707741055502,
          0.6677646268028126,
          0.6539620200566431,
          0.6165439163796466,
          0.606207454906287,
          0.5499665132177455,
          0.5477892621175234,
          0.5151451027904708,
          0.49347938103403366,
          0.4884575521756916,
          0.4739850933394609,
          0.4720265366233449,
          0.4605824900837702,
          0.43911516113827187,
          0.43469035808243967,
          0.41764867469048766,
          0.40728442693400285,
          0.3885058320021718,
          0.35527926449132774,
          0.3249042504038186,
          0.31922480929302155,
          0.29389763493477833,
          0.2608607724030813,
          0.24203917513977397,
          0.23697556054229152,
          0.18954397799441883,
          0.1782587093555134,
          0.1612771803236315,
          0.147961542166547,
          0.13905085828814506,
          0.13107598306414778,
          0.12024715282120169,
          0.12005457863297152,
          0.11410412554313655,
          0.1118812726496503,
          0.10913132395891018,
          0.10394798064345513,
          0.10374662209611002,
          0.09745956447428726,
          0.08929210303471329,
          0.0791760587462375,
          0.06755921102465243,
          0.0596917476118294,
          0.04551398289534751,
          0.04546032946983624,
          0.0332282899485427,
          0.031618969263605565,
          0.025763622950396685,
          0.025313782460590514,
          0.022928496500846152,
          0.022748522530944768,
          0.026003233317669645,
          0.026639009386970617,
          0.031184006598331017,
          0.03109440642463404,
          0.02915934962999751,
          0.02464806892288357,
          0.014804801002630558,
          0.0129690130137997,
          0.006447152990943613,
          0.0019706333827127147,
          0.0004147182649170017,
          0.00005948664930548232,
          0.000005786862434243245,
          3.808839491807455e-7,
          1.6942722888884814e-8,
          5.090828442715369e-10,
          1.0330067256827041e-11,
          1.4153972977271103e-13
         ]
        }
       ],
       "layout": {
        "height": 400,
        "legend": {
         "title": {
          "text": "Dataset"
         }
        },
        "template": {
         "data": {
          "bar": [
           {
            "error_x": {
             "color": "#2a3f5f"
            },
            "error_y": {
             "color": "#2a3f5f"
            },
            "marker": {
             "line": {
              "color": "#E5ECF6",
              "width": 0.5
             },
             "pattern": {
              "fillmode": "overlay",
              "size": 10,
              "solidity": 0.2
             }
            },
            "type": "bar"
           }
          ],
          "barpolar": [
           {
            "marker": {
             "line": {
              "color": "#E5ECF6",
              "width": 0.5
             },
             "pattern": {
              "fillmode": "overlay",
              "size": 10,
              "solidity": 0.2
             }
            },
            "type": "barpolar"
           }
          ],
          "carpet": [
           {
            "aaxis": {
             "endlinecolor": "#2a3f5f",
             "gridcolor": "white",
             "linecolor": "white",
             "minorgridcolor": "white",
             "startlinecolor": "#2a3f5f"
            },
            "baxis": {
             "endlinecolor": "#2a3f5f",
             "gridcolor": "white",
             "linecolor": "white",
             "minorgridcolor": "white",
             "startlinecolor": "#2a3f5f"
            },
            "type": "carpet"
           }
          ],
          "choropleth": [
           {
            "colorbar": {
             "outlinewidth": 0,
             "ticks": ""
            },
            "type": "choropleth"
           }
          ],
          "contour": [
           {
            "colorbar": {
             "outlinewidth": 0,
             "ticks": ""
            },
            "colorscale": [
             [
              0,
              "#0d0887"
             ],
             [
              0.1111111111111111,
              "#46039f"
             ],
             [
              0.2222222222222222,
              "#7201a8"
             ],
             [
              0.3333333333333333,
              "#9c179e"
             ],
             [
              0.4444444444444444,
              "#bd3786"
             ],
             [
              0.5555555555555556,
              "#d8576b"
             ],
             [
              0.6666666666666666,
              "#ed7953"
             ],
             [
              0.7777777777777778,
              "#fb9f3a"
             ],
             [
              0.8888888888888888,
              "#fdca26"
             ],
             [
              1,
              "#f0f921"
             ]
            ],
            "type": "contour"
           }
          ],
          "contourcarpet": [
           {
            "colorbar": {
             "outlinewidth": 0,
             "ticks": ""
            },
            "type": "contourcarpet"
           }
          ],
          "heatmap": [
           {
            "colorbar": {
             "outlinewidth": 0,
             "ticks": ""
            },
            "colorscale": [
             [
              0,
              "#0d0887"
             ],
             [
              0.1111111111111111,
              "#46039f"
             ],
             [
              0.2222222222222222,
              "#7201a8"
             ],
             [
              0.3333333333333333,
              "#9c179e"
             ],
             [
              0.4444444444444444,
              "#bd3786"
             ],
             [
              0.5555555555555556,
              "#d8576b"
             ],
             [
              0.6666666666666666,
              "#ed7953"
             ],
             [
              0.7777777777777778,
              "#fb9f3a"
             ],
             [
              0.8888888888888888,
              "#fdca26"
             ],
             [
              1,
              "#f0f921"
             ]
            ],
            "type": "heatmap"
           }
          ],
          "heatmapgl": [
           {
            "colorbar": {
             "outlinewidth": 0,
             "ticks": ""
            },
            "colorscale": [
             [
              0,
              "#0d0887"
             ],
             [
              0.1111111111111111,
              "#46039f"
             ],
             [
              0.2222222222222222,
              "#7201a8"
             ],
             [
              0.3333333333333333,
              "#9c179e"
             ],
             [
              0.4444444444444444,
              "#bd3786"
             ],
             [
              0.5555555555555556,
              "#d8576b"
             ],
             [
              0.6666666666666666,
              "#ed7953"
             ],
             [
              0.7777777777777778,
              "#fb9f3a"
             ],
             [
              0.8888888888888888,
              "#fdca26"
             ],
             [
              1,
              "#f0f921"
             ]
            ],
            "type": "heatmapgl"
           }
          ],
          "histogram": [
           {
            "marker": {
             "pattern": {
              "fillmode": "overlay",
              "size": 10,
              "solidity": 0.2
             }
            },
            "type": "histogram"
           }
          ],
          "histogram2d": [
           {
            "colorbar": {
             "outlinewidth": 0,
             "ticks": ""
            },
            "colorscale": [
             [
              0,
              "#0d0887"
             ],
             [
              0.1111111111111111,
              "#46039f"
             ],
             [
              0.2222222222222222,
              "#7201a8"
             ],
             [
              0.3333333333333333,
              "#9c179e"
             ],
             [
              0.4444444444444444,
              "#bd3786"
             ],
             [
              0.5555555555555556,
              "#d8576b"
             ],
             [
              0.6666666666666666,
              "#ed7953"
             ],
             [
              0.7777777777777778,
              "#fb9f3a"
             ],
             [
              0.8888888888888888,
              "#fdca26"
             ],
             [
              1,
              "#f0f921"
             ]
            ],
            "type": "histogram2d"
           }
          ],
          "histogram2dcontour": [
           {
            "colorbar": {
             "outlinewidth": 0,
             "ticks": ""
            },
            "colorscale": [
             [
              0,
              "#0d0887"
             ],
             [
              0.1111111111111111,
              "#46039f"
             ],
             [
              0.2222222222222222,
              "#7201a8"
             ],
             [
              0.3333333333333333,
              "#9c179e"
             ],
             [
              0.4444444444444444,
              "#bd3786"
             ],
             [
              0.5555555555555556,
              "#d8576b"
             ],
             [
              0.6666666666666666,
              "#ed7953"
             ],
             [
              0.7777777777777778,
              "#fb9f3a"
             ],
             [
              0.8888888888888888,
              "#fdca26"
             ],
             [
              1,
              "#f0f921"
             ]
            ],
            "type": "histogram2dcontour"
           }
          ],
          "mesh3d": [
           {
            "colorbar": {
             "outlinewidth": 0,
             "ticks": ""
            },
            "type": "mesh3d"
           }
          ],
          "parcoords": [
           {
            "line": {
             "colorbar": {
              "outlinewidth": 0,
              "ticks": ""
             }
            },
            "type": "parcoords"
           }
          ],
          "pie": [
           {
            "automargin": true,
            "type": "pie"
           }
          ],
          "scatter": [
           {
            "marker": {
             "colorbar": {
              "outlinewidth": 0,
              "ticks": ""
             }
            },
            "type": "scatter"
           }
          ],
          "scatter3d": [
           {
            "line": {
             "colorbar": {
              "outlinewidth": 0,
              "ticks": ""
             }
            },
            "marker": {
             "colorbar": {
              "outlinewidth": 0,
              "ticks": ""
             }
            },
            "type": "scatter3d"
           }
          ],
          "scattercarpet": [
           {
            "marker": {
             "colorbar": {
              "outlinewidth": 0,
              "ticks": ""
             }
            },
            "type": "scattercarpet"
           }
          ],
          "scattergeo": [
           {
            "marker": {
             "colorbar": {
              "outlinewidth": 0,
              "ticks": ""
             }
            },
            "type": "scattergeo"
           }
          ],
          "scattergl": [
           {
            "marker": {
             "colorbar": {
              "outlinewidth": 0,
              "ticks": ""
             }
            },
            "type": "scattergl"
           }
          ],
          "scattermapbox": [
           {
            "marker": {
             "colorbar": {
              "outlinewidth": 0,
              "ticks": ""
             }
            },
            "type": "scattermapbox"
           }
          ],
          "scatterpolar": [
           {
            "marker": {
             "colorbar": {
              "outlinewidth": 0,
              "ticks": ""
             }
            },
            "type": "scatterpolar"
           }
          ],
          "scatterpolargl": [
           {
            "marker": {
             "colorbar": {
              "outlinewidth": 0,
              "ticks": ""
             }
            },
            "type": "scatterpolargl"
           }
          ],
          "scatterternary": [
           {
            "marker": {
             "colorbar": {
              "outlinewidth": 0,
              "ticks": ""
             }
            },
            "type": "scatterternary"
           }
          ],
          "surface": [
           {
            "colorbar": {
             "outlinewidth": 0,
             "ticks": ""
            },
            "colorscale": [
             [
              0,
              "#0d0887"
             ],
             [
              0.1111111111111111,
              "#46039f"
             ],
             [
              0.2222222222222222,
              "#7201a8"
             ],
             [
              0.3333333333333333,
              "#9c179e"
             ],
             [
              0.4444444444444444,
              "#bd3786"
             ],
             [
              0.5555555555555556,
              "#d8576b"
             ],
             [
              0.6666666666666666,
              "#ed7953"
             ],
             [
              0.7777777777777778,
              "#fb9f3a"
             ],
             [
              0.8888888888888888,
              "#fdca26"
             ],
             [
              1,
              "#f0f921"
             ]
            ],
            "type": "surface"
           }
          ],
          "table": [
           {
            "cells": {
             "fill": {
              "color": "#EBF0F8"
             },
             "line": {
              "color": "white"
             }
            },
            "header": {
             "fill": {
              "color": "#C8D4E3"
             },
             "line": {
              "color": "white"
             }
            },
            "type": "table"
           }
          ]
         },
         "layout": {
          "annotationdefaults": {
           "arrowcolor": "#2a3f5f",
           "arrowhead": 0,
           "arrowwidth": 1
          },
          "autotypenumbers": "strict",
          "coloraxis": {
           "colorbar": {
            "outlinewidth": 0,
            "ticks": ""
           }
          },
          "colorscale": {
           "diverging": [
            [
             0,
             "#8e0152"
            ],
            [
             0.1,
             "#c51b7d"
            ],
            [
             0.2,
             "#de77ae"
            ],
            [
             0.3,
             "#f1b6da"
            ],
            [
             0.4,
             "#fde0ef"
            ],
            [
             0.5,
             "#f7f7f7"
            ],
            [
             0.6,
             "#e6f5d0"
            ],
            [
             0.7,
             "#b8e186"
            ],
            [
             0.8,
             "#7fbc41"
            ],
            [
             0.9,
             "#4d9221"
            ],
            [
             1,
             "#276419"
            ]
           ],
           "sequential": [
            [
             0,
             "#0d0887"
            ],
            [
             0.1111111111111111,
             "#46039f"
            ],
            [
             0.2222222222222222,
             "#7201a8"
            ],
            [
             0.3333333333333333,
             "#9c179e"
            ],
            [
             0.4444444444444444,
             "#bd3786"
            ],
            [
             0.5555555555555556,
             "#d8576b"
            ],
            [
             0.6666666666666666,
             "#ed7953"
            ],
            [
             0.7777777777777778,
             "#fb9f3a"
            ],
            [
             0.8888888888888888,
             "#fdca26"
            ],
            [
             1,
             "#f0f921"
            ]
           ],
           "sequentialminus": [
            [
             0,
             "#0d0887"
            ],
            [
             0.1111111111111111,
             "#46039f"
            ],
            [
             0.2222222222222222,
             "#7201a8"
            ],
            [
             0.3333333333333333,
             "#9c179e"
            ],
            [
             0.4444444444444444,
             "#bd3786"
            ],
            [
             0.5555555555555556,
             "#d8576b"
            ],
            [
             0.6666666666666666,
             "#ed7953"
            ],
            [
             0.7777777777777778,
             "#fb9f3a"
            ],
            [
             0.8888888888888888,
             "#fdca26"
            ],
            [
             1,
             "#f0f921"
            ]
           ]
          },
          "colorway": [
           "#636efa",
           "#EF553B",
           "#00cc96",
           "#ab63fa",
           "#FFA15A",
           "#19d3f3",
           "#FF6692",
           "#B6E880",
           "#FF97FF",
           "#FECB52"
          ],
          "font": {
           "color": "#2a3f5f"
          },
          "geo": {
           "bgcolor": "white",
           "lakecolor": "white",
           "landcolor": "#E5ECF6",
           "showlakes": true,
           "showland": true,
           "subunitcolor": "white"
          },
          "hoverlabel": {
           "align": "left"
          },
          "hovermode": "closest",
          "mapbox": {
           "style": "light"
          },
          "paper_bgcolor": "white",
          "plot_bgcolor": "#E5ECF6",
          "polar": {
           "angularaxis": {
            "gridcolor": "white",
            "linecolor": "white",
            "ticks": ""
           },
           "bgcolor": "#E5ECF6",
           "radialaxis": {
            "gridcolor": "white",
            "linecolor": "white",
            "ticks": ""
           }
          },
          "scene": {
           "xaxis": {
            "backgroundcolor": "#E5ECF6",
            "gridcolor": "white",
            "gridwidth": 2,
            "linecolor": "white",
            "showbackground": true,
            "ticks": "",
            "zerolinecolor": "white"
           },
           "yaxis": {
            "backgroundcolor": "#E5ECF6",
            "gridcolor": "white",
            "gridwidth": 2,
            "linecolor": "white",
            "showbackground": true,
            "ticks": "",
            "zerolinecolor": "white"
           },
           "zaxis": {
            "backgroundcolor": "#E5ECF6",
            "gridcolor": "white",
            "gridwidth": 2,
            "linecolor": "white",
            "showbackground": true,
            "ticks": "",
            "zerolinecolor": "white"
           }
          },
          "shapedefaults": {
           "line": {
            "color": "#2a3f5f"
           }
          },
          "ternary": {
           "aaxis": {
            "gridcolor": "white",
            "linecolor": "white",
            "ticks": ""
           },
           "baxis": {
            "gridcolor": "white",
            "linecolor": "white",
            "ticks": ""
           },
           "bgcolor": "#E5ECF6",
           "caxis": {
            "gridcolor": "white",
            "linecolor": "white",
            "ticks": ""
           }
          },
          "title": {
           "x": 0.05
          },
          "xaxis": {
           "automargin": true,
           "gridcolor": "white",
           "linecolor": "white",
           "ticks": "",
           "title": {
            "standoff": 15
           },
           "zerolinecolor": "white",
           "zerolinewidth": 2
          },
          "yaxis": {
           "automargin": true,
           "gridcolor": "white",
           "linecolor": "white",
           "ticks": "",
           "title": {
            "standoff": 15
           },
           "zerolinecolor": "white",
           "zerolinewidth": 2
          }
         }
        },
        "title": {
         "text": "Trust Score Distribution"
        },
        "width": 700,
        "xaxis": {
         "fixedrange": false,
         "range": [
          0.9724779544210319,
          3.182002322331327
         ],
         "title": {
          "text": "Trust Score"
         }
        },
        "yaxis": {
         "fixedrange": true,
         "title": {
          "text": "Probability Density"
         }
        }
       }
      }
     },
     "metadata": {},
     "output_type": "display_data"
    },
    {
     "name": "stderr",
     "output_type": "stream",
     "text": [
      "/home/yura/Projects/deepchecks/deepchecks/deepchecks/core/display_pandas.py:54: FutureWarning:\n",
      "\n",
      "this method is deprecated in favour of `Styler.to_html()`\n",
      "\n",
      "/home/yura/Projects/deepchecks/deepchecks/deepchecks/core/display_pandas.py:54: FutureWarning:\n",
      "\n",
      "this method is deprecated in favour of `Styler.to_html()`\n",
      "\n"
     ]
    },
    {
     "data": {
      "text/html": [
       "<div><span style=\"font-size:0.8em\"><i>\n",
       "            The test trust score distribution should be quite similar to the train's. If it is skewed to the left, the\n",
       "            confidence of the model in the test data is lower than the train, indicating a difference that may affect\n",
       "            model performance on similar data. If it is skewed to the right, it indicates an underlying problem with the\n",
       "            creation of the test dataset (test confidence isn't expected to be higher than train's).\n",
       "            </i></span></div><div><h5>Worst Trust Score Samples</h5></div><style type=\"text/css\">\n",
       "#T_58550 table {\n",
       "  text-align: left;\n",
       "  white-space: pre-wrap;\n",
       "}\n",
       "#T_58550 thead {\n",
       "  text-align: left;\n",
       "  white-space: pre-wrap;\n",
       "}\n",
       "#T_58550 tbody {\n",
       "  text-align: left;\n",
       "  white-space: pre-wrap;\n",
       "}\n",
       "#T_58550 th {\n",
       "  text-align: left;\n",
       "  white-space: pre-wrap;\n",
       "}\n",
       "#T_58550 td {\n",
       "  text-align: left;\n",
       "  white-space: pre-wrap;\n",
       "}\n",
       "</style>\n",
       "<table id=\"T_58550\">\n",
       "  <thead>\n",
       "    <tr>\n",
       "      <th class=\"blank level0\" >&nbsp;</th>\n",
       "      <th id=\"T_58550_level0_col0\" class=\"col_heading level0 col0\" >Trust Score</th>\n",
       "      <th id=\"T_58550_level0_col1\" class=\"col_heading level0 col1\" >Model Prediction</th>\n",
       "      <th id=\"T_58550_level0_col2\" class=\"col_heading level0 col2\" >target</th>\n",
       "      <th id=\"T_58550_level0_col3\" class=\"col_heading level0 col3\" >mean radius</th>\n",
       "      <th id=\"T_58550_level0_col4\" class=\"col_heading level0 col4\" >mean texture</th>\n",
       "      <th id=\"T_58550_level0_col5\" class=\"col_heading level0 col5\" >mean perimeter</th>\n",
       "      <th id=\"T_58550_level0_col6\" class=\"col_heading level0 col6\" >mean area</th>\n",
       "      <th id=\"T_58550_level0_col7\" class=\"col_heading level0 col7\" >mean smoothness</th>\n",
       "      <th id=\"T_58550_level0_col8\" class=\"col_heading level0 col8\" >mean compactness</th>\n",
       "      <th id=\"T_58550_level0_col9\" class=\"col_heading level0 col9\" >mean concavity</th>\n",
       "      <th id=\"T_58550_level0_col10\" class=\"col_heading level0 col10\" >mean concave points</th>\n",
       "      <th id=\"T_58550_level0_col11\" class=\"col_heading level0 col11\" >mean symmetry</th>\n",
       "      <th id=\"T_58550_level0_col12\" class=\"col_heading level0 col12\" >mean fractal dimension</th>\n",
       "      <th id=\"T_58550_level0_col13\" class=\"col_heading level0 col13\" >radius error</th>\n",
       "      <th id=\"T_58550_level0_col14\" class=\"col_heading level0 col14\" >texture error</th>\n",
       "      <th id=\"T_58550_level0_col15\" class=\"col_heading level0 col15\" >perimeter error</th>\n",
       "      <th id=\"T_58550_level0_col16\" class=\"col_heading level0 col16\" >area error</th>\n",
       "      <th id=\"T_58550_level0_col17\" class=\"col_heading level0 col17\" >smoothness error</th>\n",
       "      <th id=\"T_58550_level0_col18\" class=\"col_heading level0 col18\" >compactness error</th>\n",
       "      <th id=\"T_58550_level0_col19\" class=\"col_heading level0 col19\" >concavity error</th>\n",
       "      <th id=\"T_58550_level0_col20\" class=\"col_heading level0 col20\" >concave points error</th>\n",
       "      <th id=\"T_58550_level0_col21\" class=\"col_heading level0 col21\" >symmetry error</th>\n",
       "      <th id=\"T_58550_level0_col22\" class=\"col_heading level0 col22\" >fractal dimension error</th>\n",
       "      <th id=\"T_58550_level0_col23\" class=\"col_heading level0 col23\" >worst radius</th>\n",
       "      <th id=\"T_58550_level0_col24\" class=\"col_heading level0 col24\" >worst texture</th>\n",
       "      <th id=\"T_58550_level0_col25\" class=\"col_heading level0 col25\" >worst perimeter</th>\n",
       "      <th id=\"T_58550_level0_col26\" class=\"col_heading level0 col26\" >worst area</th>\n",
       "      <th id=\"T_58550_level0_col27\" class=\"col_heading level0 col27\" >worst smoothness</th>\n",
       "      <th id=\"T_58550_level0_col28\" class=\"col_heading level0 col28\" >worst compactness</th>\n",
       "      <th id=\"T_58550_level0_col29\" class=\"col_heading level0 col29\" >worst concavity</th>\n",
       "      <th id=\"T_58550_level0_col30\" class=\"col_heading level0 col30\" >worst concave points</th>\n",
       "      <th id=\"T_58550_level0_col31\" class=\"col_heading level0 col31\" >worst symmetry</th>\n",
       "      <th id=\"T_58550_level0_col32\" class=\"col_heading level0 col32\" >worst fractal dimension</th>\n",
       "    </tr>\n",
       "  </thead>\n",
       "  <tbody>\n",
       "    <tr>\n",
       "      <th id=\"T_58550_level0_row0\" class=\"row_heading level0 row0\" >183</th>\n",
       "      <td id=\"T_58550_row0_col0\" class=\"data row0 col0\" >0.90</td>\n",
       "      <td id=\"T_58550_row0_col1\" class=\"data row0 col1\" >0</td>\n",
       "      <td id=\"T_58550_row0_col2\" class=\"data row0 col2\" >0</td>\n",
       "      <td id=\"T_58550_row0_col3\" class=\"data row0 col3\" >13.61</td>\n",
       "      <td id=\"T_58550_row0_col4\" class=\"data row0 col4\" >24.98</td>\n",
       "      <td id=\"T_58550_row0_col5\" class=\"data row0 col5\" >88.05</td>\n",
       "      <td id=\"T_58550_row0_col6\" class=\"data row0 col6\" >582.70</td>\n",
       "      <td id=\"T_58550_row0_col7\" class=\"data row0 col7\" >0.09</td>\n",
       "      <td id=\"T_58550_row0_col8\" class=\"data row0 col8\" >0.09</td>\n",
       "      <td id=\"T_58550_row0_col9\" class=\"data row0 col9\" >0.09</td>\n",
       "      <td id=\"T_58550_row0_col10\" class=\"data row0 col10\" >0.04</td>\n",
       "      <td id=\"T_58550_row0_col11\" class=\"data row0 col11\" >0.16</td>\n",
       "      <td id=\"T_58550_row0_col12\" class=\"data row0 col12\" >0.06</td>\n",
       "      <td id=\"T_58550_row0_col13\" class=\"data row0 col13\" >0.46</td>\n",
       "      <td id=\"T_58550_row0_col14\" class=\"data row0 col14\" >1.29</td>\n",
       "      <td id=\"T_58550_row0_col15\" class=\"data row0 col15\" >2.86</td>\n",
       "      <td id=\"T_58550_row0_col16\" class=\"data row0 col16\" >43.14</td>\n",
       "      <td id=\"T_58550_row0_col17\" class=\"data row0 col17\" >0.01</td>\n",
       "      <td id=\"T_58550_row0_col18\" class=\"data row0 col18\" >0.01</td>\n",
       "      <td id=\"T_58550_row0_col19\" class=\"data row0 col19\" >0.03</td>\n",
       "      <td id=\"T_58550_row0_col20\" class=\"data row0 col20\" >0.01</td>\n",
       "      <td id=\"T_58550_row0_col21\" class=\"data row0 col21\" >0.01</td>\n",
       "      <td id=\"T_58550_row0_col22\" class=\"data row0 col22\" >0.00</td>\n",
       "      <td id=\"T_58550_row0_col23\" class=\"data row0 col23\" >16.99</td>\n",
       "      <td id=\"T_58550_row0_col24\" class=\"data row0 col24\" >0.00</td>\n",
       "      <td id=\"T_58550_row0_col25\" class=\"data row0 col25\" >108.60</td>\n",
       "      <td id=\"T_58550_row0_col26\" class=\"data row0 col26\" >906.50</td>\n",
       "      <td id=\"T_58550_row0_col27\" class=\"data row0 col27\" >0.13</td>\n",
       "      <td id=\"T_58550_row0_col28\" class=\"data row0 col28\" >0.19</td>\n",
       "      <td id=\"T_58550_row0_col29\" class=\"data row0 col29\" >0.32</td>\n",
       "      <td id=\"T_58550_row0_col30\" class=\"data row0 col30\" >0.12</td>\n",
       "      <td id=\"T_58550_row0_col31\" class=\"data row0 col31\" >0.27</td>\n",
       "      <td id=\"T_58550_row0_col32\" class=\"data row0 col32\" >0.07</td>\n",
       "    </tr>\n",
       "    <tr>\n",
       "      <th id=\"T_58550_level0_row1\" class=\"row_heading level0 row1\" >151</th>\n",
       "      <td id=\"T_58550_row1_col0\" class=\"data row1 col0\" >0.83</td>\n",
       "      <td id=\"T_58550_row1_col1\" class=\"data row1 col1\" >0</td>\n",
       "      <td id=\"T_58550_row1_col2\" class=\"data row1 col2\" >1</td>\n",
       "      <td id=\"T_58550_row1_col3\" class=\"data row1 col3\" >14.26</td>\n",
       "      <td id=\"T_58550_row1_col4\" class=\"data row1 col4\" >19.65</td>\n",
       "      <td id=\"T_58550_row1_col5\" class=\"data row1 col5\" >97.83</td>\n",
       "      <td id=\"T_58550_row1_col6\" class=\"data row1 col6\" >629.90</td>\n",
       "      <td id=\"T_58550_row1_col7\" class=\"data row1 col7\" >0.08</td>\n",
       "      <td id=\"T_58550_row1_col8\" class=\"data row1 col8\" >0.22</td>\n",
       "      <td id=\"T_58550_row1_col9\" class=\"data row1 col9\" >0.30</td>\n",
       "      <td id=\"T_58550_row1_col10\" class=\"data row1 col10\" >0.08</td>\n",
       "      <td id=\"T_58550_row1_col11\" class=\"data row1 col11\" >0.17</td>\n",
       "      <td id=\"T_58550_row1_col12\" class=\"data row1 col12\" >0.08</td>\n",
       "      <td id=\"T_58550_row1_col13\" class=\"data row1 col13\" >0.36</td>\n",
       "      <td id=\"T_58550_row1_col14\" class=\"data row1 col14\" >1.49</td>\n",
       "      <td id=\"T_58550_row1_col15\" class=\"data row1 col15\" >3.40</td>\n",
       "      <td id=\"T_58550_row1_col16\" class=\"data row1 col16\" >29.25</td>\n",
       "      <td id=\"T_58550_row1_col17\" class=\"data row1 col17\" >0.01</td>\n",
       "      <td id=\"T_58550_row1_col18\" class=\"data row1 col18\" >0.07</td>\n",
       "      <td id=\"T_58550_row1_col19\" class=\"data row1 col19\" >0.14</td>\n",
       "      <td id=\"T_58550_row1_col20\" class=\"data row1 col20\" >0.02</td>\n",
       "      <td id=\"T_58550_row1_col21\" class=\"data row1 col21\" >0.03</td>\n",
       "      <td id=\"T_58550_row1_col22\" class=\"data row1 col22\" >0.01</td>\n",
       "      <td id=\"T_58550_row1_col23\" class=\"data row1 col23\" >15.30</td>\n",
       "      <td id=\"T_58550_row1_col24\" class=\"data row1 col24\" >23.73</td>\n",
       "      <td id=\"T_58550_row1_col25\" class=\"data row1 col25\" >107.00</td>\n",
       "      <td id=\"T_58550_row1_col26\" class=\"data row1 col26\" >709.00</td>\n",
       "      <td id=\"T_58550_row1_col27\" class=\"data row1 col27\" >0.09</td>\n",
       "      <td id=\"T_58550_row1_col28\" class=\"data row1 col28\" >0.42</td>\n",
       "      <td id=\"T_58550_row1_col29\" class=\"data row1 col29\" >0.68</td>\n",
       "      <td id=\"T_58550_row1_col30\" class=\"data row1 col30\" >0.15</td>\n",
       "      <td id=\"T_58550_row1_col31\" class=\"data row1 col31\" >0.24</td>\n",
       "      <td id=\"T_58550_row1_col32\" class=\"data row1 col32\" >0.11</td>\n",
       "    </tr>\n",
       "    <tr>\n",
       "      <th id=\"T_58550_level0_row2\" class=\"row_heading level0 row2\" >92</th>\n",
       "      <td id=\"T_58550_row2_col0\" class=\"data row2 col0\" >0.81</td>\n",
       "      <td id=\"T_58550_row2_col1\" class=\"data row2 col1\" >0</td>\n",
       "      <td id=\"T_58550_row2_col2\" class=\"data row2 col2\" >1</td>\n",
       "      <td id=\"T_58550_row2_col3\" class=\"data row2 col3\" >14.99</td>\n",
       "      <td id=\"T_58550_row2_col4\" class=\"data row2 col4\" >22.11</td>\n",
       "      <td id=\"T_58550_row2_col5\" class=\"data row2 col5\" >97.53</td>\n",
       "      <td id=\"T_58550_row2_col6\" class=\"data row2 col6\" >693.70</td>\n",
       "      <td id=\"T_58550_row2_col7\" class=\"data row2 col7\" >0.09</td>\n",
       "      <td id=\"T_58550_row2_col8\" class=\"data row2 col8\" >0.10</td>\n",
       "      <td id=\"T_58550_row2_col9\" class=\"data row2 col9\" >0.07</td>\n",
       "      <td id=\"T_58550_row2_col10\" class=\"data row2 col10\" >0.04</td>\n",
       "      <td id=\"T_58550_row2_col11\" class=\"data row2 col11\" >0.19</td>\n",
       "      <td id=\"T_58550_row2_col12\" class=\"data row2 col12\" >0.06</td>\n",
       "      <td id=\"T_58550_row2_col13\" class=\"data row2 col13\" >0.32</td>\n",
       "      <td id=\"T_58550_row2_col14\" class=\"data row2 col14\" >1.34</td>\n",
       "      <td id=\"T_58550_row2_col15\" class=\"data row2 col15\" >2.31</td>\n",
       "      <td id=\"T_58550_row2_col16\" class=\"data row2 col16\" >28.51</td>\n",
       "      <td id=\"T_58550_row2_col17\" class=\"data row2 col17\" >0.00</td>\n",
       "      <td id=\"T_58550_row2_col18\" class=\"data row2 col18\" >0.03</td>\n",
       "      <td id=\"T_58550_row2_col19\" class=\"data row2 col19\" >0.03</td>\n",
       "      <td id=\"T_58550_row2_col20\" class=\"data row2 col20\" >0.01</td>\n",
       "      <td id=\"T_58550_row2_col21\" class=\"data row2 col21\" >0.02</td>\n",
       "      <td id=\"T_58550_row2_col22\" class=\"data row2 col22\" >0.00</td>\n",
       "      <td id=\"T_58550_row2_col23\" class=\"data row2 col23\" >16.76</td>\n",
       "      <td id=\"T_58550_row2_col24\" class=\"data row2 col24\" >31.55</td>\n",
       "      <td id=\"T_58550_row2_col25\" class=\"data row2 col25\" >110.20</td>\n",
       "      <td id=\"T_58550_row2_col26\" class=\"data row2 col26\" >867.10</td>\n",
       "      <td id=\"T_58550_row2_col27\" class=\"data row2 col27\" >0.11</td>\n",
       "      <td id=\"T_58550_row2_col28\" class=\"data row2 col28\" >0.33</td>\n",
       "      <td id=\"T_58550_row2_col29\" class=\"data row2 col29\" >0.31</td>\n",
       "      <td id=\"T_58550_row2_col30\" class=\"data row2 col30\" >0.13</td>\n",
       "      <td id=\"T_58550_row2_col31\" class=\"data row2 col31\" >0.32</td>\n",
       "      <td id=\"T_58550_row2_col32\" class=\"data row2 col32\" >0.09</td>\n",
       "    </tr>\n",
       "    <tr>\n",
       "      <th id=\"T_58550_level0_row3\" class=\"row_heading level0 row3\" >136</th>\n",
       "      <td id=\"T_58550_row3_col0\" class=\"data row3 col0\" >0.77</td>\n",
       "      <td id=\"T_58550_row3_col1\" class=\"data row3 col1\" >0</td>\n",
       "      <td id=\"T_58550_row3_col2\" class=\"data row3 col2\" >1</td>\n",
       "      <td id=\"T_58550_row3_col3\" class=\"data row3 col3\" >14.74</td>\n",
       "      <td id=\"T_58550_row3_col4\" class=\"data row3 col4\" >25.42</td>\n",
       "      <td id=\"T_58550_row3_col5\" class=\"data row3 col5\" >94.70</td>\n",
       "      <td id=\"T_58550_row3_col6\" class=\"data row3 col6\" >668.60</td>\n",
       "      <td id=\"T_58550_row3_col7\" class=\"data row3 col7\" >0.08</td>\n",
       "      <td id=\"T_58550_row3_col8\" class=\"data row3 col8\" >0.07</td>\n",
       "      <td id=\"T_58550_row3_col9\" class=\"data row3 col9\" >0.04</td>\n",
       "      <td id=\"T_58550_row3_col10\" class=\"data row3 col10\" >0.03</td>\n",
       "      <td id=\"T_58550_row3_col11\" class=\"data row3 col11\" >0.18</td>\n",
       "      <td id=\"T_58550_row3_col12\" class=\"data row3 col12\" >0.06</td>\n",
       "      <td id=\"T_58550_row3_col13\" class=\"data row3 col13\" >0.30</td>\n",
       "      <td id=\"T_58550_row3_col14\" class=\"data row3 col14\" >1.39</td>\n",
       "      <td id=\"T_58550_row3_col15\" class=\"data row3 col15\" >2.18</td>\n",
       "      <td id=\"T_58550_row3_col16\" class=\"data row3 col16\" >27.41</td>\n",
       "      <td id=\"T_58550_row3_col17\" class=\"data row3 col17\" >0.00</td>\n",
       "      <td id=\"T_58550_row3_col18\" class=\"data row3 col18\" >0.01</td>\n",
       "      <td id=\"T_58550_row3_col19\" class=\"data row3 col19\" >0.02</td>\n",
       "      <td id=\"T_58550_row3_col20\" class=\"data row3 col20\" >0.01</td>\n",
       "      <td id=\"T_58550_row3_col21\" class=\"data row3 col21\" >0.02</td>\n",
       "      <td id=\"T_58550_row3_col22\" class=\"data row3 col22\" >0.00</td>\n",
       "      <td id=\"T_58550_row3_col23\" class=\"data row3 col23\" >16.51</td>\n",
       "      <td id=\"T_58550_row3_col24\" class=\"data row3 col24\" >32.29</td>\n",
       "      <td id=\"T_58550_row3_col25\" class=\"data row3 col25\" >107.40</td>\n",
       "      <td id=\"T_58550_row3_col26\" class=\"data row3 col26\" >826.40</td>\n",
       "      <td id=\"T_58550_row3_col27\" class=\"data row3 col27\" >0.11</td>\n",
       "      <td id=\"T_58550_row3_col28\" class=\"data row3 col28\" >0.14</td>\n",
       "      <td id=\"T_58550_row3_col29\" class=\"data row3 col29\" >0.16</td>\n",
       "      <td id=\"T_58550_row3_col30\" class=\"data row3 col30\" >0.11</td>\n",
       "      <td id=\"T_58550_row3_col31\" class=\"data row3 col31\" >0.27</td>\n",
       "      <td id=\"T_58550_row3_col32\" class=\"data row3 col32\" >0.07</td>\n",
       "    </tr>\n",
       "    <tr>\n",
       "      <th id=\"T_58550_level0_row4\" class=\"row_heading level0 row4\" >65</th>\n",
       "      <td id=\"T_58550_row4_col0\" class=\"data row4 col0\" >0.69</td>\n",
       "      <td id=\"T_58550_row4_col1\" class=\"data row4 col1\" >0</td>\n",
       "      <td id=\"T_58550_row4_col2\" class=\"data row4 col2\" >1</td>\n",
       "      <td id=\"T_58550_row4_col3\" class=\"data row4 col3\" >12.04</td>\n",
       "      <td id=\"T_58550_row4_col4\" class=\"data row4 col4\" >28.14</td>\n",
       "      <td id=\"T_58550_row4_col5\" class=\"data row4 col5\" >76.85</td>\n",
       "      <td id=\"T_58550_row4_col6\" class=\"data row4 col6\" >449.90</td>\n",
       "      <td id=\"T_58550_row4_col7\" class=\"data row4 col7\" >0.09</td>\n",
       "      <td id=\"T_58550_row4_col8\" class=\"data row4 col8\" >0.06</td>\n",
       "      <td id=\"T_58550_row4_col9\" class=\"data row4 col9\" >0.02</td>\n",
       "      <td id=\"T_58550_row4_col10\" class=\"data row4 col10\" >0.02</td>\n",
       "      <td id=\"T_58550_row4_col11\" class=\"data row4 col11\" >0.19</td>\n",
       "      <td id=\"T_58550_row4_col12\" class=\"data row4 col12\" >0.06</td>\n",
       "      <td id=\"T_58550_row4_col13\" class=\"data row4 col13\" >0.61</td>\n",
       "      <td id=\"T_58550_row4_col14\" class=\"data row4 col14\" >2.64</td>\n",
       "      <td id=\"T_58550_row4_col15\" class=\"data row4 col15\" >4.10</td>\n",
       "      <td id=\"T_58550_row4_col16\" class=\"data row4 col16\" >44.96</td>\n",
       "      <td id=\"T_58550_row4_col17\" class=\"data row4 col17\" >0.01</td>\n",
       "      <td id=\"T_58550_row4_col18\" class=\"data row4 col18\" >0.02</td>\n",
       "      <td id=\"T_58550_row4_col19\" class=\"data row4 col19\" >0.01</td>\n",
       "      <td id=\"T_58550_row4_col20\" class=\"data row4 col20\" >0.01</td>\n",
       "      <td id=\"T_58550_row4_col21\" class=\"data row4 col21\" >0.02</td>\n",
       "      <td id=\"T_58550_row4_col22\" class=\"data row4 col22\" >0.00</td>\n",
       "      <td id=\"T_58550_row4_col23\" class=\"data row4 col23\" >13.60</td>\n",
       "      <td id=\"T_58550_row4_col24\" class=\"data row4 col24\" >33.33</td>\n",
       "      <td id=\"T_58550_row4_col25\" class=\"data row4 col25\" >87.24</td>\n",
       "      <td id=\"T_58550_row4_col26\" class=\"data row4 col26\" >567.60</td>\n",
       "      <td id=\"T_58550_row4_col27\" class=\"data row4 col27\" >0.10</td>\n",
       "      <td id=\"T_58550_row4_col28\" class=\"data row4 col28\" >0.10</td>\n",
       "      <td id=\"T_58550_row4_col29\" class=\"data row4 col29\" >0.06</td>\n",
       "      <td id=\"T_58550_row4_col30\" class=\"data row4 col30\" >0.06</td>\n",
       "      <td id=\"T_58550_row4_col31\" class=\"data row4 col31\" >0.24</td>\n",
       "      <td id=\"T_58550_row4_col32\" class=\"data row4 col32\" >0.07</td>\n",
       "    </tr>\n",
       "  </tbody>\n",
       "</table>\n",
       "<div><h5>Top Trust Score Samples</h5></div><style type=\"text/css\">\n",
       "#T_8b1a1 table {\n",
       "  text-align: left;\n",
       "  white-space: pre-wrap;\n",
       "}\n",
       "#T_8b1a1 thead {\n",
       "  text-align: left;\n",
       "  white-space: pre-wrap;\n",
       "}\n",
       "#T_8b1a1 tbody {\n",
       "  text-align: left;\n",
       "  white-space: pre-wrap;\n",
       "}\n",
       "#T_8b1a1 th {\n",
       "  text-align: left;\n",
       "  white-space: pre-wrap;\n",
       "}\n",
       "#T_8b1a1 td {\n",
       "  text-align: left;\n",
       "  white-space: pre-wrap;\n",
       "}\n",
       "</style>\n",
       "<table id=\"T_8b1a1\">\n",
       "  <thead>\n",
       "    <tr>\n",
       "      <th class=\"blank level0\" >&nbsp;</th>\n",
       "      <th id=\"T_8b1a1_level0_col0\" class=\"col_heading level0 col0\" >Trust Score</th>\n",
       "      <th id=\"T_8b1a1_level0_col1\" class=\"col_heading level0 col1\" >Model Prediction</th>\n",
       "      <th id=\"T_8b1a1_level0_col2\" class=\"col_heading level0 col2\" >target</th>\n",
       "      <th id=\"T_8b1a1_level0_col3\" class=\"col_heading level0 col3\" >mean radius</th>\n",
       "      <th id=\"T_8b1a1_level0_col4\" class=\"col_heading level0 col4\" >mean texture</th>\n",
       "      <th id=\"T_8b1a1_level0_col5\" class=\"col_heading level0 col5\" >mean perimeter</th>\n",
       "      <th id=\"T_8b1a1_level0_col6\" class=\"col_heading level0 col6\" >mean area</th>\n",
       "      <th id=\"T_8b1a1_level0_col7\" class=\"col_heading level0 col7\" >mean smoothness</th>\n",
       "      <th id=\"T_8b1a1_level0_col8\" class=\"col_heading level0 col8\" >mean compactness</th>\n",
       "      <th id=\"T_8b1a1_level0_col9\" class=\"col_heading level0 col9\" >mean concavity</th>\n",
       "      <th id=\"T_8b1a1_level0_col10\" class=\"col_heading level0 col10\" >mean concave points</th>\n",
       "      <th id=\"T_8b1a1_level0_col11\" class=\"col_heading level0 col11\" >mean symmetry</th>\n",
       "      <th id=\"T_8b1a1_level0_col12\" class=\"col_heading level0 col12\" >mean fractal dimension</th>\n",
       "      <th id=\"T_8b1a1_level0_col13\" class=\"col_heading level0 col13\" >radius error</th>\n",
       "      <th id=\"T_8b1a1_level0_col14\" class=\"col_heading level0 col14\" >texture error</th>\n",
       "      <th id=\"T_8b1a1_level0_col15\" class=\"col_heading level0 col15\" >perimeter error</th>\n",
       "      <th id=\"T_8b1a1_level0_col16\" class=\"col_heading level0 col16\" >area error</th>\n",
       "      <th id=\"T_8b1a1_level0_col17\" class=\"col_heading level0 col17\" >smoothness error</th>\n",
       "      <th id=\"T_8b1a1_level0_col18\" class=\"col_heading level0 col18\" >compactness error</th>\n",
       "      <th id=\"T_8b1a1_level0_col19\" class=\"col_heading level0 col19\" >concavity error</th>\n",
       "      <th id=\"T_8b1a1_level0_col20\" class=\"col_heading level0 col20\" >concave points error</th>\n",
       "      <th id=\"T_8b1a1_level0_col21\" class=\"col_heading level0 col21\" >symmetry error</th>\n",
       "      <th id=\"T_8b1a1_level0_col22\" class=\"col_heading level0 col22\" >fractal dimension error</th>\n",
       "      <th id=\"T_8b1a1_level0_col23\" class=\"col_heading level0 col23\" >worst radius</th>\n",
       "      <th id=\"T_8b1a1_level0_col24\" class=\"col_heading level0 col24\" >worst texture</th>\n",
       "      <th id=\"T_8b1a1_level0_col25\" class=\"col_heading level0 col25\" >worst perimeter</th>\n",
       "      <th id=\"T_8b1a1_level0_col26\" class=\"col_heading level0 col26\" >worst area</th>\n",
       "      <th id=\"T_8b1a1_level0_col27\" class=\"col_heading level0 col27\" >worst smoothness</th>\n",
       "      <th id=\"T_8b1a1_level0_col28\" class=\"col_heading level0 col28\" >worst compactness</th>\n",
       "      <th id=\"T_8b1a1_level0_col29\" class=\"col_heading level0 col29\" >worst concavity</th>\n",
       "      <th id=\"T_8b1a1_level0_col30\" class=\"col_heading level0 col30\" >worst concave points</th>\n",
       "      <th id=\"T_8b1a1_level0_col31\" class=\"col_heading level0 col31\" >worst symmetry</th>\n",
       "      <th id=\"T_8b1a1_level0_col32\" class=\"col_heading level0 col32\" >worst fractal dimension</th>\n",
       "    </tr>\n",
       "  </thead>\n",
       "  <tbody>\n",
       "    <tr>\n",
       "      <th id=\"T_8b1a1_level0_row0\" class=\"row_heading level0 row0\" >138</th>\n",
       "      <td id=\"T_8b1a1_row0_col0\" class=\"data row0 col0\" >3.28</td>\n",
       "      <td id=\"T_8b1a1_row0_col1\" class=\"data row0 col1\" >0</td>\n",
       "      <td id=\"T_8b1a1_row0_col2\" class=\"data row0 col2\" >0</td>\n",
       "      <td id=\"T_8b1a1_row0_col3\" class=\"data row0 col3\" >23.21</td>\n",
       "      <td id=\"T_8b1a1_row0_col4\" class=\"data row0 col4\" >26.97</td>\n",
       "      <td id=\"T_8b1a1_row0_col5\" class=\"data row0 col5\" >153.50</td>\n",
       "      <td id=\"T_8b1a1_row0_col6\" class=\"data row0 col6\" >1670.00</td>\n",
       "      <td id=\"T_8b1a1_row0_col7\" class=\"data row0 col7\" >0.10</td>\n",
       "      <td id=\"T_8b1a1_row0_col8\" class=\"data row0 col8\" >0.17</td>\n",
       "      <td id=\"T_8b1a1_row0_col9\" class=\"data row0 col9\" >0.20</td>\n",
       "      <td id=\"T_8b1a1_row0_col10\" class=\"data row0 col10\" >0.12</td>\n",
       "      <td id=\"T_8b1a1_row0_col11\" class=\"data row0 col11\" >0.19</td>\n",
       "      <td id=\"T_8b1a1_row0_col12\" class=\"data row0 col12\" >0.06</td>\n",
       "      <td id=\"T_8b1a1_row0_col13\" class=\"data row0 col13\" >1.06</td>\n",
       "      <td id=\"T_8b1a1_row0_col14\" class=\"data row0 col14\" >0.96</td>\n",
       "      <td id=\"T_8b1a1_row0_col15\" class=\"data row0 col15\" >7.25</td>\n",
       "      <td id=\"T_8b1a1_row0_col16\" class=\"data row0 col16\" >155.80</td>\n",
       "      <td id=\"T_8b1a1_row0_col17\" class=\"data row0 col17\" >0.01</td>\n",
       "      <td id=\"T_8b1a1_row0_col18\" class=\"data row0 col18\" >0.03</td>\n",
       "      <td id=\"T_8b1a1_row0_col19\" class=\"data row0 col19\" >0.04</td>\n",
       "      <td id=\"T_8b1a1_row0_col20\" class=\"data row0 col20\" >0.02</td>\n",
       "      <td id=\"T_8b1a1_row0_col21\" class=\"data row0 col21\" >0.02</td>\n",
       "      <td id=\"T_8b1a1_row0_col22\" class=\"data row0 col22\" >0.00</td>\n",
       "      <td id=\"T_8b1a1_row0_col23\" class=\"data row0 col23\" >31.01</td>\n",
       "      <td id=\"T_8b1a1_row0_col24\" class=\"data row0 col24\" >34.51</td>\n",
       "      <td id=\"T_8b1a1_row0_col25\" class=\"data row0 col25\" >206.00</td>\n",
       "      <td id=\"T_8b1a1_row0_col26\" class=\"data row0 col26\" >2944.00</td>\n",
       "      <td id=\"T_8b1a1_row0_col27\" class=\"data row0 col27\" >0.15</td>\n",
       "      <td id=\"T_8b1a1_row0_col28\" class=\"data row0 col28\" >0.41</td>\n",
       "      <td id=\"T_8b1a1_row0_col29\" class=\"data row0 col29\" >0.58</td>\n",
       "      <td id=\"T_8b1a1_row0_col30\" class=\"data row0 col30\" >0.26</td>\n",
       "      <td id=\"T_8b1a1_row0_col31\" class=\"data row0 col31\" >0.31</td>\n",
       "      <td id=\"T_8b1a1_row0_col32\" class=\"data row0 col32\" >0.09</td>\n",
       "    </tr>\n",
       "    <tr>\n",
       "      <th id=\"T_8b1a1_level0_row1\" class=\"row_heading level0 row1\" >127</th>\n",
       "      <td id=\"T_8b1a1_row1_col0\" class=\"data row1 col0\" >3.14</td>\n",
       "      <td id=\"T_8b1a1_row1_col1\" class=\"data row1 col1\" >1</td>\n",
       "      <td id=\"T_8b1a1_row1_col2\" class=\"data row1 col2\" >1</td>\n",
       "      <td id=\"T_8b1a1_row1_col3\" class=\"data row1 col3\" >11.29</td>\n",
       "      <td id=\"T_8b1a1_row1_col4\" class=\"data row1 col4\" >13.04</td>\n",
       "      <td id=\"T_8b1a1_row1_col5\" class=\"data row1 col5\" >72.23</td>\n",
       "      <td id=\"T_8b1a1_row1_col6\" class=\"data row1 col6\" >388.00</td>\n",
       "      <td id=\"T_8b1a1_row1_col7\" class=\"data row1 col7\" >0.10</td>\n",
       "      <td id=\"T_8b1a1_row1_col8\" class=\"data row1 col8\" >0.08</td>\n",
       "      <td id=\"T_8b1a1_row1_col9\" class=\"data row1 col9\" >0.03</td>\n",
       "      <td id=\"T_8b1a1_row1_col10\" class=\"data row1 col10\" >0.03</td>\n",
       "      <td id=\"T_8b1a1_row1_col11\" class=\"data row1 col11\" >0.18</td>\n",
       "      <td id=\"T_8b1a1_row1_col12\" class=\"data row1 col12\" >0.06</td>\n",
       "      <td id=\"T_8b1a1_row1_col13\" class=\"data row1 col13\" >0.19</td>\n",
       "      <td id=\"T_8b1a1_row1_col14\" class=\"data row1 col14\" >0.53</td>\n",
       "      <td id=\"T_8b1a1_row1_col15\" class=\"data row1 col15\" >1.16</td>\n",
       "      <td id=\"T_8b1a1_row1_col16\" class=\"data row1 col16\" >13.17</td>\n",
       "      <td id=\"T_8b1a1_row1_col17\" class=\"data row1 col17\" >0.01</td>\n",
       "      <td id=\"T_8b1a1_row1_col18\" class=\"data row1 col18\" >0.01</td>\n",
       "      <td id=\"T_8b1a1_row1_col19\" class=\"data row1 col19\" >0.01</td>\n",
       "      <td id=\"T_8b1a1_row1_col20\" class=\"data row1 col20\" >0.01</td>\n",
       "      <td id=\"T_8b1a1_row1_col21\" class=\"data row1 col21\" >0.02</td>\n",
       "      <td id=\"T_8b1a1_row1_col22\" class=\"data row1 col22\" >0.00</td>\n",
       "      <td id=\"T_8b1a1_row1_col23\" class=\"data row1 col23\" >12.32</td>\n",
       "      <td id=\"T_8b1a1_row1_col24\" class=\"data row1 col24\" >16.18</td>\n",
       "      <td id=\"T_8b1a1_row1_col25\" class=\"data row1 col25\" >78.27</td>\n",
       "      <td id=\"T_8b1a1_row1_col26\" class=\"data row1 col26\" >457.50</td>\n",
       "      <td id=\"T_8b1a1_row1_col27\" class=\"data row1 col27\" >0.14</td>\n",
       "      <td id=\"T_8b1a1_row1_col28\" class=\"data row1 col28\" >0.15</td>\n",
       "      <td id=\"T_8b1a1_row1_col29\" class=\"data row1 col29\" >0.13</td>\n",
       "      <td id=\"T_8b1a1_row1_col30\" class=\"data row1 col30\" >0.09</td>\n",
       "      <td id=\"T_8b1a1_row1_col31\" class=\"data row1 col31\" >0.27</td>\n",
       "      <td id=\"T_8b1a1_row1_col32\" class=\"data row1 col32\" >0.08</td>\n",
       "    </tr>\n",
       "    <tr>\n",
       "      <th id=\"T_8b1a1_level0_row2\" class=\"row_heading level0 row2\" >142</th>\n",
       "      <td id=\"T_8b1a1_row2_col0\" class=\"data row2 col0\" >2.90</td>\n",
       "      <td id=\"T_8b1a1_row2_col1\" class=\"data row2 col1\" >0</td>\n",
       "      <td id=\"T_8b1a1_row2_col2\" class=\"data row2 col2\" >0</td>\n",
       "      <td id=\"T_8b1a1_row2_col3\" class=\"data row2 col3\" >19.59</td>\n",
       "      <td id=\"T_8b1a1_row2_col4\" class=\"data row2 col4\" >18.15</td>\n",
       "      <td id=\"T_8b1a1_row2_col5\" class=\"data row2 col5\" >130.70</td>\n",
       "      <td id=\"T_8b1a1_row2_col6\" class=\"data row2 col6\" >1214.00</td>\n",
       "      <td id=\"T_8b1a1_row2_col7\" class=\"data row2 col7\" >0.11</td>\n",
       "      <td id=\"T_8b1a1_row2_col8\" class=\"data row2 col8\" >0.17</td>\n",
       "      <td id=\"T_8b1a1_row2_col9\" class=\"data row2 col9\" >0.25</td>\n",
       "      <td id=\"T_8b1a1_row2_col10\" class=\"data row2 col10\" >0.13</td>\n",
       "      <td id=\"T_8b1a1_row2_col11\" class=\"data row2 col11\" >0.20</td>\n",
       "      <td id=\"T_8b1a1_row2_col12\" class=\"data row2 col12\" >0.06</td>\n",
       "      <td id=\"T_8b1a1_row2_col13\" class=\"data row2 col13\" >0.74</td>\n",
       "      <td id=\"T_8b1a1_row2_col14\" class=\"data row2 col14\" >1.05</td>\n",
       "      <td id=\"T_8b1a1_row2_col15\" class=\"data row2 col15\" >4.79</td>\n",
       "      <td id=\"T_8b1a1_row2_col16\" class=\"data row2 col16\" >97.07</td>\n",
       "      <td id=\"T_8b1a1_row2_col17\" class=\"data row2 col17\" >0.00</td>\n",
       "      <td id=\"T_8b1a1_row2_col18\" class=\"data row2 col18\" >0.02</td>\n",
       "      <td id=\"T_8b1a1_row2_col19\" class=\"data row2 col19\" >0.04</td>\n",
       "      <td id=\"T_8b1a1_row2_col20\" class=\"data row2 col20\" >0.01</td>\n",
       "      <td id=\"T_8b1a1_row2_col21\" class=\"data row2 col21\" >0.02</td>\n",
       "      <td id=\"T_8b1a1_row2_col22\" class=\"data row2 col22\" >0.00</td>\n",
       "      <td id=\"T_8b1a1_row2_col23\" class=\"data row2 col23\" >26.73</td>\n",
       "      <td id=\"T_8b1a1_row2_col24\" class=\"data row2 col24\" >26.39</td>\n",
       "      <td id=\"T_8b1a1_row2_col25\" class=\"data row2 col25\" >174.90</td>\n",
       "      <td id=\"T_8b1a1_row2_col26\" class=\"data row2 col26\" >2232.00</td>\n",
       "      <td id=\"T_8b1a1_row2_col27\" class=\"data row2 col27\" >0.14</td>\n",
       "      <td id=\"T_8b1a1_row2_col28\" class=\"data row2 col28\" >0.38</td>\n",
       "      <td id=\"T_8b1a1_row2_col29\" class=\"data row2 col29\" >0.68</td>\n",
       "      <td id=\"T_8b1a1_row2_col30\" class=\"data row2 col30\" >0.22</td>\n",
       "      <td id=\"T_8b1a1_row2_col31\" class=\"data row2 col31\" >0.36</td>\n",
       "      <td id=\"T_8b1a1_row2_col32\" class=\"data row2 col32\" >0.09</td>\n",
       "    </tr>\n",
       "    <tr>\n",
       "      <th id=\"T_8b1a1_level0_row3\" class=\"row_heading level0 row3\" >43</th>\n",
       "      <td id=\"T_8b1a1_row3_col0\" class=\"data row3 col0\" >2.68</td>\n",
       "      <td id=\"T_8b1a1_row3_col1\" class=\"data row3 col1\" >1</td>\n",
       "      <td id=\"T_8b1a1_row3_col2\" class=\"data row3 col2\" >1</td>\n",
       "      <td id=\"T_8b1a1_row3_col3\" class=\"data row3 col3\" >10.32</td>\n",
       "      <td id=\"T_8b1a1_row3_col4\" class=\"data row3 col4\" >16.35</td>\n",
       "      <td id=\"T_8b1a1_row3_col5\" class=\"data row3 col5\" >65.31</td>\n",
       "      <td id=\"T_8b1a1_row3_col6\" class=\"data row3 col6\" >324.90</td>\n",
       "      <td id=\"T_8b1a1_row3_col7\" class=\"data row3 col7\" >0.09</td>\n",
       "      <td id=\"T_8b1a1_row3_col8\" class=\"data row3 col8\" >0.05</td>\n",
       "      <td id=\"T_8b1a1_row3_col9\" class=\"data row3 col9\" >0.01</td>\n",
       "      <td id=\"T_8b1a1_row3_col10\" class=\"data row3 col10\" >0.01</td>\n",
       "      <td id=\"T_8b1a1_row3_col11\" class=\"data row3 col11\" >0.19</td>\n",
       "      <td id=\"T_8b1a1_row3_col12\" class=\"data row3 col12\" >0.06</td>\n",
       "      <td id=\"T_8b1a1_row3_col13\" class=\"data row3 col13\" >0.21</td>\n",
       "      <td id=\"T_8b1a1_row3_col14\" class=\"data row3 col14\" >0.97</td>\n",
       "      <td id=\"T_8b1a1_row3_col15\" class=\"data row3 col15\" >1.36</td>\n",
       "      <td id=\"T_8b1a1_row3_col16\" class=\"data row3 col16\" >12.97</td>\n",
       "      <td id=\"T_8b1a1_row3_col17\" class=\"data row3 col17\" >0.01</td>\n",
       "      <td id=\"T_8b1a1_row3_col18\" class=\"data row3 col18\" >0.01</td>\n",
       "      <td id=\"T_8b1a1_row3_col19\" class=\"data row3 col19\" >0.01</td>\n",
       "      <td id=\"T_8b1a1_row3_col20\" class=\"data row3 col20\" >0.01</td>\n",
       "      <td id=\"T_8b1a1_row3_col21\" class=\"data row3 col21\" >0.02</td>\n",
       "      <td id=\"T_8b1a1_row3_col22\" class=\"data row3 col22\" >0.00</td>\n",
       "      <td id=\"T_8b1a1_row3_col23\" class=\"data row3 col23\" >11.25</td>\n",
       "      <td id=\"T_8b1a1_row3_col24\" class=\"data row3 col24\" >21.77</td>\n",
       "      <td id=\"T_8b1a1_row3_col25\" class=\"data row3 col25\" >71.12</td>\n",
       "      <td id=\"T_8b1a1_row3_col26\" class=\"data row3 col26\" >384.90</td>\n",
       "      <td id=\"T_8b1a1_row3_col27\" class=\"data row3 col27\" >0.13</td>\n",
       "      <td id=\"T_8b1a1_row3_col28\" class=\"data row3 col28\" >0.09</td>\n",
       "      <td id=\"T_8b1a1_row3_col29\" class=\"data row3 col29\" >0.04</td>\n",
       "      <td id=\"T_8b1a1_row3_col30\" class=\"data row3 col30\" >0.02</td>\n",
       "      <td id=\"T_8b1a1_row3_col31\" class=\"data row3 col31\" >0.27</td>\n",
       "      <td id=\"T_8b1a1_row3_col32\" class=\"data row3 col32\" >0.07</td>\n",
       "    </tr>\n",
       "    <tr>\n",
       "      <th id=\"T_8b1a1_level0_row4\" class=\"row_heading level0 row4\" >180</th>\n",
       "      <td id=\"T_8b1a1_row4_col0\" class=\"data row4 col0\" >2.63</td>\n",
       "      <td id=\"T_8b1a1_row4_col1\" class=\"data row4 col1\" >0</td>\n",
       "      <td id=\"T_8b1a1_row4_col2\" class=\"data row4 col2\" >0</td>\n",
       "      <td id=\"T_8b1a1_row4_col3\" class=\"data row4 col3\" >18.63</td>\n",
       "      <td id=\"T_8b1a1_row4_col4\" class=\"data row4 col4\" >25.11</td>\n",
       "      <td id=\"T_8b1a1_row4_col5\" class=\"data row4 col5\" >124.80</td>\n",
       "      <td id=\"T_8b1a1_row4_col6\" class=\"data row4 col6\" >1088.00</td>\n",
       "      <td id=\"T_8b1a1_row4_col7\" class=\"data row4 col7\" >0.11</td>\n",
       "      <td id=\"T_8b1a1_row4_col8\" class=\"data row4 col8\" >0.19</td>\n",
       "      <td id=\"T_8b1a1_row4_col9\" class=\"data row4 col9\" >0.23</td>\n",
       "      <td id=\"T_8b1a1_row4_col10\" class=\"data row4 col10\" >0.12</td>\n",
       "      <td id=\"T_8b1a1_row4_col11\" class=\"data row4 col11\" >0.22</td>\n",
       "      <td id=\"T_8b1a1_row4_col12\" class=\"data row4 col12\" >0.06</td>\n",
       "      <td id=\"T_8b1a1_row4_col13\" class=\"data row4 col13\" >0.83</td>\n",
       "      <td id=\"T_8b1a1_row4_col14\" class=\"data row4 col14\" >1.47</td>\n",
       "      <td id=\"T_8b1a1_row4_col15\" class=\"data row4 col15\" >5.57</td>\n",
       "      <td id=\"T_8b1a1_row4_col16\" class=\"data row4 col16\" >105.00</td>\n",
       "      <td id=\"T_8b1a1_row4_col17\" class=\"data row4 col17\" >0.01</td>\n",
       "      <td id=\"T_8b1a1_row4_col18\" class=\"data row4 col18\" >0.03</td>\n",
       "      <td id=\"T_8b1a1_row4_col19\" class=\"data row4 col19\" >0.05</td>\n",
       "      <td id=\"T_8b1a1_row4_col20\" class=\"data row4 col20\" >0.01</td>\n",
       "      <td id=\"T_8b1a1_row4_col21\" class=\"data row4 col21\" >0.02</td>\n",
       "      <td id=\"T_8b1a1_row4_col22\" class=\"data row4 col22\" >0.00</td>\n",
       "      <td id=\"T_8b1a1_row4_col23\" class=\"data row4 col23\" >23.15</td>\n",
       "      <td id=\"T_8b1a1_row4_col24\" class=\"data row4 col24\" >34.01</td>\n",
       "      <td id=\"T_8b1a1_row4_col25\" class=\"data row4 col25\" >160.50</td>\n",
       "      <td id=\"T_8b1a1_row4_col26\" class=\"data row4 col26\" >1670.00</td>\n",
       "      <td id=\"T_8b1a1_row4_col27\" class=\"data row4 col27\" >0.15</td>\n",
       "      <td id=\"T_8b1a1_row4_col28\" class=\"data row4 col28\" >0.43</td>\n",
       "      <td id=\"T_8b1a1_row4_col29\" class=\"data row4 col29\" >0.61</td>\n",
       "      <td id=\"T_8b1a1_row4_col30\" class=\"data row4 col30\" >0.18</td>\n",
       "      <td id=\"T_8b1a1_row4_col31\" class=\"data row4 col31\" >0.34</td>\n",
       "      <td id=\"T_8b1a1_row4_col32\" class=\"data row4 col32\" >0.10</td>\n",
       "    </tr>\n",
       "  </tbody>\n",
       "</table>\n"
      ]
     },
     "metadata": {},
     "output_type": "display_data"
    }
   ],
   "source": [
    "from deepchecks.tabular.checks import TrustScoreComparison\n",
    "\n",
    "TrustScoreComparison(min_test_samples=100).add_condition_mean_score_percent_decline_not_greater_than(threshold=0.19).run(train, mod_test, clf)"
   ]
  },
  {
   "cell_type": "markdown",
   "id": "969ea90f-42c3-4528-9e05-5ca10b3a5c38",
   "metadata": {},
   "source": [
    "### Analyzing the output"
   ]
  },
  {
   "cell_type": "markdown",
   "id": "0921425b-756f-43ee-be67-223aa711be13",
   "metadata": {},
   "source": [
    "The condition alerts us to the fact that the mean Trust Score has declined by ~21%, which is more than the 10% we allowed!\n",
    "\n",
    "The decline is also evident in the plot showing the distribution of Trust Scores in each dataset, in which we can see that test data has significantly more samples with Trust Score around 1 compared to training data. We can also see the distribution of the Trust Score for the modified test data used here is visibly skewed to the left (low Trust Score) due to the introduction of concept drift into the test data. The condition helps us detect this new skew. Did this skew in the data really change the performance of the model?"
   ]
  },
  {
   "cell_type": "code",
   "execution_count": 6,
   "id": "b7fe368b-08b8-47a4-82f9-944a0a4a5160",
   "metadata": {
    "execution": {
     "iopub.execute_input": "2022-01-26T12:56:44.836231Z",
     "iopub.status.busy": "2022-01-26T12:56:44.835007Z",
     "iopub.status.idle": "2022-01-26T12:56:44.837748Z",
     "shell.execute_reply": "2022-01-26T12:56:44.838155Z"
    }
   },
   "outputs": [],
   "source": [
    "from deepchecks.tabular.checks.performance import MultiModelPerformanceReport"
   ]
  },
  {
   "cell_type": "code",
   "execution_count": 7,
   "id": "340e112e-b6f5-4f4b-8351-8e49316aa10a",
   "metadata": {
    "execution": {
     "iopub.execute_input": "2022-01-26T12:56:44.848204Z",
     "iopub.status.busy": "2022-01-26T12:56:44.845902Z",
     "iopub.status.idle": "2022-01-26T12:56:45.369706Z",
     "shell.execute_reply": "2022-01-26T12:56:45.370163Z"
    }
   },
   "outputs": [
    {
     "data": {
      "text/html": [
       "<h4>Multi Model Performance Report</h4><p>Summarize performance scores for multiple models on test datasets.<a href=\"https://docs.deepchecks.com/en/0.4.1/examples/checks/performance/multi_model_performance_report.html?utm_source=display_output&utm_medium=referral&utm_campaign=check_link\" target=\"_blank\">Read More...</a></p><h5>Additional Outputs</h5>"
      ]
     },
     "metadata": {},
     "output_type": "display_data"
    },
    {
     "data": {
      "application/vnd.plotly.v1+json": {
       "config": {
        "plotlyServerURL": "https://plot.ly"
       },
       "data": [
        {
         "alignmentgroup": "True",
         "bingroup": "x",
         "histfunc": "sum",
         "hovertemplate": "Model=unmodified test<br>Metric=F1<br>value=%{x}<br>sum of Value=%{y}<extra></extra>",
         "legendgroup": "unmodified test",
         "marker": {
          "color": "#636efa",
          "pattern": {
           "shape": ""
          }
         },
         "name": "unmodified test",
         "offsetgroup": "unmodified test",
         "orientation": "v",
         "showlegend": true,
         "type": "histogram",
         "x": [
          0,
          1
         ],
         "xaxis": "x",
         "y": [
          0.9635036496350364,
          0.9790794979079498
         ],
         "yaxis": "y"
        },
        {
         "alignmentgroup": "True",
         "bingroup": "x",
         "histfunc": "sum",
         "hovertemplate": "Model=unmodified test<br>Metric=Precision<br>value=%{x}<br>sum of Value=%{y}<extra></extra>",
         "legendgroup": "unmodified test",
         "marker": {
          "color": "#636efa",
          "pattern": {
           "shape": ""
          }
         },
         "name": "unmodified test",
         "offsetgroup": "unmodified test",
         "orientation": "v",
         "showlegend": false,
         "type": "histogram",
         "x": [
          0,
          1
         ],
         "xaxis": "x2",
         "y": [
          0.9428571428571428,
          0.9915254237288136
         ],
         "yaxis": "y2"
        },
        {
         "alignmentgroup": "True",
         "bingroup": "x",
         "histfunc": "sum",
         "hovertemplate": "Model=unmodified test<br>Metric=Recall<br>value=%{x}<br>sum of Value=%{y}<extra></extra>",
         "legendgroup": "unmodified test",
         "marker": {
          "color": "#636efa",
          "pattern": {
           "shape": ""
          }
         },
         "name": "unmodified test",
         "offsetgroup": "unmodified test",
         "orientation": "v",
         "showlegend": false,
         "type": "histogram",
         "x": [
          0,
          1
         ],
         "xaxis": "x3",
         "y": [
          0.9850746268656716,
          0.9669421487603306
         ],
         "yaxis": "y3"
        },
        {
         "alignmentgroup": "True",
         "bingroup": "x",
         "histfunc": "sum",
         "hovertemplate": "Model=modified test<br>Metric=F1<br>value=%{x}<br>sum of Value=%{y}<extra></extra>",
         "legendgroup": "modified test",
         "marker": {
          "color": "#EF553B",
          "pattern": {
           "shape": ""
          }
         },
         "name": "modified test",
         "offsetgroup": "modified test",
         "orientation": "v",
         "showlegend": true,
         "type": "histogram",
         "x": [
          0,
          1
         ],
         "xaxis": "x",
         "y": [
          0.9323308270676692,
          0.962962962962963
         ],
         "yaxis": "y"
        },
        {
         "alignmentgroup": "True",
         "bingroup": "x",
         "histfunc": "sum",
         "hovertemplate": "Model=modified test<br>Metric=Precision<br>value=%{x}<br>sum of Value=%{y}<extra></extra>",
         "legendgroup": "modified test",
         "marker": {
          "color": "#EF553B",
          "pattern": {
           "shape": ""
          }
         },
         "name": "modified test",
         "offsetgroup": "modified test",
         "orientation": "v",
         "showlegend": false,
         "type": "histogram",
         "x": [
          0,
          1
         ],
         "xaxis": "x2",
         "y": [
          0.9393939393939394,
          0.9590163934426229
         ],
         "yaxis": "y2"
        },
        {
         "alignmentgroup": "True",
         "bingroup": "x",
         "histfunc": "sum",
         "hovertemplate": "Model=modified test<br>Metric=Recall<br>value=%{x}<br>sum of Value=%{y}<extra></extra>",
         "legendgroup": "modified test",
         "marker": {
          "color": "#EF553B",
          "pattern": {
           "shape": ""
          }
         },
         "name": "modified test",
         "offsetgroup": "modified test",
         "orientation": "v",
         "showlegend": false,
         "type": "histogram",
         "x": [
          0,
          1
         ],
         "xaxis": "x3",
         "y": [
          0.9253731343283582,
          0.9669421487603306
         ],
         "yaxis": "y3"
        }
       ],
       "layout": {
        "annotations": [
         {
          "font": {},
          "showarrow": false,
          "text": "F1",
          "x": 0.15,
          "xanchor": "center",
          "xref": "paper",
          "y": 1,
          "yanchor": "bottom",
          "yref": "paper"
         },
         {
          "font": {},
          "showarrow": false,
          "text": "Precision",
          "x": 0.49999999999999994,
          "xanchor": "center",
          "xref": "paper",
          "y": 1,
          "yanchor": "bottom",
          "yref": "paper"
         },
         {
          "font": {},
          "showarrow": false,
          "text": "Recall",
          "x": 0.85,
          "xanchor": "center",
          "xref": "paper",
          "y": 1,
          "yanchor": "bottom",
          "yref": "paper"
         }
        ],
        "barmode": "group",
        "legend": {
         "title": {
          "text": "Model"
         },
         "tracegroupgap": 0
        },
        "margin": {
         "t": 60
        },
        "template": {
         "data": {
          "bar": [
           {
            "error_x": {
             "color": "#2a3f5f"
            },
            "error_y": {
             "color": "#2a3f5f"
            },
            "marker": {
             "line": {
              "color": "#E5ECF6",
              "width": 0.5
             },
             "pattern": {
              "fillmode": "overlay",
              "size": 10,
              "solidity": 0.2
             }
            },
            "type": "bar"
           }
          ],
          "barpolar": [
           {
            "marker": {
             "line": {
              "color": "#E5ECF6",
              "width": 0.5
             },
             "pattern": {
              "fillmode": "overlay",
              "size": 10,
              "solidity": 0.2
             }
            },
            "type": "barpolar"
           }
          ],
          "carpet": [
           {
            "aaxis": {
             "endlinecolor": "#2a3f5f",
             "gridcolor": "white",
             "linecolor": "white",
             "minorgridcolor": "white",
             "startlinecolor": "#2a3f5f"
            },
            "baxis": {
             "endlinecolor": "#2a3f5f",
             "gridcolor": "white",
             "linecolor": "white",
             "minorgridcolor": "white",
             "startlinecolor": "#2a3f5f"
            },
            "type": "carpet"
           }
          ],
          "choropleth": [
           {
            "colorbar": {
             "outlinewidth": 0,
             "ticks": ""
            },
            "type": "choropleth"
           }
          ],
          "contour": [
           {
            "colorbar": {
             "outlinewidth": 0,
             "ticks": ""
            },
            "colorscale": [
             [
              0,
              "#0d0887"
             ],
             [
              0.1111111111111111,
              "#46039f"
             ],
             [
              0.2222222222222222,
              "#7201a8"
             ],
             [
              0.3333333333333333,
              "#9c179e"
             ],
             [
              0.4444444444444444,
              "#bd3786"
             ],
             [
              0.5555555555555556,
              "#d8576b"
             ],
             [
              0.6666666666666666,
              "#ed7953"
             ],
             [
              0.7777777777777778,
              "#fb9f3a"
             ],
             [
              0.8888888888888888,
              "#fdca26"
             ],
             [
              1,
              "#f0f921"
             ]
            ],
            "type": "contour"
           }
          ],
          "contourcarpet": [
           {
            "colorbar": {
             "outlinewidth": 0,
             "ticks": ""
            },
            "type": "contourcarpet"
           }
          ],
          "heatmap": [
           {
            "colorbar": {
             "outlinewidth": 0,
             "ticks": ""
            },
            "colorscale": [
             [
              0,
              "#0d0887"
             ],
             [
              0.1111111111111111,
              "#46039f"
             ],
             [
              0.2222222222222222,
              "#7201a8"
             ],
             [
              0.3333333333333333,
              "#9c179e"
             ],
             [
              0.4444444444444444,
              "#bd3786"
             ],
             [
              0.5555555555555556,
              "#d8576b"
             ],
             [
              0.6666666666666666,
              "#ed7953"
             ],
             [
              0.7777777777777778,
              "#fb9f3a"
             ],
             [
              0.8888888888888888,
              "#fdca26"
             ],
             [
              1,
              "#f0f921"
             ]
            ],
            "type": "heatmap"
           }
          ],
          "heatmapgl": [
           {
            "colorbar": {
             "outlinewidth": 0,
             "ticks": ""
            },
            "colorscale": [
             [
              0,
              "#0d0887"
             ],
             [
              0.1111111111111111,
              "#46039f"
             ],
             [
              0.2222222222222222,
              "#7201a8"
             ],
             [
              0.3333333333333333,
              "#9c179e"
             ],
             [
              0.4444444444444444,
              "#bd3786"
             ],
             [
              0.5555555555555556,
              "#d8576b"
             ],
             [
              0.6666666666666666,
              "#ed7953"
             ],
             [
              0.7777777777777778,
              "#fb9f3a"
             ],
             [
              0.8888888888888888,
              "#fdca26"
             ],
             [
              1,
              "#f0f921"
             ]
            ],
            "type": "heatmapgl"
           }
          ],
          "histogram": [
           {
            "marker": {
             "pattern": {
              "fillmode": "overlay",
              "size": 10,
              "solidity": 0.2
             }
            },
            "type": "histogram"
           }
          ],
          "histogram2d": [
           {
            "colorbar": {
             "outlinewidth": 0,
             "ticks": ""
            },
            "colorscale": [
             [
              0,
              "#0d0887"
             ],
             [
              0.1111111111111111,
              "#46039f"
             ],
             [
              0.2222222222222222,
              "#7201a8"
             ],
             [
              0.3333333333333333,
              "#9c179e"
             ],
             [
              0.4444444444444444,
              "#bd3786"
             ],
             [
              0.5555555555555556,
              "#d8576b"
             ],
             [
              0.6666666666666666,
              "#ed7953"
             ],
             [
              0.7777777777777778,
              "#fb9f3a"
             ],
             [
              0.8888888888888888,
              "#fdca26"
             ],
             [
              1,
              "#f0f921"
             ]
            ],
            "type": "histogram2d"
           }
          ],
          "histogram2dcontour": [
           {
            "colorbar": {
             "outlinewidth": 0,
             "ticks": ""
            },
            "colorscale": [
             [
              0,
              "#0d0887"
             ],
             [
              0.1111111111111111,
              "#46039f"
             ],
             [
              0.2222222222222222,
              "#7201a8"
             ],
             [
              0.3333333333333333,
              "#9c179e"
             ],
             [
              0.4444444444444444,
              "#bd3786"
             ],
             [
              0.5555555555555556,
              "#d8576b"
             ],
             [
              0.6666666666666666,
              "#ed7953"
             ],
             [
              0.7777777777777778,
              "#fb9f3a"
             ],
             [
              0.8888888888888888,
              "#fdca26"
             ],
             [
              1,
              "#f0f921"
             ]
            ],
            "type": "histogram2dcontour"
           }
          ],
          "mesh3d": [
           {
            "colorbar": {
             "outlinewidth": 0,
             "ticks": ""
            },
            "type": "mesh3d"
           }
          ],
          "parcoords": [
           {
            "line": {
             "colorbar": {
              "outlinewidth": 0,
              "ticks": ""
             }
            },
            "type": "parcoords"
           }
          ],
          "pie": [
           {
            "automargin": true,
            "type": "pie"
           }
          ],
          "scatter": [
           {
            "marker": {
             "colorbar": {
              "outlinewidth": 0,
              "ticks": ""
             }
            },
            "type": "scatter"
           }
          ],
          "scatter3d": [
           {
            "line": {
             "colorbar": {
              "outlinewidth": 0,
              "ticks": ""
             }
            },
            "marker": {
             "colorbar": {
              "outlinewidth": 0,
              "ticks": ""
             }
            },
            "type": "scatter3d"
           }
          ],
          "scattercarpet": [
           {
            "marker": {
             "colorbar": {
              "outlinewidth": 0,
              "ticks": ""
             }
            },
            "type": "scattercarpet"
           }
          ],
          "scattergeo": [
           {
            "marker": {
             "colorbar": {
              "outlinewidth": 0,
              "ticks": ""
             }
            },
            "type": "scattergeo"
           }
          ],
          "scattergl": [
           {
            "marker": {
             "colorbar": {
              "outlinewidth": 0,
              "ticks": ""
             }
            },
            "type": "scattergl"
           }
          ],
          "scattermapbox": [
           {
            "marker": {
             "colorbar": {
              "outlinewidth": 0,
              "ticks": ""
             }
            },
            "type": "scattermapbox"
           }
          ],
          "scatterpolar": [
           {
            "marker": {
             "colorbar": {
              "outlinewidth": 0,
              "ticks": ""
             }
            },
            "type": "scatterpolar"
           }
          ],
          "scatterpolargl": [
           {
            "marker": {
             "colorbar": {
              "outlinewidth": 0,
              "ticks": ""
             }
            },
            "type": "scatterpolargl"
           }
          ],
          "scatterternary": [
           {
            "marker": {
             "colorbar": {
              "outlinewidth": 0,
              "ticks": ""
             }
            },
            "type": "scatterternary"
           }
          ],
          "surface": [
           {
            "colorbar": {
             "outlinewidth": 0,
             "ticks": ""
            },
            "colorscale": [
             [
              0,
              "#0d0887"
             ],
             [
              0.1111111111111111,
              "#46039f"
             ],
             [
              0.2222222222222222,
              "#7201a8"
             ],
             [
              0.3333333333333333,
              "#9c179e"
             ],
             [
              0.4444444444444444,
              "#bd3786"
             ],
             [
              0.5555555555555556,
              "#d8576b"
             ],
             [
              0.6666666666666666,
              "#ed7953"
             ],
             [
              0.7777777777777778,
              "#fb9f3a"
             ],
             [
              0.8888888888888888,
              "#fdca26"
             ],
             [
              1,
              "#f0f921"
             ]
            ],
            "type": "surface"
           }
          ],
          "table": [
           {
            "cells": {
             "fill": {
              "color": "#EBF0F8"
             },
             "line": {
              "color": "white"
             }
            },
            "header": {
             "fill": {
              "color": "#C8D4E3"
             },
             "line": {
              "color": "white"
             }
            },
            "type": "table"
           }
          ]
         },
         "layout": {
          "annotationdefaults": {
           "arrowcolor": "#2a3f5f",
           "arrowhead": 0,
           "arrowwidth": 1
          },
          "autotypenumbers": "strict",
          "coloraxis": {
           "colorbar": {
            "outlinewidth": 0,
            "ticks": ""
           }
          },
          "colorscale": {
           "diverging": [
            [
             0,
             "#8e0152"
            ],
            [
             0.1,
             "#c51b7d"
            ],
            [
             0.2,
             "#de77ae"
            ],
            [
             0.3,
             "#f1b6da"
            ],
            [
             0.4,
             "#fde0ef"
            ],
            [
             0.5,
             "#f7f7f7"
            ],
            [
             0.6,
             "#e6f5d0"
            ],
            [
             0.7,
             "#b8e186"
            ],
            [
             0.8,
             "#7fbc41"
            ],
            [
             0.9,
             "#4d9221"
            ],
            [
             1,
             "#276419"
            ]
           ],
           "sequential": [
            [
             0,
             "#0d0887"
            ],
            [
             0.1111111111111111,
             "#46039f"
            ],
            [
             0.2222222222222222,
             "#7201a8"
            ],
            [
             0.3333333333333333,
             "#9c179e"
            ],
            [
             0.4444444444444444,
             "#bd3786"
            ],
            [
             0.5555555555555556,
             "#d8576b"
            ],
            [
             0.6666666666666666,
             "#ed7953"
            ],
            [
             0.7777777777777778,
             "#fb9f3a"
            ],
            [
             0.8888888888888888,
             "#fdca26"
            ],
            [
             1,
             "#f0f921"
            ]
           ],
           "sequentialminus": [
            [
             0,
             "#0d0887"
            ],
            [
             0.1111111111111111,
             "#46039f"
            ],
            [
             0.2222222222222222,
             "#7201a8"
            ],
            [
             0.3333333333333333,
             "#9c179e"
            ],
            [
             0.4444444444444444,
             "#bd3786"
            ],
            [
             0.5555555555555556,
             "#d8576b"
            ],
            [
             0.6666666666666666,
             "#ed7953"
            ],
            [
             0.7777777777777778,
             "#fb9f3a"
            ],
            [
             0.8888888888888888,
             "#fdca26"
            ],
            [
             1,
             "#f0f921"
            ]
           ]
          },
          "colorway": [
           "#636efa",
           "#EF553B",
           "#00cc96",
           "#ab63fa",
           "#FFA15A",
           "#19d3f3",
           "#FF6692",
           "#B6E880",
           "#FF97FF",
           "#FECB52"
          ],
          "font": {
           "color": "#2a3f5f"
          },
          "geo": {
           "bgcolor": "white",
           "lakecolor": "white",
           "landcolor": "#E5ECF6",
           "showlakes": true,
           "showland": true,
           "subunitcolor": "white"
          },
          "hoverlabel": {
           "align": "left"
          },
          "hovermode": "closest",
          "mapbox": {
           "style": "light"
          },
          "paper_bgcolor": "white",
          "plot_bgcolor": "#E5ECF6",
          "polar": {
           "angularaxis": {
            "gridcolor": "white",
            "linecolor": "white",
            "ticks": ""
           },
           "bgcolor": "#E5ECF6",
           "radialaxis": {
            "gridcolor": "white",
            "linecolor": "white",
            "ticks": ""
           }
          },
          "scene": {
           "xaxis": {
            "backgroundcolor": "#E5ECF6",
            "gridcolor": "white",
            "gridwidth": 2,
            "linecolor": "white",
            "showbackground": true,
            "ticks": "",
            "zerolinecolor": "white"
           },
           "yaxis": {
            "backgroundcolor": "#E5ECF6",
            "gridcolor": "white",
            "gridwidth": 2,
            "linecolor": "white",
            "showbackground": true,
            "ticks": "",
            "zerolinecolor": "white"
           },
           "zaxis": {
            "backgroundcolor": "#E5ECF6",
            "gridcolor": "white",
            "gridwidth": 2,
            "linecolor": "white",
            "showbackground": true,
            "ticks": "",
            "zerolinecolor": "white"
           }
          },
          "shapedefaults": {
           "line": {
            "color": "#2a3f5f"
           }
          },
          "ternary": {
           "aaxis": {
            "gridcolor": "white",
            "linecolor": "white",
            "ticks": ""
           },
           "baxis": {
            "gridcolor": "white",
            "linecolor": "white",
            "ticks": ""
           },
           "bgcolor": "#E5ECF6",
           "caxis": {
            "gridcolor": "white",
            "linecolor": "white",
            "ticks": ""
           }
          },
          "title": {
           "x": 0.05
          },
          "xaxis": {
           "automargin": true,
           "gridcolor": "white",
           "linecolor": "white",
           "ticks": "",
           "title": {
            "standoff": 15
           },
           "zerolinecolor": "white",
           "zerolinewidth": 2
          },
          "yaxis": {
           "automargin": true,
           "gridcolor": "white",
           "linecolor": "white",
           "ticks": "",
           "title": {
            "standoff": 15
           },
           "zerolinecolor": "white",
           "zerolinewidth": 2
          }
         }
        },
        "xaxis": {
         "anchor": "y",
         "domain": [
          0,
          0.3
         ],
         "tickangle": 60,
         "tickprefix": "Class ",
         "title": {}
        },
        "xaxis2": {
         "anchor": "y2",
         "domain": [
          0.35,
          0.6499999999999999
         ],
         "matches": "x",
         "tickangle": 60,
         "tickprefix": "Class ",
         "title": {}
        },
        "xaxis3": {
         "anchor": "y3",
         "domain": [
          0.7,
          1
         ],
         "matches": "x",
         "tickangle": 60,
         "tickprefix": "Class ",
         "title": {}
        },
        "yaxis": {
         "anchor": "x",
         "domain": [
          0,
          1
         ],
         "showticklabels": true,
         "title": {}
        },
        "yaxis2": {
         "anchor": "x2",
         "domain": [
          0,
          1
         ],
         "showticklabels": true,
         "title": {}
        },
        "yaxis3": {
         "anchor": "x3",
         "domain": [
          0,
          1
         ],
         "showticklabels": true,
         "title": {}
        }
       }
      }
     },
     "metadata": {},
     "output_type": "display_data"
    },
    {
     "data": {
      "text/html": []
     },
     "metadata": {},
     "output_type": "display_data"
    }
   ],
   "source": [
    "MultiModelPerformanceReport().run([train, train], [test, mod_test], {'unmodified test': clf, 'modified test': clf})"
   ]
  },
  {
   "cell_type": "markdown",
   "id": "30698c81-8a5d-4a8e-a093-d984829908d2",
   "metadata": {},
   "source": [
    "Using the MultiModelPerformanceReport we can clearly see that several metrics (such as f1, and recall) have declined on the modified test dataset. In a use case in which labels were not available for test data, we would have still known to be wary of that thanks to the condition raised by the Trust Score check on the modified data!"
   ]
  }
 ],
 "metadata": {
  "kernelspec": {
   "display_name": "Python 3 (ipykernel)",
   "language": "python",
   "name": "python3"
  },
  "language_info": {
   "codemirror_mode": {
    "name": "ipython",
    "version": 3
   },
   "file_extension": ".py",
   "mimetype": "text/x-python",
   "name": "python",
   "nbconvert_exporter": "python",
   "pygments_lexer": "ipython3",
   "version": "3.8.10"
  }
 },
 "nbformat": 4,
 "nbformat_minor": 5
}
