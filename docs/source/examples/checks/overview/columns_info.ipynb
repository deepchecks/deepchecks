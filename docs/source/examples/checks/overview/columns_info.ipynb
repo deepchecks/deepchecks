{
 "cells": [
  {
   "cell_type": "markdown",
   "id": "753bde83",
   "metadata": {},
   "source": [
    "# Columns Info "
   ]
  },
  {
   "cell_type": "markdown",
   "id": "0fdeac8e-ffd2-4509-8a70-fcbda9cdb68b",
   "metadata": {},
   "source": [
    "## Imports"
   ]
  },
  {
   "cell_type": "code",
   "execution_count": 1,
   "id": "592d6a95-06b0-4397-bf5e-5aebd6dc58f3",
   "metadata": {
    "execution": {
     "iopub.execute_input": "2022-01-19T16:43:17.590451Z",
     "iopub.status.busy": "2022-01-19T16:43:17.589694Z",
     "iopub.status.idle": "2022-01-19T16:43:19.562780Z",
     "shell.execute_reply": "2022-01-19T16:43:19.563157Z"
    }
   },
   "outputs": [],
   "source": [
    "import pandas as pd\n",
    "import numpy as np\n",
    "from deepchecks.checks.overview import ColumnsInfo\n",
    "from deepchecks.base import Dataset"
   ]
  },
  {
   "cell_type": "markdown",
   "id": "b1653169-893b-456a-b179-7ba51d004694",
   "metadata": {},
   "source": [
    "## Generating data:"
   ]
  },
  {
   "cell_type": "code",
   "execution_count": 2,
   "id": "13624caa-239a-4b0a-a081-8d46872751ef",
   "metadata": {
    "execution": {
     "iopub.execute_input": "2022-01-19T16:43:19.571495Z",
     "iopub.status.busy": "2022-01-19T16:43:19.569813Z",
     "iopub.status.idle": "2022-01-19T16:43:19.573759Z",
     "shell.execute_reply": "2022-01-19T16:43:19.574286Z"
    }
   },
   "outputs": [],
   "source": [
    "num_fe = np.random.rand(500)\n",
    "cat_fe = np.random.randint(3, size=500)\n",
    "num_col = np.random.rand(500)\n",
    "date = range(1635693229, 1635693729)\n",
    "index = range(500)\n",
    "data = {'index': index, 'date': date, 'a': cat_fe, 'b': num_fe, 'c': num_col, 'label': cat_fe}\n",
    "df = pd.DataFrame.from_dict(data)\n",
    "\n",
    "dataset = Dataset(df, label='label', datetime_name='date', index_name='index', features=['a', 'b'], cat_features=['a'])"
   ]
  },
  {
   "cell_type": "markdown",
   "id": "e9b8071a-f95a-4d51-8ca9-abd42d5406b2",
   "metadata": {},
   "source": [
    "## Running columns_info check:"
   ]
  },
  {
   "cell_type": "code",
   "execution_count": 3,
   "id": "372e0162-b86c-45d6-8a3b-47e009d709b9",
   "metadata": {
    "execution": {
     "iopub.execute_input": "2022-01-19T16:43:19.578266Z",
     "iopub.status.busy": "2022-01-19T16:43:19.577562Z",
     "iopub.status.idle": "2022-01-19T16:43:19.579714Z",
     "shell.execute_reply": "2022-01-19T16:43:19.580399Z"
    }
   },
   "outputs": [],
   "source": [
    "check = ColumnsInfo()"
   ]
  },
  {
   "cell_type": "code",
   "execution_count": 4,
   "id": "fadb3bc8-65af-4c7d-92bc-9234802d99e3",
   "metadata": {
    "execution": {
     "iopub.execute_input": "2022-01-19T16:43:19.587763Z",
     "iopub.status.busy": "2022-01-19T16:43:19.587062Z",
     "iopub.status.idle": "2022-01-19T16:43:19.589680Z",
     "shell.execute_reply": "2022-01-19T16:43:19.590183Z"
    },
    "tags": []
   },
   "outputs": [
    {
     "data": {
      "text/html": [
       "<h4>Columns Info</h4><p>Return the role and logical type of each column.</p><h5>Additional Outputs</h5><div>* showing only the top 10 columns, you can change it using n_top_columns param</div><style type=\"text/css\">\n",
       "#T_b5d44_ table {\n",
       "  text-align: left;\n",
       "  white-space: pre-wrap;\n",
       "}\n",
       "#T_b5d44_ thead {\n",
       "  text-align: left;\n",
       "  white-space: pre-wrap;\n",
       "}\n",
       "#T_b5d44_ tbody {\n",
       "  text-align: left;\n",
       "  white-space: pre-wrap;\n",
       "}\n",
       "#T_b5d44_ th {\n",
       "  text-align: left;\n",
       "  white-space: pre-wrap;\n",
       "}\n",
       "#T_b5d44_ td {\n",
       "  text-align: left;\n",
       "  white-space: pre-wrap;\n",
       "}\n",
       "</style>\n",
       "<table id=\"T_b5d44_\">\n",
       "  <thead>\n",
       "    <tr>\n",
       "      <th class=\"blank level0\" >&nbsp;</th>\n",
       "      <th class=\"col_heading level0 col0\" >index</th>\n",
       "      <th class=\"col_heading level0 col1\" >date</th>\n",
       "      <th class=\"col_heading level0 col2\" >a</th>\n",
       "      <th class=\"col_heading level0 col3\" >b</th>\n",
       "      <th class=\"col_heading level0 col4\" >c</th>\n",
       "      <th class=\"col_heading level0 col5\" >label</th>\n",
       "    </tr>\n",
       "  </thead>\n",
       "  <tbody>\n",
       "    <tr>\n",
       "      <th id=\"T_b5d44_level0_row0\" class=\"row_heading level0 row0\" >role</th>\n",
       "      <td id=\"T_b5d44_row0_col0\" class=\"data row0 col0\" >index</td>\n",
       "      <td id=\"T_b5d44_row0_col1\" class=\"data row0 col1\" >date</td>\n",
       "      <td id=\"T_b5d44_row0_col2\" class=\"data row0 col2\" >categorical feature</td>\n",
       "      <td id=\"T_b5d44_row0_col3\" class=\"data row0 col3\" >numerical feature</td>\n",
       "      <td id=\"T_b5d44_row0_col4\" class=\"data row0 col4\" >other</td>\n",
       "      <td id=\"T_b5d44_row0_col5\" class=\"data row0 col5\" >label</td>\n",
       "    </tr>\n",
       "  </tbody>\n",
       "</table>\n"
      ]
     },
     "metadata": {},
     "output_type": "display_data"
    }
   ],
   "source": [
    "check.run(dataset=dataset)"
   ]
  },
  {
   "cell_type": "code",
   "execution_count": null,
   "id": "60fa9adc-ce0f-4e0c-afe8-b839c16a8ad1",
   "metadata": {},
   "outputs": [],
   "source": []
  }
 ],
 "metadata": {
  "kernelspec": {
   "display_name": "Python 3 (ipykernel)",
   "language": "python",
   "name": "python3"
  },
  "language_info": {
   "codemirror_mode": {
    "name": "ipython",
    "version": 3
   },
   "file_extension": ".py",
   "mimetype": "text/x-python",
   "name": "python",
   "nbconvert_exporter": "python",
   "pygments_lexer": "ipython3",
   "version": "3.8.6"
  }
 },
 "nbformat": 4,
 "nbformat_minor": 5
}
