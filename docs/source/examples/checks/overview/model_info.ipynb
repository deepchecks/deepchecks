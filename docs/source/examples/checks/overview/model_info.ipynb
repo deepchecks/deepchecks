{
 "cells": [
  {
   "cell_type": "markdown",
   "id": "d537d970",
   "metadata": {},
   "source": [
    "# Model Info "
   ]
  },
  {
   "cell_type": "code",
   "execution_count": 1,
   "id": "c942f7bc",
   "metadata": {
    "execution": {
     "iopub.execute_input": "2022-01-07T01:03:47.649099Z",
     "iopub.status.busy": "2022-01-07T01:03:47.648316Z",
     "iopub.status.idle": "2022-01-07T01:03:49.880708Z",
     "shell.execute_reply": "2022-01-07T01:03:49.879773Z"
    }
   },
   "outputs": [
    {
     "data": {
      "text/html": [
       "<h4>Model Info</h4>"
      ]
     },
     "metadata": {},
     "output_type": "display_data"
    },
    {
     "data": {
      "text/html": [
       "<p>Summarize given model parameters.</p>"
      ]
     },
     "metadata": {},
     "output_type": "display_data"
    },
    {
     "data": {
      "text/html": [
       "Model Type: AdaBoostClassifier"
      ]
     },
     "metadata": {},
     "output_type": "display_data"
    },
    {
     "data": {
      "text/html": [
       "<style type=\"text/css\">\n",
       "#T_e0414_ table {\n",
       "  text-align: left;\n",
       "}\n",
       "#T_e0414_ thead {\n",
       "  text-align: left;\n",
       "}\n",
       "#T_e0414_ tbody {\n",
       "  text-align: left;\n",
       "}\n",
       "#T_e0414_ th {\n",
       "  text-align: left;\n",
       "}\n",
       "#T_e0414_ td {\n",
       "  text-align: left;\n",
       "}\n",
       "#T_e0414_row2_col0, #T_e0414_row2_col1, #T_e0414_row2_col2 {\n",
       "  background-color: lightblue;\n",
       "}\n",
       "</style>\n",
       "<table id=\"T_e0414_\">\n",
       "  <thead>\n",
       "    <tr>\n",
       "      <th class=\"col_heading level0 col0\" >Parameter</th>\n",
       "      <th class=\"col_heading level0 col1\" >Value</th>\n",
       "      <th class=\"col_heading level0 col2\" >Default</th>\n",
       "    </tr>\n",
       "  </thead>\n",
       "  <tbody>\n",
       "    <tr>\n",
       "      <td id=\"T_e0414_row0_col0\" class=\"data row0 col0\" >algorithm</td>\n",
       "      <td id=\"T_e0414_row0_col1\" class=\"data row0 col1\" >SAMME.R</td>\n",
       "      <td id=\"T_e0414_row0_col2\" class=\"data row0 col2\" >SAMME.R</td>\n",
       "    </tr>\n",
       "    <tr>\n",
       "      <td id=\"T_e0414_row1_col0\" class=\"data row1 col0\" >base_estimator</td>\n",
       "      <td id=\"T_e0414_row1_col1\" class=\"data row1 col1\" >None</td>\n",
       "      <td id=\"T_e0414_row1_col2\" class=\"data row1 col2\" >None</td>\n",
       "    </tr>\n",
       "    <tr>\n",
       "      <td id=\"T_e0414_row2_col0\" class=\"data row2 col0\" >learning_rate</td>\n",
       "      <td id=\"T_e0414_row2_col1\" class=\"data row2 col1\" >1.20</td>\n",
       "      <td id=\"T_e0414_row2_col2\" class=\"data row2 col2\" >1.00</td>\n",
       "    </tr>\n",
       "    <tr>\n",
       "      <td id=\"T_e0414_row3_col0\" class=\"data row3 col0\" >n_estimators</td>\n",
       "      <td id=\"T_e0414_row3_col1\" class=\"data row3 col1\" >50</td>\n",
       "      <td id=\"T_e0414_row3_col2\" class=\"data row3 col2\" >50</td>\n",
       "    </tr>\n",
       "    <tr>\n",
       "      <td id=\"T_e0414_row4_col0\" class=\"data row4 col0\" >random_state</td>\n",
       "      <td id=\"T_e0414_row4_col1\" class=\"data row4 col1\" >None</td>\n",
       "      <td id=\"T_e0414_row4_col2\" class=\"data row4 col2\" >None</td>\n",
       "    </tr>\n",
       "  </tbody>\n",
       "</table>\n"
      ]
     },
     "metadata": {},
     "output_type": "display_data"
    },
    {
     "data": {
      "text/html": [
       "<p style=\"font-size:0.7em\"><i>Colored rows are parameters with non-default values</i></p>"
      ]
     },
     "metadata": {},
     "output_type": "display_data"
    }
   ],
   "source": [
    "from sklearn.ensemble import AdaBoostClassifier\n",
    "from deepchecks.checks.overview import ModelInfo\n",
    "\n",
    "clf = AdaBoostClassifier(learning_rate=1.2)\n",
    "ModelInfo().run(clf)"
   ]
  }
 ],
 "metadata": {
  "kernelspec": {
   "display_name": "Python 3 (ipykernel)",
   "language": "python",
   "name": "python3"
  },
  "language_info": {
   "codemirror_mode": {
    "name": "ipython",
    "version": 3
   },
   "file_extension": ".py",
   "mimetype": "text/x-python",
   "name": "python",
   "nbconvert_exporter": "python",
   "pygments_lexer": "ipython3",
   "version": "3.9.9"
  }
 },
 "nbformat": 4,
 "nbformat_minor": 5
}
