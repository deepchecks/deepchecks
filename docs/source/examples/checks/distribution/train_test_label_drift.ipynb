{
 "cells": [
  {
   "cell_type": "markdown",
   "id": "f3ac696d-42f0-4b82-a13e-f0d2977cd6c8",
   "metadata": {},
   "source": [
    "# Train Test Label Drift"
   ]
  },
  {
   "cell_type": "code",
   "execution_count": 1,
   "id": "f541ed38-efb3-414f-9e0a-eef30246231e",
   "metadata": {
    "execution": {
     "iopub.execute_input": "2022-01-26T12:56:34.872711Z",
     "iopub.status.busy": "2022-01-26T12:56:34.871508Z",
     "iopub.status.idle": "2022-01-26T12:56:36.841560Z",
     "shell.execute_reply": "2022-01-26T12:56:36.841982Z"
    },
    "tags": []
   },
   "outputs": [],
   "source": [
    "import numpy as np\n",
    "import pandas as pd\n",
    "\n",
    "from deepchecks.tabular import Dataset\n",
    "from deepchecks.tabular.checks import TrainTestLabelDrift\n",
    "import pprint"
   ]
  },
  {
   "cell_type": "markdown",
   "id": "f6fbc71a-d8f4-449f-8654-54e8f016d3e8",
   "metadata": {},
   "source": [
    "## Generate data - Classification label"
   ]
  },
  {
   "cell_type": "code",
   "execution_count": 2,
   "id": "3693b3f5-b3e5-4960-9373-ff5279328aea",
   "metadata": {
    "execution": {
     "iopub.execute_input": "2022-01-26T12:56:36.850923Z",
     "iopub.status.busy": "2022-01-26T12:56:36.850091Z",
     "iopub.status.idle": "2022-01-26T12:56:36.859712Z",
     "shell.execute_reply": "2022-01-26T12:56:36.860264Z"
    },
    "tags": []
   },
   "outputs": [],
   "source": [
    "np.random.seed(42)\n",
    "\n",
    "train_data = np.concatenate([np.random.randn(1000,2), np.random.choice(a=[1,0], p=[0.5, 0.5], size=(1000, 1))], axis=1)\n",
    "#Create test_data with drift in label:\n",
    "test_data = np.concatenate([np.random.randn(1000,2), np.random.choice(a=[1,0], p=[0.35, 0.65], size=(1000, 1))], axis=1) \n",
    "\n",
    "df_train = pd.DataFrame(train_data, columns=['col1', 'col2', 'target'])\n",
    "df_test = pd.DataFrame(test_data, columns=['col1', 'col2', 'target'])\n",
    "\n",
    "train_dataset = Dataset(df_train, label='target')\n",
    "test_dataset = Dataset(df_test, label='target')\n"
   ]
  },
  {
   "cell_type": "code",
   "execution_count": 3,
   "id": "fa391638-4c7c-48b8-b1ca-a92a029d96e2",
   "metadata": {
    "execution": {
     "iopub.execute_input": "2022-01-26T12:56:36.869604Z",
     "iopub.status.busy": "2022-01-26T12:56:36.866375Z",
     "iopub.status.idle": "2022-01-26T12:56:36.874687Z",
     "shell.execute_reply": "2022-01-26T12:56:36.875139Z"
    },
    "tags": []
   },
   "outputs": [
    {
     "data": {
      "text/html": [
       "<div>\n",
       "<style scoped>\n",
       "    .dataframe tbody tr th:only-of-type {\n",
       "        vertical-align: middle;\n",
       "    }\n",
       "\n",
       "    .dataframe tbody tr th {\n",
       "        vertical-align: top;\n",
       "    }\n",
       "\n",
       "    .dataframe thead th {\n",
       "        text-align: right;\n",
       "    }\n",
       "</style>\n",
       "<table border=\"1\" class=\"dataframe\">\n",
       "  <thead>\n",
       "    <tr style=\"text-align: right;\">\n",
       "      <th></th>\n",
       "      <th>col1</th>\n",
       "      <th>col2</th>\n",
       "      <th>target</th>\n",
       "    </tr>\n",
       "  </thead>\n",
       "  <tbody>\n",
       "    <tr>\n",
       "      <th>0</th>\n",
       "      <td>0.496714</td>\n",
       "      <td>-0.138264</td>\n",
       "      <td>1.0</td>\n",
       "    </tr>\n",
       "    <tr>\n",
       "      <th>1</th>\n",
       "      <td>0.647689</td>\n",
       "      <td>1.523030</td>\n",
       "      <td>1.0</td>\n",
       "    </tr>\n",
       "    <tr>\n",
       "      <th>2</th>\n",
       "      <td>-0.234153</td>\n",
       "      <td>-0.234137</td>\n",
       "      <td>1.0</td>\n",
       "    </tr>\n",
       "    <tr>\n",
       "      <th>3</th>\n",
       "      <td>1.579213</td>\n",
       "      <td>0.767435</td>\n",
       "      <td>1.0</td>\n",
       "    </tr>\n",
       "    <tr>\n",
       "      <th>4</th>\n",
       "      <td>-0.469474</td>\n",
       "      <td>0.542560</td>\n",
       "      <td>0.0</td>\n",
       "    </tr>\n",
       "  </tbody>\n",
       "</table>\n",
       "</div>"
      ],
      "text/plain": [
       "       col1      col2  target\n",
       "0  0.496714 -0.138264     1.0\n",
       "1  0.647689  1.523030     1.0\n",
       "2 -0.234153 -0.234137     1.0\n",
       "3  1.579213  0.767435     1.0\n",
       "4 -0.469474  0.542560     0.0"
      ]
     },
     "execution_count": 3,
     "metadata": {},
     "output_type": "execute_result"
    }
   ],
   "source": [
    "df_train.head()"
   ]
  },
  {
   "cell_type": "markdown",
   "id": "b143b774-0b73-43e7-98cc-1baebb9f6080",
   "metadata": {},
   "source": [
    "## Run check"
   ]
  },
  {
   "cell_type": "code",
   "execution_count": 4,
   "id": "a7f6888e-7027-4f50-bf5c-617d9997fe2c",
   "metadata": {
    "execution": {
     "iopub.execute_input": "2022-01-26T12:56:36.880940Z",
     "iopub.status.busy": "2022-01-26T12:56:36.880338Z",
     "iopub.status.idle": "2022-01-26T12:56:37.063701Z",
     "shell.execute_reply": "2022-01-26T12:56:37.061880Z"
    },
    "tags": []
   },
   "outputs": [
    {
     "data": {
      "text/html": [
       "<h4>Train Test Label Drift</h4><p>    Calculate label drift between train dataset and test dataset, using statistical measures. <a href=\"https://docs.deepchecks.com/en/0.3.2/examples/checks/distribution/train_test_label_drift.html?utm_source=display_output&utm_medium=referral&utm_campaign=check_link\" target=\"_blank\">Read More...</a></p><h5>Additional Outputs</h5><div><span>\n",
       "            The Drift score is a measure for the difference between two distributions, in this check - the test\n",
       "            and train distributions.<br> The check shows the drift score and distributions for the label.\n",
       "        </span></div>"
      ]
     },
     "metadata": {},
     "output_type": "display_data"
    },
    {
     "data": {
      "application/vnd.plotly.v1+json": {
       "config": {
        "plotlyServerURL": "https://plot.ly"
       },
       "data": [
        {
         "base": 0,
         "marker": {
          "color": "#01B8AA"
         },
         "offsetgroup": "0",
         "orientation": "h",
         "showlegend": false,
         "type": "bar",
         "x": [
          0.08069723178368182
         ],
         "xaxis": "x",
         "y": [
          "Drift Score"
         ],
         "yaxis": "y"
        },
        {
         "marker": {
          "color": "darkblue"
         },
         "name": "Train Dataset",
         "type": "bar",
         "x": [
          0,
          1
         ],
         "xaxis": "x2",
         "y": [
          0.503,
          0.497
         ],
         "yaxis": "y2"
        },
        {
         "marker": {
          "color": "#69b3a2"
         },
         "name": "Test Dataset",
         "type": "bar",
         "x": [
          0,
          1
         ],
         "xaxis": "x2",
         "y": [
          0.643,
          0.357
         ],
         "yaxis": "y2"
        }
       ],
       "layout": {
        "annotations": [
         {
          "font": {
           "size": 16
          },
          "showarrow": false,
          "text": "Drift Score - PSI",
          "x": 0.5,
          "xanchor": "center",
          "xref": "paper",
          "y": 1,
          "yanchor": "bottom",
          "yref": "paper"
         },
         {
          "font": {
           "size": 16
          },
          "showarrow": false,
          "text": "target",
          "x": 0.5,
          "xanchor": "center",
          "xref": "paper",
          "y": 0.54,
          "yanchor": "bottom",
          "yref": "paper"
         }
        ],
        "height": 400,
        "legend": {
         "title": {
          "text": "Dataset"
         },
         "y": 0.6,
         "yanchor": "top"
        },
        "template": {
         "data": {
          "bar": [
           {
            "error_x": {
             "color": "#2a3f5f"
            },
            "error_y": {
             "color": "#2a3f5f"
            },
            "marker": {
             "line": {
              "color": "#E5ECF6",
              "width": 0.5
             },
             "pattern": {
              "fillmode": "overlay",
              "size": 10,
              "solidity": 0.2
             }
            },
            "type": "bar"
           }
          ],
          "barpolar": [
           {
            "marker": {
             "line": {
              "color": "#E5ECF6",
              "width": 0.5
             },
             "pattern": {
              "fillmode": "overlay",
              "size": 10,
              "solidity": 0.2
             }
            },
            "type": "barpolar"
           }
          ],
          "carpet": [
           {
            "aaxis": {
             "endlinecolor": "#2a3f5f",
             "gridcolor": "white",
             "linecolor": "white",
             "minorgridcolor": "white",
             "startlinecolor": "#2a3f5f"
            },
            "baxis": {
             "endlinecolor": "#2a3f5f",
             "gridcolor": "white",
             "linecolor": "white",
             "minorgridcolor": "white",
             "startlinecolor": "#2a3f5f"
            },
            "type": "carpet"
           }
          ],
          "choropleth": [
           {
            "colorbar": {
             "outlinewidth": 0,
             "ticks": ""
            },
            "type": "choropleth"
           }
          ],
          "contour": [
           {
            "colorbar": {
             "outlinewidth": 0,
             "ticks": ""
            },
            "colorscale": [
             [
              0,
              "#0d0887"
             ],
             [
              0.1111111111111111,
              "#46039f"
             ],
             [
              0.2222222222222222,
              "#7201a8"
             ],
             [
              0.3333333333333333,
              "#9c179e"
             ],
             [
              0.4444444444444444,
              "#bd3786"
             ],
             [
              0.5555555555555556,
              "#d8576b"
             ],
             [
              0.6666666666666666,
              "#ed7953"
             ],
             [
              0.7777777777777778,
              "#fb9f3a"
             ],
             [
              0.8888888888888888,
              "#fdca26"
             ],
             [
              1,
              "#f0f921"
             ]
            ],
            "type": "contour"
           }
          ],
          "contourcarpet": [
           {
            "colorbar": {
             "outlinewidth": 0,
             "ticks": ""
            },
            "type": "contourcarpet"
           }
          ],
          "heatmap": [
           {
            "colorbar": {
             "outlinewidth": 0,
             "ticks": ""
            },
            "colorscale": [
             [
              0,
              "#0d0887"
             ],
             [
              0.1111111111111111,
              "#46039f"
             ],
             [
              0.2222222222222222,
              "#7201a8"
             ],
             [
              0.3333333333333333,
              "#9c179e"
             ],
             [
              0.4444444444444444,
              "#bd3786"
             ],
             [
              0.5555555555555556,
              "#d8576b"
             ],
             [
              0.6666666666666666,
              "#ed7953"
             ],
             [
              0.7777777777777778,
              "#fb9f3a"
             ],
             [
              0.8888888888888888,
              "#fdca26"
             ],
             [
              1,
              "#f0f921"
             ]
            ],
            "type": "heatmap"
           }
          ],
          "heatmapgl": [
           {
            "colorbar": {
             "outlinewidth": 0,
             "ticks": ""
            },
            "colorscale": [
             [
              0,
              "#0d0887"
             ],
             [
              0.1111111111111111,
              "#46039f"
             ],
             [
              0.2222222222222222,
              "#7201a8"
             ],
             [
              0.3333333333333333,
              "#9c179e"
             ],
             [
              0.4444444444444444,
              "#bd3786"
             ],
             [
              0.5555555555555556,
              "#d8576b"
             ],
             [
              0.6666666666666666,
              "#ed7953"
             ],
             [
              0.7777777777777778,
              "#fb9f3a"
             ],
             [
              0.8888888888888888,
              "#fdca26"
             ],
             [
              1,
              "#f0f921"
             ]
            ],
            "type": "heatmapgl"
           }
          ],
          "histogram": [
           {
            "marker": {
             "pattern": {
              "fillmode": "overlay",
              "size": 10,
              "solidity": 0.2
             }
            },
            "type": "histogram"
           }
          ],
          "histogram2d": [
           {
            "colorbar": {
             "outlinewidth": 0,
             "ticks": ""
            },
            "colorscale": [
             [
              0,
              "#0d0887"
             ],
             [
              0.1111111111111111,
              "#46039f"
             ],
             [
              0.2222222222222222,
              "#7201a8"
             ],
             [
              0.3333333333333333,
              "#9c179e"
             ],
             [
              0.4444444444444444,
              "#bd3786"
             ],
             [
              0.5555555555555556,
              "#d8576b"
             ],
             [
              0.6666666666666666,
              "#ed7953"
             ],
             [
              0.7777777777777778,
              "#fb9f3a"
             ],
             [
              0.8888888888888888,
              "#fdca26"
             ],
             [
              1,
              "#f0f921"
             ]
            ],
            "type": "histogram2d"
           }
          ],
          "histogram2dcontour": [
           {
            "colorbar": {
             "outlinewidth": 0,
             "ticks": ""
            },
            "colorscale": [
             [
              0,
              "#0d0887"
             ],
             [
              0.1111111111111111,
              "#46039f"
             ],
             [
              0.2222222222222222,
              "#7201a8"
             ],
             [
              0.3333333333333333,
              "#9c179e"
             ],
             [
              0.4444444444444444,
              "#bd3786"
             ],
             [
              0.5555555555555556,
              "#d8576b"
             ],
             [
              0.6666666666666666,
              "#ed7953"
             ],
             [
              0.7777777777777778,
              "#fb9f3a"
             ],
             [
              0.8888888888888888,
              "#fdca26"
             ],
             [
              1,
              "#f0f921"
             ]
            ],
            "type": "histogram2dcontour"
           }
          ],
          "mesh3d": [
           {
            "colorbar": {
             "outlinewidth": 0,
             "ticks": ""
            },
            "type": "mesh3d"
           }
          ],
          "parcoords": [
           {
            "line": {
             "colorbar": {
              "outlinewidth": 0,
              "ticks": ""
             }
            },
            "type": "parcoords"
           }
          ],
          "pie": [
           {
            "automargin": true,
            "type": "pie"
           }
          ],
          "scatter": [
           {
            "marker": {
             "colorbar": {
              "outlinewidth": 0,
              "ticks": ""
             }
            },
            "type": "scatter"
           }
          ],
          "scatter3d": [
           {
            "line": {
             "colorbar": {
              "outlinewidth": 0,
              "ticks": ""
             }
            },
            "marker": {
             "colorbar": {
              "outlinewidth": 0,
              "ticks": ""
             }
            },
            "type": "scatter3d"
           }
          ],
          "scattercarpet": [
           {
            "marker": {
             "colorbar": {
              "outlinewidth": 0,
              "ticks": ""
             }
            },
            "type": "scattercarpet"
           }
          ],
          "scattergeo": [
           {
            "marker": {
             "colorbar": {
              "outlinewidth": 0,
              "ticks": ""
             }
            },
            "type": "scattergeo"
           }
          ],
          "scattergl": [
           {
            "marker": {
             "colorbar": {
              "outlinewidth": 0,
              "ticks": ""
             }
            },
            "type": "scattergl"
           }
          ],
          "scattermapbox": [
           {
            "marker": {
             "colorbar": {
              "outlinewidth": 0,
              "ticks": ""
             }
            },
            "type": "scattermapbox"
           }
          ],
          "scatterpolar": [
           {
            "marker": {
             "colorbar": {
              "outlinewidth": 0,
              "ticks": ""
             }
            },
            "type": "scatterpolar"
           }
          ],
          "scatterpolargl": [
           {
            "marker": {
             "colorbar": {
              "outlinewidth": 0,
              "ticks": ""
             }
            },
            "type": "scatterpolargl"
           }
          ],
          "scatterternary": [
           {
            "marker": {
             "colorbar": {
              "outlinewidth": 0,
              "ticks": ""
             }
            },
            "type": "scatterternary"
           }
          ],
          "surface": [
           {
            "colorbar": {
             "outlinewidth": 0,
             "ticks": ""
            },
            "colorscale": [
             [
              0,
              "#0d0887"
             ],
             [
              0.1111111111111111,
              "#46039f"
             ],
             [
              0.2222222222222222,
              "#7201a8"
             ],
             [
              0.3333333333333333,
              "#9c179e"
             ],
             [
              0.4444444444444444,
              "#bd3786"
             ],
             [
              0.5555555555555556,
              "#d8576b"
             ],
             [
              0.6666666666666666,
              "#ed7953"
             ],
             [
              0.7777777777777778,
              "#fb9f3a"
             ],
             [
              0.8888888888888888,
              "#fdca26"
             ],
             [
              1,
              "#f0f921"
             ]
            ],
            "type": "surface"
           }
          ],
          "table": [
           {
            "cells": {
             "fill": {
              "color": "#EBF0F8"
             },
             "line": {
              "color": "white"
             }
            },
            "header": {
             "fill": {
              "color": "#C8D4E3"
             },
             "line": {
              "color": "white"
             }
            },
            "type": "table"
           }
          ]
         },
         "layout": {
          "annotationdefaults": {
           "arrowcolor": "#2a3f5f",
           "arrowhead": 0,
           "arrowwidth": 1
          },
          "autotypenumbers": "strict",
          "coloraxis": {
           "colorbar": {
            "outlinewidth": 0,
            "ticks": ""
           }
          },
          "colorscale": {
           "diverging": [
            [
             0,
             "#8e0152"
            ],
            [
             0.1,
             "#c51b7d"
            ],
            [
             0.2,
             "#de77ae"
            ],
            [
             0.3,
             "#f1b6da"
            ],
            [
             0.4,
             "#fde0ef"
            ],
            [
             0.5,
             "#f7f7f7"
            ],
            [
             0.6,
             "#e6f5d0"
            ],
            [
             0.7,
             "#b8e186"
            ],
            [
             0.8,
             "#7fbc41"
            ],
            [
             0.9,
             "#4d9221"
            ],
            [
             1,
             "#276419"
            ]
           ],
           "sequential": [
            [
             0,
             "#0d0887"
            ],
            [
             0.1111111111111111,
             "#46039f"
            ],
            [
             0.2222222222222222,
             "#7201a8"
            ],
            [
             0.3333333333333333,
             "#9c179e"
            ],
            [
             0.4444444444444444,
             "#bd3786"
            ],
            [
             0.5555555555555556,
             "#d8576b"
            ],
            [
             0.6666666666666666,
             "#ed7953"
            ],
            [
             0.7777777777777778,
             "#fb9f3a"
            ],
            [
             0.8888888888888888,
             "#fdca26"
            ],
            [
             1,
             "#f0f921"
            ]
           ],
           "sequentialminus": [
            [
             0,
             "#0d0887"
            ],
            [
             0.1111111111111111,
             "#46039f"
            ],
            [
             0.2222222222222222,
             "#7201a8"
            ],
            [
             0.3333333333333333,
             "#9c179e"
            ],
            [
             0.4444444444444444,
             "#bd3786"
            ],
            [
             0.5555555555555556,
             "#d8576b"
            ],
            [
             0.6666666666666666,
             "#ed7953"
            ],
            [
             0.7777777777777778,
             "#fb9f3a"
            ],
            [
             0.8888888888888888,
             "#fdca26"
            ],
            [
             1,
             "#f0f921"
            ]
           ]
          },
          "colorway": [
           "#636efa",
           "#EF553B",
           "#00cc96",
           "#ab63fa",
           "#FFA15A",
           "#19d3f3",
           "#FF6692",
           "#B6E880",
           "#FF97FF",
           "#FECB52"
          ],
          "font": {
           "color": "#2a3f5f"
          },
          "geo": {
           "bgcolor": "white",
           "lakecolor": "white",
           "landcolor": "#E5ECF6",
           "showlakes": true,
           "showland": true,
           "subunitcolor": "white"
          },
          "hoverlabel": {
           "align": "left"
          },
          "hovermode": "closest",
          "mapbox": {
           "style": "light"
          },
          "paper_bgcolor": "white",
          "plot_bgcolor": "#E5ECF6",
          "polar": {
           "angularaxis": {
            "gridcolor": "white",
            "linecolor": "white",
            "ticks": ""
           },
           "bgcolor": "#E5ECF6",
           "radialaxis": {
            "gridcolor": "white",
            "linecolor": "white",
            "ticks": ""
           }
          },
          "scene": {
           "xaxis": {
            "backgroundcolor": "#E5ECF6",
            "gridcolor": "white",
            "gridwidth": 2,
            "linecolor": "white",
            "showbackground": true,
            "ticks": "",
            "zerolinecolor": "white"
           },
           "yaxis": {
            "backgroundcolor": "#E5ECF6",
            "gridcolor": "white",
            "gridwidth": 2,
            "linecolor": "white",
            "showbackground": true,
            "ticks": "",
            "zerolinecolor": "white"
           },
           "zaxis": {
            "backgroundcolor": "#E5ECF6",
            "gridcolor": "white",
            "gridwidth": 2,
            "linecolor": "white",
            "showbackground": true,
            "ticks": "",
            "zerolinecolor": "white"
           }
          },
          "shapedefaults": {
           "line": {
            "color": "#2a3f5f"
           }
          },
          "ternary": {
           "aaxis": {
            "gridcolor": "white",
            "linecolor": "white",
            "ticks": ""
           },
           "baxis": {
            "gridcolor": "white",
            "linecolor": "white",
            "ticks": ""
           },
           "bgcolor": "#E5ECF6",
           "caxis": {
            "gridcolor": "white",
            "linecolor": "white",
            "ticks": ""
           }
          },
          "title": {
           "x": 0.05
          },
          "xaxis": {
           "automargin": true,
           "gridcolor": "white",
           "linecolor": "white",
           "ticks": "",
           "title": {
            "standoff": 15
           },
           "zerolinecolor": "white",
           "zerolinewidth": 2
          },
          "yaxis": {
           "automargin": true,
           "gridcolor": "white",
           "linecolor": "white",
           "ticks": "",
           "title": {
            "standoff": 15
           },
           "zerolinecolor": "white",
           "zerolinewidth": 2
          }
         }
        },
        "width": 700,
        "xaxis": {
         "anchor": "y",
         "domain": [
          0,
          1
         ],
         "dtick": 0.05,
         "fixedrange": true,
         "gridcolor": "black",
         "linecolor": "black",
         "range": [
          0,
          0.4
         ],
         "showgrid": false
        },
        "xaxis2": {
         "anchor": "y2",
         "domain": [
          0,
          1
         ],
         "type": "category"
        },
        "yaxis": {
         "anchor": "x",
         "color": "black",
         "domain": [
          0.9400000000000001,
          1
         ],
         "fixedrange": true,
         "showgrid": false,
         "showline": false,
         "showticklabels": false,
         "zeroline": false
        },
        "yaxis2": {
         "anchor": "x2",
         "domain": [
          0,
          0.54
         ],
         "fixedrange": true,
         "range": [
          0,
          1
         ],
         "title": {
          "text": "Percentage"
         }
        }
       }
      }
     },
     "metadata": {},
     "output_type": "display_data"
    },
    {
     "data": {
      "text/html": []
     },
     "metadata": {},
     "output_type": "display_data"
    }
   ],
   "source": [
    "check = TrainTestLabelDrift()\n",
    "result = check.run(train_dataset=train_dataset, test_dataset=test_dataset)\n",
    "result"
   ]
  },
  {
   "cell_type": "markdown",
   "id": "571f4128-0797-4bd5-818a-754f638a4001",
   "metadata": {},
   "source": [
    "## Generate data - Regression label"
   ]
  },
  {
   "cell_type": "code",
   "execution_count": 5,
   "id": "68cd92db-334a-4566-a8e4-79f0ba629ea3",
   "metadata": {
    "execution": {
     "iopub.execute_input": "2022-01-26T12:56:37.070831Z",
     "iopub.status.busy": "2022-01-26T12:56:37.070083Z",
     "iopub.status.idle": "2022-01-26T12:56:37.077066Z",
     "shell.execute_reply": "2022-01-26T12:56:37.077494Z"
    }
   },
   "outputs": [],
   "source": [
    "train_data = np.concatenate([np.random.randn(1000,2), np.random.randn(1000, 1)], axis=1)\n",
    "test_data = np.concatenate([np.random.randn(1000,2), np.random.randn(1000, 1)], axis=1)\n",
    "\n",
    "df_train = pd.DataFrame(train_data, columns=['col1', 'col2', 'target'])\n",
    "df_test = pd.DataFrame(test_data, columns=['col1', 'col2', 'target'])\n",
    "#Create drift in test:\n",
    "df_test['target'] = df_test['target'].astype('float') + abs(np.random.randn(1000)) + np.arange(0, 1, 0.001) * 4\n",
    "\n",
    "train_dataset = Dataset(df_train, label='target')\n",
    "test_dataset = Dataset(df_test, label='target')"
   ]
  },
  {
   "cell_type": "markdown",
   "id": "5d8590ad-adf5-4b7a-86ec-bfdc7d4bd4a1",
   "metadata": {},
   "source": [
    "## Run check"
   ]
  },
  {
   "cell_type": "code",
   "execution_count": 6,
   "id": "bd59c95a-9d52-4dd6-8e1a-71d5858b9107",
   "metadata": {
    "execution": {
     "iopub.execute_input": "2022-01-26T12:56:37.082283Z",
     "iopub.status.busy": "2022-01-26T12:56:37.081581Z",
     "iopub.status.idle": "2022-01-26T12:56:37.146427Z",
     "shell.execute_reply": "2022-01-26T12:56:37.146896Z"
    },
    "tags": []
   },
   "outputs": [
    {
     "data": {
      "text/html": [
       "<h4>Train Test Label Drift</h4><p>    Calculate label drift between train dataset and test dataset, using statistical measures. <a href=\"https://docs.deepchecks.com/en/0.3.2/examples/checks/distribution/train_test_label_drift.html?utm_source=display_output&utm_medium=referral&utm_campaign=check_link\" target=\"_blank\">Read More...</a></p><h5>Additional Outputs</h5><div><span>\n",
       "            The Drift score is a measure for the difference between two distributions, in this check - the test\n",
       "            and train distributions.<br> The check shows the drift score and distributions for the label.\n",
       "        </span></div>"
      ]
     },
     "metadata": {},
     "output_type": "display_data"
    },
    {
     "data": {
      "application/vnd.plotly.v1+json": {
       "config": {
        "plotlyServerURL": "https://plot.ly"
       },
       "data": [
        {
         "base": 0,
         "marker": {
          "color": "#01B8AA"
         },
         "offsetgroup": "0",
         "orientation": "h",
         "showlegend": false,
         "type": "bar",
         "x": [
          0.1
         ],
         "xaxis": "x",
         "y": [
          "Drift Score"
         ],
         "yaxis": "y"
        },
        {
         "base": 0.1,
         "marker": {
          "color": "#F2C80F"
         },
         "offsetgroup": "0",
         "orientation": "h",
         "showlegend": false,
         "type": "bar",
         "x": [
          0.1
         ],
         "xaxis": "x",
         "y": [
          "Drift Score"
         ],
         "yaxis": "y"
        },
        {
         "base": 0.2,
         "marker": {
          "color": "#FE9666"
         },
         "offsetgroup": "0",
         "orientation": "h",
         "showlegend": false,
         "type": "bar",
         "x": [
          0.04906886350109255
         ],
         "xaxis": "x",
         "y": [
          "Drift Score"
         ],
         "yaxis": "y"
        },
        {
         "fill": "tozeroy",
         "line": {
          "color": "darkblue"
         },
         "name": "Train Dataset",
         "type": "scatter",
         "x": [
          -3.8366555484593694,
          -3.6136633143665278,
          -3.390671080273686,
          -3.167678846180844,
          -2.9446866120880024,
          -2.721694377995161,
          -2.498702143902319,
          -2.2757099098094775,
          -2.052717675716636,
          -2.0154957879325015,
          -1.8297254416237938,
          -1.7573191927337106,
          -1.6067332075309522,
          -1.5079858391380412,
          -1.3837409734381105,
          -1.3737993700118158,
          -1.2936204157331892,
          -1.160748739345269,
          -1.1017050718960306,
          -1.0162179396143776,
          -0.9422171893198493,
          -0.9377565052524273,
          -0.8815285758542276,
          -0.8247786643987229,
          -0.753708703930426,
          -0.7147642711595852,
          -0.6983063102062619,
          -0.6301550372859965,
          -0.5625908407390323,
          -0.5093848487469232,
          -0.49177203706674355,
          -0.4593344186407941,
          -0.40608195337643843,
          -0.40221151054245013,
          -0.35687820801974063,
          -0.30195188324645716,
          -0.2687798029739019,
          -0.24687701811431184,
          -0.19133822083730959,
          -0.1430982564173031,
          -0.07666023985759184,
          -0.04578756888106028,
          -0.03275415097538754,
          0.00829279842229001,
          0.06308332928230351,
          0.0793366567728292,
          0.11073782453039907,
          0.1531885047634438,
          0.1772046652117818,
          0.20912883230332432,
          0.2556376606624578,
          0.3206017449663188,
          0.325608023553433,
          0.38392579702797125,
          0.40019689930462343,
          0.43568276463822087,
          0.5135671952716253,
          0.5234251370089297,
          0.5847424664270581,
          0.6231891333974651,
          0.6339878749378605,
          0.666111687138429,
          0.7037116042485788,
          0.7578033209062757,
          0.793205652965877,
          0.8162444393684637,
          0.8461813674903067,
          0.8740111992762755,
          0.8921280871700494,
          0.9630109254907077,
          0.9945296500683324,
          1.031814373302669,
          1.0691736015831483,
          1.1331989215391407,
          1.15462312152686,
          1.2098829831730138,
          1.29216583567599,
          1.312170573510556,
          1.3465454436519164,
          1.4039278560503081,
          1.4692605989393297,
          1.5151580697688316,
          1.5407932145346155,
          1.6165059847915069,
          1.6235182111129554,
          1.7256853319104586,
          1.7381503038616732,
          1.9029201197029109,
          1.903556610080984,
          1.9611425379545149,
          1.9947584050806524,
          2.0690418660345467,
          2.181830193358111,
          2.1841347720473574,
          2.206531711807826,
          2.256628935688292,
          2.352463302502057,
          2.407127006140199,
          2.45097597107804,
          2.5181722098064148,
          2.590808062542269,
          2.6301192402330407,
          2.6678952381368792,
          2.75542667526316,
          2.8531114743258823,
          2.8548382061085,
          2.917834177991385,
          3.000957391588424,
          3.076103708418724,
          3.077326817731658,
          3.167118576266104,
          3.2657496057024216,
          3.2990959425115656,
          3.364073326981081,
          3.457327508975707,
          3.522088176604407,
          3.556760566844124,
          3.663295960520623,
          3.739188681509803,
          3.745080410697249,
          3.82756441756616,
          3.8856556325737848,
          3.9680726447900905,
          3.9836177338252483,
          4.091590183241931,
          4.1779952778636105,
          4.191064878882933,
          4.307881183533949,
          4.414057112975774,
          4.428614014790453,
          4.637049347068617,
          4.672671540091647,
          4.84818480698163,
          4.8600415811614575,
          5.0830338152543,
          5.097692206906452,
          5.306026049347141,
          5.406915292020084,
          5.529018283439983,
          5.653743199856343,
          5.752010517532826,
          5.9750027516256665,
          6.102075567643536,
          6.197994985718509,
          6.42098721981135,
          6.643979453904192,
          6.866971687997033,
          7.089963922089876
         ],
         "xaxis": "x2",
         "y": [
          0.004023454858223693,
          0.004989433964169263,
          0.005041305577376586,
          0.0055266385400985175,
          0.005939969637139975,
          0.007684393785560969,
          0.015123981035873969,
          0.03042647968678752,
          0.05209206673923862,
          0.05604880079653711,
          0.07670739585475157,
          0.08546565243726674,
          0.10606938830190218,
          0.12168549667128774,
          0.14406454664728255,
          0.1460129511846183,
          0.16278841509775746,
          0.19536281585789791,
          0.21166282411364204,
          0.23642186193707615,
          0.2579140129480206,
          0.25918641301881495,
          0.27482032974233855,
          0.2896084007280518,
          0.3063844163498786,
          0.31469309938742657,
          0.3180153431158076,
          0.33061172559060004,
          0.3413598137411008,
          0.34871037577275504,
          0.3509428731371618,
          0.3548078507432436,
          0.3605000950873007,
          0.3608838301488138,
          0.3650936027440897,
          0.3695276661887033,
          0.37186884102898166,
          0.37327727346791045,
          0.3763432333782739,
          0.3783667280423066,
          0.3800026353989164,
          0.3802309512841092,
          0.3802140301881043,
          0.37968803075047003,
          0.3777896999917105,
          0.37695258750645244,
          0.3749788660624882,
          0.3715863818010403,
          0.369322081893183,
          0.36596658964420553,
          0.360485292198038,
          0.3520204399214811,
          0.3513441896691151,
          0.3433792881121142,
          0.3411569412558779,
          0.3363575210621415,
          0.3261798627300137,
          0.32492810885696555,
          0.31725649637430153,
          0.31246029013080767,
          0.3111004495652271,
          0.3069911156563333,
          0.3020003278081647,
          0.29431906995144724,
          0.2888857203419011,
          0.2851541966021801,
          0.2800629852849645,
          0.2750808035144267,
          0.2717096871116991,
          0.2576154531246762,
          0.25094087575133983,
          0.24278842526675876,
          0.23440473284829397,
          0.2197357312033036,
          0.21478897313874976,
          0.2020458833707093,
          0.1833280282039795,
          0.17884657369044765,
          0.17121605230231915,
          0.15867647897104306,
          0.14470407053227755,
          0.1351062454771269,
          0.12984185736064738,
          0.11484141731123655,
          0.11350386222480557,
          0.09539451796346009,
          0.09339229635710619,
          0.07189030624804227,
          0.07182455605817262,
          0.06632548871887364,
          0.06346465228785296,
          0.057746506802585675,
          0.0497494503219949,
          0.04958838720975414,
          0.04802462269191694,
          0.04454323408617575,
          0.03809767899194874,
          0.0346893933923999,
          0.03215673777772714,
          0.028652519203318936,
          0.025325418085229676,
          0.023674123275849366,
          0.02215199444962745,
          0.018748303123623064,
          0.015026191260114716,
          0.014961238323927185,
          0.012636029171667229,
          0.009795804369512839,
          0.007584986742788952,
          0.007552377120048224,
          0.005473640246508913,
          0.0038665075167391037,
          0.003455482966091731,
          0.0027963301008551663,
          0.0020714042508654254,
          0.001658418550036332,
          0.0014576781413491572,
          0.0009193916791449639,
          0.000614565663040919,
          0.0005939015941286147,
          0.0003509142384652945,
          0.00022925517695175703,
          0.00011552706753203043,
          0.00010041855941471408,
          0.0000344313813796296,
          0.000012925710513417387,
          0.000011038884773736989,
          0.000002407511390923906,
          5.058651817192386e-7,
          4.0314483777745567e-7,
          1.1054543929565791e-8,
          5.603272745563969e-9,
          1.4940525500755114e-10,
          1.1503455880409233e-10,
          5.698206184804409e-13,
          3.9166932114336743e-13,
          1.343470198608311e-15,
          6.815755271284148e-17,
          1.5076014293594047e-18,
          2.4417714164832883e-20,
          8.052125792832311e-22,
          2.0469121848356284e-25,
          1.31329322405552e-27,
          2.4765795639781963e-29,
          1.4261647780359824e-33,
          3.9088720768581103e-38,
          5.09914701968597e-43,
          3.165978295222534e-48
         ],
         "yaxis": "y2"
        },
        {
         "fill": "tozeroy",
         "line": {
          "color": "#69b3a2"
         },
         "name": "Test Dataset",
         "type": "scatter",
         "x": [
          -3.8366555484593694,
          -3.6136633143665278,
          -3.390671080273686,
          -3.167678846180844,
          -2.9446866120880024,
          -2.721694377995161,
          -2.498702143902319,
          -2.2757099098094775,
          -2.052717675716636,
          -2.0154957879325015,
          -1.8297254416237938,
          -1.7573191927337106,
          -1.6067332075309522,
          -1.5079858391380412,
          -1.3837409734381105,
          -1.3737993700118158,
          -1.2936204157331892,
          -1.160748739345269,
          -1.1017050718960306,
          -1.0162179396143776,
          -0.9422171893198493,
          -0.9377565052524273,
          -0.8815285758542276,
          -0.8247786643987229,
          -0.753708703930426,
          -0.7147642711595852,
          -0.6983063102062619,
          -0.6301550372859965,
          -0.5625908407390323,
          -0.5093848487469232,
          -0.49177203706674355,
          -0.4593344186407941,
          -0.40608195337643843,
          -0.40221151054245013,
          -0.35687820801974063,
          -0.30195188324645716,
          -0.2687798029739019,
          -0.24687701811431184,
          -0.19133822083730959,
          -0.1430982564173031,
          -0.07666023985759184,
          -0.04578756888106028,
          -0.03275415097538754,
          0.00829279842229001,
          0.06308332928230351,
          0.0793366567728292,
          0.11073782453039907,
          0.1531885047634438,
          0.1772046652117818,
          0.20912883230332432,
          0.2556376606624578,
          0.3206017449663188,
          0.325608023553433,
          0.38392579702797125,
          0.40019689930462343,
          0.43568276463822087,
          0.5135671952716253,
          0.5234251370089297,
          0.5847424664270581,
          0.6231891333974651,
          0.6339878749378605,
          0.666111687138429,
          0.7037116042485788,
          0.7578033209062757,
          0.793205652965877,
          0.8162444393684637,
          0.8461813674903067,
          0.8740111992762755,
          0.8921280871700494,
          0.9630109254907077,
          0.9945296500683324,
          1.031814373302669,
          1.0691736015831483,
          1.1331989215391407,
          1.15462312152686,
          1.2098829831730138,
          1.29216583567599,
          1.312170573510556,
          1.3465454436519164,
          1.4039278560503081,
          1.4692605989393297,
          1.5151580697688316,
          1.5407932145346155,
          1.6165059847915069,
          1.6235182111129554,
          1.7256853319104586,
          1.7381503038616732,
          1.9029201197029109,
          1.903556610080984,
          1.9611425379545149,
          1.9947584050806524,
          2.0690418660345467,
          2.181830193358111,
          2.1841347720473574,
          2.206531711807826,
          2.256628935688292,
          2.352463302502057,
          2.407127006140199,
          2.45097597107804,
          2.5181722098064148,
          2.590808062542269,
          2.6301192402330407,
          2.6678952381368792,
          2.75542667526316,
          2.8531114743258823,
          2.8548382061085,
          2.917834177991385,
          3.000957391588424,
          3.076103708418724,
          3.077326817731658,
          3.167118576266104,
          3.2657496057024216,
          3.2990959425115656,
          3.364073326981081,
          3.457327508975707,
          3.522088176604407,
          3.556760566844124,
          3.663295960520623,
          3.739188681509803,
          3.745080410697249,
          3.82756441756616,
          3.8856556325737848,
          3.9680726447900905,
          3.9836177338252483,
          4.091590183241931,
          4.1779952778636105,
          4.191064878882933,
          4.307881183533949,
          4.414057112975774,
          4.428614014790453,
          4.637049347068617,
          4.672671540091647,
          4.84818480698163,
          4.8600415811614575,
          5.0830338152543,
          5.097692206906452,
          5.306026049347141,
          5.406915292020084,
          5.529018283439983,
          5.653743199856343,
          5.752010517532826,
          5.9750027516256665,
          6.102075567643536,
          6.197994985718509,
          6.42098721981135,
          6.643979453904192,
          6.866971687997033,
          7.089963922089876
         ],
         "xaxis": "x2",
         "y": [
          0.000004065060008973476,
          0.00002202658512942546,
          0.00008924627343810374,
          0.000272784224745629,
          0.0006385777070939214,
          0.0011743216666732462,
          0.0017666893592255502,
          0.002311915752855716,
          0.0028710398867265218,
          0.002983682243540359,
          0.0037534790429948088,
          0.004194286885825091,
          0.00548394455590954,
          0.006657905219313214,
          0.008535036031345816,
          0.008704022300981024,
          0.010160346793197309,
          0.012886483400888148,
          0.01419450132390514,
          0.016167543934538845,
          0.01794411878638952,
          0.018053355958226065,
          0.01945466493617722,
          0.020924204295256106,
          0.02287220501118718,
          0.024006901260354336,
          0.02450383909589007,
          0.026693100098051484,
          0.029116785359399776,
          0.0312418787223061,
          0.03199275891747871,
          0.03344229194190743,
          0.036021900968281,
          0.03621956533826158,
          0.03864235969036067,
          0.041853645759064,
          0.043944829362615054,
          0.045389476137964416,
          0.049282487512747115,
          0.05293096625963061,
          0.058353360953516856,
          0.06102392935122492,
          0.06217890425861325,
          0.06591867546335468,
          0.07113613881220246,
          0.07272913490066513,
          0.07585950960296169,
          0.08018948082553547,
          0.08268157025027957,
          0.08603251210365262,
          0.09097114222646069,
          0.09791807937263537,
          0.098453118314383,
          0.10465040268106758,
          0.1063612457195472,
          0.11005103882656256,
          0.11787545047636248,
          0.1188323933473708,
          0.1245807917262878,
          0.12798721612553313,
          0.1289143871006724,
          0.1315926745245301,
          0.13457181559577455,
          0.13855789488502107,
          0.1409766598422235,
          0.14247210624822096,
          0.1443260253701779,
          0.14596289921344252,
          0.14698590365183695,
          0.15069617661162116,
          0.15221414826071963,
          0.15392220182013377,
          0.15555276315447697,
          0.15820081315294393,
          0.15905542804884754,
          0.1612102458851595,
          0.16434616252069356,
          0.1651046592559588,
          0.1664107339369375,
          0.16861163581781966,
          0.17117560671338397,
          0.17303227952121003,
          0.17409482242348626,
          0.17736663988550305,
          0.17768128843874303,
          0.18253756844048283,
          0.18316853234829697,
          0.19239637598563727,
          0.1924352275891458,
          0.1960428848414138,
          0.1982255846209819,
          0.2031987621906897,
          0.21089805775151768,
          0.21105411731807858,
          0.2125629584153854,
          0.21586738243616865,
          0.22175201208306247,
          0.22474233733113472,
          0.226899463298889,
          0.22972974144702463,
          0.23207917684441481,
          0.23302737046536492,
          0.23372198576734435,
          0.23453294495742869,
          0.2342237927298198,
          0.23420802929351897,
          0.233421194252688,
          0.23185533197217695,
          0.2300821159146125,
          0.23005134254763246,
          0.2276989613378327,
          0.22505146196168305,
          0.22416822712617615,
          0.2224706986043417,
          0.22003079127895048,
          0.21823744508619253,
          0.21720331690610575,
          0.21346808375714868,
          0.21005370484548086,
          0.20975546758143648,
          0.20500176392678737,
          0.20094989917821485,
          0.1941400868275848,
          0.1927164911066984,
          0.1816968869658654,
          0.17167349226005585,
          0.17008624881664935,
          0.15540405799792037,
          0.14189120732667776,
          0.1400699000163187,
          0.11608493771386053,
          0.11250222633380157,
          0.09737695115272849,
          0.09650205984792617,
          0.08288714944233021,
          0.08214655699476263,
          0.07280822223219591,
          0.0686936759045994,
          0.06370701008641162,
          0.05842123975627955,
          0.05408735344906287,
          0.04399173958652686,
          0.03838879171739839,
          0.03437478864590914,
          0.026038703237693302,
          0.01918885358002081,
          0.013564176617145055,
          0.008843306410340633
         ],
         "yaxis": "y2"
        }
       ],
       "layout": {
        "annotations": [
         {
          "font": {
           "size": 16
          },
          "showarrow": false,
          "text": "Drift Score - Earth Mover's Distance",
          "x": 0.5,
          "xanchor": "center",
          "xref": "paper",
          "y": 1,
          "yanchor": "bottom",
          "yref": "paper"
         },
         {
          "font": {
           "size": 16
          },
          "showarrow": false,
          "text": "target",
          "x": 0.5,
          "xanchor": "center",
          "xref": "paper",
          "y": 0.54,
          "yanchor": "bottom",
          "yref": "paper"
         }
        ],
        "height": 400,
        "legend": {
         "title": {
          "text": "Dataset"
         },
         "y": 0.6,
         "yanchor": "top"
        },
        "template": {
         "data": {
          "bar": [
           {
            "error_x": {
             "color": "#2a3f5f"
            },
            "error_y": {
             "color": "#2a3f5f"
            },
            "marker": {
             "line": {
              "color": "#E5ECF6",
              "width": 0.5
             },
             "pattern": {
              "fillmode": "overlay",
              "size": 10,
              "solidity": 0.2
             }
            },
            "type": "bar"
           }
          ],
          "barpolar": [
           {
            "marker": {
             "line": {
              "color": "#E5ECF6",
              "width": 0.5
             },
             "pattern": {
              "fillmode": "overlay",
              "size": 10,
              "solidity": 0.2
             }
            },
            "type": "barpolar"
           }
          ],
          "carpet": [
           {
            "aaxis": {
             "endlinecolor": "#2a3f5f",
             "gridcolor": "white",
             "linecolor": "white",
             "minorgridcolor": "white",
             "startlinecolor": "#2a3f5f"
            },
            "baxis": {
             "endlinecolor": "#2a3f5f",
             "gridcolor": "white",
             "linecolor": "white",
             "minorgridcolor": "white",
             "startlinecolor": "#2a3f5f"
            },
            "type": "carpet"
           }
          ],
          "choropleth": [
           {
            "colorbar": {
             "outlinewidth": 0,
             "ticks": ""
            },
            "type": "choropleth"
           }
          ],
          "contour": [
           {
            "colorbar": {
             "outlinewidth": 0,
             "ticks": ""
            },
            "colorscale": [
             [
              0,
              "#0d0887"
             ],
             [
              0.1111111111111111,
              "#46039f"
             ],
             [
              0.2222222222222222,
              "#7201a8"
             ],
             [
              0.3333333333333333,
              "#9c179e"
             ],
             [
              0.4444444444444444,
              "#bd3786"
             ],
             [
              0.5555555555555556,
              "#d8576b"
             ],
             [
              0.6666666666666666,
              "#ed7953"
             ],
             [
              0.7777777777777778,
              "#fb9f3a"
             ],
             [
              0.8888888888888888,
              "#fdca26"
             ],
             [
              1,
              "#f0f921"
             ]
            ],
            "type": "contour"
           }
          ],
          "contourcarpet": [
           {
            "colorbar": {
             "outlinewidth": 0,
             "ticks": ""
            },
            "type": "contourcarpet"
           }
          ],
          "heatmap": [
           {
            "colorbar": {
             "outlinewidth": 0,
             "ticks": ""
            },
            "colorscale": [
             [
              0,
              "#0d0887"
             ],
             [
              0.1111111111111111,
              "#46039f"
             ],
             [
              0.2222222222222222,
              "#7201a8"
             ],
             [
              0.3333333333333333,
              "#9c179e"
             ],
             [
              0.4444444444444444,
              "#bd3786"
             ],
             [
              0.5555555555555556,
              "#d8576b"
             ],
             [
              0.6666666666666666,
              "#ed7953"
             ],
             [
              0.7777777777777778,
              "#fb9f3a"
             ],
             [
              0.8888888888888888,
              "#fdca26"
             ],
             [
              1,
              "#f0f921"
             ]
            ],
            "type": "heatmap"
           }
          ],
          "heatmapgl": [
           {
            "colorbar": {
             "outlinewidth": 0,
             "ticks": ""
            },
            "colorscale": [
             [
              0,
              "#0d0887"
             ],
             [
              0.1111111111111111,
              "#46039f"
             ],
             [
              0.2222222222222222,
              "#7201a8"
             ],
             [
              0.3333333333333333,
              "#9c179e"
             ],
             [
              0.4444444444444444,
              "#bd3786"
             ],
             [
              0.5555555555555556,
              "#d8576b"
             ],
             [
              0.6666666666666666,
              "#ed7953"
             ],
             [
              0.7777777777777778,
              "#fb9f3a"
             ],
             [
              0.8888888888888888,
              "#fdca26"
             ],
             [
              1,
              "#f0f921"
             ]
            ],
            "type": "heatmapgl"
           }
          ],
          "histogram": [
           {
            "marker": {
             "pattern": {
              "fillmode": "overlay",
              "size": 10,
              "solidity": 0.2
             }
            },
            "type": "histogram"
           }
          ],
          "histogram2d": [
           {
            "colorbar": {
             "outlinewidth": 0,
             "ticks": ""
            },
            "colorscale": [
             [
              0,
              "#0d0887"
             ],
             [
              0.1111111111111111,
              "#46039f"
             ],
             [
              0.2222222222222222,
              "#7201a8"
             ],
             [
              0.3333333333333333,
              "#9c179e"
             ],
             [
              0.4444444444444444,
              "#bd3786"
             ],
             [
              0.5555555555555556,
              "#d8576b"
             ],
             [
              0.6666666666666666,
              "#ed7953"
             ],
             [
              0.7777777777777778,
              "#fb9f3a"
             ],
             [
              0.8888888888888888,
              "#fdca26"
             ],
             [
              1,
              "#f0f921"
             ]
            ],
            "type": "histogram2d"
           }
          ],
          "histogram2dcontour": [
           {
            "colorbar": {
             "outlinewidth": 0,
             "ticks": ""
            },
            "colorscale": [
             [
              0,
              "#0d0887"
             ],
             [
              0.1111111111111111,
              "#46039f"
             ],
             [
              0.2222222222222222,
              "#7201a8"
             ],
             [
              0.3333333333333333,
              "#9c179e"
             ],
             [
              0.4444444444444444,
              "#bd3786"
             ],
             [
              0.5555555555555556,
              "#d8576b"
             ],
             [
              0.6666666666666666,
              "#ed7953"
             ],
             [
              0.7777777777777778,
              "#fb9f3a"
             ],
             [
              0.8888888888888888,
              "#fdca26"
             ],
             [
              1,
              "#f0f921"
             ]
            ],
            "type": "histogram2dcontour"
           }
          ],
          "mesh3d": [
           {
            "colorbar": {
             "outlinewidth": 0,
             "ticks": ""
            },
            "type": "mesh3d"
           }
          ],
          "parcoords": [
           {
            "line": {
             "colorbar": {
              "outlinewidth": 0,
              "ticks": ""
             }
            },
            "type": "parcoords"
           }
          ],
          "pie": [
           {
            "automargin": true,
            "type": "pie"
           }
          ],
          "scatter": [
           {
            "marker": {
             "colorbar": {
              "outlinewidth": 0,
              "ticks": ""
             }
            },
            "type": "scatter"
           }
          ],
          "scatter3d": [
           {
            "line": {
             "colorbar": {
              "outlinewidth": 0,
              "ticks": ""
             }
            },
            "marker": {
             "colorbar": {
              "outlinewidth": 0,
              "ticks": ""
             }
            },
            "type": "scatter3d"
           }
          ],
          "scattercarpet": [
           {
            "marker": {
             "colorbar": {
              "outlinewidth": 0,
              "ticks": ""
             }
            },
            "type": "scattercarpet"
           }
          ],
          "scattergeo": [
           {
            "marker": {
             "colorbar": {
              "outlinewidth": 0,
              "ticks": ""
             }
            },
            "type": "scattergeo"
           }
          ],
          "scattergl": [
           {
            "marker": {
             "colorbar": {
              "outlinewidth": 0,
              "ticks": ""
             }
            },
            "type": "scattergl"
           }
          ],
          "scattermapbox": [
           {
            "marker": {
             "colorbar": {
              "outlinewidth": 0,
              "ticks": ""
             }
            },
            "type": "scattermapbox"
           }
          ],
          "scatterpolar": [
           {
            "marker": {
             "colorbar": {
              "outlinewidth": 0,
              "ticks": ""
             }
            },
            "type": "scatterpolar"
           }
          ],
          "scatterpolargl": [
           {
            "marker": {
             "colorbar": {
              "outlinewidth": 0,
              "ticks": ""
             }
            },
            "type": "scatterpolargl"
           }
          ],
          "scatterternary": [
           {
            "marker": {
             "colorbar": {
              "outlinewidth": 0,
              "ticks": ""
             }
            },
            "type": "scatterternary"
           }
          ],
          "surface": [
           {
            "colorbar": {
             "outlinewidth": 0,
             "ticks": ""
            },
            "colorscale": [
             [
              0,
              "#0d0887"
             ],
             [
              0.1111111111111111,
              "#46039f"
             ],
             [
              0.2222222222222222,
              "#7201a8"
             ],
             [
              0.3333333333333333,
              "#9c179e"
             ],
             [
              0.4444444444444444,
              "#bd3786"
             ],
             [
              0.5555555555555556,
              "#d8576b"
             ],
             [
              0.6666666666666666,
              "#ed7953"
             ],
             [
              0.7777777777777778,
              "#fb9f3a"
             ],
             [
              0.8888888888888888,
              "#fdca26"
             ],
             [
              1,
              "#f0f921"
             ]
            ],
            "type": "surface"
           }
          ],
          "table": [
           {
            "cells": {
             "fill": {
              "color": "#EBF0F8"
             },
             "line": {
              "color": "white"
             }
            },
            "header": {
             "fill": {
              "color": "#C8D4E3"
             },
             "line": {
              "color": "white"
             }
            },
            "type": "table"
           }
          ]
         },
         "layout": {
          "annotationdefaults": {
           "arrowcolor": "#2a3f5f",
           "arrowhead": 0,
           "arrowwidth": 1
          },
          "autotypenumbers": "strict",
          "coloraxis": {
           "colorbar": {
            "outlinewidth": 0,
            "ticks": ""
           }
          },
          "colorscale": {
           "diverging": [
            [
             0,
             "#8e0152"
            ],
            [
             0.1,
             "#c51b7d"
            ],
            [
             0.2,
             "#de77ae"
            ],
            [
             0.3,
             "#f1b6da"
            ],
            [
             0.4,
             "#fde0ef"
            ],
            [
             0.5,
             "#f7f7f7"
            ],
            [
             0.6,
             "#e6f5d0"
            ],
            [
             0.7,
             "#b8e186"
            ],
            [
             0.8,
             "#7fbc41"
            ],
            [
             0.9,
             "#4d9221"
            ],
            [
             1,
             "#276419"
            ]
           ],
           "sequential": [
            [
             0,
             "#0d0887"
            ],
            [
             0.1111111111111111,
             "#46039f"
            ],
            [
             0.2222222222222222,
             "#7201a8"
            ],
            [
             0.3333333333333333,
             "#9c179e"
            ],
            [
             0.4444444444444444,
             "#bd3786"
            ],
            [
             0.5555555555555556,
             "#d8576b"
            ],
            [
             0.6666666666666666,
             "#ed7953"
            ],
            [
             0.7777777777777778,
             "#fb9f3a"
            ],
            [
             0.8888888888888888,
             "#fdca26"
            ],
            [
             1,
             "#f0f921"
            ]
           ],
           "sequentialminus": [
            [
             0,
             "#0d0887"
            ],
            [
             0.1111111111111111,
             "#46039f"
            ],
            [
             0.2222222222222222,
             "#7201a8"
            ],
            [
             0.3333333333333333,
             "#9c179e"
            ],
            [
             0.4444444444444444,
             "#bd3786"
            ],
            [
             0.5555555555555556,
             "#d8576b"
            ],
            [
             0.6666666666666666,
             "#ed7953"
            ],
            [
             0.7777777777777778,
             "#fb9f3a"
            ],
            [
             0.8888888888888888,
             "#fdca26"
            ],
            [
             1,
             "#f0f921"
            ]
           ]
          },
          "colorway": [
           "#636efa",
           "#EF553B",
           "#00cc96",
           "#ab63fa",
           "#FFA15A",
           "#19d3f3",
           "#FF6692",
           "#B6E880",
           "#FF97FF",
           "#FECB52"
          ],
          "font": {
           "color": "#2a3f5f"
          },
          "geo": {
           "bgcolor": "white",
           "lakecolor": "white",
           "landcolor": "#E5ECF6",
           "showlakes": true,
           "showland": true,
           "subunitcolor": "white"
          },
          "hoverlabel": {
           "align": "left"
          },
          "hovermode": "closest",
          "mapbox": {
           "style": "light"
          },
          "paper_bgcolor": "white",
          "plot_bgcolor": "#E5ECF6",
          "polar": {
           "angularaxis": {
            "gridcolor": "white",
            "linecolor": "white",
            "ticks": ""
           },
           "bgcolor": "#E5ECF6",
           "radialaxis": {
            "gridcolor": "white",
            "linecolor": "white",
            "ticks": ""
           }
          },
          "scene": {
           "xaxis": {
            "backgroundcolor": "#E5ECF6",
            "gridcolor": "white",
            "gridwidth": 2,
            "linecolor": "white",
            "showbackground": true,
            "ticks": "",
            "zerolinecolor": "white"
           },
           "yaxis": {
            "backgroundcolor": "#E5ECF6",
            "gridcolor": "white",
            "gridwidth": 2,
            "linecolor": "white",
            "showbackground": true,
            "ticks": "",
            "zerolinecolor": "white"
           },
           "zaxis": {
            "backgroundcolor": "#E5ECF6",
            "gridcolor": "white",
            "gridwidth": 2,
            "linecolor": "white",
            "showbackground": true,
            "ticks": "",
            "zerolinecolor": "white"
           }
          },
          "shapedefaults": {
           "line": {
            "color": "#2a3f5f"
           }
          },
          "ternary": {
           "aaxis": {
            "gridcolor": "white",
            "linecolor": "white",
            "ticks": ""
           },
           "baxis": {
            "gridcolor": "white",
            "linecolor": "white",
            "ticks": ""
           },
           "bgcolor": "#E5ECF6",
           "caxis": {
            "gridcolor": "white",
            "linecolor": "white",
            "ticks": ""
           }
          },
          "title": {
           "x": 0.05
          },
          "xaxis": {
           "automargin": true,
           "gridcolor": "white",
           "linecolor": "white",
           "ticks": "",
           "title": {
            "standoff": 15
           },
           "zerolinecolor": "white",
           "zerolinewidth": 2
          },
          "yaxis": {
           "automargin": true,
           "gridcolor": "white",
           "linecolor": "white",
           "ticks": "",
           "title": {
            "standoff": 15
           },
           "zerolinecolor": "white",
           "zerolinewidth": 2
          }
         }
        },
        "width": 700,
        "xaxis": {
         "anchor": "y",
         "domain": [
          0,
          1
         ],
         "dtick": 0.05,
         "fixedrange": true,
         "gridcolor": "black",
         "linecolor": "black",
         "range": [
          0,
          0.4
         ],
         "showgrid": false
        },
        "xaxis2": {
         "anchor": "y2",
         "domain": [
          0,
          1
         ],
         "fixedrange": false,
         "range": [
          -2.0154957879325015,
          6.102075567643536
         ],
         "title": {
          "text": "Distribution"
         }
        },
        "yaxis": {
         "anchor": "x",
         "color": "black",
         "domain": [
          0.9400000000000001,
          1
         ],
         "fixedrange": true,
         "showgrid": false,
         "showline": false,
         "showticklabels": false,
         "zeroline": false
        },
        "yaxis2": {
         "anchor": "x2",
         "domain": [
          0,
          0.54
         ],
         "fixedrange": true,
         "title": {
          "text": "Probability Density"
         }
        }
       }
      }
     },
     "metadata": {},
     "output_type": "display_data"
    },
    {
     "data": {
      "text/html": []
     },
     "metadata": {},
     "output_type": "display_data"
    }
   ],
   "source": [
    "check = TrainTestLabelDrift()\n",
    "result = check.run(train_dataset=train_dataset, test_dataset=test_dataset)\n",
    "result"
   ]
  },
  {
   "cell_type": "markdown",
   "id": "b173f926",
   "metadata": {
    "execution": {
     "iopub.execute_input": "2021-12-29T00:53:36.852121Z",
     "iopub.status.busy": "2021-12-29T00:53:36.851304Z",
     "iopub.status.idle": "2021-12-29T00:53:36.871889Z",
     "shell.execute_reply": "2021-12-29T00:53:36.872274Z"
    }
   },
   "source": [
    "### Add condition"
   ]
  },
  {
   "cell_type": "code",
   "execution_count": 7,
   "id": "b20899b1-61d6-4e01-b883-7b8537bb9edf",
   "metadata": {
    "execution": {
     "iopub.execute_input": "2022-01-26T12:56:37.151341Z",
     "iopub.status.busy": "2022-01-26T12:56:37.150776Z",
     "iopub.status.idle": "2022-01-26T12:56:37.215391Z",
     "shell.execute_reply": "2022-01-26T12:56:37.215804Z"
    },
    "tags": []
   },
   "outputs": [
    {
     "data": {
      "text/html": [
       "<h4>Train Test Label Drift</h4><p>    Calculate label drift between train dataset and test dataset, using statistical measures. <a href=\"https://docs.deepchecks.com/en/0.3.2/examples/checks/distribution/train_test_label_drift.html?utm_source=display_output&utm_medium=referral&utm_campaign=check_link\" target=\"_blank\">Read More...</a></p><h5>Conditions Summary</h5><style type=\"text/css\">\n",
       "#T_2c995_ table {\n",
       "  text-align: left;\n",
       "  white-space: pre-wrap;\n",
       "}\n",
       "#T_2c995_ thead {\n",
       "  text-align: left;\n",
       "  white-space: pre-wrap;\n",
       "}\n",
       "#T_2c995_ tbody {\n",
       "  text-align: left;\n",
       "  white-space: pre-wrap;\n",
       "}\n",
       "#T_2c995_ th {\n",
       "  text-align: left;\n",
       "  white-space: pre-wrap;\n",
       "}\n",
       "#T_2c995_ td {\n",
       "  text-align: left;\n",
       "  white-space: pre-wrap;\n",
       "}\n",
       "</style>\n",
       "<table id=\"T_2c995_\">\n",
       "  <thead>\n",
       "    <tr>\n",
       "      <th class=\"col_heading level0 col0\" >Status</th>\n",
       "      <th class=\"col_heading level0 col1\" >Condition</th>\n",
       "      <th class=\"col_heading level0 col2\" >More Info</th>\n",
       "    </tr>\n",
       "  </thead>\n",
       "  <tbody>\n",
       "    <tr>\n",
       "      <td id=\"T_2c995_row0_col0\" class=\"data row0 col0\" ><div style=\"color: red;text-align: center\">✖</div></td>\n",
       "      <td id=\"T_2c995_row0_col1\" class=\"data row0 col1\" >PSI <= 0.2 and Earth Mover's Distance <= 0.1 for label drift</td>\n",
       "      <td id=\"T_2c995_row0_col2\" class=\"data row0 col2\" >Label's Earth Mover's Distance above threshold: 0.25</td>\n",
       "    </tr>\n",
       "  </tbody>\n",
       "</table>\n",
       "<h5>Additional Outputs</h5><div><span>\n",
       "            The Drift score is a measure for the difference between two distributions, in this check - the test\n",
       "            and train distributions.<br> The check shows the drift score and distributions for the label.\n",
       "        </span></div>"
      ]
     },
     "metadata": {},
     "output_type": "display_data"
    },
    {
     "data": {
      "application/vnd.plotly.v1+json": {
       "config": {
        "plotlyServerURL": "https://plot.ly"
       },
       "data": [
        {
         "base": 0,
         "marker": {
          "color": "#01B8AA"
         },
         "offsetgroup": "0",
         "orientation": "h",
         "showlegend": false,
         "type": "bar",
         "x": [
          0.1
         ],
         "xaxis": "x",
         "y": [
          "Drift Score"
         ],
         "yaxis": "y"
        },
        {
         "base": 0.1,
         "marker": {
          "color": "#F2C80F"
         },
         "offsetgroup": "0",
         "orientation": "h",
         "showlegend": false,
         "type": "bar",
         "x": [
          0.1
         ],
         "xaxis": "x",
         "y": [
          "Drift Score"
         ],
         "yaxis": "y"
        },
        {
         "base": 0.2,
         "marker": {
          "color": "#FE9666"
         },
         "offsetgroup": "0",
         "orientation": "h",
         "showlegend": false,
         "type": "bar",
         "x": [
          0.04906886350109255
         ],
         "xaxis": "x",
         "y": [
          "Drift Score"
         ],
         "yaxis": "y"
        },
        {
         "fill": "tozeroy",
         "line": {
          "color": "darkblue"
         },
         "name": "Train Dataset",
         "type": "scatter",
         "x": [
          -3.8366555484593694,
          -3.6136633143665278,
          -3.390671080273686,
          -3.167678846180844,
          -2.9446866120880024,
          -2.721694377995161,
          -2.498702143902319,
          -2.2757099098094775,
          -2.052717675716636,
          -2.0154957879325015,
          -1.8297254416237938,
          -1.7573191927337106,
          -1.6067332075309522,
          -1.5079858391380412,
          -1.3837409734381105,
          -1.3737993700118158,
          -1.2936204157331892,
          -1.160748739345269,
          -1.1017050718960306,
          -1.0162179396143776,
          -0.9422171893198493,
          -0.9377565052524273,
          -0.8815285758542276,
          -0.8247786643987229,
          -0.753708703930426,
          -0.7147642711595852,
          -0.6983063102062619,
          -0.6301550372859965,
          -0.5625908407390323,
          -0.5093848487469232,
          -0.49177203706674355,
          -0.4593344186407941,
          -0.40608195337643843,
          -0.40221151054245013,
          -0.35687820801974063,
          -0.30195188324645716,
          -0.2687798029739019,
          -0.24687701811431184,
          -0.19133822083730959,
          -0.1430982564173031,
          -0.07666023985759184,
          -0.04578756888106028,
          -0.03275415097538754,
          0.00829279842229001,
          0.06308332928230351,
          0.0793366567728292,
          0.11073782453039907,
          0.1531885047634438,
          0.1772046652117818,
          0.20912883230332432,
          0.2556376606624578,
          0.3206017449663188,
          0.325608023553433,
          0.38392579702797125,
          0.40019689930462343,
          0.43568276463822087,
          0.5135671952716253,
          0.5234251370089297,
          0.5847424664270581,
          0.6231891333974651,
          0.6339878749378605,
          0.666111687138429,
          0.7037116042485788,
          0.7578033209062757,
          0.793205652965877,
          0.8162444393684637,
          0.8461813674903067,
          0.8740111992762755,
          0.8921280871700494,
          0.9630109254907077,
          0.9945296500683324,
          1.031814373302669,
          1.0691736015831483,
          1.1331989215391407,
          1.15462312152686,
          1.2098829831730138,
          1.29216583567599,
          1.312170573510556,
          1.3465454436519164,
          1.4039278560503081,
          1.4692605989393297,
          1.5151580697688316,
          1.5407932145346155,
          1.6165059847915069,
          1.6235182111129554,
          1.7256853319104586,
          1.7381503038616732,
          1.9029201197029109,
          1.903556610080984,
          1.9611425379545149,
          1.9947584050806524,
          2.0690418660345467,
          2.181830193358111,
          2.1841347720473574,
          2.206531711807826,
          2.256628935688292,
          2.352463302502057,
          2.407127006140199,
          2.45097597107804,
          2.5181722098064148,
          2.590808062542269,
          2.6301192402330407,
          2.6678952381368792,
          2.75542667526316,
          2.8531114743258823,
          2.8548382061085,
          2.917834177991385,
          3.000957391588424,
          3.076103708418724,
          3.077326817731658,
          3.167118576266104,
          3.2657496057024216,
          3.2990959425115656,
          3.364073326981081,
          3.457327508975707,
          3.522088176604407,
          3.556760566844124,
          3.663295960520623,
          3.739188681509803,
          3.745080410697249,
          3.82756441756616,
          3.8856556325737848,
          3.9680726447900905,
          3.9836177338252483,
          4.091590183241931,
          4.1779952778636105,
          4.191064878882933,
          4.307881183533949,
          4.414057112975774,
          4.428614014790453,
          4.637049347068617,
          4.672671540091647,
          4.84818480698163,
          4.8600415811614575,
          5.0830338152543,
          5.097692206906452,
          5.306026049347141,
          5.406915292020084,
          5.529018283439983,
          5.653743199856343,
          5.752010517532826,
          5.9750027516256665,
          6.102075567643536,
          6.197994985718509,
          6.42098721981135,
          6.643979453904192,
          6.866971687997033,
          7.089963922089876
         ],
         "xaxis": "x2",
         "y": [
          0.004023454858223693,
          0.004989433964169263,
          0.005041305577376586,
          0.0055266385400985175,
          0.005939969637139975,
          0.007684393785560969,
          0.015123981035873969,
          0.03042647968678752,
          0.05209206673923862,
          0.05604880079653711,
          0.07670739585475157,
          0.08546565243726674,
          0.10606938830190218,
          0.12168549667128774,
          0.14406454664728255,
          0.1460129511846183,
          0.16278841509775746,
          0.19536281585789791,
          0.21166282411364204,
          0.23642186193707615,
          0.2579140129480206,
          0.25918641301881495,
          0.27482032974233855,
          0.2896084007280518,
          0.3063844163498786,
          0.31469309938742657,
          0.3180153431158076,
          0.33061172559060004,
          0.3413598137411008,
          0.34871037577275504,
          0.3509428731371618,
          0.3548078507432436,
          0.3605000950873007,
          0.3608838301488138,
          0.3650936027440897,
          0.3695276661887033,
          0.37186884102898166,
          0.37327727346791045,
          0.3763432333782739,
          0.3783667280423066,
          0.3800026353989164,
          0.3802309512841092,
          0.3802140301881043,
          0.37968803075047003,
          0.3777896999917105,
          0.37695258750645244,
          0.3749788660624882,
          0.3715863818010403,
          0.369322081893183,
          0.36596658964420553,
          0.360485292198038,
          0.3520204399214811,
          0.3513441896691151,
          0.3433792881121142,
          0.3411569412558779,
          0.3363575210621415,
          0.3261798627300137,
          0.32492810885696555,
          0.31725649637430153,
          0.31246029013080767,
          0.3111004495652271,
          0.3069911156563333,
          0.3020003278081647,
          0.29431906995144724,
          0.2888857203419011,
          0.2851541966021801,
          0.2800629852849645,
          0.2750808035144267,
          0.2717096871116991,
          0.2576154531246762,
          0.25094087575133983,
          0.24278842526675876,
          0.23440473284829397,
          0.2197357312033036,
          0.21478897313874976,
          0.2020458833707093,
          0.1833280282039795,
          0.17884657369044765,
          0.17121605230231915,
          0.15867647897104306,
          0.14470407053227755,
          0.1351062454771269,
          0.12984185736064738,
          0.11484141731123655,
          0.11350386222480557,
          0.09539451796346009,
          0.09339229635710619,
          0.07189030624804227,
          0.07182455605817262,
          0.06632548871887364,
          0.06346465228785296,
          0.057746506802585675,
          0.0497494503219949,
          0.04958838720975414,
          0.04802462269191694,
          0.04454323408617575,
          0.03809767899194874,
          0.0346893933923999,
          0.03215673777772714,
          0.028652519203318936,
          0.025325418085229676,
          0.023674123275849366,
          0.02215199444962745,
          0.018748303123623064,
          0.015026191260114716,
          0.014961238323927185,
          0.012636029171667229,
          0.009795804369512839,
          0.007584986742788952,
          0.007552377120048224,
          0.005473640246508913,
          0.0038665075167391037,
          0.003455482966091731,
          0.0027963301008551663,
          0.0020714042508654254,
          0.001658418550036332,
          0.0014576781413491572,
          0.0009193916791449639,
          0.000614565663040919,
          0.0005939015941286147,
          0.0003509142384652945,
          0.00022925517695175703,
          0.00011552706753203043,
          0.00010041855941471408,
          0.0000344313813796296,
          0.000012925710513417387,
          0.000011038884773736989,
          0.000002407511390923906,
          5.058651817192386e-7,
          4.0314483777745567e-7,
          1.1054543929565791e-8,
          5.603272745563969e-9,
          1.4940525500755114e-10,
          1.1503455880409233e-10,
          5.698206184804409e-13,
          3.9166932114336743e-13,
          1.343470198608311e-15,
          6.815755271284148e-17,
          1.5076014293594047e-18,
          2.4417714164832883e-20,
          8.052125792832311e-22,
          2.0469121848356284e-25,
          1.31329322405552e-27,
          2.4765795639781963e-29,
          1.4261647780359824e-33,
          3.9088720768581103e-38,
          5.09914701968597e-43,
          3.165978295222534e-48
         ],
         "yaxis": "y2"
        },
        {
         "fill": "tozeroy",
         "line": {
          "color": "#69b3a2"
         },
         "name": "Test Dataset",
         "type": "scatter",
         "x": [
          -3.8366555484593694,
          -3.6136633143665278,
          -3.390671080273686,
          -3.167678846180844,
          -2.9446866120880024,
          -2.721694377995161,
          -2.498702143902319,
          -2.2757099098094775,
          -2.052717675716636,
          -2.0154957879325015,
          -1.8297254416237938,
          -1.7573191927337106,
          -1.6067332075309522,
          -1.5079858391380412,
          -1.3837409734381105,
          -1.3737993700118158,
          -1.2936204157331892,
          -1.160748739345269,
          -1.1017050718960306,
          -1.0162179396143776,
          -0.9422171893198493,
          -0.9377565052524273,
          -0.8815285758542276,
          -0.8247786643987229,
          -0.753708703930426,
          -0.7147642711595852,
          -0.6983063102062619,
          -0.6301550372859965,
          -0.5625908407390323,
          -0.5093848487469232,
          -0.49177203706674355,
          -0.4593344186407941,
          -0.40608195337643843,
          -0.40221151054245013,
          -0.35687820801974063,
          -0.30195188324645716,
          -0.2687798029739019,
          -0.24687701811431184,
          -0.19133822083730959,
          -0.1430982564173031,
          -0.07666023985759184,
          -0.04578756888106028,
          -0.03275415097538754,
          0.00829279842229001,
          0.06308332928230351,
          0.0793366567728292,
          0.11073782453039907,
          0.1531885047634438,
          0.1772046652117818,
          0.20912883230332432,
          0.2556376606624578,
          0.3206017449663188,
          0.325608023553433,
          0.38392579702797125,
          0.40019689930462343,
          0.43568276463822087,
          0.5135671952716253,
          0.5234251370089297,
          0.5847424664270581,
          0.6231891333974651,
          0.6339878749378605,
          0.666111687138429,
          0.7037116042485788,
          0.7578033209062757,
          0.793205652965877,
          0.8162444393684637,
          0.8461813674903067,
          0.8740111992762755,
          0.8921280871700494,
          0.9630109254907077,
          0.9945296500683324,
          1.031814373302669,
          1.0691736015831483,
          1.1331989215391407,
          1.15462312152686,
          1.2098829831730138,
          1.29216583567599,
          1.312170573510556,
          1.3465454436519164,
          1.4039278560503081,
          1.4692605989393297,
          1.5151580697688316,
          1.5407932145346155,
          1.6165059847915069,
          1.6235182111129554,
          1.7256853319104586,
          1.7381503038616732,
          1.9029201197029109,
          1.903556610080984,
          1.9611425379545149,
          1.9947584050806524,
          2.0690418660345467,
          2.181830193358111,
          2.1841347720473574,
          2.206531711807826,
          2.256628935688292,
          2.352463302502057,
          2.407127006140199,
          2.45097597107804,
          2.5181722098064148,
          2.590808062542269,
          2.6301192402330407,
          2.6678952381368792,
          2.75542667526316,
          2.8531114743258823,
          2.8548382061085,
          2.917834177991385,
          3.000957391588424,
          3.076103708418724,
          3.077326817731658,
          3.167118576266104,
          3.2657496057024216,
          3.2990959425115656,
          3.364073326981081,
          3.457327508975707,
          3.522088176604407,
          3.556760566844124,
          3.663295960520623,
          3.739188681509803,
          3.745080410697249,
          3.82756441756616,
          3.8856556325737848,
          3.9680726447900905,
          3.9836177338252483,
          4.091590183241931,
          4.1779952778636105,
          4.191064878882933,
          4.307881183533949,
          4.414057112975774,
          4.428614014790453,
          4.637049347068617,
          4.672671540091647,
          4.84818480698163,
          4.8600415811614575,
          5.0830338152543,
          5.097692206906452,
          5.306026049347141,
          5.406915292020084,
          5.529018283439983,
          5.653743199856343,
          5.752010517532826,
          5.9750027516256665,
          6.102075567643536,
          6.197994985718509,
          6.42098721981135,
          6.643979453904192,
          6.866971687997033,
          7.089963922089876
         ],
         "xaxis": "x2",
         "y": [
          0.000004065060008973476,
          0.00002202658512942546,
          0.00008924627343810374,
          0.000272784224745629,
          0.0006385777070939214,
          0.0011743216666732462,
          0.0017666893592255502,
          0.002311915752855716,
          0.0028710398867265218,
          0.002983682243540359,
          0.0037534790429948088,
          0.004194286885825091,
          0.00548394455590954,
          0.006657905219313214,
          0.008535036031345816,
          0.008704022300981024,
          0.010160346793197309,
          0.012886483400888148,
          0.01419450132390514,
          0.016167543934538845,
          0.01794411878638952,
          0.018053355958226065,
          0.01945466493617722,
          0.020924204295256106,
          0.02287220501118718,
          0.024006901260354336,
          0.02450383909589007,
          0.026693100098051484,
          0.029116785359399776,
          0.0312418787223061,
          0.03199275891747871,
          0.03344229194190743,
          0.036021900968281,
          0.03621956533826158,
          0.03864235969036067,
          0.041853645759064,
          0.043944829362615054,
          0.045389476137964416,
          0.049282487512747115,
          0.05293096625963061,
          0.058353360953516856,
          0.06102392935122492,
          0.06217890425861325,
          0.06591867546335468,
          0.07113613881220246,
          0.07272913490066513,
          0.07585950960296169,
          0.08018948082553547,
          0.08268157025027957,
          0.08603251210365262,
          0.09097114222646069,
          0.09791807937263537,
          0.098453118314383,
          0.10465040268106758,
          0.1063612457195472,
          0.11005103882656256,
          0.11787545047636248,
          0.1188323933473708,
          0.1245807917262878,
          0.12798721612553313,
          0.1289143871006724,
          0.1315926745245301,
          0.13457181559577455,
          0.13855789488502107,
          0.1409766598422235,
          0.14247210624822096,
          0.1443260253701779,
          0.14596289921344252,
          0.14698590365183695,
          0.15069617661162116,
          0.15221414826071963,
          0.15392220182013377,
          0.15555276315447697,
          0.15820081315294393,
          0.15905542804884754,
          0.1612102458851595,
          0.16434616252069356,
          0.1651046592559588,
          0.1664107339369375,
          0.16861163581781966,
          0.17117560671338397,
          0.17303227952121003,
          0.17409482242348626,
          0.17736663988550305,
          0.17768128843874303,
          0.18253756844048283,
          0.18316853234829697,
          0.19239637598563727,
          0.1924352275891458,
          0.1960428848414138,
          0.1982255846209819,
          0.2031987621906897,
          0.21089805775151768,
          0.21105411731807858,
          0.2125629584153854,
          0.21586738243616865,
          0.22175201208306247,
          0.22474233733113472,
          0.226899463298889,
          0.22972974144702463,
          0.23207917684441481,
          0.23302737046536492,
          0.23372198576734435,
          0.23453294495742869,
          0.2342237927298198,
          0.23420802929351897,
          0.233421194252688,
          0.23185533197217695,
          0.2300821159146125,
          0.23005134254763246,
          0.2276989613378327,
          0.22505146196168305,
          0.22416822712617615,
          0.2224706986043417,
          0.22003079127895048,
          0.21823744508619253,
          0.21720331690610575,
          0.21346808375714868,
          0.21005370484548086,
          0.20975546758143648,
          0.20500176392678737,
          0.20094989917821485,
          0.1941400868275848,
          0.1927164911066984,
          0.1816968869658654,
          0.17167349226005585,
          0.17008624881664935,
          0.15540405799792037,
          0.14189120732667776,
          0.1400699000163187,
          0.11608493771386053,
          0.11250222633380157,
          0.09737695115272849,
          0.09650205984792617,
          0.08288714944233021,
          0.08214655699476263,
          0.07280822223219591,
          0.0686936759045994,
          0.06370701008641162,
          0.05842123975627955,
          0.05408735344906287,
          0.04399173958652686,
          0.03838879171739839,
          0.03437478864590914,
          0.026038703237693302,
          0.01918885358002081,
          0.013564176617145055,
          0.008843306410340633
         ],
         "yaxis": "y2"
        }
       ],
       "layout": {
        "annotations": [
         {
          "font": {
           "size": 16
          },
          "showarrow": false,
          "text": "Drift Score - Earth Mover's Distance",
          "x": 0.5,
          "xanchor": "center",
          "xref": "paper",
          "y": 1,
          "yanchor": "bottom",
          "yref": "paper"
         },
         {
          "font": {
           "size": 16
          },
          "showarrow": false,
          "text": "target",
          "x": 0.5,
          "xanchor": "center",
          "xref": "paper",
          "y": 0.54,
          "yanchor": "bottom",
          "yref": "paper"
         }
        ],
        "height": 400,
        "legend": {
         "title": {
          "text": "Dataset"
         },
         "y": 0.6,
         "yanchor": "top"
        },
        "template": {
         "data": {
          "bar": [
           {
            "error_x": {
             "color": "#2a3f5f"
            },
            "error_y": {
             "color": "#2a3f5f"
            },
            "marker": {
             "line": {
              "color": "#E5ECF6",
              "width": 0.5
             },
             "pattern": {
              "fillmode": "overlay",
              "size": 10,
              "solidity": 0.2
             }
            },
            "type": "bar"
           }
          ],
          "barpolar": [
           {
            "marker": {
             "line": {
              "color": "#E5ECF6",
              "width": 0.5
             },
             "pattern": {
              "fillmode": "overlay",
              "size": 10,
              "solidity": 0.2
             }
            },
            "type": "barpolar"
           }
          ],
          "carpet": [
           {
            "aaxis": {
             "endlinecolor": "#2a3f5f",
             "gridcolor": "white",
             "linecolor": "white",
             "minorgridcolor": "white",
             "startlinecolor": "#2a3f5f"
            },
            "baxis": {
             "endlinecolor": "#2a3f5f",
             "gridcolor": "white",
             "linecolor": "white",
             "minorgridcolor": "white",
             "startlinecolor": "#2a3f5f"
            },
            "type": "carpet"
           }
          ],
          "choropleth": [
           {
            "colorbar": {
             "outlinewidth": 0,
             "ticks": ""
            },
            "type": "choropleth"
           }
          ],
          "contour": [
           {
            "colorbar": {
             "outlinewidth": 0,
             "ticks": ""
            },
            "colorscale": [
             [
              0,
              "#0d0887"
             ],
             [
              0.1111111111111111,
              "#46039f"
             ],
             [
              0.2222222222222222,
              "#7201a8"
             ],
             [
              0.3333333333333333,
              "#9c179e"
             ],
             [
              0.4444444444444444,
              "#bd3786"
             ],
             [
              0.5555555555555556,
              "#d8576b"
             ],
             [
              0.6666666666666666,
              "#ed7953"
             ],
             [
              0.7777777777777778,
              "#fb9f3a"
             ],
             [
              0.8888888888888888,
              "#fdca26"
             ],
             [
              1,
              "#f0f921"
             ]
            ],
            "type": "contour"
           }
          ],
          "contourcarpet": [
           {
            "colorbar": {
             "outlinewidth": 0,
             "ticks": ""
            },
            "type": "contourcarpet"
           }
          ],
          "heatmap": [
           {
            "colorbar": {
             "outlinewidth": 0,
             "ticks": ""
            },
            "colorscale": [
             [
              0,
              "#0d0887"
             ],
             [
              0.1111111111111111,
              "#46039f"
             ],
             [
              0.2222222222222222,
              "#7201a8"
             ],
             [
              0.3333333333333333,
              "#9c179e"
             ],
             [
              0.4444444444444444,
              "#bd3786"
             ],
             [
              0.5555555555555556,
              "#d8576b"
             ],
             [
              0.6666666666666666,
              "#ed7953"
             ],
             [
              0.7777777777777778,
              "#fb9f3a"
             ],
             [
              0.8888888888888888,
              "#fdca26"
             ],
             [
              1,
              "#f0f921"
             ]
            ],
            "type": "heatmap"
           }
          ],
          "heatmapgl": [
           {
            "colorbar": {
             "outlinewidth": 0,
             "ticks": ""
            },
            "colorscale": [
             [
              0,
              "#0d0887"
             ],
             [
              0.1111111111111111,
              "#46039f"
             ],
             [
              0.2222222222222222,
              "#7201a8"
             ],
             [
              0.3333333333333333,
              "#9c179e"
             ],
             [
              0.4444444444444444,
              "#bd3786"
             ],
             [
              0.5555555555555556,
              "#d8576b"
             ],
             [
              0.6666666666666666,
              "#ed7953"
             ],
             [
              0.7777777777777778,
              "#fb9f3a"
             ],
             [
              0.8888888888888888,
              "#fdca26"
             ],
             [
              1,
              "#f0f921"
             ]
            ],
            "type": "heatmapgl"
           }
          ],
          "histogram": [
           {
            "marker": {
             "pattern": {
              "fillmode": "overlay",
              "size": 10,
              "solidity": 0.2
             }
            },
            "type": "histogram"
           }
          ],
          "histogram2d": [
           {
            "colorbar": {
             "outlinewidth": 0,
             "ticks": ""
            },
            "colorscale": [
             [
              0,
              "#0d0887"
             ],
             [
              0.1111111111111111,
              "#46039f"
             ],
             [
              0.2222222222222222,
              "#7201a8"
             ],
             [
              0.3333333333333333,
              "#9c179e"
             ],
             [
              0.4444444444444444,
              "#bd3786"
             ],
             [
              0.5555555555555556,
              "#d8576b"
             ],
             [
              0.6666666666666666,
              "#ed7953"
             ],
             [
              0.7777777777777778,
              "#fb9f3a"
             ],
             [
              0.8888888888888888,
              "#fdca26"
             ],
             [
              1,
              "#f0f921"
             ]
            ],
            "type": "histogram2d"
           }
          ],
          "histogram2dcontour": [
           {
            "colorbar": {
             "outlinewidth": 0,
             "ticks": ""
            },
            "colorscale": [
             [
              0,
              "#0d0887"
             ],
             [
              0.1111111111111111,
              "#46039f"
             ],
             [
              0.2222222222222222,
              "#7201a8"
             ],
             [
              0.3333333333333333,
              "#9c179e"
             ],
             [
              0.4444444444444444,
              "#bd3786"
             ],
             [
              0.5555555555555556,
              "#d8576b"
             ],
             [
              0.6666666666666666,
              "#ed7953"
             ],
             [
              0.7777777777777778,
              "#fb9f3a"
             ],
             [
              0.8888888888888888,
              "#fdca26"
             ],
             [
              1,
              "#f0f921"
             ]
            ],
            "type": "histogram2dcontour"
           }
          ],
          "mesh3d": [
           {
            "colorbar": {
             "outlinewidth": 0,
             "ticks": ""
            },
            "type": "mesh3d"
           }
          ],
          "parcoords": [
           {
            "line": {
             "colorbar": {
              "outlinewidth": 0,
              "ticks": ""
             }
            },
            "type": "parcoords"
           }
          ],
          "pie": [
           {
            "automargin": true,
            "type": "pie"
           }
          ],
          "scatter": [
           {
            "marker": {
             "colorbar": {
              "outlinewidth": 0,
              "ticks": ""
             }
            },
            "type": "scatter"
           }
          ],
          "scatter3d": [
           {
            "line": {
             "colorbar": {
              "outlinewidth": 0,
              "ticks": ""
             }
            },
            "marker": {
             "colorbar": {
              "outlinewidth": 0,
              "ticks": ""
             }
            },
            "type": "scatter3d"
           }
          ],
          "scattercarpet": [
           {
            "marker": {
             "colorbar": {
              "outlinewidth": 0,
              "ticks": ""
             }
            },
            "type": "scattercarpet"
           }
          ],
          "scattergeo": [
           {
            "marker": {
             "colorbar": {
              "outlinewidth": 0,
              "ticks": ""
             }
            },
            "type": "scattergeo"
           }
          ],
          "scattergl": [
           {
            "marker": {
             "colorbar": {
              "outlinewidth": 0,
              "ticks": ""
             }
            },
            "type": "scattergl"
           }
          ],
          "scattermapbox": [
           {
            "marker": {
             "colorbar": {
              "outlinewidth": 0,
              "ticks": ""
             }
            },
            "type": "scattermapbox"
           }
          ],
          "scatterpolar": [
           {
            "marker": {
             "colorbar": {
              "outlinewidth": 0,
              "ticks": ""
             }
            },
            "type": "scatterpolar"
           }
          ],
          "scatterpolargl": [
           {
            "marker": {
             "colorbar": {
              "outlinewidth": 0,
              "ticks": ""
             }
            },
            "type": "scatterpolargl"
           }
          ],
          "scatterternary": [
           {
            "marker": {
             "colorbar": {
              "outlinewidth": 0,
              "ticks": ""
             }
            },
            "type": "scatterternary"
           }
          ],
          "surface": [
           {
            "colorbar": {
             "outlinewidth": 0,
             "ticks": ""
            },
            "colorscale": [
             [
              0,
              "#0d0887"
             ],
             [
              0.1111111111111111,
              "#46039f"
             ],
             [
              0.2222222222222222,
              "#7201a8"
             ],
             [
              0.3333333333333333,
              "#9c179e"
             ],
             [
              0.4444444444444444,
              "#bd3786"
             ],
             [
              0.5555555555555556,
              "#d8576b"
             ],
             [
              0.6666666666666666,
              "#ed7953"
             ],
             [
              0.7777777777777778,
              "#fb9f3a"
             ],
             [
              0.8888888888888888,
              "#fdca26"
             ],
             [
              1,
              "#f0f921"
             ]
            ],
            "type": "surface"
           }
          ],
          "table": [
           {
            "cells": {
             "fill": {
              "color": "#EBF0F8"
             },
             "line": {
              "color": "white"
             }
            },
            "header": {
             "fill": {
              "color": "#C8D4E3"
             },
             "line": {
              "color": "white"
             }
            },
            "type": "table"
           }
          ]
         },
         "layout": {
          "annotationdefaults": {
           "arrowcolor": "#2a3f5f",
           "arrowhead": 0,
           "arrowwidth": 1
          },
          "autotypenumbers": "strict",
          "coloraxis": {
           "colorbar": {
            "outlinewidth": 0,
            "ticks": ""
           }
          },
          "colorscale": {
           "diverging": [
            [
             0,
             "#8e0152"
            ],
            [
             0.1,
             "#c51b7d"
            ],
            [
             0.2,
             "#de77ae"
            ],
            [
             0.3,
             "#f1b6da"
            ],
            [
             0.4,
             "#fde0ef"
            ],
            [
             0.5,
             "#f7f7f7"
            ],
            [
             0.6,
             "#e6f5d0"
            ],
            [
             0.7,
             "#b8e186"
            ],
            [
             0.8,
             "#7fbc41"
            ],
            [
             0.9,
             "#4d9221"
            ],
            [
             1,
             "#276419"
            ]
           ],
           "sequential": [
            [
             0,
             "#0d0887"
            ],
            [
             0.1111111111111111,
             "#46039f"
            ],
            [
             0.2222222222222222,
             "#7201a8"
            ],
            [
             0.3333333333333333,
             "#9c179e"
            ],
            [
             0.4444444444444444,
             "#bd3786"
            ],
            [
             0.5555555555555556,
             "#d8576b"
            ],
            [
             0.6666666666666666,
             "#ed7953"
            ],
            [
             0.7777777777777778,
             "#fb9f3a"
            ],
            [
             0.8888888888888888,
             "#fdca26"
            ],
            [
             1,
             "#f0f921"
            ]
           ],
           "sequentialminus": [
            [
             0,
             "#0d0887"
            ],
            [
             0.1111111111111111,
             "#46039f"
            ],
            [
             0.2222222222222222,
             "#7201a8"
            ],
            [
             0.3333333333333333,
             "#9c179e"
            ],
            [
             0.4444444444444444,
             "#bd3786"
            ],
            [
             0.5555555555555556,
             "#d8576b"
            ],
            [
             0.6666666666666666,
             "#ed7953"
            ],
            [
             0.7777777777777778,
             "#fb9f3a"
            ],
            [
             0.8888888888888888,
             "#fdca26"
            ],
            [
             1,
             "#f0f921"
            ]
           ]
          },
          "colorway": [
           "#636efa",
           "#EF553B",
           "#00cc96",
           "#ab63fa",
           "#FFA15A",
           "#19d3f3",
           "#FF6692",
           "#B6E880",
           "#FF97FF",
           "#FECB52"
          ],
          "font": {
           "color": "#2a3f5f"
          },
          "geo": {
           "bgcolor": "white",
           "lakecolor": "white",
           "landcolor": "#E5ECF6",
           "showlakes": true,
           "showland": true,
           "subunitcolor": "white"
          },
          "hoverlabel": {
           "align": "left"
          },
          "hovermode": "closest",
          "mapbox": {
           "style": "light"
          },
          "paper_bgcolor": "white",
          "plot_bgcolor": "#E5ECF6",
          "polar": {
           "angularaxis": {
            "gridcolor": "white",
            "linecolor": "white",
            "ticks": ""
           },
           "bgcolor": "#E5ECF6",
           "radialaxis": {
            "gridcolor": "white",
            "linecolor": "white",
            "ticks": ""
           }
          },
          "scene": {
           "xaxis": {
            "backgroundcolor": "#E5ECF6",
            "gridcolor": "white",
            "gridwidth": 2,
            "linecolor": "white",
            "showbackground": true,
            "ticks": "",
            "zerolinecolor": "white"
           },
           "yaxis": {
            "backgroundcolor": "#E5ECF6",
            "gridcolor": "white",
            "gridwidth": 2,
            "linecolor": "white",
            "showbackground": true,
            "ticks": "",
            "zerolinecolor": "white"
           },
           "zaxis": {
            "backgroundcolor": "#E5ECF6",
            "gridcolor": "white",
            "gridwidth": 2,
            "linecolor": "white",
            "showbackground": true,
            "ticks": "",
            "zerolinecolor": "white"
           }
          },
          "shapedefaults": {
           "line": {
            "color": "#2a3f5f"
           }
          },
          "ternary": {
           "aaxis": {
            "gridcolor": "white",
            "linecolor": "white",
            "ticks": ""
           },
           "baxis": {
            "gridcolor": "white",
            "linecolor": "white",
            "ticks": ""
           },
           "bgcolor": "#E5ECF6",
           "caxis": {
            "gridcolor": "white",
            "linecolor": "white",
            "ticks": ""
           }
          },
          "title": {
           "x": 0.05
          },
          "xaxis": {
           "automargin": true,
           "gridcolor": "white",
           "linecolor": "white",
           "ticks": "",
           "title": {
            "standoff": 15
           },
           "zerolinecolor": "white",
           "zerolinewidth": 2
          },
          "yaxis": {
           "automargin": true,
           "gridcolor": "white",
           "linecolor": "white",
           "ticks": "",
           "title": {
            "standoff": 15
           },
           "zerolinecolor": "white",
           "zerolinewidth": 2
          }
         }
        },
        "width": 700,
        "xaxis": {
         "anchor": "y",
         "domain": [
          0,
          1
         ],
         "dtick": 0.05,
         "fixedrange": true,
         "gridcolor": "black",
         "linecolor": "black",
         "range": [
          0,
          0.4
         ],
         "showgrid": false
        },
        "xaxis2": {
         "anchor": "y2",
         "domain": [
          0,
          1
         ],
         "fixedrange": false,
         "range": [
          -2.0154957879325015,
          6.102075567643536
         ],
         "title": {
          "text": "Distribution"
         }
        },
        "yaxis": {
         "anchor": "x",
         "color": "black",
         "domain": [
          0.9400000000000001,
          1
         ],
         "fixedrange": true,
         "showgrid": false,
         "showline": false,
         "showticklabels": false,
         "zeroline": false
        },
        "yaxis2": {
         "anchor": "x2",
         "domain": [
          0,
          0.54
         ],
         "fixedrange": true,
         "title": {
          "text": "Probability Density"
         }
        }
       }
      }
     },
     "metadata": {},
     "output_type": "display_data"
    },
    {
     "data": {
      "text/html": []
     },
     "metadata": {},
     "output_type": "display_data"
    }
   ],
   "source": [
    "check_cond = TrainTestLabelDrift().add_condition_drift_score_not_greater_than()\n",
    "check_cond.run(train_dataset=train_dataset, test_dataset=test_dataset)"
   ]
  }
 ],
 "metadata": {
  "kernelspec": {
   "display_name": "Python 3 (ipykernel)",
   "language": "python",
   "name": "python3"
  },
  "language_info": {
   "codemirror_mode": {
    "name": "ipython",
    "version": 3
   },
   "file_extension": ".py",
   "mimetype": "text/x-python",
   "name": "python",
   "nbconvert_exporter": "python",
   "pygments_lexer": "ipython3",
   "version": "3.8.10"
  }
 },
 "nbformat": 4,
 "nbformat_minor": 5
}
