{
 "cells": [
  {
   "cell_type": "code",
   "execution_count": 10,
   "id": "950d644c-49b5-4f73-bb0d-223f11a0d53c",
   "metadata": {},
   "outputs": [],
   "source": [
    "import matplotlib.pyplot as plt\n",
    "import numpy as np\n",
    "\n",
    "def graph():\n",
    "    # Fixing random state for reproducibility\n",
    "    np.random.seed(19680801)\n",
    "\n",
    "\n",
    "    plt.rcdefaults()\n",
    "    fig, ax = plt.subplots()\n",
    "\n",
    "    # Example data\n",
    "    people = ('Tom', 'Dick', 'Harry', 'Slim', 'Jim')\n",
    "    y_pos = np.arange(len(people))\n",
    "    performance = 3 + 10 * np.random.rand(len(people))\n",
    "    error = np.random.rand(len(people))\n",
    "\n",
    "    ax.barh(y_pos, performance, xerr=error, align='center')\n",
    "    ax.set_yticks(y_pos, labels=people)\n",
    "    ax.invert_yaxis()  # labels read top-to-bottom\n",
    "    ax.set_xlabel('Performance')\n",
    "    ax.set_title('How fast do you want to go today?')\n",
    "\n",
    "    plt.show()"
   ]
  },
  {
   "cell_type": "code",
   "execution_count": 18,
   "id": "f34f27a4-f483-45db-9ed1-b82df3fba56c",
   "metadata": {},
   "outputs": [
    {
     "data": {
      "application/vnd.jupyter.widget-view+json": {
       "model_id": "ee67c404ffd44e2b8fc26c4617a4c5fe",
       "version_major": 2,
       "version_minor": 0
      },
      "text/plain": [
       "Output()"
      ]
     },
     "metadata": {},
     "output_type": "display_data"
    }
   ],
   "source": [
    "from IPython.display import display_html, DisplayObject\n",
    "from ipywidgets import HBox, Output\n",
    "from IPython.utils import capture\n",
    "\n",
    "plt_out = Output()\n",
    "with plt_out:\n",
    "    graph()\n",
    "\n",
    "box = HBox()\n",
    "box.children = [plt_out]\n",
    "\n",
    "plt_out"
   ]
  }
 ],
 "metadata": {
  "kernelspec": {
   "display_name": "Python 3 (ipykernel)",
   "language": "python",
   "name": "python3"
  },
  "language_info": {
   "codemirror_mode": {
    "name": "ipython",
    "version": 3
   },
   "file_extension": ".py",
   "mimetype": "text/x-python",
   "name": "python",
   "nbconvert_exporter": "python",
   "pygments_lexer": "ipython3",
   "version": "3.8.2"
  }
 },
 "nbformat": 4,
 "nbformat_minor": 5
}
