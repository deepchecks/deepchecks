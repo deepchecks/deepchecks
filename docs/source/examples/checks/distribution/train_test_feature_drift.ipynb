{
 "cells": [
  {
   "cell_type": "markdown",
   "id": "f3ac696d-42f0-4b82-a13e-f0d2977cd6c8",
   "metadata": {
    "tags": []
   },
   "source": [
    "# Train Test Feature Drift\n",
    "\n",
    "This notebooks provides an overview for using and understanding feature drift check.\n",
    "\n",
    "**Structure:**\n",
    "\n",
    "- [What is a feature drift?](#what_is_feature_drift)\n",
    "- [Generate data & model](#generate_data_model)\n",
    "- [Run the check](#run_check)\n",
    "- [Define a condition](#define_condition)"
   ]
  },
  {
   "cell_type": "markdown",
   "id": "11523c98",
   "metadata": {},
   "source": [
    "## What is a feature drift? <a name='what_is_feature_drift'></a>\n",
    "\n",
    "Data drift is simply a change in the distribution of data over time. It is also one of the top reasons of a machine learning model performance degrades over time.\n",
    "\n",
    "Causes of data drift include:\n",
    "\n",
    "- Upstream process changes, such as a sensor being replaced that changes the units of measurement from inches to centimeters.\n",
    "- Data quality issues, such as a broken sensor always reading 0.\n",
    "- Natural drift in the data, such as mean temperature changing with the seasons.\n",
    "- Change in relation between features, or covariate shift.\n",
    "\n",
    "Feature drift is such drift in a single feature in the dataset.\n",
    "\n",
    "In the context of machine learning, drift between the training set and the test set will likely make the model to be prone to errors. In other words, this means that the model was trained on data that is different from the current test data, thus it will probably make more mistakes predicting the target variable."
   ]
  },
  {
   "cell_type": "markdown",
   "id": "1cc12779",
   "metadata": {},
   "source": [
    "### How deepchecks detects feature drift\n",
    "\n",
    "There are many methods to detect feature drift. Some of them include training a classifier that detects which samples come from a known distribution and defines the drift by the accuracy of this classifier. For more information, refer to the [Whole Dataset Drift check](https://docs.deepchecks.com/en/stable/examples/checks/distribution/whole_dataset_drift.html).\n",
    "\n",
    "Other approaches include statistical methods aim to measure difference between distribution of 2 given sets. We exprimented with various approaches and found that for detecting drift in a single feature, the following 2 methods give the best results:\n",
    "\n",
    "- <a href=\"https://www.lexjansen.com/wuss/2017/47_Final_Paper_PDF.pdf\" target=\"_blank\">Population Stability Index (PSI)</a>\n",
    "- <a href=\"https://en.wikipedia.org/wiki/Wasserstein_metric\" target=\"_blank\">Wasserstein metric (Earth Movers Distance)</a>\n",
    "\n",
    "For numerical features, the check uses the Earth Movers Distance method and for the categorical features it uses the PSI.\n",
    "The check calculates drift between train dataset and test dataset per feature, using these 2 statistical measures.\n"
   ]
  },
  {
   "cell_type": "markdown",
   "id": "f6fbc71a-d8f4-449f-8654-54e8f016d3e8",
   "metadata": {},
   "source": [
    "## Generate data & model <a name='generate_data_model'></a>\n",
    "\n",
    "Let's generate a mock dataset of 2 categorical and 2 numerical features"
   ]
  },
  {
   "cell_type": "code",
   "execution_count": 1,
   "id": "3693b3f5-b3e5-4960-9373-ff5279328aea",
   "metadata": {
    "execution": {
     "iopub.execute_input": "2022-01-26T12:56:28.920765Z",
     "iopub.status.busy": "2022-01-26T12:56:28.919847Z",
     "iopub.status.idle": "2022-01-26T12:56:29.255511Z",
     "shell.execute_reply": "2022-01-26T12:56:29.254822Z"
    }
   },
   "outputs": [],
   "source": [
    "import numpy as np\n",
    "import pandas as pd\n",
    "\n",
    "np.random.seed(42)\n",
    "\n",
    "train_data = np.concatenate([np.random.randn(1000,2), np.random.choice(a=['apple', 'orange', 'banana'], p=[0.5, 0.3, 0.2], size=(1000, 2))], axis=1)\n",
    "test_data = np.concatenate([np.random.randn(1000,2), np.random.choice(a=['apple', 'orange', 'banana'], p=[0.5, 0.3, 0.2], size=(1000, 2))], axis=1)\n",
    "\n",
    "df_train = pd.DataFrame(train_data, columns=['numeric_without_drift', 'numeric_with_drift', 'categorical_without_drift', 'categorical_with_drift'])\n",
    "df_test = pd.DataFrame(test_data, columns=df_train.columns)\n",
    "\n",
    "df_train = df_train.astype({'numeric_without_drift': 'float', 'numeric_with_drift': 'float'})\n",
    "df_test = df_test.astype({'numeric_without_drift': 'float', 'numeric_with_drift': 'float'})"
   ]
  },
  {
   "cell_type": "code",
   "execution_count": 2,
   "id": "fa391638-4c7c-48b8-b1ca-a92a029d96e2",
   "metadata": {
    "execution": {
     "iopub.execute_input": "2022-01-26T12:56:29.264727Z",
     "iopub.status.busy": "2022-01-26T12:56:29.264081Z",
     "iopub.status.idle": "2022-01-26T12:56:29.272357Z",
     "shell.execute_reply": "2022-01-26T12:56:29.272791Z"
    }
   },
   "outputs": [
    {
     "data": {
      "text/html": [
       "<div>\n",
       "<style scoped>\n",
       "    .dataframe tbody tr th:only-of-type {\n",
       "        vertical-align: middle;\n",
       "    }\n",
       "\n",
       "    .dataframe tbody tr th {\n",
       "        vertical-align: top;\n",
       "    }\n",
       "\n",
       "    .dataframe thead th {\n",
       "        text-align: right;\n",
       "    }\n",
       "</style>\n",
       "<table border=\"1\" class=\"dataframe\">\n",
       "  <thead>\n",
       "    <tr style=\"text-align: right;\">\n",
       "      <th></th>\n",
       "      <th>numeric_without_drift</th>\n",
       "      <th>numeric_with_drift</th>\n",
       "      <th>categorical_without_drift</th>\n",
       "      <th>categorical_with_drift</th>\n",
       "    </tr>\n",
       "  </thead>\n",
       "  <tbody>\n",
       "    <tr>\n",
       "      <th>0</th>\n",
       "      <td>0.496714</td>\n",
       "      <td>-0.138264</td>\n",
       "      <td>apple</td>\n",
       "      <td>apple</td>\n",
       "    </tr>\n",
       "    <tr>\n",
       "      <th>1</th>\n",
       "      <td>0.647689</td>\n",
       "      <td>1.523030</td>\n",
       "      <td>apple</td>\n",
       "      <td>apple</td>\n",
       "    </tr>\n",
       "    <tr>\n",
       "      <th>2</th>\n",
       "      <td>-0.234153</td>\n",
       "      <td>-0.234137</td>\n",
       "      <td>banana</td>\n",
       "      <td>banana</td>\n",
       "    </tr>\n",
       "    <tr>\n",
       "      <th>3</th>\n",
       "      <td>1.579213</td>\n",
       "      <td>0.767435</td>\n",
       "      <td>apple</td>\n",
       "      <td>banana</td>\n",
       "    </tr>\n",
       "    <tr>\n",
       "      <th>4</th>\n",
       "      <td>-0.469474</td>\n",
       "      <td>0.542560</td>\n",
       "      <td>orange</td>\n",
       "      <td>apple</td>\n",
       "    </tr>\n",
       "  </tbody>\n",
       "</table>\n",
       "</div>"
      ],
      "text/plain": [
       "   numeric_without_drift  numeric_with_drift categorical_without_drift  \\\n",
       "0               0.496714           -0.138264                     apple   \n",
       "1               0.647689            1.523030                     apple   \n",
       "2              -0.234153           -0.234137                    banana   \n",
       "3               1.579213            0.767435                     apple   \n",
       "4              -0.469474            0.542560                    orange   \n",
       "\n",
       "  categorical_with_drift  \n",
       "0                  apple  \n",
       "1                  apple  \n",
       "2                 banana  \n",
       "3                 banana  \n",
       "4                  apple  "
      ]
     },
     "execution_count": 2,
     "metadata": {},
     "output_type": "execute_result"
    }
   ],
   "source": [
    "df_train.head()"
   ]
  },
  {
   "cell_type": "markdown",
   "id": "3bf42145-4287-4a2e-8630-b8bb4228f07d",
   "metadata": {},
   "source": [
    "### Insert drift into test:\n",
    "\n",
    "Now, we insert a synthetic drift into 2 columns in the dataset"
   ]
  },
  {
   "cell_type": "code",
   "execution_count": 3,
   "id": "80fccd9b-8281-48ec-9170-8933843c50ea",
   "metadata": {
    "execution": {
     "iopub.execute_input": "2022-01-26T12:56:29.278484Z",
     "iopub.status.busy": "2022-01-26T12:56:29.277942Z",
     "iopub.status.idle": "2022-01-26T12:56:29.280423Z",
     "shell.execute_reply": "2022-01-26T12:56:29.280849Z"
    }
   },
   "outputs": [],
   "source": [
    "df_test['numeric_with_drift'] = df_test['numeric_with_drift'].astype('float') + abs(np.random.randn(1000)) + np.arange(0, 1, 0.001) * 4\n",
    "df_test['categorical_with_drift'] = np.random.choice(a=['apple', 'orange', 'banana', 'lemon'], p=[0.5, 0.25, 0.15, 0.1], size=(1000, 1))"
   ]
  },
  {
   "cell_type": "markdown",
   "id": "c3e7a4e6",
   "metadata": {},
   "source": [
    "### Training a model\n",
    "\n",
    "Now, we are building a dummy model (the label is just a random numerical column). We preprocess our synthetic dataset so categorical features are being encoded with an OrdinalEncoder"
   ]
  },
  {
   "cell_type": "code",
   "execution_count": 4,
   "id": "e3b2e30a-4fdf-461e-90ba-a57fa313b237",
   "metadata": {
    "execution": {
     "iopub.execute_input": "2022-01-26T12:56:29.285515Z",
     "iopub.status.busy": "2022-01-26T12:56:29.284796Z",
     "iopub.status.idle": "2022-01-26T12:56:30.712259Z",
     "shell.execute_reply": "2022-01-26T12:56:30.712684Z"
    }
   },
   "outputs": [],
   "source": [
    "from sklearn.compose import ColumnTransformer\n",
    "from sklearn.pipeline import Pipeline\n",
    "from sklearn.preprocessing import OrdinalEncoder\n",
    "from sklearn.tree import DecisionTreeClassifier\n",
    "\n",
    "from deepchecks.tabular import Dataset"
   ]
  },
  {
   "cell_type": "code",
   "execution_count": 5,
   "id": "fc48571d-208e-42c5-b86e-a9166e2df10c",
   "metadata": {
    "execution": {
     "iopub.execute_input": "2022-01-26T12:56:30.717746Z",
     "iopub.status.busy": "2022-01-26T12:56:30.717192Z",
     "iopub.status.idle": "2022-01-26T12:56:30.719116Z",
     "shell.execute_reply": "2022-01-26T12:56:30.719581Z"
    }
   },
   "outputs": [],
   "source": [
    "model = Pipeline([\n",
    "    ('handle_cat', ColumnTransformer(\n",
    "        transformers=[\n",
    "            ('num', 'passthrough',\n",
    "             ['numeric_with_drift', 'numeric_without_drift']),\n",
    "            ('cat',\n",
    "             Pipeline([\n",
    "                 ('encode', OrdinalEncoder(handle_unknown='use_encoded_value', unknown_value=-1)),\n",
    "             ]),\n",
    "             ['categorical_with_drift', 'categorical_without_drift'])\n",
    "        ]\n",
    "    )),\n",
    "    ('model', DecisionTreeClassifier(random_state=0, max_depth=2))]\n",
    ")"
   ]
  },
  {
   "cell_type": "code",
   "execution_count": 6,
   "id": "654f8610-87af-4dc3-b20c-7f02d637a82e",
   "metadata": {
    "execution": {
     "iopub.execute_input": "2022-01-26T12:56:30.725310Z",
     "iopub.status.busy": "2022-01-26T12:56:30.724746Z",
     "iopub.status.idle": "2022-01-26T12:56:30.734986Z",
     "shell.execute_reply": "2022-01-26T12:56:30.735637Z"
    }
   },
   "outputs": [],
   "source": [
    "label = np.random.randint(0, 2, size=(df_train.shape[0],))\n",
    "cat_features = ['categorical_without_drift', 'categorical_with_drift']\n",
    "df_train['target'] = label\n",
    "train_dataset = Dataset(df_train, label='target', cat_features=cat_features)\n",
    "\n",
    "model.fit(train_dataset.data[train_dataset.features], label)\n",
    "\n",
    "label = np.random.randint(0, 2, size=(df_test.shape[0],))\n",
    "df_test['target'] = label\n",
    "test_dataset = Dataset(df_test, label='target', cat_features=cat_features)"
   ]
  },
  {
   "cell_type": "markdown",
   "id": "b143b774-0b73-43e7-98cc-1baebb9f6080",
   "metadata": {},
   "source": [
    "## Run the check <a name='run_check'></a>\n",
    "\n",
    "Let's run deepchecks' feature drift check and see the results"
   ]
  },
  {
   "cell_type": "code",
   "execution_count": 7,
   "id": "a7f6888e-7027-4f50-bf5c-617d9997fe2c",
   "metadata": {
    "execution": {
     "iopub.execute_input": "2022-01-26T12:56:30.739929Z",
     "iopub.status.busy": "2022-01-26T12:56:30.739308Z",
     "iopub.status.idle": "2022-01-26T12:56:31.310554Z",
     "shell.execute_reply": "2022-01-26T12:56:31.299845Z"
    }
   },
   "outputs": [
    {
     "data": {
      "text/html": [
       "<h4>Train Test Drift</h4><p>    Calculate drift between train dataset and test dataset per feature, using statistical measures. <a href=\"https://docs.deepchecks.com/en/0.3.2/examples/checks/distribution/train_test_feature_drift.html?utm_source=display_output&utm_medium=referral&utm_campaign=check_link\" target=\"_blank\">Read More...</a></p><h5>Additional Outputs</h5><div><span>\n",
       "            The Drift score is a measure for the difference between two distributions, in this check - the test\n",
       "            and train distributions.<br> The check shows the drift score and distributions for the features, sorted by\n",
       "            feature importance and showing only the top 5 features, according to feature importance.\n",
       "            <br>If available, the plot titles also show the feature importance (FI) rank.\n",
       "        </span></div>"
      ]
     },
     "metadata": {},
     "output_type": "display_data"
    },
    {
     "data": {
      "application/vnd.plotly.v1+json": {
       "config": {
        "plotlyServerURL": "https://plot.ly"
       },
       "data": [
        {
         "base": 0,
         "marker": {
          "color": "#01B8AA"
         },
         "offsetgroup": "0",
         "orientation": "h",
         "showlegend": false,
         "type": "bar",
         "x": [
          0.1
         ],
         "xaxis": "x",
         "y": [
          "Drift Score"
         ],
         "yaxis": "y"
        },
        {
         "base": 0.1,
         "marker": {
          "color": "#F2C80F"
         },
         "offsetgroup": "0",
         "orientation": "h",
         "showlegend": false,
         "type": "bar",
         "x": [
          0.1
         ],
         "xaxis": "x",
         "y": [
          "Drift Score"
         ],
         "yaxis": "y"
        },
        {
         "base": 0.2,
         "marker": {
          "color": "#FE9666"
         },
         "offsetgroup": "0",
         "orientation": "h",
         "showlegend": false,
         "type": "bar",
         "x": [
          0.05070919729753093
         ],
         "xaxis": "x",
         "y": [
          "Drift Score"
         ],
         "yaxis": "y"
        },
        {
         "fill": "tozeroy",
         "line": {
          "color": "darkblue"
         },
         "name": "Train Dataset",
         "type": "scatter",
         "x": [
          -2.9403886346642802,
          -2.718764792449416,
          -2.497140950234552,
          -2.275517108019687,
          -2.053893265804823,
          -1.9522394460096473,
          -1.8322694235899588,
          -1.6615589392996284,
          -1.6106455813750946,
          -1.5029806858785304,
          -1.3890217391602302,
          -1.3803173200348469,
          -1.2481162214068948,
          -1.167397896945366,
          -1.129130381230076,
          -1.0266776772231458,
          -0.9457740547305018,
          -0.93815379934108,
          -0.8579003525004392,
          -0.7984761969608137,
          -0.7474921477777441,
          -0.7241502125156374,
          -0.6772945894897103,
          -0.6011966376436214,
          -0.5480704382650716,
          -0.5025263703007732,
          -0.4932276292095767,
          -0.4301142680349475,
          -0.3735089549474293,
          -0.3232243983583615,
          -0.303807755374735,
          -0.28338806180795656,
          -0.280902528085909,
          -0.22468605075528816,
          -0.17928677247888014,
          -0.11908608725458732,
          -0.05927868587104479,
          -0.05849581418656411,
          -0.011678968276559606,
          -0.005733163465857652,
          0.047741808988898,
          0.11646795382050189,
          0.16234515634381985,
          0.18390795615138109,
          0.21818855315277805,
          0.2790056549133476,
          0.2886118397580669,
          0.33072228829686745,
          0.38396899855868405,
          0.38778229748484644,
          0.4275854276244711,
          0.4275949465926318,
          0.47293576480857014,
          0.510120350227489,
          0.5659159846146,
          0.5670970501705798,
          0.6055928407735482,
          0.628704842408893,
          0.6826838956553363,
          0.7516331603456333,
          0.7524990239972061,
          0.8230642682006,
          0.8272166829884124,
          0.8953985144339989,
          0.9642044459328458,
          0.9730927715759433,
          1.0488405252032766,
          1.0662275531855239,
          1.1073187703133764,
          1.140421128619949,
          1.1978395382807978,
          1.2390074032574945,
          1.2704643674181413,
          1.3494647541824527,
          1.3737364999637436,
          1.480971102107083,
          1.4920882096330055,
          1.501546398885663,
          1.5873777550732753,
          1.677554135964612,
          1.6950933580121719,
          1.7137120518478697,
          1.7742207758610855,
          1.84693016008695,
          1.8715504167171473,
          1.9353358940627339,
          1.941993068984651,
          2.0267131748094562,
          2.107895708909522,
          2.156959736277598,
          2.1632896757373725,
          2.1794221433146435,
          2.2709567507472617,
          2.3785835784924623,
          2.4068880846144673,
          2.512055769620731,
          2.595100472364528,
          2.6002074207073265,
          2.678735695029947,
          2.762513380478547,
          2.8218312629221907,
          2.8427777482701817,
          2.9340819924380366,
          3.040325509518532,
          3.0434551051370557,
          3.1031715268077535,
          3.2030356398684625,
          3.26507894735192,
          3.2784379466437734,
          3.3389618203131866,
          3.4315085799413954,
          3.486702789566784,
          3.5443656413223157,
          3.6621240001387116,
          3.7083266317816483,
          3.744742002928959,
          3.8473823263819082,
          3.9299504739965125,
          3.939851984425977,
          4.0363390448695435,
          4.151574316211377,
          4.152479814842194,
          4.3324684159383855,
          4.373198158426241,
          4.464560454102148,
          4.594822000641106,
          4.631994625050779,
          4.8041082481264175,
          4.81644584285597,
          4.9702645084171895,
          5.038069685070834,
          5.188747400317569,
          5.259693527285698,
          5.420162820651218,
          5.481317369500562,
          5.702941211715427,
          5.703694340290479,
          5.924565053930291,
          6.146188896145155,
          6.176979021411623,
          6.367812738360019,
          6.589436580574883,
          6.8110604227897475,
          7.032684265004612,
          7.254308107219476,
          7.47593194943434,
          7.697555791649204,
          7.9191796338640685
         ],
         "xaxis": "x2",
         "y": [
          0.008643564510182207,
          0.0097313599036168,
          0.012291114835525434,
          0.023802879825654547,
          0.04617434556472055,
          0.059565294736461286,
          0.07752413435831333,
          0.10616641406486316,
          0.11507599727139897,
          0.1338786983274612,
          0.15344139170557364,
          0.1549326095304217,
          0.17829661792680415,
          0.19400312388904195,
          0.20202105554567626,
          0.22537718870300014,
          0.24532645316629087,
          0.2472434490052002,
          0.26746481181981824,
          0.28209777873861897,
          0.294123049973289,
          0.299412300836016,
          0.3095464763489191,
          0.3244329067822707,
          0.3335277217565047,
          0.3403940569154216,
          0.3416852843119863,
          0.34941705963446384,
          0.3547849796870528,
          0.3583231713864199,
          0.359394768457065,
          0.3603562042276419,
          0.36046213836489666,
          0.36228049890899666,
          0.3630874535472983,
          0.3636108608395067,
          0.3639627398816688,
          0.36396827293793077,
          0.36441237704667845,
          0.3644885007613481,
          0.36542218254809616,
          0.3672765865505002,
          0.36877984878391473,
          0.3694941531583814,
          0.3705503793865524,
          0.37181885948267196,
          0.371907712261106,
          0.37179774133782384,
          0.3702181925231392,
          0.3700335671941468,
          0.36747830288659716,
          0.3674775505187848,
          0.3630997580925576,
          0.35831831599080094,
          0.34921974876639744,
          0.34900387871780175,
          0.3414946773967452,
          0.33658609004098033,
          0.32419468419557607,
          0.30713047621783895,
          0.3069111492908705,
          0.28891876042181763,
          0.2878608081652905,
          0.27067960684868714,
          0.2538685334622671,
          0.2517404700430905,
          0.2339881853352842,
          0.23000324949865253,
          0.22070696808563284,
          0.21333851886251348,
          0.20082009276839302,
          0.19207235945158094,
          0.18553541416855004,
          0.169779786216548,
          0.16515140174847648,
          0.14599574778227561,
          0.14412898522359985,
          0.14255744681017876,
          0.12892974520978115,
          0.11555329686844219,
          0.11302460137951369,
          0.11035784610493403,
          0.10178138922764243,
          0.09159737093435315,
          0.08817866480530666,
          0.07943664879531603,
          0.07853752165619546,
          0.0674406565792129,
          0.05767048305501899,
          0.05230911951612851,
          0.05165046773489929,
          0.05000698040256827,
          0.0416435731110521,
          0.03372467811099226,
          0.03191830159827877,
          0.025868439137504758,
          0.021538527179602706,
          0.021280458427895013,
          0.017428859009940994,
          0.013651160506040523,
          0.011295800447853364,
          0.010544167384582163,
          0.007817835132377637,
          0.005730833293491814,
          0.005684167296088494,
          0.004913184321687076,
          0.00395340158027361,
          0.003448725923613315,
          0.003344332793455088,
          0.0028889400788104243,
          0.002282303087459186,
          0.0020062140631202322,
          0.001805958869112873,
          0.0016592878214707436,
          0.001664122554701852,
          0.001674783855632724,
          0.0016601032441792493,
          0.0015363432295141667,
          0.00151360152636744,
          0.0012193646852390288,
          0.0007875981060122955,
          0.000784272948585929,
          0.00026330096248731956,
          0.0001918686269271346,
          0.00008590966033759907,
          0.000021837028820746467,
          0.000014075228304934558,
          0.0000013926325391664822,
          0.000001159171411492843,
          9.647843634959636e-8,
          2.8694281371005734e-8,
          1.5013032647092797e-9,
          3.312299811861638e-10,
          8.134790895764945e-12,
          1.7829937979563843e-12,
          4.4756473675025805e-15,
          4.379803369045627e-15,
          5.238991816127292e-18,
          2.8597324760808093e-21,
          9.479744053430697e-22,
          7.279288356069833e-25,
          8.640487940915884e-29,
          4.782703324915297e-33,
          1.2345095231000215e-37,
          1.4859400068292412e-42,
          8.340535506630727e-48,
          2.183093940632519e-53,
          2.664628947904535e-59
         ],
         "yaxis": "y2"
        },
        {
         "fill": "tozeroy",
         "line": {
          "color": "#69b3a2"
         },
         "name": "Test Dataset",
         "type": "scatter",
         "x": [
          -2.9403886346642802,
          -2.718764792449416,
          -2.497140950234552,
          -2.275517108019687,
          -2.053893265804823,
          -1.9522394460096473,
          -1.8322694235899588,
          -1.6615589392996284,
          -1.6106455813750946,
          -1.5029806858785304,
          -1.3890217391602302,
          -1.3803173200348469,
          -1.2481162214068948,
          -1.167397896945366,
          -1.129130381230076,
          -1.0266776772231458,
          -0.9457740547305018,
          -0.93815379934108,
          -0.8579003525004392,
          -0.7984761969608137,
          -0.7474921477777441,
          -0.7241502125156374,
          -0.6772945894897103,
          -0.6011966376436214,
          -0.5480704382650716,
          -0.5025263703007732,
          -0.4932276292095767,
          -0.4301142680349475,
          -0.3735089549474293,
          -0.3232243983583615,
          -0.303807755374735,
          -0.28338806180795656,
          -0.280902528085909,
          -0.22468605075528816,
          -0.17928677247888014,
          -0.11908608725458732,
          -0.05927868587104479,
          -0.05849581418656411,
          -0.011678968276559606,
          -0.005733163465857652,
          0.047741808988898,
          0.11646795382050189,
          0.16234515634381985,
          0.18390795615138109,
          0.21818855315277805,
          0.2790056549133476,
          0.2886118397580669,
          0.33072228829686745,
          0.38396899855868405,
          0.38778229748484644,
          0.4275854276244711,
          0.4275949465926318,
          0.47293576480857014,
          0.510120350227489,
          0.5659159846146,
          0.5670970501705798,
          0.6055928407735482,
          0.628704842408893,
          0.6826838956553363,
          0.7516331603456333,
          0.7524990239972061,
          0.8230642682006,
          0.8272166829884124,
          0.8953985144339989,
          0.9642044459328458,
          0.9730927715759433,
          1.0488405252032766,
          1.0662275531855239,
          1.1073187703133764,
          1.140421128619949,
          1.1978395382807978,
          1.2390074032574945,
          1.2704643674181413,
          1.3494647541824527,
          1.3737364999637436,
          1.480971102107083,
          1.4920882096330055,
          1.501546398885663,
          1.5873777550732753,
          1.677554135964612,
          1.6950933580121719,
          1.7137120518478697,
          1.7742207758610855,
          1.84693016008695,
          1.8715504167171473,
          1.9353358940627339,
          1.941993068984651,
          2.0267131748094562,
          2.107895708909522,
          2.156959736277598,
          2.1632896757373725,
          2.1794221433146435,
          2.2709567507472617,
          2.3785835784924623,
          2.4068880846144673,
          2.512055769620731,
          2.595100472364528,
          2.6002074207073265,
          2.678735695029947,
          2.762513380478547,
          2.8218312629221907,
          2.8427777482701817,
          2.9340819924380366,
          3.040325509518532,
          3.0434551051370557,
          3.1031715268077535,
          3.2030356398684625,
          3.26507894735192,
          3.2784379466437734,
          3.3389618203131866,
          3.4315085799413954,
          3.486702789566784,
          3.5443656413223157,
          3.6621240001387116,
          3.7083266317816483,
          3.744742002928959,
          3.8473823263819082,
          3.9299504739965125,
          3.939851984425977,
          4.0363390448695435,
          4.151574316211377,
          4.152479814842194,
          4.3324684159383855,
          4.373198158426241,
          4.464560454102148,
          4.594822000641106,
          4.631994625050779,
          4.8041082481264175,
          4.81644584285597,
          4.9702645084171895,
          5.038069685070834,
          5.188747400317569,
          5.259693527285698,
          5.420162820651218,
          5.481317369500562,
          5.702941211715427,
          5.703694340290479,
          5.924565053930291,
          6.146188896145155,
          6.176979021411623,
          6.367812738360019,
          6.589436580574883,
          6.8110604227897475,
          7.032684265004612,
          7.254308107219476,
          7.47593194943434,
          7.697555791649204,
          7.9191796338640685
         ],
         "xaxis": "x2",
         "y": [
          0.000016793373894976795,
          0.0000788873471765219,
          0.00028301597329264734,
          0.0007870718235321158,
          0.0017438623908642885,
          0.002355905958562102,
          0.003224899901974753,
          0.004766769338246019,
          0.005309082715387422,
          0.006610218286286555,
          0.008259307769532558,
          0.00839833366919372,
          0.010765375901008253,
          0.012465704265928407,
          0.013344775288869603,
          0.01594506841674626,
          0.01827211972152699,
          0.018504684586715732,
          0.021104594136858137,
          0.023219764085189658,
          0.025175601303578217,
          0.02611729272057419,
          0.02810002476220498,
          0.031598243532506246,
          0.03425604917542894,
          0.03668125104215884,
          0.03719330414413494,
          0.04082110352517799,
          0.044299293824541695,
          0.04756233495622981,
          0.048864341673343144,
          0.05025795349502934,
          0.050429255860643216,
          0.05439600620779382,
          0.05771910445308911,
          0.062266517440163455,
          0.06691006176840736,
          0.06697149784244359,
          0.07066796051780747,
          0.07113998341103657,
          0.07539877761028281,
          0.0808671125392693,
          0.0844807646875579,
          0.08616186147418324,
          0.0888050567190684,
          0.09338553191418017,
          0.09409449724583507,
          0.09715075311544039,
          0.10088832845619872,
          0.10115040824626786,
          0.10384143346237311,
          0.1038420673862344,
          0.10681105016661582,
          0.10917471318247435,
          0.11261764068109499,
          0.11268936098268431,
          0.11500579486181138,
          0.11638019854078337,
          0.11956243131826196,
          0.12362557298915479,
          0.12367692399953151,
          0.1279202449316954,
          0.12817451881994296,
          0.1324495258889805,
          0.13699725474041205,
          0.13760453522912194,
          0.14298143000759944,
          0.14426832655696145,
          0.14738935731492464,
          0.14998442431929984,
          0.15465040454720416,
          0.15811525984049918,
          0.16082276282156022,
          0.16780623073256032,
          0.16999037654075244,
          0.1796999539581621,
          0.18070050548562916,
          0.18154918337945777,
          0.1890794275841887,
          0.1964388205459063,
          0.19777767272527302,
          0.19916012176906653,
          0.2033491329519036,
          0.20769608935399106,
          0.20898485236710507,
          0.21187927130339618,
          0.21214448040360617,
          0.2149350742777581,
          0.21669125416015345,
          0.2173996680218689,
          0.21747521906182493,
          0.21765345184630436,
          0.21836673993418984,
          0.21891451186247596,
          0.21906502864605623,
          0.21979614531389266,
          0.22061655821703646,
          0.22067360426756913,
          0.2216175081787522,
          0.2226654477262099,
          0.22333507287037685,
          0.2235413413513625,
          0.2241562243127844,
          0.22405971725760382,
          0.2240407642571841,
          0.22348368404129526,
          0.22168057304323577,
          0.21999892637673643,
          0.21958131022525537,
          0.21744998333712856,
          0.213471264968198,
          0.21071490569107953,
          0.20755338946600063,
          0.20027721491999745,
          0.19714459603736958,
          0.1945728925955223,
          0.1868748913545372,
          0.18026310419542477,
          0.17944928850597036,
          0.17134312813257863,
          0.16144249348177714,
          0.16136463683377952,
          0.14624677248980208,
          0.14298991302778397,
          0.13599088335109435,
          0.12679305479152234,
          0.12432974148606216,
          0.1136694022957519,
          0.11294184200734028,
          0.10408963561013639,
          0.10024156609605354,
          0.09158712257460988,
          0.08740418729404184,
          0.07761566037753753,
          0.07378424883804469,
          0.05988635550948598,
          0.059840227642806845,
          0.04716455750463283,
          0.03671736937555451,
          0.035448255005662045,
          0.02834175388531157,
          0.02123632734678032,
          0.015176114649098002,
          0.01047906976204301,
          0.0072159129163253035,
          0.005009903425282319,
          0.0034331605298719954,
          0.00224538615500834
         ],
         "yaxis": "y2"
        }
       ],
       "layout": {
        "annotations": [
         {
          "font": {
           "size": 16
          },
          "showarrow": false,
          "text": "Drift Score - Earth Mover's Distance",
          "x": 0.5,
          "xanchor": "center",
          "xref": "paper",
          "y": 1.0,
          "yanchor": "bottom",
          "yref": "paper"
         },
         {
          "font": {
           "size": 16
          },
          "showarrow": false,
          "text": "numeric_with_drift (#1 in FI)",
          "x": 0.5,
          "xanchor": "center",
          "xref": "paper",
          "y": 0.54,
          "yanchor": "bottom",
          "yref": "paper"
         }
        ],
        "height": 400,
        "legend": {
         "title": {
          "text": "Dataset"
         },
         "y": 0.6,
         "yanchor": "top"
        },
        "template": {
         "data": {
          "bar": [
           {
            "error_x": {
             "color": "#2a3f5f"
            },
            "error_y": {
             "color": "#2a3f5f"
            },
            "marker": {
             "line": {
              "color": "#E5ECF6",
              "width": 0.5
             },
             "pattern": {
              "fillmode": "overlay",
              "size": 10,
              "solidity": 0.2
             }
            },
            "type": "bar"
           }
          ],
          "barpolar": [
           {
            "marker": {
             "line": {
              "color": "#E5ECF6",
              "width": 0.5
             },
             "pattern": {
              "fillmode": "overlay",
              "size": 10,
              "solidity": 0.2
             }
            },
            "type": "barpolar"
           }
          ],
          "carpet": [
           {
            "aaxis": {
             "endlinecolor": "#2a3f5f",
             "gridcolor": "white",
             "linecolor": "white",
             "minorgridcolor": "white",
             "startlinecolor": "#2a3f5f"
            },
            "baxis": {
             "endlinecolor": "#2a3f5f",
             "gridcolor": "white",
             "linecolor": "white",
             "minorgridcolor": "white",
             "startlinecolor": "#2a3f5f"
            },
            "type": "carpet"
           }
          ],
          "choropleth": [
           {
            "colorbar": {
             "outlinewidth": 0,
             "ticks": ""
            },
            "type": "choropleth"
           }
          ],
          "contour": [
           {
            "colorbar": {
             "outlinewidth": 0,
             "ticks": ""
            },
            "colorscale": [
             [
              0.0,
              "#0d0887"
             ],
             [
              0.1111111111111111,
              "#46039f"
             ],
             [
              0.2222222222222222,
              "#7201a8"
             ],
             [
              0.3333333333333333,
              "#9c179e"
             ],
             [
              0.4444444444444444,
              "#bd3786"
             ],
             [
              0.5555555555555556,
              "#d8576b"
             ],
             [
              0.6666666666666666,
              "#ed7953"
             ],
             [
              0.7777777777777778,
              "#fb9f3a"
             ],
             [
              0.8888888888888888,
              "#fdca26"
             ],
             [
              1.0,
              "#f0f921"
             ]
            ],
            "type": "contour"
           }
          ],
          "contourcarpet": [
           {
            "colorbar": {
             "outlinewidth": 0,
             "ticks": ""
            },
            "type": "contourcarpet"
           }
          ],
          "heatmap": [
           {
            "colorbar": {
             "outlinewidth": 0,
             "ticks": ""
            },
            "colorscale": [
             [
              0.0,
              "#0d0887"
             ],
             [
              0.1111111111111111,
              "#46039f"
             ],
             [
              0.2222222222222222,
              "#7201a8"
             ],
             [
              0.3333333333333333,
              "#9c179e"
             ],
             [
              0.4444444444444444,
              "#bd3786"
             ],
             [
              0.5555555555555556,
              "#d8576b"
             ],
             [
              0.6666666666666666,
              "#ed7953"
             ],
             [
              0.7777777777777778,
              "#fb9f3a"
             ],
             [
              0.8888888888888888,
              "#fdca26"
             ],
             [
              1.0,
              "#f0f921"
             ]
            ],
            "type": "heatmap"
           }
          ],
          "heatmapgl": [
           {
            "colorbar": {
             "outlinewidth": 0,
             "ticks": ""
            },
            "colorscale": [
             [
              0.0,
              "#0d0887"
             ],
             [
              0.1111111111111111,
              "#46039f"
             ],
             [
              0.2222222222222222,
              "#7201a8"
             ],
             [
              0.3333333333333333,
              "#9c179e"
             ],
             [
              0.4444444444444444,
              "#bd3786"
             ],
             [
              0.5555555555555556,
              "#d8576b"
             ],
             [
              0.6666666666666666,
              "#ed7953"
             ],
             [
              0.7777777777777778,
              "#fb9f3a"
             ],
             [
              0.8888888888888888,
              "#fdca26"
             ],
             [
              1.0,
              "#f0f921"
             ]
            ],
            "type": "heatmapgl"
           }
          ],
          "histogram": [
           {
            "marker": {
             "pattern": {
              "fillmode": "overlay",
              "size": 10,
              "solidity": 0.2
             }
            },
            "type": "histogram"
           }
          ],
          "histogram2d": [
           {
            "colorbar": {
             "outlinewidth": 0,
             "ticks": ""
            },
            "colorscale": [
             [
              0.0,
              "#0d0887"
             ],
             [
              0.1111111111111111,
              "#46039f"
             ],
             [
              0.2222222222222222,
              "#7201a8"
             ],
             [
              0.3333333333333333,
              "#9c179e"
             ],
             [
              0.4444444444444444,
              "#bd3786"
             ],
             [
              0.5555555555555556,
              "#d8576b"
             ],
             [
              0.6666666666666666,
              "#ed7953"
             ],
             [
              0.7777777777777778,
              "#fb9f3a"
             ],
             [
              0.8888888888888888,
              "#fdca26"
             ],
             [
              1.0,
              "#f0f921"
             ]
            ],
            "type": "histogram2d"
           }
          ],
          "histogram2dcontour": [
           {
            "colorbar": {
             "outlinewidth": 0,
             "ticks": ""
            },
            "colorscale": [
             [
              0.0,
              "#0d0887"
             ],
             [
              0.1111111111111111,
              "#46039f"
             ],
             [
              0.2222222222222222,
              "#7201a8"
             ],
             [
              0.3333333333333333,
              "#9c179e"
             ],
             [
              0.4444444444444444,
              "#bd3786"
             ],
             [
              0.5555555555555556,
              "#d8576b"
             ],
             [
              0.6666666666666666,
              "#ed7953"
             ],
             [
              0.7777777777777778,
              "#fb9f3a"
             ],
             [
              0.8888888888888888,
              "#fdca26"
             ],
             [
              1.0,
              "#f0f921"
             ]
            ],
            "type": "histogram2dcontour"
           }
          ],
          "mesh3d": [
           {
            "colorbar": {
             "outlinewidth": 0,
             "ticks": ""
            },
            "type": "mesh3d"
           }
          ],
          "parcoords": [
           {
            "line": {
             "colorbar": {
              "outlinewidth": 0,
              "ticks": ""
             }
            },
            "type": "parcoords"
           }
          ],
          "pie": [
           {
            "automargin": true,
            "type": "pie"
           }
          ],
          "scatter": [
           {
            "marker": {
             "colorbar": {
              "outlinewidth": 0,
              "ticks": ""
             }
            },
            "type": "scatter"
           }
          ],
          "scatter3d": [
           {
            "line": {
             "colorbar": {
              "outlinewidth": 0,
              "ticks": ""
             }
            },
            "marker": {
             "colorbar": {
              "outlinewidth": 0,
              "ticks": ""
             }
            },
            "type": "scatter3d"
           }
          ],
          "scattercarpet": [
           {
            "marker": {
             "colorbar": {
              "outlinewidth": 0,
              "ticks": ""
             }
            },
            "type": "scattercarpet"
           }
          ],
          "scattergeo": [
           {
            "marker": {
             "colorbar": {
              "outlinewidth": 0,
              "ticks": ""
             }
            },
            "type": "scattergeo"
           }
          ],
          "scattergl": [
           {
            "marker": {
             "colorbar": {
              "outlinewidth": 0,
              "ticks": ""
             }
            },
            "type": "scattergl"
           }
          ],
          "scattermapbox": [
           {
            "marker": {
             "colorbar": {
              "outlinewidth": 0,
              "ticks": ""
             }
            },
            "type": "scattermapbox"
           }
          ],
          "scatterpolar": [
           {
            "marker": {
             "colorbar": {
              "outlinewidth": 0,
              "ticks": ""
             }
            },
            "type": "scatterpolar"
           }
          ],
          "scatterpolargl": [
           {
            "marker": {
             "colorbar": {
              "outlinewidth": 0,
              "ticks": ""
             }
            },
            "type": "scatterpolargl"
           }
          ],
          "scatterternary": [
           {
            "marker": {
             "colorbar": {
              "outlinewidth": 0,
              "ticks": ""
             }
            },
            "type": "scatterternary"
           }
          ],
          "surface": [
           {
            "colorbar": {
             "outlinewidth": 0,
             "ticks": ""
            },
            "colorscale": [
             [
              0.0,
              "#0d0887"
             ],
             [
              0.1111111111111111,
              "#46039f"
             ],
             [
              0.2222222222222222,
              "#7201a8"
             ],
             [
              0.3333333333333333,
              "#9c179e"
             ],
             [
              0.4444444444444444,
              "#bd3786"
             ],
             [
              0.5555555555555556,
              "#d8576b"
             ],
             [
              0.6666666666666666,
              "#ed7953"
             ],
             [
              0.7777777777777778,
              "#fb9f3a"
             ],
             [
              0.8888888888888888,
              "#fdca26"
             ],
             [
              1.0,
              "#f0f921"
             ]
            ],
            "type": "surface"
           }
          ],
          "table": [
           {
            "cells": {
             "fill": {
              "color": "#EBF0F8"
             },
             "line": {
              "color": "white"
             }
            },
            "header": {
             "fill": {
              "color": "#C8D4E3"
             },
             "line": {
              "color": "white"
             }
            },
            "type": "table"
           }
          ]
         },
         "layout": {
          "annotationdefaults": {
           "arrowcolor": "#2a3f5f",
           "arrowhead": 0,
           "arrowwidth": 1
          },
          "autotypenumbers": "strict",
          "coloraxis": {
           "colorbar": {
            "outlinewidth": 0,
            "ticks": ""
           }
          },
          "colorscale": {
           "diverging": [
            [
             0,
             "#8e0152"
            ],
            [
             0.1,
             "#c51b7d"
            ],
            [
             0.2,
             "#de77ae"
            ],
            [
             0.3,
             "#f1b6da"
            ],
            [
             0.4,
             "#fde0ef"
            ],
            [
             0.5,
             "#f7f7f7"
            ],
            [
             0.6,
             "#e6f5d0"
            ],
            [
             0.7,
             "#b8e186"
            ],
            [
             0.8,
             "#7fbc41"
            ],
            [
             0.9,
             "#4d9221"
            ],
            [
             1,
             "#276419"
            ]
           ],
           "sequential": [
            [
             0.0,
             "#0d0887"
            ],
            [
             0.1111111111111111,
             "#46039f"
            ],
            [
             0.2222222222222222,
             "#7201a8"
            ],
            [
             0.3333333333333333,
             "#9c179e"
            ],
            [
             0.4444444444444444,
             "#bd3786"
            ],
            [
             0.5555555555555556,
             "#d8576b"
            ],
            [
             0.6666666666666666,
             "#ed7953"
            ],
            [
             0.7777777777777778,
             "#fb9f3a"
            ],
            [
             0.8888888888888888,
             "#fdca26"
            ],
            [
             1.0,
             "#f0f921"
            ]
           ],
           "sequentialminus": [
            [
             0.0,
             "#0d0887"
            ],
            [
             0.1111111111111111,
             "#46039f"
            ],
            [
             0.2222222222222222,
             "#7201a8"
            ],
            [
             0.3333333333333333,
             "#9c179e"
            ],
            [
             0.4444444444444444,
             "#bd3786"
            ],
            [
             0.5555555555555556,
             "#d8576b"
            ],
            [
             0.6666666666666666,
             "#ed7953"
            ],
            [
             0.7777777777777778,
             "#fb9f3a"
            ],
            [
             0.8888888888888888,
             "#fdca26"
            ],
            [
             1.0,
             "#f0f921"
            ]
           ]
          },
          "colorway": [
           "#636efa",
           "#EF553B",
           "#00cc96",
           "#ab63fa",
           "#FFA15A",
           "#19d3f3",
           "#FF6692",
           "#B6E880",
           "#FF97FF",
           "#FECB52"
          ],
          "font": {
           "color": "#2a3f5f"
          },
          "geo": {
           "bgcolor": "white",
           "lakecolor": "white",
           "landcolor": "#E5ECF6",
           "showlakes": true,
           "showland": true,
           "subunitcolor": "white"
          },
          "hoverlabel": {
           "align": "left"
          },
          "hovermode": "closest",
          "mapbox": {
           "style": "light"
          },
          "paper_bgcolor": "white",
          "plot_bgcolor": "#E5ECF6",
          "polar": {
           "angularaxis": {
            "gridcolor": "white",
            "linecolor": "white",
            "ticks": ""
           },
           "bgcolor": "#E5ECF6",
           "radialaxis": {
            "gridcolor": "white",
            "linecolor": "white",
            "ticks": ""
           }
          },
          "scene": {
           "xaxis": {
            "backgroundcolor": "#E5ECF6",
            "gridcolor": "white",
            "gridwidth": 2,
            "linecolor": "white",
            "showbackground": true,
            "ticks": "",
            "zerolinecolor": "white"
           },
           "yaxis": {
            "backgroundcolor": "#E5ECF6",
            "gridcolor": "white",
            "gridwidth": 2,
            "linecolor": "white",
            "showbackground": true,
            "ticks": "",
            "zerolinecolor": "white"
           },
           "zaxis": {
            "backgroundcolor": "#E5ECF6",
            "gridcolor": "white",
            "gridwidth": 2,
            "linecolor": "white",
            "showbackground": true,
            "ticks": "",
            "zerolinecolor": "white"
           }
          },
          "shapedefaults": {
           "line": {
            "color": "#2a3f5f"
           }
          },
          "ternary": {
           "aaxis": {
            "gridcolor": "white",
            "linecolor": "white",
            "ticks": ""
           },
           "baxis": {
            "gridcolor": "white",
            "linecolor": "white",
            "ticks": ""
           },
           "bgcolor": "#E5ECF6",
           "caxis": {
            "gridcolor": "white",
            "linecolor": "white",
            "ticks": ""
           }
          },
          "title": {
           "x": 0.05
          },
          "xaxis": {
           "automargin": true,
           "gridcolor": "white",
           "linecolor": "white",
           "ticks": "",
           "title": {
            "standoff": 15
           },
           "zerolinecolor": "white",
           "zerolinewidth": 2
          },
          "yaxis": {
           "automargin": true,
           "gridcolor": "white",
           "linecolor": "white",
           "ticks": "",
           "title": {
            "standoff": 15
           },
           "zerolinecolor": "white",
           "zerolinewidth": 2
          }
         }
        },
        "width": 700,
        "xaxis": {
         "anchor": "y",
         "domain": [
          0.0,
          1.0
         ],
         "dtick": 0.05,
         "fixedrange": true,
         "gridcolor": "black",
         "linecolor": "black",
         "range": [
          0,
          0.4
         ],
         "showgrid": false
        },
        "xaxis2": {
         "anchor": "y2",
         "domain": [
          0.0,
          1.0
         ],
         "fixedrange": false,
         "range": [
          -1.9522394460096473,
          6.176979021411623
         ],
         "title": {
          "text": "Distribution"
         }
        },
        "yaxis": {
         "anchor": "x",
         "color": "black",
         "domain": [
          0.9400000000000001,
          1.0
         ],
         "fixedrange": true,
         "showgrid": false,
         "showline": false,
         "showticklabels": false,
         "zeroline": false
        },
        "yaxis2": {
         "anchor": "x2",
         "domain": [
          0.0,
          0.54
         ],
         "fixedrange": true,
         "title": {
          "text": "Probability Density"
         }
        }
       }
      }
     },
     "metadata": {},
     "output_type": "display_data"
    },
    {
     "data": {
      "text/html": []
     },
     "metadata": {},
     "output_type": "display_data"
    },
    {
     "data": {
      "application/vnd.plotly.v1+json": {
       "config": {
        "plotlyServerURL": "https://plot.ly"
       },
       "data": [
        {
         "base": 0,
         "marker": {
          "color": "#01B8AA"
         },
         "offsetgroup": "0",
         "orientation": "h",
         "showlegend": false,
         "type": "bar",
         "x": [
          0.012381238421755255
         ],
         "xaxis": "x",
         "y": [
          "Drift Score"
         ],
         "yaxis": "y"
        },
        {
         "fill": "tozeroy",
         "line": {
          "color": "darkblue"
         },
         "name": "Train Dataset",
         "type": "scatter",
         "x": [
          -3.2412673400690726,
          -3.1089334561983826,
          -2.9765995723276926,
          -2.8442656884570026,
          -2.711931804586313,
          -2.579597920715623,
          -2.447264036844933,
          -2.314930152974243,
          -2.182596269103553,
          -2.0634367503549917,
          -2.0502623852328634,
          -1.9943637814531785,
          -1.9179285013621734,
          -1.8075901502466243,
          -1.7855946174914834,
          -1.6532607336207934,
          -1.6077891778149989,
          -1.5522035725096686,
          -1.5209268497501036,
          -1.4499106004295303,
          -1.3988655866356399,
          -1.3885929658794136,
          -1.3362833708641455,
          -1.3057305970261164,
          -1.2562590820087238,
          -1.1898673220397977,
          -1.1836925033021488,
          -1.1239251981380338,
          -1.0921240553797904,
          -1.0710420797320517,
          -1.0206829655105558,
          -0.9985137902232182,
          -0.9915913142673438,
          -0.9705995065281079,
          -0.9238248021856529,
          -0.8644470762916138,
          -0.8592574303966538,
          -0.825873941086629,
          -0.8070377853502847,
          -0.7467618615829237,
          -0.744769386331774,
          -0.7269235465259642,
          -0.6787958351878047,
          -0.6741289933632568,
          -0.6267771845574377,
          -0.6227279874239562,
          -0.5945896626552742,
          -0.5872242440564793,
          -0.5836787131274913,
          -0.5410541326897913,
          -0.5245975396229716,
          -0.47940095731031646,
          -0.4762139891662561,
          -0.46225577878458424,
          -0.44360577403458273,
          -0.4169151331100916,
          -0.36956390191180405,
          -0.338131683518803,
          -0.32992189491389423,
          -0.30050118573816437,
          -0.25923985981614767,
          -0.23593898162963994,
          -0.22547268764358885,
          -0.19758801104320423,
          -0.1869526967692865,
          -0.17836030193267982,
          -0.14118993880153285,
          -0.13183521439421758,
          -0.10120483868253397,
          -0.08074569759033075,
          -0.06525412717251422,
          -0.05648080768757744,
          -0.03469725325327376,
          -0.014367284466763436,
          -0.005765389741693144,
          0.03604347321371318,
          0.04487982977057377,
          0.06707975669817534,
          0.0734225900268487,
          0.10311358053767392,
          0.10722437883706923,
          0.15608222551184814,
          0.1673360661579418,
          0.19941364056886535,
          0.20079173401423325,
          0.21747359408149078,
          0.24982735036480375,
          0.27305164987810393,
          0.2910279511292749,
          0.3129993900846571,
          0.33101818392253557,
          0.33174752443955535,
          0.37127835766342454,
          0.37815352931747065,
          0.4311085664142566,
          0.46203865157732793,
          0.46408140831024536,
          0.5019566580461654,
          0.5213681695506062,
          0.5522396634981296,
          0.5767012090107031,
          0.5964152921809354,
          0.6211534979032097,
          0.6325050120887196,
          0.6829867038740558,
          0.688228528456926,
          0.7287491760516249,
          0.742721343221082,
          0.7432389832943772,
          0.8200551706783258,
          0.8236197369671377,
          0.8610830599223154,
          0.8822910252014937,
          0.9166856823364512,
          0.9764965336280801,
          0.9821745928291928,
          0.9934169437930049,
          1.0366957048700576,
          1.0739643042832077,
          1.1239847885419982,
          1.1257508276636945,
          1.1738653431639035,
          1.2077668105529495,
          1.258084711534385,
          1.2658281716968929,
          1.3159007484476026,
          1.3904185954050745,
          1.4473111422290377,
          1.4538107038030506,
          1.522752479275765,
          1.5799588259555912,
          1.6433846899371738,
          1.6550863631464545,
          1.6887345237190015,
          1.787420247017144,
          1.9197541308878345,
          1.9609460118589932,
          2.052088014758524,
          2.062756074253281,
          2.1844218986292145,
          2.316755782499904,
          2.4490896663705937,
          2.581423550241284,
          2.7137574341119737,
          2.846091317982664,
          2.9784252018533537,
          3.110759085724044,
          3.2430929695947333
         ],
         "xaxis": "x2",
         "y": [
          0.0021433660311184974,
          0.0030559538384691523,
          0.005104733532352996,
          0.008812532308300274,
          0.013437421075140012,
          0.017504049787883735,
          0.020649775746534704,
          0.024322207964311917,
          0.030277558641804213,
          0.03829711317239284,
          0.039354313771509324,
          0.04425288338734225,
          0.05211872808043377,
          0.06603806535627949,
          0.06916871058204987,
          0.09005053993591235,
          0.09785268334707668,
          0.10771139118839607,
          0.11340543672953395,
          0.1267669699356385,
          0.13681753604731425,
          0.1388930439006387,
          0.14976658911732904,
          0.15636553547601895,
          0.16744533659190006,
          0.1830336987686739,
          0.18452114878565376,
          0.19919712041677248,
          0.2071826870725988,
          0.21253232447869536,
          0.22546070217789246,
          0.23120733875197938,
          0.23300741382362358,
          0.23847973591892085,
          0.25072060451,
          0.266223457370806,
          0.2675683072612315,
          0.27614452361566294,
          0.2809076879063094,
          0.2955919330565494,
          0.2960592416632469,
          0.3001837402425877,
          0.31070410711612667,
          0.3116740520953582,
          0.32099657818279015,
          0.32175063646733687,
          0.3268156362871346,
          0.3280939664285278,
          0.32870283614813867,
          0.3357409222838214,
          0.33835153906299553,
          0.34539687696252014,
          0.34589355914694003,
          0.34807899158180394,
          0.35103914298170463,
          0.3554004016466863,
          0.3636682076918549,
          0.3696202406269458,
          0.37123976505888934,
          0.37725718792263196,
          0.3861846831319947,
          0.39140310826192126,
          0.39376949034984865,
          0.40008335639764875,
          0.40247542540401327,
          0.4043934719201978,
          0.4124364266221339,
          0.41436875584513055,
          0.4203319497948252,
          0.42393626387516475,
          0.4264257227984727,
          0.42773492748072806,
          0.4306444322053124,
          0.43288759478364586,
          0.4336909889296445,
          0.4362860505294074,
          0.43654687638807727,
          0.43674908716667743,
          0.43668746644106904,
          0.43569812983717726,
          0.4354711802478224,
          0.43117095076507955,
          0.4297825510885141,
          0.42508598972553846,
          0.4248611778928558,
          0.42200085470764903,
          0.4157870744355362,
          0.4108634091054961,
          0.40683321503330955,
          0.4016944334411065,
          0.3973392464894562,
          0.3971607237525906,
          0.3872908157818329,
          0.3855453770265933,
          0.37199247682365866,
          0.3640874540279811,
          0.3635675315743183,
          0.35399677851375233,
          0.3491497899121024,
          0.34152742983016865,
          0.3355590989833716,
          0.33078972902900766,
          0.3248478276012508,
          0.322134490373747,
          0.3101352813322904,
          0.30889339691524514,
          0.29930209263651686,
          0.29599518233850947,
          0.29587264709332234,
          0.2776547558182717,
          0.2768073528685526,
          0.267889977034443,
          0.2628334524653805,
          0.25462236767414875,
          0.24032663796251488,
          0.23896953911396776,
          0.23628321803311578,
          0.22596000270445357,
          0.21711850690308487,
          0.20539562136234377,
          0.20498609031114462,
          0.1939900780511554,
          0.18647838138124426,
          0.1758030331940367,
          0.1742176590418903,
          0.16437218437183962,
          0.15103469132352357,
          0.14175904200803874,
          0.14073694703943157,
          0.1301740311668982,
          0.12153406251918501,
          0.11180851449011832,
          0.10998962404547387,
          0.10472540169492803,
          0.08932297554304391,
          0.07058611764882235,
          0.06552493824598339,
          0.05563277838706959,
          0.05457563394501396,
          0.04352765625408363,
          0.03289950143907,
          0.023640106744460977,
          0.01602290165606966,
          0.010100042526231626,
          0.005980930714594002,
          0.0035904942131255307,
          0.002324709197855885,
          0.001485760085137345
         ],
         "yaxis": "y2"
        },
        {
         "fill": "tozeroy",
         "line": {
          "color": "#69b3a2"
         },
         "name": "Test Dataset",
         "type": "scatter",
         "x": [
          -3.2412673400690726,
          -3.1089334561983826,
          -2.9765995723276926,
          -2.8442656884570026,
          -2.711931804586313,
          -2.579597920715623,
          -2.447264036844933,
          -2.314930152974243,
          -2.182596269103553,
          -2.0634367503549917,
          -2.0502623852328634,
          -1.9943637814531785,
          -1.9179285013621734,
          -1.8075901502466243,
          -1.7855946174914834,
          -1.6532607336207934,
          -1.6077891778149989,
          -1.5522035725096686,
          -1.5209268497501036,
          -1.4499106004295303,
          -1.3988655866356399,
          -1.3885929658794136,
          -1.3362833708641455,
          -1.3057305970261164,
          -1.2562590820087238,
          -1.1898673220397977,
          -1.1836925033021488,
          -1.1239251981380338,
          -1.0921240553797904,
          -1.0710420797320517,
          -1.0206829655105558,
          -0.9985137902232182,
          -0.9915913142673438,
          -0.9705995065281079,
          -0.9238248021856529,
          -0.8644470762916138,
          -0.8592574303966538,
          -0.825873941086629,
          -0.8070377853502847,
          -0.7467618615829237,
          -0.744769386331774,
          -0.7269235465259642,
          -0.6787958351878047,
          -0.6741289933632568,
          -0.6267771845574377,
          -0.6227279874239562,
          -0.5945896626552742,
          -0.5872242440564793,
          -0.5836787131274913,
          -0.5410541326897913,
          -0.5245975396229716,
          -0.47940095731031646,
          -0.4762139891662561,
          -0.46225577878458424,
          -0.44360577403458273,
          -0.4169151331100916,
          -0.36956390191180405,
          -0.338131683518803,
          -0.32992189491389423,
          -0.30050118573816437,
          -0.25923985981614767,
          -0.23593898162963994,
          -0.22547268764358885,
          -0.19758801104320423,
          -0.1869526967692865,
          -0.17836030193267982,
          -0.14118993880153285,
          -0.13183521439421758,
          -0.10120483868253397,
          -0.08074569759033075,
          -0.06525412717251422,
          -0.05648080768757744,
          -0.03469725325327376,
          -0.014367284466763436,
          -0.005765389741693144,
          0.03604347321371318,
          0.04487982977057377,
          0.06707975669817534,
          0.0734225900268487,
          0.10311358053767392,
          0.10722437883706923,
          0.15608222551184814,
          0.1673360661579418,
          0.19941364056886535,
          0.20079173401423325,
          0.21747359408149078,
          0.24982735036480375,
          0.27305164987810393,
          0.2910279511292749,
          0.3129993900846571,
          0.33101818392253557,
          0.33174752443955535,
          0.37127835766342454,
          0.37815352931747065,
          0.4311085664142566,
          0.46203865157732793,
          0.46408140831024536,
          0.5019566580461654,
          0.5213681695506062,
          0.5522396634981296,
          0.5767012090107031,
          0.5964152921809354,
          0.6211534979032097,
          0.6325050120887196,
          0.6829867038740558,
          0.688228528456926,
          0.7287491760516249,
          0.742721343221082,
          0.7432389832943772,
          0.8200551706783258,
          0.8236197369671377,
          0.8610830599223154,
          0.8822910252014937,
          0.9166856823364512,
          0.9764965336280801,
          0.9821745928291928,
          0.9934169437930049,
          1.0366957048700576,
          1.0739643042832077,
          1.1239847885419982,
          1.1257508276636945,
          1.1738653431639035,
          1.2077668105529495,
          1.258084711534385,
          1.2658281716968929,
          1.3159007484476026,
          1.3904185954050745,
          1.4473111422290377,
          1.4538107038030506,
          1.522752479275765,
          1.5799588259555912,
          1.6433846899371738,
          1.6550863631464545,
          1.6887345237190015,
          1.787420247017144,
          1.9197541308878345,
          1.9609460118589932,
          2.052088014758524,
          2.062756074253281,
          2.1844218986292145,
          2.316755782499904,
          2.4490896663705937,
          2.581423550241284,
          2.7137574341119737,
          2.846091317982664,
          2.9784252018533537,
          3.110759085724044,
          3.2430929695947333
         ],
         "xaxis": "x2",
         "y": [
          0.0012763393241083992,
          0.002252759952117437,
          0.0035548758134619795,
          0.005470429114260893,
          0.008701731559998314,
          0.014298792846025102,
          0.023251303568328944,
          0.03562001164028286,
          0.04984714674286717,
          0.062369865669050374,
          0.06369514976401987,
          0.06921829208759128,
          0.07675128185552921,
          0.08875223108599777,
          0.09145039731636147,
          0.11061148440265021,
          0.11837296106643391,
          0.128575821491182,
          0.1346179738898483,
          0.14901648101029408,
          0.15988183814697823,
          0.16211796373657064,
          0.17376359419263912,
          0.1807704651049543,
          0.1924466366709134,
          0.20875318048645933,
          0.21030484150015782,
          0.22558737280670008,
          0.23387664471761196,
          0.23941216564584705,
          0.25269323148785316,
          0.2585338133185011,
          0.260353218775502,
          0.26585085778170986,
          0.27793822245940664,
          0.2927622505940361,
          0.2940210002154183,
          0.3019456172060676,
          0.30627178018792495,
          0.3192928844953514,
          0.3196998942512477,
          0.3232735737072461,
          0.332239705975711,
          0.33305528175107374,
          0.34078111809963757,
          0.3413954585208466,
          0.34546683508773884,
          0.34647647198995485,
          0.34695437178711747,
          0.35230352418151106,
          0.3541843074132213,
          0.35888452486732997,
          0.35919259515598845,
          0.36050923845221733,
          0.36219067116008985,
          0.36445836568546636,
          0.36814146995000163,
          0.37038107594095854,
          0.3709410616844744,
          0.37286285206453795,
          0.37531880657582584,
          0.37656490750875427,
          0.3770869966509778,
          0.378350453632421,
          0.378779034692114,
          0.3791020126186772,
          0.38023759819422787,
          0.3804511495778345,
          0.3809279459048383,
          0.3810457518603958,
          0.38102283014436544,
          0.38096598161354167,
          0.3806854278479322,
          0.38024257907158354,
          0.3800024730280295,
          0.3783943283621019,
          0.37796270876865967,
          0.376742416994504,
          0.3763589577283864,
          0.3743678593119882,
          0.3740676551505879,
          0.3700819023975898,
          0.36906297464439625,
          0.3659763164199444,
          0.3658380560597837,
          0.3641302844295677,
          0.3606525921358138,
          0.3580370585677607,
          0.3559524390082663,
          0.35334071984463017,
          0.3511514201436802,
          0.3510619642916991,
          0.3461240649635773,
          0.3452485508605295,
          0.3383580929596524,
          0.3342222808303334,
          0.3339463899441514,
          0.3287704020344124,
          0.326073055726251,
          0.3217201073420897,
          0.3182146232568638,
          0.3153522260956981,
          0.3117120761318316,
          0.31002338154710163,
          0.3023694368719202,
          0.3015608918615998,
          0.29522009402948296,
          0.29299559165956673,
          0.2929127935013493,
          0.28030232243718234,
          0.279700505192775,
          0.27327520161379315,
          0.2695504557485799,
          0.26335879500991316,
          0.2520766195691556,
          0.2509673753789629,
          0.2487499781134249,
          0.2399381940372909,
          0.2319791737034815,
          0.2207403261109291,
          0.22033203209623206,
          0.2089261397653645,
          0.2005955871266371,
          0.18789387204696156,
          0.1859136649280242,
          0.1730325453170224,
          0.15398019693639825,
          0.13989907057468526,
          0.1383289988885699,
          0.12227171684213875,
          0.1098659057448558,
          0.09714481670596545,
          0.09491718475373638,
          0.0887175199433234,
          0.07228754945086645,
          0.054402003998723955,
          0.04981093978350832,
          0.04120484799091487,
          0.04032623288108106,
          0.031829144660169076,
          0.024682328063887447,
          0.018559948445045743,
          0.013407445816106938,
          0.009827053254480671,
          0.008019775146079287,
          0.007337252105253382,
          0.006713185270568301,
          0.005451349393816187
         ],
         "yaxis": "y2"
        }
       ],
       "layout": {
        "annotations": [
         {
          "font": {
           "size": 16
          },
          "showarrow": false,
          "text": "Drift Score - Earth Mover's Distance",
          "x": 0.5,
          "xanchor": "center",
          "xref": "paper",
          "y": 1.0,
          "yanchor": "bottom",
          "yref": "paper"
         },
         {
          "font": {
           "size": 16
          },
          "showarrow": false,
          "text": "numeric_without_drift (#2 in FI)",
          "x": 0.5,
          "xanchor": "center",
          "xref": "paper",
          "y": 0.54,
          "yanchor": "bottom",
          "yref": "paper"
         }
        ],
        "height": 400,
        "legend": {
         "title": {
          "text": "Dataset"
         },
         "y": 0.6,
         "yanchor": "top"
        },
        "template": {
         "data": {
          "bar": [
           {
            "error_x": {
             "color": "#2a3f5f"
            },
            "error_y": {
             "color": "#2a3f5f"
            },
            "marker": {
             "line": {
              "color": "#E5ECF6",
              "width": 0.5
             },
             "pattern": {
              "fillmode": "overlay",
              "size": 10,
              "solidity": 0.2
             }
            },
            "type": "bar"
           }
          ],
          "barpolar": [
           {
            "marker": {
             "line": {
              "color": "#E5ECF6",
              "width": 0.5
             },
             "pattern": {
              "fillmode": "overlay",
              "size": 10,
              "solidity": 0.2
             }
            },
            "type": "barpolar"
           }
          ],
          "carpet": [
           {
            "aaxis": {
             "endlinecolor": "#2a3f5f",
             "gridcolor": "white",
             "linecolor": "white",
             "minorgridcolor": "white",
             "startlinecolor": "#2a3f5f"
            },
            "baxis": {
             "endlinecolor": "#2a3f5f",
             "gridcolor": "white",
             "linecolor": "white",
             "minorgridcolor": "white",
             "startlinecolor": "#2a3f5f"
            },
            "type": "carpet"
           }
          ],
          "choropleth": [
           {
            "colorbar": {
             "outlinewidth": 0,
             "ticks": ""
            },
            "type": "choropleth"
           }
          ],
          "contour": [
           {
            "colorbar": {
             "outlinewidth": 0,
             "ticks": ""
            },
            "colorscale": [
             [
              0.0,
              "#0d0887"
             ],
             [
              0.1111111111111111,
              "#46039f"
             ],
             [
              0.2222222222222222,
              "#7201a8"
             ],
             [
              0.3333333333333333,
              "#9c179e"
             ],
             [
              0.4444444444444444,
              "#bd3786"
             ],
             [
              0.5555555555555556,
              "#d8576b"
             ],
             [
              0.6666666666666666,
              "#ed7953"
             ],
             [
              0.7777777777777778,
              "#fb9f3a"
             ],
             [
              0.8888888888888888,
              "#fdca26"
             ],
             [
              1.0,
              "#f0f921"
             ]
            ],
            "type": "contour"
           }
          ],
          "contourcarpet": [
           {
            "colorbar": {
             "outlinewidth": 0,
             "ticks": ""
            },
            "type": "contourcarpet"
           }
          ],
          "heatmap": [
           {
            "colorbar": {
             "outlinewidth": 0,
             "ticks": ""
            },
            "colorscale": [
             [
              0.0,
              "#0d0887"
             ],
             [
              0.1111111111111111,
              "#46039f"
             ],
             [
              0.2222222222222222,
              "#7201a8"
             ],
             [
              0.3333333333333333,
              "#9c179e"
             ],
             [
              0.4444444444444444,
              "#bd3786"
             ],
             [
              0.5555555555555556,
              "#d8576b"
             ],
             [
              0.6666666666666666,
              "#ed7953"
             ],
             [
              0.7777777777777778,
              "#fb9f3a"
             ],
             [
              0.8888888888888888,
              "#fdca26"
             ],
             [
              1.0,
              "#f0f921"
             ]
            ],
            "type": "heatmap"
           }
          ],
          "heatmapgl": [
           {
            "colorbar": {
             "outlinewidth": 0,
             "ticks": ""
            },
            "colorscale": [
             [
              0.0,
              "#0d0887"
             ],
             [
              0.1111111111111111,
              "#46039f"
             ],
             [
              0.2222222222222222,
              "#7201a8"
             ],
             [
              0.3333333333333333,
              "#9c179e"
             ],
             [
              0.4444444444444444,
              "#bd3786"
             ],
             [
              0.5555555555555556,
              "#d8576b"
             ],
             [
              0.6666666666666666,
              "#ed7953"
             ],
             [
              0.7777777777777778,
              "#fb9f3a"
             ],
             [
              0.8888888888888888,
              "#fdca26"
             ],
             [
              1.0,
              "#f0f921"
             ]
            ],
            "type": "heatmapgl"
           }
          ],
          "histogram": [
           {
            "marker": {
             "pattern": {
              "fillmode": "overlay",
              "size": 10,
              "solidity": 0.2
             }
            },
            "type": "histogram"
           }
          ],
          "histogram2d": [
           {
            "colorbar": {
             "outlinewidth": 0,
             "ticks": ""
            },
            "colorscale": [
             [
              0.0,
              "#0d0887"
             ],
             [
              0.1111111111111111,
              "#46039f"
             ],
             [
              0.2222222222222222,
              "#7201a8"
             ],
             [
              0.3333333333333333,
              "#9c179e"
             ],
             [
              0.4444444444444444,
              "#bd3786"
             ],
             [
              0.5555555555555556,
              "#d8576b"
             ],
             [
              0.6666666666666666,
              "#ed7953"
             ],
             [
              0.7777777777777778,
              "#fb9f3a"
             ],
             [
              0.8888888888888888,
              "#fdca26"
             ],
             [
              1.0,
              "#f0f921"
             ]
            ],
            "type": "histogram2d"
           }
          ],
          "histogram2dcontour": [
           {
            "colorbar": {
             "outlinewidth": 0,
             "ticks": ""
            },
            "colorscale": [
             [
              0.0,
              "#0d0887"
             ],
             [
              0.1111111111111111,
              "#46039f"
             ],
             [
              0.2222222222222222,
              "#7201a8"
             ],
             [
              0.3333333333333333,
              "#9c179e"
             ],
             [
              0.4444444444444444,
              "#bd3786"
             ],
             [
              0.5555555555555556,
              "#d8576b"
             ],
             [
              0.6666666666666666,
              "#ed7953"
             ],
             [
              0.7777777777777778,
              "#fb9f3a"
             ],
             [
              0.8888888888888888,
              "#fdca26"
             ],
             [
              1.0,
              "#f0f921"
             ]
            ],
            "type": "histogram2dcontour"
           }
          ],
          "mesh3d": [
           {
            "colorbar": {
             "outlinewidth": 0,
             "ticks": ""
            },
            "type": "mesh3d"
           }
          ],
          "parcoords": [
           {
            "line": {
             "colorbar": {
              "outlinewidth": 0,
              "ticks": ""
             }
            },
            "type": "parcoords"
           }
          ],
          "pie": [
           {
            "automargin": true,
            "type": "pie"
           }
          ],
          "scatter": [
           {
            "marker": {
             "colorbar": {
              "outlinewidth": 0,
              "ticks": ""
             }
            },
            "type": "scatter"
           }
          ],
          "scatter3d": [
           {
            "line": {
             "colorbar": {
              "outlinewidth": 0,
              "ticks": ""
             }
            },
            "marker": {
             "colorbar": {
              "outlinewidth": 0,
              "ticks": ""
             }
            },
            "type": "scatter3d"
           }
          ],
          "scattercarpet": [
           {
            "marker": {
             "colorbar": {
              "outlinewidth": 0,
              "ticks": ""
             }
            },
            "type": "scattercarpet"
           }
          ],
          "scattergeo": [
           {
            "marker": {
             "colorbar": {
              "outlinewidth": 0,
              "ticks": ""
             }
            },
            "type": "scattergeo"
           }
          ],
          "scattergl": [
           {
            "marker": {
             "colorbar": {
              "outlinewidth": 0,
              "ticks": ""
             }
            },
            "type": "scattergl"
           }
          ],
          "scattermapbox": [
           {
            "marker": {
             "colorbar": {
              "outlinewidth": 0,
              "ticks": ""
             }
            },
            "type": "scattermapbox"
           }
          ],
          "scatterpolar": [
           {
            "marker": {
             "colorbar": {
              "outlinewidth": 0,
              "ticks": ""
             }
            },
            "type": "scatterpolar"
           }
          ],
          "scatterpolargl": [
           {
            "marker": {
             "colorbar": {
              "outlinewidth": 0,
              "ticks": ""
             }
            },
            "type": "scatterpolargl"
           }
          ],
          "scatterternary": [
           {
            "marker": {
             "colorbar": {
              "outlinewidth": 0,
              "ticks": ""
             }
            },
            "type": "scatterternary"
           }
          ],
          "surface": [
           {
            "colorbar": {
             "outlinewidth": 0,
             "ticks": ""
            },
            "colorscale": [
             [
              0.0,
              "#0d0887"
             ],
             [
              0.1111111111111111,
              "#46039f"
             ],
             [
              0.2222222222222222,
              "#7201a8"
             ],
             [
              0.3333333333333333,
              "#9c179e"
             ],
             [
              0.4444444444444444,
              "#bd3786"
             ],
             [
              0.5555555555555556,
              "#d8576b"
             ],
             [
              0.6666666666666666,
              "#ed7953"
             ],
             [
              0.7777777777777778,
              "#fb9f3a"
             ],
             [
              0.8888888888888888,
              "#fdca26"
             ],
             [
              1.0,
              "#f0f921"
             ]
            ],
            "type": "surface"
           }
          ],
          "table": [
           {
            "cells": {
             "fill": {
              "color": "#EBF0F8"
             },
             "line": {
              "color": "white"
             }
            },
            "header": {
             "fill": {
              "color": "#C8D4E3"
             },
             "line": {
              "color": "white"
             }
            },
            "type": "table"
           }
          ]
         },
         "layout": {
          "annotationdefaults": {
           "arrowcolor": "#2a3f5f",
           "arrowhead": 0,
           "arrowwidth": 1
          },
          "autotypenumbers": "strict",
          "coloraxis": {
           "colorbar": {
            "outlinewidth": 0,
            "ticks": ""
           }
          },
          "colorscale": {
           "diverging": [
            [
             0,
             "#8e0152"
            ],
            [
             0.1,
             "#c51b7d"
            ],
            [
             0.2,
             "#de77ae"
            ],
            [
             0.3,
             "#f1b6da"
            ],
            [
             0.4,
             "#fde0ef"
            ],
            [
             0.5,
             "#f7f7f7"
            ],
            [
             0.6,
             "#e6f5d0"
            ],
            [
             0.7,
             "#b8e186"
            ],
            [
             0.8,
             "#7fbc41"
            ],
            [
             0.9,
             "#4d9221"
            ],
            [
             1,
             "#276419"
            ]
           ],
           "sequential": [
            [
             0.0,
             "#0d0887"
            ],
            [
             0.1111111111111111,
             "#46039f"
            ],
            [
             0.2222222222222222,
             "#7201a8"
            ],
            [
             0.3333333333333333,
             "#9c179e"
            ],
            [
             0.4444444444444444,
             "#bd3786"
            ],
            [
             0.5555555555555556,
             "#d8576b"
            ],
            [
             0.6666666666666666,
             "#ed7953"
            ],
            [
             0.7777777777777778,
             "#fb9f3a"
            ],
            [
             0.8888888888888888,
             "#fdca26"
            ],
            [
             1.0,
             "#f0f921"
            ]
           ],
           "sequentialminus": [
            [
             0.0,
             "#0d0887"
            ],
            [
             0.1111111111111111,
             "#46039f"
            ],
            [
             0.2222222222222222,
             "#7201a8"
            ],
            [
             0.3333333333333333,
             "#9c179e"
            ],
            [
             0.4444444444444444,
             "#bd3786"
            ],
            [
             0.5555555555555556,
             "#d8576b"
            ],
            [
             0.6666666666666666,
             "#ed7953"
            ],
            [
             0.7777777777777778,
             "#fb9f3a"
            ],
            [
             0.8888888888888888,
             "#fdca26"
            ],
            [
             1.0,
             "#f0f921"
            ]
           ]
          },
          "colorway": [
           "#636efa",
           "#EF553B",
           "#00cc96",
           "#ab63fa",
           "#FFA15A",
           "#19d3f3",
           "#FF6692",
           "#B6E880",
           "#FF97FF",
           "#FECB52"
          ],
          "font": {
           "color": "#2a3f5f"
          },
          "geo": {
           "bgcolor": "white",
           "lakecolor": "white",
           "landcolor": "#E5ECF6",
           "showlakes": true,
           "showland": true,
           "subunitcolor": "white"
          },
          "hoverlabel": {
           "align": "left"
          },
          "hovermode": "closest",
          "mapbox": {
           "style": "light"
          },
          "paper_bgcolor": "white",
          "plot_bgcolor": "#E5ECF6",
          "polar": {
           "angularaxis": {
            "gridcolor": "white",
            "linecolor": "white",
            "ticks": ""
           },
           "bgcolor": "#E5ECF6",
           "radialaxis": {
            "gridcolor": "white",
            "linecolor": "white",
            "ticks": ""
           }
          },
          "scene": {
           "xaxis": {
            "backgroundcolor": "#E5ECF6",
            "gridcolor": "white",
            "gridwidth": 2,
            "linecolor": "white",
            "showbackground": true,
            "ticks": "",
            "zerolinecolor": "white"
           },
           "yaxis": {
            "backgroundcolor": "#E5ECF6",
            "gridcolor": "white",
            "gridwidth": 2,
            "linecolor": "white",
            "showbackground": true,
            "ticks": "",
            "zerolinecolor": "white"
           },
           "zaxis": {
            "backgroundcolor": "#E5ECF6",
            "gridcolor": "white",
            "gridwidth": 2,
            "linecolor": "white",
            "showbackground": true,
            "ticks": "",
            "zerolinecolor": "white"
           }
          },
          "shapedefaults": {
           "line": {
            "color": "#2a3f5f"
           }
          },
          "ternary": {
           "aaxis": {
            "gridcolor": "white",
            "linecolor": "white",
            "ticks": ""
           },
           "baxis": {
            "gridcolor": "white",
            "linecolor": "white",
            "ticks": ""
           },
           "bgcolor": "#E5ECF6",
           "caxis": {
            "gridcolor": "white",
            "linecolor": "white",
            "ticks": ""
           }
          },
          "title": {
           "x": 0.05
          },
          "xaxis": {
           "automargin": true,
           "gridcolor": "white",
           "linecolor": "white",
           "ticks": "",
           "title": {
            "standoff": 15
           },
           "zerolinecolor": "white",
           "zerolinewidth": 2
          },
          "yaxis": {
           "automargin": true,
           "gridcolor": "white",
           "linecolor": "white",
           "ticks": "",
           "title": {
            "standoff": 15
           },
           "zerolinecolor": "white",
           "zerolinewidth": 2
          }
         }
        },
        "width": 700,
        "xaxis": {
         "anchor": "y",
         "domain": [
          0.0,
          1.0
         ],
         "dtick": 0.05,
         "fixedrange": true,
         "gridcolor": "black",
         "linecolor": "black",
         "range": [
          0,
          0.4
         ],
         "showgrid": false
        },
        "xaxis2": {
         "anchor": "y2",
         "domain": [
          0.0,
          1.0
         ],
         "fixedrange": false,
         "range": [
          -2.0634367503549917,
          2.062756074253281
         ],
         "title": {
          "text": "Distribution"
         }
        },
        "yaxis": {
         "anchor": "x",
         "color": "black",
         "domain": [
          0.9400000000000001,
          1.0
         ],
         "fixedrange": true,
         "showgrid": false,
         "showline": false,
         "showticklabels": false,
         "zeroline": false
        },
        "yaxis2": {
         "anchor": "x2",
         "domain": [
          0.0,
          0.54
         ],
         "fixedrange": true,
         "title": {
          "text": "Probability Density"
         }
        }
       }
      }
     },
     "metadata": {},
     "output_type": "display_data"
    },
    {
     "data": {
      "text/html": []
     },
     "metadata": {},
     "output_type": "display_data"
    },
    {
     "data": {
      "application/vnd.plotly.v1+json": {
       "config": {
        "plotlyServerURL": "https://plot.ly"
       },
       "data": [
        {
         "base": 0,
         "marker": {
          "color": "#01B8AA"
         },
         "offsetgroup": "0",
         "orientation": "h",
         "showlegend": false,
         "type": "bar",
         "x": [
          0.004109630273978717
         ],
         "xaxis": "x",
         "y": [
          "Drift Score"
         ],
         "yaxis": "y"
        },
        {
         "marker": {
          "color": "darkblue"
         },
         "name": "Train Dataset",
         "type": "bar",
         "x": [
          "orange",
          "banana",
          "apple"
         ],
         "xaxis": "x2",
         "y": [
          0.309,
          0.186,
          0.505
         ],
         "yaxis": "y2"
        },
        {
         "marker": {
          "color": "#69b3a2"
         },
         "name": "Test Dataset",
         "type": "bar",
         "x": [
          "orange",
          "banana",
          "apple"
         ],
         "xaxis": "x2",
         "y": [
          0.282,
          0.184,
          0.534
         ],
         "yaxis": "y2"
        }
       ],
       "layout": {
        "annotations": [
         {
          "font": {
           "size": 16
          },
          "showarrow": false,
          "text": "Drift Score - PSI",
          "x": 0.5,
          "xanchor": "center",
          "xref": "paper",
          "y": 1.0,
          "yanchor": "bottom",
          "yref": "paper"
         },
         {
          "font": {
           "size": 16
          },
          "showarrow": false,
          "text": "categorical_without_drift (#3 in FI)",
          "x": 0.5,
          "xanchor": "center",
          "xref": "paper",
          "y": 0.54,
          "yanchor": "bottom",
          "yref": "paper"
         }
        ],
        "height": 400,
        "legend": {
         "title": {
          "text": "Dataset"
         },
         "y": 0.6,
         "yanchor": "top"
        },
        "template": {
         "data": {
          "bar": [
           {
            "error_x": {
             "color": "#2a3f5f"
            },
            "error_y": {
             "color": "#2a3f5f"
            },
            "marker": {
             "line": {
              "color": "#E5ECF6",
              "width": 0.5
             },
             "pattern": {
              "fillmode": "overlay",
              "size": 10,
              "solidity": 0.2
             }
            },
            "type": "bar"
           }
          ],
          "barpolar": [
           {
            "marker": {
             "line": {
              "color": "#E5ECF6",
              "width": 0.5
             },
             "pattern": {
              "fillmode": "overlay",
              "size": 10,
              "solidity": 0.2
             }
            },
            "type": "barpolar"
           }
          ],
          "carpet": [
           {
            "aaxis": {
             "endlinecolor": "#2a3f5f",
             "gridcolor": "white",
             "linecolor": "white",
             "minorgridcolor": "white",
             "startlinecolor": "#2a3f5f"
            },
            "baxis": {
             "endlinecolor": "#2a3f5f",
             "gridcolor": "white",
             "linecolor": "white",
             "minorgridcolor": "white",
             "startlinecolor": "#2a3f5f"
            },
            "type": "carpet"
           }
          ],
          "choropleth": [
           {
            "colorbar": {
             "outlinewidth": 0,
             "ticks": ""
            },
            "type": "choropleth"
           }
          ],
          "contour": [
           {
            "colorbar": {
             "outlinewidth": 0,
             "ticks": ""
            },
            "colorscale": [
             [
              0.0,
              "#0d0887"
             ],
             [
              0.1111111111111111,
              "#46039f"
             ],
             [
              0.2222222222222222,
              "#7201a8"
             ],
             [
              0.3333333333333333,
              "#9c179e"
             ],
             [
              0.4444444444444444,
              "#bd3786"
             ],
             [
              0.5555555555555556,
              "#d8576b"
             ],
             [
              0.6666666666666666,
              "#ed7953"
             ],
             [
              0.7777777777777778,
              "#fb9f3a"
             ],
             [
              0.8888888888888888,
              "#fdca26"
             ],
             [
              1.0,
              "#f0f921"
             ]
            ],
            "type": "contour"
           }
          ],
          "contourcarpet": [
           {
            "colorbar": {
             "outlinewidth": 0,
             "ticks": ""
            },
            "type": "contourcarpet"
           }
          ],
          "heatmap": [
           {
            "colorbar": {
             "outlinewidth": 0,
             "ticks": ""
            },
            "colorscale": [
             [
              0.0,
              "#0d0887"
             ],
             [
              0.1111111111111111,
              "#46039f"
             ],
             [
              0.2222222222222222,
              "#7201a8"
             ],
             [
              0.3333333333333333,
              "#9c179e"
             ],
             [
              0.4444444444444444,
              "#bd3786"
             ],
             [
              0.5555555555555556,
              "#d8576b"
             ],
             [
              0.6666666666666666,
              "#ed7953"
             ],
             [
              0.7777777777777778,
              "#fb9f3a"
             ],
             [
              0.8888888888888888,
              "#fdca26"
             ],
             [
              1.0,
              "#f0f921"
             ]
            ],
            "type": "heatmap"
           }
          ],
          "heatmapgl": [
           {
            "colorbar": {
             "outlinewidth": 0,
             "ticks": ""
            },
            "colorscale": [
             [
              0.0,
              "#0d0887"
             ],
             [
              0.1111111111111111,
              "#46039f"
             ],
             [
              0.2222222222222222,
              "#7201a8"
             ],
             [
              0.3333333333333333,
              "#9c179e"
             ],
             [
              0.4444444444444444,
              "#bd3786"
             ],
             [
              0.5555555555555556,
              "#d8576b"
             ],
             [
              0.6666666666666666,
              "#ed7953"
             ],
             [
              0.7777777777777778,
              "#fb9f3a"
             ],
             [
              0.8888888888888888,
              "#fdca26"
             ],
             [
              1.0,
              "#f0f921"
             ]
            ],
            "type": "heatmapgl"
           }
          ],
          "histogram": [
           {
            "marker": {
             "pattern": {
              "fillmode": "overlay",
              "size": 10,
              "solidity": 0.2
             }
            },
            "type": "histogram"
           }
          ],
          "histogram2d": [
           {
            "colorbar": {
             "outlinewidth": 0,
             "ticks": ""
            },
            "colorscale": [
             [
              0.0,
              "#0d0887"
             ],
             [
              0.1111111111111111,
              "#46039f"
             ],
             [
              0.2222222222222222,
              "#7201a8"
             ],
             [
              0.3333333333333333,
              "#9c179e"
             ],
             [
              0.4444444444444444,
              "#bd3786"
             ],
             [
              0.5555555555555556,
              "#d8576b"
             ],
             [
              0.6666666666666666,
              "#ed7953"
             ],
             [
              0.7777777777777778,
              "#fb9f3a"
             ],
             [
              0.8888888888888888,
              "#fdca26"
             ],
             [
              1.0,
              "#f0f921"
             ]
            ],
            "type": "histogram2d"
           }
          ],
          "histogram2dcontour": [
           {
            "colorbar": {
             "outlinewidth": 0,
             "ticks": ""
            },
            "colorscale": [
             [
              0.0,
              "#0d0887"
             ],
             [
              0.1111111111111111,
              "#46039f"
             ],
             [
              0.2222222222222222,
              "#7201a8"
             ],
             [
              0.3333333333333333,
              "#9c179e"
             ],
             [
              0.4444444444444444,
              "#bd3786"
             ],
             [
              0.5555555555555556,
              "#d8576b"
             ],
             [
              0.6666666666666666,
              "#ed7953"
             ],
             [
              0.7777777777777778,
              "#fb9f3a"
             ],
             [
              0.8888888888888888,
              "#fdca26"
             ],
             [
              1.0,
              "#f0f921"
             ]
            ],
            "type": "histogram2dcontour"
           }
          ],
          "mesh3d": [
           {
            "colorbar": {
             "outlinewidth": 0,
             "ticks": ""
            },
            "type": "mesh3d"
           }
          ],
          "parcoords": [
           {
            "line": {
             "colorbar": {
              "outlinewidth": 0,
              "ticks": ""
             }
            },
            "type": "parcoords"
           }
          ],
          "pie": [
           {
            "automargin": true,
            "type": "pie"
           }
          ],
          "scatter": [
           {
            "marker": {
             "colorbar": {
              "outlinewidth": 0,
              "ticks": ""
             }
            },
            "type": "scatter"
           }
          ],
          "scatter3d": [
           {
            "line": {
             "colorbar": {
              "outlinewidth": 0,
              "ticks": ""
             }
            },
            "marker": {
             "colorbar": {
              "outlinewidth": 0,
              "ticks": ""
             }
            },
            "type": "scatter3d"
           }
          ],
          "scattercarpet": [
           {
            "marker": {
             "colorbar": {
              "outlinewidth": 0,
              "ticks": ""
             }
            },
            "type": "scattercarpet"
           }
          ],
          "scattergeo": [
           {
            "marker": {
             "colorbar": {
              "outlinewidth": 0,
              "ticks": ""
             }
            },
            "type": "scattergeo"
           }
          ],
          "scattergl": [
           {
            "marker": {
             "colorbar": {
              "outlinewidth": 0,
              "ticks": ""
             }
            },
            "type": "scattergl"
           }
          ],
          "scattermapbox": [
           {
            "marker": {
             "colorbar": {
              "outlinewidth": 0,
              "ticks": ""
             }
            },
            "type": "scattermapbox"
           }
          ],
          "scatterpolar": [
           {
            "marker": {
             "colorbar": {
              "outlinewidth": 0,
              "ticks": ""
             }
            },
            "type": "scatterpolar"
           }
          ],
          "scatterpolargl": [
           {
            "marker": {
             "colorbar": {
              "outlinewidth": 0,
              "ticks": ""
             }
            },
            "type": "scatterpolargl"
           }
          ],
          "scatterternary": [
           {
            "marker": {
             "colorbar": {
              "outlinewidth": 0,
              "ticks": ""
             }
            },
            "type": "scatterternary"
           }
          ],
          "surface": [
           {
            "colorbar": {
             "outlinewidth": 0,
             "ticks": ""
            },
            "colorscale": [
             [
              0.0,
              "#0d0887"
             ],
             [
              0.1111111111111111,
              "#46039f"
             ],
             [
              0.2222222222222222,
              "#7201a8"
             ],
             [
              0.3333333333333333,
              "#9c179e"
             ],
             [
              0.4444444444444444,
              "#bd3786"
             ],
             [
              0.5555555555555556,
              "#d8576b"
             ],
             [
              0.6666666666666666,
              "#ed7953"
             ],
             [
              0.7777777777777778,
              "#fb9f3a"
             ],
             [
              0.8888888888888888,
              "#fdca26"
             ],
             [
              1.0,
              "#f0f921"
             ]
            ],
            "type": "surface"
           }
          ],
          "table": [
           {
            "cells": {
             "fill": {
              "color": "#EBF0F8"
             },
             "line": {
              "color": "white"
             }
            },
            "header": {
             "fill": {
              "color": "#C8D4E3"
             },
             "line": {
              "color": "white"
             }
            },
            "type": "table"
           }
          ]
         },
         "layout": {
          "annotationdefaults": {
           "arrowcolor": "#2a3f5f",
           "arrowhead": 0,
           "arrowwidth": 1
          },
          "autotypenumbers": "strict",
          "coloraxis": {
           "colorbar": {
            "outlinewidth": 0,
            "ticks": ""
           }
          },
          "colorscale": {
           "diverging": [
            [
             0,
             "#8e0152"
            ],
            [
             0.1,
             "#c51b7d"
            ],
            [
             0.2,
             "#de77ae"
            ],
            [
             0.3,
             "#f1b6da"
            ],
            [
             0.4,
             "#fde0ef"
            ],
            [
             0.5,
             "#f7f7f7"
            ],
            [
             0.6,
             "#e6f5d0"
            ],
            [
             0.7,
             "#b8e186"
            ],
            [
             0.8,
             "#7fbc41"
            ],
            [
             0.9,
             "#4d9221"
            ],
            [
             1,
             "#276419"
            ]
           ],
           "sequential": [
            [
             0.0,
             "#0d0887"
            ],
            [
             0.1111111111111111,
             "#46039f"
            ],
            [
             0.2222222222222222,
             "#7201a8"
            ],
            [
             0.3333333333333333,
             "#9c179e"
            ],
            [
             0.4444444444444444,
             "#bd3786"
            ],
            [
             0.5555555555555556,
             "#d8576b"
            ],
            [
             0.6666666666666666,
             "#ed7953"
            ],
            [
             0.7777777777777778,
             "#fb9f3a"
            ],
            [
             0.8888888888888888,
             "#fdca26"
            ],
            [
             1.0,
             "#f0f921"
            ]
           ],
           "sequentialminus": [
            [
             0.0,
             "#0d0887"
            ],
            [
             0.1111111111111111,
             "#46039f"
            ],
            [
             0.2222222222222222,
             "#7201a8"
            ],
            [
             0.3333333333333333,
             "#9c179e"
            ],
            [
             0.4444444444444444,
             "#bd3786"
            ],
            [
             0.5555555555555556,
             "#d8576b"
            ],
            [
             0.6666666666666666,
             "#ed7953"
            ],
            [
             0.7777777777777778,
             "#fb9f3a"
            ],
            [
             0.8888888888888888,
             "#fdca26"
            ],
            [
             1.0,
             "#f0f921"
            ]
           ]
          },
          "colorway": [
           "#636efa",
           "#EF553B",
           "#00cc96",
           "#ab63fa",
           "#FFA15A",
           "#19d3f3",
           "#FF6692",
           "#B6E880",
           "#FF97FF",
           "#FECB52"
          ],
          "font": {
           "color": "#2a3f5f"
          },
          "geo": {
           "bgcolor": "white",
           "lakecolor": "white",
           "landcolor": "#E5ECF6",
           "showlakes": true,
           "showland": true,
           "subunitcolor": "white"
          },
          "hoverlabel": {
           "align": "left"
          },
          "hovermode": "closest",
          "mapbox": {
           "style": "light"
          },
          "paper_bgcolor": "white",
          "plot_bgcolor": "#E5ECF6",
          "polar": {
           "angularaxis": {
            "gridcolor": "white",
            "linecolor": "white",
            "ticks": ""
           },
           "bgcolor": "#E5ECF6",
           "radialaxis": {
            "gridcolor": "white",
            "linecolor": "white",
            "ticks": ""
           }
          },
          "scene": {
           "xaxis": {
            "backgroundcolor": "#E5ECF6",
            "gridcolor": "white",
            "gridwidth": 2,
            "linecolor": "white",
            "showbackground": true,
            "ticks": "",
            "zerolinecolor": "white"
           },
           "yaxis": {
            "backgroundcolor": "#E5ECF6",
            "gridcolor": "white",
            "gridwidth": 2,
            "linecolor": "white",
            "showbackground": true,
            "ticks": "",
            "zerolinecolor": "white"
           },
           "zaxis": {
            "backgroundcolor": "#E5ECF6",
            "gridcolor": "white",
            "gridwidth": 2,
            "linecolor": "white",
            "showbackground": true,
            "ticks": "",
            "zerolinecolor": "white"
           }
          },
          "shapedefaults": {
           "line": {
            "color": "#2a3f5f"
           }
          },
          "ternary": {
           "aaxis": {
            "gridcolor": "white",
            "linecolor": "white",
            "ticks": ""
           },
           "baxis": {
            "gridcolor": "white",
            "linecolor": "white",
            "ticks": ""
           },
           "bgcolor": "#E5ECF6",
           "caxis": {
            "gridcolor": "white",
            "linecolor": "white",
            "ticks": ""
           }
          },
          "title": {
           "x": 0.05
          },
          "xaxis": {
           "automargin": true,
           "gridcolor": "white",
           "linecolor": "white",
           "ticks": "",
           "title": {
            "standoff": 15
           },
           "zerolinecolor": "white",
           "zerolinewidth": 2
          },
          "yaxis": {
           "automargin": true,
           "gridcolor": "white",
           "linecolor": "white",
           "ticks": "",
           "title": {
            "standoff": 15
           },
           "zerolinecolor": "white",
           "zerolinewidth": 2
          }
         }
        },
        "width": 700,
        "xaxis": {
         "anchor": "y",
         "domain": [
          0.0,
          1.0
         ],
         "dtick": 0.05,
         "fixedrange": true,
         "gridcolor": "black",
         "linecolor": "black",
         "range": [
          0,
          0.4
         ],
         "showgrid": false
        },
        "xaxis2": {
         "anchor": "y2",
         "domain": [
          0,
          1
         ],
         "type": "category"
        },
        "yaxis": {
         "anchor": "x",
         "color": "black",
         "domain": [
          0.9400000000000001,
          1.0
         ],
         "fixedrange": true,
         "showgrid": false,
         "showline": false,
         "showticklabels": false,
         "zeroline": false
        },
        "yaxis2": {
         "anchor": "x2",
         "domain": [
          0.0,
          0.54
         ],
         "fixedrange": true,
         "range": [
          0,
          1
         ],
         "title": {
          "text": "Percentage"
         }
        }
       }
      }
     },
     "metadata": {},
     "output_type": "display_data"
    },
    {
     "data": {
      "text/html": []
     },
     "metadata": {},
     "output_type": "display_data"
    },
    {
     "data": {
      "application/vnd.plotly.v1+json": {
       "config": {
        "plotlyServerURL": "https://plot.ly"
       },
       "data": [
        {
         "base": 0,
         "marker": {
          "color": "#01B8AA"
         },
         "offsetgroup": "0",
         "orientation": "h",
         "showlegend": false,
         "type": "bar",
         "x": [
          0.1
         ],
         "xaxis": "x",
         "y": [
          "Drift Score"
         ],
         "yaxis": "y"
        },
        {
         "base": 0.1,
         "marker": {
          "color": "#F2C80F"
         },
         "offsetgroup": "0",
         "orientation": "h",
         "showlegend": false,
         "type": "bar",
         "x": [
          0.1
         ],
         "xaxis": "x",
         "y": [
          "Drift Score"
         ],
         "yaxis": "y"
        },
        {
         "base": 0.2,
         "marker": {
          "color": "#FE9666"
         },
         "offsetgroup": "0",
         "orientation": "h",
         "showlegend": false,
         "type": "bar",
         "x": [
          0.023437553590990673
         ],
         "xaxis": "x",
         "y": [
          "Drift Score"
         ],
         "yaxis": "y"
        },
        {
         "marker": {
          "color": "darkblue"
         },
         "name": "Train Dataset",
         "type": "bar",
         "x": [
          "orange",
          "banana",
          "lemon",
          "apple"
         ],
         "xaxis": "x2",
         "y": [
          0.296,
          0.195,
          0,
          0.509
         ],
         "yaxis": "y2"
        },
        {
         "marker": {
          "color": "#69b3a2"
         },
         "name": "Test Dataset",
         "type": "bar",
         "x": [
          "orange",
          "banana",
          "lemon",
          "apple"
         ],
         "xaxis": "x2",
         "y": [
          0.256,
          0.164,
          0.101,
          0.479
         ],
         "yaxis": "y2"
        }
       ],
       "layout": {
        "annotations": [
         {
          "font": {
           "size": 16
          },
          "showarrow": false,
          "text": "Drift Score - PSI",
          "x": 0.5,
          "xanchor": "center",
          "xref": "paper",
          "y": 1.0,
          "yanchor": "bottom",
          "yref": "paper"
         },
         {
          "font": {
           "size": 16
          },
          "showarrow": false,
          "text": "categorical_with_drift (#4 in FI)",
          "x": 0.5,
          "xanchor": "center",
          "xref": "paper",
          "y": 0.54,
          "yanchor": "bottom",
          "yref": "paper"
         }
        ],
        "height": 400,
        "legend": {
         "title": {
          "text": "Dataset"
         },
         "y": 0.6,
         "yanchor": "top"
        },
        "template": {
         "data": {
          "bar": [
           {
            "error_x": {
             "color": "#2a3f5f"
            },
            "error_y": {
             "color": "#2a3f5f"
            },
            "marker": {
             "line": {
              "color": "#E5ECF6",
              "width": 0.5
             },
             "pattern": {
              "fillmode": "overlay",
              "size": 10,
              "solidity": 0.2
             }
            },
            "type": "bar"
           }
          ],
          "barpolar": [
           {
            "marker": {
             "line": {
              "color": "#E5ECF6",
              "width": 0.5
             },
             "pattern": {
              "fillmode": "overlay",
              "size": 10,
              "solidity": 0.2
             }
            },
            "type": "barpolar"
           }
          ],
          "carpet": [
           {
            "aaxis": {
             "endlinecolor": "#2a3f5f",
             "gridcolor": "white",
             "linecolor": "white",
             "minorgridcolor": "white",
             "startlinecolor": "#2a3f5f"
            },
            "baxis": {
             "endlinecolor": "#2a3f5f",
             "gridcolor": "white",
             "linecolor": "white",
             "minorgridcolor": "white",
             "startlinecolor": "#2a3f5f"
            },
            "type": "carpet"
           }
          ],
          "choropleth": [
           {
            "colorbar": {
             "outlinewidth": 0,
             "ticks": ""
            },
            "type": "choropleth"
           }
          ],
          "contour": [
           {
            "colorbar": {
             "outlinewidth": 0,
             "ticks": ""
            },
            "colorscale": [
             [
              0.0,
              "#0d0887"
             ],
             [
              0.1111111111111111,
              "#46039f"
             ],
             [
              0.2222222222222222,
              "#7201a8"
             ],
             [
              0.3333333333333333,
              "#9c179e"
             ],
             [
              0.4444444444444444,
              "#bd3786"
             ],
             [
              0.5555555555555556,
              "#d8576b"
             ],
             [
              0.6666666666666666,
              "#ed7953"
             ],
             [
              0.7777777777777778,
              "#fb9f3a"
             ],
             [
              0.8888888888888888,
              "#fdca26"
             ],
             [
              1.0,
              "#f0f921"
             ]
            ],
            "type": "contour"
           }
          ],
          "contourcarpet": [
           {
            "colorbar": {
             "outlinewidth": 0,
             "ticks": ""
            },
            "type": "contourcarpet"
           }
          ],
          "heatmap": [
           {
            "colorbar": {
             "outlinewidth": 0,
             "ticks": ""
            },
            "colorscale": [
             [
              0.0,
              "#0d0887"
             ],
             [
              0.1111111111111111,
              "#46039f"
             ],
             [
              0.2222222222222222,
              "#7201a8"
             ],
             [
              0.3333333333333333,
              "#9c179e"
             ],
             [
              0.4444444444444444,
              "#bd3786"
             ],
             [
              0.5555555555555556,
              "#d8576b"
             ],
             [
              0.6666666666666666,
              "#ed7953"
             ],
             [
              0.7777777777777778,
              "#fb9f3a"
             ],
             [
              0.8888888888888888,
              "#fdca26"
             ],
             [
              1.0,
              "#f0f921"
             ]
            ],
            "type": "heatmap"
           }
          ],
          "heatmapgl": [
           {
            "colorbar": {
             "outlinewidth": 0,
             "ticks": ""
            },
            "colorscale": [
             [
              0.0,
              "#0d0887"
             ],
             [
              0.1111111111111111,
              "#46039f"
             ],
             [
              0.2222222222222222,
              "#7201a8"
             ],
             [
              0.3333333333333333,
              "#9c179e"
             ],
             [
              0.4444444444444444,
              "#bd3786"
             ],
             [
              0.5555555555555556,
              "#d8576b"
             ],
             [
              0.6666666666666666,
              "#ed7953"
             ],
             [
              0.7777777777777778,
              "#fb9f3a"
             ],
             [
              0.8888888888888888,
              "#fdca26"
             ],
             [
              1.0,
              "#f0f921"
             ]
            ],
            "type": "heatmapgl"
           }
          ],
          "histogram": [
           {
            "marker": {
             "pattern": {
              "fillmode": "overlay",
              "size": 10,
              "solidity": 0.2
             }
            },
            "type": "histogram"
           }
          ],
          "histogram2d": [
           {
            "colorbar": {
             "outlinewidth": 0,
             "ticks": ""
            },
            "colorscale": [
             [
              0.0,
              "#0d0887"
             ],
             [
              0.1111111111111111,
              "#46039f"
             ],
             [
              0.2222222222222222,
              "#7201a8"
             ],
             [
              0.3333333333333333,
              "#9c179e"
             ],
             [
              0.4444444444444444,
              "#bd3786"
             ],
             [
              0.5555555555555556,
              "#d8576b"
             ],
             [
              0.6666666666666666,
              "#ed7953"
             ],
             [
              0.7777777777777778,
              "#fb9f3a"
             ],
             [
              0.8888888888888888,
              "#fdca26"
             ],
             [
              1.0,
              "#f0f921"
             ]
            ],
            "type": "histogram2d"
           }
          ],
          "histogram2dcontour": [
           {
            "colorbar": {
             "outlinewidth": 0,
             "ticks": ""
            },
            "colorscale": [
             [
              0.0,
              "#0d0887"
             ],
             [
              0.1111111111111111,
              "#46039f"
             ],
             [
              0.2222222222222222,
              "#7201a8"
             ],
             [
              0.3333333333333333,
              "#9c179e"
             ],
             [
              0.4444444444444444,
              "#bd3786"
             ],
             [
              0.5555555555555556,
              "#d8576b"
             ],
             [
              0.6666666666666666,
              "#ed7953"
             ],
             [
              0.7777777777777778,
              "#fb9f3a"
             ],
             [
              0.8888888888888888,
              "#fdca26"
             ],
             [
              1.0,
              "#f0f921"
             ]
            ],
            "type": "histogram2dcontour"
           }
          ],
          "mesh3d": [
           {
            "colorbar": {
             "outlinewidth": 0,
             "ticks": ""
            },
            "type": "mesh3d"
           }
          ],
          "parcoords": [
           {
            "line": {
             "colorbar": {
              "outlinewidth": 0,
              "ticks": ""
             }
            },
            "type": "parcoords"
           }
          ],
          "pie": [
           {
            "automargin": true,
            "type": "pie"
           }
          ],
          "scatter": [
           {
            "marker": {
             "colorbar": {
              "outlinewidth": 0,
              "ticks": ""
             }
            },
            "type": "scatter"
           }
          ],
          "scatter3d": [
           {
            "line": {
             "colorbar": {
              "outlinewidth": 0,
              "ticks": ""
             }
            },
            "marker": {
             "colorbar": {
              "outlinewidth": 0,
              "ticks": ""
             }
            },
            "type": "scatter3d"
           }
          ],
          "scattercarpet": [
           {
            "marker": {
             "colorbar": {
              "outlinewidth": 0,
              "ticks": ""
             }
            },
            "type": "scattercarpet"
           }
          ],
          "scattergeo": [
           {
            "marker": {
             "colorbar": {
              "outlinewidth": 0,
              "ticks": ""
             }
            },
            "type": "scattergeo"
           }
          ],
          "scattergl": [
           {
            "marker": {
             "colorbar": {
              "outlinewidth": 0,
              "ticks": ""
             }
            },
            "type": "scattergl"
           }
          ],
          "scattermapbox": [
           {
            "marker": {
             "colorbar": {
              "outlinewidth": 0,
              "ticks": ""
             }
            },
            "type": "scattermapbox"
           }
          ],
          "scatterpolar": [
           {
            "marker": {
             "colorbar": {
              "outlinewidth": 0,
              "ticks": ""
             }
            },
            "type": "scatterpolar"
           }
          ],
          "scatterpolargl": [
           {
            "marker": {
             "colorbar": {
              "outlinewidth": 0,
              "ticks": ""
             }
            },
            "type": "scatterpolargl"
           }
          ],
          "scatterternary": [
           {
            "marker": {
             "colorbar": {
              "outlinewidth": 0,
              "ticks": ""
             }
            },
            "type": "scatterternary"
           }
          ],
          "surface": [
           {
            "colorbar": {
             "outlinewidth": 0,
             "ticks": ""
            },
            "colorscale": [
             [
              0.0,
              "#0d0887"
             ],
             [
              0.1111111111111111,
              "#46039f"
             ],
             [
              0.2222222222222222,
              "#7201a8"
             ],
             [
              0.3333333333333333,
              "#9c179e"
             ],
             [
              0.4444444444444444,
              "#bd3786"
             ],
             [
              0.5555555555555556,
              "#d8576b"
             ],
             [
              0.6666666666666666,
              "#ed7953"
             ],
             [
              0.7777777777777778,
              "#fb9f3a"
             ],
             [
              0.8888888888888888,
              "#fdca26"
             ],
             [
              1.0,
              "#f0f921"
             ]
            ],
            "type": "surface"
           }
          ],
          "table": [
           {
            "cells": {
             "fill": {
              "color": "#EBF0F8"
             },
             "line": {
              "color": "white"
             }
            },
            "header": {
             "fill": {
              "color": "#C8D4E3"
             },
             "line": {
              "color": "white"
             }
            },
            "type": "table"
           }
          ]
         },
         "layout": {
          "annotationdefaults": {
           "arrowcolor": "#2a3f5f",
           "arrowhead": 0,
           "arrowwidth": 1
          },
          "autotypenumbers": "strict",
          "coloraxis": {
           "colorbar": {
            "outlinewidth": 0,
            "ticks": ""
           }
          },
          "colorscale": {
           "diverging": [
            [
             0,
             "#8e0152"
            ],
            [
             0.1,
             "#c51b7d"
            ],
            [
             0.2,
             "#de77ae"
            ],
            [
             0.3,
             "#f1b6da"
            ],
            [
             0.4,
             "#fde0ef"
            ],
            [
             0.5,
             "#f7f7f7"
            ],
            [
             0.6,
             "#e6f5d0"
            ],
            [
             0.7,
             "#b8e186"
            ],
            [
             0.8,
             "#7fbc41"
            ],
            [
             0.9,
             "#4d9221"
            ],
            [
             1,
             "#276419"
            ]
           ],
           "sequential": [
            [
             0.0,
             "#0d0887"
            ],
            [
             0.1111111111111111,
             "#46039f"
            ],
            [
             0.2222222222222222,
             "#7201a8"
            ],
            [
             0.3333333333333333,
             "#9c179e"
            ],
            [
             0.4444444444444444,
             "#bd3786"
            ],
            [
             0.5555555555555556,
             "#d8576b"
            ],
            [
             0.6666666666666666,
             "#ed7953"
            ],
            [
             0.7777777777777778,
             "#fb9f3a"
            ],
            [
             0.8888888888888888,
             "#fdca26"
            ],
            [
             1.0,
             "#f0f921"
            ]
           ],
           "sequentialminus": [
            [
             0.0,
             "#0d0887"
            ],
            [
             0.1111111111111111,
             "#46039f"
            ],
            [
             0.2222222222222222,
             "#7201a8"
            ],
            [
             0.3333333333333333,
             "#9c179e"
            ],
            [
             0.4444444444444444,
             "#bd3786"
            ],
            [
             0.5555555555555556,
             "#d8576b"
            ],
            [
             0.6666666666666666,
             "#ed7953"
            ],
            [
             0.7777777777777778,
             "#fb9f3a"
            ],
            [
             0.8888888888888888,
             "#fdca26"
            ],
            [
             1.0,
             "#f0f921"
            ]
           ]
          },
          "colorway": [
           "#636efa",
           "#EF553B",
           "#00cc96",
           "#ab63fa",
           "#FFA15A",
           "#19d3f3",
           "#FF6692",
           "#B6E880",
           "#FF97FF",
           "#FECB52"
          ],
          "font": {
           "color": "#2a3f5f"
          },
          "geo": {
           "bgcolor": "white",
           "lakecolor": "white",
           "landcolor": "#E5ECF6",
           "showlakes": true,
           "showland": true,
           "subunitcolor": "white"
          },
          "hoverlabel": {
           "align": "left"
          },
          "hovermode": "closest",
          "mapbox": {
           "style": "light"
          },
          "paper_bgcolor": "white",
          "plot_bgcolor": "#E5ECF6",
          "polar": {
           "angularaxis": {
            "gridcolor": "white",
            "linecolor": "white",
            "ticks": ""
           },
           "bgcolor": "#E5ECF6",
           "radialaxis": {
            "gridcolor": "white",
            "linecolor": "white",
            "ticks": ""
           }
          },
          "scene": {
           "xaxis": {
            "backgroundcolor": "#E5ECF6",
            "gridcolor": "white",
            "gridwidth": 2,
            "linecolor": "white",
            "showbackground": true,
            "ticks": "",
            "zerolinecolor": "white"
           },
           "yaxis": {
            "backgroundcolor": "#E5ECF6",
            "gridcolor": "white",
            "gridwidth": 2,
            "linecolor": "white",
            "showbackground": true,
            "ticks": "",
            "zerolinecolor": "white"
           },
           "zaxis": {
            "backgroundcolor": "#E5ECF6",
            "gridcolor": "white",
            "gridwidth": 2,
            "linecolor": "white",
            "showbackground": true,
            "ticks": "",
            "zerolinecolor": "white"
           }
          },
          "shapedefaults": {
           "line": {
            "color": "#2a3f5f"
           }
          },
          "ternary": {
           "aaxis": {
            "gridcolor": "white",
            "linecolor": "white",
            "ticks": ""
           },
           "baxis": {
            "gridcolor": "white",
            "linecolor": "white",
            "ticks": ""
           },
           "bgcolor": "#E5ECF6",
           "caxis": {
            "gridcolor": "white",
            "linecolor": "white",
            "ticks": ""
           }
          },
          "title": {
           "x": 0.05
          },
          "xaxis": {
           "automargin": true,
           "gridcolor": "white",
           "linecolor": "white",
           "ticks": "",
           "title": {
            "standoff": 15
           },
           "zerolinecolor": "white",
           "zerolinewidth": 2
          },
          "yaxis": {
           "automargin": true,
           "gridcolor": "white",
           "linecolor": "white",
           "ticks": "",
           "title": {
            "standoff": 15
           },
           "zerolinecolor": "white",
           "zerolinewidth": 2
          }
         }
        },
        "width": 700,
        "xaxis": {
         "anchor": "y",
         "domain": [
          0.0,
          1.0
         ],
         "dtick": 0.05,
         "fixedrange": true,
         "gridcolor": "black",
         "linecolor": "black",
         "range": [
          0,
          0.4
         ],
         "showgrid": false
        },
        "xaxis2": {
         "anchor": "y2",
         "domain": [
          0,
          1
         ],
         "type": "category"
        },
        "yaxis": {
         "anchor": "x",
         "color": "black",
         "domain": [
          0.9400000000000001,
          1.0
         ],
         "fixedrange": true,
         "showgrid": false,
         "showline": false,
         "showticklabels": false,
         "zeroline": false
        },
        "yaxis2": {
         "anchor": "x2",
         "domain": [
          0.0,
          0.54
         ],
         "fixedrange": true,
         "range": [
          0,
          1
         ],
         "title": {
          "text": "Percentage"
         }
        }
       }
      }
     },
     "metadata": {},
     "output_type": "display_data"
    },
    {
     "data": {
      "text/html": []
     },
     "metadata": {},
     "output_type": "display_data"
    }
   ],
   "source": [
    "from deepchecks.tabular.checks import TrainTestFeatureDrift\n",
    "\n",
    "check = TrainTestFeatureDrift()\n",
    "result = check.run(train_dataset=train_dataset, test_dataset=test_dataset, model=model)\n",
    "result"
   ]
  },
  {
   "cell_type": "markdown",
   "id": "1ca22c1c",
   "metadata": {},
   "source": [
    "### Observe the check's output\n",
    "\n",
    "As we see from the results, the check detects and returns the drift score per feature. As we expect, the features that were manually manipulated to contain a strong drift in them were detected.\n",
    "\n",
    "In addition to the graphs, each check returns a value that can be controlled in order to define expectations on that value (for example, to define that the drift score for every feature must be below 0.05).\n",
    "\n",
    "Let's see the result value for our check"
   ]
  },
  {
   "cell_type": "code",
   "execution_count": 8,
   "id": "d9781d4d",
   "metadata": {
    "execution": {
     "iopub.execute_input": "2022-01-26T12:56:31.315925Z",
     "iopub.status.busy": "2022-01-26T12:56:31.315154Z",
     "iopub.status.idle": "2022-01-26T12:56:31.317520Z",
     "shell.execute_reply": "2022-01-26T12:56:31.318054Z"
    }
   },
   "outputs": [
    {
     "data": {
      "text/plain": [
       "OrderedDict([('numeric_without_drift',\n",
       "              {'Drift score': 0.012381238421755255,\n",
       "               'Method': \"Earth Mover's Distance\",\n",
       "               'Importance': 0.30722662915965854}),\n",
       "             ('numeric_with_drift',\n",
       "              {'Drift score': 0.25070919729753094,\n",
       "               'Method': \"Earth Mover's Distance\",\n",
       "               'Importance': 0.6927733708403414}),\n",
       "             ('categorical_without_drift',\n",
       "              {'Drift score': 0.004109630273978717,\n",
       "               'Method': 'PSI',\n",
       "               'Importance': 0.0}),\n",
       "             ('categorical_with_drift',\n",
       "              {'Drift score': 0.22343755359099068,\n",
       "               'Method': 'PSI',\n",
       "               'Importance': 0.0})])"
      ]
     },
     "execution_count": 8,
     "metadata": {},
     "output_type": "execute_result"
    }
   ],
   "source": [
    "result.value"
   ]
  },
  {
   "cell_type": "markdown",
   "id": "30fcd258",
   "metadata": {},
   "source": [
    "## Define a condition <a name='define_condition'></a>\n",
    "\n",
    "As we can see, we get the drift score for each feature in the dataset, along with the feature importance in respect to the model.\n",
    "\n",
    "Now, we define a condition that enforce each feature's drift score must be below 0.1. A condition is deepchecks' way to enforce that results are OK, and we don't have a problem in our data or model!"
   ]
  },
  {
   "cell_type": "code",
   "execution_count": 9,
   "id": "9f63ffe4-ab4f-4669-b573-387bc6cdf57b",
   "metadata": {
    "execution": {
     "iopub.execute_input": "2022-01-26T12:56:31.323233Z",
     "iopub.status.busy": "2022-01-26T12:56:31.322480Z",
     "iopub.status.idle": "2022-01-26T12:56:31.324303Z",
     "shell.execute_reply": "2022-01-26T12:56:31.324848Z"
    }
   },
   "outputs": [],
   "source": [
    "check_cond = check.add_condition_drift_score_not_greater_than(max_allowed_psi_score=0.2, \n",
    "                                                              max_allowed_earth_movers_score=0.1)"
   ]
  },
  {
   "cell_type": "code",
   "execution_count": 10,
   "id": "b20899b1-61d6-4e01-b883-7b8537bb9edf",
   "metadata": {
    "execution": {
     "iopub.execute_input": "2022-01-26T12:56:31.329659Z",
     "iopub.status.busy": "2022-01-26T12:56:31.329083Z",
     "iopub.status.idle": "2022-01-26T12:56:31.572858Z",
     "shell.execute_reply": "2022-01-26T12:56:31.573317Z"
    },
    "tags": []
   },
   "outputs": [
    {
     "data": {
      "text/html": [
       "<h4>Train Test Drift</h4><p>    Calculate drift between train dataset and test dataset per feature, using statistical measures. <a href=\"https://docs.deepchecks.com/en/0.3.2/examples/checks/distribution/train_test_feature_drift.html?utm_source=display_output&utm_medium=referral&utm_campaign=check_link\" target=\"_blank\">Read More...</a></p><h5>Conditions Summary</h5><style type=\"text/css\">\n",
       "#T_79889_ table {\n",
       "  text-align: left;\n",
       "  white-space: pre-wrap;\n",
       "}\n",
       "#T_79889_ thead {\n",
       "  text-align: left;\n",
       "  white-space: pre-wrap;\n",
       "}\n",
       "#T_79889_ tbody {\n",
       "  text-align: left;\n",
       "  white-space: pre-wrap;\n",
       "}\n",
       "#T_79889_ th {\n",
       "  text-align: left;\n",
       "  white-space: pre-wrap;\n",
       "}\n",
       "#T_79889_ td {\n",
       "  text-align: left;\n",
       "  white-space: pre-wrap;\n",
       "}\n",
       "</style>\n",
       "<table id=\"T_79889_\">\n",
       "  <thead>\n",
       "    <tr>\n",
       "      <th class=\"col_heading level0 col0\" >Status</th>\n",
       "      <th class=\"col_heading level0 col1\" >Condition</th>\n",
       "      <th class=\"col_heading level0 col2\" >More Info</th>\n",
       "    </tr>\n",
       "  </thead>\n",
       "  <tbody>\n",
       "    <tr>\n",
       "      <td id=\"T_79889_row0_col0\" class=\"data row0 col0\" ><div style=\"color: red;text-align: center\">✖</div></td>\n",
       "      <td id=\"T_79889_row0_col1\" class=\"data row0 col1\" >PSI <= 0.2 and Earth Mover's Distance <= 0.1</td>\n",
       "      <td id=\"T_79889_row0_col2\" class=\"data row0 col2\" >Found categorical columns with PSI above threshold: {'categorical_with_drift': '0.22'}\n",
       "Found numeric columns with Earth Mover's Distance above threshold: {'numeric_with_drift': '0.25'}</td>\n",
       "    </tr>\n",
       "  </tbody>\n",
       "</table>\n"
      ]
     },
     "metadata": {},
     "output_type": "display_data"
    }
   ],
   "source": [
    "result = check_cond.run(train_dataset=train_dataset, test_dataset=test_dataset)\n",
    "result.show(show_additional_outputs=False)"
   ]
  },
  {
   "cell_type": "markdown",
   "id": "c035e4fa",
   "metadata": {},
   "source": [
    "As we see, our condition successfully detects and filters the problematic features that contains a drift!"
   ]
  }
 ],
 "metadata": {
  "kernelspec": {
   "display_name": "Python 3 (ipykernel)",
   "language": "python",
   "name": "python3"
  },
  "language_info": {
   "codemirror_mode": {
    "name": "ipython",
    "version": 3
   },
   "file_extension": ".py",
   "mimetype": "text/x-python",
   "name": "python",
   "nbconvert_exporter": "python",
   "pygments_lexer": "ipython3",
   "version": "3.8.10"
  }
 },
 "nbformat": 4,
 "nbformat_minor": 5
}
