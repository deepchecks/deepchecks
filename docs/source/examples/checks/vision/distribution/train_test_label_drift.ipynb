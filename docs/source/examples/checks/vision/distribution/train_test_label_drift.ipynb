{
 "cells": [
  {
   "cell_type": "markdown",
   "id": "18b10ce5-eb7e-472b-901c-23ec073eb40d",
   "metadata": {
    "tags": []
   },
   "source": [
    "# Train Test Label Drift\n",
    "\n",
    "This notebooks provides an overview for using and understanding feature drift check.\n",
    "\n",
    "**Structure:**\n",
    "\n",
    "- [What is a label drift?](#what_is_label_drift)\n",
    "- [Run check on a Classification task](#run_check_on_classification)\n",
    "- [Run check on an Object Detection task](#run_check_on_object_detection)"
   ]
  },
  {
   "cell_type": "markdown",
   "id": "72a80d32-a0ca-49f0-8133-343f9baaf902",
   "metadata": {},
   "source": [
    "## What is a label drift? <a name='what_is_label_drift'></a>\n",
    "\n",
    "Data drift is simply a change in the distribution of data over time. It is also one of the top reasons of a machine learning model performance degrades over time.\n",
    "Specifically, label drift (or concept drift) indicates changes in the label we are trying to predict.\n",
    "\n",
    "Causes of concept drift include:\n",
    "\n",
    "- Natural drift in the data, such as lighting (brightness) changes between summer and winter.\n",
    "- Labeling issues, such as an analyst drawing incorrect bounding boxes for an object detection task.\n",
    "\n",
    "In the context of machine learning, drift between the training set and the test set will likely make the model to be prone to errors. In other words, this means that the model was trained on data that is different from the current test data, thus it will probably make more mistakes predicting the target variable."
   ]
  },
  {
   "cell_type": "markdown",
   "id": "9df8345b-3213-4422-9701-1e7e22bfac84",
   "metadata": {},
   "source": [
    "### How deepchecks detects label drift\n",
    "\n",
    "There are many methods to detect label drift, that usually include statistical methods that aim to measure difference between distribution of 2 given label sets. We exprimented with various approaches and found that for detecting drift between 2 one-dimensional distribution, the following 2 methods give the best results:\n",
    "\n",
    "- <a href=\"https://www.lexjansen.com/wuss/2017/47_Final_Paper_PDF.pdf\" target=\"_blank\">Population Stability Index (PSI)</a>\n",
    "- <a href=\"https://en.wikipedia.org/wiki/Wasserstein_metric\" target=\"_blank\">Wasserstein metric (Earth Movers Distance)</a>\n",
    "\n",
    "For numerical features, the check uses the Earth Movers Distance method and for the categorical features it uses the PSI.\n",
    "The check calculates drift between train dataset and test dataset per feature, using these 2 statistical measures.\n"
   ]
  },
  {
   "cell_type": "markdown",
   "id": "1afe84b7-edbb-48b8-b918-8e77253490f2",
   "metadata": {},
   "source": [
    "## Different measurement on label\n",
    "\n",
    "In computer vision specifically, our labels may be complex, and measuring their drift is not a straightforward task. Therefore, we calculate drift on different measures on labels. \n",
    "For now, in deepchecks, we support these measurements (on which we calculate drift):\n",
    "\n",
    "- For both classification and object detection tasks, we calculate drift in the distribution of classes.\n",
    "- For object detection tasks, we also calculate drift in the distribution of bounding box areas and distribution of number of bounding boxes per image."
   ]
  },
  {
   "cell_type": "markdown",
   "id": "6a80b7ec-ff44-4192-9d60-558dde64bf17",
   "metadata": {},
   "source": [
    "## Run the check on a Classification task (MNIST) <a name='run_check_on_classification'></a>"
   ]
  },
  {
   "cell_type": "markdown",
   "id": "09c7ee01-6999-465e-a318-56570b008526",
   "metadata": {},
   "source": [
    "### Imports"
   ]
  },
  {
   "cell_type": "code",
   "execution_count": 1,
   "id": "a8bef717-c573-43ec-8589-a81ecc08f2bb",
   "metadata": {},
   "outputs": [],
   "source": [
    "from deepchecks.vision.dataset import VisionData\n",
    "from deepchecks.vision.checks import TrainTestLabelDrift"
   ]
  },
  {
   "cell_type": "markdown",
   "id": "788f9178-dcc1-4212-9a84-949a7a4fde92",
   "metadata": {},
   "source": [
    "### Loading data:"
   ]
  },
  {
   "cell_type": "code",
   "execution_count": 2,
   "id": "d6de7931-4d0a-42b5-afcb-ce1cc1d7c93d",
   "metadata": {},
   "outputs": [],
   "source": [
    "from deepchecks.vision.datasets.classification.mnist import load_dataset\n",
    "\n",
    "mnist_dataloader_train = load_dataset(train=True, batch_size=64)\n",
    "mnist_dataloader_test = load_dataset(train=False, batch_size=1000)"
   ]
  },
  {
   "cell_type": "code",
   "execution_count": 3,
   "id": "272debea-abc3-43de-a5b8-ee9d21807f5a",
   "metadata": {},
   "outputs": [],
   "source": [
    "from deepchecks.vision.utils.classification_formatters import ClassificationLabelFormatter\n",
    "\n",
    "train_ds = VisionData(mnist_dataloader_train, label_transformer=ClassificationLabelFormatter(lambda x: x))\n",
    "test_ds = VisionData(mnist_dataloader_test, label_transformer=ClassificationLabelFormatter(lambda x: x))"
   ]
  },
  {
   "cell_type": "markdown",
   "id": "f6920693-ffd3-4207-b8e4-5cf3452c57bd",
   "metadata": {},
   "source": [
    "### Running TrainTestLabelDrift on classification"
   ]
  },
  {
   "cell_type": "code",
   "execution_count": null,
   "id": "bdd52a29-2612-4dbc-8507-31250b9feadc",
   "metadata": {
    "tags": []
   },
   "outputs": [],
   "source": [
    "check = TrainTestLabelDrift()\n",
    "check.run(train_ds, test_ds)"
   ]
  },
  {
   "cell_type": "markdown",
   "id": "dc7652da-3f0e-4e32-91c6-2efb3d9a0c80",
   "metadata": {},
   "source": [
    "## Run the check on an Object Detection task (COCO) <a name='run_check_on_object_detection'></a>"
   ]
  },
  {
   "cell_type": "code",
   "execution_count": null,
   "id": "5af00a1f-85f8-4185-a36d-6b5af3602eca",
   "metadata": {},
   "outputs": [],
   "source": [
    "from deepchecks.vision.datasets.detection.coco import load_dataset\n",
    "\n",
    "train_dataloader = load_dataset(train=True)\n",
    "test_dataloader = load_dataset(train=False)"
   ]
  },
  {
   "cell_type": "code",
   "execution_count": null,
   "id": "36e6d0bc-468c-4c7c-ad24-ac0532e0dbd7",
   "metadata": {},
   "outputs": [],
   "source": [
    "from deepchecks.vision.utils.detection_formatters import DetectionLabelFormatter\n",
    "\n",
    "train_ds = VisionData(train_dataloader, label_transformer=DetectionLabelFormatter(lambda x: x))\n",
    "test_ds = VisionData(test_dataloader, label_transformer=DetectionLabelFormatter(lambda x: x))"
   ]
  },
  {
   "cell_type": "code",
   "execution_count": null,
   "id": "507e3a16-080d-4ca3-b980-adee0d51ccd0",
   "metadata": {},
   "outputs": [],
   "source": [
    "check = TrainTestLabelDrift()\n",
    "check.run(train_ds, test_ds)"
   ]
  },
  {
   "cell_type": "code",
   "execution_count": null,
   "id": "b2bf3476-aa11-403f-9659-741c6592fa64",
   "metadata": {},
   "outputs": [],
   "source": []
  }
 ],
 "metadata": {
  "kernelspec": {
   "display_name": "Python 3 (ipykernel)",
   "language": "python",
   "name": "python3"
  },
  "language_info": {
   "codemirror_mode": {
    "name": "ipython",
    "version": 3
   },
   "file_extension": ".py",
   "mimetype": "text/x-python",
   "name": "python",
   "nbconvert_exporter": "python",
   "pygments_lexer": "ipython3",
   "version": "3.8.6"
  },
  "widgets": {
   "application/vnd.jupyter.widget-state+json": {
    "state": {
     "0a586f8bf273464c8082cdbbc2e2df04": {
      "model_module": "@jupyter-widgets/base",
      "model_module_version": "1.2.0",
      "model_name": "LayoutModel",
      "state": {}
     },
     "1f0929d7c2ae4580a293f0ba01a3c935": {
      "model_module": "@jupyter-widgets/controls",
      "model_module_version": "1.5.0",
      "model_name": "HBoxModel",
      "state": {
       "children": [
        "IPY_MODEL_b52ee28acc7a48d7bb0b9fc37aef76aa",
        "IPY_MODEL_64cc626ff757483ba1f8028ff039b8b8",
        "IPY_MODEL_3482c6a81ad54343801481ef28189271"
       ],
       "layout": "IPY_MODEL_0a586f8bf273464c8082cdbbc2e2df04"
      }
     },
     "3482c6a81ad54343801481ef28189271": {
      "model_module": "@jupyter-widgets/controls",
      "model_module_version": "1.5.0",
      "model_name": "HTMLModel",
      "state": {
       "layout": "IPY_MODEL_9bd6fb0c0e9e4e5e9bd5e9bb25172cdf",
       "style": "IPY_MODEL_bdec86d212544789acb862737b4f564b",
       "value": " 6984704/? [00:00&lt;00:00, 13135884.72it/s]"
      }
     },
     "4765f775a4f142638d6e5322e3dff4fb": {
      "model_module": "@jupyter-widgets/base",
      "model_module_version": "1.2.0",
      "model_name": "LayoutModel",
      "state": {}
     },
     "50392bf940e54690b15667fc4aa4c0c7": {
      "model_module": "@jupyter-widgets/controls",
      "model_module_version": "1.5.0",
      "model_name": "ProgressStyleModel",
      "state": {
       "description_width": ""
      }
     },
     "562590c6df1a4b38b340975674a3a564": {
      "model_module": "@jupyter-widgets/controls",
      "model_module_version": "1.5.0",
      "model_name": "DescriptionStyleModel",
      "state": {
       "description_width": ""
      }
     },
     "64cc626ff757483ba1f8028ff039b8b8": {
      "model_module": "@jupyter-widgets/controls",
      "model_module_version": "1.5.0",
      "model_name": "FloatProgressModel",
      "state": {
       "bar_style": "success",
       "layout": "IPY_MODEL_d490a61ac69b45f6a253fa44a4a811a0",
       "max": 6984509,
       "style": "IPY_MODEL_50392bf940e54690b15667fc4aa4c0c7",
       "value": 6984509
      }
     },
     "9bd6fb0c0e9e4e5e9bd5e9bb25172cdf": {
      "model_module": "@jupyter-widgets/base",
      "model_module_version": "1.2.0",
      "model_name": "LayoutModel",
      "state": {}
     },
     "b52ee28acc7a48d7bb0b9fc37aef76aa": {
      "model_module": "@jupyter-widgets/controls",
      "model_module_version": "1.5.0",
      "model_name": "HTMLModel",
      "state": {
       "layout": "IPY_MODEL_4765f775a4f142638d6e5322e3dff4fb",
       "style": "IPY_MODEL_562590c6df1a4b38b340975674a3a564"
      }
     },
     "bdec86d212544789acb862737b4f564b": {
      "model_module": "@jupyter-widgets/controls",
      "model_module_version": "1.5.0",
      "model_name": "DescriptionStyleModel",
      "state": {
       "description_width": ""
      }
     },
     "d490a61ac69b45f6a253fa44a4a811a0": {
      "model_module": "@jupyter-widgets/base",
      "model_module_version": "1.2.0",
      "model_name": "LayoutModel",
      "state": {}
     }
    },
    "version_major": 2,
    "version_minor": 0
   }
  }
 },
 "nbformat": 4,
 "nbformat_minor": 5
}
