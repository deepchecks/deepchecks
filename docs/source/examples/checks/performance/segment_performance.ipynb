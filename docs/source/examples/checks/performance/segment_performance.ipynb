{
 "cells": [
  {
   "cell_type": "markdown",
   "id": "128d1645",
   "metadata": {},
   "source": [
    "# Segment Performance "
   ]
  },
  {
   "cell_type": "markdown",
   "id": "3ba8d25a",
   "metadata": {},
   "source": [
    "## Load data\n",
    "\n",
    "The dataset is the adult dataset which can be downloaded from the UCI machine learning repository.\n",
    "\n",
    "Dua, D. and Graff, C. (2019). UCI Machine Learning Repository [http://archive.ics.uci.edu/ml]. Irvine, CA: University of California, School of Information and Computer Science."
   ]
  },
  {
   "cell_type": "code",
   "execution_count": 1,
   "id": "f89bafef",
   "metadata": {
    "execution": {
     "iopub.execute_input": "2022-01-26T13:00:54.373252Z",
     "iopub.status.busy": "2022-01-26T13:00:54.372046Z",
     "iopub.status.idle": "2022-01-26T13:01:04.046947Z",
     "shell.execute_reply": "2022-01-26T13:01:04.047464Z"
    }
   },
   "outputs": [],
   "source": [
    "import pandas as pd\n",
    "from urllib.request import urlopen\n",
    "from sklearn.preprocessing import LabelEncoder\n",
    "\n",
    "name_data = urlopen('http://archive.ics.uci.edu/ml/machine-learning-databases/adult/adult.names')\n",
    "lines = [l.decode(\"utf-8\") for l in name_data if ':' in l.decode(\"utf-8\") and '|' not in l.decode(\"utf-8\")]\n",
    "\n",
    "features = [l.split(':')[0] for l in lines]\n",
    "label_name = 'income'\n",
    "\n",
    "cat_features = [l.split(':')[0] for l in lines if 'continuous' not in l]\n",
    "\n",
    "train_df = pd.read_csv('http://archive.ics.uci.edu/ml/machine-learning-databases/adult/adult.data',\n",
    "                       names=features + [label_name])\n",
    "val_df = pd.read_csv('http://archive.ics.uci.edu/ml/machine-learning-databases/adult/adult.test',\n",
    "                      names=features + [label_name], skiprows=1)\n",
    "\n",
    "val_df[label_name] = val_df [label_name].str[:-1]\n",
    "\n",
    "encoder = LabelEncoder()\n",
    "encoder.fit(train_df[label_name])\n",
    "train_df[label_name] = encoder.transform(train_df[label_name])\n",
    "val_df[label_name] = encoder.transform(val_df[label_name])"
   ]
  },
  {
   "cell_type": "markdown",
   "id": "c7948fb6",
   "metadata": {},
   "source": [
    "## Create Dataset"
   ]
  },
  {
   "cell_type": "code",
   "execution_count": 2,
   "id": "eb45106e",
   "metadata": {
    "execution": {
     "iopub.execute_input": "2022-01-26T13:01:04.053387Z",
     "iopub.status.busy": "2022-01-26T13:01:04.052792Z",
     "iopub.status.idle": "2022-01-26T13:01:05.166084Z",
     "shell.execute_reply": "2022-01-26T13:01:05.166548Z"
    }
   },
   "outputs": [],
   "source": [
    "from deepchecks.tabular import Dataset\n",
    "\n",
    "cat_features = ['workclass', 'education', 'marital-status', 'occupation', 'relationship', \n",
    "                'race', 'sex', 'native-country']\n",
    "train_ds = Dataset(train_df, label=label_name, cat_features=cat_features)\n",
    "validation_ds = Dataset(val_df, label=label_name, cat_features=cat_features)\n",
    "\n",
    "numeric_features = list(set(train_ds.features) - set(cat_features))"
   ]
  },
  {
   "cell_type": "markdown",
   "id": "fc1e49d7",
   "metadata": {},
   "source": [
    "\n",
    "## Classification model"
   ]
  },
  {
   "cell_type": "code",
   "execution_count": 3,
   "id": "0e59c273",
   "metadata": {
    "execution": {
     "iopub.execute_input": "2022-01-26T13:01:05.175214Z",
     "iopub.status.busy": "2022-01-26T13:01:05.174589Z",
     "iopub.status.idle": "2022-01-26T13:01:05.683064Z",
     "shell.execute_reply": "2022-01-26T13:01:05.683516Z"
    }
   },
   "outputs": [],
   "source": [
    "from sklearn.pipeline import Pipeline\n",
    "from sklearn.impute import SimpleImputer\n",
    "from sklearn.compose import ColumnTransformer\n",
    "from sklearn.preprocessing import OrdinalEncoder\n",
    "from sklearn.ensemble import RandomForestClassifier\n",
    "\n",
    "numeric_transformer = SimpleImputer()\n",
    "categorical_transformer = Pipeline(\n",
    "    steps=[(\"imputer\", SimpleImputer(strategy=\"most_frequent\")), (\"encoder\", OrdinalEncoder())]\n",
    ")\n",
    "\n",
    "train_ds.features\n",
    "preprocessor = ColumnTransformer(\n",
    "    transformers=[\n",
    "        (\"num\", numeric_transformer, numeric_features),\n",
    "        (\"cat\", categorical_transformer, cat_features),\n",
    "    ]\n",
    ")\n",
    "\n",
    "model = Pipeline(\n",
    "    steps=[\n",
    "        (\"preprocessing\", preprocessor), \n",
    "        (\"model\", RandomForestClassifier(max_depth=5, n_jobs=-1))\n",
    "    ]\n",
    ").fit(train_ds.data[train_ds.features], train_ds.data[train_ds.label_name])\n"
   ]
  },
  {
   "cell_type": "code",
   "execution_count": 4,
   "id": "6fcef663",
   "metadata": {
    "execution": {
     "iopub.execute_input": "2022-01-26T13:01:05.707849Z",
     "iopub.status.busy": "2022-01-26T13:01:05.689928Z",
     "iopub.status.idle": "2022-01-26T13:01:05.710472Z",
     "shell.execute_reply": "2022-01-26T13:01:05.710872Z"
    }
   },
   "outputs": [
    {
     "data": {
      "text/plain": [
       "Pipeline(steps=[('preprocessing',\n",
       "                 ColumnTransformer(transformers=[('num', SimpleImputer(),\n",
       "                                                  ['education-num', 'fnlwgt',\n",
       "                                                   'capital-loss',\n",
       "                                                   'capital-gain', 'age',\n",
       "                                                   'hours-per-week']),\n",
       "                                                 ('cat',\n",
       "                                                  Pipeline(steps=[('imputer',\n",
       "                                                                   SimpleImputer(strategy='most_frequent')),\n",
       "                                                                  ('encoder',\n",
       "                                                                   OrdinalEncoder())]),\n",
       "                                                  ['workclass', 'education',\n",
       "                                                   'marital-status',\n",
       "                                                   'occupation', 'relationship',\n",
       "                                                   'race', 'sex',\n",
       "                                                   'native-country'])])),\n",
       "                ('model', RandomForestClassifier(max_depth=5, n_jobs=-1))])"
      ]
     },
     "execution_count": 4,
     "metadata": {},
     "output_type": "execute_result"
    }
   ],
   "source": [
    "model"
   ]
  },
  {
   "cell_type": "code",
   "execution_count": 5,
   "id": "1f258faf",
   "metadata": {
    "execution": {
     "iopub.execute_input": "2022-01-26T13:01:05.714838Z",
     "iopub.status.busy": "2022-01-26T13:01:05.714305Z",
     "iopub.status.idle": "2022-01-26T13:01:07.033639Z",
     "shell.execute_reply": "2022-01-26T13:01:07.031805Z"
    },
    "tags": []
   },
   "outputs": [
    {
     "data": {
      "text/html": [
       "<h4>Segment Performance</h4><p>Display performance score segmented by 2 top (or given) features in a heatmap. <a href=\"https://docs.deepchecks.com/en/0.3.2/examples/checks/performance/segment_performance.html?utm_source=display_output&utm_medium=referral&utm_campaign=check_link\" target=\"_blank\">Read More...</a></p><h5>Additional Outputs</h5>"
      ]
     },
     "metadata": {},
     "output_type": "display_data"
    },
    {
     "data": {
      "application/vnd.plotly.v1+json": {
       "config": {
        "plotlyServerURL": "https://plot.ly"
       },
       "data": [
        {
         "colorscale": [
          [
           0.0,
           "rgb(165,0,38)"
          ],
          [
           0.1,
           "rgb(215,48,39)"
          ],
          [
           0.2,
           "rgb(244,109,67)"
          ],
          [
           0.3,
           "rgb(253,174,97)"
          ],
          [
           0.4,
           "rgb(254,224,139)"
          ],
          [
           0.5,
           "rgb(255,255,191)"
          ],
          [
           0.6,
           "rgb(217,239,139)"
          ],
          [
           0.7,
           "rgb(166,217,106)"
          ],
          [
           0.8,
           "rgb(102,189,99)"
          ],
          [
           0.9,
           "rgb(26,152,80)"
          ],
          [
           1.0,
           "rgb(0,104,55)"
          ]
         ],
         "reversescale": false,
         "showscale": true,
         "type": "heatmap",
         "x": [
          "[1 - 24)",
          "[24 - 35)",
          "[35 - 40)",
          "[40 - 48)",
          "[48 - 55)",
          "[55 - 99]"
         ],
         "y": [
          " Private",
          " Self-emp-not-inc",
          " Local-gov",
          " ?",
          " State-gov",
          "Others"
         ],
         "z": [
          [
           0.964516129032258,
           0.9469339622641509,
           0.9024081115335868,
           0.8525174283501162,
           0.7903893951946976,
           0.7869520897043832
          ],
          [
           0.8601398601398601,
           0.8461538461538461,
           0.8452380952380952,
           0.8225806451612904,
           0.7723214285714286,
           0.7523510971786834
          ],
          [
           0.92,
           0.8888888888888888,
           0.8602150537634409,
           0.8147540983606557,
           0.7304347826086957,
           0.6781609195402298
          ],
          [
           0.9328859060402684,
           0.9571428571428572,
           0.9508196721311475,
           0.9536082474226805,
           0.868421052631579,
           0.8947368421052632
          ],
          [
           0.9176470588235294,
           0.9259259259259259,
           0.9322033898305084,
           0.8361858190709046,
           0.7169811320754716,
           0.6
          ],
          [
           0.8490566037735849,
           0.9696969696969697,
           0.8461538461538461,
           0.7668393782383419,
           0.7037037037037037,
           0.6971153846153846
          ]
         ]
        }
       ],
       "layout": {
        "annotations": [
         {
          "font": {
           "color": "black"
          },
          "showarrow": false,
          "text": "0.96\n(930)",
          "x": "[1 - 24)",
          "xref": "x",
          "y": " Private",
          "yref": "y"
         },
         {
          "font": {
           "color": "black"
          },
          "showarrow": false,
          "text": "0.95\n(848)",
          "x": "[24 - 35)",
          "xref": "x",
          "y": " Private",
          "yref": "y"
         },
         {
          "font": {
           "color": "black"
          },
          "showarrow": false,
          "text": "0.9\n(789)",
          "x": "[35 - 40)",
          "xref": "x",
          "y": " Private",
          "yref": "y"
         },
         {
          "font": {
           "color": "black"
          },
          "showarrow": false,
          "text": "0.85\n(6455)",
          "x": "[40 - 48)",
          "xref": "x",
          "y": " Private",
          "yref": "y"
         },
         {
          "font": {
           "color": "black"
          },
          "showarrow": false,
          "text": "0.79\n(1207)",
          "x": "[48 - 55)",
          "xref": "x",
          "y": " Private",
          "yref": "y"
         },
         {
          "font": {
           "color": "black"
          },
          "showarrow": false,
          "text": "0.79\n(981)",
          "x": "[55 - 99]",
          "xref": "x",
          "y": " Private",
          "yref": "y"
         },
         {
          "font": {
           "color": "black"
          },
          "showarrow": false,
          "text": "0.86\n(143)",
          "x": "[1 - 24)",
          "xref": "x",
          "y": " Self-emp-not-inc",
          "yref": "y"
         },
         {
          "font": {
           "color": "black"
          },
          "showarrow": false,
          "text": "0.9\n(117)",
          "x": "[24 - 35)",
          "xref": "x",
          "y": " Self-emp-not-inc",
          "yref": "y"
         },
         {
          "font": {
           "color": "black"
          },
          "showarrow": false,
          "text": "0.85\n(84)",
          "x": "[35 - 40)",
          "xref": "x",
          "y": " Self-emp-not-inc",
          "yref": "y"
         },
         {
          "font": {
           "color": "black"
          },
          "showarrow": false,
          "text": "0.82\n(434)",
          "x": "[40 - 48)",
          "xref": "x",
          "y": " Self-emp-not-inc",
          "yref": "y"
         },
         {
          "font": {
           "color": "black"
          },
          "showarrow": false,
          "text": "0.77\n(224)",
          "x": "[48 - 55)",
          "xref": "x",
          "y": " Self-emp-not-inc",
          "yref": "y"
         },
         {
          "font": {
           "color": "black"
          },
          "showarrow": false,
          "text": "0.75\n(319)",
          "x": "[55 - 99]",
          "xref": "x",
          "y": " Self-emp-not-inc",
          "yref": "y"
         },
         {
          "font": {
           "color": "black"
          },
          "showarrow": false,
          "text": "0.92\n(75)",
          "x": "[1 - 24)",
          "xref": "x",
          "y": " Local-gov",
          "yref": "y"
         },
         {
          "font": {
           "color": "black"
          },
          "showarrow": false,
          "text": "0.9\n(63)",
          "x": "[24 - 35)",
          "xref": "x",
          "y": " Local-gov",
          "yref": "y"
         },
         {
          "font": {
           "color": "black"
          },
          "showarrow": false,
          "text": "0.86\n(93)",
          "x": "[35 - 40)",
          "xref": "x",
          "y": " Local-gov",
          "yref": "y"
         },
         {
          "font": {
           "color": "black"
          },
          "showarrow": false,
          "text": "0.81\n(610)",
          "x": "[40 - 48)",
          "xref": "x",
          "y": " Local-gov",
          "yref": "y"
         },
         {
          "font": {
           "color": "black"
          },
          "showarrow": false,
          "text": "0.73\n(115)",
          "x": "[48 - 55)",
          "xref": "x",
          "y": " Local-gov",
          "yref": "y"
         },
         {
          "font": {
           "color": "black"
          },
          "showarrow": false,
          "text": "0.68\n(87)",
          "x": "[55 - 99]",
          "xref": "x",
          "y": " Local-gov",
          "yref": "y"
         },
         {
          "font": {
           "color": "black"
          },
          "showarrow": false,
          "text": "0.93\n(298)",
          "x": "[1 - 24)",
          "xref": "x",
          "y": " ?",
          "yref": "y"
         },
         {
          "font": {
           "color": "black"
          },
          "showarrow": false,
          "text": "0.97\n(140)",
          "x": "[24 - 35)",
          "xref": "x",
          "y": " ?",
          "yref": "y"
         },
         {
          "font": {
           "color": "black"
          },
          "showarrow": false,
          "text": "0.95\n(61)",
          "x": "[35 - 40)",
          "xref": "x",
          "y": " ?",
          "yref": "y"
         },
         {
          "font": {
           "color": "black"
          },
          "showarrow": false,
          "text": "0.95\n(388)",
          "x": "[40 - 48)",
          "xref": "x",
          "y": " ?",
          "yref": "y"
         },
         {
          "font": {
           "color": "black"
          },
          "showarrow": false,
          "text": "0.87\n(38)",
          "x": "[48 - 55)",
          "xref": "x",
          "y": " ?",
          "yref": "y"
         },
         {
          "font": {
           "color": "black"
          },
          "showarrow": false,
          "text": "0.89\n(38)",
          "x": "[55 - 99]",
          "xref": "x",
          "y": " ?",
          "yref": "y"
         },
         {
          "font": {
           "color": "black"
          },
          "showarrow": false,
          "text": "0.92\n(85)",
          "x": "[1 - 24)",
          "xref": "x",
          "y": " State-gov",
          "yref": "y"
         },
         {
          "font": {
           "color": "black"
          },
          "showarrow": false,
          "text": "0.96\n(27)",
          "x": "[24 - 35)",
          "xref": "x",
          "y": " State-gov",
          "yref": "y"
         },
         {
          "font": {
           "color": "black"
          },
          "showarrow": false,
          "text": "0.93\n(59)",
          "x": "[35 - 40)",
          "xref": "x",
          "y": " State-gov",
          "yref": "y"
         },
         {
          "font": {
           "color": "black"
          },
          "showarrow": false,
          "text": "0.84\n(409)",
          "x": "[40 - 48)",
          "xref": "x",
          "y": " State-gov",
          "yref": "y"
         },
         {
          "font": {
           "color": "black"
          },
          "showarrow": false,
          "text": "0.74\n(53)",
          "x": "[48 - 55)",
          "xref": "x",
          "y": " State-gov",
          "yref": "y"
         },
         {
          "font": {
           "color": "black"
          },
          "showarrow": false,
          "text": "0.6\n(50)",
          "x": "[55 - 99]",
          "xref": "x",
          "y": " State-gov",
          "yref": "y"
         },
         {
          "font": {
           "color": "black"
          },
          "showarrow": false,
          "text": "0.85\n(53)",
          "x": "[1 - 24)",
          "xref": "x",
          "y": "Others",
          "yref": "y"
         },
         {
          "font": {
           "color": "black"
          },
          "showarrow": false,
          "text": "0.97\n(33)",
          "x": "[24 - 35)",
          "xref": "x",
          "y": "Others",
          "yref": "y"
         },
         {
          "font": {
           "color": "black"
          },
          "showarrow": false,
          "text": "0.85\n(26)",
          "x": "[35 - 40)",
          "xref": "x",
          "y": "Others",
          "yref": "y"
         },
         {
          "font": {
           "color": "black"
          },
          "showarrow": false,
          "text": "0.77\n(579)",
          "x": "[40 - 48)",
          "xref": "x",
          "y": "Others",
          "yref": "y"
         },
         {
          "font": {
           "color": "black"
          },
          "showarrow": false,
          "text": "0.7\n(162)",
          "x": "[48 - 55)",
          "xref": "x",
          "y": "Others",
          "yref": "y"
         },
         {
          "font": {
           "color": "black"
          },
          "showarrow": false,
          "text": "0.7\n(208)",
          "x": "[55 - 99]",
          "xref": "x",
          "y": "Others",
          "yref": "y"
         }
        ],
        "height": 800,
        "template": {
         "data": {
          "bar": [
           {
            "error_x": {
             "color": "#2a3f5f"
            },
            "error_y": {
             "color": "#2a3f5f"
            },
            "marker": {
             "line": {
              "color": "#E5ECF6",
              "width": 0.5
             },
             "pattern": {
              "fillmode": "overlay",
              "size": 10,
              "solidity": 0.2
             }
            },
            "type": "bar"
           }
          ],
          "barpolar": [
           {
            "marker": {
             "line": {
              "color": "#E5ECF6",
              "width": 0.5
             },
             "pattern": {
              "fillmode": "overlay",
              "size": 10,
              "solidity": 0.2
             }
            },
            "type": "barpolar"
           }
          ],
          "carpet": [
           {
            "aaxis": {
             "endlinecolor": "#2a3f5f",
             "gridcolor": "white",
             "linecolor": "white",
             "minorgridcolor": "white",
             "startlinecolor": "#2a3f5f"
            },
            "baxis": {
             "endlinecolor": "#2a3f5f",
             "gridcolor": "white",
             "linecolor": "white",
             "minorgridcolor": "white",
             "startlinecolor": "#2a3f5f"
            },
            "type": "carpet"
           }
          ],
          "choropleth": [
           {
            "colorbar": {
             "outlinewidth": 0,
             "ticks": ""
            },
            "type": "choropleth"
           }
          ],
          "contour": [
           {
            "colorbar": {
             "outlinewidth": 0,
             "ticks": ""
            },
            "colorscale": [
             [
              0.0,
              "#0d0887"
             ],
             [
              0.1111111111111111,
              "#46039f"
             ],
             [
              0.2222222222222222,
              "#7201a8"
             ],
             [
              0.3333333333333333,
              "#9c179e"
             ],
             [
              0.4444444444444444,
              "#bd3786"
             ],
             [
              0.5555555555555556,
              "#d8576b"
             ],
             [
              0.6666666666666666,
              "#ed7953"
             ],
             [
              0.7777777777777778,
              "#fb9f3a"
             ],
             [
              0.8888888888888888,
              "#fdca26"
             ],
             [
              1.0,
              "#f0f921"
             ]
            ],
            "type": "contour"
           }
          ],
          "contourcarpet": [
           {
            "colorbar": {
             "outlinewidth": 0,
             "ticks": ""
            },
            "type": "contourcarpet"
           }
          ],
          "heatmap": [
           {
            "colorbar": {
             "outlinewidth": 0,
             "ticks": ""
            },
            "colorscale": [
             [
              0.0,
              "#0d0887"
             ],
             [
              0.1111111111111111,
              "#46039f"
             ],
             [
              0.2222222222222222,
              "#7201a8"
             ],
             [
              0.3333333333333333,
              "#9c179e"
             ],
             [
              0.4444444444444444,
              "#bd3786"
             ],
             [
              0.5555555555555556,
              "#d8576b"
             ],
             [
              0.6666666666666666,
              "#ed7953"
             ],
             [
              0.7777777777777778,
              "#fb9f3a"
             ],
             [
              0.8888888888888888,
              "#fdca26"
             ],
             [
              1.0,
              "#f0f921"
             ]
            ],
            "type": "heatmap"
           }
          ],
          "heatmapgl": [
           {
            "colorbar": {
             "outlinewidth": 0,
             "ticks": ""
            },
            "colorscale": [
             [
              0.0,
              "#0d0887"
             ],
             [
              0.1111111111111111,
              "#46039f"
             ],
             [
              0.2222222222222222,
              "#7201a8"
             ],
             [
              0.3333333333333333,
              "#9c179e"
             ],
             [
              0.4444444444444444,
              "#bd3786"
             ],
             [
              0.5555555555555556,
              "#d8576b"
             ],
             [
              0.6666666666666666,
              "#ed7953"
             ],
             [
              0.7777777777777778,
              "#fb9f3a"
             ],
             [
              0.8888888888888888,
              "#fdca26"
             ],
             [
              1.0,
              "#f0f921"
             ]
            ],
            "type": "heatmapgl"
           }
          ],
          "histogram": [
           {
            "marker": {
             "pattern": {
              "fillmode": "overlay",
              "size": 10,
              "solidity": 0.2
             }
            },
            "type": "histogram"
           }
          ],
          "histogram2d": [
           {
            "colorbar": {
             "outlinewidth": 0,
             "ticks": ""
            },
            "colorscale": [
             [
              0.0,
              "#0d0887"
             ],
             [
              0.1111111111111111,
              "#46039f"
             ],
             [
              0.2222222222222222,
              "#7201a8"
             ],
             [
              0.3333333333333333,
              "#9c179e"
             ],
             [
              0.4444444444444444,
              "#bd3786"
             ],
             [
              0.5555555555555556,
              "#d8576b"
             ],
             [
              0.6666666666666666,
              "#ed7953"
             ],
             [
              0.7777777777777778,
              "#fb9f3a"
             ],
             [
              0.8888888888888888,
              "#fdca26"
             ],
             [
              1.0,
              "#f0f921"
             ]
            ],
            "type": "histogram2d"
           }
          ],
          "histogram2dcontour": [
           {
            "colorbar": {
             "outlinewidth": 0,
             "ticks": ""
            },
            "colorscale": [
             [
              0.0,
              "#0d0887"
             ],
             [
              0.1111111111111111,
              "#46039f"
             ],
             [
              0.2222222222222222,
              "#7201a8"
             ],
             [
              0.3333333333333333,
              "#9c179e"
             ],
             [
              0.4444444444444444,
              "#bd3786"
             ],
             [
              0.5555555555555556,
              "#d8576b"
             ],
             [
              0.6666666666666666,
              "#ed7953"
             ],
             [
              0.7777777777777778,
              "#fb9f3a"
             ],
             [
              0.8888888888888888,
              "#fdca26"
             ],
             [
              1.0,
              "#f0f921"
             ]
            ],
            "type": "histogram2dcontour"
           }
          ],
          "mesh3d": [
           {
            "colorbar": {
             "outlinewidth": 0,
             "ticks": ""
            },
            "type": "mesh3d"
           }
          ],
          "parcoords": [
           {
            "line": {
             "colorbar": {
              "outlinewidth": 0,
              "ticks": ""
             }
            },
            "type": "parcoords"
           }
          ],
          "pie": [
           {
            "automargin": true,
            "type": "pie"
           }
          ],
          "scatter": [
           {
            "marker": {
             "colorbar": {
              "outlinewidth": 0,
              "ticks": ""
             }
            },
            "type": "scatter"
           }
          ],
          "scatter3d": [
           {
            "line": {
             "colorbar": {
              "outlinewidth": 0,
              "ticks": ""
             }
            },
            "marker": {
             "colorbar": {
              "outlinewidth": 0,
              "ticks": ""
             }
            },
            "type": "scatter3d"
           }
          ],
          "scattercarpet": [
           {
            "marker": {
             "colorbar": {
              "outlinewidth": 0,
              "ticks": ""
             }
            },
            "type": "scattercarpet"
           }
          ],
          "scattergeo": [
           {
            "marker": {
             "colorbar": {
              "outlinewidth": 0,
              "ticks": ""
             }
            },
            "type": "scattergeo"
           }
          ],
          "scattergl": [
           {
            "marker": {
             "colorbar": {
              "outlinewidth": 0,
              "ticks": ""
             }
            },
            "type": "scattergl"
           }
          ],
          "scattermapbox": [
           {
            "marker": {
             "colorbar": {
              "outlinewidth": 0,
              "ticks": ""
             }
            },
            "type": "scattermapbox"
           }
          ],
          "scatterpolar": [
           {
            "marker": {
             "colorbar": {
              "outlinewidth": 0,
              "ticks": ""
             }
            },
            "type": "scatterpolar"
           }
          ],
          "scatterpolargl": [
           {
            "marker": {
             "colorbar": {
              "outlinewidth": 0,
              "ticks": ""
             }
            },
            "type": "scatterpolargl"
           }
          ],
          "scatterternary": [
           {
            "marker": {
             "colorbar": {
              "outlinewidth": 0,
              "ticks": ""
             }
            },
            "type": "scatterternary"
           }
          ],
          "surface": [
           {
            "colorbar": {
             "outlinewidth": 0,
             "ticks": ""
            },
            "colorscale": [
             [
              0.0,
              "#0d0887"
             ],
             [
              0.1111111111111111,
              "#46039f"
             ],
             [
              0.2222222222222222,
              "#7201a8"
             ],
             [
              0.3333333333333333,
              "#9c179e"
             ],
             [
              0.4444444444444444,
              "#bd3786"
             ],
             [
              0.5555555555555556,
              "#d8576b"
             ],
             [
              0.6666666666666666,
              "#ed7953"
             ],
             [
              0.7777777777777778,
              "#fb9f3a"
             ],
             [
              0.8888888888888888,
              "#fdca26"
             ],
             [
              1.0,
              "#f0f921"
             ]
            ],
            "type": "surface"
           }
          ],
          "table": [
           {
            "cells": {
             "fill": {
              "color": "#EBF0F8"
             },
             "line": {
              "color": "white"
             }
            },
            "header": {
             "fill": {
              "color": "#C8D4E3"
             },
             "line": {
              "color": "white"
             }
            },
            "type": "table"
           }
          ]
         },
         "layout": {
          "annotationdefaults": {
           "arrowcolor": "#2a3f5f",
           "arrowhead": 0,
           "arrowwidth": 1
          },
          "autotypenumbers": "strict",
          "coloraxis": {
           "colorbar": {
            "outlinewidth": 0,
            "ticks": ""
           }
          },
          "colorscale": {
           "diverging": [
            [
             0,
             "#8e0152"
            ],
            [
             0.1,
             "#c51b7d"
            ],
            [
             0.2,
             "#de77ae"
            ],
            [
             0.3,
             "#f1b6da"
            ],
            [
             0.4,
             "#fde0ef"
            ],
            [
             0.5,
             "#f7f7f7"
            ],
            [
             0.6,
             "#e6f5d0"
            ],
            [
             0.7,
             "#b8e186"
            ],
            [
             0.8,
             "#7fbc41"
            ],
            [
             0.9,
             "#4d9221"
            ],
            [
             1,
             "#276419"
            ]
           ],
           "sequential": [
            [
             0.0,
             "#0d0887"
            ],
            [
             0.1111111111111111,
             "#46039f"
            ],
            [
             0.2222222222222222,
             "#7201a8"
            ],
            [
             0.3333333333333333,
             "#9c179e"
            ],
            [
             0.4444444444444444,
             "#bd3786"
            ],
            [
             0.5555555555555556,
             "#d8576b"
            ],
            [
             0.6666666666666666,
             "#ed7953"
            ],
            [
             0.7777777777777778,
             "#fb9f3a"
            ],
            [
             0.8888888888888888,
             "#fdca26"
            ],
            [
             1.0,
             "#f0f921"
            ]
           ],
           "sequentialminus": [
            [
             0.0,
             "#0d0887"
            ],
            [
             0.1111111111111111,
             "#46039f"
            ],
            [
             0.2222222222222222,
             "#7201a8"
            ],
            [
             0.3333333333333333,
             "#9c179e"
            ],
            [
             0.4444444444444444,
             "#bd3786"
            ],
            [
             0.5555555555555556,
             "#d8576b"
            ],
            [
             0.6666666666666666,
             "#ed7953"
            ],
            [
             0.7777777777777778,
             "#fb9f3a"
            ],
            [
             0.8888888888888888,
             "#fdca26"
            ],
            [
             1.0,
             "#f0f921"
            ]
           ]
          },
          "colorway": [
           "#636efa",
           "#EF553B",
           "#00cc96",
           "#ab63fa",
           "#FFA15A",
           "#19d3f3",
           "#FF6692",
           "#B6E880",
           "#FF97FF",
           "#FECB52"
          ],
          "font": {
           "color": "#2a3f5f"
          },
          "geo": {
           "bgcolor": "white",
           "lakecolor": "white",
           "landcolor": "#E5ECF6",
           "showlakes": true,
           "showland": true,
           "subunitcolor": "white"
          },
          "hoverlabel": {
           "align": "left"
          },
          "hovermode": "closest",
          "mapbox": {
           "style": "light"
          },
          "paper_bgcolor": "white",
          "plot_bgcolor": "#E5ECF6",
          "polar": {
           "angularaxis": {
            "gridcolor": "white",
            "linecolor": "white",
            "ticks": ""
           },
           "bgcolor": "#E5ECF6",
           "radialaxis": {
            "gridcolor": "white",
            "linecolor": "white",
            "ticks": ""
           }
          },
          "scene": {
           "xaxis": {
            "backgroundcolor": "#E5ECF6",
            "gridcolor": "white",
            "gridwidth": 2,
            "linecolor": "white",
            "showbackground": true,
            "ticks": "",
            "zerolinecolor": "white"
           },
           "yaxis": {
            "backgroundcolor": "#E5ECF6",
            "gridcolor": "white",
            "gridwidth": 2,
            "linecolor": "white",
            "showbackground": true,
            "ticks": "",
            "zerolinecolor": "white"
           },
           "zaxis": {
            "backgroundcolor": "#E5ECF6",
            "gridcolor": "white",
            "gridwidth": 2,
            "linecolor": "white",
            "showbackground": true,
            "ticks": "",
            "zerolinecolor": "white"
           }
          },
          "shapedefaults": {
           "line": {
            "color": "#2a3f5f"
           }
          },
          "ternary": {
           "aaxis": {
            "gridcolor": "white",
            "linecolor": "white",
            "ticks": ""
           },
           "baxis": {
            "gridcolor": "white",
            "linecolor": "white",
            "ticks": ""
           },
           "bgcolor": "#E5ECF6",
           "caxis": {
            "gridcolor": "white",
            "linecolor": "white",
            "ticks": ""
           }
          },
          "title": {
           "x": 0.05
          },
          "xaxis": {
           "automargin": true,
           "gridcolor": "white",
           "linecolor": "white",
           "ticks": "",
           "title": {
            "standoff": 15
           },
           "zerolinecolor": "white",
           "zerolinewidth": 2
          },
          "yaxis": {
           "automargin": true,
           "gridcolor": "white",
           "linecolor": "white",
           "ticks": "",
           "title": {
            "standoff": 15
           },
           "zerolinecolor": "white",
           "zerolinewidth": 2
          }
         }
        },
        "title": {
         "text": "Accuracy (count) by features workclass/hours-per-week"
        },
        "width": 800,
        "xaxis": {
         "dtick": 1,
         "gridcolor": "rgb(0, 0, 0)",
         "side": "bottom",
         "ticks": "",
         "title": {
          "text": "hours-per-week"
         }
        },
        "yaxis": {
         "autorange": "reversed",
         "dtick": 1,
         "ticks": "",
         "ticksuffix": "  ",
         "title": {
          "text": "workclass"
         }
        }
       }
      }
     },
     "metadata": {},
     "output_type": "display_data"
    },
    {
     "data": {
      "text/html": []
     },
     "metadata": {},
     "output_type": "display_data"
    }
   ],
   "source": [
    "from deepchecks.tabular.checks.performance import SegmentPerformance\n",
    "\n",
    "SegmentPerformance(feature_1='workclass', feature_2='hours-per-week').run(validation_ds, model)"
   ]
  }
 ],
 "metadata": {
  "kernelspec": {
   "display_name": "Python 3 (ipykernel)",
   "language": "python",
   "name": "python3"
  },
  "language_info": {
   "codemirror_mode": {
    "name": "ipython",
    "version": 3
   },
   "file_extension": ".py",
   "mimetype": "text/x-python",
   "name": "python",
   "nbconvert_exporter": "python",
   "pygments_lexer": "ipython3",
   "version": "3.8.10"
  }
 },
 "nbformat": 4,
 "nbformat_minor": 5
}
