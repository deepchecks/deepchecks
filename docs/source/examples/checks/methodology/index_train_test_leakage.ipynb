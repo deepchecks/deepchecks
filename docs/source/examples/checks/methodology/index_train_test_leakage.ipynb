{
 "cells": [
  {
   "cell_type": "markdown",
   "id": "6dfb8c67",
   "metadata": {},
   "source": [
    "# Index Leakage "
   ]
  },
  {
   "cell_type": "code",
   "execution_count": 1,
   "id": "4d212059-938a-4408-acda-0312e70dc70c",
   "metadata": {
    "execution": {
     "iopub.execute_input": "2022-01-26T12:58:51.205814Z",
     "iopub.status.busy": "2022-01-26T12:58:51.204723Z",
     "iopub.status.idle": "2022-01-26T12:58:53.199437Z",
     "shell.execute_reply": "2022-01-26T12:58:53.200249Z"
    }
   },
   "outputs": [],
   "source": [
    "from deepchecks.tabular.base import Dataset\n",
    "from deepchecks.tabular.checks import IndexTrainTestLeakage\n",
    "import pandas as pd"
   ]
  },
  {
   "cell_type": "code",
   "execution_count": 2,
   "id": "a3d8fd09-a056-47c4-a65b-cabf26c217ab",
   "metadata": {
    "execution": {
     "iopub.execute_input": "2022-01-26T12:58:53.205443Z",
     "iopub.status.busy": "2022-01-26T12:58:53.204420Z",
     "iopub.status.idle": "2022-01-26T12:58:53.206495Z",
     "shell.execute_reply": "2022-01-26T12:58:53.206879Z"
    }
   },
   "outputs": [],
   "source": [
    "def dataset_from_dict(d: dict, index_name: str = None) -> Dataset:\n",
    "    dataframe = pd.DataFrame(data=d)\n",
    "    return Dataset(dataframe, index_name=index_name)"
   ]
  },
  {
   "cell_type": "markdown",
   "id": "d80ca9b7-dc21-4edc-b8b5-b0186f5ff894",
   "metadata": {},
   "source": [
    "## Synthetic example with index leakage"
   ]
  },
  {
   "cell_type": "code",
   "execution_count": 3,
   "id": "2eb1ca1a-eccd-4707-8802-44904653f54b",
   "metadata": {
    "execution": {
     "iopub.execute_input": "2022-01-26T12:58:53.218441Z",
     "iopub.status.busy": "2022-01-26T12:58:53.217678Z",
     "iopub.status.idle": "2022-01-26T12:58:53.221759Z",
     "shell.execute_reply": "2022-01-26T12:58:53.221186Z"
    }
   },
   "outputs": [
    {
     "data": {
      "text/html": [
       "<h4>Index Train-Test Leakage</h4><p>Check if test indexes are present in train data. <a href=\"https://docs.deepchecks.com/en/0.3.2/examples/checks/methodology/index_leakage.html?utm_source=display_output&utm_medium=referral&utm_campaign=check_link\" target=\"_blank\">Read More...</a></p><h5>Additional Outputs</h5><div>40.0% of test data indexes appear in training data</div><style type=\"text/css\">\n",
       "#T_8215d_ table {\n",
       "  text-align: left;\n",
       "  white-space: pre-wrap;\n",
       "}\n",
       "#T_8215d_ thead {\n",
       "  text-align: left;\n",
       "  white-space: pre-wrap;\n",
       "}\n",
       "#T_8215d_ tbody {\n",
       "  text-align: left;\n",
       "  white-space: pre-wrap;\n",
       "}\n",
       "#T_8215d_ th {\n",
       "  text-align: left;\n",
       "  white-space: pre-wrap;\n",
       "}\n",
       "#T_8215d_ td {\n",
       "  text-align: left;\n",
       "  white-space: pre-wrap;\n",
       "}\n",
       "</style>\n",
       "<table id=\"T_8215d_\">\n",
       "  <thead>\n",
       "    <tr>\n",
       "      <th class=\"blank level0\" >&nbsp;</th>\n",
       "      <th class=\"col_heading level0 col0\" >0</th>\n",
       "    </tr>\n",
       "  </thead>\n",
       "  <tbody>\n",
       "    <tr>\n",
       "      <th id=\"T_8215d_level0_row0\" class=\"row_heading level0 row0\" >Sample of test indexes in train:</th>\n",
       "      <td id=\"T_8215d_row0_col0\" class=\"data row0 col0\" >[3, 4]</td>\n",
       "    </tr>\n",
       "  </tbody>\n",
       "</table>\n"
      ]
     },
     "metadata": {},
     "output_type": "display_data"
    }
   ],
   "source": [
    "train_ds = dataset_from_dict({'col1': [1, 2, 3, 4, 10, 11]}, 'col1')\n",
    "test_ds = dataset_from_dict({'col1': [4, 3, 5, 6, 7]}, 'col1')\n",
    "check_obj = IndexTrainTestLeakage()\n",
    "check_obj.run(train_ds, test_ds)"
   ]
  },
  {
   "cell_type": "code",
   "execution_count": 4,
   "id": "55796c5f-6e4d-46d9-b94e-a71716df8052",
   "metadata": {
    "execution": {
     "iopub.execute_input": "2022-01-26T12:58:53.231238Z",
     "iopub.status.busy": "2022-01-26T12:58:53.230563Z",
     "iopub.status.idle": "2022-01-26T12:58:53.233177Z",
     "shell.execute_reply": "2022-01-26T12:58:53.233686Z"
    }
   },
   "outputs": [
    {
     "data": {
      "text/html": [
       "<h4>Index Train-Test Leakage</h4><p>Check if test indexes are present in train data. <a href=\"https://docs.deepchecks.com/en/0.3.2/examples/checks/methodology/index_leakage.html?utm_source=display_output&utm_medium=referral&utm_campaign=check_link\" target=\"_blank\">Read More...</a></p><h5>Additional Outputs</h5><div>40.0% of test data indexes appear in training data</div><style type=\"text/css\">\n",
       "#T_e972d_ table {\n",
       "  text-align: left;\n",
       "  white-space: pre-wrap;\n",
       "}\n",
       "#T_e972d_ thead {\n",
       "  text-align: left;\n",
       "  white-space: pre-wrap;\n",
       "}\n",
       "#T_e972d_ tbody {\n",
       "  text-align: left;\n",
       "  white-space: pre-wrap;\n",
       "}\n",
       "#T_e972d_ th {\n",
       "  text-align: left;\n",
       "  white-space: pre-wrap;\n",
       "}\n",
       "#T_e972d_ td {\n",
       "  text-align: left;\n",
       "  white-space: pre-wrap;\n",
       "}\n",
       "</style>\n",
       "<table id=\"T_e972d_\">\n",
       "  <thead>\n",
       "    <tr>\n",
       "      <th class=\"blank level0\" >&nbsp;</th>\n",
       "      <th class=\"col_heading level0 col0\" >0</th>\n",
       "    </tr>\n",
       "  </thead>\n",
       "  <tbody>\n",
       "    <tr>\n",
       "      <th id=\"T_e972d_level0_row0\" class=\"row_heading level0 row0\" >Sample of test indexes in train:</th>\n",
       "      <td id=\"T_e972d_row0_col0\" class=\"data row0 col0\" >[3]</td>\n",
       "    </tr>\n",
       "  </tbody>\n",
       "</table>\n"
      ]
     },
     "metadata": {},
     "output_type": "display_data"
    }
   ],
   "source": [
    "train_ds = dataset_from_dict({'col1': [1, 2, 3, 4, 10, 11]}, 'col1')\n",
    "test_ds = dataset_from_dict({'col1': [4, 3, 5, 6, 7]}, 'col1')\n",
    "check_obj = IndexTrainTestLeakage(n_index_to_show=1)\n",
    "check_obj.run(train_ds, test_ds)"
   ]
  },
  {
   "cell_type": "markdown",
   "id": "ce615997-c215-42ce-8b66-787d642b39e9",
   "metadata": {},
   "source": [
    "## Synthetic example without index leakage"
   ]
  },
  {
   "cell_type": "code",
   "execution_count": 5,
   "id": "136e8e0b-1cee-4670-8bf7-d78278d98fa7",
   "metadata": {
    "execution": {
     "iopub.execute_input": "2022-01-26T12:58:53.242170Z",
     "iopub.status.busy": "2022-01-26T12:58:53.241509Z",
     "iopub.status.idle": "2022-01-26T12:58:53.245032Z",
     "shell.execute_reply": "2022-01-26T12:58:53.245549Z"
    }
   },
   "outputs": [
    {
     "data": {
      "text/html": [
       "<h4>Index Train-Test Leakage</h4><p>Check if test indexes are present in train data. <a href=\"https://docs.deepchecks.com/en/0.3.2/examples/checks/methodology/index_leakage.html?utm_source=display_output&utm_medium=referral&utm_campaign=check_link\" target=\"_blank\">Read More...</a></p><h5>Additional Outputs</h5><p><b>&#x2713;</b> Nothing found</p>"
      ]
     },
     "metadata": {},
     "output_type": "display_data"
    }
   ],
   "source": [
    "train_ds = dataset_from_dict({'col1': [1, 2, 3, 4, 10, 11]}, 'col1')\n",
    "test_ds = dataset_from_dict({'col1': [20, 21, 5, 6, 7]}, 'col1')\n",
    "check_obj = IndexTrainTestLeakage()\n",
    "check_obj.run(train_ds, test_ds)"
   ]
  }
 ],
 "metadata": {
  "kernelspec": {
   "display_name": "Python 3 (ipykernel)",
   "language": "python",
   "name": "python3"
  },
  "language_info": {
   "codemirror_mode": {
    "name": "ipython",
    "version": 3
   },
   "file_extension": ".py",
   "mimetype": "text/x-python",
   "name": "python",
   "nbconvert_exporter": "python",
   "pygments_lexer": "ipython3",
   "version": "3.8.10"
  }
 },
 "nbformat": 4,
 "nbformat_minor": 5
}
