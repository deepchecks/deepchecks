{
 "cells": [
  {
   "cell_type": "markdown",
   "metadata": {},
   "source": [
    "# Datasets Size Comparison "
   ]
  },
  {
   "cell_type": "code",
   "execution_count": 1,
   "metadata": {
    "execution": {
     "iopub.execute_input": "2022-01-03T00:55:51.497278Z",
     "iopub.status.busy": "2022-01-03T00:55:51.496726Z",
     "iopub.status.idle": "2022-01-03T00:55:53.091369Z",
     "shell.execute_reply": "2022-01-03T00:55:53.090783Z"
    }
   },
   "outputs": [],
   "source": [
    "import pandas as pd\n",
    "import numpy as np\n",
    "from sklearn.model_selection import train_test_split\n",
    "from deepchecks import Dataset\n",
    "from deepchecks.checks.methodology import DatasetsSizeComparison"
   ]
  },
  {
   "cell_type": "code",
   "execution_count": 2,
   "metadata": {
    "execution": {
     "iopub.execute_input": "2022-01-03T00:55:53.097225Z",
     "iopub.status.busy": "2022-01-03T00:55:53.096700Z",
     "iopub.status.idle": "2022-01-03T00:55:53.107450Z",
     "shell.execute_reply": "2022-01-03T00:55:53.106671Z"
    }
   },
   "outputs": [],
   "source": [
    "df = pd.DataFrame(np.random.randn(1000, 3), columns=['x1', 'x2', 'x3'])\n",
    "df['label'] = df['x2'] + 0.1 * df['x1']\n",
    "\n",
    "train, test = train_test_split(df, test_size=0.4)\n",
    "train = Dataset(train, features=['x1', 'x2', 'x3'], label='label')\n",
    "test = Dataset(test, features=['x1', 'x2', 'x3'], label='label')\n",
    "\n",
    "check_instance = (\n",
    "    DatasetsSizeComparison()\n",
    "    .add_condition_train_dataset_not_smaller_than_test()\n",
    "    .add_condition_test_size_not_smaller_than(100)\n",
    "    .add_condition_test_train_size_ratio_not_smaller_than(0.2)\n",
    ")\n"
   ]
  },
  {
   "cell_type": "code",
   "execution_count": 3,
   "metadata": {
    "execution": {
     "iopub.execute_input": "2022-01-03T00:55:53.112348Z",
     "iopub.status.busy": "2022-01-03T00:55:53.111867Z",
     "iopub.status.idle": "2022-01-03T00:55:53.128288Z",
     "shell.execute_reply": "2022-01-03T00:55:53.128638Z"
    }
   },
   "outputs": [
    {
     "data": {
      "text/html": [
       "<h4>Datasets Size Comparison</h4>"
      ]
     },
     "metadata": {},
     "output_type": "display_data"
    },
    {
     "data": {
      "text/html": [
       "<p>Verify test dataset size comparing it to the train dataset size.</p>"
      ]
     },
     "metadata": {},
     "output_type": "display_data"
    },
    {
     "data": {
      "text/html": [
       "<h5>Conditions Summary</h5>"
      ]
     },
     "metadata": {},
     "output_type": "display_data"
    },
    {
     "data": {
      "text/html": [
       "<style type=\"text/css\">\n",
       "#T_88e8e_ table {\n",
       "  text-align: left;\n",
       "}\n",
       "#T_88e8e_ thead {\n",
       "  text-align: left;\n",
       "}\n",
       "#T_88e8e_ tbody {\n",
       "  text-align: left;\n",
       "}\n",
       "#T_88e8e_ th {\n",
       "  text-align: left;\n",
       "}\n",
       "#T_88e8e_ td {\n",
       "  text-align: left;\n",
       "}\n",
       "</style>\n",
       "<table id=\"T_88e8e_\">\n",
       "  <thead>\n",
       "    <tr>\n",
       "      <th class=\"col_heading level0 col0\" >Status</th>\n",
       "      <th class=\"col_heading level0 col1\" >Condition</th>\n",
       "      <th class=\"col_heading level0 col2\" >More Info</th>\n",
       "    </tr>\n",
       "  </thead>\n",
       "  <tbody>\n",
       "    <tr>\n",
       "      <td id=\"T_88e8e_row0_col0\" class=\"data row0 col0\" ><div style=\"color: green;text-align: center\">✓</div></td>\n",
       "      <td id=\"T_88e8e_row0_col1\" class=\"data row0 col1\" >Train dataset is not smaller than test dataset</td>\n",
       "      <td id=\"T_88e8e_row0_col2\" class=\"data row0 col2\" ></td>\n",
       "    </tr>\n",
       "    <tr>\n",
       "      <td id=\"T_88e8e_row1_col0\" class=\"data row1 col0\" ><div style=\"color: green;text-align: center\">✓</div></td>\n",
       "      <td id=\"T_88e8e_row1_col1\" class=\"data row1 col1\" >Test dataset size is not smaller than 100</td>\n",
       "      <td id=\"T_88e8e_row1_col2\" class=\"data row1 col2\" ></td>\n",
       "    </tr>\n",
       "    <tr>\n",
       "      <td id=\"T_88e8e_row2_col0\" class=\"data row2 col0\" ><div style=\"color: green;text-align: center\">✓</div></td>\n",
       "      <td id=\"T_88e8e_row2_col1\" class=\"data row2 col1\" >Test-Train size ratio is not smaller than 0.2</td>\n",
       "      <td id=\"T_88e8e_row2_col2\" class=\"data row2 col2\" ></td>\n",
       "    </tr>\n",
       "  </tbody>\n",
       "</table>\n"
      ]
     },
     "metadata": {},
     "output_type": "display_data"
    },
    {
     "data": {
      "text/html": [
       "<h5>Additional Outputs</h5>"
      ]
     },
     "metadata": {},
     "output_type": "display_data"
    },
    {
     "data": {
      "text/html": [
       "<style type=\"text/css\">\n",
       "#T_61106_ table {\n",
       "  text-align: left;\n",
       "}\n",
       "#T_61106_ thead {\n",
       "  text-align: left;\n",
       "}\n",
       "#T_61106_ tbody {\n",
       "  text-align: left;\n",
       "}\n",
       "#T_61106_ th {\n",
       "  text-align: left;\n",
       "}\n",
       "#T_61106_ td {\n",
       "  text-align: left;\n",
       "}\n",
       "</style>\n",
       "<table id=\"T_61106_\">\n",
       "  <thead>\n",
       "    <tr>\n",
       "      <th class=\"blank level0\" >&nbsp;</th>\n",
       "      <th class=\"col_heading level0 col0\" >Train</th>\n",
       "      <th class=\"col_heading level0 col1\" >Test</th>\n",
       "    </tr>\n",
       "  </thead>\n",
       "  <tbody>\n",
       "    <tr>\n",
       "      <th id=\"T_61106_level0_row0\" class=\"row_heading level0 row0\" >Size</th>\n",
       "      <td id=\"T_61106_row0_col0\" class=\"data row0 col0\" >600</td>\n",
       "      <td id=\"T_61106_row0_col1\" class=\"data row0 col1\" >400</td>\n",
       "    </tr>\n",
       "  </tbody>\n",
       "</table>\n"
      ]
     },
     "metadata": {},
     "output_type": "display_data"
    }
   ],
   "source": [
    "check_instance.run(train, test)"
   ]
  }
 ],
 "metadata": {
  "interpreter": {
   "hash": "84907e5c832b0f30997d577d5af975f753923a883501768793aa42b5515ede32"
  },
  "kernelspec": {
   "display_name": "Python 3 (ipykernel)",
   "language": "python",
   "name": "python3"
  },
  "language_info": {
   "codemirror_mode": {
    "name": "ipython",
    "version": 3
   },
   "file_extension": ".py",
   "mimetype": "text/x-python",
   "name": "python",
   "nbconvert_exporter": "python",
   "pygments_lexer": "ipython3",
   "version": "3.8.2"
  }
 },
 "nbformat": 4,
 "nbformat_minor": 4
}
