{
 "cells": [
  {
   "cell_type": "markdown",
   "metadata": {},
   "source": [
    "# Model Inference Time "
   ]
  },
  {
   "cell_type": "code",
   "execution_count": 1,
   "metadata": {
    "execution": {
     "iopub.execute_input": "2022-01-25T01:02:38.265460Z",
     "iopub.status.busy": "2022-01-25T01:02:38.264596Z",
     "iopub.status.idle": "2022-01-25T01:02:40.310720Z",
     "shell.execute_reply": "2022-01-25T01:02:40.311313Z"
    }
   },
   "outputs": [
    {
     "name": "stderr",
     "output_type": "stream",
     "text": [
      "/home/runner/work/deepchecks/deepchecks/venv/lib/python3.9/site-packages/statsmodels/compat/pandas.py:65: FutureWarning:\n",
      "\n",
      "pandas.Int64Index is deprecated and will be removed from pandas in a future version. Use pandas.Index with the appropriate dtype instead.\n",
      "\n"
     ]
    }
   ],
   "source": [
    "from sklearn.datasets import load_iris\n",
    "from sklearn.ensemble import AdaBoostClassifier\n",
    "from sklearn.model_selection import train_test_split\n",
    "\n",
    "from deepchecks import Dataset\n",
    "from deepchecks.checks.methodology import ModelInferenceTime"
   ]
  },
  {
   "cell_type": "code",
   "execution_count": 2,
   "metadata": {
    "execution": {
     "iopub.execute_input": "2022-01-25T01:02:40.317135Z",
     "iopub.status.busy": "2022-01-25T01:02:40.316494Z",
     "iopub.status.idle": "2022-01-25T01:02:40.410714Z",
     "shell.execute_reply": "2022-01-25T01:02:40.410164Z"
    }
   },
   "outputs": [],
   "source": [
    "iris = load_iris(as_frame=True)\n",
    "train, test = train_test_split(iris.frame, test_size=0.33, random_state=42)\n",
    "\n",
    "train_ds = Dataset(train, features=iris.feature_names, label='target')\n",
    "test_ds = Dataset(test, features=iris.feature_names, label='target')\n",
    "\n",
    "clf = AdaBoostClassifier().fit(train_ds.data[train_ds.features], train_ds.data[train_ds.label_name])"
   ]
  },
  {
   "cell_type": "code",
   "execution_count": 3,
   "metadata": {
    "execution": {
     "iopub.execute_input": "2022-01-25T01:02:40.430216Z",
     "iopub.status.busy": "2022-01-25T01:02:40.428857Z",
     "iopub.status.idle": "2022-01-25T01:02:40.448397Z",
     "shell.execute_reply": "2022-01-25T01:02:40.448972Z"
    }
   },
   "outputs": [
    {
     "data": {
      "text/html": [
       "<h4>Model Inference Time</h4><p>Measure model average inference time (in seconds) per sample. <a href=\"https://docs.deepchecks.com/en/0.3.2/examples/checks/methodology/model_inference_time.html?utm_source=display_output&utm_medium=referral&utm_campaign=check_link\" target=\"_blank\">Read More...</a></p><h5>Additional Outputs</h5><div>Average model inference time for one sample (in seconds): 0.00023392</div>"
      ]
     },
     "metadata": {},
     "output_type": "display_data"
    }
   ],
   "source": [
    "check = ModelInferenceTime()\n",
    "check.run(test_ds, clf)"
   ]
  },
  {
   "cell_type": "markdown",
   "metadata": {},
   "source": [
    "## Instantiating check instance with condition"
   ]
  },
  {
   "cell_type": "code",
   "execution_count": 4,
   "metadata": {
    "execution": {
     "iopub.execute_input": "2022-01-25T01:02:40.457505Z",
     "iopub.status.busy": "2022-01-25T01:02:40.451475Z",
     "iopub.status.idle": "2022-01-25T01:02:40.722004Z",
     "shell.execute_reply": "2022-01-25T01:02:40.721502Z"
    },
    "tags": []
   },
   "outputs": [
    {
     "name": "stderr",
     "output_type": "stream",
     "text": [
      "/home/runner/work/deepchecks/deepchecks/deepchecks/base/display_pandas.py:107: FutureWarning:\n",
      "\n",
      "this method is deprecated in favour of `Styler.hide(axis='index')`\n",
      "\n",
      "/home/runner/work/deepchecks/deepchecks/deepchecks/base/display_pandas.py:54: FutureWarning:\n",
      "\n",
      "this method is deprecated in favour of `Styler.to_html()`\n",
      "\n"
     ]
    },
    {
     "data": {
      "text/html": [
       "<h4>Model Inference Time</h4><p>Measure model average inference time (in seconds) per sample. <a href=\"https://docs.deepchecks.com/en/0.3.2/examples/checks/methodology/model_inference_time.html?utm_source=display_output&utm_medium=referral&utm_campaign=check_link\" target=\"_blank\">Read More...</a></p><h5>Conditions Summary</h5><style type=\"text/css\">\n",
       "#T_aa97a table {\n",
       "  text-align: left;\n",
       "  white-space: pre-wrap;\n",
       "}\n",
       "#T_aa97a thead {\n",
       "  text-align: left;\n",
       "  white-space: pre-wrap;\n",
       "}\n",
       "#T_aa97a tbody {\n",
       "  text-align: left;\n",
       "  white-space: pre-wrap;\n",
       "}\n",
       "#T_aa97a th {\n",
       "  text-align: left;\n",
       "  white-space: pre-wrap;\n",
       "}\n",
       "#T_aa97a td {\n",
       "  text-align: left;\n",
       "  white-space: pre-wrap;\n",
       "}\n",
       "</style>\n",
       "<table id=\"T_aa97a\">\n",
       "  <thead>\n",
       "    <tr>\n",
       "      <th id=\"T_aa97a_level0_col0\" class=\"col_heading level0 col0\" >Status</th>\n",
       "      <th id=\"T_aa97a_level0_col1\" class=\"col_heading level0 col1\" >Condition</th>\n",
       "      <th id=\"T_aa97a_level0_col2\" class=\"col_heading level0 col2\" >More Info</th>\n",
       "    </tr>\n",
       "  </thead>\n",
       "  <tbody>\n",
       "    <tr>\n",
       "      <td id=\"T_aa97a_row0_col0\" class=\"data row0 col0\" ><div style=\"color: red;text-align: center\">✖</div></td>\n",
       "      <td id=\"T_aa97a_row0_col1\" class=\"data row0 col1\" >Average model inference time for one sample is not greater than 1e-05</td>\n",
       "      <td id=\"T_aa97a_row0_col2\" class=\"data row0 col2\" >Found average inference time (in seconds) above threshold: 0.0002262</td>\n",
       "    </tr>\n",
       "  </tbody>\n",
       "</table>\n",
       "<h5>Additional Outputs</h5><div>Average model inference time for one sample (in seconds): 0.0002262</div>"
      ]
     },
     "metadata": {},
     "output_type": "display_data"
    }
   ],
   "source": [
    "check = ModelInferenceTime().add_condition_inference_time_is_not_greater_than(0.00001)\n",
    "check.run(test_ds, clf)"
   ]
  }
 ],
 "metadata": {
  "interpreter": {
   "hash": "84907e5c832b0f30997d577d5af975f753923a883501768793aa42b5515ede32"
  },
  "kernelspec": {
   "display_name": "Python 3 (ipykernel)",
   "language": "python",
   "name": "python3"
  },
  "language_info": {
   "codemirror_mode": {
    "name": "ipython",
    "version": 3
   },
   "file_extension": ".py",
   "mimetype": "text/x-python",
   "name": "python",
   "nbconvert_exporter": "python",
   "pygments_lexer": "ipython3",
   "version": "3.9.10"
  }
 },
 "nbformat": 4,
 "nbformat_minor": 4
}
