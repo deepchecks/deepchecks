{
 "cells": [
  {
   "cell_type": "markdown",
   "metadata": {},
   "source": [
    "# Model Inference Time "
   ]
  },
  {
   "cell_type": "code",
   "execution_count": 1,
   "metadata": {
    "execution": {
     "iopub.execute_input": "2022-01-19T14:57:49.913808Z",
     "iopub.status.busy": "2022-01-19T14:57:49.913080Z",
     "iopub.status.idle": "2022-01-19T14:57:51.759365Z",
     "shell.execute_reply": "2022-01-19T14:57:51.758402Z"
    }
   },
   "outputs": [],
   "source": [
    "from sklearn.datasets import load_iris\n",
    "from sklearn.ensemble import AdaBoostClassifier\n",
    "from sklearn.model_selection import train_test_split\n",
    "\n",
    "from deepchecks import Dataset\n",
    "from deepchecks.checks.methodology import ModelInferenceTimeCheck"
   ]
  },
  {
   "cell_type": "code",
   "execution_count": 2,
   "metadata": {
    "execution": {
     "iopub.execute_input": "2022-01-19T14:57:51.764589Z",
     "iopub.status.busy": "2022-01-19T14:57:51.763992Z",
     "iopub.status.idle": "2022-01-19T14:57:51.853182Z",
     "shell.execute_reply": "2022-01-19T14:57:51.853964Z"
    }
   },
   "outputs": [],
   "source": [
    "iris = load_iris(as_frame=True)\n",
    "train, test = train_test_split(iris.frame, test_size=0.33, random_state=42)\n",
    "\n",
    "train_ds = Dataset(train, features=iris.feature_names, label='target')\n",
    "test_ds = Dataset(test, features=iris.feature_names, label='target')\n",
    "\n",
    "clf = AdaBoostClassifier().fit(train_ds.features_columns, train_ds.label_col)"
   ]
  },
  {
   "cell_type": "code",
   "execution_count": 3,
   "metadata": {
    "execution": {
     "iopub.execute_input": "2022-01-19T14:57:51.892044Z",
     "iopub.status.busy": "2022-01-19T14:57:51.891295Z",
     "iopub.status.idle": "2022-01-19T14:57:51.895935Z",
     "shell.execute_reply": "2022-01-19T14:57:51.895404Z"
    }
   },
   "outputs": [
    {
     "data": {
      "text/html": [
       "<h4>Model Inference Time Check</h4><p>Measure model average inference time (in seconds) per sample.</p><h5>Additional Outputs</h5><div>Average model inference time for one sample (in seconds): 0.0002918</div>"
      ]
     },
     "metadata": {},
     "output_type": "display_data"
    }
   ],
   "source": [
    "# NBVAL_SKIP\n",
    "check = ModelInferenceTimeCheck()\n",
    "check.run(test_ds, clf)"
   ]
  },
  {
   "cell_type": "markdown",
   "metadata": {},
   "source": [
    "## Instantiating check instance with condition"
   ]
  },
  {
   "cell_type": "code",
   "execution_count": 4,
   "metadata": {
    "execution": {
     "iopub.execute_input": "2022-01-19T14:57:51.904315Z",
     "iopub.status.busy": "2022-01-19T14:57:51.900280Z",
     "iopub.status.idle": "2022-01-19T14:57:51.938029Z",
     "shell.execute_reply": "2022-01-19T14:57:51.937499Z"
    }
   },
   "outputs": [
    {
     "data": {
      "text/html": [
       "<h4>Model Inference Time Check</h4><p>Measure model average inference time (in seconds) per sample.</p><h5>Conditions Summary</h5><style type=\"text/css\">\n",
       "#T_883f6_ table {\n",
       "  text-align: left;\n",
       "  white-space: pre-wrap;\n",
       "}\n",
       "#T_883f6_ thead {\n",
       "  text-align: left;\n",
       "  white-space: pre-wrap;\n",
       "}\n",
       "#T_883f6_ tbody {\n",
       "  text-align: left;\n",
       "  white-space: pre-wrap;\n",
       "}\n",
       "#T_883f6_ th {\n",
       "  text-align: left;\n",
       "  white-space: pre-wrap;\n",
       "}\n",
       "#T_883f6_ td {\n",
       "  text-align: left;\n",
       "  white-space: pre-wrap;\n",
       "}\n",
       "</style>\n",
       "<table id=\"T_883f6_\">\n",
       "  <thead>\n",
       "    <tr>\n",
       "      <th class=\"col_heading level0 col0\" >Status</th>\n",
       "      <th class=\"col_heading level0 col1\" >Condition</th>\n",
       "      <th class=\"col_heading level0 col2\" >More Info</th>\n",
       "    </tr>\n",
       "  </thead>\n",
       "  <tbody>\n",
       "    <tr>\n",
       "      <td id=\"T_883f6_row0_col0\" class=\"data row0 col0\" ><div style=\"color: red;text-align: center\">✖</div></td>\n",
       "      <td id=\"T_883f6_row0_col1\" class=\"data row0 col1\" >Average model inference time for one sample is not greater than 1e-05</td>\n",
       "      <td id=\"T_883f6_row0_col2\" class=\"data row0 col2\" >Found average inference time (in seconds) above threshold: 0.00024817</td>\n",
       "    </tr>\n",
       "  </tbody>\n",
       "</table>\n",
       "<h5>Additional Outputs</h5><div>Average model inference time for one sample (in seconds): 0.00024817</div>"
      ]
     },
     "metadata": {},
     "output_type": "display_data"
    }
   ],
   "source": [
    "# NBVAL_SKIP\n",
    "check = ModelInferenceTimeCheck().add_condition_inference_time_is_not_greater_than(0.00001)\n",
    "check.run(test_ds, clf)"
   ]
  }
 ],
 "metadata": {
  "interpreter": {
   "hash": "84907e5c832b0f30997d577d5af975f753923a883501768793aa42b5515ede32"
  },
  "kernelspec": {
   "display_name": "Python 3 (ipykernel)",
   "language": "python",
   "name": "python3"
  },
  "language_info": {
   "codemirror_mode": {
    "name": "ipython",
    "version": 3
   },
   "file_extension": ".py",
   "mimetype": "text/x-python",
   "name": "python",
   "nbconvert_exporter": "python",
   "pygments_lexer": "ipython3",
   "version": "3.9.9"
  }
 },
 "nbformat": 4,
 "nbformat_minor": 4
}
