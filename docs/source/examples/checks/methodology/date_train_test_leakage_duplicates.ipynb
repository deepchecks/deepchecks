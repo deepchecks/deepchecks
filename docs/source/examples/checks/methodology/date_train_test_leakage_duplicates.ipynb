{
 "cells": [
  {
   "cell_type": "markdown",
   "id": "54555fcc",
   "metadata": {},
   "source": [
    "# Date Train Validation Leakage Duplicates "
   ]
  },
  {
   "cell_type": "code",
   "execution_count": 1,
   "id": "cc488684",
   "metadata": {
    "execution": {
     "iopub.execute_input": "2022-01-07T01:02:40.442579Z",
     "iopub.status.busy": "2022-01-07T01:02:40.441888Z",
     "iopub.status.idle": "2022-01-07T01:02:42.662004Z",
     "shell.execute_reply": "2022-01-07T01:02:42.662511Z"
    }
   },
   "outputs": [],
   "source": [
    "from deepchecks.checks.methodology import DateTrainTestLeakageDuplicates\n",
    "from deepchecks.base import Dataset, Suite\n",
    "from datetime import datetime\n",
    "import pandas as pd\n",
    "\n",
    "def dataset_from_dict(d: dict, datetime_name: str = None) -> Dataset:\n",
    "    dataframe = pd.DataFrame(data=d)\n",
    "    return Dataset(dataframe, datetime_name=datetime_name)"
   ]
  },
  {
   "cell_type": "markdown",
   "id": "c9f13383",
   "metadata": {},
   "source": [
    "## Synthetic example with date leakage"
   ]
  },
  {
   "cell_type": "code",
   "execution_count": 2,
   "id": "b55d4a72",
   "metadata": {
    "execution": {
     "iopub.execute_input": "2022-01-07T01:02:42.671755Z",
     "iopub.status.busy": "2022-01-07T01:02:42.671096Z",
     "iopub.status.idle": "2022-01-07T01:02:42.693079Z",
     "shell.execute_reply": "2022-01-07T01:02:42.693614Z"
    }
   },
   "outputs": [
    {
     "data": {
      "text/html": [
       "<h4>Date Train-Test Leakage (duplicates)</h4>"
      ]
     },
     "metadata": {},
     "output_type": "display_data"
    },
    {
     "data": {
      "text/html": [
       "<p>Check if test dates are present in train data.</p>"
      ]
     },
     "metadata": {},
     "output_type": "display_data"
    },
    {
     "data": {
      "text/html": [
       "18.18% of test data dates appear in training data"
      ]
     },
     "metadata": {},
     "output_type": "display_data"
    },
    {
     "data": {
      "text/html": [
       "<style type=\"text/css\">\n",
       "#T_62486_ table {\n",
       "  text-align: left;\n",
       "}\n",
       "#T_62486_ thead {\n",
       "  text-align: left;\n",
       "}\n",
       "#T_62486_ tbody {\n",
       "  text-align: left;\n",
       "}\n",
       "#T_62486_ th {\n",
       "  text-align: left;\n",
       "}\n",
       "#T_62486_ td {\n",
       "  text-align: left;\n",
       "}\n",
       "</style>\n",
       "<table id=\"T_62486_\">\n",
       "  <thead>\n",
       "    <tr>\n",
       "      <th class=\"blank level0\" >&nbsp;</th>\n",
       "      <th class=\"col_heading level0 col0\" >0</th>\n",
       "    </tr>\n",
       "  </thead>\n",
       "  <tbody>\n",
       "    <tr>\n",
       "      <th id=\"T_62486_level0_row0\" class=\"row_heading level0 row0\" >Sample of test dates in train:</th>\n",
       "      <td id=\"T_62486_row0_col0\" class=\"data row0 col0\" >['2021/10/05 00:00:00.000000 ', '2021/10/04 00:00:00.000000 ']</td>\n",
       "    </tr>\n",
       "  </tbody>\n",
       "</table>\n"
      ]
     },
     "metadata": {},
     "output_type": "display_data"
    }
   ],
   "source": [
    "train_ds = dataset_from_dict({'col1': [\n",
    "        datetime(2021, 10, 1, 0, 0),\n",
    "        datetime(2021, 10, 1, 0, 0),\n",
    "        datetime(2021, 10, 1, 0, 0),\n",
    "        datetime(2021, 10, 2, 0, 0),\n",
    "        datetime(2021, 10, 2, 0, 0),\n",
    "        datetime(2021, 10, 2, 0, 0),\n",
    "        datetime(2021, 10, 3, 0, 0),\n",
    "        datetime(2021, 10, 3, 0, 0),\n",
    "        datetime(2021, 10, 3, 0, 0),\n",
    "        datetime(2021, 10, 4, 0, 0),\n",
    "        datetime(2021, 10, 4, 0, 0),\n",
    "        datetime(2021, 10, 4, 0, 0),\n",
    "        datetime(2021, 10, 5, 0, 0),\n",
    "        datetime(2021, 10, 5, 0, 0)\n",
    "    ]}, 'col1')\n",
    "test_ds = dataset_from_dict({'col1': [\n",
    "        datetime(2021, 9, 4, 0, 0),\n",
    "        datetime(2021, 10, 4, 0, 0),\n",
    "        datetime(2021, 10, 5, 0, 0),\n",
    "        datetime(2021, 10, 6, 0, 0),\n",
    "        datetime(2021, 10, 6, 0, 0),\n",
    "        datetime(2021, 10, 7, 0, 0),\n",
    "        datetime(2021, 10, 7, 0, 0),\n",
    "        datetime(2021, 10, 8, 0, 0),\n",
    "        datetime(2021, 10, 8, 0, 0),\n",
    "        datetime(2021, 10, 9, 0, 0),\n",
    "        datetime(2021, 10, 9, 0, 0)\n",
    "    ]}, 'col1')\n",
    "\n",
    "DateTrainTestLeakageDuplicates(n_to_show=3).run(train_dataset=train_ds, test_dataset=test_ds)"
   ]
  },
  {
   "cell_type": "markdown",
   "id": "a9d5b2e2",
   "metadata": {},
   "source": [
    "## Synthetic example no date leakage"
   ]
  },
  {
   "cell_type": "code",
   "execution_count": 3,
   "id": "2bd26bdf",
   "metadata": {
    "execution": {
     "iopub.execute_input": "2022-01-07T01:02:42.709361Z",
     "iopub.status.busy": "2022-01-07T01:02:42.708705Z",
     "iopub.status.idle": "2022-01-07T01:02:42.713827Z",
     "shell.execute_reply": "2022-01-07T01:02:42.714341Z"
    }
   },
   "outputs": [
    {
     "data": {
      "text/html": [
       "<h4>Date Train-Test Leakage (duplicates)</h4>"
      ]
     },
     "metadata": {},
     "output_type": "display_data"
    },
    {
     "data": {
      "text/html": [
       "<p>Check if test dates are present in train data.</p>"
      ]
     },
     "metadata": {},
     "output_type": "display_data"
    },
    {
     "data": {
      "text/html": [
       "<p><b>&#x2713;</b> Nothing found</p>"
      ]
     },
     "metadata": {},
     "output_type": "display_data"
    }
   ],
   "source": [
    "train_ds = dataset_from_dict({'col1': [\n",
    "        datetime(2021, 10, 3, 0, 0),\n",
    "        datetime(2021, 10, 3, 0, 0),\n",
    "        datetime(2021, 10, 4, 0, 0),\n",
    "        datetime(2021, 10, 4, 0, 0),\n",
    "        datetime(2021, 10, 4, 0, 0),\n",
    "        datetime(2021, 10, 5, 0, 0),\n",
    "        datetime(2021, 10, 5, 0, 0)\n",
    "    ]}, 'col1')\n",
    "test_ds = dataset_from_dict({'col1': [\n",
    "        datetime(2021, 11, 4, 0, 0),\n",
    "        datetime(2021, 11, 4, 0, 0),\n",
    "        datetime(2021, 11, 5, 0, 0),\n",
    "        datetime(2021, 11, 6, 0, 0),\n",
    "\n",
    "    ]}, 'col1')\n",
    "\n",
    "DateTrainTestLeakageDuplicates().run(train_dataset=train_ds, test_dataset=test_ds)"
   ]
  }
 ],
 "metadata": {
  "interpreter": {
   "hash": "aee8b7b246df8f9039afb4144a1f6fd8d2ca17a180786b69acc140d282b71a49"
  },
  "kernelspec": {
   "display_name": "Python 3 (ipykernel)",
   "language": "python",
   "name": "python3"
  },
  "language_info": {
   "codemirror_mode": {
    "name": "ipython",
    "version": 3
   },
   "file_extension": ".py",
   "mimetype": "text/x-python",
   "name": "python",
   "nbconvert_exporter": "python",
   "pygments_lexer": "ipython3",
   "version": "3.9.9"
  }
 },
 "nbformat": 4,
 "nbformat_minor": 5
}
