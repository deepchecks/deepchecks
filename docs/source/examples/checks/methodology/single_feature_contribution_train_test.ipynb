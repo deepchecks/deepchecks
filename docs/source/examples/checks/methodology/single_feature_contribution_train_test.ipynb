{
 "cells": [
  {
   "cell_type": "markdown",
   "id": "21c5d5bc",
   "metadata": {},
   "source": [
    "# Single Feature Contribution Train Test \n",
    "\n",
    "This notebook provides an overview for using and understanding the \"Single Feature Contribution Train Test\" check.\n",
    "\n",
    "**Structure:**\n",
    "\n",
    "- [What is the purpose of the check?](#What-is-the-purpose-of-the-check?)\n",
    "- [Generate data](#Generate-data)\n",
    "- [Run the check](#Run-the-check)\n",
    "- [Define a condition](#Define-a-condition)"
   ]
  },
  {
   "cell_type": "markdown",
   "id": "5864599b-530b-4304-8729-34fb171257d7",
   "metadata": {},
   "source": [
    "## What is the purpose of the check?\n",
    "\n",
    "The check estimates for every feature its ability to predict the label by itself. This check can help find:\n",
    "\n",
    "* A potential leakage (between the label and a feature) in both datasets - e.g. due to incorrect sampling during data collection. This is a critical problem, that will likely stay hidden without this check (as it won't pop up when comparing model performance on train and test).\n",
    "* A strong drift between the the feature-label relation in both datasets, possibly originating from a leakage in one of the datasets - e.g. a leakage that exists in the training data, but not necessarily in a \"fresh\" dataset, that may have been built differently.\n",
    "\n",
    "The check is based on calculating the predictive power score (PPS) of each feature. For more details you can read here [how the PPS is calculated.](#How-is-the-Predictive-Power-Score-(PPS)-calculated?)"
   ]
  },
  {
   "cell_type": "markdown",
   "id": "33ba1a46-14dc-4799-a8f5-d008880e560e",
   "metadata": {},
   "source": [
    "### What is a problematic result?\n",
    "1. Features with a high predictive score - can indicate that there is a leakage between the label and the feature, meaning that the feature holds information that is somewhat based on the label to begin with.\\\n",
    "For example: a bank uses their loans database to create a model of whether a customer will be able to return a loan. One of the features they extract is \"number of late payments\". It is clear this feature will have a very strong prediction power on the customer's ability to return his loan, but this feature is based on data the bank knows only after the loan is given, so it won't be available during the time of the prediction, and is a type of leakage.\n",
    "\n",
    "2. A high difference between the PPS scores of a certain feature in the train and in the test datasets - this is an indication for a drift between the relation of the feature and the label and a possible leakage in one of the datasets.\\\n",
    "For example: a coffee shop chain trained a model to predict the number of coffee cups ordered in a store, and the model was trained on data from a specific state, and tested on data from all states. Running the Single Feature Contribution check on this split found that there was a high difference in the PPS score of the feature \"time_in_day\" - it had a much higher predictive power on the training data than on the test data. Investigating this topic led to detection of the problem - the time in day was saved in UTC time for all states, which made the feature much less indicative for the test data as it had data from several time zones (and much more coffee cups are ordered in during the morning/noon than during the evening/night time). This was fixed by changing the feature to be the time relative to the local time zone, thus fixing its predictive power and improving the model's overall performance."
   ]
  },
  {
   "cell_type": "markdown",
   "id": "3d2250ba-b193-48cb-904b-474e70fa95ef",
   "metadata": {},
   "source": [
    "### How is the Predictive Power Score (PPS) calculated?\n",
    "\n",
    "The features' predictive score results in a numeric score between 0 (feature has no predictive power) and 1 (feature can fully predict the label alone).\\\n",
    "\n",
    "The process of calculating the PPS is the following:\n",
    "1. Extract from the data only the label and the feature being tested\n",
    "2. Drop samples with missing values\n",
    "3. Keep 5000 (this is configurable parameter) samples from the data\n",
    "4. Preprocess categorical columns. For the label using `sklearn.LabelEncoder` and for the feature using `sklearn.OneHotEncoder`\n",
    "5. Partition the data with 4-fold cross-validation\n",
    "6. Train decision tree\n",
    "7. Compare the trained model's performance with naive model's performance as follows:\\\n",
    "Regression: The naive model always predicts the median of the label column, The metric being used is MAE and the PPS calculation is: $1 - \\frac{\\text{MAE model}}{\\text{MAE naive}}$\\\n",
    "Classification: The naive model always predicts the most common class of the label column, The metric being used is F1 and the PPS calculation is: $\\frac{\\text{F1 model} - \\text{F1 naive}}{1 - \\text{F1 naive}}$\n",
    "\n",
    "*Note: all the PPS parameters can be changed by passing to the check the parameter `ppscore_params`*\n",
    "\n",
    "For further information about PPS you can visit the <a href=\"https://github.com/8080labs/ppscore\" target=\"_blank\">ppscore github</a> or the following blog post: <a href=\"https://towardsdatascience.com/rip-correlation-introducing-the-predictive-power-score-3d90808b9598\" target=\"_blank\">RIP correlation. Introducing the Predictive Power Score</a>"
   ]
  },
  {
   "cell_type": "markdown",
   "id": "0fdeac8e-ffd2-4509-8a70-fcbda9cdb68b",
   "metadata": {},
   "source": [
    "## Generate data\n",
    "\n",
    "We'll add to a given dataset a direct relation between two features and the label, in order to see the Single Feature Contribution Train Test check in action."
   ]
  },
  {
   "cell_type": "code",
   "execution_count": 6,
   "id": "9242c05f-d312-4c00-977e-54032d49852e",
   "metadata": {
    "execution": {
     "iopub.execute_input": "2022-01-26T12:59:07.114374Z",
     "iopub.status.busy": "2022-01-26T12:59:07.113587Z",
     "iopub.status.idle": "2022-01-26T12:59:11.317542Z",
     "shell.execute_reply": "2022-01-26T12:59:11.317991Z"
    },
    "tags": []
   },
   "outputs": [],
   "source": [
    "from deepchecks.tabular.datasets.classification.phishing import load_data\n",
    "\n",
    "def relate_column_to_label(dataset, column, label_power):\n",
    "    col_data = dataset.data[column]\n",
    "    dataset.data[column] = col_data + (dataset.data[dataset.label_name] * col_data.mean() * label_power)\n",
    "    \n",
    "train_dataset, test_dataset = load_data()\n",
    "\n",
    "# Transforming 2 features in the dataset given to add correlation to the label \n",
    "relate_column_to_label(train_dataset, 'numDigits', 10)\n",
    "relate_column_to_label(train_dataset, 'numLinks', 10)\n",
    "relate_column_to_label(test_dataset, 'numDigits', 0.1)"
   ]
  },
  {
   "cell_type": "markdown",
   "id": "8b5defd1-376a-4229-88c8-1e273d124d9c",
   "metadata": {},
   "source": [
    "## Run the check"
   ]
  },
  {
   "cell_type": "code",
   "execution_count": 7,
   "id": "88357833-807f-4d0e-86a3-9459f80d465d",
   "metadata": {
    "execution": {
     "iopub.execute_input": "2022-01-26T12:59:11.323217Z",
     "iopub.status.busy": "2022-01-26T12:59:11.322597Z",
     "iopub.status.idle": "2022-01-26T12:59:12.306512Z",
     "shell.execute_reply": "2022-01-26T12:59:12.304559Z"
    },
    "tags": []
   },
   "outputs": [
    {
     "data": {
      "text/html": [
       "<h4>Single Feature Contribution Train-Test</h4><p>    Return the Predictive Power Score of all features, in order to estimate each feature's ability to predict the label. <a href=\"https://docs.deepchecks.com/en/0.3.2/examples/checks/methodology/single_feature_contribution_train_test.html?utm_source=display_output&utm_medium=referral&utm_campaign=check_link\" target=\"_blank\">Read More...</a></p><h5>Additional Outputs</h5>"
      ]
     },
     "metadata": {},
     "output_type": "display_data"
    },
    {
     "data": {
      "application/vnd.plotly.v1+json": {
       "config": {
        "plotlyServerURL": "https://plot.ly"
       },
       "data": [
        {
         "marker": {
          "color": "darkblue"
         },
         "name": "Train",
         "text": [
          0.89,
          0.95,
          0.24,
          0.0,
          0.0
         ],
         "textposition": "outside",
         "type": "bar",
         "x": [
          "numLinks",
          "numDigits",
          "urlLength",
          "urlIsLive",
          "sscr"
         ],
         "y": [
          0.8851351351351351,
          0.9527027027027027,
          0.23646714795497537,
          0.0,
          0.0
         ]
        },
        {
         "marker": {
          "color": "#69b3a2"
         },
         "name": "Test",
         "text": [
          0.0,
          0.84,
          0.27,
          0.0,
          0.0
         ],
         "textposition": "outside",
         "type": "bar",
         "x": [
          "numLinks",
          "numDigits",
          "urlLength",
          "urlIsLive",
          "sscr"
         ],
         "y": [
          0.0,
          0.8367346292159752,
          0.2723349191922806,
          0.0,
          0.0
         ]
        },
        {
         "line": {
          "color": "#aa57b5",
          "width": 5
         },
         "marker": {
          "size": 15,
          "symbol": "circle"
         },
         "name": "Train-Test Difference (abs)",
         "type": "scatter",
         "x": [
          "numLinks",
          "numDigits",
          "urlLength",
          "urlIsLive",
          "sscr"
         ],
         "y": [
          0.8851351351351351,
          0.11596807348672755,
          0.035867771237305224,
          0.0,
          0.0
         ]
        }
       ],
       "layout": {
        "barmode": "group",
        "height": 500,
        "legend": {
         "x": 1.0,
         "y": 1.0
        },
        "template": {
         "data": {
          "bar": [
           {
            "error_x": {
             "color": "#2a3f5f"
            },
            "error_y": {
             "color": "#2a3f5f"
            },
            "marker": {
             "line": {
              "color": "#E5ECF6",
              "width": 0.5
             },
             "pattern": {
              "fillmode": "overlay",
              "size": 10,
              "solidity": 0.2
             }
            },
            "type": "bar"
           }
          ],
          "barpolar": [
           {
            "marker": {
             "line": {
              "color": "#E5ECF6",
              "width": 0.5
             },
             "pattern": {
              "fillmode": "overlay",
              "size": 10,
              "solidity": 0.2
             }
            },
            "type": "barpolar"
           }
          ],
          "carpet": [
           {
            "aaxis": {
             "endlinecolor": "#2a3f5f",
             "gridcolor": "white",
             "linecolor": "white",
             "minorgridcolor": "white",
             "startlinecolor": "#2a3f5f"
            },
            "baxis": {
             "endlinecolor": "#2a3f5f",
             "gridcolor": "white",
             "linecolor": "white",
             "minorgridcolor": "white",
             "startlinecolor": "#2a3f5f"
            },
            "type": "carpet"
           }
          ],
          "choropleth": [
           {
            "colorbar": {
             "outlinewidth": 0,
             "ticks": ""
            },
            "type": "choropleth"
           }
          ],
          "contour": [
           {
            "colorbar": {
             "outlinewidth": 0,
             "ticks": ""
            },
            "colorscale": [
             [
              0.0,
              "#0d0887"
             ],
             [
              0.1111111111111111,
              "#46039f"
             ],
             [
              0.2222222222222222,
              "#7201a8"
             ],
             [
              0.3333333333333333,
              "#9c179e"
             ],
             [
              0.4444444444444444,
              "#bd3786"
             ],
             [
              0.5555555555555556,
              "#d8576b"
             ],
             [
              0.6666666666666666,
              "#ed7953"
             ],
             [
              0.7777777777777778,
              "#fb9f3a"
             ],
             [
              0.8888888888888888,
              "#fdca26"
             ],
             [
              1.0,
              "#f0f921"
             ]
            ],
            "type": "contour"
           }
          ],
          "contourcarpet": [
           {
            "colorbar": {
             "outlinewidth": 0,
             "ticks": ""
            },
            "type": "contourcarpet"
           }
          ],
          "heatmap": [
           {
            "colorbar": {
             "outlinewidth": 0,
             "ticks": ""
            },
            "colorscale": [
             [
              0.0,
              "#0d0887"
             ],
             [
              0.1111111111111111,
              "#46039f"
             ],
             [
              0.2222222222222222,
              "#7201a8"
             ],
             [
              0.3333333333333333,
              "#9c179e"
             ],
             [
              0.4444444444444444,
              "#bd3786"
             ],
             [
              0.5555555555555556,
              "#d8576b"
             ],
             [
              0.6666666666666666,
              "#ed7953"
             ],
             [
              0.7777777777777778,
              "#fb9f3a"
             ],
             [
              0.8888888888888888,
              "#fdca26"
             ],
             [
              1.0,
              "#f0f921"
             ]
            ],
            "type": "heatmap"
           }
          ],
          "heatmapgl": [
           {
            "colorbar": {
             "outlinewidth": 0,
             "ticks": ""
            },
            "colorscale": [
             [
              0.0,
              "#0d0887"
             ],
             [
              0.1111111111111111,
              "#46039f"
             ],
             [
              0.2222222222222222,
              "#7201a8"
             ],
             [
              0.3333333333333333,
              "#9c179e"
             ],
             [
              0.4444444444444444,
              "#bd3786"
             ],
             [
              0.5555555555555556,
              "#d8576b"
             ],
             [
              0.6666666666666666,
              "#ed7953"
             ],
             [
              0.7777777777777778,
              "#fb9f3a"
             ],
             [
              0.8888888888888888,
              "#fdca26"
             ],
             [
              1.0,
              "#f0f921"
             ]
            ],
            "type": "heatmapgl"
           }
          ],
          "histogram": [
           {
            "marker": {
             "pattern": {
              "fillmode": "overlay",
              "size": 10,
              "solidity": 0.2
             }
            },
            "type": "histogram"
           }
          ],
          "histogram2d": [
           {
            "colorbar": {
             "outlinewidth": 0,
             "ticks": ""
            },
            "colorscale": [
             [
              0.0,
              "#0d0887"
             ],
             [
              0.1111111111111111,
              "#46039f"
             ],
             [
              0.2222222222222222,
              "#7201a8"
             ],
             [
              0.3333333333333333,
              "#9c179e"
             ],
             [
              0.4444444444444444,
              "#bd3786"
             ],
             [
              0.5555555555555556,
              "#d8576b"
             ],
             [
              0.6666666666666666,
              "#ed7953"
             ],
             [
              0.7777777777777778,
              "#fb9f3a"
             ],
             [
              0.8888888888888888,
              "#fdca26"
             ],
             [
              1.0,
              "#f0f921"
             ]
            ],
            "type": "histogram2d"
           }
          ],
          "histogram2dcontour": [
           {
            "colorbar": {
             "outlinewidth": 0,
             "ticks": ""
            },
            "colorscale": [
             [
              0.0,
              "#0d0887"
             ],
             [
              0.1111111111111111,
              "#46039f"
             ],
             [
              0.2222222222222222,
              "#7201a8"
             ],
             [
              0.3333333333333333,
              "#9c179e"
             ],
             [
              0.4444444444444444,
              "#bd3786"
             ],
             [
              0.5555555555555556,
              "#d8576b"
             ],
             [
              0.6666666666666666,
              "#ed7953"
             ],
             [
              0.7777777777777778,
              "#fb9f3a"
             ],
             [
              0.8888888888888888,
              "#fdca26"
             ],
             [
              1.0,
              "#f0f921"
             ]
            ],
            "type": "histogram2dcontour"
           }
          ],
          "mesh3d": [
           {
            "colorbar": {
             "outlinewidth": 0,
             "ticks": ""
            },
            "type": "mesh3d"
           }
          ],
          "parcoords": [
           {
            "line": {
             "colorbar": {
              "outlinewidth": 0,
              "ticks": ""
             }
            },
            "type": "parcoords"
           }
          ],
          "pie": [
           {
            "automargin": true,
            "type": "pie"
           }
          ],
          "scatter": [
           {
            "marker": {
             "colorbar": {
              "outlinewidth": 0,
              "ticks": ""
             }
            },
            "type": "scatter"
           }
          ],
          "scatter3d": [
           {
            "line": {
             "colorbar": {
              "outlinewidth": 0,
              "ticks": ""
             }
            },
            "marker": {
             "colorbar": {
              "outlinewidth": 0,
              "ticks": ""
             }
            },
            "type": "scatter3d"
           }
          ],
          "scattercarpet": [
           {
            "marker": {
             "colorbar": {
              "outlinewidth": 0,
              "ticks": ""
             }
            },
            "type": "scattercarpet"
           }
          ],
          "scattergeo": [
           {
            "marker": {
             "colorbar": {
              "outlinewidth": 0,
              "ticks": ""
             }
            },
            "type": "scattergeo"
           }
          ],
          "scattergl": [
           {
            "marker": {
             "colorbar": {
              "outlinewidth": 0,
              "ticks": ""
             }
            },
            "type": "scattergl"
           }
          ],
          "scattermapbox": [
           {
            "marker": {
             "colorbar": {
              "outlinewidth": 0,
              "ticks": ""
             }
            },
            "type": "scattermapbox"
           }
          ],
          "scatterpolar": [
           {
            "marker": {
             "colorbar": {
              "outlinewidth": 0,
              "ticks": ""
             }
            },
            "type": "scatterpolar"
           }
          ],
          "scatterpolargl": [
           {
            "marker": {
             "colorbar": {
              "outlinewidth": 0,
              "ticks": ""
             }
            },
            "type": "scatterpolargl"
           }
          ],
          "scatterternary": [
           {
            "marker": {
             "colorbar": {
              "outlinewidth": 0,
              "ticks": ""
             }
            },
            "type": "scatterternary"
           }
          ],
          "surface": [
           {
            "colorbar": {
             "outlinewidth": 0,
             "ticks": ""
            },
            "colorscale": [
             [
              0.0,
              "#0d0887"
             ],
             [
              0.1111111111111111,
              "#46039f"
             ],
             [
              0.2222222222222222,
              "#7201a8"
             ],
             [
              0.3333333333333333,
              "#9c179e"
             ],
             [
              0.4444444444444444,
              "#bd3786"
             ],
             [
              0.5555555555555556,
              "#d8576b"
             ],
             [
              0.6666666666666666,
              "#ed7953"
             ],
             [
              0.7777777777777778,
              "#fb9f3a"
             ],
             [
              0.8888888888888888,
              "#fdca26"
             ],
             [
              1.0,
              "#f0f921"
             ]
            ],
            "type": "surface"
           }
          ],
          "table": [
           {
            "cells": {
             "fill": {
              "color": "#EBF0F8"
             },
             "line": {
              "color": "white"
             }
            },
            "header": {
             "fill": {
              "color": "#C8D4E3"
             },
             "line": {
              "color": "white"
             }
            },
            "type": "table"
           }
          ]
         },
         "layout": {
          "annotationdefaults": {
           "arrowcolor": "#2a3f5f",
           "arrowhead": 0,
           "arrowwidth": 1
          },
          "autotypenumbers": "strict",
          "coloraxis": {
           "colorbar": {
            "outlinewidth": 0,
            "ticks": ""
           }
          },
          "colorscale": {
           "diverging": [
            [
             0,
             "#8e0152"
            ],
            [
             0.1,
             "#c51b7d"
            ],
            [
             0.2,
             "#de77ae"
            ],
            [
             0.3,
             "#f1b6da"
            ],
            [
             0.4,
             "#fde0ef"
            ],
            [
             0.5,
             "#f7f7f7"
            ],
            [
             0.6,
             "#e6f5d0"
            ],
            [
             0.7,
             "#b8e186"
            ],
            [
             0.8,
             "#7fbc41"
            ],
            [
             0.9,
             "#4d9221"
            ],
            [
             1,
             "#276419"
            ]
           ],
           "sequential": [
            [
             0.0,
             "#0d0887"
            ],
            [
             0.1111111111111111,
             "#46039f"
            ],
            [
             0.2222222222222222,
             "#7201a8"
            ],
            [
             0.3333333333333333,
             "#9c179e"
            ],
            [
             0.4444444444444444,
             "#bd3786"
            ],
            [
             0.5555555555555556,
             "#d8576b"
            ],
            [
             0.6666666666666666,
             "#ed7953"
            ],
            [
             0.7777777777777778,
             "#fb9f3a"
            ],
            [
             0.8888888888888888,
             "#fdca26"
            ],
            [
             1.0,
             "#f0f921"
            ]
           ],
           "sequentialminus": [
            [
             0.0,
             "#0d0887"
            ],
            [
             0.1111111111111111,
             "#46039f"
            ],
            [
             0.2222222222222222,
             "#7201a8"
            ],
            [
             0.3333333333333333,
             "#9c179e"
            ],
            [
             0.4444444444444444,
             "#bd3786"
            ],
            [
             0.5555555555555556,
             "#d8576b"
            ],
            [
             0.6666666666666666,
             "#ed7953"
            ],
            [
             0.7777777777777778,
             "#fb9f3a"
            ],
            [
             0.8888888888888888,
             "#fdca26"
            ],
            [
             1.0,
             "#f0f921"
            ]
           ]
          },
          "colorway": [
           "#636efa",
           "#EF553B",
           "#00cc96",
           "#ab63fa",
           "#FFA15A",
           "#19d3f3",
           "#FF6692",
           "#B6E880",
           "#FF97FF",
           "#FECB52"
          ],
          "font": {
           "color": "#2a3f5f"
          },
          "geo": {
           "bgcolor": "white",
           "lakecolor": "white",
           "landcolor": "#E5ECF6",
           "showlakes": true,
           "showland": true,
           "subunitcolor": "white"
          },
          "hoverlabel": {
           "align": "left"
          },
          "hovermode": "closest",
          "mapbox": {
           "style": "light"
          },
          "paper_bgcolor": "white",
          "plot_bgcolor": "#E5ECF6",
          "polar": {
           "angularaxis": {
            "gridcolor": "white",
            "linecolor": "white",
            "ticks": ""
           },
           "bgcolor": "#E5ECF6",
           "radialaxis": {
            "gridcolor": "white",
            "linecolor": "white",
            "ticks": ""
           }
          },
          "scene": {
           "xaxis": {
            "backgroundcolor": "#E5ECF6",
            "gridcolor": "white",
            "gridwidth": 2,
            "linecolor": "white",
            "showbackground": true,
            "ticks": "",
            "zerolinecolor": "white"
           },
           "yaxis": {
            "backgroundcolor": "#E5ECF6",
            "gridcolor": "white",
            "gridwidth": 2,
            "linecolor": "white",
            "showbackground": true,
            "ticks": "",
            "zerolinecolor": "white"
           },
           "zaxis": {
            "backgroundcolor": "#E5ECF6",
            "gridcolor": "white",
            "gridwidth": 2,
            "linecolor": "white",
            "showbackground": true,
            "ticks": "",
            "zerolinecolor": "white"
           }
          },
          "shapedefaults": {
           "line": {
            "color": "#2a3f5f"
           }
          },
          "ternary": {
           "aaxis": {
            "gridcolor": "white",
            "linecolor": "white",
            "ticks": ""
           },
           "baxis": {
            "gridcolor": "white",
            "linecolor": "white",
            "ticks": ""
           },
           "bgcolor": "#E5ECF6",
           "caxis": {
            "gridcolor": "white",
            "linecolor": "white",
            "ticks": ""
           }
          },
          "title": {
           "x": 0.05
          },
          "xaxis": {
           "automargin": true,
           "gridcolor": "white",
           "linecolor": "white",
           "ticks": "",
           "title": {
            "standoff": 15
           },
           "zerolinecolor": "white",
           "zerolinewidth": 2
          },
          "yaxis": {
           "automargin": true,
           "gridcolor": "white",
           "linecolor": "white",
           "ticks": "",
           "title": {
            "standoff": 15
           },
           "zerolinecolor": "white",
           "zerolinewidth": 2
          }
         }
        },
        "title": {
         "text": "Predictive Power Score (PPS) - Can a feature predict the label by itself?"
        },
        "width": 800,
        "xaxis": {
         "title": {
          "text": "Column"
         }
        },
        "yaxis": {
         "range": [
          0,
          1.05
         ],
         "title": {
          "text": "Predictive Power Score (PPS)"
         }
        }
       }
      }
     },
     "metadata": {},
     "output_type": "display_data"
    },
    {
     "data": {
      "text/html": [
       "<div>The Predictive Power Score (PPS) is used to estimate the ability of a feature to predict the label by itself. (Read more about <a href=https://docs.deepchecks.com/en/stable/examples/checks/methodology/single_feature_contribution_train_test.html?utm_source=display_output&utm_medium=referral&utm_campaign=check_link target=\"_blank\">Predictive Power Score</a>)</div><div><u>In the graph above</u>, we should suspect we have problems in our data if:</div><div>1. <b>Train dataset PPS values are high</b>:</div><div>Can indicate that this feature's success in predicting the label is actually due to data leakage, </div><div>   meaning that the feature holds information that is based on the label to begin with.</div><div>2. <b>Large difference between train and test PPS</b> (train PPS is larger):</div><div>   An even more powerful indication of data leakage, as a feature that was powerful in train but not in test </div><div>   can be explained by leakage in train that is not relevant to a new dataset.</div><div>3. <b>Large difference between test and train PPS</b> (test PPS is larger):</div><div>   An anomalous value, could indicate  drift in test dataset that caused a coincidental correlation to the target label.</div>"
      ]
     },
     "metadata": {},
     "output_type": "display_data"
    }
   ],
   "source": [
    "from deepchecks.tabular.checks.methodology import SingleFeatureContributionTrainTest\n",
    "\n",
    "result = SingleFeatureContributionTrainTest().run(train_dataset=train_dataset, test_dataset=test_dataset)\n",
    "result"
   ]
  },
  {
   "cell_type": "markdown",
   "id": "e284d6d0-9aa9-4327-9b36-e91b1d6fb53b",
   "metadata": {},
   "source": [
    "### Observe the check's output\n",
    "\n",
    "The check shows the top features with the highest PPS difference in the datasets, and elaborates how to interpret the results.\\\n",
    "By default only the top 5 features are displayed, it can be changed by using the parameter `n_show_top` of the check.\n",
    "\n",
    "In addition to the graphic output, the check also returns a value which includes all of the information that is needed for defining the conditions for validation.\\\n",
    "The value is a dictionary of:\n",
    "- train - for train dataset for each column the numeric PPS score (0 to 1)\n",
    "- test - for test dataset for each column the numeric PPS score (0 to 1)\n",
    "- train-test difference - for each column the difference between the datasets scores, as `train - test`"
   ]
  },
  {
   "cell_type": "code",
   "execution_count": 8,
   "id": "4f079c66-1373-4a20-8654-d92fb4ecc513",
   "metadata": {
    "execution": {
     "iopub.execute_input": "2022-01-26T12:59:12.314983Z",
     "iopub.status.busy": "2022-01-26T12:59:12.314391Z",
     "iopub.status.idle": "2022-01-26T12:59:12.316874Z",
     "shell.execute_reply": "2022-01-26T12:59:12.317329Z"
    }
   },
   "outputs": [
    {
     "data": {
      "text/plain": [
       "{'train': {'numDigits': 0.9527027027027027,\n",
       "  'numLinks': 0.8851351351351351,\n",
       "  'urlLength': 0.23646714795497537,\n",
       "  'month': 0.0,\n",
       "  'ext': 0.0,\n",
       "  'numParams': 0.0,\n",
       "  'num_%20': 0.0,\n",
       "  'num_@': 0.0,\n",
       "  'entropy': 0.0,\n",
       "  'has_ip': 0.0,\n",
       "  'hasHttp': 0.0,\n",
       "  'hasHttps': 0.0,\n",
       "  'urlIsLive': 0.0,\n",
       "  'dsr': 0.0,\n",
       "  'dse': 0.0,\n",
       "  'bodyLength': 0.0,\n",
       "  'numTitles': 0.0,\n",
       "  'numImages': 0.0,\n",
       "  'specialChars': 0.0,\n",
       "  'scriptLength': 0.0,\n",
       "  'sbr': 0.0,\n",
       "  'bscr': 0.0,\n",
       "  'sscr': 0.0},\n",
       " 'test': {'numDigits': 0.8367346292159752,\n",
       "  'urlLength': 0.2723349191922806,\n",
       "  'month': 0.0,\n",
       "  'ext': 0.0,\n",
       "  'numParams': 0.0,\n",
       "  'num_%20': 0.0,\n",
       "  'num_@': 0.0,\n",
       "  'entropy': 0.0,\n",
       "  'has_ip': 0.0,\n",
       "  'hasHttp': 0.0,\n",
       "  'hasHttps': 0.0,\n",
       "  'urlIsLive': 0.0,\n",
       "  'dsr': 0.0,\n",
       "  'dse': 0.0,\n",
       "  'bodyLength': 0.0,\n",
       "  'numTitles': 0.0,\n",
       "  'numImages': 0.0,\n",
       "  'numLinks': 0.0,\n",
       "  'specialChars': 0.0,\n",
       "  'scriptLength': 0.0,\n",
       "  'sbr': 0.0,\n",
       "  'bscr': 0.0,\n",
       "  'sscr': 0.0},\n",
       " 'train-test difference': {'bodyLength': 0.0,\n",
       "  'bscr': 0.0,\n",
       "  'dse': 0.0,\n",
       "  'dsr': 0.0,\n",
       "  'entropy': 0.0,\n",
       "  'ext': 0.0,\n",
       "  'hasHttp': 0.0,\n",
       "  'hasHttps': 0.0,\n",
       "  'has_ip': 0.0,\n",
       "  'month': 0.0,\n",
       "  'numDigits': 0.11596807348672755,\n",
       "  'numImages': 0.0,\n",
       "  'numLinks': 0.8851351351351351,\n",
       "  'numParams': 0.0,\n",
       "  'numTitles': 0.0,\n",
       "  'num_%20': 0.0,\n",
       "  'num_@': 0.0,\n",
       "  'sbr': 0.0,\n",
       "  'scriptLength': 0.0,\n",
       "  'specialChars': 0.0,\n",
       "  'sscr': 0.0,\n",
       "  'urlIsLive': 0.0,\n",
       "  'urlLength': -0.035867771237305224}}"
      ]
     },
     "execution_count": 8,
     "metadata": {},
     "output_type": "execute_result"
    }
   ],
   "source": [
    "result.value"
   ]
  },
  {
   "cell_type": "markdown",
   "id": "49ad3bb9-2ce9-4318-8459-5b52bc7bd785",
   "metadata": {},
   "source": [
    "## Define a condition\n",
    "\n",
    "We can define on our check a condition that will validate that our pps scores aren't too high. The check has 2 possible built-in conditions:\\\n",
    "`add_condition_feature_pps_difference_not_greater_than` - Validate that the difference in the PPS between train and test is not larger than defined amount (default 0.2)\\\n",
    "`add_condition_feature_pps_in_train_not_greater_than` - Validate that the PPS scores on train dataset are not exceeding a defined amount (default 0.7)\n",
    "\n",
    "Let's add the conditions, and re-run the check:"
   ]
  },
  {
   "cell_type": "code",
   "execution_count": 9,
   "id": "3baa5b05-4ea1-4e32-909a-2d6c692bf7fc",
   "metadata": {
    "execution": {
     "iopub.execute_input": "2022-01-26T12:59:12.325732Z",
     "iopub.status.busy": "2022-01-26T12:59:12.325146Z",
     "iopub.status.idle": "2022-01-26T12:59:13.038161Z",
     "shell.execute_reply": "2022-01-26T12:59:13.038877Z"
    }
   },
   "outputs": [
    {
     "data": {
      "text/html": [
       "<h4>Single Feature Contribution Train-Test</h4><p>    Return the Predictive Power Score of all features, in order to estimate each feature's ability to predict the label. <a href=\"https://docs.deepchecks.com/en/0.3.2/examples/checks/methodology/single_feature_contribution_train_test.html?utm_source=display_output&utm_medium=referral&utm_campaign=check_link\" target=\"_blank\">Read More...</a></p><h5>Conditions Summary</h5><style type=\"text/css\">\n",
       "#T_0242d_ table {\n",
       "  text-align: left;\n",
       "  white-space: pre-wrap;\n",
       "}\n",
       "#T_0242d_ thead {\n",
       "  text-align: left;\n",
       "  white-space: pre-wrap;\n",
       "}\n",
       "#T_0242d_ tbody {\n",
       "  text-align: left;\n",
       "  white-space: pre-wrap;\n",
       "}\n",
       "#T_0242d_ th {\n",
       "  text-align: left;\n",
       "  white-space: pre-wrap;\n",
       "}\n",
       "#T_0242d_ td {\n",
       "  text-align: left;\n",
       "  white-space: pre-wrap;\n",
       "}\n",
       "</style>\n",
       "<table id=\"T_0242d_\">\n",
       "  <thead>\n",
       "    <tr>\n",
       "      <th class=\"col_heading level0 col0\" >Status</th>\n",
       "      <th class=\"col_heading level0 col1\" >Condition</th>\n",
       "      <th class=\"col_heading level0 col2\" >More Info</th>\n",
       "    </tr>\n",
       "  </thead>\n",
       "  <tbody>\n",
       "    <tr>\n",
       "      <td id=\"T_0242d_row0_col0\" class=\"data row0 col0\" ><div style=\"color: red;text-align: center\">✖</div></td>\n",
       "      <td id=\"T_0242d_row0_col1\" class=\"data row0 col1\" >Train-Test features' Predictive Power Score difference is not greater than 0.2</td>\n",
       "      <td id=\"T_0242d_row0_col2\" class=\"data row0 col2\" >Features with PPS difference above threshold: {'numLinks': '0.89'}</td>\n",
       "    </tr>\n",
       "    <tr>\n",
       "      <td id=\"T_0242d_row1_col0\" class=\"data row1 col0\" ><div style=\"color: red;text-align: center\">✖</div></td>\n",
       "      <td id=\"T_0242d_row1_col1\" class=\"data row1 col1\" >Train features' Predictive Power Score is not greater than 0.7</td>\n",
       "      <td id=\"T_0242d_row1_col2\" class=\"data row1 col2\" >Features in train dataset with PPS above threshold: {'numDigits': '0.95', 'numLinks': '0.89'}</td>\n",
       "    </tr>\n",
       "  </tbody>\n",
       "</table>\n"
      ]
     },
     "metadata": {},
     "output_type": "display_data"
    }
   ],
   "source": [
    "check = SingleFeatureContributionTrainTest().add_condition_feature_pps_difference_not_greater_than().add_condition_feature_pps_in_train_not_greater_than()\n",
    "result = check.run(train_dataset=train_dataset, test_dataset=test_dataset)\n",
    "result.show(show_additional_outputs=False)"
   ]
  },
  {
   "cell_type": "markdown",
   "id": "3a945503-345e-4ae3-8d31-340e3a6ff9b6",
   "metadata": {},
   "source": [
    "We see that the conditions have caught the changes we have introduced to the datasets, and alerts us that there is a possible problem with the given features."
   ]
  }
 ],
 "metadata": {
  "kernelspec": {
   "display_name": "Python 3 (ipykernel)",
   "language": "python",
   "name": "python3"
  },
  "language_info": {
   "codemirror_mode": {
    "name": "ipython",
    "version": 3
   },
   "file_extension": ".py",
   "mimetype": "text/x-python",
   "name": "python",
   "nbconvert_exporter": "python",
   "pygments_lexer": "ipython3",
   "version": "3.8.10"
  }
 },
 "nbformat": 4,
 "nbformat_minor": 5
}
