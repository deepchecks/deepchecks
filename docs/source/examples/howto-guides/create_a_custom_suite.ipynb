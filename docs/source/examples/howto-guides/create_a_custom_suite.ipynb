{
 "cells": [
  {
   "cell_type": "markdown",
   "id": "6f8e2a32",
   "metadata": {},
   "source": [
    "# Create a Custom Suite"
   ]
  },
  {
   "cell_type": "markdown",
   "id": "186c4eaf",
   "metadata": {},
   "source": [
    "A suite is a list of checks that will run one after the other, and its results will be displayed together.\n",
    "\n",
    "To customize a suite, we can either:\n",
    "* [Create new custom suites](#Create-a-New-Suite), by choosing the checks (and the optional conditions) that we want the suite to have.\n",
    "* [Modify a built-in suite](#Modify-an-Existing-Suite) by adding and/or removing checks and conditions, to adapt it to our needs."
   ]
  },
  {
   "cell_type": "markdown",
   "id": "c6519db0",
   "metadata": {},
   "source": [
    "## Create a New Suite"
   ]
  },
  {
   "cell_type": "markdown",
   "id": "3f93d515",
   "metadata": {},
   "source": [
    "Let's say we want to create our custom suite, mainly with various performance checks, including `PerformanceReport()`, `TrainTestDifferenceOverfit()` and several more.\n",
    "\n",
    "For assistance in understanding which checks are implemented and can be included, we suggest using any of:\n",
    "- API Reference (LINK)\n",
    "- Check demonstration notebooks (LINK)\n",
    "- Built-in suites (by printing them to see which checks they include)"
   ]
  },
  {
   "cell_type": "code",
   "execution_count": 1,
   "id": "7f5e3e8b",
   "metadata": {
    "ExecuteTime": {
     "end_time": "2021-12-08T21:43:39.094192Z",
     "start_time": "2021-12-08T21:43:37.771475Z"
    }
   },
   "outputs": [
    {
     "data": {
      "text/plain": [
       "Simple Suite For Model Performance: [\n",
       "\t0: ModelInfo(run=<function ModelInfo.run at 0x7f64500dfaf0>)\n",
       "\t1: PerformanceReport(run=<function PerformanceReport.run at 0x7f64500df280>)\n",
       "\t2: TrainTestDifferenceOverfit(run=<function TrainTestDifferenceOverfit.run at 0x7f639a6d6d30>)\n",
       "\t\tConditions:\n",
       "\t\t\t0: Train-Test metrics degradation ratio is not greater than 0.15\n",
       "\t\t\t1: Train-Test metrics difference is not greater than 0.3\n",
       "\t3: ConfusionMatrixReport(run=<function ConfusionMatrixReport.run at 0x7f639a706700>)\n",
       "\t4: SimpleModelComparison(run=<function SimpleModelComparison.run at 0x7f639a706790>, simple_model_type=constant, maximum_ratio=50, max_depth=3, random_state=42)\n",
       "\t\tConditions:\n",
       "\t\t\t0: Ratio not less than 0.9 between the given model's result and the simple model's result\n",
       "]"
      ]
     },
     "execution_count": 1,
     "metadata": {},
     "output_type": "execute_result"
    }
   ],
   "source": [
    "# importing all existing checks for demonstration simplicity\n",
    "from deepchecks.checks import *\n",
    "from deepchecks import Suite\n",
    "from sklearn.metrics import precision_score, recall_score\n",
    "\n",
    "# The Suite's first argument is its name, and then all of the check objects.\n",
    "# Some checks can receive arguments when initialized (all check arguments have default values)\n",
    "# Each check can have an optional condition(/s)\n",
    "# Multiple conditions can be applied subsequentially\n",
    "new_custom_suite = Suite('Simple Suite For Model Performance',\n",
    "    ModelInfo(),\n",
    "#   PerformanceReport(alternative_metrics={'Recall': recall_score, 'Precision': precision_score}),\n",
    "    PerformanceReport(),\n",
    "    TrainTestDifferenceOverfit(\\\n",
    "                ).add_condition_degradation_ratio_not_greater_than(threshold=0.15\\\n",
    "                ).add_condition_difference_not_greater_than(0.3),\n",
    "    ConfusionMatrixReport(),\n",
    "    SimpleModelComparison(simple_model_type='constant').add_condition_ratio_not_less_than(0.9)\n",
    ")\n",
    "\n",
    "# Let's see the suite:\n",
    "new_custom_suite"
   ]
  },
  {
   "cell_type": "markdown",
   "id": "019a3e4e",
   "metadata": {},
   "source": [
    "*TIP:  \n",
    "The auto-complete doesn't work from inside a suite, so if you want to use the auto-complete to see the arguments a check receive or the built-in conditions it has, try doing it outside of the suite's initialization.  \n",
    "For example, to see a check's built-in conditions, type in a new cell:  \n",
    "`NameOfDesiredCheck().add_condition_` and then check the auto-complete suggestions (using `Shift + Tab`).*"
   ]
  },
  {
   "cell_type": "markdown",
   "id": "d66799c8",
   "metadata": {},
   "source": [
    "###  Additional Notes about Conditions in a Suite"
   ]
  },
  {
   "cell_type": "markdown",
   "id": "0b97def8",
   "metadata": {
    "ExecuteTime": {
     "end_time": "2021-12-08T18:24:42.528319Z",
     "start_time": "2021-12-08T18:24:42.524057Z"
    }
   },
   "source": [
    "- Checks in the built-in suites come with pre-defined conditions, and when building your custom suite you should choose which conditions to add.\n",
    "- Most check classes have built-in methods for adding monditions. These apply to the naming convention `add_condition_...`, which enables adding a condition logic to parse the check's results.\n",
    "- Each check instance can have several conditions or none. Each condition will be evaluated separately.\n",
    "- The pass (<span style='green'>&#x2713;</span>) / fail (<span style=\"color: red\">&#x2716;</span>) / insight (<span style=\"color: orange;font-weight:bold;\">&#x21;</span>) status of the conditions, along with the condition's name and extra info will be displayed in the suite's Conditions Summary..\n",
    "- Most conditions have configurable arguments that can be passed to the condition while adding it.\n",
    "- For more info about conditions, check out Configure a Condition. (LINK)"
   ]
  },
  {
   "cell_type": "markdown",
   "id": "54278b82",
   "metadata": {},
   "source": [
    "## Run the Suite"
   ]
  },
  {
   "cell_type": "markdown",
   "id": "58b372af",
   "metadata": {},
   "source": [
    "This is simply done by calling the `run` method of the suite.\n",
    "\n",
    "To see that in action, we'll need datasets and a model.  \n",
    "Let's quickly load a dataset and train a simple model for the sake of this demo"
   ]
  },
  {
   "cell_type": "markdown",
   "id": "93a4a106",
   "metadata": {
    "ExecuteTime": {
     "end_time": "2021-12-08T18:09:44.643877Z",
     "start_time": "2021-12-08T18:09:44.636473Z"
    }
   },
   "source": [
    "### Load Data, Split Train-Val, and Train a Simple Model"
   ]
  },
  {
   "cell_type": "code",
   "execution_count": 2,
   "id": "3a32bcf0",
   "metadata": {
    "ExecuteTime": {
     "end_time": "2021-12-08T21:43:39.219404Z",
     "start_time": "2021-12-08T21:43:39.096190Z"
    }
   },
   "outputs": [],
   "source": [
    "# General imports\n",
    "import pandas as pd\n",
    "import numpy as np\n",
    "np.random.seed(22)\n",
    "\n",
    "from sklearn.datasets import load_iris\n",
    "from sklearn.ensemble import RandomForestClassifier\n",
    "from sklearn.model_selection import train_test_split\n",
    "\n",
    "# Load Data\n",
    "iris_df = load_iris(return_X_y=False, as_frame=True)['frame']\n",
    "label_col = 'target'\n",
    "df_train, df_test = train_test_split(iris_df, stratify=iris_df[label_col], random_state=0)\n",
    "\n",
    "# Train Model\n",
    "rf_clf = RandomForestClassifier()\n",
    "rf_clf.fit(df_train.drop(label_col, axis=1), df_train[label_col]);"
   ]
  },
  {
   "cell_type": "markdown",
   "id": "ea4e0c71",
   "metadata": {
    "ExecuteTime": {
     "end_time": "2021-12-08T21:18:33.320946Z",
     "start_time": "2021-12-08T21:18:33.316357Z"
    }
   },
   "source": [
    "### Define Datasets"
   ]
  },
  {
   "cell_type": "code",
   "execution_count": 3,
   "id": "9bdf0256",
   "metadata": {
    "ExecuteTime": {
     "end_time": "2021-12-08T21:43:39.228068Z",
     "start_time": "2021-12-08T21:43:39.220952Z"
    }
   },
   "outputs": [],
   "source": [
    "from deepchecks import Dataset\n",
    "ds_train = Dataset(df_train, label=label_col, cat_features=[], use_index=False, date=None)\n",
    "ds_test =  Dataset(df_test,  label=label_col, cat_features=[])"
   ]
  },
  {
   "cell_type": "markdown",
   "id": "afe3b0d5",
   "metadata": {},
   "source": [
    "### Run Suite"
   ]
  },
  {
   "cell_type": "code",
   "execution_count": 4,
   "id": "53264da9",
   "metadata": {
    "ExecuteTime": {
     "end_time": "2021-12-08T21:43:40.348722Z",
     "start_time": "2021-12-08T21:43:39.231265Z"
    }
   },
   "outputs": [
    {
     "data": {
      "application/vnd.jupyter.widget-view+json": {
       "model_id": "",
       "version_major": 2,
       "version_minor": 0
      },
      "text/plain": [
       "Simple Suite For Model Performance:   0%|          | 0/5 [00:00<?, ? Check/s]"
      ]
     },
     "metadata": {},
     "output_type": "display_data"
    },
    {
     "data": {
      "text/html": [
       "\n",
       "    <h1>Simple Suite For Model Performance</h1>\n",
       "    <p>The suite is composed of various checks such as: Model Info, Performance Report, Train Test Difference Overfit, etc...<br>\n",
       "    Each check may contain conditions (which results in \n",
       "    <span style=\"color: green;display:inline-block\">✓</span> /\n",
       "    <span style=\"color: red;display:inline-block\">✖</span> /\n",
       "    <span style=\"color: orange;font-weight:bold;display:inline-block\">!</span>\n",
       "    ), as well as other outputs such as plots or tables.<br>\n",
       "    Suites, checks and conditions can all be modified (see tutorial [link]).</p>\n",
       "    <hr style=\"background-color: black;border: 0 none;color: black;height: 1px;\"><h2>Conditions Summary</h2>\n",
       "    "
      ]
     },
     "metadata": {},
     "output_type": "display_data"
    },
    {
     "data": {
      "text/html": [
       "<style type=\"text/css\">\n",
       "#T_ec59c_ table {\n",
       "  text-align: left;\n",
       "}\n",
       "#T_ec59c_ thead {\n",
       "  text-align: left;\n",
       "}\n",
       "#T_ec59c_ tbody {\n",
       "  text-align: left;\n",
       "}\n",
       "#T_ec59c_ th {\n",
       "  text-align: left;\n",
       "}\n",
       "#T_ec59c_ td {\n",
       "  text-align: left;\n",
       "}\n",
       "</style>\n",
       "<table id=\"T_ec59c_\">\n",
       "  <thead>\n",
       "    <tr>\n",
       "      <th class=\"col_heading level0 col0\" >Status</th>\n",
       "      <th class=\"col_heading level0 col1\" >Check</th>\n",
       "      <th class=\"col_heading level0 col2\" >Condition</th>\n",
       "      <th class=\"col_heading level0 col3\" >More Info</th>\n",
       "    </tr>\n",
       "  </thead>\n",
       "  <tbody>\n",
       "    <tr>\n",
       "      <td id=\"T_ec59c_row0_col0\" class=\"data row0 col0\" ><div style=\"color: green;text-align: center\">✓</div></td>\n",
       "      <td id=\"T_ec59c_row0_col1\" class=\"data row0 col1\" >Train-Test Difference Overfit</td>\n",
       "      <td id=\"T_ec59c_row0_col2\" class=\"data row0 col2\" >Train-Test metrics degradation ratio is not greater than 0.15</td>\n",
       "      <td id=\"T_ec59c_row0_col3\" class=\"data row0 col3\" ></td>\n",
       "    </tr>\n",
       "    <tr>\n",
       "      <td id=\"T_ec59c_row1_col0\" class=\"data row1 col0\" ><div style=\"color: green;text-align: center\">✓</div></td>\n",
       "      <td id=\"T_ec59c_row1_col1\" class=\"data row1 col1\" >Train-Test Difference Overfit</td>\n",
       "      <td id=\"T_ec59c_row1_col2\" class=\"data row1 col2\" >Train-Test metrics difference is not greater than 0.3</td>\n",
       "      <td id=\"T_ec59c_row1_col3\" class=\"data row1 col3\" ></td>\n",
       "    </tr>\n",
       "    <tr>\n",
       "      <td id=\"T_ec59c_row2_col0\" class=\"data row2 col0\" ><div style=\"color: green;text-align: center\">✓</div></td>\n",
       "      <td id=\"T_ec59c_row2_col1\" class=\"data row2 col1\" >Simple Model Comparison</td>\n",
       "      <td id=\"T_ec59c_row2_col2\" class=\"data row2 col2\" >Ratio not less than 0.9 between the given model's result and the simple model's result</td>\n",
       "      <td id=\"T_ec59c_row2_col3\" class=\"data row2 col3\" ></td>\n",
       "    </tr>\n",
       "  </tbody>\n",
       "</table>\n"
      ]
     },
     "metadata": {},
     "output_type": "display_data"
    },
    {
     "data": {
      "text/html": [
       "<hr style=\"background-color: black;border: 0 none;color: black;height: 1px;\"><h2>Additional Outputs</h2>"
      ]
     },
     "metadata": {},
     "output_type": "display_data"
    },
    {
     "data": {
      "text/html": [
       "<h4>Model Info</h4>"
      ]
     },
     "metadata": {},
     "output_type": "display_data"
    },
    {
     "data": {
      "text/html": [
       "<p>Summarize given model parameters.</p>"
      ]
     },
     "metadata": {},
     "output_type": "display_data"
    },
    {
     "data": {
      "text/html": [
       "Model Type: RandomForestClassifier"
      ]
     },
     "metadata": {},
     "output_type": "display_data"
    },
    {
     "data": {
      "text/html": [
       "<style type=\"text/css\">\n",
       "#T_f22ed_ table {\n",
       "  text-align: left;\n",
       "}\n",
       "#T_f22ed_ thead {\n",
       "  text-align: left;\n",
       "}\n",
       "#T_f22ed_ tbody {\n",
       "  text-align: left;\n",
       "}\n",
       "#T_f22ed_ th {\n",
       "  text-align: left;\n",
       "}\n",
       "#T_f22ed_ td {\n",
       "  text-align: left;\n",
       "}\n",
       "</style>\n",
       "<table id=\"T_f22ed_\">\n",
       "  <thead>\n",
       "    <tr>\n",
       "      <th class=\"col_heading level0 col0\" >Parameter</th>\n",
       "      <th class=\"col_heading level0 col1\" >Value</th>\n",
       "      <th class=\"col_heading level0 col2\" >Default</th>\n",
       "    </tr>\n",
       "  </thead>\n",
       "  <tbody>\n",
       "    <tr>\n",
       "      <td id=\"T_f22ed_row0_col0\" class=\"data row0 col0\" >bootstrap</td>\n",
       "      <td id=\"T_f22ed_row0_col1\" class=\"data row0 col1\" >True</td>\n",
       "      <td id=\"T_f22ed_row0_col2\" class=\"data row0 col2\" >True</td>\n",
       "    </tr>\n",
       "    <tr>\n",
       "      <td id=\"T_f22ed_row1_col0\" class=\"data row1 col0\" >ccp_alpha</td>\n",
       "      <td id=\"T_f22ed_row1_col1\" class=\"data row1 col1\" >0.00</td>\n",
       "      <td id=\"T_f22ed_row1_col2\" class=\"data row1 col2\" >0.00</td>\n",
       "    </tr>\n",
       "    <tr>\n",
       "      <td id=\"T_f22ed_row2_col0\" class=\"data row2 col0\" >class_weight</td>\n",
       "      <td id=\"T_f22ed_row2_col1\" class=\"data row2 col1\" >None</td>\n",
       "      <td id=\"T_f22ed_row2_col2\" class=\"data row2 col2\" >None</td>\n",
       "    </tr>\n",
       "    <tr>\n",
       "      <td id=\"T_f22ed_row3_col0\" class=\"data row3 col0\" >criterion</td>\n",
       "      <td id=\"T_f22ed_row3_col1\" class=\"data row3 col1\" >gini</td>\n",
       "      <td id=\"T_f22ed_row3_col2\" class=\"data row3 col2\" >gini</td>\n",
       "    </tr>\n",
       "    <tr>\n",
       "      <td id=\"T_f22ed_row4_col0\" class=\"data row4 col0\" >max_depth</td>\n",
       "      <td id=\"T_f22ed_row4_col1\" class=\"data row4 col1\" >None</td>\n",
       "      <td id=\"T_f22ed_row4_col2\" class=\"data row4 col2\" >None</td>\n",
       "    </tr>\n",
       "    <tr>\n",
       "      <td id=\"T_f22ed_row5_col0\" class=\"data row5 col0\" >max_features</td>\n",
       "      <td id=\"T_f22ed_row5_col1\" class=\"data row5 col1\" >auto</td>\n",
       "      <td id=\"T_f22ed_row5_col2\" class=\"data row5 col2\" >auto</td>\n",
       "    </tr>\n",
       "    <tr>\n",
       "      <td id=\"T_f22ed_row6_col0\" class=\"data row6 col0\" >max_leaf_nodes</td>\n",
       "      <td id=\"T_f22ed_row6_col1\" class=\"data row6 col1\" >None</td>\n",
       "      <td id=\"T_f22ed_row6_col2\" class=\"data row6 col2\" >None</td>\n",
       "    </tr>\n",
       "    <tr>\n",
       "      <td id=\"T_f22ed_row7_col0\" class=\"data row7 col0\" >max_samples</td>\n",
       "      <td id=\"T_f22ed_row7_col1\" class=\"data row7 col1\" >None</td>\n",
       "      <td id=\"T_f22ed_row7_col2\" class=\"data row7 col2\" >None</td>\n",
       "    </tr>\n",
       "    <tr>\n",
       "      <td id=\"T_f22ed_row8_col0\" class=\"data row8 col0\" >min_impurity_decrease</td>\n",
       "      <td id=\"T_f22ed_row8_col1\" class=\"data row8 col1\" >0.00</td>\n",
       "      <td id=\"T_f22ed_row8_col2\" class=\"data row8 col2\" >0.00</td>\n",
       "    </tr>\n",
       "    <tr>\n",
       "      <td id=\"T_f22ed_row9_col0\" class=\"data row9 col0\" >min_samples_leaf</td>\n",
       "      <td id=\"T_f22ed_row9_col1\" class=\"data row9 col1\" >1</td>\n",
       "      <td id=\"T_f22ed_row9_col2\" class=\"data row9 col2\" >1</td>\n",
       "    </tr>\n",
       "    <tr>\n",
       "      <td id=\"T_f22ed_row10_col0\" class=\"data row10 col0\" >min_samples_split</td>\n",
       "      <td id=\"T_f22ed_row10_col1\" class=\"data row10 col1\" >2</td>\n",
       "      <td id=\"T_f22ed_row10_col2\" class=\"data row10 col2\" >2</td>\n",
       "    </tr>\n",
       "    <tr>\n",
       "      <td id=\"T_f22ed_row11_col0\" class=\"data row11 col0\" >min_weight_fraction_leaf</td>\n",
       "      <td id=\"T_f22ed_row11_col1\" class=\"data row11 col1\" >0.00</td>\n",
       "      <td id=\"T_f22ed_row11_col2\" class=\"data row11 col2\" >0.00</td>\n",
       "    </tr>\n",
       "    <tr>\n",
       "      <td id=\"T_f22ed_row12_col0\" class=\"data row12 col0\" >n_estimators</td>\n",
       "      <td id=\"T_f22ed_row12_col1\" class=\"data row12 col1\" >100</td>\n",
       "      <td id=\"T_f22ed_row12_col2\" class=\"data row12 col2\" >100</td>\n",
       "    </tr>\n",
       "    <tr>\n",
       "      <td id=\"T_f22ed_row13_col0\" class=\"data row13 col0\" >n_jobs</td>\n",
       "      <td id=\"T_f22ed_row13_col1\" class=\"data row13 col1\" >None</td>\n",
       "      <td id=\"T_f22ed_row13_col2\" class=\"data row13 col2\" >None</td>\n",
       "    </tr>\n",
       "    <tr>\n",
       "      <td id=\"T_f22ed_row14_col0\" class=\"data row14 col0\" >oob_score</td>\n",
       "      <td id=\"T_f22ed_row14_col1\" class=\"data row14 col1\" >False</td>\n",
       "      <td id=\"T_f22ed_row14_col2\" class=\"data row14 col2\" >False</td>\n",
       "    </tr>\n",
       "    <tr>\n",
       "      <td id=\"T_f22ed_row15_col0\" class=\"data row15 col0\" >random_state</td>\n",
       "      <td id=\"T_f22ed_row15_col1\" class=\"data row15 col1\" >None</td>\n",
       "      <td id=\"T_f22ed_row15_col2\" class=\"data row15 col2\" >None</td>\n",
       "    </tr>\n",
       "    <tr>\n",
       "      <td id=\"T_f22ed_row16_col0\" class=\"data row16 col0\" >verbose</td>\n",
       "      <td id=\"T_f22ed_row16_col1\" class=\"data row16 col1\" >0</td>\n",
       "      <td id=\"T_f22ed_row16_col2\" class=\"data row16 col2\" >0</td>\n",
       "    </tr>\n",
       "    <tr>\n",
       "      <td id=\"T_f22ed_row17_col0\" class=\"data row17 col0\" >warm_start</td>\n",
       "      <td id=\"T_f22ed_row17_col1\" class=\"data row17 col1\" >False</td>\n",
       "      <td id=\"T_f22ed_row17_col2\" class=\"data row17 col2\" >False</td>\n",
       "    </tr>\n",
       "  </tbody>\n",
       "</table>\n"
      ]
     },
     "metadata": {},
     "output_type": "display_data"
    },
    {
     "data": {
      "text/html": [
       "<p style=\"font-size:0.7em\"><i>Colored rows are parameters with non-default values</i></p>"
      ]
     },
     "metadata": {},
     "output_type": "display_data"
    },
    {
     "data": {
      "text/html": [
       "<hr style=\"background-color: #eee;border: 0 none;color: #eee;height: 1px;\">"
      ]
     },
     "metadata": {},
     "output_type": "display_data"
    },
    {
     "data": {
      "text/html": [
       "<h4>Performance Report - Test Dataset</h4>"
      ]
     },
     "metadata": {},
     "output_type": "display_data"
    },
    {
     "data": {
      "text/html": [
       "<p>Summarize given metrics on a dataset and model.</p>"
      ]
     },
     "metadata": {},
     "output_type": "display_data"
    },
    {
     "data": {
      "text/html": [
       "<style type=\"text/css\">\n",
       "#T_8ea39_ table {\n",
       "  text-align: left;\n",
       "}\n",
       "#T_8ea39_ thead {\n",
       "  text-align: left;\n",
       "}\n",
       "#T_8ea39_ tbody {\n",
       "  text-align: left;\n",
       "}\n",
       "#T_8ea39_ th {\n",
       "  text-align: left;\n",
       "}\n",
       "#T_8ea39_ td {\n",
       "  text-align: left;\n",
       "}\n",
       "</style>\n",
       "<table id=\"T_8ea39_\">\n",
       "  <thead>\n",
       "    <tr>\n",
       "      <th class=\"blank level0\" >&nbsp;</th>\n",
       "      <th class=\"col_heading level0 col0\" >Score</th>\n",
       "    </tr>\n",
       "    <tr>\n",
       "      <th class=\"index_name level0\" >Metric</th>\n",
       "      <th class=\"blank col0\" >&nbsp;</th>\n",
       "    </tr>\n",
       "  </thead>\n",
       "  <tbody>\n",
       "    <tr>\n",
       "      <th id=\"T_8ea39_level0_row0\" class=\"row_heading level0 row0\" >Accuracy</th>\n",
       "      <td id=\"T_8ea39_row0_col0\" class=\"data row0 col0\" >0.95</td>\n",
       "    </tr>\n",
       "    <tr>\n",
       "      <th id=\"T_8ea39_level0_row1\" class=\"row_heading level0 row1\" >Precision - Macro Average</th>\n",
       "      <td id=\"T_8ea39_row1_col0\" class=\"data row1 col0\" >0.96</td>\n",
       "    </tr>\n",
       "    <tr>\n",
       "      <th id=\"T_8ea39_level0_row2\" class=\"row_heading level0 row2\" >Recall - Macro Average</th>\n",
       "      <td id=\"T_8ea39_row2_col0\" class=\"data row2 col0\" >0.94</td>\n",
       "    </tr>\n",
       "  </tbody>\n",
       "</table>\n"
      ]
     },
     "metadata": {},
     "output_type": "display_data"
    },
    {
     "data": {
      "text/html": [
       "<hr style=\"background-color: #eee;border: 0 none;color: #eee;height: 1px;\">"
      ]
     },
     "metadata": {},
     "output_type": "display_data"
    },
    {
     "data": {
      "text/html": [
       "<h4>Train-Test Difference Overfit</h4>"
      ]
     },
     "metadata": {},
     "output_type": "display_data"
    },
    {
     "data": {
      "text/html": [
       "<p>Visualize overfit by displaying the difference between model metrics on train and on test data.</p>"
      ]
     },
     "metadata": {},
     "output_type": "display_data"
    },
    {
     "data": {
      "image/png": "[encoded data removed]",
      "text/plain": [
       "<Figure size 432x288 with 1 Axes>"
      ]
     },
     "metadata": {
      "needs_background": "light"
     },
     "output_type": "display_data"
    },
    {
     "data": {
      "text/html": [
       "<hr style=\"background-color: #eee;border: 0 none;color: #eee;height: 1px;\">"
      ]
     },
     "metadata": {},
     "output_type": "display_data"
    },
    {
     "data": {
      "text/html": [
       "<h4>Confusion Matrix Report - Test Dataset</h4>"
      ]
     },
     "metadata": {},
     "output_type": "display_data"
    },
    {
     "data": {
      "text/html": [
       "<p>Calculate the confusion matrix of the model on the given dataset.</p>"
      ]
     },
     "metadata": {},
     "output_type": "display_data"
    },
    {
     "data": {
      "image/png": "[encoded data removed]",
      "text/plain": [
       "<Figure size 432x288 with 2 Axes>"
      ]
     },
     "metadata": {
      "needs_background": "light"
     },
     "output_type": "display_data"
    },
    {
     "data": {
      "text/html": [
       "<hr style=\"background-color: #eee;border: 0 none;color: #eee;height: 1px;\">"
      ]
     },
     "metadata": {},
     "output_type": "display_data"
    },
    {
     "data": {
      "text/html": [
       "<h4>Simple Model Comparison</h4>"
      ]
     },
     "metadata": {},
     "output_type": "display_data"
    },
    {
     "data": {
      "text/html": [
       "<p>Compare given model score to simple model score (according to given model type).</p>"
      ]
     },
     "metadata": {},
     "output_type": "display_data"
    },
    {
     "data": {
      "text/html": [
       "The given model performs 2.77 times compared to the simple model using the Accuracy metric.<br>RandomForestClassifier model prediction has achieved a score of 0.95 compared to Simple constant prediction which achieved a score of 0.34 on tested data."
      ]
     },
     "metadata": {},
     "output_type": "display_data"
    },
    {
     "data": {
      "image/png": "[encoded data removed]",
      "text/plain": [
       "<Figure size 432x288 with 1 Axes>"
      ]
     },
     "metadata": {
      "needs_background": "light"
     },
     "output_type": "display_data"
    }
   ],
   "source": [
    "new_custom_suite.run(model=rf_clf, train_dataset=ds_train, test_dataset=ds_test, check_datasets_policy='test')"
   ]
  },
  {
   "cell_type": "markdown",
   "id": "c5463068",
   "metadata": {},
   "source": [
    "## Modify an Existing Suite"
   ]
  },
  {
   "cell_type": "code",
   "execution_count": 5,
   "id": "932a7999",
   "metadata": {
    "ExecuteTime": {
     "end_time": "2021-12-08T21:43:40.365523Z",
     "start_time": "2021-12-08T21:43:40.351740Z"
    }
   },
   "outputs": [
    {
     "data": {
      "text/plain": [
       "Data Leakage Suite: [\n",
       "\t0: TrainTestSamplesMix(run=<function TrainTestSamplesMix.run at 0x7f64306dcb80>)\n",
       "\t\tConditions:\n",
       "\t\t\t0: Percentage of test data samples that appear in train data not greater than 10.00%\n",
       "\t1: SingleFeatureContribution(run=<function SingleFeatureContribution.run at 0x7f64306f29d0>, n_show_top=5)\n",
       "\t\tConditions:\n",
       "\t\t\t0: Features' <a href=https://towardsdatascience.com/rip-correlation-introducing-the-predictive-power-score-3d90808b9598>Predictive Power Score</a> (PPS) is not greater than 0.8\n",
       "\t2: SingleFeatureContributionTrainTest(run=<function SingleFeatureContributionTrainTest.run at 0x7f64306f2af0>, n_show_top=5)\n",
       "\t\tConditions:\n",
       "\t\t\t0: Train-Test features' <a href=https://towardsdatascience.com/rip-correlation-introducing-the-predictive-power-score-3d90808b9598>Predictive Power Score</a> (PPS) difference is not greater than 0.2\n",
       "]"
      ]
     },
     "execution_count": 5,
     "metadata": {},
     "output_type": "execute_result"
    }
   ],
   "source": [
    "from deepchecks.suites import data_leakage_suite\n",
    "\n",
    "customized_suite = data_leakage_suite()\n",
    "\n",
    "# let's check what it has:\n",
    "customized_suite"
   ]
  },
  {
   "cell_type": "code",
   "execution_count": 6,
   "id": "dc3a66ed",
   "metadata": {
    "ExecuteTime": {
     "end_time": "2021-12-08T21:43:40.376611Z",
     "start_time": "2021-12-08T21:43:40.369207Z"
    }
   },
   "outputs": [
    {
     "data": {
      "text/plain": [
       "Data Leakage Suite: [\n",
       "\t0: TrainTestSamplesMix(run=<function TrainTestSamplesMix.run at 0x7f64306dcb80>)\n",
       "\t\tConditions:\n",
       "\t\t\t0: Percentage of test data samples that appear in train data not greater than 10.00%\n",
       "\t2: SingleFeatureContributionTrainTest(run=<function SingleFeatureContributionTrainTest.run at 0x7f64306f2af0>, n_show_top=5)\n",
       "\t\tConditions:\n",
       "\t\t\t0: Train-Test features' <a href=https://towardsdatascience.com/rip-correlation-introducing-the-predictive-power-score-3d90808b9598>Predictive Power Score</a> (PPS) difference is not greater than 0.2\n",
       "]"
      ]
     },
     "execution_count": 6,
     "metadata": {},
     "output_type": "execute_result"
    }
   ],
   "source": [
    "# and modify it by removing a check by index:\n",
    "customized_suite.remove(1)"
   ]
  },
  {
   "cell_type": "code",
   "execution_count": 7,
   "id": "b9512d03",
   "metadata": {
    "ExecuteTime": {
     "end_time": "2021-12-08T21:43:40.395594Z",
     "start_time": "2021-12-08T21:43:40.379932Z"
    }
   },
   "outputs": [
    {
     "data": {
      "text/plain": [
       "Data Leakage Suite: [\n",
       "\t0: TrainTestSamplesMix(run=<function TrainTestSamplesMix.run at 0x7f64306dcb80>)\n",
       "\t\tConditions:\n",
       "\t\t\t0: Percentage of test data samples that appear in train data not greater than 10.00%\n",
       "\t2: SingleFeatureContributionTrainTest(run=<function SingleFeatureContributionTrainTest.run at 0x7f64306f2af0>, n_show_top=5)\n",
       "\t\tConditions:\n",
       "\t\t\t0: Train-Test features' <a href=https://towardsdatascience.com/rip-correlation-introducing-the-predictive-power-score-3d90808b9598>Predictive Power Score</a> (PPS) difference is not greater than 0.2\n",
       "\t3: UnusedFeatures(run=<function UnusedFeatures.run at 0x7f64306fe280>, feature_importance_threshold=0.2, feature_variance_threshold=0.4, n_top_fi_to_show=5, n_top_unused_to_show=15, random_state=42)\n",
       "\t\tConditions:\n",
       "\t\t\t0: Number of high variance unused features is not greater than 5\n",
       "]"
      ]
     },
     "execution_count": 7,
     "metadata": {},
     "output_type": "execute_result"
    }
   ],
   "source": [
    "from deepchecks.checks import UnusedFeatures\n",
    "\n",
    "# and add a new check with a condition:\n",
    "customized_suite.add(\n",
    "    UnusedFeatures().add_condition_number_of_high_variance_unused_features_not_greater_than())"
   ]
  },
  {
   "cell_type": "code",
   "execution_count": 8,
   "id": "37b38bab",
   "metadata": {
    "ExecuteTime": {
     "end_time": "2021-12-08T21:43:40.410351Z",
     "start_time": "2021-12-08T21:43:40.398972Z"
    }
   },
   "outputs": [],
   "source": [
    "# lets remove all condition for the SingleFeatureContributionTrainTest:\n",
    "customized_suite[2].clean_conditions()\n",
    "\n",
    "# and update the suite's name:\n",
    "customized_suite.name = 'New Data Methodology Suite'"
   ]
  },
  {
   "cell_type": "code",
   "execution_count": 9,
   "id": "8a235bad",
   "metadata": {
    "ExecuteTime": {
     "end_time": "2021-12-08T21:43:41.573790Z",
     "start_time": "2021-12-08T21:43:40.422092Z"
    }
   },
   "outputs": [
    {
     "data": {
      "application/vnd.jupyter.widget-view+json": {
       "model_id": "",
       "version_major": 2,
       "version_minor": 0
      },
      "text/plain": [
       "New Data Methodology Suite:   0%|          | 0/3 [00:00<?, ? Check/s]"
      ]
     },
     "metadata": {},
     "output_type": "display_data"
    },
    {
     "data": {
      "text/html": [
       "\n",
       "    <h1>New Data Methodology Suite</h1>\n",
       "    <p>The suite is composed of various checks such as: Train Test Samples Mix, Single Feature Contribution Train Test, Unused Features, etc...<br>\n",
       "    Each check may contain conditions (which results in \n",
       "    <span style=\"color: green;display:inline-block\">✓</span> /\n",
       "    <span style=\"color: red;display:inline-block\">✖</span> /\n",
       "    <span style=\"color: orange;font-weight:bold;display:inline-block\">!</span>\n",
       "    ), as well as other outputs such as plots or tables.<br>\n",
       "    Suites, checks and conditions can all be modified (see tutorial [link]).</p>\n",
       "    <hr style=\"background-color: black;border: 0 none;color: black;height: 1px;\"><h2>Conditions Summary</h2>\n",
       "    "
      ]
     },
     "metadata": {},
     "output_type": "display_data"
    },
    {
     "data": {
      "text/html": [
       "<style type=\"text/css\">\n",
       "#T_7fd46_ table {\n",
       "  text-align: left;\n",
       "}\n",
       "#T_7fd46_ thead {\n",
       "  text-align: left;\n",
       "}\n",
       "#T_7fd46_ tbody {\n",
       "  text-align: left;\n",
       "}\n",
       "#T_7fd46_ th {\n",
       "  text-align: left;\n",
       "}\n",
       "#T_7fd46_ td {\n",
       "  text-align: left;\n",
       "}\n",
       "</style>\n",
       "<table id=\"T_7fd46_\">\n",
       "  <thead>\n",
       "    <tr>\n",
       "      <th class=\"col_heading level0 col0\" >Status</th>\n",
       "      <th class=\"col_heading level0 col1\" >Check</th>\n",
       "      <th class=\"col_heading level0 col2\" >Condition</th>\n",
       "      <th class=\"col_heading level0 col3\" >More Info</th>\n",
       "    </tr>\n",
       "  </thead>\n",
       "  <tbody>\n",
       "    <tr>\n",
       "      <td id=\"T_7fd46_row0_col0\" class=\"data row0 col0\" ><div style=\"color: green;text-align: center\">✓</div></td>\n",
       "      <td id=\"T_7fd46_row0_col1\" class=\"data row0 col1\" >Train Test Samples Mix</td>\n",
       "      <td id=\"T_7fd46_row0_col2\" class=\"data row0 col2\" >Percentage of test data samples that appear in train data not greater than 10.00%</td>\n",
       "      <td id=\"T_7fd46_row0_col3\" class=\"data row0 col3\" ></td>\n",
       "    </tr>\n",
       "    <tr>\n",
       "      <td id=\"T_7fd46_row1_col0\" class=\"data row1 col0\" ><div style=\"color: green;text-align: center\">✓</div></td>\n",
       "      <td id=\"T_7fd46_row1_col1\" class=\"data row1 col1\" >Unused Features</td>\n",
       "      <td id=\"T_7fd46_row1_col2\" class=\"data row1 col2\" >Number of high variance unused features is not greater than 5</td>\n",
       "      <td id=\"T_7fd46_row1_col3\" class=\"data row1 col3\" ></td>\n",
       "    </tr>\n",
       "  </tbody>\n",
       "</table>\n"
      ]
     },
     "metadata": {},
     "output_type": "display_data"
    },
    {
     "data": {
      "text/html": [
       "<hr style=\"background-color: black;border: 0 none;color: black;height: 1px;\"><h2>Additional Outputs</h2>"
      ]
     },
     "metadata": {},
     "output_type": "display_data"
    },
    {
     "data": {
      "text/html": [
       "<h4>Train Test Samples Mix</h4>"
      ]
     },
     "metadata": {},
     "output_type": "display_data"
    },
    {
     "data": {
      "text/html": [
       "<p>Detect samples in the test data that appear also in training data.</p>"
      ]
     },
     "metadata": {},
     "output_type": "display_data"
    },
    {
     "data": {
      "text/html": [
       "2.63% (1.0 / 38)                      of test data samples appear in train data"
      ]
     },
     "metadata": {},
     "output_type": "display_data"
    },
    {
     "data": {
      "text/html": [
       "<style type=\"text/css\">\n",
       "#T_36b69_ table {\n",
       "  text-align: left;\n",
       "}\n",
       "#T_36b69_ thead {\n",
       "  text-align: left;\n",
       "}\n",
       "#T_36b69_ tbody {\n",
       "  text-align: left;\n",
       "}\n",
       "#T_36b69_ th {\n",
       "  text-align: left;\n",
       "}\n",
       "#T_36b69_ td {\n",
       "  text-align: left;\n",
       "}\n",
       "</style>\n",
       "<table id=\"T_36b69_\">\n",
       "  <thead>\n",
       "    <tr>\n",
       "      <th class=\"blank level0\" >&nbsp;</th>\n",
       "      <th class=\"col_heading level0 col0\" >sepal length (cm)</th>\n",
       "      <th class=\"col_heading level0 col1\" >sepal width (cm)</th>\n",
       "      <th class=\"col_heading level0 col2\" >petal length (cm)</th>\n",
       "      <th class=\"col_heading level0 col3\" >petal width (cm)</th>\n",
       "      <th class=\"col_heading level0 col4\" >target</th>\n",
       "    </tr>\n",
       "  </thead>\n",
       "  <tbody>\n",
       "    <tr>\n",
       "      <th id=\"T_36b69_level0_row0\" class=\"row_heading level0 row0\" >Test indices: 142</th>\n",
       "      <td id=\"T_36b69_row0_col0\" class=\"data row0 col0\" >5.80</td>\n",
       "      <td id=\"T_36b69_row0_col1\" class=\"data row0 col1\" >2.70</td>\n",
       "      <td id=\"T_36b69_row0_col2\" class=\"data row0 col2\" >5.10</td>\n",
       "      <td id=\"T_36b69_row0_col3\" class=\"data row0 col3\" >1.90</td>\n",
       "      <td id=\"T_36b69_row0_col4\" class=\"data row0 col4\" >2</td>\n",
       "    </tr>\n",
       "    <tr>\n",
       "      <th id=\"T_36b69_level0_row1\" class=\"row_heading level0 row1\" >Train indices: 101</th>\n",
       "      <td id=\"T_36b69_row1_col0\" class=\"data row1 col0\" >5.80</td>\n",
       "      <td id=\"T_36b69_row1_col1\" class=\"data row1 col1\" >2.70</td>\n",
       "      <td id=\"T_36b69_row1_col2\" class=\"data row1 col2\" >5.10</td>\n",
       "      <td id=\"T_36b69_row1_col3\" class=\"data row1 col3\" >1.90</td>\n",
       "      <td id=\"T_36b69_row1_col4\" class=\"data row1 col4\" >2</td>\n",
       "    </tr>\n",
       "  </tbody>\n",
       "</table>\n"
      ]
     },
     "metadata": {},
     "output_type": "display_data"
    },
    {
     "data": {
      "text/html": [
       "<hr style=\"background-color: #eee;border: 0 none;color: #eee;height: 1px;\">"
      ]
     },
     "metadata": {},
     "output_type": "display_data"
    },
    {
     "data": {
      "text/html": [
       "<h4>Single Feature Contribution Train-Test</h4>"
      ]
     },
     "metadata": {},
     "output_type": "display_data"
    },
    {
     "data": {
      "text/html": [
       "<p>    Return the difference in PPS (Predictive Power Score) of all features between train and test datasets.</p>"
      ]
     },
     "metadata": {},
     "output_type": "display_data"
    },
    {
     "data": {
      "image/png": "[encoded data removed]",
      "text/plain": [
       "<Figure size 1080x288 with 2 Axes>"
      ]
     },
     "metadata": {
      "needs_background": "light"
     },
     "output_type": "display_data"
    },
    {
     "data": {
      "text/html": [
       "The PPS represents the ability of a feature to single-handedly predict another feature or label."
      ]
     },
     "metadata": {},
     "output_type": "display_data"
    },
    {
     "data": {
      "text/html": [
       "A high PPS (close to 1) can mean that this feature's success in predicting the label is actually due to data"
      ]
     },
     "metadata": {},
     "output_type": "display_data"
    },
    {
     "data": {
      "text/html": [
       "leakage - meaning that the feature holds information that is based on the label to begin with."
      ]
     },
     "metadata": {},
     "output_type": "display_data"
    },
    {
     "data": {
      "text/html": []
     },
     "metadata": {},
     "output_type": "display_data"
    },
    {
     "data": {
      "text/html": [
       "When we compare train PPS to test PPS, A high difference can strongly indicate leakage, as a feature"
      ]
     },
     "metadata": {},
     "output_type": "display_data"
    },
    {
     "data": {
      "text/html": [
       "that was powerful in train but not in test can be explained by leakage in train that is not relevant to a new dataset."
      ]
     },
     "metadata": {},
     "output_type": "display_data"
    },
    {
     "data": {
      "text/html": [
       "<hr style=\"background-color: #eee;border: 0 none;color: #eee;height: 1px;\">"
      ]
     },
     "metadata": {},
     "output_type": "display_data"
    },
    {
     "data": {
      "text/html": [
       "<h4>Unused Features</h4>"
      ]
     },
     "metadata": {},
     "output_type": "display_data"
    },
    {
     "data": {
      "text/html": [
       "<p>Detect features that are nearly unused by the model.</p>"
      ]
     },
     "metadata": {},
     "output_type": "display_data"
    },
    {
     "data": {
      "text/html": [
       "Features above the line are a sample of the most important features, while the features below the line are the unused features with highest variance, as defined by check parameters"
      ]
     },
     "metadata": {},
     "output_type": "display_data"
    },
    {
     "data": {
      "image/png": "[encoded data removed]",
      "text/plain": [
       "<Figure size 576x216 with 1 Axes>"
      ]
     },
     "metadata": {
      "needs_background": "light"
     },
     "output_type": "display_data"
    }
   ],
   "source": [
    "# and now we can run our modified suite:\n",
    "customized_suite.run(ds_train, ds_test, rf_clf)"
   ]
  }
 ],
 "metadata": {
  "kernelspec": {
   "display_name": "Python 3 (ipykernel)",
   "language": "python",
   "name": "python3"
  },
  "language_info": {
   "codemirror_mode": {
    "name": "ipython",
    "version": 3
   },
   "file_extension": ".py",
   "mimetype": "text/x-python",
   "name": "python",
   "nbconvert_exporter": "python",
   "pygments_lexer": "ipython3",
   "version": "3.8.10"
  },
  "toc": {
   "base_numbering": 1,
   "nav_menu": {},
   "number_sections": true,
   "sideBar": true,
   "skip_h1_title": false,
   "title_cell": "Table of Contents",
   "title_sidebar": "Contents",
   "toc_cell": false,
   "toc_position": {},
   "toc_section_display": true,
   "toc_window_display": false
  }
 },
 "nbformat": 4,
 "nbformat_minor": 5
}
