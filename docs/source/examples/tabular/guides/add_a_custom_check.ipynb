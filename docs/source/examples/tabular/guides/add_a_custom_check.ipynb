{
 "cells": [
  {
   "cell_type": "markdown",
   "id": "ef39dc68",
   "metadata": {},
   "source": [
    "# Add a Custom Check"
   ]
  },
  {
   "cell_type": "markdown",
   "id": "da46d90d",
   "metadata": {},
   "source": [
    "It is possible to extend deepchecks by implementing custom checks. This enables you to have your own logic of metrics or validation, or even just to display your own graph using deepchecks' suite.\n",
    "\n",
    "- [Check Structure](#Check-Structure)\n",
    "- [Write a Basic Check](#Write-a-Basic-Check)\n",
    "- [Check Display](#Check-Display)"
   ]
  },
  {
   "cell_type": "markdown",
   "id": "c335dcd0",
   "metadata": {},
   "source": [
    "## Check Structure \n",
    "Each check consists of 3 main parts:\n",
    "- Return value\n",
    "- Display\n",
    "- Conditions\n",
    "\n",
    "This guide will demonstrate how to implement a Check with a return value and display, for addding a condition see working with conditions (LINK)"
   ]
  },
  {
   "cell_type": "markdown",
   "id": "c1bb0b9d",
   "metadata": {},
   "source": [
    "## Write a Basic Check"
   ]
  },
  {
   "cell_type": "markdown",
   "id": "74e3cf95",
   "metadata": {},
   "source": [
    "Let's implement a check for comparing the sizes of the test and the train datasets.\n",
    "\n",
    "The first step is to create check class, which inherits from a base check class. Each base check is differed by its run method signature, read more about all [types](#Base-Checks-Types). In this case we will use `TrainTestBaseCheck`, which is used to compare between the test and the train datasets. After creating the basic class with the `run_logic` function we will write our check logic inside it.\n",
    "\n",
    "*Good to know: the return value of a check can be any object, a number, dictionary, string, etc...*"
   ]
  },
  {
   "cell_type": "code",
   "execution_count": 1,
   "id": "dcfb8006",
   "metadata": {
    "execution": {
     "iopub.execute_input": "2022-02-21T11:59:54.527694Z",
     "iopub.status.busy": "2022-02-21T11:59:54.527233Z",
     "iopub.status.idle": "2022-02-21T11:59:55.890596Z",
     "shell.execute_reply": "2022-02-21T11:59:55.889711Z"
    },
    "tags": []
   },
   "outputs": [],
   "source": [
    "from deepchecks.tabular import TrainTestCheck, Dataset, Context\n",
    "from deepchecks.core import CheckResult\n",
    "\n",
    "\n",
    "class DatasetSizeComparison(TrainTestCheck):\n",
    "    \"\"\"Check which compares the sizes of train and test datasets.\"\"\"\n",
    "    \n",
    "    def run_logic(self, context: Context) -> CheckResult:\n",
    "        ## Check logic\n",
    "        train_size = context.train.n_samples\n",
    "        test_size = context.test.n_samples\n",
    "        \n",
    "        ## Return value as check result\n",
    "        return_value = {'train_size': train_size, 'test_size': test_size}\n",
    "        return CheckResult(return_value)"
   ]
  },
  {
   "cell_type": "markdown",
   "id": "d464d1d2",
   "metadata": {},
   "source": [
    "Hooray! we just implemented a custom check. Now let's create two Datasets and try to run it:"
   ]
  },
  {
   "cell_type": "code",
   "execution_count": 2,
   "id": "b1f1c5da",
   "metadata": {
    "execution": {
     "iopub.execute_input": "2022-02-21T11:59:55.894635Z",
     "iopub.status.busy": "2022-02-21T11:59:55.894398Z",
     "iopub.status.idle": "2022-02-21T11:59:55.902515Z",
     "shell.execute_reply": "2022-02-21T11:59:55.902060Z"
    }
   },
   "outputs": [
    {
     "data": {
      "text/html": [
       "<h4>Dataset Size Comparison</h4><p>Check which compares the sizes of train and test datasets.</p><h5>Additional Outputs</h5><p><b>&#x2713;</b> Nothing found</p>"
      ]
     },
     "metadata": {},
     "output_type": "display_data"
    }
   ],
   "source": [
    "import pandas as pd\n",
    "\n",
    "# We'll use dummy data for the purpose of this demonstration\n",
    "train_dataset = Dataset(pd.DataFrame(data={'x': [1,2,3,4,5,6,7,8,9]}), label=None)\n",
    "test_dataset = Dataset(pd.DataFrame(data={'x': [1,2,3]}), label=None)\n",
    "\n",
    "result = DatasetSizeComparison().run(train_dataset, test_dataset)\n",
    "result"
   ]
  },
  {
   "cell_type": "markdown",
   "id": "b8bcb3fe",
   "metadata": {},
   "source": [
    "Our check ran successfully but we got the print \"Nothing found\". This is because we haven't defined to the check anything to display, so the default behavior is to print \"Nothing found\". In order to access the value that we have defined earlier we can use the \"value\" property on the result."
   ]
  },
  {
   "cell_type": "code",
   "execution_count": 3,
   "id": "3c2b0360",
   "metadata": {
    "execution": {
     "iopub.execute_input": "2022-02-21T11:59:55.905384Z",
     "iopub.status.busy": "2022-02-21T11:59:55.905186Z",
     "iopub.status.idle": "2022-02-21T11:59:55.909561Z",
     "shell.execute_reply": "2022-02-21T11:59:55.909157Z"
    }
   },
   "outputs": [
    {
     "data": {
      "text/plain": [
       "{'train_size': 9, 'test_size': 3}"
      ]
     },
     "execution_count": 3,
     "metadata": {},
     "output_type": "execute_result"
    }
   ],
   "source": [
    "result.value"
   ]
  },
  {
   "cell_type": "markdown",
   "id": "144b593f",
   "metadata": {},
   "source": [
    "To see code references for more complex checks (that can receive parameters etc.), check out any of your favorite checks from our API Reference (LINK)."
   ]
  },
  {
   "cell_type": "markdown",
   "id": "185e8b08",
   "metadata": {},
   "source": [
    "## Check Display"
   ]
  },
  {
   "cell_type": "markdown",
   "id": "220171db",
   "metadata": {},
   "source": [
    "Most of the times we will want our checks to have a visual display that will quickly summarize the check result. We can pass objects for display to the CheckResult. Objects for display should be of type: html string, dataframe or a function that plots a graph. Let's define a graph that will be displayed using `matplotlib`. In order to use `matplotlib` we have to implement the code inside a function and not call it directly in the check, this is due to architectural limitations of `matplotlib`.\n",
    "\n",
    "*Good to know: `display` can receive a single object to display or a list of objects*"
   ]
  },
  {
   "cell_type": "code",
   "execution_count": 4,
   "id": "4399049b",
   "metadata": {
    "execution": {
     "iopub.execute_input": "2022-02-21T11:59:55.912433Z",
     "iopub.status.busy": "2022-02-21T11:59:55.912243Z",
     "iopub.status.idle": "2022-02-21T11:59:55.917531Z",
     "shell.execute_reply": "2022-02-21T11:59:55.917073Z"
    }
   },
   "outputs": [],
   "source": [
    "from deepchecks.tabular import Dataset, TrainTestCheck, Context\n",
    "from deepchecks.core import CheckResult\n",
    "import matplotlib.pyplot as plt\n",
    "\n",
    "class DatasetSizeComparison(TrainTestCheck):\n",
    "    \"\"\"Check which compares the sizes of train and test datasets.\"\"\"\n",
    "    \n",
    "    def run_logic(self, context: Context) -> CheckResult:\n",
    "        ## Check logic\n",
    "        train_size = context.train.n_samples\n",
    "        test_size = context.test.n_samples\n",
    "        \n",
    "        ## Create the check result value\n",
    "        sizes = {'Train': train_size, 'Test': test_size}\n",
    "        sizes_df_for_display =  pd.DataFrame(sizes, index=['Size'])\n",
    "        \n",
    "        ## Display function of matplotlib graph:\n",
    "        def graph_display():\n",
    "            plt.bar(sizes.keys(), sizes.values(), color='green')\n",
    "            plt.xlabel(\"Dataset\")\n",
    "            plt.ylabel(\"Size\")\n",
    "            plt.title(\"Datasets Size Comparison\")\n",
    "        \n",
    "        return CheckResult(sizes, display=[sizes_df_for_display, graph_display])"
   ]
  },
  {
   "cell_type": "markdown",
   "id": "a16d1954",
   "metadata": {},
   "source": [
    "Let check it out:"
   ]
  },
  {
   "cell_type": "code",
   "execution_count": 5,
   "id": "be731fa3",
   "metadata": {
    "execution": {
     "iopub.execute_input": "2022-02-21T11:59:55.920294Z",
     "iopub.status.busy": "2022-02-21T11:59:55.920107Z",
     "iopub.status.idle": "2022-02-21T11:59:56.239850Z",
     "shell.execute_reply": "2022-02-21T11:59:56.239163Z"
    }
   },
   "outputs": [
    {
     "data": {
      "text/html": [
       "<h4>Dataset Size Comparison</h4><p>Check which compares the sizes of train and test datasets.</p><h5>Additional Outputs</h5><style type=\"text/css\">\n",
       "#T_2968d table {\n",
       "  text-align: left;\n",
       "  white-space: pre-wrap;\n",
       "}\n",
       "#T_2968d thead {\n",
       "  text-align: left;\n",
       "  white-space: pre-wrap;\n",
       "}\n",
       "#T_2968d tbody {\n",
       "  text-align: left;\n",
       "  white-space: pre-wrap;\n",
       "}\n",
       "#T_2968d th {\n",
       "  text-align: left;\n",
       "  white-space: pre-wrap;\n",
       "}\n",
       "#T_2968d td {\n",
       "  text-align: left;\n",
       "  white-space: pre-wrap;\n",
       "}\n",
       "</style>\n",
       "<table id=\"T_2968d\">\n",
       "  <thead>\n",
       "    <tr>\n",
       "      <th class=\"blank level0\" >&nbsp;</th>\n",
       "      <th id=\"T_2968d_level0_col0\" class=\"col_heading level0 col0\" >Train</th>\n",
       "      <th id=\"T_2968d_level0_col1\" class=\"col_heading level0 col1\" >Test</th>\n",
       "    </tr>\n",
       "  </thead>\n",
       "  <tbody>\n",
       "    <tr>\n",
       "      <th id=\"T_2968d_level0_row0\" class=\"row_heading level0 row0\" >Size</th>\n",
       "      <td id=\"T_2968d_row0_col0\" class=\"data row0 col0\" >9</td>\n",
       "      <td id=\"T_2968d_row0_col1\" class=\"data row0 col1\" >3</td>\n",
       "    </tr>\n",
       "  </tbody>\n",
       "</table>\n"
      ]
     },
     "metadata": {},
     "output_type": "display_data"
    },
    {
     "data": {
      "image/png": "[encoded data removed]",
      "text/plain": [
       "<Figure size 432x288 with 1 Axes>"
      ]
     },
     "metadata": {
      "needs_background": "light"
     },
     "output_type": "display_data"
    },
    {
     "data": {
      "text/html": []
     },
     "metadata": {},
     "output_type": "display_data"
    }
   ],
   "source": [
    "DatasetSizeComparison().run(train_dataset, test_dataset)"
   ]
  },
  {
   "cell_type": "markdown",
   "id": "407909d1",
   "metadata": {},
   "source": [
    "## Voila!\n",
    "\n",
    "Now we have a check that prints a graph and has a value. We can add this check to any Suite and it will run within it.\n",
    "\n",
    "The next possible step is to implement a condition, which will allow us to give the check result a pass / fail mark. To do so, check out the following guide (LINK)"
   ]
  },
  {
   "cell_type": "markdown",
   "id": "002708b0",
   "metadata": {},
   "source": [
    "## Base Checks Types"
   ]
  },
  {
   "cell_type": "markdown",
   "id": "9ec65b44",
   "metadata": {},
   "source": [
    "There are a number of different `BaseCheck` Classes to inherit from. Each base check is differed by the objects it requires in order to run, and their sole difference is the `run` method's signature.\n",
    "\n",
    "|Check|`run` Signature|Notes|\n",
    "|-----|---------------|-----|\n",
    "|`SingleDatasetBaseCheck`|`run(self, dataset, model=None)`|When used in a suite you can choose whether to run on the test dataset, the train dataset or on both|\n",
    "|`TrainTestBaseCheck`|`run(self, train_dataset, test_dataset, model=None)`||\n",
    "|`ModelOnlyBaseCheck`|`run(self, model)`||"
   ]
  }
 ],
 "metadata": {
  "kernelspec": {
   "display_name": "Python 3 (ipykernel)",
   "language": "python",
   "name": "python3"
  },
  "language_info": {
   "codemirror_mode": {
    "name": "ipython",
    "version": 3
   },
   "file_extension": ".py",
   "mimetype": "text/x-python",
   "name": "python",
   "nbconvert_exporter": "python",
   "pygments_lexer": "ipython3",
   "version": "3.9.0"
  }
 },
 "nbformat": 4,
 "nbformat_minor": 5
}
