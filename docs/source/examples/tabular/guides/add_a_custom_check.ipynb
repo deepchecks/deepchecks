version https://git-lfs.github.com/spec/v1
oid sha256:f7fe717fbe239e321e44c7ab16b3e86c49b03d1e14b89b76c161a28ce8fbb28a
size 18975
