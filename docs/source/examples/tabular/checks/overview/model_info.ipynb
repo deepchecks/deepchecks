version https://git-lfs.github.com/spec/v1
oid sha256:aa4a5e428769fae1d6f2c868737d0f92442f1acf5ab5c5d046baa22ba2da5be6
size 4491
