{
 "cells": [
  {
   "cell_type": "markdown",
   "id": "d537d970",
   "metadata": {},
   "source": [
    "# Model Info "
   ]
  },
  {
   "cell_type": "code",
   "execution_count": 1,
   "id": "c942f7bc",
   "metadata": {
    "execution": {
     "iopub.execute_input": "2022-02-21T11:59:05.670090Z",
     "iopub.status.busy": "2022-02-21T11:59:05.669606Z",
     "iopub.status.idle": "2022-02-21T11:59:07.560947Z",
     "shell.execute_reply": "2022-02-21T11:59:07.560346Z"
    },
    "tags": []
   },
   "outputs": [
    {
     "data": {
      "text/html": [
       "<h4>Model Info</h4><p>Summarize given model parameters. <a href=\"https://docs.deepchecks.com/en/0.5.0.dev0/examples/tabular/checks/overview/model_info.html?utm_source=display_output&utm_medium=referral&utm_campaign=check_link\" target=\"_blank\">Read More...</a></p><h5>Additional Outputs</h5><div>Model Type: AdaBoostClassifier</div><style type=\"text/css\">\n",
       "#T_88fc2 table {\n",
       "  text-align: left;\n",
       "  white-space: pre-wrap;\n",
       "}\n",
       "#T_88fc2 thead {\n",
       "  text-align: left;\n",
       "  white-space: pre-wrap;\n",
       "}\n",
       "#T_88fc2 tbody {\n",
       "  text-align: left;\n",
       "  white-space: pre-wrap;\n",
       "}\n",
       "#T_88fc2 th {\n",
       "  text-align: left;\n",
       "  white-space: pre-wrap;\n",
       "}\n",
       "#T_88fc2 td {\n",
       "  text-align: left;\n",
       "  white-space: pre-wrap;\n",
       "}\n",
       "#T_88fc2_row2_col0, #T_88fc2_row2_col1, #T_88fc2_row2_col2 {\n",
       "  background-color: lightblue;\n",
       "}\n",
       "</style>\n",
       "<table id=\"T_88fc2\">\n",
       "  <thead>\n",
       "    <tr>\n",
       "      <th id=\"T_88fc2_level0_col0\" class=\"col_heading level0 col0\" >Parameter</th>\n",
       "      <th id=\"T_88fc2_level0_col1\" class=\"col_heading level0 col1\" >Value</th>\n",
       "      <th id=\"T_88fc2_level0_col2\" class=\"col_heading level0 col2\" >Default</th>\n",
       "    </tr>\n",
       "  </thead>\n",
       "  <tbody>\n",
       "    <tr>\n",
       "      <td id=\"T_88fc2_row0_col0\" class=\"data row0 col0\" >algorithm</td>\n",
       "      <td id=\"T_88fc2_row0_col1\" class=\"data row0 col1\" >SAMME.R</td>\n",
       "      <td id=\"T_88fc2_row0_col2\" class=\"data row0 col2\" >SAMME.R</td>\n",
       "    </tr>\n",
       "    <tr>\n",
       "      <td id=\"T_88fc2_row1_col0\" class=\"data row1 col0\" >base_estimator</td>\n",
       "      <td id=\"T_88fc2_row1_col1\" class=\"data row1 col1\" >None</td>\n",
       "      <td id=\"T_88fc2_row1_col2\" class=\"data row1 col2\" >None</td>\n",
       "    </tr>\n",
       "    <tr>\n",
       "      <td id=\"T_88fc2_row2_col0\" class=\"data row2 col0\" >learning_rate</td>\n",
       "      <td id=\"T_88fc2_row2_col1\" class=\"data row2 col1\" >1.20</td>\n",
       "      <td id=\"T_88fc2_row2_col2\" class=\"data row2 col2\" >1.00</td>\n",
       "    </tr>\n",
       "    <tr>\n",
       "      <td id=\"T_88fc2_row3_col0\" class=\"data row3 col0\" >n_estimators</td>\n",
       "      <td id=\"T_88fc2_row3_col1\" class=\"data row3 col1\" >50</td>\n",
       "      <td id=\"T_88fc2_row3_col2\" class=\"data row3 col2\" >50</td>\n",
       "    </tr>\n",
       "    <tr>\n",
       "      <td id=\"T_88fc2_row4_col0\" class=\"data row4 col0\" >random_state</td>\n",
       "      <td id=\"T_88fc2_row4_col1\" class=\"data row4 col1\" >None</td>\n",
       "      <td id=\"T_88fc2_row4_col2\" class=\"data row4 col2\" >None</td>\n",
       "    </tr>\n",
       "  </tbody>\n",
       "</table>\n",
       "<div><p style=\"font-size:0.7em\"><i>Colored rows are parameters with non-default values</i></p></div>"
      ]
     },
     "metadata": {},
     "output_type": "display_data"
    }
   ],
   "source": [
    "from sklearn.ensemble import AdaBoostClassifier\n",
    "from deepchecks.tabular.checks.overview import ModelInfo\n",
    "\n",
    "clf = AdaBoostClassifier(learning_rate=1.2)\n",
    "ModelInfo().run(clf)"
   ]
  }
 ],
 "metadata": {
  "kernelspec": {
   "display_name": "Python 3 (ipykernel)",
   "language": "python",
   "name": "python3"
  },
  "language_info": {
   "codemirror_mode": {
    "name": "ipython",
    "version": 3
   },
   "file_extension": ".py",
   "mimetype": "text/x-python",
   "name": "python",
   "nbconvert_exporter": "python",
   "pygments_lexer": "ipython3",
   "version": "3.9.0"
  }
 },
 "nbformat": 4,
 "nbformat_minor": 5
}
