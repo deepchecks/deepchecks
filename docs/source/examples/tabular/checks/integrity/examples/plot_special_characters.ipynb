{
  "cells": [
    {
      "cell_type": "code",
      "execution_count": null,
      "metadata": {
        "collapsed": false
      },
      "outputs": [],
      "source": [
        "%matplotlib inline"
      ]
    },
    {
      "cell_type": "markdown",
      "metadata": {},
      "source": [
        "Special Characters\n==================\n"
      ]
    },
    {
      "cell_type": "code",
      "execution_count": null,
      "metadata": {
        "collapsed": false
      },
      "outputs": [],
      "source": [
        "from deepchecks.tabular.checks import SpecialCharacters\nimport pandas as pd"
      ]
    },
    {
      "cell_type": "code",
      "execution_count": null,
      "metadata": {
        "collapsed": false
      },
      "outputs": [],
      "source": [
        "data = {'col1': [' ', '!', '\"', '#', '$', '%', '&', '\\'','(', ')',\n                 '*', '+', ',', '-', '.', '/', ':', ';', '<', '=', \n                 '>', '?', '@', '[', ']', '\\\\', '^', '_', '`', '{',\n                 '}', '|', '~', '\\n'],\n        'col2':['v', 'v', 'v', 'v4', 'v5', 'v6', 'v7', 'v8','v9','v10', \n                 '*', '+', ',', '-', '.', '/', ':', ';', '<', '=', \n                 '>', '?', '@', '[', ']', '\\\\', '^', '_', '`', '{',\n                 '}', '|', '~', '\\n'],\n        'col3': [1,1,1,1,1,1,1,1,1,1,1,1,1,1,1,1,1,1,1,1,11,1,'???#',1,1,1,1,1,1,1,1,1,1,1],\n        'col4': [1,1,1,1,1,1,1,1,1,1,1,1,1,1,1,1,1,1,1,1,11,1,1,1,1,1,1,1,1,1,1,1,1,1],\n        'col5': ['valid1','valid2','valid3','valid4','valid5','valid6','valid7',\n                 'valid8','valid9','valid10','valid11','valid12',\n                'valid13','valid14','inval!d15','valid16','valid17','valid18',\n                 'valid19','valid20','valid21','valid22','valid23','valid24','valid25',\n                'valid26', 'valid27','valid28','valid29','valid30','valid31','32','33','34']}\n\n\ndataframe = pd.DataFrame(data=data)\nSpecialCharacters().run(dataframe)"
      ]
    }
  ],
  "metadata": {
    "kernelspec": {
      "display_name": "Python 3",
      "language": "python",
      "name": "python3"
    },
    "language_info": {
      "codemirror_mode": {
        "name": "ipython",
        "version": 3
      },
      "file_extension": ".py",
      "mimetype": "text/x-python",
      "name": "python",
      "nbconvert_exporter": "python",
      "pygments_lexer": "ipython3",
      "version": "3.8.10"
    }
  },
  "nbformat": 4,
  "nbformat_minor": 0
}