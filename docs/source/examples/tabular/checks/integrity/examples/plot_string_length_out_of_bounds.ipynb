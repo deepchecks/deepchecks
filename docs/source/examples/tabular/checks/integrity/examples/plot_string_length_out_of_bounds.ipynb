{
  "cells": [
    {
      "cell_type": "code",
      "execution_count": null,
      "metadata": {
        "collapsed": false
      },
      "outputs": [],
      "source": [
        "%matplotlib inline"
      ]
    },
    {
      "cell_type": "markdown",
      "metadata": {},
      "source": [
        "String Length Out Of Bounds\n===========================\n"
      ]
    },
    {
      "cell_type": "code",
      "execution_count": null,
      "metadata": {
        "collapsed": false
      },
      "outputs": [],
      "source": [
        "from deepchecks.tabular.checks.integrity.string_length_out_of_bounds import StringLengthOutOfBounds\nimport pandas as pd"
      ]
    },
    {
      "cell_type": "code",
      "execution_count": null,
      "metadata": {
        "collapsed": false
      },
      "outputs": [],
      "source": [
        "col1 = [\"aaaaa33\", \"aaaaaaa33\"]*40\ncol1.append(\"a\")\ncol1.append(\"aaaaaadsfasdfasdf\")\n\ncol2 = [\"b\", \"abc\"]*41\n\ncol3 = [\"a\"]*80\ncol3.append(\"a\"*100)\ncol3.append(\"a\"*200)\n# col1 and col3 contrains outliers, col2 does not\ndf = pd.DataFrame({\"col1\":col1, \"col2\": col2, \"col3\": col3 })"
      ]
    },
    {
      "cell_type": "code",
      "execution_count": null,
      "metadata": {
        "collapsed": false
      },
      "outputs": [],
      "source": [
        "StringLengthOutOfBounds(min_unique_value_ratio=0.01).run(df)"
      ]
    },
    {
      "cell_type": "code",
      "execution_count": null,
      "metadata": {
        "collapsed": false
      },
      "outputs": [],
      "source": [
        "col = [\"a\",\"a\",\"a\",\"a\",\"a\",\"a\",\"a\",\"a\",\"a\",\"a\",\"a\",\"a\",\"a\",\"ab\",\"ab\",\"ab\",\"ab\",\"ab\",\"ab\", \"ab\"]*1000\ncol.append(\"basdbadsbaaaaaaaaaa\")\ncol.append(\"basdbadsbaaaaaaaaaaa\")\ndf = pd.DataFrame({\"col1\":col})\nStringLengthOutOfBounds(num_percentiles=1000, min_unique_values=3).run(df)"
      ]
    }
  ],
  "metadata": {
    "kernelspec": {
      "display_name": "Python 3",
      "language": "python",
      "name": "python3"
    },
    "language_info": {
      "codemirror_mode": {
        "name": "ipython",
        "version": 3
      },
      "file_extension": ".py",
      "mimetype": "text/x-python",
      "name": "python",
      "nbconvert_exporter": "python",
      "pygments_lexer": "ipython3",
      "version": "3.8.10"
    }
  },
  "nbformat": 4,
  "nbformat_minor": 0
}