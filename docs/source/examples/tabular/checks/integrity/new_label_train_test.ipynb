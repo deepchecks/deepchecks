{
 "cells": [
  {
   "cell_type": "markdown",
   "id": "ffad3cda",
   "metadata": {},
   "source": [
    "# New Label "
   ]
  },
  {
   "cell_type": "code",
   "execution_count": 1,
   "id": "d26a99f3",
   "metadata": {
    "execution": {
     "iopub.execute_input": "2022-01-28T08:39:21.090096Z",
     "iopub.status.busy": "2022-01-28T08:39:21.068654Z",
     "iopub.status.idle": "2022-01-28T08:39:24.262373Z",
     "shell.execute_reply": "2022-01-28T08:39:24.261369Z"
    }
   },
   "outputs": [
    {
     "name": "stderr",
     "output_type": "stream",
     "text": [
      "/home/yura/Projects/deepchecks/deepchecks/venv/lib/python3.8/site-packages/statsmodels/compat/pandas.py:65: FutureWarning:\n",
      "\n",
      "pandas.Int64Index is deprecated and will be removed from pandas in a future version. Use pandas.Index with the appropriate dtype instead.\n",
      "\n"
     ]
    }
   ],
   "source": [
    "from deepchecks.tabular.checks.integrity.new_label import NewLabelTrainTest\n",
    "from deepchecks.tabular.base import Dataset\n",
    "import pandas as pd"
   ]
  },
  {
   "cell_type": "code",
   "execution_count": 2,
   "id": "6ad09e0e",
   "metadata": {
    "execution": {
     "iopub.execute_input": "2022-01-28T08:39:24.274626Z",
     "iopub.status.busy": "2022-01-28T08:39:24.273358Z",
     "iopub.status.idle": "2022-01-28T08:39:24.276854Z",
     "shell.execute_reply": "2022-01-28T08:39:24.277606Z"
    }
   },
   "outputs": [],
   "source": [
    "test_data = {\"col1\": [0, 1, 2, 3] * 10}\n",
    "val_data = {\"col1\": [4, 5, 6, 7, 8, 9] * 10}\n",
    "test = Dataset(pd.DataFrame(data=test_data), label=\"col1\", label_type=\"classification_label\")\n",
    "val = Dataset(pd.DataFrame(data=val_data), label=\"col1\", label_type=\"classification_label\")"
   ]
  },
  {
   "cell_type": "code",
   "execution_count": 3,
   "id": "1407bb72",
   "metadata": {
    "execution": {
     "iopub.execute_input": "2022-01-28T08:39:24.290389Z",
     "iopub.status.busy": "2022-01-28T08:39:24.289525Z",
     "iopub.status.idle": "2022-01-28T08:39:24.629107Z",
     "shell.execute_reply": "2022-01-28T08:39:24.628277Z"
    }
   },
   "outputs": [
    {
     "name": "stderr",
     "output_type": "stream",
     "text": [
      "/home/yura/Projects/deepchecks/deepchecks/deepchecks/core/display_pandas.py:54: FutureWarning:\n",
      "\n",
      "this method is deprecated in favour of `Styler.to_html()`\n",
      "\n"
     ]
    },
    {
     "data": {
      "text/html": [
       "<h4>New Label Train Test</h4><p>Find new labels in test.<a href=\"https://docs.deepchecks.com/en/0.4.1/examples/checks/integrity/new_label_train_test.html?utm_source=display_output&utm_medium=referral&utm_campaign=check_link\" target=\"_blank\">Read More...</a></p><h5>Additional Outputs</h5><style type=\"text/css\">\n",
       "#T_1b79f table {\n",
       "  text-align: left;\n",
       "  white-space: pre-wrap;\n",
       "}\n",
       "#T_1b79f thead {\n",
       "  text-align: left;\n",
       "  white-space: pre-wrap;\n",
       "}\n",
       "#T_1b79f tbody {\n",
       "  text-align: left;\n",
       "  white-space: pre-wrap;\n",
       "}\n",
       "#T_1b79f th {\n",
       "  text-align: left;\n",
       "  white-space: pre-wrap;\n",
       "}\n",
       "#T_1b79f td {\n",
       "  text-align: left;\n",
       "  white-space: pre-wrap;\n",
       "}\n",
       "</style>\n",
       "<table id=\"T_1b79f\">\n",
       "  <thead>\n",
       "    <tr>\n",
       "      <th class=\"blank level0\" >&nbsp;</th>\n",
       "      <th id=\"T_1b79f_level0_col0\" class=\"col_heading level0 col0\" >Percent new labels in sample</th>\n",
       "      <th id=\"T_1b79f_level0_col1\" class=\"col_heading level0 col1\" >New labels</th>\n",
       "    </tr>\n",
       "    <tr>\n",
       "      <th class=\"index_name level0\" >Label column</th>\n",
       "      <th class=\"blank col0\" >&nbsp;</th>\n",
       "      <th class=\"blank col1\" >&nbsp;</th>\n",
       "    </tr>\n",
       "  </thead>\n",
       "  <tbody>\n",
       "    <tr>\n",
       "      <th id=\"T_1b79f_level0_row0\" class=\"row_heading level0 row0\" >col1</th>\n",
       "      <td id=\"T_1b79f_row0_col0\" class=\"data row0 col0\" >100%</td>\n",
       "      <td id=\"T_1b79f_row0_col1\" class=\"data row0 col1\" >[4, 5, 6, 7, 8, 9]</td>\n",
       "    </tr>\n",
       "  </tbody>\n",
       "</table>\n"
      ]
     },
     "metadata": {},
     "output_type": "display_data"
    }
   ],
   "source": [
    "NewLabelTrainTest().run(test, val)"
   ]
  },
  {
   "cell_type": "code",
   "execution_count": 4,
   "id": "e2dd499d",
   "metadata": {
    "execution": {
     "iopub.execute_input": "2022-01-28T08:39:24.640819Z",
     "iopub.status.busy": "2022-01-28T08:39:24.639937Z",
     "iopub.status.idle": "2022-01-28T08:39:24.644102Z",
     "shell.execute_reply": "2022-01-28T08:39:24.643242Z"
    }
   },
   "outputs": [],
   "source": [
    "test_data = {\"col1\": [\"a\", \"b\", \"a\", \"c\"] * 10, \"col2\": [1,2,2,3]*10}\n",
    "val_data = {\"col1\": [\"a\",\"b\",\"d\"] * 10, \"col2\": [1, 4, 5]*10}\n",
    "test = Dataset(pd.DataFrame(data=test_data), label=\"col2\", label_type=\"classification_label\")\n",
    "val = Dataset(pd.DataFrame(data=val_data), label=\"col2\", label_type=\"classification_label\")"
   ]
  },
  {
   "cell_type": "code",
   "execution_count": 5,
   "id": "91c364ab",
   "metadata": {
    "execution": {
     "iopub.execute_input": "2022-01-28T08:39:24.653839Z",
     "iopub.status.busy": "2022-01-28T08:39:24.652963Z",
     "iopub.status.idle": "2022-01-28T08:39:24.708007Z",
     "shell.execute_reply": "2022-01-28T08:39:24.706593Z"
    },
    "scrolled": true
   },
   "outputs": [
    {
     "name": "stderr",
     "output_type": "stream",
     "text": [
      "/home/yura/Projects/deepchecks/deepchecks/deepchecks/core/display_pandas.py:54: FutureWarning:\n",
      "\n",
      "this method is deprecated in favour of `Styler.to_html()`\n",
      "\n"
     ]
    },
    {
     "data": {
      "text/html": [
       "<h4>New Label Train Test</h4><p>Find new labels in test.<a href=\"https://docs.deepchecks.com/en/0.4.1/examples/checks/integrity/new_label_train_test.html?utm_source=display_output&utm_medium=referral&utm_campaign=check_link\" target=\"_blank\">Read More...</a></p><h5>Additional Outputs</h5><style type=\"text/css\">\n",
       "#T_67339 table {\n",
       "  text-align: left;\n",
       "  white-space: pre-wrap;\n",
       "}\n",
       "#T_67339 thead {\n",
       "  text-align: left;\n",
       "  white-space: pre-wrap;\n",
       "}\n",
       "#T_67339 tbody {\n",
       "  text-align: left;\n",
       "  white-space: pre-wrap;\n",
       "}\n",
       "#T_67339 th {\n",
       "  text-align: left;\n",
       "  white-space: pre-wrap;\n",
       "}\n",
       "#T_67339 td {\n",
       "  text-align: left;\n",
       "  white-space: pre-wrap;\n",
       "}\n",
       "</style>\n",
       "<table id=\"T_67339\">\n",
       "  <thead>\n",
       "    <tr>\n",
       "      <th class=\"blank level0\" >&nbsp;</th>\n",
       "      <th id=\"T_67339_level0_col0\" class=\"col_heading level0 col0\" >Percent new labels in sample</th>\n",
       "      <th id=\"T_67339_level0_col1\" class=\"col_heading level0 col1\" >New labels</th>\n",
       "    </tr>\n",
       "    <tr>\n",
       "      <th class=\"index_name level0\" >Label column</th>\n",
       "      <th class=\"blank col0\" >&nbsp;</th>\n",
       "      <th class=\"blank col1\" >&nbsp;</th>\n",
       "    </tr>\n",
       "  </thead>\n",
       "  <tbody>\n",
       "    <tr>\n",
       "      <th id=\"T_67339_level0_row0\" class=\"row_heading level0 row0\" >col2</th>\n",
       "      <td id=\"T_67339_row0_col0\" class=\"data row0 col0\" >66.67%</td>\n",
       "      <td id=\"T_67339_row0_col1\" class=\"data row0 col1\" >[4, 5]</td>\n",
       "    </tr>\n",
       "  </tbody>\n",
       "</table>\n"
      ]
     },
     "metadata": {},
     "output_type": "display_data"
    }
   ],
   "source": [
    "NewLabelTrainTest().run(test, val)"
   ]
  }
 ],
 "metadata": {
  "kernelspec": {
   "display_name": "Python 3 (ipykernel)",
   "language": "python",
   "name": "python3"
  },
  "language_info": {
   "codemirror_mode": {
    "name": "ipython",
    "version": 3
   },
   "file_extension": ".py",
   "mimetype": "text/x-python",
   "name": "python",
   "nbconvert_exporter": "python",
   "pygments_lexer": "ipython3",
   "version": "3.8.10"
  }
 },
 "nbformat": 4,
 "nbformat_minor": 5
}
