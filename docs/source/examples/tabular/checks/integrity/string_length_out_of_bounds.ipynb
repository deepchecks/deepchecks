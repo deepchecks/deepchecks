{
 "cells": [
  {
   "cell_type": "markdown",
   "id": "940370bc",
   "metadata": {},
   "source": [
    "# String Length Out Of Bounds "
   ]
  },
  {
   "cell_type": "code",
   "execution_count": 1,
   "id": "71b39577",
   "metadata": {
    "execution": {
     "iopub.execute_input": "2022-02-18T01:08:37.695871Z",
     "iopub.status.busy": "2022-02-18T01:08:37.695029Z",
     "iopub.status.idle": "2022-02-18T01:08:39.981801Z",
     "shell.execute_reply": "2022-02-18T01:08:39.980710Z"
    }
   },
   "outputs": [],
   "source": [
    "from deepchecks.tabular.checks.integrity.string_length_out_of_bounds import StringLengthOutOfBounds\n",
    "import pandas as pd"
   ]
  },
  {
   "cell_type": "code",
   "execution_count": 2,
   "id": "a23638e0",
   "metadata": {
    "execution": {
     "iopub.execute_input": "2022-02-18T01:08:39.985607Z",
     "iopub.status.busy": "2022-02-18T01:08:39.985232Z",
     "iopub.status.idle": "2022-02-18T01:08:39.990619Z",
     "shell.execute_reply": "2022-02-18T01:08:39.990113Z"
    }
   },
   "outputs": [],
   "source": [
    "col1 = [\"aaaaa33\", \"aaaaaaa33\"]*40\n",
    "col1.append(\"a\")\n",
    "col1.append(\"aaaaaadsfasdfasdf\")\n",
    "\n",
    "col2 = [\"b\", \"abc\"]*41\n",
    "\n",
    "col3 = [\"a\"]*80\n",
    "col3.append(\"a\"*100)\n",
    "col3.append(\"a\"*200)\n",
    "# col1 and col3 contrains outliers, col2 does not\n",
    "df = pd.DataFrame({\"col1\":col1, \"col2\": col2, \"col3\": col3 })"
   ]
  },
  {
   "cell_type": "code",
   "execution_count": 3,
   "id": "3f0dd967",
   "metadata": {
    "execution": {
     "iopub.execute_input": "2022-02-18T01:08:39.994351Z",
     "iopub.status.busy": "2022-02-18T01:08:39.994130Z",
     "iopub.status.idle": "2022-02-18T01:08:40.322013Z",
     "shell.execute_reply": "2022-02-18T01:08:40.321332Z"
    }
   },
   "outputs": [
    {
     "data": {
      "text/html": [
       "<h4>String Length Out Of Bounds</h4><p>Detect strings with length that is much longer/shorter than the identified \"normal\" string lengths. <a href=\"https://docs.deepchecks.com/en/0.5.0.dev0/examples/checks/tabular/integrity/string_length_out_of_bounds.html?utm_source=display_output&utm_medium=referral&utm_campaign=check_link\" target=\"_blank\">Read More...</a></p><h5>Additional Outputs</h5><div>* showing only the top 10 columns, you can change it using n_top_columns param</div><style type=\"text/css\">\n",
       "#T_1f15c table {\n",
       "  text-align: left;\n",
       "  white-space: pre-wrap;\n",
       "}\n",
       "#T_1f15c thead {\n",
       "  text-align: left;\n",
       "  white-space: pre-wrap;\n",
       "}\n",
       "#T_1f15c tbody {\n",
       "  text-align: left;\n",
       "  white-space: pre-wrap;\n",
       "}\n",
       "#T_1f15c th {\n",
       "  text-align: left;\n",
       "  white-space: pre-wrap;\n",
       "}\n",
       "#T_1f15c td {\n",
       "  text-align: left;\n",
       "  white-space: pre-wrap;\n",
       "}\n",
       "</style>\n",
       "<table id=\"T_1f15c\">\n",
       "  <thead>\n",
       "    <tr>\n",
       "      <th class=\"blank\" >&nbsp;</th>\n",
       "      <th class=\"blank\" >&nbsp;</th>\n",
       "      <th class=\"blank level0\" >&nbsp;</th>\n",
       "      <th id=\"T_1f15c_level0_col0\" class=\"col_heading level0 col0\" >Number of Outlier Samples</th>\n",
       "      <th id=\"T_1f15c_level0_col1\" class=\"col_heading level0 col1\" >Example Samples</th>\n",
       "    </tr>\n",
       "    <tr>\n",
       "      <th class=\"index_name level0\" >Column Name</th>\n",
       "      <th class=\"index_name level1\" >Range of Detected Normal String Lengths</th>\n",
       "      <th class=\"index_name level2\" >Range of Detected Outlier String Lengths</th>\n",
       "      <th class=\"blank col0\" >&nbsp;</th>\n",
       "      <th class=\"blank col1\" >&nbsp;</th>\n",
       "    </tr>\n",
       "  </thead>\n",
       "  <tbody>\n",
       "    <tr>\n",
       "      <th id=\"T_1f15c_level0_row0\" class=\"row_heading level0 row0\" rowspan=\"2\">col1</th>\n",
       "      <th id=\"T_1f15c_level1_row0\" class=\"row_heading level1 row0\" rowspan=\"2\">7 - 9</th>\n",
       "      <th id=\"T_1f15c_level2_row0\" class=\"row_heading level2 row0\" >1 - 1</th>\n",
       "      <td id=\"T_1f15c_row0_col0\" class=\"data row0 col0\" >1</td>\n",
       "      <td id=\"T_1f15c_row0_col1\" class=\"data row0 col1\" >['a']</td>\n",
       "    </tr>\n",
       "    <tr>\n",
       "      <th id=\"T_1f15c_level2_row1\" class=\"row_heading level2 row1\" >17 - 17</th>\n",
       "      <td id=\"T_1f15c_row1_col0\" class=\"data row1 col0\" >1</td>\n",
       "      <td id=\"T_1f15c_row1_col1\" class=\"data row1 col1\" >['aaaaaadsfasdfasdf']</td>\n",
       "    </tr>\n",
       "    <tr>\n",
       "      <th id=\"T_1f15c_level0_row2\" class=\"row_heading level0 row2\" >col3</th>\n",
       "      <th id=\"T_1f15c_level1_row2\" class=\"row_heading level1 row2\" >1 - 1</th>\n",
       "      <th id=\"T_1f15c_level2_row2\" class=\"row_heading level2 row2\" >100 - 200</th>\n",
       "      <td id=\"T_1f15c_row2_col0\" class=\"data row2 col0\" >2</td>\n",
       "      <td id=\"T_1f15c_row2_col1\" class=\"data row2 col1\" >['aaaaaaaaaaaaaaaaaaaaaaaaaaaaaaaaaaaaaaaaaaaaaaaaaa...', 'aaaaaaaaaaaaaaaaaaaaaaaaaaaaaaaaaaaaaaaaaaaaaaaaaa...']</td>\n",
       "    </tr>\n",
       "  </tbody>\n",
       "</table>\n"
      ]
     },
     "metadata": {},
     "output_type": "display_data"
    }
   ],
   "source": [
    "StringLengthOutOfBounds(min_unique_value_ratio=0.01).run(df)"
   ]
  },
  {
   "cell_type": "code",
   "execution_count": 4,
   "id": "134216d1",
   "metadata": {
    "execution": {
     "iopub.execute_input": "2022-02-18T01:08:40.325833Z",
     "iopub.status.busy": "2022-02-18T01:08:40.325290Z",
     "iopub.status.idle": "2022-02-18T01:08:40.592464Z",
     "shell.execute_reply": "2022-02-18T01:08:40.591278Z"
    }
   },
   "outputs": [
    {
     "data": {
      "text/html": [
       "<h4>String Length Out Of Bounds</h4><p>Detect strings with length that is much longer/shorter than the identified \"normal\" string lengths. <a href=\"https://docs.deepchecks.com/en/0.5.0.dev0/examples/checks/tabular/integrity/string_length_out_of_bounds.html?utm_source=display_output&utm_medium=referral&utm_campaign=check_link\" target=\"_blank\">Read More...</a></p><h5>Additional Outputs</h5><div>* showing only the top 10 columns, you can change it using n_top_columns param</div><style type=\"text/css\">\n",
       "#T_daed0 table {\n",
       "  text-align: left;\n",
       "  white-space: pre-wrap;\n",
       "}\n",
       "#T_daed0 thead {\n",
       "  text-align: left;\n",
       "  white-space: pre-wrap;\n",
       "}\n",
       "#T_daed0 tbody {\n",
       "  text-align: left;\n",
       "  white-space: pre-wrap;\n",
       "}\n",
       "#T_daed0 th {\n",
       "  text-align: left;\n",
       "  white-space: pre-wrap;\n",
       "}\n",
       "#T_daed0 td {\n",
       "  text-align: left;\n",
       "  white-space: pre-wrap;\n",
       "}\n",
       "</style>\n",
       "<table id=\"T_daed0\">\n",
       "  <thead>\n",
       "    <tr>\n",
       "      <th class=\"blank\" >&nbsp;</th>\n",
       "      <th class=\"blank\" >&nbsp;</th>\n",
       "      <th class=\"blank level0\" >&nbsp;</th>\n",
       "      <th id=\"T_daed0_level0_col0\" class=\"col_heading level0 col0\" >Number of Outlier Samples</th>\n",
       "      <th id=\"T_daed0_level0_col1\" class=\"col_heading level0 col1\" >Example Samples</th>\n",
       "    </tr>\n",
       "    <tr>\n",
       "      <th class=\"index_name level0\" >Column Name</th>\n",
       "      <th class=\"index_name level1\" >Range of Detected Normal String Lengths</th>\n",
       "      <th class=\"index_name level2\" >Range of Detected Outlier String Lengths</th>\n",
       "      <th class=\"blank col0\" >&nbsp;</th>\n",
       "      <th class=\"blank col1\" >&nbsp;</th>\n",
       "    </tr>\n",
       "  </thead>\n",
       "  <tbody>\n",
       "    <tr>\n",
       "      <th id=\"T_daed0_level0_row0\" class=\"row_heading level0 row0\" >col1</th>\n",
       "      <th id=\"T_daed0_level1_row0\" class=\"row_heading level1 row0\" >1 - 2</th>\n",
       "      <th id=\"T_daed0_level2_row0\" class=\"row_heading level2 row0\" >19 - 20</th>\n",
       "      <td id=\"T_daed0_row0_col0\" class=\"data row0 col0\" >2</td>\n",
       "      <td id=\"T_daed0_row0_col1\" class=\"data row0 col1\" >['basdbadsbaaaaaaaaaa', 'basdbadsbaaaaaaaaaaa']</td>\n",
       "    </tr>\n",
       "  </tbody>\n",
       "</table>\n"
      ]
     },
     "metadata": {},
     "output_type": "display_data"
    }
   ],
   "source": [
    "col = [\"a\",\"a\",\"a\",\"a\",\"a\",\"a\",\"a\",\"a\",\"a\",\"a\",\"a\",\"a\",\"a\",\"ab\",\"ab\",\"ab\",\"ab\",\"ab\",\"ab\", \"ab\"]*1000\n",
    "col.append(\"basdbadsbaaaaaaaaaa\")\n",
    "col.append(\"basdbadsbaaaaaaaaaaa\")\n",
    "df = pd.DataFrame({\"col1\":col})\n",
    "StringLengthOutOfBounds(num_percentiles=1000, min_unique_values=3).run(df)"
   ]
  }
 ],
 "metadata": {
  "kernelspec": {
   "display_name": "Python 3 (ipykernel)",
   "language": "python",
   "name": "python3"
  },
  "language_info": {
   "codemirror_mode": {
    "name": "ipython",
    "version": 3
   },
   "file_extension": ".py",
   "mimetype": "text/x-python",
   "name": "python",
   "nbconvert_exporter": "python",
   "pygments_lexer": "ipython3",
   "version": "3.9.10"
  }
 },
 "nbformat": 4,
 "nbformat_minor": 5
}
