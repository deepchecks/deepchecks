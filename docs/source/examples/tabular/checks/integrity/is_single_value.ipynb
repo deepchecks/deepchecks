version https://git-lfs.github.com/spec/v1
oid sha256:cda2a5116d3e0c2f7c709af6412320a9d4f6b575b83238c10cd50f010b2d6403
size 10428
