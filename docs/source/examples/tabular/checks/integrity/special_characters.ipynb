{
 "cells": [
  {
   "cell_type": "markdown",
   "id": "12dca585",
   "metadata": {},
   "source": [
    "# Special Characters "
   ]
  },
  {
   "cell_type": "code",
   "execution_count": 1,
   "id": "e8d8a863",
   "metadata": {
    "execution": {
     "iopub.execute_input": "2022-02-14T16:55:24.596860Z",
     "iopub.status.busy": "2022-02-14T16:55:24.588738Z",
     "iopub.status.idle": "2022-02-14T16:55:26.614036Z",
     "shell.execute_reply": "2022-02-14T16:55:26.614602Z"
    }
   },
   "outputs": [],
   "source": [
    "from deepchecks.tabular.checks import SpecialCharacters\n",
    "import pandas as pd"
   ]
  },
  {
   "cell_type": "code",
   "execution_count": 2,
   "id": "bad18fb8-00ee-4752-91e3-86be52127251",
   "metadata": {
    "execution": {
     "iopub.execute_input": "2022-02-14T16:55:26.632545Z",
     "iopub.status.busy": "2022-02-14T16:55:26.631770Z",
     "iopub.status.idle": "2022-02-14T16:55:26.635464Z",
     "shell.execute_reply": "2022-02-14T16:55:26.635984Z"
    }
   },
   "outputs": [
    {
     "data": {
      "text/html": [
       "<h4>Special Characters</h4><p>Search in column[s] for values that contains only special characters. <a href=\"https://docs.deepchecks.com/en/0.4.2/examples/checks/tabular/integrity/special_characters.html?utm_source=display_output&utm_medium=referral&utm_campaign=check_link\" target=\"_blank\">Read More...</a></p><h5>Additional Outputs</h5><div>* showing only the top 10 columns, you can change it using n_top_columns param</div><style type=\"text/css\">\n",
       "#T_13587_ table {\n",
       "  text-align: left;\n",
       "  white-space: pre-wrap;\n",
       "}\n",
       "#T_13587_ thead {\n",
       "  text-align: left;\n",
       "  white-space: pre-wrap;\n",
       "}\n",
       "#T_13587_ tbody {\n",
       "  text-align: left;\n",
       "  white-space: pre-wrap;\n",
       "}\n",
       "#T_13587_ th {\n",
       "  text-align: left;\n",
       "  white-space: pre-wrap;\n",
       "}\n",
       "#T_13587_ td {\n",
       "  text-align: left;\n",
       "  white-space: pre-wrap;\n",
       "}\n",
       "</style>\n",
       "<table id=\"T_13587_\">\n",
       "  <thead>\n",
       "    <tr>\n",
       "      <th class=\"blank level0\" >&nbsp;</th>\n",
       "      <th class=\"col_heading level0 col0\" >% Special-Only Samples</th>\n",
       "      <th class=\"col_heading level0 col1\" >Most Common Special-Only Samples</th>\n",
       "    </tr>\n",
       "    <tr>\n",
       "      <th class=\"index_name level0\" >Column Name</th>\n",
       "      <th class=\"blank col0\" >&nbsp;</th>\n",
       "      <th class=\"blank col1\" >&nbsp;</th>\n",
       "    </tr>\n",
       "  </thead>\n",
       "  <tbody>\n",
       "    <tr>\n",
       "      <th id=\"T_13587_level0_row0\" class=\"row_heading level0 row0\" >col1</th>\n",
       "      <td id=\"T_13587_row0_col0\" class=\"data row0 col0\" >100%</td>\n",
       "      <td id=\"T_13587_row0_col1\" class=\"data row0 col1\" >[' ', '!']</td>\n",
       "    </tr>\n",
       "    <tr>\n",
       "      <th id=\"T_13587_level0_row1\" class=\"row_heading level0 row1\" >col2</th>\n",
       "      <td id=\"T_13587_row1_col0\" class=\"data row1 col0\" >70.59%</td>\n",
       "      <td id=\"T_13587_row1_col1\" class=\"data row1 col1\" >['*', '+']</td>\n",
       "    </tr>\n",
       "    <tr>\n",
       "      <th id=\"T_13587_level0_row2\" class=\"row_heading level0 row2\" >col3</th>\n",
       "      <td id=\"T_13587_row2_col0\" class=\"data row2 col0\" >2.94%</td>\n",
       "      <td id=\"T_13587_row2_col1\" class=\"data row2 col1\" >['???#']</td>\n",
       "    </tr>\n",
       "  </tbody>\n",
       "</table>\n"
      ]
     },
     "metadata": {},
     "output_type": "display_data"
    }
   ],
   "source": [
    "data = {'col1': [' ', '!', '\"', '#', '$', '%', '&', '\\'','(', ')',\n",
    "                 '*', '+', ',', '-', '.', '/', ':', ';', '<', '=', \n",
    "                 '>', '?', '@', '[', ']', '\\\\', '^', '_', '`', '{',\n",
    "                 '}', '|', '~', '\\n'],\n",
    "        'col2':['v', 'v', 'v', 'v4', 'v5', 'v6', 'v7', 'v8','v9','v10', \n",
    "                 '*', '+', ',', '-', '.', '/', ':', ';', '<', '=', \n",
    "                 '>', '?', '@', '[', ']', '\\\\', '^', '_', '`', '{',\n",
    "                 '}', '|', '~', '\\n'],\n",
    "        'col3': [1,1,1,1,1,1,1,1,1,1,1,1,1,1,1,1,1,1,1,1,11,1,'???#',1,1,1,1,1,1,1,1,1,1,1],\n",
    "        'col4': [1,1,1,1,1,1,1,1,1,1,1,1,1,1,1,1,1,1,1,1,11,1,1,1,1,1,1,1,1,1,1,1,1,1],\n",
    "        'col5': ['valid1','valid2','valid3','valid4','valid5','valid6','valid7',\n",
    "                 'valid8','valid9','valid10','valid11','valid12',\n",
    "                'valid13','valid14','inval!d15','valid16','valid17','valid18',\n",
    "                 'valid19','valid20','valid21','valid22','valid23','valid24','valid25',\n",
    "                'valid26', 'valid27','valid28','valid29','valid30','valid31','32','33','34']}\n",
    "\n",
    "\n",
    "dataframe = pd.DataFrame(data=data)\n",
    "SpecialCharacters().run(dataframe)"
   ]
  }
 ],
 "metadata": {
  "kernelspec": {
   "display_name": "Python 3 (ipykernel)",
   "language": "python",
   "name": "python3"
  },
  "language_info": {
   "codemirror_mode": {
    "name": "ipython",
    "version": 3
   },
   "file_extension": ".py",
   "mimetype": "text/x-python",
   "name": "python",
   "nbconvert_exporter": "python",
   "pygments_lexer": "ipython3",
   "version": "3.8.6"
  }
 },
 "nbformat": 4,
 "nbformat_minor": 5
}
