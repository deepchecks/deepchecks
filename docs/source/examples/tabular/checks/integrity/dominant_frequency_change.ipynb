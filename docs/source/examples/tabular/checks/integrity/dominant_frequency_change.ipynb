{
 "cells": [
  {
   "cell_type": "markdown",
   "id": "352da7b3",
   "metadata": {},
   "source": [
    "# Dominant Frequency Change "
   ]
  },
  {
   "cell_type": "markdown",
   "id": "0fdeac8e-ffd2-4509-8a70-fcbda9cdb68b",
   "metadata": {},
   "source": [
    "## Imports"
   ]
  },
  {
   "cell_type": "code",
   "execution_count": 1,
   "id": "592d6a95-06b0-4397-bf5e-5aebd6dc58f3",
   "metadata": {
    "execution": {
     "iopub.execute_input": "2022-01-28T08:38:34.407707Z",
     "iopub.status.busy": "2022-01-28T08:38:34.406560Z",
     "iopub.status.idle": "2022-01-28T08:38:38.232414Z",
     "shell.execute_reply": "2022-01-28T08:38:38.233661Z"
    }
   },
   "outputs": [
    {
     "name": "stderr",
     "output_type": "stream",
     "text": [
      "/home/yura/Projects/deepchecks/deepchecks/venv/lib/python3.8/site-packages/statsmodels/compat/pandas.py:65: FutureWarning:\n",
      "\n",
      "pandas.Int64Index is deprecated and will be removed from pandas in a future version. Use pandas.Index with the appropriate dtype instead.\n",
      "\n"
     ]
    }
   ],
   "source": [
    "import pandas as pd\n",
    "from sklearn.datasets import load_iris\n",
    "from sklearn.model_selection import train_test_split\n",
    "from deepchecks.tabular.checks.integrity import DominantFrequencyChange\n",
    "from deepchecks.tabular.base import Dataset"
   ]
  },
  {
   "cell_type": "markdown",
   "id": "b1653169-893b-456a-b179-7ba51d004694",
   "metadata": {},
   "source": [
    "## Generating data:"
   ]
  },
  {
   "cell_type": "code",
   "execution_count": 2,
   "id": "13624caa-239a-4b0a-a081-8d46872751ef",
   "metadata": {
    "execution": {
     "iopub.execute_input": "2022-01-28T08:38:38.249524Z",
     "iopub.status.busy": "2022-01-28T08:38:38.246770Z",
     "iopub.status.idle": "2022-01-28T08:38:38.271951Z",
     "shell.execute_reply": "2022-01-28T08:38:38.270458Z"
    }
   },
   "outputs": [],
   "source": [
    "iris = load_iris(return_X_y=False, as_frame=True)\n",
    "X = iris.data\n",
    "y = iris.target\n",
    "X_train, X_test, y_train, y_test = train_test_split(X, y, test_size=0.3, random_state=55)\n",
    "train_dataset = Dataset(pd.concat([X_train, y_train], axis=1), \n",
    "            features=iris.feature_names,\n",
    "            label='target')\n",
    "\n",
    "test_df = pd.concat([X_test, y_test], axis=1)\n",
    "\n",
    "# make duplicates in the test data\n",
    "test_df.loc[test_df.index % 2 == 0, 'petal length (cm)'] = 5.1\n",
    "test_df.loc[test_df.index / 3 > 8, 'sepal width (cm)'] = 2.7\n",
    "\n",
    "validation_dataset = Dataset(test_df, \n",
    "            features=iris.feature_names,\n",
    "            label='target')"
   ]
  },
  {
   "cell_type": "markdown",
   "id": "e9b8071a-f95a-4d51-8ca9-abd42d5406b2",
   "metadata": {},
   "source": [
    "## Running dominant_frequency_change check:"
   ]
  },
  {
   "cell_type": "code",
   "execution_count": 3,
   "id": "372e0162-b86c-45d6-8a3b-47e009d709b9",
   "metadata": {
    "execution": {
     "iopub.execute_input": "2022-01-28T08:38:38.279834Z",
     "iopub.status.busy": "2022-01-28T08:38:38.278492Z",
     "iopub.status.idle": "2022-01-28T08:38:38.282947Z",
     "shell.execute_reply": "2022-01-28T08:38:38.281833Z"
    }
   },
   "outputs": [],
   "source": [
    "check = DominantFrequencyChange()"
   ]
  },
  {
   "cell_type": "code",
   "execution_count": 4,
   "id": "fadb3bc8-65af-4c7d-92bc-9234802d99e3",
   "metadata": {
    "execution": {
     "iopub.execute_input": "2022-01-28T08:38:38.307814Z",
     "iopub.status.busy": "2022-01-28T08:38:38.306906Z",
     "iopub.status.idle": "2022-01-28T08:38:38.801099Z",
     "shell.execute_reply": "2022-01-28T08:38:38.802203Z"
    }
   },
   "outputs": [
    {
     "name": "stderr",
     "output_type": "stream",
     "text": [
      "/home/yura/Projects/deepchecks/deepchecks/deepchecks/core/display_pandas.py:54: FutureWarning:\n",
      "\n",
      "this method is deprecated in favour of `Styler.to_html()`\n",
      "\n"
     ]
    },
    {
     "data": {
      "text/html": [
       "<h4>Dominant Frequency Change</h4><p>Check if dominant values have increased significantly between test and reference data.<a href=\"https://docs.deepchecks.com/en/0.4.1/examples/checks/integrity/dominant_frequency_change.html?utm_source=display_output&utm_medium=referral&utm_campaign=check_link\" target=\"_blank\">Read More...</a></p><h5>Additional Outputs</h5><div>* showing only the top 10 columns, you can change it using n_top_columns param</div><style type=\"text/css\">\n",
       "#T_866f0 table {\n",
       "  text-align: left;\n",
       "  white-space: pre-wrap;\n",
       "}\n",
       "#T_866f0 thead {\n",
       "  text-align: left;\n",
       "  white-space: pre-wrap;\n",
       "}\n",
       "#T_866f0 tbody {\n",
       "  text-align: left;\n",
       "  white-space: pre-wrap;\n",
       "}\n",
       "#T_866f0 th {\n",
       "  text-align: left;\n",
       "  white-space: pre-wrap;\n",
       "}\n",
       "#T_866f0 td {\n",
       "  text-align: left;\n",
       "  white-space: pre-wrap;\n",
       "}\n",
       "</style>\n",
       "<table id=\"T_866f0\">\n",
       "  <thead>\n",
       "    <tr>\n",
       "      <th class=\"blank level0\" >&nbsp;</th>\n",
       "      <th id=\"T_866f0_level0_col0\" class=\"col_heading level0 col0\" >Value</th>\n",
       "      <th id=\"T_866f0_level0_col1\" class=\"col_heading level0 col1\" >Train data %</th>\n",
       "      <th id=\"T_866f0_level0_col2\" class=\"col_heading level0 col2\" >Test data %</th>\n",
       "      <th id=\"T_866f0_level0_col3\" class=\"col_heading level0 col3\" >Train data #</th>\n",
       "      <th id=\"T_866f0_level0_col4\" class=\"col_heading level0 col4\" >Test data #</th>\n",
       "      <th id=\"T_866f0_level0_col5\" class=\"col_heading level0 col5\" >P value</th>\n",
       "    </tr>\n",
       "    <tr>\n",
       "      <th class=\"index_name level0\" >Column</th>\n",
       "      <th class=\"blank col0\" >&nbsp;</th>\n",
       "      <th class=\"blank col1\" >&nbsp;</th>\n",
       "      <th class=\"blank col2\" >&nbsp;</th>\n",
       "      <th class=\"blank col3\" >&nbsp;</th>\n",
       "      <th class=\"blank col4\" >&nbsp;</th>\n",
       "      <th class=\"blank col5\" >&nbsp;</th>\n",
       "    </tr>\n",
       "  </thead>\n",
       "  <tbody>\n",
       "    <tr>\n",
       "      <th id=\"T_866f0_level0_row0\" class=\"row_heading level0 row0\" >sepal width (cm)</th>\n",
       "      <td id=\"T_866f0_row0_col0\" class=\"data row0 col0\" >2.70</td>\n",
       "      <td id=\"T_866f0_row0_col1\" class=\"data row0 col1\" >0.82</td>\n",
       "      <td id=\"T_866f0_row0_col2\" class=\"data row0 col2\" >0.07</td>\n",
       "      <td id=\"T_866f0_row0_col3\" class=\"data row0 col3\" >37</td>\n",
       "      <td id=\"T_866f0_row0_col4\" class=\"data row0 col4\" >7</td>\n",
       "      <td id=\"T_866f0_row0_col5\" class=\"data row0 col5\" >0.00</td>\n",
       "    </tr>\n",
       "    <tr>\n",
       "      <th id=\"T_866f0_level0_row1\" class=\"row_heading level0 row1\" >petal length (cm)</th>\n",
       "      <td id=\"T_866f0_row1_col0\" class=\"data row1 col0\" >5.10</td>\n",
       "      <td id=\"T_866f0_row1_col1\" class=\"data row1 col1\" >0.56</td>\n",
       "      <td id=\"T_866f0_row1_col2\" class=\"data row1 col2\" >0.06</td>\n",
       "      <td id=\"T_866f0_row1_col3\" class=\"data row1 col3\" >25</td>\n",
       "      <td id=\"T_866f0_row1_col4\" class=\"data row1 col4\" >6</td>\n",
       "      <td id=\"T_866f0_row1_col5\" class=\"data row1 col5\" >0.00</td>\n",
       "    </tr>\n",
       "  </tbody>\n",
       "</table>\n"
      ]
     },
     "metadata": {},
     "output_type": "display_data"
    }
   ],
   "source": [
    "check.run(validation_dataset, train_dataset)"
   ]
  },
  {
   "cell_type": "code",
   "execution_count": null,
   "id": "5221f366",
   "metadata": {},
   "outputs": [],
   "source": []
  }
 ],
 "metadata": {
  "kernelspec": {
   "display_name": "Python 3 (ipykernel)",
   "language": "python",
   "name": "python3"
  },
  "language_info": {
   "codemirror_mode": {
    "name": "ipython",
    "version": 3
   },
   "file_extension": ".py",
   "mimetype": "text/x-python",
   "name": "python",
   "nbconvert_exporter": "python",
   "pygments_lexer": "ipython3",
   "version": "3.8.10"
  }
 },
 "nbformat": 4,
 "nbformat_minor": 5
}
