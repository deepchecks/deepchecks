{
 "cells": [
  {
   "cell_type": "markdown",
   "id": "a97984a1-ec52-4b67-b485-508138e18c4c",
   "metadata": {},
   "source": [
    "# Mixed Data Types"
   ]
  },
  {
   "cell_type": "code",
   "execution_count": 1,
   "id": "6c2d05b9",
   "metadata": {
    "execution": {
     "iopub.execute_input": "2022-02-21T11:57:18.384838Z",
     "iopub.status.busy": "2022-02-21T11:57:18.384351Z",
     "iopub.status.idle": "2022-02-21T11:57:20.057218Z",
     "shell.execute_reply": "2022-02-21T11:57:20.056247Z"
    }
   },
   "outputs": [],
   "source": [
    "from deepchecks.tabular.checks import MixedDataTypes\n",
    "import pandas as pd"
   ]
  },
  {
   "cell_type": "markdown",
   "id": "da13d258-1b40-465d-b647-320eacecdea2",
   "metadata": {},
   "source": [
    "## Benign condition"
   ]
  },
  {
   "cell_type": "code",
   "execution_count": 2,
   "id": "5e6650a3",
   "metadata": {
    "execution": {
     "iopub.execute_input": "2022-02-21T11:57:20.061480Z",
     "iopub.status.busy": "2022-02-21T11:57:20.061086Z",
     "iopub.status.idle": "2022-02-21T11:57:20.352071Z",
     "shell.execute_reply": "2022-02-21T11:57:20.351382Z"
    }
   },
   "outputs": [
    {
     "data": {
      "text/html": [
       "<h4>Mixed Data Types</h4><p>Detect a small amount of a rare data type within a column, such as few string samples in a mostly numeric column. <a href=\"https://docs.deepchecks.com/en/0.5.0.dev0/examples/tabular/checks/integrity/mixed_data_types.html?utm_source=display_output&utm_medium=referral&utm_campaign=check_link\" target=\"_blank\">Read More...</a></p><h5>Conditions Summary</h5><style type=\"text/css\">\n",
       "#T_e7e76 table {\n",
       "  text-align: left;\n",
       "  white-space: pre-wrap;\n",
       "}\n",
       "#T_e7e76 thead {\n",
       "  text-align: left;\n",
       "  white-space: pre-wrap;\n",
       "}\n",
       "#T_e7e76 tbody {\n",
       "  text-align: left;\n",
       "  white-space: pre-wrap;\n",
       "}\n",
       "#T_e7e76 th {\n",
       "  text-align: left;\n",
       "  white-space: pre-wrap;\n",
       "}\n",
       "#T_e7e76 td {\n",
       "  text-align: left;\n",
       "  white-space: pre-wrap;\n",
       "}\n",
       "</style>\n",
       "<table id=\"T_e7e76\">\n",
       "  <thead>\n",
       "    <tr>\n",
       "      <th id=\"T_e7e76_level0_col0\" class=\"col_heading level0 col0\" >Status</th>\n",
       "      <th id=\"T_e7e76_level0_col1\" class=\"col_heading level0 col1\" >Condition</th>\n",
       "      <th id=\"T_e7e76_level0_col2\" class=\"col_heading level0 col2\" >More Info</th>\n",
       "    </tr>\n",
       "  </thead>\n",
       "  <tbody>\n",
       "    <tr>\n",
       "      <td id=\"T_e7e76_row0_col0\" class=\"data row0 col0\" ><div style=\"color: green;text-align: center\">✓</div></td>\n",
       "      <td id=\"T_e7e76_row0_col1\" class=\"data row0 col1\" >Rare data types in column are either more than 10% or less than 1% of the data</td>\n",
       "      <td id=\"T_e7e76_row0_col2\" class=\"data row0 col2\" ></td>\n",
       "    </tr>\n",
       "  </tbody>\n",
       "</table>\n",
       "<h5>Additional Outputs</h5><p><b>&#x2713;</b> Nothing found</p>"
      ]
     },
     "metadata": {},
     "output_type": "display_data"
    }
   ],
   "source": [
    "data = {'col1': ['foo', 'bar', 'cat']}\n",
    "dataframe = pd.DataFrame(data=data)\n",
    "MixedDataTypes().add_condition_rare_type_ratio_not_in_range().run(dataframe)"
   ]
  },
  {
   "cell_type": "markdown",
   "id": "3aa1c088-cbdb-4718-88e3-e6f8590cd8b8",
   "metadata": {},
   "source": [
    "## Issue detected"
   ]
  },
  {
   "cell_type": "code",
   "execution_count": 3,
   "id": "ab11a1f7",
   "metadata": {
    "execution": {
     "iopub.execute_input": "2022-02-21T11:57:20.355504Z",
     "iopub.status.busy": "2022-02-21T11:57:20.355243Z",
     "iopub.status.idle": "2022-02-21T11:57:20.408270Z",
     "shell.execute_reply": "2022-02-21T11:57:20.407647Z"
    },
    "tags": []
   },
   "outputs": [
    {
     "data": {
      "text/html": [
       "<h4>Mixed Data Types</h4><p>Detect a small amount of a rare data type within a column, such as few string samples in a mostly numeric column. <a href=\"https://docs.deepchecks.com/en/0.5.0.dev0/examples/tabular/checks/integrity/mixed_data_types.html?utm_source=display_output&utm_medium=referral&utm_campaign=check_link\" target=\"_blank\">Read More...</a></p><h5>Conditions Summary</h5><style type=\"text/css\">\n",
       "#T_85e9c table {\n",
       "  text-align: left;\n",
       "  white-space: pre-wrap;\n",
       "}\n",
       "#T_85e9c thead {\n",
       "  text-align: left;\n",
       "  white-space: pre-wrap;\n",
       "}\n",
       "#T_85e9c tbody {\n",
       "  text-align: left;\n",
       "  white-space: pre-wrap;\n",
       "}\n",
       "#T_85e9c th {\n",
       "  text-align: left;\n",
       "  white-space: pre-wrap;\n",
       "}\n",
       "#T_85e9c td {\n",
       "  text-align: left;\n",
       "  white-space: pre-wrap;\n",
       "}\n",
       "</style>\n",
       "<table id=\"T_85e9c\">\n",
       "  <thead>\n",
       "    <tr>\n",
       "      <th id=\"T_85e9c_level0_col0\" class=\"col_heading level0 col0\" >Status</th>\n",
       "      <th id=\"T_85e9c_level0_col1\" class=\"col_heading level0 col1\" >Condition</th>\n",
       "      <th id=\"T_85e9c_level0_col2\" class=\"col_heading level0 col2\" >More Info</th>\n",
       "    </tr>\n",
       "  </thead>\n",
       "  <tbody>\n",
       "    <tr>\n",
       "      <td id=\"T_85e9c_row0_col0\" class=\"data row0 col0\" ><div style=\"color: orange;text-align: center;font-weight:bold\">!</div></td>\n",
       "      <td id=\"T_85e9c_row0_col1\" class=\"data row0 col1\" >Rare data types in column are either more than 10% or less than 1% of the data</td>\n",
       "      <td id=\"T_85e9c_row0_col2\" class=\"data row0 col2\" >Found columns with non-negligible quantities of samples with a different data type from the majority of samples: ['col2', 'col4']</td>\n",
       "    </tr>\n",
       "  </tbody>\n",
       "</table>\n",
       "<h5>Additional Outputs</h5><div>* showing only the top 10 columns, you can change it using n_top_columns param</div><style type=\"text/css\">\n",
       "#T_4f5bc table {\n",
       "  text-align: left;\n",
       "  white-space: pre-wrap;\n",
       "}\n",
       "#T_4f5bc thead {\n",
       "  text-align: left;\n",
       "  white-space: pre-wrap;\n",
       "}\n",
       "#T_4f5bc tbody {\n",
       "  text-align: left;\n",
       "  white-space: pre-wrap;\n",
       "}\n",
       "#T_4f5bc th {\n",
       "  text-align: left;\n",
       "  white-space: pre-wrap;\n",
       "}\n",
       "#T_4f5bc td {\n",
       "  text-align: left;\n",
       "  white-space: pre-wrap;\n",
       "}\n",
       "</style>\n",
       "<table id=\"T_4f5bc\">\n",
       "  <thead>\n",
       "    <tr>\n",
       "      <th class=\"blank level0\" >&nbsp;</th>\n",
       "      <th id=\"T_4f5bc_level0_col0\" class=\"col_heading level0 col0\" >col1</th>\n",
       "      <th id=\"T_4f5bc_level0_col1\" class=\"col_heading level0 col1\" >col2</th>\n",
       "      <th id=\"T_4f5bc_level0_col2\" class=\"col_heading level0 col2\" >col4</th>\n",
       "    </tr>\n",
       "  </thead>\n",
       "  <tbody>\n",
       "    <tr>\n",
       "      <th id=\"T_4f5bc_level0_row0\" class=\"row_heading level0 row0\" >strings</th>\n",
       "      <td id=\"T_4f5bc_row0_col0\" class=\"data row0 col0\" >18.18%</td>\n",
       "      <td id=\"T_4f5bc_row0_col1\" class=\"data row0 col1\" >90.91%</td>\n",
       "      <td id=\"T_4f5bc_row0_col2\" class=\"data row0 col2\" >9.09%</td>\n",
       "    </tr>\n",
       "    <tr>\n",
       "      <th id=\"T_4f5bc_level0_row1\" class=\"row_heading level0 row1\" >numbers</th>\n",
       "      <td id=\"T_4f5bc_row1_col0\" class=\"data row1 col0\" >81.82%</td>\n",
       "      <td id=\"T_4f5bc_row1_col1\" class=\"data row1 col1\" >9.09%</td>\n",
       "      <td id=\"T_4f5bc_row1_col2\" class=\"data row1 col2\" >90.91%</td>\n",
       "    </tr>\n",
       "  </tbody>\n",
       "</table>\n"
      ]
     },
     "metadata": {},
     "output_type": "display_data"
    }
   ],
   "source": [
    "data = {'col1': ['str', '1.0', 1, 2 , 2.61 , 't', 1, 1, 1,1,1], 'col2':['', '', '1.0', 'a', 'b', 'c', 'a', 'a', 'a', 'a','a'],\n",
    "        'col3': [1,2,3,4,5,6,7,8, 9,10,11], 'col4': [1,2,3,4,5, 6, 7,8,'a',10,12]}\n",
    "dataframe = pd.DataFrame(data=data)\n",
    "MixedDataTypes().add_condition_rare_type_ratio_not_in_range().run(dataframe)"
   ]
  }
 ],
 "metadata": {
  "kernelspec": {
   "display_name": "Python 3 (ipykernel)",
   "language": "python",
   "name": "python3"
  },
  "language_info": {
   "codemirror_mode": {
    "name": "ipython",
    "version": 3
   },
   "file_extension": ".py",
   "mimetype": "text/x-python",
   "name": "python",
   "nbconvert_exporter": "python",
   "pygments_lexer": "ipython3",
   "version": "3.9.0"
  }
 },
 "nbformat": 4,
 "nbformat_minor": 5
}
