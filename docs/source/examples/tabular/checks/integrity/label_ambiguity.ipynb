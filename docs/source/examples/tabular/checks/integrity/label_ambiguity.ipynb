{
 "cells": [
  {
   "cell_type": "markdown",
   "id": "06bdcdfc",
   "metadata": {},
   "source": [
    "# Label Ambiguity \n",
    "This notebooks provides an overview for using and understanding the label ambiguity check.\n",
    "\n",
    "**Structure:**\n",
    "\n",
    "- [What is Label Ambiguity?](#what_is_label_ambiguity)\n",
    "- [Load data](#load_data_model)\n",
    "- [Run the check](#run_check)\n",
    "- [Define a condition](#define_condition)\n"
   ]
  },
  {
   "cell_type": "code",
   "execution_count": 1,
   "id": "9ff805f0",
   "metadata": {
    "execution": {
     "iopub.execute_input": "2022-02-17T00:56:27.593560Z",
     "iopub.status.busy": "2022-02-17T00:56:27.592887Z",
     "iopub.status.idle": "2022-02-17T00:56:29.370613Z",
     "shell.execute_reply": "2022-02-17T00:56:29.369798Z"
    }
   },
   "outputs": [],
   "source": [
    "from deepchecks.tabular.checks.integrity import LabelAmbiguity\n",
    "from deepchecks.tabular.base import Dataset\n",
    "import pandas as pd"
   ]
  },
  {
   "cell_type": "markdown",
   "id": "a469ddae",
   "metadata": {},
   "source": [
    "<a id='what_is_label_ambiguity'></a>\n",
    "## What is Label Ambiguity?\n",
    "\n",
    "Label Ambiguity searches for identical samples with different labels. This can occur due to either mislabeled data, or when the data collected is missing features necessary to separate the labels. If the data is mislabled, it can confuse the model and can result in lower performance of the model."
   ]
  },
  {
   "cell_type": "markdown",
   "id": "e3e1979f",
   "metadata": {},
   "source": [
    "<a id='load_data_model'></a>\n",
    "## Load Data\n"
   ]
  },
  {
   "cell_type": "code",
   "execution_count": 2,
   "id": "4cb1f4da",
   "metadata": {
    "execution": {
     "iopub.execute_input": "2022-02-17T00:56:29.374739Z",
     "iopub.status.busy": "2022-02-17T00:56:29.374403Z",
     "iopub.status.idle": "2022-02-17T00:56:31.664909Z",
     "shell.execute_reply": "2022-02-17T00:56:31.664172Z"
    }
   },
   "outputs": [
    {
     "name": "stderr",
     "output_type": "stream",
     "text": [
      "Automatically inferred these columns as categorical features: numParams, num_%20, num_@. \n",
      "\n"
     ]
    }
   ],
   "source": [
    "from deepchecks.tabular.datasets.classification.phishing import load_data\n",
    "\n",
    "phishing_dataframe = load_data(as_train_test=False, data_format='Dataframe')\n",
    "phishing_dataset = Dataset(phishing_dataframe, label='target', features=['urlLength', 'numDigits', 'numParams', 'num_%20', 'num_@', 'bodyLength', 'numTitles', 'numImages', 'numLinks', 'specialChars'])"
   ]
  },
  {
   "cell_type": "markdown",
   "id": "ab6cc03c",
   "metadata": {},
   "source": [
    "<a id='run_check'></a>\n",
    "\n",
    "## Run the check"
   ]
  },
  {
   "cell_type": "code",
   "execution_count": 3,
   "id": "f5d3c08a",
   "metadata": {
    "execution": {
     "iopub.execute_input": "2022-02-17T00:56:31.669424Z",
     "iopub.status.busy": "2022-02-17T00:56:31.668954Z",
     "iopub.status.idle": "2022-02-17T00:56:32.562800Z",
     "shell.execute_reply": "2022-02-17T00:56:32.562194Z"
    }
   },
   "outputs": [
    {
     "data": {
      "text/html": [
       "<h4>Label Ambiguity</h4><p>Find samples with multiple labels. <a href=\"https://docs.deepchecks.com/en/0.5.0.dev0/examples/checks/tabular/integrity/label_ambiguity.html?utm_source=display_output&utm_medium=referral&utm_campaign=check_link\" target=\"_blank\">Read More...</a></p><h5>Additional Outputs</h5><div>Each row in the table shows an example of a data sample and the its observed labels as found in the dataset. Showing top 5 of 17</div><table border=\"1\" class=\"dataframe\">\n",
       "  <thead>\n",
       "    <tr style=\"text-align: right;\">\n",
       "      <th></th>\n",
       "      <th>urlLength</th>\n",
       "      <th>numDigits</th>\n",
       "      <th>numParams</th>\n",
       "      <th>num_%20</th>\n",
       "      <th>num_@</th>\n",
       "      <th>bodyLength</th>\n",
       "      <th>numTitles</th>\n",
       "      <th>numImages</th>\n",
       "      <th>numLinks</th>\n",
       "      <th>specialChars</th>\n",
       "    </tr>\n",
       "    <tr>\n",
       "      <th>Observed Labels</th>\n",
       "      <th></th>\n",
       "      <th></th>\n",
       "      <th></th>\n",
       "      <th></th>\n",
       "      <th></th>\n",
       "      <th></th>\n",
       "      <th></th>\n",
       "      <th></th>\n",
       "      <th></th>\n",
       "      <th></th>\n",
       "    </tr>\n",
       "  </thead>\n",
       "  <tbody>\n",
       "    <tr>\n",
       "      <th>(0, 1)</th>\n",
       "      <td>81</td>\n",
       "      <td>6</td>\n",
       "      <td>0</td>\n",
       "      <td>0</td>\n",
       "      <td>0</td>\n",
       "      <td>0</td>\n",
       "      <td>0</td>\n",
       "      <td>0</td>\n",
       "      <td>0</td>\n",
       "      <td>0</td>\n",
       "    </tr>\n",
       "    <tr>\n",
       "      <th>(0, 1)</th>\n",
       "      <td>82</td>\n",
       "      <td>2</td>\n",
       "      <td>0</td>\n",
       "      <td>0</td>\n",
       "      <td>0</td>\n",
       "      <td>0</td>\n",
       "      <td>0</td>\n",
       "      <td>0</td>\n",
       "      <td>0</td>\n",
       "      <td>0</td>\n",
       "    </tr>\n",
       "    <tr>\n",
       "      <th>(0, 1)</th>\n",
       "      <td>85</td>\n",
       "      <td>0</td>\n",
       "      <td>0</td>\n",
       "      <td>0</td>\n",
       "      <td>0</td>\n",
       "      <td>0</td>\n",
       "      <td>0</td>\n",
       "      <td>0</td>\n",
       "      <td>0</td>\n",
       "      <td>0</td>\n",
       "    </tr>\n",
       "    <tr>\n",
       "      <th>(0, 1)</th>\n",
       "      <td>85</td>\n",
       "      <td>20</td>\n",
       "      <td>0</td>\n",
       "      <td>0</td>\n",
       "      <td>0</td>\n",
       "      <td>0</td>\n",
       "      <td>0</td>\n",
       "      <td>0</td>\n",
       "      <td>0</td>\n",
       "      <td>0</td>\n",
       "    </tr>\n",
       "    <tr>\n",
       "      <th>(0, 1)</th>\n",
       "      <td>88</td>\n",
       "      <td>0</td>\n",
       "      <td>0</td>\n",
       "      <td>0</td>\n",
       "      <td>0</td>\n",
       "      <td>0</td>\n",
       "      <td>0</td>\n",
       "      <td>0</td>\n",
       "      <td>0</td>\n",
       "      <td>0</td>\n",
       "    </tr>\n",
       "  </tbody>\n",
       "</table>"
      ]
     },
     "metadata": {},
     "output_type": "display_data"
    }
   ],
   "source": [
    "LabelAmbiguity().run(phishing_dataset)"
   ]
  },
  {
   "cell_type": "markdown",
   "id": "0dc05f00",
   "metadata": {},
   "source": [
    "We can also check label ambiguity on a subset of the features:"
   ]
  },
  {
   "cell_type": "code",
   "execution_count": 4,
   "id": "b01ae6c9",
   "metadata": {
    "execution": {
     "iopub.execute_input": "2022-02-17T00:56:32.566022Z",
     "iopub.status.busy": "2022-02-17T00:56:32.565694Z",
     "iopub.status.idle": "2022-02-17T00:56:33.168121Z",
     "shell.execute_reply": "2022-02-17T00:56:33.167349Z"
    }
   },
   "outputs": [
    {
     "data": {
      "text/html": [
       "<h4>Label Ambiguity</h4><p>Find samples with multiple labels. <a href=\"https://docs.deepchecks.com/en/0.5.0.dev0/examples/checks/tabular/integrity/label_ambiguity.html?utm_source=display_output&utm_medium=referral&utm_campaign=check_link\" target=\"_blank\">Read More...</a></p><h5>Additional Outputs</h5><div>Each row in the table shows an example of a data sample and the its observed labels as found in the dataset. Showing top 1 of 17</div><style type=\"text/css\">\n",
       "#T_cbd3b table {\n",
       "  text-align: left;\n",
       "  white-space: pre-wrap;\n",
       "}\n",
       "#T_cbd3b thead {\n",
       "  text-align: left;\n",
       "  white-space: pre-wrap;\n",
       "}\n",
       "#T_cbd3b tbody {\n",
       "  text-align: left;\n",
       "  white-space: pre-wrap;\n",
       "}\n",
       "#T_cbd3b th {\n",
       "  text-align: left;\n",
       "  white-space: pre-wrap;\n",
       "}\n",
       "#T_cbd3b td {\n",
       "  text-align: left;\n",
       "  white-space: pre-wrap;\n",
       "}\n",
       "</style>\n",
       "<table id=\"T_cbd3b\">\n",
       "  <thead>\n",
       "    <tr>\n",
       "      <th class=\"blank level0\" >&nbsp;</th>\n",
       "      <th id=\"T_cbd3b_level0_col0\" class=\"col_heading level0 col0\" >urlLength</th>\n",
       "      <th id=\"T_cbd3b_level0_col1\" class=\"col_heading level0 col1\" >numDigits</th>\n",
       "      <th id=\"T_cbd3b_level0_col2\" class=\"col_heading level0 col2\" >numParams</th>\n",
       "      <th id=\"T_cbd3b_level0_col3\" class=\"col_heading level0 col3\" >num_%20</th>\n",
       "      <th id=\"T_cbd3b_level0_col4\" class=\"col_heading level0 col4\" >num_@</th>\n",
       "      <th id=\"T_cbd3b_level0_col5\" class=\"col_heading level0 col5\" >bodyLength</th>\n",
       "      <th id=\"T_cbd3b_level0_col6\" class=\"col_heading level0 col6\" >numTitles</th>\n",
       "      <th id=\"T_cbd3b_level0_col7\" class=\"col_heading level0 col7\" >numImages</th>\n",
       "      <th id=\"T_cbd3b_level0_col8\" class=\"col_heading level0 col8\" >numLinks</th>\n",
       "      <th id=\"T_cbd3b_level0_col9\" class=\"col_heading level0 col9\" >specialChars</th>\n",
       "    </tr>\n",
       "    <tr>\n",
       "      <th class=\"index_name level0\" >Observed Labels</th>\n",
       "      <th class=\"blank col0\" >&nbsp;</th>\n",
       "      <th class=\"blank col1\" >&nbsp;</th>\n",
       "      <th class=\"blank col2\" >&nbsp;</th>\n",
       "      <th class=\"blank col3\" >&nbsp;</th>\n",
       "      <th class=\"blank col4\" >&nbsp;</th>\n",
       "      <th class=\"blank col5\" >&nbsp;</th>\n",
       "      <th class=\"blank col6\" >&nbsp;</th>\n",
       "      <th class=\"blank col7\" >&nbsp;</th>\n",
       "      <th class=\"blank col8\" >&nbsp;</th>\n",
       "      <th class=\"blank col9\" >&nbsp;</th>\n",
       "    </tr>\n",
       "  </thead>\n",
       "  <tbody>\n",
       "    <tr>\n",
       "      <th id=\"T_cbd3b_level0_row0\" class=\"row_heading level0 row0\" >(0, 1)</th>\n",
       "      <td id=\"T_cbd3b_row0_col0\" class=\"data row0 col0\" >81</td>\n",
       "      <td id=\"T_cbd3b_row0_col1\" class=\"data row0 col1\" >6</td>\n",
       "      <td id=\"T_cbd3b_row0_col2\" class=\"data row0 col2\" >0</td>\n",
       "      <td id=\"T_cbd3b_row0_col3\" class=\"data row0 col3\" >0</td>\n",
       "      <td id=\"T_cbd3b_row0_col4\" class=\"data row0 col4\" >0</td>\n",
       "      <td id=\"T_cbd3b_row0_col5\" class=\"data row0 col5\" >0</td>\n",
       "      <td id=\"T_cbd3b_row0_col6\" class=\"data row0 col6\" >0</td>\n",
       "      <td id=\"T_cbd3b_row0_col7\" class=\"data row0 col7\" >0</td>\n",
       "      <td id=\"T_cbd3b_row0_col8\" class=\"data row0 col8\" >0</td>\n",
       "      <td id=\"T_cbd3b_row0_col9\" class=\"data row0 col9\" >0</td>\n",
       "    </tr>\n",
       "  </tbody>\n",
       "</table>\n"
      ]
     },
     "metadata": {},
     "output_type": "display_data"
    }
   ],
   "source": [
    "LabelAmbiguity(n_to_show=1).run(phishing_dataset)"
   ]
  },
  {
   "cell_type": "code",
   "execution_count": 5,
   "id": "7b794ad8",
   "metadata": {
    "execution": {
     "iopub.execute_input": "2022-02-17T00:56:33.171740Z",
     "iopub.status.busy": "2022-02-17T00:56:33.171188Z",
     "iopub.status.idle": "2022-02-17T00:56:33.382904Z",
     "shell.execute_reply": "2022-02-17T00:56:33.382059Z"
    }
   },
   "outputs": [
    {
     "data": {
      "text/html": [
       "<h4>Label Ambiguity</h4><p>Find samples with multiple labels. <a href=\"https://docs.deepchecks.com/en/0.5.0.dev0/examples/checks/tabular/integrity/label_ambiguity.html?utm_source=display_output&utm_medium=referral&utm_campaign=check_link\" target=\"_blank\">Read More...</a></p><h5>Additional Outputs</h5><div>Each row in the table shows an example of a data sample and the its observed labels as found in the dataset. Showing top 5 of 78</div><table border=\"1\" class=\"dataframe\">\n",
       "  <thead>\n",
       "    <tr style=\"text-align: right;\">\n",
       "      <th></th>\n",
       "      <th>urlLength</th>\n",
       "      <th>numDigits</th>\n",
       "    </tr>\n",
       "    <tr>\n",
       "      <th>Observed Labels</th>\n",
       "      <th></th>\n",
       "      <th></th>\n",
       "    </tr>\n",
       "  </thead>\n",
       "  <tbody>\n",
       "    <tr>\n",
       "      <th>(0, 1)</th>\n",
       "      <td>81</td>\n",
       "      <td>0</td>\n",
       "    </tr>\n",
       "    <tr>\n",
       "      <th>(0, 1)</th>\n",
       "      <td>81</td>\n",
       "      <td>6</td>\n",
       "    </tr>\n",
       "    <tr>\n",
       "      <th>(0, 1)</th>\n",
       "      <td>82</td>\n",
       "      <td>2</td>\n",
       "    </tr>\n",
       "    <tr>\n",
       "      <th>(0, 1)</th>\n",
       "      <td>84</td>\n",
       "      <td>2</td>\n",
       "    </tr>\n",
       "    <tr>\n",
       "      <th>(0, 1)</th>\n",
       "      <td>85</td>\n",
       "      <td>0</td>\n",
       "    </tr>\n",
       "  </tbody>\n",
       "</table>"
      ]
     },
     "metadata": {},
     "output_type": "display_data"
    }
   ],
   "source": [
    "LabelAmbiguity(columns=['urlLength', 'numDigits']).run(phishing_dataset)"
   ]
  },
  {
   "cell_type": "markdown",
   "id": "a3a46a42",
   "metadata": {
    "execution": {
     "iopub.execute_input": "2022-01-26T12:57:33.723080Z",
     "iopub.status.busy": "2022-01-26T12:57:33.722078Z",
     "iopub.status.idle": "2022-01-26T12:57:33.724272Z",
     "shell.execute_reply": "2022-01-26T12:57:33.725070Z"
    }
   },
   "source": [
    "<a id='define_condition'></a>\n",
    "\n",
    "## Define a condition\n",
    "\n",
    "Now, we define a condition that enforces that the ratio of ambiguous samples should be 0. A condition is deepchecks' way to validate model and data quality, and let you know if anything goes wrong."
   ]
  },
  {
   "cell_type": "code",
   "execution_count": 6,
   "id": "aa5f06ee",
   "metadata": {
    "execution": {
     "iopub.execute_input": "2022-02-17T00:56:33.386238Z",
     "iopub.status.busy": "2022-02-17T00:56:33.385692Z",
     "iopub.status.idle": "2022-02-17T00:56:34.012094Z",
     "shell.execute_reply": "2022-02-17T00:56:34.011327Z"
    },
    "tags": []
   },
   "outputs": [
    {
     "data": {
      "text/html": [
       "<h4>Label Ambiguity</h4><p>Find samples with multiple labels. <a href=\"https://docs.deepchecks.com/en/0.5.0.dev0/examples/checks/tabular/integrity/label_ambiguity.html?utm_source=display_output&utm_medium=referral&utm_campaign=check_link\" target=\"_blank\">Read More...</a></p><h5>Conditions Summary</h5><style type=\"text/css\">\n",
       "#T_fa543 table {\n",
       "  text-align: left;\n",
       "  white-space: pre-wrap;\n",
       "}\n",
       "#T_fa543 thead {\n",
       "  text-align: left;\n",
       "  white-space: pre-wrap;\n",
       "}\n",
       "#T_fa543 tbody {\n",
       "  text-align: left;\n",
       "  white-space: pre-wrap;\n",
       "}\n",
       "#T_fa543 th {\n",
       "  text-align: left;\n",
       "  white-space: pre-wrap;\n",
       "}\n",
       "#T_fa543 td {\n",
       "  text-align: left;\n",
       "  white-space: pre-wrap;\n",
       "}\n",
       "</style>\n",
       "<table id=\"T_fa543\">\n",
       "  <thead>\n",
       "    <tr>\n",
       "      <th id=\"T_fa543_level0_col0\" class=\"col_heading level0 col0\" >Status</th>\n",
       "      <th id=\"T_fa543_level0_col1\" class=\"col_heading level0 col1\" >Condition</th>\n",
       "      <th id=\"T_fa543_level0_col2\" class=\"col_heading level0 col2\" >More Info</th>\n",
       "    </tr>\n",
       "  </thead>\n",
       "  <tbody>\n",
       "    <tr>\n",
       "      <td id=\"T_fa543_row0_col0\" class=\"data row0 col0\" ><div style=\"color: red;text-align: center\">✖</div></td>\n",
       "      <td id=\"T_fa543_row0_col1\" class=\"data row0 col1\" >Ambiguous sample ratio is not greater than 0%</td>\n",
       "      <td id=\"T_fa543_row0_col2\" class=\"data row0 col2\" >Found ratio of samples with multiple labels above threshold: 0.6%</td>\n",
       "    </tr>\n",
       "  </tbody>\n",
       "</table>\n"
      ]
     },
     "metadata": {},
     "output_type": "display_data"
    }
   ],
   "source": [
    "check = LabelAmbiguity()\n",
    "check.add_condition_ambiguous_sample_ratio_not_greater_than(0)\n",
    "result = check.run(phishing_dataset)\n",
    "result.show(show_additional_outputs=False)"
   ]
  }
 ],
 "metadata": {
  "kernelspec": {
   "display_name": "Python 3 (ipykernel)",
   "language": "python",
   "name": "python3"
  },
  "language_info": {
   "codemirror_mode": {
    "name": "ipython",
    "version": 3
   },
   "file_extension": ".py",
   "mimetype": "text/x-python",
   "name": "python",
   "nbconvert_exporter": "python",
   "pygments_lexer": "ipython3",
   "version": "3.9.10"
  }
 },
 "nbformat": 4,
 "nbformat_minor": 5
}
