{
 "cells": [
  {
   "cell_type": "markdown",
   "id": "65a2adc9",
   "metadata": {},
   "source": [
    "# String Mismatch "
   ]
  },
  {
   "cell_type": "code",
   "execution_count": 1,
   "id": "20e5a3dd",
   "metadata": {
    "execution": {
     "iopub.execute_input": "2022-02-21T01:05:00.987144Z",
     "iopub.status.busy": "2022-02-21T01:05:00.986906Z",
     "iopub.status.idle": "2022-02-21T01:05:02.926804Z",
     "shell.execute_reply": "2022-02-21T01:05:02.926022Z"
    }
   },
   "outputs": [],
   "source": [
    "from deepchecks.tabular.checks import StringMismatch\n",
    "import pandas as pd\n",
    "\n",
    "data = {'col1': ['Deep', 'deep', 'deep!!!', '$deeP$', 'earth', 'foo', 'bar', 'foo?']}\n",
    "df = pd.DataFrame(data=data)\n",
    "r = StringMismatch().run(df)"
   ]
  },
  {
   "cell_type": "code",
   "execution_count": 2,
   "id": "9a17efde",
   "metadata": {
    "execution": {
     "iopub.execute_input": "2022-02-21T01:05:02.931795Z",
     "iopub.status.busy": "2022-02-21T01:05:02.931178Z",
     "iopub.status.idle": "2022-02-21T01:05:02.939211Z",
     "shell.execute_reply": "2022-02-21T01:05:02.938576Z"
    }
   },
   "outputs": [
    {
     "data": {
      "text/plain": [
       "[{'is_pass': False, 'details': \"Found columns with amount of variants above threshold: {'col1': ['deep', 'foo']}\", 'category': <ConditionCategory.WARN: 'WARN'>, 'name': 'No string variants'}]"
      ]
     },
     "execution_count": 2,
     "metadata": {},
     "output_type": "execute_result"
    }
   ],
   "source": [
    "c  = StringMismatch().add_condition_no_variants()\n",
    "c.conditions_decision(r)"
   ]
  }
 ],
 "metadata": {
  "kernelspec": {
   "display_name": "Python 3 (ipykernel)",
   "language": "python",
   "name": "python3"
  },
  "language_info": {
   "codemirror_mode": {
    "name": "ipython",
    "version": 3
   },
   "file_extension": ".py",
   "mimetype": "text/x-python",
   "name": "python",
   "nbconvert_exporter": "python",
   "pygments_lexer": "ipython3",
   "version": "3.9.10"
  }
 },
 "nbformat": 4,
 "nbformat_minor": 5
}
