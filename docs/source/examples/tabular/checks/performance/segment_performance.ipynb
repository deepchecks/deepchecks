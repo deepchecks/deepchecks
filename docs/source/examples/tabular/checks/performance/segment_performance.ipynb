version https://git-lfs.github.com/spec/v1
oid sha256:5c1e25146486cd9a5c50fb24d01cfa2bd71d818b60ec13d722df2e060f17cdae
size 3815805
