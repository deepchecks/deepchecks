version https://git-lfs.github.com/spec/v1
oid sha256:242852711e50eb21cb84db62e16053a569aa76997a7e86f2d3785b8c00ff8188
size 3797861
