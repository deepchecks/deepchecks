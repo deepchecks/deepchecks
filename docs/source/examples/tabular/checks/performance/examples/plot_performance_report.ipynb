{
  "cells": [
    {
      "cell_type": "code",
      "execution_count": null,
      "metadata": {
        "collapsed": false
      },
      "outputs": [],
      "source": [
        "%matplotlib inline"
      ]
    },
    {
      "cell_type": "markdown",
      "metadata": {},
      "source": [
        "Performance Report\n==================\n"
      ]
    },
    {
      "cell_type": "markdown",
      "metadata": {},
      "source": [
        "Imports\n=======\n"
      ]
    },
    {
      "cell_type": "code",
      "execution_count": null,
      "metadata": {
        "collapsed": false
      },
      "outputs": [],
      "source": [
        "from deepchecks.tabular import Dataset\nimport matplotlib.pyplot as plt\nfrom sklearn.ensemble import AdaBoostClassifier, AdaBoostRegressor\nfrom sklearn.datasets import load_iris\nimport pandas as pd\nfrom sklearn.model_selection import train_test_split\nfrom deepchecks.tabular.checks.performance import PerformanceReport"
      ]
    },
    {
      "cell_type": "markdown",
      "metadata": {},
      "source": [
        "Generating data\n===============\n"
      ]
    },
    {
      "cell_type": "code",
      "execution_count": null,
      "metadata": {
        "collapsed": false
      },
      "outputs": [],
      "source": [
        "iris = load_iris(as_frame=True)\nclf = AdaBoostClassifier()\nframe = iris.frame\nX = iris.data\nY = iris.target\nX_train, X_test, y_train, y_test = train_test_split(\n            X, Y, test_size=0.33, random_state=42)\ntrain_ds = Dataset(pd.concat([X_train, y_train], axis=1), \n            features=iris.feature_names,\n            label='target')\ntest_ds = Dataset(pd.concat([X_test, y_test], axis=1), \n            features=iris.feature_names,\n            label='target')\n_ = clf.fit(X_train, y_train)"
      ]
    },
    {
      "cell_type": "markdown",
      "metadata": {},
      "source": [
        "Running peformance report on classification\n===========================================\n"
      ]
    },
    {
      "cell_type": "code",
      "execution_count": null,
      "metadata": {
        "collapsed": false
      },
      "outputs": [],
      "source": [
        "check = PerformanceReport()\ncheck.run(train_ds, test_ds, clf)"
      ]
    },
    {
      "cell_type": "markdown",
      "metadata": {},
      "source": [
        "Generate regression data\n========================\n"
      ]
    },
    {
      "cell_type": "code",
      "execution_count": null,
      "metadata": {
        "collapsed": false
      },
      "outputs": [],
      "source": [
        "from sklearn.datasets import load_diabetes\n\ndiabetes = load_diabetes(as_frame=True)\nclf = AdaBoostRegressor()\n\nframe = diabetes.frame\nX = diabetes.data\nY = diabetes.target\nX_train, X_test, y_train, y_test = train_test_split(\n            X, Y, test_size=0.33, random_state=42)\ntrain_ds = Dataset(pd.concat([X_train, y_train], axis=1), \n            features=diabetes.feature_names,\n            label='target', cat_features=['sex'])\ntest_ds = Dataset(pd.concat([X_test, y_test], axis=1), \n            features=diabetes.feature_names,\n            label='target', cat_features=['sex'])\n_ = clf.fit(X_train, y_train)"
      ]
    },
    {
      "cell_type": "markdown",
      "metadata": {},
      "source": [
        "Run performance report on regression\n====================================\n"
      ]
    },
    {
      "cell_type": "code",
      "execution_count": null,
      "metadata": {
        "collapsed": false
      },
      "outputs": [],
      "source": [
        "check = PerformanceReport()\ncheck.run(train_ds, test_ds, clf)"
      ]
    }
  ],
  "metadata": {
    "kernelspec": {
      "display_name": "Python 3",
      "language": "python",
      "name": "python3"
    },
    "language_info": {
      "codemirror_mode": {
        "name": "ipython",
        "version": 3
      },
      "file_extension": ".py",
      "mimetype": "text/x-python",
      "name": "python",
      "nbconvert_exporter": "python",
      "pygments_lexer": "ipython3",
      "version": "3.8.10"
    }
  },
  "nbformat": 4,
  "nbformat_minor": 0
}