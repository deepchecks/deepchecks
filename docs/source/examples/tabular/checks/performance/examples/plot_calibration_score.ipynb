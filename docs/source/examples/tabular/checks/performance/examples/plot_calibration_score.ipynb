{
  "cells": [
    {
      "cell_type": "code",
      "execution_count": null,
      "metadata": {
        "collapsed": false
      },
      "outputs": [],
      "source": [
        "%matplotlib inline"
      ]
    },
    {
      "cell_type": "markdown",
      "metadata": {},
      "source": [
        "Calibration Score\n=================\n"
      ]
    },
    {
      "cell_type": "code",
      "execution_count": null,
      "metadata": {
        "collapsed": false
      },
      "outputs": [],
      "source": [
        "from deepchecks.tabular.checks import CalibrationScore\nfrom deepchecks.tabular import Dataset\nfrom sklearn.linear_model import LogisticRegression\nfrom sklearn.datasets import load_iris\nfrom sklearn.model_selection import train_test_split\nimport pandas as pd\nimport warnings\n\ndef custom_formatwarning(msg, *args, **kwargs):\n    # ignore everything except the message\n    return str(msg) + '\\n'\n\nwarnings.formatwarning = custom_formatwarning"
      ]
    },
    {
      "cell_type": "markdown",
      "metadata": {},
      "source": [
        "Binary Classification\n=====================\n\nLoad data\n---------\n\nThe dataset is the adult dataset which can be downloaded from the UCI\nmachine learning repository.\n\nDua, D. and Graff, C. (2019). UCI Machine Learning Repository\n\\[<http://archive.ics.uci.edu/ml>\\]. Irvine, CA: University of\nCalifornia, School of Information and Computer Science.\n"
      ]
    },
    {
      "cell_type": "code",
      "execution_count": null,
      "metadata": {
        "collapsed": false
      },
      "outputs": [],
      "source": [
        "from urllib.request import urlopen\nfrom sklearn.preprocessing import LabelEncoder\n\nname_data = urlopen('http://archive.ics.uci.edu/ml/machine-learning-databases/adult/adult.names')\nlines = [l.decode(\"utf-8\") for l in name_data if ':' in l.decode(\"utf-8\") and '|' not in l.decode(\"utf-8\")]\n\nfeatures = [l.split(':')[0] for l in lines]\nlabel_name = 'income'\n\ncat_features = [l.split(':')[0] for l in lines if 'continuous' not in l]\n\ntrain_df = pd.read_csv('http://archive.ics.uci.edu/ml/machine-learning-databases/adult/adult.data',\n                       names=features + [label_name])\ntest_df = pd.read_csv('http://archive.ics.uci.edu/ml/machine-learning-databases/adult/adult.test',\n                      names=features + [label_name], skiprows=1)\n\ntest_df[label_name] = test_df [label_name].str[:-1]\n\nencoder = LabelEncoder()\nencoder.fit(train_df[label_name])\ntrain_df[label_name] = encoder.transform(train_df[label_name])\ntest_df[label_name] = encoder.transform(test_df[label_name])"
      ]
    },
    {
      "cell_type": "code",
      "execution_count": null,
      "metadata": {
        "collapsed": false
      },
      "outputs": [],
      "source": [
        "from deepchecks.tabular import Dataset\n\ncat_features = ['workclass', 'education', 'marital-status', 'occupation', 'relationship', \n                'race', 'sex', 'native-country']\ntrain_ds = Dataset(train_df, label=label_name, cat_features=cat_features)\ntest_ds = Dataset(test_df, label=label_name, cat_features=cat_features)\n\nnumeric_features = list(set(train_ds.features) - set(cat_features))"
      ]
    },
    {
      "cell_type": "code",
      "execution_count": null,
      "metadata": {
        "collapsed": false
      },
      "outputs": [],
      "source": [
        "from sklearn.pipeline import Pipeline\nfrom sklearn.impute import SimpleImputer\nfrom sklearn.compose import ColumnTransformer\nfrom sklearn.preprocessing import OrdinalEncoder\nfrom sklearn.ensemble import RandomForestClassifier\n\nnumeric_transformer = SimpleImputer()\ncategorical_transformer = Pipeline(\n    steps=[(\"imputer\", SimpleImputer(strategy=\"most_frequent\")), (\"encoder\", OrdinalEncoder())]\n)\n\ntrain_ds.features\npreprocessor = ColumnTransformer(\n    transformers=[\n        (\"num\", numeric_transformer, numeric_features),\n        (\"cat\", categorical_transformer, cat_features),\n    ]\n)\n\nmodel = Pipeline(steps=[(\"preprocessing\", preprocessor), (\"model\", RandomForestClassifier(max_depth=5, n_jobs=-1))])\nmodel = model.fit(train_ds.data[train_ds.features], train_ds.data[train_ds.label_name])"
      ]
    },
    {
      "cell_type": "code",
      "execution_count": null,
      "metadata": {
        "collapsed": false
      },
      "outputs": [],
      "source": [
        "check = CalibrationScore()\ncheck.run(test_ds, model)"
      ]
    },
    {
      "cell_type": "markdown",
      "metadata": {},
      "source": [
        "Multi-class classification\n==========================\n"
      ]
    },
    {
      "cell_type": "code",
      "execution_count": null,
      "metadata": {
        "collapsed": false
      },
      "outputs": [],
      "source": [
        "iris = load_iris(as_frame=True)\nclf = LogisticRegression()\nframe = iris.frame\nX = iris.data\ny = iris.target\nX_train, X_test, y_train, y_test = train_test_split(X, y, test_size=0.5, random_state=55)\nclf.fit(X_train, y_train)\nds = Dataset(pd.concat([X_test, y_test], axis=1), \n            features=iris.feature_names,\n            label='target')"
      ]
    },
    {
      "cell_type": "code",
      "execution_count": null,
      "metadata": {
        "collapsed": false
      },
      "outputs": [],
      "source": [
        "check = CalibrationScore()\ncheck.run(ds, clf)"
      ]
    }
  ],
  "metadata": {
    "kernelspec": {
      "display_name": "Python 3",
      "language": "python",
      "name": "python3"
    },
    "language_info": {
      "codemirror_mode": {
        "name": "ipython",
        "version": 3
      },
      "file_extension": ".py",
      "mimetype": "text/x-python",
      "name": "python",
      "nbconvert_exporter": "python",
      "pygments_lexer": "ipython3",
      "version": "3.8.10"
    }
  },
  "nbformat": 4,
  "nbformat_minor": 0
}