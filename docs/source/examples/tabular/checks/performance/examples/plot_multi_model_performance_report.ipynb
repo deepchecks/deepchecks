{
  "cells": [
    {
      "cell_type": "code",
      "execution_count": null,
      "metadata": {
        "collapsed": false
      },
      "outputs": [],
      "source": [
        "%matplotlib inline"
      ]
    },
    {
      "cell_type": "markdown",
      "metadata": {},
      "source": [
        "Multi Model Performance Report\n==============================\n"
      ]
    },
    {
      "cell_type": "markdown",
      "metadata": {},
      "source": [
        "Multiclass\n==========\n"
      ]
    },
    {
      "cell_type": "code",
      "execution_count": null,
      "metadata": {
        "collapsed": false
      },
      "outputs": [],
      "source": [
        "from deepchecks.tabular import Dataset\nfrom sklearn.ensemble import AdaBoostClassifier, RandomForestClassifier\nfrom sklearn.tree import DecisionTreeClassifier\nfrom sklearn.datasets import load_iris\nfrom sklearn.model_selection import train_test_split\nfrom deepchecks.tabular.checks.performance import MultiModelPerformanceReport"
      ]
    },
    {
      "cell_type": "code",
      "execution_count": null,
      "metadata": {
        "collapsed": false
      },
      "outputs": [],
      "source": [
        "iris = load_iris(as_frame=True)\ntrain, test = train_test_split(iris.frame, test_size=0.33, random_state=42)\n\ntrain_ds = Dataset(train, label=\"target\")\ntest_ds = Dataset(test, label=\"target\")\n\nfeatures = train_ds.data[train_ds.features]\nlabel = train_ds.data[train_ds.label_name]\nclf1 = AdaBoostClassifier().fit(features, label)\nclf2 = RandomForestClassifier().fit(features, label)\nclf3 = DecisionTreeClassifier().fit(features, label)"
      ]
    },
    {
      "cell_type": "code",
      "execution_count": null,
      "metadata": {
        "collapsed": false
      },
      "outputs": [],
      "source": [
        "MultiModelPerformanceReport().run(train_ds, test_ds, [clf1, clf2, clf3])"
      ]
    },
    {
      "cell_type": "markdown",
      "metadata": {},
      "source": [
        "Regression\n==========\n"
      ]
    },
    {
      "cell_type": "code",
      "execution_count": null,
      "metadata": {
        "collapsed": false
      },
      "outputs": [],
      "source": [
        "from sklearn.datasets import load_diabetes\nfrom sklearn.ensemble import AdaBoostRegressor, RandomForestRegressor\nfrom sklearn.tree import DecisionTreeRegressor"
      ]
    },
    {
      "cell_type": "code",
      "execution_count": null,
      "metadata": {
        "collapsed": false
      },
      "outputs": [],
      "source": [
        "diabetes = load_diabetes(as_frame=True)\ntrain, test = train_test_split(diabetes.frame, test_size=0.33, random_state=42)\n\ntrain_ds = Dataset(train, label=\"target\", cat_features=['sex'])\ntest_ds = Dataset(test, label=\"target\", cat_features=['sex'])\n\nfeatures = train_ds.data[train_ds.features]\nlabel = train_ds.data[train_ds.label_name]\nclf1 = AdaBoostRegressor().fit(features, label)\nclf2 = RandomForestRegressor().fit(features, label)\nclf3 = DecisionTreeRegressor().fit(features, label)"
      ]
    },
    {
      "cell_type": "code",
      "execution_count": null,
      "metadata": {
        "collapsed": false
      },
      "outputs": [],
      "source": [
        "MultiModelPerformanceReport().run(train_ds, test_ds, [clf1, clf2, clf3])"
      ]
    }
  ],
  "metadata": {
    "kernelspec": {
      "display_name": "Python 3",
      "language": "python",
      "name": "python3"
    },
    "language_info": {
      "codemirror_mode": {
        "name": "ipython",
        "version": 3
      },
      "file_extension": ".py",
      "mimetype": "text/x-python",
      "name": "python",
      "nbconvert_exporter": "python",
      "pygments_lexer": "ipython3",
      "version": "3.8.10"
    }
  },
  "nbformat": 4,
  "nbformat_minor": 0
}