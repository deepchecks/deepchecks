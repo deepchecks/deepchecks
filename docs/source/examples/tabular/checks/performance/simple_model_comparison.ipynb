version https://git-lfs.github.com/spec/v1
oid sha256:9d5b17040b1b873c73da54e850adc1a548f54ebe15287f75bf2fa03a4e2c03d9
size 3803774
