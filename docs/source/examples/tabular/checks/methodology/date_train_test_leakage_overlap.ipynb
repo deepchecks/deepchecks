{
 "cells": [
  {
   "cell_type": "markdown",
   "id": "c46b265f",
   "metadata": {},
   "source": [
    "# Date Train Validation Leakage Overlap "
   ]
  },
  {
   "cell_type": "code",
   "execution_count": 1,
   "id": "7a16525a",
   "metadata": {
    "execution": {
     "iopub.execute_input": "2022-02-21T11:55:56.609242Z",
     "iopub.status.busy": "2022-02-21T11:55:56.608871Z",
     "iopub.status.idle": "2022-02-21T11:55:58.189274Z",
     "shell.execute_reply": "2022-02-21T11:55:58.188181Z"
    }
   },
   "outputs": [],
   "source": [
    "from deepchecks.tabular.checks.methodology import DateTrainTestLeakageOverlap\n",
    "from deepchecks.tabular.base import Dataset, Suite\n",
    "from datetime import datetime\n",
    "import pandas as pd\n",
    "\n",
    "def dataset_from_dict(d: dict, datetime_name: str = None) -> Dataset:\n",
    "    dataframe = pd.DataFrame(data=d)\n",
    "    return Dataset(dataframe, datetime_name=datetime_name)"
   ]
  },
  {
   "cell_type": "markdown",
   "id": "dbf03393",
   "metadata": {},
   "source": [
    "## Synthetic example dates before last training"
   ]
  },
  {
   "cell_type": "code",
   "execution_count": 2,
   "id": "16feea0d",
   "metadata": {
    "execution": {
     "iopub.execute_input": "2022-02-21T11:55:58.193299Z",
     "iopub.status.busy": "2022-02-21T11:55:58.193089Z",
     "iopub.status.idle": "2022-02-21T11:55:58.207103Z",
     "shell.execute_reply": "2022-02-21T11:55:58.206548Z"
    }
   },
   "outputs": [
    {
     "data": {
      "text/html": [
       "<h4>Date Train-Test Leakage (overlap)</h4><p>Check test data that is dated earlier than latest date in train. <a href=\"https://docs.deepchecks.com/en/0.5.0.dev0/examples/tabular/checks/methodology/date_train_test_leakage_overlap.html?utm_source=display_output&utm_medium=referral&utm_campaign=check_link\" target=\"_blank\">Read More...</a></p><h5>Additional Outputs</h5><div>11.11% of test data dates before last training data date (2021/10/05 00:00:00.000000 )</div>"
      ]
     },
     "metadata": {},
     "output_type": "display_data"
    }
   ],
   "source": [
    "train_ds = dataset_from_dict({'col1': [\n",
    "        datetime(2021, 10, 1, 0, 0),\n",
    "        datetime(2021, 10, 1, 0, 0),\n",
    "        datetime(2021, 10, 1, 0, 0),\n",
    "        datetime(2021, 10, 2, 0, 0),\n",
    "        datetime(2021, 10, 2, 0, 0),\n",
    "        datetime(2021, 10, 2, 0, 0),\n",
    "        datetime(2021, 10, 3, 0, 0),\n",
    "        datetime(2021, 10, 3, 0, 0),\n",
    "        datetime(2021, 10, 3, 0, 0),\n",
    "        datetime(2021, 10, 4, 0, 0),\n",
    "        datetime(2021, 10, 4, 0, 0),\n",
    "        datetime(2021, 10, 4, 0, 0),\n",
    "        datetime(2021, 10, 5, 0, 0),\n",
    "        datetime(2021, 10, 5, 0, 0)\n",
    "    ]}, 'col1')\n",
    "test_ds = dataset_from_dict({'col1': [\n",
    "        datetime(2021, 9, 4, 0, 0),\n",
    "        datetime(2021, 10, 6, 0, 0),\n",
    "        datetime(2021, 10, 6, 0, 0),\n",
    "        datetime(2021, 10, 7, 0, 0),\n",
    "        datetime(2021, 10, 7, 0, 0),\n",
    "        datetime(2021, 10, 8, 0, 0),\n",
    "        datetime(2021, 10, 8, 0, 0),\n",
    "        datetime(2021, 10, 9, 0, 0),\n",
    "        datetime(2021, 10, 9, 0, 0)\n",
    "    ]}, 'col1')\n",
    "\n",
    "DateTrainTestLeakageOverlap().run(train_dataset=train_ds, test_dataset=test_ds)"
   ]
  },
  {
   "cell_type": "markdown",
   "id": "c1da7840",
   "metadata": {},
   "source": [
    "## Synthetic example no date leakage"
   ]
  },
  {
   "cell_type": "code",
   "execution_count": 3,
   "id": "e1c5f401",
   "metadata": {
    "execution": {
     "iopub.execute_input": "2022-02-21T11:55:58.210530Z",
     "iopub.status.busy": "2022-02-21T11:55:58.210247Z",
     "iopub.status.idle": "2022-02-21T11:55:58.218902Z",
     "shell.execute_reply": "2022-02-21T11:55:58.218451Z"
    }
   },
   "outputs": [
    {
     "data": {
      "text/html": [
       "<h4>Date Train-Test Leakage (overlap)</h4><p>Check test data that is dated earlier than latest date in train. <a href=\"https://docs.deepchecks.com/en/0.5.0.dev0/examples/tabular/checks/methodology/date_train_test_leakage_overlap.html?utm_source=display_output&utm_medium=referral&utm_campaign=check_link\" target=\"_blank\">Read More...</a></p><h5>Additional Outputs</h5><p><b>&#x2713;</b> Nothing found</p>"
      ]
     },
     "metadata": {},
     "output_type": "display_data"
    }
   ],
   "source": [
    "train_ds = dataset_from_dict({'col1': [\n",
    "        datetime(2021, 10, 3, 0, 0),\n",
    "        datetime(2021, 10, 3, 0, 0),\n",
    "        datetime(2021, 10, 4, 0, 0),\n",
    "        datetime(2021, 10, 4, 0, 0),\n",
    "        datetime(2021, 10, 4, 0, 0),\n",
    "        datetime(2021, 10, 5, 0, 0),\n",
    "        datetime(2021, 10, 5, 0, 0)\n",
    "    ]}, 'col1')\n",
    "test_ds = dataset_from_dict({'col1': [\n",
    "        datetime(2021, 11, 4, 0, 0),\n",
    "        datetime(2021, 11, 4, 0, 0),\n",
    "        datetime(2021, 11, 5, 0, 0),\n",
    "        datetime(2021, 11, 6, 0, 0),\n",
    "\n",
    "    ]}, 'col1')\n",
    "\n",
    "DateTrainTestLeakageOverlap().run(train_dataset=train_ds, test_dataset=test_ds)"
   ]
  }
 ],
 "metadata": {
  "kernelspec": {
   "display_name": "Python 3 (ipykernel)",
   "language": "python",
   "name": "python3"
  },
  "language_info": {
   "codemirror_mode": {
    "name": "ipython",
    "version": 3
   },
   "file_extension": ".py",
   "mimetype": "text/x-python",
   "name": "python",
   "nbconvert_exporter": "python",
   "pygments_lexer": "ipython3",
   "version": "3.9.0"
  }
 },
 "nbformat": 4,
 "nbformat_minor": 5
}
