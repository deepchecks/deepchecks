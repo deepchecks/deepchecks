{
 "cells": [
  {
   "cell_type": "markdown",
   "id": "54555fcc",
   "metadata": {},
   "source": [
    "# Date Train Validation Leakage Duplicates "
   ]
  },
  {
   "cell_type": "code",
   "execution_count": 1,
   "id": "cc488684",
   "metadata": {
    "execution": {
     "iopub.execute_input": "2022-02-21T11:55:45.973778Z",
     "iopub.status.busy": "2022-02-21T11:55:45.973242Z",
     "iopub.status.idle": "2022-02-21T11:55:47.556568Z",
     "shell.execute_reply": "2022-02-21T11:55:47.555591Z"
    }
   },
   "outputs": [],
   "source": [
    "from deepchecks.tabular.checks.methodology import DateTrainTestLeakageDuplicates\n",
    "from deepchecks.tabular.base import Dataset, Suite\n",
    "from datetime import datetime\n",
    "import pandas as pd\n",
    "\n",
    "def dataset_from_dict(d: dict, datetime_name: str = None) -> Dataset:\n",
    "    dataframe = pd.DataFrame(data=d)\n",
    "    return Dataset(dataframe, datetime_name=datetime_name)"
   ]
  },
  {
   "cell_type": "markdown",
   "id": "c9f13383",
   "metadata": {},
   "source": [
    "## Synthetic example with date leakage"
   ]
  },
  {
   "cell_type": "code",
   "execution_count": 2,
   "id": "b55d4a72",
   "metadata": {
    "execution": {
     "iopub.execute_input": "2022-02-21T11:55:47.560616Z",
     "iopub.status.busy": "2022-02-21T11:55:47.560314Z",
     "iopub.status.idle": "2022-02-21T11:55:47.855972Z",
     "shell.execute_reply": "2022-02-21T11:55:47.855354Z"
    }
   },
   "outputs": [
    {
     "data": {
      "text/html": [
       "<h4>Date Train-Test Leakage (duplicates)</h4><p>Check if test dates are present in train data. <a href=\"https://docs.deepchecks.com/en/0.5.0.dev0/examples/tabular/checks/methodology/date_train_test_leakage_duplicates.html?utm_source=display_output&utm_medium=referral&utm_campaign=check_link\" target=\"_blank\">Read More...</a></p><h5>Additional Outputs</h5><div>18.18% of test data dates appear in training data</div><style type=\"text/css\">\n",
       "#T_6da38 table {\n",
       "  text-align: left;\n",
       "  white-space: pre-wrap;\n",
       "}\n",
       "#T_6da38 thead {\n",
       "  text-align: left;\n",
       "  white-space: pre-wrap;\n",
       "}\n",
       "#T_6da38 tbody {\n",
       "  text-align: left;\n",
       "  white-space: pre-wrap;\n",
       "}\n",
       "#T_6da38 th {\n",
       "  text-align: left;\n",
       "  white-space: pre-wrap;\n",
       "}\n",
       "#T_6da38 td {\n",
       "  text-align: left;\n",
       "  white-space: pre-wrap;\n",
       "}\n",
       "</style>\n",
       "<table id=\"T_6da38\">\n",
       "  <thead>\n",
       "    <tr>\n",
       "      <th class=\"blank level0\" >&nbsp;</th>\n",
       "      <th id=\"T_6da38_level0_col0\" class=\"col_heading level0 col0\" >0</th>\n",
       "    </tr>\n",
       "  </thead>\n",
       "  <tbody>\n",
       "    <tr>\n",
       "      <th id=\"T_6da38_level0_row0\" class=\"row_heading level0 row0\" >Sample of test dates in train:</th>\n",
       "      <td id=\"T_6da38_row0_col0\" class=\"data row0 col0\" >['2021/10/05 00:00:00.000000 ', '2021/10/04 00:00:00.000000 ']</td>\n",
       "    </tr>\n",
       "  </tbody>\n",
       "</table>\n"
      ]
     },
     "metadata": {},
     "output_type": "display_data"
    }
   ],
   "source": [
    "train_ds = dataset_from_dict({'col1': [\n",
    "        datetime(2021, 10, 1, 0, 0),\n",
    "        datetime(2021, 10, 1, 0, 0),\n",
    "        datetime(2021, 10, 1, 0, 0),\n",
    "        datetime(2021, 10, 2, 0, 0),\n",
    "        datetime(2021, 10, 2, 0, 0),\n",
    "        datetime(2021, 10, 2, 0, 0),\n",
    "        datetime(2021, 10, 3, 0, 0),\n",
    "        datetime(2021, 10, 3, 0, 0),\n",
    "        datetime(2021, 10, 3, 0, 0),\n",
    "        datetime(2021, 10, 4, 0, 0),\n",
    "        datetime(2021, 10, 4, 0, 0),\n",
    "        datetime(2021, 10, 4, 0, 0),\n",
    "        datetime(2021, 10, 5, 0, 0),\n",
    "        datetime(2021, 10, 5, 0, 0)\n",
    "    ]}, 'col1')\n",
    "test_ds = dataset_from_dict({'col1': [\n",
    "        datetime(2021, 9, 4, 0, 0),\n",
    "        datetime(2021, 10, 4, 0, 0),\n",
    "        datetime(2021, 10, 5, 0, 0),\n",
    "        datetime(2021, 10, 6, 0, 0),\n",
    "        datetime(2021, 10, 6, 0, 0),\n",
    "        datetime(2021, 10, 7, 0, 0),\n",
    "        datetime(2021, 10, 7, 0, 0),\n",
    "        datetime(2021, 10, 8, 0, 0),\n",
    "        datetime(2021, 10, 8, 0, 0),\n",
    "        datetime(2021, 10, 9, 0, 0),\n",
    "        datetime(2021, 10, 9, 0, 0)\n",
    "    ]}, 'col1')\n",
    "\n",
    "DateTrainTestLeakageDuplicates(n_to_show=3).run(train_dataset=train_ds, test_dataset=test_ds)"
   ]
  },
  {
   "cell_type": "markdown",
   "id": "a9d5b2e2",
   "metadata": {},
   "source": [
    "## Synthetic example no date leakage"
   ]
  },
  {
   "cell_type": "code",
   "execution_count": 3,
   "id": "2bd26bdf",
   "metadata": {
    "execution": {
     "iopub.execute_input": "2022-02-21T11:55:47.859530Z",
     "iopub.status.busy": "2022-02-21T11:55:47.859308Z",
     "iopub.status.idle": "2022-02-21T11:55:47.869242Z",
     "shell.execute_reply": "2022-02-21T11:55:47.868796Z"
    }
   },
   "outputs": [
    {
     "data": {
      "text/html": [
       "<h4>Date Train-Test Leakage (duplicates)</h4><p>Check if test dates are present in train data. <a href=\"https://docs.deepchecks.com/en/0.5.0.dev0/examples/tabular/checks/methodology/date_train_test_leakage_duplicates.html?utm_source=display_output&utm_medium=referral&utm_campaign=check_link\" target=\"_blank\">Read More...</a></p><h5>Additional Outputs</h5><p><b>&#x2713;</b> Nothing found</p>"
      ]
     },
     "metadata": {},
     "output_type": "display_data"
    }
   ],
   "source": [
    "train_ds = dataset_from_dict({'col1': [\n",
    "        datetime(2021, 10, 3, 0, 0),\n",
    "        datetime(2021, 10, 3, 0, 0),\n",
    "        datetime(2021, 10, 4, 0, 0),\n",
    "        datetime(2021, 10, 4, 0, 0),\n",
    "        datetime(2021, 10, 4, 0, 0),\n",
    "        datetime(2021, 10, 5, 0, 0),\n",
    "        datetime(2021, 10, 5, 0, 0)\n",
    "    ]}, 'col1')\n",
    "test_ds = dataset_from_dict({'col1': [\n",
    "        datetime(2021, 11, 4, 0, 0),\n",
    "        datetime(2021, 11, 4, 0, 0),\n",
    "        datetime(2021, 11, 5, 0, 0),\n",
    "        datetime(2021, 11, 6, 0, 0),\n",
    "\n",
    "    ]}, 'col1')\n",
    "\n",
    "DateTrainTestLeakageDuplicates().run(train_dataset=train_ds, test_dataset=test_ds)"
   ]
  }
 ],
 "metadata": {
  "interpreter": {
   "hash": "aee8b7b246df8f9039afb4144a1f6fd8d2ca17a180786b69acc140d282b71a49"
  },
  "kernelspec": {
   "display_name": "Python 3 (ipykernel)",
   "language": "python",
   "name": "python3"
  },
  "language_info": {
   "codemirror_mode": {
    "name": "ipython",
    "version": 3
   },
   "file_extension": ".py",
   "mimetype": "text/x-python",
   "name": "python",
   "nbconvert_exporter": "python",
   "pygments_lexer": "ipython3",
   "version": "3.9.0"
  }
 },
 "nbformat": 4,
 "nbformat_minor": 5
}
