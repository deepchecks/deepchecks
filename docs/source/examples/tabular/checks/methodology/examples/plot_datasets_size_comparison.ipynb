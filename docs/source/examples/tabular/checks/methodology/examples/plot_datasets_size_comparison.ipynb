{
  "cells": [
    {
      "cell_type": "code",
      "execution_count": null,
      "metadata": {
        "collapsed": false
      },
      "outputs": [],
      "source": [
        "%matplotlib inline"
      ]
    },
    {
      "cell_type": "markdown",
      "metadata": {},
      "source": [
        "Datasets Size Comparison\n========================\n"
      ]
    },
    {
      "cell_type": "code",
      "execution_count": null,
      "metadata": {
        "collapsed": false
      },
      "outputs": [],
      "source": [
        "import pandas as pd\nimport numpy as np\nfrom sklearn.model_selection import train_test_split\nfrom deepchecks.tabular import Dataset\nfrom deepchecks.tabular.checks.methodology import DatasetsSizeComparison"
      ]
    },
    {
      "cell_type": "code",
      "execution_count": null,
      "metadata": {
        "collapsed": false
      },
      "outputs": [],
      "source": [
        "df = pd.DataFrame(np.random.randn(1000, 3), columns=['x1', 'x2', 'x3'])\ndf['label'] = df['x2'] + 0.1 * df['x1']\n\ntrain, test = train_test_split(df, test_size=0.4)\ntrain = Dataset(train, features=['x1', 'x2', 'x3'], label='label')\ntest = Dataset(test, features=['x1', 'x2', 'x3'], label='label')\n\ncheck_instance = (\n    DatasetsSizeComparison()\n    .add_condition_train_dataset_not_smaller_than_test()\n    .add_condition_test_size_not_smaller_than(100)\n    .add_condition_test_train_size_ratio_not_smaller_than(0.2)\n)"
      ]
    },
    {
      "cell_type": "code",
      "execution_count": null,
      "metadata": {
        "collapsed": false
      },
      "outputs": [],
      "source": [
        "check_instance.run(train, test)"
      ]
    }
  ],
  "metadata": {
    "kernelspec": {
      "display_name": "Python 3",
      "language": "python",
      "name": "python3"
    },
    "language_info": {
      "codemirror_mode": {
        "name": "ipython",
        "version": 3
      },
      "file_extension": ".py",
      "mimetype": "text/x-python",
      "name": "python",
      "nbconvert_exporter": "python",
      "pygments_lexer": "ipython3",
      "version": "3.8.10"
    }
  },
  "nbformat": 4,
  "nbformat_minor": 0
}