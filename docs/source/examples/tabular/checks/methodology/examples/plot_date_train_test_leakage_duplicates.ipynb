{
  "cells": [
    {
      "cell_type": "code",
      "execution_count": null,
      "metadata": {
        "collapsed": false
      },
      "outputs": [],
      "source": [
        "%matplotlib inline"
      ]
    },
    {
      "cell_type": "markdown",
      "metadata": {},
      "source": [
        "Date Train Validation Leakage Duplicates\n========================================\n"
      ]
    },
    {
      "cell_type": "code",
      "execution_count": null,
      "metadata": {
        "collapsed": false
      },
      "outputs": [],
      "source": [
        "from deepchecks.tabular.checks.methodology import DateTrainTestLeakageDuplicates\nfrom deepchecks.tabular import Dataset, Suite\nfrom datetime import datetime\nimport pandas as pd\n\ndef dataset_from_dict(d: dict, datetime_name: str = None) -> Dataset:\n    dataframe = pd.DataFrame(data=d)\n    return Dataset(dataframe, datetime_name=datetime_name)"
      ]
    },
    {
      "cell_type": "markdown",
      "metadata": {},
      "source": [
        "Synthetic example with date leakage\n===================================\n"
      ]
    },
    {
      "cell_type": "code",
      "execution_count": null,
      "metadata": {
        "collapsed": false
      },
      "outputs": [],
      "source": [
        "train_ds = dataset_from_dict({'col1': [\n        datetime(2021, 10, 1, 0, 0),\n        datetime(2021, 10, 1, 0, 0),\n        datetime(2021, 10, 1, 0, 0),\n        datetime(2021, 10, 2, 0, 0),\n        datetime(2021, 10, 2, 0, 0),\n        datetime(2021, 10, 2, 0, 0),\n        datetime(2021, 10, 3, 0, 0),\n        datetime(2021, 10, 3, 0, 0),\n        datetime(2021, 10, 3, 0, 0),\n        datetime(2021, 10, 4, 0, 0),\n        datetime(2021, 10, 4, 0, 0),\n        datetime(2021, 10, 4, 0, 0),\n        datetime(2021, 10, 5, 0, 0),\n        datetime(2021, 10, 5, 0, 0)\n    ]}, 'col1')\ntest_ds = dataset_from_dict({'col1': [\n        datetime(2021, 9, 4, 0, 0),\n        datetime(2021, 10, 4, 0, 0),\n        datetime(2021, 10, 5, 0, 0),\n        datetime(2021, 10, 6, 0, 0),\n        datetime(2021, 10, 6, 0, 0),\n        datetime(2021, 10, 7, 0, 0),\n        datetime(2021, 10, 7, 0, 0),\n        datetime(2021, 10, 8, 0, 0),\n        datetime(2021, 10, 8, 0, 0),\n        datetime(2021, 10, 9, 0, 0),\n        datetime(2021, 10, 9, 0, 0)\n    ]}, 'col1')\n\nDateTrainTestLeakageDuplicates(n_to_show=3).run(train_dataset=train_ds, test_dataset=test_ds)"
      ]
    },
    {
      "cell_type": "markdown",
      "metadata": {},
      "source": [
        "Synthetic example no date leakage\n=================================\n"
      ]
    },
    {
      "cell_type": "code",
      "execution_count": null,
      "metadata": {
        "collapsed": false
      },
      "outputs": [],
      "source": [
        "train_ds = dataset_from_dict({'col1': [\n        datetime(2021, 10, 3, 0, 0),\n        datetime(2021, 10, 3, 0, 0),\n        datetime(2021, 10, 4, 0, 0),\n        datetime(2021, 10, 4, 0, 0),\n        datetime(2021, 10, 4, 0, 0),\n        datetime(2021, 10, 5, 0, 0),\n        datetime(2021, 10, 5, 0, 0)\n    ]}, 'col1')\ntest_ds = dataset_from_dict({'col1': [\n        datetime(2021, 11, 4, 0, 0),\n        datetime(2021, 11, 4, 0, 0),\n        datetime(2021, 11, 5, 0, 0),\n        datetime(2021, 11, 6, 0, 0),\n\n    ]}, 'col1')\n\nDateTrainTestLeakageDuplicates().run(train_dataset=train_ds, test_dataset=test_ds)"
      ]
    }
  ],
  "metadata": {
    "kernelspec": {
      "display_name": "Python 3",
      "language": "python",
      "name": "python3"
    },
    "language_info": {
      "codemirror_mode": {
        "name": "ipython",
        "version": 3
      },
      "file_extension": ".py",
      "mimetype": "text/x-python",
      "name": "python",
      "nbconvert_exporter": "python",
      "pygments_lexer": "ipython3",
      "version": "3.8.10"
    }
  },
  "nbformat": 4,
  "nbformat_minor": 0
}