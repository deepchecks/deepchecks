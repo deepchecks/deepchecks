{
 "cells": [
  {
   "cell_type": "markdown",
   "id": "23cdd0b3",
   "metadata": {},
   "source": [
    "# Train Test Samples Mix "
   ]
  },
  {
   "cell_type": "markdown",
   "id": "0fdeac8e-ffd2-4509-8a70-fcbda9cdb68b",
   "metadata": {},
   "source": [
    "## Imports"
   ]
  },
  {
   "cell_type": "code",
   "execution_count": 1,
   "id": "592d6a95-06b0-4397-bf5e-5aebd6dc58f3",
   "metadata": {
    "execution": {
     "iopub.execute_input": "2022-02-21T11:56:10.394728Z",
     "iopub.status.busy": "2022-02-21T11:56:10.394300Z",
     "iopub.status.idle": "2022-02-21T11:56:12.016449Z",
     "shell.execute_reply": "2022-02-21T11:56:12.015545Z"
    }
   },
   "outputs": [],
   "source": [
    "import numpy as np\n",
    "import pandas as pd\n",
    "import matplotlib.pyplot as plt\n",
    "from sklearn.datasets import load_iris\n",
    "from sklearn.model_selection import train_test_split\n",
    "from deepchecks.tabular.checks.methodology import TrainTestSamplesMix\n",
    "from deepchecks.tabular.base import Dataset"
   ]
  },
  {
   "cell_type": "markdown",
   "id": "b1653169-893b-456a-b179-7ba51d004694",
   "metadata": {},
   "source": [
    "## Generating data:"
   ]
  },
  {
   "cell_type": "code",
   "execution_count": 2,
   "id": "13624caa-239a-4b0a-a081-8d46872751ef",
   "metadata": {
    "execution": {
     "iopub.execute_input": "2022-02-21T11:56:12.020553Z",
     "iopub.status.busy": "2022-02-21T11:56:12.020285Z",
     "iopub.status.idle": "2022-02-21T11:56:12.310136Z",
     "shell.execute_reply": "2022-02-21T11:56:12.309384Z"
    }
   },
   "outputs": [
    {
     "name": "stderr",
     "output_type": "stream",
     "text": [
      "/var/folders/y9/5_87p4kn3pgd8875wyjrbsqw0000gn/T/ipykernel_60159/1188291376.py:10: FutureWarning:\n",
      "\n",
      "The frame.append method is deprecated and will be removed from pandas in a future version. Use pandas.concat instead.\n",
      "\n"
     ]
    }
   ],
   "source": [
    "iris = load_iris(return_X_y=False, as_frame=True)\n",
    "X = iris.data\n",
    "y = iris.target\n",
    "X_train, X_test, y_train, y_test = train_test_split(X, y, test_size=0.3, random_state=55)\n",
    "train_dataset = Dataset(pd.concat([X_train, y_train], axis=1), \n",
    "            features=iris.feature_names,\n",
    "            label='target')\n",
    "\n",
    "test_df = pd.concat([X_test, y_test], axis=1)\n",
    "bad_test = test_df.append(train_dataset.data.iloc[[0, 1, 1, 2, 3, 4]], ignore_index=True)\n",
    "                    \n",
    "test_dataset = Dataset(bad_test, \n",
    "            features=iris.feature_names,\n",
    "            label='target')"
   ]
  },
  {
   "cell_type": "markdown",
   "id": "e9b8071a-f95a-4d51-8ca9-abd42d5406b2",
   "metadata": {},
   "source": [
    "## Running data_sample_leakage_report check:"
   ]
  },
  {
   "cell_type": "code",
   "execution_count": 3,
   "id": "372e0162-b86c-45d6-8a3b-47e009d709b9",
   "metadata": {
    "execution": {
     "iopub.execute_input": "2022-02-21T11:56:12.313639Z",
     "iopub.status.busy": "2022-02-21T11:56:12.313416Z",
     "iopub.status.idle": "2022-02-21T11:56:12.316755Z",
     "shell.execute_reply": "2022-02-21T11:56:12.316151Z"
    }
   },
   "outputs": [],
   "source": [
    "check = TrainTestSamplesMix()"
   ]
  },
  {
   "cell_type": "code",
   "execution_count": 4,
   "id": "fadb3bc8-65af-4c7d-92bc-9234802d99e3",
   "metadata": {
    "execution": {
     "iopub.execute_input": "2022-02-21T11:56:12.319592Z",
     "iopub.status.busy": "2022-02-21T11:56:12.319360Z",
     "iopub.status.idle": "2022-02-21T11:56:12.358064Z",
     "shell.execute_reply": "2022-02-21T11:56:12.357295Z"
    },
    "tags": []
   },
   "outputs": [
    {
     "data": {
      "text/html": [
       "<h4>Train Test Samples Mix</h4><p>Detect samples in the test data that appear also in training data. <a href=\"https://docs.deepchecks.com/en/0.5.0.dev0/examples/tabular/checks/methodology/train_test_samples_mix.html?utm_source=display_output&utm_medium=referral&utm_campaign=check_link\" target=\"_blank\">Read More...</a></p><h5>Additional Outputs</h5><div>11.76% (6 / 51)                      of test data samples appear in train data</div><style type=\"text/css\">\n",
       "#T_da1bd table {\n",
       "  text-align: left;\n",
       "  white-space: pre-wrap;\n",
       "}\n",
       "#T_da1bd thead {\n",
       "  text-align: left;\n",
       "  white-space: pre-wrap;\n",
       "}\n",
       "#T_da1bd tbody {\n",
       "  text-align: left;\n",
       "  white-space: pre-wrap;\n",
       "}\n",
       "#T_da1bd th {\n",
       "  text-align: left;\n",
       "  white-space: pre-wrap;\n",
       "}\n",
       "#T_da1bd td {\n",
       "  text-align: left;\n",
       "  white-space: pre-wrap;\n",
       "}\n",
       "</style>\n",
       "<table id=\"T_da1bd\">\n",
       "  <thead>\n",
       "    <tr>\n",
       "      <th class=\"blank level0\" >&nbsp;</th>\n",
       "      <th id=\"T_da1bd_level0_col0\" class=\"col_heading level0 col0\" >sepal length (cm)</th>\n",
       "      <th id=\"T_da1bd_level0_col1\" class=\"col_heading level0 col1\" >sepal width (cm)</th>\n",
       "      <th id=\"T_da1bd_level0_col2\" class=\"col_heading level0 col2\" >petal length (cm)</th>\n",
       "      <th id=\"T_da1bd_level0_col3\" class=\"col_heading level0 col3\" >petal width (cm)</th>\n",
       "      <th id=\"T_da1bd_level0_col4\" class=\"col_heading level0 col4\" >target</th>\n",
       "    </tr>\n",
       "  </thead>\n",
       "  <tbody>\n",
       "    <tr>\n",
       "      <th id=\"T_da1bd_level0_row0\" class=\"row_heading level0 row0\" >Train indices: 131\n",
       "Test indices: 46, 47</th>\n",
       "      <td id=\"T_da1bd_row0_col0\" class=\"data row0 col0\" >7.90</td>\n",
       "      <td id=\"T_da1bd_row0_col1\" class=\"data row0 col1\" >3.80</td>\n",
       "      <td id=\"T_da1bd_row0_col2\" class=\"data row0 col2\" >6.40</td>\n",
       "      <td id=\"T_da1bd_row0_col3\" class=\"data row0 col3\" >2.00</td>\n",
       "      <td id=\"T_da1bd_row0_col4\" class=\"data row0 col4\" >2</td>\n",
       "    </tr>\n",
       "    <tr>\n",
       "      <th id=\"T_da1bd_level0_row1\" class=\"row_heading level0 row1\" >Train indices: 23\n",
       "Test indices: 49</th>\n",
       "      <td id=\"T_da1bd_row1_col0\" class=\"data row1 col0\" >5.10</td>\n",
       "      <td id=\"T_da1bd_row1_col1\" class=\"data row1 col1\" >3.30</td>\n",
       "      <td id=\"T_da1bd_row1_col2\" class=\"data row1 col2\" >1.70</td>\n",
       "      <td id=\"T_da1bd_row1_col3\" class=\"data row1 col3\" >0.50</td>\n",
       "      <td id=\"T_da1bd_row1_col4\" class=\"data row1 col4\" >0</td>\n",
       "    </tr>\n",
       "    <tr>\n",
       "      <th id=\"T_da1bd_level0_row2\" class=\"row_heading level0 row2\" >Train indices: 101, 142\n",
       "Test indices: 45</th>\n",
       "      <td id=\"T_da1bd_row2_col0\" class=\"data row2 col0\" >5.80</td>\n",
       "      <td id=\"T_da1bd_row2_col1\" class=\"data row2 col1\" >2.70</td>\n",
       "      <td id=\"T_da1bd_row2_col2\" class=\"data row2 col2\" >5.10</td>\n",
       "      <td id=\"T_da1bd_row2_col3\" class=\"data row2 col3\" >1.90</td>\n",
       "      <td id=\"T_da1bd_row2_col4\" class=\"data row2 col4\" >2</td>\n",
       "    </tr>\n",
       "    <tr>\n",
       "      <th id=\"T_da1bd_level0_row3\" class=\"row_heading level0 row3\" >Train indices: 115\n",
       "Test indices: 50</th>\n",
       "      <td id=\"T_da1bd_row3_col0\" class=\"data row3 col0\" >6.40</td>\n",
       "      <td id=\"T_da1bd_row3_col1\" class=\"data row3 col1\" >3.20</td>\n",
       "      <td id=\"T_da1bd_row3_col2\" class=\"data row3 col2\" >5.30</td>\n",
       "      <td id=\"T_da1bd_row3_col3\" class=\"data row3 col3\" >2.30</td>\n",
       "      <td id=\"T_da1bd_row3_col4\" class=\"data row3 col4\" >2</td>\n",
       "    </tr>\n",
       "    <tr>\n",
       "      <th id=\"T_da1bd_level0_row4\" class=\"row_heading level0 row4\" >Train indices: 110\n",
       "Test indices: 48</th>\n",
       "      <td id=\"T_da1bd_row4_col0\" class=\"data row4 col0\" >6.50</td>\n",
       "      <td id=\"T_da1bd_row4_col1\" class=\"data row4 col1\" >3.20</td>\n",
       "      <td id=\"T_da1bd_row4_col2\" class=\"data row4 col2\" >5.10</td>\n",
       "      <td id=\"T_da1bd_row4_col3\" class=\"data row4 col3\" >2.00</td>\n",
       "      <td id=\"T_da1bd_row4_col4\" class=\"data row4 col4\" >2</td>\n",
       "    </tr>\n",
       "  </tbody>\n",
       "</table>\n"
      ]
     },
     "metadata": {},
     "output_type": "display_data"
    }
   ],
   "source": [
    "check.run(test_dataset=test_dataset, train_dataset=train_dataset)"
   ]
  }
 ],
 "metadata": {
  "kernelspec": {
   "display_name": "Python 3 (ipykernel)",
   "language": "python",
   "name": "python3"
  },
  "language_info": {
   "codemirror_mode": {
    "name": "ipython",
    "version": 3
   },
   "file_extension": ".py",
   "mimetype": "text/x-python",
   "name": "python",
   "nbconvert_exporter": "python",
   "pygments_lexer": "ipython3",
   "version": "3.9.0"
  }
 },
 "nbformat": 4,
 "nbformat_minor": 5
}
