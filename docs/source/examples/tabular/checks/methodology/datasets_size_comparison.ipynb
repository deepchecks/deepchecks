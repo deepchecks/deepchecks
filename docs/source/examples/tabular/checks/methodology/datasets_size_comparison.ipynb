{
 "cells": [
  {
   "cell_type": "markdown",
   "metadata": {},
   "source": [
    "# Datasets Size Comparison "
   ]
  },
  {
   "cell_type": "code",
   "execution_count": 1,
   "metadata": {
    "execution": {
     "iopub.execute_input": "2022-02-18T01:07:39.041413Z",
     "iopub.status.busy": "2022-02-18T01:07:39.041048Z",
     "iopub.status.idle": "2022-02-18T01:07:41.063470Z",
     "shell.execute_reply": "2022-02-18T01:07:41.062779Z"
    }
   },
   "outputs": [],
   "source": [
    "import pandas as pd\n",
    "import numpy as np\n",
    "from sklearn.model_selection import train_test_split\n",
    "from deepchecks.tabular import Dataset\n",
    "from deepchecks.tabular.checks.methodology import DatasetsSizeComparison"
   ]
  },
  {
   "cell_type": "code",
   "execution_count": 2,
   "metadata": {
    "execution": {
     "iopub.execute_input": "2022-02-18T01:07:41.068042Z",
     "iopub.status.busy": "2022-02-18T01:07:41.067467Z",
     "iopub.status.idle": "2022-02-18T01:07:41.081390Z",
     "shell.execute_reply": "2022-02-18T01:07:41.080568Z"
    }
   },
   "outputs": [],
   "source": [
    "df = pd.DataFrame(np.random.randn(1000, 3), columns=['x1', 'x2', 'x3'])\n",
    "df['label'] = df['x2'] + 0.1 * df['x1']\n",
    "\n",
    "train, test = train_test_split(df, test_size=0.4)\n",
    "train = Dataset(train, features=['x1', 'x2', 'x3'], label='label')\n",
    "test = Dataset(test, features=['x1', 'x2', 'x3'], label='label')\n",
    "\n",
    "check_instance = (\n",
    "    DatasetsSizeComparison()\n",
    "    .add_condition_train_dataset_not_smaller_than_test()\n",
    "    .add_condition_test_size_not_smaller_than(100)\n",
    "    .add_condition_test_train_size_ratio_not_smaller_than(0.2)\n",
    ")\n"
   ]
  },
  {
   "cell_type": "code",
   "execution_count": 3,
   "metadata": {
    "execution": {
     "iopub.execute_input": "2022-02-18T01:07:41.085033Z",
     "iopub.status.busy": "2022-02-18T01:07:41.084490Z",
     "iopub.status.idle": "2022-02-18T01:07:41.371818Z",
     "shell.execute_reply": "2022-02-18T01:07:41.371106Z"
    }
   },
   "outputs": [
    {
     "data": {
      "text/html": [
       "<h4>Datasets Size Comparison</h4><p>Verify test dataset size comparing it to the train dataset size. <a href=\"https://docs.deepchecks.com/en/0.5.0.dev0/examples/checks/tabular/methodology/datasets_size_comparison.html?utm_source=display_output&utm_medium=referral&utm_campaign=check_link\" target=\"_blank\">Read More...</a></p><h5>Conditions Summary</h5><style type=\"text/css\">\n",
       "#T_086ae table {\n",
       "  text-align: left;\n",
       "  white-space: pre-wrap;\n",
       "}\n",
       "#T_086ae thead {\n",
       "  text-align: left;\n",
       "  white-space: pre-wrap;\n",
       "}\n",
       "#T_086ae tbody {\n",
       "  text-align: left;\n",
       "  white-space: pre-wrap;\n",
       "}\n",
       "#T_086ae th {\n",
       "  text-align: left;\n",
       "  white-space: pre-wrap;\n",
       "}\n",
       "#T_086ae td {\n",
       "  text-align: left;\n",
       "  white-space: pre-wrap;\n",
       "}\n",
       "</style>\n",
       "<table id=\"T_086ae\">\n",
       "  <thead>\n",
       "    <tr>\n",
       "      <th id=\"T_086ae_level0_col0\" class=\"col_heading level0 col0\" >Status</th>\n",
       "      <th id=\"T_086ae_level0_col1\" class=\"col_heading level0 col1\" >Condition</th>\n",
       "      <th id=\"T_086ae_level0_col2\" class=\"col_heading level0 col2\" >More Info</th>\n",
       "    </tr>\n",
       "  </thead>\n",
       "  <tbody>\n",
       "    <tr>\n",
       "      <td id=\"T_086ae_row0_col0\" class=\"data row0 col0\" ><div style=\"color: green;text-align: center\">✓</div></td>\n",
       "      <td id=\"T_086ae_row0_col1\" class=\"data row0 col1\" >Train dataset is not smaller than test dataset</td>\n",
       "      <td id=\"T_086ae_row0_col2\" class=\"data row0 col2\" ></td>\n",
       "    </tr>\n",
       "    <tr>\n",
       "      <td id=\"T_086ae_row1_col0\" class=\"data row1 col0\" ><div style=\"color: green;text-align: center\">✓</div></td>\n",
       "      <td id=\"T_086ae_row1_col1\" class=\"data row1 col1\" >Test dataset size is not smaller than 100</td>\n",
       "      <td id=\"T_086ae_row1_col2\" class=\"data row1 col2\" ></td>\n",
       "    </tr>\n",
       "    <tr>\n",
       "      <td id=\"T_086ae_row2_col0\" class=\"data row2 col0\" ><div style=\"color: green;text-align: center\">✓</div></td>\n",
       "      <td id=\"T_086ae_row2_col1\" class=\"data row2 col1\" >Test-Train size ratio is not smaller than 0.2</td>\n",
       "      <td id=\"T_086ae_row2_col2\" class=\"data row2 col2\" ></td>\n",
       "    </tr>\n",
       "  </tbody>\n",
       "</table>\n",
       "<h5>Additional Outputs</h5><style type=\"text/css\">\n",
       "#T_17c20 table {\n",
       "  text-align: left;\n",
       "  white-space: pre-wrap;\n",
       "}\n",
       "#T_17c20 thead {\n",
       "  text-align: left;\n",
       "  white-space: pre-wrap;\n",
       "}\n",
       "#T_17c20 tbody {\n",
       "  text-align: left;\n",
       "  white-space: pre-wrap;\n",
       "}\n",
       "#T_17c20 th {\n",
       "  text-align: left;\n",
       "  white-space: pre-wrap;\n",
       "}\n",
       "#T_17c20 td {\n",
       "  text-align: left;\n",
       "  white-space: pre-wrap;\n",
       "}\n",
       "</style>\n",
       "<table id=\"T_17c20\">\n",
       "  <thead>\n",
       "    <tr>\n",
       "      <th class=\"blank level0\" >&nbsp;</th>\n",
       "      <th id=\"T_17c20_level0_col0\" class=\"col_heading level0 col0\" >Train</th>\n",
       "      <th id=\"T_17c20_level0_col1\" class=\"col_heading level0 col1\" >Test</th>\n",
       "    </tr>\n",
       "  </thead>\n",
       "  <tbody>\n",
       "    <tr>\n",
       "      <th id=\"T_17c20_level0_row0\" class=\"row_heading level0 row0\" >Size</th>\n",
       "      <td id=\"T_17c20_row0_col0\" class=\"data row0 col0\" >600</td>\n",
       "      <td id=\"T_17c20_row0_col1\" class=\"data row0 col1\" >400</td>\n",
       "    </tr>\n",
       "  </tbody>\n",
       "</table>\n"
      ]
     },
     "metadata": {},
     "output_type": "display_data"
    }
   ],
   "source": [
    "check_instance.run(train, test)"
   ]
  }
 ],
 "metadata": {
  "interpreter": {
   "hash": "84907e5c832b0f30997d577d5af975f753923a883501768793aa42b5515ede32"
  },
  "kernelspec": {
   "display_name": "Python 3 (ipykernel)",
   "language": "python",
   "name": "python3"
  },
  "language_info": {
   "codemirror_mode": {
    "name": "ipython",
    "version": 3
   },
   "file_extension": ".py",
   "mimetype": "text/x-python",
   "name": "python",
   "nbconvert_exporter": "python",
   "pygments_lexer": "ipython3",
   "version": "3.9.10"
  }
 },
 "nbformat": 4,
 "nbformat_minor": 4
}
