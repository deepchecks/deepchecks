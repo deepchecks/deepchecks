{
 "cells": [
  {
   "cell_type": "markdown",
   "id": "470c3f6b",
   "metadata": {},
   "source": [
    "# Configure Check Conditions"
   ]
  },
  {
   "cell_type": "markdown",
   "id": "8eec4ed8",
   "metadata": {},
   "source": [
    "The following guide includes different options for configuring a check's condition(s):\n",
    "\n",
    "- [Add Condition](#Add-Condition)\n",
    "- [Remove / Edit a Condition](#Remove-/-Edit-a-Condition)\n",
    "- [Add a Custom Condition](#Add-a-Custom-Condition)\n",
    "- [Set Custom Condition Category](#Set-Custom-Condition-Category)"
   ]
  },
  {
   "cell_type": "markdown",
   "id": "1026760f",
   "metadata": {},
   "source": [
    "## Add Condition"
   ]
  },
  {
   "cell_type": "markdown",
   "id": "0c850e76",
   "metadata": {},
   "source": [
    "In order to add a condition to an existing check, we can use any of the pre-defined conditions for that check. The naming convention for the methods that add the condition is `add_condition_...`.\n",
    "\n",
    "If you want to create and add your custom condition logic for parsing the check's result value, see [Add a Custom Condition](#Add-a-Custom-Condition)."
   ]
  },
  {
   "cell_type": "markdown",
   "id": "8bc3394b",
   "metadata": {},
   "source": [
    "### Add a condition to a new check"
   ]
  },
  {
   "cell_type": "code",
   "execution_count": 1,
   "id": "b3862684",
   "metadata": {
    "execution": {
     "iopub.execute_input": "2022-02-21T11:55:12.817694Z",
     "iopub.status.busy": "2022-02-21T11:55:12.817408Z",
     "iopub.status.idle": "2022-02-21T11:55:14.627369Z",
     "shell.execute_reply": "2022-02-21T11:55:14.626601Z"
    }
   },
   "outputs": [
    {
     "data": {
      "text/plain": [
       "DatasetsSizeComparison\n",
       "\tConditions:\n",
       "\t\t0: Test dataset size is not smaller than 1000"
      ]
     },
     "execution_count": 1,
     "metadata": {},
     "output_type": "execute_result"
    }
   ],
   "source": [
    "from deepchecks.tabular.checks import DatasetsSizeComparison\n",
    "\n",
    "check = DatasetsSizeComparison().add_condition_test_size_not_smaller_than(1000)\n",
    "check"
   ]
  },
  {
   "cell_type": "markdown",
   "id": "1c3ec933",
   "metadata": {},
   "source": [
    "Conditions are used mainly in the context of a Suite, and displayed in the Conditions Summary table. For example how to run in a suite you can look at [Add a Custom Condition](#Add-a-Custom-Condition) or if you would like to run the conditions outside of suite you can execute:"
   ]
  },
  {
   "cell_type": "code",
   "execution_count": 2,
   "id": "db25f8ed",
   "metadata": {
    "execution": {
     "iopub.execute_input": "2022-02-21T11:55:14.631287Z",
     "iopub.status.busy": "2022-02-21T11:55:14.631005Z",
     "iopub.status.idle": "2022-02-21T11:55:14.639302Z",
     "shell.execute_reply": "2022-02-21T11:55:14.638873Z"
    }
   },
   "outputs": [
    {
     "data": {
      "text/plain": [
       "[{'is_pass': False, 'details': 'Test dataset size is 3', 'category': <ConditionCategory.FAIL: 'FAIL'>, 'name': 'Test dataset size is not smaller than 1000'}]"
      ]
     },
     "execution_count": 2,
     "metadata": {},
     "output_type": "execute_result"
    }
   ],
   "source": [
    "from deepchecks.tabular import Dataset\n",
    "import pandas as pd\n",
    "# Dummy data\n",
    "train_dataset = Dataset(pd.DataFrame(data={'x': [1,2,3,4,5,6,7,8,9]}))\n",
    "test_dataset = Dataset(pd.DataFrame(data={'x': [1,2,3]}))\n",
    "\n",
    "condition_results = check.conditions_decision(check.run(train_dataset, test_dataset))\n",
    "condition_results"
   ]
  },
  {
   "cell_type": "markdown",
   "id": "6d6be7c3",
   "metadata": {},
   "source": [
    "### Add a condition to a check in a suite"
   ]
  },
  {
   "cell_type": "markdown",
   "id": "01af72d0",
   "metadata": {},
   "source": [
    "If we want to add a conditon to a check within an existing suite, we should first find the Check's ID within the suite, and then add the condition to it, by running the relevant `add_condition_` method on that check's instance. See the next section to understand how to do so.\n",
    "\n",
    "The condition will then be appended to the list of conditions on that check (or be the first one if no conditions are defined), and each condition will be evaluated separately when running the suite.\n"
   ]
  },
  {
   "cell_type": "markdown",
   "id": "977fb8ec",
   "metadata": {},
   "source": [
    "## Remove / Edit a Condition"
   ]
  },
  {
   "cell_type": "markdown",
   "id": "4be40708",
   "metadata": {},
   "source": [
    "Deepchecks provides different kinds of default suites, which come with pre-defined conditions. You may want to remove a condition in case it isn't needed for you, or you may want to change the condition's parameters (since conditions functions are immutable).\n",
    "\n",
    "To remove a condition, start by printing the Suite and identifing the Check's ID, and the Condition's ID:"
   ]
  },
  {
   "cell_type": "code",
   "execution_count": 3,
   "id": "af7bd116",
   "metadata": {
    "execution": {
     "iopub.execute_input": "2022-02-21T11:55:14.642373Z",
     "iopub.status.busy": "2022-02-21T11:55:14.642089Z",
     "iopub.status.idle": "2022-02-21T11:55:14.647342Z",
     "shell.execute_reply": "2022-02-21T11:55:14.646790Z"
    }
   },
   "outputs": [
    {
     "data": {
      "text/plain": [
       "Train Test Leakage Suite: [\n",
       "\t0: DateTrainTestLeakageDuplicates\n",
       "\t\tConditions:\n",
       "\t\t\t0: Date leakage ratio is not greater than 0%\n",
       "\t1: DateTrainTestLeakageOverlap\n",
       "\t\tConditions:\n",
       "\t\t\t0: Date leakage ratio is not greater than 0%\n",
       "\t2: SingleFeatureContributionTrainTest(ppscore_params={})\n",
       "\t\tConditions:\n",
       "\t\t\t0: Train-Test features' Predictive Power Score difference is not greater than 0.2\n",
       "\t\t\t1: Train features' Predictive Power Score is not greater than 0.7\n",
       "\t3: TrainTestSamplesMix\n",
       "\t\tConditions:\n",
       "\t\t\t0: Percentage of test data samples that appear in train data not greater than 10%\n",
       "\t4: IdentifierLeakage(ppscore_params={})\n",
       "\t\tConditions:\n",
       "\t\t\t0: Identifier columns PPS is not greater than 0\n",
       "\t5: IndexTrainTestLeakage\n",
       "\t\tConditions:\n",
       "\t\t\t0: Ratio of leaking indices is not greater than 0%\n",
       "]"
      ]
     },
     "execution_count": 3,
     "metadata": {},
     "output_type": "execute_result"
    }
   ],
   "source": [
    "from deepchecks.tabular.suites import train_test_leakage\n",
    "\n",
    "suite = train_test_leakage()\n",
    "suite"
   ]
  },
  {
   "cell_type": "markdown",
   "id": "44e1da74",
   "metadata": {},
   "source": [
    "After we found the IDs we can remove the Condition:"
   ]
  },
  {
   "cell_type": "code",
   "execution_count": 4,
   "id": "faf589a1",
   "metadata": {
    "execution": {
     "iopub.execute_input": "2022-02-21T11:55:14.650296Z",
     "iopub.status.busy": "2022-02-21T11:55:14.650082Z",
     "iopub.status.idle": "2022-02-21T11:55:14.654013Z",
     "shell.execute_reply": "2022-02-21T11:55:14.653544Z"
    }
   },
   "outputs": [
    {
     "data": {
      "text/plain": [
       "Train Test Leakage Suite: [\n",
       "\t0: DateTrainTestLeakageDuplicates\n",
       "\t\tConditions:\n",
       "\t\t\t0: Date leakage ratio is not greater than 0%\n",
       "\t1: DateTrainTestLeakageOverlap\n",
       "\t\tConditions:\n",
       "\t\t\t0: Date leakage ratio is not greater than 0%\n",
       "\t2: SingleFeatureContributionTrainTest(ppscore_params={})\n",
       "\t\tConditions:\n",
       "\t\t\t1: Train features' Predictive Power Score is not greater than 0.7\n",
       "\t3: TrainTestSamplesMix\n",
       "\t\tConditions:\n",
       "\t\t\t0: Percentage of test data samples that appear in train data not greater than 10%\n",
       "\t4: IdentifierLeakage(ppscore_params={})\n",
       "\t\tConditions:\n",
       "\t\t\t0: Identifier columns PPS is not greater than 0\n",
       "\t5: IndexTrainTestLeakage\n",
       "\t\tConditions:\n",
       "\t\t\t0: Ratio of leaking indices is not greater than 0%\n",
       "]"
      ]
     },
     "execution_count": 4,
     "metadata": {},
     "output_type": "execute_result"
    }
   ],
   "source": [
    "# Access check by id\n",
    "check = suite[2]\n",
    "# Remove condition by id\n",
    "check.remove_condition(0)\n",
    "\n",
    "suite"
   ]
  },
  {
   "cell_type": "markdown",
   "id": "ae06fd53",
   "metadata": {},
   "source": [
    "Now if we want we can also re-add the Condition using the built-in methods on the check, with a different parameter. "
   ]
  },
  {
   "cell_type": "code",
   "execution_count": 5,
   "id": "9488c030",
   "metadata": {
    "execution": {
     "iopub.execute_input": "2022-02-21T11:55:14.657173Z",
     "iopub.status.busy": "2022-02-21T11:55:14.656980Z",
     "iopub.status.idle": "2022-02-21T11:55:14.660725Z",
     "shell.execute_reply": "2022-02-21T11:55:14.660313Z"
    }
   },
   "outputs": [
    {
     "data": {
      "text/plain": [
       "Train Test Leakage Suite: [\n",
       "\t0: DateTrainTestLeakageDuplicates\n",
       "\t\tConditions:\n",
       "\t\t\t0: Date leakage ratio is not greater than 0%\n",
       "\t1: DateTrainTestLeakageOverlap\n",
       "\t\tConditions:\n",
       "\t\t\t0: Date leakage ratio is not greater than 0%\n",
       "\t2: SingleFeatureContributionTrainTest(ppscore_params={})\n",
       "\t\tConditions:\n",
       "\t\t\t1: Train features' Predictive Power Score is not greater than 0.7\n",
       "\t\t\t2: Train-Test features' Predictive Power Score difference is not greater than 0.01\n",
       "\t3: TrainTestSamplesMix\n",
       "\t\tConditions:\n",
       "\t\t\t0: Percentage of test data samples that appear in train data not greater than 10%\n",
       "\t4: IdentifierLeakage(ppscore_params={})\n",
       "\t\tConditions:\n",
       "\t\t\t0: Identifier columns PPS is not greater than 0\n",
       "\t5: IndexTrainTestLeakage\n",
       "\t\tConditions:\n",
       "\t\t\t0: Ratio of leaking indices is not greater than 0%\n",
       "]"
      ]
     },
     "execution_count": 5,
     "metadata": {},
     "output_type": "execute_result"
    }
   ],
   "source": [
    "# Re-add the condition with new parameter\n",
    "check.add_condition_feature_pps_difference_not_greater_than(0.01)\n",
    "\n",
    "suite"
   ]
  },
  {
   "cell_type": "markdown",
   "id": "09b434c6",
   "metadata": {},
   "source": [
    "## Add a Custom Condition"
   ]
  },
  {
   "cell_type": "markdown",
   "id": "73168e2e",
   "metadata": {},
   "source": [
    "In order to write conditions we first have to know what value a given check produces.  \n",
    "Let's look at the check `DatasetsSizeComparison` and see it's return value in order to write a condition for it."
   ]
  },
  {
   "cell_type": "code",
   "execution_count": 6,
   "id": "2a1821bf",
   "metadata": {
    "execution": {
     "iopub.execute_input": "2022-02-21T11:55:14.663441Z",
     "iopub.status.busy": "2022-02-21T11:55:14.663261Z",
     "iopub.status.idle": "2022-02-21T11:55:14.669770Z",
     "shell.execute_reply": "2022-02-21T11:55:14.669325Z"
    }
   },
   "outputs": [
    {
     "data": {
      "text/plain": [
       "{'Train': 9, 'Test': 3}"
      ]
     },
     "execution_count": 6,
     "metadata": {},
     "output_type": "execute_result"
    }
   ],
   "source": [
    "from deepchecks.tabular.checks import DatasetsSizeComparison\n",
    "from deepchecks.tabular import Dataset\n",
    "import pandas as pd\n",
    "\n",
    "# We'll use dummy data for the purpose of this demonstration\n",
    "train_dataset = Dataset(pd.DataFrame(data={'x': [1,2,3,4,5,6,7,8,9]}))\n",
    "test_dataset = Dataset(pd.DataFrame(data={'x': [1,2,3]}))\n",
    "\n",
    "result = DatasetsSizeComparison().run(train_dataset, test_dataset)\n",
    "result.value"
   ]
  },
  {
   "cell_type": "markdown",
   "id": "08113761",
   "metadata": {},
   "source": [
    "Now we know what the return value looks like. Let's add a new condition that validates that the ratio between the train and test datasets size is inside a given range.\n",
    "To create condition we need to use the `add_condition` method of the check which accepts a condition name and a function. This function receives the value of the `CheckResult` that we saw above and should return either a boolean or a `ConditionResult` containing a boolean and optional extra info that will be displayed in the Conditions Summary table.\n",
    "\n",
    "*Note: When implementing a condition in a custom check, you may want to add a method `add_condition_x()` to allow any consumer of your check to apply the condition (possibly with given parameters). For examples look at implemented Checks' source code*"
   ]
  },
  {
   "cell_type": "code",
   "execution_count": 7,
   "id": "06ef9c99",
   "metadata": {
    "execution": {
     "iopub.execute_input": "2022-02-21T11:55:14.672535Z",
     "iopub.status.busy": "2022-02-21T11:55:14.672338Z",
     "iopub.status.idle": "2022-02-21T11:55:14.676589Z",
     "shell.execute_reply": "2022-02-21T11:55:14.676171Z"
    }
   },
   "outputs": [],
   "source": [
    "from deepchecks.core import ConditionResult\n",
    "\n",
    "# Our parameters for the condition\n",
    "low_threshold = 0.4\n",
    "high_threshold = 0.6\n",
    "\n",
    "# Create the condition function\n",
    "def custom_condition(value: dict, low=low_threshold, high=high_threshold): \n",
    "    ratio = value['Test'] / value['Train']\n",
    "    if low <= ratio <= high:\n",
    "        return ConditionResult(True)\n",
    "    else:\n",
    "        # Note: if you doesn't care about the extra info, you can return directly a boolean\n",
    "        return ConditionResult(False, f'Test-Train ratio is {ratio:.2}')\n",
    "\n",
    "# Create the condition name\n",
    "condition_name = f'Test-Train ratio is between {low_threshold} to {high_threshold}'\n",
    "\n",
    "# Create check instance with the condition \n",
    "check = DatasetsSizeComparison().add_condition(condition_name, custom_condition)"
   ]
  },
  {
   "cell_type": "markdown",
   "id": "6c194fdd",
   "metadata": {},
   "source": [
    "Now we will use a Suite to demonstrate the action of the condition, since the suite runs the condition for us automatically and prints out a Conditions Summary table (for all the conditions defined on the checks within the suite):"
   ]
  },
  {
   "cell_type": "code",
   "execution_count": 8,
   "id": "39b8606b",
   "metadata": {
    "execution": {
     "iopub.execute_input": "2022-02-21T11:55:14.679333Z",
     "iopub.status.busy": "2022-02-21T11:55:14.679152Z",
     "iopub.status.idle": "2022-02-21T11:55:15.335434Z",
     "shell.execute_reply": "2022-02-21T11:55:15.334944Z"
    }
   },
   "outputs": [
    {
     "data": {
      "application/vnd.jupyter.widget-view+json": {
       "model_id": "e283bde703a44f1988c91ae5daf0523f",
       "version_major": 2,
       "version_minor": 0
      },
      "text/plain": [
       "Suite for Condition:   0%|          | 0/1 [00:00<?, ? Check/s]"
      ]
     },
     "metadata": {},
     "output_type": "display_data"
    },
    {
     "data": {
      "application/vnd.jupyter.widget-view+json": {
       "model_id": "8c041fe3e92b4bb09754adc4e4ff4d4d",
       "version_major": 2,
       "version_minor": 0
      },
      "text/plain": [
       "VBox(children=(HTML(value='\\n        <h1 id=\"summary_5YIDW\">Suite for Condition</h1>\\n        <p>\\n           …"
      ]
     },
     "metadata": {},
     "output_type": "display_data"
    }
   ],
   "source": [
    "from deepchecks import Suite\n",
    "\n",
    "# Using suite to run check & condition\n",
    "suite = Suite('Suite for Condition',\n",
    "    check\n",
    ")\n",
    "\n",
    "suite.run(train_dataset, test_dataset)"
   ]
  },
  {
   "cell_type": "markdown",
   "id": "8d0eba67",
   "metadata": {},
   "source": [
    "----------------\n",
    "## Set Custom Condition Category"
   ]
  },
  {
   "cell_type": "markdown",
   "id": "5afdc396",
   "metadata": {},
   "source": [
    "When writing your own condition logic, you can decide to mark a condition result as either fail or warn, by passing the category to the `ConditionResult` object.\n",
    "For example we can even write condition which sets the category based on severity of the result:"
   ]
  },
  {
   "cell_type": "code",
   "execution_count": 9,
   "id": "b6ce24a3",
   "metadata": {
    "execution": {
     "iopub.execute_input": "2022-02-21T11:55:15.349115Z",
     "iopub.status.busy": "2022-02-21T11:55:15.348882Z",
     "iopub.status.idle": "2022-02-21T11:55:15.353110Z",
     "shell.execute_reply": "2022-02-21T11:55:15.352645Z"
    },
    "tags": []
   },
   "outputs": [],
   "source": [
    "from deepchecks.core import ConditionResult, ConditionCategory\n",
    "\n",
    "# Our parameters for the condition\n",
    "low_threshold = 0.3\n",
    "high_threshold = 0.7\n",
    "\n",
    "# Create the condition function for check `DatasetsSizeComparison`\n",
    "def custom_condition(value: dict): \n",
    "    ratio = value['Test'] / value['Train']\n",
    "    if low_threshold <= ratio <= high_threshold:\n",
    "        return ConditionResult(True)\n",
    "    elif ratio < low_threshold:\n",
    "        return ConditionResult(False, f'Test-Train ratio is {ratio:.2}', ConditionCategory.FAIL)\n",
    "    else:\n",
    "        return ConditionResult(False, f'Test-Train ratio is {ratio:.2}', ConditionCategory.WARN)"
   ]
  }
 ],
 "metadata": {
  "kernelspec": {
   "display_name": "Python 3 (ipykernel)",
   "language": "python",
   "name": "python3"
  },
  "language_info": {
   "codemirror_mode": {
    "name": "ipython",
    "version": 3
   },
   "file_extension": ".py",
   "mimetype": "text/x-python",
   "name": "python",
   "nbconvert_exporter": "python",
   "pygments_lexer": "ipython3",
   "version": "3.9.0"
  },
  "widgets": {
   "application/vnd.jupyter.widget-state+json": {
    "state": {
     "06997f6ff033429aae02905dd46c2291": {
      "model_module": "@jupyter-widgets/controls",
      "model_module_version": "1.5.0",
      "model_name": "HTMLModel",
      "state": {
       "_dom_classes": [],
       "_model_module": "@jupyter-widgets/controls",
       "_model_module_version": "1.5.0",
       "_model_name": "HTMLModel",
       "_view_count": null,
       "_view_module": "@jupyter-widgets/controls",
       "_view_module_version": "1.5.0",
       "_view_name": "HTMLView",
       "description": "",
       "description_tooltip": null,
       "layout": "IPY_MODEL_da10bd649da8479ea7799986d088b615",
       "placeholder": "​",
       "style": "IPY_MODEL_3781a7933ee84737bbebf3a17c62f286",
       "value": "<h2>Check Without Conditions Output</h2>"
      }
     },
     "074f215026324ed8a8668735a04f194b": {
      "model_module": "@jupyter-widgets/base",
      "model_module_version": "1.2.0",
      "model_name": "LayoutModel",
      "state": {
       "_model_module": "@jupyter-widgets/base",
       "_model_module_version": "1.2.0",
       "_model_name": "LayoutModel",
       "_view_count": null,
       "_view_module": "@jupyter-widgets/base",
       "_view_module_version": "1.2.0",
       "_view_name": "LayoutView",
       "align_content": null,
       "align_items": null,
       "align_self": null,
       "border": null,
       "bottom": null,
       "display": null,
       "flex": null,
       "flex_flow": null,
       "grid_area": null,
       "grid_auto_columns": null,
       "grid_auto_flow": null,
       "grid_auto_rows": null,
       "grid_column": null,
       "grid_gap": null,
       "grid_row": null,
       "grid_template_areas": null,
       "grid_template_columns": null,
       "grid_template_rows": null,
       "height": null,
       "justify_content": null,
       "justify_items": null,
       "left": null,
       "margin": null,
       "max_height": null,
       "max_width": null,
       "min_height": null,
       "min_width": null,
       "object_fit": null,
       "object_position": null,
       "order": null,
       "overflow": null,
       "overflow_x": null,
       "overflow_y": null,
       "padding": null,
       "right": null,
       "top": null,
       "visibility": null,
       "width": null
      }
     },
     "0b4ab48d337f492ca39dc7bb845d41e6": {
      "model_module": "@jupyter-widgets/controls",
      "model_module_version": "1.5.0",
      "model_name": "DescriptionStyleModel",
      "state": {
       "_model_module": "@jupyter-widgets/controls",
       "_model_module_version": "1.5.0",
       "_model_name": "DescriptionStyleModel",
       "_view_count": null,
       "_view_module": "@jupyter-widgets/base",
       "_view_module_version": "1.2.0",
       "_view_name": "StyleView",
       "description_width": ""
      }
     },
     "1ca39774b8734ae48ad548a7a4c2d079": {
      "model_module": "@jupyter-widgets/controls",
      "model_module_version": "1.5.0",
      "model_name": "HTMLModel",
      "state": {
       "_dom_classes": [],
       "_model_module": "@jupyter-widgets/controls",
       "_model_module_version": "1.5.0",
       "_model_name": "HTMLModel",
       "_view_count": null,
       "_view_module": "@jupyter-widgets/controls",
       "_view_module_version": "1.5.0",
       "_view_name": "HTMLView",
       "description": "",
       "description_tooltip": null,
       "layout": "IPY_MODEL_4fca58c37c7e41f8b8b9c6cf065d9e6e",
       "placeholder": "​",
       "style": "IPY_MODEL_57c2c594c43a42ee8bfe2795edd35c0c",
       "value": "<style>.jupyter-widgets.widget-tab > .p-TabBar .p-TabBar-tab {flex: 0 1 auto}</style>"
      }
     },
     "1d964c22a4cb44628101b995b2122ca5": {
      "model_module": "@jupyter-widgets/controls",
      "model_module_version": "1.5.0",
      "model_name": "HTMLModel",
      "state": {
       "_dom_classes": [],
       "_model_module": "@jupyter-widgets/controls",
       "_model_module_version": "1.5.0",
       "_model_name": "HTMLModel",
       "_view_count": null,
       "_view_module": "@jupyter-widgets/controls",
       "_view_module_version": "1.5.0",
       "_view_name": "HTMLView",
       "description": "",
       "description_tooltip": null,
       "layout": "IPY_MODEL_3fbb97301cc244839d818563b4cd9011",
       "placeholder": "​",
       "style": "IPY_MODEL_a016165e7991497fb9c843b0dc9bbe82",
       "value": "<style type=\"text/css\">\n#T_a109b table {\n  text-align: left;\n  white-space: pre-wrap;\n}\n#T_a109b thead {\n  text-align: left;\n  white-space: pre-wrap;\n}\n#T_a109b tbody {\n  text-align: left;\n  white-space: pre-wrap;\n}\n#T_a109b th {\n  text-align: left;\n  white-space: pre-wrap;\n}\n#T_a109b td {\n  text-align: left;\n  white-space: pre-wrap;\n}\n</style>\n<table id=\"T_a109b\">\n  <thead>\n    <tr>\n      <th id=\"T_a109b_level0_col0\" class=\"col_heading level0 col0\" >Status</th>\n      <th id=\"T_a109b_level0_col1\" class=\"col_heading level0 col1\" >Check</th>\n      <th id=\"T_a109b_level0_col2\" class=\"col_heading level0 col2\" >Condition</th>\n      <th id=\"T_a109b_level0_col3\" class=\"col_heading level0 col3\" >More Info</th>\n    </tr>\n  </thead>\n  <tbody>\n    <tr>\n      <td id=\"T_a109b_row0_col0\" class=\"data row0 col0\" ><div style=\"color: red;text-align: center\">✖</div></td>\n      <td id=\"T_a109b_row0_col1\" class=\"data row0 col1\" ><a href=#DatasetsSizeComparison_5YIDW>Datasets Size Comparison</a></td>\n      <td id=\"T_a109b_row0_col2\" class=\"data row0 col2\" >Test-Train ratio is between 0.4 to 0.6</td>\n      <td id=\"T_a109b_row0_col3\" class=\"data row0 col3\" >Test-Train ratio is 0.33</td>\n    </tr>\n  </tbody>\n</table>\n"
      }
     },
     "1e9272e13f524ae6b5af207cf7d90137": {
      "model_module": "@jupyter-widgets/controls",
      "model_module_version": "1.5.0",
      "model_name": "HTMLModel",
      "state": {
       "_dom_classes": [],
       "_model_module": "@jupyter-widgets/controls",
       "_model_module_version": "1.5.0",
       "_model_name": "HTMLModel",
       "_view_count": null,
       "_view_module": "@jupyter-widgets/controls",
       "_view_module_version": "1.5.0",
       "_view_name": "HTMLView",
       "description": "",
       "description_tooltip": null,
       "layout": "IPY_MODEL_a64ba98cc1664d2eaf4c944ecc996b28",
       "placeholder": "​",
       "style": "IPY_MODEL_dbd211390b1f4ddaae14a05c85fb1b33",
       "value": "<p>No outputs to show.</p>"
      }
     },
     "219e829d18bc4b22bc6d82ed73f3adb5": {
      "model_module": "@jupyter-widgets/controls",
      "model_module_version": "1.5.0",
      "model_name": "DescriptionStyleModel",
      "state": {
       "_model_module": "@jupyter-widgets/controls",
       "_model_module_version": "1.5.0",
       "_model_name": "DescriptionStyleModel",
       "_view_count": null,
       "_view_module": "@jupyter-widgets/base",
       "_view_module_version": "1.2.0",
       "_view_name": "StyleView",
       "description_width": ""
      }
     },
     "2324d62c053c4dcabcfca82942734ff0": {
      "model_module": "@jupyter-widgets/controls",
      "model_module_version": "1.5.0",
      "model_name": "HTMLModel",
      "state": {
       "_dom_classes": [],
       "_model_module": "@jupyter-widgets/controls",
       "_model_module_version": "1.5.0",
       "_model_name": "HTMLModel",
       "_view_count": null,
       "_view_module": "@jupyter-widgets/controls",
       "_view_module_version": "1.5.0",
       "_view_name": "HTMLView",
       "description": "",
       "description_tooltip": null,
       "layout": "IPY_MODEL_f524b9d92e8b437c8bdb0afdee0b3ba0",
       "placeholder": "​",
       "style": "IPY_MODEL_585d4ccaddce43b986cf79fe01422c72",
       "value": "<h4 id=\"DatasetsSizeComparison_5YIDW\">Datasets Size Comparison</h4><p>Verify test dataset size comparing it to the train dataset size. <a href=\"https://docs.deepchecks.com/en/0.5.0.dev0/examples/tabular/checks/methodology/datasets_size_comparison.html?utm_source=display_output&utm_medium=referral&utm_campaign=check_link\" target=\"_blank\">Read More...</a></p><h5>Conditions Summary</h5><style type=\"text/css\">\n#T_5a566 table {\n  text-align: left;\n  white-space: pre-wrap;\n}\n#T_5a566 thead {\n  text-align: left;\n  white-space: pre-wrap;\n}\n#T_5a566 tbody {\n  text-align: left;\n  white-space: pre-wrap;\n}\n#T_5a566 th {\n  text-align: left;\n  white-space: pre-wrap;\n}\n#T_5a566 td {\n  text-align: left;\n  white-space: pre-wrap;\n}\n</style>\n<table id=\"T_5a566\">\n  <thead>\n    <tr>\n      <th id=\"T_5a566_level0_col0\" class=\"col_heading level0 col0\" >Status</th>\n      <th id=\"T_5a566_level0_col1\" class=\"col_heading level0 col1\" >Condition</th>\n      <th id=\"T_5a566_level0_col2\" class=\"col_heading level0 col2\" >More Info</th>\n    </tr>\n  </thead>\n  <tbody>\n    <tr>\n      <td id=\"T_5a566_row0_col0\" class=\"data row0 col0\" ><div style=\"color: red;text-align: center\">✖</div></td>\n      <td id=\"T_5a566_row0_col1\" class=\"data row0 col1\" >Test-Train ratio is between 0.4 to 0.6</td>\n      <td id=\"T_5a566_row0_col2\" class=\"data row0 col2\" >Test-Train ratio is 0.33</td>\n    </tr>\n  </tbody>\n</table>\n<h5>Additional Outputs</h5><style type=\"text/css\">\n#T_8ab81 table {\n  text-align: left;\n  white-space: pre-wrap;\n}\n#T_8ab81 thead {\n  text-align: left;\n  white-space: pre-wrap;\n}\n#T_8ab81 tbody {\n  text-align: left;\n  white-space: pre-wrap;\n}\n#T_8ab81 th {\n  text-align: left;\n  white-space: pre-wrap;\n}\n#T_8ab81 td {\n  text-align: left;\n  white-space: pre-wrap;\n}\n</style>\n<table id=\"T_8ab81\">\n  <thead>\n    <tr>\n      <th class=\"blank level0\" >&nbsp;</th>\n      <th id=\"T_8ab81_level0_col0\" class=\"col_heading level0 col0\" >Train</th>\n      <th id=\"T_8ab81_level0_col1\" class=\"col_heading level0 col1\" >Test</th>\n    </tr>\n  </thead>\n  <tbody>\n    <tr>\n      <th id=\"T_8ab81_level0_row0\" class=\"row_heading level0 row0\" >Size</th>\n      <td id=\"T_8ab81_row0_col0\" class=\"data row0 col0\" >9</td>\n      <td id=\"T_8ab81_row0_col1\" class=\"data row0 col1\" >3</td>\n    </tr>\n  </tbody>\n</table>\n<br><a href=\"#summary_5YIDW\" style=\"font-size: 14px\">Go to top</a>"
      }
     },
     "27928986d2164307b73d59199bf58c07": {
      "model_module": "@jupyter-widgets/base",
      "model_module_version": "1.2.0",
      "model_name": "LayoutModel",
      "state": {
       "_model_module": "@jupyter-widgets/base",
       "_model_module_version": "1.2.0",
       "_model_name": "LayoutModel",
       "_view_count": null,
       "_view_module": "@jupyter-widgets/base",
       "_view_module_version": "1.2.0",
       "_view_name": "LayoutView",
       "align_content": null,
       "align_items": null,
       "align_self": null,
       "border": null,
       "bottom": null,
       "display": null,
       "flex": null,
       "flex_flow": null,
       "grid_area": null,
       "grid_auto_columns": null,
       "grid_auto_flow": null,
       "grid_auto_rows": null,
       "grid_column": null,
       "grid_gap": null,
       "grid_row": null,
       "grid_template_areas": null,
       "grid_template_columns": null,
       "grid_template_rows": null,
       "height": null,
       "justify_content": null,
       "justify_items": null,
       "left": null,
       "margin": null,
       "max_height": null,
       "max_width": null,
       "min_height": null,
       "min_width": null,
       "object_fit": null,
       "object_position": null,
       "order": null,
       "overflow": null,
       "overflow_x": null,
       "overflow_y": null,
       "padding": null,
       "right": null,
       "top": null,
       "visibility": null,
       "width": null
      }
     },
     "35d56f5c961e403589239ff647e1ccb3": {
      "model_module": "@jupyter-widgets/controls",
      "model_module_version": "1.5.0",
      "model_name": "TabModel",
      "state": {
       "_dom_classes": [],
       "_model_module": "@jupyter-widgets/controls",
       "_model_module_version": "1.5.0",
       "_model_name": "TabModel",
       "_titles": {
        "0": "Checks With Conditions",
        "1": "Checks Without Conditions",
        "2": "Checks Without Output"
       },
       "_view_count": null,
       "_view_module": "@jupyter-widgets/controls",
       "_view_module_version": "1.5.0",
       "_view_name": "TabView",
       "box_style": "",
       "children": [
        "IPY_MODEL_4caa281597804b568c89c52f84223937",
        "IPY_MODEL_4029bb3f037a4975a0ca3769bc167a12",
        "IPY_MODEL_4c26e88675d74531951ed8b39ed8591d"
       ],
       "layout": "IPY_MODEL_77def6a94412459aa577dddef9272c85",
       "selected_index": 0
      }
     },
     "3781a7933ee84737bbebf3a17c62f286": {
      "model_module": "@jupyter-widgets/controls",
      "model_module_version": "1.5.0",
      "model_name": "DescriptionStyleModel",
      "state": {
       "_model_module": "@jupyter-widgets/controls",
       "_model_module_version": "1.5.0",
       "_model_name": "DescriptionStyleModel",
       "_view_count": null,
       "_view_module": "@jupyter-widgets/base",
       "_view_module_version": "1.2.0",
       "_view_name": "StyleView",
       "description_width": ""
      }
     },
     "39276dfbedb54bceb897067edba05d2f": {
      "model_module": "@jupyter-widgets/base",
      "model_module_version": "1.2.0",
      "model_name": "LayoutModel",
      "state": {
       "_model_module": "@jupyter-widgets/base",
       "_model_module_version": "1.2.0",
       "_model_name": "LayoutModel",
       "_view_count": null,
       "_view_module": "@jupyter-widgets/base",
       "_view_module_version": "1.2.0",
       "_view_name": "LayoutView",
       "align_content": null,
       "align_items": null,
       "align_self": null,
       "border": null,
       "bottom": null,
       "display": null,
       "flex": null,
       "flex_flow": null,
       "grid_area": null,
       "grid_auto_columns": null,
       "grid_auto_flow": null,
       "grid_auto_rows": null,
       "grid_column": null,
       "grid_gap": null,
       "grid_row": null,
       "grid_template_areas": null,
       "grid_template_columns": null,
       "grid_template_rows": null,
       "height": null,
       "justify_content": null,
       "justify_items": null,
       "left": null,
       "margin": null,
       "max_height": null,
       "max_width": null,
       "min_height": null,
       "min_width": null,
       "object_fit": null,
       "object_position": null,
       "order": null,
       "overflow": null,
       "overflow_x": null,
       "overflow_y": null,
       "padding": null,
       "right": null,
       "top": null,
       "visibility": null,
       "width": null
      }
     },
     "3b0eb176571642e4a33db63c4079127d": {
      "model_module": "@jupyter-widgets/base",
      "model_module_version": "1.2.0",
      "model_name": "LayoutModel",
      "state": {
       "_model_module": "@jupyter-widgets/base",
       "_model_module_version": "1.2.0",
       "_model_name": "LayoutModel",
       "_view_count": null,
       "_view_module": "@jupyter-widgets/base",
       "_view_module_version": "1.2.0",
       "_view_name": "LayoutView",
       "align_content": null,
       "align_items": null,
       "align_self": null,
       "border": null,
       "bottom": null,
       "display": null,
       "flex": null,
       "flex_flow": null,
       "grid_area": null,
       "grid_auto_columns": null,
       "grid_auto_flow": null,
       "grid_auto_rows": null,
       "grid_column": null,
       "grid_gap": null,
       "grid_row": null,
       "grid_template_areas": null,
       "grid_template_columns": null,
       "grid_template_rows": null,
       "height": null,
       "justify_content": null,
       "justify_items": null,
       "left": null,
       "margin": null,
       "max_height": null,
       "max_width": null,
       "min_height": null,
       "min_width": null,
       "object_fit": null,
       "object_position": null,
       "order": null,
       "overflow": null,
       "overflow_x": null,
       "overflow_y": null,
       "padding": null,
       "right": null,
       "top": null,
       "visibility": null,
       "width": null
      }
     },
     "3fbb97301cc244839d818563b4cd9011": {
      "model_module": "@jupyter-widgets/base",
      "model_module_version": "1.2.0",
      "model_name": "LayoutModel",
      "state": {
       "_model_module": "@jupyter-widgets/base",
       "_model_module_version": "1.2.0",
       "_model_name": "LayoutModel",
       "_view_count": null,
       "_view_module": "@jupyter-widgets/base",
       "_view_module_version": "1.2.0",
       "_view_name": "LayoutView",
       "align_content": null,
       "align_items": null,
       "align_self": null,
       "border": null,
       "bottom": null,
       "display": null,
       "flex": null,
       "flex_flow": null,
       "grid_area": null,
       "grid_auto_columns": null,
       "grid_auto_flow": null,
       "grid_auto_rows": null,
       "grid_column": null,
       "grid_gap": null,
       "grid_row": null,
       "grid_template_areas": null,
       "grid_template_columns": null,
       "grid_template_rows": null,
       "height": null,
       "justify_content": null,
       "justify_items": null,
       "left": null,
       "margin": null,
       "max_height": null,
       "max_width": null,
       "min_height": null,
       "min_width": null,
       "object_fit": null,
       "object_position": null,
       "order": null,
       "overflow": null,
       "overflow_x": null,
       "overflow_y": null,
       "padding": null,
       "right": null,
       "top": null,
       "visibility": null,
       "width": null
      }
     },
     "4029bb3f037a4975a0ca3769bc167a12": {
      "model_module": "@jupyter-widgets/controls",
      "model_module_version": "1.5.0",
      "model_name": "VBoxModel",
      "state": {
       "_dom_classes": [
        "rendered_html",
        "jp-RenderedHTMLCommon",
        "jp-RenderedHTML",
        "jp-OutputArea-output"
       ],
       "_model_module": "@jupyter-widgets/controls",
       "_model_module_version": "1.5.0",
       "_model_name": "VBoxModel",
       "_view_count": null,
       "_view_module": "@jupyter-widgets/controls",
       "_view_module_version": "1.5.0",
       "_view_name": "VBoxView",
       "box_style": "",
       "children": [
        "IPY_MODEL_06997f6ff033429aae02905dd46c2291",
        "IPY_MODEL_1e9272e13f524ae6b5af207cf7d90137"
       ],
       "layout": "IPY_MODEL_a88dfbd3e52f4a87b7873bc83fe1e4ed"
      }
     },
     "44986f2d3df74b64b0575ffb1aef7835": {
      "model_module": "@jupyter-widgets/base",
      "model_module_version": "1.2.0",
      "model_name": "LayoutModel",
      "state": {
       "_model_module": "@jupyter-widgets/base",
       "_model_module_version": "1.2.0",
       "_model_name": "LayoutModel",
       "_view_count": null,
       "_view_module": "@jupyter-widgets/base",
       "_view_module_version": "1.2.0",
       "_view_name": "LayoutView",
       "align_content": null,
       "align_items": null,
       "align_self": null,
       "border": null,
       "bottom": null,
       "display": null,
       "flex": null,
       "flex_flow": null,
       "grid_area": null,
       "grid_auto_columns": null,
       "grid_auto_flow": null,
       "grid_auto_rows": null,
       "grid_column": null,
       "grid_gap": null,
       "grid_row": null,
       "grid_template_areas": null,
       "grid_template_columns": null,
       "grid_template_rows": null,
       "height": null,
       "justify_content": null,
       "justify_items": null,
       "left": null,
       "margin": null,
       "max_height": null,
       "max_width": null,
       "min_height": null,
       "min_width": null,
       "object_fit": null,
       "object_position": null,
       "order": null,
       "overflow": null,
       "overflow_x": null,
       "overflow_y": null,
       "padding": null,
       "right": null,
       "top": null,
       "visibility": null,
       "width": null
      }
     },
     "4c26e88675d74531951ed8b39ed8591d": {
      "model_module": "@jupyter-widgets/controls",
      "model_module_version": "1.5.0",
      "model_name": "VBoxModel",
      "state": {
       "_dom_classes": [],
       "_model_module": "@jupyter-widgets/controls",
       "_model_module_version": "1.5.0",
       "_model_name": "VBoxModel",
       "_view_count": null,
       "_view_module": "@jupyter-widgets/controls",
       "_view_module_version": "1.5.0",
       "_view_name": "VBoxView",
       "box_style": "",
       "children": [
        "IPY_MODEL_e3c41b3bec3c4ef4a189692e7171b3e6"
       ],
       "layout": "IPY_MODEL_3b0eb176571642e4a33db63c4079127d"
      }
     },
     "4caa281597804b568c89c52f84223937": {
      "model_module": "@jupyter-widgets/controls",
      "model_module_version": "1.5.0",
      "model_name": "VBoxModel",
      "state": {
       "_dom_classes": [
        "rendered_html",
        "jp-RenderedHTMLCommon",
        "jp-RenderedHTML",
        "jp-OutputArea-output"
       ],
       "_model_module": "@jupyter-widgets/controls",
       "_model_module_version": "1.5.0",
       "_model_name": "VBoxModel",
       "_view_count": null,
       "_view_module": "@jupyter-widgets/controls",
       "_view_module_version": "1.5.0",
       "_view_name": "VBoxView",
       "box_style": "",
       "children": [
        "IPY_MODEL_fda3201627f8414fac3685421fc1e54c",
        "IPY_MODEL_f8aa9f29cce449b598ad010bc5ce1be2",
        "IPY_MODEL_a9485f4343a241e1a884152f861f8290",
        "IPY_MODEL_da4c430ed92f4d27881eaf2044e9afee"
       ],
       "layout": "IPY_MODEL_e11561b57b044a83ae6040d78a7dd72b"
      }
     },
     "4fca58c37c7e41f8b8b9c6cf065d9e6e": {
      "model_module": "@jupyter-widgets/base",
      "model_module_version": "1.2.0",
      "model_name": "LayoutModel",
      "state": {
       "_model_module": "@jupyter-widgets/base",
       "_model_module_version": "1.2.0",
       "_model_name": "LayoutModel",
       "_view_count": null,
       "_view_module": "@jupyter-widgets/base",
       "_view_module_version": "1.2.0",
       "_view_name": "LayoutView",
       "align_content": null,
       "align_items": null,
       "align_self": null,
       "border": null,
       "bottom": null,
       "display": null,
       "flex": null,
       "flex_flow": null,
       "grid_area": null,
       "grid_auto_columns": null,
       "grid_auto_flow": null,
       "grid_auto_rows": null,
       "grid_column": null,
       "grid_gap": null,
       "grid_row": null,
       "grid_template_areas": null,
       "grid_template_columns": null,
       "grid_template_rows": null,
       "height": null,
       "justify_content": null,
       "justify_items": null,
       "left": null,
       "margin": null,
       "max_height": null,
       "max_width": null,
       "min_height": null,
       "min_width": null,
       "object_fit": null,
       "object_position": null,
       "order": null,
       "overflow": null,
       "overflow_x": null,
       "overflow_y": null,
       "padding": null,
       "right": null,
       "top": null,
       "visibility": null,
       "width": null
      }
     },
     "57c2c594c43a42ee8bfe2795edd35c0c": {
      "model_module": "@jupyter-widgets/controls",
      "model_module_version": "1.5.0",
      "model_name": "DescriptionStyleModel",
      "state": {
       "_model_module": "@jupyter-widgets/controls",
       "_model_module_version": "1.5.0",
       "_model_name": "DescriptionStyleModel",
       "_view_count": null,
       "_view_module": "@jupyter-widgets/base",
       "_view_module_version": "1.2.0",
       "_view_name": "StyleView",
       "description_width": ""
      }
     },
     "585d4ccaddce43b986cf79fe01422c72": {
      "model_module": "@jupyter-widgets/controls",
      "model_module_version": "1.5.0",
      "model_name": "DescriptionStyleModel",
      "state": {
       "_model_module": "@jupyter-widgets/controls",
       "_model_module_version": "1.5.0",
       "_model_name": "DescriptionStyleModel",
       "_view_count": null,
       "_view_module": "@jupyter-widgets/base",
       "_view_module_version": "1.2.0",
       "_view_name": "StyleView",
       "description_width": ""
      }
     },
     "589b333caca14b189d7c45bb7405232c": {
      "model_module": "@jupyter-widgets/controls",
      "model_module_version": "1.5.0",
      "model_name": "HTMLModel",
      "state": {
       "_dom_classes": [],
       "_model_module": "@jupyter-widgets/controls",
       "_model_module_version": "1.5.0",
       "_model_name": "HTMLModel",
       "_view_count": null,
       "_view_module": "@jupyter-widgets/controls",
       "_view_module_version": "1.5.0",
       "_view_name": "HTMLView",
       "description": "",
       "description_tooltip": null,
       "layout": "IPY_MODEL_074f215026324ed8a8668735a04f194b",
       "placeholder": "​",
       "style": "IPY_MODEL_f54caba231594cddad91644ca3f8e208",
       "value": " 0/1 [00:00&lt;?, ? Check/s, Check=Datasets Size Comparison]"
      }
     },
     "631108158d7c446e9b51f8664ed0fa26": {
      "model_module": "@jupyter-widgets/controls",
      "model_module_version": "1.5.0",
      "model_name": "FloatProgressModel",
      "state": {
       "_dom_classes": [],
       "_model_module": "@jupyter-widgets/controls",
       "_model_module_version": "1.5.0",
       "_model_name": "FloatProgressModel",
       "_view_count": null,
       "_view_module": "@jupyter-widgets/controls",
       "_view_module_version": "1.5.0",
       "_view_name": "ProgressView",
       "bar_style": "",
       "description": "",
       "description_tooltip": null,
       "layout": "IPY_MODEL_b3e1408b2165419d9a6efb60f1e08d6d",
       "max": 1,
       "min": 0,
       "orientation": "horizontal",
       "style": "IPY_MODEL_e7dab874c570428b841ffd15c1f4e449",
       "value": 1
      }
     },
     "71aee5016efc4312814d1919207117a9": {
      "model_module": "@jupyter-widgets/controls",
      "model_module_version": "1.5.0",
      "model_name": "DescriptionStyleModel",
      "state": {
       "_model_module": "@jupyter-widgets/controls",
       "_model_module_version": "1.5.0",
       "_model_name": "DescriptionStyleModel",
       "_view_count": null,
       "_view_module": "@jupyter-widgets/base",
       "_view_module_version": "1.2.0",
       "_view_name": "StyleView",
       "description_width": ""
      }
     },
     "77def6a94412459aa577dddef9272c85": {
      "model_module": "@jupyter-widgets/base",
      "model_module_version": "1.2.0",
      "model_name": "LayoutModel",
      "state": {
       "_model_module": "@jupyter-widgets/base",
       "_model_module_version": "1.2.0",
       "_model_name": "LayoutModel",
       "_view_count": null,
       "_view_module": "@jupyter-widgets/base",
       "_view_module_version": "1.2.0",
       "_view_name": "LayoutView",
       "align_content": null,
       "align_items": null,
       "align_self": null,
       "border": null,
       "bottom": null,
       "display": null,
       "flex": null,
       "flex_flow": null,
       "grid_area": null,
       "grid_auto_columns": null,
       "grid_auto_flow": null,
       "grid_auto_rows": null,
       "grid_column": null,
       "grid_gap": null,
       "grid_row": null,
       "grid_template_areas": null,
       "grid_template_columns": null,
       "grid_template_rows": null,
       "height": null,
       "justify_content": null,
       "justify_items": null,
       "left": null,
       "margin": null,
       "max_height": null,
       "max_width": null,
       "min_height": null,
       "min_width": null,
       "object_fit": null,
       "object_position": null,
       "order": null,
       "overflow": null,
       "overflow_x": null,
       "overflow_y": null,
       "padding": null,
       "right": null,
       "top": null,
       "visibility": null,
       "width": null
      }
     },
     "789f4d55dae64de989e65041b5174448": {
      "model_module": "@jupyter-widgets/controls",
      "model_module_version": "1.5.0",
      "model_name": "HTMLModel",
      "state": {
       "_dom_classes": [],
       "_model_module": "@jupyter-widgets/controls",
       "_model_module_version": "1.5.0",
       "_model_name": "HTMLModel",
       "_view_count": null,
       "_view_module": "@jupyter-widgets/controls",
       "_view_module_version": "1.5.0",
       "_view_name": "HTMLView",
       "description": "",
       "description_tooltip": null,
       "layout": "IPY_MODEL_44986f2d3df74b64b0575ffb1aef7835",
       "placeholder": "​",
       "style": "IPY_MODEL_fd3ec6498de34897a37ce833ff0e0165",
       "value": "\n        <h1 id=\"summary_5YIDW\">Suite for Condition</h1>\n        <p>\n            The suite is composed of the following checks: Datasets Size Comparison.<br>\n            Each check may contain conditions (which will result in pass / fail / warning, represented by \n    <span style=\"color: green;display:inline-block\">✓</span> /\n    <span style=\"color: red;display:inline-block\">✖</span> /\n    <span style=\"color: orange;font-weight:bold;display:inline-block\">!</span>\n    )\n            as well as other outputs such as plots or tables.<br>\n            Suites, checks and conditions can all be modified. Read more about\n            <a href=https://docs.deepchecks.com/en/stable/examples/guides/create_a_custom_suite.html?utm_source=display_output&utm_medium=referral&utm_campaign=suite_link target=\"_blank\">custom suites</a>.\n        </p>\n        "
      }
     },
     "78a59b27b86c4d5086db5a5f1c3e3b2c": {
      "model_module": "@jupyter-widgets/base",
      "model_module_version": "1.2.0",
      "model_name": "LayoutModel",
      "state": {
       "_model_module": "@jupyter-widgets/base",
       "_model_module_version": "1.2.0",
       "_model_name": "LayoutModel",
       "_view_count": null,
       "_view_module": "@jupyter-widgets/base",
       "_view_module_version": "1.2.0",
       "_view_name": "LayoutView",
       "align_content": null,
       "align_items": null,
       "align_self": null,
       "border": null,
       "bottom": null,
       "display": null,
       "flex": null,
       "flex_flow": null,
       "grid_area": null,
       "grid_auto_columns": null,
       "grid_auto_flow": null,
       "grid_auto_rows": null,
       "grid_column": null,
       "grid_gap": null,
       "grid_row": null,
       "grid_template_areas": null,
       "grid_template_columns": null,
       "grid_template_rows": null,
       "height": null,
       "justify_content": null,
       "justify_items": null,
       "left": null,
       "margin": null,
       "max_height": null,
       "max_width": null,
       "min_height": null,
       "min_width": null,
       "object_fit": null,
       "object_position": null,
       "order": null,
       "overflow": null,
       "overflow_x": null,
       "overflow_y": null,
       "padding": null,
       "right": null,
       "top": null,
       "visibility": null,
       "width": null
      }
     },
     "82821e9b1cc34343bd2bd171d23e3754": {
      "model_module": "@jupyter-widgets/controls",
      "model_module_version": "1.5.0",
      "model_name": "HTMLModel",
      "state": {
       "_dom_classes": [],
       "_model_module": "@jupyter-widgets/controls",
       "_model_module_version": "1.5.0",
       "_model_name": "HTMLModel",
       "_view_count": null,
       "_view_module": "@jupyter-widgets/controls",
       "_view_module_version": "1.5.0",
       "_view_name": "HTMLView",
       "description": "",
       "description_tooltip": null,
       "layout": "IPY_MODEL_ca88648e9e9244378e58386b77f15a64",
       "placeholder": "​",
       "style": "IPY_MODEL_e4ae349cf4b340fa8df262eb2eb3e406",
       "value": "Suite for Condition:   0%"
      }
     },
     "8c041fe3e92b4bb09754adc4e4ff4d4d": {
      "model_module": "@jupyter-widgets/controls",
      "model_module_version": "1.5.0",
      "model_name": "VBoxModel",
      "state": {
       "_dom_classes": [],
       "_model_module": "@jupyter-widgets/controls",
       "_model_module_version": "1.5.0",
       "_model_name": "VBoxModel",
       "_view_count": null,
       "_view_module": "@jupyter-widgets/controls",
       "_view_module_version": "1.5.0",
       "_view_name": "VBoxView",
       "box_style": "",
       "children": [
        "IPY_MODEL_789f4d55dae64de989e65041b5174448",
        "IPY_MODEL_1ca39774b8734ae48ad548a7a4c2d079",
        "IPY_MODEL_35d56f5c961e403589239ff647e1ccb3"
       ],
       "layout": "IPY_MODEL_b85d56dc0080475b8069d43c816fd49c"
      }
     },
     "a016165e7991497fb9c843b0dc9bbe82": {
      "model_module": "@jupyter-widgets/controls",
      "model_module_version": "1.5.0",
      "model_name": "DescriptionStyleModel",
      "state": {
       "_model_module": "@jupyter-widgets/controls",
       "_model_module_version": "1.5.0",
       "_model_name": "DescriptionStyleModel",
       "_view_count": null,
       "_view_module": "@jupyter-widgets/base",
       "_view_module_version": "1.2.0",
       "_view_name": "StyleView",
       "description_width": ""
      }
     },
     "a4e36fc754884d12b27af53b8165c337": {
      "model_module": "@jupyter-widgets/base",
      "model_module_version": "1.2.0",
      "model_name": "LayoutModel",
      "state": {
       "_model_module": "@jupyter-widgets/base",
       "_model_module_version": "1.2.0",
       "_model_name": "LayoutModel",
       "_view_count": null,
       "_view_module": "@jupyter-widgets/base",
       "_view_module_version": "1.2.0",
       "_view_name": "LayoutView",
       "align_content": null,
       "align_items": null,
       "align_self": null,
       "border": null,
       "bottom": null,
       "display": null,
       "flex": null,
       "flex_flow": null,
       "grid_area": null,
       "grid_auto_columns": null,
       "grid_auto_flow": null,
       "grid_auto_rows": null,
       "grid_column": null,
       "grid_gap": null,
       "grid_row": null,
       "grid_template_areas": null,
       "grid_template_columns": null,
       "grid_template_rows": null,
       "height": null,
       "justify_content": null,
       "justify_items": null,
       "left": null,
       "margin": null,
       "max_height": null,
       "max_width": null,
       "min_height": null,
       "min_width": null,
       "object_fit": null,
       "object_position": null,
       "order": null,
       "overflow": null,
       "overflow_x": null,
       "overflow_y": null,
       "padding": null,
       "right": null,
       "top": null,
       "visibility": null,
       "width": null
      }
     },
     "a64ba98cc1664d2eaf4c944ecc996b28": {
      "model_module": "@jupyter-widgets/base",
      "model_module_version": "1.2.0",
      "model_name": "LayoutModel",
      "state": {
       "_model_module": "@jupyter-widgets/base",
       "_model_module_version": "1.2.0",
       "_model_name": "LayoutModel",
       "_view_count": null,
       "_view_module": "@jupyter-widgets/base",
       "_view_module_version": "1.2.0",
       "_view_name": "LayoutView",
       "align_content": null,
       "align_items": null,
       "align_self": null,
       "border": null,
       "bottom": null,
       "display": null,
       "flex": null,
       "flex_flow": null,
       "grid_area": null,
       "grid_auto_columns": null,
       "grid_auto_flow": null,
       "grid_auto_rows": null,
       "grid_column": null,
       "grid_gap": null,
       "grid_row": null,
       "grid_template_areas": null,
       "grid_template_columns": null,
       "grid_template_rows": null,
       "height": null,
       "justify_content": null,
       "justify_items": null,
       "left": null,
       "margin": null,
       "max_height": null,
       "max_width": null,
       "min_height": null,
       "min_width": null,
       "object_fit": null,
       "object_position": null,
       "order": null,
       "overflow": null,
       "overflow_x": null,
       "overflow_y": null,
       "padding": null,
       "right": null,
       "top": null,
       "visibility": null,
       "width": null
      }
     },
     "a88dfbd3e52f4a87b7873bc83fe1e4ed": {
      "model_module": "@jupyter-widgets/base",
      "model_module_version": "1.2.0",
      "model_name": "LayoutModel",
      "state": {
       "_model_module": "@jupyter-widgets/base",
       "_model_module_version": "1.2.0",
       "_model_name": "LayoutModel",
       "_view_count": null,
       "_view_module": "@jupyter-widgets/base",
       "_view_module_version": "1.2.0",
       "_view_name": "LayoutView",
       "align_content": null,
       "align_items": null,
       "align_self": null,
       "border": null,
       "bottom": null,
       "display": null,
       "flex": null,
       "flex_flow": null,
       "grid_area": null,
       "grid_auto_columns": null,
       "grid_auto_flow": null,
       "grid_auto_rows": null,
       "grid_column": null,
       "grid_gap": null,
       "grid_row": null,
       "grid_template_areas": null,
       "grid_template_columns": null,
       "grid_template_rows": null,
       "height": null,
       "justify_content": null,
       "justify_items": null,
       "left": null,
       "margin": null,
       "max_height": null,
       "max_width": null,
       "min_height": null,
       "min_width": null,
       "object_fit": null,
       "object_position": null,
       "order": null,
       "overflow": null,
       "overflow_x": null,
       "overflow_y": null,
       "padding": null,
       "right": null,
       "top": null,
       "visibility": null,
       "width": null
      }
     },
     "a9485f4343a241e1a884152f861f8290": {
      "model_module": "@jupyter-widgets/controls",
      "model_module_version": "1.5.0",
      "model_name": "HTMLModel",
      "state": {
       "_dom_classes": [],
       "_model_module": "@jupyter-widgets/controls",
       "_model_module_version": "1.5.0",
       "_model_name": "HTMLModel",
       "_view_count": null,
       "_view_module": "@jupyter-widgets/controls",
       "_view_module_version": "1.5.0",
       "_view_name": "HTMLView",
       "description": "",
       "description_tooltip": null,
       "layout": "IPY_MODEL_dd1233bc460a49a68c595615060d31f1",
       "placeholder": "​",
       "style": "IPY_MODEL_0b4ab48d337f492ca39dc7bb845d41e6",
       "value": "<h2>Check With Conditions Output</h2>"
      }
     },
     "b3e1408b2165419d9a6efb60f1e08d6d": {
      "model_module": "@jupyter-widgets/base",
      "model_module_version": "1.2.0",
      "model_name": "LayoutModel",
      "state": {
       "_model_module": "@jupyter-widgets/base",
       "_model_module_version": "1.2.0",
       "_model_name": "LayoutModel",
       "_view_count": null,
       "_view_module": "@jupyter-widgets/base",
       "_view_module_version": "1.2.0",
       "_view_name": "LayoutView",
       "align_content": null,
       "align_items": null,
       "align_self": null,
       "border": null,
       "bottom": null,
       "display": null,
       "flex": null,
       "flex_flow": null,
       "grid_area": null,
       "grid_auto_columns": null,
       "grid_auto_flow": null,
       "grid_auto_rows": null,
       "grid_column": null,
       "grid_gap": null,
       "grid_row": null,
       "grid_template_areas": null,
       "grid_template_columns": null,
       "grid_template_rows": null,
       "height": null,
       "justify_content": null,
       "justify_items": null,
       "left": null,
       "margin": null,
       "max_height": null,
       "max_width": null,
       "min_height": null,
       "min_width": null,
       "object_fit": null,
       "object_position": null,
       "order": null,
       "overflow": null,
       "overflow_x": null,
       "overflow_y": null,
       "padding": null,
       "right": null,
       "top": null,
       "visibility": null,
       "width": null
      }
     },
     "b85d56dc0080475b8069d43c816fd49c": {
      "model_module": "@jupyter-widgets/base",
      "model_module_version": "1.2.0",
      "model_name": "LayoutModel",
      "state": {
       "_model_module": "@jupyter-widgets/base",
       "_model_module_version": "1.2.0",
       "_model_name": "LayoutModel",
       "_view_count": null,
       "_view_module": "@jupyter-widgets/base",
       "_view_module_version": "1.2.0",
       "_view_name": "LayoutView",
       "align_content": null,
       "align_items": null,
       "align_self": null,
       "border": null,
       "bottom": null,
       "display": null,
       "flex": null,
       "flex_flow": null,
       "grid_area": null,
       "grid_auto_columns": null,
       "grid_auto_flow": null,
       "grid_auto_rows": null,
       "grid_column": null,
       "grid_gap": null,
       "grid_row": null,
       "grid_template_areas": null,
       "grid_template_columns": null,
       "grid_template_rows": null,
       "height": null,
       "justify_content": null,
       "justify_items": null,
       "left": null,
       "margin": null,
       "max_height": null,
       "max_width": null,
       "min_height": null,
       "min_width": null,
       "object_fit": null,
       "object_position": null,
       "order": null,
       "overflow": null,
       "overflow_x": null,
       "overflow_y": null,
       "padding": null,
       "right": null,
       "top": null,
       "visibility": null,
       "width": null
      }
     },
     "c05e116808c745ca83fa7fcb972e0d51": {
      "model_module": "@jupyter-widgets/base",
      "model_module_version": "1.2.0",
      "model_name": "LayoutModel",
      "state": {
       "_model_module": "@jupyter-widgets/base",
       "_model_module_version": "1.2.0",
       "_model_name": "LayoutModel",
       "_view_count": null,
       "_view_module": "@jupyter-widgets/base",
       "_view_module_version": "1.2.0",
       "_view_name": "LayoutView",
       "align_content": null,
       "align_items": null,
       "align_self": null,
       "border": null,
       "bottom": null,
       "display": null,
       "flex": null,
       "flex_flow": null,
       "grid_area": null,
       "grid_auto_columns": null,
       "grid_auto_flow": null,
       "grid_auto_rows": null,
       "grid_column": null,
       "grid_gap": null,
       "grid_row": null,
       "grid_template_areas": null,
       "grid_template_columns": null,
       "grid_template_rows": null,
       "height": null,
       "justify_content": null,
       "justify_items": null,
       "left": null,
       "margin": null,
       "max_height": null,
       "max_width": null,
       "min_height": null,
       "min_width": null,
       "object_fit": null,
       "object_position": null,
       "order": null,
       "overflow": null,
       "overflow_x": null,
       "overflow_y": null,
       "padding": null,
       "right": null,
       "top": null,
       "visibility": null,
       "width": null
      }
     },
     "ca88648e9e9244378e58386b77f15a64": {
      "model_module": "@jupyter-widgets/base",
      "model_module_version": "1.2.0",
      "model_name": "LayoutModel",
      "state": {
       "_model_module": "@jupyter-widgets/base",
       "_model_module_version": "1.2.0",
       "_model_name": "LayoutModel",
       "_view_count": null,
       "_view_module": "@jupyter-widgets/base",
       "_view_module_version": "1.2.0",
       "_view_name": "LayoutView",
       "align_content": null,
       "align_items": null,
       "align_self": null,
       "border": null,
       "bottom": null,
       "display": null,
       "flex": null,
       "flex_flow": null,
       "grid_area": null,
       "grid_auto_columns": null,
       "grid_auto_flow": null,
       "grid_auto_rows": null,
       "grid_column": null,
       "grid_gap": null,
       "grid_row": null,
       "grid_template_areas": null,
       "grid_template_columns": null,
       "grid_template_rows": null,
       "height": null,
       "justify_content": null,
       "justify_items": null,
       "left": null,
       "margin": null,
       "max_height": null,
       "max_width": null,
       "min_height": null,
       "min_width": null,
       "object_fit": null,
       "object_position": null,
       "order": null,
       "overflow": null,
       "overflow_x": null,
       "overflow_y": null,
       "padding": null,
       "right": null,
       "top": null,
       "visibility": null,
       "width": null
      }
     },
     "da10bd649da8479ea7799986d088b615": {
      "model_module": "@jupyter-widgets/base",
      "model_module_version": "1.2.0",
      "model_name": "LayoutModel",
      "state": {
       "_model_module": "@jupyter-widgets/base",
       "_model_module_version": "1.2.0",
       "_model_name": "LayoutModel",
       "_view_count": null,
       "_view_module": "@jupyter-widgets/base",
       "_view_module_version": "1.2.0",
       "_view_name": "LayoutView",
       "align_content": null,
       "align_items": null,
       "align_self": null,
       "border": null,
       "bottom": null,
       "display": null,
       "flex": null,
       "flex_flow": null,
       "grid_area": null,
       "grid_auto_columns": null,
       "grid_auto_flow": null,
       "grid_auto_rows": null,
       "grid_column": null,
       "grid_gap": null,
       "grid_row": null,
       "grid_template_areas": null,
       "grid_template_columns": null,
       "grid_template_rows": null,
       "height": null,
       "justify_content": null,
       "justify_items": null,
       "left": null,
       "margin": null,
       "max_height": null,
       "max_width": null,
       "min_height": null,
       "min_width": null,
       "object_fit": null,
       "object_position": null,
       "order": null,
       "overflow": null,
       "overflow_x": null,
       "overflow_y": null,
       "padding": null,
       "right": null,
       "top": null,
       "visibility": null,
       "width": null
      }
     },
     "da4c430ed92f4d27881eaf2044e9afee": {
      "model_module": "@jupyter-widgets/controls",
      "model_module_version": "1.5.0",
      "model_name": "VBoxModel",
      "state": {
       "_dom_classes": [],
       "_model_module": "@jupyter-widgets/controls",
       "_model_module_version": "1.5.0",
       "_model_name": "VBoxModel",
       "_view_count": null,
       "_view_module": "@jupyter-widgets/controls",
       "_view_module_version": "1.5.0",
       "_view_name": "VBoxView",
       "box_style": "",
       "children": [
        "IPY_MODEL_2324d62c053c4dcabcfca82942734ff0"
       ],
       "layout": "IPY_MODEL_c05e116808c745ca83fa7fcb972e0d51"
      }
     },
     "dbd211390b1f4ddaae14a05c85fb1b33": {
      "model_module": "@jupyter-widgets/controls",
      "model_module_version": "1.5.0",
      "model_name": "DescriptionStyleModel",
      "state": {
       "_model_module": "@jupyter-widgets/controls",
       "_model_module_version": "1.5.0",
       "_model_name": "DescriptionStyleModel",
       "_view_count": null,
       "_view_module": "@jupyter-widgets/base",
       "_view_module_version": "1.2.0",
       "_view_name": "StyleView",
       "description_width": ""
      }
     },
     "dd1233bc460a49a68c595615060d31f1": {
      "model_module": "@jupyter-widgets/base",
      "model_module_version": "1.2.0",
      "model_name": "LayoutModel",
      "state": {
       "_model_module": "@jupyter-widgets/base",
       "_model_module_version": "1.2.0",
       "_model_name": "LayoutModel",
       "_view_count": null,
       "_view_module": "@jupyter-widgets/base",
       "_view_module_version": "1.2.0",
       "_view_name": "LayoutView",
       "align_content": null,
       "align_items": null,
       "align_self": null,
       "border": null,
       "bottom": null,
       "display": null,
       "flex": null,
       "flex_flow": null,
       "grid_area": null,
       "grid_auto_columns": null,
       "grid_auto_flow": null,
       "grid_auto_rows": null,
       "grid_column": null,
       "grid_gap": null,
       "grid_row": null,
       "grid_template_areas": null,
       "grid_template_columns": null,
       "grid_template_rows": null,
       "height": null,
       "justify_content": null,
       "justify_items": null,
       "left": null,
       "margin": null,
       "max_height": null,
       "max_width": null,
       "min_height": null,
       "min_width": null,
       "object_fit": null,
       "object_position": null,
       "order": null,
       "overflow": null,
       "overflow_x": null,
       "overflow_y": null,
       "padding": null,
       "right": null,
       "top": null,
       "visibility": null,
       "width": null
      }
     },
     "e11561b57b044a83ae6040d78a7dd72b": {
      "model_module": "@jupyter-widgets/base",
      "model_module_version": "1.2.0",
      "model_name": "LayoutModel",
      "state": {
       "_model_module": "@jupyter-widgets/base",
       "_model_module_version": "1.2.0",
       "_model_name": "LayoutModel",
       "_view_count": null,
       "_view_module": "@jupyter-widgets/base",
       "_view_module_version": "1.2.0",
       "_view_name": "LayoutView",
       "align_content": null,
       "align_items": null,
       "align_self": null,
       "border": null,
       "bottom": null,
       "display": null,
       "flex": null,
       "flex_flow": null,
       "grid_area": null,
       "grid_auto_columns": null,
       "grid_auto_flow": null,
       "grid_auto_rows": null,
       "grid_column": null,
       "grid_gap": null,
       "grid_row": null,
       "grid_template_areas": null,
       "grid_template_columns": null,
       "grid_template_rows": null,
       "height": null,
       "justify_content": null,
       "justify_items": null,
       "left": null,
       "margin": null,
       "max_height": null,
       "max_width": null,
       "min_height": null,
       "min_width": null,
       "object_fit": null,
       "object_position": null,
       "order": null,
       "overflow": null,
       "overflow_x": null,
       "overflow_y": null,
       "padding": null,
       "right": null,
       "top": null,
       "visibility": null,
       "width": null
      }
     },
     "e283bde703a44f1988c91ae5daf0523f": {
      "model_module": "@jupyter-widgets/controls",
      "model_module_version": "1.5.0",
      "model_name": "HBoxModel",
      "state": {
       "_dom_classes": [],
       "_model_module": "@jupyter-widgets/controls",
       "_model_module_version": "1.5.0",
       "_model_name": "HBoxModel",
       "_view_count": null,
       "_view_module": "@jupyter-widgets/controls",
       "_view_module_version": "1.5.0",
       "_view_name": "HBoxView",
       "box_style": "",
       "children": [
        "IPY_MODEL_82821e9b1cc34343bd2bd171d23e3754",
        "IPY_MODEL_631108158d7c446e9b51f8664ed0fa26",
        "IPY_MODEL_589b333caca14b189d7c45bb7405232c"
       ],
       "layout": "IPY_MODEL_27928986d2164307b73d59199bf58c07"
      }
     },
     "e3c41b3bec3c4ef4a189692e7171b3e6": {
      "model_module": "@jupyter-widgets/controls",
      "model_module_version": "1.5.0",
      "model_name": "HTMLModel",
      "state": {
       "_dom_classes": [],
       "_model_module": "@jupyter-widgets/controls",
       "_model_module_version": "1.5.0",
       "_model_name": "HTMLModel",
       "_view_count": null,
       "_view_module": "@jupyter-widgets/controls",
       "_view_module_version": "1.5.0",
       "_view_name": "HTMLView",
       "description": "",
       "description_tooltip": null,
       "layout": "IPY_MODEL_78a59b27b86c4d5086db5a5f1c3e3b2c",
       "placeholder": "​",
       "style": "IPY_MODEL_71aee5016efc4312814d1919207117a9",
       "value": "<p>No outputs to show.</p>"
      }
     },
     "e4ae349cf4b340fa8df262eb2eb3e406": {
      "model_module": "@jupyter-widgets/controls",
      "model_module_version": "1.5.0",
      "model_name": "DescriptionStyleModel",
      "state": {
       "_model_module": "@jupyter-widgets/controls",
       "_model_module_version": "1.5.0",
       "_model_name": "DescriptionStyleModel",
       "_view_count": null,
       "_view_module": "@jupyter-widgets/base",
       "_view_module_version": "1.2.0",
       "_view_name": "StyleView",
       "description_width": ""
      }
     },
     "e7dab874c570428b841ffd15c1f4e449": {
      "model_module": "@jupyter-widgets/controls",
      "model_module_version": "1.5.0",
      "model_name": "ProgressStyleModel",
      "state": {
       "_model_module": "@jupyter-widgets/controls",
       "_model_module_version": "1.5.0",
       "_model_name": "ProgressStyleModel",
       "_view_count": null,
       "_view_module": "@jupyter-widgets/base",
       "_view_module_version": "1.2.0",
       "_view_name": "StyleView",
       "bar_color": "#9d60fb",
       "description_width": ""
      }
     },
     "f524b9d92e8b437c8bdb0afdee0b3ba0": {
      "model_module": "@jupyter-widgets/base",
      "model_module_version": "1.2.0",
      "model_name": "LayoutModel",
      "state": {
       "_model_module": "@jupyter-widgets/base",
       "_model_module_version": "1.2.0",
       "_model_name": "LayoutModel",
       "_view_count": null,
       "_view_module": "@jupyter-widgets/base",
       "_view_module_version": "1.2.0",
       "_view_name": "LayoutView",
       "align_content": null,
       "align_items": null,
       "align_self": null,
       "border": null,
       "bottom": null,
       "display": null,
       "flex": null,
       "flex_flow": null,
       "grid_area": null,
       "grid_auto_columns": null,
       "grid_auto_flow": null,
       "grid_auto_rows": null,
       "grid_column": null,
       "grid_gap": null,
       "grid_row": null,
       "grid_template_areas": null,
       "grid_template_columns": null,
       "grid_template_rows": null,
       "height": null,
       "justify_content": null,
       "justify_items": null,
       "left": null,
       "margin": null,
       "max_height": null,
       "max_width": null,
       "min_height": null,
       "min_width": null,
       "object_fit": null,
       "object_position": null,
       "order": null,
       "overflow": null,
       "overflow_x": null,
       "overflow_y": null,
       "padding": null,
       "right": null,
       "top": null,
       "visibility": null,
       "width": null
      }
     },
     "f54caba231594cddad91644ca3f8e208": {
      "model_module": "@jupyter-widgets/controls",
      "model_module_version": "1.5.0",
      "model_name": "DescriptionStyleModel",
      "state": {
       "_model_module": "@jupyter-widgets/controls",
       "_model_module_version": "1.5.0",
       "_model_name": "DescriptionStyleModel",
       "_view_count": null,
       "_view_module": "@jupyter-widgets/base",
       "_view_module_version": "1.2.0",
       "_view_name": "StyleView",
       "description_width": ""
      }
     },
     "f8aa9f29cce449b598ad010bc5ce1be2": {
      "model_module": "@jupyter-widgets/controls",
      "model_module_version": "1.5.0",
      "model_name": "VBoxModel",
      "state": {
       "_dom_classes": [
        "rendered_html",
        "jp-RenderedHTMLCommon",
        "jp-RenderedHTML",
        "jp-OutputArea-output"
       ],
       "_model_module": "@jupyter-widgets/controls",
       "_model_module_version": "1.5.0",
       "_model_name": "VBoxModel",
       "_view_count": null,
       "_view_module": "@jupyter-widgets/controls",
       "_view_module_version": "1.5.0",
       "_view_name": "VBoxView",
       "box_style": "",
       "children": [
        "IPY_MODEL_1d964c22a4cb44628101b995b2122ca5"
       ],
       "layout": "IPY_MODEL_39276dfbedb54bceb897067edba05d2f"
      }
     },
     "fd3ec6498de34897a37ce833ff0e0165": {
      "model_module": "@jupyter-widgets/controls",
      "model_module_version": "1.5.0",
      "model_name": "DescriptionStyleModel",
      "state": {
       "_model_module": "@jupyter-widgets/controls",
       "_model_module_version": "1.5.0",
       "_model_name": "DescriptionStyleModel",
       "_view_count": null,
       "_view_module": "@jupyter-widgets/base",
       "_view_module_version": "1.2.0",
       "_view_name": "StyleView",
       "description_width": ""
      }
     },
     "fda3201627f8414fac3685421fc1e54c": {
      "model_module": "@jupyter-widgets/controls",
      "model_module_version": "1.5.0",
      "model_name": "HTMLModel",
      "state": {
       "_dom_classes": [],
       "_model_module": "@jupyter-widgets/controls",
       "_model_module_version": "1.5.0",
       "_model_name": "HTMLModel",
       "_view_count": null,
       "_view_module": "@jupyter-widgets/controls",
       "_view_module_version": "1.5.0",
       "_view_name": "HTMLView",
       "description": "",
       "description_tooltip": null,
       "layout": "IPY_MODEL_a4e36fc754884d12b27af53b8165c337",
       "placeholder": "​",
       "style": "IPY_MODEL_219e829d18bc4b22bc6d82ed73f3adb5",
       "value": "<h2>Conditions Summary</h2>"
      }
     }
    },
    "version_major": 2,
    "version_minor": 0
   }
  }
 },
 "nbformat": 4,
 "nbformat_minor": 5
}
