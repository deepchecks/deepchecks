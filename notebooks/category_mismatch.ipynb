{
 "cells": [
  {
   "cell_type": "code",
   "execution_count": 1,
   "id": "a1ecffea",
   "metadata": {},
   "outputs": [],
   "source": [
    "from mlchecks.checks.integrity.category_mismatch import category_mismatch\n",
    "from mlchecks.base import Dataset\n",
    "import pandas as pd"
   ]
  },
  {
   "cell_type": "code",
   "execution_count": 2,
   "id": "4bd54a65",
   "metadata": {},
   "outputs": [],
   "source": [
    "test_data = {\"col1\": [\"somebody\", \"once\", \"told\", \"me\"] * 10}\n",
    "val_data = {\"col1\": [\"the\",\"world\",\"is\", \"gonna\", \"role\", \"me\"] * 10}\n",
    "test = Dataset(pd.DataFrame(data=test_data), cat_features=[\"col1\"])\n",
    "val = Dataset(pd.DataFrame(data=val_data), cat_features=[\"col1\"])"
   ]
  },
  {
   "cell_type": "code",
   "execution_count": 3,
   "id": "1a73fb9c",
   "metadata": {},
   "outputs": [
    {
     "data": {
      "text/html": [
       "<h4>Category Mismatch</h4>"
      ]
     },
     "metadata": {},
     "output_type": "display_data"
    },
    {
     "data": {
      "text/html": [
       "<p>Find new and missing categories in validation.</p>"
      ]
     },
     "metadata": {},
     "output_type": "display_data"
    },
    {
     "data": {
      "text/html": [
       "<style type=\"text/css\">\n",
       "#T_45ac7_ th {\n",
       "  text-align: left;\n",
       "}\n",
       "#T_45ac7_ td {\n",
       "  text-align: left;\n",
       "}\n",
       "</style>\n",
       "<table id=\"T_45ac7_\">\n",
       "  <thead>\n",
       "    <tr>\n",
       "      <th class=\"blank level0\" >&nbsp;</th>\n",
       "      <th class=\"col_heading level0 col0\" >new categories</th>\n",
       "      <th class=\"col_heading level0 col1\" >missing categories</th>\n",
       "      <th class=\"col_heading level0 col2\" >shared categories</th>\n",
       "    </tr>\n",
       "    <tr>\n",
       "      <th class=\"index_name level0\" >column</th>\n",
       "      <th class=\"blank col0\" >&nbsp;</th>\n",
       "      <th class=\"blank col1\" >&nbsp;</th>\n",
       "      <th class=\"blank col2\" >&nbsp;</th>\n",
       "    </tr>\n",
       "  </thead>\n",
       "  <tbody>\n",
       "    <tr>\n",
       "      <th id=\"T_45ac7_level0_row0\" class=\"row_heading level0 row0\" >col1</th>\n",
       "      <td id=\"T_45ac7_row0_col0\" class=\"data row0 col0\" >{'gonna', 'the', 'role', 'is', 'world'}</td>\n",
       "      <td id=\"T_45ac7_row0_col1\" class=\"data row0 col1\" >{'once', 'told', 'somebody'}</td>\n",
       "      <td id=\"T_45ac7_row0_col2\" class=\"data row0 col2\" >{'me'}</td>\n",
       "    </tr>\n",
       "  </tbody>\n",
       "</table>\n"
      ]
     },
     "metadata": {},
     "output_type": "display_data"
    }
   ],
   "source": [
    "category_mismatch(val, test)"
   ]
  },
  {
   "cell_type": "code",
   "execution_count": 4,
   "id": "5991b2df",
   "metadata": {},
   "outputs": [],
   "source": [
    "test_data = {\"col1\": [\"a\", \"b\", \"a\", \"c\"] * 10, \"col2\": ['a','b','b','q']*10}\n",
    "val_data = {\"col1\": [\"a\",\"b\",\"d\"] * 10, \"col2\": ['a', 'b', 'a']*10}\n",
    "test = Dataset(pd.DataFrame(data=test_data), cat_features=[\"col1\",\"col2\"])\n",
    "val = Dataset(pd.DataFrame(data=val_data), cat_features=[\"col1\", \"col2\"])"
   ]
  },
  {
   "cell_type": "code",
   "execution_count": 5,
   "id": "8bf71669",
   "metadata": {},
   "outputs": [
    {
     "data": {
      "text/html": [
       "<h4>Category Mismatch</h4>"
      ]
     },
     "metadata": {},
     "output_type": "display_data"
    },
    {
     "data": {
      "text/html": [
       "<p>Find new and missing categories in validation.</p>"
      ]
     },
     "metadata": {},
     "output_type": "display_data"
    },
    {
     "data": {
      "text/html": [
       "<style type=\"text/css\">\n",
       "#T_c1ba7_ th {\n",
       "  text-align: left;\n",
       "}\n",
       "#T_c1ba7_ td {\n",
       "  text-align: left;\n",
       "}\n",
       "</style>\n",
       "<table id=\"T_c1ba7_\">\n",
       "  <thead>\n",
       "    <tr>\n",
       "      <th class=\"blank level0\" >&nbsp;</th>\n",
       "      <th class=\"col_heading level0 col0\" >new categories</th>\n",
       "      <th class=\"col_heading level0 col1\" >missing categories</th>\n",
       "      <th class=\"col_heading level0 col2\" >shared categories</th>\n",
       "    </tr>\n",
       "    <tr>\n",
       "      <th class=\"index_name level0\" >column</th>\n",
       "      <th class=\"blank col0\" >&nbsp;</th>\n",
       "      <th class=\"blank col1\" >&nbsp;</th>\n",
       "      <th class=\"blank col2\" >&nbsp;</th>\n",
       "    </tr>\n",
       "  </thead>\n",
       "  <tbody>\n",
       "    <tr>\n",
       "      <th id=\"T_c1ba7_level0_row0\" class=\"row_heading level0 row0\" >col1</th>\n",
       "      <td id=\"T_c1ba7_row0_col0\" class=\"data row0 col0\" >{'d'}</td>\n",
       "      <td id=\"T_c1ba7_row0_col1\" class=\"data row0 col1\" >{'c'}</td>\n",
       "      <td id=\"T_c1ba7_row0_col2\" class=\"data row0 col2\" >{'b', 'a'}</td>\n",
       "    </tr>\n",
       "    <tr>\n",
       "      <th id=\"T_c1ba7_level0_row1\" class=\"row_heading level0 row1\" >col2</th>\n",
       "      <td id=\"T_c1ba7_row1_col0\" class=\"data row1 col0\" >None</td>\n",
       "      <td id=\"T_c1ba7_row1_col1\" class=\"data row1 col1\" >{'q'}</td>\n",
       "      <td id=\"T_c1ba7_row1_col2\" class=\"data row1 col2\" >{'b', 'a'}</td>\n",
       "    </tr>\n",
       "  </tbody>\n",
       "</table>\n"
      ]
     },
     "metadata": {},
     "output_type": "display_data"
    }
   ],
   "source": [
    "category_mismatch(val, test)"
   ]
  },
  {
   "cell_type": "code",
   "execution_count": null,
   "id": "1749b6cb",
   "metadata": {},
   "outputs": [],
   "source": []
  }
 ],
 "metadata": {
  "kernelspec": {
   "display_name": "Python 3 (ipykernel)",
   "language": "python",
   "name": "python3"
  },
  "language_info": {
   "codemirror_mode": {
    "name": "ipython",
    "version": 3
   },
   "file_extension": ".py",
   "mimetype": "text/x-python",
   "name": "python",
   "nbconvert_exporter": "python",
   "pygments_lexer": "ipython3",
   "version": "3.8.5"
  }
 },
 "nbformat": 4,
 "nbformat_minor": 5
}
