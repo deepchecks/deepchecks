{
 "cells": [
  {
   "cell_type": "markdown",
   "id": "3ba8d25a",
   "metadata": {},
   "source": [
    "## Load data"
   ]
  },
  {
   "cell_type": "code",
   "execution_count": null,
   "id": "f89bafef",
   "metadata": {},
   "outputs": [],
   "source": [
    "import pandas as pd\n",
    "from sklearn.preprocessing import LabelEncoder\n",
    "\n",
    "names = [*(f'col_{i}' for i in range(1,14)), 'target']\n",
    "train_df = pd.read_csv('http://archive.ics.uci.edu/ml/machine-learning-databases/adult/adult.data', \n",
    "                       header=None, names=names)\n",
    "val_df = pd.read_csv('http://archive.ics.uci.edu/ml/machine-learning-databases/adult/adult.test', \n",
    "                     skiprows=1, header=None, names=names)\n",
    "val_df['target'] = val_df['target'].str[:-1]\n",
    "\n",
    "# Run label encoder on all categorical columns\n",
    "for column in train_df.columns:\n",
    "    if train_df[column].dtype == 'object':\n",
    "        le = LabelEncoder()\n",
    "        le.fit(pd.concat([train_df[column], val_df[column]]))\n",
    "        train_df[column] = le.transform(train_df[column])\n",
    "        val_df[column] = le.transform(val_df[column])"
   ]
  },
  {
   "cell_type": "markdown",
   "id": "c7948fb6",
   "metadata": {},
   "source": [
    "## Create Dataset"
   ]
  },
  {
   "cell_type": "code",
   "execution_count": null,
   "id": "eb45106e",
   "metadata": {},
   "outputs": [],
   "source": [
    "from mlchecks import Dataset\n",
    "from mlchecks.checks.overfit.boosting_overfit import boosting_overfit\n",
    "\n",
    "\n",
    "train_ds = Dataset(train_df, label='target')\n",
    "validation_ds = Dataset(val_df, label='target')"
   ]
  },
  {
   "cell_type": "markdown",
   "id": "fc1e49d7",
   "metadata": {},
   "source": [
    "\n",
    "## Classification model"
   ]
  },
  {
   "cell_type": "code",
   "execution_count": null,
   "id": "0e59c273",
   "metadata": {},
   "outputs": [],
   "source": [
    "from sklearn.ensemble import AdaBoostClassifier\n",
    "\n",
    "clf = AdaBoostClassifier()\n",
    "clf.fit(train_ds.features_columns(), train_ds.label_col())"
   ]
  },
  {
   "cell_type": "code",
   "execution_count": null,
   "id": "1f258faf",
   "metadata": {},
   "outputs": [],
   "source": [
    "from mlchecks.checks.performance.segment_performance import segment_performance\n",
    "\n",
    "segment_performance(validation_ds, clf, feature_1='col_3', feature_2='col_2')"
   ]
  }
 ],
 "metadata": {
  "kernelspec": {
   "display_name": "Python 3 (ipykernel)",
   "language": "python",
   "name": "python3"
  },
  "language_info": {
   "codemirror_mode": {
    "name": "ipython",
    "version": 3
   },
   "file_extension": ".py",
   "mimetype": "text/x-python",
   "name": "python",
   "nbconvert_exporter": "python",
   "pygments_lexer": "ipython3",
   "version": "3.8.6"
  }
 },
 "nbformat": 4,
 "nbformat_minor": 5
}
