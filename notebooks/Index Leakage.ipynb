{
 "cells": [
  {
   "cell_type": "code",
   "execution_count": 4,
   "id": "4d212059-938a-4408-acda-0312e70dc70c",
   "metadata": {},
   "outputs": [
    {
     "name": "stdout",
     "output_type": "stream",
     "text": [
      "The autoreload extension is already loaded. To reload it, use:\n",
      "  %reload_ext autoreload\n"
     ]
    }
   ],
   "source": [
    "from mlchecks.base import Dataset\n",
    "from mlchecks.checks import IndexTrainValLeakage, index_train_val_leakage\n",
    "import pandas as pd\n",
    "%load_ext autoreload\n",
    "%autoreload 2"
   ]
  },
  {
   "cell_type": "code",
   "execution_count": 8,
   "id": "a3d8fd09-a056-47c4-a65b-cabf26c217ab",
   "metadata": {},
   "outputs": [],
   "source": [
    "def dataset_from_dict(d: dict, index_name: str = None) -> Dataset:\n",
    "    dataframe = pd.DataFrame(data=d)\n",
    "    return Dataset(dataframe, index=index_name)"
   ]
  },
  {
   "cell_type": "code",
   "execution_count": 12,
   "id": "2eb1ca1a-eccd-4707-8802-44904653f54b",
   "metadata": {},
   "outputs": [
    {
     "data": {
      "text/html": [
       "40.0% of validation data indexes appear in training data<br><table border=\"1\" class=\"dataframe\">\n",
       "  <tbody>\n",
       "    <tr>\n",
       "      <th>Sample of validation indexes in train</th>\n",
       "      <td>3</td>\n",
       "      <td>4</td>\n",
       "    </tr>\n",
       "  </tbody>\n",
       "</table>"
      ],
      "text/plain": [
       "0.4"
      ]
     },
     "execution_count": 12,
     "metadata": {},
     "output_type": "execute_result"
    }
   ],
   "source": [
    "train_ds = dataset_from_dict({'col1': [1, 2, 3, 4, 10, 11]}, 'col1')\n",
    "val_ds = dataset_from_dict({'col1': [4, 3, 5, 6, 7]}, 'col1')\n",
    "index_train_val_leakage(train_ds, val_ds)"
   ]
  },
  {
   "cell_type": "code",
   "execution_count": null,
   "id": "136e8e0b-1cee-4670-8bf7-d78278d98fa7",
   "metadata": {},
   "outputs": [],
   "source": []
  }
 ],
 "metadata": {
  "kernelspec": {
   "display_name": "Python 3 (ipykernel)",
   "language": "python",
   "name": "python3"
  },
  "language_info": {
   "codemirror_mode": {
    "name": "ipython",
    "version": 3
   },
   "file_extension": ".py",
   "mimetype": "text/x-python",
   "name": "python",
   "nbconvert_exporter": "python",
   "pygments_lexer": "ipython3",
   "version": "3.8.5"
  }
 },
 "nbformat": 4,
 "nbformat_minor": 5
}
