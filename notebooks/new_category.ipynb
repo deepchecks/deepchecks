{
 "cells": [
  {
   "cell_type": "code",
   "execution_count": 1,
   "id": "b6c42074",
   "metadata": {},
   "outputs": [],
   "source": [
    "from mlchecks.checks.integrity.new_category import new_category_train_validation\n",
    "from mlchecks.base import Dataset\n",
    "import pandas as pd"
   ]
  },
  {
   "cell_type": "code",
   "execution_count": 2,
   "id": "ee76ed5c",
   "metadata": {},
   "outputs": [],
   "source": [
    "test_data = {\"col1\": [\"somebody\", \"once\", \"told\", \"me\"] * 10}\n",
    "val_data = {\"col1\": [\"the\",\"world\",\"is\", \"gonna\", \"role\", \"me\"] * 10}\n",
    "test = Dataset(pd.DataFrame(data=test_data), cat_features=[\"col1\"])\n",
    "val = Dataset(pd.DataFrame(data=val_data), cat_features=[\"col1\"])"
   ]
  },
  {
   "cell_type": "code",
   "execution_count": 3,
   "id": "3171fe14",
   "metadata": {},
   "outputs": [
    {
     "data": {
      "text/html": [
       "<h4>New Category Train Validation</h4>"
      ]
     },
     "metadata": {},
     "output_type": "display_data"
    },
    {
     "data": {
      "text/html": [
       "<p>Find new categories in validation.</p>"
      ]
     },
     "metadata": {},
     "output_type": "display_data"
    },
    {
     "data": {
      "text/html": [
       "<style type=\"text/css\">\n",
       "#T_52cfe_ th {\n",
       "  text-align: left;\n",
       "}\n",
       "#T_52cfe_ td {\n",
       "  text-align: left;\n",
       "}\n",
       "</style>\n",
       "<table id=\"T_52cfe_\">\n",
       "  <thead>\n",
       "    <tr>\n",
       "      <th class=\"blank level0\" >&nbsp;</th>\n",
       "      <th class=\"col_heading level0 col0\" >ratio of new categories in sample</th>\n",
       "      <th class=\"col_heading level0 col1\" >new categories</th>\n",
       "    </tr>\n",
       "    <tr>\n",
       "      <th class=\"index_name level0\" >column</th>\n",
       "      <th class=\"blank col0\" >&nbsp;</th>\n",
       "      <th class=\"blank col1\" >&nbsp;</th>\n",
       "    </tr>\n",
       "  </thead>\n",
       "  <tbody>\n",
       "    <tr>\n",
       "      <th id=\"T_52cfe_level0_row0\" class=\"row_heading level0 row0\" >col1</th>\n",
       "      <td id=\"T_52cfe_row0_col0\" class=\"data row0 col0\" >0.833333</td>\n",
       "      <td id=\"T_52cfe_row0_col1\" class=\"data row0 col1\" >{'world', 'role', 'gonna', 'is', 'the'}</td>\n",
       "    </tr>\n",
       "  </tbody>\n",
       "</table>\n"
      ]
     },
     "metadata": {},
     "output_type": "display_data"
    }
   ],
   "source": [
    "new_category_train_validation(val, test)"
   ]
  },
  {
   "cell_type": "code",
   "execution_count": 4,
   "id": "7536f60c",
   "metadata": {},
   "outputs": [],
   "source": [
    "test_data = {\"col1\": [\"a\", \"b\", \"a\", \"c\"] * 10, \"col2\": ['a','b','b','q']*10}\n",
    "val_data = {\"col1\": [\"a\",\"b\",\"d\"] * 10, \"col2\": ['a', '2', '1']*10}\n",
    "test = Dataset(pd.DataFrame(data=test_data), cat_features=[\"col1\",\"col2\"])\n",
    "val = Dataset(pd.DataFrame(data=val_data), cat_features=[\"col1\", \"col2\"])"
   ]
  },
  {
   "cell_type": "code",
   "execution_count": 5,
   "id": "b81bc4a1",
   "metadata": {},
   "outputs": [
    {
     "data": {
      "text/html": [
       "<h4>New Category Train Validation</h4>"
      ]
     },
     "metadata": {},
     "output_type": "display_data"
    },
    {
     "data": {
      "text/html": [
       "<p>Find new categories in validation.</p>"
      ]
     },
     "metadata": {},
     "output_type": "display_data"
    },
    {
     "data": {
      "text/html": [
       "<style type=\"text/css\">\n",
       "#T_9189d_ th {\n",
       "  text-align: left;\n",
       "}\n",
       "#T_9189d_ td {\n",
       "  text-align: left;\n",
       "}\n",
       "</style>\n",
       "<table id=\"T_9189d_\">\n",
       "  <thead>\n",
       "    <tr>\n",
       "      <th class=\"blank level0\" >&nbsp;</th>\n",
       "      <th class=\"col_heading level0 col0\" >ratio of new categories in sample</th>\n",
       "      <th class=\"col_heading level0 col1\" >new categories</th>\n",
       "    </tr>\n",
       "    <tr>\n",
       "      <th class=\"index_name level0\" >column</th>\n",
       "      <th class=\"blank col0\" >&nbsp;</th>\n",
       "      <th class=\"blank col1\" >&nbsp;</th>\n",
       "    </tr>\n",
       "  </thead>\n",
       "  <tbody>\n",
       "    <tr>\n",
       "      <th id=\"T_9189d_level0_row0\" class=\"row_heading level0 row0\" >col1</th>\n",
       "      <td id=\"T_9189d_row0_col0\" class=\"data row0 col0\" >0.333333</td>\n",
       "      <td id=\"T_9189d_row0_col1\" class=\"data row0 col1\" >{'d'}</td>\n",
       "    </tr>\n",
       "    <tr>\n",
       "      <th id=\"T_9189d_level0_row1\" class=\"row_heading level0 row1\" >col2</th>\n",
       "      <td id=\"T_9189d_row1_col0\" class=\"data row1 col0\" >0.666667</td>\n",
       "      <td id=\"T_9189d_row1_col1\" class=\"data row1 col1\" >{'2', '1'}</td>\n",
       "    </tr>\n",
       "  </tbody>\n",
       "</table>\n"
      ]
     },
     "metadata": {},
     "output_type": "display_data"
    }
   ],
   "source": [
    "new_category_train_validation(val, test)"
   ]
  },
  {
   "cell_type": "code",
   "execution_count": null,
   "id": "89a01b94",
   "metadata": {},
   "outputs": [],
   "source": []
  }
 ],
 "metadata": {
  "kernelspec": {
   "display_name": "Python 3 (ipykernel)",
   "language": "python",
   "name": "python3"
  },
  "language_info": {
   "codemirror_mode": {
    "name": "ipython",
    "version": 3
   },
   "file_extension": ".py",
   "mimetype": "text/x-python",
   "name": "python",
   "nbconvert_exporter": "python",
   "pygments_lexer": "ipython3",
   "version": "3.8.5"
  }
 },
 "nbformat": 4,
 "nbformat_minor": 5
}
