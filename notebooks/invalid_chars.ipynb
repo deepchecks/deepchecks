{
 "cells": [
  {
   "cell_type": "code",
   "execution_count": 1,
   "id": "ecc9910e",
   "metadata": {},
   "outputs": [],
   "source": [
    "%load_ext autoreload\n",
    "%autoreload 2"
   ]
  },
  {
   "cell_type": "code",
   "execution_count": 2,
   "id": "17511477",
   "metadata": {},
   "outputs": [],
   "source": [
    "from mlchecks.checks import invalid_chars\n",
    "import pandas as pd"
   ]
  },
  {
   "cell_type": "code",
   "execution_count": 3,
   "id": "dc5b6236",
   "metadata": {
    "scrolled": true
   },
   "outputs": [
    {
     "data": {
      "text/html": [
       "\n",
       "    <h4>Invalid Chars</h4>\n",
       "    <p>Search for invalid chars in column[s].</p>\n",
       "    <div><table border=\"1\" class=\"dataframe\">\n",
       "  <thead>\n",
       "    <tr style=\"text-align: left;\">\n",
       "      <th>Column Name</th>\n",
       "      <th>% Invalid</th>\n",
       "    </tr>\n",
       "  </thead>\n",
       "  <tbody>\n",
       "    <tr>\n",
       "      <td>col1</td>\n",
       "      <td>100.00%</td>\n",
       "    </tr>\n",
       "    <tr>\n",
       "      <td>col2</td>\n",
       "      <td>70.59%</td>\n",
       "    </tr>\n",
       "    <tr>\n",
       "      <td>col3</td>\n",
       "      <td>2.94%</td>\n",
       "    </tr>\n",
       "    <tr>\n",
       "      <td>col5</td>\n",
       "      <td>2.94%</td>\n",
       "    </tr>\n",
       "  </tbody>\n",
       "</table></div>\n",
       "    "
      ],
      "text/plain": [
       "  Column Name % Invalid\n",
       "0        col1   100.00%\n",
       "1        col2    70.59%\n",
       "2        col3     2.94%\n",
       "3        col5     2.94%"
      ]
     },
     "execution_count": 3,
     "metadata": {},
     "output_type": "execute_result"
    }
   ],
   "source": [
    "data = {'col1': [' ', '!', '\"', '#', '$', '%', '&', '\\'','(', ')',\n",
    "                 '*', '+', ',', '-', '.', '/', ':', ';', '<', '=', \n",
    "                 '>', '?', '@', '[', ']', '\\\\', '^', '_', '`', '{',\n",
    "                 '}', '|', '~', '\\n'],\n",
    "        'col2':['v', 'v', 'v', 'v4', 'v5', 'v6', 'v7', 'v8','v9','v10', \n",
    "                 '*', '+', ',', '-', '.', '/', ':', ';', '<', '=', \n",
    "                 '>', '?', '@', '[', ']', '\\\\', '^', '_', '`', '{',\n",
    "                 '}', '|', '~', '\\n'],\n",
    "        'col3': [1,1,1,1,1,1,1,1,1,1,1,1,1,1,1,1,1,1,1,1,11,1,'?',1,1,1,1,1,1,1,1,1,1,1],\n",
    "        'col4': [1,1,1,1,1,1,1,1,1,1,1,1,1,1,1,1,1,1,1,1,11,1,1,1,1,1,1,1,1,1,1,1,1,1],\n",
    "        'col5': ['valid1','valid2','valid3','valid4','valid5','valid6','valid7',\n",
    "                 'valid8','valid9','valid10','valid11','valid12',\n",
    "                'valid13','valid14','inval!d15','valid16','valid17','valid18',\n",
    "                 'valid19','valid20','valid21','valid22','valid23','valid24','valid25',\n",
    "                'valid26', 'valid27','valid28','valid29','valid30','valid31','32','33','34']}\n",
    "\n",
    "\n",
    "dataframe = pd.DataFrame(data=data)\n",
    "invalid_chars(dataframe)"
   ]
  }
 ],
 "metadata": {
  "kernelspec": {
   "display_name": "Python 3 (ipykernel)",
   "language": "python",
   "name": "python3"
  },
  "language_info": {
   "codemirror_mode": {
    "name": "ipython",
    "version": 3
   },
   "file_extension": ".py",
   "mimetype": "text/x-python",
   "name": "python",
   "nbconvert_exporter": "python",
   "pygments_lexer": "ipython3",
   "version": "3.9.7"
  }
 },
 "nbformat": 4,
 "nbformat_minor": 5
}
