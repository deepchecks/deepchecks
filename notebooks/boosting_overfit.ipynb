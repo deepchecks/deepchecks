{
 "cells": [
  {
   "cell_type": "markdown",
   "id": "5c09bfa9",
   "metadata": {},
   "source": [
    "## Load data"
   ]
  },
  {
   "cell_type": "code",
   "execution_count": 24,
   "id": "b2f4ef14",
   "metadata": {},
   "outputs": [],
   "source": [
    "import pandas as pd\n",
    "from sklearn.preprocessing import LabelEncoder\n",
    "\n",
    "names = [*(f'col_{i}' for i in range(1,14)), 'target']\n",
    "train_df = pd.read_csv('https://archive.ics.uci.edu/ml/machine-learning-databases/adult/adult.data', \n",
    "                       header=None, names=names)\n",
    "val_df = pd.read_csv('https://archive.ics.uci.edu/ml/machine-learning-databases/adult/adult.test', \n",
    "                     skiprows=1, header=None, names=names)\n",
    "\n",
    "# Run label encoder on all categorical columns\n",
    "for column in train_df.columns:\n",
    "    if train_df[column].dtype == 'object':\n",
    "        le = LabelEncoder()\n",
    "        le.fit(pd.concat([train_df[column], val_df[column]]))\n",
    "        train_df[column] = le.transform(train_df[column])\n",
    "        val_df[column] = le.transform(val_df[column])"
   ]
  },
  {
   "cell_type": "markdown",
   "id": "9b831334",
   "metadata": {},
   "source": [
    "## Create Dataset"
   ]
  },
  {
   "cell_type": "code",
   "execution_count": 28,
   "id": "4642d673",
   "metadata": {},
   "outputs": [],
   "source": [
    "from mlchecks import Dataset\n",
    "from mlchecks.checks.overfit.boosting_overfit import boosting_overfit\n",
    "\n",
    "\n",
    "train_ds = Dataset(train_df, label='target')\n",
    "validation_ds = Dataset(val_df, label='target')"
   ]
  },
  {
   "cell_type": "markdown",
   "id": "8f4e3041",
   "metadata": {},
   "source": [
    "\n",
    "## Classification model"
   ]
  },
  {
   "cell_type": "code",
   "execution_count": 30,
   "id": "e993f643",
   "metadata": {},
   "outputs": [
    {
     "data": {
      "text/html": [
       "<h4>Boosting Overfit</h4>"
      ]
     },
     "metadata": {},
     "output_type": "display_data"
    },
    {
     "data": {
      "text/html": [
       "<p>Test for overfit in boosting models.</p>"
      ]
     },
     "metadata": {},
     "output_type": "display_data"
    },
    {
     "data": {
      "image/png": "[encoded data removed]",
      "text/plain": [
       "<Figure size 504x288 with 1 Axes>"
      ]
     },
     "metadata": {
      "needs_background": "light"
     },
     "output_type": "display_data"
    }
   ],
   "source": [
    "from sklearn.ensemble import AdaBoostClassifier\n",
    "\n",
    "clf = AdaBoostClassifier()\n",
    "clf.fit(train_ds.features_columns(), train_ds.label_col())\n",
    "boosting_overfit(train_ds, validation_ds, clf)"
   ]
  }
 ],
 "metadata": {
  "kernelspec": {
   "display_name": "Python 3 (ipykernel)",
   "language": "python",
   "name": "python3"
  },
  "language_info": {
   "codemirror_mode": {
    "name": "ipython",
    "version": 3
   },
   "file_extension": ".py",
   "mimetype": "text/x-python",
   "name": "python",
   "nbconvert_exporter": "python",
   "pygments_lexer": "ipython3",
   "version": "3.8.6"
  }
 },
 "nbformat": 4,
 "nbformat_minor": 5
}
