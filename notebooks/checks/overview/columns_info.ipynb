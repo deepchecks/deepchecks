{
 "cells": [
  {
   "cell_type": "markdown",
   "id": "0fdeac8e-ffd2-4509-8a70-fcbda9cdb68b",
   "metadata": {},
   "source": [
    "# Imports"
   ]
  },
  {
   "cell_type": "code",
   "execution_count": 1,
   "id": "592d6a95-06b0-4397-bf5e-5aebd6dc58f3",
   "metadata": {},
   "outputs": [],
   "source": [
    "import pandas as pd\n",
    "import numpy as np\n",
    "from deepchecks.checks.overview import ColumnsInfo\n",
    "from deepchecks.base import Dataset"
   ]
  },
  {
   "cell_type": "markdown",
   "id": "b1653169-893b-456a-b179-7ba51d004694",
   "metadata": {},
   "source": [
    "# Generating data:"
   ]
  },
  {
   "cell_type": "code",
   "execution_count": 2,
   "id": "13624caa-239a-4b0a-a081-8d46872751ef",
   "metadata": {},
   "outputs": [],
   "source": [
    "num_fe = np.random.rand(200)\n",
    "cat_fe = np.random.randint(10, size=200)\n",
    "date = range(1635693229, 1635693429)\n",
    "index = range(200)\n",
    "data = {'index': index, 'date': date, 'a': cat_fe, 'b': num_fe, 'c': num_fe, 'label': cat_fe}\n",
    "df = pd.DataFrame.from_dict(data)\n",
    "\n",
    "dataset = Dataset(df, label='label', date='date', index='index', features=['a', 'b'])"
   ]
  },
  {
   "cell_type": "markdown",
   "id": "e9b8071a-f95a-4d51-8ca9-abd42d5406b2",
   "metadata": {},
   "source": [
    "# Running columns_info check:"
   ]
  },
  {
   "cell_type": "code",
   "execution_count": 3,
   "id": "372e0162-b86c-45d6-8a3b-47e009d709b9",
   "metadata": {},
   "outputs": [],
   "source": [
    "check = ColumnsInfo()"
   ]
  },
  {
   "cell_type": "code",
   "execution_count": 4,
   "id": "fadb3bc8-65af-4c7d-92bc-9234802d99e3",
   "metadata": {},
   "outputs": [
    {
     "data": {
      "text/html": [
       "<h4>Columns Info</h4>"
      ]
     },
     "metadata": {},
     "output_type": "display_data"
    },
    {
     "data": {
      "text/html": [
       "<p>Return the role and logical type of each column.</p>"
      ]
     },
     "metadata": {},
     "output_type": "display_data"
    },
    {
     "data": {
      "text/html": [
       "<style type=\"text/css\">\n",
       "#T_c42c6_ table {\n",
       "  text-align: left;\n",
       "}\n",
       "#T_c42c6_ thead {\n",
       "  text-align: left;\n",
       "}\n",
       "#T_c42c6_ tbody {\n",
       "  text-align: left;\n",
       "}\n",
       "#T_c42c6_ th {\n",
       "  text-align: left;\n",
       "}\n",
       "#T_c42c6_ td {\n",
       "  text-align: left;\n",
       "}\n",
       "</style>\n",
       "<table id=\"T_c42c6_\">\n",
       "  <thead>\n",
       "    <tr>\n",
       "      <th class=\"blank level0\" >&nbsp;</th>\n",
       "      <th class=\"col_heading level0 col0\" >index</th>\n",
       "      <th class=\"col_heading level0 col1\" >date</th>\n",
       "      <th class=\"col_heading level0 col2\" >a</th>\n",
       "      <th class=\"col_heading level0 col3\" >b</th>\n",
       "      <th class=\"col_heading level0 col4\" >c</th>\n",
       "      <th class=\"col_heading level0 col5\" >label</th>\n",
       "    </tr>\n",
       "  </thead>\n",
       "  <tbody>\n",
       "    <tr>\n",
       "      <th id=\"T_c42c6_level0_row0\" class=\"row_heading level0 row0\" >role</th>\n",
       "      <td id=\"T_c42c6_row0_col0\" class=\"data row0 col0\" >index</td>\n",
       "      <td id=\"T_c42c6_row0_col1\" class=\"data row0 col1\" >date</td>\n",
       "      <td id=\"T_c42c6_row0_col2\" class=\"data row0 col2\" >numerical feature</td>\n",
       "      <td id=\"T_c42c6_row0_col3\" class=\"data row0 col3\" >numerical feature</td>\n",
       "      <td id=\"T_c42c6_row0_col4\" class=\"data row0 col4\" >other</td>\n",
       "      <td id=\"T_c42c6_row0_col5\" class=\"data row0 col5\" >label</td>\n",
       "    </tr>\n",
       "  </tbody>\n",
       "</table>\n"
      ]
     },
     "metadata": {},
     "output_type": "display_data"
    }
   ],
   "source": [
    "check.run(dataset=dataset)"
   ]
  }
 ],
 "metadata": {
  "kernelspec": {
   "display_name": "Python 3 (ipykernel)",
   "language": "python",
   "name": "python3"
  },
  "language_info": {
   "codemirror_mode": {
    "name": "ipython",
    "version": 3
   },
   "file_extension": ".py",
   "mimetype": "text/x-python",
   "name": "python",
   "nbconvert_exporter": "python",
   "pygments_lexer": "ipython3",
   "version": "3.8.6"
  }
 },
 "nbformat": 4,
 "nbformat_minor": 5
}
