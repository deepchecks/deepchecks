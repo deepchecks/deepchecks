{
 "cells": [
  {
   "cell_type": "markdown",
   "id": "f3ac696d-42f0-4b82-a13e-f0d2977cd6c8",
   "metadata": {},
   "source": [
    "# Train Test Drift"
   ]
  },
  {
   "cell_type": "code",
   "execution_count": 1,
   "id": "f541ed38-efb3-414f-9e0a-eef30246231e",
   "metadata": {},
   "outputs": [],
   "source": [
    "import numpy as np\n",
    "import pandas as pd\n",
    "\n",
    "from deepchecks import Dataset\n",
    "from deepchecks.checks import TrainTestDrift\n",
    "import pprint\n",
    "%load_ext autoreload\n",
    "%autoreload 2"
   ]
  },
  {
   "cell_type": "markdown",
   "id": "f6fbc71a-d8f4-449f-8654-54e8f016d3e8",
   "metadata": {},
   "source": [
    "## Generate data"
   ]
  },
  {
   "cell_type": "code",
   "execution_count": 2,
   "id": "3693b3f5-b3e5-4960-9373-ff5279328aea",
   "metadata": {},
   "outputs": [],
   "source": [
    "np.random.seed(42)\n",
    "\n",
    "train_data = np.concatenate([np.random.randn(1000,2), np.random.choice(a=['apple', 'orange', 'banana'], p=[0.5, 0.3, 0.2], size=(1000, 2))], axis=1)\n",
    "test_data = np.concatenate([np.random.randn(1000,2), np.random.choice(a=['apple', 'orange', 'banana'], p=[0.5, 0.3, 0.2], size=(1000, 2))], axis=1)\n",
    "\n",
    "df_train = pd.DataFrame(train_data, columns=['numeric_without_drift', 'numeric_with_drift', 'categorical_without_drift', 'categorical_with_drift'])\n",
    "df_test = pd.DataFrame(test_data, columns=df_train.columns)\n",
    "\n",
    "df_train = df_train.astype({'numeric_without_drift': 'float', 'numeric_with_drift': 'float'})\n",
    "df_test = df_test.astype({'numeric_without_drift': 'float', 'numeric_with_drift': 'float'})\n"
   ]
  },
  {
   "cell_type": "code",
   "execution_count": 3,
   "id": "fa391638-4c7c-48b8-b1ca-a92a029d96e2",
   "metadata": {},
   "outputs": [
    {
     "data": {
      "text/html": [
       "<div>\n",
       "<style scoped>\n",
       "    .dataframe tbody tr th:only-of-type {\n",
       "        vertical-align: middle;\n",
       "    }\n",
       "\n",
       "    .dataframe tbody tr th {\n",
       "        vertical-align: top;\n",
       "    }\n",
       "\n",
       "    .dataframe thead th {\n",
       "        text-align: right;\n",
       "    }\n",
       "</style>\n",
       "<table border=\"1\" class=\"dataframe\">\n",
       "  <thead>\n",
       "    <tr style=\"text-align: right;\">\n",
       "      <th></th>\n",
       "      <th>numeric_without_drift</th>\n",
       "      <th>numeric_with_drift</th>\n",
       "      <th>categorical_without_drift</th>\n",
       "      <th>categorical_with_drift</th>\n",
       "    </tr>\n",
       "  </thead>\n",
       "  <tbody>\n",
       "    <tr>\n",
       "      <th>0</th>\n",
       "      <td>0.496714</td>\n",
       "      <td>-0.138264</td>\n",
       "      <td>apple</td>\n",
       "      <td>apple</td>\n",
       "    </tr>\n",
       "    <tr>\n",
       "      <th>1</th>\n",
       "      <td>0.647689</td>\n",
       "      <td>1.523030</td>\n",
       "      <td>apple</td>\n",
       "      <td>apple</td>\n",
       "    </tr>\n",
       "    <tr>\n",
       "      <th>2</th>\n",
       "      <td>-0.234153</td>\n",
       "      <td>-0.234137</td>\n",
       "      <td>banana</td>\n",
       "      <td>banana</td>\n",
       "    </tr>\n",
       "    <tr>\n",
       "      <th>3</th>\n",
       "      <td>1.579213</td>\n",
       "      <td>0.767435</td>\n",
       "      <td>apple</td>\n",
       "      <td>banana</td>\n",
       "    </tr>\n",
       "    <tr>\n",
       "      <th>4</th>\n",
       "      <td>-0.469474</td>\n",
       "      <td>0.542560</td>\n",
       "      <td>orange</td>\n",
       "      <td>apple</td>\n",
       "    </tr>\n",
       "  </tbody>\n",
       "</table>\n",
       "</div>"
      ],
      "text/plain": [
       "   numeric_without_drift  numeric_with_drift categorical_without_drift  \\\n",
       "0               0.496714           -0.138264                     apple   \n",
       "1               0.647689            1.523030                     apple   \n",
       "2              -0.234153           -0.234137                    banana   \n",
       "3               1.579213            0.767435                     apple   \n",
       "4              -0.469474            0.542560                    orange   \n",
       "\n",
       "  categorical_with_drift  \n",
       "0                  apple  \n",
       "1                  apple  \n",
       "2                 banana  \n",
       "3                 banana  \n",
       "4                  apple  "
      ]
     },
     "execution_count": 3,
     "metadata": {},
     "output_type": "execute_result"
    }
   ],
   "source": [
    "df_train.head()"
   ]
  },
  {
   "cell_type": "markdown",
   "id": "3bf42145-4287-4a2e-8630-b8bb4228f07d",
   "metadata": {},
   "source": [
    "### Insert drift into test:"
   ]
  },
  {
   "cell_type": "code",
   "execution_count": 4,
   "id": "80fccd9b-8281-48ec-9170-8933843c50ea",
   "metadata": {},
   "outputs": [],
   "source": [
    "df_test['numeric_with_drift'] = df_test['numeric_with_drift'].astype('float') + abs(np.random.randn(1000)) + np.arange(0, 1, 0.001) * 4\n",
    "df_test['categorical_with_drift'] = np.random.choice(a=['apple', 'orange', 'banana', 'lemon'], p=[0.5, 0.25, 0.15, 0.1], size=(1000, 1))"
   ]
  },
  {
   "cell_type": "code",
   "execution_count": 5,
   "id": "e3b2e30a-4fdf-461e-90ba-a57fa313b237",
   "metadata": {},
   "outputs": [],
   "source": [
    "from sklearn.compose import ColumnTransformer\n",
    "from sklearn.pipeline import Pipeline\n",
    "from sklearn.preprocessing import OrdinalEncoder\n",
    "from sklearn.tree import DecisionTreeClassifier"
   ]
  },
  {
   "cell_type": "code",
   "execution_count": 6,
   "id": "fc48571d-208e-42c5-b86e-a9166e2df10c",
   "metadata": {},
   "outputs": [],
   "source": [
    "model = Pipeline([\n",
    "    ('handle_cat', ColumnTransformer(\n",
    "        transformers=[\n",
    "            ('num', 'passthrough',\n",
    "             ['numeric_with_drift', 'numeric_without_drift']),\n",
    "            ('cat',\n",
    "             Pipeline([\n",
    "                 ('encode', OrdinalEncoder(handle_unknown='use_encoded_value', unknown_value=-1)),\n",
    "             ]),\n",
    "             ['categorical_with_drift', 'categorical_without_drift'])\n",
    "        ]\n",
    "    )),\n",
    "    ('model', DecisionTreeClassifier(random_state=0, max_depth=2))]\n",
    ")"
   ]
  },
  {
   "cell_type": "code",
   "execution_count": 7,
   "id": "654f8610-87af-4dc3-b20c-7f02d637a82e",
   "metadata": {},
   "outputs": [
    {
     "name": "stdout",
     "output_type": "stream",
     "text": [
      "Automatically inferred these columns as categorical features: categorical_without_drift, categorical_with_drift. \n",
      "\n",
      "Automatically inferred these columns as categorical features: categorical_without_drift, categorical_with_drift. \n",
      "\n"
     ]
    }
   ],
   "source": [
    "label = np.random.randint(0, 2, size=(df_train.shape[0],))\n",
    "df_train['target'] = label\n",
    "train_dataset = Dataset(df_train, label='target')\n",
    "\n",
    "model.fit(train_dataset.features_columns(), label)\n",
    "\n",
    "label = np.random.randint(0, 2, size=(df_test.shape[0],))\n",
    "df_test['target'] = label\n",
    "test_dataset = Dataset(df_test, label='target')"
   ]
  },
  {
   "cell_type": "markdown",
   "id": "b143b774-0b73-43e7-98cc-1baebb9f6080",
   "metadata": {},
   "source": [
    "## Run check"
   ]
  },
  {
   "cell_type": "code",
   "execution_count": 11,
   "id": "a7f6888e-7027-4f50-bf5c-617d9997fe2c",
   "metadata": {},
   "outputs": [
    {
     "data": {
      "text/plain": [
       "OrderedDict([('numeric_without_drift',\n",
       "              {'Drift score': 0.012381238421755255,\n",
       "               'Method': \"Earth Mover's Distance\",\n",
       "               'Importance': 0.30722662915965854}),\n",
       "             ('numeric_with_drift',\n",
       "              {'Drift score': 0.25070919729753094,\n",
       "               'Method': \"Earth Mover's Distance\",\n",
       "               'Importance': 0.6927733708403414}),\n",
       "             ('categorical_without_drift',\n",
       "              {'Drift score': 0.004109630273978716,\n",
       "               'Method': 'PSI',\n",
       "               'Importance': 0.0}),\n",
       "             ('categorical_with_drift',\n",
       "              {'Drift score': 0.22343755359099066,\n",
       "               'Method': 'PSI',\n",
       "               'Importance': 0.0})])"
      ]
     },
     "execution_count": 11,
     "metadata": {},
     "output_type": "execute_result"
    }
   ],
   "source": [
    "check = TrainTestDrift()\n",
    "result = check.run(train_dataset=train_dataset, test_dataset=test_dataset, model=model)\n",
    "result.value"
   ]
  },
  {
   "cell_type": "code",
   "execution_count": 9,
   "id": "9f63ffe4-ab4f-4669-b573-387bc6cdf57b",
   "metadata": {},
   "outputs": [],
   "source": [
    "check_cond = check.add_condition_drift_score_not_greater_than()"
   ]
  },
  {
   "cell_type": "code",
   "execution_count": 10,
   "id": "b20899b1-61d6-4e01-b883-7b8537bb9edf",
   "metadata": {},
   "outputs": [
    {
     "name": "stdout",
     "output_type": "stream",
     "text": [
      "[{'category': <ConditionCategory.FAIL: 'FAIL'>,\n",
      "  'details': 'Found categorical columns with PSI over 0.2: '\n",
      "             'categorical_with_drift\\n'\n",
      "             \"Found numeric columns with Earth Mover's Distance over 0.1: \"\n",
      "             'numeric_with_drift',\n",
      "  'is_pass': False,\n",
      "  'name': \"PSI and Earth Mover's Distance cannot be greater than 0.2 and 0.1 \"\n",
      "          'respectively'}]\n"
     ]
    }
   ],
   "source": [
    "pprint.pprint([x.__dict__ for x in check_cond.conditions_decision(check_cond.run(train_dataset=train_dataset, test_dataset=test_dataset))])"
   ]
  }
 ],
 "metadata": {
  "kernelspec": {
   "display_name": "Python 3 (ipykernel)",
   "language": "python",
   "name": "python3"
  },
  "language_info": {
   "codemirror_mode": {
    "name": "ipython",
    "version": 3
   },
   "file_extension": ".py",
   "mimetype": "text/x-python",
   "name": "python",
   "nbconvert_exporter": "python",
   "pygments_lexer": "ipython3",
   "version": "3.8.10"
  }
 },
 "nbformat": 4,
 "nbformat_minor": 5
}
