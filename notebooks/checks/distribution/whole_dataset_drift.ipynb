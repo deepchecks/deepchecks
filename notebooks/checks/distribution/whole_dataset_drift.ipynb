{
 "cells": [
  {
   "cell_type": "code",
   "execution_count": 1,
   "id": "39c0f5e4-888f-4a50-8401-901f998e1f14",
   "metadata": {},
   "outputs": [],
   "source": [
    "%load_ext autoreload\n",
    "%autoreload 2\n",
    "import numpy as np"
   ]
  },
  {
   "cell_type": "markdown",
   "id": "c5eb6f75-12f0-4b09-b530-f1f8ebd7c782",
   "metadata": {},
   "source": [
    "## Load data\n",
    "\n",
    "The dataset is the adult dataset which can be downloaded from the UCI machine learning repository.\n",
    "\n",
    "Dua, D. and Graff, C. (2019). UCI Machine Learning Repository [http://archive.ics.uci.edu/ml]. Irvine, CA: University of California, School of Information and Computer Science."
   ]
  },
  {
   "cell_type": "code",
   "execution_count": 2,
   "id": "93feb429-f28c-4408-8922-dfa27d85164e",
   "metadata": {},
   "outputs": [],
   "source": [
    "import pandas as pd\n",
    "from urllib.request import urlopen\n",
    "from sklearn.preprocessing import LabelEncoder\n",
    "\n",
    "name_data = urlopen('http://archive.ics.uci.edu/ml/machine-learning-databases/adult/adult.names')\n",
    "lines = [l.decode(\"utf-8\") for l in name_data if ':' in l.decode(\"utf-8\") and '|' not in l.decode(\"utf-8\")]\n",
    "\n",
    "features = [l.split(':')[0] for l in lines]\n",
    "label_name = 'income'\n",
    "\n",
    "cat_features = [l.split(':')[0] for l in lines if 'continuous' not in l]\n",
    "\n",
    "train_df = pd.read_csv('http://archive.ics.uci.edu/ml/machine-learning-databases/adult/adult.data',\n",
    "                       names=features + [label_name])\n",
    "test_df = pd.read_csv('http://archive.ics.uci.edu/ml/machine-learning-databases/adult/adult.test',\n",
    "                      names=features + [label_name], skiprows=1)\n",
    "\n",
    "test_df[label_name] = test_df [label_name].str[:-1]\n",
    "\n",
    "encoder = LabelEncoder()\n",
    "encoder.fit(train_df[label_name])\n",
    "train_df[label_name] = encoder.transform(train_df[label_name])\n",
    "test_df[label_name] = encoder.transform(test_df[label_name])"
   ]
  },
  {
   "cell_type": "markdown",
   "id": "ad8f7581-d04d-428e-9f35-9cf2b1d2b6d0",
   "metadata": {},
   "source": [
    "## Process into dataset"
   ]
  },
  {
   "cell_type": "code",
   "execution_count": 3,
   "id": "ae7d7bcd-fabd-4a08-adc8-3ca9cf26e93e",
   "metadata": {},
   "outputs": [],
   "source": [
    "from deepchecks import Dataset\n",
    "\n",
    "cat_features = ['workclass', 'education', 'marital-status', 'occupation', 'relationship', \n",
    "                'race', 'sex', 'native-country']\n",
    "train_ds = Dataset(train_df, label_name=label_name, cat_features=cat_features)\n",
    "test_ds = Dataset(test_df, label_name=label_name, cat_features=cat_features)\n",
    "\n",
    "numeric_features = list(set(train_ds.features) - set(cat_features))"
   ]
  },
  {
   "cell_type": "code",
   "execution_count": 4,
   "id": "bac660cc-e670-4053-89f3-d91421327ab6",
   "metadata": {},
   "outputs": [
    {
     "data": {
      "text/plain": [
       "'income'"
      ]
     },
     "execution_count": 4,
     "metadata": {},
     "output_type": "execute_result"
    }
   ],
   "source": [
    "train_ds.label_name"
   ]
  },
  {
   "cell_type": "markdown",
   "id": "37a58b30-1fdf-4f86-b488-c08bc0565b02",
   "metadata": {},
   "source": [
    "## Whole Dataset Drift"
   ]
  },
  {
   "cell_type": "code",
   "execution_count": 5,
   "id": "32061fbd-e578-4ebd-a3c0-b0e545a26967",
   "metadata": {},
   "outputs": [],
   "source": [
    "from deepchecks.checks import WholeDatasetDrift"
   ]
  },
  {
   "cell_type": "code",
   "execution_count": 6,
   "id": "35847e81-6d22-406e-b522-69aaa7df03ae",
   "metadata": {},
   "outputs": [
    {
     "data": {
      "text/html": [
       "<h4>Whole Dataset Drift</h4>"
      ]
     },
     "metadata": {},
     "output_type": "display_data"
    },
    {
     "data": {
      "text/html": [
       "<p>    Calculate drift between the entire train and test datasets using a model trained to distinguish between them.</p>"
      ]
     },
     "metadata": {},
     "output_type": "display_data"
    },
    {
     "data": {
      "text/html": [
       "<h5>Conditions Summary</h5>"
      ]
     },
     "metadata": {},
     "output_type": "display_data"
    },
    {
     "data": {
      "text/html": [
       "<style type=\"text/css\">\n",
       "#T_fd649_ table {\n",
       "  text-align: left;\n",
       "}\n",
       "#T_fd649_ thead {\n",
       "  text-align: left;\n",
       "}\n",
       "#T_fd649_ tbody {\n",
       "  text-align: left;\n",
       "}\n",
       "#T_fd649_ th {\n",
       "  text-align: left;\n",
       "}\n",
       "#T_fd649_ td {\n",
       "  text-align: left;\n",
       "}\n",
       "</style>\n",
       "<table id=\"T_fd649_\">\n",
       "  <thead>\n",
       "    <tr>\n",
       "      <th class=\"col_heading level0 col0\" >Status</th>\n",
       "      <th class=\"col_heading level0 col1\" >Check</th>\n",
       "      <th class=\"col_heading level0 col2\" >Condition</th>\n",
       "      <th class=\"col_heading level0 col3\" >More Info</th>\n",
       "    </tr>\n",
       "  </thead>\n",
       "  <tbody>\n",
       "    <tr>\n",
       "      <td id=\"T_fd649_row0_col0\" class=\"data row0 col0\" ><div style=\"color: green;text-align: center\">✓</div></td>\n",
       "      <td id=\"T_fd649_row0_col1\" class=\"data row0 col1\" >Whole Dataset Drift</td>\n",
       "      <td id=\"T_fd649_row0_col2\" class=\"data row0 col2\" >Drift value is not greater than 0.25</td>\n",
       "      <td id=\"T_fd649_row0_col3\" class=\"data row0 col3\" ></td>\n",
       "    </tr>\n",
       "  </tbody>\n",
       "</table>\n"
      ]
     },
     "metadata": {},
     "output_type": "display_data"
    },
    {
     "data": {
      "text/html": [
       "<h5>Additional Outputs</h5>"
      ]
     },
     "metadata": {},
     "output_type": "display_data"
    },
    {
     "data": {
      "text/html": [
       "<span>\n",
       "                    The shown features are the features that are most important for the domain classifier - the\n",
       "                    domain_classifier trained to distinguish between the train and test datasets.<br> The percents of\n",
       "                    explained dataset difference are the calculated feature importance values for the feature.\n",
       "                </span>"
      ]
     },
     "metadata": {},
     "output_type": "display_data"
    },
    {
     "data": {
      "image/png": "[encoded data removed]",
      "text/plain": [
       "<Figure size 576x36 with 1 Axes>"
      ]
     },
     "metadata": {
      "needs_background": "light"
     },
     "output_type": "display_data"
    },
    {
     "data": {
      "text/html": [
       "<h5>Main features contributing to drift</h5>"
      ]
     },
     "metadata": {},
     "output_type": "display_data"
    },
    {
     "data": {
      "image/png": "[encoded data removed]",
      "text/plain": [
       "<Figure size 576x216 with 1 Axes>"
      ]
     },
     "metadata": {
      "needs_background": "light"
     },
     "output_type": "display_data"
    },
    {
     "data": {
      "image/png": "[encoded data removed]",
      "text/plain": [
       "<Figure size 576x216 with 1 Axes>"
      ]
     },
     "metadata": {
      "needs_background": "light"
     },
     "output_type": "display_data"
    }
   ],
   "source": [
    "check = WholeDatasetDrift().add_condition_overall_drift_value_not_greater_than()\n",
    "check.run(train_dataset=train_ds, test_dataset=test_ds)"
   ]
  },
  {
   "cell_type": "markdown",
   "id": "2e6048b8-b504-4830-a261-b0174b6c73a8",
   "metadata": {},
   "source": [
    "## Introduce drift to dataset"
   ]
  },
  {
   "cell_type": "code",
   "execution_count": 7,
   "id": "ba2b59a6-7c89-45ab-bef7-4c8104277cdb",
   "metadata": {},
   "outputs": [],
   "source": [
    "sample_size = 10000\n",
    "random_seed = 0"
   ]
  },
  {
   "cell_type": "code",
   "execution_count": 8,
   "id": "7b2f5a09-94da-4092-8a68-b5799ffe8100",
   "metadata": {},
   "outputs": [],
   "source": [
    "train_drifted_df = pd.concat([train_ds.data.sample(min(sample_size, train_ds.n_samples) - 5000), \n",
    "                             train_ds.data[train_ds.features_columns['sex'] == ' Female'].sample(5000, random_state=random_seed)])\n",
    "test_drifted_df = test_ds.data.sample(min(sample_size, test_ds.n_samples), random_state=random_seed)\n",
    "\n",
    "train_drifted_ds = Dataset(train_drifted_df, label_name=label_name, cat_features=cat_features)\n",
    "test_drifted_ds = Dataset(test_drifted_df, label_name=label_name, cat_features=cat_features)"
   ]
  },
  {
   "cell_type": "code",
   "execution_count": 9,
   "id": "7c5b5455-afab-4631-bb31-cf60d42c7c7f",
   "metadata": {},
   "outputs": [
    {
     "data": {
      "text/html": [
       "<h4>Whole Dataset Drift</h4>"
      ]
     },
     "metadata": {},
     "output_type": "display_data"
    },
    {
     "data": {
      "text/html": [
       "<p>    Calculate drift between the entire train and test datasets using a model trained to distinguish between them.</p>"
      ]
     },
     "metadata": {},
     "output_type": "display_data"
    },
    {
     "data": {
      "text/html": [
       "<h5>Conditions Summary</h5>"
      ]
     },
     "metadata": {},
     "output_type": "display_data"
    },
    {
     "data": {
      "text/html": [
       "<style type=\"text/css\">\n",
       "#T_0ec96_ table {\n",
       "  text-align: left;\n",
       "}\n",
       "#T_0ec96_ thead {\n",
       "  text-align: left;\n",
       "}\n",
       "#T_0ec96_ tbody {\n",
       "  text-align: left;\n",
       "}\n",
       "#T_0ec96_ th {\n",
       "  text-align: left;\n",
       "}\n",
       "#T_0ec96_ td {\n",
       "  text-align: left;\n",
       "}\n",
       "</style>\n",
       "<table id=\"T_0ec96_\">\n",
       "  <thead>\n",
       "    <tr>\n",
       "      <th class=\"col_heading level0 col0\" >Status</th>\n",
       "      <th class=\"col_heading level0 col1\" >Check</th>\n",
       "      <th class=\"col_heading level0 col2\" >Condition</th>\n",
       "      <th class=\"col_heading level0 col3\" >More Info</th>\n",
       "    </tr>\n",
       "  </thead>\n",
       "  <tbody>\n",
       "    <tr>\n",
       "      <td id=\"T_0ec96_row0_col0\" class=\"data row0 col0\" ><div style=\"color: red;text-align: center\">✖</div></td>\n",
       "      <td id=\"T_0ec96_row0_col1\" class=\"data row0 col1\" >Whole Dataset Drift</td>\n",
       "      <td id=\"T_0ec96_row0_col2\" class=\"data row0 col2\" >Drift value is not greater than 0.25</td>\n",
       "      <td id=\"T_0ec96_row0_col3\" class=\"data row0 col3\" >Found drift value of: 0.34, corresponding to a domain classifier AUC of: 0.67</td>\n",
       "    </tr>\n",
       "  </tbody>\n",
       "</table>\n"
      ]
     },
     "metadata": {},
     "output_type": "display_data"
    },
    {
     "data": {
      "text/html": [
       "<h5>Additional Outputs</h5>"
      ]
     },
     "metadata": {},
     "output_type": "display_data"
    },
    {
     "data": {
      "text/html": [
       "<span>\n",
       "                    The shown features are the features that are most important for the domain classifier - the\n",
       "                    domain_classifier trained to distinguish between the train and test datasets.<br> The percents of\n",
       "                    explained dataset difference are the calculated feature importance values for the feature.\n",
       "                </span>"
      ]
     },
     "metadata": {},
     "output_type": "display_data"
    },
    {
     "data": {
      "image/png": "[encoded data removed]",
      "text/plain": [
       "<Figure size 576x36 with 1 Axes>"
      ]
     },
     "metadata": {
      "needs_background": "light"
     },
     "output_type": "display_data"
    },
    {
     "data": {
      "text/html": [
       "<h5>Main features contributing to drift</h5>"
      ]
     },
     "metadata": {},
     "output_type": "display_data"
    },
    {
     "data": {
      "image/png": "[encoded data removed]",
      "text/plain": [
       "<Figure size 576x216 with 1 Axes>"
      ]
     },
     "metadata": {
      "needs_background": "light"
     },
     "output_type": "display_data"
    }
   ],
   "source": [
    "check = WholeDatasetDrift().add_condition_overall_drift_value_not_greater_than()\n",
    "check.run(train_dataset=train_drifted_ds, test_dataset=test_drifted_ds)"
   ]
  }
 ],
 "metadata": {
  "kernelspec": {
   "display_name": "Python 3 (ipykernel)",
   "language": "python",
   "name": "python3"
  },
  "language_info": {
   "codemirror_mode": {
    "name": "ipython",
    "version": 3
   },
   "file_extension": ".py",
   "mimetype": "text/x-python",
   "name": "python",
   "nbconvert_exporter": "python",
   "pygments_lexer": "ipython3",
   "version": "3.8.10"
  }
 },
 "nbformat": 4,
 "nbformat_minor": 5
}
