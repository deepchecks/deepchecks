{
 "cells": [
  {
   "cell_type": "markdown",
   "id": "475f3c46-3668-4889-89b4-3aae5e2a582d",
   "metadata": {},
   "source": [
    "# Generate Data"
   ]
  },
  {
   "cell_type": "code",
   "execution_count": 1,
   "id": "a8310fc2-9354-4fad-8704-b6c7a25971aa",
   "metadata": {},
   "outputs": [],
   "source": [
    "from datetime import datetime\n",
    "import numpy as np\n",
    "import pandas as pd\n",
    "from deepchecks import Dataset\n",
    "from deepchecks.checks.integrity.rare_format_detection import RareFormatDetection\n"
   ]
  },
  {
   "cell_type": "code",
   "execution_count": 2,
   "id": "463f05ce-e331-41db-b4f4-8d0c7752633f",
   "metadata": {},
   "outputs": [],
   "source": [
    "pd.set_option('display.max_columns', None)"
   ]
  },
  {
   "cell_type": "code",
   "execution_count": 3,
   "id": "48cdabda-e40f-4ed4-b1c1-e7569a4b100d",
   "metadata": {},
   "outputs": [],
   "source": [
    "np.random.seed(42)"
   ]
  },
  {
   "cell_type": "code",
   "execution_count": 4,
   "id": "41a8d163-12bc-4be2-a804-c3891f81bc74",
   "metadata": {},
   "outputs": [],
   "source": [
    "datelist = pd.date_range(start=datetime.strptime('2021-11-10', '%Y-%m-%d'), periods=200, freq='D', normalize=True)\n",
    "s_date = pd.Series([d.strftime('%Y-%m-%d') for d in datelist], name='date')\n",
    "\n",
    "emaillist = [''.join(np.random.choice(a=list('abcdefghijklmnopqrstuvwxyz'), p=[1/26]*26, size=np.random.choice(a=[6,7,8], p=[0.2, 0.5, 0.3]))) + '@gmail.com' for x in range(200)]\n",
    "s_email = pd.Series(emaillist, name='email')\n",
    "\n",
    "df = pd.DataFrame([s_date, s_email]).T"
   ]
  },
  {
   "cell_type": "code",
   "execution_count": 5,
   "id": "723123be-6f15-4f9d-965f-75a92a58acbd",
   "metadata": {},
   "outputs": [
    {
     "data": {
      "text/html": [
       "<div>\n",
       "<style scoped>\n",
       "    .dataframe tbody tr th:only-of-type {\n",
       "        vertical-align: middle;\n",
       "    }\n",
       "\n",
       "    .dataframe tbody tr th {\n",
       "        vertical-align: top;\n",
       "    }\n",
       "\n",
       "    .dataframe thead th {\n",
       "        text-align: right;\n",
       "    }\n",
       "</style>\n",
       "<table border=\"1\" class=\"dataframe\">\n",
       "  <thead>\n",
       "    <tr style=\"text-align: right;\">\n",
       "      <th></th>\n",
       "      <th>date</th>\n",
       "      <th>email</th>\n",
       "    </tr>\n",
       "  </thead>\n",
       "  <tbody>\n",
       "    <tr>\n",
       "      <th>0</th>\n",
       "      <td>2021-11-10</td>\n",
       "      <td>ytpeebw@gmail.com</td>\n",
       "    </tr>\n",
       "    <tr>\n",
       "      <th>1</th>\n",
       "      <td>2021-11-11</td>\n",
       "      <td>sazvfee@gmail.com</td>\n",
       "    </tr>\n",
       "    <tr>\n",
       "      <th>2</th>\n",
       "      <td>2021-11-12</td>\n",
       "      <td>nlhpdhj@gmail.com</td>\n",
       "    </tr>\n",
       "    <tr>\n",
       "      <th>3</th>\n",
       "      <td>2021-11-13</td>\n",
       "      <td>ufnpbpe@gmail.com</td>\n",
       "    </tr>\n",
       "    <tr>\n",
       "      <th>4</th>\n",
       "      <td>2021-11-14</td>\n",
       "      <td>yzvhcr@gmail.com</td>\n",
       "    </tr>\n",
       "  </tbody>\n",
       "</table>\n",
       "</div>"
      ],
      "text/plain": [
       "         date              email\n",
       "0  2021-11-10  ytpeebw@gmail.com\n",
       "1  2021-11-11  sazvfee@gmail.com\n",
       "2  2021-11-12  nlhpdhj@gmail.com\n",
       "3  2021-11-13  ufnpbpe@gmail.com\n",
       "4  2021-11-14   yzvhcr@gmail.com"
      ]
     },
     "execution_count": 5,
     "metadata": {},
     "output_type": "execute_result"
    }
   ],
   "source": [
    "df.head()"
   ]
  },
  {
   "cell_type": "markdown",
   "id": "e4b19ab5-ec8b-4085-b0fb-2a098dc9f9d3",
   "metadata": {},
   "source": [
    "# Run Check - Find no changes"
   ]
  },
  {
   "cell_type": "code",
   "execution_count": 6,
   "id": "180f3649-c1b6-4ac0-a888-fb911ec8c182",
   "metadata": {},
   "outputs": [
    {
     "data": {
      "text/html": [
       "<h4>Rare Format Detection</h4>"
      ]
     },
     "metadata": {},
     "output_type": "display_data"
    },
    {
     "data": {
      "text/html": [
       "<p>Checks whether columns have common formats (e.g. \"XX-XX-XXXX\" for dates\") and detects values that don't match.</p>"
      ]
     },
     "metadata": {},
     "output_type": "display_data"
    },
    {
     "data": {
      "text/html": [
       "<p><b>&#x2713;</b> Nothing found</p>"
      ]
     },
     "metadata": {},
     "output_type": "display_data"
    }
   ],
   "source": [
    "ds = Dataset(df)\n",
    "check = RareFormatDetection()\n",
    "\n",
    "check.run(dataset=ds)"
   ]
  },
  {
   "cell_type": "markdown",
   "id": "e9d2f508-037e-45a2-b032-64ab4cbd9007",
   "metadata": {},
   "source": [
    "# Induce changes to data"
   ]
  },
  {
   "cell_type": "code",
   "execution_count": 7,
   "id": "e2ce6650-6f2f-486b-b10d-a1a06e0e942d",
   "metadata": {},
   "outputs": [],
   "source": [
    "# Change dates to different format:\n",
    "df['date'].loc[0:2] = [datetime.strptime(d, '%Y-%m-%d').strftime('%Y-%b-%d') for d in df['date'].loc[0:2]]\n",
    "\n",
    "# Change emails to have mistakes in format\n",
    "df['email'].loc[[0,1]] = ['myname@gmail.com1', 'myname@gmail.co']"
   ]
  },
  {
   "cell_type": "code",
   "execution_count": 8,
   "id": "4c880fc3-b7b4-4206-a2b7-216eb769af54",
   "metadata": {},
   "outputs": [
    {
     "data": {
      "text/html": [
       "<div>\n",
       "<style scoped>\n",
       "    .dataframe tbody tr th:only-of-type {\n",
       "        vertical-align: middle;\n",
       "    }\n",
       "\n",
       "    .dataframe tbody tr th {\n",
       "        vertical-align: top;\n",
       "    }\n",
       "\n",
       "    .dataframe thead th {\n",
       "        text-align: right;\n",
       "    }\n",
       "</style>\n",
       "<table border=\"1\" class=\"dataframe\">\n",
       "  <thead>\n",
       "    <tr style=\"text-align: right;\">\n",
       "      <th></th>\n",
       "      <th>date</th>\n",
       "      <th>email</th>\n",
       "    </tr>\n",
       "  </thead>\n",
       "  <tbody>\n",
       "    <tr>\n",
       "      <th>0</th>\n",
       "      <td>2021-Nov-10</td>\n",
       "      <td>myname@gmail.com1</td>\n",
       "    </tr>\n",
       "    <tr>\n",
       "      <th>1</th>\n",
       "      <td>2021-Nov-11</td>\n",
       "      <td>myname@gmail.co</td>\n",
       "    </tr>\n",
       "    <tr>\n",
       "      <th>2</th>\n",
       "      <td>2021-Nov-12</td>\n",
       "      <td>nlhpdhj@gmail.com</td>\n",
       "    </tr>\n",
       "    <tr>\n",
       "      <th>3</th>\n",
       "      <td>2021-11-13</td>\n",
       "      <td>ufnpbpe@gmail.com</td>\n",
       "    </tr>\n",
       "    <tr>\n",
       "      <th>4</th>\n",
       "      <td>2021-11-14</td>\n",
       "      <td>yzvhcr@gmail.com</td>\n",
       "    </tr>\n",
       "  </tbody>\n",
       "</table>\n",
       "</div>"
      ],
      "text/plain": [
       "          date              email\n",
       "0  2021-Nov-10  myname@gmail.com1\n",
       "1  2021-Nov-11    myname@gmail.co\n",
       "2  2021-Nov-12  nlhpdhj@gmail.com\n",
       "3   2021-11-13  ufnpbpe@gmail.com\n",
       "4   2021-11-14   yzvhcr@gmail.com"
      ]
     },
     "execution_count": 8,
     "metadata": {},
     "output_type": "execute_result"
    }
   ],
   "source": [
    "df.head()"
   ]
  },
  {
   "cell_type": "markdown",
   "id": "b76a3272-ffb3-41c6-a039-278b89f37af3",
   "metadata": {},
   "source": [
    "# Run Check - Find rare formats"
   ]
  },
  {
   "cell_type": "code",
   "execution_count": 9,
   "id": "61b849e4-d17d-4342-b061-2d7fdf7ad9b4",
   "metadata": {},
   "outputs": [
    {
     "data": {
      "text/html": [
       "<h4>Rare Format Detection</h4>"
      ]
     },
     "metadata": {},
     "output_type": "display_data"
    },
    {
     "data": {
      "text/html": [
       "<p>Checks whether columns have common formats (e.g. \"XX-XX-XXXX\" for dates\") and detects values that don't match.</p>"
      ]
     },
     "metadata": {},
     "output_type": "display_data"
    },
    {
     "data": {
      "text/html": [
       "\n",
       "\n",
       "Column date:"
      ]
     },
     "metadata": {},
     "output_type": "display_data"
    },
    {
     "data": {
      "text/html": [
       "<style type=\"text/css\">\n",
       "#T_2a79d_ table {\n",
       "  text-align: left;\n",
       "}\n",
       "#T_2a79d_ thead {\n",
       "  text-align: left;\n",
       "}\n",
       "#T_2a79d_ tbody {\n",
       "  text-align: left;\n",
       "}\n",
       "#T_2a79d_ th {\n",
       "  text-align: left;\n",
       "}\n",
       "#T_2a79d_ td {\n",
       "  text-align: left;\n",
       "}\n",
       "</style>\n",
       "<table id=\"T_2a79d_\">\n",
       "  <thead>\n",
       "    <tr>\n",
       "      <th class=\"blank level0\" >&nbsp;</th>\n",
       "      <th class=\"col_heading level0 col0\" >digits and letters format (case sensitive)</th>\n",
       "    </tr>\n",
       "  </thead>\n",
       "  <tbody>\n",
       "    <tr>\n",
       "      <th id=\"T_2a79d_level0_row0\" class=\"row_heading level0 row0\" >ratio</th>\n",
       "      <td id=\"T_2a79d_row0_col0\" class=\"data row0 col0\" >0.01</td>\n",
       "    </tr>\n",
       "    <tr>\n",
       "      <th id=\"T_2a79d_level0_row1\" class=\"row_heading level0 row1\" >ratio of rare samples</th>\n",
       "      <td id=\"T_2a79d_row1_col0\" class=\"data row1 col0\" >1.50% (3)</td>\n",
       "    </tr>\n",
       "    <tr>\n",
       "      <th id=\"T_2a79d_level0_row2\" class=\"row_heading level0 row2\" >common formats</th>\n",
       "      <td id=\"T_2a79d_row2_col0\" class=\"data row2 col0\" >['2020-00-00']</td>\n",
       "    </tr>\n",
       "    <tr>\n",
       "      <th id=\"T_2a79d_level0_row3\" class=\"row_heading level0 row3\" >examples for values in common formats</th>\n",
       "      <td id=\"T_2a79d_row3_col0\" class=\"data row3 col0\" >['2021-11-13']</td>\n",
       "    </tr>\n",
       "    <tr>\n",
       "      <th id=\"T_2a79d_level0_row4\" class=\"row_heading level0 row4\" >values in rare formats</th>\n",
       "      <td id=\"T_2a79d_row4_col0\" class=\"data row4 col0\" >['2021-Nov-10', '2021-Nov-11', '2021-Nov-12']</td>\n",
       "    </tr>\n",
       "  </tbody>\n",
       "</table>\n"
      ]
     },
     "metadata": {},
     "output_type": "display_data"
    },
    {
     "data": {
      "text/html": [
       "\n",
       "\n",
       "Column email:"
      ]
     },
     "metadata": {},
     "output_type": "display_data"
    },
    {
     "data": {
      "text/html": [
       "<style type=\"text/css\">\n",
       "#T_bac58_ table {\n",
       "  text-align: left;\n",
       "}\n",
       "#T_bac58_ thead {\n",
       "  text-align: left;\n",
       "}\n",
       "#T_bac58_ tbody {\n",
       "  text-align: left;\n",
       "}\n",
       "#T_bac58_ th {\n",
       "  text-align: left;\n",
       "}\n",
       "#T_bac58_ td {\n",
       "  text-align: left;\n",
       "}\n",
       "</style>\n",
       "<table id=\"T_bac58_\">\n",
       "  <thead>\n",
       "    <tr>\n",
       "      <th class=\"blank level0\" >&nbsp;</th>\n",
       "      <th class=\"col_heading level0 col0\" >digits and letters format (case sensitive)</th>\n",
       "    </tr>\n",
       "  </thead>\n",
       "  <tbody>\n",
       "    <tr>\n",
       "      <th id=\"T_bac58_level0_row0\" class=\"row_heading level0 row0\" >ratio</th>\n",
       "      <td id=\"T_bac58_row0_col0\" class=\"data row0 col0\" >0.01</td>\n",
       "    </tr>\n",
       "    <tr>\n",
       "      <th id=\"T_bac58_level0_row1\" class=\"row_heading level0 row1\" >ratio of rare samples</th>\n",
       "      <td id=\"T_bac58_row1_col0\" class=\"data row1 col0\" >1.00% (2)</td>\n",
       "    </tr>\n",
       "    <tr>\n",
       "      <th id=\"T_bac58_level0_row2\" class=\"row_heading level0 row2\" >common formats</th>\n",
       "      <td id=\"T_bac58_row2_col0\" class=\"data row2 col0\" >['xxxxxxx@gmail.com', 'xxxxxxxx@gmail.com', 'xxxxxx@gmail.com']</td>\n",
       "    </tr>\n",
       "    <tr>\n",
       "      <th id=\"T_bac58_level0_row3\" class=\"row_heading level0 row3\" >examples for values in common formats</th>\n",
       "      <td id=\"T_bac58_row3_col0\" class=\"data row3 col0\" >['nlhpdhj@gmail.com', 'cfbikhvj@gmail.com', 'yzvhcr@gmail.com']</td>\n",
       "    </tr>\n",
       "    <tr>\n",
       "      <th id=\"T_bac58_level0_row4\" class=\"row_heading level0 row4\" >values in rare formats</th>\n",
       "      <td id=\"T_bac58_row4_col0\" class=\"data row4 col0\" >['myname@gmail.com1', 'myname@gmail.co']</td>\n",
       "    </tr>\n",
       "  </tbody>\n",
       "</table>\n"
      ]
     },
     "metadata": {},
     "output_type": "display_data"
    }
   ],
   "source": [
    "ds = Dataset(df)\n",
    "check = RareFormatDetection()\n",
    "\n",
    "check.run(dataset=ds)"
   ]
  }
 ],
 "metadata": {
  "kernelspec": {
   "display_name": "Python 3 (ipykernel)",
   "language": "python",
   "name": "python3"
  },
  "language_info": {
   "codemirror_mode": {
    "name": "ipython",
    "version": 3
   },
   "file_extension": ".py",
   "mimetype": "text/x-python",
   "name": "python",
   "nbconvert_exporter": "python",
   "pygments_lexer": "ipython3",
   "version": "3.8.11"
  }
 },
 "nbformat": 4,
 "nbformat_minor": 5
}
