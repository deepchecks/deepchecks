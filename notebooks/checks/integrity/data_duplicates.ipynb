{
 "cells": [
  {
   "cell_type": "markdown",
   "id": "06bdcdfc",
   "metadata": {},
   "source": [
    "# Data Duplicates "
   ]
  },
  {
   "cell_type": "code",
   "execution_count": 1,
   "id": "e9297e35",
   "metadata": {
    "execution": {
     "iopub.execute_input": "2021-12-22T07:28:16.307502Z",
     "iopub.status.busy": "2021-12-22T07:28:16.305995Z",
     "iopub.status.idle": "2021-12-22T07:28:18.018581Z",
     "shell.execute_reply": "2021-12-22T07:28:18.019035Z"
    }
   },
   "outputs": [],
   "source": [
    "from deepchecks.checks.integrity.data_duplicates import DataDuplicates\n",
    "from deepchecks.base import Dataset, Suite\n",
    "from datetime import datetime\n",
    "import pandas as pd\n"
   ]
  },
  {
   "cell_type": "code",
   "execution_count": 2,
   "id": "bbb916b9",
   "metadata": {
    "execution": {
     "iopub.execute_input": "2021-12-22T07:28:18.026136Z",
     "iopub.status.busy": "2021-12-22T07:28:18.025566Z",
     "iopub.status.idle": "2021-12-22T07:28:18.029138Z",
     "shell.execute_reply": "2021-12-22T07:28:18.028660Z"
    }
   },
   "outputs": [],
   "source": [
    "ds = pd.DataFrame({\"col1\":[1,2,1,2,1,2,1,2,1,2], \"col2\":[1,2,1,2,1,2,1,2,1,2],\"col3\":[2,3,4,4,4,3,4,5,6,4]})"
   ]
  },
  {
   "cell_type": "code",
   "execution_count": 3,
   "id": "0c2f4fd4",
   "metadata": {
    "execution": {
     "iopub.execute_input": "2021-12-22T07:28:18.036493Z",
     "iopub.status.busy": "2021-12-22T07:28:18.035142Z",
     "iopub.status.idle": "2021-12-22T07:28:18.056100Z",
     "shell.execute_reply": "2021-12-22T07:28:18.055373Z"
    }
   },
   "outputs": [
    {
     "data": {
      "text/html": [
       "<h4>Data Duplicates</h4>"
      ]
     },
     "metadata": {},
     "output_type": "display_data"
    },
    {
     "data": {
      "text/html": [
       "<p>Search for duplicate data in dataset.</p>"
      ]
     },
     "metadata": {},
     "output_type": "display_data"
    },
    {
     "data": {
      "text/html": [
       "40.00% of data samples are duplicates"
      ]
     },
     "metadata": {},
     "output_type": "display_data"
    },
    {
     "data": {
      "text/html": [
       "<style type=\"text/css\">\n",
       "#T_2a2fa_ table {\n",
       "  text-align: left;\n",
       "}\n",
       "#T_2a2fa_ thead {\n",
       "  text-align: left;\n",
       "}\n",
       "#T_2a2fa_ tbody {\n",
       "  text-align: left;\n",
       "}\n",
       "#T_2a2fa_ th {\n",
       "  text-align: left;\n",
       "}\n",
       "#T_2a2fa_ td {\n",
       "  text-align: left;\n",
       "}\n",
       "</style>\n",
       "<table id=\"T_2a2fa_\">\n",
       "  <thead>\n",
       "    <tr>\n",
       "      <th class=\"blank level0\" >&nbsp;</th>\n",
       "      <th class=\"col_heading level0 col0\" >col1</th>\n",
       "      <th class=\"col_heading level0 col1\" >col2</th>\n",
       "      <th class=\"col_heading level0 col2\" >col3</th>\n",
       "    </tr>\n",
       "    <tr>\n",
       "      <th class=\"index_name level0\" >Number of Duplicates</th>\n",
       "      <th class=\"blank col0\" >&nbsp;</th>\n",
       "      <th class=\"blank col1\" >&nbsp;</th>\n",
       "      <th class=\"blank col2\" >&nbsp;</th>\n",
       "    </tr>\n",
       "  </thead>\n",
       "  <tbody>\n",
       "    <tr>\n",
       "      <th id=\"T_2a2fa_level0_row0\" class=\"row_heading level0 row0\" >3</th>\n",
       "      <td id=\"T_2a2fa_row0_col0\" class=\"data row0 col0\" >1</td>\n",
       "      <td id=\"T_2a2fa_row0_col1\" class=\"data row0 col1\" >1</td>\n",
       "      <td id=\"T_2a2fa_row0_col2\" class=\"data row0 col2\" >4</td>\n",
       "    </tr>\n",
       "    <tr>\n",
       "      <th id=\"T_2a2fa_level0_row1\" class=\"row_heading level0 row1\" >2</th>\n",
       "      <td id=\"T_2a2fa_row1_col0\" class=\"data row1 col0\" >2</td>\n",
       "      <td id=\"T_2a2fa_row1_col1\" class=\"data row1 col1\" >2</td>\n",
       "      <td id=\"T_2a2fa_row1_col2\" class=\"data row1 col2\" >3</td>\n",
       "    </tr>\n",
       "    <tr>\n",
       "      <th id=\"T_2a2fa_level0_row2\" class=\"row_heading level0 row2\" >2</th>\n",
       "      <td id=\"T_2a2fa_row2_col0\" class=\"data row2 col0\" >2</td>\n",
       "      <td id=\"T_2a2fa_row2_col1\" class=\"data row2 col1\" >2</td>\n",
       "      <td id=\"T_2a2fa_row2_col2\" class=\"data row2 col2\" >4</td>\n",
       "    </tr>\n",
       "  </tbody>\n",
       "</table>\n"
      ]
     },
     "metadata": {},
     "output_type": "display_data"
    }
   ],
   "source": [
    "DataDuplicates().run(ds)"
   ]
  },
  {
   "cell_type": "code",
   "execution_count": 4,
   "id": "8acc767a",
   "metadata": {
    "execution": {
     "iopub.execute_input": "2021-12-22T07:28:18.064993Z",
     "iopub.status.busy": "2021-12-22T07:28:18.064321Z",
     "iopub.status.idle": "2021-12-22T07:28:18.075104Z",
     "shell.execute_reply": "2021-12-22T07:28:18.075565Z"
    }
   },
   "outputs": [
    {
     "data": {
      "text/html": [
       "<h4>Data Duplicates</h4>"
      ]
     },
     "metadata": {},
     "output_type": "display_data"
    },
    {
     "data": {
      "text/html": [
       "<p>Search for duplicate data in dataset.</p>"
      ]
     },
     "metadata": {},
     "output_type": "display_data"
    },
    {
     "data": {
      "text/html": [
       "40.00% of data samples are duplicates"
      ]
     },
     "metadata": {},
     "output_type": "display_data"
    },
    {
     "data": {
      "text/html": [
       "<style type=\"text/css\">\n",
       "#T_d1508_ table {\n",
       "  text-align: left;\n",
       "}\n",
       "#T_d1508_ thead {\n",
       "  text-align: left;\n",
       "}\n",
       "#T_d1508_ tbody {\n",
       "  text-align: left;\n",
       "}\n",
       "#T_d1508_ th {\n",
       "  text-align: left;\n",
       "}\n",
       "#T_d1508_ td {\n",
       "  text-align: left;\n",
       "}\n",
       "</style>\n",
       "<table id=\"T_d1508_\">\n",
       "  <thead>\n",
       "    <tr>\n",
       "      <th class=\"blank level0\" >&nbsp;</th>\n",
       "      <th class=\"col_heading level0 col0\" >col1</th>\n",
       "      <th class=\"col_heading level0 col1\" >col2</th>\n",
       "      <th class=\"col_heading level0 col2\" >col3</th>\n",
       "    </tr>\n",
       "    <tr>\n",
       "      <th class=\"index_name level0\" >Number of Duplicates</th>\n",
       "      <th class=\"blank col0\" >&nbsp;</th>\n",
       "      <th class=\"blank col1\" >&nbsp;</th>\n",
       "      <th class=\"blank col2\" >&nbsp;</th>\n",
       "    </tr>\n",
       "  </thead>\n",
       "  <tbody>\n",
       "    <tr>\n",
       "      <th id=\"T_d1508_level0_row0\" class=\"row_heading level0 row0\" >3</th>\n",
       "      <td id=\"T_d1508_row0_col0\" class=\"data row0 col0\" >1</td>\n",
       "      <td id=\"T_d1508_row0_col1\" class=\"data row0 col1\" >1</td>\n",
       "      <td id=\"T_d1508_row0_col2\" class=\"data row0 col2\" >4</td>\n",
       "    </tr>\n",
       "    <tr>\n",
       "      <th id=\"T_d1508_level0_row1\" class=\"row_heading level0 row1\" >2</th>\n",
       "      <td id=\"T_d1508_row1_col0\" class=\"data row1 col0\" >2</td>\n",
       "      <td id=\"T_d1508_row1_col1\" class=\"data row1 col1\" >2</td>\n",
       "      <td id=\"T_d1508_row1_col2\" class=\"data row1 col2\" >3</td>\n",
       "    </tr>\n",
       "  </tbody>\n",
       "</table>\n"
      ]
     },
     "metadata": {},
     "output_type": "display_data"
    }
   ],
   "source": [
    "DataDuplicates(n_to_show=2).run(ds)"
   ]
  },
  {
   "cell_type": "code",
   "execution_count": 5,
   "id": "4ac8525f",
   "metadata": {
    "execution": {
     "iopub.execute_input": "2021-12-22T07:28:18.087568Z",
     "iopub.status.busy": "2021-12-22T07:28:18.086772Z",
     "iopub.status.idle": "2021-12-22T07:28:18.094003Z",
     "shell.execute_reply": "2021-12-22T07:28:18.094461Z"
    }
   },
   "outputs": [
    {
     "data": {
      "text/html": [
       "<h4>Data Duplicates</h4>"
      ]
     },
     "metadata": {},
     "output_type": "display_data"
    },
    {
     "data": {
      "text/html": [
       "<p>Search for duplicate data in dataset.</p>"
      ]
     },
     "metadata": {},
     "output_type": "display_data"
    },
    {
     "data": {
      "text/html": [
       "80.00% of data samples are duplicates"
      ]
     },
     "metadata": {},
     "output_type": "display_data"
    },
    {
     "data": {
      "text/html": [
       "<style type=\"text/css\">\n",
       "#T_83c53_ table {\n",
       "  text-align: left;\n",
       "}\n",
       "#T_83c53_ thead {\n",
       "  text-align: left;\n",
       "}\n",
       "#T_83c53_ tbody {\n",
       "  text-align: left;\n",
       "}\n",
       "#T_83c53_ th {\n",
       "  text-align: left;\n",
       "}\n",
       "#T_83c53_ td {\n",
       "  text-align: left;\n",
       "}\n",
       "</style>\n",
       "<table id=\"T_83c53_\">\n",
       "  <thead>\n",
       "    <tr>\n",
       "      <th class=\"blank level0\" >&nbsp;</th>\n",
       "      <th class=\"col_heading level0 col0\" >col1</th>\n",
       "    </tr>\n",
       "    <tr>\n",
       "      <th class=\"index_name level0\" >Number of Duplicates</th>\n",
       "      <th class=\"blank col0\" >&nbsp;</th>\n",
       "    </tr>\n",
       "  </thead>\n",
       "  <tbody>\n",
       "    <tr>\n",
       "      <th id=\"T_83c53_level0_row0\" class=\"row_heading level0 row0\" >5</th>\n",
       "      <td id=\"T_83c53_row0_col0\" class=\"data row0 col0\" >1</td>\n",
       "    </tr>\n",
       "    <tr>\n",
       "      <th id=\"T_83c53_level0_row1\" class=\"row_heading level0 row1\" >5</th>\n",
       "      <td id=\"T_83c53_row1_col0\" class=\"data row1 col0\" >2</td>\n",
       "    </tr>\n",
       "  </tbody>\n",
       "</table>\n"
      ]
     },
     "metadata": {},
     "output_type": "display_data"
    }
   ],
   "source": [
    "DataDuplicates(columns=[\"col1\"]).run(ds)"
   ]
  },
  {
   "cell_type": "code",
   "execution_count": 6,
   "id": "dcb2f344",
   "metadata": {
    "execution": {
     "iopub.execute_input": "2021-12-22T07:28:18.107588Z",
     "iopub.status.busy": "2021-12-22T07:28:18.102099Z",
     "iopub.status.idle": "2021-12-22T07:28:18.115816Z",
     "shell.execute_reply": "2021-12-22T07:28:18.115146Z"
    }
   },
   "outputs": [
    {
     "data": {
      "text/html": [
       "<h4>Data Duplicates</h4>"
      ]
     },
     "metadata": {},
     "output_type": "display_data"
    },
    {
     "data": {
      "text/html": [
       "<p>Search for duplicate data in dataset.</p>"
      ]
     },
     "metadata": {},
     "output_type": "display_data"
    },
    {
     "data": {
      "text/html": [
       "80.00% of data samples are duplicates"
      ]
     },
     "metadata": {},
     "output_type": "display_data"
    },
    {
     "data": {
      "text/html": [
       "<style type=\"text/css\">\n",
       "#T_3947d_ table {\n",
       "  text-align: left;\n",
       "}\n",
       "#T_3947d_ thead {\n",
       "  text-align: left;\n",
       "}\n",
       "#T_3947d_ tbody {\n",
       "  text-align: left;\n",
       "}\n",
       "#T_3947d_ th {\n",
       "  text-align: left;\n",
       "}\n",
       "#T_3947d_ td {\n",
       "  text-align: left;\n",
       "}\n",
       "</style>\n",
       "<table id=\"T_3947d_\">\n",
       "  <thead>\n",
       "    <tr>\n",
       "      <th class=\"blank level0\" >&nbsp;</th>\n",
       "      <th class=\"col_heading level0 col0\" >col1</th>\n",
       "      <th class=\"col_heading level0 col1\" >col2</th>\n",
       "    </tr>\n",
       "    <tr>\n",
       "      <th class=\"index_name level0\" >Number of Duplicates</th>\n",
       "      <th class=\"blank col0\" >&nbsp;</th>\n",
       "      <th class=\"blank col1\" >&nbsp;</th>\n",
       "    </tr>\n",
       "  </thead>\n",
       "  <tbody>\n",
       "    <tr>\n",
       "      <th id=\"T_3947d_level0_row0\" class=\"row_heading level0 row0\" >5</th>\n",
       "      <td id=\"T_3947d_row0_col0\" class=\"data row0 col0\" >1</td>\n",
       "      <td id=\"T_3947d_row0_col1\" class=\"data row0 col1\" >1</td>\n",
       "    </tr>\n",
       "    <tr>\n",
       "      <th id=\"T_3947d_level0_row1\" class=\"row_heading level0 row1\" >5</th>\n",
       "      <td id=\"T_3947d_row1_col0\" class=\"data row1 col0\" >2</td>\n",
       "      <td id=\"T_3947d_row1_col1\" class=\"data row1 col1\" >2</td>\n",
       "    </tr>\n",
       "  </tbody>\n",
       "</table>\n"
      ]
     },
     "metadata": {},
     "output_type": "display_data"
    }
   ],
   "source": [
    "DataDuplicates(ignore_columns=[\"col3\"]).run(ds)"
   ]
  },
  {
   "cell_type": "code",
   "execution_count": 7,
   "id": "56284ded",
   "metadata": {
    "execution": {
     "iopub.execute_input": "2021-12-22T07:28:18.121337Z",
     "iopub.status.busy": "2021-12-22T07:28:18.120762Z",
     "iopub.status.idle": "2021-12-22T07:28:18.123520Z",
     "shell.execute_reply": "2021-12-22T07:28:18.122899Z"
    }
   },
   "outputs": [],
   "source": [
    "ds_no_dups = ds = pd.DataFrame({\"col1\":[1,2,1,2,1,2,1,2,1,2], \"col2\":[1,2,1,2,1,2,1,2,1,2], \"col3\":[1,2,3,4,5,6,7,8,9,0]})"
   ]
  },
  {
   "cell_type": "code",
   "execution_count": 8,
   "id": "bca536fd",
   "metadata": {
    "execution": {
     "iopub.execute_input": "2021-12-22T07:28:18.133644Z",
     "iopub.status.busy": "2021-12-22T07:28:18.130923Z",
     "iopub.status.idle": "2021-12-22T07:28:18.138306Z",
     "shell.execute_reply": "2021-12-22T07:28:18.137753Z"
    }
   },
   "outputs": [
    {
     "data": {
      "text/html": [
       "<h4>Data Duplicates</h4>"
      ]
     },
     "metadata": {},
     "output_type": "display_data"
    },
    {
     "data": {
      "text/html": [
       "<p>Search for duplicate data in dataset.</p>"
      ]
     },
     "metadata": {},
     "output_type": "display_data"
    },
    {
     "data": {
      "text/html": [
       "<p><b>&#x2713;</b> Nothing found</p>"
      ]
     },
     "metadata": {},
     "output_type": "display_data"
    }
   ],
   "source": [
    "DataDuplicates().run(ds_no_dups)"
   ]
  },
  {
   "cell_type": "code",
   "execution_count": 9,
   "id": "7716ca9d",
   "metadata": {
    "execution": {
     "iopub.execute_input": "2021-12-22T07:28:18.144380Z",
     "iopub.status.busy": "2021-12-22T07:28:18.143654Z",
     "iopub.status.idle": "2021-12-22T07:28:18.158102Z",
     "shell.execute_reply": "2021-12-22T07:28:18.158561Z"
    }
   },
   "outputs": [
    {
     "data": {
      "text/html": [
       "<h4>Data Duplicates</h4>"
      ]
     },
     "metadata": {},
     "output_type": "display_data"
    },
    {
     "data": {
      "text/html": [
       "<p>Search for duplicate data in dataset.</p>"
      ]
     },
     "metadata": {},
     "output_type": "display_data"
    },
    {
     "data": {
      "text/html": [
       "80.00% of data samples are duplicates"
      ]
     },
     "metadata": {},
     "output_type": "display_data"
    },
    {
     "data": {
      "text/html": [
       "<style type=\"text/css\">\n",
       "#T_b0bbe_ table {\n",
       "  text-align: left;\n",
       "}\n",
       "#T_b0bbe_ thead {\n",
       "  text-align: left;\n",
       "}\n",
       "#T_b0bbe_ tbody {\n",
       "  text-align: left;\n",
       "}\n",
       "#T_b0bbe_ th {\n",
       "  text-align: left;\n",
       "}\n",
       "#T_b0bbe_ td {\n",
       "  text-align: left;\n",
       "}\n",
       "</style>\n",
       "<table id=\"T_b0bbe_\">\n",
       "  <thead>\n",
       "    <tr>\n",
       "      <th class=\"blank level0\" >&nbsp;</th>\n",
       "      <th class=\"col_heading level0 col0\" >col1</th>\n",
       "      <th class=\"col_heading level0 col1\" >col2</th>\n",
       "    </tr>\n",
       "    <tr>\n",
       "      <th class=\"index_name level0\" >Number of Duplicates</th>\n",
       "      <th class=\"blank col0\" >&nbsp;</th>\n",
       "      <th class=\"blank col1\" >&nbsp;</th>\n",
       "    </tr>\n",
       "  </thead>\n",
       "  <tbody>\n",
       "    <tr>\n",
       "      <th id=\"T_b0bbe_level0_row0\" class=\"row_heading level0 row0\" >5</th>\n",
       "      <td id=\"T_b0bbe_row0_col0\" class=\"data row0 col0\" >1</td>\n",
       "      <td id=\"T_b0bbe_row0_col1\" class=\"data row0 col1\" >1</td>\n",
       "    </tr>\n",
       "    <tr>\n",
       "      <th id=\"T_b0bbe_level0_row1\" class=\"row_heading level0 row1\" >5</th>\n",
       "      <td id=\"T_b0bbe_row1_col0\" class=\"data row1 col0\" >2</td>\n",
       "      <td id=\"T_b0bbe_row1_col1\" class=\"data row1 col1\" >2</td>\n",
       "    </tr>\n",
       "  </tbody>\n",
       "</table>\n"
      ]
     },
     "metadata": {},
     "output_type": "display_data"
    }
   ],
   "source": [
    "DataDuplicates(ignore_columns=[\"col3\"]).run(ds_no_dups)"
   ]
  }
 ],
 "metadata": {
  "kernelspec": {
   "display_name": "Python 3 (ipykernel)",
   "language": "python",
   "name": "python3"
  },
  "language_info": {
   "codemirror_mode": {
    "name": "ipython",
    "version": 3
   },
   "file_extension": ".py",
   "mimetype": "text/x-python",
   "name": "python",
   "nbconvert_exporter": "python",
   "pygments_lexer": "ipython3",
   "version": "3.9.9"
  }
 },
 "nbformat": 4,
 "nbformat_minor": 5
}
