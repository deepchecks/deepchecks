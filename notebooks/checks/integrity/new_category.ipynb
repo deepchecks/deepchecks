{
 "cells": [
  {
   "cell_type": "code",
   "execution_count": 1,
   "id": "b6c42074",
   "metadata": {},
   "outputs": [],
   "source": [
    "from deepchecks.checks.integrity.new_category import CategoryMismatchTrainTest\n",
    "from deepchecks.base import Dataset\n",
    "import pandas as pd"
   ]
  },
  {
   "cell_type": "code",
   "execution_count": 2,
   "id": "ee76ed5c",
   "metadata": {},
   "outputs": [],
   "source": [
    "test_data = {\"col1\": [\"somebody\", \"once\", \"told\", \"me\"] * 10}\n",
    "val_data = {\"col1\": [\"the\",\"world\",\"is\", \"gonna\", \"role\", \"me\"] * 10}\n",
    "test = Dataset(pd.DataFrame(data=test_data), cat_features=[\"col1\"])\n",
    "val = Dataset(pd.DataFrame(data=val_data), cat_features=[\"col1\"])"
   ]
  },
  {
   "cell_type": "code",
   "execution_count": 3,
   "id": "3171fe14",
   "metadata": {},
   "outputs": [
    {
     "data": {
      "text/html": [
       "<h4>Category Mismatch Train Test</h4>"
      ]
     },
     "metadata": {},
     "output_type": "display_data"
    },
    {
     "data": {
      "text/html": [
       "<p>Find new categories in the test set.</p>"
      ]
     },
     "metadata": {},
     "output_type": "display_data"
    },
    {
     "data": {
      "text/html": [
       "<style type=\"text/css\">\n",
       "#T_383b8_ table {\n",
       "  text-align: left;\n",
       "}\n",
       "#T_383b8_ thead {\n",
       "  text-align: left;\n",
       "}\n",
       "#T_383b8_ tbody {\n",
       "  text-align: left;\n",
       "}\n",
       "#T_383b8_ th {\n",
       "  text-align: left;\n",
       "}\n",
       "#T_383b8_ td {\n",
       "  text-align: left;\n",
       "}\n",
       "</style>\n",
       "<table id=\"T_383b8_\">\n",
       "  <thead>\n",
       "    <tr>\n",
       "      <th class=\"blank level0\" >&nbsp;</th>\n",
       "      <th class=\"col_heading level0 col0\" >Percent of new categories in sample</th>\n",
       "      <th class=\"col_heading level0 col1\" >New categories</th>\n",
       "    </tr>\n",
       "    <tr>\n",
       "      <th class=\"index_name level0\" >Column</th>\n",
       "      <th class=\"blank col0\" >&nbsp;</th>\n",
       "      <th class=\"blank col1\" >&nbsp;</th>\n",
       "    </tr>\n",
       "  </thead>\n",
       "  <tbody>\n",
       "    <tr>\n",
       "      <th id=\"T_383b8_level0_row0\" class=\"row_heading level0 row0\" >col1</th>\n",
       "      <td id=\"T_383b8_row0_col0\" class=\"data row0 col0\" >75.00%</td>\n",
       "      <td id=\"T_383b8_row0_col1\" class=\"data row0 col1\" >['once', 'somebody', 'told']</td>\n",
       "    </tr>\n",
       "  </tbody>\n",
       "</table>\n"
      ]
     },
     "metadata": {},
     "output_type": "display_data"
    }
   ],
   "source": [
    "CategoryMismatchTrainTest().run(val, test)"
   ]
  },
  {
   "cell_type": "code",
   "execution_count": 4,
   "id": "7536f60c",
   "metadata": {},
   "outputs": [],
   "source": [
    "test_data = {\"col1\": [\"a\", \"b\", \"a\", \"c\"] * 10, \"col2\": ['a','b','b','q']*10}\n",
    "val_data = {\"col1\": [\"a\",\"b\",\"d\"] * 10, \"col2\": ['a', '2', '1']*10}\n",
    "test = Dataset(pd.DataFrame(data=test_data), cat_features=[\"col1\",\"col2\"])\n",
    "val = Dataset(pd.DataFrame(data=val_data), cat_features=[\"col1\", \"col2\"])"
   ]
  },
  {
   "cell_type": "code",
   "execution_count": 5,
   "id": "b81bc4a1",
   "metadata": {},
   "outputs": [
    {
     "data": {
      "text/html": [
       "<h4>Category Mismatch Train Test</h4>"
      ]
     },
     "metadata": {},
     "output_type": "display_data"
    },
    {
     "data": {
      "text/html": [
       "<p>Find new categories in the test set.</p>"
      ]
     },
     "metadata": {},
     "output_type": "display_data"
    },
    {
     "data": {
      "text/html": [
       "<style type=\"text/css\">\n",
       "#T_d6742_ table {\n",
       "  text-align: left;\n",
       "}\n",
       "#T_d6742_ thead {\n",
       "  text-align: left;\n",
       "}\n",
       "#T_d6742_ tbody {\n",
       "  text-align: left;\n",
       "}\n",
       "#T_d6742_ th {\n",
       "  text-align: left;\n",
       "}\n",
       "#T_d6742_ td {\n",
       "  text-align: left;\n",
       "}\n",
       "</style>\n",
       "<table id=\"T_d6742_\">\n",
       "  <thead>\n",
       "    <tr>\n",
       "      <th class=\"blank level0\" >&nbsp;</th>\n",
       "      <th class=\"col_heading level0 col0\" >Percent of new categories in sample</th>\n",
       "      <th class=\"col_heading level0 col1\" >New categories</th>\n",
       "    </tr>\n",
       "    <tr>\n",
       "      <th class=\"index_name level0\" >Column</th>\n",
       "      <th class=\"blank col0\" >&nbsp;</th>\n",
       "      <th class=\"blank col1\" >&nbsp;</th>\n",
       "    </tr>\n",
       "  </thead>\n",
       "  <tbody>\n",
       "    <tr>\n",
       "      <th id=\"T_d6742_level0_row0\" class=\"row_heading level0 row0\" >col1</th>\n",
       "      <td id=\"T_d6742_row0_col0\" class=\"data row0 col0\" >25.00%</td>\n",
       "      <td id=\"T_d6742_row0_col1\" class=\"data row0 col1\" >['c']</td>\n",
       "    </tr>\n",
       "    <tr>\n",
       "      <th id=\"T_d6742_level0_row1\" class=\"row_heading level0 row1\" >col2</th>\n",
       "      <td id=\"T_d6742_row1_col0\" class=\"data row1 col0\" >75.00%</td>\n",
       "      <td id=\"T_d6742_row1_col1\" class=\"data row1 col1\" >['b', 'q']</td>\n",
       "    </tr>\n",
       "  </tbody>\n",
       "</table>\n"
      ]
     },
     "metadata": {},
     "output_type": "display_data"
    }
   ],
   "source": [
    "CategoryMismatchTrainTest().run(val, test)"
   ]
  }
 ],
 "metadata": {
  "kernelspec": {
   "display_name": "Python 3 (ipykernel)",
   "language": "python",
   "name": "python3"
  },
  "language_info": {
   "codemirror_mode": {
    "name": "ipython",
    "version": 3
   },
   "file_extension": ".py",
   "mimetype": "text/x-python",
   "name": "python",
   "nbconvert_exporter": "python",
   "pygments_lexer": "ipython3",
   "version": "3.8.6"
  }
 },
 "nbformat": 4,
 "nbformat_minor": 5
}
