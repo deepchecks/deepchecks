{
 "cells": [
  {
   "cell_type": "code",
   "execution_count": 1,
   "id": "20e5a3dd",
   "metadata": {},
   "outputs": [
    {
     "data": {
      "text/html": [
       "<h4>String Mismatch</h4>"
      ]
     },
     "metadata": {},
     "output_type": "display_data"
    },
    {
     "data": {
      "text/html": [
       "<p>Detect different variants of string categories (e.g. \"mislabeled\" vs \"mis-labeled\") in a categorical column.</p>"
      ]
     },
     "metadata": {},
     "output_type": "display_data"
    },
    {
     "data": {
      "text/html": [
       "<style type=\"text/css\">\n",
       "#T_9ed6e_ table {\n",
       "  text-align: left;\n",
       "}\n",
       "#T_9ed6e_ thead {\n",
       "  text-align: left;\n",
       "}\n",
       "#T_9ed6e_ tbody {\n",
       "  text-align: left;\n",
       "}\n",
       "#T_9ed6e_ th {\n",
       "  text-align: left;\n",
       "}\n",
       "#T_9ed6e_ td {\n",
       "  text-align: left;\n",
       "}\n",
       "</style>\n",
       "<table id=\"T_9ed6e_\">\n",
       "  <thead>\n",
       "    <tr>\n",
       "      <th class=\"blank\" >&nbsp;</th>\n",
       "      <th class=\"blank level0\" >&nbsp;</th>\n",
       "      <th class=\"col_heading level0 col0\" >Value</th>\n",
       "      <th class=\"col_heading level0 col1\" >Count</th>\n",
       "      <th class=\"col_heading level0 col2\" >% In data</th>\n",
       "    </tr>\n",
       "    <tr>\n",
       "      <th class=\"index_name level0\" >Column Name</th>\n",
       "      <th class=\"index_name level1\" >Base form</th>\n",
       "      <th class=\"blank col0\" >&nbsp;</th>\n",
       "      <th class=\"blank col1\" >&nbsp;</th>\n",
       "      <th class=\"blank col2\" >&nbsp;</th>\n",
       "    </tr>\n",
       "  </thead>\n",
       "  <tbody>\n",
       "    <tr>\n",
       "      <th id=\"T_9ed6e_level0_row0\" class=\"row_heading level0 row0\" rowspan=\"6\">col1</th>\n",
       "      <th id=\"T_9ed6e_level1_row0\" class=\"row_heading level1 row0\" >deep</th>\n",
       "      <td id=\"T_9ed6e_row0_col0\" class=\"data row0 col0\" >Deep</td>\n",
       "      <td id=\"T_9ed6e_row0_col1\" class=\"data row0 col1\" >1</td>\n",
       "      <td id=\"T_9ed6e_row0_col2\" class=\"data row0 col2\" >12.50%</td>\n",
       "    </tr>\n",
       "    <tr>\n",
       "      <th id=\"T_9ed6e_level1_row1\" class=\"row_heading level1 row1\" >deep</th>\n",
       "      <td id=\"T_9ed6e_row1_col0\" class=\"data row1 col0\" >deep!!!</td>\n",
       "      <td id=\"T_9ed6e_row1_col1\" class=\"data row1 col1\" >1</td>\n",
       "      <td id=\"T_9ed6e_row1_col2\" class=\"data row1 col2\" >12.50%</td>\n",
       "    </tr>\n",
       "    <tr>\n",
       "      <th id=\"T_9ed6e_level1_row2\" class=\"row_heading level1 row2\" >deep</th>\n",
       "      <td id=\"T_9ed6e_row2_col0\" class=\"data row2 col0\" >deep</td>\n",
       "      <td id=\"T_9ed6e_row2_col1\" class=\"data row2 col1\" >1</td>\n",
       "      <td id=\"T_9ed6e_row2_col2\" class=\"data row2 col2\" >12.50%</td>\n",
       "    </tr>\n",
       "    <tr>\n",
       "      <th id=\"T_9ed6e_level1_row3\" class=\"row_heading level1 row3\" >deep</th>\n",
       "      <td id=\"T_9ed6e_row3_col0\" class=\"data row3 col0\" >$deeP$</td>\n",
       "      <td id=\"T_9ed6e_row3_col1\" class=\"data row3 col1\" >1</td>\n",
       "      <td id=\"T_9ed6e_row3_col2\" class=\"data row3 col2\" >12.50%</td>\n",
       "    </tr>\n",
       "    <tr>\n",
       "      <th id=\"T_9ed6e_level1_row4\" class=\"row_heading level1 row4\" >foo</th>\n",
       "      <td id=\"T_9ed6e_row4_col0\" class=\"data row4 col0\" >foo?</td>\n",
       "      <td id=\"T_9ed6e_row4_col1\" class=\"data row4 col1\" >1</td>\n",
       "      <td id=\"T_9ed6e_row4_col2\" class=\"data row4 col2\" >12.50%</td>\n",
       "    </tr>\n",
       "    <tr>\n",
       "      <th id=\"T_9ed6e_level1_row5\" class=\"row_heading level1 row5\" >foo</th>\n",
       "      <td id=\"T_9ed6e_row5_col0\" class=\"data row5 col0\" >foo</td>\n",
       "      <td id=\"T_9ed6e_row5_col1\" class=\"data row5 col1\" >1</td>\n",
       "      <td id=\"T_9ed6e_row5_col2\" class=\"data row5 col2\" >12.50%</td>\n",
       "    </tr>\n",
       "  </tbody>\n",
       "</table>\n"
      ]
     },
     "metadata": {},
     "output_type": "display_data"
    }
   ],
   "source": [
    "from deepchecks.checks import StringMismatch\n",
    "import pandas as pd\n",
    "\n",
    "data = {'col1': ['Deep', 'deep', 'deep!!!', '$deeP$', 'earth', 'foo', 'bar', 'foo?']}\n",
    "df = pd.DataFrame(data=data)\n",
    "StringMismatch().run(df)"
   ]
  }
 ],
 "metadata": {
  "kernelspec": {
   "display_name": "Python 3 (ipykernel)",
   "language": "python",
   "name": "python3"
  },
  "language_info": {
   "codemirror_mode": {
    "name": "ipython",
    "version": 3
   },
   "file_extension": ".py",
   "mimetype": "text/x-python",
   "name": "python",
   "nbconvert_exporter": "python",
   "pygments_lexer": "ipython3",
   "version": "3.8.6"
  }
 },
 "nbformat": 4,
 "nbformat_minor": 5
}
