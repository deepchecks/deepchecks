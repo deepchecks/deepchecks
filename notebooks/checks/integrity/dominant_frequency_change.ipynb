{
 "cells": [
  {
   "cell_type": "markdown",
   "id": "0fdeac8e-ffd2-4509-8a70-fcbda9cdb68b",
   "metadata": {},
   "source": [
    "# Imports"
   ]
  },
  {
   "cell_type": "code",
   "execution_count": 1,
   "id": "592d6a95-06b0-4397-bf5e-5aebd6dc58f3",
   "metadata": {},
   "outputs": [],
   "source": [
    "import pandas as pd\n",
    "from sklearn.datasets import load_iris\n",
    "from sklearn.model_selection import train_test_split\n",
    "from deepchecks.checks.integrity import DominantFrequencyChange\n",
    "from deepchecks.base import Dataset"
   ]
  },
  {
   "cell_type": "markdown",
   "id": "b1653169-893b-456a-b179-7ba51d004694",
   "metadata": {},
   "source": [
    "# Generating data:"
   ]
  },
  {
   "cell_type": "code",
   "execution_count": 2,
   "id": "13624caa-239a-4b0a-a081-8d46872751ef",
   "metadata": {},
   "outputs": [],
   "source": [
    "iris = load_iris(return_X_y=False, as_frame=True)\n",
    "X = iris.data\n",
    "y = iris.target\n",
    "X_train, X_test, y_train, y_test = train_test_split(X, y, test_size=0.3, random_state=55)\n",
    "train_dataset = Dataset(pd.concat([X_train, y_train], axis=1), \n",
    "            features=iris.feature_names,\n",
    "            label='target')\n",
    "\n",
    "test_df = pd.concat([X_test, y_test], axis=1)\n",
    "\n",
    "# make duplicates in the test data\n",
    "test_df.loc[test_df.index % 2 == 0, 'petal length (cm)'] = 5.1\n",
    "test_df.loc[test_df.index / 3 > 8, 'sepal width (cm)'] = 2.7\n",
    "\n",
    "validation_dataset = Dataset(test_df, \n",
    "            features=iris.feature_names,\n",
    "            label='target')"
   ]
  },
  {
   "cell_type": "markdown",
   "id": "e9b8071a-f95a-4d51-8ca9-abd42d5406b2",
   "metadata": {},
   "source": [
    "# Running dominant_frequency_change check:"
   ]
  },
  {
   "cell_type": "code",
   "execution_count": 3,
   "id": "372e0162-b86c-45d6-8a3b-47e009d709b9",
   "metadata": {},
   "outputs": [],
   "source": [
    "check = DominantFrequencyChange()"
   ]
  },
  {
   "cell_type": "code",
   "execution_count": 4,
   "id": "fadb3bc8-65af-4c7d-92bc-9234802d99e3",
   "metadata": {},
   "outputs": [
    {
     "data": {
      "text/html": [
       "<h4>Dominant Frequency Change</h4>"
      ]
     },
     "metadata": {},
     "output_type": "display_data"
    },
    {
     "data": {
      "text/html": [
       "<p>Check if dominant values have increased significantly between test and reference data.</p>"
      ]
     },
     "metadata": {},
     "output_type": "display_data"
    },
    {
     "data": {
      "text/html": [
       "<style type=\"text/css\">\n",
       "#T_1e1dd_ table {\n",
       "  text-align: left;\n",
       "}\n",
       "#T_1e1dd_ thead {\n",
       "  text-align: left;\n",
       "}\n",
       "#T_1e1dd_ tbody {\n",
       "  text-align: left;\n",
       "}\n",
       "#T_1e1dd_ th {\n",
       "  text-align: left;\n",
       "}\n",
       "#T_1e1dd_ td {\n",
       "  text-align: left;\n",
       "}\n",
       "</style>\n",
       "<table id=\"T_1e1dd_\">\n",
       "  <thead>\n",
       "    <tr>\n",
       "      <th class=\"blank level0\" >&nbsp;</th>\n",
       "      <th class=\"col_heading level0 col0\" >Value</th>\n",
       "      <th class=\"col_heading level0 col1\" >Reference data %</th>\n",
       "      <th class=\"col_heading level0 col2\" >Tested data %</th>\n",
       "      <th class=\"col_heading level0 col3\" >Reference data #</th>\n",
       "      <th class=\"col_heading level0 col4\" >Tested data #</th>\n",
       "      <th class=\"col_heading level0 col5\" >P value</th>\n",
       "    </tr>\n",
       "  </thead>\n",
       "  <tbody>\n",
       "    <tr>\n",
       "      <th id=\"T_1e1dd_level0_row0\" class=\"row_heading level0 row0\" >sepal width (cm)</th>\n",
       "      <td id=\"T_1e1dd_row0_col0\" class=\"data row0 col0\" >2.70</td>\n",
       "      <td id=\"T_1e1dd_row0_col1\" class=\"data row0 col1\" >6.67</td>\n",
       "      <td id=\"T_1e1dd_row0_col2\" class=\"data row0 col2\" >82.22</td>\n",
       "      <td id=\"T_1e1dd_row0_col3\" class=\"data row0 col3\" >7</td>\n",
       "      <td id=\"T_1e1dd_row0_col4\" class=\"data row0 col4\" >37</td>\n",
       "      <td id=\"T_1e1dd_row0_col5\" class=\"data row0 col5\" >0.00</td>\n",
       "    </tr>\n",
       "    <tr>\n",
       "      <th id=\"T_1e1dd_level0_row1\" class=\"row_heading level0 row1\" >petal length (cm)</th>\n",
       "      <td id=\"T_1e1dd_row1_col0\" class=\"data row1 col0\" >5.10</td>\n",
       "      <td id=\"T_1e1dd_row1_col1\" class=\"data row1 col1\" >5.71</td>\n",
       "      <td id=\"T_1e1dd_row1_col2\" class=\"data row1 col2\" >55.56</td>\n",
       "      <td id=\"T_1e1dd_row1_col3\" class=\"data row1 col3\" >6</td>\n",
       "      <td id=\"T_1e1dd_row1_col4\" class=\"data row1 col4\" >25</td>\n",
       "      <td id=\"T_1e1dd_row1_col5\" class=\"data row1 col5\" >0.00</td>\n",
       "    </tr>\n",
       "  </tbody>\n",
       "</table>\n"
      ]
     },
     "metadata": {},
     "output_type": "display_data"
    }
   ],
   "source": [
    "check.run(dataset=validation_dataset, baseline_dataset=train_dataset)"
   ]
  }
 ],
 "metadata": {
  "kernelspec": {
   "display_name": "Python 3 (ipykernel)",
   "language": "python",
   "name": "python3"
  },
  "language_info": {
   "codemirror_mode": {
    "name": "ipython",
    "version": 3
   },
   "file_extension": ".py",
   "mimetype": "text/x-python",
   "name": "python",
   "nbconvert_exporter": "python",
   "pygments_lexer": "ipython3",
   "version": "3.8.11"
  }
 },
 "nbformat": 4,
 "nbformat_minor": 5
}
