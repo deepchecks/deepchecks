{
 "cells": [
  {
   "cell_type": "code",
   "execution_count": 1,
   "id": "53a666d8",
   "metadata": {},
   "outputs": [
    {
     "data": {
      "text/html": [
       "<h4>String Mismatch Comparison</h4>"
      ]
     },
     "metadata": {},
     "output_type": "display_data"
    },
    {
     "data": {
      "text/html": [
       "<p>Detect different variants of string categories between the same categorical column in two datasets.</p>"
      ]
     },
     "metadata": {},
     "output_type": "display_data"
    },
    {
     "data": {
      "text/html": [
       "<style type=\"text/css\">\n",
       "#T_b5511_ table {\n",
       "  text-align: left;\n",
       "}\n",
       "#T_b5511_ thead {\n",
       "  text-align: left;\n",
       "}\n",
       "#T_b5511_ tbody {\n",
       "  text-align: left;\n",
       "}\n",
       "#T_b5511_ th {\n",
       "  text-align: left;\n",
       "}\n",
       "#T_b5511_ td {\n",
       "  text-align: left;\n",
       "}\n",
       "</style>\n",
       "<table id=\"T_b5511_\">\n",
       "  <thead>\n",
       "    <tr>\n",
       "      <th class=\"index_name level0\" >Column name</th>\n",
       "      <th class=\"col_heading level0 col0\" >col1</th>\n",
       "    </tr>\n",
       "    <tr>\n",
       "      <th class=\"index_name level1\" >Base form</th>\n",
       "      <th class=\"col_heading level1 col0\" >deep</th>\n",
       "    </tr>\n",
       "  </thead>\n",
       "  <tbody>\n",
       "    <tr>\n",
       "      <th id=\"T_b5511_level0_row0\" class=\"row_heading level0 row0\" >Common variants</th>\n",
       "      <td id=\"T_b5511_row0_col0\" class=\"data row0 col0\" >['Deep', 'deep']</td>\n",
       "    </tr>\n",
       "    <tr>\n",
       "      <th id=\"T_b5511_level0_row1\" class=\"row_heading level0 row1\" >Variants only in dataset</th>\n",
       "      <td id=\"T_b5511_row1_col0\" class=\"data row1 col0\" >['deep!!!']</td>\n",
       "    </tr>\n",
       "    <tr>\n",
       "      <th id=\"T_b5511_level0_row2\" class=\"row_heading level0 row2\" >% Unique variants out of all dataset samples (count)</th>\n",
       "      <td id=\"T_b5511_row2_col0\" class=\"data row2 col0\" >14.29% (1)</td>\n",
       "    </tr>\n",
       "    <tr>\n",
       "      <th id=\"T_b5511_level0_row3\" class=\"row_heading level0 row3\" >Variants only in baseline</th>\n",
       "      <td id=\"T_b5511_row3_col0\" class=\"data row3 col0\" >['?deep', '$deeP$']</td>\n",
       "    </tr>\n",
       "    <tr>\n",
       "      <th id=\"T_b5511_level0_row4\" class=\"row_heading level0 row4\" >% Unique variants out of all baseline samples (count)</th>\n",
       "      <td id=\"T_b5511_row4_col0\" class=\"data row4 col0\" >25.00% (2)</td>\n",
       "    </tr>\n",
       "  </tbody>\n",
       "</table>\n"
      ]
     },
     "metadata": {},
     "output_type": "display_data"
    }
   ],
   "source": [
    "from deepchecks.checks import StringMismatchComparison\n",
    "import pandas as pd\n",
    "\n",
    "data = {'col1': ['Deep', 'deep', 'deep!!!', 'earth', 'foo', 'bar', 'foo?']}\n",
    "compared_data = {'col1': ['Deep', 'deep', '$deeP$', 'earth', 'foo', 'bar', 'foo?', '?deep']}\n",
    "\n",
    "StringMismatchComparison().run(pd.DataFrame(data=data), pd.DataFrame(data=compared_data))"
   ]
  }
 ],
 "metadata": {
  "kernelspec": {
   "display_name": "Python 3 (ipykernel)",
   "language": "python",
   "name": "python3"
  },
  "language_info": {
   "codemirror_mode": {
    "name": "ipython",
    "version": 3
   },
   "file_extension": ".py",
   "mimetype": "text/x-python",
   "name": "python",
   "nbconvert_exporter": "python",
   "pygments_lexer": "ipython3",
   "version": "3.8.6"
  }
 },
 "nbformat": 4,
 "nbformat_minor": 5
}
