{
 "cells": [
  {
   "cell_type": "markdown",
   "id": "a97984a1-ec52-4b67-b485-508138e18c4c",
   "metadata": {},
   "source": [
    "# Mixed Types"
   ]
  },
  {
   "cell_type": "code",
   "execution_count": 1,
   "id": "6c2d05b9",
   "metadata": {},
   "outputs": [],
   "source": [
    "from deepchecks.checks import MixedTypes\n",
    "import pandas as pd"
   ]
  },
  {
   "cell_type": "markdown",
   "id": "da13d258-1b40-465d-b647-320eacecdea2",
   "metadata": {},
   "source": [
    "## Benign condition"
   ]
  },
  {
   "cell_type": "code",
   "execution_count": 2,
   "id": "ab11a1f7",
   "metadata": {},
   "outputs": [
    {
     "data": {
      "text/html": [
       "<h4>Mixed Types</h4>"
      ]
     },
     "metadata": {},
     "output_type": "display_data"
    },
    {
     "data": {
      "text/html": [
       "<p>Detect a minority of a data type within a column, such as few string samples in a mostly numeric column.</p>"
      ]
     },
     "metadata": {},
     "output_type": "display_data"
    },
    {
     "data": {
      "text/html": [
       "<h5>Conditions Summary</h5>"
      ]
     },
     "metadata": {},
     "output_type": "display_data"
    },
    {
     "data": {
      "text/html": [
       "<style type=\"text/css\">\n",
       "#T_99f67_ table {\n",
       "  text-align: left;\n",
       "}\n",
       "#T_99f67_ thead {\n",
       "  text-align: left;\n",
       "}\n",
       "#T_99f67_ tbody {\n",
       "  text-align: left;\n",
       "}\n",
       "#T_99f67_ th {\n",
       "  text-align: left;\n",
       "}\n",
       "#T_99f67_ td {\n",
       "  text-align: left;\n",
       "}\n",
       "</style>\n",
       "<table id=\"T_99f67_\">\n",
       "  <thead>\n",
       "    <tr>\n",
       "      <th class=\"col_heading level0 col0\" >Status</th>\n",
       "      <th class=\"col_heading level0 col1\" >Condition</th>\n",
       "      <th class=\"col_heading level0 col2\" >More Info</th>\n",
       "    </tr>\n",
       "  </thead>\n",
       "  <tbody>\n",
       "    <tr>\n",
       "      <th id=\"T_99f67_level0_row0\" class=\"row_heading level0 row0\" >strings</th>\n",
       "      <td id=\"T_99f67_row0_col0\" class=\"data row0 col0\" >33.33%</td>\n",
       "      <td id=\"T_99f67_row0_col1\" class=\"data row0 col1\" >83.33%</td>\n",
       "    </tr>\n",
       "    <tr>\n",
       "      <th id=\"T_99f67_level0_row1\" class=\"row_heading level0 row1\" >numbers</th>\n",
       "      <td id=\"T_99f67_row1_col0\" class=\"data row1 col0\" >66.67%</td>\n",
       "      <td id=\"T_99f67_row1_col1\" class=\"data row1 col1\" >16.67%</td>\n",
       "    </tr>\n",
       "  </tbody>\n",
       "</table>\n"
      ]
     },
     "metadata": {},
     "output_type": "display_data"
    },
    {
     "data": {
      "text/html": [
       "<h5>Additional Outputs</h5>"
      ]
     },
     "metadata": {},
     "output_type": "display_data"
    },
    {
     "data": {
      "text/html": [
       "<p><b>&#x2713;</b> Nothing found</p>"
      ]
     },
     "metadata": {},
     "output_type": "display_data"
    }
   ],
   "source": [
    "data = {'col1': ['foo', 'bar', 'cat']}\n",
    "dataframe = pd.DataFrame(data=data)\n",
    "MixedTypes().add_condition_rare_type_ratio_not_in_range().run(dataframe)"
   ]
  },
  {
   "cell_type": "markdown",
   "id": "3aa1c088-cbdb-4718-88e3-e6f8590cd8b8",
   "metadata": {},
   "source": [
    "## Issue detected"
   ]
  },
  {
   "cell_type": "code",
   "execution_count": 3,
   "id": "5e6650a3",
   "metadata": {},
   "outputs": [
    {
     "data": {
      "text/html": [
       "<h4>Mixed Types</h4>"
      ]
     },
     "metadata": {},
     "output_type": "display_data"
    },
    {
     "data": {
      "text/html": [
       "<p>Detect a minority of a data type within a column, such as few string samples in a mostly numeric column.</p>"
      ]
     },
     "metadata": {},
     "output_type": "display_data"
    },
    {
     "data": {
      "text/html": [
       "<h5>Conditions Summary</h5>"
      ]
     },
     "metadata": {},
     "output_type": "display_data"
    },
    {
     "data": {
      "text/html": [
       "<style type=\"text/css\">\n",
       "#T_25bff_ table {\n",
       "  text-align: left;\n",
       "}\n",
       "#T_25bff_ thead {\n",
       "  text-align: left;\n",
       "}\n",
       "#T_25bff_ tbody {\n",
       "  text-align: left;\n",
       "}\n",
       "#T_25bff_ th {\n",
       "  text-align: left;\n",
       "}\n",
       "#T_25bff_ td {\n",
       "  text-align: left;\n",
       "}\n",
       "</style>\n",
       "<table id=\"T_25bff_\">\n",
       "  <thead>\n",
       "    <tr>\n",
       "      <th class=\"col_heading level0 col0\" >Status</th>\n",
       "      <th class=\"col_heading level0 col1\" >Condition</th>\n",
       "      <th class=\"col_heading level0 col2\" >More Info</th>\n",
       "    </tr>\n",
       "  </thead>\n",
       "  <tbody>\n",
       "    <tr>\n",
       "      <td id=\"T_25bff_row0_col0\" class=\"data row0 col0\" ><div style=\"color: orange;text-align: center;font-weight:bold\">!</div></td>\n",
       "      <td id=\"T_25bff_row0_col1\" class=\"data row0 col1\" >Rare data types in all columns are either more than 10.00% or less than 1.00% of the data</td>\n",
       "      <td id=\"T_25bff_row0_col2\" class=\"data row0 col2\" >Found columns with non-negligible quantities of samples with a different data type from the majority of samples: col2, col4</td>\n",
       "    </tr>\n",
       "  </tbody>\n",
       "</table>\n"
      ]
     },
     "metadata": {},
     "output_type": "display_data"
    },
    {
     "data": {
      "text/html": [
       "<h5>Additional Outputs</h5>"
      ]
     },
     "metadata": {},
     "output_type": "display_data"
    },
    {
     "data": {
      "text/html": [
       "<style type=\"text/css\">\n",
       "#T_e607a_ table {\n",
       "  text-align: left;\n",
       "}\n",
       "#T_e607a_ thead {\n",
       "  text-align: left;\n",
       "}\n",
       "#T_e607a_ tbody {\n",
       "  text-align: left;\n",
       "}\n",
       "#T_e607a_ th {\n",
       "  text-align: left;\n",
       "}\n",
       "#T_e607a_ td {\n",
       "  text-align: left;\n",
       "}\n",
       "</style>\n",
       "<table id=\"T_e607a_\">\n",
       "  <thead>\n",
       "    <tr>\n",
       "      <th class=\"blank level0\" >&nbsp;</th>\n",
       "      <th class=\"col_heading level0 col0\" >col1</th>\n",
       "      <th class=\"col_heading level0 col1\" >col2</th>\n",
       "      <th class=\"col_heading level0 col2\" >col4</th>\n",
       "    </tr>\n",
       "  </thead>\n",
       "  <tbody>\n",
       "    <tr>\n",
       "      <th id=\"T_e607a_level0_row0\" class=\"row_heading level0 row0\" >strings</th>\n",
       "      <td id=\"T_e607a_row0_col0\" class=\"data row0 col0\" >18.18%</td>\n",
       "      <td id=\"T_e607a_row0_col1\" class=\"data row0 col1\" >90.91%</td>\n",
       "      <td id=\"T_e607a_row0_col2\" class=\"data row0 col2\" >9.09%</td>\n",
       "    </tr>\n",
       "    <tr>\n",
       "      <th id=\"T_e607a_level0_row1\" class=\"row_heading level0 row1\" >numbers</th>\n",
       "      <td id=\"T_e607a_row1_col0\" class=\"data row1 col0\" >81.82%</td>\n",
       "      <td id=\"T_e607a_row1_col1\" class=\"data row1 col1\" >9.09%</td>\n",
       "      <td id=\"T_e607a_row1_col2\" class=\"data row1 col2\" >90.91%</td>\n",
       "    </tr>\n",
       "  </tbody>\n",
       "</table>\n"
      ]
     },
     "metadata": {},
     "output_type": "display_data"
    }
   ],
   "source": [
    "data = {'col1': ['str', '1.0', 1, 2 , 2.61 , 't', 1, 1, 1,1,1], 'col2':['', '', '1.0', 'a', 'b', 'c', 'a', 'a', 'a', 'a','a'],\n",
    "        'col3': [1,2,3,4,5,6,7,8, 9,10,11], 'col4': [1,2,3,4,5, 6, 7,8,'a',10,12]}\n",
    "dataframe = pd.DataFrame(data=data)\n",
    "MixedTypes().add_condition_rare_type_ratio_not_in_range().run(dataframe)"
   ]
  }
 ],
 "metadata": {
  "kernelspec": {
   "display_name": "Python 3 (ipykernel)",
   "language": "python",
   "name": "python3"
  },
  "language_info": {
   "codemirror_mode": {
    "name": "ipython",
    "version": 3
   },
   "file_extension": ".py",
   "mimetype": "text/x-python",
   "name": "python",
   "nbconvert_exporter": "python",
   "pygments_lexer": "ipython3",
   "version": "3.9.0"
  }
 },
 "nbformat": 4,
 "nbformat_minor": 5
}
