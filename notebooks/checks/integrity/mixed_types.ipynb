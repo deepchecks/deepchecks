{
 "cells": [
  {
   "cell_type": "code",
   "execution_count": 1,
   "id": "6c2d05b9",
   "metadata": {},
   "outputs": [],
   "source": [
    "from deepchecks.checks import MixedTypes\n",
    "import pandas as pd"
   ]
  },
  {
   "cell_type": "code",
   "execution_count": 2,
   "id": "ab11a1f7",
   "metadata": {},
   "outputs": [
    {
     "data": {
      "text/html": [
       "<h4>Mixed Types</h4>"
      ]
     },
     "metadata": {},
     "output_type": "display_data"
    },
    {
     "data": {
      "text/html": [
       "<p>Search for various types of data in (a) column[s], including hidden mixes in strings.</p>"
      ]
     },
     "metadata": {},
     "output_type": "display_data"
    },
    {
     "data": {
      "text/html": [
       "<style type=\"text/css\">\n",
       "#T_99f67_ table {\n",
       "  text-align: left;\n",
       "}\n",
       "#T_99f67_ thead {\n",
       "  text-align: left;\n",
       "}\n",
       "#T_99f67_ tbody {\n",
       "  text-align: left;\n",
       "}\n",
       "#T_99f67_ th {\n",
       "  text-align: left;\n",
       "}\n",
       "#T_99f67_ td {\n",
       "  text-align: left;\n",
       "}\n",
       "</style>\n",
       "<table id=\"T_99f67_\">\n",
       "  <thead>\n",
       "    <tr>\n",
       "      <th class=\"blank level0\" >&nbsp;</th>\n",
       "      <th class=\"col_heading level0 col0\" >col1</th>\n",
       "      <th class=\"col_heading level0 col1\" >col2</th>\n",
       "    </tr>\n",
       "  </thead>\n",
       "  <tbody>\n",
       "    <tr>\n",
       "      <th id=\"T_99f67_level0_row0\" class=\"row_heading level0 row0\" >strings</th>\n",
       "      <td id=\"T_99f67_row0_col0\" class=\"data row0 col0\" >33.33%</td>\n",
       "      <td id=\"T_99f67_row0_col1\" class=\"data row0 col1\" >83.33%</td>\n",
       "    </tr>\n",
       "    <tr>\n",
       "      <th id=\"T_99f67_level0_row1\" class=\"row_heading level0 row1\" >numbers</th>\n",
       "      <td id=\"T_99f67_row1_col0\" class=\"data row1 col0\" >66.67%</td>\n",
       "      <td id=\"T_99f67_row1_col1\" class=\"data row1 col1\" >16.67%</td>\n",
       "    </tr>\n",
       "  </tbody>\n",
       "</table>\n"
      ]
     },
     "metadata": {},
     "output_type": "display_data"
    }
   ],
   "source": [
    "data = {'col1': ['str', '1.0', 1, 2 , 2.61 , 'timtam'], 'col2':['', '', '1.0', 'a', 'b', 'c'], 'col3': [1,2,3,4,5,6]}\n",
    "dataframe = pd.DataFrame(data=data)\n",
    "MixedTypes().run(dataframe)"
   ]
  },
  {
   "cell_type": "code",
   "execution_count": 3,
   "id": "5e6650a3",
   "metadata": {},
   "outputs": [
    {
     "data": {
      "text/html": [
       "<h4>Mixed Types</h4>"
      ]
     },
     "metadata": {},
     "output_type": "display_data"
    },
    {
     "data": {
      "text/html": [
       "<p>Search for various types of data in (a) column[s], including hidden mixes in strings.</p>"
      ]
     },
     "metadata": {},
     "output_type": "display_data"
    },
    {
     "data": {
      "text/html": [
       "<p><b>&#x2713;</b> Nothing found</p>"
      ]
     },
     "metadata": {},
     "output_type": "display_data"
    }
   ],
   "source": [
    "data = {'col1': ['foo', 'bar', 'cat']}\n",
    "dataframe = pd.DataFrame(data=data)\n",
    "MixedTypes().run(dataframe)"
   ]
  }
 ],
 "metadata": {
  "kernelspec": {
   "display_name": "Python 3 (ipykernel)",
   "language": "python",
   "name": "python3"
  },
  "language_info": {
   "codemirror_mode": {
    "name": "ipython",
    "version": 3
   },
   "file_extension": ".py",
   "mimetype": "text/x-python",
   "name": "python",
   "nbconvert_exporter": "python",
   "pygments_lexer": "ipython3",
   "version": "3.8.6"
  }
 },
 "nbformat": 4,
 "nbformat_minor": 5
}
