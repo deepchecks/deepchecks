{
 "cells": [
  {
   "cell_type": "markdown",
   "id": "3ba8d25a",
   "metadata": {},
   "source": [
    "## Load data"
   ]
  },
  {
   "cell_type": "code",
   "execution_count": 1,
   "id": "f89bafef",
   "metadata": {},
   "outputs": [],
   "source": [
    "import pandas as pd\n",
    "from urllib.request import urlopen\n",
    "from sklearn.preprocessing import LabelEncoder\n",
    "\n",
    "name_data = urlopen('http://archive.ics.uci.edu/ml/machine-learning-databases/adult/adult.names')\n",
    "lines = [l.decode(\"utf-8\") for l in name_data if ':' in l.decode(\"utf-8\") and '|' not in l.decode(\"utf-8\")]\n",
    "\n",
    "features = [l.split(':')[0] for l in lines]\n",
    "label_name = 'income'\n",
    "\n",
    "cat_features = [l.split(':')[0] for l in lines if 'continuous' not in l]\n",
    "\n",
    "train_df = pd.read_csv('http://archive.ics.uci.edu/ml/machine-learning-databases/adult/adult.data',\n",
    "                       names=features + [label_name])\n",
    "val_df = pd.read_csv('http://archive.ics.uci.edu/ml/machine-learning-databases/adult/adult.test',\n",
    "                      names=features + [label_name], skiprows=1)\n",
    "\n",
    "val_df[label_name] = val_df [label_name].str[:-1]\n",
    "\n",
    "encoder = LabelEncoder()\n",
    "encoder.fit(train_df[label_name])\n",
    "train_df[label_name] = encoder.transform(train_df[label_name])\n",
    "val_df[label_name] = encoder.transform(val_df[label_name])"
   ]
  },
  {
   "cell_type": "markdown",
   "id": "c7948fb6",
   "metadata": {},
   "source": [
    "## Create Dataset"
   ]
  },
  {
   "cell_type": "code",
   "execution_count": 2,
   "id": "eb45106e",
   "metadata": {},
   "outputs": [],
   "source": [
    "from deepchecks import Dataset\n",
    "\n",
    "cat_features = ['workclass', 'education', 'marital-status', 'occupation', 'relationship', \n",
    "                'race', 'sex', 'native-country']\n",
    "train_ds = Dataset(train_df, label=label_name, cat_features=cat_features)\n",
    "validation_ds = Dataset(val_df, label=label_name, cat_features=cat_features)\n",
    "\n",
    "numeric_features = list(set(train_ds.features) - set(cat_features))"
   ]
  },
  {
   "cell_type": "markdown",
   "id": "fc1e49d7",
   "metadata": {},
   "source": [
    "\n",
    "## Classification model"
   ]
  },
  {
   "cell_type": "code",
   "execution_count": 3,
   "id": "0e59c273",
   "metadata": {},
   "outputs": [],
   "source": [
    "from sklearn.pipeline import Pipeline\n",
    "from sklearn.impute import SimpleImputer\n",
    "from sklearn.compose import ColumnTransformer\n",
    "from sklearn.preprocessing import OrdinalEncoder\n",
    "from sklearn.ensemble import RandomForestClassifier\n",
    "\n",
    "numeric_transformer = SimpleImputer()\n",
    "categorical_transformer = Pipeline(\n",
    "    steps=[(\"imputer\", SimpleImputer(strategy=\"most_frequent\")), (\"encoder\", OrdinalEncoder())]\n",
    ")\n",
    "\n",
    "train_ds.features\n",
    "preprocessor = ColumnTransformer(\n",
    "    transformers=[\n",
    "        (\"num\", numeric_transformer, numeric_features),\n",
    "        (\"cat\", categorical_transformer, cat_features),\n",
    "    ]\n",
    ")\n",
    "\n",
    "model = Pipeline(steps=[(\"preprocessing\", preprocessor), (\"model\", RandomForestClassifier(max_depth=5, n_jobs=-1))])\n",
    "model.fit(train_ds.features_columns, train_ds.label_col);"
   ]
  },
  {
   "cell_type": "code",
   "execution_count": 4,
   "id": "f0346a9e",
   "metadata": {},
   "outputs": [],
   "source": [
    "## Load data\n",
    "\n",
    "import pandas as pd\n",
    "from urllib.request import urlopen\n",
    "from sklearn.preprocessing import LabelEncoder\n",
    "\n",
    "name_data = urlopen('http://archive.ics.uci.edu/ml/machine-learning-databases/adult/adult.names')\n",
    "lines = [l.decode(\"utf-8\") for l in name_data if ':' in l.decode(\"utf-8\") and '|' not in l.decode(\"utf-8\")]\n",
    "\n",
    "features = [l.split(':')[0] for l in lines]\n",
    "label_name = 'income'\n",
    "\n",
    "cat_features = [l.split(':')[0] for l in lines if 'continuous' not in l]\n",
    "\n",
    "train_df = pd.read_csv('http://archive.ics.uci.edu/ml/machine-learning-databases/adult/adult.data',\n",
    "                       names=features + [label_name])\n",
    "val_df = pd.read_csv('http://archive.ics.uci.edu/ml/machine-learning-databases/adult/adult.test',\n",
    "                      names=features + [label_name], skiprows=1)\n",
    "\n",
    "val_df[label_name] = val_df [label_name].str[:-1]\n",
    "\n",
    "encoder = LabelEncoder()\n",
    "encoder.fit(train_df[label_name])\n",
    "train_df[label_name] = encoder.transform(train_df[label_name])\n",
    "val_df[label_name] = encoder.transform(val_df[label_name])\n",
    "\n",
    "## Create Dataset\n",
    "\n",
    "from deepchecks import Dataset\n",
    "\n",
    "cat_features = ['workclass', 'education', 'marital-status', 'occupation', 'relationship', \n",
    "                'race', 'sex', 'native-country']\n",
    "train_ds = Dataset(train_df, label=label_name, cat_features=cat_features)\n",
    "validation_ds = Dataset(val_df, label=label_name, cat_features=cat_features)\n",
    "\n",
    "numeric_features = list(set(train_ds.features) - set(cat_features))\n",
    "\n",
    "\n",
    "## Classification model\n",
    "\n",
    "from sklearn.pipeline import Pipeline\n",
    "from sklearn.impute import SimpleImputer\n",
    "from sklearn.compose import ColumnTransformer\n",
    "from sklearn.preprocessing import OrdinalEncoder\n",
    "from sklearn.ensemble import RandomForestClassifier\n",
    "\n",
    "numeric_transformer = SimpleImputer()\n",
    "categorical_transformer = Pipeline(\n",
    "    steps=[(\"imputer\", SimpleImputer(strategy=\"most_frequent\")), (\"encoder\", OrdinalEncoder())]\n",
    ")\n",
    "\n",
    "train_ds.features\n",
    "preprocessor = ColumnTransformer(\n",
    "    transformers=[\n",
    "        (\"num\", numeric_transformer, numeric_features),\n",
    "        (\"cat\", categorical_transformer, cat_features),\n",
    "    ]\n",
    ")\n",
    "\n",
    "model = Pipeline(steps=[(\"preprocessing\", preprocessor), (\"model\", RandomForestClassifier(max_depth=5, n_jobs=-1))])\n",
    "model.fit(train_ds.features_columns, train_ds.label_col);"
   ]
  },
  {
   "cell_type": "code",
   "execution_count": 5,
   "id": "3cfb4149",
   "metadata": {},
   "outputs": [],
   "source": [
    "from deepchecks.checks import ModelErrorAnalysis"
   ]
  },
  {
   "cell_type": "code",
   "execution_count": 6,
   "id": "234f42a8",
   "metadata": {},
   "outputs": [],
   "source": [
    "result = ModelErrorAnalysis().run(validation_ds, model)"
   ]
  },
  {
   "cell_type": "code",
   "execution_count": 7,
   "id": "12ffddcf",
   "metadata": {},
   "outputs": [
    {
     "data": {
      "text/html": [
       "<h4>Model Error Analysis</h4>"
      ]
     },
     "metadata": {},
     "output_type": "display_data"
    },
    {
     "data": {
      "text/html": [
       "<p>Top features that contribute to error in the model.</p>"
      ]
     },
     "metadata": {},
     "output_type": "display_data"
    },
    {
     "data": {
      "text/html": [
       "explination of why..."
      ]
     },
     "metadata": {},
     "output_type": "display_data"
    },
    {
     "data": {
      "image/png": "[encoded data removed]",
      "text/plain": [
       "<Figure size 432x288 with 1 Axes>"
      ]
     },
     "metadata": {
      "needs_background": "light"
     },
     "output_type": "display_data"
    }
   ],
   "source": [
    "result"
   ]
  }
 ],
 "metadata": {
  "kernelspec": {
   "display_name": "Python 3 (ipykernel)",
   "language": "python",
   "name": "python3"
  },
  "language_info": {
   "codemirror_mode": {
    "name": "ipython",
    "version": 3
   },
   "file_extension": ".py",
   "mimetype": "text/x-python",
   "name": "python",
   "nbconvert_exporter": "python",
   "pygments_lexer": "ipython3",
   "version": "3.8.5"
  }
 },
 "nbformat": 4,
 "nbformat_minor": 5
}
