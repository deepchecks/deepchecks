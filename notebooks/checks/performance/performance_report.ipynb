{
 "cells": [
  {
   "cell_type": "markdown",
   "id": "09c7ee01-6999-465e-a318-56570b008526",
   "metadata": {},
   "source": [
    "# Imports"
   ]
  },
  {
   "cell_type": "code",
   "execution_count": 1,
   "id": "bc53a3b6-ec0b-4727-bdb2-29ed385d30d9",
   "metadata": {},
   "outputs": [],
   "source": [
    "from deepchecks.base import Dataset\n",
    "from sklearn.ensemble import AdaBoostClassifier, AdaBoostRegressor\n",
    "from sklearn.datasets import load_iris\n",
    "iris = load_iris(as_frame=True)\n",
    "from deepchecks.checks.performance import PerformanceReport"
   ]
  },
  {
   "cell_type": "markdown",
   "id": "788f9178-dcc1-4212-9a84-949a7a4fde92",
   "metadata": {},
   "source": [
    "# Generating data:"
   ]
  },
  {
   "cell_type": "code",
   "execution_count": 2,
   "id": "5c53faac-2f99-45b7-a4a4-fd9737ffe993",
   "metadata": {},
   "outputs": [
    {
     "data": {
      "text/plain": [
       "AdaBoostClassifier()"
      ]
     },
     "execution_count": 2,
     "metadata": {},
     "output_type": "execute_result"
    }
   ],
   "source": [
    "clf = AdaBoostClassifier()\n",
    "frame = iris.frame\n",
    "X = iris.data\n",
    "Y = iris.target\n",
    "ds = Dataset(frame, \n",
    "            features=iris.feature_names,\n",
    "            label='target')\n",
    "clf.fit(X, Y)"
   ]
  },
  {
   "cell_type": "markdown",
   "id": "f6920693-ffd3-4207-b8e4-5cf3452c57bd",
   "metadata": {},
   "source": [
    "## Running peformance report on classification"
   ]
  },
  {
   "cell_type": "code",
   "execution_count": 3,
   "id": "bdd52a29-2612-4dbc-8507-31250b9feadc",
   "metadata": {},
   "outputs": [
    {
     "data": {
      "text/html": [
       "<h4>Performance Report</h4>"
      ]
     },
     "metadata": {},
     "output_type": "display_data"
    },
    {
     "data": {
      "text/html": [
       "<p>Summarize given metrics on a dataset and model.</p>"
      ]
     },
     "metadata": {},
     "output_type": "display_data"
    },
    {
     "data": {
      "text/html": [
       "<style type=\"text/css\">\n",
       "#T_73e67_ table {\n",
       "  text-align: left;\n",
       "}\n",
       "#T_73e67_ thead {\n",
       "  text-align: left;\n",
       "}\n",
       "#T_73e67_ tbody {\n",
       "  text-align: left;\n",
       "}\n",
       "#T_73e67_ th {\n",
       "  text-align: left;\n",
       "}\n",
       "#T_73e67_ td {\n",
       "  text-align: left;\n",
       "}\n",
       "</style>\n",
       "<table id=\"T_73e67_\">\n",
       "  <thead>\n",
       "    <tr>\n",
       "      <th class=\"blank level0\" >&nbsp;</th>\n",
       "      <th class=\"col_heading level0 col0\" >Score</th>\n",
       "    </tr>\n",
       "    <tr>\n",
       "      <th class=\"index_name level0\" >Metric</th>\n",
       "      <th class=\"blank col0\" >&nbsp;</th>\n",
       "    </tr>\n",
       "  </thead>\n",
       "  <tbody>\n",
       "    <tr>\n",
       "      <th id=\"T_73e67_level0_row0\" class=\"row_heading level0 row0\" >Accuracy</th>\n",
       "      <td id=\"T_73e67_row0_col0\" class=\"data row0 col0\" >0.96</td>\n",
       "    </tr>\n",
       "    <tr>\n",
       "      <th id=\"T_73e67_level0_row1\" class=\"row_heading level0 row1\" >Precision - Macro Average</th>\n",
       "      <td id=\"T_73e67_row1_col0\" class=\"data row1 col0\" >0.96</td>\n",
       "    </tr>\n",
       "    <tr>\n",
       "      <th id=\"T_73e67_level0_row2\" class=\"row_heading level0 row2\" >Recall - Macro Average</th>\n",
       "      <td id=\"T_73e67_row2_col0\" class=\"data row2 col0\" >0.96</td>\n",
       "    </tr>\n",
       "  </tbody>\n",
       "</table>\n"
      ]
     },
     "metadata": {},
     "output_type": "display_data"
    }
   ],
   "source": [
    "check = PerformanceReport()\n",
    "check.run(ds, clf)"
   ]
  },
  {
   "cell_type": "markdown",
   "id": "277a57f1",
   "metadata": {},
   "source": [
    "## Run with selected metric"
   ]
  },
  {
   "cell_type": "code",
   "execution_count": 4,
   "id": "de070cfd",
   "metadata": {},
   "outputs": [
    {
     "data": {
      "text/html": [
       "<h4>Performance Report</h4>"
      ]
     },
     "metadata": {},
     "output_type": "display_data"
    },
    {
     "data": {
      "text/html": [
       "<p>Summarize given metrics on a dataset and model.</p>"
      ]
     },
     "metadata": {},
     "output_type": "display_data"
    },
    {
     "data": {
      "text/html": [
       "<style type=\"text/css\">\n",
       "#T_9c11d_ table {\n",
       "  text-align: left;\n",
       "}\n",
       "#T_9c11d_ thead {\n",
       "  text-align: left;\n",
       "}\n",
       "#T_9c11d_ tbody {\n",
       "  text-align: left;\n",
       "}\n",
       "#T_9c11d_ th {\n",
       "  text-align: left;\n",
       "}\n",
       "#T_9c11d_ td {\n",
       "  text-align: left;\n",
       "}\n",
       "</style>\n",
       "<table id=\"T_9c11d_\">\n",
       "  <thead>\n",
       "    <tr>\n",
       "      <th class=\"blank level0\" >&nbsp;</th>\n",
       "      <th class=\"col_heading level0 col0\" >Score</th>\n",
       "    </tr>\n",
       "    <tr>\n",
       "      <th class=\"index_name level0\" >Metric</th>\n",
       "      <th class=\"blank col0\" >&nbsp;</th>\n",
       "    </tr>\n",
       "  </thead>\n",
       "  <tbody>\n",
       "    <tr>\n",
       "      <th id=\"T_9c11d_level0_row0\" class=\"row_heading level0 row0\" >Recall - Micro</th>\n",
       "      <td id=\"T_9c11d_row0_col0\" class=\"data row0 col0\" >0.96</td>\n",
       "    </tr>\n",
       "  </tbody>\n",
       "</table>\n"
      ]
     },
     "metadata": {},
     "output_type": "display_data"
    }
   ],
   "source": [
    "check = PerformanceReport(alternative_metrics={'Recall - Micro': 'recall_micro'})\n",
    "check.run(ds, clf)"
   ]
  },
  {
   "cell_type": "markdown",
   "id": "ef0ae206",
   "metadata": {},
   "source": [
    "## Generate regression data"
   ]
  },
  {
   "cell_type": "code",
   "execution_count": 5,
   "id": "b0cc2a00",
   "metadata": {},
   "outputs": [
    {
     "name": "stdout",
     "output_type": "stream",
     "text": [
      "Automatically inferred these columns as categorical features: sex. \n",
      "\n"
     ]
    },
    {
     "data": {
      "text/plain": [
       "AdaBoostRegressor(random_state=0)"
      ]
     },
     "execution_count": 5,
     "metadata": {},
     "output_type": "execute_result"
    }
   ],
   "source": [
    "from sklearn.datasets import load_diabetes\n",
    "\n",
    "diabetes = load_diabetes(return_X_y=False, as_frame=True).frame\n",
    "\n",
    "train = Dataset(diabetes, label='target')\n",
    "clf = AdaBoostRegressor(random_state=0)\n",
    "clf.fit(train.features_columns(), train.label_col())"
   ]
  },
  {
   "cell_type": "markdown",
   "id": "d065155d",
   "metadata": {},
   "source": [
    "## Run performance report on regression"
   ]
  },
  {
   "cell_type": "code",
   "execution_count": 6,
   "id": "47777e01",
   "metadata": {},
   "outputs": [
    {
     "data": {
      "text/html": [
       "<h4>Performance Report</h4>"
      ]
     },
     "metadata": {},
     "output_type": "display_data"
    },
    {
     "data": {
      "text/html": [
       "<p>Summarize given metrics on a dataset and model.</p>"
      ]
     },
     "metadata": {},
     "output_type": "display_data"
    },
    {
     "data": {
      "text/html": [
       "<style type=\"text/css\">\n",
       "#T_ea30a_ table {\n",
       "  text-align: left;\n",
       "}\n",
       "#T_ea30a_ thead {\n",
       "  text-align: left;\n",
       "}\n",
       "#T_ea30a_ tbody {\n",
       "  text-align: left;\n",
       "}\n",
       "#T_ea30a_ th {\n",
       "  text-align: left;\n",
       "}\n",
       "#T_ea30a_ td {\n",
       "  text-align: left;\n",
       "}\n",
       "</style>\n",
       "<table id=\"T_ea30a_\">\n",
       "  <thead>\n",
       "    <tr>\n",
       "      <th class=\"blank level0\" >&nbsp;</th>\n",
       "      <th class=\"col_heading level0 col0\" >Score</th>\n",
       "    </tr>\n",
       "    <tr>\n",
       "      <th class=\"index_name level0\" >Metric</th>\n",
       "      <th class=\"blank col0\" >&nbsp;</th>\n",
       "    </tr>\n",
       "  </thead>\n",
       "  <tbody>\n",
       "    <tr>\n",
       "      <th id=\"T_ea30a_level0_row0\" class=\"row_heading level0 row0\" >RMSE</th>\n",
       "      <td id=\"T_ea30a_row0_col0\" class=\"data row0 col0\" >-47.66</td>\n",
       "    </tr>\n",
       "    <tr>\n",
       "      <th id=\"T_ea30a_level0_row1\" class=\"row_heading level0 row1\" >MSE</th>\n",
       "      <td id=\"T_ea30a_row1_col0\" class=\"data row1 col0\" >-2271.74</td>\n",
       "    </tr>\n",
       "  </tbody>\n",
       "</table>\n"
      ]
     },
     "metadata": {},
     "output_type": "display_data"
    }
   ],
   "source": [
    "check = PerformanceReport()\n",
    "check.run(train, clf)"
   ]
  }
 ],
 "metadata": {
  "kernelspec": {
   "display_name": "Python 3 (ipykernel)",
   "language": "python",
   "name": "python3"
  },
  "language_info": {
   "codemirror_mode": {
    "name": "ipython",
    "version": 3
   },
   "file_extension": ".py",
   "mimetype": "text/x-python",
   "name": "python",
   "nbconvert_exporter": "python",
   "pygments_lexer": "ipython3",
   "version": "3.8.6"
  }
 },
 "nbformat": 4,
 "nbformat_minor": 5
}
