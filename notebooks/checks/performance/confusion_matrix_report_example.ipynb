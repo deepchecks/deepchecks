{
 "cells": [
  {
   "cell_type": "markdown",
   "id": "6df3a379",
   "metadata": {},
   "source": [
    "# Imports"
   ]
  },
  {
   "cell_type": "code",
   "execution_count": 1,
   "id": "bc53a3b6-ec0b-4727-bdb2-29ed385d30d9",
   "metadata": {},
   "outputs": [],
   "source": [
    "from deepchecks.base import Dataset\n",
    "from sklearn.ensemble import AdaBoostClassifier\n",
    "from sklearn.datasets import load_iris\n",
    "from sklearn.model_selection import train_test_split\n",
    "import pandas as pd\n",
    "from deepchecks.checks.performance import ConfusionMatrixReport"
   ]
  },
  {
   "cell_type": "markdown",
   "id": "59536d98",
   "metadata": {},
   "source": [
    "# Generating data:"
   ]
  },
  {
   "cell_type": "code",
   "execution_count": 2,
   "id": "b06af066-5aa6-4b60-aea2-38023093b468",
   "metadata": {},
   "outputs": [],
   "source": [
    "iris = load_iris(as_frame=True)\n",
    "clf = AdaBoostClassifier()\n",
    "frame = iris.frame\n",
    "X = iris.data\n",
    "y = iris.target\n",
    "X_train, X_test, y_train, y_test = train_test_split(X, y, test_size=0.5, random_state=42)\n",
    "clf.fit(X_train, y_train)\n",
    "ds = Dataset(pd.concat([X_test, y_test], axis=1), \n",
    "            features=iris.feature_names,\n",
    "            label='target')"
   ]
  },
  {
   "cell_type": "markdown",
   "id": "cfc1a12c",
   "metadata": {},
   "source": [
    "# Running confusion_matrix_report check:"
   ]
  },
  {
   "cell_type": "code",
   "execution_count": 3,
   "id": "b253a703-83a6-49a4-b701-2bcbcd339bba",
   "metadata": {},
   "outputs": [],
   "source": [
    "check = ConfusionMatrixReport()"
   ]
  },
  {
   "cell_type": "code",
   "execution_count": 4,
   "id": "bdd52a29-2612-4dbc-8507-31250b9feadc",
   "metadata": {},
   "outputs": [
    {
     "data": {
      "text/html": [
       "<h4>Confusion Matrix Report</h4>"
      ]
     },
     "metadata": {},
     "output_type": "display_data"
    },
    {
     "data": {
      "text/html": [
       "<p>Calculate the confusion matrix of the model on the given dataset.</p>"
      ]
     },
     "metadata": {},
     "output_type": "display_data"
    },
    {
     "data": {
      "image/png": "[encoded data removed]",
      "text/plain": [
       "<Figure size 432x288 with 2 Axes>"
      ]
     },
     "metadata": {
      "needs_background": "light"
     },
     "output_type": "display_data"
    }
   ],
   "source": [
    "check.run(ds, clf)"
   ]
  }
 ],
 "metadata": {
  "kernelspec": {
   "display_name": "Python 3 (ipykernel)",
   "language": "python",
   "name": "python3"
  },
  "language_info": {
   "codemirror_mode": {
    "name": "ipython",
    "version": 3
   },
   "file_extension": ".py",
   "mimetype": "text/x-python",
   "name": "python",
   "nbconvert_exporter": "python",
   "pygments_lexer": "ipython3",
   "version": "3.8.6"
  }
 },
 "nbformat": 4,
 "nbformat_minor": 5
}
