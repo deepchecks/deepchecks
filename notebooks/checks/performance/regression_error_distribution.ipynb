{
 "cells": [
  {
   "cell_type": "markdown",
   "id": "91dc16d6",
   "metadata": {},
   "source": [
    "# Regression Error Distribution "
   ]
  },
  {
   "cell_type": "markdown",
   "id": "fff890cb-3c9b-462e-a5e2-b6a0ea89ea95",
   "metadata": {},
   "source": [
    "## Imports"
   ]
  },
  {
   "cell_type": "code",
   "execution_count": 1,
   "id": "bc53a3b6-ec0b-4727-bdb2-29ed385d30d9",
   "metadata": {},
   "outputs": [],
   "source": [
    "from deepchecks.base import Dataset\n",
    "from sklearn.ensemble import GradientBoostingRegressor\n",
    "from sklearn.datasets import load_diabetes\n",
    "from sklearn.model_selection import train_test_split\n",
    "from deepchecks.checks.performance import RegressionErrorDistribution"
   ]
  },
  {
   "cell_type": "markdown",
   "id": "8c726ea7-fdff-409d-8643-daefd302b66f",
   "metadata": {},
   "source": [
    "## Generating data:"
   ]
  },
  {
   "cell_type": "code",
   "execution_count": 2,
   "id": "3a258442-b7e5-49bb-98a5-f1b503b38d7a",
   "metadata": {},
   "outputs": [],
   "source": [
    "diabetes_df = load_diabetes(return_X_y=False, as_frame=True).frame\n",
    "train_df, test_df = train_test_split(diabetes_df, test_size=0.33, random_state=42)\n",
    "\n",
    "train = Dataset(train_df, label_name='target', cat_features=['sex'])\n",
    "test = Dataset(test_df, label_name='target', cat_features=['sex'])\n",
    "\n",
    "clf = GradientBoostingRegressor(random_state=0)\n",
    "_ = clf.fit(train.features_columns, train.label_col)"
   ]
  },
  {
   "cell_type": "markdown",
   "id": "e679c050-b7c3-4c77-8b5b-2f01c2726e71",
   "metadata": {},
   "source": [
    "## Running RegressionErrorDistribution check (normal distribution):"
   ]
  },
  {
   "cell_type": "code",
   "execution_count": 3,
   "id": "b253a703-83a6-49a4-b701-2bcbcd339bba",
   "metadata": {},
   "outputs": [],
   "source": [
    "check = RegressionErrorDistribution()"
   ]
  },
  {
   "cell_type": "code",
   "execution_count": 4,
   "id": "bdd52a29-2612-4dbc-8507-31250b9feadc",
   "metadata": {},
   "outputs": [
    {
     "data": {
      "text/html": [
       "<h4>Regression Error Distribution</h4>"
      ]
     },
     "metadata": {},
     "output_type": "display_data"
    },
    {
     "data": {
      "text/html": [
       "<p>Check regresstion error distribution.</p>"
      ]
     },
     "metadata": {},
     "output_type": "display_data"
    },
    {
     "data": {
      "image/png": "[encoded data removed]",
      "text/plain": [
       "<Figure size 432x288 with 1 Axes>"
      ]
     },
     "metadata": {
      "needs_background": "light"
     },
     "output_type": "display_data"
    },
    {
     "data": {
      "text/html": [
       "Largest over estimation errors:"
      ]
     },
     "metadata": {},
     "output_type": "display_data"
    },
    {
     "data": {
      "text/html": [
       "<style type=\"text/css\">\n",
       "#T_807a6_ table {\n",
       "  text-align: left;\n",
       "}\n",
       "#T_807a6_ thead {\n",
       "  text-align: left;\n",
       "}\n",
       "#T_807a6_ tbody {\n",
       "  text-align: left;\n",
       "}\n",
       "#T_807a6_ th {\n",
       "  text-align: left;\n",
       "}\n",
       "#T_807a6_ td {\n",
       "  text-align: left;\n",
       "}\n",
       "</style>\n",
       "<table id=\"T_807a6_\">\n",
       "  <thead>\n",
       "    <tr>\n",
       "      <th class=\"blank level0\" >&nbsp;</th>\n",
       "      <th class=\"col_heading level0 col0\" >age</th>\n",
       "      <th class=\"col_heading level0 col1\" >sex</th>\n",
       "      <th class=\"col_heading level0 col2\" >bmi</th>\n",
       "      <th class=\"col_heading level0 col3\" >bp</th>\n",
       "      <th class=\"col_heading level0 col4\" >s1</th>\n",
       "      <th class=\"col_heading level0 col5\" >s2</th>\n",
       "      <th class=\"col_heading level0 col6\" >s3</th>\n",
       "      <th class=\"col_heading level0 col7\" >s4</th>\n",
       "      <th class=\"col_heading level0 col8\" >s5</th>\n",
       "      <th class=\"col_heading level0 col9\" >s6</th>\n",
       "      <th class=\"col_heading level0 col10\" >target</th>\n",
       "      <th class=\"col_heading level0 col11\" >target Prediction Difference</th>\n",
       "    </tr>\n",
       "  </thead>\n",
       "  <tbody>\n",
       "    <tr>\n",
       "      <th id=\"T_807a6_level0_row0\" class=\"row_heading level0 row0\" >364</th>\n",
       "      <td id=\"T_807a6_row0_col0\" class=\"data row0 col0\" >0.00</td>\n",
       "      <td id=\"T_807a6_row0_col1\" class=\"data row0 col1\" >0.05</td>\n",
       "      <td id=\"T_807a6_row0_col2\" class=\"data row0 col2\" >-0.01</td>\n",
       "      <td id=\"T_807a6_row0_col3\" class=\"data row0 col3\" >-0.02</td>\n",
       "      <td id=\"T_807a6_row0_col4\" class=\"data row0 col4\" >-0.01</td>\n",
       "      <td id=\"T_807a6_row0_col5\" class=\"data row0 col5\" >0.00</td>\n",
       "      <td id=\"T_807a6_row0_col6\" class=\"data row0 col6\" >-0.04</td>\n",
       "      <td id=\"T_807a6_row0_col7\" class=\"data row0 col7\" >0.03</td>\n",
       "      <td id=\"T_807a6_row0_col8\" class=\"data row0 col8\" >0.01</td>\n",
       "      <td id=\"T_807a6_row0_col9\" class=\"data row0 col9\" >0.10</td>\n",
       "      <td id=\"T_807a6_row0_col10\" class=\"data row0 col10\" >262.00</td>\n",
       "      <td id=\"T_807a6_row0_col11\" class=\"data row0 col11\" >141.41</td>\n",
       "    </tr>\n",
       "    <tr>\n",
       "      <th id=\"T_807a6_level0_row1\" class=\"row_heading level0 row1\" >9</th>\n",
       "      <td id=\"T_807a6_row1_col0\" class=\"data row1 col0\" >-0.07</td>\n",
       "      <td id=\"T_807a6_row1_col1\" class=\"data row1 col1\" >-0.04</td>\n",
       "      <td id=\"T_807a6_row1_col2\" class=\"data row1 col2\" >0.04</td>\n",
       "      <td id=\"T_807a6_row1_col3\" class=\"data row1 col3\" >-0.03</td>\n",
       "      <td id=\"T_807a6_row1_col4\" class=\"data row1 col4\" >-0.01</td>\n",
       "      <td id=\"T_807a6_row1_col5\" class=\"data row1 col5\" >-0.03</td>\n",
       "      <td id=\"T_807a6_row1_col6\" class=\"data row1 col6\" >-0.02</td>\n",
       "      <td id=\"T_807a6_row1_col7\" class=\"data row1 col7\" >-0.00</td>\n",
       "      <td id=\"T_807a6_row1_col8\" class=\"data row1 col8\" >0.07</td>\n",
       "      <td id=\"T_807a6_row1_col9\" class=\"data row1 col9\" >-0.01</td>\n",
       "      <td id=\"T_807a6_row1_col10\" class=\"data row1 col10\" >310.00</td>\n",
       "      <td id=\"T_807a6_row1_col11\" class=\"data row1 col11\" >126.37</td>\n",
       "    </tr>\n",
       "    <tr>\n",
       "      <th id=\"T_807a6_level0_row2\" class=\"row_heading level0 row2\" >77</th>\n",
       "      <td id=\"T_807a6_row2_col0\" class=\"data row2 col0\" >-0.10</td>\n",
       "      <td id=\"T_807a6_row2_col1\" class=\"data row2 col1\" >-0.04</td>\n",
       "      <td id=\"T_807a6_row2_col2\" class=\"data row2 col2\" >-0.04</td>\n",
       "      <td id=\"T_807a6_row2_col3\" class=\"data row2 col3\" >-0.07</td>\n",
       "      <td id=\"T_807a6_row2_col4\" class=\"data row2 col4\" >-0.04</td>\n",
       "      <td id=\"T_807a6_row2_col5\" class=\"data row2 col5\" >-0.03</td>\n",
       "      <td id=\"T_807a6_row2_col6\" class=\"data row2 col6\" >0.02</td>\n",
       "      <td id=\"T_807a6_row2_col7\" class=\"data row2 col7\" >-0.04</td>\n",
       "      <td id=\"T_807a6_row2_col8\" class=\"data row2 col8\" >-0.07</td>\n",
       "      <td id=\"T_807a6_row2_col9\" class=\"data row2 col9\" >-0.00</td>\n",
       "      <td id=\"T_807a6_row2_col10\" class=\"data row2 col10\" >200.00</td>\n",
       "      <td id=\"T_807a6_row2_col11\" class=\"data row2 col11\" >114.52</td>\n",
       "    </tr>\n",
       "  </tbody>\n",
       "</table>\n"
      ]
     },
     "metadata": {},
     "output_type": "display_data"
    },
    {
     "data": {
      "text/html": [
       "Largest under estimation errors:"
      ]
     },
     "metadata": {},
     "output_type": "display_data"
    },
    {
     "data": {
      "text/html": [
       "<style type=\"text/css\">\n",
       "#T_7fcec_ table {\n",
       "  text-align: left;\n",
       "}\n",
       "#T_7fcec_ thead {\n",
       "  text-align: left;\n",
       "}\n",
       "#T_7fcec_ tbody {\n",
       "  text-align: left;\n",
       "}\n",
       "#T_7fcec_ th {\n",
       "  text-align: left;\n",
       "}\n",
       "#T_7fcec_ td {\n",
       "  text-align: left;\n",
       "}\n",
       "</style>\n",
       "<table id=\"T_7fcec_\">\n",
       "  <thead>\n",
       "    <tr>\n",
       "      <th class=\"blank level0\" >&nbsp;</th>\n",
       "      <th class=\"col_heading level0 col0\" >age</th>\n",
       "      <th class=\"col_heading level0 col1\" >sex</th>\n",
       "      <th class=\"col_heading level0 col2\" >bmi</th>\n",
       "      <th class=\"col_heading level0 col3\" >bp</th>\n",
       "      <th class=\"col_heading level0 col4\" >s1</th>\n",
       "      <th class=\"col_heading level0 col5\" >s2</th>\n",
       "      <th class=\"col_heading level0 col6\" >s3</th>\n",
       "      <th class=\"col_heading level0 col7\" >s4</th>\n",
       "      <th class=\"col_heading level0 col8\" >s5</th>\n",
       "      <th class=\"col_heading level0 col9\" >s6</th>\n",
       "      <th class=\"col_heading level0 col10\" >target</th>\n",
       "      <th class=\"col_heading level0 col11\" >target Prediction Difference</th>\n",
       "    </tr>\n",
       "  </thead>\n",
       "  <tbody>\n",
       "    <tr>\n",
       "      <th id=\"T_7fcec_level0_row0\" class=\"row_heading level0 row0\" >380</th>\n",
       "      <td id=\"T_7fcec_row0_col0\" class=\"data row0 col0\" >0.02</td>\n",
       "      <td id=\"T_7fcec_row0_col1\" class=\"data row0 col1\" >-0.04</td>\n",
       "      <td id=\"T_7fcec_row0_col2\" class=\"data row0 col2\" >0.03</td>\n",
       "      <td id=\"T_7fcec_row0_col3\" class=\"data row0 col3\" >0.06</td>\n",
       "      <td id=\"T_7fcec_row0_col4\" class=\"data row0 col4\" >-0.06</td>\n",
       "      <td id=\"T_7fcec_row0_col5\" class=\"data row0 col5\" >-0.04</td>\n",
       "      <td id=\"T_7fcec_row0_col6\" class=\"data row0 col6\" >-0.01</td>\n",
       "      <td id=\"T_7fcec_row0_col7\" class=\"data row0 col7\" >-0.03</td>\n",
       "      <td id=\"T_7fcec_row0_col8\" class=\"data row0 col8\" >-0.05</td>\n",
       "      <td id=\"T_7fcec_row0_col9\" class=\"data row0 col9\" >-0.03</td>\n",
       "      <td id=\"T_7fcec_row0_col10\" class=\"data row0 col10\" >52.00</td>\n",
       "      <td id=\"T_7fcec_row0_col11\" class=\"data row0 col11\" >-171.72</td>\n",
       "    </tr>\n",
       "    <tr>\n",
       "      <th id=\"T_7fcec_level0_row1\" class=\"row_heading level0 row1\" >56</th>\n",
       "      <td id=\"T_7fcec_row1_col0\" class=\"data row1 col0\" >-0.04</td>\n",
       "      <td id=\"T_7fcec_row1_col1\" class=\"data row1 col1\" >-0.04</td>\n",
       "      <td id=\"T_7fcec_row1_col2\" class=\"data row1 col2\" >0.04</td>\n",
       "      <td id=\"T_7fcec_row1_col3\" class=\"data row1 col3\" >-0.03</td>\n",
       "      <td id=\"T_7fcec_row1_col4\" class=\"data row1 col4\" >-0.03</td>\n",
       "      <td id=\"T_7fcec_row1_col5\" class=\"data row1 col5\" >-0.03</td>\n",
       "      <td id=\"T_7fcec_row1_col6\" class=\"data row1 col6\" >-0.04</td>\n",
       "      <td id=\"T_7fcec_row1_col7\" class=\"data row1 col7\" >0.00</td>\n",
       "      <td id=\"T_7fcec_row1_col8\" class=\"data row1 col8\" >0.03</td>\n",
       "      <td id=\"T_7fcec_row1_col9\" class=\"data row1 col9\" >-0.02</td>\n",
       "      <td id=\"T_7fcec_row1_col10\" class=\"data row1 col10\" >52.00</td>\n",
       "      <td id=\"T_7fcec_row1_col11\" class=\"data row1 col11\" >-147.97</td>\n",
       "    </tr>\n",
       "    <tr>\n",
       "      <th id=\"T_7fcec_level0_row2\" class=\"row_heading level0 row2\" >7</th>\n",
       "      <td id=\"T_7fcec_row2_col0\" class=\"data row2 col0\" >0.06</td>\n",
       "      <td id=\"T_7fcec_row2_col1\" class=\"data row2 col1\" >0.05</td>\n",
       "      <td id=\"T_7fcec_row2_col2\" class=\"data row2 col2\" >-0.00</td>\n",
       "      <td id=\"T_7fcec_row2_col3\" class=\"data row2 col3\" >0.07</td>\n",
       "      <td id=\"T_7fcec_row2_col4\" class=\"data row2 col4\" >0.09</td>\n",
       "      <td id=\"T_7fcec_row2_col5\" class=\"data row2 col5\" >0.11</td>\n",
       "      <td id=\"T_7fcec_row2_col6\" class=\"data row2 col6\" >0.02</td>\n",
       "      <td id=\"T_7fcec_row2_col7\" class=\"data row2 col7\" >0.02</td>\n",
       "      <td id=\"T_7fcec_row2_col8\" class=\"data row2 col8\" >-0.04</td>\n",
       "      <td id=\"T_7fcec_row2_col9\" class=\"data row2 col9\" >0.00</td>\n",
       "      <td id=\"T_7fcec_row2_col10\" class=\"data row2 col10\" >63.00</td>\n",
       "      <td id=\"T_7fcec_row2_col11\" class=\"data row2 col11\" >-120.45</td>\n",
       "    </tr>\n",
       "  </tbody>\n",
       "</table>\n"
      ]
     },
     "metadata": {},
     "output_type": "display_data"
    }
   ],
   "source": [
    "check.run(test, clf)"
   ]
  },
  {
   "cell_type": "markdown",
   "id": "38c92a75-1089-4c88-b532-cf90971798ab",
   "metadata": {},
   "source": [
    "#Skewing the data:"
   ]
  },
  {
   "cell_type": "code",
   "execution_count": 5,
   "id": "afef0bd2-f265-4d4b-b749-67ebbf77e4a7",
   "metadata": {},
   "outputs": [],
   "source": [
    "test.data[test.label_name] = 150"
   ]
  },
  {
   "cell_type": "markdown",
   "id": "2d271c14-d67c-4976-8d5a-7c3320f4fd63",
   "metadata": {},
   "source": [
    "## Running RegressionErrorDistribution check (abnormal distribution):"
   ]
  },
  {
   "cell_type": "code",
   "execution_count": 6,
   "id": "4979f398-1795-4c18-85e0-88fedaf99aa5",
   "metadata": {},
   "outputs": [],
   "source": [
    "check = RegressionErrorDistribution()"
   ]
  },
  {
   "cell_type": "code",
   "execution_count": 7,
   "id": "fa4ee32d-e486-458f-bbe2-424814a333ca",
   "metadata": {
    "tags": []
   },
   "outputs": [
    {
     "data": {
      "text/html": [
       "<h4>Regression Error Distribution</h4>"
      ]
     },
     "metadata": {},
     "output_type": "display_data"
    },
    {
     "data": {
      "text/html": [
       "<p>Check regresstion error distribution.</p>"
      ]
     },
     "metadata": {},
     "output_type": "display_data"
    },
    {
     "data": {
      "image/png": "[encoded data removed]",
      "text/plain": [
       "<Figure size 432x288 with 1 Axes>"
      ]
     },
     "metadata": {
      "needs_background": "light"
     },
     "output_type": "display_data"
    },
    {
     "data": {
      "text/html": [
       "Largest over estimation errors:"
      ]
     },
     "metadata": {},
     "output_type": "display_data"
    },
    {
     "data": {
      "text/html": [
       "<style type=\"text/css\">\n",
       "#T_a8641_ table {\n",
       "  text-align: left;\n",
       "}\n",
       "#T_a8641_ thead {\n",
       "  text-align: left;\n",
       "}\n",
       "#T_a8641_ tbody {\n",
       "  text-align: left;\n",
       "}\n",
       "#T_a8641_ th {\n",
       "  text-align: left;\n",
       "}\n",
       "#T_a8641_ td {\n",
       "  text-align: left;\n",
       "}\n",
       "</style>\n",
       "<table id=\"T_a8641_\">\n",
       "  <thead>\n",
       "    <tr>\n",
       "      <th class=\"blank level0\" >&nbsp;</th>\n",
       "      <th class=\"col_heading level0 col0\" >age</th>\n",
       "      <th class=\"col_heading level0 col1\" >sex</th>\n",
       "      <th class=\"col_heading level0 col2\" >bmi</th>\n",
       "      <th class=\"col_heading level0 col3\" >bp</th>\n",
       "      <th class=\"col_heading level0 col4\" >s1</th>\n",
       "      <th class=\"col_heading level0 col5\" >s2</th>\n",
       "      <th class=\"col_heading level0 col6\" >s3</th>\n",
       "      <th class=\"col_heading level0 col7\" >s4</th>\n",
       "      <th class=\"col_heading level0 col8\" >s5</th>\n",
       "      <th class=\"col_heading level0 col9\" >s6</th>\n",
       "      <th class=\"col_heading level0 col10\" >target</th>\n",
       "      <th class=\"col_heading level0 col11\" >target Prediction Difference</th>\n",
       "    </tr>\n",
       "  </thead>\n",
       "  <tbody>\n",
       "    <tr>\n",
       "      <th id=\"T_a8641_level0_row0\" class=\"row_heading level0 row0\" >237</th>\n",
       "      <td id=\"T_a8641_row0_col0\" class=\"data row0 col0\" >0.06</td>\n",
       "      <td id=\"T_a8641_row0_col1\" class=\"data row0 col1\" >-0.04</td>\n",
       "      <td id=\"T_a8641_row0_col2\" class=\"data row0 col2\" >-0.07</td>\n",
       "      <td id=\"T_a8641_row0_col3\" class=\"data row0 col3\" >-0.07</td>\n",
       "      <td id=\"T_a8641_row0_col4\" class=\"data row0 col4\" >-0.00</td>\n",
       "      <td id=\"T_a8641_row0_col5\" class=\"data row0 col5\" >-0.00</td>\n",
       "      <td id=\"T_a8641_row0_col6\" class=\"data row0 col6\" >0.04</td>\n",
       "      <td id=\"T_a8641_row0_col7\" class=\"data row0 col7\" >-0.04</td>\n",
       "      <td id=\"T_a8641_row0_col8\" class=\"data row0 col8\" >-0.05</td>\n",
       "      <td id=\"T_a8641_row0_col9\" class=\"data row0 col9\" >-0.00</td>\n",
       "      <td id=\"T_a8641_row0_col10\" class=\"data row0 col10\" >150</td>\n",
       "      <td id=\"T_a8641_row0_col11\" class=\"data row0 col11\" >90.93</td>\n",
       "    </tr>\n",
       "    <tr>\n",
       "      <th id=\"T_a8641_level0_row1\" class=\"row_heading level0 row1\" >436</th>\n",
       "      <td id=\"T_a8641_row1_col0\" class=\"data row1 col0\" >-0.06</td>\n",
       "      <td id=\"T_a8641_row1_col1\" class=\"data row1 col1\" >-0.04</td>\n",
       "      <td id=\"T_a8641_row1_col2\" class=\"data row1 col2\" >-0.07</td>\n",
       "      <td id=\"T_a8641_row1_col3\" class=\"data row1 col3\" >-0.05</td>\n",
       "      <td id=\"T_a8641_row1_col4\" class=\"data row1 col4\" >-0.02</td>\n",
       "      <td id=\"T_a8641_row1_col5\" class=\"data row1 col5\" >-0.05</td>\n",
       "      <td id=\"T_a8641_row1_col6\" class=\"data row1 col6\" >0.09</td>\n",
       "      <td id=\"T_a8641_row1_col7\" class=\"data row1 col7\" >-0.08</td>\n",
       "      <td id=\"T_a8641_row1_col8\" class=\"data row1 col8\" >-0.06</td>\n",
       "      <td id=\"T_a8641_row1_col9\" class=\"data row1 col9\" >-0.05</td>\n",
       "      <td id=\"T_a8641_row1_col10\" class=\"data row1 col10\" >150</td>\n",
       "      <td id=\"T_a8641_row1_col11\" class=\"data row1 col11\" >88.95</td>\n",
       "    </tr>\n",
       "    <tr>\n",
       "      <th id=\"T_a8641_level0_row2\" class=\"row_heading level0 row2\" >55</th>\n",
       "      <td id=\"T_a8641_row2_col0\" class=\"data row2 col0\" >-0.04</td>\n",
       "      <td id=\"T_a8641_row2_col1\" class=\"data row2 col1\" >-0.04</td>\n",
       "      <td id=\"T_a8641_row2_col2\" class=\"data row2 col2\" >-0.05</td>\n",
       "      <td id=\"T_a8641_row2_col3\" class=\"data row2 col3\" >-0.04</td>\n",
       "      <td id=\"T_a8641_row2_col4\" class=\"data row2 col4\" >-0.01</td>\n",
       "      <td id=\"T_a8641_row2_col5\" class=\"data row2 col5\" >-0.02</td>\n",
       "      <td id=\"T_a8641_row2_col6\" class=\"data row2 col6\" >0.09</td>\n",
       "      <td id=\"T_a8641_row2_col7\" class=\"data row2 col7\" >-0.04</td>\n",
       "      <td id=\"T_a8641_row2_col8\" class=\"data row2 col8\" >-0.07</td>\n",
       "      <td id=\"T_a8641_row2_col9\" class=\"data row2 col9\" >0.01</td>\n",
       "      <td id=\"T_a8641_row2_col10\" class=\"data row2 col10\" >150</td>\n",
       "      <td id=\"T_a8641_row2_col11\" class=\"data row2 col11\" >88.46</td>\n",
       "    </tr>\n",
       "  </tbody>\n",
       "</table>\n"
      ]
     },
     "metadata": {},
     "output_type": "display_data"
    },
    {
     "data": {
      "text/html": [
       "Largest under estimation errors:"
      ]
     },
     "metadata": {},
     "output_type": "display_data"
    },
    {
     "data": {
      "text/html": [
       "<style type=\"text/css\">\n",
       "#T_99348_ table {\n",
       "  text-align: left;\n",
       "}\n",
       "#T_99348_ thead {\n",
       "  text-align: left;\n",
       "}\n",
       "#T_99348_ tbody {\n",
       "  text-align: left;\n",
       "}\n",
       "#T_99348_ th {\n",
       "  text-align: left;\n",
       "}\n",
       "#T_99348_ td {\n",
       "  text-align: left;\n",
       "}\n",
       "</style>\n",
       "<table id=\"T_99348_\">\n",
       "  <thead>\n",
       "    <tr>\n",
       "      <th class=\"blank level0\" >&nbsp;</th>\n",
       "      <th class=\"col_heading level0 col0\" >age</th>\n",
       "      <th class=\"col_heading level0 col1\" >sex</th>\n",
       "      <th class=\"col_heading level0 col2\" >bmi</th>\n",
       "      <th class=\"col_heading level0 col3\" >bp</th>\n",
       "      <th class=\"col_heading level0 col4\" >s1</th>\n",
       "      <th class=\"col_heading level0 col5\" >s2</th>\n",
       "      <th class=\"col_heading level0 col6\" >s3</th>\n",
       "      <th class=\"col_heading level0 col7\" >s4</th>\n",
       "      <th class=\"col_heading level0 col8\" >s5</th>\n",
       "      <th class=\"col_heading level0 col9\" >s6</th>\n",
       "      <th class=\"col_heading level0 col10\" >target</th>\n",
       "      <th class=\"col_heading level0 col11\" >target Prediction Difference</th>\n",
       "    </tr>\n",
       "  </thead>\n",
       "  <tbody>\n",
       "    <tr>\n",
       "      <th id=\"T_99348_level0_row0\" class=\"row_heading level0 row0\" >114</th>\n",
       "      <td id=\"T_99348_row0_col0\" class=\"data row0 col0\" >0.02</td>\n",
       "      <td id=\"T_99348_row0_col1\" class=\"data row0 col1\" >-0.04</td>\n",
       "      <td id=\"T_99348_row0_col2\" class=\"data row0 col2\" >0.11</td>\n",
       "      <td id=\"T_99348_row0_col3\" class=\"data row0 col3\" >0.06</td>\n",
       "      <td id=\"T_99348_row0_col4\" class=\"data row0 col4\" >0.01</td>\n",
       "      <td id=\"T_99348_row0_col5\" class=\"data row0 col5\" >-0.03</td>\n",
       "      <td id=\"T_99348_row0_col6\" class=\"data row0 col6\" >-0.02</td>\n",
       "      <td id=\"T_99348_row0_col7\" class=\"data row0 col7\" >0.02</td>\n",
       "      <td id=\"T_99348_row0_col8\" class=\"data row0 col8\" >0.10</td>\n",
       "      <td id=\"T_99348_row0_col9\" class=\"data row0 col9\" >0.02</td>\n",
       "      <td id=\"T_99348_row0_col10\" class=\"data row0 col10\" >150</td>\n",
       "      <td id=\"T_99348_row0_col11\" class=\"data row0 col11\" >-152.13</td>\n",
       "    </tr>\n",
       "    <tr>\n",
       "      <th id=\"T_99348_level0_row1\" class=\"row_heading level0 row1\" >332</th>\n",
       "      <td id=\"T_99348_row1_col0\" class=\"data row1 col0\" >0.03</td>\n",
       "      <td id=\"T_99348_row1_col1\" class=\"data row1 col1\" >-0.04</td>\n",
       "      <td id=\"T_99348_row1_col2\" class=\"data row1 col2\" >0.10</td>\n",
       "      <td id=\"T_99348_row1_col3\" class=\"data row1 col3\" >0.08</td>\n",
       "      <td id=\"T_99348_row1_col4\" class=\"data row1 col4\" >-0.01</td>\n",
       "      <td id=\"T_99348_row1_col5\" class=\"data row1 col5\" >-0.01</td>\n",
       "      <td id=\"T_99348_row1_col6\" class=\"data row1 col6\" >-0.06</td>\n",
       "      <td id=\"T_99348_row1_col7\" class=\"data row1 col7\" >0.03</td>\n",
       "      <td id=\"T_99348_row1_col8\" class=\"data row1 col8\" >0.06</td>\n",
       "      <td id=\"T_99348_row1_col9\" class=\"data row1 col9\" >0.04</td>\n",
       "      <td id=\"T_99348_row1_col10\" class=\"data row1 col10\" >150</td>\n",
       "      <td id=\"T_99348_row1_col11\" class=\"data row1 col11\" >-145.71</td>\n",
       "    </tr>\n",
       "    <tr>\n",
       "      <th id=\"T_99348_level0_row2\" class=\"row_heading level0 row2\" >321</th>\n",
       "      <td id=\"T_99348_row2_col0\" class=\"data row2 col0\" >0.10</td>\n",
       "      <td id=\"T_99348_row2_col1\" class=\"data row2 col1\" >-0.04</td>\n",
       "      <td id=\"T_99348_row2_col2\" class=\"data row2 col2\" >0.05</td>\n",
       "      <td id=\"T_99348_row2_col3\" class=\"data row2 col3\" >0.08</td>\n",
       "      <td id=\"T_99348_row2_col4\" class=\"data row2 col4\" >0.05</td>\n",
       "      <td id=\"T_99348_row2_col5\" class=\"data row2 col5\" >0.04</td>\n",
       "      <td id=\"T_99348_row2_col6\" class=\"data row2 col6\" >-0.08</td>\n",
       "      <td id=\"T_99348_row2_col7\" class=\"data row2 col7\" >0.14</td>\n",
       "      <td id=\"T_99348_row2_col8\" class=\"data row2 col8\" >0.10</td>\n",
       "      <td id=\"T_99348_row2_col9\" class=\"data row2 col9\" >0.06</td>\n",
       "      <td id=\"T_99348_row2_col10\" class=\"data row2 col10\" >150</td>\n",
       "      <td id=\"T_99348_row2_col11\" class=\"data row2 col11\" >-119.18</td>\n",
       "    </tr>\n",
       "  </tbody>\n",
       "</table>\n"
      ]
     },
     "metadata": {},
     "output_type": "display_data"
    }
   ],
   "source": [
    "check.run(test, clf)"
   ]
  }
 ],
 "metadata": {
  "kernelspec": {
   "display_name": "Python 3 (ipykernel)",
   "language": "python",
   "name": "python3"
  },
  "language_info": {
   "codemirror_mode": {
    "name": "ipython",
    "version": 3
   },
   "file_extension": ".py",
   "mimetype": "text/x-python",
   "name": "python",
   "nbconvert_exporter": "python",
   "pygments_lexer": "ipython3",
   "version": "3.9.0"
  }
 },
 "nbformat": 4,
 "nbformat_minor": 5
}
