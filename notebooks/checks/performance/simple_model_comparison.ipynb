{
 "cells": [
  {
   "cell_type": "markdown",
   "id": "0fdeac8e-ffd2-4509-8a70-fcbda9cdb68b",
   "metadata": {},
   "source": [
    "# Imports"
   ]
  },
  {
   "cell_type": "code",
   "execution_count": 1,
   "id": "592d6a95-06b0-4397-bf5e-5aebd6dc58f3",
   "metadata": {},
   "outputs": [],
   "source": [
    "import pandas as pd\n",
    "import numpy as np\n",
    "from sklearn.ensemble import AdaBoostClassifier\n",
    "from sklearn.datasets import load_iris\n",
    "from sklearn.model_selection import train_test_split\n",
    "from deepchecks.checks.performance import SimpleModelComparison\n",
    "from deepchecks.base import Dataset"
   ]
  },
  {
   "cell_type": "markdown",
   "id": "b1653169-893b-456a-b179-7ba51d004694",
   "metadata": {},
   "source": [
    "# Generating data:"
   ]
  },
  {
   "cell_type": "code",
   "execution_count": 2,
   "id": "13624caa-239a-4b0a-a081-8d46872751ef",
   "metadata": {},
   "outputs": [],
   "source": [
    "np.random.seed(42)\n",
    "\n",
    "iris = load_iris(as_frame=True)\n",
    "x = iris.data\n",
    "y = iris.target\n",
    "x_train, x_test, y_train, y_test = train_test_split(\n",
    "    x, y, test_size=0.33, random_state=42)\n",
    "train_ds = Dataset(pd.concat([x_train, y_train], axis=1),\n",
    "                   features=iris.feature_names,\n",
    "                   label_name='target')\n",
    "val_ds = Dataset(pd.concat([x_test, y_test], axis=1),\n",
    "                 features=iris.feature_names,\n",
    "                 label_name='target')\n",
    "clf = AdaBoostClassifier()\n",
    "_ = clf.fit(x_train, y_train)"
   ]
  },
  {
   "cell_type": "markdown",
   "id": "e9b8071a-f95a-4d51-8ca9-abd42d5406b2",
   "metadata": {},
   "source": [
    "# Running simple_comparision check:"
   ]
  },
  {
   "cell_type": "markdown",
   "id": "8878f868-32ea-4f89-a5ce-80150cd26c07",
   "metadata": {},
   "source": [
    "## Random model check:"
   ]
  },
  {
   "cell_type": "code",
   "execution_count": 3,
   "id": "372e0162-b86c-45d6-8a3b-47e009d709b9",
   "metadata": {},
   "outputs": [],
   "source": [
    "check = SimpleModelComparison(simple_model_type='random')"
   ]
  },
  {
   "cell_type": "code",
   "execution_count": 4,
   "id": "fadb3bc8-65af-4c7d-92bc-9234802d99e3",
   "metadata": {},
   "outputs": [
    {
     "data": {
      "text/html": [
       "<h4>Simple Model Comparison</h4>"
      ]
     },
     "metadata": {},
     "output_type": "display_data"
    },
    {
     "data": {
      "text/html": [
       "<p>Compare given model score to simple model score (according to given model type).</p>"
      ]
     },
     "metadata": {},
     "output_type": "display_data"
    },
    {
     "data": {
      "text/html": [
       "The given model performance is 3.07 times the performance of the simple model, measuring performance using the Accuracy (Default) metric.<br>AdaBoostClassifier model prediction has achieved a score of 0.92 compared to Simple random prediction which achieved a score of 0.3 on tested data."
      ]
     },
     "metadata": {},
     "output_type": "display_data"
    },
    {
     "data": {
      "image/png": "[encoded data removed]",
      "text/plain": [
       "<Figure size 432x288 with 1 Axes>"
      ]
     },
     "metadata": {
      "needs_background": "light"
     },
     "output_type": "display_data"
    }
   ],
   "source": [
    "check.run(train_ds, val_ds, clf)"
   ]
  },
  {
   "cell_type": "markdown",
   "id": "57a538fd-71ad-4a06-b03d-b9312caab4e6",
   "metadata": {},
   "source": [
    "## Tree model check:"
   ]
  },
  {
   "cell_type": "code",
   "execution_count": 5,
   "id": "6fef54df-bbd2-4522-b337-c128b8cd75f4",
   "metadata": {},
   "outputs": [],
   "source": [
    "check = SimpleModelComparison(simple_model_type='constant')"
   ]
  },
  {
   "cell_type": "code",
   "execution_count": 6,
   "id": "db3c5356-c2fb-458e-8a99-33a313f241b6",
   "metadata": {},
   "outputs": [
    {
     "data": {
      "text/html": [
       "<h4>Simple Model Comparison</h4>"
      ]
     },
     "metadata": {},
     "output_type": "display_data"
    },
    {
     "data": {
      "text/html": [
       "<p>Compare given model score to simple model score (according to given model type).</p>"
      ]
     },
     "metadata": {},
     "output_type": "display_data"
    },
    {
     "data": {
      "text/html": [
       "The given model performance is 3.07 times the performance of the simple model, measuring performance using the Accuracy (Default) metric.<br>AdaBoostClassifier model prediction has achieved a score of 0.92 compared to Simple constant prediction which achieved a score of 0.3 on tested data."
      ]
     },
     "metadata": {},
     "output_type": "display_data"
    },
    {
     "data": {
      "image/png": "[encoded data removed]",
      "text/plain": [
       "<Figure size 432x288 with 1 Axes>"
      ]
     },
     "metadata": {
      "needs_background": "light"
     },
     "output_type": "display_data"
    }
   ],
   "source": [
    "check.run(train_ds, val_ds, clf)"
   ]
  }
 ],
 "metadata": {
  "kernelspec": {
   "display_name": "Python 3 (ipykernel)",
   "language": "python",
   "name": "python3"
  },
  "language_info": {
   "codemirror_mode": {
    "name": "ipython",
    "version": 3
   },
   "file_extension": ".py",
   "mimetype": "text/x-python",
   "name": "python",
   "nbconvert_exporter": "python",
   "pygments_lexer": "ipython3",
   "version": "3.8.10"
  }
 },
 "nbformat": 4,
 "nbformat_minor": 5
}
