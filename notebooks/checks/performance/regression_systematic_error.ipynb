{
 "cells": [
  {
   "cell_type": "markdown",
   "id": "fff890cb-3c9b-462e-a5e2-b6a0ea89ea95",
   "metadata": {},
   "source": [
    "# Imports"
   ]
  },
  {
   "cell_type": "code",
   "execution_count": 1,
   "id": "bc53a3b6-ec0b-4727-bdb2-29ed385d30d9",
   "metadata": {},
   "outputs": [],
   "source": [
    "from deepchecks.base import Dataset\n",
    "from sklearn.ensemble import GradientBoostingRegressor\n",
    "from sklearn.datasets import load_diabetes\n",
    "from sklearn.model_selection import train_test_split\n",
    "from deepchecks.checks.performance import RegressionSystematicError"
   ]
  },
  {
   "cell_type": "markdown",
   "id": "8c726ea7-fdff-409d-8643-daefd302b66f",
   "metadata": {},
   "source": [
    "# Generating data:"
   ]
  },
  {
   "cell_type": "code",
   "execution_count": 2,
   "id": "3a258442-b7e5-49bb-98a5-f1b503b38d7a",
   "metadata": {},
   "outputs": [],
   "source": [
    "diabetes_df = load_diabetes(return_X_y=False, as_frame=True).frame\n",
    "train_df, test_df = train_test_split(diabetes_df, test_size=0.33, random_state=42)\n",
    "\n",
    "train = Dataset(train_df, label='target', cat_features=['sex'])\n",
    "test = Dataset(test_df, label='target', cat_features=['sex'])\n",
    "\n",
    "clf = GradientBoostingRegressor(random_state=0)\n",
    "_ = clf.fit(train.features_columns, train.label_col)"
   ]
  },
  {
   "cell_type": "markdown",
   "id": "e679c050-b7c3-4c77-8b5b-2f01c2726e71",
   "metadata": {},
   "source": [
    "# Running RegressionErrorDistribution check:"
   ]
  },
  {
   "cell_type": "code",
   "execution_count": 3,
   "id": "b253a703-83a6-49a4-b701-2bcbcd339bba",
   "metadata": {},
   "outputs": [],
   "source": [
    "check = RegressionSystematicError()"
   ]
  },
  {
   "cell_type": "code",
   "execution_count": 4,
   "id": "bdd52a29-2612-4dbc-8507-31250b9feadc",
   "metadata": {},
   "outputs": [
    {
     "data": {
      "text/html": [
       "<h4>Regression Bias</h4>"
      ]
     },
     "metadata": {},
     "output_type": "display_data"
    },
    {
     "data": {
      "text/html": [
       "<p>Check the regression bias.</p>"
      ]
     },
     "metadata": {},
     "output_type": "display_data"
    },
    {
     "data": {
      "image/png": "[encoded data removed]",
      "text/plain": [
       "<Figure size 432x288 with 1 Axes>"
      ]
     },
     "metadata": {
      "needs_background": "light"
     },
     "output_type": "display_data"
    }
   ],
   "source": [
    "check.run(test, clf)"
   ]
  },
  {
   "cell_type": "code",
   "execution_count": null,
   "id": "afef0bd2-f265-4d4b-b749-67ebbf77e4a7",
   "metadata": {},
   "outputs": [],
   "source": []
  }
 ],
 "metadata": {
  "kernelspec": {
   "display_name": "Python 3 (ipykernel)",
   "language": "python",
   "name": "python3"
  },
  "language_info": {
   "codemirror_mode": {
    "name": "ipython",
    "version": 3
   },
   "file_extension": ".py",
   "mimetype": "text/x-python",
   "name": "python",
   "nbconvert_exporter": "python",
   "pygments_lexer": "ipython3",
   "version": "3.8.12"
  }
 },
 "nbformat": 4,
 "nbformat_minor": 5
}
