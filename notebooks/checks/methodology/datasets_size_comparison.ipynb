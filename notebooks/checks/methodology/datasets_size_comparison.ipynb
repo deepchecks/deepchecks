{
 "cells": [
  {
   "cell_type": "code",
   "execution_count": 1,
   "metadata": {},
   "outputs": [],
   "source": [
    "import pandas as pd\n",
    "import numpy as np\n",
    "from sklearn.model_selection import train_test_split\n",
    "from deepchecks import Dataset\n",
    "from deepchecks.checks.methodology import DatasetsSizeComparison"
   ]
  },
  {
   "cell_type": "code",
   "execution_count": 2,
   "metadata": {},
   "outputs": [],
   "source": [
    "df = pd.DataFrame(np.random.randn(1000, 3), columns=['x1', 'x2', 'x3'])\n",
    "df['label'] = df['x2'] + 0.1 * df['x1']\n",
    "\n",
    "train, test = train_test_split(df, test_size=0.4)\n",
    "train = Dataset(train, features=['x1', 'x2', 'x3'], label='label')\n",
    "test = Dataset(test, features=['x1', 'x2', 'x3'], label='label')\n",
    "\n",
    "check_instance = (\n",
    "    DatasetsSizeComparison()\n",
    "    .add_condition_train_dataset_not_smaller_than_test()\n",
    "    .add_condition_test_size_not_smaller_than(100)\n",
    "    .add_condition_test_train_size_ratio_not_smaller_than(0.2)\n",
    ")\n"
   ]
  },
  {
   "cell_type": "code",
   "execution_count": 3,
   "metadata": {},
   "outputs": [],
   "source": [
    "check_result = check_instance.run(train, test)\n",
    "condition_result = check_instance.conditions_decision(check_result)"
   ]
  },
  {
   "cell_type": "code",
   "execution_count": 4,
   "metadata": {},
   "outputs": [
    {
     "data": {
      "text/html": [
       "<h4>Datasets Size Comparison</h4>"
      ]
     },
     "metadata": {},
     "output_type": "display_data"
    },
    {
     "data": {
      "text/html": [
       "<p>Verify Test dataset size comparing it to the Train dataset size.</p>"
      ]
     },
     "metadata": {},
     "output_type": "display_data"
    },
    {
     "data": {
      "text/html": [
       "<style type=\"text/css\">\n",
       "#T_cc1c3_ table {\n",
       "  text-align: left;\n",
       "}\n",
       "#T_cc1c3_ thead {\n",
       "  text-align: left;\n",
       "}\n",
       "#T_cc1c3_ tbody {\n",
       "  text-align: left;\n",
       "}\n",
       "#T_cc1c3_ th {\n",
       "  text-align: left;\n",
       "}\n",
       "#T_cc1c3_ td {\n",
       "  text-align: left;\n",
       "}\n",
       "</style>\n",
       "<table id=\"T_cc1c3_\">\n",
       "  <thead>\n",
       "    <tr>\n",
       "      <th class=\"blank level0\" >&nbsp;</th>\n",
       "      <th class=\"col_heading level0 col0\" >train</th>\n",
       "      <th class=\"col_heading level0 col1\" >test</th>\n",
       "    </tr>\n",
       "  </thead>\n",
       "  <tbody>\n",
       "    <tr>\n",
       "      <th id=\"T_cc1c3_level0_row0\" class=\"row_heading level0 row0\" >size</th>\n",
       "      <td id=\"T_cc1c3_row0_col0\" class=\"data row0 col0\" >600</td>\n",
       "      <td id=\"T_cc1c3_row0_col1\" class=\"data row0 col1\" >400</td>\n",
       "    </tr>\n",
       "  </tbody>\n",
       "</table>\n"
      ]
     },
     "metadata": {},
     "output_type": "display_data"
    }
   ],
   "source": [
    "check_result"
   ]
  },
  {
   "cell_type": "code",
   "execution_count": 5,
   "metadata": {},
   "outputs": [
    {
     "name": "stdout",
     "output_type": "stream",
     "text": [
      "Datasets passed condtions? - True\n"
     ]
    }
   ],
   "source": [
    "print('Datasets passed condtions? -', all(it.is_pass for it in condition_result))"
   ]
  }
 ],
 "metadata": {
  "interpreter": {
   "hash": "84907e5c832b0f30997d577d5af975f753923a883501768793aa42b5515ede32"
  },
  "kernelspec": {
   "display_name": "Python 3 (ipykernel)",
   "language": "python",
   "name": "python3"
  },
  "language_info": {
   "codemirror_mode": {
    "name": "ipython",
    "version": 3
   },
   "file_extension": ".py",
   "mimetype": "text/x-python",
   "name": "python",
   "nbconvert_exporter": "python",
   "pygments_lexer": "ipython3",
   "version": "3.8.6"
  }
 },
 "nbformat": 4,
 "nbformat_minor": 2
}
