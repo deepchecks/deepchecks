{
 "cells": [
  {
   "cell_type": "markdown",
   "id": "1e28d692",
   "metadata": {},
   "source": [
    "# Unused Features "
   ]
  },
  {
   "cell_type": "code",
   "execution_count": 1,
   "id": "bbc7f530-d0ad-44ac-871c-6a11491313d5",
   "metadata": {
    "execution": {
     "iopub.execute_input": "2021-12-22T07:30:05.827411Z",
     "iopub.status.busy": "2021-12-22T07:30:05.826742Z",
     "iopub.status.idle": "2021-12-22T07:30:07.505569Z",
     "shell.execute_reply": "2021-12-22T07:30:07.505023Z"
    }
   },
   "outputs": [],
   "source": [
    "from deepchecks.base import Dataset\n",
    "import matplotlib.pyplot as plt\n",
    "from sklearn.ensemble import AdaBoostClassifier\n",
    "from sklearn.datasets import load_iris\n",
    "from deepchecks.checks import UnusedFeatures\n",
    "import pandas as pd"
   ]
  },
  {
   "cell_type": "markdown",
   "id": "7697e388-b55b-46ee-8183-0aee87ffc248",
   "metadata": {},
   "source": [
    "## Load data\n",
    "\n",
    "The dataset is the adult dataset which can be downloaded from the UCI machine learning repository.\n",
    "\n",
    "Dua, D. and Graff, C. (2019). UCI Machine Learning Repository [http://archive.ics.uci.edu/ml]. Irvine, CA: University of California, School of Information and Computer Science."
   ]
  },
  {
   "cell_type": "code",
   "execution_count": 2,
   "id": "b9a226bc-b2c0-48ad-b84d-b00133001b36",
   "metadata": {
    "execution": {
     "iopub.execute_input": "2021-12-22T07:30:07.513725Z",
     "iopub.status.busy": "2021-12-22T07:30:07.513192Z",
     "iopub.status.idle": "2021-12-22T07:30:08.408250Z",
     "shell.execute_reply": "2021-12-22T07:30:08.407717Z"
    }
   },
   "outputs": [],
   "source": [
    "from urllib.request import urlopen\n",
    "from sklearn.preprocessing import LabelEncoder\n",
    "\n",
    "name_data = urlopen('http://archive.ics.uci.edu/ml/machine-learning-databases/adult/adult.names')\n",
    "lines = [l.decode(\"utf-8\") for l in name_data if ':' in l.decode(\"utf-8\") and '|' not in l.decode(\"utf-8\")]\n",
    "\n",
    "features = [l.split(':')[0] for l in lines]\n",
    "label_name = 'income'\n",
    "\n",
    "cat_features = [l.split(':')[0] for l in lines if 'continuous' not in l]\n",
    "\n",
    "train_df = pd.read_csv('http://archive.ics.uci.edu/ml/machine-learning-databases/adult/adult.data',\n",
    "                       names=features + [label_name])\n",
    "test_df = pd.read_csv('http://archive.ics.uci.edu/ml/machine-learning-databases/adult/adult.test',\n",
    "                      names=features + [label_name], skiprows=1)\n",
    "\n",
    "test_df[label_name] = test_df [label_name].str[:-1]\n",
    "\n",
    "encoder = LabelEncoder()\n",
    "encoder.fit(train_df[label_name])\n",
    "train_df[label_name] = encoder.transform(train_df[label_name])\n",
    "test_df[label_name] = encoder.transform(test_df[label_name])"
   ]
  },
  {
   "cell_type": "markdown",
   "id": "c89f073d-82af-48e9-b93b-3a39ff808783",
   "metadata": {},
   "source": [
    "## Create datasets"
   ]
  },
  {
   "cell_type": "code",
   "execution_count": 3,
   "id": "48dcd600-29ef-4ccf-be77-0f85570741ee",
   "metadata": {
    "execution": {
     "iopub.execute_input": "2021-12-22T07:30:08.412639Z",
     "iopub.status.busy": "2021-12-22T07:30:08.412170Z",
     "iopub.status.idle": "2021-12-22T07:30:08.421037Z",
     "shell.execute_reply": "2021-12-22T07:30:08.420595Z"
    }
   },
   "outputs": [],
   "source": [
    "from deepchecks import Dataset\n",
    "\n",
    "cat_features = ['workclass', 'education', 'marital-status', 'occupation', 'relationship', \n",
    "                'race', 'sex', 'native-country']\n",
    "train_ds = Dataset(train_df, label_name=label_name, cat_features=cat_features)\n",
    "test_ds = Dataset(test_df, label_name=label_name, cat_features=cat_features)\n",
    "\n",
    "numeric_features = list(set(train_ds.features) - set(cat_features))"
   ]
  },
  {
   "cell_type": "markdown",
   "id": "b41e4877-0893-4dd2-94b1-83dffb13be8f",
   "metadata": {},
   "source": [
    "\n",
    "## Classification model"
   ]
  },
  {
   "cell_type": "code",
   "execution_count": 4,
   "id": "c9768446-164b-4e13-9dcb-3276f1ba34e9",
   "metadata": {
    "execution": {
     "iopub.execute_input": "2021-12-22T07:30:08.428982Z",
     "iopub.status.busy": "2021-12-22T07:30:08.428296Z",
     "iopub.status.idle": "2021-12-22T07:30:09.277354Z",
     "shell.execute_reply": "2021-12-22T07:30:09.277780Z"
    }
   },
   "outputs": [],
   "source": [
    "from sklearn.pipeline import Pipeline\n",
    "from sklearn.impute import SimpleImputer\n",
    "from sklearn.compose import ColumnTransformer\n",
    "from sklearn.preprocessing import OrdinalEncoder\n",
    "from sklearn.ensemble import RandomForestClassifier\n",
    "\n",
    "numeric_transformer = SimpleImputer()\n",
    "categorical_transformer = Pipeline(\n",
    "    steps=[(\"imputer\", SimpleImputer(strategy=\"most_frequent\")), (\"encoder\", OrdinalEncoder())]\n",
    ")\n",
    "\n",
    "train_ds.features\n",
    "preprocessor = ColumnTransformer(\n",
    "    transformers=[\n",
    "        (\"num\", numeric_transformer, numeric_features),\n",
    "        (\"cat\", categorical_transformer, cat_features),\n",
    "    ]\n",
    ")\n",
    "\n",
    "model = Pipeline(steps=[(\"preprocessing\", preprocessor), (\"model\", RandomForestClassifier(max_depth=5, n_jobs=-1))])\n",
    "model = model.fit(train_ds.features_columns, train_ds.label_col)"
   ]
  },
  {
   "cell_type": "code",
   "execution_count": 5,
   "id": "ef1f22dd",
   "metadata": {
    "execution": {
     "iopub.execute_input": "2021-12-22T07:30:09.288474Z",
     "iopub.status.busy": "2021-12-22T07:30:09.282616Z",
     "iopub.status.idle": "2021-12-22T07:30:09.304758Z",
     "shell.execute_reply": "2021-12-22T07:30:09.304187Z"
    }
   },
   "outputs": [
    {
     "data": {
      "text/plain": [
       "Pipeline(steps=[('preprocessing',\n",
       "                 ColumnTransformer(transformers=[('num', SimpleImputer(),\n",
       "                                                  ['capital-loss', 'age',\n",
       "                                                   'capital-gain', 'fnlwgt',\n",
       "                                                   'education-num',\n",
       "                                                   'hours-per-week']),\n",
       "                                                 ('cat',\n",
       "                                                  Pipeline(steps=[('imputer',\n",
       "                                                                   SimpleImputer(strategy='most_frequent')),\n",
       "                                                                  ('encoder',\n",
       "                                                                   OrdinalEncoder())]),\n",
       "                                                  ['workclass', 'education',\n",
       "                                                   'marital-status',\n",
       "                                                   'occupation', 'relationship',\n",
       "                                                   'race', 'sex',\n",
       "                                                   'native-country'])])),\n",
       "                ('model', RandomForestClassifier(max_depth=5, n_jobs=-1))])"
      ]
     },
     "execution_count": 5,
     "metadata": {},
     "output_type": "execute_result"
    }
   ],
   "source": [
    "# NBVAL_SKIP\n",
    "model"
   ]
  },
  {
   "cell_type": "code",
   "execution_count": 6,
   "id": "0166f9e6-3ff8-473d-94e2-08f019b141e9",
   "metadata": {
    "execution": {
     "iopub.execute_input": "2021-12-22T07:30:09.316998Z",
     "iopub.status.busy": "2021-12-22T07:30:09.309846Z",
     "iopub.status.idle": "2021-12-22T07:30:09.781366Z",
     "shell.execute_reply": "2021-12-22T07:30:09.782030Z"
    }
   },
   "outputs": [
    {
     "data": {
      "text/html": [
       "<h4>Unused Features</h4>"
      ]
     },
     "metadata": {},
     "output_type": "display_data"
    },
    {
     "data": {
      "text/html": [
       "<p>Detect features that are nearly unused by the model.</p>"
      ]
     },
     "metadata": {},
     "output_type": "display_data"
    },
    {
     "data": {
      "text/html": [
       "Features above the line are a sample of the most important features, while the features below the line are the unused features with highest variance, as defined by check parameters"
      ]
     },
     "metadata": {},
     "output_type": "display_data"
    },
    {
     "data": {
      "image/png": "[encoded data removed]",
      "text/plain": [
       "<Figure size 576x486 with 1 Axes>"
      ]
     },
     "metadata": {
      "needs_background": "light"
     },
     "output_type": "display_data"
    }
   ],
   "source": [
    "UnusedFeatures().run(train_ds, test_ds, model)"
   ]
  },
  {
   "cell_type": "markdown",
   "id": "ef495621-61af-4f68-8087-f831ec21da87",
   "metadata": {},
   "source": [
    "#### stricter threshold on what features are considered \"high variance\""
   ]
  },
  {
   "cell_type": "code",
   "execution_count": 7,
   "id": "5b18cc8b-5dc6-4330-8209-2624fe8d21b3",
   "metadata": {
    "execution": {
     "iopub.execute_input": "2021-12-22T07:30:09.793954Z",
     "iopub.status.busy": "2021-12-22T07:30:09.793464Z",
     "iopub.status.idle": "2021-12-22T07:30:10.187323Z",
     "shell.execute_reply": "2021-12-22T07:30:10.186881Z"
    }
   },
   "outputs": [
    {
     "data": {
      "text/html": [
       "<h4>Unused Features</h4>"
      ]
     },
     "metadata": {},
     "output_type": "display_data"
    },
    {
     "data": {
      "text/html": [
       "<p>Detect features that are nearly unused by the model.</p>"
      ]
     },
     "metadata": {},
     "output_type": "display_data"
    },
    {
     "data": {
      "text/html": [
       "Features above the line are a sample of the most important features, while the features below the line are the unused features with highest variance, as defined by check parameters"
      ]
     },
     "metadata": {},
     "output_type": "display_data"
    },
    {
     "data": {
      "image/png": "[encoded data removed]",
      "text/plain": [
       "<Figure size 576x378 with 1 Axes>"
      ]
     },
     "metadata": {
      "needs_background": "light"
     },
     "output_type": "display_data"
    }
   ],
   "source": [
    "UnusedFeatures(feature_variance_threshold=1.5).run(train_ds, test_ds, model)"
   ]
  },
  {
   "cell_type": "markdown",
   "id": "b5717d07-4ef3-4b60-b91d-6d3b842f3988",
   "metadata": {},
   "source": [
    "#### All features are considered important"
   ]
  },
  {
   "cell_type": "code",
   "execution_count": 8,
   "id": "66135046-d7e6-4c9e-8bbb-aa1a3b6afa35",
   "metadata": {
    "execution": {
     "iopub.execute_input": "2021-12-22T07:30:10.192326Z",
     "iopub.status.busy": "2021-12-22T07:30:10.189677Z",
     "iopub.status.idle": "2021-12-22T07:30:10.372353Z",
     "shell.execute_reply": "2021-12-22T07:30:10.373035Z"
    }
   },
   "outputs": [
    {
     "data": {
      "text/html": [
       "<h4>Unused Features</h4>"
      ]
     },
     "metadata": {},
     "output_type": "display_data"
    },
    {
     "data": {
      "text/html": [
       "<p>Detect features that are nearly unused by the model.</p>"
      ]
     },
     "metadata": {},
     "output_type": "display_data"
    },
    {
     "data": {
      "text/html": [
       "<p><b>&#x2713;</b> Nothing found</p>"
      ]
     },
     "metadata": {},
     "output_type": "display_data"
    }
   ],
   "source": [
    "UnusedFeatures(feature_importance_threshold=0).run(train_ds, test_ds, model)"
   ]
  }
 ],
 "metadata": {
  "kernelspec": {
   "display_name": "Python 3 (ipykernel)",
   "language": "python",
   "name": "python3"
  },
  "language_info": {
   "codemirror_mode": {
    "name": "ipython",
    "version": 3
   },
   "file_extension": ".py",
   "mimetype": "text/x-python",
   "name": "python",
   "nbconvert_exporter": "python",
   "pygments_lexer": "ipython3",
   "version": "3.9.9"
  }
 },
 "nbformat": 4,
 "nbformat_minor": 5
}
