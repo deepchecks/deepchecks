{
 "cells": [
  {
   "cell_type": "code",
   "execution_count": 1,
   "metadata": {},
   "outputs": [],
   "source": [
    "import pandas as pd\n",
    "import numpy as np\n",
    "from sklearn.datasets import load_iris\n",
    "from sklearn.ensemble import AdaBoostClassifier\n",
    "from sklearn.model_selection import train_test_split\n",
    "\n",
    "from deepchecks import Dataset\n",
    "from deepchecks.checks.methodology import ModelInferenceTimeCheck"
   ]
  },
  {
   "cell_type": "code",
   "execution_count": 2,
   "metadata": {},
   "outputs": [],
   "source": [
    "iris = load_iris(as_frame=True)\n",
    "train, test = train_test_split(iris.frame, test_size=0.33, random_state=42)\n",
    "\n",
    "train_ds = Dataset(train, features=iris.feature_names, label='target')\n",
    "test_ds = Dataset(test, features=iris.feature_names, label='target')\n",
    "\n",
    "clf = AdaBoostClassifier().fit(train_ds.features_columns(), train_ds.label_col())"
   ]
  },
  {
   "cell_type": "code",
   "execution_count": 3,
   "metadata": {},
   "outputs": [],
   "source": [
    "check = ModelInferenceTimeCheck()\n",
    "#check.run(test_ds, clf)"
   ]
  },
  {
   "cell_type": "markdown",
   "metadata": {},
   "source": [
    "## Instantiating check instance with condition"
   ]
  },
  {
   "cell_type": "code",
   "execution_count": 4,
   "metadata": {},
   "outputs": [],
   "source": [
    "check = ModelInferenceTimeCheck().add_condition_inference_time_is_not_greater_than(0.00001)\n",
    "#check.run(test_ds, clf)"
   ]
  }
 ],
 "metadata": {
  "interpreter": {
   "hash": "84907e5c832b0f30997d577d5af975f753923a883501768793aa42b5515ede32"
  },
  "kernelspec": {
   "display_name": "Python 3.8.10 64-bit ('.deepchecks-venv': venv)",
   "language": "python",
   "name": "python3"
  },
  "language_info": {
   "codemirror_mode": {
    "name": "ipython",
    "version": 3
   },
   "file_extension": ".py",
   "mimetype": "text/x-python",
   "name": "python",
   "nbconvert_exporter": "python",
   "pygments_lexer": "ipython3",
   "version": "3.8.10"
  },
  "orig_nbformat": 4
 },
 "nbformat": 4,
 "nbformat_minor": 2
}
