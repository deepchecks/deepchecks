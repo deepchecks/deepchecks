{
 "cells": [
  {
   "cell_type": "markdown",
   "id": "0fdeac8e-ffd2-4509-8a70-fcbda9cdb68b",
   "metadata": {},
   "source": [
    "# Imports"
   ]
  },
  {
   "cell_type": "code",
   "execution_count": 1,
   "id": "592d6a95-06b0-4397-bf5e-5aebd6dc58f3",
   "metadata": {},
   "outputs": [],
   "source": [
    "import numpy as np\n",
    "import pandas as pd\n",
    "import matplotlib.pyplot as plt\n",
    "from sklearn.datasets import load_iris\n",
    "from sklearn.model_selection import train_test_split\n",
    "from deepchecks.checks.methodology import TrainTestSamplesMix\n",
    "from deepchecks.base import Dataset"
   ]
  },
  {
   "cell_type": "markdown",
   "id": "b1653169-893b-456a-b179-7ba51d004694",
   "metadata": {},
   "source": [
    "# Generating data:"
   ]
  },
  {
   "cell_type": "code",
   "execution_count": 2,
   "id": "13624caa-239a-4b0a-a081-8d46872751ef",
   "metadata": {},
   "outputs": [],
   "source": [
    "iris = load_iris(return_X_y=False, as_frame=True)\n",
    "X = iris.data\n",
    "y = iris.target\n",
    "X_train, X_test, y_train, y_test = train_test_split(X, y, test_size=0.3, random_state=55)\n",
    "train_dataset = Dataset(pd.concat([X_train, y_train], axis=1), \n",
    "            features=iris.feature_names,\n",
    "            label='target')\n",
    "\n",
    "test_df = pd.concat([X_test, y_test], axis=1)\n",
    "bad_test = test_df.append(train_dataset.data.iloc[[0, 1, 1, 2, 3, 4]], ignore_index=True)\n",
    "                    \n",
    "test_dataset = Dataset(bad_test, \n",
    "            features=iris.feature_names,\n",
    "            label='target')"
   ]
  },
  {
   "cell_type": "markdown",
   "id": "e9b8071a-f95a-4d51-8ca9-abd42d5406b2",
   "metadata": {},
   "source": [
    "# Running data_sample_leakage_report check:"
   ]
  },
  {
   "cell_type": "code",
   "execution_count": 3,
   "id": "372e0162-b86c-45d6-8a3b-47e009d709b9",
   "metadata": {},
   "outputs": [],
   "source": [
    "check = TrainTestSamplesMix()"
   ]
  },
  {
   "cell_type": "code",
   "execution_count": 4,
   "id": "fadb3bc8-65af-4c7d-92bc-9234802d99e3",
   "metadata": {},
   "outputs": [
    {
     "data": {
      "text/html": [
       "<h4>Train Test Samples Mix</h4>"
      ]
     },
     "metadata": {},
     "output_type": "display_data"
    },
    {
     "data": {
      "text/html": [
       "<p>Detect samples in the test data that appear also in training data.</p>"
      ]
     },
     "metadata": {},
     "output_type": "display_data"
    },
    {
     "data": {
      "text/html": [
       "11.76% (6.0 / 51)                      of test data samples appear in train data"
      ]
     },
     "metadata": {},
     "output_type": "display_data"
    },
    {
     "data": {
      "text/html": [
       "<style type=\"text/css\">\n",
       "#T_aa58f_ table {\n",
       "  text-align: left;\n",
       "}\n",
       "#T_aa58f_ thead {\n",
       "  text-align: left;\n",
       "}\n",
       "#T_aa58f_ tbody {\n",
       "  text-align: left;\n",
       "}\n",
       "#T_aa58f_ th {\n",
       "  text-align: left;\n",
       "}\n",
       "#T_aa58f_ td {\n",
       "  text-align: left;\n",
       "}\n",
       "</style>\n",
       "<table id=\"T_aa58f_\">\n",
       "  <thead>\n",
       "    <tr>\n",
       "      <th class=\"blank level0\" >&nbsp;</th>\n",
       "      <th class=\"col_heading level0 col0\" >sepal length (cm)</th>\n",
       "      <th class=\"col_heading level0 col1\" >sepal width (cm)</th>\n",
       "      <th class=\"col_heading level0 col2\" >petal length (cm)</th>\n",
       "      <th class=\"col_heading level0 col3\" >petal width (cm)</th>\n",
       "      <th class=\"col_heading level0 col4\" >target</th>\n",
       "    </tr>\n",
       "  </thead>\n",
       "  <tbody>\n",
       "    <tr>\n",
       "      <th id=\"T_aa58f_level0_row0\" class=\"row_heading level0 row0\" >Test indices: 46, 47</th>\n",
       "      <td id=\"T_aa58f_row0_col0\" class=\"data row0 col0\" >7.90</td>\n",
       "      <td id=\"T_aa58f_row0_col1\" class=\"data row0 col1\" >3.80</td>\n",
       "      <td id=\"T_aa58f_row0_col2\" class=\"data row0 col2\" >6.40</td>\n",
       "      <td id=\"T_aa58f_row0_col3\" class=\"data row0 col3\" >2.00</td>\n",
       "      <td id=\"T_aa58f_row0_col4\" class=\"data row0 col4\" >2</td>\n",
       "    </tr>\n",
       "    <tr>\n",
       "      <th id=\"T_aa58f_level0_row1\" class=\"row_heading level0 row1\" >Train indices: 131</th>\n",
       "      <td id=\"T_aa58f_row1_col0\" class=\"data row1 col0\" >7.90</td>\n",
       "      <td id=\"T_aa58f_row1_col1\" class=\"data row1 col1\" >3.80</td>\n",
       "      <td id=\"T_aa58f_row1_col2\" class=\"data row1 col2\" >6.40</td>\n",
       "      <td id=\"T_aa58f_row1_col3\" class=\"data row1 col3\" >2.00</td>\n",
       "      <td id=\"T_aa58f_row1_col4\" class=\"data row1 col4\" >2</td>\n",
       "    </tr>\n",
       "    <tr>\n",
       "      <th id=\"T_aa58f_level0_row2\" class=\"row_heading level0 row2\" >Test indices: 48</th>\n",
       "      <td id=\"T_aa58f_row2_col0\" class=\"data row2 col0\" >6.50</td>\n",
       "      <td id=\"T_aa58f_row2_col1\" class=\"data row2 col1\" >3.20</td>\n",
       "      <td id=\"T_aa58f_row2_col2\" class=\"data row2 col2\" >5.10</td>\n",
       "      <td id=\"T_aa58f_row2_col3\" class=\"data row2 col3\" >2.00</td>\n",
       "      <td id=\"T_aa58f_row2_col4\" class=\"data row2 col4\" >2</td>\n",
       "    </tr>\n",
       "    <tr>\n",
       "      <th id=\"T_aa58f_level0_row3\" class=\"row_heading level0 row3\" >Train indices: 110</th>\n",
       "      <td id=\"T_aa58f_row3_col0\" class=\"data row3 col0\" >6.50</td>\n",
       "      <td id=\"T_aa58f_row3_col1\" class=\"data row3 col1\" >3.20</td>\n",
       "      <td id=\"T_aa58f_row3_col2\" class=\"data row3 col2\" >5.10</td>\n",
       "      <td id=\"T_aa58f_row3_col3\" class=\"data row3 col3\" >2.00</td>\n",
       "      <td id=\"T_aa58f_row3_col4\" class=\"data row3 col4\" >2</td>\n",
       "    </tr>\n",
       "    <tr>\n",
       "      <th id=\"T_aa58f_level0_row4\" class=\"row_heading level0 row4\" >Test indices: 50</th>\n",
       "      <td id=\"T_aa58f_row4_col0\" class=\"data row4 col0\" >6.40</td>\n",
       "      <td id=\"T_aa58f_row4_col1\" class=\"data row4 col1\" >3.20</td>\n",
       "      <td id=\"T_aa58f_row4_col2\" class=\"data row4 col2\" >5.30</td>\n",
       "      <td id=\"T_aa58f_row4_col3\" class=\"data row4 col3\" >2.30</td>\n",
       "      <td id=\"T_aa58f_row4_col4\" class=\"data row4 col4\" >2</td>\n",
       "    </tr>\n",
       "    <tr>\n",
       "      <th id=\"T_aa58f_level0_row5\" class=\"row_heading level0 row5\" >Train indices: 115</th>\n",
       "      <td id=\"T_aa58f_row5_col0\" class=\"data row5 col0\" >6.40</td>\n",
       "      <td id=\"T_aa58f_row5_col1\" class=\"data row5 col1\" >3.20</td>\n",
       "      <td id=\"T_aa58f_row5_col2\" class=\"data row5 col2\" >5.30</td>\n",
       "      <td id=\"T_aa58f_row5_col3\" class=\"data row5 col3\" >2.30</td>\n",
       "      <td id=\"T_aa58f_row5_col4\" class=\"data row5 col4\" >2</td>\n",
       "    </tr>\n",
       "    <tr>\n",
       "      <th id=\"T_aa58f_level0_row6\" class=\"row_heading level0 row6\" >Test indices: 45</th>\n",
       "      <td id=\"T_aa58f_row6_col0\" class=\"data row6 col0\" >5.80</td>\n",
       "      <td id=\"T_aa58f_row6_col1\" class=\"data row6 col1\" >2.70</td>\n",
       "      <td id=\"T_aa58f_row6_col2\" class=\"data row6 col2\" >5.10</td>\n",
       "      <td id=\"T_aa58f_row6_col3\" class=\"data row6 col3\" >1.90</td>\n",
       "      <td id=\"T_aa58f_row6_col4\" class=\"data row6 col4\" >2</td>\n",
       "    </tr>\n",
       "    <tr>\n",
       "      <th id=\"T_aa58f_level0_row7\" class=\"row_heading level0 row7\" >Train indices: 101, 142</th>\n",
       "      <td id=\"T_aa58f_row7_col0\" class=\"data row7 col0\" >5.80</td>\n",
       "      <td id=\"T_aa58f_row7_col1\" class=\"data row7 col1\" >2.70</td>\n",
       "      <td id=\"T_aa58f_row7_col2\" class=\"data row7 col2\" >5.10</td>\n",
       "      <td id=\"T_aa58f_row7_col3\" class=\"data row7 col3\" >1.90</td>\n",
       "      <td id=\"T_aa58f_row7_col4\" class=\"data row7 col4\" >2</td>\n",
       "    </tr>\n",
       "    <tr>\n",
       "      <th id=\"T_aa58f_level0_row8\" class=\"row_heading level0 row8\" >Test indices: 49</th>\n",
       "      <td id=\"T_aa58f_row8_col0\" class=\"data row8 col0\" >5.10</td>\n",
       "      <td id=\"T_aa58f_row8_col1\" class=\"data row8 col1\" >3.30</td>\n",
       "      <td id=\"T_aa58f_row8_col2\" class=\"data row8 col2\" >1.70</td>\n",
       "      <td id=\"T_aa58f_row8_col3\" class=\"data row8 col3\" >0.50</td>\n",
       "      <td id=\"T_aa58f_row8_col4\" class=\"data row8 col4\" >0</td>\n",
       "    </tr>\n",
       "    <tr>\n",
       "      <th id=\"T_aa58f_level0_row9\" class=\"row_heading level0 row9\" >Train indices: 23</th>\n",
       "      <td id=\"T_aa58f_row9_col0\" class=\"data row9 col0\" >5.10</td>\n",
       "      <td id=\"T_aa58f_row9_col1\" class=\"data row9 col1\" >3.30</td>\n",
       "      <td id=\"T_aa58f_row9_col2\" class=\"data row9 col2\" >1.70</td>\n",
       "      <td id=\"T_aa58f_row9_col3\" class=\"data row9 col3\" >0.50</td>\n",
       "      <td id=\"T_aa58f_row9_col4\" class=\"data row9 col4\" >0</td>\n",
       "    </tr>\n",
       "  </tbody>\n",
       "</table>\n"
      ]
     },
     "metadata": {},
     "output_type": "display_data"
    }
   ],
   "source": [
    "check.run(test_dataset=test_dataset, train_dataset=train_dataset)"
   ]
  }
 ],
 "metadata": {
  "kernelspec": {
   "display_name": "Python 3 (ipykernel)",
   "language": "python",
   "name": "python3"
  },
  "language_info": {
   "codemirror_mode": {
    "name": "ipython",
    "version": 3
   },
   "file_extension": ".py",
   "mimetype": "text/x-python",
   "name": "python",
   "nbconvert_exporter": "python",
   "pygments_lexer": "ipython3",
   "version": "3.8.6"
  }
 },
 "nbformat": 4,
 "nbformat_minor": 5
}
