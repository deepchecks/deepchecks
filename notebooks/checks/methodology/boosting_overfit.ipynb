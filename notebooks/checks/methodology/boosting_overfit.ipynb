{
 "cells": [
  {
   "cell_type": "markdown",
   "id": "5c09bfa9",
   "metadata": {},
   "source": [
    "## Load data\n",
    "\n",
    "The dataset is the adult dataset which can be downloaded from the UCI machine learning repository.\n",
    "\n",
    "Dua, D. and Graff, C. (2019). UCI Machine Learning Repository [http://archive.ics.uci.edu/ml]. Irvine, CA: University of California, School of Information and Computer Science.\n",
    "\n"
   ]
  },
  {
   "cell_type": "code",
   "execution_count": 1,
   "id": "b2f4ef14",
   "metadata": {},
   "outputs": [],
   "source": [
    "import pandas as pd\n",
    "from sklearn.preprocessing import LabelEncoder\n",
    "\n",
    "names = [*(f'col_{i}' for i in range(1,14)), 'target']\n",
    "train_df = pd.read_csv('http://archive.ics.uci.edu/ml/machine-learning-databases/adult/adult.data', \n",
    "                       header=None, names=names)\n",
    "val_df = pd.read_csv('http://archive.ics.uci.edu/ml/machine-learning-databases/adult/adult.test', \n",
    "                     skiprows=1, header=None, names=names)\n",
    "val_df['target'] = val_df['target'].str[:-1]\n",
    "\n",
    "# Run label encoder on all categorical columns\n",
    "for column in train_df.columns:\n",
    "    if train_df[column].dtype == 'object':\n",
    "        le = LabelEncoder()\n",
    "        le.fit(pd.concat([train_df[column], val_df[column]]))\n",
    "        train_df[column] = le.transform(train_df[column])\n",
    "        val_df[column] = le.transform(val_df[column])"
   ]
  },
  {
   "cell_type": "markdown",
   "id": "9b831334",
   "metadata": {},
   "source": [
    "## Create Dataset"
   ]
  },
  {
   "cell_type": "code",
   "execution_count": 2,
   "id": "4642d673",
   "metadata": {},
   "outputs": [
    {
     "name": "stdout",
     "output_type": "stream",
     "text": [
      "Some columns have been inferred as categorical features: col_1, col_3, col_4, col_5, col_6, col_7, col_8. \n",
      " and more... \n",
      " For the full list of columns, use dataset.cat_features\n",
      "Some columns have been inferred as categorical features: col_1, col_3, col_4, col_5, col_6, col_7, col_8. \n",
      " and more... \n",
      " For the full list of columns, use dataset.cat_features\n"
     ]
    }
   ],
   "source": [
    "from deepchecks import Dataset\n",
    "from deepchecks.checks.methodology.boosting_overfit import BoostingOverfit\n",
    "\n",
    "\n",
    "train_ds = Dataset(train_df, label_name='target')\n",
    "validation_ds = Dataset(val_df, label_name='target')"
   ]
  },
  {
   "cell_type": "markdown",
   "id": "8f4e3041",
   "metadata": {},
   "source": [
    "\n",
    "## Classification model"
   ]
  },
  {
   "cell_type": "code",
   "execution_count": 3,
   "id": "e993f643",
   "metadata": {},
   "outputs": [
    {
     "data": {
      "text/html": [
       "<h4>Boosting Overfit</h4>"
      ]
     },
     "metadata": {},
     "output_type": "display_data"
    },
    {
     "data": {
      "text/html": [
       "<p>Check for overfit caused by using too many iterations in a gradient boosted model.</p>"
      ]
     },
     "metadata": {},
     "output_type": "display_data"
    },
    {
     "data": {
      "text/html": [
       "<span>\n",
       "            The check limits the boosting model to using up to N estimators each time, and plotting the\n",
       "            Accuracy (Default) calculated for each subset of estimators for both the train dataset and the test dataset.\n",
       "        </span>"
      ]
     },
     "metadata": {},
     "output_type": "display_data"
    },
    {
     "data": {
      "image/png": "[encoded data removed]",
      "text/plain": [
       "<Figure size 504x288 with 1 Axes>"
      ]
     },
     "metadata": {
      "needs_background": "light"
     },
     "output_type": "display_data"
    }
   ],
   "source": [
    "from sklearn.ensemble import AdaBoostClassifier\n",
    "\n",
    "clf = AdaBoostClassifier(random_state=0)\n",
    "clf.fit(train_ds.features_columns, train_ds.label_col)\n",
    "BoostingOverfit().run(train_ds, validation_ds, clf)"
   ]
  }
 ],
 "metadata": {
  "kernelspec": {
   "display_name": "Python 3 (ipykernel)",
   "language": "python",
   "name": "python3"
  },
  "language_info": {
   "codemirror_mode": {
    "name": "ipython",
    "version": 3
   },
   "file_extension": ".py",
   "mimetype": "text/x-python",
   "name": "python",
   "nbconvert_exporter": "python",
   "pygments_lexer": "ipython3",
   "version": "3.8.10"
  }
 },
 "nbformat": 4,
 "nbformat_minor": 5
}
