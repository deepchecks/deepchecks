{
 "cells": [
  {
   "cell_type": "code",
   "execution_count": 2,
   "id": "6c2d05b9",
   "metadata": {},
   "outputs": [],
   "source": [
    "from mlchecks.checks import mixed_types\n",
    "import pandas as pd"
   ]
  },
  {
   "cell_type": "code",
   "execution_count": 28,
   "id": "ab11a1f7",
   "metadata": {},
   "outputs": [
    {
     "data": {
      "text/html": [
       "\n",
       "    <h4>Mixed Types</h4>\n",
       "    <p>Search for mixed types of Data in a single column[s].</p>\n",
       "    <div><table border=\"1\" class=\"dataframe\">\n",
       "  <thead>\n",
       "    <tr style=\"text-align: right;\">\n",
       "      <th></th>\n",
       "      <th>col1</th>\n",
       "      <th>col2</th>\n",
       "    </tr>\n",
       "  </thead>\n",
       "  <tbody>\n",
       "    <tr>\n",
       "      <th>strings</th>\n",
       "      <td>33.33%</td>\n",
       "      <td>83.33%</td>\n",
       "    </tr>\n",
       "    <tr>\n",
       "      <th>numbers</th>\n",
       "      <td>66.67%</td>\n",
       "      <td>16.67%</td>\n",
       "    </tr>\n",
       "  </tbody>\n",
       "</table></div>\n",
       "    "
      ],
      "text/plain": [
       "           col1    col2\n",
       "strings  33.33%  83.33%\n",
       "numbers  66.67%  16.67%"
      ]
     },
     "execution_count": 28,
     "metadata": {},
     "output_type": "execute_result"
    }
   ],
   "source": [
    "data = {'col1': ['str', '1.0', 1, 2 , 2.61 , 'timtam'], 'col2':['', '', '1.0', 'a', 'b', 'c'], 'col3': [1,2,3,4,5,6]}\n",
    "dataframe = pd.DataFrame(data=data)\n",
    "mixed_types(dataframe)"
   ]
  },
  {
   "cell_type": "code",
   "execution_count": 27,
   "id": "5e6650a3",
   "metadata": {},
   "outputs": [
    {
     "data": {
      "text/html": [
       "\n",
       "    <h4>Mixed Types</h4>\n",
       "    <p>Search for mixed types of Data in a single column[s].</p>\n",
       "    <div><p><b>&#x2713;</b> Nothing Found</p></div>\n",
       "    "
      ],
      "text/plain": [
       "Empty DataFrame\n",
       "Columns: []\n",
       "Index: []"
      ]
     },
     "execution_count": 27,
     "metadata": {},
     "output_type": "execute_result"
    }
   ],
   "source": [
    "data = {'col1': ['foo', 'bar', 'cat']}\n",
    "dataframe = pd.DataFrame(data=data)\n",
    "mixed_types(dataframe)"
   ]
  },
  {
   "cell_type": "code",
   "execution_count": null,
   "id": "9aadbb8d",
   "metadata": {},
   "outputs": [],
   "source": []
  }
 ],
 "metadata": {
  "kernelspec": {
   "display_name": "Python 3 (ipykernel)",
   "language": "python",
   "name": "python3"
  },
  "language_info": {
   "codemirror_mode": {
    "name": "ipython",
    "version": 3
   },
   "file_extension": ".py",
   "mimetype": "text/x-python",
   "name": "python",
   "nbconvert_exporter": "python",
   "pygments_lexer": "ipython3",
   "version": "3.9.7"
  }
 },
 "nbformat": 4,
 "nbformat_minor": 5
}
