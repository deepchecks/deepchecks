{
 "cells": [
  {
   "cell_type": "code",
   "execution_count": 1,
   "id": "f46b49d8",
   "metadata": {
    "scrolled": true
   },
   "outputs": [],
   "source": [
    "%load_ext autoreload\n",
    "%autoreload 2"
   ]
  },
  {
   "cell_type": "code",
   "execution_count": 2,
   "id": "e456929f",
   "metadata": {
    "scrolled": false
   },
   "outputs": [
    {
     "data": {
      "text/plain": [
       "AdaBoostClassifier()"
      ]
     },
     "execution_count": 2,
     "metadata": {},
     "output_type": "execute_result"
    }
   ],
   "source": [
    "import pandas as pd\n",
    "from sklearn.ensemble import AdaBoostClassifier\n",
    "from sklearn.datasets import fetch_covtype\n",
    "from sklearn.model_selection import train_test_split\n",
    "from mlchecks import Dataset\n",
    "\n",
    "df = fetch_covtype(as_frame=True).frame\n",
    "label = 'Cover_Type'\n",
    "\n",
    "train_df, validation_df = train_test_split(df, test_size=0.33)\n",
    "train = Dataset(train_df, label=label)\n",
    "validation = Dataset(validation_df, label=label)\n",
    "\n",
    "clf = AdaBoostClassifier()\n",
    "features = train_df.drop(label, axis=1)\n",
    "target = train_df[label]\n",
    "clf.fit(features, target)"
   ]
  },
  {
   "cell_type": "code",
   "execution_count": 30,
   "id": "b0fa7843",
   "metadata": {},
   "outputs": [
    {
     "data": {
      "text/html": [
       "<h4>Confidence Change</h4>"
      ]
     },
     "metadata": {},
     "output_type": "display_data"
    },
    {
     "data": {
      "text/html": [
       "<p>Check whether the confidence of the model changed, in order to understand if important features drifted.</p>"
      ]
     },
     "metadata": {},
     "output_type": "display_data"
    },
    {
     "data": {
      "image/png": "[encoded data removed]",
      "text/plain": [
       "<Figure size 504x288 with 1 Axes>"
      ]
     },
     "metadata": {
      "needs_background": "light"
     },
     "output_type": "display_data"
    },
    {
     "data": {
      "text/html": [
       "<h5>Top Confidence Samples Indexes</h5>"
      ]
     },
     "metadata": {},
     "output_type": "display_data"
    },
    {
     "data": {
      "text/html": [
       "<style type=\"text/css\">\n",
       "#T_76c35_ th {\n",
       "  text-align: left;\n",
       "}\n",
       "#T_76c35_ td {\n",
       "  text-align: left;\n",
       "}\n",
       "</style>\n",
       "<table id=\"T_76c35_\">\n",
       "  <thead>\n",
       "    <tr>\n",
       "      <th class=\"blank level0\" >&nbsp;</th>\n",
       "      <th class=\"col_heading level0 col0\" >Model Prediction</th>\n",
       "      <th class=\"col_heading level0 col1\" >Confidence Quantile</th>\n",
       "    </tr>\n",
       "  </thead>\n",
       "  <tbody>\n",
       "    <tr>\n",
       "      <th id=\"T_76c35_level0_row0\" class=\"row_heading level0 row0\" >318669</th>\n",
       "      <td id=\"T_76c35_row0_col0\" class=\"data row0 col0\" >3</td>\n",
       "      <td id=\"T_76c35_row0_col1\" class=\"data row0 col1\" >1.000000</td>\n",
       "    </tr>\n",
       "    <tr>\n",
       "      <th id=\"T_76c35_level0_row1\" class=\"row_heading level0 row1\" >331754</th>\n",
       "      <td id=\"T_76c35_row1_col0\" class=\"data row1 col0\" >3</td>\n",
       "      <td id=\"T_76c35_row1_col1\" class=\"data row1 col1\" >1.000000</td>\n",
       "    </tr>\n",
       "    <tr>\n",
       "      <th id=\"T_76c35_level0_row2\" class=\"row_heading level0 row2\" >277706</th>\n",
       "      <td id=\"T_76c35_row2_col0\" class=\"data row2 col0\" >3</td>\n",
       "      <td id=\"T_76c35_row2_col1\" class=\"data row2 col1\" >0.980000</td>\n",
       "    </tr>\n",
       "    <tr>\n",
       "      <th id=\"T_76c35_level0_row3\" class=\"row_heading level0 row3\" >326834</th>\n",
       "      <td id=\"T_76c35_row3_col0\" class=\"data row3 col0\" >3</td>\n",
       "      <td id=\"T_76c35_row3_col1\" class=\"data row3 col1\" >0.980000</td>\n",
       "    </tr>\n",
       "    <tr>\n",
       "      <th id=\"T_76c35_level0_row4\" class=\"row_heading level0 row4\" >12864</th>\n",
       "      <td id=\"T_76c35_row4_col0\" class=\"data row4 col0\" >3</td>\n",
       "      <td id=\"T_76c35_row4_col1\" class=\"data row4 col1\" >0.980000</td>\n",
       "    </tr>\n",
       "  </tbody>\n",
       "</table>\n"
      ]
     },
     "metadata": {},
     "output_type": "display_data"
    },
    {
     "data": {
      "text/html": [
       "<h5>Worst Confidence Samples Indexes</h5>"
      ]
     },
     "metadata": {},
     "output_type": "display_data"
    },
    {
     "data": {
      "text/html": [
       "<style type=\"text/css\">\n",
       "#T_ce56e_ th {\n",
       "  text-align: left;\n",
       "}\n",
       "#T_ce56e_ td {\n",
       "  text-align: left;\n",
       "}\n",
       "</style>\n",
       "<table id=\"T_ce56e_\">\n",
       "  <thead>\n",
       "    <tr>\n",
       "      <th class=\"blank level0\" >&nbsp;</th>\n",
       "      <th class=\"col_heading level0 col0\" >Model Prediction</th>\n",
       "      <th class=\"col_heading level0 col1\" >Confidence Quantile</th>\n",
       "    </tr>\n",
       "  </thead>\n",
       "  <tbody>\n",
       "    <tr>\n",
       "      <th id=\"T_ce56e_level0_row0\" class=\"row_heading level0 row0\" >509262</th>\n",
       "      <td id=\"T_ce56e_row0_col0\" class=\"data row0 col0\" >3</td>\n",
       "      <td id=\"T_ce56e_row0_col1\" class=\"data row0 col1\" >0.000000</td>\n",
       "    </tr>\n",
       "    <tr>\n",
       "      <th id=\"T_ce56e_level0_row1\" class=\"row_heading level0 row1\" >414913</th>\n",
       "      <td id=\"T_ce56e_row1_col0\" class=\"data row1 col0\" >3</td>\n",
       "      <td id=\"T_ce56e_row1_col1\" class=\"data row1 col1\" >0.000000</td>\n",
       "    </tr>\n",
       "    <tr>\n",
       "      <th id=\"T_ce56e_level0_row2\" class=\"row_heading level0 row2\" >165957</th>\n",
       "      <td id=\"T_ce56e_row2_col0\" class=\"data row2 col0\" >3</td>\n",
       "      <td id=\"T_ce56e_row2_col1\" class=\"data row2 col1\" >0.000000</td>\n",
       "    </tr>\n",
       "    <tr>\n",
       "      <th id=\"T_ce56e_level0_row3\" class=\"row_heading level0 row3\" >387191</th>\n",
       "      <td id=\"T_ce56e_row3_col0\" class=\"data row3 col0\" >3</td>\n",
       "      <td id=\"T_ce56e_row3_col1\" class=\"data row3 col1\" >0.000000</td>\n",
       "    </tr>\n",
       "    <tr>\n",
       "      <th id=\"T_ce56e_level0_row4\" class=\"row_heading level0 row4\" >327039</th>\n",
       "      <td id=\"T_ce56e_row4_col0\" class=\"data row4 col0\" >3</td>\n",
       "      <td id=\"T_ce56e_row4_col1\" class=\"data row4 col1\" >0.000000</td>\n",
       "    </tr>\n",
       "  </tbody>\n",
       "</table>\n"
      ]
     },
     "metadata": {},
     "output_type": "display_data"
    }
   ],
   "source": [
    "from mlchecks.checks import confidence_change\n",
    "\n",
    "confidence_change(train, validation, clf)"
   ]
  }
 ],
 "metadata": {
  "kernelspec": {
   "display_name": "Python 3 (ipykernel)",
   "language": "python",
   "name": "python3"
  },
  "language_info": {
   "codemirror_mode": {
    "name": "ipython",
    "version": 3
   },
   "file_extension": ".py",
   "mimetype": "text/x-python",
   "name": "python",
   "nbconvert_exporter": "python",
   "pygments_lexer": "ipython3",
   "version": "3.8.6"
  }
 },
 "nbformat": 4,
 "nbformat_minor": 5
}
