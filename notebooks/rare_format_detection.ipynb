{
 "cells": [
  {
   "cell_type": "markdown",
   "id": "475f3c46-3668-4889-89b4-3aae5e2a582d",
   "metadata": {},
   "source": [
    "# Generate Data"
   ]
  },
  {
   "cell_type": "code",
   "execution_count": 1,
   "id": "a8310fc2-9354-4fad-8704-b6c7a25971aa",
   "metadata": {},
   "outputs": [],
   "source": [
    "from datetime import datetime\n",
    "import numpy as np\n",
    "import pandas as pd\n",
    "from mlchecks import Dataset\n",
    "from mlchecks.checks.integrity.rare_format_detection import RareFormatDetection\n"
   ]
  },
  {
   "cell_type": "code",
   "execution_count": 2,
   "id": "463f05ce-e331-41db-b4f4-8d0c7752633f",
   "metadata": {},
   "outputs": [],
   "source": [
    "pd.set_option('display.max_columns', None)"
   ]
  },
  {
   "cell_type": "code",
   "execution_count": 3,
   "id": "48cdabda-e40f-4ed4-b1c1-e7569a4b100d",
   "metadata": {},
   "outputs": [],
   "source": [
    "np.random.seed(42)"
   ]
  },
  {
   "cell_type": "code",
   "execution_count": 4,
   "id": "41a8d163-12bc-4be2-a804-c3891f81bc74",
   "metadata": {},
   "outputs": [],
   "source": [
    "datelist = pd.date_range(start=datetime.today(), periods=200, freq='D', normalize=True)\n",
    "s_date = pd.Series([d.strftime('%Y-%m-%d') for d in datelist], name='date')\n",
    "\n",
    "emaillist = [''.join(np.random.choice(a=list('abcdefghijklmnopqrstuvwxyz'), p=[1/26]*26, size=np.random.choice(a=[6,7,8], p=[0.2, 0.5, 0.3]))) + '@gmail.com' for x in range(200)]\n",
    "s_email = pd.Series(emaillist, name='email')\n",
    "\n",
    "df = pd.DataFrame([s_date, s_email]).T"
   ]
  },
  {
   "cell_type": "code",
   "execution_count": 5,
   "id": "723123be-6f15-4f9d-965f-75a92a58acbd",
   "metadata": {},
   "outputs": [
    {
     "data": {
      "text/html": [
       "<div>\n",
       "<style scoped>\n",
       "    .dataframe tbody tr th:only-of-type {\n",
       "        vertical-align: middle;\n",
       "    }\n",
       "\n",
       "    .dataframe tbody tr th {\n",
       "        vertical-align: top;\n",
       "    }\n",
       "\n",
       "    .dataframe thead th {\n",
       "        text-align: right;\n",
       "    }\n",
       "</style>\n",
       "<table border=\"1\" class=\"dataframe\">\n",
       "  <thead>\n",
       "    <tr style=\"text-align: right;\">\n",
       "      <th></th>\n",
       "      <th>date</th>\n",
       "      <th>email</th>\n",
       "    </tr>\n",
       "  </thead>\n",
       "  <tbody>\n",
       "    <tr>\n",
       "      <th>0</th>\n",
       "      <td>2021-11-04</td>\n",
       "      <td>ytpeebw@gmail.com</td>\n",
       "    </tr>\n",
       "    <tr>\n",
       "      <th>1</th>\n",
       "      <td>2021-11-05</td>\n",
       "      <td>sazvfee@gmail.com</td>\n",
       "    </tr>\n",
       "    <tr>\n",
       "      <th>2</th>\n",
       "      <td>2021-11-06</td>\n",
       "      <td>nlhpdhj@gmail.com</td>\n",
       "    </tr>\n",
       "    <tr>\n",
       "      <th>3</th>\n",
       "      <td>2021-11-07</td>\n",
       "      <td>ufnpbpe@gmail.com</td>\n",
       "    </tr>\n",
       "    <tr>\n",
       "      <th>4</th>\n",
       "      <td>2021-11-08</td>\n",
       "      <td>yzvhcr@gmail.com</td>\n",
       "    </tr>\n",
       "  </tbody>\n",
       "</table>\n",
       "</div>"
      ],
      "text/plain": [
       "         date              email\n",
       "0  2021-11-04  ytpeebw@gmail.com\n",
       "1  2021-11-05  sazvfee@gmail.com\n",
       "2  2021-11-06  nlhpdhj@gmail.com\n",
       "3  2021-11-07  ufnpbpe@gmail.com\n",
       "4  2021-11-08   yzvhcr@gmail.com"
      ]
     },
     "execution_count": 5,
     "metadata": {},
     "output_type": "execute_result"
    }
   ],
   "source": [
    "df.head()"
   ]
  },
  {
   "cell_type": "markdown",
   "id": "e4b19ab5-ec8b-4085-b0fb-2a098dc9f9d3",
   "metadata": {},
   "source": [
    "# Run Check - Find no changes"
   ]
  },
  {
   "cell_type": "code",
   "execution_count": 6,
   "id": "180f3649-c1b6-4ac0-a888-fb911ec8c182",
   "metadata": {},
   "outputs": [
    {
     "data": {
      "text/html": [
       "<h4>Rare Format Detection</h4>"
      ]
     },
     "metadata": {},
     "output_type": "display_data"
    },
    {
     "data": {
      "text/html": [
       "<p>Check whether columns have common formats (e.g. \"XX-XX-XXXX\" for dates\") and detects values that don't match.</p>"
      ]
     },
     "metadata": {},
     "output_type": "display_data"
    },
    {
     "data": {
      "text/html": [
       "<p><b>&#x2713;</b> Nothing found</p>"
      ]
     },
     "metadata": {},
     "output_type": "display_data"
    }
   ],
   "source": [
    "ds = Dataset(df)\n",
    "check = RareFormatDetection()\n",
    "\n",
    "check.run(dataset=ds)"
   ]
  },
  {
   "cell_type": "markdown",
   "id": "e9d2f508-037e-45a2-b032-64ab4cbd9007",
   "metadata": {},
   "source": [
    "# Induce changes to data"
   ]
  },
  {
   "cell_type": "code",
   "execution_count": 7,
   "id": "e2ce6650-6f2f-486b-b10d-a1a06e0e942d",
   "metadata": {},
   "outputs": [],
   "source": [
    "# Change dates to different format:\n",
    "df['date'].loc[0:2] = [datetime.strptime(d, '%Y-%m-%d').strftime('%Y-%b-%d') for d in df['date'].loc[0:2]]\n",
    "\n",
    "# Change emails to have mistakes in format\n",
    "df['email'].loc[[0,1]] = ['myname@gmail.com1', 'myname@gmail.co']"
   ]
  },
  {
   "cell_type": "code",
   "execution_count": 8,
   "id": "4c880fc3-b7b4-4206-a2b7-216eb769af54",
   "metadata": {},
   "outputs": [
    {
     "data": {
      "text/html": [
       "<div>\n",
       "<style scoped>\n",
       "    .dataframe tbody tr th:only-of-type {\n",
       "        vertical-align: middle;\n",
       "    }\n",
       "\n",
       "    .dataframe tbody tr th {\n",
       "        vertical-align: top;\n",
       "    }\n",
       "\n",
       "    .dataframe thead th {\n",
       "        text-align: right;\n",
       "    }\n",
       "</style>\n",
       "<table border=\"1\" class=\"dataframe\">\n",
       "  <thead>\n",
       "    <tr style=\"text-align: right;\">\n",
       "      <th></th>\n",
       "      <th>date</th>\n",
       "      <th>email</th>\n",
       "    </tr>\n",
       "  </thead>\n",
       "  <tbody>\n",
       "    <tr>\n",
       "      <th>0</th>\n",
       "      <td>2021-Nov-04</td>\n",
       "      <td>myname@gmail.com1</td>\n",
       "    </tr>\n",
       "    <tr>\n",
       "      <th>1</th>\n",
       "      <td>2021-Nov-05</td>\n",
       "      <td>myname@gmail.co</td>\n",
       "    </tr>\n",
       "    <tr>\n",
       "      <th>2</th>\n",
       "      <td>2021-Nov-06</td>\n",
       "      <td>nlhpdhj@gmail.com</td>\n",
       "    </tr>\n",
       "    <tr>\n",
       "      <th>3</th>\n",
       "      <td>2021-11-07</td>\n",
       "      <td>ufnpbpe@gmail.com</td>\n",
       "    </tr>\n",
       "    <tr>\n",
       "      <th>4</th>\n",
       "      <td>2021-11-08</td>\n",
       "      <td>yzvhcr@gmail.com</td>\n",
       "    </tr>\n",
       "  </tbody>\n",
       "</table>\n",
       "</div>"
      ],
      "text/plain": [
       "          date              email\n",
       "0  2021-Nov-04  myname@gmail.com1\n",
       "1  2021-Nov-05    myname@gmail.co\n",
       "2  2021-Nov-06  nlhpdhj@gmail.com\n",
       "3   2021-11-07  ufnpbpe@gmail.com\n",
       "4   2021-11-08   yzvhcr@gmail.com"
      ]
     },
     "execution_count": 8,
     "metadata": {},
     "output_type": "execute_result"
    }
   ],
   "source": [
    "df.head()"
   ]
  },
  {
   "cell_type": "markdown",
   "id": "b76a3272-ffb3-41c6-a039-278b89f37af3",
   "metadata": {},
   "source": [
    "# Run Check - Find rare formats"
   ]
  },
  {
   "cell_type": "code",
   "execution_count": 9,
   "id": "61b849e4-d17d-4342-b061-2d7fdf7ad9b4",
   "metadata": {},
   "outputs": [
    {
     "data": {
      "text/html": [
       "<h4>Rare Format Detection</h4>"
      ]
     },
     "metadata": {},
     "output_type": "display_data"
    },
    {
     "data": {
      "text/html": [
       "<p>Check whether columns have common formats (e.g. \"XX-XX-XXXX\" for dates\") and detects values that don't match.</p>"
      ]
     },
     "metadata": {},
     "output_type": "display_data"
    },
    {
     "data": {
      "text/html": [
       "\n",
       "\n",
       "Column date:"
      ]
     },
     "metadata": {},
     "output_type": "display_data"
    },
    {
     "data": {
      "text/html": [
       "<style type=\"text/css\">\n",
       "#T_5b4f4_ th {\n",
       "  text-align: left;\n",
       "}\n",
       "#T_5b4f4_ td {\n",
       "  text-align: left;\n",
       "}\n",
       "</style>\n",
       "<table id=\"T_5b4f4_\">\n",
       "  <thead>\n",
       "    <tr>\n",
       "      <th class=\"blank level0\" >&nbsp;</th>\n",
       "      <th class=\"col_heading level0 col0\" >digits and letters format (case sensitive)</th>\n",
       "    </tr>\n",
       "  </thead>\n",
       "  <tbody>\n",
       "    <tr>\n",
       "      <th id=\"T_5b4f4_level0_row0\" class=\"row_heading level0 row0\" >ratio of rare patterns (out of all patterns</th>\n",
       "      <td id=\"T_5b4f4_row0_col0\" class=\"data row0 col0\" >1.50% (3)</td>\n",
       "    </tr>\n",
       "    <tr>\n",
       "      <th id=\"T_5b4f4_level0_row1\" class=\"row_heading level0 row1\" >common formats</th>\n",
       "      <td id=\"T_5b4f4_row1_col0\" class=\"data row1 col0\" >['2020-00-00']</td>\n",
       "    </tr>\n",
       "    <tr>\n",
       "      <th id=\"T_5b4f4_level0_row2\" class=\"row_heading level0 row2\" >examples for values in common formats</th>\n",
       "      <td id=\"T_5b4f4_row2_col0\" class=\"data row2 col0\" >['2021-11-07']</td>\n",
       "    </tr>\n",
       "    <tr>\n",
       "      <th id=\"T_5b4f4_level0_row3\" class=\"row_heading level0 row3\" >values in rare formats</th>\n",
       "      <td id=\"T_5b4f4_row3_col0\" class=\"data row3 col0\" >['2021-Nov-04', '2021-Nov-05', '2021-Nov-06']</td>\n",
       "    </tr>\n",
       "  </tbody>\n",
       "</table>\n"
      ]
     },
     "metadata": {},
     "output_type": "display_data"
    },
    {
     "data": {
      "text/html": [
       "\n",
       "\n",
       "Column email:"
      ]
     },
     "metadata": {},
     "output_type": "display_data"
    },
    {
     "data": {
      "text/html": [
       "<style type=\"text/css\">\n",
       "#T_f468b_ th {\n",
       "  text-align: left;\n",
       "}\n",
       "#T_f468b_ td {\n",
       "  text-align: left;\n",
       "}\n",
       "</style>\n",
       "<table id=\"T_f468b_\">\n",
       "  <thead>\n",
       "    <tr>\n",
       "      <th class=\"blank level0\" >&nbsp;</th>\n",
       "      <th class=\"col_heading level0 col0\" >digits and letters format (case sensitive)</th>\n",
       "    </tr>\n",
       "  </thead>\n",
       "  <tbody>\n",
       "    <tr>\n",
       "      <th id=\"T_f468b_level0_row0\" class=\"row_heading level0 row0\" >ratio of rare patterns (out of all patterns</th>\n",
       "      <td id=\"T_f468b_row0_col0\" class=\"data row0 col0\" >1.00% (2)</td>\n",
       "    </tr>\n",
       "    <tr>\n",
       "      <th id=\"T_f468b_level0_row1\" class=\"row_heading level0 row1\" >common formats</th>\n",
       "      <td id=\"T_f468b_row1_col0\" class=\"data row1 col0\" >['xxxxxxx@gmail.com', 'xxxxxxxx@gmail.com', 'xxxxxx@gmail.com']</td>\n",
       "    </tr>\n",
       "    <tr>\n",
       "      <th id=\"T_f468b_level0_row2\" class=\"row_heading level0 row2\" >examples for values in common formats</th>\n",
       "      <td id=\"T_f468b_row2_col0\" class=\"data row2 col0\" >['nlhpdhj@gmail.com', 'cfbikhvj@gmail.com', 'yzvhcr@gmail.com']</td>\n",
       "    </tr>\n",
       "    <tr>\n",
       "      <th id=\"T_f468b_level0_row3\" class=\"row_heading level0 row3\" >values in rare formats</th>\n",
       "      <td id=\"T_f468b_row3_col0\" class=\"data row3 col0\" >['myname@gmail.com1', 'myname@gmail.co']</td>\n",
       "    </tr>\n",
       "  </tbody>\n",
       "</table>\n"
      ]
     },
     "metadata": {},
     "output_type": "display_data"
    }
   ],
   "source": [
    "ds = Dataset(df)\n",
    "check = RareFormatDetection()\n",
    "\n",
    "check.run(dataset=ds)"
   ]
  },
  {
   "cell_type": "markdown",
   "id": "497de0df-0984-4cd6-83a8-699aaa194157",
   "metadata": {},
   "source": [
    "# test - to remove!"
   ]
  },
  {
   "cell_type": "code",
   "execution_count": 10,
   "id": "d087ebe4-b5d3-479e-80d2-ddda7c602f5e",
   "metadata": {},
   "outputs": [],
   "source": [
    "from urllib.request import urlopen"
   ]
  },
  {
   "cell_type": "code",
   "execution_count": 11,
   "id": "f7e2091d-9f5d-48fc-bc5e-cc12736011df",
   "metadata": {},
   "outputs": [],
   "source": [
    "name_data = urlopen('https://archive.ics.uci.edu/ml/machine-learning-databases/adult/adult.names')\n",
    "lines = [l.decode(\"utf-8\") for l in name_data if ':' in l.decode(\"utf-8\") and '|' not in l.decode(\"utf-8\")]\n",
    "\n",
    "features = [l.split(':')[0] for l in lines]\n",
    "label_name = 'income'\n",
    "\n",
    "cat_features = [l.split(':')[0] for l in lines if 'continuous' not in l]\n",
    "\n",
    "train_df = pd.read_csv('https://archive.ics.uci.edu/ml/machine-learning-databases/adult/adult.data',\n",
    "                       names=features + [label_name])\n",
    "val_df = pd.read_csv('https://archive.ics.uci.edu/ml/machine-learning-databases/adult/adult.test',\n",
    "                      names=features + [label_name], skiprows=1)"
   ]
  },
  {
   "cell_type": "code",
   "execution_count": 12,
   "id": "3d46a76a-f3bc-44c4-a14e-fdfaae19cab2",
   "metadata": {},
   "outputs": [
    {
     "data": {
      "text/html": [
       "<h4>Rare Format Detection</h4>"
      ]
     },
     "metadata": {},
     "output_type": "display_data"
    },
    {
     "data": {
      "text/html": [
       "<p>Check whether columns have common formats (e.g. \"XX-XX-XXXX\" for dates\") and detects values that don't match.</p>"
      ]
     },
     "metadata": {},
     "output_type": "display_data"
    },
    {
     "data": {
      "text/html": [
       "<p><b>&#x2713;</b> Nothing found</p>"
      ]
     },
     "metadata": {},
     "output_type": "display_data"
    }
   ],
   "source": [
    "ds = Dataset(train_df)\n",
    "check = RareFormatDetection()\n",
    "\n",
    "check.run(dataset=ds)"
   ]
  },
  {
   "cell_type": "code",
   "execution_count": 13,
   "id": "5b86b6a1-3150-43cb-bc1e-c72fbeb7669a",
   "metadata": {},
   "outputs": [
    {
     "data": {
      "text/plain": [
       "0       31042\n",
       "1902      202\n",
       "1977      168\n",
       "1887      159\n",
       "1848       51\n",
       "        ...  \n",
       "2080        1\n",
       "1539        1\n",
       "1844        1\n",
       "2489        1\n",
       "1411        1\n",
       "Name: capital-loss, Length: 92, dtype: int64"
      ]
     },
     "execution_count": 13,
     "metadata": {},
     "output_type": "execute_result"
    }
   ],
   "source": [
    "train_df['capital-loss'].value_counts()"
   ]
  },
  {
   "cell_type": "code",
   "execution_count": 14,
   "id": "656679e4-58a5-445d-afa9-462a4dd85058",
   "metadata": {},
   "outputs": [
    {
     "data": {
      "text/html": [
       "<div>\n",
       "<style scoped>\n",
       "    .dataframe tbody tr th:only-of-type {\n",
       "        vertical-align: middle;\n",
       "    }\n",
       "\n",
       "    .dataframe tbody tr th {\n",
       "        vertical-align: top;\n",
       "    }\n",
       "\n",
       "    .dataframe thead th {\n",
       "        text-align: right;\n",
       "    }\n",
       "</style>\n",
       "<table border=\"1\" class=\"dataframe\">\n",
       "  <thead>\n",
       "    <tr style=\"text-align: right;\">\n",
       "      <th></th>\n",
       "      <th>x</th>\n",
       "      <th>y</th>\n",
       "    </tr>\n",
       "  </thead>\n",
       "  <tbody>\n",
       "    <tr>\n",
       "      <th>0</th>\n",
       "      <td>3</td>\n",
       "      <td>0</td>\n",
       "    </tr>\n",
       "    <tr>\n",
       "      <th>2</th>\n",
       "      <td>5</td>\n",
       "      <td>2</td>\n",
       "    </tr>\n",
       "    <tr>\n",
       "      <th>3</th>\n",
       "      <td>7</td>\n",
       "      <td>3</td>\n",
       "    </tr>\n",
       "  </tbody>\n",
       "</table>\n",
       "</div>"
      ],
      "text/plain": [
       "   x  y\n",
       "0  3  0\n",
       "2  5  2\n",
       "3  7  3"
      ]
     },
     "execution_count": 14,
     "metadata": {},
     "output_type": "execute_result"
    }
   ],
   "source": [
    "df = pd.DataFrame({'x': [3,3,5,7,7], 'y': [0,1,2,3,4]})\n",
    "df.groupby('x').head(1)"
   ]
  },
  {
   "cell_type": "code",
   "execution_count": null,
   "id": "937f00e2-690b-4af6-88f1-c74275de7ee9",
   "metadata": {},
   "outputs": [],
   "source": []
  }
 ],
 "metadata": {
  "kernelspec": {
   "display_name": "Python 3 (ipykernel)",
   "language": "python",
   "name": "python3"
  },
  "language_info": {
   "codemirror_mode": {
    "name": "ipython",
    "version": 3
   },
   "file_extension": ".py",
   "mimetype": "text/x-python",
   "name": "python",
   "nbconvert_exporter": "python",
   "pygments_lexer": "ipython3",
   "version": "3.8.6"
  }
 },
 "nbformat": 4,
 "nbformat_minor": 5
}
