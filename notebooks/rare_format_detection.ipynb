{
 "cells": [
  {
   "cell_type": "markdown",
   "id": "475f3c46-3668-4889-89b4-3aae5e2a582d",
   "metadata": {},
   "source": [
    "# Generate Data"
   ]
  },
  {
   "cell_type": "code",
   "execution_count": 1,
   "id": "a8310fc2-9354-4fad-8704-b6c7a25971aa",
   "metadata": {},
   "outputs": [],
   "source": [
    "from datetime import datetime\n",
    "import numpy as np\n",
    "import pandas as pd\n",
    "from mlchecks import Dataset\n",
    "from mlchecks.checks.integrity.rare_format_detection import RareFormatDetection\n"
   ]
  },
  {
   "cell_type": "code",
   "execution_count": 2,
   "id": "463f05ce-e331-41db-b4f4-8d0c7752633f",
   "metadata": {},
   "outputs": [],
   "source": [
    "pd.set_option('display.max_columns', None)"
   ]
  },
  {
   "cell_type": "code",
   "execution_count": 3,
   "id": "48cdabda-e40f-4ed4-b1c1-e7569a4b100d",
   "metadata": {},
   "outputs": [],
   "source": [
    "np.random.seed(42)"
   ]
  },
  {
   "cell_type": "code",
   "execution_count": 4,
   "id": "41a8d163-12bc-4be2-a804-c3891f81bc74",
   "metadata": {},
   "outputs": [],
   "source": [
    "datelist = pd.date_range(start=datetime.today(), periods=200, freq='D', normalize=True)\n",
    "s_date = pd.Series([d.strftime('%Y-%m-%d') for d in datelist], name='date')\n",
    "\n",
    "emaillist = [''.join(np.random.choice(a=list('abcdefghijklmnopqrstuvwxyz'), p=[1/26]*26, size=np.random.choice(a=[6,7,8], p=[0.2, 0.5, 0.3]))) + '@gmail.com' for x in range(200)]\n",
    "s_email = pd.Series(emaillist, name='email')\n",
    "\n",
    "df = pd.DataFrame([s_date, s_email]).T"
   ]
  },
  {
   "cell_type": "code",
   "execution_count": 5,
   "id": "723123be-6f15-4f9d-965f-75a92a58acbd",
   "metadata": {},
   "outputs": [
    {
     "data": {
      "text/html": [
       "<div>\n",
       "<style scoped>\n",
       "    .dataframe tbody tr th:only-of-type {\n",
       "        vertical-align: middle;\n",
       "    }\n",
       "\n",
       "    .dataframe tbody tr th {\n",
       "        vertical-align: top;\n",
       "    }\n",
       "\n",
       "    .dataframe thead th {\n",
       "        text-align: right;\n",
       "    }\n",
       "</style>\n",
       "<table border=\"1\" class=\"dataframe\">\n",
       "  <thead>\n",
       "    <tr style=\"text-align: right;\">\n",
       "      <th></th>\n",
       "      <th>date</th>\n",
       "      <th>email</th>\n",
       "    </tr>\n",
       "  </thead>\n",
       "  <tbody>\n",
       "    <tr>\n",
       "      <th>0</th>\n",
       "      <td>2021-10-23</td>\n",
       "      <td>ytpeebw@gmail.com</td>\n",
       "    </tr>\n",
       "    <tr>\n",
       "      <th>1</th>\n",
       "      <td>2021-10-24</td>\n",
       "      <td>sazvfee@gmail.com</td>\n",
       "    </tr>\n",
       "    <tr>\n",
       "      <th>2</th>\n",
       "      <td>2021-10-25</td>\n",
       "      <td>nlhpdhj@gmail.com</td>\n",
       "    </tr>\n",
       "    <tr>\n",
       "      <th>3</th>\n",
       "      <td>2021-10-26</td>\n",
       "      <td>ufnpbpe@gmail.com</td>\n",
       "    </tr>\n",
       "    <tr>\n",
       "      <th>4</th>\n",
       "      <td>2021-10-27</td>\n",
       "      <td>yzvhcr@gmail.com</td>\n",
       "    </tr>\n",
       "  </tbody>\n",
       "</table>\n",
       "</div>"
      ],
      "text/plain": [
       "         date              email\n",
       "0  2021-10-23  ytpeebw@gmail.com\n",
       "1  2021-10-24  sazvfee@gmail.com\n",
       "2  2021-10-25  nlhpdhj@gmail.com\n",
       "3  2021-10-26  ufnpbpe@gmail.com\n",
       "4  2021-10-27   yzvhcr@gmail.com"
      ]
     },
     "execution_count": 5,
     "metadata": {},
     "output_type": "execute_result"
    }
   ],
   "source": [
    "df.head()"
   ]
  },
  {
   "cell_type": "markdown",
   "id": "e4b19ab5-ec8b-4085-b0fb-2a098dc9f9d3",
   "metadata": {},
   "source": [
    "# Run Check - Find no changes"
   ]
  },
  {
   "cell_type": "code",
   "execution_count": 6,
   "id": "180f3649-c1b6-4ac0-a888-fb911ec8c182",
   "metadata": {},
   "outputs": [
    {
     "data": {
      "text/html": [
       "<h4>Rare Format Detection</h4>"
      ]
     },
     "metadata": {},
     "output_type": "display_data"
    },
    {
     "data": {
      "text/html": [
       "<p>Check whether columns have common formats (e.g. \"XX-XX-XXXX\" for dates\") and detects values that don't match.</p>"
      ]
     },
     "metadata": {},
     "output_type": "display_data"
    },
    {
     "data": {
      "text/html": [
       "<p><b>&#x2713;</b> Nothing found</p>"
      ]
     },
     "metadata": {},
     "output_type": "display_data"
    }
   ],
   "source": [
    "ds = Dataset(df)\n",
    "check = RareFormatDetection()\n",
    "\n",
    "check.run(dataset=ds)"
   ]
  },
  {
   "cell_type": "markdown",
   "id": "e9d2f508-037e-45a2-b032-64ab4cbd9007",
   "metadata": {},
   "source": [
    "# Induce changes to data"
   ]
  },
  {
   "cell_type": "code",
   "execution_count": 7,
   "id": "e2ce6650-6f2f-486b-b10d-a1a06e0e942d",
   "metadata": {},
   "outputs": [],
   "source": [
    "# Change dates to different format:\n",
    "df['date'].loc[0:2] = [datetime.strptime(d, '%Y-%m-%d').strftime('%Y-%b-%d') for d in df['date'].loc[0:2]]\n",
    "\n",
    "# Change emails to have mistakes in format\n",
    "df['email'].loc[[0,1]] = ['myname@gmail.com1', 'myname@gmail.co']"
   ]
  },
  {
   "cell_type": "code",
   "execution_count": 8,
   "id": "4c880fc3-b7b4-4206-a2b7-216eb769af54",
   "metadata": {},
   "outputs": [
    {
     "data": {
      "text/html": [
       "<div>\n",
       "<style scoped>\n",
       "    .dataframe tbody tr th:only-of-type {\n",
       "        vertical-align: middle;\n",
       "    }\n",
       "\n",
       "    .dataframe tbody tr th {\n",
       "        vertical-align: top;\n",
       "    }\n",
       "\n",
       "    .dataframe thead th {\n",
       "        text-align: right;\n",
       "    }\n",
       "</style>\n",
       "<table border=\"1\" class=\"dataframe\">\n",
       "  <thead>\n",
       "    <tr style=\"text-align: right;\">\n",
       "      <th></th>\n",
       "      <th>date</th>\n",
       "      <th>email</th>\n",
       "    </tr>\n",
       "  </thead>\n",
       "  <tbody>\n",
       "    <tr>\n",
       "      <th>0</th>\n",
       "      <td>2021-Oct-23</td>\n",
       "      <td>myname@gmail.com1</td>\n",
       "    </tr>\n",
       "    <tr>\n",
       "      <th>1</th>\n",
       "      <td>2021-Oct-24</td>\n",
       "      <td>myname@gmail.co</td>\n",
       "    </tr>\n",
       "    <tr>\n",
       "      <th>2</th>\n",
       "      <td>2021-Oct-25</td>\n",
       "      <td>nlhpdhj@gmail.com</td>\n",
       "    </tr>\n",
       "    <tr>\n",
       "      <th>3</th>\n",
       "      <td>2021-10-26</td>\n",
       "      <td>ufnpbpe@gmail.com</td>\n",
       "    </tr>\n",
       "    <tr>\n",
       "      <th>4</th>\n",
       "      <td>2021-10-27</td>\n",
       "      <td>yzvhcr@gmail.com</td>\n",
       "    </tr>\n",
       "  </tbody>\n",
       "</table>\n",
       "</div>"
      ],
      "text/plain": [
       "          date              email\n",
       "0  2021-Oct-23  myname@gmail.com1\n",
       "1  2021-Oct-24    myname@gmail.co\n",
       "2  2021-Oct-25  nlhpdhj@gmail.com\n",
       "3   2021-10-26  ufnpbpe@gmail.com\n",
       "4   2021-10-27   yzvhcr@gmail.com"
      ]
     },
     "execution_count": 8,
     "metadata": {},
     "output_type": "execute_result"
    }
   ],
   "source": [
    "df.head()"
   ]
  },
  {
   "cell_type": "markdown",
   "id": "b76a3272-ffb3-41c6-a039-278b89f37af3",
   "metadata": {},
   "source": [
    "# Run Check - Find rare formats"
   ]
  },
  {
   "cell_type": "code",
   "execution_count": 9,
   "id": "61b849e4-d17d-4342-b061-2d7fdf7ad9b4",
   "metadata": {},
   "outputs": [
    {
     "data": {
      "text/html": [
       "<h4>Rare Format Detection</h4>"
      ]
     },
     "metadata": {},
     "output_type": "display_data"
    },
    {
     "data": {
      "text/html": [
       "<p>Check whether columns have common formats (e.g. \"XX-XX-XXXX\" for dates\") and detects values that don't match.</p>"
      ]
     },
     "metadata": {},
     "output_type": "display_data"
    },
    {
     "data": {
      "text/html": [
       "\n",
       "\n",
       "Column date:"
      ]
     },
     "metadata": {},
     "output_type": "display_data"
    },
    {
     "data": {
      "text/html": [
       "<style type=\"text/css\">\n",
       "#T_7a292_ th {\n",
       "  text-align: left;\n",
       "}\n",
       "#T_7a292_ td {\n",
       "  text-align: left;\n",
       "}\n",
       "</style>\n",
       "<table id=\"T_7a292_\">\n",
       "  <thead>\n",
       "    <tr>\n",
       "      <th class=\"blank level0\" >&nbsp;</th>\n",
       "      <th class=\"col_heading level0 col0\" >digits and letters format (case sensitive)</th>\n",
       "    </tr>\n",
       "  </thead>\n",
       "  <tbody>\n",
       "    <tr>\n",
       "      <th id=\"T_7a292_level0_row0\" class=\"row_heading level0 row0\" >ratio of rare patterns to common patterns</th>\n",
       "      <td id=\"T_7a292_row0_col0\" class=\"data row0 col0\" >1.52%</td>\n",
       "    </tr>\n",
       "    <tr>\n",
       "      <th id=\"T_7a292_level0_row1\" class=\"row_heading level0 row1\" >common formats</th>\n",
       "      <td id=\"T_7a292_row1_col0\" class=\"data row1 col0\" >['0000-00-00']</td>\n",
       "    </tr>\n",
       "    <tr>\n",
       "      <th id=\"T_7a292_level0_row2\" class=\"row_heading level0 row2\" >examples for values in common formats</th>\n",
       "      <td id=\"T_7a292_row2_col0\" class=\"data row2 col0\" >['2021-10-26']</td>\n",
       "    </tr>\n",
       "    <tr>\n",
       "      <th id=\"T_7a292_level0_row3\" class=\"row_heading level0 row3\" >values in rare formats</th>\n",
       "      <td id=\"T_7a292_row3_col0\" class=\"data row3 col0\" >['2021-Oct-23', '2021-Oct-24', '2021-Oct-25']</td>\n",
       "    </tr>\n",
       "  </tbody>\n",
       "</table>\n"
      ]
     },
     "metadata": {},
     "output_type": "display_data"
    },
    {
     "data": {
      "text/html": [
       "\n",
       "\n",
       "Column email:"
      ]
     },
     "metadata": {},
     "output_type": "display_data"
    },
    {
     "data": {
      "text/html": [
       "<style type=\"text/css\">\n",
       "#T_f3411_ th {\n",
       "  text-align: left;\n",
       "}\n",
       "#T_f3411_ td {\n",
       "  text-align: left;\n",
       "}\n",
       "</style>\n",
       "<table id=\"T_f3411_\">\n",
       "  <thead>\n",
       "    <tr>\n",
       "      <th class=\"blank level0\" >&nbsp;</th>\n",
       "      <th class=\"col_heading level0 col0\" >digits and letters format (case sensitive)</th>\n",
       "    </tr>\n",
       "  </thead>\n",
       "  <tbody>\n",
       "    <tr>\n",
       "      <th id=\"T_f3411_level0_row0\" class=\"row_heading level0 row0\" >ratio of rare patterns to common patterns</th>\n",
       "      <td id=\"T_f3411_row0_col0\" class=\"data row0 col0\" >1.01%</td>\n",
       "    </tr>\n",
       "    <tr>\n",
       "      <th id=\"T_f3411_level0_row1\" class=\"row_heading level0 row1\" >common formats</th>\n",
       "      <td id=\"T_f3411_row1_col0\" class=\"data row1 col0\" >['xxxxxxx@xxxxx.xxx', 'xxxxxxxx@xxxxx.xxx', 'xxxxxx@xxxxx.xxx']</td>\n",
       "    </tr>\n",
       "    <tr>\n",
       "      <th id=\"T_f3411_level0_row2\" class=\"row_heading level0 row2\" >examples for values in common formats</th>\n",
       "      <td id=\"T_f3411_row2_col0\" class=\"data row2 col0\" >['nlhpdhj@gmail.com', 'cfbikhvj@gmail.com', 'yzvhcr@gmail.com']</td>\n",
       "    </tr>\n",
       "    <tr>\n",
       "      <th id=\"T_f3411_level0_row3\" class=\"row_heading level0 row3\" >values in rare formats</th>\n",
       "      <td id=\"T_f3411_row3_col0\" class=\"data row3 col0\" >['myname@gmail.com1', 'myname@gmail.co']</td>\n",
       "    </tr>\n",
       "  </tbody>\n",
       "</table>\n"
      ]
     },
     "metadata": {},
     "output_type": "display_data"
    }
   ],
   "source": [
    "ds = Dataset(df)\n",
    "check = RareFormatDetection()\n",
    "\n",
    "check.run(dataset=ds)"
   ]
  },
  {
   "cell_type": "code",
   "execution_count": 10,
   "id": "d8de7cf4-64dd-40ae-9f4a-846ec51caf1b",
   "metadata": {},
   "outputs": [],
   "source": [
    "x = check.run(dataset=ds)"
   ]
  },
  {
   "cell_type": "code",
   "execution_count": 11,
   "id": "49626f52-39fa-47ff-b2a9-d0f037e41c85",
   "metadata": {},
   "outputs": [
    {
     "data": {
      "text/plain": [
       "{'date':                                           digits and letters format (case sensitive)\n",
       " ratio of rare patterns to common patterns                                      1.52%\n",
       " common formats                                                          [0000-00-00]\n",
       " examples for values in common formats                                   [2021-10-26]\n",
       " values in rare formats                       [2021-Oct-23, 2021-Oct-24, 2021-Oct-25],\n",
       " 'email':                                                   digits and letters format (case sensitive)\n",
       " ratio of rare patterns to common patterns                                              1.01%\n",
       " common formats                             [xxxxxxx@xxxxx.xxx, xxxxxxxx@xxxxx.xxx, xxxxxx...\n",
       " examples for values in common formats      [nlhpdhj@gmail.com, cfbikhvj@gmail.com, yzvhcr...\n",
       " values in rare formats                                  [myname@gmail.com1, myname@gmail.co]}"
      ]
     },
     "execution_count": 11,
     "metadata": {},
     "output_type": "execute_result"
    }
   ],
   "source": [
    "x.value"
   ]
  }
 ],
 "metadata": {
  "kernelspec": {
   "display_name": "Python 3 (ipykernel)",
   "language": "python",
   "name": "python3"
  },
  "language_info": {
   "codemirror_mode": {
    "name": "ipython",
    "version": 3
   },
   "file_extension": ".py",
   "mimetype": "text/x-python",
   "name": "python",
   "nbconvert_exporter": "python",
   "pygments_lexer": "ipython3",
   "version": "3.8.5"
  }
 },
 "nbformat": 4,
 "nbformat_minor": 5
}
