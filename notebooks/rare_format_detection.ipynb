{
 "cells": [
  {
   "cell_type": "markdown",
   "id": "475f3c46-3668-4889-89b4-3aae5e2a582d",
   "metadata": {},
   "source": [
    "# Generate Data"
   ]
  },
  {
   "cell_type": "code",
   "execution_count": 1,
   "id": "a8310fc2-9354-4fad-8704-b6c7a25971aa",
   "metadata": {},
   "outputs": [],
   "source": [
    "from datetime import datetime\n",
    "import numpy as np\n",
    "import pandas as pd\n",
    "from mlchecks import Dataset, validate_dataset, validate_dataset_or_dataframe\n",
    "from mlchecks.checks.integrity.rare_format_detection import RareFormatDetection\n"
   ]
  },
  {
   "cell_type": "code",
   "execution_count": 2,
   "id": "463f05ce-e331-41db-b4f4-8d0c7752633f",
   "metadata": {},
   "outputs": [],
   "source": [
    "pd.set_option('display.max_columns', None)"
   ]
  },
  {
   "cell_type": "code",
   "execution_count": 3,
   "id": "48cdabda-e40f-4ed4-b1c1-e7569a4b100d",
   "metadata": {},
   "outputs": [],
   "source": [
    "np.random.seed(42)"
   ]
  },
  {
   "cell_type": "code",
   "execution_count": 4,
   "id": "41a8d163-12bc-4be2-a804-c3891f81bc74",
   "metadata": {},
   "outputs": [],
   "source": [
    "datelist = pd.date_range(start=datetime.today(), periods=200, freq='D', normalize=True)\n",
    "s_date = pd.Series([d.strftime('%Y-%m-%d') for d in datelist], name='date')\n",
    "\n",
    "emaillist = [''.join(np.random.choice(a=list('abcdefghijklmnopqrstuvwxyz'), p=[1/26]*26, size=np.random.choice(a=[6,7,8], p=[0.2, 0.5, 0.3]))) + '@gmail.com' for x in range(200)]\n",
    "s_email = pd.Series(emaillist, name='email')\n",
    "\n",
    "df = pd.DataFrame([s_date, s_email]).T"
   ]
  },
  {
   "cell_type": "code",
   "execution_count": 5,
   "id": "723123be-6f15-4f9d-965f-75a92a58acbd",
   "metadata": {},
   "outputs": [
    {
     "data": {
      "text/html": [
       "<div>\n",
       "<style scoped>\n",
       "    .dataframe tbody tr th:only-of-type {\n",
       "        vertical-align: middle;\n",
       "    }\n",
       "\n",
       "    .dataframe tbody tr th {\n",
       "        vertical-align: top;\n",
       "    }\n",
       "\n",
       "    .dataframe thead th {\n",
       "        text-align: right;\n",
       "    }\n",
       "</style>\n",
       "<table border=\"1\" class=\"dataframe\">\n",
       "  <thead>\n",
       "    <tr style=\"text-align: right;\">\n",
       "      <th></th>\n",
       "      <th>date</th>\n",
       "      <th>email</th>\n",
       "    </tr>\n",
       "  </thead>\n",
       "  <tbody>\n",
       "    <tr>\n",
       "      <th>0</th>\n",
       "      <td>2021-10-17</td>\n",
       "      <td>ytpeebw@gmail.com</td>\n",
       "    </tr>\n",
       "    <tr>\n",
       "      <th>1</th>\n",
       "      <td>2021-10-18</td>\n",
       "      <td>sazvfee@gmail.com</td>\n",
       "    </tr>\n",
       "    <tr>\n",
       "      <th>2</th>\n",
       "      <td>2021-10-19</td>\n",
       "      <td>nlhpdhj@gmail.com</td>\n",
       "    </tr>\n",
       "    <tr>\n",
       "      <th>3</th>\n",
       "      <td>2021-10-20</td>\n",
       "      <td>ufnpbpe@gmail.com</td>\n",
       "    </tr>\n",
       "    <tr>\n",
       "      <th>4</th>\n",
       "      <td>2021-10-21</td>\n",
       "      <td>yzvhcr@gmail.com</td>\n",
       "    </tr>\n",
       "  </tbody>\n",
       "</table>\n",
       "</div>"
      ],
      "text/plain": [
       "         date              email\n",
       "0  2021-10-17  ytpeebw@gmail.com\n",
       "1  2021-10-18  sazvfee@gmail.com\n",
       "2  2021-10-19  nlhpdhj@gmail.com\n",
       "3  2021-10-20  ufnpbpe@gmail.com\n",
       "4  2021-10-21   yzvhcr@gmail.com"
      ]
     },
     "execution_count": 5,
     "metadata": {},
     "output_type": "execute_result"
    }
   ],
   "source": [
    "df.head()"
   ]
  },
  {
   "cell_type": "markdown",
   "id": "e4b19ab5-ec8b-4085-b0fb-2a098dc9f9d3",
   "metadata": {},
   "source": [
    "# Run Check - Find no changes"
   ]
  },
  {
   "cell_type": "code",
   "execution_count": 6,
   "id": "180f3649-c1b6-4ac0-a888-fb911ec8c182",
   "metadata": {},
   "outputs": [
    {
     "name": "stderr",
     "output_type": "stream",
     "text": [
      "c:\\users\\nirhu\\documents\\deepchecks\\mlchecks\\mlchecks\\base\\dataset.py:57: UserWarning: Pandas doesn't allow columns to be created via a new attribute name - see https://pandas.pydata.org/pandas-docs/stable/indexing.html#attribute-access\n",
      "  self._features = [x for x in df.columns if x not in {label, index, date}]\n",
      "c:\\users\\nirhu\\documents\\deepchecks\\mlchecks\\mlchecks\\base\\dataset.py:67: UserWarning: Pandas doesn't allow columns to be created via a new attribute name - see https://pandas.pydata.org/pandas-docs/stable/indexing.html#attribute-access\n",
      "  self._cat_features = self.infer_categorical_features()\n"
     ]
    },
    {
     "data": {
      "text/html": [
       "\n",
       "    <h4>Rare Format Detection</h4>\n",
       "    <p>Check whether columns have common formats (e.g. \"XX-XX-XXXX\" for dates\") and detects values that don't match.</p>\n",
       "    <div><p><b>&#x2713;</b> Nothing Found</p></div>\n",
       "    "
      ],
      "text/plain": [
       "{'date': Empty DataFrame\n",
       "Columns: []\n",
       "Index: [], 'email': Empty DataFrame\n",
       "Columns: []\n",
       "Index: []}"
      ]
     },
     "execution_count": 6,
     "metadata": {},
     "output_type": "execute_result"
    }
   ],
   "source": [
    "ds = Dataset(df)\n",
    "check = RareFormatDetection()\n",
    "\n",
    "check.run(dataset=ds)"
   ]
  },
  {
   "cell_type": "markdown",
   "id": "e9d2f508-037e-45a2-b032-64ab4cbd9007",
   "metadata": {},
   "source": [
    "# Induce changes to data"
   ]
  },
  {
   "cell_type": "code",
   "execution_count": 7,
   "id": "e2ce6650-6f2f-486b-b10d-a1a06e0e942d",
   "metadata": {},
   "outputs": [],
   "source": [
    "# Change dates to different format:\n",
    "df['date'].loc[0:2] = [datetime.strptime(d, '%Y-%m-%d').strftime('%Y-%b-%d') for d in df['date'].loc[0:2]]\n",
    "\n",
    "# Change emails to have mistakes in format\n",
    "df['email'].loc[[0,1]] = ['myname@gmail.com1', 'myname@gmail.co']"
   ]
  },
  {
   "cell_type": "code",
   "execution_count": 8,
   "id": "4c880fc3-b7b4-4206-a2b7-216eb769af54",
   "metadata": {},
   "outputs": [
    {
     "data": {
      "text/html": [
       "<div>\n",
       "<style scoped>\n",
       "    .dataframe tbody tr th:only-of-type {\n",
       "        vertical-align: middle;\n",
       "    }\n",
       "\n",
       "    .dataframe tbody tr th {\n",
       "        vertical-align: top;\n",
       "    }\n",
       "\n",
       "    .dataframe thead th {\n",
       "        text-align: right;\n",
       "    }\n",
       "</style>\n",
       "<table border=\"1\" class=\"dataframe\">\n",
       "  <thead>\n",
       "    <tr style=\"text-align: right;\">\n",
       "      <th></th>\n",
       "      <th>date</th>\n",
       "      <th>email</th>\n",
       "    </tr>\n",
       "  </thead>\n",
       "  <tbody>\n",
       "    <tr>\n",
       "      <th>0</th>\n",
       "      <td>2021-Oct-17</td>\n",
       "      <td>myname@gmail.com1</td>\n",
       "    </tr>\n",
       "    <tr>\n",
       "      <th>1</th>\n",
       "      <td>2021-Oct-18</td>\n",
       "      <td>myname@gmail.co</td>\n",
       "    </tr>\n",
       "    <tr>\n",
       "      <th>2</th>\n",
       "      <td>2021-Oct-19</td>\n",
       "      <td>nlhpdhj@gmail.com</td>\n",
       "    </tr>\n",
       "    <tr>\n",
       "      <th>3</th>\n",
       "      <td>2021-10-20</td>\n",
       "      <td>ufnpbpe@gmail.com</td>\n",
       "    </tr>\n",
       "    <tr>\n",
       "      <th>4</th>\n",
       "      <td>2021-10-21</td>\n",
       "      <td>yzvhcr@gmail.com</td>\n",
       "    </tr>\n",
       "  </tbody>\n",
       "</table>\n",
       "</div>"
      ],
      "text/plain": [
       "          date              email\n",
       "0  2021-Oct-17  myname@gmail.com1\n",
       "1  2021-Oct-18    myname@gmail.co\n",
       "2  2021-Oct-19  nlhpdhj@gmail.com\n",
       "3   2021-10-20  ufnpbpe@gmail.com\n",
       "4   2021-10-21   yzvhcr@gmail.com"
      ]
     },
     "execution_count": 8,
     "metadata": {},
     "output_type": "execute_result"
    }
   ],
   "source": [
    "df.head()"
   ]
  },
  {
   "cell_type": "markdown",
   "id": "b76a3272-ffb3-41c6-a039-278b89f37af3",
   "metadata": {},
   "source": [
    "# Run Check - Find rare formats"
   ]
  },
  {
   "cell_type": "code",
   "execution_count": 9,
   "id": "61b849e4-d17d-4342-b061-2d7fdf7ad9b4",
   "metadata": {},
   "outputs": [
    {
     "name": "stderr",
     "output_type": "stream",
     "text": [
      "c:\\users\\nirhu\\documents\\deepchecks\\mlchecks\\mlchecks\\base\\dataset.py:57: UserWarning: Pandas doesn't allow columns to be created via a new attribute name - see https://pandas.pydata.org/pandas-docs/stable/indexing.html#attribute-access\n",
      "  self._features = [x for x in df.columns if x not in {label, index, date}]\n",
      "c:\\users\\nirhu\\documents\\deepchecks\\mlchecks\\mlchecks\\base\\dataset.py:67: UserWarning: Pandas doesn't allow columns to be created via a new attribute name - see https://pandas.pydata.org/pandas-docs/stable/indexing.html#attribute-access\n",
      "  self._cat_features = self.infer_categorical_features()\n"
     ]
    },
    {
     "data": {
      "text/html": [
       "\n",
       "    <h4>Rare Format Detection</h4>\n",
       "    <p>Check whether columns have common formats (e.g. \"XX-XX-XXXX\" for dates\") and detects values that don't match.</p>\n",
       "    <div><br>Column date:<br><br><table border=\"1\" class=\"dataframe\">\n",
       "  <thead>\n",
       "    <tr style=\"text-align: right;\">\n",
       "      <th></th>\n",
       "      <th>digits only format (ignoring letters)</th>\n",
       "      <th>sequences of digits only format (ignoring letters)</th>\n",
       "      <th>sequences of letters only format (ignoring letters)</th>\n",
       "      <th>digits and letters format</th>\n",
       "      <th>digits and letters format (case sensitive)</th>\n",
       "      <th>any sequence format</th>\n",
       "    </tr>\n",
       "  </thead>\n",
       "  <tbody>\n",
       "    <tr>\n",
       "      <th>ratio of rare patterns to common patterns</th>\n",
       "      <td>1.52%</td>\n",
       "      <td>1.52%</td>\n",
       "      <td>1.52%</td>\n",
       "      <td>1.52%</td>\n",
       "      <td>1.52%</td>\n",
       "      <td>1.52%</td>\n",
       "    </tr>\n",
       "    <tr>\n",
       "      <th>common formats</th>\n",
       "      <td>[0000-00-00]</td>\n",
       "      <td>[____-__-__]</td>\n",
       "      <td>[--]</td>\n",
       "      <td>[0000-00-00]</td>\n",
       "      <td>[0000-00-00]</td>\n",
       "      <td>[0000-00-00]</td>\n",
       "    </tr>\n",
       "    <tr>\n",
       "      <th>examples for values in common formats</th>\n",
       "      <td>[2021-10-21]</td>\n",
       "      <td>[2021-10-21]</td>\n",
       "      <td>[2021-10-21]</td>\n",
       "      <td>[2021-10-21]</td>\n",
       "      <td>[2021-10-21]</td>\n",
       "      <td>[2021-10-21]</td>\n",
       "    </tr>\n",
       "    <tr>\n",
       "      <th>values in rare formats</th>\n",
       "      <td>[2021-Oct-17, 2021-Oct-18, 2021-Oct-19]</td>\n",
       "      <td>[2021-Oct-17, 2021-Oct-18, 2021-Oct-19]</td>\n",
       "      <td>[2021-Oct-17, 2021-Oct-18, 2021-Oct-19]</td>\n",
       "      <td>[2021-Oct-17, 2021-Oct-18, 2021-Oct-19]</td>\n",
       "      <td>[2021-Oct-17, 2021-Oct-18, 2021-Oct-19]</td>\n",
       "      <td>[2021-Oct-17, 2021-Oct-18, 2021-Oct-19]</td>\n",
       "    </tr>\n",
       "  </tbody>\n",
       "</table><br><br>Column email:<br><br><table border=\"1\" class=\"dataframe\">\n",
       "  <thead>\n",
       "    <tr style=\"text-align: right;\">\n",
       "      <th></th>\n",
       "      <th>digits only format (ignoring letters)</th>\n",
       "      <th>sequences of digits only format (ignoring letters)</th>\n",
       "      <th>digits and letters format</th>\n",
       "      <th>digits and letters format (case sensitive)</th>\n",
       "      <th>any sequence format</th>\n",
       "    </tr>\n",
       "  </thead>\n",
       "  <tbody>\n",
       "    <tr>\n",
       "      <th>ratio of rare patterns to common patterns</th>\n",
       "      <td>0.50%</td>\n",
       "      <td>0.50%</td>\n",
       "      <td>1.01%</td>\n",
       "      <td>1.01%</td>\n",
       "      <td>0.50%</td>\n",
       "    </tr>\n",
       "    <tr>\n",
       "      <th>common formats</th>\n",
       "      <td>[@.]</td>\n",
       "      <td>[@.]</td>\n",
       "      <td>[XXXXXXX@XXXXX.XXX, XXXXXXXX@XXXXX.XXX, XXXXXX@XXXXX.XXX]</td>\n",
       "      <td>[xxxxxxx@xxxxx.xxx, xxxxxxxx@xxxxx.xxx, xxxxxx@xxxxx.xxx]</td>\n",
       "      <td>[SEQ@SEQ.SEQ]</td>\n",
       "    </tr>\n",
       "    <tr>\n",
       "      <th>examples for values in common formats</th>\n",
       "      <td>[nlhpdhj@gmail.com]</td>\n",
       "      <td>[nlhpdhj@gmail.com]</td>\n",
       "      <td>[ufnpbpe@gmail.com, qxmdstou@gmail.com, vssubj@gmail.com]</td>\n",
       "      <td>[ufnpbpe@gmail.com, qxmdstou@gmail.com, vssubj@gmail.com]</td>\n",
       "      <td>[nlhpdhj@gmail.com]</td>\n",
       "    </tr>\n",
       "    <tr>\n",
       "      <th>values in rare formats</th>\n",
       "      <td>[myname@gmail.com1]</td>\n",
       "      <td>[myname@gmail.com1]</td>\n",
       "      <td>[myname@gmail.com1, myname@gmail.co]</td>\n",
       "      <td>[myname@gmail.com1, myname@gmail.co]</td>\n",
       "      <td>[myname@gmail.com1]</td>\n",
       "    </tr>\n",
       "  </tbody>\n",
       "</table><br></div>\n",
       "    "
      ],
      "text/plain": [
       "{'date':                                              digits only format (ignoring letters)  \\\n",
       "ratio of rare patterns to common patterns                                    1.52%   \n",
       "common formats                                                        [0000-00-00]   \n",
       "examples for values in common formats                                 [2021-10-21]   \n",
       "values in rare formats                     [2021-Oct-17, 2021-Oct-18, 2021-Oct-19]   \n",
       "\n",
       "                                          sequences of digits only format (ignoring letters)  \\\n",
       "ratio of rare patterns to common patterns                                              1.52%   \n",
       "common formats                                                                  [____-__-__]   \n",
       "examples for values in common formats                                           [2021-10-21]   \n",
       "values in rare formats                               [2021-Oct-17, 2021-Oct-18, 2021-Oct-19]   \n",
       "\n",
       "                                          sequences of letters only format (ignoring letters)  \\\n",
       "ratio of rare patterns to common patterns                                              1.52%    \n",
       "common formats                                                                          [--]    \n",
       "examples for values in common formats                                           [2021-10-21]    \n",
       "values in rare formats                               [2021-Oct-17, 2021-Oct-18, 2021-Oct-19]    \n",
       "\n",
       "                                                         digits and letters format  \\\n",
       "ratio of rare patterns to common patterns                                    1.52%   \n",
       "common formats                                                        [0000-00-00]   \n",
       "examples for values in common formats                                 [2021-10-21]   \n",
       "values in rare formats                     [2021-Oct-17, 2021-Oct-18, 2021-Oct-19]   \n",
       "\n",
       "                                          digits and letters format (case sensitive)  \\\n",
       "ratio of rare patterns to common patterns                                      1.52%   \n",
       "common formats                                                          [0000-00-00]   \n",
       "examples for values in common formats                                   [2021-10-21]   \n",
       "values in rare formats                       [2021-Oct-17, 2021-Oct-18, 2021-Oct-19]   \n",
       "\n",
       "                                                               any sequence format  \n",
       "ratio of rare patterns to common patterns                                    1.52%  \n",
       "common formats                                                        [0000-00-00]  \n",
       "examples for values in common formats                                 [2021-10-21]  \n",
       "values in rare formats                     [2021-Oct-17, 2021-Oct-18, 2021-Oct-19]  , 'email':                                           digits only format (ignoring letters)  \\\n",
       "ratio of rare patterns to common patterns                                 0.50%   \n",
       "common formats                                                             [@.]   \n",
       "examples for values in common formats                       [nlhpdhj@gmail.com]   \n",
       "values in rare formats                                      [myname@gmail.com1]   \n",
       "\n",
       "                                          sequences of digits only format (ignoring letters)  \\\n",
       "ratio of rare patterns to common patterns                                              0.50%   \n",
       "common formats                                                                          [@.]   \n",
       "examples for values in common formats                                    [nlhpdhj@gmail.com]   \n",
       "values in rare formats                                                   [myname@gmail.com1]   \n",
       "\n",
       "                                                                   digits and letters format  \\\n",
       "ratio of rare patterns to common patterns                                              1.01%   \n",
       "common formats                             [XXXXXXX@XXXXX.XXX, XXXXXXXX@XXXXX.XXX, XXXXXX...   \n",
       "examples for values in common formats      [ufnpbpe@gmail.com, qxmdstou@gmail.com, vssubj...   \n",
       "values in rare formats                                  [myname@gmail.com1, myname@gmail.co]   \n",
       "\n",
       "                                                  digits and letters format (case sensitive)  \\\n",
       "ratio of rare patterns to common patterns                                              1.01%   \n",
       "common formats                             [xxxxxxx@xxxxx.xxx, xxxxxxxx@xxxxx.xxx, xxxxxx...   \n",
       "examples for values in common formats      [ufnpbpe@gmail.com, qxmdstou@gmail.com, vssubj...   \n",
       "values in rare formats                                  [myname@gmail.com1, myname@gmail.co]   \n",
       "\n",
       "                                           any sequence format  \n",
       "ratio of rare patterns to common patterns                0.50%  \n",
       "common formats                                   [SEQ@SEQ.SEQ]  \n",
       "examples for values in common formats      [nlhpdhj@gmail.com]  \n",
       "values in rare formats                     [myname@gmail.com1]  }"
      ]
     },
     "execution_count": 9,
     "metadata": {},
     "output_type": "execute_result"
    }
   ],
   "source": [
    "ds = Dataset(df)\n",
    "check = RareFormatDetection()\n",
    "\n",
    "check.run(dataset=ds)"
   ]
  },
  {
   "cell_type": "code",
   "execution_count": null,
   "id": "d8de7cf4-64dd-40ae-9f4a-846ec51caf1b",
   "metadata": {},
   "outputs": [],
   "source": []
  }
 ],
 "metadata": {
  "kernelspec": {
   "display_name": "Python 3 (ipykernel)",
   "language": "python",
   "name": "python3"
  },
  "language_info": {
   "codemirror_mode": {
    "name": "ipython",
    "version": 3
   },
   "file_extension": ".py",
   "mimetype": "text/x-python",
   "name": "python",
   "nbconvert_exporter": "python",
   "pygments_lexer": "ipython3",
   "version": "3.8.6"
  }
 },
 "nbformat": 4,
 "nbformat_minor": 5
}
