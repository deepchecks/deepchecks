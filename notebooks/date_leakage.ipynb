{
 "cells": [
  {
   "cell_type": "code",
   "execution_count": 1,
   "id": "7a16525a",
   "metadata": {},
   "outputs": [],
   "source": [
    "from mlchecks.checks.leakage import DateTrainValidationLeakage, ValidationDatesBeforeTrainLeakage\n",
    "from mlchecks.base import Dataset, CheckSuite\n",
    "from datetime import datetime\n",
    "import pandas as pd\n",
    "\n",
    "def dataset_from_dict(d: dict, date_name: str = None) -> Dataset:\n",
    "    dataframe = pd.DataFrame(data=d)\n",
    "    return Dataset(dataframe, date=date_name)"
   ]
  },
  {
   "cell_type": "markdown",
   "id": "d80ca9b7-dc21-4edc-b8b5-b0186f5ff894",
   "metadata": {},
   "source": [
    "## Synthetic example with date leakage"
   ]
  },
  {
   "cell_type": "code",
   "execution_count": 2,
   "id": "2e089e04",
   "metadata": {},
   "outputs": [
    {
     "data": {
      "text/html": [
       "<h2>date leakage</h2>\n",
       "    <h4>Date Train-Validation Leakage</h4>\n",
       "    <p></p>\n",
       "    <div>27.3% of validation data dates before last training data date (2021-10-05 00:00:00)</div>\n",
       "    <br>\n",
       "    <h4>Index Train-Validation Leakage</h4>\n",
       "    <p></p>\n",
       "    <div>18.2% of validation data dates appear in training data<br><table border=\"1\" class=\"dataframe\">\n",
       "  <tbody>\n",
       "    <tr>\n",
       "      <th>Sample of validation dates in train:</th>\n",
       "      <td>[2021-10-04 00:00:00]</td>\n",
       "    </tr>\n",
       "  </tbody>\n",
       "</table></div>\n",
       "    "
      ],
      "text/plain": [
       "[0.2727272727272727, 0.18181818181818182]"
      ]
     },
     "execution_count": 2,
     "metadata": {},
     "output_type": "execute_result"
    }
   ],
   "source": [
    "train_ds = dataset_from_dict({'col1': [\n",
    "        datetime(2021, 10, 1, 0, 0),\n",
    "        datetime(2021, 10, 1, 0, 0),\n",
    "        datetime(2021, 10, 1, 0, 0),\n",
    "        datetime(2021, 10, 2, 0, 0),\n",
    "        datetime(2021, 10, 2, 0, 0),\n",
    "        datetime(2021, 10, 2, 0, 0),\n",
    "        datetime(2021, 10, 3, 0, 0),\n",
    "        datetime(2021, 10, 3, 0, 0),\n",
    "        datetime(2021, 10, 3, 0, 0),\n",
    "        datetime(2021, 10, 4, 0, 0),\n",
    "        datetime(2021, 10, 4, 0, 0),\n",
    "        datetime(2021, 10, 4, 0, 0),\n",
    "        datetime(2021, 10, 5, 0, 0),\n",
    "        datetime(2021, 10, 5, 0, 0)\n",
    "    ]}, 'col1')\n",
    "val_ds = dataset_from_dict({'col1': [\n",
    "        datetime(2021, 9, 4, 0, 0),\n",
    "        datetime(2021, 10, 4, 0, 0),\n",
    "        datetime(2021, 10, 5, 0, 0),\n",
    "        datetime(2021, 10, 6, 0, 0),\n",
    "        datetime(2021, 10, 6, 0, 0),\n",
    "        datetime(2021, 10, 7, 0, 0),\n",
    "        datetime(2021, 10, 7, 0, 0),\n",
    "        datetime(2021, 10, 8, 0, 0),\n",
    "        datetime(2021, 10, 8, 0, 0),\n",
    "        datetime(2021, 10, 9, 0, 0),\n",
    "        datetime(2021, 10, 9, 0, 0)\n",
    "    ]}, 'col1')\n",
    "\n",
    "CheckSuite(\"date leakage\",\n",
    "          ValidationDatesBeforeTrainLeakage(),\n",
    "          DateTrainValidationLeakage(n_dates_to_show=1)).run(train_dataset=train_ds, validation_dataset=val_ds)"
   ]
  },
  {
   "cell_type": "markdown",
   "id": "dbf03393",
   "metadata": {},
   "source": [
    "## Synthetic example dates before last training"
   ]
  },
  {
   "cell_type": "code",
   "execution_count": 3,
   "id": "16feea0d",
   "metadata": {},
   "outputs": [
    {
     "data": {
      "text/html": [
       "<h2>date leakage</h2>\n",
       "    <h4>Date Train-Validation Leakage</h4>\n",
       "    <p></p>\n",
       "    <div>11.1% of validation data dates before last training data date (2021-10-05 00:00:00)</div>\n",
       "    <br>\n",
       "    <h4>Index Train-Validation Leakage</h4>\n",
       "    <p></p>\n",
       "    <div><p><b>&#x2713;</b> Nothing found</p></div>\n",
       "    "
      ],
      "text/plain": [
       "[0.1111111111111111, 0]"
      ]
     },
     "execution_count": 3,
     "metadata": {},
     "output_type": "execute_result"
    }
   ],
   "source": [
    "train_ds = dataset_from_dict({'col1': [\n",
    "        datetime(2021, 10, 1, 0, 0),\n",
    "        datetime(2021, 10, 1, 0, 0),\n",
    "        datetime(2021, 10, 1, 0, 0),\n",
    "        datetime(2021, 10, 2, 0, 0),\n",
    "        datetime(2021, 10, 2, 0, 0),\n",
    "        datetime(2021, 10, 2, 0, 0),\n",
    "        datetime(2021, 10, 3, 0, 0),\n",
    "        datetime(2021, 10, 3, 0, 0),\n",
    "        datetime(2021, 10, 3, 0, 0),\n",
    "        datetime(2021, 10, 4, 0, 0),\n",
    "        datetime(2021, 10, 4, 0, 0),\n",
    "        datetime(2021, 10, 4, 0, 0),\n",
    "        datetime(2021, 10, 5, 0, 0),\n",
    "        datetime(2021, 10, 5, 0, 0)\n",
    "    ]}, 'col1')\n",
    "val_ds = dataset_from_dict({'col1': [\n",
    "        datetime(2021, 9, 4, 0, 0),\n",
    "        datetime(2021, 10, 6, 0, 0),\n",
    "        datetime(2021, 10, 6, 0, 0),\n",
    "        datetime(2021, 10, 7, 0, 0),\n",
    "        datetime(2021, 10, 7, 0, 0),\n",
    "        datetime(2021, 10, 8, 0, 0),\n",
    "        datetime(2021, 10, 8, 0, 0),\n",
    "        datetime(2021, 10, 9, 0, 0),\n",
    "        datetime(2021, 10, 9, 0, 0)\n",
    "    ]}, 'col1')\n",
    "\n",
    "CheckSuite(\"date leakage\",\n",
    "          ValidationDatesBeforeTrainLeakage(),\n",
    "          DateTrainValidationLeakage()).run(train_dataset=train_ds, validation_dataset=val_ds)"
   ]
  },
  {
   "cell_type": "markdown",
   "id": "c1da7840",
   "metadata": {},
   "source": [
    "## Synthetic example no date leakage"
   ]
  },
  {
   "cell_type": "code",
   "execution_count": 4,
   "id": "e1c5f401",
   "metadata": {},
   "outputs": [
    {
     "data": {
      "text/html": [
       "<h2>date leakage</h2>\n",
       "    <h4>Date Train-Validation Leakage</h4>\n",
       "    <p></p>\n",
       "    <div><p><b>&#x2713;</b> Nothing found</p></div>\n",
       "    <br>\n",
       "    <h4>Index Train-Validation Leakage</h4>\n",
       "    <p></p>\n",
       "    <div><p><b>&#x2713;</b> Nothing found</p></div>\n",
       "    "
      ],
      "text/plain": [
       "[0, 0]"
      ]
     },
     "execution_count": 4,
     "metadata": {},
     "output_type": "execute_result"
    }
   ],
   "source": [
    "train_ds = dataset_from_dict({'col1': [\n",
    "        datetime(2021, 10, 3, 0, 0),\n",
    "        datetime(2021, 10, 3, 0, 0),\n",
    "        datetime(2021, 10, 4, 0, 0),\n",
    "        datetime(2021, 10, 4, 0, 0),\n",
    "        datetime(2021, 10, 4, 0, 0),\n",
    "        datetime(2021, 10, 5, 0, 0),\n",
    "        datetime(2021, 10, 5, 0, 0)\n",
    "    ]}, 'col1')\n",
    "val_ds = dataset_from_dict({'col1': [\n",
    "        datetime(2021, 11, 4, 0, 0),\n",
    "        datetime(2021, 11, 4, 0, 0),\n",
    "        datetime(2021, 11, 5, 0, 0),\n",
    "        datetime(2021, 11, 6, 0, 0),\n",
    "\n",
    "    ]}, 'col1')\n",
    "CheckSuite(\"date leakage\",\n",
    "          ValidationDatesBeforeTrainLeakage(),\n",
    "          DateTrainValidationLeakage()).run(train_dataset=train_ds, validation_dataset=val_ds)"
   ]
  },
  {
   "cell_type": "code",
   "execution_count": null,
   "id": "909c0984",
   "metadata": {},
   "outputs": [],
   "source": []
  }
 ],
 "metadata": {
  "kernelspec": {
   "display_name": "Python 3 (ipykernel)",
   "language": "python",
   "name": "python3"
  },
  "language_info": {
   "codemirror_mode": {
    "name": "ipython",
    "version": 3
   },
   "file_extension": ".py",
   "mimetype": "text/x-python",
   "name": "python",
   "nbconvert_exporter": "python",
   "pygments_lexer": "ipython3",
   "version": "3.8.5"
  }
 },
 "nbformat": 4,
 "nbformat_minor": 5
}
