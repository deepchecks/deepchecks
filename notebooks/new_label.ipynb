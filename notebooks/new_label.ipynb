{
 "cells": [
  {
   "cell_type": "code",
   "execution_count": 1,
   "id": "d26a99f3",
   "metadata": {},
   "outputs": [],
   "source": [
    "from mlchecks.checks.integrity.new_label import new_label_train_validation\n",
    "from mlchecks.base import Dataset\n",
    "import pandas as pd"
   ]
  },
  {
   "cell_type": "code",
   "execution_count": 2,
   "id": "6ad09e0e",
   "metadata": {},
   "outputs": [],
   "source": [
    "test_data = {\"col1\": [\"somebody\", \"once\", \"told\", \"me\"] * 10}\n",
    "val_data = {\"col1\": [\"the\",\"world\",\"is\", \"gonna\", \"role\", \"me\"] * 10}\n",
    "test = Dataset(pd.DataFrame(data=test_data), label=\"col1\")\n",
    "val = Dataset(pd.DataFrame(data=val_data), label=\"col1\")"
   ]
  },
  {
   "cell_type": "code",
   "execution_count": 3,
   "id": "1407bb72",
   "metadata": {},
   "outputs": [
    {
     "data": {
      "text/html": [
       "<h4>New Label Train Validation</h4>"
      ]
     },
     "metadata": {},
     "output_type": "display_data"
    },
    {
     "data": {
      "text/html": [
       "<p>Find new labels in validation.</p>"
      ]
     },
     "metadata": {},
     "output_type": "display_data"
    },
    {
     "data": {
      "text/html": [
       "<style type=\"text/css\">\n",
       "#T_93928_ th {\n",
       "  text-align: left;\n",
       "}\n",
       "#T_93928_ td {\n",
       "  text-align: left;\n",
       "}\n",
       "</style>\n",
       "<table id=\"T_93928_\">\n",
       "  <thead>\n",
       "    <tr>\n",
       "      <th class=\"blank level0\" >&nbsp;</th>\n",
       "      <th class=\"col_heading level0 col0\" >Percent new labels in sample</th>\n",
       "      <th class=\"col_heading level0 col1\" >New labels</th>\n",
       "    </tr>\n",
       "    <tr>\n",
       "      <th class=\"index_name level0\" >Label column</th>\n",
       "      <th class=\"blank col0\" >&nbsp;</th>\n",
       "      <th class=\"blank col1\" >&nbsp;</th>\n",
       "    </tr>\n",
       "  </thead>\n",
       "  <tbody>\n",
       "    <tr>\n",
       "      <th id=\"T_93928_level0_row0\" class=\"row_heading level0 row0\" >col1</th>\n",
       "      <td id=\"T_93928_row0_col0\" class=\"data row0 col0\" >83.33%</td>\n",
       "      <td id=\"T_93928_row0_col1\" class=\"data row0 col1\" >{'world', 'is', 'the', 'gonna', 'role'}</td>\n",
       "    </tr>\n",
       "  </tbody>\n",
       "</table>\n"
      ]
     },
     "metadata": {},
     "output_type": "display_data"
    }
   ],
   "source": [
    "new_label_train_validation(test, val)"
   ]
  },
  {
   "cell_type": "code",
   "execution_count": 4,
   "id": "e2dd499d",
   "metadata": {},
   "outputs": [],
   "source": [
    "test_data = {\"col1\": [\"a\", \"b\", \"a\", \"c\"] * 10, \"col2\": ['a','b','b','q']*10}\n",
    "val_data = {\"col1\": [\"a\",\"b\",\"d\"] * 10, \"col2\": ['a', '2', '1']*10}\n",
    "test = Dataset(pd.DataFrame(data=test_data), label=\"col2\")\n",
    "val = Dataset(pd.DataFrame(data=val_data), label=\"col2\")"
   ]
  },
  {
   "cell_type": "code",
   "execution_count": 5,
   "id": "91c364ab",
   "metadata": {
    "scrolled": true
   },
   "outputs": [
    {
     "data": {
      "text/html": [
       "<h4>New Label Train Validation</h4>"
      ]
     },
     "metadata": {},
     "output_type": "display_data"
    },
    {
     "data": {
      "text/html": [
       "<p>Find new labels in validation.</p>"
      ]
     },
     "metadata": {},
     "output_type": "display_data"
    },
    {
     "data": {
      "text/html": [
       "<style type=\"text/css\">\n",
       "#T_5b73b_ th {\n",
       "  text-align: left;\n",
       "}\n",
       "#T_5b73b_ td {\n",
       "  text-align: left;\n",
       "}\n",
       "</style>\n",
       "<table id=\"T_5b73b_\">\n",
       "  <thead>\n",
       "    <tr>\n",
       "      <th class=\"blank level0\" >&nbsp;</th>\n",
       "      <th class=\"col_heading level0 col0\" >Percent new labels in sample</th>\n",
       "      <th class=\"col_heading level0 col1\" >New labels</th>\n",
       "    </tr>\n",
       "    <tr>\n",
       "      <th class=\"index_name level0\" >Label column</th>\n",
       "      <th class=\"blank col0\" >&nbsp;</th>\n",
       "      <th class=\"blank col1\" >&nbsp;</th>\n",
       "    </tr>\n",
       "  </thead>\n",
       "  <tbody>\n",
       "    <tr>\n",
       "      <th id=\"T_5b73b_level0_row0\" class=\"row_heading level0 row0\" >col2</th>\n",
       "      <td id=\"T_5b73b_row0_col0\" class=\"data row0 col0\" >66.67%</td>\n",
       "      <td id=\"T_5b73b_row0_col1\" class=\"data row0 col1\" >{'2', '1'}</td>\n",
       "    </tr>\n",
       "  </tbody>\n",
       "</table>\n"
      ]
     },
     "metadata": {},
     "output_type": "display_data"
    }
   ],
   "source": [
    "new_label_train_validation(test, val)"
   ]
  },
  {
   "cell_type": "code",
   "execution_count": null,
   "id": "de0173f2",
   "metadata": {},
   "outputs": [],
   "source": []
  }
 ],
 "metadata": {
  "kernelspec": {
   "display_name": "Python 3 (ipykernel)",
   "language": "python",
   "name": "python3"
  },
  "language_info": {
   "codemirror_mode": {
    "name": "ipython",
    "version": 3
   },
   "file_extension": ".py",
   "mimetype": "text/x-python",
   "name": "python",
   "nbconvert_exporter": "python",
   "pygments_lexer": "ipython3",
   "version": "3.8.5"
  }
 },
 "nbformat": 4,
 "nbformat_minor": 5
}
