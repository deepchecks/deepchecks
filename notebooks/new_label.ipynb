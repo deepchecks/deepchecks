{
 "cells": [
  {
   "cell_type": "code",
   "execution_count": 1,
   "id": "a561f007",
   "metadata": {},
   "outputs": [],
   "source": [
    "from mlchecks.checks.integrity.new_label import new_label_train_validation\n",
    "from mlchecks.base import Dataset\n",
    "import pandas as pd"
   ]
  },
  {
   "cell_type": "code",
   "execution_count": 2,
   "id": "2421b048",
   "metadata": {},
   "outputs": [],
   "source": [
    "test_data = {\"col1\": [\"somebody\", \"once\", \"told\", \"me\"] * 10}\n",
    "val_data = {\"col1\": [\"the\",\"world\",\"is\", \"gonna\", \"role\", \"me\"] * 10}\n",
    "test = Dataset(pd.DataFrame(data=test_data), label=\"col1\")\n",
    "val = Dataset(pd.DataFrame(data=val_data), label=\"col1\")"
   ]
  },
  {
   "cell_type": "code",
   "execution_count": 3,
   "id": "460b40d1",
   "metadata": {},
   "outputs": [
    {
     "data": {
      "text/html": [
       "<h4>New Label Train Validation</h4>"
      ]
     },
     "metadata": {},
     "output_type": "display_data"
    },
    {
     "data": {
      "text/html": [
       "<p>Find new categories in validation.</p>"
      ]
     },
     "metadata": {},
     "output_type": "display_data"
    },
    {
     "data": {
      "text/html": [
       "<style type=\"text/css\">\n",
       "#T_b9a8f_ th {\n",
       "  text-align: left;\n",
       "}\n",
       "#T_b9a8f_ td {\n",
       "  text-align: left;\n",
       "}\n",
       "</style>\n",
       "<table id=\"T_b9a8f_\">\n",
       "  <thead>\n",
       "    <tr>\n",
       "      <th class=\"blank level0\" >&nbsp;</th>\n",
       "      <th class=\"col_heading level0 col0\" >ratio of new labels in sample</th>\n",
       "      <th class=\"col_heading level0 col1\" >new labels</th>\n",
       "    </tr>\n",
       "    <tr>\n",
       "      <th class=\"index_name level0\" >label column</th>\n",
       "      <th class=\"blank col0\" >&nbsp;</th>\n",
       "      <th class=\"blank col1\" >&nbsp;</th>\n",
       "    </tr>\n",
       "  </thead>\n",
       "  <tbody>\n",
       "    <tr>\n",
       "      <th id=\"T_b9a8f_level0_row0\" class=\"row_heading level0 row0\" >col1</th>\n",
       "      <td id=\"T_b9a8f_row0_col0\" class=\"data row0 col0\" >0.833333</td>\n",
       "      <td id=\"T_b9a8f_row0_col1\" class=\"data row0 col1\" >{'world', 'gonna', 'the', 'is', 'role'}</td>\n",
       "    </tr>\n",
       "  </tbody>\n",
       "</table>\n"
      ]
     },
     "metadata": {},
     "output_type": "display_data"
    }
   ],
   "source": [
    "new_label_train_validation(val, test)"
   ]
  },
  {
   "cell_type": "code",
   "execution_count": 11,
   "id": "a95f9aad",
   "metadata": {},
   "outputs": [],
   "source": [
    "test_data = {\"col1\": [\"a\", \"b\", \"a\", \"c\"] * 10, \"col2\": ['a','b','b','q']*10}\n",
    "val_data = {\"col1\": [\"a\",\"b\",\"d\"] * 10, \"col2\": ['a', '2', '1']*10}\n",
    "test = Dataset(pd.DataFrame(data=test_data), label=\"col2\")\n",
    "val = Dataset(pd.DataFrame(data=val_data), label=\"col2\")"
   ]
  },
  {
   "cell_type": "code",
   "execution_count": 12,
   "id": "ed09cbcb",
   "metadata": {
    "scrolled": true
   },
   "outputs": [
    {
     "data": {
      "text/html": [
       "<h4>New Label Train Validation</h4>"
      ]
     },
     "metadata": {},
     "output_type": "display_data"
    },
    {
     "data": {
      "text/html": [
       "<p>Find new categories in validation.</p>"
      ]
     },
     "metadata": {},
     "output_type": "display_data"
    },
    {
     "data": {
      "text/html": [
       "<style type=\"text/css\">\n",
       "#T_60c58_ th {\n",
       "  text-align: left;\n",
       "}\n",
       "#T_60c58_ td {\n",
       "  text-align: left;\n",
       "}\n",
       "</style>\n",
       "<table id=\"T_60c58_\">\n",
       "  <thead>\n",
       "    <tr>\n",
       "      <th class=\"blank level0\" >&nbsp;</th>\n",
       "      <th class=\"col_heading level0 col0\" >ratio of new labels in sample</th>\n",
       "      <th class=\"col_heading level0 col1\" >new labels</th>\n",
       "    </tr>\n",
       "    <tr>\n",
       "      <th class=\"index_name level0\" >label column</th>\n",
       "      <th class=\"blank col0\" >&nbsp;</th>\n",
       "      <th class=\"blank col1\" >&nbsp;</th>\n",
       "    </tr>\n",
       "  </thead>\n",
       "  <tbody>\n",
       "    <tr>\n",
       "      <th id=\"T_60c58_level0_row0\" class=\"row_heading level0 row0\" >col2</th>\n",
       "      <td id=\"T_60c58_row0_col0\" class=\"data row0 col0\" >0.666667</td>\n",
       "      <td id=\"T_60c58_row0_col1\" class=\"data row0 col1\" >{'1', '2'}</td>\n",
       "    </tr>\n",
       "  </tbody>\n",
       "</table>\n"
      ]
     },
     "metadata": {},
     "output_type": "display_data"
    }
   ],
   "source": [
    "new_label_train_validation(val, test)"
   ]
  },
  {
   "cell_type": "code",
   "execution_count": null,
   "id": "efa0033d",
   "metadata": {},
   "outputs": [],
   "source": []
  }
 ],
 "metadata": {
  "kernelspec": {
   "display_name": "Python 3 (ipykernel)",
   "language": "python",
   "name": "python3"
  },
  "language_info": {
   "codemirror_mode": {
    "name": "ipython",
    "version": 3
   },
   "file_extension": ".py",
   "mimetype": "text/x-python",
   "name": "python",
   "nbconvert_exporter": "python",
   "pygments_lexer": "ipython3",
   "version": "3.8.5"
  }
 },
 "nbformat": 4,
 "nbformat_minor": 5
}
