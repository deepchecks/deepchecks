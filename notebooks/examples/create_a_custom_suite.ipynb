{
 "cells": [
  {
   "cell_type": "markdown",
   "id": "273cb850",
   "metadata": {},
   "source": [
    "# Create a Custom Suite"
   ]
  },
  {
   "cell_type": "markdown",
   "id": "c31225ed",
   "metadata": {},
   "source": [
    "A suite is a list of checks that will be run one after the other, and its results displayed together.\n",
    "\n",
    "We can either use one of the predefined suites (see the quickstart to deepchecks tutorial), or create our own custom suites, by choosing the checks (and optional conditions) we want the suilt to contain."
   ]
  },
  {
   "cell_type": "markdown",
   "id": "99724ba1",
   "metadata": {},
   "source": [
    "## Define a New Suite"
   ]
  },
  {
   "cell_type": "code",
   "execution_count": 1,
   "id": "8bd1baf8",
   "metadata": {
    "ExecuteTime": {
     "end_time": "2021-12-08T18:35:32.665279Z",
     "start_time": "2021-12-08T18:35:30.869443Z"
    }
   },
   "outputs": [],
   "source": [
    "# importing all existing checks for demonstration simplicity\n",
    "from deepchecks.checks import *\n",
    "from deepchecks import Suite\n",
    "import deepchecks as dc"
   ]
  },
  {
   "cell_type": "markdown",
   "id": "7fb30853",
   "metadata": {},
   "source": [
    "Let's say we want to create our custom suite, mainly with various performance checks.  \n",
    "Let's start by checking which builtin performance checks exist (can be found also using the API reference):"
   ]
  },
  {
   "cell_type": "code",
   "execution_count": 2,
   "id": "493fb3c6",
   "metadata": {
    "ExecuteTime": {
     "end_time": "2021-12-08T18:35:32.673988Z",
     "start_time": "2021-12-08T18:35:32.667668Z"
    }
   },
   "outputs": [
    {
     "name": "stdout",
     "output_type": "stream",
     "text": [
      "['CalibrationMetric', 'ClassPerformanceImbalance', 'ConfusionMatrixReport', 'PerformanceReport', 'RocReport', 'SegmentPerformance', 'SimpleModelComparison']\n"
     ]
    }
   ],
   "source": [
    "print([class_name for class_name in dir(dc.checks.performance) if class_name[0].isupper()])"
   ]
  },
  {
   "cell_type": "code",
   "execution_count": 3,
   "id": "5449b0c4",
   "metadata": {
    "ExecuteTime": {
     "end_time": "2021-12-08T18:35:32.713070Z",
     "start_time": "2021-12-08T18:35:32.676124Z"
    }
   },
   "outputs": [],
   "source": [
    "MyModelSuite = Suite('Simple Suite For Model Performance',\n",
    "    ModelInfo(),\n",
    "    PerformanceReport(),\n",
    "    TrainTestDifferenceOverfit().add_condition_degradation_ratio_not_greater_than(threshold=0.15),\n",
    "    ConfusionMatrixReport(),\n",
    "    SimpleModelComparison(simple_model_type='constant').add_condition_ratio_not_less_than(0.9)\n",
    ")"
   ]
  },
  {
   "cell_type": "markdown",
   "id": "7753fee8",
   "metadata": {},
   "source": [
    "### Note about adding conditions to the checks in a suite"
   ]
  },
  {
   "cell_type": "markdown",
   "id": "5eee48f9",
   "metadata": {
    "ExecuteTime": {
     "end_time": "2021-12-08T18:24:42.528319Z",
     "start_time": "2021-12-08T18:24:42.524057Z"
    }
   },
   "source": [
    "Most check classes have methods with the naming convention `add_condition_x`, which enables adding a condition logic to parse the check's results. The pass/fail/insight status of the condition will be displayed in the suite's conditions summary. Note that the checks in the built-in suites come with default conditions, and when building your custom suite you should choose which conditions to add.\n",
    "\n",
    "Many conditions have configurable arguments that can be passed to the condition while adding it.  \n",
    "Each check instance can have several conditions or none. Each condition will be evaluated separately."
   ]
  },
  {
   "cell_type": "markdown",
   "id": "00b2aa7b",
   "metadata": {},
   "source": [
    "## Run the Suite"
   ]
  },
  {
   "cell_type": "markdown",
   "id": "0a5424b2",
   "metadata": {},
   "source": [
    "This is simply done by calling the `run` method of the suite.\n",
    "\n",
    "To see that in action, we'll need datasets and a model.  \n",
    "Let's quickly load a dataset and train a simple model for the sake of this demo"
   ]
  },
  {
   "cell_type": "markdown",
   "id": "56b342b6",
   "metadata": {
    "ExecuteTime": {
     "end_time": "2021-12-08T18:09:44.643877Z",
     "start_time": "2021-12-08T18:09:44.636473Z"
    }
   },
   "source": [
    "### Load Data, Split Train-Val, and Train a Simple Model"
   ]
  },
  {
   "cell_type": "code",
   "execution_count": 4,
   "id": "c37964ee",
   "metadata": {
    "ExecuteTime": {
     "end_time": "2021-12-08T18:35:32.745149Z",
     "start_time": "2021-12-08T18:35:32.716103Z"
    }
   },
   "outputs": [],
   "source": [
    "import pandas as pd\n",
    "import numpy as np\n",
    "np.random.seed(42)\n",
    "\n",
    "from sklearn.datasets import load_iris\n",
    "from sklearn.ensemble import RandomForestClassifier\n",
    "from sklearn.model_selection import train_test_split"
   ]
  },
  {
   "cell_type": "code",
   "execution_count": 5,
   "id": "2a399171",
   "metadata": {
    "ExecuteTime": {
     "end_time": "2021-12-08T18:35:32.758248Z",
     "start_time": "2021-12-08T18:35:32.748001Z"
    }
   },
   "outputs": [],
   "source": [
    "# load data\n",
    "iris_df = load_iris(return_X_y=False, as_frame=True)['frame']\n",
    "label_col = 'target'\n",
    "df_train, df_test = train_test_split(iris_df, stratify=iris_df[label_col], random_state=0)"
   ]
  },
  {
   "cell_type": "code",
   "execution_count": 6,
   "id": "72595769",
   "metadata": {
    "ExecuteTime": {
     "end_time": "2021-12-08T18:35:32.908877Z",
     "start_time": "2021-12-08T18:35:32.760294Z"
    }
   },
   "outputs": [],
   "source": [
    "# train model\n",
    "rf_clf = RandomForestClassifier()\n",
    "rf_clf.fit(df_train.drop(label_col, axis=1), df_train[label_col]);"
   ]
  },
  {
   "cell_type": "code",
   "execution_count": 7,
   "id": "78f27d4e",
   "metadata": {
    "ExecuteTime": {
     "end_time": "2021-12-08T18:35:32.915006Z",
     "start_time": "2021-12-08T18:35:32.911374Z"
    }
   },
   "outputs": [],
   "source": [
    "from deepchecks import Dataset"
   ]
  },
  {
   "cell_type": "code",
   "execution_count": 8,
   "id": "546f399f",
   "metadata": {
    "ExecuteTime": {
     "end_time": "2021-12-08T18:35:32.928515Z",
     "start_time": "2021-12-08T18:35:32.917645Z"
    }
   },
   "outputs": [],
   "source": [
    "ds_train = Dataset(df_train, label=label_col, cat_features=[], use_index=False, date=None)\n",
    "ds_test =  Dataset(df_test,  label=label_col, cat_features=[])"
   ]
  },
  {
   "cell_type": "markdown",
   "id": "088b9336",
   "metadata": {},
   "source": [
    "### Run Suite"
   ]
  },
  {
   "cell_type": "code",
   "execution_count": 9,
   "id": "5fbec13a",
   "metadata": {
    "ExecuteTime": {
     "end_time": "2021-12-08T18:35:34.267268Z",
     "start_time": "2021-12-08T18:35:32.931178Z"
    }
   },
   "outputs": [
    {
     "data": {
      "application/vnd.jupyter.widget-view+json": {
       "model_id": "",
       "version_major": 2,
       "version_minor": 0
      },
      "text/plain": [
       "Simple Suite For Model Performance:   0%|          | 0/5 [00:00<?, ? Check/s]"
      ]
     },
     "metadata": {},
     "output_type": "display_data"
    },
    {
     "data": {
      "text/html": [
       "\n",
       "    <h1>Simple Suite For Model Performance</h1>\n",
       "    <p>The suite is composed of various checks such as: Model Info, Performance Report, Train Test Difference Overfit, etc...<br>\n",
       "    Each check may contain conditions (which results in \n",
       "    <span style=\"color: green;display:inline-block\">✓</span> /\n",
       "    <span style=\"color: red;display:inline-block\">✖</span> /\n",
       "    <span style=\"color: orange;font-weight:bold;display:inline-block\">!</span>\n",
       "    ), as well as other outputs such as plots or tables.<br>\n",
       "    Suites, checks and conditions can all be modified (see tutorial [link]).</p>\n",
       "    <hr style=\"background-color: black;border: 0 none;color: black;height: 1px;\"><h2>Conditions Summary</h2>\n",
       "    "
      ]
     },
     "metadata": {},
     "output_type": "display_data"
    },
    {
     "data": {
      "text/html": [
       "<style type=\"text/css\">\n",
       "#T_00c75_ table {\n",
       "  text-align: left;\n",
       "}\n",
       "#T_00c75_ thead {\n",
       "  text-align: left;\n",
       "}\n",
       "#T_00c75_ tbody {\n",
       "  text-align: left;\n",
       "}\n",
       "#T_00c75_ th {\n",
       "  text-align: left;\n",
       "}\n",
       "#T_00c75_ td {\n",
       "  text-align: left;\n",
       "}\n",
       "</style>\n",
       "<table id=\"T_00c75_\">\n",
       "  <thead>\n",
       "    <tr>\n",
       "      <th class=\"col_heading level0 col0\" >Status</th>\n",
       "      <th class=\"col_heading level0 col1\" >Check</th>\n",
       "      <th class=\"col_heading level0 col2\" >Condition</th>\n",
       "      <th class=\"col_heading level0 col3\" >More Info</th>\n",
       "    </tr>\n",
       "  </thead>\n",
       "  <tbody>\n",
       "    <tr>\n",
       "      <td id=\"T_00c75_row0_col0\" class=\"data row0 col0\" ><div style=\"color: green;text-align: center\">✓</div></td>\n",
       "      <td id=\"T_00c75_row0_col1\" class=\"data row0 col1\" >Train-Test Difference Overfit</td>\n",
       "      <td id=\"T_00c75_row0_col2\" class=\"data row0 col2\" >Train-Test metrics degradation ratio is not greater than 0.15</td>\n",
       "      <td id=\"T_00c75_row0_col3\" class=\"data row0 col3\" ></td>\n",
       "    </tr>\n",
       "    <tr>\n",
       "      <td id=\"T_00c75_row1_col0\" class=\"data row1 col0\" ><div style=\"color: green;text-align: center\">✓</div></td>\n",
       "      <td id=\"T_00c75_row1_col1\" class=\"data row1 col1\" >Simple Model Comparison</td>\n",
       "      <td id=\"T_00c75_row1_col2\" class=\"data row1 col2\" >Ratio not less than 0.9 between the given model's result and the simple model's result</td>\n",
       "      <td id=\"T_00c75_row1_col3\" class=\"data row1 col3\" ></td>\n",
       "    </tr>\n",
       "  </tbody>\n",
       "</table>\n"
      ]
     },
     "metadata": {},
     "output_type": "display_data"
    },
    {
     "data": {
      "text/html": [
       "<hr style=\"background-color: black;border: 0 none;color: black;height: 1px;\"><h2>Additional Outputs</h2>"
      ]
     },
     "metadata": {},
     "output_type": "display_data"
    },
    {
     "data": {
      "text/html": [
       "<h4>Model Info</h4>"
      ]
     },
     "metadata": {},
     "output_type": "display_data"
    },
    {
     "data": {
      "text/html": [
       "<p>Summarize given model parameters.</p>"
      ]
     },
     "metadata": {},
     "output_type": "display_data"
    },
    {
     "data": {
      "text/html": [
       "Model Type: RandomForestClassifier"
      ]
     },
     "metadata": {},
     "output_type": "display_data"
    },
    {
     "data": {
      "text/html": [
       "<style type=\"text/css\">\n",
       "#T_a34ba_ table {\n",
       "  text-align: left;\n",
       "}\n",
       "#T_a34ba_ thead {\n",
       "  text-align: left;\n",
       "}\n",
       "#T_a34ba_ tbody {\n",
       "  text-align: left;\n",
       "}\n",
       "#T_a34ba_ th {\n",
       "  text-align: left;\n",
       "}\n",
       "#T_a34ba_ td {\n",
       "  text-align: left;\n",
       "}\n",
       "</style>\n",
       "<table id=\"T_a34ba_\">\n",
       "  <thead>\n",
       "    <tr>\n",
       "      <th class=\"col_heading level0 col0\" >Parameter</th>\n",
       "      <th class=\"col_heading level0 col1\" >Value</th>\n",
       "      <th class=\"col_heading level0 col2\" >Default</th>\n",
       "    </tr>\n",
       "  </thead>\n",
       "  <tbody>\n",
       "    <tr>\n",
       "      <td id=\"T_a34ba_row0_col0\" class=\"data row0 col0\" >bootstrap</td>\n",
       "      <td id=\"T_a34ba_row0_col1\" class=\"data row0 col1\" >True</td>\n",
       "      <td id=\"T_a34ba_row0_col2\" class=\"data row0 col2\" >True</td>\n",
       "    </tr>\n",
       "    <tr>\n",
       "      <td id=\"T_a34ba_row1_col0\" class=\"data row1 col0\" >ccp_alpha</td>\n",
       "      <td id=\"T_a34ba_row1_col1\" class=\"data row1 col1\" >0.00</td>\n",
       "      <td id=\"T_a34ba_row1_col2\" class=\"data row1 col2\" >0.00</td>\n",
       "    </tr>\n",
       "    <tr>\n",
       "      <td id=\"T_a34ba_row2_col0\" class=\"data row2 col0\" >class_weight</td>\n",
       "      <td id=\"T_a34ba_row2_col1\" class=\"data row2 col1\" >None</td>\n",
       "      <td id=\"T_a34ba_row2_col2\" class=\"data row2 col2\" >None</td>\n",
       "    </tr>\n",
       "    <tr>\n",
       "      <td id=\"T_a34ba_row3_col0\" class=\"data row3 col0\" >criterion</td>\n",
       "      <td id=\"T_a34ba_row3_col1\" class=\"data row3 col1\" >gini</td>\n",
       "      <td id=\"T_a34ba_row3_col2\" class=\"data row3 col2\" >gini</td>\n",
       "    </tr>\n",
       "    <tr>\n",
       "      <td id=\"T_a34ba_row4_col0\" class=\"data row4 col0\" >max_depth</td>\n",
       "      <td id=\"T_a34ba_row4_col1\" class=\"data row4 col1\" >None</td>\n",
       "      <td id=\"T_a34ba_row4_col2\" class=\"data row4 col2\" >None</td>\n",
       "    </tr>\n",
       "    <tr>\n",
       "      <td id=\"T_a34ba_row5_col0\" class=\"data row5 col0\" >max_features</td>\n",
       "      <td id=\"T_a34ba_row5_col1\" class=\"data row5 col1\" >auto</td>\n",
       "      <td id=\"T_a34ba_row5_col2\" class=\"data row5 col2\" >auto</td>\n",
       "    </tr>\n",
       "    <tr>\n",
       "      <td id=\"T_a34ba_row6_col0\" class=\"data row6 col0\" >max_leaf_nodes</td>\n",
       "      <td id=\"T_a34ba_row6_col1\" class=\"data row6 col1\" >None</td>\n",
       "      <td id=\"T_a34ba_row6_col2\" class=\"data row6 col2\" >None</td>\n",
       "    </tr>\n",
       "    <tr>\n",
       "      <td id=\"T_a34ba_row7_col0\" class=\"data row7 col0\" >max_samples</td>\n",
       "      <td id=\"T_a34ba_row7_col1\" class=\"data row7 col1\" >None</td>\n",
       "      <td id=\"T_a34ba_row7_col2\" class=\"data row7 col2\" >None</td>\n",
       "    </tr>\n",
       "    <tr>\n",
       "      <td id=\"T_a34ba_row8_col0\" class=\"data row8 col0\" >min_impurity_decrease</td>\n",
       "      <td id=\"T_a34ba_row8_col1\" class=\"data row8 col1\" >0.00</td>\n",
       "      <td id=\"T_a34ba_row8_col2\" class=\"data row8 col2\" >0.00</td>\n",
       "    </tr>\n",
       "    <tr>\n",
       "      <td id=\"T_a34ba_row9_col0\" class=\"data row9 col0\" >min_samples_leaf</td>\n",
       "      <td id=\"T_a34ba_row9_col1\" class=\"data row9 col1\" >1</td>\n",
       "      <td id=\"T_a34ba_row9_col2\" class=\"data row9 col2\" >1</td>\n",
       "    </tr>\n",
       "    <tr>\n",
       "      <td id=\"T_a34ba_row10_col0\" class=\"data row10 col0\" >min_samples_split</td>\n",
       "      <td id=\"T_a34ba_row10_col1\" class=\"data row10 col1\" >2</td>\n",
       "      <td id=\"T_a34ba_row10_col2\" class=\"data row10 col2\" >2</td>\n",
       "    </tr>\n",
       "    <tr>\n",
       "      <td id=\"T_a34ba_row11_col0\" class=\"data row11 col0\" >min_weight_fraction_leaf</td>\n",
       "      <td id=\"T_a34ba_row11_col1\" class=\"data row11 col1\" >0.00</td>\n",
       "      <td id=\"T_a34ba_row11_col2\" class=\"data row11 col2\" >0.00</td>\n",
       "    </tr>\n",
       "    <tr>\n",
       "      <td id=\"T_a34ba_row12_col0\" class=\"data row12 col0\" >n_estimators</td>\n",
       "      <td id=\"T_a34ba_row12_col1\" class=\"data row12 col1\" >100</td>\n",
       "      <td id=\"T_a34ba_row12_col2\" class=\"data row12 col2\" >100</td>\n",
       "    </tr>\n",
       "    <tr>\n",
       "      <td id=\"T_a34ba_row13_col0\" class=\"data row13 col0\" >n_jobs</td>\n",
       "      <td id=\"T_a34ba_row13_col1\" class=\"data row13 col1\" >None</td>\n",
       "      <td id=\"T_a34ba_row13_col2\" class=\"data row13 col2\" >None</td>\n",
       "    </tr>\n",
       "    <tr>\n",
       "      <td id=\"T_a34ba_row14_col0\" class=\"data row14 col0\" >oob_score</td>\n",
       "      <td id=\"T_a34ba_row14_col1\" class=\"data row14 col1\" >False</td>\n",
       "      <td id=\"T_a34ba_row14_col2\" class=\"data row14 col2\" >False</td>\n",
       "    </tr>\n",
       "    <tr>\n",
       "      <td id=\"T_a34ba_row15_col0\" class=\"data row15 col0\" >random_state</td>\n",
       "      <td id=\"T_a34ba_row15_col1\" class=\"data row15 col1\" >None</td>\n",
       "      <td id=\"T_a34ba_row15_col2\" class=\"data row15 col2\" >None</td>\n",
       "    </tr>\n",
       "    <tr>\n",
       "      <td id=\"T_a34ba_row16_col0\" class=\"data row16 col0\" >verbose</td>\n",
       "      <td id=\"T_a34ba_row16_col1\" class=\"data row16 col1\" >0</td>\n",
       "      <td id=\"T_a34ba_row16_col2\" class=\"data row16 col2\" >0</td>\n",
       "    </tr>\n",
       "    <tr>\n",
       "      <td id=\"T_a34ba_row17_col0\" class=\"data row17 col0\" >warm_start</td>\n",
       "      <td id=\"T_a34ba_row17_col1\" class=\"data row17 col1\" >False</td>\n",
       "      <td id=\"T_a34ba_row17_col2\" class=\"data row17 col2\" >False</td>\n",
       "    </tr>\n",
       "  </tbody>\n",
       "</table>\n"
      ]
     },
     "metadata": {},
     "output_type": "display_data"
    },
    {
     "data": {
      "text/html": [
       "<p style=\"font-size:0.7em\"><i>Colored rows are parameters with non-default values</i></p>"
      ]
     },
     "metadata": {},
     "output_type": "display_data"
    },
    {
     "data": {
      "text/html": [
       "<hr style=\"background-color: #eee;border: 0 none;color: #eee;height: 1px;\">"
      ]
     },
     "metadata": {},
     "output_type": "display_data"
    },
    {
     "data": {
      "text/html": [
       "<h4>Performance Report - Test Dataset</h4>"
      ]
     },
     "metadata": {},
     "output_type": "display_data"
    },
    {
     "data": {
      "text/html": [
       "<p>Summarize given metrics on a dataset and model.</p>"
      ]
     },
     "metadata": {},
     "output_type": "display_data"
    },
    {
     "data": {
      "text/html": [
       "<style type=\"text/css\">\n",
       "#T_c575a_ table {\n",
       "  text-align: left;\n",
       "}\n",
       "#T_c575a_ thead {\n",
       "  text-align: left;\n",
       "}\n",
       "#T_c575a_ tbody {\n",
       "  text-align: left;\n",
       "}\n",
       "#T_c575a_ th {\n",
       "  text-align: left;\n",
       "}\n",
       "#T_c575a_ td {\n",
       "  text-align: left;\n",
       "}\n",
       "</style>\n",
       "<table id=\"T_c575a_\">\n",
       "  <thead>\n",
       "    <tr>\n",
       "      <th class=\"blank level0\" >&nbsp;</th>\n",
       "      <th class=\"col_heading level0 col0\" >Score</th>\n",
       "    </tr>\n",
       "    <tr>\n",
       "      <th class=\"index_name level0\" >Metric</th>\n",
       "      <th class=\"blank col0\" >&nbsp;</th>\n",
       "    </tr>\n",
       "  </thead>\n",
       "  <tbody>\n",
       "    <tr>\n",
       "      <th id=\"T_c575a_level0_row0\" class=\"row_heading level0 row0\" >Accuracy</th>\n",
       "      <td id=\"T_c575a_row0_col0\" class=\"data row0 col0\" >1.00</td>\n",
       "    </tr>\n",
       "    <tr>\n",
       "      <th id=\"T_c575a_level0_row1\" class=\"row_heading level0 row1\" >Precision - Macro Average</th>\n",
       "      <td id=\"T_c575a_row1_col0\" class=\"data row1 col0\" >1.00</td>\n",
       "    </tr>\n",
       "    <tr>\n",
       "      <th id=\"T_c575a_level0_row2\" class=\"row_heading level0 row2\" >Recall - Macro Average</th>\n",
       "      <td id=\"T_c575a_row2_col0\" class=\"data row2 col0\" >1.00</td>\n",
       "    </tr>\n",
       "  </tbody>\n",
       "</table>\n"
      ]
     },
     "metadata": {},
     "output_type": "display_data"
    },
    {
     "data": {
      "text/html": [
       "<hr style=\"background-color: #eee;border: 0 none;color: #eee;height: 1px;\">"
      ]
     },
     "metadata": {},
     "output_type": "display_data"
    },
    {
     "data": {
      "text/html": [
       "<h4>Train-Test Difference Overfit</h4>"
      ]
     },
     "metadata": {},
     "output_type": "display_data"
    },
    {
     "data": {
      "text/html": [
       "<p>Visualize overfit by displaying the difference between model metrics on train and on test data.</p>"
      ]
     },
     "metadata": {},
     "output_type": "display_data"
    },
    {
     "data": {
      "image/png": "[encoded data removed]",
      "text/plain": [
       "<Figure size 432x288 with 1 Axes>"
      ]
     },
     "metadata": {
      "needs_background": "light"
     },
     "output_type": "display_data"
    },
    {
     "data": {
      "text/html": [
       "<hr style=\"background-color: #eee;border: 0 none;color: #eee;height: 1px;\">"
      ]
     },
     "metadata": {},
     "output_type": "display_data"
    },
    {
     "data": {
      "text/html": [
       "<h4>Confusion Matrix Report - Test Dataset</h4>"
      ]
     },
     "metadata": {},
     "output_type": "display_data"
    },
    {
     "data": {
      "text/html": [
       "<p>Calculate the confusion matrix of the model on the given dataset.</p>"
      ]
     },
     "metadata": {},
     "output_type": "display_data"
    },
    {
     "data": {
      "image/png": "[encoded data removed]",
      "text/plain": [
       "<Figure size 432x288 with 2 Axes>"
      ]
     },
     "metadata": {
      "needs_background": "light"
     },
     "output_type": "display_data"
    },
    {
     "data": {
      "text/html": [
       "<hr style=\"background-color: #eee;border: 0 none;color: #eee;height: 1px;\">"
      ]
     },
     "metadata": {},
     "output_type": "display_data"
    },
    {
     "data": {
      "text/html": [
       "<h4>Simple Model Comparison</h4>"
      ]
     },
     "metadata": {},
     "output_type": "display_data"
    },
    {
     "data": {
      "text/html": [
       "<p>Compare given model score to simple model score (according to given model type).</p>"
      ]
     },
     "metadata": {},
     "output_type": "display_data"
    },
    {
     "data": {
      "text/html": [
       "The given model performs 2.92 times compared to the simple model using the Accuracy metric.<br>RandomForestClassifier model prediction has achieved a score of 1 compared to Simple constant prediction which achieved a score of 0.34 on tested data."
      ]
     },
     "metadata": {},
     "output_type": "display_data"
    },
    {
     "data": {
      "image/png": "[encoded data removed]",
      "text/plain": [
       "<Figure size 432x288 with 1 Axes>"
      ]
     },
     "metadata": {
      "needs_background": "light"
     },
     "output_type": "display_data"
    }
   ],
   "source": [
    "MyModelSuite.run(model=rf_clf, train_dataset=ds_train, test_dataset=ds_test, check_datasets_policy='test')"
   ]
  }
 ],
 "metadata": {
  "kernelspec": {
   "display_name": "Python 3 (ipykernel)",
   "language": "python",
   "name": "python3"
  },
  "language_info": {
   "codemirror_mode": {
    "name": "ipython",
    "version": 3
   },
   "file_extension": ".py",
   "mimetype": "text/x-python",
   "name": "python",
   "nbconvert_exporter": "python",
   "pygments_lexer": "ipython3",
   "version": "3.8.10"
  },
  "toc": {
   "base_numbering": 1,
   "nav_menu": {},
   "number_sections": true,
   "sideBar": true,
   "skip_h1_title": false,
   "title_cell": "Table of Contents",
   "title_sidebar": "Contents",
   "toc_cell": false,
   "toc_position": {},
   "toc_section_display": true,
   "toc_window_display": false
  }
 },
 "nbformat": 4,
 "nbformat_minor": 5
}
