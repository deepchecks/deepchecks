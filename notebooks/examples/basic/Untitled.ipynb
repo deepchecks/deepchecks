{
 "cells": [
  {
   "cell_type": "code",
   "execution_count": 5,
   "id": "a1e0929b-6b7b-4c27-9efe-3ca11e37f110",
   "metadata": {},
   "outputs": [],
   "source": [
    "from itertools import cycle\n",
    "from typing import Dict, List\n",
    "from matplotlib import pyplot as plt\n",
    "import numpy as np\n",
    "\n",
    "import sklearn\n",
    "from sklearn.base import BaseEstimator\n",
    "from sklearn.datasets import load_iris\n",
    "from sklearn.ensemble import RandomForestClassifier\n",
    "from sklearn.model_selection import train_test_split\n",
    "\n",
    "from deepchecks import CheckResult, Dataset, SingleDatasetBaseCheck\n",
    "from deepchecks.base.check import ConditionResult\n",
    "\n",
    "np.random.seed(42)"
   ]
  },
  {
   "cell_type": "code",
   "execution_count": 6,
   "id": "a8b240f1-9657-4f28-90f1-77948c0e5ec4",
   "metadata": {},
   "outputs": [],
   "source": [
    "iris_df = load_iris(return_X_y=False, as_frame=True)['frame']\n",
    "label_col = 'target'\n",
    "df_train, df_test = train_test_split(iris_df, stratify=iris_df[label_col], random_state=0)\n",
    "ds_train = Dataset(df_train, label=label_col, cat_features=[])\n",
    "ds_test =  Dataset(df_test,  label=label_col, cat_features=[])"
   ]
  },
  {
   "cell_type": "code",
   "execution_count": 9,
   "id": "d6fd4c0e-c053-465d-8a29-83af1341c2c3",
   "metadata": {},
   "outputs": [],
   "source": [
    "rf_clf = RandomForestClassifier()\n",
    "rf_clf.fit(ds_train.features_columns(), ds_train.label_col());"
   ]
  },
  {
   "cell_type": "code",
   "execution_count": null,
   "id": "4efc33a2-437f-4026-b434-3c833c727cd3",
   "metadata": {},
   "outputs": [],
   "source": [
    "class CustomCheck(SingleDatasetBaseCheck):\n",
    "    def __init__(self, feature_1):\n",
    "        self.feature_1 = feature_1\n",
    "        super().__init__()\n",
    "    def run(self, dataset: Dataset, model: BaseEstimator) -> CheckResult:\n",
    "        return self._distribution_check(dataset, model)"
   ]
  }
 ],
 "metadata": {
  "kernelspec": {
   "display_name": "Python 3 (ipykernel)",
   "language": "python",
   "name": "python3"
  },
  "language_info": {
   "codemirror_mode": {
    "name": "ipython",
    "version": 3
   },
   "file_extension": ".py",
   "mimetype": "text/x-python",
   "name": "python",
   "nbconvert_exporter": "python",
   "pygments_lexer": "ipython3",
   "version": "3.8.11"
  }
 },
 "nbformat": 4,
 "nbformat_minor": 5
}
