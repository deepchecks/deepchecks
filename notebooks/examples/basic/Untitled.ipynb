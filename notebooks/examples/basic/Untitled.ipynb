{
 "cells": [
  {
   "cell_type": "code",
   "execution_count": 1,
   "id": "a1e0929b-6b7b-4c27-9efe-3ca11e37f110",
   "metadata": {},
   "outputs": [],
   "source": [
    "from itertools import cycle\n",
    "from typing import Dict, List\n",
    "from matplotlib import pyplot as plt\n",
    "import numpy as np\n",
    "import sklearn\n",
    "from sklearn.base import BaseEstimator\n",
    "\n",
    "from deepchecks import CheckResult, Dataset, SingleDatasetBaseCheck\n",
    "from deepchecks.base.check import ConditionResult"
   ]
  },
  {
   "cell_type": "code",
   "execution_count": null,
   "id": "4efc33a2-437f-4026-b434-3c833c727cd3",
   "metadata": {},
   "outputs": [],
   "source": [
    "class CustomCheck(SingleDatasetBaseCheck):\n",
    "    def __init__(self, feature_1):\n",
    "        self.feature_1 = feature_1\n",
    "        super().__init__()\n",
    "    def run(self, dataset: Dataset, model: BaseEstimator) -> CheckResult:\n",
    "        return self._distribution_check(dataset, model)"
   ]
  }
 ],
 "metadata": {
  "kernelspec": {
   "display_name": "Python 3 (ipykernel)",
   "language": "python",
   "name": "python3"
  },
  "language_info": {
   "codemirror_mode": {
    "name": "ipython",
    "version": 3
   },
   "file_extension": ".py",
   "mimetype": "text/x-python",
   "name": "python",
   "nbconvert_exporter": "python",
   "pygments_lexer": "ipython3",
   "version": "3.8.11"
  }
 },
 "nbformat": 4,
 "nbformat_minor": 5
}
