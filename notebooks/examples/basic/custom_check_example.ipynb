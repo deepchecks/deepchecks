{
 "cells": [
  {
   "cell_type": "markdown",
   "id": "9ea1fbac-5277-495b-bd15-949f9b103993",
   "metadata": {
    "tags": []
   },
   "source": [
    "## General Imports"
   ]
  },
  {
   "cell_type": "code",
   "execution_count": 1,
   "id": "a1e0929b-6b7b-4c27-9efe-3ca11e37f110",
   "metadata": {},
   "outputs": [],
   "source": [
    "from itertools import cycle\n",
    "from typing import Dict, List\n",
    "from matplotlib import pyplot as plt\n",
    "import numpy as np\n",
    "import pandas as pd\n",
    "import sklearn\n",
    "from sklearn.base import BaseEstimator\n",
    "from sklearn.datasets import load_iris\n",
    "from sklearn.ensemble import RandomForestClassifier\n",
    "from sklearn.model_selection import train_test_split\n",
    "\n",
    "from deepchecks import CheckResult, Dataset, SingleDatasetBaseCheck\n",
    "from deepchecks.base import ConditionResult, Suite\n",
    "\n",
    "np.random.seed(42)"
   ]
  },
  {
   "cell_type": "markdown",
   "id": "0bab5fa6-b089-4cad-a240-a861b26cb170",
   "metadata": {},
   "source": [
    "## Load Data, Split Train-Val"
   ]
  },
  {
   "cell_type": "code",
   "execution_count": 2,
   "id": "a8b240f1-9657-4f28-90f1-77948c0e5ec4",
   "metadata": {},
   "outputs": [],
   "source": [
    "iris_df = load_iris(return_X_y=False, as_frame=True)['frame']\n",
    "label_col = 'target'\n",
    "df_train, df_test = train_test_split(iris_df, stratify=iris_df[label_col], random_state=0)"
   ]
  },
  {
   "cell_type": "markdown",
   "id": "0be71ed0-f632-4514-af1b-b67080a74770",
   "metadata": {},
   "source": [
    "### Data sample:"
   ]
  },
  {
   "cell_type": "code",
   "execution_count": 3,
   "id": "a34973cd-d2d8-49be-ba01-fdd1fe6f7752",
   "metadata": {},
   "outputs": [
    {
     "data": {
      "text/html": [
       "<div>\n",
       "<style scoped>\n",
       "    .dataframe tbody tr th:only-of-type {\n",
       "        vertical-align: middle;\n",
       "    }\n",
       "\n",
       "    .dataframe tbody tr th {\n",
       "        vertical-align: top;\n",
       "    }\n",
       "\n",
       "    .dataframe thead th {\n",
       "        text-align: right;\n",
       "    }\n",
       "</style>\n",
       "<table border=\"1\" class=\"dataframe\">\n",
       "  <thead>\n",
       "    <tr style=\"text-align: right;\">\n",
       "      <th></th>\n",
       "      <th>sepal length (cm)</th>\n",
       "      <th>sepal width (cm)</th>\n",
       "      <th>petal length (cm)</th>\n",
       "      <th>petal width (cm)</th>\n",
       "      <th>target</th>\n",
       "    </tr>\n",
       "  </thead>\n",
       "  <tbody>\n",
       "    <tr>\n",
       "      <th>39</th>\n",
       "      <td>5.1</td>\n",
       "      <td>3.4</td>\n",
       "      <td>1.5</td>\n",
       "      <td>0.2</td>\n",
       "      <td>0</td>\n",
       "    </tr>\n",
       "    <tr>\n",
       "      <th>12</th>\n",
       "      <td>4.8</td>\n",
       "      <td>3.0</td>\n",
       "      <td>1.4</td>\n",
       "      <td>0.1</td>\n",
       "      <td>0</td>\n",
       "    </tr>\n",
       "    <tr>\n",
       "      <th>48</th>\n",
       "      <td>5.3</td>\n",
       "      <td>3.7</td>\n",
       "      <td>1.5</td>\n",
       "      <td>0.2</td>\n",
       "      <td>0</td>\n",
       "    </tr>\n",
       "    <tr>\n",
       "      <th>23</th>\n",
       "      <td>5.1</td>\n",
       "      <td>3.3</td>\n",
       "      <td>1.7</td>\n",
       "      <td>0.5</td>\n",
       "      <td>0</td>\n",
       "    </tr>\n",
       "    <tr>\n",
       "      <th>81</th>\n",
       "      <td>5.5</td>\n",
       "      <td>2.4</td>\n",
       "      <td>3.7</td>\n",
       "      <td>1.0</td>\n",
       "      <td>1</td>\n",
       "    </tr>\n",
       "    <tr>\n",
       "      <th>55</th>\n",
       "      <td>5.7</td>\n",
       "      <td>2.8</td>\n",
       "      <td>4.5</td>\n",
       "      <td>1.3</td>\n",
       "      <td>1</td>\n",
       "    </tr>\n",
       "    <tr>\n",
       "      <th>99</th>\n",
       "      <td>5.7</td>\n",
       "      <td>2.8</td>\n",
       "      <td>4.1</td>\n",
       "      <td>1.3</td>\n",
       "      <td>1</td>\n",
       "    </tr>\n",
       "    <tr>\n",
       "      <th>9</th>\n",
       "      <td>4.9</td>\n",
       "      <td>3.1</td>\n",
       "      <td>1.5</td>\n",
       "      <td>0.1</td>\n",
       "      <td>0</td>\n",
       "    </tr>\n",
       "    <tr>\n",
       "      <th>85</th>\n",
       "      <td>6.0</td>\n",
       "      <td>3.4</td>\n",
       "      <td>4.5</td>\n",
       "      <td>1.6</td>\n",
       "      <td>1</td>\n",
       "    </tr>\n",
       "    <tr>\n",
       "      <th>129</th>\n",
       "      <td>7.2</td>\n",
       "      <td>3.0</td>\n",
       "      <td>5.8</td>\n",
       "      <td>1.6</td>\n",
       "      <td>2</td>\n",
       "    </tr>\n",
       "    <tr>\n",
       "      <th>100</th>\n",
       "      <td>6.3</td>\n",
       "      <td>3.3</td>\n",
       "      <td>6.0</td>\n",
       "      <td>2.5</td>\n",
       "      <td>2</td>\n",
       "    </tr>\n",
       "    <tr>\n",
       "      <th>121</th>\n",
       "      <td>5.6</td>\n",
       "      <td>2.8</td>\n",
       "      <td>4.9</td>\n",
       "      <td>2.0</td>\n",
       "      <td>2</td>\n",
       "    </tr>\n",
       "  </tbody>\n",
       "</table>\n",
       "</div>"
      ],
      "text/plain": [
       "     sepal length (cm)  sepal width (cm)  petal length (cm)  petal width (cm)  \\\n",
       "39                 5.1               3.4                1.5               0.2   \n",
       "12                 4.8               3.0                1.4               0.1   \n",
       "48                 5.3               3.7                1.5               0.2   \n",
       "23                 5.1               3.3                1.7               0.5   \n",
       "81                 5.5               2.4                3.7               1.0   \n",
       "55                 5.7               2.8                4.5               1.3   \n",
       "99                 5.7               2.8                4.1               1.3   \n",
       "9                  4.9               3.1                1.5               0.1   \n",
       "85                 6.0               3.4                4.5               1.6   \n",
       "129                7.2               3.0                5.8               1.6   \n",
       "100                6.3               3.3                6.0               2.5   \n",
       "121                5.6               2.8                4.9               2.0   \n",
       "\n",
       "     target  \n",
       "39        0  \n",
       "12        0  \n",
       "48        0  \n",
       "23        0  \n",
       "81        1  \n",
       "55        1  \n",
       "99        1  \n",
       "9         0  \n",
       "85        1  \n",
       "129       2  \n",
       "100       2  \n",
       "121       2  "
      ]
     },
     "execution_count": 3,
     "metadata": {},
     "output_type": "execute_result"
    }
   ],
   "source": [
    "df_test.head(12)"
   ]
  },
  {
   "cell_type": "markdown",
   "id": "a0488baf-131c-45af-befc-d607d0a76cf1",
   "metadata": {},
   "source": [
    "## Define Deepchecks Datasets"
   ]
  },
  {
   "cell_type": "code",
   "execution_count": 4,
   "id": "d15e7598-6b3d-46e6-990a-dbdb69dca00e",
   "metadata": {},
   "outputs": [],
   "source": [
    "ds_train = Dataset(df_train, label=label_col)\n",
    "ds_test =  Dataset(df_test,  label=label_col)"
   ]
  },
  {
   "cell_type": "markdown",
   "id": "072d644b-e9bf-4b4b-9923-481af5975309",
   "metadata": {},
   "source": [
    "## Train Model"
   ]
  },
  {
   "cell_type": "code",
   "execution_count": 5,
   "id": "d6fd4c0e-c053-465d-8a29-83af1341c2c3",
   "metadata": {},
   "outputs": [],
   "source": [
    "rf_clf = RandomForestClassifier()\n",
    "rf_clf.fit(ds_train.features_columns(), ds_train.label_col());"
   ]
  },
  {
   "cell_type": "markdown",
   "id": "cd416b0e-b2ab-4742-8ff7-45fd569fede3",
   "metadata": {},
   "source": [
    "## Define Custom Check"
   ]
  },
  {
   "cell_type": "markdown",
   "id": "23366863-a946-4c2c-a9bb-1e72550498fc",
   "metadata": {},
   "source": [
    "Our custom check class will inherit from SingleDatasetBaseCheck because it is used for single dataset checks.\n",
    "Other available classes are:"
   ]
  },
  {
   "cell_type": "code",
   "execution_count": 20,
   "id": "764643c9-00d2-4fd5-ac32-a26d58da83bc",
   "metadata": {},
   "outputs": [
    {
     "name": "stdout",
     "output_type": "stream",
     "text": [
      "['BaseCheck', 'CompareDatasetsBaseCheck', 'ModelOnlyBaseCheck', 'SingleDatasetBaseCheck', 'TrainTestBaseCheck']\n"
     ]
    }
   ],
   "source": [
    "import deepchecks\n",
    "print([class_name for class_name in dir(deepchecks.base.check) if class_name.endswith('BaseCheck')])"
   ]
  },
  {
   "cell_type": "markdown",
   "id": "445d5f9a-4d94-46e9-b847-af44f186ec3b",
   "metadata": {},
   "source": [
    "### The check we are creating finds diffrence in target prediction distribution by bins of a selected numeric feature.<br>It also displays an histogram for that data."
   ]
  },
  {
   "cell_type": "code",
   "execution_count": 7,
   "id": "4efc33a2-437f-4026-b434-3c833c727cd3",
   "metadata": {},
   "outputs": [],
   "source": [
    "class CustomCheck(SingleDatasetBaseCheck):\n",
    "    def __init__(self, selected_feature: str, bins_amount: int = 3):\n",
    "        self.selected_feature = selected_feature\n",
    "        self.bins_amount = bins_amount\n",
    "        super().__init__()\n",
    "\n",
    "    def run(self, dataset: Dataset, model: BaseEstimator) -> CheckResult:\n",
    "        binned_col_name = self.selected_feature + ' binned'\n",
    "        y_pred = model.predict(dataset.features_columns())\n",
    "\n",
    "        min_val = dataset.data[self.selected_feature].min()\n",
    "        max_val = dataset.data[self.selected_feature].max()\n",
    "        increment = (max_val - min_val) / self.bins_amount\n",
    "        \n",
    "        bins = []\n",
    "        labels = []\n",
    "        for i in range(self.bins_amount):\n",
    "            labels.append(i + 1)\n",
    "            bins.append(min_val + i * increment)\n",
    "        bins.append(min_val + self.bins_amount * increment)\n",
    "        df = dataset.data.copy()\n",
    "        df[binned_col_name] = pd.cut(dataset.data[self.selected_feature], bins, labels=labels, include_lowest=True)\n",
    "        df['y_pred'] = y_pred\n",
    "\n",
    "        targets = dataset.label_col().unique()\n",
    "        dist_ratio = {}\n",
    "        for bin_i in range(self.bins_amount): \n",
    "            dist_ratio[bin_i] = {}\n",
    "            for target in targets:\n",
    "                dist = df.loc[df[binned_col_name] == (bin_i + 1)]\n",
    "                tot_in_bin = len(dist)\n",
    "                tot_of_target = len(dist.loc[dist['y_pred'] == target])\n",
    "                dist_ratio[bin_i][target] = tot_of_target / tot_in_bin\n",
    "        dist_ratio['original'] = {}\n",
    "        len_df = len(df)\n",
    "        for target in targets:\n",
    "            tot_of_target = len(df.loc[df['y_pred'] == target])\n",
    "            dist_ratio['original'][target] = tot_of_target / len_df  \n",
    "        \n",
    "        # add custom display function\n",
    "        def display():\n",
    "            targets_range = (dataset.label_col().min(), dataset.label_col().max())\n",
    "            fig, axs = plt.subplots(1, self.bins_amount + 1, tight_layout=True)\n",
    "            plt.setp(axs, xticks=targets)\n",
    "            for i in range(self.bins_amount):\n",
    "                dist = df.loc[df[binned_col_name] == (i + 1)]['y_pred']\n",
    "                axs[i].hist(dist, range=targets_range)\n",
    "                axs[i].set_xlabel(f'bin {i+1}')\n",
    "            axs[self.bins_amount].hist(df['y_pred'], range=targets_range)\n",
    "            axs[self.bins_amount].set_xlabel('original dataset')\n",
    "\n",
    "        return CheckResult(dist_ratio, display=display, check=self.__class__)"
   ]
  },
  {
   "cell_type": "markdown",
   "id": "1994ade2-b6aa-47dc-afe0-3f7a60212d98",
   "metadata": {},
   "source": [
    "## Run the custom check"
   ]
  },
  {
   "cell_type": "code",
   "execution_count": 8,
   "id": "f194fd54-b361-4ca6-a2d3-a1fc753e1998",
   "metadata": {},
   "outputs": [],
   "source": [
    "val = CustomCheck('petal width (cm)').run(ds_test, rf_clf)"
   ]
  },
  {
   "cell_type": "code",
   "execution_count": 9,
   "id": "0c28a4ae-1396-4b84-a507-c9a2cea590a9",
   "metadata": {},
   "outputs": [
    {
     "data": {
      "text/html": [
       "<h4>Custom Check</h4>"
      ]
     },
     "metadata": {},
     "output_type": "display_data"
    },
    {
     "data": {
      "image/png": "[encoded data removed]",
      "text/plain": [
       "<Figure size 432x288 with 4 Axes>"
      ]
     },
     "metadata": {
      "needs_background": "light"
     },
     "output_type": "display_data"
    }
   ],
   "source": [
    "val"
   ]
  },
  {
   "cell_type": "markdown",
   "id": "f8f61256-5223-4dc1-b8dd-60622e50e735",
   "metadata": {},
   "source": [
    "## Add a custom condition on the fly"
   ]
  },
  {
   "cell_type": "markdown",
   "id": "a4fa6383-4519-4074-b23f-70a73212d9e1",
   "metadata": {},
   "source": [
    "#### A condition for a check defines when we can see the check as a success or a failure. <br> For that we will define a class function that will add the condition function for the check. The condition function will return a ConditionResult object that recives True if the condition applys or False if not (you can also add a potential text that explain why it failed)"
   ]
  },
  {
   "cell_type": "code",
   "execution_count": 10,
   "id": "376040d7-6765-43b0-93c1-7d9d15794c0e",
   "metadata": {},
   "outputs": [],
   "source": [
    "def add_condition_distribution_change_not_greater_than(self, max_change = 0.33):\n",
    "    # define custom condition function\n",
    "    def condition(result: Dict) -> ConditionResult:\n",
    "        failed_bins = {}\n",
    "        original_dist = result.pop('original')\n",
    "        for bin_i in result.keys():\n",
    "            failed_targets = {}\n",
    "            for target in original_dist.keys():\n",
    "                bin_ratio = result[bin_i][target]\n",
    "                original_ratio = original_dist[target]\n",
    "                change = bin_ratio - original_ratio\n",
    "                change = max(change, -change)\n",
    "                if change > max_change:\n",
    "                    failed_targets[target] = f'target {target}: ratio {bin_ratio:.2} vs {original_ratio:.2}'\n",
    "            if failed_targets:\n",
    "                failed_bins[bin_i + 1] = f'bin {bin_i + 1}: {list(failed_targets.values())}'\n",
    "        if failed_bins:\n",
    "            return ConditionResult(False,\n",
    "                                   f'{list(failed_bins.values())}')\n",
    "        else:\n",
    "            return ConditionResult(True)\n",
    "\n",
    "    return self.add_condition(f'Change not greater than {max_change}', condition)"
   ]
  },
  {
   "cell_type": "code",
   "execution_count": 11,
   "id": "e055d7b3-fea2-4666-9d52-30ca8bc41cbb",
   "metadata": {},
   "outputs": [],
   "source": [
    "# add your custom condition to the check class\n",
    "CustomCheck.add_condition_distribution_change_not_greater_than = add_condition_distribution_change_not_greater_than"
   ]
  },
  {
   "cell_type": "markdown",
   "id": "46800012-3dbd-4cc8-984f-0e9056f15ab5",
   "metadata": {},
   "source": [
    "## Run a simple custom suite"
   ]
  },
  {
   "cell_type": "code",
   "execution_count": 12,
   "id": "eacd8874-1df1-4ba5-9d46-b1926c634ee0",
   "metadata": {},
   "outputs": [],
   "source": [
    "# define the check to run in the suite\n",
    "check = CustomCheck('sepal width (cm)').add_condition_distribution_change_not_greater_than()"
   ]
  },
  {
   "cell_type": "code",
   "execution_count": 14,
   "id": "33ac2043-dd17-4f4a-bf4d-5295d25b1d02",
   "metadata": {},
   "outputs": [
    {
     "name": "stdout",
     "output_type": "stream",
     "text": [
      "                                                                  \r"
     ]
    },
    {
     "data": {
      "text/html": [
       "\n",
       "    <h1>Custom Suite</h1>\n",
       "    <p>The suite is composed of various checks such as: Custom Check, etc...<br>\n",
       "    Each check may contain conditions (which results in \n",
       "    <span style=\"color: green;display:inline-block\">✓</span> /\n",
       "    <span style=\"color: red;display:inline-block\">✖</span> /\n",
       "    <span style=\"color: orange;font-weight:bold;display:inline-block\">!</span>\n",
       "    ), as well as other outputs such as plots or tables.<br>\n",
       "    Suites, checks and conditions can all be modified (see tutorial [link]).</p>\n",
       "    <hr style=\"background-color: black;border: 0 none;color: black;height: 1px;\"><h2>Conditions Summary</h2>\n",
       "    "
      ]
     },
     "metadata": {},
     "output_type": "display_data"
    },
    {
     "data": {
      "text/html": [
       "<style type=\"text/css\">\n",
       "#T_e67f4_ table {\n",
       "  text-align: left;\n",
       "}\n",
       "#T_e67f4_ thead {\n",
       "  text-align: left;\n",
       "}\n",
       "#T_e67f4_ tbody {\n",
       "  text-align: left;\n",
       "}\n",
       "#T_e67f4_ th {\n",
       "  text-align: left;\n",
       "}\n",
       "#T_e67f4_ td {\n",
       "  text-align: left;\n",
       "}\n",
       "</style>\n",
       "<table id=\"T_e67f4_\">\n",
       "  <thead>\n",
       "    <tr>\n",
       "      <th class=\"col_heading level0 col0\" >Status</th>\n",
       "      <th class=\"col_heading level0 col1\" >Check</th>\n",
       "      <th class=\"col_heading level0 col2\" >Condition</th>\n",
       "      <th class=\"col_heading level0 col3\" >More Info</th>\n",
       "    </tr>\n",
       "  </thead>\n",
       "  <tbody>\n",
       "    <tr>\n",
       "      <td id=\"T_e67f4_row0_col0\" class=\"data row0 col0\" ><div style=\"color: red;text-align: center\">✖</div></td>\n",
       "      <td id=\"T_e67f4_row0_col1\" class=\"data row0 col1\" >Custom Check - Test Dataset</td>\n",
       "      <td id=\"T_e67f4_row0_col2\" class=\"data row0 col2\" >Change not greater than 0.33</td>\n",
       "      <td id=\"T_e67f4_row0_col3\" class=\"data row0 col3\" >[\"bin 1: ['target 0: ratio 0.0 vs 0.34']\", \"bin 3: ['target 0: ratio 0.75 vs 0.34']\"]</td>\n",
       "    </tr>\n",
       "  </tbody>\n",
       "</table>\n"
      ]
     },
     "metadata": {},
     "output_type": "display_data"
    },
    {
     "data": {
      "text/html": [
       "<hr style=\"background-color: black;border: 0 none;color: black;height: 1px;\"><h2>Additional Outputs</h2>"
      ]
     },
     "metadata": {},
     "output_type": "display_data"
    },
    {
     "data": {
      "text/html": [
       "<h4>Custom Check - Test Dataset</h4>"
      ]
     },
     "metadata": {},
     "output_type": "display_data"
    },
    {
     "data": {
      "image/png": "[encoded data removed]",
      "text/plain": [
       "<Figure size 432x288 with 4 Axes>"
      ]
     },
     "metadata": {
      "needs_background": "light"
     },
     "output_type": "display_data"
    }
   ],
   "source": [
    "Suite('Custom Suite', check).run(train_dataset=ds_train, test_dataset=ds_test, model=rf_clf, check_datasets_policy='test')"
   ]
  },
  {
   "cell_type": "code",
   "execution_count": null,
   "id": "4b88c80b-c8bc-4afc-95a1-af4a8d281796",
   "metadata": {},
   "outputs": [],
   "source": []
  }
 ],
 "metadata": {
  "kernelspec": {
   "display_name": "Python 3 (ipykernel)",
   "language": "python",
   "name": "python3"
  },
  "language_info": {
   "codemirror_mode": {
    "name": "ipython",
    "version": 3
   },
   "file_extension": ".py",
   "mimetype": "text/x-python",
   "name": "python",
   "nbconvert_exporter": "python",
   "pygments_lexer": "ipython3",
   "version": "3.8.12"
  }
 },
 "nbformat": 4,
 "nbformat_minor": 5
}
