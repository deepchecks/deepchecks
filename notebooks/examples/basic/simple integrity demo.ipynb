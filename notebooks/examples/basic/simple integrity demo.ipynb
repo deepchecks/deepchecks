{
 "cells": [
  {
   "cell_type": "markdown",
   "id": "08eb6950",
   "metadata": {},
   "source": [
    "## Import"
   ]
  },
  {
   "cell_type": "code",
   "execution_count": 1,
   "id": "58f8f2df",
   "metadata": {},
   "outputs": [],
   "source": [
    "import pandas as pd\n",
    "from sklearn.datasets import load_iris"
   ]
  },
  {
   "cell_type": "markdown",
   "id": "188ce9dc",
   "metadata": {},
   "source": [
    "## Load data and split train-val"
   ]
  },
  {
   "cell_type": "code",
   "execution_count": 2,
   "id": "7cd0662e",
   "metadata": {},
   "outputs": [],
   "source": [
    "iris_df = load_iris(return_X_y=False, as_frame=True)['frame']\n",
    "train_len = round(0.67*len(iris_df))\n",
    "df_train = iris_df[:train_len]\n",
    "df_test = iris_df[train_len:]"
   ]
  },
  {
   "cell_type": "markdown",
   "id": "37425f9d",
   "metadata": {},
   "source": [
    "## Check data integrity"
   ]
  },
  {
   "cell_type": "code",
   "execution_count": 3,
   "id": "44ec7500",
   "metadata": {},
   "outputs": [],
   "source": [
    "from deepchecks.suites import integrity_suite"
   ]
  },
  {
   "cell_type": "code",
   "execution_count": 4,
   "id": "e39af288",
   "metadata": {
    "scrolled": true,
    "tags": []
   },
   "outputs": [
    {
     "name": "stdout",
     "output_type": "stream",
     "text": [
      "                                                                                                           \r"
     ]
    },
    {
     "data": {
      "text/html": [
       "\n",
       "    <h1>Integrity Suite</h1>\n",
       "    <p>The suite is composed of various checks such as: Is Single Value, Mixed Nulls, Mixed Types, etc...<br>\n",
       "    Each check may contain conditions (which results in \n",
       "    <span style=\"color: green;display:inline-block\">✓</span> /\n",
       "    <span style=\"color: red;display:inline-block\">✖</span> /\n",
       "    <span style=\"color: orange;font-weight:bold;display:inline-block\">!</span>\n",
       "    ), as well as other outputs such as plots or tables.<br>\n",
       "    Suites, checks and conditions can all be modified (see tutorial [link]).</p>\n",
       "    <hr style=\"background-color: black;border: 0 none;color: black;height: 1px;\"><h2>Conditions Summary</h2>\n",
       "    "
      ]
     },
     "metadata": {},
     "output_type": "display_data"
    },
    {
     "data": {
      "text/html": [
       "<style type=\"text/css\">\n",
       "#T_fb5c8_ table {\n",
       "  text-align: left;\n",
       "}\n",
       "#T_fb5c8_ thead {\n",
       "  text-align: left;\n",
       "}\n",
       "#T_fb5c8_ tbody {\n",
       "  text-align: left;\n",
       "}\n",
       "#T_fb5c8_ th {\n",
       "  text-align: left;\n",
       "}\n",
       "#T_fb5c8_ td {\n",
       "  text-align: left;\n",
       "}\n",
       "</style>\n",
       "<table id=\"T_fb5c8_\">\n",
       "  <thead>\n",
       "    <tr>\n",
       "      <th class=\"col_heading level0 col0\" >Status</th>\n",
       "      <th class=\"col_heading level0 col1\" >Check</th>\n",
       "      <th class=\"col_heading level0 col2\" >Condition</th>\n",
       "      <th class=\"col_heading level0 col3\" >More Info</th>\n",
       "    </tr>\n",
       "  </thead>\n",
       "  <tbody>\n",
       "    <tr>\n",
       "      <td id=\"T_fb5c8_row0_col0\" class=\"data row0 col0\" ><div style=\"color: red;text-align: center\">✖</div></td>\n",
       "      <td id=\"T_fb5c8_row0_col1\" class=\"data row0 col1\" >Data Duplicates - Test Dataset</td>\n",
       "      <td id=\"T_fb5c8_row0_col2\" class=\"data row0 col2\" >Duplicate data is not greater than 0%</td>\n",
       "      <td id=\"T_fb5c8_row0_col3\" class=\"data row0 col3\" >Found 2.00% duplicate data</td>\n",
       "    </tr>\n",
       "    <tr>\n",
       "      <td id=\"T_fb5c8_row1_col0\" class=\"data row1 col0\" ><div style=\"color: red;text-align: center\">✖</div></td>\n",
       "      <td id=\"T_fb5c8_row1_col1\" class=\"data row1 col1\" >Dominant Frequency Change</td>\n",
       "      <td id=\"T_fb5c8_row1_col2\" class=\"data row1 col2\" >Change in ratio of dominant value in data not more than 25.00%</td>\n",
       "      <td id=\"T_fb5c8_row1_col3\" class=\"data row1 col3\" >Found columns with high change in dominant value: ['target']</td>\n",
       "    </tr>\n",
       "    <tr>\n",
       "      <td id=\"T_fb5c8_row2_col0\" class=\"data row2 col0\" ><div style=\"color: red;text-align: center\">✖</div></td>\n",
       "      <td id=\"T_fb5c8_row2_col1\" class=\"data row2 col1\" >Single Value in Column - Test Dataset</td>\n",
       "      <td id=\"T_fb5c8_row2_col2\" class=\"data row2 col2\" >Does not contain only a single value for all columns</td>\n",
       "      <td id=\"T_fb5c8_row2_col3\" class=\"data row2 col3\" >Columns containing a single value: ['target']</td>\n",
       "    </tr>\n",
       "    <tr>\n",
       "      <td id=\"T_fb5c8_row3_col0\" class=\"data row3 col0\" ><div style=\"color: green;text-align: center\">✓</div></td>\n",
       "      <td id=\"T_fb5c8_row3_col1\" class=\"data row3 col1\" >Mixed Nulls - Train Dataset</td>\n",
       "      <td id=\"T_fb5c8_row3_col2\" class=\"data row3 col2\" >Not more than 1 different null types for all columns</td>\n",
       "      <td id=\"T_fb5c8_row3_col3\" class=\"data row3 col3\" ></td>\n",
       "    </tr>\n",
       "    <tr>\n",
       "      <td id=\"T_fb5c8_row4_col0\" class=\"data row4 col0\" ><div style=\"color: green;text-align: center\">✓</div></td>\n",
       "      <td id=\"T_fb5c8_row4_col1\" class=\"data row4 col1\" >String Mismatch Comparison</td>\n",
       "      <td id=\"T_fb5c8_row4_col2\" class=\"data row4 col2\" >No new variants allowed in test data for all columns</td>\n",
       "      <td id=\"T_fb5c8_row4_col3\" class=\"data row4 col3\" ></td>\n",
       "    </tr>\n",
       "    <tr>\n",
       "      <td id=\"T_fb5c8_row5_col0\" class=\"data row5 col0\" ><div style=\"color: green;text-align: center\">✓</div></td>\n",
       "      <td id=\"T_fb5c8_row5_col1\" class=\"data row5 col1\" >Special Characters - Test Dataset</td>\n",
       "      <td id=\"T_fb5c8_row5_col2\" class=\"data row5 col2\" >Ratio of entirely special character samples not greater than 0.10% for all columns</td>\n",
       "      <td id=\"T_fb5c8_row5_col3\" class=\"data row5 col3\" ></td>\n",
       "    </tr>\n",
       "    <tr>\n",
       "      <td id=\"T_fb5c8_row6_col0\" class=\"data row6 col0\" ><div style=\"color: green;text-align: center\">✓</div></td>\n",
       "      <td id=\"T_fb5c8_row6_col1\" class=\"data row6 col1\" >Special Characters - Train Dataset</td>\n",
       "      <td id=\"T_fb5c8_row6_col2\" class=\"data row6 col2\" >Ratio of entirely special character samples not greater than 0.10% for all columns</td>\n",
       "      <td id=\"T_fb5c8_row6_col3\" class=\"data row6 col3\" ></td>\n",
       "    </tr>\n",
       "    <tr>\n",
       "      <td id=\"T_fb5c8_row7_col0\" class=\"data row7 col0\" ><div style=\"color: green;text-align: center\">✓</div></td>\n",
       "      <td id=\"T_fb5c8_row7_col1\" class=\"data row7 col1\" >String Length Out Of Bounds - Test Dataset</td>\n",
       "      <td id=\"T_fb5c8_row7_col2\" class=\"data row7 col2\" >Ratio of outliers not greater than 0% string length outliers for all columns</td>\n",
       "      <td id=\"T_fb5c8_row7_col3\" class=\"data row7 col3\" ></td>\n",
       "    </tr>\n",
       "    <tr>\n",
       "      <td id=\"T_fb5c8_row8_col0\" class=\"data row8 col0\" ><div style=\"color: green;text-align: center\">✓</div></td>\n",
       "      <td id=\"T_fb5c8_row8_col1\" class=\"data row8 col1\" >String Length Out Of Bounds - Train Dataset</td>\n",
       "      <td id=\"T_fb5c8_row8_col2\" class=\"data row8 col2\" >Ratio of outliers not greater than 0% string length outliers for all columns</td>\n",
       "      <td id=\"T_fb5c8_row8_col3\" class=\"data row8 col3\" ></td>\n",
       "    </tr>\n",
       "    <tr>\n",
       "      <td id=\"T_fb5c8_row9_col0\" class=\"data row9 col0\" ><div style=\"color: green;text-align: center\">✓</div></td>\n",
       "      <td id=\"T_fb5c8_row9_col1\" class=\"data row9 col1\" >Rare Format Detection - Test Dataset</td>\n",
       "      <td id=\"T_fb5c8_row9_col2\" class=\"data row9 col2\" >Rare formats ratio is not greater than 0</td>\n",
       "      <td id=\"T_fb5c8_row9_col3\" class=\"data row9 col3\" ></td>\n",
       "    </tr>\n",
       "    <tr>\n",
       "      <td id=\"T_fb5c8_row10_col0\" class=\"data row10 col0\" ><div style=\"color: green;text-align: center\">✓</div></td>\n",
       "      <td id=\"T_fb5c8_row10_col1\" class=\"data row10 col1\" >Rare Format Detection - Train Dataset</td>\n",
       "      <td id=\"T_fb5c8_row10_col2\" class=\"data row10 col2\" >Rare formats ratio is not greater than 0</td>\n",
       "      <td id=\"T_fb5c8_row10_col3\" class=\"data row10 col3\" ></td>\n",
       "    </tr>\n",
       "    <tr>\n",
       "      <td id=\"T_fb5c8_row11_col0\" class=\"data row11 col0\" ><div style=\"color: green;text-align: center\">✓</div></td>\n",
       "      <td id=\"T_fb5c8_row11_col1\" class=\"data row11 col1\" >Data Duplicates - Train Dataset</td>\n",
       "      <td id=\"T_fb5c8_row11_col2\" class=\"data row11 col2\" >Duplicate data is not greater than 0%</td>\n",
       "      <td id=\"T_fb5c8_row11_col3\" class=\"data row11 col3\" ></td>\n",
       "    </tr>\n",
       "    <tr>\n",
       "      <td id=\"T_fb5c8_row12_col0\" class=\"data row12 col0\" ><div style=\"color: green;text-align: center\">✓</div></td>\n",
       "      <td id=\"T_fb5c8_row12_col1\" class=\"data row12 col1\" >String Mismatch - Test Dataset</td>\n",
       "      <td id=\"T_fb5c8_row12_col2\" class=\"data row12 col2\" >No string variants for all columns</td>\n",
       "      <td id=\"T_fb5c8_row12_col3\" class=\"data row12 col3\" ></td>\n",
       "    </tr>\n",
       "    <tr>\n",
       "      <td id=\"T_fb5c8_row13_col0\" class=\"data row13 col0\" ><div style=\"color: green;text-align: center\">✓</div></td>\n",
       "      <td id=\"T_fb5c8_row13_col1\" class=\"data row13 col1\" >String Mismatch - Train Dataset</td>\n",
       "      <td id=\"T_fb5c8_row13_col2\" class=\"data row13 col2\" >No string variants for all columns</td>\n",
       "      <td id=\"T_fb5c8_row13_col3\" class=\"data row13 col3\" ></td>\n",
       "    </tr>\n",
       "    <tr>\n",
       "      <td id=\"T_fb5c8_row14_col0\" class=\"data row14 col0\" ><div style=\"color: green;text-align: center\">✓</div></td>\n",
       "      <td id=\"T_fb5c8_row14_col1\" class=\"data row14 col1\" >Mixed Types - Test Dataset</td>\n",
       "      <td id=\"T_fb5c8_row14_col2\" class=\"data row14 col2\" >Rare type ratio is not less than 1.00% of samples in all columns</td>\n",
       "      <td id=\"T_fb5c8_row14_col3\" class=\"data row14 col3\" ></td>\n",
       "    </tr>\n",
       "    <tr>\n",
       "      <td id=\"T_fb5c8_row15_col0\" class=\"data row15 col0\" ><div style=\"color: green;text-align: center\">✓</div></td>\n",
       "      <td id=\"T_fb5c8_row15_col1\" class=\"data row15 col1\" >Mixed Types - Train Dataset</td>\n",
       "      <td id=\"T_fb5c8_row15_col2\" class=\"data row15 col2\" >Rare type ratio is not less than 1.00% of samples in all columns</td>\n",
       "      <td id=\"T_fb5c8_row15_col3\" class=\"data row15 col3\" ></td>\n",
       "    </tr>\n",
       "    <tr>\n",
       "      <td id=\"T_fb5c8_row16_col0\" class=\"data row16 col0\" ><div style=\"color: green;text-align: center\">✓</div></td>\n",
       "      <td id=\"T_fb5c8_row16_col1\" class=\"data row16 col1\" >Mixed Nulls - Test Dataset</td>\n",
       "      <td id=\"T_fb5c8_row16_col2\" class=\"data row16 col2\" >Not more than 1 different null types for all columns</td>\n",
       "      <td id=\"T_fb5c8_row16_col3\" class=\"data row16 col3\" ></td>\n",
       "    </tr>\n",
       "    <tr>\n",
       "      <td id=\"T_fb5c8_row17_col0\" class=\"data row17 col0\" ><div style=\"color: green;text-align: center\">✓</div></td>\n",
       "      <td id=\"T_fb5c8_row17_col1\" class=\"data row17 col1\" >Category Mismatch Train Test</td>\n",
       "      <td id=\"T_fb5c8_row17_col2\" class=\"data row17 col2\" >Number of new category values is not greater than 0 for all columns</td>\n",
       "      <td id=\"T_fb5c8_row17_col3\" class=\"data row17 col3\" ></td>\n",
       "    </tr>\n",
       "    <tr>\n",
       "      <td id=\"T_fb5c8_row18_col0\" class=\"data row18 col0\" ><div style=\"color: green;text-align: center\">✓</div></td>\n",
       "      <td id=\"T_fb5c8_row18_col1\" class=\"data row18 col1\" >Single Value in Column - Train Dataset</td>\n",
       "      <td id=\"T_fb5c8_row18_col2\" class=\"data row18 col2\" >Does not contain only a single value for all columns</td>\n",
       "      <td id=\"T_fb5c8_row18_col3\" class=\"data row18 col3\" ></td>\n",
       "    </tr>\n",
       "  </tbody>\n",
       "</table>\n"
      ]
     },
     "metadata": {},
     "output_type": "display_data"
    },
    {
     "data": {
      "text/html": [
       "<hr style=\"background-color: black;border: 0 none;color: black;height: 1px;\"><h2>Additional Outputs</h2>"
      ]
     },
     "metadata": {},
     "output_type": "display_data"
    },
    {
     "data": {
      "text/html": [
       "<h4>Single Value in Column - Test Dataset</h4>"
      ]
     },
     "metadata": {},
     "output_type": "display_data"
    },
    {
     "data": {
      "text/html": [
       "<p>Check if there are columns which have only a single unique value in all rows.</p>"
      ]
     },
     "metadata": {},
     "output_type": "display_data"
    },
    {
     "data": {
      "text/html": [
       "The following columns have only one unique value"
      ]
     },
     "metadata": {},
     "output_type": "display_data"
    },
    {
     "data": {
      "text/html": [
       "<style type=\"text/css\">\n",
       "#T_0c664_ table {\n",
       "  text-align: left;\n",
       "}\n",
       "#T_0c664_ thead {\n",
       "  text-align: left;\n",
       "}\n",
       "#T_0c664_ tbody {\n",
       "  text-align: left;\n",
       "}\n",
       "#T_0c664_ th {\n",
       "  text-align: left;\n",
       "}\n",
       "#T_0c664_ td {\n",
       "  text-align: left;\n",
       "}\n",
       "</style>\n",
       "<table id=\"T_0c664_\">\n",
       "  <thead>\n",
       "    <tr>\n",
       "      <th class=\"blank level0\" >&nbsp;</th>\n",
       "      <th class=\"col_heading level0 col0\" >target</th>\n",
       "    </tr>\n",
       "  </thead>\n",
       "  <tbody>\n",
       "    <tr>\n",
       "      <th id=\"T_0c664_level0_row0\" class=\"row_heading level0 row0\" >Single unique value</th>\n",
       "      <td id=\"T_0c664_row0_col0\" class=\"data row0 col0\" >2</td>\n",
       "    </tr>\n",
       "  </tbody>\n",
       "</table>\n"
      ]
     },
     "metadata": {},
     "output_type": "display_data"
    },
    {
     "data": {
      "text/html": [
       "<hr style=\"background-color: #eee;border: 0 none;color: #eee;height: 1px;\">"
      ]
     },
     "metadata": {},
     "output_type": "display_data"
    },
    {
     "data": {
      "text/html": [
       "<h4>Data Duplicates - Test Dataset</h4>"
      ]
     },
     "metadata": {},
     "output_type": "display_data"
    },
    {
     "data": {
      "text/html": [
       "<p>Search for duplicate data in dataset.</p>"
      ]
     },
     "metadata": {},
     "output_type": "display_data"
    },
    {
     "data": {
      "text/html": [
       "2.00% of data samples are duplicates"
      ]
     },
     "metadata": {},
     "output_type": "display_data"
    },
    {
     "data": {
      "text/html": [
       "<style type=\"text/css\">\n",
       "#T_57822_ table {\n",
       "  text-align: left;\n",
       "}\n",
       "#T_57822_ thead {\n",
       "  text-align: left;\n",
       "}\n",
       "#T_57822_ tbody {\n",
       "  text-align: left;\n",
       "}\n",
       "#T_57822_ th {\n",
       "  text-align: left;\n",
       "}\n",
       "#T_57822_ td {\n",
       "  text-align: left;\n",
       "}\n",
       "</style>\n",
       "<table id=\"T_57822_\">\n",
       "  <thead>\n",
       "    <tr>\n",
       "      <th class=\"blank level0\" >&nbsp;</th>\n",
       "      <th class=\"col_heading level0 col0\" >sepal length (cm)</th>\n",
       "      <th class=\"col_heading level0 col1\" >sepal width (cm)</th>\n",
       "      <th class=\"col_heading level0 col2\" >petal length (cm)</th>\n",
       "      <th class=\"col_heading level0 col3\" >petal width (cm)</th>\n",
       "      <th class=\"col_heading level0 col4\" >target</th>\n",
       "    </tr>\n",
       "    <tr>\n",
       "      <th class=\"index_name level0\" >Number of Duplicates</th>\n",
       "      <th class=\"blank col0\" >&nbsp;</th>\n",
       "      <th class=\"blank col1\" >&nbsp;</th>\n",
       "      <th class=\"blank col2\" >&nbsp;</th>\n",
       "      <th class=\"blank col3\" >&nbsp;</th>\n",
       "      <th class=\"blank col4\" >&nbsp;</th>\n",
       "    </tr>\n",
       "  </thead>\n",
       "  <tbody>\n",
       "    <tr>\n",
       "      <th id=\"T_57822_level0_row0\" class=\"row_heading level0 row0\" >2</th>\n",
       "      <td id=\"T_57822_row0_col0\" class=\"data row0 col0\" >5.80</td>\n",
       "      <td id=\"T_57822_row0_col1\" class=\"data row0 col1\" >2.70</td>\n",
       "      <td id=\"T_57822_row0_col2\" class=\"data row0 col2\" >5.10</td>\n",
       "      <td id=\"T_57822_row0_col3\" class=\"data row0 col3\" >1.90</td>\n",
       "      <td id=\"T_57822_row0_col4\" class=\"data row0 col4\" >2</td>\n",
       "    </tr>\n",
       "  </tbody>\n",
       "</table>\n"
      ]
     },
     "metadata": {},
     "output_type": "display_data"
    },
    {
     "data": {
      "text/html": [
       "<hr style=\"background-color: #eee;border: 0 none;color: #eee;height: 1px;\">"
      ]
     },
     "metadata": {},
     "output_type": "display_data"
    },
    {
     "data": {
      "text/html": [
       "<h4>Dominant Frequency Change</h4>"
      ]
     },
     "metadata": {},
     "output_type": "display_data"
    },
    {
     "data": {
      "text/html": [
       "<p>Check if dominant values have increased significantly between test and reference data.</p>"
      ]
     },
     "metadata": {},
     "output_type": "display_data"
    },
    {
     "data": {
      "text/html": [
       "<style type=\"text/css\">\n",
       "#T_d1089_ table {\n",
       "  text-align: left;\n",
       "}\n",
       "#T_d1089_ thead {\n",
       "  text-align: left;\n",
       "}\n",
       "#T_d1089_ tbody {\n",
       "  text-align: left;\n",
       "}\n",
       "#T_d1089_ th {\n",
       "  text-align: left;\n",
       "}\n",
       "#T_d1089_ td {\n",
       "  text-align: left;\n",
       "}\n",
       "</style>\n",
       "<table id=\"T_d1089_\">\n",
       "  <thead>\n",
       "    <tr>\n",
       "      <th class=\"blank level0\" >&nbsp;</th>\n",
       "      <th class=\"col_heading level0 col0\" >Value</th>\n",
       "      <th class=\"col_heading level0 col1\" >Reference data %</th>\n",
       "      <th class=\"col_heading level0 col2\" >Tested data %</th>\n",
       "      <th class=\"col_heading level0 col3\" >Reference data #</th>\n",
       "      <th class=\"col_heading level0 col4\" >Tested data #</th>\n",
       "      <th class=\"col_heading level0 col5\" >P value</th>\n",
       "    </tr>\n",
       "  </thead>\n",
       "  <tbody>\n",
       "    <tr>\n",
       "      <th id=\"T_d1089_level0_row0\" class=\"row_heading level0 row0\" >petal width (cm)</th>\n",
       "      <td id=\"T_d1089_row0_col0\" class=\"data row0 col0\" >0.20</td>\n",
       "      <td id=\"T_d1089_row0_col1\" class=\"data row0 col1\" >29.00</td>\n",
       "      <td id=\"T_d1089_row0_col2\" class=\"data row0 col2\" >0.00</td>\n",
       "      <td id=\"T_d1089_row0_col3\" class=\"data row0 col3\" >29</td>\n",
       "      <td id=\"T_d1089_row0_col4\" class=\"data row0 col4\" >0</td>\n",
       "      <td id=\"T_d1089_row0_col5\" class=\"data row0 col5\" >0.00</td>\n",
       "    </tr>\n",
       "    <tr>\n",
       "      <th id=\"T_d1089_level0_row1\" class=\"row_heading level0 row1\" >target</th>\n",
       "      <td id=\"T_d1089_row1_col0\" class=\"data row1 col0\" >2.00</td>\n",
       "      <td id=\"T_d1089_row1_col1\" class=\"data row1 col1\" >0.00</td>\n",
       "      <td id=\"T_d1089_row1_col2\" class=\"data row1 col2\" >100.00</td>\n",
       "      <td id=\"T_d1089_row1_col3\" class=\"data row1 col3\" >0</td>\n",
       "      <td id=\"T_d1089_row1_col4\" class=\"data row1 col4\" >50</td>\n",
       "      <td id=\"T_d1089_row1_col5\" class=\"data row1 col5\" >0.00</td>\n",
       "    </tr>\n",
       "  </tbody>\n",
       "</table>\n"
      ]
     },
     "metadata": {},
     "output_type": "display_data"
    },
    {
     "data": {
      "text/html": [
       "<hr style=\"background-color: black;border: 0 none;color: black;height: 1px;\">\n",
       "        <h2>Other Checks That Weren't Displayed</h2>\n",
       "        <style type=\"text/css\">\n",
       "#T_e0fe4_ table {\n",
       "  text-align: left;\n",
       "}\n",
       "#T_e0fe4_ thead {\n",
       "  text-align: left;\n",
       "}\n",
       "#T_e0fe4_ tbody {\n",
       "  text-align: left;\n",
       "}\n",
       "#T_e0fe4_ th {\n",
       "  text-align: left;\n",
       "}\n",
       "#T_e0fe4_ td {\n",
       "  text-align: left;\n",
       "}\n",
       "</style>\n",
       "<table id=\"T_e0fe4_\">\n",
       "  <thead>\n",
       "    <tr>\n",
       "      <th class=\"col_heading level0 col0\" >Check</th>\n",
       "      <th class=\"col_heading level0 col1\" >Reason</th>\n",
       "    </tr>\n",
       "  </thead>\n",
       "  <tbody>\n",
       "    <tr>\n",
       "      <td id=\"T_e0fe4_row0_col0\" class=\"data row0 col0\" >New Label Train Test</td>\n",
       "      <td id=\"T_e0fe4_row0_col1\" class=\"data row0 col1\" >DeepchecksValueError: Check NewLabelTrainTest requires dataset to have a label column</td>\n",
       "    </tr>\n",
       "    <tr>\n",
       "      <td id=\"T_e0fe4_row1_col0\" class=\"data row1 col0\" >Label Ambiguity</td>\n",
       "      <td id=\"T_e0fe4_row1_col1\" class=\"data row1 col1\" >DeepchecksValueError: Check LabelAmbiguity requires dataset to be of type Dataset. instead got: DataFrame</td>\n",
       "    </tr>\n",
       "    <tr>\n",
       "      <td id=\"T_e0fe4_row2_col0\" class=\"data row2 col0\" >String Mismatch Comparison</td>\n",
       "      <td id=\"T_e0fe4_row2_col1\" class=\"data row2 col1\" >Nothing found</td>\n",
       "    </tr>\n",
       "    <tr>\n",
       "      <td id=\"T_e0fe4_row3_col0\" class=\"data row3 col0\" >Special Characters - Test Dataset</td>\n",
       "      <td id=\"T_e0fe4_row3_col1\" class=\"data row3 col1\" >Nothing found</td>\n",
       "    </tr>\n",
       "    <tr>\n",
       "      <td id=\"T_e0fe4_row4_col0\" class=\"data row4 col0\" >Special Characters - Train Dataset</td>\n",
       "      <td id=\"T_e0fe4_row4_col1\" class=\"data row4 col1\" >Nothing found</td>\n",
       "    </tr>\n",
       "    <tr>\n",
       "      <td id=\"T_e0fe4_row5_col0\" class=\"data row5 col0\" >String Length Out Of Bounds - Test Dataset</td>\n",
       "      <td id=\"T_e0fe4_row5_col1\" class=\"data row5 col1\" >Nothing found</td>\n",
       "    </tr>\n",
       "    <tr>\n",
       "      <td id=\"T_e0fe4_row6_col0\" class=\"data row6 col0\" >String Length Out Of Bounds - Train Dataset</td>\n",
       "      <td id=\"T_e0fe4_row6_col1\" class=\"data row6 col1\" >Nothing found</td>\n",
       "    </tr>\n",
       "    <tr>\n",
       "      <td id=\"T_e0fe4_row7_col0\" class=\"data row7 col0\" >Rare Format Detection - Test Dataset</td>\n",
       "      <td id=\"T_e0fe4_row7_col1\" class=\"data row7 col1\" >Nothing found</td>\n",
       "    </tr>\n",
       "    <tr>\n",
       "      <td id=\"T_e0fe4_row8_col0\" class=\"data row8 col0\" >Single Value in Column - Train Dataset</td>\n",
       "      <td id=\"T_e0fe4_row8_col1\" class=\"data row8 col1\" >Nothing found</td>\n",
       "    </tr>\n",
       "    <tr>\n",
       "      <td id=\"T_e0fe4_row9_col0\" class=\"data row9 col0\" >Data Duplicates - Train Dataset</td>\n",
       "      <td id=\"T_e0fe4_row9_col1\" class=\"data row9 col1\" >Nothing found</td>\n",
       "    </tr>\n",
       "    <tr>\n",
       "      <td id=\"T_e0fe4_row10_col0\" class=\"data row10 col0\" >String Mismatch - Test Dataset</td>\n",
       "      <td id=\"T_e0fe4_row10_col1\" class=\"data row10 col1\" >Nothing found</td>\n",
       "    </tr>\n",
       "    <tr>\n",
       "      <td id=\"T_e0fe4_row11_col0\" class=\"data row11 col0\" >String Mismatch - Train Dataset</td>\n",
       "      <td id=\"T_e0fe4_row11_col1\" class=\"data row11 col1\" >Nothing found</td>\n",
       "    </tr>\n",
       "    <tr>\n",
       "      <td id=\"T_e0fe4_row12_col0\" class=\"data row12 col0\" >Mixed Types - Test Dataset</td>\n",
       "      <td id=\"T_e0fe4_row12_col1\" class=\"data row12 col1\" >Nothing found</td>\n",
       "    </tr>\n",
       "    <tr>\n",
       "      <td id=\"T_e0fe4_row13_col0\" class=\"data row13 col0\" >Mixed Types - Train Dataset</td>\n",
       "      <td id=\"T_e0fe4_row13_col1\" class=\"data row13 col1\" >Nothing found</td>\n",
       "    </tr>\n",
       "    <tr>\n",
       "      <td id=\"T_e0fe4_row14_col0\" class=\"data row14 col0\" >Mixed Nulls - Test Dataset</td>\n",
       "      <td id=\"T_e0fe4_row14_col1\" class=\"data row14 col1\" >Nothing found</td>\n",
       "    </tr>\n",
       "    <tr>\n",
       "      <td id=\"T_e0fe4_row15_col0\" class=\"data row15 col0\" >Mixed Nulls - Train Dataset</td>\n",
       "      <td id=\"T_e0fe4_row15_col1\" class=\"data row15 col1\" >Nothing found</td>\n",
       "    </tr>\n",
       "    <tr>\n",
       "      <td id=\"T_e0fe4_row16_col0\" class=\"data row16 col0\" >Category Mismatch Train Test</td>\n",
       "      <td id=\"T_e0fe4_row16_col1\" class=\"data row16 col1\" >Nothing found</td>\n",
       "    </tr>\n",
       "    <tr>\n",
       "      <td id=\"T_e0fe4_row17_col0\" class=\"data row17 col0\" >Rare Format Detection - Train Dataset</td>\n",
       "      <td id=\"T_e0fe4_row17_col1\" class=\"data row17 col1\" >Nothing found</td>\n",
       "    </tr>\n",
       "  </tbody>\n",
       "</table>\n",
       "\n",
       "        "
      ]
     },
     "metadata": {},
     "output_type": "display_data"
    }
   ],
   "source": [
    "integrity_suite().run(train_dataset=df_train, test_dataset=df_test, check_datasets_policy='both')"
   ]
  }
 ],
 "metadata": {
  "kernelspec": {
   "display_name": "Python 3 (ipykernel)",
   "language": "python",
   "name": "python3"
  },
  "language_info": {
   "codemirror_mode": {
    "name": "ipython",
    "version": 3
   },
   "file_extension": ".py",
   "mimetype": "text/x-python",
   "name": "python",
   "nbconvert_exporter": "python",
   "pygments_lexer": "ipython3",
   "version": "3.8.6"
  },
  "toc": {
   "base_numbering": 1,
   "nav_menu": {},
   "number_sections": true,
   "sideBar": true,
   "skip_h1_title": false,
   "title_cell": "Table of Contents",
   "title_sidebar": "Contents",
   "toc_cell": false,
   "toc_position": {},
   "toc_section_display": true,
   "toc_window_display": false
  }
 },
 "nbformat": 4,
 "nbformat_minor": 5
}