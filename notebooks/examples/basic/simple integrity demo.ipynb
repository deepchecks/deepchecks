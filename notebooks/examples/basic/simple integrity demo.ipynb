{
 "cells": [
  {
   "cell_type": "markdown",
   "id": "08eb6950",
   "metadata": {},
   "source": [
    "## Import"
   ]
  },
  {
   "cell_type": "code",
   "execution_count": 1,
   "id": "58f8f2df",
   "metadata": {},
   "outputs": [],
   "source": [
    "import pandas as pd\n",
    "from sklearn.datasets import load_iris"
   ]
  },
  {
   "cell_type": "markdown",
   "id": "188ce9dc",
   "metadata": {},
   "source": [
    "## Load data and split train-val"
   ]
  },
  {
   "cell_type": "code",
   "execution_count": 2,
   "id": "7cd0662e",
   "metadata": {},
   "outputs": [],
   "source": [
    "iris_df = load_iris(return_X_y=False, as_frame=True)['frame']\n",
    "train_len = round(0.67*len(iris_df))\n",
    "df_train = iris_df[:train_len]\n",
    "df_val = iris_df[train_len:]"
   ]
  },
  {
   "cell_type": "markdown",
   "id": "37425f9d",
   "metadata": {},
   "source": [
    "## Check data integrity"
   ]
  },
  {
   "cell_type": "code",
   "execution_count": 3,
   "id": "44ec7500",
   "metadata": {},
   "outputs": [],
   "source": [
    "from mlchecks.suites import IntegrityCheckSuite"
   ]
  },
  {
   "cell_type": "code",
   "execution_count": 4,
   "id": "e39af288",
   "metadata": {
    "scrolled": true
   },
   "outputs": [
    {
     "data": {
      "application/vnd.jupyter.widget-view+json": {
       "model_id": "",
       "version_major": 2,
       "version_minor": 0
      },
      "text/plain": [
       "VBox(children=(HTML(value=''), IntProgress(value=0, bar_style='info', max=9, style=ProgressStyle(bar_color='#9…"
      ]
     },
     "metadata": {},
     "output_type": "display_data"
    },
    {
     "data": {
      "text/html": [
       "<h2>Integrity Suite</h2>"
      ]
     },
     "metadata": {},
     "output_type": "display_data"
    },
    {
     "data": {
      "text/html": [
       "<h3>Conditions Summary</h3>"
      ]
     },
     "metadata": {},
     "output_type": "display_data"
    },
    {
     "data": {
      "text/html": [
       "<style type=\"text/css\">\n",
       "#T_ffe5f_ th {\n",
       "  text-align: left;\n",
       "}\n",
       "#T_ffe5f_ td {\n",
       "  text-align: left;\n",
       "}\n",
       "</style>\n",
       "<table id=\"T_ffe5f_\">\n",
       "  <thead>\n",
       "    <tr>\n",
       "      <th class=\"col_heading level0 col0\" >Status</th>\n",
       "      <th class=\"col_heading level0 col1\" >Check</th>\n",
       "      <th class=\"col_heading level0 col2\" >Condition</th>\n",
       "      <th class=\"col_heading level0 col3\" >More Info</th>\n",
       "    </tr>\n",
       "  </thead>\n",
       "  <tbody>\n",
       "    <tr>\n",
       "      <td id=\"T_ffe5f_row0_col0\" class=\"data row0 col0\" ><div style=\"color: green;text-align: center\">✓</div></td>\n",
       "      <td id=\"T_ffe5f_row0_col1\" class=\"data row0 col1\" >Mixed Nulls - Train Dataset</td>\n",
       "      <td id=\"T_ffe5f_row0_col2\" class=\"data row0 col2\" >Not more than 1 different null types for all columns</td>\n",
       "      <td id=\"T_ffe5f_row0_col3\" class=\"data row0 col3\" ></td>\n",
       "    </tr>\n",
       "    <tr>\n",
       "      <td id=\"T_ffe5f_row1_col0\" class=\"data row1 col0\" ><div style=\"color: green;text-align: center\">✓</div></td>\n",
       "      <td id=\"T_ffe5f_row1_col1\" class=\"data row1 col1\" >Mixed Nulls - Validation Dataset</td>\n",
       "      <td id=\"T_ffe5f_row1_col2\" class=\"data row1 col2\" >Not more than 1 different null types for all columns</td>\n",
       "      <td id=\"T_ffe5f_row1_col3\" class=\"data row1 col3\" ></td>\n",
       "    </tr>\n",
       "    <tr>\n",
       "      <td id=\"T_ffe5f_row2_col0\" class=\"data row2 col0\" ><div style=\"color: green;text-align: center\">✓</div></td>\n",
       "      <td id=\"T_ffe5f_row2_col1\" class=\"data row2 col1\" >Mixed Types - Train Dataset</td>\n",
       "      <td id=\"T_ffe5f_row2_col2\" class=\"data row2 col2\" >Rare type ratio is not less than 1.00% of samples in all columns</td>\n",
       "      <td id=\"T_ffe5f_row2_col3\" class=\"data row2 col3\" ></td>\n",
       "    </tr>\n",
       "    <tr>\n",
       "      <td id=\"T_ffe5f_row3_col0\" class=\"data row3 col0\" ><div style=\"color: green;text-align: center\">✓</div></td>\n",
       "      <td id=\"T_ffe5f_row3_col1\" class=\"data row3 col1\" >Mixed Types - Validation Dataset</td>\n",
       "      <td id=\"T_ffe5f_row3_col2\" class=\"data row3 col2\" >Rare type ratio is not less than 1.00% of samples in all columns</td>\n",
       "      <td id=\"T_ffe5f_row3_col3\" class=\"data row3 col3\" ></td>\n",
       "    </tr>\n",
       "    <tr>\n",
       "      <td id=\"T_ffe5f_row4_col0\" class=\"data row4 col0\" ><div style=\"color: green;text-align: center\">✓</div></td>\n",
       "      <td id=\"T_ffe5f_row4_col1\" class=\"data row4 col1\" >String Mismatch - Train Dataset</td>\n",
       "      <td id=\"T_ffe5f_row4_col2\" class=\"data row4 col2\" >No string variants for all columns</td>\n",
       "      <td id=\"T_ffe5f_row4_col3\" class=\"data row4 col3\" ></td>\n",
       "    </tr>\n",
       "    <tr>\n",
       "      <td id=\"T_ffe5f_row5_col0\" class=\"data row5 col0\" ><div style=\"color: green;text-align: center\">✓</div></td>\n",
       "      <td id=\"T_ffe5f_row5_col1\" class=\"data row5 col1\" >String Mismatch - Validation Dataset</td>\n",
       "      <td id=\"T_ffe5f_row5_col2\" class=\"data row5 col2\" >No string variants for all columns</td>\n",
       "      <td id=\"T_ffe5f_row5_col3\" class=\"data row5 col3\" ></td>\n",
       "    </tr>\n",
       "    <tr>\n",
       "      <td id=\"T_ffe5f_row6_col0\" class=\"data row6 col0\" ><div style=\"color: green;text-align: center\">✓</div></td>\n",
       "      <td id=\"T_ffe5f_row6_col1\" class=\"data row6 col1\" >String Mismatch Comparison</td>\n",
       "      <td id=\"T_ffe5f_row6_col2\" class=\"data row6 col2\" >No new variants allowed in validation data for all columns</td>\n",
       "      <td id=\"T_ffe5f_row6_col3\" class=\"data row6 col3\" ></td>\n",
       "    </tr>\n",
       "  </tbody>\n",
       "</table>\n"
      ]
     },
     "metadata": {},
     "output_type": "display_data"
    },
    {
     "data": {
      "text/html": [
       "<h3>Other Checks Summary (no conditions defined)</h3>"
      ]
     },
     "metadata": {},
     "output_type": "display_data"
    },
    {
     "data": {
      "text/html": [
       "<style type=\"text/css\">\n",
       "#T_4d448_ th {\n",
       "  text-align: left;\n",
       "}\n",
       "#T_4d448_ td {\n",
       "  text-align: left;\n",
       "}\n",
       "</style>\n",
       "<table id=\"T_4d448_\">\n",
       "  <thead>\n",
       "    <tr>\n",
       "      <th class=\"col_heading level0 col0\" >Check</th>\n",
       "    </tr>\n",
       "  </thead>\n",
       "  <tbody>\n",
       "    <tr>\n",
       "      <td id=\"T_4d448_row0_col0\" class=\"data row0 col0\" >Single Value in Column - Train Dataset</td>\n",
       "    </tr>\n",
       "    <tr>\n",
       "      <td id=\"T_4d448_row1_col0\" class=\"data row1 col0\" >Single Value in Column - Validation Dataset</td>\n",
       "    </tr>\n",
       "    <tr>\n",
       "      <td id=\"T_4d448_row2_col0\" class=\"data row2 col0\" >Data Duplicates - Train Dataset</td>\n",
       "    </tr>\n",
       "    <tr>\n",
       "      <td id=\"T_4d448_row3_col0\" class=\"data row3 col0\" >Data Duplicates - Validation Dataset</td>\n",
       "    </tr>\n",
       "    <tr>\n",
       "      <td id=\"T_4d448_row4_col0\" class=\"data row4 col0\" >Rare Format Detection - Train Dataset</td>\n",
       "    </tr>\n",
       "    <tr>\n",
       "      <td id=\"T_4d448_row5_col0\" class=\"data row5 col0\" >Rare Format Detection - Validation Dataset</td>\n",
       "    </tr>\n",
       "    <tr>\n",
       "      <td id=\"T_4d448_row6_col0\" class=\"data row6 col0\" >Special Characters - Train Dataset</td>\n",
       "    </tr>\n",
       "    <tr>\n",
       "      <td id=\"T_4d448_row7_col0\" class=\"data row7 col0\" >Special Characters - Validation Dataset</td>\n",
       "    </tr>\n",
       "    <tr>\n",
       "      <td id=\"T_4d448_row8_col0\" class=\"data row8 col0\" >Category Mismatch Train Validation</td>\n",
       "    </tr>\n",
       "  </tbody>\n",
       "</table>\n"
      ]
     },
     "metadata": {},
     "output_type": "display_data"
    },
    {
     "data": {
      "text/html": [
       "<h3>Checks without condition</h3>"
      ]
     },
     "metadata": {},
     "output_type": "display_data"
    },
    {
     "data": {
      "text/html": [
       "<h4>Single Value in Column - Validation Dataset</h4>"
      ]
     },
     "metadata": {},
     "output_type": "display_data"
    },
    {
     "data": {
      "text/html": [
       "<p>Check if there are columns which have only a single unique value in all rows.</p>"
      ]
     },
     "metadata": {},
     "output_type": "display_data"
    },
    {
     "data": {
      "text/html": [
       "The following columns have only one unique value"
      ]
     },
     "metadata": {},
     "output_type": "display_data"
    },
    {
     "data": {
      "text/html": [
       "<style type=\"text/css\">\n",
       "#T_e28ce_ th {\n",
       "  text-align: left;\n",
       "}\n",
       "#T_e28ce_ td {\n",
       "  text-align: left;\n",
       "}\n",
       "</style>\n",
       "<table id=\"T_e28ce_\">\n",
       "  <thead>\n",
       "    <tr>\n",
       "      <th class=\"blank level0\" >&nbsp;</th>\n",
       "      <th class=\"col_heading level0 col0\" >target</th>\n",
       "    </tr>\n",
       "  </thead>\n",
       "  <tbody>\n",
       "    <tr>\n",
       "      <th id=\"T_e28ce_level0_row0\" class=\"row_heading level0 row0\" >Single unique value</th>\n",
       "      <td id=\"T_e28ce_row0_col0\" class=\"data row0 col0\" >2</td>\n",
       "    </tr>\n",
       "  </tbody>\n",
       "</table>\n"
      ]
     },
     "metadata": {},
     "output_type": "display_data"
    },
    {
     "data": {
      "text/html": [
       "<h4>Data Duplicates - Validation Dataset</h4>"
      ]
     },
     "metadata": {},
     "output_type": "display_data"
    },
    {
     "data": {
      "text/html": [
       "<p>Search for duplicate data in dataset.</p>"
      ]
     },
     "metadata": {},
     "output_type": "display_data"
    },
    {
     "data": {
      "text/html": [
       "2.00% of data samples are duplicates"
      ]
     },
     "metadata": {},
     "output_type": "display_data"
    },
    {
     "data": {
      "text/html": [
       "<style type=\"text/css\">\n",
       "#T_452b3_ th {\n",
       "  text-align: left;\n",
       "}\n",
       "#T_452b3_ td {\n",
       "  text-align: left;\n",
       "}\n",
       "</style>\n",
       "<table id=\"T_452b3_\">\n",
       "  <thead>\n",
       "    <tr>\n",
       "      <th class=\"blank level0\" >&nbsp;</th>\n",
       "      <th class=\"col_heading level0 col0\" >sepal length (cm)</th>\n",
       "      <th class=\"col_heading level0 col1\" >sepal width (cm)</th>\n",
       "      <th class=\"col_heading level0 col2\" >petal length (cm)</th>\n",
       "      <th class=\"col_heading level0 col3\" >petal width (cm)</th>\n",
       "      <th class=\"col_heading level0 col4\" >target</th>\n",
       "    </tr>\n",
       "    <tr>\n",
       "      <th class=\"index_name level0\" >Number of Duplicates</th>\n",
       "      <th class=\"blank col0\" >&nbsp;</th>\n",
       "      <th class=\"blank col1\" >&nbsp;</th>\n",
       "      <th class=\"blank col2\" >&nbsp;</th>\n",
       "      <th class=\"blank col3\" >&nbsp;</th>\n",
       "      <th class=\"blank col4\" >&nbsp;</th>\n",
       "    </tr>\n",
       "  </thead>\n",
       "  <tbody>\n",
       "    <tr>\n",
       "      <th id=\"T_452b3_level0_row0\" class=\"row_heading level0 row0\" >2</th>\n",
       "      <td id=\"T_452b3_row0_col0\" class=\"data row0 col0\" >5.800000</td>\n",
       "      <td id=\"T_452b3_row0_col1\" class=\"data row0 col1\" >2.700000</td>\n",
       "      <td id=\"T_452b3_row0_col2\" class=\"data row0 col2\" >5.100000</td>\n",
       "      <td id=\"T_452b3_row0_col3\" class=\"data row0 col3\" >1.900000</td>\n",
       "      <td id=\"T_452b3_row0_col4\" class=\"data row0 col4\" >2</td>\n",
       "    </tr>\n",
       "  </tbody>\n",
       "</table>\n"
      ]
     },
     "metadata": {},
     "output_type": "display_data"
    },
    {
     "data": {
      "text/html": [
       "<h3>Checks with nothing found</h3>"
      ]
     },
     "metadata": {},
     "output_type": "display_data"
    },
    {
     "data": {
      "text/html": [
       "<style type=\"text/css\">\n",
       "#T_8ab9f_ th {\n",
       "  text-align: left;\n",
       "}\n",
       "#T_8ab9f_ td {\n",
       "  text-align: left;\n",
       "}\n",
       "</style>\n",
       "<table id=\"T_8ab9f_\">\n",
       "  <thead>\n",
       "    <tr>\n",
       "      <th class=\"col_heading level0 col0\" >Check</th>\n",
       "    </tr>\n",
       "  </thead>\n",
       "  <tbody>\n",
       "    <tr>\n",
       "      <td id=\"T_8ab9f_row0_col0\" class=\"data row0 col0\" >Single Value in Column - Train Dataset</td>\n",
       "    </tr>\n",
       "    <tr>\n",
       "      <td id=\"T_8ab9f_row1_col0\" class=\"data row1 col0\" >Mixed Nulls - Train Dataset</td>\n",
       "    </tr>\n",
       "    <tr>\n",
       "      <td id=\"T_8ab9f_row2_col0\" class=\"data row2 col0\" >Mixed Nulls - Validation Dataset</td>\n",
       "    </tr>\n",
       "    <tr>\n",
       "      <td id=\"T_8ab9f_row3_col0\" class=\"data row3 col0\" >Mixed Types - Train Dataset</td>\n",
       "    </tr>\n",
       "    <tr>\n",
       "      <td id=\"T_8ab9f_row4_col0\" class=\"data row4 col0\" >Mixed Types - Validation Dataset</td>\n",
       "    </tr>\n",
       "    <tr>\n",
       "      <td id=\"T_8ab9f_row5_col0\" class=\"data row5 col0\" >String Mismatch - Train Dataset</td>\n",
       "    </tr>\n",
       "    <tr>\n",
       "      <td id=\"T_8ab9f_row6_col0\" class=\"data row6 col0\" >String Mismatch - Validation Dataset</td>\n",
       "    </tr>\n",
       "    <tr>\n",
       "      <td id=\"T_8ab9f_row7_col0\" class=\"data row7 col0\" >Data Duplicates - Train Dataset</td>\n",
       "    </tr>\n",
       "    <tr>\n",
       "      <td id=\"T_8ab9f_row8_col0\" class=\"data row8 col0\" >Rare Format Detection - Train Dataset</td>\n",
       "    </tr>\n",
       "    <tr>\n",
       "      <td id=\"T_8ab9f_row9_col0\" class=\"data row9 col0\" >Rare Format Detection - Validation Dataset</td>\n",
       "    </tr>\n",
       "    <tr>\n",
       "      <td id=\"T_8ab9f_row10_col0\" class=\"data row10 col0\" >Special Characters - Train Dataset</td>\n",
       "    </tr>\n",
       "    <tr>\n",
       "      <td id=\"T_8ab9f_row11_col0\" class=\"data row11 col0\" >Special Characters - Validation Dataset</td>\n",
       "    </tr>\n",
       "    <tr>\n",
       "      <td id=\"T_8ab9f_row12_col0\" class=\"data row12 col0\" >String Mismatch Comparison</td>\n",
       "    </tr>\n",
       "    <tr>\n",
       "      <td id=\"T_8ab9f_row13_col0\" class=\"data row13 col0\" >Category Mismatch Train Validation</td>\n",
       "    </tr>\n",
       "  </tbody>\n",
       "</table>\n"
      ]
     },
     "metadata": {},
     "output_type": "display_data"
    }
   ],
   "source": [
    "IntegrityCheckSuite.run(train_dataset=df_train, validation_dataset=df_val, check_datasets_policy='both')"
   ]
  },
  {
   "cell_type": "code",
   "execution_count": 5,
   "id": "3d3360a5",
   "metadata": {},
   "outputs": [
    {
     "data": {
      "text/plain": [
       "Integrity Suite: [\n",
       "\t0: IsSingleValue\n",
       "\t1: MixedNulls(check_nan=True)\n",
       "\t\tConditions:\n",
       "\t\t\t0: Not more than 1 different null types for all columns\n",
       "\t2: MixedTypes\n",
       "\t\tConditions:\n",
       "\t\t\t0: Rare type ratio is not less than 1.00% of samples in all columns\n",
       "\t3: StringMismatch\n",
       "\t\tConditions:\n",
       "\t\t\t0: No string variants for all columns\n",
       "\t4: DataDuplicates(n_to_show=5)\n",
       "\t5: RareFormatDetection(patterns=[Pattern(digits and letters format (case sensitive)), Pattern(digits and letters format), Pattern(digits only format (ignoring letters)), Pattern(letters only format (ignoring digits)), Pattern(digits or letters format), Pattern(sequences of digits only format (ignoring letters)), Pattern(sequences of letters only format (ignoring letters)), Pattern(any sequence format)], rarity_threshold=0.05, min_unique_common_ratio=0.01, pattern_match_method=first)\n",
       "\t6: SpecialCharacters(n_most_common=2)\n",
       "\t7: StringMismatchComparison\n",
       "\t\tConditions:\n",
       "\t\t\t0: No new variants allowed in validation data for all columns\n",
       "\t8: CategoryMismatchTrainValidation\n",
       "]"
      ]
     },
     "execution_count": 5,
     "metadata": {},
     "output_type": "execute_result"
    }
   ],
   "source": [
    "IntegrityCheckSuite"
   ]
  }
 ],
 "metadata": {
  "kernelspec": {
   "display_name": "Python 3 (ipykernel)",
   "language": "python",
   "name": "python3"
  },
  "language_info": {
   "codemirror_mode": {
    "name": "ipython",
    "version": 3
   },
   "file_extension": ".py",
   "mimetype": "text/x-python",
   "name": "python",
   "nbconvert_exporter": "python",
   "pygments_lexer": "ipython3",
   "version": "3.8.6"
  },
  "toc": {
   "base_numbering": 1,
   "nav_menu": {},
   "number_sections": true,
   "sideBar": true,
   "skip_h1_title": false,
   "title_cell": "Table of Contents",
   "title_sidebar": "Contents",
   "toc_cell": false,
   "toc_position": {},
   "toc_section_display": true,
   "toc_window_display": false
  }
 },
 "nbformat": 4,
 "nbformat_minor": 5
}
