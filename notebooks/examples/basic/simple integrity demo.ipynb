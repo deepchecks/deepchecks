{
 "cells": [
  {
   "cell_type": "markdown",
   "id": "08eb6950",
   "metadata": {},
   "source": [
    "## Import"
   ]
  },
  {
   "cell_type": "code",
   "execution_count": 1,
   "id": "58f8f2df",
   "metadata": {},
   "outputs": [],
   "source": [
    "import pandas as pd\n",
    "from sklearn.datasets import load_iris"
   ]
  },
  {
   "cell_type": "markdown",
   "id": "188ce9dc",
   "metadata": {},
   "source": [
    "## Load data and split train-val"
   ]
  },
  {
   "cell_type": "code",
   "execution_count": 2,
   "id": "7cd0662e",
   "metadata": {},
   "outputs": [],
   "source": [
    "iris_df = load_iris(return_X_y=False, as_frame=True)['frame']\n",
    "train_len = round(0.67*len(iris_df))\n",
    "df_train = iris_df[:train_len]\n",
    "df_test = iris_df[train_len:]"
   ]
  },
  {
   "cell_type": "markdown",
   "id": "37425f9d",
   "metadata": {},
   "source": [
    "## Check data integrity"
   ]
  },
  {
   "cell_type": "code",
   "execution_count": 3,
   "id": "44ec7500",
   "metadata": {},
   "outputs": [],
   "source": [
    "from deepchecks.suites import IntegrityCheckSuite"
   ]
  },
  {
   "cell_type": "code",
   "execution_count": 4,
   "id": "e39af288",
   "metadata": {
    "scrolled": false
   },
   "outputs": [
    {
     "data": {
      "text/html": [
       "\n",
       "    <h1>Integrity Suite</h1>\n",
       "    <p>The suite is composed of various checks such as: Is Single Value, Mixed Nulls, Mixed Types, etc...<br>\n",
       "    Each check may contain conditions (which results in \n",
       "    <span style=\"color: green;display:inline-block\">✓</span> /\n",
       "    <span style=\"color: red;display:inline-block\">✖</span> /\n",
       "    <span style=\"color: orange;font-weight:bold;display:inline-block\">!</span>\n",
       "    ), as well as other outputs such as plots or tables.<br>\n",
       "    Suites, checks and conditions can all be modified (see tutorial [link]).</p>\n",
       "    <hr style=\"background-color: black;border: 0 none;color: black;height: 1px;\"><h2>Conditions Summary</h2>\n",
       "    "
      ]
     },
     "metadata": {},
     "output_type": "display_data"
    },
    {
     "data": {
      "text/html": [
       "<style type=\"text/css\">\n",
       "#T_aa009_ table {\n",
       "  text-align: left;\n",
       "}\n",
       "#T_aa009_ thead {\n",
       "  text-align: left;\n",
       "}\n",
       "#T_aa009_ tbody {\n",
       "  text-align: left;\n",
       "}\n",
       "#T_aa009_ th {\n",
       "  text-align: left;\n",
       "}\n",
       "#T_aa009_ td {\n",
       "  text-align: left;\n",
       "}\n",
       "</style>\n",
       "<table id=\"T_aa009_\">\n",
       "  <thead>\n",
       "    <tr>\n",
       "      <th class=\"col_heading level0 col0\" >Status</th>\n",
       "      <th class=\"col_heading level0 col1\" >Check</th>\n",
       "      <th class=\"col_heading level0 col2\" >Condition</th>\n",
       "      <th class=\"col_heading level0 col3\" >More Info</th>\n",
       "    </tr>\n",
       "  </thead>\n",
       "  <tbody>\n",
       "    <tr>\n",
       "      <td id=\"T_aa009_row0_col0\" class=\"data row0 col0\" ><div style=\"color: green;text-align: center\">✓</div></td>\n",
       "      <td id=\"T_aa009_row0_col1\" class=\"data row0 col1\" >Mixed Nulls - Train Dataset</td>\n",
       "      <td id=\"T_aa009_row0_col2\" class=\"data row0 col2\" >Not more than 1 different null types for all columns</td>\n",
       "      <td id=\"T_aa009_row0_col3\" class=\"data row0 col3\" ></td>\n",
       "    </tr>\n",
       "    <tr>\n",
       "      <td id=\"T_aa009_row1_col0\" class=\"data row1 col0\" ><div style=\"color: green;text-align: center\">✓</div></td>\n",
       "      <td id=\"T_aa009_row1_col1\" class=\"data row1 col1\" >Mixed Nulls - Test Dataset</td>\n",
       "      <td id=\"T_aa009_row1_col2\" class=\"data row1 col2\" >Not more than 1 different null types for all columns</td>\n",
       "      <td id=\"T_aa009_row1_col3\" class=\"data row1 col3\" ></td>\n",
       "    </tr>\n",
       "    <tr>\n",
       "      <td id=\"T_aa009_row2_col0\" class=\"data row2 col0\" ><div style=\"color: green;text-align: center\">✓</div></td>\n",
       "      <td id=\"T_aa009_row2_col1\" class=\"data row2 col1\" >Mixed Types - Train Dataset</td>\n",
       "      <td id=\"T_aa009_row2_col2\" class=\"data row2 col2\" >Rare type ratio is not less than 1.00% of samples in all columns</td>\n",
       "      <td id=\"T_aa009_row2_col3\" class=\"data row2 col3\" ></td>\n",
       "    </tr>\n",
       "    <tr>\n",
       "      <td id=\"T_aa009_row3_col0\" class=\"data row3 col0\" ><div style=\"color: green;text-align: center\">✓</div></td>\n",
       "      <td id=\"T_aa009_row3_col1\" class=\"data row3 col1\" >Mixed Types - Test Dataset</td>\n",
       "      <td id=\"T_aa009_row3_col2\" class=\"data row3 col2\" >Rare type ratio is not less than 1.00% of samples in all columns</td>\n",
       "      <td id=\"T_aa009_row3_col3\" class=\"data row3 col3\" ></td>\n",
       "    </tr>\n",
       "    <tr>\n",
       "      <td id=\"T_aa009_row4_col0\" class=\"data row4 col0\" ><div style=\"color: green;text-align: center\">✓</div></td>\n",
       "      <td id=\"T_aa009_row4_col1\" class=\"data row4 col1\" >String Mismatch - Train Dataset</td>\n",
       "      <td id=\"T_aa009_row4_col2\" class=\"data row4 col2\" >No string variants for all columns</td>\n",
       "      <td id=\"T_aa009_row4_col3\" class=\"data row4 col3\" ></td>\n",
       "    </tr>\n",
       "    <tr>\n",
       "      <td id=\"T_aa009_row5_col0\" class=\"data row5 col0\" ><div style=\"color: green;text-align: center\">✓</div></td>\n",
       "      <td id=\"T_aa009_row5_col1\" class=\"data row5 col1\" >String Mismatch - Test Dataset</td>\n",
       "      <td id=\"T_aa009_row5_col2\" class=\"data row5 col2\" >No string variants for all columns</td>\n",
       "      <td id=\"T_aa009_row5_col3\" class=\"data row5 col3\" ></td>\n",
       "    </tr>\n",
       "    <tr>\n",
       "      <td id=\"T_aa009_row6_col0\" class=\"data row6 col0\" ><div style=\"color: green;text-align: center\">✓</div></td>\n",
       "      <td id=\"T_aa009_row6_col1\" class=\"data row6 col1\" >String Mismatch Comparison</td>\n",
       "      <td id=\"T_aa009_row6_col2\" class=\"data row6 col2\" >No new variants allowed in test data for all columns</td>\n",
       "      <td id=\"T_aa009_row6_col3\" class=\"data row6 col3\" ></td>\n",
       "    </tr>\n",
       "  </tbody>\n",
       "</table>\n"
      ]
     },
     "metadata": {},
     "output_type": "display_data"
    },
    {
     "data": {
      "text/html": [
       "<hr style=\"background-color: black;border: 0 none;color: black;height: 1px;\"><h2>Additional Outputs</h2>"
      ]
     },
     "metadata": {},
     "output_type": "display_data"
    },
    {
     "data": {
      "text/html": [
       "<h4>Single Value in Column - Test Dataset</h4>"
      ]
     },
     "metadata": {},
     "output_type": "display_data"
    },
    {
     "data": {
      "text/html": [
       "<p>Check if there are columns which have only a single unique value in all rows.</p>"
      ]
     },
     "metadata": {},
     "output_type": "display_data"
    },
    {
     "data": {
      "text/html": [
       "The following columns have only one unique value"
      ]
     },
     "metadata": {},
     "output_type": "display_data"
    },
    {
     "data": {
      "text/html": [
       "<style type=\"text/css\">\n",
       "#T_c52cc_ table {\n",
       "  text-align: left;\n",
       "}\n",
       "#T_c52cc_ thead {\n",
       "  text-align: left;\n",
       "}\n",
       "#T_c52cc_ tbody {\n",
       "  text-align: left;\n",
       "}\n",
       "#T_c52cc_ th {\n",
       "  text-align: left;\n",
       "}\n",
       "#T_c52cc_ td {\n",
       "  text-align: left;\n",
       "}\n",
       "</style>\n",
       "<table id=\"T_c52cc_\">\n",
       "  <thead>\n",
       "    <tr>\n",
       "      <th class=\"blank level0\" >&nbsp;</th>\n",
       "      <th class=\"col_heading level0 col0\" >target</th>\n",
       "    </tr>\n",
       "  </thead>\n",
       "  <tbody>\n",
       "    <tr>\n",
       "      <th id=\"T_c52cc_level0_row0\" class=\"row_heading level0 row0\" >Single unique value</th>\n",
       "      <td id=\"T_c52cc_row0_col0\" class=\"data row0 col0\" >2</td>\n",
       "    </tr>\n",
       "  </tbody>\n",
       "</table>\n"
      ]
     },
     "metadata": {},
     "output_type": "display_data"
    },
    {
     "data": {
      "text/html": [
       "<hr style=\"background-color: #eee;border: 0 none;color: #eee;height: 1px;\">"
      ]
     },
     "metadata": {},
     "output_type": "display_data"
    },
    {
     "data": {
      "text/html": [
       "<h4>Data Duplicates - Test Dataset</h4>"
      ]
     },
     "metadata": {},
     "output_type": "display_data"
    },
    {
     "data": {
      "text/html": [
       "<p>Search for duplicate data in dataset.</p>"
      ]
     },
     "metadata": {},
     "output_type": "display_data"
    },
    {
     "data": {
      "text/html": [
       "2.00% of data samples are duplicates"
      ]
     },
     "metadata": {},
     "output_type": "display_data"
    },
    {
     "data": {
      "text/html": [
       "<style type=\"text/css\">\n",
       "#T_e3e5a_ table {\n",
       "  text-align: left;\n",
       "}\n",
       "#T_e3e5a_ thead {\n",
       "  text-align: left;\n",
       "}\n",
       "#T_e3e5a_ tbody {\n",
       "  text-align: left;\n",
       "}\n",
       "#T_e3e5a_ th {\n",
       "  text-align: left;\n",
       "}\n",
       "#T_e3e5a_ td {\n",
       "  text-align: left;\n",
       "}\n",
       "</style>\n",
       "<table id=\"T_e3e5a_\">\n",
       "  <thead>\n",
       "    <tr>\n",
       "      <th class=\"blank level0\" >&nbsp;</th>\n",
       "      <th class=\"col_heading level0 col0\" >sepal length (cm)</th>\n",
       "      <th class=\"col_heading level0 col1\" >sepal width (cm)</th>\n",
       "      <th class=\"col_heading level0 col2\" >petal length (cm)</th>\n",
       "      <th class=\"col_heading level0 col3\" >petal width (cm)</th>\n",
       "      <th class=\"col_heading level0 col4\" >target</th>\n",
       "    </tr>\n",
       "    <tr>\n",
       "      <th class=\"index_name level0\" >Number of Duplicates</th>\n",
       "      <th class=\"blank col0\" >&nbsp;</th>\n",
       "      <th class=\"blank col1\" >&nbsp;</th>\n",
       "      <th class=\"blank col2\" >&nbsp;</th>\n",
       "      <th class=\"blank col3\" >&nbsp;</th>\n",
       "      <th class=\"blank col4\" >&nbsp;</th>\n",
       "    </tr>\n",
       "  </thead>\n",
       "  <tbody>\n",
       "    <tr>\n",
       "      <th id=\"T_e3e5a_level0_row0\" class=\"row_heading level0 row0\" >2</th>\n",
       "      <td id=\"T_e3e5a_row0_col0\" class=\"data row0 col0\" >5.80</td>\n",
       "      <td id=\"T_e3e5a_row0_col1\" class=\"data row0 col1\" >2.70</td>\n",
       "      <td id=\"T_e3e5a_row0_col2\" class=\"data row0 col2\" >5.10</td>\n",
       "      <td id=\"T_e3e5a_row0_col3\" class=\"data row0 col3\" >1.90</td>\n",
       "      <td id=\"T_e3e5a_row0_col4\" class=\"data row0 col4\" >2</td>\n",
       "    </tr>\n",
       "  </tbody>\n",
       "</table>\n"
      ]
     },
     "metadata": {},
     "output_type": "display_data"
    },
    {
     "data": {
      "text/html": [
       "<hr style=\"background-color: black;border: 0 none;color: black;height: 1px;\">\n",
       "        <h2>Other Checks That Weren't Displayed</h2>\n",
       "        <style type=\"text/css\">\n",
       "#T_d1282_ table {\n",
       "  text-align: left;\n",
       "}\n",
       "#T_d1282_ thead {\n",
       "  text-align: left;\n",
       "}\n",
       "#T_d1282_ tbody {\n",
       "  text-align: left;\n",
       "}\n",
       "#T_d1282_ th {\n",
       "  text-align: left;\n",
       "}\n",
       "#T_d1282_ td {\n",
       "  text-align: left;\n",
       "}\n",
       "</style>\n",
       "<table id=\"T_d1282_\">\n",
       "  <thead>\n",
       "    <tr>\n",
       "      <th class=\"col_heading level0 col0\" >Check</th>\n",
       "      <th class=\"col_heading level0 col1\" >Reason</th>\n",
       "    </tr>\n",
       "  </thead>\n",
       "  <tbody>\n",
       "    <tr>\n",
       "      <td id=\"T_d1282_row0_col0\" class=\"data row0 col0\" >Single Value in Column - Train Dataset</td>\n",
       "      <td id=\"T_d1282_row0_col1\" class=\"data row0 col1\" >Nothing found</td>\n",
       "    </tr>\n",
       "    <tr>\n",
       "      <td id=\"T_d1282_row1_col0\" class=\"data row1 col0\" >Mixed Nulls - Train Dataset</td>\n",
       "      <td id=\"T_d1282_row1_col1\" class=\"data row1 col1\" >Nothing found</td>\n",
       "    </tr>\n",
       "    <tr>\n",
       "      <td id=\"T_d1282_row2_col0\" class=\"data row2 col0\" >Mixed Nulls - Test Dataset</td>\n",
       "      <td id=\"T_d1282_row2_col1\" class=\"data row2 col1\" >Nothing found</td>\n",
       "    </tr>\n",
       "    <tr>\n",
       "      <td id=\"T_d1282_row3_col0\" class=\"data row3 col0\" >Mixed Types - Train Dataset</td>\n",
       "      <td id=\"T_d1282_row3_col1\" class=\"data row3 col1\" >Nothing found</td>\n",
       "    </tr>\n",
       "    <tr>\n",
       "      <td id=\"T_d1282_row4_col0\" class=\"data row4 col0\" >Mixed Types - Test Dataset</td>\n",
       "      <td id=\"T_d1282_row4_col1\" class=\"data row4 col1\" >Nothing found</td>\n",
       "    </tr>\n",
       "    <tr>\n",
       "      <td id=\"T_d1282_row5_col0\" class=\"data row5 col0\" >String Mismatch - Train Dataset</td>\n",
       "      <td id=\"T_d1282_row5_col1\" class=\"data row5 col1\" >Nothing found</td>\n",
       "    </tr>\n",
       "    <tr>\n",
       "      <td id=\"T_d1282_row6_col0\" class=\"data row6 col0\" >String Mismatch - Test Dataset</td>\n",
       "      <td id=\"T_d1282_row6_col1\" class=\"data row6 col1\" >Nothing found</td>\n",
       "    </tr>\n",
       "    <tr>\n",
       "      <td id=\"T_d1282_row7_col0\" class=\"data row7 col0\" >Data Duplicates - Train Dataset</td>\n",
       "      <td id=\"T_d1282_row7_col1\" class=\"data row7 col1\" >Nothing found</td>\n",
       "    </tr>\n",
       "    <tr>\n",
       "      <td id=\"T_d1282_row8_col0\" class=\"data row8 col0\" >Rare Format Detection - Train Dataset</td>\n",
       "      <td id=\"T_d1282_row8_col1\" class=\"data row8 col1\" >Nothing found</td>\n",
       "    </tr>\n",
       "    <tr>\n",
       "      <td id=\"T_d1282_row9_col0\" class=\"data row9 col0\" >Rare Format Detection - Test Dataset</td>\n",
       "      <td id=\"T_d1282_row9_col1\" class=\"data row9 col1\" >Nothing found</td>\n",
       "    </tr>\n",
       "    <tr>\n",
       "      <td id=\"T_d1282_row10_col0\" class=\"data row10 col0\" >Special Characters - Train Dataset</td>\n",
       "      <td id=\"T_d1282_row10_col1\" class=\"data row10 col1\" >Nothing found</td>\n",
       "    </tr>\n",
       "    <tr>\n",
       "      <td id=\"T_d1282_row11_col0\" class=\"data row11 col0\" >Special Characters - Test Dataset</td>\n",
       "      <td id=\"T_d1282_row11_col1\" class=\"data row11 col1\" >Nothing found</td>\n",
       "    </tr>\n",
       "    <tr>\n",
       "      <td id=\"T_d1282_row12_col0\" class=\"data row12 col0\" >String Mismatch Comparison</td>\n",
       "      <td id=\"T_d1282_row12_col1\" class=\"data row12 col1\" >Nothing found</td>\n",
       "    </tr>\n",
       "    <tr>\n",
       "      <td id=\"T_d1282_row13_col0\" class=\"data row13 col0\" >Category Mismatch Train Test</td>\n",
       "      <td id=\"T_d1282_row13_col1\" class=\"data row13 col1\" >Nothing found</td>\n",
       "    </tr>\n",
       "  </tbody>\n",
       "</table>\n",
       "\n",
       "        "
      ]
     },
     "metadata": {},
     "output_type": "display_data"
    }
   ],
   "source": [
    "IntegrityCheckSuite.run(train_dataset=df_train, test_dataset=df_test, check_datasets_policy='both')"
   ]
  }
 ],
 "metadata": {
  "kernelspec": {
   "display_name": "Python 3 (ipykernel)",
   "language": "python",
   "name": "python3"
  },
  "language_info": {
   "codemirror_mode": {
    "name": "ipython",
    "version": 3
   },
   "file_extension": ".py",
   "mimetype": "text/x-python",
   "name": "python",
   "nbconvert_exporter": "python",
   "pygments_lexer": "ipython3",
   "version": "3.8.6"
  },
  "toc": {
   "base_numbering": 1,
   "nav_menu": {},
   "number_sections": true,
   "sideBar": true,
   "skip_h1_title": false,
   "title_cell": "Table of Contents",
   "title_sidebar": "Contents",
   "toc_cell": false,
   "toc_position": {},
   "toc_section_display": true,
   "toc_window_display": false
  }
 },
 "nbformat": 4,
 "nbformat_minor": 5
}
