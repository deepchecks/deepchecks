{
 "cells": [
  {
   "cell_type": "markdown",
   "id": "08eb6950",
   "metadata": {},
   "source": [
    "## General Imports"
   ]
  },
  {
   "cell_type": "code",
   "execution_count": 1,
   "id": "58f8f2df",
   "metadata": {
    "ExecuteTime": {
     "end_time": "2021-11-03T22:56:37.130109Z",
     "start_time": "2021-11-03T22:56:37.121268Z"
    }
   },
   "outputs": [],
   "source": [
    "import pandas as pd\n",
    "import numpy as np\n",
    "np.random.seed(42)\n",
    "\n",
    "from sklearn.datasets import load_iris\n",
    "from sklearn.ensemble import RandomForestClassifier\n",
    "from sklearn.model_selection import train_test_split"
   ]
  },
  {
   "cell_type": "markdown",
   "id": "188ce9dc",
   "metadata": {},
   "source": [
    "## Load Data, Split Train-Val, and Train Model"
   ]
  },
  {
   "cell_type": "markdown",
   "id": "80dfff37",
   "metadata": {},
   "source": [
    "For the purpose of this examples we'll use the simple iris dataset and train a random forest model for multiclass classification"
   ]
  },
  {
   "cell_type": "code",
   "execution_count": 2,
   "id": "7cd0662e",
   "metadata": {
    "ExecuteTime": {
     "end_time": "2021-11-03T23:14:46.270962Z",
     "start_time": "2021-11-03T23:14:46.239377Z"
    }
   },
   "outputs": [],
   "source": [
    "iris_df = load_iris(return_X_y=False, as_frame=True)['frame']\n",
    "label_col = 'target'\n",
    "df_train, df_test = train_test_split(iris_df, stratify=iris_df[label_col], random_state=0)"
   ]
  },
  {
   "cell_type": "code",
   "execution_count": 3,
   "id": "38ef6cd3",
   "metadata": {
    "ExecuteTime": {
     "end_time": "2021-11-03T23:14:46.797027Z",
     "start_time": "2021-11-03T23:14:46.671242Z"
    }
   },
   "outputs": [],
   "source": [
    "rf_clf = RandomForestClassifier()\n",
    "rf_clf.fit(df_train.drop(label_col, axis=1), df_train[label_col]);"
   ]
  },
  {
   "cell_type": "markdown",
   "id": "59b7b88b",
   "metadata": {
    "ExecuteTime": {
     "end_time": "2021-11-03T23:05:52.781081Z",
     "start_time": "2021-11-03T23:05:52.770339Z"
    }
   },
   "source": [
    "## Define MLChecks Dataset"
   ]
  },
  {
   "cell_type": "code",
   "execution_count": 4,
   "id": "d23a8654",
   "metadata": {
    "ExecuteTime": {
     "end_time": "2021-11-03T23:14:47.297164Z",
     "start_time": "2021-11-03T23:14:47.289160Z"
    }
   },
   "outputs": [],
   "source": [
    "from deepchecks import Dataset"
   ]
  },
  {
   "cell_type": "markdown",
   "id": "72185066",
   "metadata": {},
   "source": [
    "Initialize the Dataset object, stating the relevant metadata about the dataset (e.g. the name for the label column) <br>\n",
    "Check out the Dataset's attributes to see which additional special columns can be declared and used (e.g. index, date)."
   ]
  },
  {
   "cell_type": "code",
   "execution_count": 5,
   "id": "a9ef516c",
   "metadata": {
    "ExecuteTime": {
     "end_time": "2021-11-03T23:20:57.147315Z",
     "start_time": "2021-11-03T23:20:57.139001Z"
    }
   },
   "outputs": [],
   "source": [
    "# We explicitly state that this dataset has no categorical features, otherwise they will be automatically inferred\n",
    "\n",
    "ds_train = Dataset(df_train, label = label_col)\n",
    "ds_test =  Dataset(df_test, label = label_col)"
   ]
  },
  {
   "cell_type": "markdown",
   "id": "37425f9d",
   "metadata": {},
   "source": [
    "## Run Overall Generic Check Suite"
   ]
  },
  {
   "cell_type": "code",
   "execution_count": 6,
   "id": "a986ea04",
   "metadata": {},
   "outputs": [],
   "source": [
    "from deepchecks.suites import OverallGenericCheckSuite\n"
   ]
  },
  {
   "cell_type": "code",
   "execution_count": 7,
   "id": "dc461702",
   "metadata": {},
   "outputs": [
    {
     "data": {
      "text/html": [
       "\n",
       "    <h1>Overall Generic Suite</h1>\n",
       "    <p>The suite is composed of various checks such as: Data Sample Leakage Report, Single Feature Contribution, Single Feature Contribution Train Test, etc...<br>\n",
       "    Each check may contain conditions (which results in \n",
       "    <span style=\"color: green;display:inline-block\">✓</span> /\n",
       "    <span style=\"color: red;display:inline-block\">✖</span> /\n",
       "    <span style=\"color: orange;font-weight:bold;display:inline-block\">!</span>\n",
       "    ), as well as other outputs such as plots or tables.<br>\n",
       "    Suites, checks and conditions can all be modified (see tutorial [link]).</p>\n",
       "    <hr style=\"background-color: black;border: 0 none;color: black;height: 1px;\"><h2>Conditions Summary</h2>\n",
       "    "
      ]
     },
     "metadata": {},
     "output_type": "display_data"
    },
    {
     "data": {
      "text/html": [
       "<style type=\"text/css\">\n",
       "#T_f4af3_ table {\n",
       "  text-align: left;\n",
       "}\n",
       "#T_f4af3_ thead {\n",
       "  text-align: left;\n",
       "}\n",
       "#T_f4af3_ tbody {\n",
       "  text-align: left;\n",
       "}\n",
       "#T_f4af3_ th {\n",
       "  text-align: left;\n",
       "}\n",
       "#T_f4af3_ td {\n",
       "  text-align: left;\n",
       "}\n",
       "</style>\n",
       "<table id=\"T_f4af3_\">\n",
       "  <thead>\n",
       "    <tr>\n",
       "      <th class=\"col_heading level0 col0\" >Status</th>\n",
       "      <th class=\"col_heading level0 col1\" >Check</th>\n",
       "      <th class=\"col_heading level0 col2\" >Condition</th>\n",
       "      <th class=\"col_heading level0 col3\" >More Info</th>\n",
       "    </tr>\n",
       "  </thead>\n",
       "  <tbody>\n",
       "    <tr>\n",
       "      <td id=\"T_f4af3_row0_col0\" class=\"data row0 col0\" ><div style=\"color: red;text-align: center\">✖</div></td>\n",
       "      <td id=\"T_f4af3_row0_col1\" class=\"data row0 col1\" >Single Feature Contribution - Train Dataset</td>\n",
       "      <td id=\"T_f4af3_row0_col2\" class=\"data row0 col2\" >Features PPS is not greater than 0.8</td>\n",
       "      <td id=\"T_f4af3_row0_col3\" class=\"data row0 col3\" >Features with greater PPS: petal width (cm), petal length (cm)</td>\n",
       "    </tr>\n",
       "    <tr>\n",
       "      <td id=\"T_f4af3_row1_col0\" class=\"data row1 col0\" ><div style=\"color: red;text-align: center\">✖</div></td>\n",
       "      <td id=\"T_f4af3_row1_col1\" class=\"data row1 col1\" >Single Feature Contribution - Test Dataset</td>\n",
       "      <td id=\"T_f4af3_row1_col2\" class=\"data row1 col2\" >Features PPS is not greater than 0.8</td>\n",
       "      <td id=\"T_f4af3_row1_col3\" class=\"data row1 col3\" >Features with greater PPS: petal length (cm), petal width (cm)</td>\n",
       "    </tr>\n",
       "    <tr>\n",
       "      <td id=\"T_f4af3_row2_col0\" class=\"data row2 col0\" ><div style=\"color: green;text-align: center\">✓</div></td>\n",
       "      <td id=\"T_f4af3_row2_col1\" class=\"data row2 col1\" >Data Sample Leakage Report</td>\n",
       "      <td id=\"T_f4af3_row2_col2\" class=\"data row2 col2\" >Percentage of test data samples that appear in train data not greater than 10.00%</td>\n",
       "      <td id=\"T_f4af3_row2_col3\" class=\"data row2 col3\" ></td>\n",
       "    </tr>\n",
       "    <tr>\n",
       "      <td id=\"T_f4af3_row3_col0\" class=\"data row3 col0\" ><div style=\"color: green;text-align: center\">✓</div></td>\n",
       "      <td id=\"T_f4af3_row3_col1\" class=\"data row3 col1\" >Category Mismatch Train Test</td>\n",
       "      <td id=\"T_f4af3_row3_col2\" class=\"data row3 col2\" >Number of new category values is not greater than 0 for all columns</td>\n",
       "      <td id=\"T_f4af3_row3_col3\" class=\"data row3 col3\" ></td>\n",
       "    </tr>\n",
       "    <tr>\n",
       "      <td id=\"T_f4af3_row4_col0\" class=\"data row4 col0\" ><div style=\"color: green;text-align: center\">✓</div></td>\n",
       "      <td id=\"T_f4af3_row4_col1\" class=\"data row4 col1\" >String Mismatch Comparison</td>\n",
       "      <td id=\"T_f4af3_row4_col2\" class=\"data row4 col2\" >No new variants allowed in test data for all columns</td>\n",
       "      <td id=\"T_f4af3_row4_col3\" class=\"data row4 col3\" ></td>\n",
       "    </tr>\n",
       "    <tr>\n",
       "      <td id=\"T_f4af3_row5_col0\" class=\"data row5 col0\" ><div style=\"color: green;text-align: center\">✓</div></td>\n",
       "      <td id=\"T_f4af3_row5_col1\" class=\"data row5 col1\" >Special Characters - Test Dataset</td>\n",
       "      <td id=\"T_f4af3_row5_col2\" class=\"data row5 col2\" >Ratio of entirely special character samples not greater than 0.10% for all columns</td>\n",
       "      <td id=\"T_f4af3_row5_col3\" class=\"data row5 col3\" ></td>\n",
       "    </tr>\n",
       "    <tr>\n",
       "      <td id=\"T_f4af3_row6_col0\" class=\"data row6 col0\" ><div style=\"color: green;text-align: center\">✓</div></td>\n",
       "      <td id=\"T_f4af3_row6_col1\" class=\"data row6 col1\" >Special Characters - Train Dataset</td>\n",
       "      <td id=\"T_f4af3_row6_col2\" class=\"data row6 col2\" >Ratio of entirely special character samples not greater than 0.10% for all columns</td>\n",
       "      <td id=\"T_f4af3_row6_col3\" class=\"data row6 col3\" ></td>\n",
       "    </tr>\n",
       "    <tr>\n",
       "      <td id=\"T_f4af3_row7_col0\" class=\"data row7 col0\" ><div style=\"color: green;text-align: center\">✓</div></td>\n",
       "      <td id=\"T_f4af3_row7_col1\" class=\"data row7 col1\" >Rare Format Detection - Test Dataset</td>\n",
       "      <td id=\"T_f4af3_row7_col2\" class=\"data row7 col2\" >Rare formats ratio is not greater than 0</td>\n",
       "      <td id=\"T_f4af3_row7_col3\" class=\"data row7 col3\" ></td>\n",
       "    </tr>\n",
       "    <tr>\n",
       "      <td id=\"T_f4af3_row8_col0\" class=\"data row8 col0\" ><div style=\"color: green;text-align: center\">✓</div></td>\n",
       "      <td id=\"T_f4af3_row8_col1\" class=\"data row8 col1\" >Rare Format Detection - Train Dataset</td>\n",
       "      <td id=\"T_f4af3_row8_col2\" class=\"data row8 col2\" >Rare formats ratio is not greater than 0</td>\n",
       "      <td id=\"T_f4af3_row8_col3\" class=\"data row8 col3\" ></td>\n",
       "    </tr>\n",
       "    <tr>\n",
       "      <td id=\"T_f4af3_row9_col0\" class=\"data row9 col0\" ><div style=\"color: green;text-align: center\">✓</div></td>\n",
       "      <td id=\"T_f4af3_row9_col1\" class=\"data row9 col1\" >Data Duplicates - Test Dataset</td>\n",
       "      <td id=\"T_f4af3_row9_col2\" class=\"data row9 col2\" >Duplicate data is not greater than 0%</td>\n",
       "      <td id=\"T_f4af3_row9_col3\" class=\"data row9 col3\" ></td>\n",
       "    </tr>\n",
       "    <tr>\n",
       "      <td id=\"T_f4af3_row10_col0\" class=\"data row10 col0\" ><div style=\"color: green;text-align: center\">✓</div></td>\n",
       "      <td id=\"T_f4af3_row10_col1\" class=\"data row10 col1\" >Data Duplicates - Train Dataset</td>\n",
       "      <td id=\"T_f4af3_row10_col2\" class=\"data row10 col2\" >Duplicate data is not greater than 0%</td>\n",
       "      <td id=\"T_f4af3_row10_col3\" class=\"data row10 col3\" ></td>\n",
       "    </tr>\n",
       "    <tr>\n",
       "      <td id=\"T_f4af3_row11_col0\" class=\"data row11 col0\" ><div style=\"color: green;text-align: center\">✓</div></td>\n",
       "      <td id=\"T_f4af3_row11_col1\" class=\"data row11 col1\" >String Mismatch - Test Dataset</td>\n",
       "      <td id=\"T_f4af3_row11_col2\" class=\"data row11 col2\" >No string variants for all columns</td>\n",
       "      <td id=\"T_f4af3_row11_col3\" class=\"data row11 col3\" ></td>\n",
       "    </tr>\n",
       "    <tr>\n",
       "      <td id=\"T_f4af3_row12_col0\" class=\"data row12 col0\" ><div style=\"color: green;text-align: center\">✓</div></td>\n",
       "      <td id=\"T_f4af3_row12_col1\" class=\"data row12 col1\" >String Mismatch - Train Dataset</td>\n",
       "      <td id=\"T_f4af3_row12_col2\" class=\"data row12 col2\" >No string variants for all columns</td>\n",
       "      <td id=\"T_f4af3_row12_col3\" class=\"data row12 col3\" ></td>\n",
       "    </tr>\n",
       "    <tr>\n",
       "      <td id=\"T_f4af3_row13_col0\" class=\"data row13 col0\" ><div style=\"color: green;text-align: center\">✓</div></td>\n",
       "      <td id=\"T_f4af3_row13_col1\" class=\"data row13 col1\" >Mixed Types - Test Dataset</td>\n",
       "      <td id=\"T_f4af3_row13_col2\" class=\"data row13 col2\" >Rare type ratio is not less than 1.00% of samples in all columns</td>\n",
       "      <td id=\"T_f4af3_row13_col3\" class=\"data row13 col3\" ></td>\n",
       "    </tr>\n",
       "    <tr>\n",
       "      <td id=\"T_f4af3_row14_col0\" class=\"data row14 col0\" ><div style=\"color: green;text-align: center\">✓</div></td>\n",
       "      <td id=\"T_f4af3_row14_col1\" class=\"data row14 col1\" >Mixed Types - Train Dataset</td>\n",
       "      <td id=\"T_f4af3_row14_col2\" class=\"data row14 col2\" >Rare type ratio is not less than 1.00% of samples in all columns</td>\n",
       "      <td id=\"T_f4af3_row14_col3\" class=\"data row14 col3\" ></td>\n",
       "    </tr>\n",
       "    <tr>\n",
       "      <td id=\"T_f4af3_row15_col0\" class=\"data row15 col0\" ><div style=\"color: green;text-align: center\">✓</div></td>\n",
       "      <td id=\"T_f4af3_row15_col1\" class=\"data row15 col1\" >Mixed Nulls - Test Dataset</td>\n",
       "      <td id=\"T_f4af3_row15_col2\" class=\"data row15 col2\" >Not more than 1 different null types for all columns</td>\n",
       "      <td id=\"T_f4af3_row15_col3\" class=\"data row15 col3\" ></td>\n",
       "    </tr>\n",
       "    <tr>\n",
       "      <td id=\"T_f4af3_row16_col0\" class=\"data row16 col0\" ><div style=\"color: green;text-align: center\">✓</div></td>\n",
       "      <td id=\"T_f4af3_row16_col1\" class=\"data row16 col1\" >Mixed Nulls - Train Dataset</td>\n",
       "      <td id=\"T_f4af3_row16_col2\" class=\"data row16 col2\" >Not more than 1 different null types for all columns</td>\n",
       "      <td id=\"T_f4af3_row16_col3\" class=\"data row16 col3\" ></td>\n",
       "    </tr>\n",
       "    <tr>\n",
       "      <td id=\"T_f4af3_row17_col0\" class=\"data row17 col0\" ><div style=\"color: green;text-align: center\">✓</div></td>\n",
       "      <td id=\"T_f4af3_row17_col1\" class=\"data row17 col1\" >Single Value in Column - Test Dataset</td>\n",
       "      <td id=\"T_f4af3_row17_col2\" class=\"data row17 col2\" >Does not contain only a single value for all columns</td>\n",
       "      <td id=\"T_f4af3_row17_col3\" class=\"data row17 col3\" ></td>\n",
       "    </tr>\n",
       "    <tr>\n",
       "      <td id=\"T_f4af3_row18_col0\" class=\"data row18 col0\" ><div style=\"color: green;text-align: center\">✓</div></td>\n",
       "      <td id=\"T_f4af3_row18_col1\" class=\"data row18 col1\" >Single Value in Column - Train Dataset</td>\n",
       "      <td id=\"T_f4af3_row18_col2\" class=\"data row18 col2\" >Does not contain only a single value for all columns</td>\n",
       "      <td id=\"T_f4af3_row18_col3\" class=\"data row18 col3\" ></td>\n",
       "    </tr>\n",
       "    <tr>\n",
       "      <td id=\"T_f4af3_row19_col0\" class=\"data row19 col0\" ><div style=\"color: green;text-align: center\">✓</div></td>\n",
       "      <td id=\"T_f4af3_row19_col1\" class=\"data row19 col1\" >Naive Model Comparison</td>\n",
       "      <td id=\"T_f4af3_row19_col2\" class=\"data row19 col2\" >Ratio not less than 1.1 between the given model's result and the naive model's result</td>\n",
       "      <td id=\"T_f4af3_row19_col3\" class=\"data row19 col3\" ></td>\n",
       "    </tr>\n",
       "    <tr>\n",
       "      <td id=\"T_f4af3_row20_col0\" class=\"data row20 col0\" ><div style=\"color: green;text-align: center\">✓</div></td>\n",
       "      <td id=\"T_f4af3_row20_col1\" class=\"data row20 col1\" >Unused Features</td>\n",
       "      <td id=\"T_f4af3_row20_col2\" class=\"data row20 col2\" >Number of high variance unused features is not greater than 5</td>\n",
       "      <td id=\"T_f4af3_row20_col3\" class=\"data row20 col3\" ></td>\n",
       "    </tr>\n",
       "    <tr>\n",
       "      <td id=\"T_f4af3_row21_col0\" class=\"data row21 col0\" ><div style=\"color: green;text-align: center\">✓</div></td>\n",
       "      <td id=\"T_f4af3_row21_col1\" class=\"data row21 col1\" >Train-Test Difference Overfit</td>\n",
       "      <td id=\"T_f4af3_row21_col2\" class=\"data row21 col2\" >Train-Test metrics degradation percentage is not greater than 0.2</td>\n",
       "      <td id=\"T_f4af3_row21_col3\" class=\"data row21 col3\" ></td>\n",
       "    </tr>\n",
       "    <tr>\n",
       "      <td id=\"T_f4af3_row22_col0\" class=\"data row22 col0\" ><div style=\"color: green;text-align: center\">✓</div></td>\n",
       "      <td id=\"T_f4af3_row22_col1\" class=\"data row22 col1\" >Single Feature Contribution Train-Test</td>\n",
       "      <td id=\"T_f4af3_row22_col2\" class=\"data row22 col2\" >Train-Test features PPS difference is not greater than 0.2</td>\n",
       "      <td id=\"T_f4af3_row22_col3\" class=\"data row22 col3\" ></td>\n",
       "    </tr>\n",
       "    <tr>\n",
       "      <td id=\"T_f4af3_row23_col0\" class=\"data row23 col0\" ><div style=\"color: green;text-align: center\">✓</div></td>\n",
       "      <td id=\"T_f4af3_row23_col1\" class=\"data row23 col1\" >Dominant Frequency Change</td>\n",
       "      <td id=\"T_f4af3_row23_col2\" class=\"data row23 col2\" >P value not less than 0.0001</td>\n",
       "      <td id=\"T_f4af3_row23_col3\" class=\"data row23 col3\" ></td>\n",
       "    </tr>\n",
       "    <tr>\n",
       "      <td id=\"T_f4af3_row24_col0\" class=\"data row24 col0\" ><div style=\"color: green;text-align: center\">✓</div></td>\n",
       "      <td id=\"T_f4af3_row24_col1\" class=\"data row24 col1\" >None</td>\n",
       "      <td id=\"T_f4af3_row24_col2\" class=\"data row24 col2\" >Number of new label values is not greater than 0</td>\n",
       "      <td id=\"T_f4af3_row24_col3\" class=\"data row24 col3\" ></td>\n",
       "    </tr>\n",
       "  </tbody>\n",
       "</table>\n"
      ]
     },
     "metadata": {},
     "output_type": "display_data"
    },
    {
     "data": {
      "text/html": [
       "<hr style=\"background-color: black;border: 0 none;color: black;height: 1px;\"><h2>Additional Outputs</h2>"
      ]
     },
     "metadata": {},
     "output_type": "display_data"
    },
    {
     "data": {
      "text/html": [
       "<h4>Data Sample Leakage Report</h4>"
      ]
     },
     "metadata": {},
     "output_type": "display_data"
    },
    {
     "data": {
      "text/html": [
       "<p>Detect samples in the test data that appear also in training data.</p>"
      ]
     },
     "metadata": {},
     "output_type": "display_data"
    },
    {
     "data": {
      "text/html": [
       "2.63% (1.0 / 38)                      of test data samples appear in train data"
      ]
     },
     "metadata": {},
     "output_type": "display_data"
    },
    {
     "data": {
      "text/html": [
       "<style type=\"text/css\">\n",
       "#T_6815a_ table {\n",
       "  text-align: left;\n",
       "}\n",
       "#T_6815a_ thead {\n",
       "  text-align: left;\n",
       "}\n",
       "#T_6815a_ tbody {\n",
       "  text-align: left;\n",
       "}\n",
       "#T_6815a_ th {\n",
       "  text-align: left;\n",
       "}\n",
       "#T_6815a_ td {\n",
       "  text-align: left;\n",
       "}\n",
       "</style>\n",
       "<table id=\"T_6815a_\">\n",
       "  <thead>\n",
       "    <tr>\n",
       "      <th class=\"blank level0\" >&nbsp;</th>\n",
       "      <th class=\"col_heading level0 col0\" >sepal length (cm)</th>\n",
       "      <th class=\"col_heading level0 col1\" >sepal width (cm)</th>\n",
       "      <th class=\"col_heading level0 col2\" >petal length (cm)</th>\n",
       "      <th class=\"col_heading level0 col3\" >petal width (cm)</th>\n",
       "      <th class=\"col_heading level0 col4\" >target</th>\n",
       "    </tr>\n",
       "  </thead>\n",
       "  <tbody>\n",
       "    <tr>\n",
       "      <th id=\"T_6815a_level0_row0\" class=\"row_heading level0 row0\" >Test indices: 142</th>\n",
       "      <td id=\"T_6815a_row0_col0\" class=\"data row0 col0\" >5.80</td>\n",
       "      <td id=\"T_6815a_row0_col1\" class=\"data row0 col1\" >2.70</td>\n",
       "      <td id=\"T_6815a_row0_col2\" class=\"data row0 col2\" >5.10</td>\n",
       "      <td id=\"T_6815a_row0_col3\" class=\"data row0 col3\" >1.90</td>\n",
       "      <td id=\"T_6815a_row0_col4\" class=\"data row0 col4\" >2</td>\n",
       "    </tr>\n",
       "    <tr>\n",
       "      <th id=\"T_6815a_level0_row1\" class=\"row_heading level0 row1\" >Train indices: 101</th>\n",
       "      <td id=\"T_6815a_row1_col0\" class=\"data row1 col0\" >5.80</td>\n",
       "      <td id=\"T_6815a_row1_col1\" class=\"data row1 col1\" >2.70</td>\n",
       "      <td id=\"T_6815a_row1_col2\" class=\"data row1 col2\" >5.10</td>\n",
       "      <td id=\"T_6815a_row1_col3\" class=\"data row1 col3\" >1.90</td>\n",
       "      <td id=\"T_6815a_row1_col4\" class=\"data row1 col4\" >2</td>\n",
       "    </tr>\n",
       "  </tbody>\n",
       "</table>\n"
      ]
     },
     "metadata": {},
     "output_type": "display_data"
    },
    {
     "data": {
      "text/html": [
       "<hr style=\"background-color: #eee;border: 0 none;color: #eee;height: 1px;\">"
      ]
     },
     "metadata": {},
     "output_type": "display_data"
    },
    {
     "data": {
      "text/html": [
       "<h4>Single Feature Contribution - Train Dataset</h4>"
      ]
     },
     "metadata": {},
     "output_type": "display_data"
    },
    {
     "data": {
      "text/html": [
       "<p>Return the PPS (Predictive Power Score) of all features in relation to the label.</p>"
      ]
     },
     "metadata": {},
     "output_type": "display_data"
    },
    {
     "data": {
      "image/png": "[encoded data removed]",
      "text/plain": [
       "<Figure size 1080x288 with 2 Axes>"
      ]
     },
     "metadata": {
      "needs_background": "light"
     },
     "output_type": "display_data"
    },
    {
     "data": {
      "text/html": [
       "The PPS represents the ability of a feature to single-handedly predict another feature or label."
      ]
     },
     "metadata": {},
     "output_type": "display_data"
    },
    {
     "data": {
      "text/html": [
       "A high PPS (close to 1) can mean that this feature's success in predicting the label is actually due to data"
      ]
     },
     "metadata": {},
     "output_type": "display_data"
    },
    {
     "data": {
      "text/html": [
       "leakage - meaning that the feature holds information that is based on the label to begin with."
      ]
     },
     "metadata": {},
     "output_type": "display_data"
    },
    {
     "data": {
      "text/html": [
       "<hr style=\"background-color: #eee;border: 0 none;color: #eee;height: 1px;\">"
      ]
     },
     "metadata": {},
     "output_type": "display_data"
    },
    {
     "data": {
      "text/html": [
       "<h4>Single Feature Contribution - Test Dataset</h4>"
      ]
     },
     "metadata": {},
     "output_type": "display_data"
    },
    {
     "data": {
      "text/html": [
       "<p>Return the PPS (Predictive Power Score) of all features in relation to the label.</p>"
      ]
     },
     "metadata": {},
     "output_type": "display_data"
    },
    {
     "data": {
      "image/png": "[encoded data removed]",
      "text/plain": [
       "<Figure size 1080x288 with 2 Axes>"
      ]
     },
     "metadata": {
      "needs_background": "light"
     },
     "output_type": "display_data"
    },
    {
     "data": {
      "text/html": [
       "The PPS represents the ability of a feature to single-handedly predict another feature or label."
      ]
     },
     "metadata": {},
     "output_type": "display_data"
    },
    {
     "data": {
      "text/html": [
       "A high PPS (close to 1) can mean that this feature's success in predicting the label is actually due to data"
      ]
     },
     "metadata": {},
     "output_type": "display_data"
    },
    {
     "data": {
      "text/html": [
       "leakage - meaning that the feature holds information that is based on the label to begin with."
      ]
     },
     "metadata": {},
     "output_type": "display_data"
    },
    {
     "data": {
      "text/html": [
       "<hr style=\"background-color: #eee;border: 0 none;color: #eee;height: 1px;\">"
      ]
     },
     "metadata": {},
     "output_type": "display_data"
    },
    {
     "data": {
      "text/html": [
       "<h4>Single Feature Contribution Train-Test</h4>"
      ]
     },
     "metadata": {},
     "output_type": "display_data"
    },
    {
     "data": {
      "text/html": [
       "<p>    Return the difference in PPS (Predictive Power Score) of all features between train and test datasets.</p>"
      ]
     },
     "metadata": {},
     "output_type": "display_data"
    },
    {
     "data": {
      "image/png": "[encoded data removed]",
      "text/plain": [
       "<Figure size 1080x288 with 2 Axes>"
      ]
     },
     "metadata": {
      "needs_background": "light"
     },
     "output_type": "display_data"
    },
    {
     "data": {
      "text/html": [
       "The PPS represents the ability of a feature to single-handedly predict another feature or label."
      ]
     },
     "metadata": {},
     "output_type": "display_data"
    },
    {
     "data": {
      "text/html": [
       "A high PPS (close to 1) can mean that this feature's success in predicting the label is actually due to data"
      ]
     },
     "metadata": {},
     "output_type": "display_data"
    },
    {
     "data": {
      "text/html": [
       "leakage - meaning that the feature holds information that is based on the label to begin with."
      ]
     },
     "metadata": {},
     "output_type": "display_data"
    },
    {
     "data": {
      "text/html": []
     },
     "metadata": {},
     "output_type": "display_data"
    },
    {
     "data": {
      "text/html": [
       "When we compare train PPS to test PPS, A high difference can strongly indicate leakage, as a feature"
      ]
     },
     "metadata": {},
     "output_type": "display_data"
    },
    {
     "data": {
      "text/html": [
       "that was powerful in train but not in test can be explained by leakage in train that is not relevant to a new dataset."
      ]
     },
     "metadata": {},
     "output_type": "display_data"
    },
    {
     "data": {
      "text/html": [
       "<hr style=\"background-color: #eee;border: 0 none;color: #eee;height: 1px;\">"
      ]
     },
     "metadata": {},
     "output_type": "display_data"
    },
    {
     "data": {
      "text/html": [
       "<h4>Train-Test Difference Overfit</h4>"
      ]
     },
     "metadata": {},
     "output_type": "display_data"
    },
    {
     "data": {
      "text/html": [
       "<p>Visualize overfit by displaying the difference between model metrics on train and on test data.</p>"
      ]
     },
     "metadata": {},
     "output_type": "display_data"
    },
    {
     "data": {
      "image/png": "[encoded data removed]",
      "text/plain": [
       "<Figure size 432x288 with 1 Axes>"
      ]
     },
     "metadata": {
      "needs_background": "light"
     },
     "output_type": "display_data"
    },
    {
     "data": {
      "text/html": [
       "<hr style=\"background-color: #eee;border: 0 none;color: #eee;height: 1px;\">"
      ]
     },
     "metadata": {},
     "output_type": "display_data"
    },
    {
     "data": {
      "text/html": [
       "<h4>Unused Features</h4>"
      ]
     },
     "metadata": {},
     "output_type": "display_data"
    },
    {
     "data": {
      "text/html": [
       "<p>Detect features that are nearly unused by the model.</p>"
      ]
     },
     "metadata": {},
     "output_type": "display_data"
    },
    {
     "data": {
      "text/html": [
       "Features above the line are a sample of the most important features, while the features below the line are the unused features with highest variance, as defined by check parameters"
      ]
     },
     "metadata": {},
     "output_type": "display_data"
    },
    {
     "data": {
      "image/png": "[encoded data removed]",
      "text/plain": [
       "<Figure size 576x216 with 1 Axes>"
      ]
     },
     "metadata": {
      "needs_background": "light"
     },
     "output_type": "display_data"
    },
    {
     "data": {
      "text/html": [
       "<hr style=\"background-color: #eee;border: 0 none;color: #eee;height: 1px;\">"
      ]
     },
     "metadata": {},
     "output_type": "display_data"
    },
    {
     "data": {
      "text/html": [
       "<h4>Performance Report - Train Dataset</h4>"
      ]
     },
     "metadata": {},
     "output_type": "display_data"
    },
    {
     "data": {
      "text/html": [
       "<p>Summarize given metrics on a dataset and model.</p>"
      ]
     },
     "metadata": {},
     "output_type": "display_data"
    },
    {
     "data": {
      "text/html": [
       "<style type=\"text/css\">\n",
       "#T_34478_ table {\n",
       "  text-align: left;\n",
       "}\n",
       "#T_34478_ thead {\n",
       "  text-align: left;\n",
       "}\n",
       "#T_34478_ tbody {\n",
       "  text-align: left;\n",
       "}\n",
       "#T_34478_ th {\n",
       "  text-align: left;\n",
       "}\n",
       "#T_34478_ td {\n",
       "  text-align: left;\n",
       "}\n",
       "</style>\n",
       "<table id=\"T_34478_\">\n",
       "  <thead>\n",
       "    <tr>\n",
       "      <th class=\"blank level0\" >&nbsp;</th>\n",
       "      <th class=\"col_heading level0 col0\" >Score</th>\n",
       "    </tr>\n",
       "    <tr>\n",
       "      <th class=\"index_name level0\" >Metric</th>\n",
       "      <th class=\"blank col0\" >&nbsp;</th>\n",
       "    </tr>\n",
       "  </thead>\n",
       "  <tbody>\n",
       "    <tr>\n",
       "      <th id=\"T_34478_level0_row0\" class=\"row_heading level0 row0\" >Accuracy</th>\n",
       "      <td id=\"T_34478_row0_col0\" class=\"data row0 col0\" >1.00</td>\n",
       "    </tr>\n",
       "    <tr>\n",
       "      <th id=\"T_34478_level0_row1\" class=\"row_heading level0 row1\" >Precision - Macro Average</th>\n",
       "      <td id=\"T_34478_row1_col0\" class=\"data row1 col0\" >1.00</td>\n",
       "    </tr>\n",
       "    <tr>\n",
       "      <th id=\"T_34478_level0_row2\" class=\"row_heading level0 row2\" >Recall - Macro Average</th>\n",
       "      <td id=\"T_34478_row2_col0\" class=\"data row2 col0\" >1.00</td>\n",
       "    </tr>\n",
       "  </tbody>\n",
       "</table>\n"
      ]
     },
     "metadata": {},
     "output_type": "display_data"
    },
    {
     "data": {
      "text/html": [
       "<hr style=\"background-color: #eee;border: 0 none;color: #eee;height: 1px;\">"
      ]
     },
     "metadata": {},
     "output_type": "display_data"
    },
    {
     "data": {
      "text/html": [
       "<h4>Performance Report - Test Dataset</h4>"
      ]
     },
     "metadata": {},
     "output_type": "display_data"
    },
    {
     "data": {
      "text/html": [
       "<p>Summarize given metrics on a dataset and model.</p>"
      ]
     },
     "metadata": {},
     "output_type": "display_data"
    },
    {
     "data": {
      "text/html": [
       "<style type=\"text/css\">\n",
       "#T_df24b_ table {\n",
       "  text-align: left;\n",
       "}\n",
       "#T_df24b_ thead {\n",
       "  text-align: left;\n",
       "}\n",
       "#T_df24b_ tbody {\n",
       "  text-align: left;\n",
       "}\n",
       "#T_df24b_ th {\n",
       "  text-align: left;\n",
       "}\n",
       "#T_df24b_ td {\n",
       "  text-align: left;\n",
       "}\n",
       "</style>\n",
       "<table id=\"T_df24b_\">\n",
       "  <thead>\n",
       "    <tr>\n",
       "      <th class=\"blank level0\" >&nbsp;</th>\n",
       "      <th class=\"col_heading level0 col0\" >Score</th>\n",
       "    </tr>\n",
       "    <tr>\n",
       "      <th class=\"index_name level0\" >Metric</th>\n",
       "      <th class=\"blank col0\" >&nbsp;</th>\n",
       "    </tr>\n",
       "  </thead>\n",
       "  <tbody>\n",
       "    <tr>\n",
       "      <th id=\"T_df24b_level0_row0\" class=\"row_heading level0 row0\" >Accuracy</th>\n",
       "      <td id=\"T_df24b_row0_col0\" class=\"data row0 col0\" >1.00</td>\n",
       "    </tr>\n",
       "    <tr>\n",
       "      <th id=\"T_df24b_level0_row1\" class=\"row_heading level0 row1\" >Precision - Macro Average</th>\n",
       "      <td id=\"T_df24b_row1_col0\" class=\"data row1 col0\" >1.00</td>\n",
       "    </tr>\n",
       "    <tr>\n",
       "      <th id=\"T_df24b_level0_row2\" class=\"row_heading level0 row2\" >Recall - Macro Average</th>\n",
       "      <td id=\"T_df24b_row2_col0\" class=\"data row2 col0\" >1.00</td>\n",
       "    </tr>\n",
       "  </tbody>\n",
       "</table>\n"
      ]
     },
     "metadata": {},
     "output_type": "display_data"
    },
    {
     "data": {
      "text/html": [
       "<hr style=\"background-color: #eee;border: 0 none;color: #eee;height: 1px;\">"
      ]
     },
     "metadata": {},
     "output_type": "display_data"
    },
    {
     "data": {
      "text/html": [
       "<h4>Naive Model Comparison</h4>"
      ]
     },
     "metadata": {},
     "output_type": "display_data"
    },
    {
     "data": {
      "text/html": [
       "<p>Compare naive model score to given model score.</p>"
      ]
     },
     "metadata": {},
     "output_type": "display_data"
    },
    {
     "data": {
      "text/html": [
       "The given model performs 2.92 times compared to the naive model using the Accuracy metric.<br>RandomForestClassifier model prediction has achieved a score of 1 compared to Naive statistical prediction which achieved a score of 0.34 on tested data."
      ]
     },
     "metadata": {},
     "output_type": "display_data"
    },
    {
     "data": {
      "image/png": "[encoded data removed]",
      "text/plain": [
       "<Figure size 432x288 with 1 Axes>"
      ]
     },
     "metadata": {
      "needs_background": "light"
     },
     "output_type": "display_data"
    },
    {
     "data": {
      "text/html": [
       "<hr style=\"background-color: black;border: 0 none;color: black;height: 1px;\">\n",
       "        <h2>Other Checks That Weren't Displayed</h2>\n",
       "        <style type=\"text/css\">\n",
       "#T_f0f94_ table {\n",
       "  text-align: left;\n",
       "}\n",
       "#T_f0f94_ thead {\n",
       "  text-align: left;\n",
       "}\n",
       "#T_f0f94_ tbody {\n",
       "  text-align: left;\n",
       "}\n",
       "#T_f0f94_ th {\n",
       "  text-align: left;\n",
       "}\n",
       "#T_f0f94_ td {\n",
       "  text-align: left;\n",
       "}\n",
       "</style>\n",
       "<table id=\"T_f0f94_\">\n",
       "  <thead>\n",
       "    <tr>\n",
       "      <th class=\"col_heading level0 col0\" >Check</th>\n",
       "      <th class=\"col_heading level0 col1\" >Reason</th>\n",
       "    </tr>\n",
       "  </thead>\n",
       "  <tbody>\n",
       "    <tr>\n",
       "      <td id=\"T_f0f94_row0_col0\" class=\"data row0 col0\" >Boosting Overfit</td>\n",
       "      <td id=\"T_f0f94_row0_col1\" class=\"data row0 col1\" >DeepchecksValueError: Unsupported model of type: RandomForestClassifier</td>\n",
       "    </tr>\n",
       "    <tr>\n",
       "      <td id=\"T_f0f94_row1_col0\" class=\"data row1 col0\" >Category Mismatch Train Test</td>\n",
       "      <td id=\"T_f0f94_row1_col1\" class=\"data row1 col1\" >Nothing found</td>\n",
       "    </tr>\n",
       "    <tr>\n",
       "      <td id=\"T_f0f94_row2_col0\" class=\"data row2 col0\" >String Mismatch Comparison</td>\n",
       "      <td id=\"T_f0f94_row2_col1\" class=\"data row2 col1\" >Nothing found</td>\n",
       "    </tr>\n",
       "    <tr>\n",
       "      <td id=\"T_f0f94_row3_col0\" class=\"data row3 col0\" >Special Characters - Test Dataset</td>\n",
       "      <td id=\"T_f0f94_row3_col1\" class=\"data row3 col1\" >Nothing found</td>\n",
       "    </tr>\n",
       "    <tr>\n",
       "      <td id=\"T_f0f94_row4_col0\" class=\"data row4 col0\" >Special Characters - Train Dataset</td>\n",
       "      <td id=\"T_f0f94_row4_col1\" class=\"data row4 col1\" >Nothing found</td>\n",
       "    </tr>\n",
       "    <tr>\n",
       "      <td id=\"T_f0f94_row5_col0\" class=\"data row5 col0\" >String Length Out Of Bounds - Test Dataset</td>\n",
       "      <td id=\"T_f0f94_row5_col1\" class=\"data row5 col1\" >Nothing found</td>\n",
       "    </tr>\n",
       "    <tr>\n",
       "      <td id=\"T_f0f94_row6_col0\" class=\"data row6 col0\" >String Length Out Of Bounds - Train Dataset</td>\n",
       "      <td id=\"T_f0f94_row6_col1\" class=\"data row6 col1\" >Nothing found</td>\n",
       "    </tr>\n",
       "    <tr>\n",
       "      <td id=\"T_f0f94_row7_col0\" class=\"data row7 col0\" >Rare Format Detection - Test Dataset</td>\n",
       "      <td id=\"T_f0f94_row7_col1\" class=\"data row7 col1\" >Nothing found</td>\n",
       "    </tr>\n",
       "    <tr>\n",
       "      <td id=\"T_f0f94_row8_col0\" class=\"data row8 col0\" >Rare Format Detection - Train Dataset</td>\n",
       "      <td id=\"T_f0f94_row8_col1\" class=\"data row8 col1\" >Nothing found</td>\n",
       "    </tr>\n",
       "    <tr>\n",
       "      <td id=\"T_f0f94_row9_col0\" class=\"data row9 col0\" >Dominant Frequency Change</td>\n",
       "      <td id=\"T_f0f94_row9_col1\" class=\"data row9 col1\" >Nothing found</td>\n",
       "    </tr>\n",
       "    <tr>\n",
       "      <td id=\"T_f0f94_row10_col0\" class=\"data row10 col0\" >Data Duplicates - Test Dataset</td>\n",
       "      <td id=\"T_f0f94_row10_col1\" class=\"data row10 col1\" >Nothing found</td>\n",
       "    </tr>\n",
       "    <tr>\n",
       "      <td id=\"T_f0f94_row11_col0\" class=\"data row11 col0\" >String Mismatch - Test Dataset</td>\n",
       "      <td id=\"T_f0f94_row11_col1\" class=\"data row11 col1\" >Nothing found</td>\n",
       "    </tr>\n",
       "    <tr>\n",
       "      <td id=\"T_f0f94_row12_col0\" class=\"data row12 col0\" >String Mismatch - Train Dataset</td>\n",
       "      <td id=\"T_f0f94_row12_col1\" class=\"data row12 col1\" >Nothing found</td>\n",
       "    </tr>\n",
       "    <tr>\n",
       "      <td id=\"T_f0f94_row13_col0\" class=\"data row13 col0\" >Mixed Types - Test Dataset</td>\n",
       "      <td id=\"T_f0f94_row13_col1\" class=\"data row13 col1\" >Nothing found</td>\n",
       "    </tr>\n",
       "    <tr>\n",
       "      <td id=\"T_f0f94_row14_col0\" class=\"data row14 col0\" >Mixed Types - Train Dataset</td>\n",
       "      <td id=\"T_f0f94_row14_col1\" class=\"data row14 col1\" >Nothing found</td>\n",
       "    </tr>\n",
       "    <tr>\n",
       "      <td id=\"T_f0f94_row15_col0\" class=\"data row15 col0\" >Mixed Nulls - Test Dataset</td>\n",
       "      <td id=\"T_f0f94_row15_col1\" class=\"data row15 col1\" >Nothing found</td>\n",
       "    </tr>\n",
       "    <tr>\n",
       "      <td id=\"T_f0f94_row16_col0\" class=\"data row16 col0\" >Mixed Nulls - Train Dataset</td>\n",
       "      <td id=\"T_f0f94_row16_col1\" class=\"data row16 col1\" >Nothing found</td>\n",
       "    </tr>\n",
       "    <tr>\n",
       "      <td id=\"T_f0f94_row17_col0\" class=\"data row17 col0\" >Single Value in Column - Test Dataset</td>\n",
       "      <td id=\"T_f0f94_row17_col1\" class=\"data row17 col1\" >Nothing found</td>\n",
       "    </tr>\n",
       "    <tr>\n",
       "      <td id=\"T_f0f94_row18_col0\" class=\"data row18 col0\" >Single Value in Column - Train Dataset</td>\n",
       "      <td id=\"T_f0f94_row18_col1\" class=\"data row18 col1\" >Nothing found</td>\n",
       "    </tr>\n",
       "    <tr>\n",
       "      <td id=\"T_f0f94_row19_col0\" class=\"data row19 col0\" >Data Duplicates - Train Dataset</td>\n",
       "      <td id=\"T_f0f94_row19_col1\" class=\"data row19 col1\" >Nothing found</td>\n",
       "    </tr>\n",
       "    <tr>\n",
       "      <td id=\"T_f0f94_row20_col0\" class=\"data row20 col0\" >None</td>\n",
       "      <td id=\"T_f0f94_row20_col1\" class=\"data row20 col1\" >Nothing found</td>\n",
       "    </tr>\n",
       "  </tbody>\n",
       "</table>\n",
       "\n",
       "        "
      ]
     },
     "metadata": {},
     "output_type": "display_data"
    }
   ],
   "source": [
    "OverallGenericCheckSuite.run(train_dataset=ds_train, test_dataset=ds_test, model=rf_clf, check_datasets_policy='both')"
   ]
  },
  {
   "cell_type": "markdown",
   "id": "37bac0e0",
   "metadata": {},
   "source": [
    "## Let's see what would've happened with a different train-val split:"
   ]
  },
  {
   "cell_type": "code",
   "execution_count": 8,
   "id": "c015149c",
   "metadata": {
    "ExecuteTime": {
     "end_time": "2021-11-03T23:09:21.853452Z",
     "start_time": "2021-11-03T23:09:21.846459Z"
    }
   },
   "outputs": [],
   "source": [
    "train_len = round(0.67*iris_df.shape[0])\n",
    "alternative_train_df = Dataset(iris_df[:train_len], label = label_col)\n",
    "alternative_test_df = Dataset(iris_df[train_len:], label = label_col)"
   ]
  },
  {
   "cell_type": "code",
   "execution_count": 9,
   "id": "67d894f5",
   "metadata": {
    "ExecuteTime": {
     "end_time": "2021-11-03T23:10:58.563611Z",
     "start_time": "2021-11-03T23:10:58.327413Z"
    }
   },
   "outputs": [
    {
     "data": {
      "text/html": [
       "\n",
       "    <h1>Overall Generic Suite</h1>\n",
       "    <p>The suite is composed of various checks such as: Data Sample Leakage Report, Single Feature Contribution, Single Feature Contribution Train Test, etc...<br>\n",
       "    Each check may contain conditions (which results in \n",
       "    <span style=\"color: green;display:inline-block\">✓</span> /\n",
       "    <span style=\"color: red;display:inline-block\">✖</span> /\n",
       "    <span style=\"color: orange;font-weight:bold;display:inline-block\">!</span>\n",
       "    ), as well as other outputs such as plots or tables.<br>\n",
       "    Suites, checks and conditions can all be modified (see tutorial [link]).</p>\n",
       "    <hr style=\"background-color: black;border: 0 none;color: black;height: 1px;\"><h2>Conditions Summary</h2>\n",
       "    "
      ]
     },
     "metadata": {},
     "output_type": "display_data"
    },
    {
     "data": {
      "text/html": [
       "<style type=\"text/css\">\n",
       "#T_040bd_ table {\n",
       "  text-align: left;\n",
       "}\n",
       "#T_040bd_ thead {\n",
       "  text-align: left;\n",
       "}\n",
       "#T_040bd_ tbody {\n",
       "  text-align: left;\n",
       "}\n",
       "#T_040bd_ th {\n",
       "  text-align: left;\n",
       "}\n",
       "#T_040bd_ td {\n",
       "  text-align: left;\n",
       "}\n",
       "</style>\n",
       "<table id=\"T_040bd_\">\n",
       "  <thead>\n",
       "    <tr>\n",
       "      <th class=\"col_heading level0 col0\" >Status</th>\n",
       "      <th class=\"col_heading level0 col1\" >Check</th>\n",
       "      <th class=\"col_heading level0 col2\" >Condition</th>\n",
       "      <th class=\"col_heading level0 col3\" >More Info</th>\n",
       "    </tr>\n",
       "  </thead>\n",
       "  <tbody>\n",
       "    <tr>\n",
       "      <td id=\"T_040bd_row0_col0\" class=\"data row0 col0\" ><div style=\"color: red;text-align: center\">✖</div></td>\n",
       "      <td id=\"T_040bd_row0_col1\" class=\"data row0 col1\" >None</td>\n",
       "      <td id=\"T_040bd_row0_col2\" class=\"data row0 col2\" >Number of new label values is not greater than 0</td>\n",
       "      <td id=\"T_040bd_row0_col3\" class=\"data row0 col3\" >Found more than 0 new labels in label column: target</td>\n",
       "    </tr>\n",
       "    <tr>\n",
       "      <td id=\"T_040bd_row1_col0\" class=\"data row1 col0\" ><div style=\"color: red;text-align: center\">✖</div></td>\n",
       "      <td id=\"T_040bd_row1_col1\" class=\"data row1 col1\" >Single Feature Contribution - Train Dataset</td>\n",
       "      <td id=\"T_040bd_row1_col2\" class=\"data row1 col2\" >Features PPS is not greater than 0.8</td>\n",
       "      <td id=\"T_040bd_row1_col3\" class=\"data row1 col3\" >Features with greater PPS: petal length (cm), petal width (cm)</td>\n",
       "    </tr>\n",
       "    <tr>\n",
       "      <td id=\"T_040bd_row2_col0\" class=\"data row2 col0\" ><div style=\"color: red;text-align: center\">✖</div></td>\n",
       "      <td id=\"T_040bd_row2_col1\" class=\"data row2 col1\" >Single Feature Contribution Train-Test</td>\n",
       "      <td id=\"T_040bd_row2_col2\" class=\"data row2 col2\" >Train-Test features PPS difference is not greater than 0.2</td>\n",
       "      <td id=\"T_040bd_row2_col3\" class=\"data row2 col3\" >Features with PPS difference above threshold: petal length (cm), petal width (cm), sepal length (cm), sepal width (cm)</td>\n",
       "    </tr>\n",
       "    <tr>\n",
       "      <td id=\"T_040bd_row3_col0\" class=\"data row3 col0\" ><div style=\"color: red;text-align: center\">✖</div></td>\n",
       "      <td id=\"T_040bd_row3_col1\" class=\"data row3 col1\" >Train-Test Difference Overfit</td>\n",
       "      <td id=\"T_040bd_row3_col2\" class=\"data row3 col2\" >Train-Test metrics degradation percentage is not greater than 0.2</td>\n",
       "      <td id=\"T_040bd_row3_col3\" class=\"data row3 col3\" >Found degraded metrics: {'Precision': '100%', 'Recall': '100%'}</td>\n",
       "    </tr>\n",
       "    <tr>\n",
       "      <td id=\"T_040bd_row4_col0\" class=\"data row4 col0\" ><div style=\"color: red;text-align: center\">✖</div></td>\n",
       "      <td id=\"T_040bd_row4_col1\" class=\"data row4 col1\" >Single Value in Column - Test Dataset</td>\n",
       "      <td id=\"T_040bd_row4_col2\" class=\"data row4 col2\" >Does not contain only a single value for all columns</td>\n",
       "      <td id=\"T_040bd_row4_col3\" class=\"data row4 col3\" >Columns containing a single value: ['target']</td>\n",
       "    </tr>\n",
       "    <tr>\n",
       "      <td id=\"T_040bd_row5_col0\" class=\"data row5 col0\" ><div style=\"color: red;text-align: center\">✖</div></td>\n",
       "      <td id=\"T_040bd_row5_col1\" class=\"data row5 col1\" >Data Duplicates - Test Dataset</td>\n",
       "      <td id=\"T_040bd_row5_col2\" class=\"data row5 col2\" >Duplicate data is not greater than 0%</td>\n",
       "      <td id=\"T_040bd_row5_col3\" class=\"data row5 col3\" >Found 2.00% duplicate data</td>\n",
       "    </tr>\n",
       "    <tr>\n",
       "      <td id=\"T_040bd_row6_col0\" class=\"data row6 col0\" ><div style=\"color: red;text-align: center\">✖</div></td>\n",
       "      <td id=\"T_040bd_row6_col1\" class=\"data row6 col1\" >Dominant Frequency Change</td>\n",
       "      <td id=\"T_040bd_row6_col2\" class=\"data row6 col2\" >P value not less than 0.0001</td>\n",
       "      <td id=\"T_040bd_row6_col3\" class=\"data row6 col3\" >Found columns with low p-value: ['petal width (cm)']</td>\n",
       "    </tr>\n",
       "    <tr>\n",
       "      <td id=\"T_040bd_row7_col0\" class=\"data row7 col0\" ><div style=\"color: green;text-align: center\">✓</div></td>\n",
       "      <td id=\"T_040bd_row7_col1\" class=\"data row7 col1\" >Category Mismatch Train Test</td>\n",
       "      <td id=\"T_040bd_row7_col2\" class=\"data row7 col2\" >Number of new category values is not greater than 0 for all columns</td>\n",
       "      <td id=\"T_040bd_row7_col3\" class=\"data row7 col3\" ></td>\n",
       "    </tr>\n",
       "    <tr>\n",
       "      <td id=\"T_040bd_row8_col0\" class=\"data row8 col0\" ><div style=\"color: green;text-align: center\">✓</div></td>\n",
       "      <td id=\"T_040bd_row8_col1\" class=\"data row8 col1\" >String Mismatch Comparison</td>\n",
       "      <td id=\"T_040bd_row8_col2\" class=\"data row8 col2\" >No new variants allowed in test data for all columns</td>\n",
       "      <td id=\"T_040bd_row8_col3\" class=\"data row8 col3\" ></td>\n",
       "    </tr>\n",
       "    <tr>\n",
       "      <td id=\"T_040bd_row9_col0\" class=\"data row9 col0\" ><div style=\"color: green;text-align: center\">✓</div></td>\n",
       "      <td id=\"T_040bd_row9_col1\" class=\"data row9 col1\" >Special Characters - Test Dataset</td>\n",
       "      <td id=\"T_040bd_row9_col2\" class=\"data row9 col2\" >Ratio of entirely special character samples not greater than 0.10% for all columns</td>\n",
       "      <td id=\"T_040bd_row9_col3\" class=\"data row9 col3\" ></td>\n",
       "    </tr>\n",
       "    <tr>\n",
       "      <td id=\"T_040bd_row10_col0\" class=\"data row10 col0\" ><div style=\"color: green;text-align: center\">✓</div></td>\n",
       "      <td id=\"T_040bd_row10_col1\" class=\"data row10 col1\" >Special Characters - Train Dataset</td>\n",
       "      <td id=\"T_040bd_row10_col2\" class=\"data row10 col2\" >Ratio of entirely special character samples not greater than 0.10% for all columns</td>\n",
       "      <td id=\"T_040bd_row10_col3\" class=\"data row10 col3\" ></td>\n",
       "    </tr>\n",
       "    <tr>\n",
       "      <td id=\"T_040bd_row11_col0\" class=\"data row11 col0\" ><div style=\"color: green;text-align: center\">✓</div></td>\n",
       "      <td id=\"T_040bd_row11_col1\" class=\"data row11 col1\" >Rare Format Detection - Test Dataset</td>\n",
       "      <td id=\"T_040bd_row11_col2\" class=\"data row11 col2\" >Rare formats ratio is not greater than 0</td>\n",
       "      <td id=\"T_040bd_row11_col3\" class=\"data row11 col3\" ></td>\n",
       "    </tr>\n",
       "    <tr>\n",
       "      <td id=\"T_040bd_row12_col0\" class=\"data row12 col0\" ><div style=\"color: green;text-align: center\">✓</div></td>\n",
       "      <td id=\"T_040bd_row12_col1\" class=\"data row12 col1\" >Rare Format Detection - Train Dataset</td>\n",
       "      <td id=\"T_040bd_row12_col2\" class=\"data row12 col2\" >Rare formats ratio is not greater than 0</td>\n",
       "      <td id=\"T_040bd_row12_col3\" class=\"data row12 col3\" ></td>\n",
       "    </tr>\n",
       "    <tr>\n",
       "      <td id=\"T_040bd_row13_col0\" class=\"data row13 col0\" ><div style=\"color: green;text-align: center\">✓</div></td>\n",
       "      <td id=\"T_040bd_row13_col1\" class=\"data row13 col1\" >Data Duplicates - Train Dataset</td>\n",
       "      <td id=\"T_040bd_row13_col2\" class=\"data row13 col2\" >Duplicate data is not greater than 0%</td>\n",
       "      <td id=\"T_040bd_row13_col3\" class=\"data row13 col3\" ></td>\n",
       "    </tr>\n",
       "    <tr>\n",
       "      <td id=\"T_040bd_row14_col0\" class=\"data row14 col0\" ><div style=\"color: green;text-align: center\">✓</div></td>\n",
       "      <td id=\"T_040bd_row14_col1\" class=\"data row14 col1\" >Data Sample Leakage Report</td>\n",
       "      <td id=\"T_040bd_row14_col2\" class=\"data row14 col2\" >Percentage of test data samples that appear in train data not greater than 10.00%</td>\n",
       "      <td id=\"T_040bd_row14_col3\" class=\"data row14 col3\" ></td>\n",
       "    </tr>\n",
       "    <tr>\n",
       "      <td id=\"T_040bd_row15_col0\" class=\"data row15 col0\" ><div style=\"color: green;text-align: center\">✓</div></td>\n",
       "      <td id=\"T_040bd_row15_col1\" class=\"data row15 col1\" >String Mismatch - Train Dataset</td>\n",
       "      <td id=\"T_040bd_row15_col2\" class=\"data row15 col2\" >No string variants for all columns</td>\n",
       "      <td id=\"T_040bd_row15_col3\" class=\"data row15 col3\" ></td>\n",
       "    </tr>\n",
       "    <tr>\n",
       "      <td id=\"T_040bd_row16_col0\" class=\"data row16 col0\" ><div style=\"color: green;text-align: center\">✓</div></td>\n",
       "      <td id=\"T_040bd_row16_col1\" class=\"data row16 col1\" >Mixed Types - Train Dataset</td>\n",
       "      <td id=\"T_040bd_row16_col2\" class=\"data row16 col2\" >Rare type ratio is not less than 1.00% of samples in all columns</td>\n",
       "      <td id=\"T_040bd_row16_col3\" class=\"data row16 col3\" ></td>\n",
       "    </tr>\n",
       "    <tr>\n",
       "      <td id=\"T_040bd_row17_col0\" class=\"data row17 col0\" ><div style=\"color: green;text-align: center\">✓</div></td>\n",
       "      <td id=\"T_040bd_row17_col1\" class=\"data row17 col1\" >Mixed Nulls - Test Dataset</td>\n",
       "      <td id=\"T_040bd_row17_col2\" class=\"data row17 col2\" >Not more than 1 different null types for all columns</td>\n",
       "      <td id=\"T_040bd_row17_col3\" class=\"data row17 col3\" ></td>\n",
       "    </tr>\n",
       "    <tr>\n",
       "      <td id=\"T_040bd_row18_col0\" class=\"data row18 col0\" ><div style=\"color: green;text-align: center\">✓</div></td>\n",
       "      <td id=\"T_040bd_row18_col1\" class=\"data row18 col1\" >Mixed Nulls - Train Dataset</td>\n",
       "      <td id=\"T_040bd_row18_col2\" class=\"data row18 col2\" >Not more than 1 different null types for all columns</td>\n",
       "      <td id=\"T_040bd_row18_col3\" class=\"data row18 col3\" ></td>\n",
       "    </tr>\n",
       "    <tr>\n",
       "      <td id=\"T_040bd_row19_col0\" class=\"data row19 col0\" ><div style=\"color: green;text-align: center\">✓</div></td>\n",
       "      <td id=\"T_040bd_row19_col1\" class=\"data row19 col1\" >Single Value in Column - Train Dataset</td>\n",
       "      <td id=\"T_040bd_row19_col2\" class=\"data row19 col2\" >Does not contain only a single value for all columns</td>\n",
       "      <td id=\"T_040bd_row19_col3\" class=\"data row19 col3\" ></td>\n",
       "    </tr>\n",
       "    <tr>\n",
       "      <td id=\"T_040bd_row20_col0\" class=\"data row20 col0\" ><div style=\"color: green;text-align: center\">✓</div></td>\n",
       "      <td id=\"T_040bd_row20_col1\" class=\"data row20 col1\" >Naive Model Comparison</td>\n",
       "      <td id=\"T_040bd_row20_col2\" class=\"data row20 col2\" >Ratio not less than 1.1 between the given model's result and the naive model's result</td>\n",
       "      <td id=\"T_040bd_row20_col3\" class=\"data row20 col3\" ></td>\n",
       "    </tr>\n",
       "    <tr>\n",
       "      <td id=\"T_040bd_row21_col0\" class=\"data row21 col0\" ><div style=\"color: green;text-align: center\">✓</div></td>\n",
       "      <td id=\"T_040bd_row21_col1\" class=\"data row21 col1\" >Unused Features</td>\n",
       "      <td id=\"T_040bd_row21_col2\" class=\"data row21 col2\" >Number of high variance unused features is not greater than 5</td>\n",
       "      <td id=\"T_040bd_row21_col3\" class=\"data row21 col3\" ></td>\n",
       "    </tr>\n",
       "    <tr>\n",
       "      <td id=\"T_040bd_row22_col0\" class=\"data row22 col0\" ><div style=\"color: green;text-align: center\">✓</div></td>\n",
       "      <td id=\"T_040bd_row22_col1\" class=\"data row22 col1\" >Single Feature Contribution - Test Dataset</td>\n",
       "      <td id=\"T_040bd_row22_col2\" class=\"data row22 col2\" >Features PPS is not greater than 0.8</td>\n",
       "      <td id=\"T_040bd_row22_col3\" class=\"data row22 col3\" ></td>\n",
       "    </tr>\n",
       "    <tr>\n",
       "      <td id=\"T_040bd_row23_col0\" class=\"data row23 col0\" ><div style=\"color: green;text-align: center\">✓</div></td>\n",
       "      <td id=\"T_040bd_row23_col1\" class=\"data row23 col1\" >String Mismatch - Test Dataset</td>\n",
       "      <td id=\"T_040bd_row23_col2\" class=\"data row23 col2\" >No string variants for all columns</td>\n",
       "      <td id=\"T_040bd_row23_col3\" class=\"data row23 col3\" ></td>\n",
       "    </tr>\n",
       "    <tr>\n",
       "      <td id=\"T_040bd_row24_col0\" class=\"data row24 col0\" ><div style=\"color: green;text-align: center\">✓</div></td>\n",
       "      <td id=\"T_040bd_row24_col1\" class=\"data row24 col1\" >Mixed Types - Test Dataset</td>\n",
       "      <td id=\"T_040bd_row24_col2\" class=\"data row24 col2\" >Rare type ratio is not less than 1.00% of samples in all columns</td>\n",
       "      <td id=\"T_040bd_row24_col3\" class=\"data row24 col3\" ></td>\n",
       "    </tr>\n",
       "  </tbody>\n",
       "</table>\n"
      ]
     },
     "metadata": {},
     "output_type": "display_data"
    },
    {
     "data": {
      "text/html": [
       "<hr style=\"background-color: black;border: 0 none;color: black;height: 1px;\"><h2>Additional Outputs</h2>"
      ]
     },
     "metadata": {},
     "output_type": "display_data"
    },
    {
     "data": {
      "text/html": [
       "<h4>Single Feature Contribution - Train Dataset</h4>"
      ]
     },
     "metadata": {},
     "output_type": "display_data"
    },
    {
     "data": {
      "text/html": [
       "<p>Return the PPS (Predictive Power Score) of all features in relation to the label.</p>"
      ]
     },
     "metadata": {},
     "output_type": "display_data"
    },
    {
     "data": {
      "image/png": "[encoded data removed]",
      "text/plain": [
       "<Figure size 1080x288 with 2 Axes>"
      ]
     },
     "metadata": {
      "needs_background": "light"
     },
     "output_type": "display_data"
    },
    {
     "data": {
      "text/html": [
       "The PPS represents the ability of a feature to single-handedly predict another feature or label."
      ]
     },
     "metadata": {},
     "output_type": "display_data"
    },
    {
     "data": {
      "text/html": [
       "A high PPS (close to 1) can mean that this feature's success in predicting the label is actually due to data"
      ]
     },
     "metadata": {},
     "output_type": "display_data"
    },
    {
     "data": {
      "text/html": [
       "leakage - meaning that the feature holds information that is based on the label to begin with."
      ]
     },
     "metadata": {},
     "output_type": "display_data"
    },
    {
     "data": {
      "text/html": [
       "<hr style=\"background-color: #eee;border: 0 none;color: #eee;height: 1px;\">"
      ]
     },
     "metadata": {},
     "output_type": "display_data"
    },
    {
     "data": {
      "text/html": [
       "<h4>Single Feature Contribution - Test Dataset</h4>"
      ]
     },
     "metadata": {},
     "output_type": "display_data"
    },
    {
     "data": {
      "text/html": [
       "<p>Return the PPS (Predictive Power Score) of all features in relation to the label.</p>"
      ]
     },
     "metadata": {},
     "output_type": "display_data"
    },
    {
     "data": {
      "image/png": "[encoded data removed]",
      "text/plain": [
       "<Figure size 1080x288 with 2 Axes>"
      ]
     },
     "metadata": {
      "needs_background": "light"
     },
     "output_type": "display_data"
    },
    {
     "data": {
      "text/html": [
       "The PPS represents the ability of a feature to single-handedly predict another feature or label."
      ]
     },
     "metadata": {},
     "output_type": "display_data"
    },
    {
     "data": {
      "text/html": [
       "A high PPS (close to 1) can mean that this feature's success in predicting the label is actually due to data"
      ]
     },
     "metadata": {},
     "output_type": "display_data"
    },
    {
     "data": {
      "text/html": [
       "leakage - meaning that the feature holds information that is based on the label to begin with."
      ]
     },
     "metadata": {},
     "output_type": "display_data"
    },
    {
     "data": {
      "text/html": [
       "<hr style=\"background-color: #eee;border: 0 none;color: #eee;height: 1px;\">"
      ]
     },
     "metadata": {},
     "output_type": "display_data"
    },
    {
     "data": {
      "text/html": [
       "<h4>Single Feature Contribution Train-Test</h4>"
      ]
     },
     "metadata": {},
     "output_type": "display_data"
    },
    {
     "data": {
      "text/html": [
       "<p>    Return the difference in PPS (Predictive Power Score) of all features between train and test datasets.</p>"
      ]
     },
     "metadata": {},
     "output_type": "display_data"
    },
    {
     "data": {
      "image/png": "[encoded data removed]",
      "text/plain": [
       "<Figure size 1080x288 with 2 Axes>"
      ]
     },
     "metadata": {
      "needs_background": "light"
     },
     "output_type": "display_data"
    },
    {
     "data": {
      "text/html": [
       "The PPS represents the ability of a feature to single-handedly predict another feature or label."
      ]
     },
     "metadata": {},
     "output_type": "display_data"
    },
    {
     "data": {
      "text/html": [
       "A high PPS (close to 1) can mean that this feature's success in predicting the label is actually due to data"
      ]
     },
     "metadata": {},
     "output_type": "display_data"
    },
    {
     "data": {
      "text/html": [
       "leakage - meaning that the feature holds information that is based on the label to begin with."
      ]
     },
     "metadata": {},
     "output_type": "display_data"
    },
    {
     "data": {
      "text/html": []
     },
     "metadata": {},
     "output_type": "display_data"
    },
    {
     "data": {
      "text/html": [
       "When we compare train PPS to test PPS, A high difference can strongly indicate leakage, as a feature"
      ]
     },
     "metadata": {},
     "output_type": "display_data"
    },
    {
     "data": {
      "text/html": [
       "that was powerful in train but not in test can be explained by leakage in train that is not relevant to a new dataset."
      ]
     },
     "metadata": {},
     "output_type": "display_data"
    },
    {
     "data": {
      "text/html": [
       "<hr style=\"background-color: #eee;border: 0 none;color: #eee;height: 1px;\">"
      ]
     },
     "metadata": {},
     "output_type": "display_data"
    },
    {
     "data": {
      "text/html": [
       "<h4>Train-Test Difference Overfit</h4>"
      ]
     },
     "metadata": {},
     "output_type": "display_data"
    },
    {
     "data": {
      "text/html": [
       "<p>Visualize overfit by displaying the difference between model metrics on train and on test data.</p>"
      ]
     },
     "metadata": {},
     "output_type": "display_data"
    },
    {
     "data": {
      "image/png": "[encoded data removed]",
      "text/plain": [
       "<Figure size 432x288 with 1 Axes>"
      ]
     },
     "metadata": {
      "needs_background": "light"
     },
     "output_type": "display_data"
    },
    {
     "data": {
      "text/html": [
       "<hr style=\"background-color: #eee;border: 0 none;color: #eee;height: 1px;\">"
      ]
     },
     "metadata": {},
     "output_type": "display_data"
    },
    {
     "data": {
      "text/html": [
       "<h4>Unused Features</h4>"
      ]
     },
     "metadata": {},
     "output_type": "display_data"
    },
    {
     "data": {
      "text/html": [
       "<p>Detect features that are nearly unused by the model.</p>"
      ]
     },
     "metadata": {},
     "output_type": "display_data"
    },
    {
     "data": {
      "text/html": [
       "Features above the line are a sample of the most important features, while the features below the line are the unused features with highest variance, as defined by check parameters"
      ]
     },
     "metadata": {},
     "output_type": "display_data"
    },
    {
     "data": {
      "image/png": "[encoded data removed]",
      "text/plain": [
       "<Figure size 576x216 with 1 Axes>"
      ]
     },
     "metadata": {
      "needs_background": "light"
     },
     "output_type": "display_data"
    },
    {
     "data": {
      "text/html": [
       "<hr style=\"background-color: #eee;border: 0 none;color: #eee;height: 1px;\">"
      ]
     },
     "metadata": {},
     "output_type": "display_data"
    },
    {
     "data": {
      "text/html": [
       "<h4>Performance Report - Train Dataset</h4>"
      ]
     },
     "metadata": {},
     "output_type": "display_data"
    },
    {
     "data": {
      "text/html": [
       "<p>Summarize given metrics on a dataset and model.</p>"
      ]
     },
     "metadata": {},
     "output_type": "display_data"
    },
    {
     "data": {
      "text/html": [
       "<style type=\"text/css\">\n",
       "#T_899b6_ table {\n",
       "  text-align: left;\n",
       "}\n",
       "#T_899b6_ thead {\n",
       "  text-align: left;\n",
       "}\n",
       "#T_899b6_ tbody {\n",
       "  text-align: left;\n",
       "}\n",
       "#T_899b6_ th {\n",
       "  text-align: left;\n",
       "}\n",
       "#T_899b6_ td {\n",
       "  text-align: left;\n",
       "}\n",
       "</style>\n",
       "<table id=\"T_899b6_\">\n",
       "  <thead>\n",
       "    <tr>\n",
       "      <th class=\"blank level0\" >&nbsp;</th>\n",
       "      <th class=\"col_heading level0 col0\" >Score</th>\n",
       "    </tr>\n",
       "    <tr>\n",
       "      <th class=\"index_name level0\" >Metric</th>\n",
       "      <th class=\"blank col0\" >&nbsp;</th>\n",
       "    </tr>\n",
       "  </thead>\n",
       "  <tbody>\n",
       "    <tr>\n",
       "      <th id=\"T_899b6_level0_row0\" class=\"row_heading level0 row0\" >Accuracy</th>\n",
       "      <td id=\"T_899b6_row0_col0\" class=\"data row0 col0\" >1.00</td>\n",
       "    </tr>\n",
       "    <tr>\n",
       "      <th id=\"T_899b6_level0_row1\" class=\"row_heading level0 row1\" >Precision</th>\n",
       "      <td id=\"T_899b6_row1_col0\" class=\"data row1 col0\" >1.00</td>\n",
       "    </tr>\n",
       "    <tr>\n",
       "      <th id=\"T_899b6_level0_row2\" class=\"row_heading level0 row2\" >Recall</th>\n",
       "      <td id=\"T_899b6_row2_col0\" class=\"data row2 col0\" >1.00</td>\n",
       "    </tr>\n",
       "  </tbody>\n",
       "</table>\n"
      ]
     },
     "metadata": {},
     "output_type": "display_data"
    },
    {
     "data": {
      "text/html": [
       "<hr style=\"background-color: #eee;border: 0 none;color: #eee;height: 1px;\">"
      ]
     },
     "metadata": {},
     "output_type": "display_data"
    },
    {
     "data": {
      "text/html": [
       "<h4>Performance Report - Test Dataset</h4>"
      ]
     },
     "metadata": {},
     "output_type": "display_data"
    },
    {
     "data": {
      "text/html": [
       "<p>Summarize given metrics on a dataset and model.</p>"
      ]
     },
     "metadata": {},
     "output_type": "display_data"
    },
    {
     "data": {
      "text/html": [
       "<style type=\"text/css\">\n",
       "#T_f849c_ table {\n",
       "  text-align: left;\n",
       "}\n",
       "#T_f849c_ thead {\n",
       "  text-align: left;\n",
       "}\n",
       "#T_f849c_ tbody {\n",
       "  text-align: left;\n",
       "}\n",
       "#T_f849c_ th {\n",
       "  text-align: left;\n",
       "}\n",
       "#T_f849c_ td {\n",
       "  text-align: left;\n",
       "}\n",
       "</style>\n",
       "<table id=\"T_f849c_\">\n",
       "  <thead>\n",
       "    <tr>\n",
       "      <th class=\"blank level0\" >&nbsp;</th>\n",
       "      <th class=\"col_heading level0 col0\" >Score</th>\n",
       "    </tr>\n",
       "    <tr>\n",
       "      <th class=\"index_name level0\" >Metric</th>\n",
       "      <th class=\"blank col0\" >&nbsp;</th>\n",
       "    </tr>\n",
       "  </thead>\n",
       "  <tbody>\n",
       "    <tr>\n",
       "      <th id=\"T_f849c_level0_row0\" class=\"row_heading level0 row0\" >Accuracy</th>\n",
       "      <td id=\"T_f849c_row0_col0\" class=\"data row0 col0\" >1.00</td>\n",
       "    </tr>\n",
       "    <tr>\n",
       "      <th id=\"T_f849c_level0_row1\" class=\"row_heading level0 row1\" >Precision</th>\n",
       "      <td id=\"T_f849c_row1_col0\" class=\"data row1 col0\" >0.00</td>\n",
       "    </tr>\n",
       "    <tr>\n",
       "      <th id=\"T_f849c_level0_row2\" class=\"row_heading level0 row2\" >Recall</th>\n",
       "      <td id=\"T_f849c_row2_col0\" class=\"data row2 col0\" >0.00</td>\n",
       "    </tr>\n",
       "  </tbody>\n",
       "</table>\n"
      ]
     },
     "metadata": {},
     "output_type": "display_data"
    },
    {
     "data": {
      "text/html": [
       "<hr style=\"background-color: #eee;border: 0 none;color: #eee;height: 1px;\">"
      ]
     },
     "metadata": {},
     "output_type": "display_data"
    },
    {
     "data": {
      "text/html": [
       "<h4>Naive Model Comparison</h4>"
      ]
     },
     "metadata": {},
     "output_type": "display_data"
    },
    {
     "data": {
      "text/html": [
       "<p>Compare naive model score to given model score.</p>"
      ]
     },
     "metadata": {},
     "output_type": "display_data"
    },
    {
     "data": {
      "text/html": [
       "The given model performs 10 times compared to the naive model using the Accuracy metric.<br>RandomForestClassifier model prediction has achieved a score of 1 compared to Naive statistical prediction which achieved a score of 0 on tested data."
      ]
     },
     "metadata": {},
     "output_type": "display_data"
    },
    {
     "data": {
      "image/png": "[encoded data removed]",
      "text/plain": [
       "<Figure size 432x288 with 1 Axes>"
      ]
     },
     "metadata": {
      "needs_background": "light"
     },
     "output_type": "display_data"
    },
    {
     "data": {
      "text/html": [
       "<hr style=\"background-color: #eee;border: 0 none;color: #eee;height: 1px;\">"
      ]
     },
     "metadata": {},
     "output_type": "display_data"
    },
    {
     "data": {
      "text/html": [
       "<h4>Single Value in Column - Test Dataset</h4>"
      ]
     },
     "metadata": {},
     "output_type": "display_data"
    },
    {
     "data": {
      "text/html": [
       "<p>Check if there are columns which have only a single unique value in all rows.</p>"
      ]
     },
     "metadata": {},
     "output_type": "display_data"
    },
    {
     "data": {
      "text/html": [
       "The following columns have only one unique value"
      ]
     },
     "metadata": {},
     "output_type": "display_data"
    },
    {
     "data": {
      "text/html": [
       "<style type=\"text/css\">\n",
       "#T_e8166_ table {\n",
       "  text-align: left;\n",
       "}\n",
       "#T_e8166_ thead {\n",
       "  text-align: left;\n",
       "}\n",
       "#T_e8166_ tbody {\n",
       "  text-align: left;\n",
       "}\n",
       "#T_e8166_ th {\n",
       "  text-align: left;\n",
       "}\n",
       "#T_e8166_ td {\n",
       "  text-align: left;\n",
       "}\n",
       "</style>\n",
       "<table id=\"T_e8166_\">\n",
       "  <thead>\n",
       "    <tr>\n",
       "      <th class=\"blank level0\" >&nbsp;</th>\n",
       "      <th class=\"col_heading level0 col0\" >target</th>\n",
       "    </tr>\n",
       "  </thead>\n",
       "  <tbody>\n",
       "    <tr>\n",
       "      <th id=\"T_e8166_level0_row0\" class=\"row_heading level0 row0\" >Single unique value</th>\n",
       "      <td id=\"T_e8166_row0_col0\" class=\"data row0 col0\" >2</td>\n",
       "    </tr>\n",
       "  </tbody>\n",
       "</table>\n"
      ]
     },
     "metadata": {},
     "output_type": "display_data"
    },
    {
     "data": {
      "text/html": [
       "<hr style=\"background-color: #eee;border: 0 none;color: #eee;height: 1px;\">"
      ]
     },
     "metadata": {},
     "output_type": "display_data"
    },
    {
     "data": {
      "text/html": [
       "<h4>Data Duplicates - Test Dataset</h4>"
      ]
     },
     "metadata": {},
     "output_type": "display_data"
    },
    {
     "data": {
      "text/html": [
       "<p>Search for duplicate data in dataset.</p>"
      ]
     },
     "metadata": {},
     "output_type": "display_data"
    },
    {
     "data": {
      "text/html": [
       "2.00% of data samples are duplicates"
      ]
     },
     "metadata": {},
     "output_type": "display_data"
    },
    {
     "data": {
      "text/html": [
       "<style type=\"text/css\">\n",
       "#T_960ad_ table {\n",
       "  text-align: left;\n",
       "}\n",
       "#T_960ad_ thead {\n",
       "  text-align: left;\n",
       "}\n",
       "#T_960ad_ tbody {\n",
       "  text-align: left;\n",
       "}\n",
       "#T_960ad_ th {\n",
       "  text-align: left;\n",
       "}\n",
       "#T_960ad_ td {\n",
       "  text-align: left;\n",
       "}\n",
       "</style>\n",
       "<table id=\"T_960ad_\">\n",
       "  <thead>\n",
       "    <tr>\n",
       "      <th class=\"blank level0\" >&nbsp;</th>\n",
       "      <th class=\"col_heading level0 col0\" >sepal length (cm)</th>\n",
       "      <th class=\"col_heading level0 col1\" >sepal width (cm)</th>\n",
       "      <th class=\"col_heading level0 col2\" >petal length (cm)</th>\n",
       "      <th class=\"col_heading level0 col3\" >petal width (cm)</th>\n",
       "      <th class=\"col_heading level0 col4\" >target</th>\n",
       "    </tr>\n",
       "    <tr>\n",
       "      <th class=\"index_name level0\" >Number of Duplicates</th>\n",
       "      <th class=\"blank col0\" >&nbsp;</th>\n",
       "      <th class=\"blank col1\" >&nbsp;</th>\n",
       "      <th class=\"blank col2\" >&nbsp;</th>\n",
       "      <th class=\"blank col3\" >&nbsp;</th>\n",
       "      <th class=\"blank col4\" >&nbsp;</th>\n",
       "    </tr>\n",
       "  </thead>\n",
       "  <tbody>\n",
       "    <tr>\n",
       "      <th id=\"T_960ad_level0_row0\" class=\"row_heading level0 row0\" >2</th>\n",
       "      <td id=\"T_960ad_row0_col0\" class=\"data row0 col0\" >5.80</td>\n",
       "      <td id=\"T_960ad_row0_col1\" class=\"data row0 col1\" >2.70</td>\n",
       "      <td id=\"T_960ad_row0_col2\" class=\"data row0 col2\" >5.10</td>\n",
       "      <td id=\"T_960ad_row0_col3\" class=\"data row0 col3\" >1.90</td>\n",
       "      <td id=\"T_960ad_row0_col4\" class=\"data row0 col4\" >2</td>\n",
       "    </tr>\n",
       "  </tbody>\n",
       "</table>\n"
      ]
     },
     "metadata": {},
     "output_type": "display_data"
    },
    {
     "data": {
      "text/html": [
       "<hr style=\"background-color: #eee;border: 0 none;color: #eee;height: 1px;\">"
      ]
     },
     "metadata": {},
     "output_type": "display_data"
    },
    {
     "data": {
      "text/html": [
       "<h4>Dominant Frequency Change</h4>"
      ]
     },
     "metadata": {},
     "output_type": "display_data"
    },
    {
     "data": {
      "text/html": [
       "<p>Check if dominant values have increased significantly between test and reference data.</p>"
      ]
     },
     "metadata": {},
     "output_type": "display_data"
    },
    {
     "data": {
      "text/html": [
       "<style type=\"text/css\">\n",
       "#T_812a5_ table {\n",
       "  text-align: left;\n",
       "}\n",
       "#T_812a5_ thead {\n",
       "  text-align: left;\n",
       "}\n",
       "#T_812a5_ tbody {\n",
       "  text-align: left;\n",
       "}\n",
       "#T_812a5_ th {\n",
       "  text-align: left;\n",
       "}\n",
       "#T_812a5_ td {\n",
       "  text-align: left;\n",
       "}\n",
       "</style>\n",
       "<table id=\"T_812a5_\">\n",
       "  <thead>\n",
       "    <tr>\n",
       "      <th class=\"blank level0\" >&nbsp;</th>\n",
       "      <th class=\"col_heading level0 col0\" >Value</th>\n",
       "      <th class=\"col_heading level0 col1\" >Reference data %</th>\n",
       "      <th class=\"col_heading level0 col2\" >Tested data %</th>\n",
       "      <th class=\"col_heading level0 col3\" >Reference data #</th>\n",
       "      <th class=\"col_heading level0 col4\" >Tested data #</th>\n",
       "      <th class=\"col_heading level0 col5\" >P value</th>\n",
       "    </tr>\n",
       "  </thead>\n",
       "  <tbody>\n",
       "    <tr>\n",
       "      <th id=\"T_812a5_level0_row0\" class=\"row_heading level0 row0\" >petal width (cm)</th>\n",
       "      <td id=\"T_812a5_row0_col0\" class=\"data row0 col0\" >0.20</td>\n",
       "      <td id=\"T_812a5_row0_col1\" class=\"data row0 col1\" >29.00</td>\n",
       "      <td id=\"T_812a5_row0_col2\" class=\"data row0 col2\" >0.00</td>\n",
       "      <td id=\"T_812a5_row0_col3\" class=\"data row0 col3\" >29</td>\n",
       "      <td id=\"T_812a5_row0_col4\" class=\"data row0 col4\" >0</td>\n",
       "      <td id=\"T_812a5_row0_col5\" class=\"data row0 col5\" >0.00</td>\n",
       "    </tr>\n",
       "  </tbody>\n",
       "</table>\n"
      ]
     },
     "metadata": {},
     "output_type": "display_data"
    },
    {
     "data": {
      "text/html": [
       "<hr style=\"background-color: #eee;border: 0 none;color: #eee;height: 1px;\">"
      ]
     },
     "metadata": {},
     "output_type": "display_data"
    },
    {
     "data": {
      "text/html": [
       "<p>Run check.</p>"
      ]
     },
     "metadata": {},
     "output_type": "display_data"
    },
    {
     "data": {
      "text/html": [
       "<style type=\"text/css\">\n",
       "#T_1c656_ table {\n",
       "  text-align: left;\n",
       "}\n",
       "#T_1c656_ thead {\n",
       "  text-align: left;\n",
       "}\n",
       "#T_1c656_ tbody {\n",
       "  text-align: left;\n",
       "}\n",
       "#T_1c656_ th {\n",
       "  text-align: left;\n",
       "}\n",
       "#T_1c656_ td {\n",
       "  text-align: left;\n",
       "}\n",
       "</style>\n",
       "<table id=\"T_1c656_\">\n",
       "  <thead>\n",
       "    <tr>\n",
       "      <th class=\"blank level0\" >&nbsp;</th>\n",
       "      <th class=\"col_heading level0 col0\" >Percent new labels in sample</th>\n",
       "      <th class=\"col_heading level0 col1\" >New labels</th>\n",
       "    </tr>\n",
       "    <tr>\n",
       "      <th class=\"index_name level0\" >Label column</th>\n",
       "      <th class=\"blank col0\" >&nbsp;</th>\n",
       "      <th class=\"blank col1\" >&nbsp;</th>\n",
       "    </tr>\n",
       "  </thead>\n",
       "  <tbody>\n",
       "    <tr>\n",
       "      <th id=\"T_1c656_level0_row0\" class=\"row_heading level0 row0\" >target</th>\n",
       "      <td id=\"T_1c656_row0_col0\" class=\"data row0 col0\" >100%</td>\n",
       "      <td id=\"T_1c656_row0_col1\" class=\"data row0 col1\" >[2]</td>\n",
       "    </tr>\n",
       "  </tbody>\n",
       "</table>\n"
      ]
     },
     "metadata": {},
     "output_type": "display_data"
    },
    {
     "data": {
      "text/html": [
       "<hr style=\"background-color: black;border: 0 none;color: black;height: 1px;\">\n",
       "        <h2>Other Checks That Weren't Displayed</h2>\n",
       "        <style type=\"text/css\">\n",
       "#T_ed881_ table {\n",
       "  text-align: left;\n",
       "}\n",
       "#T_ed881_ thead {\n",
       "  text-align: left;\n",
       "}\n",
       "#T_ed881_ tbody {\n",
       "  text-align: left;\n",
       "}\n",
       "#T_ed881_ th {\n",
       "  text-align: left;\n",
       "}\n",
       "#T_ed881_ td {\n",
       "  text-align: left;\n",
       "}\n",
       "</style>\n",
       "<table id=\"T_ed881_\">\n",
       "  <thead>\n",
       "    <tr>\n",
       "      <th class=\"col_heading level0 col0\" >Check</th>\n",
       "      <th class=\"col_heading level0 col1\" >Reason</th>\n",
       "    </tr>\n",
       "  </thead>\n",
       "  <tbody>\n",
       "    <tr>\n",
       "      <td id=\"T_ed881_row0_col0\" class=\"data row0 col0\" >Boosting Overfit</td>\n",
       "      <td id=\"T_ed881_row0_col1\" class=\"data row0 col1\" >DeepchecksValueError: Unsupported model of type: RandomForestClassifier</td>\n",
       "    </tr>\n",
       "    <tr>\n",
       "      <td id=\"T_ed881_row1_col0\" class=\"data row1 col0\" >Data Sample Leakage Report</td>\n",
       "      <td id=\"T_ed881_row1_col1\" class=\"data row1 col1\" >Nothing found</td>\n",
       "    </tr>\n",
       "    <tr>\n",
       "      <td id=\"T_ed881_row2_col0\" class=\"data row2 col0\" >Special Characters - Test Dataset</td>\n",
       "      <td id=\"T_ed881_row2_col1\" class=\"data row2 col1\" >Nothing found</td>\n",
       "    </tr>\n",
       "    <tr>\n",
       "      <td id=\"T_ed881_row3_col0\" class=\"data row3 col0\" >Special Characters - Train Dataset</td>\n",
       "      <td id=\"T_ed881_row3_col1\" class=\"data row3 col1\" >Nothing found</td>\n",
       "    </tr>\n",
       "    <tr>\n",
       "      <td id=\"T_ed881_row4_col0\" class=\"data row4 col0\" >String Length Out Of Bounds - Test Dataset</td>\n",
       "      <td id=\"T_ed881_row4_col1\" class=\"data row4 col1\" >Nothing found</td>\n",
       "    </tr>\n",
       "    <tr>\n",
       "      <td id=\"T_ed881_row5_col0\" class=\"data row5 col0\" >String Length Out Of Bounds - Train Dataset</td>\n",
       "      <td id=\"T_ed881_row5_col1\" class=\"data row5 col1\" >Nothing found</td>\n",
       "    </tr>\n",
       "    <tr>\n",
       "      <td id=\"T_ed881_row6_col0\" class=\"data row6 col0\" >Rare Format Detection - Test Dataset</td>\n",
       "      <td id=\"T_ed881_row6_col1\" class=\"data row6 col1\" >Nothing found</td>\n",
       "    </tr>\n",
       "    <tr>\n",
       "      <td id=\"T_ed881_row7_col0\" class=\"data row7 col0\" >Rare Format Detection - Train Dataset</td>\n",
       "      <td id=\"T_ed881_row7_col1\" class=\"data row7 col1\" >Nothing found</td>\n",
       "    </tr>\n",
       "    <tr>\n",
       "      <td id=\"T_ed881_row8_col0\" class=\"data row8 col0\" >Data Duplicates - Train Dataset</td>\n",
       "      <td id=\"T_ed881_row8_col1\" class=\"data row8 col1\" >Nothing found</td>\n",
       "    </tr>\n",
       "    <tr>\n",
       "      <td id=\"T_ed881_row9_col0\" class=\"data row9 col0\" >String Mismatch - Test Dataset</td>\n",
       "      <td id=\"T_ed881_row9_col1\" class=\"data row9 col1\" >Nothing found</td>\n",
       "    </tr>\n",
       "    <tr>\n",
       "      <td id=\"T_ed881_row10_col0\" class=\"data row10 col0\" >String Mismatch - Train Dataset</td>\n",
       "      <td id=\"T_ed881_row10_col1\" class=\"data row10 col1\" >Nothing found</td>\n",
       "    </tr>\n",
       "    <tr>\n",
       "      <td id=\"T_ed881_row11_col0\" class=\"data row11 col0\" >Mixed Types - Test Dataset</td>\n",
       "      <td id=\"T_ed881_row11_col1\" class=\"data row11 col1\" >Nothing found</td>\n",
       "    </tr>\n",
       "    <tr>\n",
       "      <td id=\"T_ed881_row12_col0\" class=\"data row12 col0\" >Mixed Types - Train Dataset</td>\n",
       "      <td id=\"T_ed881_row12_col1\" class=\"data row12 col1\" >Nothing found</td>\n",
       "    </tr>\n",
       "    <tr>\n",
       "      <td id=\"T_ed881_row13_col0\" class=\"data row13 col0\" >Mixed Nulls - Test Dataset</td>\n",
       "      <td id=\"T_ed881_row13_col1\" class=\"data row13 col1\" >Nothing found</td>\n",
       "    </tr>\n",
       "    <tr>\n",
       "      <td id=\"T_ed881_row14_col0\" class=\"data row14 col0\" >Mixed Nulls - Train Dataset</td>\n",
       "      <td id=\"T_ed881_row14_col1\" class=\"data row14 col1\" >Nothing found</td>\n",
       "    </tr>\n",
       "    <tr>\n",
       "      <td id=\"T_ed881_row15_col0\" class=\"data row15 col0\" >Single Value in Column - Train Dataset</td>\n",
       "      <td id=\"T_ed881_row15_col1\" class=\"data row15 col1\" >Nothing found</td>\n",
       "    </tr>\n",
       "    <tr>\n",
       "      <td id=\"T_ed881_row16_col0\" class=\"data row16 col0\" >String Mismatch Comparison</td>\n",
       "      <td id=\"T_ed881_row16_col1\" class=\"data row16 col1\" >Nothing found</td>\n",
       "    </tr>\n",
       "    <tr>\n",
       "      <td id=\"T_ed881_row17_col0\" class=\"data row17 col0\" >Category Mismatch Train Test</td>\n",
       "      <td id=\"T_ed881_row17_col1\" class=\"data row17 col1\" >Nothing found</td>\n",
       "    </tr>\n",
       "  </tbody>\n",
       "</table>\n",
       "\n",
       "        "
      ]
     },
     "metadata": {},
     "output_type": "display_data"
    }
   ],
   "source": [
    "OverallGenericCheckSuite.run(train_dataset=alternative_train_df, test_dataset=alternative_test_df,\n",
    "                             model=rf_clf, check_datasets_policy='both')"
   ]
  },
  {
   "cell_type": "markdown",
   "id": "8fb4f55d",
   "metadata": {},
   "source": [
    "##### Note that we found:\n",
    "1. Validation Dataset 'target' column, which is the label column, had only one single unique value! This indicates something that's worth noticing (validation data is different than the training data and has only a single type of labels in samples...)\n",
    "2. Validation dataset had a duplicate sample (which might be fine, use-case dependent). If not relevant, this check can be removed from suite."
   ]
  },
  {
   "cell_type": "markdown",
   "id": "b671a828",
   "metadata": {},
   "source": [
    "## Create Custom CheckSuite"
   ]
  },
  {
   "cell_type": "code",
   "execution_count": 10,
   "id": "11a28dbb",
   "metadata": {
    "ExecuteTime": {
     "end_time": "2021-11-03T22:53:57.043579Z",
     "start_time": "2021-11-03T22:53:57.035427Z"
    }
   },
   "outputs": [],
   "source": [
    "from deepchecks import CheckSuite\n",
    "from deepchecks.checks import *"
   ]
  },
  {
   "cell_type": "code",
   "execution_count": 11,
   "id": "e3c441b8",
   "metadata": {
    "ExecuteTime": {
     "end_time": "2021-11-03T23:47:11.824153Z",
     "start_time": "2021-11-03T23:47:11.814040Z"
    }
   },
   "outputs": [
    {
     "name": "stdout",
     "output_type": "stream",
     "text": [
      "['CalibrationMetric', 'ConfusionMatrixReport', 'NaiveModelComparison', 'PerformanceReport', 'RocReport', 'SegmentPerformance']\n"
     ]
    }
   ],
   "source": [
    "# check out which builtin performance checks exist\n",
    "print([class_name for class_name in dir(performance) if class_name[0].isupper()])"
   ]
  },
  {
   "cell_type": "code",
   "execution_count": 12,
   "id": "dba6615d",
   "metadata": {
    "ExecuteTime": {
     "end_time": "2021-11-03T23:50:12.796614Z",
     "start_time": "2021-11-03T23:50:12.787114Z"
    }
   },
   "outputs": [],
   "source": [
    "MyModelSuite = CheckSuite('Simple Suite For Model Performance',\n",
    "    ModelInfo(),\n",
    "    PerformanceReport(),\n",
    "    TrainTestDifferenceOverfit(),\n",
    "    ConfusionMatrixReport(),\n",
    "    NaiveModelComparison(),\n",
    "    NaiveModelComparison(naive_model_type='statistical')\n",
    ")"
   ]
  },
  {
   "cell_type": "code",
   "execution_count": 13,
   "id": "ae6748fc",
   "metadata": {
    "ExecuteTime": {
     "end_time": "2021-11-03T23:50:17.832377Z",
     "start_time": "2021-11-03T23:50:16.114097Z"
    },
    "tags": []
   },
   "outputs": [
    {
     "data": {
      "text/html": [
       "\n",
       "    <h1>Simple Suite For Model Performance</h1>\n",
       "    <p>The suite is composed of various checks such as: Model Info, Performance Report, Train Test Difference Overfit, etc...<br>\n",
       "    Each check may contain conditions (which results in \n",
       "    <span style=\"color: green;display:inline-block\">✓</span> /\n",
       "    <span style=\"color: red;display:inline-block\">✖</span> /\n",
       "    <span style=\"color: orange;font-weight:bold;display:inline-block\">!</span>\n",
       "    ), as well as other outputs such as plots or tables.<br>\n",
       "    Suites, checks and conditions can all be modified (see tutorial [link]).</p>\n",
       "    <hr style=\"background-color: black;border: 0 none;color: black;height: 1px;\"><h2>Conditions Summary</h2>\n",
       "    "
      ]
     },
     "metadata": {},
     "output_type": "display_data"
    },
    {
     "data": {
      "text/html": [
       "<p>No conditions defined on checks in the suite.</p>"
      ]
     },
     "metadata": {},
     "output_type": "display_data"
    },
    {
     "data": {
      "text/html": [
       "<hr style=\"background-color: black;border: 0 none;color: black;height: 1px;\"><h2>Additional Outputs</h2>"
      ]
     },
     "metadata": {},
     "output_type": "display_data"
    },
    {
     "data": {
      "text/html": [
       "<h4>Model Info</h4>"
      ]
     },
     "metadata": {},
     "output_type": "display_data"
    },
    {
     "data": {
      "text/html": [
       "<p>Summarize given model parameters.</p>"
      ]
     },
     "metadata": {},
     "output_type": "display_data"
    },
    {
     "data": {
      "text/html": [
       "Model Type: RandomForestClassifier"
      ]
     },
     "metadata": {},
     "output_type": "display_data"
    },
    {
     "data": {
      "text/html": [
       "<style type=\"text/css\">\n",
       "#T_fa981_ table {\n",
       "  text-align: left;\n",
       "}\n",
       "#T_fa981_ thead {\n",
       "  text-align: left;\n",
       "}\n",
       "#T_fa981_ tbody {\n",
       "  text-align: left;\n",
       "}\n",
       "#T_fa981_ th {\n",
       "  text-align: left;\n",
       "}\n",
       "#T_fa981_ td {\n",
       "  text-align: left;\n",
       "}\n",
       "</style>\n",
       "<table id=\"T_fa981_\">\n",
       "  <thead>\n",
       "    <tr>\n",
       "      <th class=\"col_heading level0 col0\" >Parameter</th>\n",
       "      <th class=\"col_heading level0 col1\" >Value</th>\n",
       "      <th class=\"col_heading level0 col2\" >Default</th>\n",
       "    </tr>\n",
       "  </thead>\n",
       "  <tbody>\n",
       "    <tr>\n",
       "      <td id=\"T_fa981_row0_col0\" class=\"data row0 col0\" >bootstrap</td>\n",
       "      <td id=\"T_fa981_row0_col1\" class=\"data row0 col1\" >True</td>\n",
       "      <td id=\"T_fa981_row0_col2\" class=\"data row0 col2\" >True</td>\n",
       "    </tr>\n",
       "    <tr>\n",
       "      <td id=\"T_fa981_row1_col0\" class=\"data row1 col0\" >ccp_alpha</td>\n",
       "      <td id=\"T_fa981_row1_col1\" class=\"data row1 col1\" >0.00</td>\n",
       "      <td id=\"T_fa981_row1_col2\" class=\"data row1 col2\" >0.00</td>\n",
       "    </tr>\n",
       "    <tr>\n",
       "      <td id=\"T_fa981_row2_col0\" class=\"data row2 col0\" >class_weight</td>\n",
       "      <td id=\"T_fa981_row2_col1\" class=\"data row2 col1\" >None</td>\n",
       "      <td id=\"T_fa981_row2_col2\" class=\"data row2 col2\" >None</td>\n",
       "    </tr>\n",
       "    <tr>\n",
       "      <td id=\"T_fa981_row3_col0\" class=\"data row3 col0\" >criterion</td>\n",
       "      <td id=\"T_fa981_row3_col1\" class=\"data row3 col1\" >gini</td>\n",
       "      <td id=\"T_fa981_row3_col2\" class=\"data row3 col2\" >gini</td>\n",
       "    </tr>\n",
       "    <tr>\n",
       "      <td id=\"T_fa981_row4_col0\" class=\"data row4 col0\" >max_depth</td>\n",
       "      <td id=\"T_fa981_row4_col1\" class=\"data row4 col1\" >None</td>\n",
       "      <td id=\"T_fa981_row4_col2\" class=\"data row4 col2\" >None</td>\n",
       "    </tr>\n",
       "    <tr>\n",
       "      <td id=\"T_fa981_row5_col0\" class=\"data row5 col0\" >max_features</td>\n",
       "      <td id=\"T_fa981_row5_col1\" class=\"data row5 col1\" >auto</td>\n",
       "      <td id=\"T_fa981_row5_col2\" class=\"data row5 col2\" >auto</td>\n",
       "    </tr>\n",
       "    <tr>\n",
       "      <td id=\"T_fa981_row6_col0\" class=\"data row6 col0\" >max_leaf_nodes</td>\n",
       "      <td id=\"T_fa981_row6_col1\" class=\"data row6 col1\" >None</td>\n",
       "      <td id=\"T_fa981_row6_col2\" class=\"data row6 col2\" >None</td>\n",
       "    </tr>\n",
       "    <tr>\n",
       "      <td id=\"T_fa981_row7_col0\" class=\"data row7 col0\" >max_samples</td>\n",
       "      <td id=\"T_fa981_row7_col1\" class=\"data row7 col1\" >None</td>\n",
       "      <td id=\"T_fa981_row7_col2\" class=\"data row7 col2\" >None</td>\n",
       "    </tr>\n",
       "    <tr>\n",
       "      <td id=\"T_fa981_row8_col0\" class=\"data row8 col0\" >min_impurity_decrease</td>\n",
       "      <td id=\"T_fa981_row8_col1\" class=\"data row8 col1\" >0.00</td>\n",
       "      <td id=\"T_fa981_row8_col2\" class=\"data row8 col2\" >0.00</td>\n",
       "    </tr>\n",
       "    <tr>\n",
       "      <td id=\"T_fa981_row9_col0\" class=\"data row9 col0\" >min_samples_leaf</td>\n",
       "      <td id=\"T_fa981_row9_col1\" class=\"data row9 col1\" >1</td>\n",
       "      <td id=\"T_fa981_row9_col2\" class=\"data row9 col2\" >1</td>\n",
       "    </tr>\n",
       "    <tr>\n",
       "      <td id=\"T_fa981_row10_col0\" class=\"data row10 col0\" >min_samples_split</td>\n",
       "      <td id=\"T_fa981_row10_col1\" class=\"data row10 col1\" >2</td>\n",
       "      <td id=\"T_fa981_row10_col2\" class=\"data row10 col2\" >2</td>\n",
       "    </tr>\n",
       "    <tr>\n",
       "      <td id=\"T_fa981_row11_col0\" class=\"data row11 col0\" >min_weight_fraction_leaf</td>\n",
       "      <td id=\"T_fa981_row11_col1\" class=\"data row11 col1\" >0.00</td>\n",
       "      <td id=\"T_fa981_row11_col2\" class=\"data row11 col2\" >0.00</td>\n",
       "    </tr>\n",
       "    <tr>\n",
       "      <td id=\"T_fa981_row12_col0\" class=\"data row12 col0\" >n_estimators</td>\n",
       "      <td id=\"T_fa981_row12_col1\" class=\"data row12 col1\" >100</td>\n",
       "      <td id=\"T_fa981_row12_col2\" class=\"data row12 col2\" >100</td>\n",
       "    </tr>\n",
       "    <tr>\n",
       "      <td id=\"T_fa981_row13_col0\" class=\"data row13 col0\" >n_jobs</td>\n",
       "      <td id=\"T_fa981_row13_col1\" class=\"data row13 col1\" >None</td>\n",
       "      <td id=\"T_fa981_row13_col2\" class=\"data row13 col2\" >None</td>\n",
       "    </tr>\n",
       "    <tr>\n",
       "      <td id=\"T_fa981_row14_col0\" class=\"data row14 col0\" >oob_score</td>\n",
       "      <td id=\"T_fa981_row14_col1\" class=\"data row14 col1\" >False</td>\n",
       "      <td id=\"T_fa981_row14_col2\" class=\"data row14 col2\" >False</td>\n",
       "    </tr>\n",
       "    <tr>\n",
       "      <td id=\"T_fa981_row15_col0\" class=\"data row15 col0\" >random_state</td>\n",
       "      <td id=\"T_fa981_row15_col1\" class=\"data row15 col1\" >None</td>\n",
       "      <td id=\"T_fa981_row15_col2\" class=\"data row15 col2\" >None</td>\n",
       "    </tr>\n",
       "    <tr>\n",
       "      <td id=\"T_fa981_row16_col0\" class=\"data row16 col0\" >verbose</td>\n",
       "      <td id=\"T_fa981_row16_col1\" class=\"data row16 col1\" >0</td>\n",
       "      <td id=\"T_fa981_row16_col2\" class=\"data row16 col2\" >0</td>\n",
       "    </tr>\n",
       "    <tr>\n",
       "      <td id=\"T_fa981_row17_col0\" class=\"data row17 col0\" >warm_start</td>\n",
       "      <td id=\"T_fa981_row17_col1\" class=\"data row17 col1\" >False</td>\n",
       "      <td id=\"T_fa981_row17_col2\" class=\"data row17 col2\" >False</td>\n",
       "    </tr>\n",
       "  </tbody>\n",
       "</table>\n"
      ]
     },
     "metadata": {},
     "output_type": "display_data"
    },
    {
     "data": {
      "text/html": [
       "<p style=\"font-size:0.7em\"><i>Colored rows are parameters with non-default values</i></p>"
      ]
     },
     "metadata": {},
     "output_type": "display_data"
    },
    {
     "data": {
      "text/html": [
       "<hr style=\"background-color: #eee;border: 0 none;color: #eee;height: 1px;\">"
      ]
     },
     "metadata": {},
     "output_type": "display_data"
    },
    {
     "data": {
      "text/html": [
       "<h4>Performance Report - Train Dataset</h4>"
      ]
     },
     "metadata": {},
     "output_type": "display_data"
    },
    {
     "data": {
      "text/html": [
       "<p>Summarize given metrics on a dataset and model.</p>"
      ]
     },
     "metadata": {},
     "output_type": "display_data"
    },
    {
     "data": {
      "text/html": [
       "<style type=\"text/css\">\n",
       "#T_8d149_ table {\n",
       "  text-align: left;\n",
       "}\n",
       "#T_8d149_ thead {\n",
       "  text-align: left;\n",
       "}\n",
       "#T_8d149_ tbody {\n",
       "  text-align: left;\n",
       "}\n",
       "#T_8d149_ th {\n",
       "  text-align: left;\n",
       "}\n",
       "#T_8d149_ td {\n",
       "  text-align: left;\n",
       "}\n",
       "</style>\n",
       "<table id=\"T_8d149_\">\n",
       "  <thead>\n",
       "    <tr>\n",
       "      <th class=\"blank level0\" >&nbsp;</th>\n",
       "      <th class=\"col_heading level0 col0\" >Score</th>\n",
       "    </tr>\n",
       "    <tr>\n",
       "      <th class=\"index_name level0\" >Metric</th>\n",
       "      <th class=\"blank col0\" >&nbsp;</th>\n",
       "    </tr>\n",
       "  </thead>\n",
       "  <tbody>\n",
       "    <tr>\n",
       "      <th id=\"T_8d149_level0_row0\" class=\"row_heading level0 row0\" >Accuracy</th>\n",
       "      <td id=\"T_8d149_row0_col0\" class=\"data row0 col0\" >1.00</td>\n",
       "    </tr>\n",
       "    <tr>\n",
       "      <th id=\"T_8d149_level0_row1\" class=\"row_heading level0 row1\" >Precision - Macro Average</th>\n",
       "      <td id=\"T_8d149_row1_col0\" class=\"data row1 col0\" >1.00</td>\n",
       "    </tr>\n",
       "    <tr>\n",
       "      <th id=\"T_8d149_level0_row2\" class=\"row_heading level0 row2\" >Recall - Macro Average</th>\n",
       "      <td id=\"T_8d149_row2_col0\" class=\"data row2 col0\" >1.00</td>\n",
       "    </tr>\n",
       "  </tbody>\n",
       "</table>\n"
      ]
     },
     "metadata": {},
     "output_type": "display_data"
    },
    {
     "data": {
      "text/html": [
       "<hr style=\"background-color: #eee;border: 0 none;color: #eee;height: 1px;\">"
      ]
     },
     "metadata": {},
     "output_type": "display_data"
    },
    {
     "data": {
      "text/html": [
       "<h4>Performance Report - Test Dataset</h4>"
      ]
     },
     "metadata": {},
     "output_type": "display_data"
    },
    {
     "data": {
      "text/html": [
       "<p>Summarize given metrics on a dataset and model.</p>"
      ]
     },
     "metadata": {},
     "output_type": "display_data"
    },
    {
     "data": {
      "text/html": [
       "<style type=\"text/css\">\n",
       "#T_f3487_ table {\n",
       "  text-align: left;\n",
       "}\n",
       "#T_f3487_ thead {\n",
       "  text-align: left;\n",
       "}\n",
       "#T_f3487_ tbody {\n",
       "  text-align: left;\n",
       "}\n",
       "#T_f3487_ th {\n",
       "  text-align: left;\n",
       "}\n",
       "#T_f3487_ td {\n",
       "  text-align: left;\n",
       "}\n",
       "</style>\n",
       "<table id=\"T_f3487_\">\n",
       "  <thead>\n",
       "    <tr>\n",
       "      <th class=\"blank level0\" >&nbsp;</th>\n",
       "      <th class=\"col_heading level0 col0\" >Score</th>\n",
       "    </tr>\n",
       "    <tr>\n",
       "      <th class=\"index_name level0\" >Metric</th>\n",
       "      <th class=\"blank col0\" >&nbsp;</th>\n",
       "    </tr>\n",
       "  </thead>\n",
       "  <tbody>\n",
       "    <tr>\n",
       "      <th id=\"T_f3487_level0_row0\" class=\"row_heading level0 row0\" >Accuracy</th>\n",
       "      <td id=\"T_f3487_row0_col0\" class=\"data row0 col0\" >1.00</td>\n",
       "    </tr>\n",
       "    <tr>\n",
       "      <th id=\"T_f3487_level0_row1\" class=\"row_heading level0 row1\" >Precision - Macro Average</th>\n",
       "      <td id=\"T_f3487_row1_col0\" class=\"data row1 col0\" >1.00</td>\n",
       "    </tr>\n",
       "    <tr>\n",
       "      <th id=\"T_f3487_level0_row2\" class=\"row_heading level0 row2\" >Recall - Macro Average</th>\n",
       "      <td id=\"T_f3487_row2_col0\" class=\"data row2 col0\" >1.00</td>\n",
       "    </tr>\n",
       "  </tbody>\n",
       "</table>\n"
      ]
     },
     "metadata": {},
     "output_type": "display_data"
    },
    {
     "data": {
      "text/html": [
       "<hr style=\"background-color: #eee;border: 0 none;color: #eee;height: 1px;\">"
      ]
     },
     "metadata": {},
     "output_type": "display_data"
    },
    {
     "data": {
      "text/html": [
       "<h4>Train-Test Difference Overfit</h4>"
      ]
     },
     "metadata": {},
     "output_type": "display_data"
    },
    {
     "data": {
      "text/html": [
       "<p>Visualize overfit by displaying the difference between model metrics on train and on test data.</p>"
      ]
     },
     "metadata": {},
     "output_type": "display_data"
    },
    {
     "data": {
      "image/png": "[encoded data removed]",
      "text/plain": [
       "<Figure size 432x288 with 1 Axes>"
      ]
     },
     "metadata": {
      "needs_background": "light"
     },
     "output_type": "display_data"
    },
    {
     "data": {
      "text/html": [
       "<hr style=\"background-color: #eee;border: 0 none;color: #eee;height: 1px;\">"
      ]
     },
     "metadata": {},
     "output_type": "display_data"
    },
    {
     "data": {
      "text/html": [
       "<h4>Confusion Matrix Report - Train Dataset</h4>"
      ]
     },
     "metadata": {},
     "output_type": "display_data"
    },
    {
     "data": {
      "text/html": [
       "<p>Calculate the confusion matrix of the model on the given dataset.</p>"
      ]
     },
     "metadata": {},
     "output_type": "display_data"
    },
    {
     "data": {
      "image/png": "[encoded data removed]",
      "text/plain": [
       "<Figure size 432x288 with 2 Axes>"
      ]
     },
     "metadata": {
      "needs_background": "light"
     },
     "output_type": "display_data"
    },
    {
     "data": {
      "text/html": [
       "<hr style=\"background-color: #eee;border: 0 none;color: #eee;height: 1px;\">"
      ]
     },
     "metadata": {},
     "output_type": "display_data"
    },
    {
     "data": {
      "text/html": [
       "<h4>Confusion Matrix Report - Test Dataset</h4>"
      ]
     },
     "metadata": {},
     "output_type": "display_data"
    },
    {
     "data": {
      "text/html": [
       "<p>Calculate the confusion matrix of the model on the given dataset.</p>"
      ]
     },
     "metadata": {},
     "output_type": "display_data"
    },
    {
     "data": {
      "image/png": "[encoded data removed]",
      "text/plain": [
       "<Figure size 432x288 with 2 Axes>"
      ]
     },
     "metadata": {
      "needs_background": "light"
     },
     "output_type": "display_data"
    },
    {
     "data": {
      "text/html": [
       "<hr style=\"background-color: #eee;border: 0 none;color: #eee;height: 1px;\">"
      ]
     },
     "metadata": {},
     "output_type": "display_data"
    },
    {
     "data": {
      "text/html": [
       "<h4>Naive Model Comparison</h4>"
      ]
     },
     "metadata": {},
     "output_type": "display_data"
    },
    {
     "data": {
      "text/html": [
       "<p>Compare naive model score to given model score.</p>"
      ]
     },
     "metadata": {},
     "output_type": "display_data"
    },
    {
     "data": {
      "text/html": [
       "The given model performs 2.92 times compared to the naive model using the Accuracy metric.<br>RandomForestClassifier model prediction has achieved a score of 1 compared to Naive statistical prediction which achieved a score of 0.34 on tested data."
      ]
     },
     "metadata": {},
     "output_type": "display_data"
    },
    {
     "data": {
      "image/png": "[encoded data removed]",
      "text/plain": [
       "<Figure size 432x288 with 1 Axes>"
      ]
     },
     "metadata": {
      "needs_background": "light"
     },
     "output_type": "display_data"
    },
    {
     "data": {
      "text/html": [
       "<hr style=\"background-color: #eee;border: 0 none;color: #eee;height: 1px;\">"
      ]
     },
     "metadata": {},
     "output_type": "display_data"
    },
    {
     "data": {
      "text/html": [
       "<h4>Naive Model Comparison</h4>"
      ]
     },
     "metadata": {},
     "output_type": "display_data"
    },
    {
     "data": {
      "text/html": [
       "<p>Compare naive model score to given model score.</p>"
      ]
     },
     "metadata": {},
     "output_type": "display_data"
    },
    {
     "data": {
      "text/html": [
       "The given model performs 2.92 times compared to the naive model using the Accuracy metric.<br>RandomForestClassifier model prediction has achieved a score of 1 compared to Naive statistical prediction which achieved a score of 0.34 on tested data."
      ]
     },
     "metadata": {},
     "output_type": "display_data"
    },
    {
     "data": {
      "image/png": "[encoded data removed]",
      "text/plain": [
       "<Figure size 432x288 with 1 Axes>"
      ]
     },
     "metadata": {
      "needs_background": "light"
     },
     "output_type": "display_data"
    }
   ],
   "source": [
    "MyModelSuite.run(model=rf_clf, train_dataset=ds_train, test_dataset=ds_test, check_datasets_policy='both')"
   ]
  }
 ],
 "metadata": {
  "kernelspec": {
   "display_name": "Python 3 (ipykernel)",
   "language": "python",
   "name": "python3"
  },
  "language_info": {
   "codemirror_mode": {
    "name": "ipython",
    "version": 3
   },
   "file_extension": ".py",
   "mimetype": "text/x-python",
   "name": "python",
   "nbconvert_exporter": "python",
   "pygments_lexer": "ipython3",
   "version": "3.8.5"
  },
  "toc": {
   "base_numbering": 1,
   "nav_menu": {},
   "number_sections": true,
   "sideBar": true,
   "skip_h1_title": false,
   "title_cell": "Table of Contents",
   "title_sidebar": "Contents",
   "toc_cell": false,
   "toc_position": {},
   "toc_section_display": true,
   "toc_window_display": false
  }
 },
 "nbformat": 4,
 "nbformat_minor": 5
}
