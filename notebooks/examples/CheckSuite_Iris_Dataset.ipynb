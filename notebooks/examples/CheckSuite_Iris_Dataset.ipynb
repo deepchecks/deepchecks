{
 "cells": [
  {
   "cell_type": "markdown",
   "id": "08eb6950",
   "metadata": {},
   "source": [
    "## General Imports"
   ]
  },
  {
   "cell_type": "code",
   "execution_count": 1,
   "id": "58f8f2df",
   "metadata": {
    "ExecuteTime": {
     "end_time": "2021-11-23T15:36:23.193088Z",
     "start_time": "2021-11-23T15:36:22.224978Z"
    }
   },
   "outputs": [],
   "source": [
    "import pandas as pd\n",
    "import numpy as np\n",
    "np.random.seed(42)\n",
    "\n",
    "from sklearn.datasets import load_iris\n",
    "from sklearn.ensemble import RandomForestClassifier\n",
    "from sklearn.model_selection import train_test_split"
   ]
  },
  {
   "cell_type": "code",
   "execution_count": 2,
   "id": "813b00a1",
   "metadata": {
    "ExecuteTime": {
     "end_time": "2021-11-23T15:36:23.204397Z",
     "start_time": "2021-11-23T15:36:23.197690Z"
    }
   },
   "outputs": [],
   "source": [
    "# filter sklearn warning about all same label when playing with dataset structure\n",
    "from sklearn.exceptions import UndefinedMetricWarning\n",
    "import warnings\n",
    "warnings.filterwarnings('ignore', category=UndefinedMetricWarning) "
   ]
  },
  {
   "cell_type": "markdown",
   "id": "188ce9dc",
   "metadata": {},
   "source": [
    "## Load Data, Split Train-Val, and Train Model"
   ]
  },
  {
   "cell_type": "markdown",
   "id": "80dfff37",
   "metadata": {},
   "source": [
    "For the purpose of this examples we'll use the simple iris dataset and train a random forest model for multiclass classification"
   ]
  },
  {
   "cell_type": "code",
   "execution_count": 3,
   "id": "7cd0662e",
   "metadata": {
    "ExecuteTime": {
     "end_time": "2021-11-23T15:36:23.228308Z",
     "start_time": "2021-11-23T15:36:23.207696Z"
    }
   },
   "outputs": [],
   "source": [
    "iris_df = load_iris(return_X_y=False, as_frame=True)['frame']\n",
    "label_col = 'target'\n",
    "df_train, df_test = train_test_split(iris_df, stratify=iris_df[label_col], random_state=0)"
   ]
  },
  {
   "cell_type": "code",
   "execution_count": 4,
   "id": "38ef6cd3",
   "metadata": {
    "ExecuteTime": {
     "end_time": "2021-11-23T15:36:23.445503Z",
     "start_time": "2021-11-23T15:36:23.233696Z"
    }
   },
   "outputs": [],
   "source": [
    "rf_clf = RandomForestClassifier()\n",
    "rf_clf.fit(df_train.drop(label_col, axis=1), df_train[label_col]);"
   ]
  },
  {
   "cell_type": "markdown",
   "id": "59b7b88b",
   "metadata": {
    "ExecuteTime": {
     "end_time": "2021-11-03T23:05:52.781081Z",
     "start_time": "2021-11-03T23:05:52.770339Z"
    }
   },
   "source": [
    "## Define Deepchecks Dataset"
   ]
  },
  {
   "cell_type": "code",
   "execution_count": 5,
   "id": "d23a8654",
   "metadata": {
    "ExecuteTime": {
     "end_time": "2021-11-23T15:36:24.648170Z",
     "start_time": "2021-11-23T15:36:23.448631Z"
    }
   },
   "outputs": [],
   "source": [
    "from deepchecks import Dataset"
   ]
  },
  {
   "cell_type": "markdown",
   "id": "72185066",
   "metadata": {},
   "source": [
    "Initialize the Dataset object, stating the relevant metadata about the dataset (e.g. the name for the label column) <br>\n",
    "Check out the Dataset's attributes to see which additional special columns can be declared and used (e.g. date column, index column)."
   ]
  },
  {
   "cell_type": "code",
   "execution_count": 6,
   "id": "a9ef516c",
   "metadata": {
    "ExecuteTime": {
     "end_time": "2021-11-23T15:36:24.658156Z",
     "start_time": "2021-11-23T15:36:24.650530Z"
    }
   },
   "outputs": [],
   "source": [
    "# We explicitly state that this dataset has no categorical features, otherwise they will be automatically inferred\n",
    "\n",
    "ds_train = Dataset(df_train, label=label_col, cat_features=[])\n",
    "ds_test =  Dataset(df_test,  label=label_col, cat_features=[])"
   ]
  },
  {
   "cell_type": "markdown",
   "id": "37425f9d",
   "metadata": {},
   "source": [
    "## Run Overall Check Suite"
   ]
  },
  {
   "cell_type": "markdown",
   "id": "50b93b24",
   "metadata": {},
   "source": [
    "Use the OverallCheckSuite that has all checks"
   ]
  },
  {
   "cell_type": "code",
   "execution_count": 7,
   "id": "a986ea04",
   "metadata": {
    "ExecuteTime": {
     "end_time": "2021-11-23T15:36:25.252721Z",
     "start_time": "2021-11-23T15:36:24.661537Z"
    }
   },
   "outputs": [],
   "source": [
    "from deepchecks.suites import overall_check_suite"
   ]
  },
  {
   "cell_type": "code",
   "execution_count": 8,
   "id": "a416b18d",
   "metadata": {
    "ExecuteTime": {
     "end_time": "2021-11-23T15:36:25.259898Z",
     "start_time": "2021-11-23T15:36:25.255058Z"
    }
   },
   "outputs": [],
   "source": [
    "OverallSuite = overall_check_suite()"
   ]
  },
  {
   "cell_type": "code",
   "execution_count": 9,
   "id": "dc461702",
   "metadata": {
    "ExecuteTime": {
     "end_time": "2021-11-23T15:36:31.074802Z",
     "start_time": "2021-11-23T15:36:25.262617Z"
    }
   },
   "outputs": [
    {
     "data": {
      "text/html": [
       "\n",
       "    <h1>Overall Suite</h1>\n",
       "    <p>The suite is composed of various checks such as: Index Train Test Leakage, Date Train Test Leakage Duplicates, Date Train Test Leakage Overlap, etc...<br>\n",
       "    Each check may contain conditions (which results in \n",
       "    <span style=\"color: green;display:inline-block\">✓</span> /\n",
       "    <span style=\"color: red;display:inline-block\">✖</span> /\n",
       "    <span style=\"color: orange;font-weight:bold;display:inline-block\">!</span>\n",
       "    ), as well as other outputs such as plots or tables.<br>\n",
       "    Suites, checks and conditions can all be modified (see tutorial [link]).</p>\n",
       "    <hr style=\"background-color: black;border: 0 none;color: black;height: 1px;\"><h2>Conditions Summary</h2>\n",
       "    "
      ]
     },
     "metadata": {},
     "output_type": "display_data"
    },
    {
     "data": {
      "text/html": [
       "<style type=\"text/css\">\n",
       "#T_ddc86_ table {\n",
       "  text-align: left;\n",
       "}\n",
       "#T_ddc86_ thead {\n",
       "  text-align: left;\n",
       "}\n",
       "#T_ddc86_ tbody {\n",
       "  text-align: left;\n",
       "}\n",
       "#T_ddc86_ th {\n",
       "  text-align: left;\n",
       "}\n",
       "#T_ddc86_ td {\n",
       "  text-align: left;\n",
       "}\n",
       "</style>\n",
       "<table id=\"T_ddc86_\">\n",
       "  <thead>\n",
       "    <tr>\n",
       "      <th class=\"col_heading level0 col0\" >Status</th>\n",
       "      <th class=\"col_heading level0 col1\" >Check</th>\n",
       "      <th class=\"col_heading level0 col2\" >Condition</th>\n",
       "      <th class=\"col_heading level0 col3\" >More Info</th>\n",
       "    </tr>\n",
       "  </thead>\n",
       "  <tbody>\n",
       "    <tr>\n",
       "      <td id=\"T_ddc86_row0_col0\" class=\"data row0 col0\" ><div style=\"color: red;text-align: center\">✖</div></td>\n",
       "      <td id=\"T_ddc86_row0_col1\" class=\"data row0 col1\" >Single Feature Contribution - Train Dataset</td>\n",
       "      <td id=\"T_ddc86_row0_col2\" class=\"data row0 col2\" >Features PPS is not greater than 0.8</td>\n",
       "      <td id=\"T_ddc86_row0_col3\" class=\"data row0 col3\" >Features with greater PPS: petal width (cm), petal length (cm)</td>\n",
       "    </tr>\n",
       "    <tr>\n",
       "      <td id=\"T_ddc86_row1_col0\" class=\"data row1 col0\" ><div style=\"color: red;text-align: center\">✖</div></td>\n",
       "      <td id=\"T_ddc86_row1_col1\" class=\"data row1 col1\" >Single Feature Contribution - Test Dataset</td>\n",
       "      <td id=\"T_ddc86_row1_col2\" class=\"data row1 col2\" >Features PPS is not greater than 0.8</td>\n",
       "      <td id=\"T_ddc86_row1_col3\" class=\"data row1 col3\" >Features with greater PPS: petal length (cm), petal width (cm)</td>\n",
       "    </tr>\n",
       "    <tr>\n",
       "      <td id=\"T_ddc86_row2_col0\" class=\"data row2 col0\" ><div style=\"color: green;text-align: center\">✓</div></td>\n",
       "      <td id=\"T_ddc86_row2_col1\" class=\"data row2 col1\" >Data Sample Leakage Report</td>\n",
       "      <td id=\"T_ddc86_row2_col2\" class=\"data row2 col2\" >Percentage of test data samples that appear in train data not greater than 10.00%</td>\n",
       "      <td id=\"T_ddc86_row2_col3\" class=\"data row2 col3\" ></td>\n",
       "    </tr>\n",
       "    <tr>\n",
       "      <td id=\"T_ddc86_row3_col0\" class=\"data row3 col0\" ><div style=\"color: green;text-align: center\">✓</div></td>\n",
       "      <td id=\"T_ddc86_row3_col1\" class=\"data row3 col1\" >Category Mismatch Train Test</td>\n",
       "      <td id=\"T_ddc86_row3_col2\" class=\"data row3 col2\" >Number of new category values is not greater than 0 for all columns</td>\n",
       "      <td id=\"T_ddc86_row3_col3\" class=\"data row3 col3\" ></td>\n",
       "    </tr>\n",
       "    <tr>\n",
       "      <td id=\"T_ddc86_row4_col0\" class=\"data row4 col0\" ><div style=\"color: green;text-align: center\">✓</div></td>\n",
       "      <td id=\"T_ddc86_row4_col1\" class=\"data row4 col1\" >String Mismatch Comparison</td>\n",
       "      <td id=\"T_ddc86_row4_col2\" class=\"data row4 col2\" >No new variants allowed in test data for all columns</td>\n",
       "      <td id=\"T_ddc86_row4_col3\" class=\"data row4 col3\" ></td>\n",
       "    </tr>\n",
       "    <tr>\n",
       "      <td id=\"T_ddc86_row5_col0\" class=\"data row5 col0\" ><div style=\"color: green;text-align: center\">✓</div></td>\n",
       "      <td id=\"T_ddc86_row5_col1\" class=\"data row5 col1\" >Special Characters - Test Dataset</td>\n",
       "      <td id=\"T_ddc86_row5_col2\" class=\"data row5 col2\" >Ratio of entirely special character samples not greater than 0.10% for all columns</td>\n",
       "      <td id=\"T_ddc86_row5_col3\" class=\"data row5 col3\" ></td>\n",
       "    </tr>\n",
       "    <tr>\n",
       "      <td id=\"T_ddc86_row6_col0\" class=\"data row6 col0\" ><div style=\"color: green;text-align: center\">✓</div></td>\n",
       "      <td id=\"T_ddc86_row6_col1\" class=\"data row6 col1\" >Special Characters - Train Dataset</td>\n",
       "      <td id=\"T_ddc86_row6_col2\" class=\"data row6 col2\" >Ratio of entirely special character samples not greater than 0.10% for all columns</td>\n",
       "      <td id=\"T_ddc86_row6_col3\" class=\"data row6 col3\" ></td>\n",
       "    </tr>\n",
       "    <tr>\n",
       "      <td id=\"T_ddc86_row7_col0\" class=\"data row7 col0\" ><div style=\"color: green;text-align: center\">✓</div></td>\n",
       "      <td id=\"T_ddc86_row7_col1\" class=\"data row7 col1\" >String Length Out Of Bounds - Test Dataset</td>\n",
       "      <td id=\"T_ddc86_row7_col2\" class=\"data row7 col2\" >Ratio of outliers not greater than 0% string length outliers for all columns</td>\n",
       "      <td id=\"T_ddc86_row7_col3\" class=\"data row7 col3\" ></td>\n",
       "    </tr>\n",
       "    <tr>\n",
       "      <td id=\"T_ddc86_row8_col0\" class=\"data row8 col0\" ><div style=\"color: green;text-align: center\">✓</div></td>\n",
       "      <td id=\"T_ddc86_row8_col1\" class=\"data row8 col1\" >String Length Out Of Bounds - Train Dataset</td>\n",
       "      <td id=\"T_ddc86_row8_col2\" class=\"data row8 col2\" >Ratio of outliers not greater than 0% string length outliers for all columns</td>\n",
       "      <td id=\"T_ddc86_row8_col3\" class=\"data row8 col3\" ></td>\n",
       "    </tr>\n",
       "    <tr>\n",
       "      <td id=\"T_ddc86_row9_col0\" class=\"data row9 col0\" ><div style=\"color: green;text-align: center\">✓</div></td>\n",
       "      <td id=\"T_ddc86_row9_col1\" class=\"data row9 col1\" >Rare Format Detection - Test Dataset</td>\n",
       "      <td id=\"T_ddc86_row9_col2\" class=\"data row9 col2\" >Rare formats ratio is not greater than 0</td>\n",
       "      <td id=\"T_ddc86_row9_col3\" class=\"data row9 col3\" ></td>\n",
       "    </tr>\n",
       "    <tr>\n",
       "      <td id=\"T_ddc86_row10_col0\" class=\"data row10 col0\" ><div style=\"color: green;text-align: center\">✓</div></td>\n",
       "      <td id=\"T_ddc86_row10_col1\" class=\"data row10 col1\" >Rare Format Detection - Train Dataset</td>\n",
       "      <td id=\"T_ddc86_row10_col2\" class=\"data row10 col2\" >Rare formats ratio is not greater than 0</td>\n",
       "      <td id=\"T_ddc86_row10_col3\" class=\"data row10 col3\" ></td>\n",
       "    </tr>\n",
       "    <tr>\n",
       "      <td id=\"T_ddc86_row11_col0\" class=\"data row11 col0\" ><div style=\"color: green;text-align: center\">✓</div></td>\n",
       "      <td id=\"T_ddc86_row11_col1\" class=\"data row11 col1\" >Data Duplicates - Test Dataset</td>\n",
       "      <td id=\"T_ddc86_row11_col2\" class=\"data row11 col2\" >Duplicate data is not greater than 0%</td>\n",
       "      <td id=\"T_ddc86_row11_col3\" class=\"data row11 col3\" ></td>\n",
       "    </tr>\n",
       "    <tr>\n",
       "      <td id=\"T_ddc86_row12_col0\" class=\"data row12 col0\" ><div style=\"color: green;text-align: center\">✓</div></td>\n",
       "      <td id=\"T_ddc86_row12_col1\" class=\"data row12 col1\" >Data Duplicates - Train Dataset</td>\n",
       "      <td id=\"T_ddc86_row12_col2\" class=\"data row12 col2\" >Duplicate data is not greater than 0%</td>\n",
       "      <td id=\"T_ddc86_row12_col3\" class=\"data row12 col3\" ></td>\n",
       "    </tr>\n",
       "    <tr>\n",
       "      <td id=\"T_ddc86_row13_col0\" class=\"data row13 col0\" ><div style=\"color: green;text-align: center\">✓</div></td>\n",
       "      <td id=\"T_ddc86_row13_col1\" class=\"data row13 col1\" >String Mismatch - Test Dataset</td>\n",
       "      <td id=\"T_ddc86_row13_col2\" class=\"data row13 col2\" >No string variants for all columns</td>\n",
       "      <td id=\"T_ddc86_row13_col3\" class=\"data row13 col3\" ></td>\n",
       "    </tr>\n",
       "    <tr>\n",
       "      <td id=\"T_ddc86_row14_col0\" class=\"data row14 col0\" ><div style=\"color: green;text-align: center\">✓</div></td>\n",
       "      <td id=\"T_ddc86_row14_col1\" class=\"data row14 col1\" >String Mismatch - Train Dataset</td>\n",
       "      <td id=\"T_ddc86_row14_col2\" class=\"data row14 col2\" >No string variants for all columns</td>\n",
       "      <td id=\"T_ddc86_row14_col3\" class=\"data row14 col3\" ></td>\n",
       "    </tr>\n",
       "    <tr>\n",
       "      <td id=\"T_ddc86_row15_col0\" class=\"data row15 col0\" ><div style=\"color: green;text-align: center\">✓</div></td>\n",
       "      <td id=\"T_ddc86_row15_col1\" class=\"data row15 col1\" >Mixed Types - Test Dataset</td>\n",
       "      <td id=\"T_ddc86_row15_col2\" class=\"data row15 col2\" >Rare type ratio is not less than 1.00% of samples in all columns</td>\n",
       "      <td id=\"T_ddc86_row15_col3\" class=\"data row15 col3\" ></td>\n",
       "    </tr>\n",
       "    <tr>\n",
       "      <td id=\"T_ddc86_row16_col0\" class=\"data row16 col0\" ><div style=\"color: green;text-align: center\">✓</div></td>\n",
       "      <td id=\"T_ddc86_row16_col1\" class=\"data row16 col1\" >Mixed Types - Train Dataset</td>\n",
       "      <td id=\"T_ddc86_row16_col2\" class=\"data row16 col2\" >Rare type ratio is not less than 1.00% of samples in all columns</td>\n",
       "      <td id=\"T_ddc86_row16_col3\" class=\"data row16 col3\" ></td>\n",
       "    </tr>\n",
       "    <tr>\n",
       "      <td id=\"T_ddc86_row17_col0\" class=\"data row17 col0\" ><div style=\"color: green;text-align: center\">✓</div></td>\n",
       "      <td id=\"T_ddc86_row17_col1\" class=\"data row17 col1\" >Mixed Nulls - Test Dataset</td>\n",
       "      <td id=\"T_ddc86_row17_col2\" class=\"data row17 col2\" >Not more than 1 different null types for all columns</td>\n",
       "      <td id=\"T_ddc86_row17_col3\" class=\"data row17 col3\" ></td>\n",
       "    </tr>\n",
       "    <tr>\n",
       "      <td id=\"T_ddc86_row18_col0\" class=\"data row18 col0\" ><div style=\"color: green;text-align: center\">✓</div></td>\n",
       "      <td id=\"T_ddc86_row18_col1\" class=\"data row18 col1\" >Mixed Nulls - Train Dataset</td>\n",
       "      <td id=\"T_ddc86_row18_col2\" class=\"data row18 col2\" >Not more than 1 different null types for all columns</td>\n",
       "      <td id=\"T_ddc86_row18_col3\" class=\"data row18 col3\" ></td>\n",
       "    </tr>\n",
       "    <tr>\n",
       "      <td id=\"T_ddc86_row19_col0\" class=\"data row19 col0\" ><div style=\"color: green;text-align: center\">✓</div></td>\n",
       "      <td id=\"T_ddc86_row19_col1\" class=\"data row19 col1\" >Single Value in Column - Test Dataset</td>\n",
       "      <td id=\"T_ddc86_row19_col2\" class=\"data row19 col2\" >Does not contain only a single value for all columns</td>\n",
       "      <td id=\"T_ddc86_row19_col3\" class=\"data row19 col3\" ></td>\n",
       "    </tr>\n",
       "    <tr>\n",
       "      <td id=\"T_ddc86_row20_col0\" class=\"data row20 col0\" ><div style=\"color: green;text-align: center\">✓</div></td>\n",
       "      <td id=\"T_ddc86_row20_col1\" class=\"data row20 col1\" >Single Value in Column - Train Dataset</td>\n",
       "      <td id=\"T_ddc86_row20_col2\" class=\"data row20 col2\" >Does not contain only a single value for all columns</td>\n",
       "      <td id=\"T_ddc86_row20_col3\" class=\"data row20 col3\" ></td>\n",
       "    </tr>\n",
       "    <tr>\n",
       "      <td id=\"T_ddc86_row21_col0\" class=\"data row21 col0\" ><div style=\"color: green;text-align: center\">✓</div></td>\n",
       "      <td id=\"T_ddc86_row21_col1\" class=\"data row21 col1\" >ROC Report - Test Dataset</td>\n",
       "      <td id=\"T_ddc86_row21_col2\" class=\"data row21 col2\" >Not less than 0.7 AUC score for all the classes</td>\n",
       "      <td id=\"T_ddc86_row21_col3\" class=\"data row21 col3\" ></td>\n",
       "    </tr>\n",
       "    <tr>\n",
       "      <td id=\"T_ddc86_row22_col0\" class=\"data row22 col0\" ><div style=\"color: green;text-align: center\">✓</div></td>\n",
       "      <td id=\"T_ddc86_row22_col1\" class=\"data row22 col1\" >ROC Report - Train Dataset</td>\n",
       "      <td id=\"T_ddc86_row22_col2\" class=\"data row22 col2\" >Not less than 0.7 AUC score for all the classes</td>\n",
       "      <td id=\"T_ddc86_row22_col3\" class=\"data row22 col3\" ></td>\n",
       "    </tr>\n",
       "    <tr>\n",
       "      <td id=\"T_ddc86_row23_col0\" class=\"data row23 col0\" ><div style=\"color: green;text-align: center\">✓</div></td>\n",
       "      <td id=\"T_ddc86_row23_col1\" class=\"data row23 col1\" >Naive Model Comparison</td>\n",
       "      <td id=\"T_ddc86_row23_col2\" class=\"data row23 col2\" >Ratio not less than 1.1 between the given model's result and the naive model's result</td>\n",
       "      <td id=\"T_ddc86_row23_col3\" class=\"data row23 col3\" ></td>\n",
       "    </tr>\n",
       "    <tr>\n",
       "      <td id=\"T_ddc86_row24_col0\" class=\"data row24 col0\" ><div style=\"color: green;text-align: center\">✓</div></td>\n",
       "      <td id=\"T_ddc86_row24_col1\" class=\"data row24 col1\" >Unused Features</td>\n",
       "      <td id=\"T_ddc86_row24_col2\" class=\"data row24 col2\" >Number of high variance unused features is not greater than 5</td>\n",
       "      <td id=\"T_ddc86_row24_col3\" class=\"data row24 col3\" ></td>\n",
       "    </tr>\n",
       "    <tr>\n",
       "      <td id=\"T_ddc86_row25_col0\" class=\"data row25 col0\" ><div style=\"color: green;text-align: center\">✓</div></td>\n",
       "      <td id=\"T_ddc86_row25_col1\" class=\"data row25 col1\" >Train-Test Difference Overfit</td>\n",
       "      <td id=\"T_ddc86_row25_col2\" class=\"data row25 col2\" >Train-Test metrics degradation percentage is not greater than 0.2</td>\n",
       "      <td id=\"T_ddc86_row25_col3\" class=\"data row25 col3\" ></td>\n",
       "    </tr>\n",
       "    <tr>\n",
       "      <td id=\"T_ddc86_row26_col0\" class=\"data row26 col0\" ><div style=\"color: green;text-align: center\">✓</div></td>\n",
       "      <td id=\"T_ddc86_row26_col1\" class=\"data row26 col1\" >Single Feature Contribution Train-Test</td>\n",
       "      <td id=\"T_ddc86_row26_col2\" class=\"data row26 col2\" >Train-Test features PPS difference is not greater than 0.2</td>\n",
       "      <td id=\"T_ddc86_row26_col3\" class=\"data row26 col3\" ></td>\n",
       "    </tr>\n",
       "    <tr>\n",
       "      <td id=\"T_ddc86_row27_col0\" class=\"data row27 col0\" ><div style=\"color: green;text-align: center\">✓</div></td>\n",
       "      <td id=\"T_ddc86_row27_col1\" class=\"data row27 col1\" >Dominant Frequency Change</td>\n",
       "      <td id=\"T_ddc86_row27_col2\" class=\"data row27 col2\" >Change in ratio of dominant value in data not more than 25.00%</td>\n",
       "      <td id=\"T_ddc86_row27_col3\" class=\"data row27 col3\" ></td>\n",
       "    </tr>\n",
       "    <tr>\n",
       "      <td id=\"T_ddc86_row28_col0\" class=\"data row28 col0\" ><div style=\"color: green;text-align: center\">✓</div></td>\n",
       "      <td id=\"T_ddc86_row28_col1\" class=\"data row28 col1\" >New Label Train Test</td>\n",
       "      <td id=\"T_ddc86_row28_col2\" class=\"data row28 col2\" >Number of new label values is not greater than 0</td>\n",
       "      <td id=\"T_ddc86_row28_col3\" class=\"data row28 col3\" ></td>\n",
       "    </tr>\n",
       "  </tbody>\n",
       "</table>\n"
      ]
     },
     "metadata": {},
     "output_type": "display_data"
    },
    {
     "data": {
      "text/html": [
       "<hr style=\"background-color: black;border: 0 none;color: black;height: 1px;\"><h2>Additional Outputs</h2>"
      ]
     },
     "metadata": {},
     "output_type": "display_data"
    },
    {
     "data": {
      "text/html": [
       "<h4>Data Sample Leakage Report</h4>"
      ]
     },
     "metadata": {},
     "output_type": "display_data"
    },
    {
     "data": {
      "text/html": [
       "<p>Detect samples in the test data that appear also in training data.</p>"
      ]
     },
     "metadata": {},
     "output_type": "display_data"
    },
    {
     "data": {
      "text/html": [
       "2.63% (1.0 / 38)                      of test data samples appear in train data"
      ]
     },
     "metadata": {},
     "output_type": "display_data"
    },
    {
     "data": {
      "text/html": [
       "<style type=\"text/css\">\n",
       "#T_ab8b1_ table {\n",
       "  text-align: left;\n",
       "}\n",
       "#T_ab8b1_ thead {\n",
       "  text-align: left;\n",
       "}\n",
       "#T_ab8b1_ tbody {\n",
       "  text-align: left;\n",
       "}\n",
       "#T_ab8b1_ th {\n",
       "  text-align: left;\n",
       "}\n",
       "#T_ab8b1_ td {\n",
       "  text-align: left;\n",
       "}\n",
       "</style>\n",
       "<table id=\"T_ab8b1_\">\n",
       "  <thead>\n",
       "    <tr>\n",
       "      <th class=\"blank level0\" >&nbsp;</th>\n",
       "      <th class=\"col_heading level0 col0\" >sepal length (cm)</th>\n",
       "      <th class=\"col_heading level0 col1\" >sepal width (cm)</th>\n",
       "      <th class=\"col_heading level0 col2\" >petal length (cm)</th>\n",
       "      <th class=\"col_heading level0 col3\" >petal width (cm)</th>\n",
       "      <th class=\"col_heading level0 col4\" >target</th>\n",
       "    </tr>\n",
       "  </thead>\n",
       "  <tbody>\n",
       "    <tr>\n",
       "      <th id=\"T_ab8b1_level0_row0\" class=\"row_heading level0 row0\" >Test indices: 142</th>\n",
       "      <td id=\"T_ab8b1_row0_col0\" class=\"data row0 col0\" >5.80</td>\n",
       "      <td id=\"T_ab8b1_row0_col1\" class=\"data row0 col1\" >2.70</td>\n",
       "      <td id=\"T_ab8b1_row0_col2\" class=\"data row0 col2\" >5.10</td>\n",
       "      <td id=\"T_ab8b1_row0_col3\" class=\"data row0 col3\" >1.90</td>\n",
       "      <td id=\"T_ab8b1_row0_col4\" class=\"data row0 col4\" >2</td>\n",
       "    </tr>\n",
       "    <tr>\n",
       "      <th id=\"T_ab8b1_level0_row1\" class=\"row_heading level0 row1\" >Train indices: 101</th>\n",
       "      <td id=\"T_ab8b1_row1_col0\" class=\"data row1 col0\" >5.80</td>\n",
       "      <td id=\"T_ab8b1_row1_col1\" class=\"data row1 col1\" >2.70</td>\n",
       "      <td id=\"T_ab8b1_row1_col2\" class=\"data row1 col2\" >5.10</td>\n",
       "      <td id=\"T_ab8b1_row1_col3\" class=\"data row1 col3\" >1.90</td>\n",
       "      <td id=\"T_ab8b1_row1_col4\" class=\"data row1 col4\" >2</td>\n",
       "    </tr>\n",
       "  </tbody>\n",
       "</table>\n"
      ]
     },
     "metadata": {},
     "output_type": "display_data"
    },
    {
     "data": {
      "text/html": [
       "<hr style=\"background-color: #eee;border: 0 none;color: #eee;height: 1px;\">"
      ]
     },
     "metadata": {},
     "output_type": "display_data"
    },
    {
     "data": {
      "text/html": [
       "<h4>Single Feature Contribution - Train Dataset</h4>"
      ]
     },
     "metadata": {},
     "output_type": "display_data"
    },
    {
     "data": {
      "text/html": [
       "<p>Return the PPS (Predictive Power Score) of all features in relation to the label.</p>"
      ]
     },
     "metadata": {},
     "output_type": "display_data"
    },
    {
     "data": {
      "image/png": "[encoded data removed]",
      "text/plain": [
       "<Figure size 1080x288 with 2 Axes>"
      ]
     },
     "metadata": {
      "needs_background": "light"
     },
     "output_type": "display_data"
    },
    {
     "data": {
      "text/html": [
       "The PPS represents the ability of a feature to single-handedly predict another feature or label."
      ]
     },
     "metadata": {},
     "output_type": "display_data"
    },
    {
     "data": {
      "text/html": [
       "A high PPS (close to 1) can mean that this feature's success in predicting the label is actually due to data"
      ]
     },
     "metadata": {},
     "output_type": "display_data"
    },
    {
     "data": {
      "text/html": [
       "leakage - meaning that the feature holds information that is based on the label to begin with."
      ]
     },
     "metadata": {},
     "output_type": "display_data"
    },
    {
     "data": {
      "text/html": [
       "<hr style=\"background-color: #eee;border: 0 none;color: #eee;height: 1px;\">"
      ]
     },
     "metadata": {},
     "output_type": "display_data"
    },
    {
     "data": {
      "text/html": [
       "<h4>Single Feature Contribution - Test Dataset</h4>"
      ]
     },
     "metadata": {},
     "output_type": "display_data"
    },
    {
     "data": {
      "text/html": [
       "<p>Return the PPS (Predictive Power Score) of all features in relation to the label.</p>"
      ]
     },
     "metadata": {},
     "output_type": "display_data"
    },
    {
     "data": {
      "image/png": "[encoded data removed]",
      "text/plain": [
       "<Figure size 1080x288 with 2 Axes>"
      ]
     },
     "metadata": {
      "needs_background": "light"
     },
     "output_type": "display_data"
    },
    {
     "data": {
      "text/html": [
       "The PPS represents the ability of a feature to single-handedly predict another feature or label."
      ]
     },
     "metadata": {},
     "output_type": "display_data"
    },
    {
     "data": {
      "text/html": [
       "A high PPS (close to 1) can mean that this feature's success in predicting the label is actually due to data"
      ]
     },
     "metadata": {},
     "output_type": "display_data"
    },
    {
     "data": {
      "text/html": [
       "leakage - meaning that the feature holds information that is based on the label to begin with."
      ]
     },
     "metadata": {},
     "output_type": "display_data"
    },
    {
     "data": {
      "text/html": [
       "<hr style=\"background-color: #eee;border: 0 none;color: #eee;height: 1px;\">"
      ]
     },
     "metadata": {},
     "output_type": "display_data"
    },
    {
     "data": {
      "text/html": [
       "<h4>Single Feature Contribution Train-Test</h4>"
      ]
     },
     "metadata": {},
     "output_type": "display_data"
    },
    {
     "data": {
      "text/html": [
       "<p>    Return the difference in PPS (Predictive Power Score) of all features between train and test datasets.</p>"
      ]
     },
     "metadata": {},
     "output_type": "display_data"
    },
    {
     "data": {
      "image/png": "[encoded data removed]",
      "text/plain": [
       "<Figure size 1080x288 with 2 Axes>"
      ]
     },
     "metadata": {
      "needs_background": "light"
     },
     "output_type": "display_data"
    },
    {
     "data": {
      "text/html": [
       "The PPS represents the ability of a feature to single-handedly predict another feature or label."
      ]
     },
     "metadata": {},
     "output_type": "display_data"
    },
    {
     "data": {
      "text/html": [
       "A high PPS (close to 1) can mean that this feature's success in predicting the label is actually due to data"
      ]
     },
     "metadata": {},
     "output_type": "display_data"
    },
    {
     "data": {
      "text/html": [
       "leakage - meaning that the feature holds information that is based on the label to begin with."
      ]
     },
     "metadata": {},
     "output_type": "display_data"
    },
    {
     "data": {
      "text/html": []
     },
     "metadata": {},
     "output_type": "display_data"
    },
    {
     "data": {
      "text/html": [
       "When we compare train PPS to test PPS, A high difference can strongly indicate leakage, as a feature"
      ]
     },
     "metadata": {},
     "output_type": "display_data"
    },
    {
     "data": {
      "text/html": [
       "that was powerful in train but not in test can be explained by leakage in train that is not relevant to a new dataset."
      ]
     },
     "metadata": {},
     "output_type": "display_data"
    },
    {
     "data": {
      "text/html": [
       "<hr style=\"background-color: #eee;border: 0 none;color: #eee;height: 1px;\">"
      ]
     },
     "metadata": {},
     "output_type": "display_data"
    },
    {
     "data": {
      "text/html": [
       "<h4>Train-Test Difference Overfit</h4>"
      ]
     },
     "metadata": {},
     "output_type": "display_data"
    },
    {
     "data": {
      "text/html": [
       "<p>Visualize overfit by displaying the difference between model metrics on train and on test data.</p>"
      ]
     },
     "metadata": {},
     "output_type": "display_data"
    },
    {
     "data": {
      "image/png": "[encoded data removed]",
      "text/plain": [
       "<Figure size 432x288 with 1 Axes>"
      ]
     },
     "metadata": {
      "needs_background": "light"
     },
     "output_type": "display_data"
    },
    {
     "data": {
      "text/html": [
       "<hr style=\"background-color: #eee;border: 0 none;color: #eee;height: 1px;\">"
      ]
     },
     "metadata": {},
     "output_type": "display_data"
    },
    {
     "data": {
      "text/html": [
       "<h4>Unused Features</h4>"
      ]
     },
     "metadata": {},
     "output_type": "display_data"
    },
    {
     "data": {
      "text/html": [
       "<p>Detect features that are nearly unused by the model.</p>"
      ]
     },
     "metadata": {},
     "output_type": "display_data"
    },
    {
     "data": {
      "text/html": [
       "Features above the line are a sample of the most important features, while the features below the line are the unused features with highest variance, as defined by check parameters"
      ]
     },
     "metadata": {},
     "output_type": "display_data"
    },
    {
     "data": {
      "image/png": "[encoded data removed]",
      "text/plain": [
       "<Figure size 576x216 with 1 Axes>"
      ]
     },
     "metadata": {
      "needs_background": "light"
     },
     "output_type": "display_data"
    },
    {
     "data": {
      "text/html": [
       "<hr style=\"background-color: #eee;border: 0 none;color: #eee;height: 1px;\">"
      ]
     },
     "metadata": {},
     "output_type": "display_data"
    },
    {
     "data": {
      "text/html": [
       "<h4>Performance Report - Train Dataset</h4>"
      ]
     },
     "metadata": {},
     "output_type": "display_data"
    },
    {
     "data": {
      "text/html": [
       "<p>Summarize given metrics on a dataset and model.</p>"
      ]
     },
     "metadata": {},
     "output_type": "display_data"
    },
    {
     "data": {
      "text/html": [
       "<style type=\"text/css\">\n",
       "#T_b2473_ table {\n",
       "  text-align: left;\n",
       "}\n",
       "#T_b2473_ thead {\n",
       "  text-align: left;\n",
       "}\n",
       "#T_b2473_ tbody {\n",
       "  text-align: left;\n",
       "}\n",
       "#T_b2473_ th {\n",
       "  text-align: left;\n",
       "}\n",
       "#T_b2473_ td {\n",
       "  text-align: left;\n",
       "}\n",
       "</style>\n",
       "<table id=\"T_b2473_\">\n",
       "  <thead>\n",
       "    <tr>\n",
       "      <th class=\"blank level0\" >&nbsp;</th>\n",
       "      <th class=\"col_heading level0 col0\" >Score</th>\n",
       "    </tr>\n",
       "    <tr>\n",
       "      <th class=\"index_name level0\" >Metric</th>\n",
       "      <th class=\"blank col0\" >&nbsp;</th>\n",
       "    </tr>\n",
       "  </thead>\n",
       "  <tbody>\n",
       "    <tr>\n",
       "      <th id=\"T_b2473_level0_row0\" class=\"row_heading level0 row0\" >Accuracy</th>\n",
       "      <td id=\"T_b2473_row0_col0\" class=\"data row0 col0\" >1.00</td>\n",
       "    </tr>\n",
       "    <tr>\n",
       "      <th id=\"T_b2473_level0_row1\" class=\"row_heading level0 row1\" >Precision - Macro Average</th>\n",
       "      <td id=\"T_b2473_row1_col0\" class=\"data row1 col0\" >1.00</td>\n",
       "    </tr>\n",
       "    <tr>\n",
       "      <th id=\"T_b2473_level0_row2\" class=\"row_heading level0 row2\" >Recall - Macro Average</th>\n",
       "      <td id=\"T_b2473_row2_col0\" class=\"data row2 col0\" >1.00</td>\n",
       "    </tr>\n",
       "  </tbody>\n",
       "</table>\n"
      ]
     },
     "metadata": {},
     "output_type": "display_data"
    },
    {
     "data": {
      "text/html": [
       "<hr style=\"background-color: #eee;border: 0 none;color: #eee;height: 1px;\">"
      ]
     },
     "metadata": {},
     "output_type": "display_data"
    },
    {
     "data": {
      "text/html": [
       "<h4>Performance Report - Test Dataset</h4>"
      ]
     },
     "metadata": {},
     "output_type": "display_data"
    },
    {
     "data": {
      "text/html": [
       "<p>Summarize given metrics on a dataset and model.</p>"
      ]
     },
     "metadata": {},
     "output_type": "display_data"
    },
    {
     "data": {
      "text/html": [
       "<style type=\"text/css\">\n",
       "#T_98833_ table {\n",
       "  text-align: left;\n",
       "}\n",
       "#T_98833_ thead {\n",
       "  text-align: left;\n",
       "}\n",
       "#T_98833_ tbody {\n",
       "  text-align: left;\n",
       "}\n",
       "#T_98833_ th {\n",
       "  text-align: left;\n",
       "}\n",
       "#T_98833_ td {\n",
       "  text-align: left;\n",
       "}\n",
       "</style>\n",
       "<table id=\"T_98833_\">\n",
       "  <thead>\n",
       "    <tr>\n",
       "      <th class=\"blank level0\" >&nbsp;</th>\n",
       "      <th class=\"col_heading level0 col0\" >Score</th>\n",
       "    </tr>\n",
       "    <tr>\n",
       "      <th class=\"index_name level0\" >Metric</th>\n",
       "      <th class=\"blank col0\" >&nbsp;</th>\n",
       "    </tr>\n",
       "  </thead>\n",
       "  <tbody>\n",
       "    <tr>\n",
       "      <th id=\"T_98833_level0_row0\" class=\"row_heading level0 row0\" >Accuracy</th>\n",
       "      <td id=\"T_98833_row0_col0\" class=\"data row0 col0\" >1.00</td>\n",
       "    </tr>\n",
       "    <tr>\n",
       "      <th id=\"T_98833_level0_row1\" class=\"row_heading level0 row1\" >Precision - Macro Average</th>\n",
       "      <td id=\"T_98833_row1_col0\" class=\"data row1 col0\" >1.00</td>\n",
       "    </tr>\n",
       "    <tr>\n",
       "      <th id=\"T_98833_level0_row2\" class=\"row_heading level0 row2\" >Recall - Macro Average</th>\n",
       "      <td id=\"T_98833_row2_col0\" class=\"data row2 col0\" >1.00</td>\n",
       "    </tr>\n",
       "  </tbody>\n",
       "</table>\n"
      ]
     },
     "metadata": {},
     "output_type": "display_data"
    },
    {
     "data": {
      "text/html": [
       "<hr style=\"background-color: #eee;border: 0 none;color: #eee;height: 1px;\">"
      ]
     },
     "metadata": {},
     "output_type": "display_data"
    },
    {
     "data": {
      "text/html": [
       "<h4>Naive Model Comparison</h4>"
      ]
     },
     "metadata": {},
     "output_type": "display_data"
    },
    {
     "data": {
      "text/html": [
       "<p>Compare naive model score to given model score.</p>"
      ]
     },
     "metadata": {},
     "output_type": "display_data"
    },
    {
     "data": {
      "text/html": [
       "The given model performs 2.92 times compared to the naive model using the Accuracy metric.<br>RandomForestClassifier model prediction has achieved a score of 1 compared to Naive statistical prediction which achieved a score of 0.34 on tested data."
      ]
     },
     "metadata": {},
     "output_type": "display_data"
    },
    {
     "data": {
      "image/png": "[encoded data removed]",
      "text/plain": [
       "<Figure size 432x288 with 1 Axes>"
      ]
     },
     "metadata": {
      "needs_background": "light"
     },
     "output_type": "display_data"
    },
    {
     "data": {
      "text/html": [
       "<hr style=\"background-color: #eee;border: 0 none;color: #eee;height: 1px;\">"
      ]
     },
     "metadata": {},
     "output_type": "display_data"
    },
    {
     "data": {
      "text/html": [
       "<h4>Confusion Matrix Report - Train Dataset</h4>"
      ]
     },
     "metadata": {},
     "output_type": "display_data"
    },
    {
     "data": {
      "text/html": [
       "<p>Calculate the confusion matrix of the model on the given dataset.</p>"
      ]
     },
     "metadata": {},
     "output_type": "display_data"
    },
    {
     "data": {
      "image/png": "[encoded data removed]",
      "text/plain": [
       "<Figure size 432x288 with 2 Axes>"
      ]
     },
     "metadata": {
      "needs_background": "light"
     },
     "output_type": "display_data"
    },
    {
     "data": {
      "text/html": [
       "<hr style=\"background-color: #eee;border: 0 none;color: #eee;height: 1px;\">"
      ]
     },
     "metadata": {},
     "output_type": "display_data"
    },
    {
     "data": {
      "text/html": [
       "<h4>Confusion Matrix Report - Test Dataset</h4>"
      ]
     },
     "metadata": {},
     "output_type": "display_data"
    },
    {
     "data": {
      "text/html": [
       "<p>Calculate the confusion matrix of the model on the given dataset.</p>"
      ]
     },
     "metadata": {},
     "output_type": "display_data"
    },
    {
     "data": {
      "image/png": "[encoded data removed]",
      "text/plain": [
       "<Figure size 432x288 with 2 Axes>"
      ]
     },
     "metadata": {
      "needs_background": "light"
     },
     "output_type": "display_data"
    },
    {
     "data": {
      "text/html": [
       "<hr style=\"background-color: #eee;border: 0 none;color: #eee;height: 1px;\">"
      ]
     },
     "metadata": {},
     "output_type": "display_data"
    },
    {
     "data": {
      "text/html": [
       "<h4>ROC Report - Train Dataset</h4>"
      ]
     },
     "metadata": {},
     "output_type": "display_data"
    },
    {
     "data": {
      "text/html": [
       "<p>Calculate the AUC (Area Under Curve) for each class.</p>"
      ]
     },
     "metadata": {},
     "output_type": "display_data"
    },
    {
     "data": {
      "image/png": "[encoded data removed]",
      "text/plain": [
       "<Figure size 432x288 with 1 Axes>"
      ]
     },
     "metadata": {
      "needs_background": "light"
     },
     "output_type": "display_data"
    },
    {
     "data": {
      "text/html": [
       "<hr style=\"background-color: #eee;border: 0 none;color: #eee;height: 1px;\">"
      ]
     },
     "metadata": {},
     "output_type": "display_data"
    },
    {
     "data": {
      "text/html": [
       "<h4>ROC Report - Test Dataset</h4>"
      ]
     },
     "metadata": {},
     "output_type": "display_data"
    },
    {
     "data": {
      "text/html": [
       "<p>Calculate the AUC (Area Under Curve) for each class.</p>"
      ]
     },
     "metadata": {},
     "output_type": "display_data"
    },
    {
     "data": {
      "image/png": "[encoded data removed]",
      "text/plain": [
       "<Figure size 432x288 with 1 Axes>"
      ]
     },
     "metadata": {
      "needs_background": "light"
     },
     "output_type": "display_data"
    },
    {
     "data": {
      "text/html": [
       "<hr style=\"background-color: #eee;border: 0 none;color: #eee;height: 1px;\">"
      ]
     },
     "metadata": {},
     "output_type": "display_data"
    },
    {
     "data": {
      "text/html": [
       "<h4>Calibration Metric - Train Dataset</h4>"
      ]
     },
     "metadata": {},
     "output_type": "display_data"
    },
    {
     "data": {
      "text/html": [
       "<p>Calculate the calibration curve with brier score for each class.</p>"
      ]
     },
     "metadata": {},
     "output_type": "display_data"
    },
    {
     "data": {
      "text/html": [
       "Calibration curves (also known as reliability diagrams) compare how well the probabilistic predictions of a binary classifier are calibrated. It plots the true frequency of the positive label against its predicted probability, for binned predictions."
      ]
     },
     "metadata": {},
     "output_type": "display_data"
    },
    {
     "data": {
      "image/png": "[encoded data removed]",
      "text/plain": [
       "<Figure size 432x432 with 1 Axes>"
      ]
     },
     "metadata": {
      "needs_background": "light"
     },
     "output_type": "display_data"
    },
    {
     "data": {
      "text/html": [
       "The Brier score metric may be used to assess how well a classifier is calibrated. For more info, please visit https://en.wikipedia.org/wiki/Brier_score"
      ]
     },
     "metadata": {},
     "output_type": "display_data"
    },
    {
     "data": {
      "text/html": [
       "<hr style=\"background-color: #eee;border: 0 none;color: #eee;height: 1px;\">"
      ]
     },
     "metadata": {},
     "output_type": "display_data"
    },
    {
     "data": {
      "text/html": [
       "<h4>Calibration Metric - Test Dataset</h4>"
      ]
     },
     "metadata": {},
     "output_type": "display_data"
    },
    {
     "data": {
      "text/html": [
       "<p>Calculate the calibration curve with brier score for each class.</p>"
      ]
     },
     "metadata": {},
     "output_type": "display_data"
    },
    {
     "data": {
      "text/html": [
       "Calibration curves (also known as reliability diagrams) compare how well the probabilistic predictions of a binary classifier are calibrated. It plots the true frequency of the positive label against its predicted probability, for binned predictions."
      ]
     },
     "metadata": {},
     "output_type": "display_data"
    },
    {
     "data": {
      "image/png": "[encoded data removed]",
      "text/plain": [
       "<Figure size 432x432 with 1 Axes>"
      ]
     },
     "metadata": {
      "needs_background": "light"
     },
     "output_type": "display_data"
    },
    {
     "data": {
      "text/html": [
       "The Brier score metric may be used to assess how well a classifier is calibrated. For more info, please visit https://en.wikipedia.org/wiki/Brier_score"
      ]
     },
     "metadata": {},
     "output_type": "display_data"
    },
    {
     "data": {
      "text/html": [
       "<hr style=\"background-color: black;border: 0 none;color: black;height: 1px;\">\n",
       "        <h2>Other Checks That Weren't Displayed</h2>\n",
       "        <style type=\"text/css\">\n",
       "#T_84d76_ table {\n",
       "  text-align: left;\n",
       "}\n",
       "#T_84d76_ thead {\n",
       "  text-align: left;\n",
       "}\n",
       "#T_84d76_ tbody {\n",
       "  text-align: left;\n",
       "}\n",
       "#T_84d76_ th {\n",
       "  text-align: left;\n",
       "}\n",
       "#T_84d76_ td {\n",
       "  text-align: left;\n",
       "}\n",
       "</style>\n",
       "<table id=\"T_84d76_\">\n",
       "  <thead>\n",
       "    <tr>\n",
       "      <th class=\"col_heading level0 col0\" >Check</th>\n",
       "      <th class=\"col_heading level0 col1\" >Reason</th>\n",
       "    </tr>\n",
       "  </thead>\n",
       "  <tbody>\n",
       "    <tr>\n",
       "      <td id=\"T_84d76_row0_col0\" class=\"data row0 col0\" >Index Train Test Leakage</td>\n",
       "      <td id=\"T_84d76_row0_col1\" class=\"data row0 col1\" >DeepchecksValueError: Check IndexTrainTestLeakage requires dataset to have an index column</td>\n",
       "    </tr>\n",
       "    <tr>\n",
       "      <td id=\"T_84d76_row1_col0\" class=\"data row1 col0\" >Date Train Test Leakage Duplicates</td>\n",
       "      <td id=\"T_84d76_row1_col1\" class=\"data row1 col1\" >DeepchecksValueError: Check DateTrainTestLeakageDuplicates requires dataset to have a date column</td>\n",
       "    </tr>\n",
       "    <tr>\n",
       "      <td id=\"T_84d76_row2_col0\" class=\"data row2 col0\" >Date Train Test Leakage Overlap</td>\n",
       "      <td id=\"T_84d76_row2_col1\" class=\"data row2 col1\" >DeepchecksValueError: Check DateTrainTestLeakageOverlap requires dataset to have a date column</td>\n",
       "    </tr>\n",
       "    <tr>\n",
       "      <td id=\"T_84d76_row3_col0\" class=\"data row3 col0\" >Boosting Overfit</td>\n",
       "      <td id=\"T_84d76_row3_col1\" class=\"data row3 col1\" >DeepchecksValueError: Unsupported model of type: RandomForestClassifier</td>\n",
       "    </tr>\n",
       "    <tr>\n",
       "      <td id=\"T_84d76_row4_col0\" class=\"data row4 col0\" >Category Mismatch Train Test</td>\n",
       "      <td id=\"T_84d76_row4_col1\" class=\"data row4 col1\" >Nothing found</td>\n",
       "    </tr>\n",
       "    <tr>\n",
       "      <td id=\"T_84d76_row5_col0\" class=\"data row5 col0\" >String Mismatch Comparison</td>\n",
       "      <td id=\"T_84d76_row5_col1\" class=\"data row5 col1\" >Nothing found</td>\n",
       "    </tr>\n",
       "    <tr>\n",
       "      <td id=\"T_84d76_row6_col0\" class=\"data row6 col0\" >Special Characters - Test Dataset</td>\n",
       "      <td id=\"T_84d76_row6_col1\" class=\"data row6 col1\" >Nothing found</td>\n",
       "    </tr>\n",
       "    <tr>\n",
       "      <td id=\"T_84d76_row7_col0\" class=\"data row7 col0\" >Special Characters - Train Dataset</td>\n",
       "      <td id=\"T_84d76_row7_col1\" class=\"data row7 col1\" >Nothing found</td>\n",
       "    </tr>\n",
       "    <tr>\n",
       "      <td id=\"T_84d76_row8_col0\" class=\"data row8 col0\" >String Length Out Of Bounds - Test Dataset</td>\n",
       "      <td id=\"T_84d76_row8_col1\" class=\"data row8 col1\" >Nothing found</td>\n",
       "    </tr>\n",
       "    <tr>\n",
       "      <td id=\"T_84d76_row9_col0\" class=\"data row9 col0\" >String Length Out Of Bounds - Train Dataset</td>\n",
       "      <td id=\"T_84d76_row9_col1\" class=\"data row9 col1\" >Nothing found</td>\n",
       "    </tr>\n",
       "    <tr>\n",
       "      <td id=\"T_84d76_row10_col0\" class=\"data row10 col0\" >Rare Format Detection - Test Dataset</td>\n",
       "      <td id=\"T_84d76_row10_col1\" class=\"data row10 col1\" >Nothing found</td>\n",
       "    </tr>\n",
       "    <tr>\n",
       "      <td id=\"T_84d76_row11_col0\" class=\"data row11 col0\" >Rare Format Detection - Train Dataset</td>\n",
       "      <td id=\"T_84d76_row11_col1\" class=\"data row11 col1\" >Nothing found</td>\n",
       "    </tr>\n",
       "    <tr>\n",
       "      <td id=\"T_84d76_row12_col0\" class=\"data row12 col0\" >Data Duplicates - Test Dataset</td>\n",
       "      <td id=\"T_84d76_row12_col1\" class=\"data row12 col1\" >Nothing found</td>\n",
       "    </tr>\n",
       "    <tr>\n",
       "      <td id=\"T_84d76_row13_col0\" class=\"data row13 col0\" >String Mismatch - Test Dataset</td>\n",
       "      <td id=\"T_84d76_row13_col1\" class=\"data row13 col1\" >Nothing found</td>\n",
       "    </tr>\n",
       "    <tr>\n",
       "      <td id=\"T_84d76_row14_col0\" class=\"data row14 col0\" >Dominant Frequency Change</td>\n",
       "      <td id=\"T_84d76_row14_col1\" class=\"data row14 col1\" >Nothing found</td>\n",
       "    </tr>\n",
       "    <tr>\n",
       "      <td id=\"T_84d76_row15_col0\" class=\"data row15 col0\" >String Mismatch - Train Dataset</td>\n",
       "      <td id=\"T_84d76_row15_col1\" class=\"data row15 col1\" >Nothing found</td>\n",
       "    </tr>\n",
       "    <tr>\n",
       "      <td id=\"T_84d76_row16_col0\" class=\"data row16 col0\" >Mixed Types - Test Dataset</td>\n",
       "      <td id=\"T_84d76_row16_col1\" class=\"data row16 col1\" >Nothing found</td>\n",
       "    </tr>\n",
       "    <tr>\n",
       "      <td id=\"T_84d76_row17_col0\" class=\"data row17 col0\" >Mixed Types - Train Dataset</td>\n",
       "      <td id=\"T_84d76_row17_col1\" class=\"data row17 col1\" >Nothing found</td>\n",
       "    </tr>\n",
       "    <tr>\n",
       "      <td id=\"T_84d76_row18_col0\" class=\"data row18 col0\" >Mixed Nulls - Test Dataset</td>\n",
       "      <td id=\"T_84d76_row18_col1\" class=\"data row18 col1\" >Nothing found</td>\n",
       "    </tr>\n",
       "    <tr>\n",
       "      <td id=\"T_84d76_row19_col0\" class=\"data row19 col0\" >Mixed Nulls - Train Dataset</td>\n",
       "      <td id=\"T_84d76_row19_col1\" class=\"data row19 col1\" >Nothing found</td>\n",
       "    </tr>\n",
       "    <tr>\n",
       "      <td id=\"T_84d76_row20_col0\" class=\"data row20 col0\" >Single Value in Column - Test Dataset</td>\n",
       "      <td id=\"T_84d76_row20_col1\" class=\"data row20 col1\" >Nothing found</td>\n",
       "    </tr>\n",
       "    <tr>\n",
       "      <td id=\"T_84d76_row21_col0\" class=\"data row21 col0\" >Single Value in Column - Train Dataset</td>\n",
       "      <td id=\"T_84d76_row21_col1\" class=\"data row21 col1\" >Nothing found</td>\n",
       "    </tr>\n",
       "    <tr>\n",
       "      <td id=\"T_84d76_row22_col0\" class=\"data row22 col0\" >Data Duplicates - Train Dataset</td>\n",
       "      <td id=\"T_84d76_row22_col1\" class=\"data row22 col1\" >Nothing found</td>\n",
       "    </tr>\n",
       "    <tr>\n",
       "      <td id=\"T_84d76_row23_col0\" class=\"data row23 col0\" >New Label Train Test</td>\n",
       "      <td id=\"T_84d76_row23_col1\" class=\"data row23 col1\" >Nothing found</td>\n",
       "    </tr>\n",
       "  </tbody>\n",
       "</table>\n",
       "\n",
       "        "
      ]
     },
     "metadata": {},
     "output_type": "display_data"
    }
   ],
   "source": [
    "# set check_datasets_policy to 'both' so that for single dataset checks (e.g. some of the integrity checks),\n",
    "# both test and train will be checked\n",
    "\n",
    "# along with the training and test datasets we should supply a scikit-learn api model type\n",
    "# if we want many of the checks to be able to run\n",
    "\n",
    "OverallSuite.run(train_dataset=ds_train, test_dataset=ds_test, model=rf_clf, check_datasets_policy='both')"
   ]
  },
  {
   "cell_type": "markdown",
   "id": "450cf833",
   "metadata": {},
   "source": [
    "We can see that the single feature contribution failed, both for test and for train. Since this is a very simple dataset and this behavior is not necessarily problematic, we will remove the existing conditions for the PPS"
   ]
  },
  {
   "cell_type": "code",
   "execution_count": 10,
   "id": "bb797dbd",
   "metadata": {
    "ExecuteTime": {
     "end_time": "2021-11-23T15:36:31.086613Z",
     "start_time": "2021-11-23T15:36:31.079327Z"
    }
   },
   "outputs": [
    {
     "data": {
      "text/plain": [
       "Overall Suite: [\n",
       "\t0: IndexTrainTestLeakage(n_index_to_show=5)\n",
       "\t\tConditions:\n",
       "\t\t\t0: Index leakage is not greater than 0%\n",
       "\t1: DateTrainTestLeakageDuplicates(n_to_show=5)\n",
       "\t\tConditions:\n",
       "\t\t\t0: Date leakage ratio is not greater than 0%\n",
       "\t2: DateTrainTestLeakageOverlap\n",
       "\t\tConditions:\n",
       "\t\t\t0: Date leakage ratio is not greater than 0%\n",
       "\t3: DataSampleLeakageReport\n",
       "\t\tConditions:\n",
       "\t\t\t0: Percentage of test data samples that appear in train data not greater than 10.00%\n",
       "\t4: SingleFeatureContribution(n_show_top=5)\n",
       "\t\tConditions:\n",
       "\t\t\t0: Features PPS is not greater than 0.8\n",
       "\t5: SingleFeatureContributionTrainTest(n_show_top=5)\n",
       "\t\tConditions:\n",
       "\t\t\t0: Train-Test features PPS difference is not greater than 0.2\n",
       "\t6: TrainTestDifferenceOverfit\n",
       "\t\tConditions:\n",
       "\t\t\t0: Train-Test metrics degradation percentage is not greater than 0.2\n",
       "\t7: BoostingOverfit(num_steps=20)\n",
       "\t\tConditions:\n",
       "\t\t\t0: Test score decline is not greater than 5.00%\n",
       "\t8: UnusedFeatures(feature_importance_threshold=0.2, feature_variance_threshold=0.4, n_top_fi_to_show=5, n_top_unused_to_show=15, random_state=42)\n",
       "\t\tConditions:\n",
       "\t\t\t0: Number of high variance unused features is not greater than 5\n",
       "\t9: PerformanceReport\n",
       "\t10: NaiveModelComparison(naive_model_type=statistical, maximum_ratio=10)\n",
       "\t\tConditions:\n",
       "\t\t\t0: Ratio not less than 1.1 between the given model's result and the naive model's result\n",
       "\t11: ConfusionMatrixReport\n",
       "\t12: RocReport(excluded_classes=[])\n",
       "\t\tConditions:\n",
       "\t\t\t0: Not less than 0.7 AUC score for all the classes\n",
       "\t13: CalibrationMetric\n",
       "\t14: IsSingleValue\n",
       "\t\tConditions:\n",
       "\t\t\t0: Does not contain only a single value for all columns\n",
       "\t15: MixedNulls(check_nan=True, n_top_columns=10)\n",
       "\t\tConditions:\n",
       "\t\t\t0: Not more than 1 different null types for all columns\n",
       "\t16: MixedTypes(n_top_columns=10)\n",
       "\t\tConditions:\n",
       "\t\t\t0: Rare type ratio is not less than 1.00% of samples in all columns\n",
       "\t17: StringMismatch(n_top_columns=10)\n",
       "\t\tConditions:\n",
       "\t\t\t0: No string variants for all columns\n",
       "\t18: DataDuplicates(n_to_show=5)\n",
       "\t\tConditions:\n",
       "\t\t\t0: Duplicate data is not greater than 0%\n",
       "\t19: RareFormatDetection(patterns=[Pattern(digits and letters format (case sensitive)), Pattern(digits and letters format), Pattern(digits only format (ignoring letters)), Pattern(letters only format (ignoring digits)), Pattern(digits or letters format), Pattern(sequences of digits only format (ignoring letters)), Pattern(sequences of letters only format (ignoring letters)), Pattern(any sequence format)], rarity_threshold=0.05, min_unique_common_ratio=0.01, pattern_match_method=first, n_top_columns=10)\n",
       "\t\tConditions:\n",
       "\t\t\t0: Rare formats ratio is not greater than 0\n",
       "\t20: StringLengthOutOfBounds(num_percentiles=1000, inner_quantile_range=94, outlier_factor=4, n_top_columns=10)\n",
       "\t\tConditions:\n",
       "\t\t\t0: Ratio of outliers not greater than 0% string length outliers for all columns\n",
       "\t21: SpecialCharacters(n_most_common=2, n_top_columns=10)\n",
       "\t\tConditions:\n",
       "\t\t\t0: Ratio of entirely special character samples not greater than 0.10% for all columns\n",
       "\t22: StringMismatchComparison(n_top_columns=10)\n",
       "\t\tConditions:\n",
       "\t\t\t0: No new variants allowed in test data for all columns\n",
       "\t23: CategoryMismatchTrainTest\n",
       "\t\tConditions:\n",
       "\t\t\t0: Number of new category values is not greater than 0 for all columns\n",
       "\t24: DominantFrequencyChange(dominance_ratio=2, ratio_change_thres=1.5, n_top_columns=10)\n",
       "\t\tConditions:\n",
       "\t\t\t0: Change in ratio of dominant value in data not more than 25.00%\n",
       "\t25: NewLabelTrainTest\n",
       "\t\tConditions:\n",
       "\t\t\t0: Number of new label values is not greater than 0\n",
       "]"
      ]
     },
     "execution_count": 10,
     "metadata": {},
     "output_type": "execute_result"
    }
   ],
   "source": [
    "# Lets have a look at all the checks and conditions so that we can edit them\n",
    "OverallSuite"
   ]
  },
  {
   "cell_type": "code",
   "execution_count": 11,
   "id": "445dcb78",
   "metadata": {
    "ExecuteTime": {
     "end_time": "2021-11-23T15:36:31.145843Z",
     "start_time": "2021-11-23T15:36:31.089099Z"
    }
   },
   "outputs": [
    {
     "data": {
      "text/plain": [
       "SingleFeatureContribution(n_show_top=5)\n",
       "\tConditions:\n",
       "\t\t0: Features PPS is not greater than 0.8"
      ]
     },
     "execution_count": 11,
     "metadata": {},
     "output_type": "execute_result"
    }
   ],
   "source": [
    "# Lets have a look at the conditions we want to change:\n",
    "OverallSuite[4]"
   ]
  },
  {
   "cell_type": "code",
   "execution_count": 12,
   "id": "a8dcd2b3",
   "metadata": {
    "ExecuteTime": {
     "end_time": "2021-11-23T15:36:31.159001Z",
     "start_time": "2021-11-23T15:36:31.148842Z"
    }
   },
   "outputs": [],
   "source": [
    "OverallSuite[4].remove_condition(0)"
   ]
  },
  {
   "cell_type": "code",
   "execution_count": 13,
   "id": "83e0a8f1",
   "metadata": {
    "ExecuteTime": {
     "end_time": "2021-11-23T15:36:31.176114Z",
     "start_time": "2021-11-23T15:36:31.162149Z"
    }
   },
   "outputs": [
    {
     "data": {
      "text/plain": [
       "SingleFeatureContribution(n_show_top=5)"
      ]
     },
     "execution_count": 13,
     "metadata": {},
     "output_type": "execute_result"
    }
   ],
   "source": [
    "# print and see that the condition was removed\n",
    "OverallSuite[4]"
   ]
  },
  {
   "cell_type": "markdown",
   "id": "37bac0e0",
   "metadata": {},
   "source": [
    "## Now lets rerun the suite with different train-val split:"
   ]
  },
  {
   "cell_type": "code",
   "execution_count": 14,
   "id": "c015149c",
   "metadata": {
    "ExecuteTime": {
     "end_time": "2021-11-23T15:36:31.415064Z",
     "start_time": "2021-11-23T15:36:31.179388Z"
    }
   },
   "outputs": [],
   "source": [
    "train_len = round(0.67*iris_df.shape[0])\n",
    "alternative_train_df = Dataset(iris_df[:train_len], label = label_col)\n",
    "alternative_test_df = Dataset(iris_df[train_len:], label = label_col)\n",
    "alt_rf_clf = RandomForestClassifier()\n",
    "alt_rf_clf.fit(df_train.drop(label_col, axis=1), df_train[label_col]);"
   ]
  },
  {
   "cell_type": "code",
   "execution_count": 15,
   "id": "67d894f5",
   "metadata": {
    "ExecuteTime": {
     "end_time": "2021-11-23T15:36:38.163823Z",
     "start_time": "2021-11-23T15:36:31.417347Z"
    }
   },
   "outputs": [
    {
     "data": {
      "text/html": [
       "\n",
       "    <h1>Overall Suite</h1>\n",
       "    <p>The suite is composed of various checks such as: Index Train Test Leakage, Date Train Test Leakage Duplicates, Date Train Test Leakage Overlap, etc...<br>\n",
       "    Each check may contain conditions (which results in \n",
       "    <span style=\"color: green;display:inline-block\">✓</span> /\n",
       "    <span style=\"color: red;display:inline-block\">✖</span> /\n",
       "    <span style=\"color: orange;font-weight:bold;display:inline-block\">!</span>\n",
       "    ), as well as other outputs such as plots or tables.<br>\n",
       "    Suites, checks and conditions can all be modified (see tutorial [link]).</p>\n",
       "    <hr style=\"background-color: black;border: 0 none;color: black;height: 1px;\"><h2>Conditions Summary</h2>\n",
       "    "
      ]
     },
     "metadata": {},
     "output_type": "display_data"
    },
    {
     "data": {
      "text/html": [
       "<style type=\"text/css\">\n",
       "#T_8e85a_ table {\n",
       "  text-align: left;\n",
       "}\n",
       "#T_8e85a_ thead {\n",
       "  text-align: left;\n",
       "}\n",
       "#T_8e85a_ tbody {\n",
       "  text-align: left;\n",
       "}\n",
       "#T_8e85a_ th {\n",
       "  text-align: left;\n",
       "}\n",
       "#T_8e85a_ td {\n",
       "  text-align: left;\n",
       "}\n",
       "</style>\n",
       "<table id=\"T_8e85a_\">\n",
       "  <thead>\n",
       "    <tr>\n",
       "      <th class=\"col_heading level0 col0\" >Status</th>\n",
       "      <th class=\"col_heading level0 col1\" >Check</th>\n",
       "      <th class=\"col_heading level0 col2\" >Condition</th>\n",
       "      <th class=\"col_heading level0 col3\" >More Info</th>\n",
       "    </tr>\n",
       "  </thead>\n",
       "  <tbody>\n",
       "    <tr>\n",
       "      <td id=\"T_8e85a_row0_col0\" class=\"data row0 col0\" ><div style=\"color: red;text-align: center\">✖</div></td>\n",
       "      <td id=\"T_8e85a_row0_col1\" class=\"data row0 col1\" >New Label Train Test</td>\n",
       "      <td id=\"T_8e85a_row0_col2\" class=\"data row0 col2\" >Number of new label values is not greater than 0</td>\n",
       "      <td id=\"T_8e85a_row0_col3\" class=\"data row0 col3\" >Found more than 0 new labels in label column: target</td>\n",
       "    </tr>\n",
       "    <tr>\n",
       "      <td id=\"T_8e85a_row1_col0\" class=\"data row1 col0\" ><div style=\"color: red;text-align: center\">✖</div></td>\n",
       "      <td id=\"T_8e85a_row1_col1\" class=\"data row1 col1\" >Single Feature Contribution Train-Test</td>\n",
       "      <td id=\"T_8e85a_row1_col2\" class=\"data row1 col2\" >Train-Test features PPS difference is not greater than 0.2</td>\n",
       "      <td id=\"T_8e85a_row1_col3\" class=\"data row1 col3\" >Features with PPS difference above threshold: petal length (cm), petal width (cm), sepal length (cm), sepal width (cm)</td>\n",
       "    </tr>\n",
       "    <tr>\n",
       "      <td id=\"T_8e85a_row2_col0\" class=\"data row2 col0\" ><div style=\"color: red;text-align: center\">✖</div></td>\n",
       "      <td id=\"T_8e85a_row2_col1\" class=\"data row2 col1\" >Train-Test Difference Overfit</td>\n",
       "      <td id=\"T_8e85a_row2_col2\" class=\"data row2 col2\" >Train-Test metrics degradation percentage is not greater than 0.2</td>\n",
       "      <td id=\"T_8e85a_row2_col3\" class=\"data row2 col3\" >Found degraded metrics: {'Precision': '100%', 'Recall': '100%'}</td>\n",
       "    </tr>\n",
       "    <tr>\n",
       "      <td id=\"T_8e85a_row3_col0\" class=\"data row3 col0\" ><div style=\"color: red;text-align: center\">✖</div></td>\n",
       "      <td id=\"T_8e85a_row3_col1\" class=\"data row3 col1\" >Single Value in Column - Test Dataset</td>\n",
       "      <td id=\"T_8e85a_row3_col2\" class=\"data row3 col2\" >Does not contain only a single value for all columns</td>\n",
       "      <td id=\"T_8e85a_row3_col3\" class=\"data row3 col3\" >Columns containing a single value: ['target']</td>\n",
       "    </tr>\n",
       "    <tr>\n",
       "      <td id=\"T_8e85a_row4_col0\" class=\"data row4 col0\" ><div style=\"color: red;text-align: center\">✖</div></td>\n",
       "      <td id=\"T_8e85a_row4_col1\" class=\"data row4 col1\" >Data Duplicates - Test Dataset</td>\n",
       "      <td id=\"T_8e85a_row4_col2\" class=\"data row4 col2\" >Duplicate data is not greater than 0%</td>\n",
       "      <td id=\"T_8e85a_row4_col3\" class=\"data row4 col3\" >Found 2.00% duplicate data</td>\n",
       "    </tr>\n",
       "    <tr>\n",
       "      <td id=\"T_8e85a_row5_col0\" class=\"data row5 col0\" ><div style=\"color: green;text-align: center\">✓</div></td>\n",
       "      <td id=\"T_8e85a_row5_col1\" class=\"data row5 col1\" >Category Mismatch Train Test</td>\n",
       "      <td id=\"T_8e85a_row5_col2\" class=\"data row5 col2\" >Number of new category values is not greater than 0 for all columns</td>\n",
       "      <td id=\"T_8e85a_row5_col3\" class=\"data row5 col3\" ></td>\n",
       "    </tr>\n",
       "    <tr>\n",
       "      <td id=\"T_8e85a_row6_col0\" class=\"data row6 col0\" ><div style=\"color: green;text-align: center\">✓</div></td>\n",
       "      <td id=\"T_8e85a_row6_col1\" class=\"data row6 col1\" >String Mismatch Comparison</td>\n",
       "      <td id=\"T_8e85a_row6_col2\" class=\"data row6 col2\" >No new variants allowed in test data for all columns</td>\n",
       "      <td id=\"T_8e85a_row6_col3\" class=\"data row6 col3\" ></td>\n",
       "    </tr>\n",
       "    <tr>\n",
       "      <td id=\"T_8e85a_row7_col0\" class=\"data row7 col0\" ><div style=\"color: green;text-align: center\">✓</div></td>\n",
       "      <td id=\"T_8e85a_row7_col1\" class=\"data row7 col1\" >Special Characters - Test Dataset</td>\n",
       "      <td id=\"T_8e85a_row7_col2\" class=\"data row7 col2\" >Ratio of entirely special character samples not greater than 0.10% for all columns</td>\n",
       "      <td id=\"T_8e85a_row7_col3\" class=\"data row7 col3\" ></td>\n",
       "    </tr>\n",
       "    <tr>\n",
       "      <td id=\"T_8e85a_row8_col0\" class=\"data row8 col0\" ><div style=\"color: green;text-align: center\">✓</div></td>\n",
       "      <td id=\"T_8e85a_row8_col1\" class=\"data row8 col1\" >Special Characters - Train Dataset</td>\n",
       "      <td id=\"T_8e85a_row8_col2\" class=\"data row8 col2\" >Ratio of entirely special character samples not greater than 0.10% for all columns</td>\n",
       "      <td id=\"T_8e85a_row8_col3\" class=\"data row8 col3\" ></td>\n",
       "    </tr>\n",
       "    <tr>\n",
       "      <td id=\"T_8e85a_row9_col0\" class=\"data row9 col0\" ><div style=\"color: green;text-align: center\">✓</div></td>\n",
       "      <td id=\"T_8e85a_row9_col1\" class=\"data row9 col1\" >String Length Out Of Bounds - Test Dataset</td>\n",
       "      <td id=\"T_8e85a_row9_col2\" class=\"data row9 col2\" >Ratio of outliers not greater than 0% string length outliers for all columns</td>\n",
       "      <td id=\"T_8e85a_row9_col3\" class=\"data row9 col3\" ></td>\n",
       "    </tr>\n",
       "    <tr>\n",
       "      <td id=\"T_8e85a_row10_col0\" class=\"data row10 col0\" ><div style=\"color: green;text-align: center\">✓</div></td>\n",
       "      <td id=\"T_8e85a_row10_col1\" class=\"data row10 col1\" >String Length Out Of Bounds - Train Dataset</td>\n",
       "      <td id=\"T_8e85a_row10_col2\" class=\"data row10 col2\" >Ratio of outliers not greater than 0% string length outliers for all columns</td>\n",
       "      <td id=\"T_8e85a_row10_col3\" class=\"data row10 col3\" ></td>\n",
       "    </tr>\n",
       "    <tr>\n",
       "      <td id=\"T_8e85a_row11_col0\" class=\"data row11 col0\" ><div style=\"color: green;text-align: center\">✓</div></td>\n",
       "      <td id=\"T_8e85a_row11_col1\" class=\"data row11 col1\" >Rare Format Detection - Test Dataset</td>\n",
       "      <td id=\"T_8e85a_row11_col2\" class=\"data row11 col2\" >Rare formats ratio is not greater than 0</td>\n",
       "      <td id=\"T_8e85a_row11_col3\" class=\"data row11 col3\" ></td>\n",
       "    </tr>\n",
       "    <tr>\n",
       "      <td id=\"T_8e85a_row12_col0\" class=\"data row12 col0\" ><div style=\"color: green;text-align: center\">✓</div></td>\n",
       "      <td id=\"T_8e85a_row12_col1\" class=\"data row12 col1\" >Rare Format Detection - Train Dataset</td>\n",
       "      <td id=\"T_8e85a_row12_col2\" class=\"data row12 col2\" >Rare formats ratio is not greater than 0</td>\n",
       "      <td id=\"T_8e85a_row12_col3\" class=\"data row12 col3\" ></td>\n",
       "    </tr>\n",
       "    <tr>\n",
       "      <td id=\"T_8e85a_row13_col0\" class=\"data row13 col0\" ><div style=\"color: green;text-align: center\">✓</div></td>\n",
       "      <td id=\"T_8e85a_row13_col1\" class=\"data row13 col1\" >Data Duplicates - Train Dataset</td>\n",
       "      <td id=\"T_8e85a_row13_col2\" class=\"data row13 col2\" >Duplicate data is not greater than 0%</td>\n",
       "      <td id=\"T_8e85a_row13_col3\" class=\"data row13 col3\" ></td>\n",
       "    </tr>\n",
       "    <tr>\n",
       "      <td id=\"T_8e85a_row14_col0\" class=\"data row14 col0\" ><div style=\"color: green;text-align: center\">✓</div></td>\n",
       "      <td id=\"T_8e85a_row14_col1\" class=\"data row14 col1\" >Data Sample Leakage Report</td>\n",
       "      <td id=\"T_8e85a_row14_col2\" class=\"data row14 col2\" >Percentage of test data samples that appear in train data not greater than 10.00%</td>\n",
       "      <td id=\"T_8e85a_row14_col3\" class=\"data row14 col3\" ></td>\n",
       "    </tr>\n",
       "    <tr>\n",
       "      <td id=\"T_8e85a_row15_col0\" class=\"data row15 col0\" ><div style=\"color: green;text-align: center\">✓</div></td>\n",
       "      <td id=\"T_8e85a_row15_col1\" class=\"data row15 col1\" >Dominant Frequency Change</td>\n",
       "      <td id=\"T_8e85a_row15_col2\" class=\"data row15 col2\" >Change in ratio of dominant value in data not more than 25.00%</td>\n",
       "      <td id=\"T_8e85a_row15_col3\" class=\"data row15 col3\" ></td>\n",
       "    </tr>\n",
       "    <tr>\n",
       "      <td id=\"T_8e85a_row16_col0\" class=\"data row16 col0\" ><div style=\"color: green;text-align: center\">✓</div></td>\n",
       "      <td id=\"T_8e85a_row16_col1\" class=\"data row16 col1\" >Mixed Types - Test Dataset</td>\n",
       "      <td id=\"T_8e85a_row16_col2\" class=\"data row16 col2\" >Rare type ratio is not less than 1.00% of samples in all columns</td>\n",
       "      <td id=\"T_8e85a_row16_col3\" class=\"data row16 col3\" ></td>\n",
       "    </tr>\n",
       "    <tr>\n",
       "      <td id=\"T_8e85a_row17_col0\" class=\"data row17 col0\" ><div style=\"color: green;text-align: center\">✓</div></td>\n",
       "      <td id=\"T_8e85a_row17_col1\" class=\"data row17 col1\" >Mixed Types - Train Dataset</td>\n",
       "      <td id=\"T_8e85a_row17_col2\" class=\"data row17 col2\" >Rare type ratio is not less than 1.00% of samples in all columns</td>\n",
       "      <td id=\"T_8e85a_row17_col3\" class=\"data row17 col3\" ></td>\n",
       "    </tr>\n",
       "    <tr>\n",
       "      <td id=\"T_8e85a_row18_col0\" class=\"data row18 col0\" ><div style=\"color: green;text-align: center\">✓</div></td>\n",
       "      <td id=\"T_8e85a_row18_col1\" class=\"data row18 col1\" >Mixed Nulls - Test Dataset</td>\n",
       "      <td id=\"T_8e85a_row18_col2\" class=\"data row18 col2\" >Not more than 1 different null types for all columns</td>\n",
       "      <td id=\"T_8e85a_row18_col3\" class=\"data row18 col3\" ></td>\n",
       "    </tr>\n",
       "    <tr>\n",
       "      <td id=\"T_8e85a_row19_col0\" class=\"data row19 col0\" ><div style=\"color: green;text-align: center\">✓</div></td>\n",
       "      <td id=\"T_8e85a_row19_col1\" class=\"data row19 col1\" >Mixed Nulls - Train Dataset</td>\n",
       "      <td id=\"T_8e85a_row19_col2\" class=\"data row19 col2\" >Not more than 1 different null types for all columns</td>\n",
       "      <td id=\"T_8e85a_row19_col3\" class=\"data row19 col3\" ></td>\n",
       "    </tr>\n",
       "    <tr>\n",
       "      <td id=\"T_8e85a_row20_col0\" class=\"data row20 col0\" ><div style=\"color: green;text-align: center\">✓</div></td>\n",
       "      <td id=\"T_8e85a_row20_col1\" class=\"data row20 col1\" >Single Value in Column - Train Dataset</td>\n",
       "      <td id=\"T_8e85a_row20_col2\" class=\"data row20 col2\" >Does not contain only a single value for all columns</td>\n",
       "      <td id=\"T_8e85a_row20_col3\" class=\"data row20 col3\" ></td>\n",
       "    </tr>\n",
       "    <tr>\n",
       "      <td id=\"T_8e85a_row21_col0\" class=\"data row21 col0\" ><div style=\"color: green;text-align: center\">✓</div></td>\n",
       "      <td id=\"T_8e85a_row21_col1\" class=\"data row21 col1\" >ROC Report - Test Dataset</td>\n",
       "      <td id=\"T_8e85a_row21_col2\" class=\"data row21 col2\" >Not less than 0.7 AUC score for all the classes</td>\n",
       "      <td id=\"T_8e85a_row21_col3\" class=\"data row21 col3\" ></td>\n",
       "    </tr>\n",
       "    <tr>\n",
       "      <td id=\"T_8e85a_row22_col0\" class=\"data row22 col0\" ><div style=\"color: green;text-align: center\">✓</div></td>\n",
       "      <td id=\"T_8e85a_row22_col1\" class=\"data row22 col1\" >ROC Report - Train Dataset</td>\n",
       "      <td id=\"T_8e85a_row22_col2\" class=\"data row22 col2\" >Not less than 0.7 AUC score for all the classes</td>\n",
       "      <td id=\"T_8e85a_row22_col3\" class=\"data row22 col3\" ></td>\n",
       "    </tr>\n",
       "    <tr>\n",
       "      <td id=\"T_8e85a_row23_col0\" class=\"data row23 col0\" ><div style=\"color: green;text-align: center\">✓</div></td>\n",
       "      <td id=\"T_8e85a_row23_col1\" class=\"data row23 col1\" >Naive Model Comparison</td>\n",
       "      <td id=\"T_8e85a_row23_col2\" class=\"data row23 col2\" >Ratio not less than 1.1 between the given model's result and the naive model's result</td>\n",
       "      <td id=\"T_8e85a_row23_col3\" class=\"data row23 col3\" ></td>\n",
       "    </tr>\n",
       "    <tr>\n",
       "      <td id=\"T_8e85a_row24_col0\" class=\"data row24 col0\" ><div style=\"color: green;text-align: center\">✓</div></td>\n",
       "      <td id=\"T_8e85a_row24_col1\" class=\"data row24 col1\" >Unused Features</td>\n",
       "      <td id=\"T_8e85a_row24_col2\" class=\"data row24 col2\" >Number of high variance unused features is not greater than 5</td>\n",
       "      <td id=\"T_8e85a_row24_col3\" class=\"data row24 col3\" ></td>\n",
       "    </tr>\n",
       "    <tr>\n",
       "      <td id=\"T_8e85a_row25_col0\" class=\"data row25 col0\" ><div style=\"color: green;text-align: center\">✓</div></td>\n",
       "      <td id=\"T_8e85a_row25_col1\" class=\"data row25 col1\" >String Mismatch - Test Dataset</td>\n",
       "      <td id=\"T_8e85a_row25_col2\" class=\"data row25 col2\" >No string variants for all columns</td>\n",
       "      <td id=\"T_8e85a_row25_col3\" class=\"data row25 col3\" ></td>\n",
       "    </tr>\n",
       "    <tr>\n",
       "      <td id=\"T_8e85a_row26_col0\" class=\"data row26 col0\" ><div style=\"color: green;text-align: center\">✓</div></td>\n",
       "      <td id=\"T_8e85a_row26_col1\" class=\"data row26 col1\" >String Mismatch - Train Dataset</td>\n",
       "      <td id=\"T_8e85a_row26_col2\" class=\"data row26 col2\" >No string variants for all columns</td>\n",
       "      <td id=\"T_8e85a_row26_col3\" class=\"data row26 col3\" ></td>\n",
       "    </tr>\n",
       "  </tbody>\n",
       "</table>\n"
      ]
     },
     "metadata": {},
     "output_type": "display_data"
    },
    {
     "data": {
      "text/html": [
       "<hr style=\"background-color: black;border: 0 none;color: black;height: 1px;\"><h2>Additional Outputs</h2>"
      ]
     },
     "metadata": {},
     "output_type": "display_data"
    },
    {
     "data": {
      "text/html": [
       "<h4>Single Feature Contribution - Train Dataset</h4>"
      ]
     },
     "metadata": {},
     "output_type": "display_data"
    },
    {
     "data": {
      "text/html": [
       "<p>Return the PPS (Predictive Power Score) of all features in relation to the label.</p>"
      ]
     },
     "metadata": {},
     "output_type": "display_data"
    },
    {
     "data": {
      "image/png": "[encoded data removed]",
      "text/plain": [
       "<Figure size 1080x288 with 2 Axes>"
      ]
     },
     "metadata": {
      "needs_background": "light"
     },
     "output_type": "display_data"
    },
    {
     "data": {
      "text/html": [
       "The PPS represents the ability of a feature to single-handedly predict another feature or label."
      ]
     },
     "metadata": {},
     "output_type": "display_data"
    },
    {
     "data": {
      "text/html": [
       "A high PPS (close to 1) can mean that this feature's success in predicting the label is actually due to data"
      ]
     },
     "metadata": {},
     "output_type": "display_data"
    },
    {
     "data": {
      "text/html": [
       "leakage - meaning that the feature holds information that is based on the label to begin with."
      ]
     },
     "metadata": {},
     "output_type": "display_data"
    },
    {
     "data": {
      "text/html": [
       "<hr style=\"background-color: #eee;border: 0 none;color: #eee;height: 1px;\">"
      ]
     },
     "metadata": {},
     "output_type": "display_data"
    },
    {
     "data": {
      "text/html": [
       "<h4>Single Feature Contribution - Test Dataset</h4>"
      ]
     },
     "metadata": {},
     "output_type": "display_data"
    },
    {
     "data": {
      "text/html": [
       "<p>Return the PPS (Predictive Power Score) of all features in relation to the label.</p>"
      ]
     },
     "metadata": {},
     "output_type": "display_data"
    },
    {
     "data": {
      "image/png": "[encoded data removed]",
      "text/plain": [
       "<Figure size 1080x288 with 2 Axes>"
      ]
     },
     "metadata": {
      "needs_background": "light"
     },
     "output_type": "display_data"
    },
    {
     "data": {
      "text/html": [
       "The PPS represents the ability of a feature to single-handedly predict another feature or label."
      ]
     },
     "metadata": {},
     "output_type": "display_data"
    },
    {
     "data": {
      "text/html": [
       "A high PPS (close to 1) can mean that this feature's success in predicting the label is actually due to data"
      ]
     },
     "metadata": {},
     "output_type": "display_data"
    },
    {
     "data": {
      "text/html": [
       "leakage - meaning that the feature holds information that is based on the label to begin with."
      ]
     },
     "metadata": {},
     "output_type": "display_data"
    },
    {
     "data": {
      "text/html": [
       "<hr style=\"background-color: #eee;border: 0 none;color: #eee;height: 1px;\">"
      ]
     },
     "metadata": {},
     "output_type": "display_data"
    },
    {
     "data": {
      "text/html": [
       "<h4>Single Feature Contribution Train-Test</h4>"
      ]
     },
     "metadata": {},
     "output_type": "display_data"
    },
    {
     "data": {
      "text/html": [
       "<p>    Return the difference in PPS (Predictive Power Score) of all features between train and test datasets.</p>"
      ]
     },
     "metadata": {},
     "output_type": "display_data"
    },
    {
     "data": {
      "image/png": "[encoded data removed]",
      "text/plain": [
       "<Figure size 1080x288 with 2 Axes>"
      ]
     },
     "metadata": {
      "needs_background": "light"
     },
     "output_type": "display_data"
    },
    {
     "data": {
      "text/html": [
       "The PPS represents the ability of a feature to single-handedly predict another feature or label."
      ]
     },
     "metadata": {},
     "output_type": "display_data"
    },
    {
     "data": {
      "text/html": [
       "A high PPS (close to 1) can mean that this feature's success in predicting the label is actually due to data"
      ]
     },
     "metadata": {},
     "output_type": "display_data"
    },
    {
     "data": {
      "text/html": [
       "leakage - meaning that the feature holds information that is based on the label to begin with."
      ]
     },
     "metadata": {},
     "output_type": "display_data"
    },
    {
     "data": {
      "text/html": []
     },
     "metadata": {},
     "output_type": "display_data"
    },
    {
     "data": {
      "text/html": [
       "When we compare train PPS to test PPS, A high difference can strongly indicate leakage, as a feature"
      ]
     },
     "metadata": {},
     "output_type": "display_data"
    },
    {
     "data": {
      "text/html": [
       "that was powerful in train but not in test can be explained by leakage in train that is not relevant to a new dataset."
      ]
     },
     "metadata": {},
     "output_type": "display_data"
    },
    {
     "data": {
      "text/html": [
       "<hr style=\"background-color: #eee;border: 0 none;color: #eee;height: 1px;\">"
      ]
     },
     "metadata": {},
     "output_type": "display_data"
    },
    {
     "data": {
      "text/html": [
       "<h4>Train-Test Difference Overfit</h4>"
      ]
     },
     "metadata": {},
     "output_type": "display_data"
    },
    {
     "data": {
      "text/html": [
       "<p>Visualize overfit by displaying the difference between model metrics on train and on test data.</p>"
      ]
     },
     "metadata": {},
     "output_type": "display_data"
    },
    {
     "data": {
      "image/png": "[encoded data removed]",
      "text/plain": [
       "<Figure size 432x288 with 1 Axes>"
      ]
     },
     "metadata": {
      "needs_background": "light"
     },
     "output_type": "display_data"
    },
    {
     "data": {
      "text/html": [
       "<hr style=\"background-color: #eee;border: 0 none;color: #eee;height: 1px;\">"
      ]
     },
     "metadata": {},
     "output_type": "display_data"
    },
    {
     "data": {
      "text/html": [
       "<h4>Unused Features</h4>"
      ]
     },
     "metadata": {},
     "output_type": "display_data"
    },
    {
     "data": {
      "text/html": [
       "<p>Detect features that are nearly unused by the model.</p>"
      ]
     },
     "metadata": {},
     "output_type": "display_data"
    },
    {
     "data": {
      "text/html": [
       "Features above the line are a sample of the most important features, while the features below the line are the unused features with highest variance, as defined by check parameters"
      ]
     },
     "metadata": {},
     "output_type": "display_data"
    },
    {
     "data": {
      "image/png": "[encoded data removed]",
      "text/plain": [
       "<Figure size 576x216 with 1 Axes>"
      ]
     },
     "metadata": {
      "needs_background": "light"
     },
     "output_type": "display_data"
    },
    {
     "data": {
      "text/html": [
       "<hr style=\"background-color: #eee;border: 0 none;color: #eee;height: 1px;\">"
      ]
     },
     "metadata": {},
     "output_type": "display_data"
    },
    {
     "data": {
      "text/html": [
       "<h4>Performance Report - Train Dataset</h4>"
      ]
     },
     "metadata": {},
     "output_type": "display_data"
    },
    {
     "data": {
      "text/html": [
       "<p>Summarize given metrics on a dataset and model.</p>"
      ]
     },
     "metadata": {},
     "output_type": "display_data"
    },
    {
     "data": {
      "text/html": [
       "<style type=\"text/css\">\n",
       "#T_d7985_ table {\n",
       "  text-align: left;\n",
       "}\n",
       "#T_d7985_ thead {\n",
       "  text-align: left;\n",
       "}\n",
       "#T_d7985_ tbody {\n",
       "  text-align: left;\n",
       "}\n",
       "#T_d7985_ th {\n",
       "  text-align: left;\n",
       "}\n",
       "#T_d7985_ td {\n",
       "  text-align: left;\n",
       "}\n",
       "</style>\n",
       "<table id=\"T_d7985_\">\n",
       "  <thead>\n",
       "    <tr>\n",
       "      <th class=\"blank level0\" >&nbsp;</th>\n",
       "      <th class=\"col_heading level0 col0\" >Score</th>\n",
       "    </tr>\n",
       "    <tr>\n",
       "      <th class=\"index_name level0\" >Metric</th>\n",
       "      <th class=\"blank col0\" >&nbsp;</th>\n",
       "    </tr>\n",
       "  </thead>\n",
       "  <tbody>\n",
       "    <tr>\n",
       "      <th id=\"T_d7985_level0_row0\" class=\"row_heading level0 row0\" >Accuracy</th>\n",
       "      <td id=\"T_d7985_row0_col0\" class=\"data row0 col0\" >1.00</td>\n",
       "    </tr>\n",
       "    <tr>\n",
       "      <th id=\"T_d7985_level0_row1\" class=\"row_heading level0 row1\" >Precision</th>\n",
       "      <td id=\"T_d7985_row1_col0\" class=\"data row1 col0\" >1.00</td>\n",
       "    </tr>\n",
       "    <tr>\n",
       "      <th id=\"T_d7985_level0_row2\" class=\"row_heading level0 row2\" >Recall</th>\n",
       "      <td id=\"T_d7985_row2_col0\" class=\"data row2 col0\" >1.00</td>\n",
       "    </tr>\n",
       "  </tbody>\n",
       "</table>\n"
      ]
     },
     "metadata": {},
     "output_type": "display_data"
    },
    {
     "data": {
      "text/html": [
       "<hr style=\"background-color: #eee;border: 0 none;color: #eee;height: 1px;\">"
      ]
     },
     "metadata": {},
     "output_type": "display_data"
    },
    {
     "data": {
      "text/html": [
       "<h4>Performance Report - Test Dataset</h4>"
      ]
     },
     "metadata": {},
     "output_type": "display_data"
    },
    {
     "data": {
      "text/html": [
       "<p>Summarize given metrics on a dataset and model.</p>"
      ]
     },
     "metadata": {},
     "output_type": "display_data"
    },
    {
     "data": {
      "text/html": [
       "<style type=\"text/css\">\n",
       "#T_d226c_ table {\n",
       "  text-align: left;\n",
       "}\n",
       "#T_d226c_ thead {\n",
       "  text-align: left;\n",
       "}\n",
       "#T_d226c_ tbody {\n",
       "  text-align: left;\n",
       "}\n",
       "#T_d226c_ th {\n",
       "  text-align: left;\n",
       "}\n",
       "#T_d226c_ td {\n",
       "  text-align: left;\n",
       "}\n",
       "</style>\n",
       "<table id=\"T_d226c_\">\n",
       "  <thead>\n",
       "    <tr>\n",
       "      <th class=\"blank level0\" >&nbsp;</th>\n",
       "      <th class=\"col_heading level0 col0\" >Score</th>\n",
       "    </tr>\n",
       "    <tr>\n",
       "      <th class=\"index_name level0\" >Metric</th>\n",
       "      <th class=\"blank col0\" >&nbsp;</th>\n",
       "    </tr>\n",
       "  </thead>\n",
       "  <tbody>\n",
       "    <tr>\n",
       "      <th id=\"T_d226c_level0_row0\" class=\"row_heading level0 row0\" >Accuracy</th>\n",
       "      <td id=\"T_d226c_row0_col0\" class=\"data row0 col0\" >0.96</td>\n",
       "    </tr>\n",
       "    <tr>\n",
       "      <th id=\"T_d226c_level0_row1\" class=\"row_heading level0 row1\" >Precision</th>\n",
       "      <td id=\"T_d226c_row1_col0\" class=\"data row1 col0\" >0.00</td>\n",
       "    </tr>\n",
       "    <tr>\n",
       "      <th id=\"T_d226c_level0_row2\" class=\"row_heading level0 row2\" >Recall</th>\n",
       "      <td id=\"T_d226c_row2_col0\" class=\"data row2 col0\" >0.00</td>\n",
       "    </tr>\n",
       "  </tbody>\n",
       "</table>\n"
      ]
     },
     "metadata": {},
     "output_type": "display_data"
    },
    {
     "data": {
      "text/html": [
       "<hr style=\"background-color: #eee;border: 0 none;color: #eee;height: 1px;\">"
      ]
     },
     "metadata": {},
     "output_type": "display_data"
    },
    {
     "data": {
      "text/html": [
       "<h4>Naive Model Comparison</h4>"
      ]
     },
     "metadata": {},
     "output_type": "display_data"
    },
    {
     "data": {
      "text/html": [
       "<p>Compare naive model score to given model score.</p>"
      ]
     },
     "metadata": {},
     "output_type": "display_data"
    },
    {
     "data": {
      "text/html": [
       "The given model performs 10 times compared to the naive model using the Accuracy metric.<br>RandomForestClassifier model prediction has achieved a score of 0.96 compared to Naive statistical prediction which achieved a score of 0 on tested data."
      ]
     },
     "metadata": {},
     "output_type": "display_data"
    },
    {
     "data": {
      "image/png": "[encoded data removed]",
      "text/plain": [
       "<Figure size 432x288 with 1 Axes>"
      ]
     },
     "metadata": {
      "needs_background": "light"
     },
     "output_type": "display_data"
    },
    {
     "data": {
      "text/html": [
       "<hr style=\"background-color: #eee;border: 0 none;color: #eee;height: 1px;\">"
      ]
     },
     "metadata": {},
     "output_type": "display_data"
    },
    {
     "data": {
      "text/html": [
       "<h4>Confusion Matrix Report - Train Dataset</h4>"
      ]
     },
     "metadata": {},
     "output_type": "display_data"
    },
    {
     "data": {
      "text/html": [
       "<p>Calculate the confusion matrix of the model on the given dataset.</p>"
      ]
     },
     "metadata": {},
     "output_type": "display_data"
    },
    {
     "data": {
      "image/png": "[encoded data removed]",
      "text/plain": [
       "<Figure size 432x288 with 2 Axes>"
      ]
     },
     "metadata": {
      "needs_background": "light"
     },
     "output_type": "display_data"
    },
    {
     "data": {
      "text/html": [
       "<hr style=\"background-color: #eee;border: 0 none;color: #eee;height: 1px;\">"
      ]
     },
     "metadata": {},
     "output_type": "display_data"
    },
    {
     "data": {
      "text/html": [
       "<h4>Confusion Matrix Report - Test Dataset</h4>"
      ]
     },
     "metadata": {},
     "output_type": "display_data"
    },
    {
     "data": {
      "text/html": [
       "<p>Calculate the confusion matrix of the model on the given dataset.</p>"
      ]
     },
     "metadata": {},
     "output_type": "display_data"
    },
    {
     "data": {
      "image/png": "[encoded data removed]",
      "text/plain": [
       "<Figure size 432x288 with 2 Axes>"
      ]
     },
     "metadata": {
      "needs_background": "light"
     },
     "output_type": "display_data"
    },
    {
     "data": {
      "text/html": [
       "<hr style=\"background-color: #eee;border: 0 none;color: #eee;height: 1px;\">"
      ]
     },
     "metadata": {},
     "output_type": "display_data"
    },
    {
     "data": {
      "text/html": [
       "<h4>ROC Report - Train Dataset</h4>"
      ]
     },
     "metadata": {},
     "output_type": "display_data"
    },
    {
     "data": {
      "text/html": [
       "<p>Calculate the AUC (Area Under Curve) for each class.</p>"
      ]
     },
     "metadata": {},
     "output_type": "display_data"
    },
    {
     "data": {
      "image/png": "[encoded data removed]",
      "text/plain": [
       "<Figure size 432x288 with 1 Axes>"
      ]
     },
     "metadata": {
      "needs_background": "light"
     },
     "output_type": "display_data"
    },
    {
     "data": {
      "text/html": [
       "<hr style=\"background-color: #eee;border: 0 none;color: #eee;height: 1px;\">"
      ]
     },
     "metadata": {},
     "output_type": "display_data"
    },
    {
     "data": {
      "text/html": [
       "<h4>ROC Report - Test Dataset</h4>"
      ]
     },
     "metadata": {},
     "output_type": "display_data"
    },
    {
     "data": {
      "text/html": [
       "<p>Calculate the AUC (Area Under Curve) for each class.</p>"
      ]
     },
     "metadata": {},
     "output_type": "display_data"
    },
    {
     "data": {
      "image/png": "[encoded data removed]",
      "text/plain": [
       "<Figure size 432x288 with 1 Axes>"
      ]
     },
     "metadata": {
      "needs_background": "light"
     },
     "output_type": "display_data"
    },
    {
     "data": {
      "text/html": [
       "<hr style=\"background-color: #eee;border: 0 none;color: #eee;height: 1px;\">"
      ]
     },
     "metadata": {},
     "output_type": "display_data"
    },
    {
     "data": {
      "text/html": [
       "<h4>Calibration Metric - Train Dataset</h4>"
      ]
     },
     "metadata": {},
     "output_type": "display_data"
    },
    {
     "data": {
      "text/html": [
       "<p>Calculate the calibration curve with brier score for each class.</p>"
      ]
     },
     "metadata": {},
     "output_type": "display_data"
    },
    {
     "data": {
      "text/html": [
       "Calibration curves (also known as reliability diagrams) compare how well the probabilistic predictions of a binary classifier are calibrated. It plots the true frequency of the positive label against its predicted probability, for binned predictions."
      ]
     },
     "metadata": {},
     "output_type": "display_data"
    },
    {
     "data": {
      "image/png": "[encoded data removed]",
      "text/plain": [
       "<Figure size 432x432 with 1 Axes>"
      ]
     },
     "metadata": {
      "needs_background": "light"
     },
     "output_type": "display_data"
    },
    {
     "data": {
      "text/html": [
       "The Brier score metric may be used to assess how well a classifier is calibrated. For more info, please visit https://en.wikipedia.org/wiki/Brier_score"
      ]
     },
     "metadata": {},
     "output_type": "display_data"
    },
    {
     "data": {
      "text/html": [
       "<hr style=\"background-color: #eee;border: 0 none;color: #eee;height: 1px;\">"
      ]
     },
     "metadata": {},
     "output_type": "display_data"
    },
    {
     "data": {
      "text/html": [
       "<h4>Calibration Metric - Test Dataset</h4>"
      ]
     },
     "metadata": {},
     "output_type": "display_data"
    },
    {
     "data": {
      "text/html": [
       "<p>Calculate the calibration curve with brier score for each class.</p>"
      ]
     },
     "metadata": {},
     "output_type": "display_data"
    },
    {
     "data": {
      "text/html": [
       "Calibration curves (also known as reliability diagrams) compare how well the probabilistic predictions of a binary classifier are calibrated. It plots the true frequency of the positive label against its predicted probability, for binned predictions."
      ]
     },
     "metadata": {},
     "output_type": "display_data"
    },
    {
     "data": {
      "image/png": "[encoded data removed]",
      "text/plain": [
       "<Figure size 432x432 with 1 Axes>"
      ]
     },
     "metadata": {
      "needs_background": "light"
     },
     "output_type": "display_data"
    },
    {
     "data": {
      "text/html": [
       "The Brier score metric may be used to assess how well a classifier is calibrated. For more info, please visit https://en.wikipedia.org/wiki/Brier_score"
      ]
     },
     "metadata": {},
     "output_type": "display_data"
    },
    {
     "data": {
      "text/html": [
       "<hr style=\"background-color: #eee;border: 0 none;color: #eee;height: 1px;\">"
      ]
     },
     "metadata": {},
     "output_type": "display_data"
    },
    {
     "data": {
      "text/html": [
       "<h4>Single Value in Column - Test Dataset</h4>"
      ]
     },
     "metadata": {},
     "output_type": "display_data"
    },
    {
     "data": {
      "text/html": [
       "<p>Check if there are columns which have only a single unique value in all rows.</p>"
      ]
     },
     "metadata": {},
     "output_type": "display_data"
    },
    {
     "data": {
      "text/html": [
       "The following columns have only one unique value"
      ]
     },
     "metadata": {},
     "output_type": "display_data"
    },
    {
     "data": {
      "text/html": [
       "<style type=\"text/css\">\n",
       "#T_1e855_ table {\n",
       "  text-align: left;\n",
       "}\n",
       "#T_1e855_ thead {\n",
       "  text-align: left;\n",
       "}\n",
       "#T_1e855_ tbody {\n",
       "  text-align: left;\n",
       "}\n",
       "#T_1e855_ th {\n",
       "  text-align: left;\n",
       "}\n",
       "#T_1e855_ td {\n",
       "  text-align: left;\n",
       "}\n",
       "</style>\n",
       "<table id=\"T_1e855_\">\n",
       "  <thead>\n",
       "    <tr>\n",
       "      <th class=\"blank level0\" >&nbsp;</th>\n",
       "      <th class=\"col_heading level0 col0\" >target</th>\n",
       "    </tr>\n",
       "  </thead>\n",
       "  <tbody>\n",
       "    <tr>\n",
       "      <th id=\"T_1e855_level0_row0\" class=\"row_heading level0 row0\" >Single unique value</th>\n",
       "      <td id=\"T_1e855_row0_col0\" class=\"data row0 col0\" >2</td>\n",
       "    </tr>\n",
       "  </tbody>\n",
       "</table>\n"
      ]
     },
     "metadata": {},
     "output_type": "display_data"
    },
    {
     "data": {
      "text/html": [
       "<hr style=\"background-color: #eee;border: 0 none;color: #eee;height: 1px;\">"
      ]
     },
     "metadata": {},
     "output_type": "display_data"
    },
    {
     "data": {
      "text/html": [
       "<h4>Data Duplicates - Test Dataset</h4>"
      ]
     },
     "metadata": {},
     "output_type": "display_data"
    },
    {
     "data": {
      "text/html": [
       "<p>Search for duplicate data in dataset.</p>"
      ]
     },
     "metadata": {},
     "output_type": "display_data"
    },
    {
     "data": {
      "text/html": [
       "2.00% of data samples are duplicates"
      ]
     },
     "metadata": {},
     "output_type": "display_data"
    },
    {
     "data": {
      "text/html": [
       "<style type=\"text/css\">\n",
       "#T_4dccb_ table {\n",
       "  text-align: left;\n",
       "}\n",
       "#T_4dccb_ thead {\n",
       "  text-align: left;\n",
       "}\n",
       "#T_4dccb_ tbody {\n",
       "  text-align: left;\n",
       "}\n",
       "#T_4dccb_ th {\n",
       "  text-align: left;\n",
       "}\n",
       "#T_4dccb_ td {\n",
       "  text-align: left;\n",
       "}\n",
       "</style>\n",
       "<table id=\"T_4dccb_\">\n",
       "  <thead>\n",
       "    <tr>\n",
       "      <th class=\"blank level0\" >&nbsp;</th>\n",
       "      <th class=\"col_heading level0 col0\" >sepal length (cm)</th>\n",
       "      <th class=\"col_heading level0 col1\" >sepal width (cm)</th>\n",
       "      <th class=\"col_heading level0 col2\" >petal length (cm)</th>\n",
       "      <th class=\"col_heading level0 col3\" >petal width (cm)</th>\n",
       "      <th class=\"col_heading level0 col4\" >target</th>\n",
       "    </tr>\n",
       "    <tr>\n",
       "      <th class=\"index_name level0\" >Number of Duplicates</th>\n",
       "      <th class=\"blank col0\" >&nbsp;</th>\n",
       "      <th class=\"blank col1\" >&nbsp;</th>\n",
       "      <th class=\"blank col2\" >&nbsp;</th>\n",
       "      <th class=\"blank col3\" >&nbsp;</th>\n",
       "      <th class=\"blank col4\" >&nbsp;</th>\n",
       "    </tr>\n",
       "  </thead>\n",
       "  <tbody>\n",
       "    <tr>\n",
       "      <th id=\"T_4dccb_level0_row0\" class=\"row_heading level0 row0\" >2</th>\n",
       "      <td id=\"T_4dccb_row0_col0\" class=\"data row0 col0\" >5.80</td>\n",
       "      <td id=\"T_4dccb_row0_col1\" class=\"data row0 col1\" >2.70</td>\n",
       "      <td id=\"T_4dccb_row0_col2\" class=\"data row0 col2\" >5.10</td>\n",
       "      <td id=\"T_4dccb_row0_col3\" class=\"data row0 col3\" >1.90</td>\n",
       "      <td id=\"T_4dccb_row0_col4\" class=\"data row0 col4\" >2</td>\n",
       "    </tr>\n",
       "  </tbody>\n",
       "</table>\n"
      ]
     },
     "metadata": {},
     "output_type": "display_data"
    },
    {
     "data": {
      "text/html": [
       "<hr style=\"background-color: #eee;border: 0 none;color: #eee;height: 1px;\">"
      ]
     },
     "metadata": {},
     "output_type": "display_data"
    },
    {
     "data": {
      "text/html": [
       "<h4>Dominant Frequency Change</h4>"
      ]
     },
     "metadata": {},
     "output_type": "display_data"
    },
    {
     "data": {
      "text/html": [
       "<p>Check if dominant values have increased significantly between test and reference data.</p>"
      ]
     },
     "metadata": {},
     "output_type": "display_data"
    },
    {
     "data": {
      "text/html": [
       "<style type=\"text/css\">\n",
       "#T_9b980_ table {\n",
       "  text-align: left;\n",
       "}\n",
       "#T_9b980_ thead {\n",
       "  text-align: left;\n",
       "}\n",
       "#T_9b980_ tbody {\n",
       "  text-align: left;\n",
       "}\n",
       "#T_9b980_ th {\n",
       "  text-align: left;\n",
       "}\n",
       "#T_9b980_ td {\n",
       "  text-align: left;\n",
       "}\n",
       "</style>\n",
       "<table id=\"T_9b980_\">\n",
       "  <thead>\n",
       "    <tr>\n",
       "      <th class=\"blank level0\" >&nbsp;</th>\n",
       "      <th class=\"col_heading level0 col0\" >Value</th>\n",
       "      <th class=\"col_heading level0 col1\" >Reference data %</th>\n",
       "      <th class=\"col_heading level0 col2\" >Tested data %</th>\n",
       "      <th class=\"col_heading level0 col3\" >Reference data #</th>\n",
       "      <th class=\"col_heading level0 col4\" >Tested data #</th>\n",
       "      <th class=\"col_heading level0 col5\" >P value</th>\n",
       "    </tr>\n",
       "  </thead>\n",
       "  <tbody>\n",
       "    <tr>\n",
       "      <th id=\"T_9b980_level0_row0\" class=\"row_heading level0 row0\" >petal width (cm)</th>\n",
       "      <td id=\"T_9b980_row0_col0\" class=\"data row0 col0\" >0.20</td>\n",
       "      <td id=\"T_9b980_row0_col1\" class=\"data row0 col1\" >29.00</td>\n",
       "      <td id=\"T_9b980_row0_col2\" class=\"data row0 col2\" >0.00</td>\n",
       "      <td id=\"T_9b980_row0_col3\" class=\"data row0 col3\" >29</td>\n",
       "      <td id=\"T_9b980_row0_col4\" class=\"data row0 col4\" >0</td>\n",
       "      <td id=\"T_9b980_row0_col5\" class=\"data row0 col5\" >0.00</td>\n",
       "    </tr>\n",
       "  </tbody>\n",
       "</table>\n"
      ]
     },
     "metadata": {},
     "output_type": "display_data"
    },
    {
     "data": {
      "text/html": [
       "<hr style=\"background-color: #eee;border: 0 none;color: #eee;height: 1px;\">"
      ]
     },
     "metadata": {},
     "output_type": "display_data"
    },
    {
     "data": {
      "text/html": [
       "<h4>New Label Train Test</h4>"
      ]
     },
     "metadata": {},
     "output_type": "display_data"
    },
    {
     "data": {
      "text/html": [
       "<p>Find new labels in test.</p>"
      ]
     },
     "metadata": {},
     "output_type": "display_data"
    },
    {
     "data": {
      "text/html": [
       "<style type=\"text/css\">\n",
       "#T_92595_ table {\n",
       "  text-align: left;\n",
       "}\n",
       "#T_92595_ thead {\n",
       "  text-align: left;\n",
       "}\n",
       "#T_92595_ tbody {\n",
       "  text-align: left;\n",
       "}\n",
       "#T_92595_ th {\n",
       "  text-align: left;\n",
       "}\n",
       "#T_92595_ td {\n",
       "  text-align: left;\n",
       "}\n",
       "</style>\n",
       "<table id=\"T_92595_\">\n",
       "  <thead>\n",
       "    <tr>\n",
       "      <th class=\"blank level0\" >&nbsp;</th>\n",
       "      <th class=\"col_heading level0 col0\" >Percent new labels in sample</th>\n",
       "      <th class=\"col_heading level0 col1\" >New labels</th>\n",
       "    </tr>\n",
       "    <tr>\n",
       "      <th class=\"index_name level0\" >Label column</th>\n",
       "      <th class=\"blank col0\" >&nbsp;</th>\n",
       "      <th class=\"blank col1\" >&nbsp;</th>\n",
       "    </tr>\n",
       "  </thead>\n",
       "  <tbody>\n",
       "    <tr>\n",
       "      <th id=\"T_92595_level0_row0\" class=\"row_heading level0 row0\" >target</th>\n",
       "      <td id=\"T_92595_row0_col0\" class=\"data row0 col0\" >100%</td>\n",
       "      <td id=\"T_92595_row0_col1\" class=\"data row0 col1\" >[2]</td>\n",
       "    </tr>\n",
       "  </tbody>\n",
       "</table>\n"
      ]
     },
     "metadata": {},
     "output_type": "display_data"
    },
    {
     "data": {
      "text/html": [
       "<hr style=\"background-color: black;border: 0 none;color: black;height: 1px;\">\n",
       "        <h2>Other Checks That Weren't Displayed</h2>\n",
       "        <style type=\"text/css\">\n",
       "#T_89742_ table {\n",
       "  text-align: left;\n",
       "}\n",
       "#T_89742_ thead {\n",
       "  text-align: left;\n",
       "}\n",
       "#T_89742_ tbody {\n",
       "  text-align: left;\n",
       "}\n",
       "#T_89742_ th {\n",
       "  text-align: left;\n",
       "}\n",
       "#T_89742_ td {\n",
       "  text-align: left;\n",
       "}\n",
       "</style>\n",
       "<table id=\"T_89742_\">\n",
       "  <thead>\n",
       "    <tr>\n",
       "      <th class=\"col_heading level0 col0\" >Check</th>\n",
       "      <th class=\"col_heading level0 col1\" >Reason</th>\n",
       "    </tr>\n",
       "  </thead>\n",
       "  <tbody>\n",
       "    <tr>\n",
       "      <td id=\"T_89742_row0_col0\" class=\"data row0 col0\" >Index Train Test Leakage</td>\n",
       "      <td id=\"T_89742_row0_col1\" class=\"data row0 col1\" >DeepchecksValueError: Check IndexTrainTestLeakage requires dataset to have an index column</td>\n",
       "    </tr>\n",
       "    <tr>\n",
       "      <td id=\"T_89742_row1_col0\" class=\"data row1 col0\" >Date Train Test Leakage Duplicates</td>\n",
       "      <td id=\"T_89742_row1_col1\" class=\"data row1 col1\" >DeepchecksValueError: Check DateTrainTestLeakageDuplicates requires dataset to have a date column</td>\n",
       "    </tr>\n",
       "    <tr>\n",
       "      <td id=\"T_89742_row2_col0\" class=\"data row2 col0\" >Date Train Test Leakage Overlap</td>\n",
       "      <td id=\"T_89742_row2_col1\" class=\"data row2 col1\" >DeepchecksValueError: Check DateTrainTestLeakageOverlap requires dataset to have a date column</td>\n",
       "    </tr>\n",
       "    <tr>\n",
       "      <td id=\"T_89742_row3_col0\" class=\"data row3 col0\" >Boosting Overfit</td>\n",
       "      <td id=\"T_89742_row3_col1\" class=\"data row3 col1\" >DeepchecksValueError: Unsupported model of type: RandomForestClassifier</td>\n",
       "    </tr>\n",
       "    <tr>\n",
       "      <td id=\"T_89742_row4_col0\" class=\"data row4 col0\" >Special Characters - Test Dataset</td>\n",
       "      <td id=\"T_89742_row4_col1\" class=\"data row4 col1\" >Nothing found</td>\n",
       "    </tr>\n",
       "    <tr>\n",
       "      <td id=\"T_89742_row5_col0\" class=\"data row5 col0\" >Special Characters - Train Dataset</td>\n",
       "      <td id=\"T_89742_row5_col1\" class=\"data row5 col1\" >Nothing found</td>\n",
       "    </tr>\n",
       "    <tr>\n",
       "      <td id=\"T_89742_row6_col0\" class=\"data row6 col0\" >String Length Out Of Bounds - Test Dataset</td>\n",
       "      <td id=\"T_89742_row6_col1\" class=\"data row6 col1\" >Nothing found</td>\n",
       "    </tr>\n",
       "    <tr>\n",
       "      <td id=\"T_89742_row7_col0\" class=\"data row7 col0\" >String Length Out Of Bounds - Train Dataset</td>\n",
       "      <td id=\"T_89742_row7_col1\" class=\"data row7 col1\" >Nothing found</td>\n",
       "    </tr>\n",
       "    <tr>\n",
       "      <td id=\"T_89742_row8_col0\" class=\"data row8 col0\" >Rare Format Detection - Test Dataset</td>\n",
       "      <td id=\"T_89742_row8_col1\" class=\"data row8 col1\" >Nothing found</td>\n",
       "    </tr>\n",
       "    <tr>\n",
       "      <td id=\"T_89742_row9_col0\" class=\"data row9 col0\" >Rare Format Detection - Train Dataset</td>\n",
       "      <td id=\"T_89742_row9_col1\" class=\"data row9 col1\" >Nothing found</td>\n",
       "    </tr>\n",
       "    <tr>\n",
       "      <td id=\"T_89742_row10_col0\" class=\"data row10 col0\" >Data Duplicates - Train Dataset</td>\n",
       "      <td id=\"T_89742_row10_col1\" class=\"data row10 col1\" >Nothing found</td>\n",
       "    </tr>\n",
       "    <tr>\n",
       "      <td id=\"T_89742_row11_col0\" class=\"data row11 col0\" >String Mismatch - Train Dataset</td>\n",
       "      <td id=\"T_89742_row11_col1\" class=\"data row11 col1\" >Nothing found</td>\n",
       "    </tr>\n",
       "    <tr>\n",
       "      <td id=\"T_89742_row12_col0\" class=\"data row12 col0\" >String Mismatch Comparison</td>\n",
       "      <td id=\"T_89742_row12_col1\" class=\"data row12 col1\" >Nothing found</td>\n",
       "    </tr>\n",
       "    <tr>\n",
       "      <td id=\"T_89742_row13_col0\" class=\"data row13 col0\" >Mixed Types - Test Dataset</td>\n",
       "      <td id=\"T_89742_row13_col1\" class=\"data row13 col1\" >Nothing found</td>\n",
       "    </tr>\n",
       "    <tr>\n",
       "      <td id=\"T_89742_row14_col0\" class=\"data row14 col0\" >Mixed Types - Train Dataset</td>\n",
       "      <td id=\"T_89742_row14_col1\" class=\"data row14 col1\" >Nothing found</td>\n",
       "    </tr>\n",
       "    <tr>\n",
       "      <td id=\"T_89742_row15_col0\" class=\"data row15 col0\" >Mixed Nulls - Test Dataset</td>\n",
       "      <td id=\"T_89742_row15_col1\" class=\"data row15 col1\" >Nothing found</td>\n",
       "    </tr>\n",
       "    <tr>\n",
       "      <td id=\"T_89742_row16_col0\" class=\"data row16 col0\" >Mixed Nulls - Train Dataset</td>\n",
       "      <td id=\"T_89742_row16_col1\" class=\"data row16 col1\" >Nothing found</td>\n",
       "    </tr>\n",
       "    <tr>\n",
       "      <td id=\"T_89742_row17_col0\" class=\"data row17 col0\" >Single Value in Column - Train Dataset</td>\n",
       "      <td id=\"T_89742_row17_col1\" class=\"data row17 col1\" >Nothing found</td>\n",
       "    </tr>\n",
       "    <tr>\n",
       "      <td id=\"T_89742_row18_col0\" class=\"data row18 col0\" >Data Sample Leakage Report</td>\n",
       "      <td id=\"T_89742_row18_col1\" class=\"data row18 col1\" >Nothing found</td>\n",
       "    </tr>\n",
       "    <tr>\n",
       "      <td id=\"T_89742_row19_col0\" class=\"data row19 col0\" >String Mismatch - Test Dataset</td>\n",
       "      <td id=\"T_89742_row19_col1\" class=\"data row19 col1\" >Nothing found</td>\n",
       "    </tr>\n",
       "    <tr>\n",
       "      <td id=\"T_89742_row20_col0\" class=\"data row20 col0\" >Category Mismatch Train Test</td>\n",
       "      <td id=\"T_89742_row20_col1\" class=\"data row20 col1\" >Nothing found</td>\n",
       "    </tr>\n",
       "  </tbody>\n",
       "</table>\n",
       "\n",
       "        "
      ]
     },
     "metadata": {},
     "output_type": "display_data"
    }
   ],
   "source": [
    "OverallSuite.run(train_dataset=alternative_train_df, test_dataset=alternative_test_df,\n",
    "                             model=alt_rf_clf, check_datasets_policy='both')"
   ]
  },
  {
   "cell_type": "markdown",
   "id": "8fb4f55d",
   "metadata": {},
   "source": [
    "##### Note that we found:\n",
    "1. Test Dataset 'target' column, which is the label column, had only one single unique value! This indicates something that's worth noticing (test data is different than the training data and has only a single type of labels in samples...)\n",
    "2. Test dataset had a duplicate sample (which might be fine, use-case dependent). If not relevant, this check can be removed from suite"
   ]
  },
  {
   "cell_type": "markdown",
   "id": "b671a828",
   "metadata": {},
   "source": [
    "## Create Custom CheckSuite"
   ]
  },
  {
   "cell_type": "code",
   "execution_count": 16,
   "id": "11a28dbb",
   "metadata": {
    "ExecuteTime": {
     "end_time": "2021-11-23T15:36:38.173752Z",
     "start_time": "2021-11-23T15:36:38.167776Z"
    }
   },
   "outputs": [],
   "source": [
    "from deepchecks import CheckSuite\n",
    "from deepchecks.checks import *"
   ]
  },
  {
   "cell_type": "code",
   "execution_count": 17,
   "id": "e3c441b8",
   "metadata": {
    "ExecuteTime": {
     "end_time": "2021-11-23T15:36:38.195843Z",
     "start_time": "2021-11-23T15:36:38.177941Z"
    }
   },
   "outputs": [
    {
     "name": "stdout",
     "output_type": "stream",
     "text": [
      "['CalibrationMetric', 'ConfusionMatrixReport', 'NaiveModelComparison', 'PerformanceReport', 'RocReport', 'SegmentPerformance']\n"
     ]
    }
   ],
   "source": [
    "# check out which builtin performance checks exist\n",
    "print([class_name for class_name in dir(performance) if class_name[0].isupper()])"
   ]
  },
  {
   "cell_type": "code",
   "execution_count": 18,
   "id": "dba6615d",
   "metadata": {
    "ExecuteTime": {
     "end_time": "2021-11-23T15:36:38.215371Z",
     "start_time": "2021-11-23T15:36:38.199352Z"
    }
   },
   "outputs": [],
   "source": [
    "MyModelSuite = CheckSuite('Simple Suite For Model Performance',\n",
    "    ModelInfo(),\n",
    "    PerformanceReport(),\n",
    "    TrainTestDifferenceOverfit(),\n",
    "    ConfusionMatrixReport(),\n",
    "    NaiveModelComparison(naive_model_type='statistical').add_condition_ratio_not_less_than(0.9)\n",
    ")"
   ]
  },
  {
   "cell_type": "code",
   "execution_count": 19,
   "id": "ae6748fc",
   "metadata": {
    "ExecuteTime": {
     "end_time": "2021-11-23T15:36:40.191533Z",
     "start_time": "2021-11-23T15:36:38.219148Z"
    },
    "tags": []
   },
   "outputs": [
    {
     "data": {
      "text/html": [
       "\n",
       "    <h1>Simple Suite For Model Performance</h1>\n",
       "    <p>The suite is composed of various checks such as: Model Info, Performance Report, Train Test Difference Overfit, etc...<br>\n",
       "    Each check may contain conditions (which results in \n",
       "    <span style=\"color: green;display:inline-block\">✓</span> /\n",
       "    <span style=\"color: red;display:inline-block\">✖</span> /\n",
       "    <span style=\"color: orange;font-weight:bold;display:inline-block\">!</span>\n",
       "    ), as well as other outputs such as plots or tables.<br>\n",
       "    Suites, checks and conditions can all be modified (see tutorial [link]).</p>\n",
       "    <hr style=\"background-color: black;border: 0 none;color: black;height: 1px;\"><h2>Conditions Summary</h2>\n",
       "    "
      ]
     },
     "metadata": {},
     "output_type": "display_data"
    },
    {
     "data": {
      "text/html": [
       "<style type=\"text/css\">\n",
       "#T_89147_ table {\n",
       "  text-align: left;\n",
       "}\n",
       "#T_89147_ thead {\n",
       "  text-align: left;\n",
       "}\n",
       "#T_89147_ tbody {\n",
       "  text-align: left;\n",
       "}\n",
       "#T_89147_ th {\n",
       "  text-align: left;\n",
       "}\n",
       "#T_89147_ td {\n",
       "  text-align: left;\n",
       "}\n",
       "</style>\n",
       "<table id=\"T_89147_\">\n",
       "  <thead>\n",
       "    <tr>\n",
       "      <th class=\"col_heading level0 col0\" >Status</th>\n",
       "      <th class=\"col_heading level0 col1\" >Check</th>\n",
       "      <th class=\"col_heading level0 col2\" >Condition</th>\n",
       "      <th class=\"col_heading level0 col3\" >More Info</th>\n",
       "    </tr>\n",
       "  </thead>\n",
       "  <tbody>\n",
       "    <tr>\n",
       "      <td id=\"T_89147_row0_col0\" class=\"data row0 col0\" ><div style=\"color: green;text-align: center\">✓</div></td>\n",
       "      <td id=\"T_89147_row0_col1\" class=\"data row0 col1\" >Naive Model Comparison</td>\n",
       "      <td id=\"T_89147_row0_col2\" class=\"data row0 col2\" >Ratio not less than 0.9 between the given model's result and the naive model's result</td>\n",
       "      <td id=\"T_89147_row0_col3\" class=\"data row0 col3\" ></td>\n",
       "    </tr>\n",
       "  </tbody>\n",
       "</table>\n"
      ]
     },
     "metadata": {},
     "output_type": "display_data"
    },
    {
     "data": {
      "text/html": [
       "<hr style=\"background-color: black;border: 0 none;color: black;height: 1px;\"><h2>Additional Outputs</h2>"
      ]
     },
     "metadata": {},
     "output_type": "display_data"
    },
    {
     "data": {
      "text/html": [
       "<h4>Model Info</h4>"
      ]
     },
     "metadata": {},
     "output_type": "display_data"
    },
    {
     "data": {
      "text/html": [
       "<p>Summarize given model parameters.</p>"
      ]
     },
     "metadata": {},
     "output_type": "display_data"
    },
    {
     "data": {
      "text/html": [
       "Model Type: RandomForestClassifier"
      ]
     },
     "metadata": {},
     "output_type": "display_data"
    },
    {
     "data": {
      "text/html": [
       "<style type=\"text/css\">\n",
       "#T_3641a_ table {\n",
       "  text-align: left;\n",
       "}\n",
       "#T_3641a_ thead {\n",
       "  text-align: left;\n",
       "}\n",
       "#T_3641a_ tbody {\n",
       "  text-align: left;\n",
       "}\n",
       "#T_3641a_ th {\n",
       "  text-align: left;\n",
       "}\n",
       "#T_3641a_ td {\n",
       "  text-align: left;\n",
       "}\n",
       "</style>\n",
       "<table id=\"T_3641a_\">\n",
       "  <thead>\n",
       "    <tr>\n",
       "      <th class=\"col_heading level0 col0\" >Parameter</th>\n",
       "      <th class=\"col_heading level0 col1\" >Value</th>\n",
       "      <th class=\"col_heading level0 col2\" >Default</th>\n",
       "    </tr>\n",
       "  </thead>\n",
       "  <tbody>\n",
       "    <tr>\n",
       "      <td id=\"T_3641a_row0_col0\" class=\"data row0 col0\" >bootstrap</td>\n",
       "      <td id=\"T_3641a_row0_col1\" class=\"data row0 col1\" >True</td>\n",
       "      <td id=\"T_3641a_row0_col2\" class=\"data row0 col2\" >True</td>\n",
       "    </tr>\n",
       "    <tr>\n",
       "      <td id=\"T_3641a_row1_col0\" class=\"data row1 col0\" >ccp_alpha</td>\n",
       "      <td id=\"T_3641a_row1_col1\" class=\"data row1 col1\" >0.00</td>\n",
       "      <td id=\"T_3641a_row1_col2\" class=\"data row1 col2\" >0.00</td>\n",
       "    </tr>\n",
       "    <tr>\n",
       "      <td id=\"T_3641a_row2_col0\" class=\"data row2 col0\" >class_weight</td>\n",
       "      <td id=\"T_3641a_row2_col1\" class=\"data row2 col1\" >None</td>\n",
       "      <td id=\"T_3641a_row2_col2\" class=\"data row2 col2\" >None</td>\n",
       "    </tr>\n",
       "    <tr>\n",
       "      <td id=\"T_3641a_row3_col0\" class=\"data row3 col0\" >criterion</td>\n",
       "      <td id=\"T_3641a_row3_col1\" class=\"data row3 col1\" >gini</td>\n",
       "      <td id=\"T_3641a_row3_col2\" class=\"data row3 col2\" >gini</td>\n",
       "    </tr>\n",
       "    <tr>\n",
       "      <td id=\"T_3641a_row4_col0\" class=\"data row4 col0\" >max_depth</td>\n",
       "      <td id=\"T_3641a_row4_col1\" class=\"data row4 col1\" >None</td>\n",
       "      <td id=\"T_3641a_row4_col2\" class=\"data row4 col2\" >None</td>\n",
       "    </tr>\n",
       "    <tr>\n",
       "      <td id=\"T_3641a_row5_col0\" class=\"data row5 col0\" >max_features</td>\n",
       "      <td id=\"T_3641a_row5_col1\" class=\"data row5 col1\" >auto</td>\n",
       "      <td id=\"T_3641a_row5_col2\" class=\"data row5 col2\" >auto</td>\n",
       "    </tr>\n",
       "    <tr>\n",
       "      <td id=\"T_3641a_row6_col0\" class=\"data row6 col0\" >max_leaf_nodes</td>\n",
       "      <td id=\"T_3641a_row6_col1\" class=\"data row6 col1\" >None</td>\n",
       "      <td id=\"T_3641a_row6_col2\" class=\"data row6 col2\" >None</td>\n",
       "    </tr>\n",
       "    <tr>\n",
       "      <td id=\"T_3641a_row7_col0\" class=\"data row7 col0\" >max_samples</td>\n",
       "      <td id=\"T_3641a_row7_col1\" class=\"data row7 col1\" >None</td>\n",
       "      <td id=\"T_3641a_row7_col2\" class=\"data row7 col2\" >None</td>\n",
       "    </tr>\n",
       "    <tr>\n",
       "      <td id=\"T_3641a_row8_col0\" class=\"data row8 col0\" >min_impurity_decrease</td>\n",
       "      <td id=\"T_3641a_row8_col1\" class=\"data row8 col1\" >0.00</td>\n",
       "      <td id=\"T_3641a_row8_col2\" class=\"data row8 col2\" >0.00</td>\n",
       "    </tr>\n",
       "    <tr>\n",
       "      <td id=\"T_3641a_row9_col0\" class=\"data row9 col0\" >min_samples_leaf</td>\n",
       "      <td id=\"T_3641a_row9_col1\" class=\"data row9 col1\" >1</td>\n",
       "      <td id=\"T_3641a_row9_col2\" class=\"data row9 col2\" >1</td>\n",
       "    </tr>\n",
       "    <tr>\n",
       "      <td id=\"T_3641a_row10_col0\" class=\"data row10 col0\" >min_samples_split</td>\n",
       "      <td id=\"T_3641a_row10_col1\" class=\"data row10 col1\" >2</td>\n",
       "      <td id=\"T_3641a_row10_col2\" class=\"data row10 col2\" >2</td>\n",
       "    </tr>\n",
       "    <tr>\n",
       "      <td id=\"T_3641a_row11_col0\" class=\"data row11 col0\" >min_weight_fraction_leaf</td>\n",
       "      <td id=\"T_3641a_row11_col1\" class=\"data row11 col1\" >0.00</td>\n",
       "      <td id=\"T_3641a_row11_col2\" class=\"data row11 col2\" >0.00</td>\n",
       "    </tr>\n",
       "    <tr>\n",
       "      <td id=\"T_3641a_row12_col0\" class=\"data row12 col0\" >n_estimators</td>\n",
       "      <td id=\"T_3641a_row12_col1\" class=\"data row12 col1\" >100</td>\n",
       "      <td id=\"T_3641a_row12_col2\" class=\"data row12 col2\" >100</td>\n",
       "    </tr>\n",
       "    <tr>\n",
       "      <td id=\"T_3641a_row13_col0\" class=\"data row13 col0\" >n_jobs</td>\n",
       "      <td id=\"T_3641a_row13_col1\" class=\"data row13 col1\" >None</td>\n",
       "      <td id=\"T_3641a_row13_col2\" class=\"data row13 col2\" >None</td>\n",
       "    </tr>\n",
       "    <tr>\n",
       "      <td id=\"T_3641a_row14_col0\" class=\"data row14 col0\" >oob_score</td>\n",
       "      <td id=\"T_3641a_row14_col1\" class=\"data row14 col1\" >False</td>\n",
       "      <td id=\"T_3641a_row14_col2\" class=\"data row14 col2\" >False</td>\n",
       "    </tr>\n",
       "    <tr>\n",
       "      <td id=\"T_3641a_row15_col0\" class=\"data row15 col0\" >random_state</td>\n",
       "      <td id=\"T_3641a_row15_col1\" class=\"data row15 col1\" >None</td>\n",
       "      <td id=\"T_3641a_row15_col2\" class=\"data row15 col2\" >None</td>\n",
       "    </tr>\n",
       "    <tr>\n",
       "      <td id=\"T_3641a_row16_col0\" class=\"data row16 col0\" >verbose</td>\n",
       "      <td id=\"T_3641a_row16_col1\" class=\"data row16 col1\" >0</td>\n",
       "      <td id=\"T_3641a_row16_col2\" class=\"data row16 col2\" >0</td>\n",
       "    </tr>\n",
       "    <tr>\n",
       "      <td id=\"T_3641a_row17_col0\" class=\"data row17 col0\" >warm_start</td>\n",
       "      <td id=\"T_3641a_row17_col1\" class=\"data row17 col1\" >False</td>\n",
       "      <td id=\"T_3641a_row17_col2\" class=\"data row17 col2\" >False</td>\n",
       "    </tr>\n",
       "  </tbody>\n",
       "</table>\n"
      ]
     },
     "metadata": {},
     "output_type": "display_data"
    },
    {
     "data": {
      "text/html": [
       "<p style=\"font-size:0.7em\"><i>Colored rows are parameters with non-default values</i></p>"
      ]
     },
     "metadata": {},
     "output_type": "display_data"
    },
    {
     "data": {
      "text/html": [
       "<hr style=\"background-color: #eee;border: 0 none;color: #eee;height: 1px;\">"
      ]
     },
     "metadata": {},
     "output_type": "display_data"
    },
    {
     "data": {
      "text/html": [
       "<h4>Performance Report - Train Dataset</h4>"
      ]
     },
     "metadata": {},
     "output_type": "display_data"
    },
    {
     "data": {
      "text/html": [
       "<p>Summarize given metrics on a dataset and model.</p>"
      ]
     },
     "metadata": {},
     "output_type": "display_data"
    },
    {
     "data": {
      "text/html": [
       "<style type=\"text/css\">\n",
       "#T_90d81_ table {\n",
       "  text-align: left;\n",
       "}\n",
       "#T_90d81_ thead {\n",
       "  text-align: left;\n",
       "}\n",
       "#T_90d81_ tbody {\n",
       "  text-align: left;\n",
       "}\n",
       "#T_90d81_ th {\n",
       "  text-align: left;\n",
       "}\n",
       "#T_90d81_ td {\n",
       "  text-align: left;\n",
       "}\n",
       "</style>\n",
       "<table id=\"T_90d81_\">\n",
       "  <thead>\n",
       "    <tr>\n",
       "      <th class=\"blank level0\" >&nbsp;</th>\n",
       "      <th class=\"col_heading level0 col0\" >Score</th>\n",
       "    </tr>\n",
       "    <tr>\n",
       "      <th class=\"index_name level0\" >Metric</th>\n",
       "      <th class=\"blank col0\" >&nbsp;</th>\n",
       "    </tr>\n",
       "  </thead>\n",
       "  <tbody>\n",
       "    <tr>\n",
       "      <th id=\"T_90d81_level0_row0\" class=\"row_heading level0 row0\" >Accuracy</th>\n",
       "      <td id=\"T_90d81_row0_col0\" class=\"data row0 col0\" >1.00</td>\n",
       "    </tr>\n",
       "    <tr>\n",
       "      <th id=\"T_90d81_level0_row1\" class=\"row_heading level0 row1\" >Precision - Macro Average</th>\n",
       "      <td id=\"T_90d81_row1_col0\" class=\"data row1 col0\" >1.00</td>\n",
       "    </tr>\n",
       "    <tr>\n",
       "      <th id=\"T_90d81_level0_row2\" class=\"row_heading level0 row2\" >Recall - Macro Average</th>\n",
       "      <td id=\"T_90d81_row2_col0\" class=\"data row2 col0\" >1.00</td>\n",
       "    </tr>\n",
       "  </tbody>\n",
       "</table>\n"
      ]
     },
     "metadata": {},
     "output_type": "display_data"
    },
    {
     "data": {
      "text/html": [
       "<hr style=\"background-color: #eee;border: 0 none;color: #eee;height: 1px;\">"
      ]
     },
     "metadata": {},
     "output_type": "display_data"
    },
    {
     "data": {
      "text/html": [
       "<h4>Performance Report - Test Dataset</h4>"
      ]
     },
     "metadata": {},
     "output_type": "display_data"
    },
    {
     "data": {
      "text/html": [
       "<p>Summarize given metrics on a dataset and model.</p>"
      ]
     },
     "metadata": {},
     "output_type": "display_data"
    },
    {
     "data": {
      "text/html": [
       "<style type=\"text/css\">\n",
       "#T_d49e1_ table {\n",
       "  text-align: left;\n",
       "}\n",
       "#T_d49e1_ thead {\n",
       "  text-align: left;\n",
       "}\n",
       "#T_d49e1_ tbody {\n",
       "  text-align: left;\n",
       "}\n",
       "#T_d49e1_ th {\n",
       "  text-align: left;\n",
       "}\n",
       "#T_d49e1_ td {\n",
       "  text-align: left;\n",
       "}\n",
       "</style>\n",
       "<table id=\"T_d49e1_\">\n",
       "  <thead>\n",
       "    <tr>\n",
       "      <th class=\"blank level0\" >&nbsp;</th>\n",
       "      <th class=\"col_heading level0 col0\" >Score</th>\n",
       "    </tr>\n",
       "    <tr>\n",
       "      <th class=\"index_name level0\" >Metric</th>\n",
       "      <th class=\"blank col0\" >&nbsp;</th>\n",
       "    </tr>\n",
       "  </thead>\n",
       "  <tbody>\n",
       "    <tr>\n",
       "      <th id=\"T_d49e1_level0_row0\" class=\"row_heading level0 row0\" >Accuracy</th>\n",
       "      <td id=\"T_d49e1_row0_col0\" class=\"data row0 col0\" >1.00</td>\n",
       "    </tr>\n",
       "    <tr>\n",
       "      <th id=\"T_d49e1_level0_row1\" class=\"row_heading level0 row1\" >Precision - Macro Average</th>\n",
       "      <td id=\"T_d49e1_row1_col0\" class=\"data row1 col0\" >1.00</td>\n",
       "    </tr>\n",
       "    <tr>\n",
       "      <th id=\"T_d49e1_level0_row2\" class=\"row_heading level0 row2\" >Recall - Macro Average</th>\n",
       "      <td id=\"T_d49e1_row2_col0\" class=\"data row2 col0\" >1.00</td>\n",
       "    </tr>\n",
       "  </tbody>\n",
       "</table>\n"
      ]
     },
     "metadata": {},
     "output_type": "display_data"
    },
    {
     "data": {
      "text/html": [
       "<hr style=\"background-color: #eee;border: 0 none;color: #eee;height: 1px;\">"
      ]
     },
     "metadata": {},
     "output_type": "display_data"
    },
    {
     "data": {
      "text/html": [
       "<h4>Train-Test Difference Overfit</h4>"
      ]
     },
     "metadata": {},
     "output_type": "display_data"
    },
    {
     "data": {
      "text/html": [
       "<p>Visualize overfit by displaying the difference between model metrics on train and on test data.</p>"
      ]
     },
     "metadata": {},
     "output_type": "display_data"
    },
    {
     "data": {
      "image/png": "[encoded data removed]",
      "text/plain": [
       "<Figure size 432x288 with 1 Axes>"
      ]
     },
     "metadata": {
      "needs_background": "light"
     },
     "output_type": "display_data"
    },
    {
     "data": {
      "text/html": [
       "<hr style=\"background-color: #eee;border: 0 none;color: #eee;height: 1px;\">"
      ]
     },
     "metadata": {},
     "output_type": "display_data"
    },
    {
     "data": {
      "text/html": [
       "<h4>Confusion Matrix Report - Train Dataset</h4>"
      ]
     },
     "metadata": {},
     "output_type": "display_data"
    },
    {
     "data": {
      "text/html": [
       "<p>Calculate the confusion matrix of the model on the given dataset.</p>"
      ]
     },
     "metadata": {},
     "output_type": "display_data"
    },
    {
     "data": {
      "image/png": "[encoded data removed]",
      "text/plain": [
       "<Figure size 432x288 with 2 Axes>"
      ]
     },
     "metadata": {
      "needs_background": "light"
     },
     "output_type": "display_data"
    },
    {
     "data": {
      "text/html": [
       "<hr style=\"background-color: #eee;border: 0 none;color: #eee;height: 1px;\">"
      ]
     },
     "metadata": {},
     "output_type": "display_data"
    },
    {
     "data": {
      "text/html": [
       "<h4>Confusion Matrix Report - Test Dataset</h4>"
      ]
     },
     "metadata": {},
     "output_type": "display_data"
    },
    {
     "data": {
      "text/html": [
       "<p>Calculate the confusion matrix of the model on the given dataset.</p>"
      ]
     },
     "metadata": {},
     "output_type": "display_data"
    },
    {
     "data": {
      "image/png": "[encoded data removed]",
      "text/plain": [
       "<Figure size 432x288 with 2 Axes>"
      ]
     },
     "metadata": {
      "needs_background": "light"
     },
     "output_type": "display_data"
    },
    {
     "data": {
      "text/html": [
       "<hr style=\"background-color: #eee;border: 0 none;color: #eee;height: 1px;\">"
      ]
     },
     "metadata": {},
     "output_type": "display_data"
    },
    {
     "data": {
      "text/html": [
       "<h4>Naive Model Comparison</h4>"
      ]
     },
     "metadata": {},
     "output_type": "display_data"
    },
    {
     "data": {
      "text/html": [
       "<p>Compare naive model score to given model score.</p>"
      ]
     },
     "metadata": {},
     "output_type": "display_data"
    },
    {
     "data": {
      "text/html": [
       "The given model performs 2.92 times compared to the naive model using the Accuracy metric.<br>RandomForestClassifier model prediction has achieved a score of 1 compared to Naive statistical prediction which achieved a score of 0.34 on tested data."
      ]
     },
     "metadata": {},
     "output_type": "display_data"
    },
    {
     "data": {
      "image/png": "[encoded data removed]",
      "text/plain": [
       "<Figure size 432x288 with 1 Axes>"
      ]
     },
     "metadata": {
      "needs_background": "light"
     },
     "output_type": "display_data"
    }
   ],
   "source": [
    "MyModelSuite.run(model=rf_clf, train_dataset=ds_train, test_dataset=ds_test, check_datasets_policy='both')"
   ]
  }
 ],
 "metadata": {
  "kernelspec": {
   "display_name": "Python 3 (ipykernel)",
   "language": "python",
   "name": "python3"
  },
  "language_info": {
   "codemirror_mode": {
    "name": "ipython",
    "version": 3
   },
   "file_extension": ".py",
   "mimetype": "text/x-python",
   "name": "python",
   "nbconvert_exporter": "python",
   "pygments_lexer": "ipython3",
   "version": "3.8.10"
  },
  "toc": {
   "base_numbering": 1,
   "nav_menu": {},
   "number_sections": true,
   "sideBar": true,
   "skip_h1_title": false,
   "title_cell": "Table of Contents",
   "title_sidebar": "Contents",
   "toc_cell": false,
   "toc_position": {},
   "toc_section_display": true,
   "toc_window_display": false
  }
 },
 "nbformat": 4,
 "nbformat_minor": 5
}
