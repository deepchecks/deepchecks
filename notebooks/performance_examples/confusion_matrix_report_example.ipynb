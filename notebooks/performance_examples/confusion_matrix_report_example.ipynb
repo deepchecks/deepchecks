{
 "cells": [
  {
   "cell_type": "code",
   "execution_count": 1,
   "id": "12c4de49-b3f1-4699-8d77-49d8daa836f0",
   "metadata": {},
   "outputs": [],
   "source": [
    "# Imports"
   ]
  },
  {
   "cell_type": "code",
   "execution_count": 2,
   "id": "bc53a3b6-ec0b-4727-bdb2-29ed385d30d9",
   "metadata": {},
   "outputs": [],
   "source": [
    "from mlchecks.base import Dataset\n",
    "from sklearn.ensemble import AdaBoostClassifier\n",
    "from sklearn.datasets import load_iris\n",
    "from sklearn.model_selection import train_test_split\n",
    "import pandas as pd\n",
    "from mlchecks.checks.performance import ConfusionMatrixReport"
   ]
  },
  {
   "cell_type": "code",
   "execution_count": 3,
   "id": "0462b893-9af8-4adc-9f9e-fa4a3c39fbb6",
   "metadata": {},
   "outputs": [],
   "source": [
    "# Generating data:"
   ]
  },
  {
   "cell_type": "code",
   "execution_count": 4,
   "id": "b06af066-5aa6-4b60-aea2-38023093b468",
   "metadata": {},
   "outputs": [
    {
     "name": "stderr",
     "output_type": "stream",
     "text": [
      "/Users/jonthanliberman/Documents/MLChecks/mlchecks/base/dataset.py:55: UserWarning: Pandas doesn't allow columns to be created via a new attribute name - see https://pandas.pydata.org/pandas-docs/stable/indexing.html#attribute-access\n",
      "  self._features = features\n",
      "/Users/jonthanliberman/Documents/MLChecks/mlchecks/base/dataset.py:67: UserWarning: Pandas doesn't allow columns to be created via a new attribute name - see https://pandas.pydata.org/pandas-docs/stable/indexing.html#attribute-access\n",
      "  self._cat_features = self.infer_categorical_features()\n"
     ]
    }
   ],
   "source": [
    "iris = load_iris(as_frame=True)\n",
    "clf = AdaBoostClassifier()\n",
    "frame = iris.frame\n",
    "X = iris.data\n",
    "y = iris.target\n",
    "X_train, X_test, y_train, y_test = train_test_split(X, y, test_size=0.5, random_state=42)\n",
    "clf.fit(X_train, y_train)\n",
    "ds = Dataset(pd.concat([X_test, y_test], axis=1), \n",
    "            features=iris.feature_names,\n",
    "            label='target')"
   ]
  },
  {
   "cell_type": "code",
   "execution_count": 5,
   "id": "5c53faac-2f99-45b7-a4a4-fd9737ffe993",
   "metadata": {},
   "outputs": [],
   "source": [
    "# Running confusion_matrix_report check:"
   ]
  },
  {
   "cell_type": "code",
   "execution_count": 6,
   "id": "b253a703-83a6-49a4-b701-2bcbcd339bba",
   "metadata": {},
   "outputs": [],
   "source": [
    "check = ConfusionMatrixReport()"
   ]
  },
  {
   "cell_type": "code",
   "execution_count": 7,
   "id": "bdd52a29-2612-4dbc-8507-31250b9feadc",
   "metadata": {},
   "outputs": [
    {
     "data": {
      "text/html": [
       "\n",
       "    <h4>Confusion Matrix Report</h4>\n",
       "    <p></p>\n",
       "    <div><img src=\"data:image/jpg;base64, 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\"/></div>\n",
       "    "
      ],
      "text/plain": [
       "array([[29,  0,  0],\n",
       "       [ 0, 23,  0],\n",
       "       [ 0,  1, 22]])"
      ]
     },
     "execution_count": 7,
     "metadata": {},
     "output_type": "execute_result"
    }
   ],
   "source": [
    "check.run(ds, clf)"
   ]
  },
  {
   "cell_type": "code",
   "execution_count": null,
   "id": "53a9500d-6779-423f-bed5-562a1694913b",
   "metadata": {},
   "outputs": [],
   "source": []
  }
 ],
 "metadata": {
  "kernelspec": {
   "display_name": "Python 3 (ipykernel)",
   "language": "python",
   "name": "python3"
  },
  "language_info": {
   "codemirror_mode": {
    "name": "ipython",
    "version": 3
   },
   "file_extension": ".py",
   "mimetype": "text/x-python",
   "name": "python",
   "nbconvert_exporter": "python",
   "pygments_lexer": "ipython3",
   "version": "3.8.11"
  }
 },
 "nbformat": 4,
 "nbformat_minor": 5
}
