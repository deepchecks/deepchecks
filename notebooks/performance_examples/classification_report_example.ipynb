{
 "cells": [
  {
   "cell_type": "markdown",
   "id": "09c7ee01-6999-465e-a318-56570b008526",
   "metadata": {},
   "source": [
    "# Imports"
   ]
  },
  {
   "cell_type": "code",
   "execution_count": 1,
   "id": "bc53a3b6-ec0b-4727-bdb2-29ed385d30d9",
   "metadata": {},
   "outputs": [],
   "source": [
    "from mlchecks.base import Dataset\n",
    "from sklearn.ensemble import AdaBoostClassifier\n",
    "from sklearn.datasets import load_iris\n",
    "iris = load_iris(as_frame=True)\n",
    "from mlchecks.checks.performance import ClassificationReport"
   ]
  },
  {
   "cell_type": "markdown",
   "id": "788f9178-dcc1-4212-9a84-949a7a4fde92",
   "metadata": {},
   "source": [
    "# Generating data:"
   ]
  },
  {
   "cell_type": "code",
   "execution_count": 2,
   "id": "5c53faac-2f99-45b7-a4a4-fd9737ffe993",
   "metadata": {},
   "outputs": [
    {
     "data": {
      "text/plain": [
       "AdaBoostClassifier()"
      ]
     },
     "execution_count": 2,
     "metadata": {},
     "output_type": "execute_result"
    }
   ],
   "source": [
    "clf = AdaBoostClassifier()\n",
    "frame = iris.frame\n",
    "X = iris.data\n",
    "Y = iris.target\n",
    "ds = Dataset(frame, \n",
    "            features=iris.feature_names,\n",
    "            label='target')\n",
    "clf.fit(X, Y)"
   ]
  },
  {
   "cell_type": "markdown",
   "id": "f6920693-ffd3-4207-b8e4-5cf3452c57bd",
   "metadata": {},
   "source": [
    "# Running classification_report check:"
   ]
  },
  {
   "cell_type": "code",
   "execution_count": 3,
   "id": "b253a703-83a6-49a4-b701-2bcbcd339bba",
   "metadata": {},
   "outputs": [],
   "source": [
    "check = ClassificationReport()"
   ]
  },
  {
   "cell_type": "code",
   "execution_count": 4,
   "id": "bdd52a29-2612-4dbc-8507-31250b9feadc",
   "metadata": {},
   "outputs": [
    {
     "data": {
      "text/html": [
       "<h4>Classification Report</h4>"
      ]
     },
     "metadata": {},
     "output_type": "display_data"
    },
    {
     "data": {
      "text/html": [
       "<p>    Return the sklearn classification_report in dict format.</p>"
      ]
     },
     "metadata": {},
     "output_type": "display_data"
    },
    {
     "data": {
      "text/html": [
       "<table border=\"1\" class=\"dataframe\">\n",
       "  <thead>\n",
       "    <tr style=\"text-align: left;\">\n",
       "      <th></th>\n",
       "      <th>0</th>\n",
       "      <th>1</th>\n",
       "      <th>2</th>\n",
       "    </tr>\n",
       "  </thead>\n",
       "  <tbody>\n",
       "    <tr>\n",
       "      <th>precision</th>\n",
       "      <td>1.0</td>\n",
       "      <td>0.923077</td>\n",
       "      <td>0.958333</td>\n",
       "    </tr>\n",
       "    <tr>\n",
       "      <th>recall</th>\n",
       "      <td>1.0</td>\n",
       "      <td>0.960000</td>\n",
       "      <td>0.920000</td>\n",
       "    </tr>\n",
       "    <tr>\n",
       "      <th>f_score</th>\n",
       "      <td>1.0</td>\n",
       "      <td>0.941176</td>\n",
       "      <td>0.938776</td>\n",
       "    </tr>\n",
       "    <tr>\n",
       "      <th>support</th>\n",
       "      <td>50.0</td>\n",
       "      <td>50.000000</td>\n",
       "      <td>50.000000</td>\n",
       "    </tr>\n",
       "  </tbody>\n",
       "</table>"
      ]
     },
     "metadata": {},
     "output_type": "display_data"
    }
   ],
   "source": [
    "check.run(ds, clf)"
   ]
  }
 ],
 "metadata": {
  "kernelspec": {
   "display_name": "Python 3 (ipykernel)",
   "language": "python",
   "name": "python3"
  },
  "language_info": {
   "codemirror_mode": {
    "name": "ipython",
    "version": 3
   },
   "file_extension": ".py",
   "mimetype": "text/x-python",
   "name": "python",
   "nbconvert_exporter": "python",
   "pygments_lexer": "ipython3",
   "version": "3.8.6"
  }
 },
 "nbformat": 4,
 "nbformat_minor": 5
}
